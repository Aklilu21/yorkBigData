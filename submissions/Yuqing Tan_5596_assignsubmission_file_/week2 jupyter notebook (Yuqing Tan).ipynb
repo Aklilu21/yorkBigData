{
 "cells": [
  {
   "cell_type": "markdown",
   "metadata": {},
   "source": [
    "1. Assign variables"
   ]
  },
  {
   "cell_type": "code",
   "execution_count": 55,
   "metadata": {},
   "outputs": [
    {
     "name": "stdout",
     "output_type": "stream",
     "text": [
      "7 12 5.0\n"
     ]
    }
   ],
   "source": [
    "x = 3\n",
    "y = 4\n",
    "print x+y, x*y, (x**2+y**2)**0.5\n"
   ]
  },
  {
   "cell_type": "markdown",
   "metadata": {},
   "source": [
    "2. Perform built in comparison and mathematical functions\n",
    "4. Loop over a list and print to the console"
   ]
  },
  {
   "cell_type": "code",
   "execution_count": 76,
   "metadata": {},
   "outputs": [
    {
     "name": "stdout",
     "output_type": "stream",
     "text": [
      "[0, 1, 1, 2, 3, 5, 8, 13, 21]\n",
      "[2, 3, 5, 8, 13, 21]\n",
      "52\n",
      "2 // 3 = 0.000\n",
      "3 % 3 = 0\n",
      "5 // 3 = 1.000\n",
      "8 // 3 = 2.000\n",
      "13 // 3 = 4.000\n",
      "21 % 3 = 0\n",
      "34 // 3 = 11.000\n",
      "55 // 3 = 18.000\n",
      "89 // 3 = 29.000\n",
      "144 % 3 = 0\n"
     ]
    }
   ],
   "source": [
    "def f(n):\n",
    "    if n == 0: return [0]\n",
    "    elif n == 1: return f(0) + [1]\n",
    "    else: return f(n-1) + [f(n-1)[-1]+f(n-1)[-2]]\n",
    "\n",
    "a = f(8)\n",
    "print a\n",
    "a = a[3:]\n",
    "print a\n",
    "a.append(34)\n",
    "a.extend([55,89,144])\n",
    "for n in a:\n",
    "    if n % 3 == 0:\n",
    "        print `n` + \" % 3 = 0\"\n",
    "    else:\n",
    "        print `n` + \" // 3 = %.3f\" % (n//3)\n"
   ]
  },
  {
   "cell_type": "markdown",
   "metadata": {},
   "source": [
    "3. Use several native Python functions (e.g., range(), help())"
   ]
  },
  {
   "cell_type": "code",
   "execution_count": 139,
   "metadata": {},
   "outputs": [
    {
     "name": "stdout",
     "output_type": "stream",
     "text": [
      "[11, 13, 15, 17, 19, 21, 23, 25, 27, 29, 31, 34, 37, 40, 43, 46, 49]\n",
      "[31, 49, 21, 11, 13, 46, 15, 40, 25, 29, 19, 34, 17, 43, 23, 27, 37]\n",
      "480\n",
      "28.24\n",
      "11.42\n",
      "['d', 'i', 'a', 'l', 'o', 'g', 'u', 'e']\n",
      "l o g\n",
      "['a', 'd', 'e', 'g', 'i', 'l', 'o', 'u']\n"
     ]
    }
   ],
   "source": [
    "import random\n",
    "b = range(11,31,2) + range(31,51,3)\n",
    "print b\n",
    "random.shuffle(b)\n",
    "print b\n",
    "print sum(b)\n",
    "average = round(float(sum(b))/len(b),2)\n",
    "sumSqr = sum(map(lambda x:x*x,b))\n",
    "stdDev = round((sumSqr/len(b) - average**2)**0.5,2)\n",
    "print average\n",
    "print stdDev\n",
    "\n",
    "import string\n",
    "c = list('dialogue')\n",
    "print c\n",
    "print string.join(c[slice(3,6)])\n",
    "print sorted(c)\n"
   ]
  },
  {
   "cell_type": "markdown",
   "metadata": {},
   "source": [
    "5. Import Pandas\n",
    "6. Create a dataframe with a few columns and rows\n",
    "7. Index a pandas data frame and print different cells, rows, columns, etc"
   ]
  },
  {
   "cell_type": "code",
   "execution_count": 141,
   "metadata": {},
   "outputs": [
    {
     "name": "stdout",
     "output_type": "stream",
     "text": [
      "df\n",
      "     binary  decimal  hexa octal\n",
      "0    0b1011       11   0xb   013\n",
      "1    0b1101       13   0xd   015\n",
      "2   0b10001       17  0x11   021\n",
      "3   0b10011       19  0x13   023\n",
      "4   0b10111       23  0x17   027\n",
      "5   0b11101       29  0x1d   035\n",
      "6   0b11111       31  0x1f   037\n",
      "7  0b100101       37  0x25   045 \n",
      "\n",
      "df[['octal','hexa']]\n",
      "  octal  hexa\n",
      "0   013   0xb\n",
      "1   015   0xd\n",
      "2   021  0x11\n",
      "3   023  0x13\n",
      "4   027  0x17\n",
      "5   035  0x1d\n",
      "6   037  0x1f\n",
      "7   045  0x25 \n",
      "\n",
      "df.loc[3:6]\n",
      "    binary  decimal  hexa octal\n",
      "3  0b10011       19  0x13   023\n",
      "4  0b10111       23  0x17   027\n",
      "5  0b11101       29  0x1d   035\n",
      "6  0b11111       31  0x1f   037 \n",
      "\n",
      "df[df['decimal']==13]\n",
      "   binary  decimal hexa octal\n",
      "1  0b1101       13  0xd   015 \n",
      "\n"
     ]
    }
   ],
   "source": [
    "import pandas as p\n",
    "decimal = [11,13,17,19,23,29,31,37]\n",
    "binary = map(lambda x:bin(x),decimal)\n",
    "octal = map(lambda x:oct(x),decimal)\n",
    "hexa = map(lambda x:hex(x),decimal)\n",
    "data = {'decimal':decimal, 'binary':binary, 'octal':octal, 'hexa':hexa}\n",
    "df = p.DataFrame(data)\n",
    "print \"df\\n\", df, \"\\n\"\n",
    "print \"df[['octal','hexa']]\\n\", df[['octal','hexa']], \"\\n\"\n",
    "print \"df.loc[3:6]\\n\", df.loc[3:6], \"\\n\"\n",
    "print \"df[df['decimal']==13]\\n\", df[df['decimal']==13], \"\\n\"\n"
   ]
  },
  {
   "cell_type": "markdown",
   "metadata": {},
   "source": []
  },
  {
   "cell_type": "code",
   "execution_count": null,
   "metadata": {
    "collapsed": true
   },
   "outputs": [],
   "source": []
  }
 ],
 "metadata": {
  "kernelspec": {
   "display_name": "Python 2",
   "language": "python",
   "name": "python2"
  },
  "language_info": {
   "codemirror_mode": {
    "name": "ipython",
    "version": 2
   },
   "file_extension": ".py",
   "mimetype": "text/x-python",
   "name": "python",
   "nbconvert_exporter": "python",
   "pygments_lexer": "ipython2",
   "version": "2.7.13"
  }
 },
 "nbformat": 4,
 "nbformat_minor": 2
}
