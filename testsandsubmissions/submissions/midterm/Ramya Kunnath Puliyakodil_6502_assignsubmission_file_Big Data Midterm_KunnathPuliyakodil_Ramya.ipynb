{
 "cells": [
  {
   "cell_type": "markdown",
   "metadata": {},
   "source": [
    "## Introduction to Big Data Midterm"
   ]
  },
  {
   "cell_type": "markdown",
   "metadata": {},
   "source": [
    "Assign date: 2017-12-03\n",
    "\n",
    "Due date: 2017-12-16 11:59pm\n",
    "\n",
    "Please submit only one copy of your Jupyter Notebook file with your answers for each question provided in the following cells below to Moodle. There will be no extensions or excemptions. \n",
    "\n",
    "You will lose 15% each day your submission is late. \n",
    "\n",
    "Please do not post any answers to the general question forum. You can however ask for technical help on the course page if you are having actualy technical issues. I reserve the right to delete any question/response that I deem being too much \"begging for hints\" in nature. You may email me directly at mtenney@yorku.ca if you have any questions, but do note I will not provide you any answers and my response may take up to 48hrs. And of course, you're free to use any class material, the Internet, or additional resources to complete the exam. The exam covers material from weeks 1-4 inclusively.\n",
    "\n",
    "Note you MUST RUN THE CODE and print out the required results when submitting. Any empty cells or un-run code will not be accepted. "
   ]
  },
  {
   "cell_type": "markdown",
   "metadata": {},
   "source": [
    "\n",
    "**1) Import the following libraries to your notebook (you can use alias' if you want) in the cell below:**<br/>\n",
    "    pandas,\n",
    "    seaborn,\n",
    "    os,\n",
    "    matplotlib.pyplot<br/>\n",
    "**And** add the following flag: \n",
    "    %matplotlib inline"
   ]
  },
  {
   "cell_type": "code",
   "execution_count": 1,
   "metadata": {
    "collapsed": true
   },
   "outputs": [],
   "source": [
    "%matplotlib inline\n",
    "import pandas as pd\n",
    "import seaborn as sns\n",
    "import os.path\n",
    "import matplotlib.pyplot as plt"
   ]
  },
  {
   "cell_type": "markdown",
   "metadata": {},
   "source": [
    "**2) Index a list in Python**<br/>\n",
    "Run the code below, it will give a result of 4. If we want to get ONLY the number 8 from the list of lists below, how would you alter the code? Alter the code directly and run to print the desired output. "
   ]
  },
  {
   "cell_type": "code",
   "execution_count": 3,
   "metadata": {},
   "outputs": [
    {
     "name": "stdout",
     "output_type": "stream",
     "text": [
      "4\n"
     ]
    }
   ],
   "source": [
    "question2 = [[1,2],[3,4],[5,6],[7,[8,9]]]\n",
    "print question2[1][1]"
   ]
  },
  {
   "cell_type": "code",
   "execution_count": 2,
   "metadata": {},
   "outputs": [
    {
     "name": "stdout",
     "output_type": "stream",
     "text": [
      "8\n"
     ]
    }
   ],
   "source": [
    "question2 = [[1,2],[3,4],[5,6],[7,[8,9]]]\n",
    "print question2[3][1][0]"
   ]
  },
  {
   "cell_type": "markdown",
   "metadata": {},
   "source": [
    "**3) Define a variable called bigdata, to be a list in python with the following elements and print only the last two elements of the list:**<br/> 1, \"Big Data Class\", 2, \"Is Really Fun\",3, \"I Love Python\""
   ]
  },
  {
   "cell_type": "code",
   "execution_count": 3,
   "metadata": {},
   "outputs": [
    {
     "name": "stdout",
     "output_type": "stream",
     "text": [
      "3 I Love Python\n"
     ]
    }
   ],
   "source": [
    "bigdata = [1, 'Big Data Class',2, 'Is Really Fun',3,'I Love Python']\n",
    "print bigdata[4], bigdata[5]"
   ]
  },
  {
   "cell_type": "markdown",
   "metadata": {},
   "source": [
    "**4) Cast the following list to be a string in Python:** <br/>\n",
    "Define the list [1,2,4,3,'k'] and cast it to a string where you print out '1243k'. Insert your code below."
   ]
  },
  {
   "cell_type": "code",
   "execution_count": 8,
   "metadata": {},
   "outputs": [
    {
     "name": "stdout",
     "output_type": "stream",
     "text": [
      "1243k\n"
     ]
    }
   ],
   "source": [
    "li = [1,2,4,3,'k']\n",
    "string = ''.join(map(str, li))\n",
    "print string"
   ]
  },
  {
   "cell_type": "markdown",
   "metadata": {},
   "source": [
    "**5) Test whether the two lists are equal too each other and if not what elements are shared between the two lists.**<br/>\n",
    "<t/>list1 = ['1',2,'3',4,5]<br/>\n",
    "<t/>list2 = [1,2,3,4,'5',6]<br/>\n",
    "<br/>\n",
    "Define the lists and print whether the lists are equal to one another, and find which elements are a match. (***Hint you can go element by element or use you can use a \"for\" loop, or, you can use a different data structure all together***). \n"
   ]
  },
  {
   "cell_type": "code",
   "execution_count": 13,
   "metadata": {},
   "outputs": [
    {
     "name": "stdout",
     "output_type": "stream",
     "text": [
      "The lists are not equal\n"
     ]
    },
    {
     "data": {
      "text/plain": [
       "4"
      ]
     },
     "execution_count": 13,
     "metadata": {},
     "output_type": "execute_result"
    }
   ],
   "source": [
    "list1=['1','2','3',4,5]\n",
    "list2=[1,2,3,4,'5',6]\n",
    "\n",
    "if len(list1)==len(list2) :\n",
    "    print 'The lists are equal'\n",
    "else:\n",
    "    print 'The lists are not equal'   \n",
    "def o_l(list1, list2):\n",
    "    for i in list1:\n",
    "        if i in list2:\n",
    "            return i\n",
    "o_l(list1,list2)"
   ]
  },
  {
   "cell_type": "markdown",
   "metadata": {},
   "source": [
    "**6) Test whether the two lists are equal too each other and if not what elements are shared between the two lists.**<br/>"
   ]
  },
  {
   "cell_type": "markdown",
   "metadata": {
    "collapsed": true
   },
   "source": [
    "Same as above"
   ]
  },
  {
   "cell_type": "markdown",
   "metadata": {},
   "source": [
    "**7) What are the \"5 V's\" commonly used to describe Big Data?** Write your answer below."
   ]
  },
  {
   "cell_type": "markdown",
   "metadata": {
    "collapsed": true
   },
   "source": [
    "The \"5 V's\" commonly used to describe Big Data are :\n",
    "1.Volume : baiscally big data is chareterised by large amount of data - data that is generated due to various reasons like more sensors, more internal data collection etc. According to IBM, 2.5 quintillion bytes of data is created everyday.\n",
    "2.Velocity : This is nothing but the speed with which data comes in. The trend leans towards data flowing faster and faster closer to real-time\n",
    "3.Variety : The type of data - it is no more just structured data like tables, rows or columns. A large amount of the data is unstrucured- images,tweets, postse etc.\n",
    "4.Veracity :This describes the trust and confidence to be placed in the data. Data generated internally is considered more trutworthy. However,external data presentsa challenge in this aspect.\n",
    "5.Value: Talks about the positive outcome that can be acheived by utilizing data "
   ]
  },
  {
   "cell_type": "markdown",
   "metadata": {},
   "source": [
    "**8) Finish the quote:**<br/> *\"All models are wrong. Some are [...]\"*"
   ]
  },
  {
   "cell_type": "markdown",
   "metadata": {
    "collapsed": true
   },
   "source": [
    "\"All models are wrong. Some are more useful than others\""
   ]
  },
  {
   "cell_type": "markdown",
   "metadata": {},
   "source": [
    "**9) If a variable dogs = 103x23/2 and a variable cats = 10x12x4,  Use python to determing if dogs are greater than cats. **"
   ]
  },
  {
   "cell_type": "code",
   "execution_count": 16,
   "metadata": {},
   "outputs": [
    {
     "name": "stdout",
     "output_type": "stream",
     "text": [
      "Yes\n"
     ]
    }
   ],
   "source": [
    "dogs = 103*23/2\n",
    "cats=10*12*4\n",
    "if dogs > cats:\n",
    "    print 'Yes'\n",
    "else :\n",
    "    print 'No'"
   ]
  },
  {
   "cell_type": "markdown",
   "metadata": {},
   "source": [
    "**10) What is the name for the 3 primary measures of central tendency and give their definition** "
   ]
  },
  {
   "cell_type": "markdown",
   "metadata": {
    "collapsed": true
   },
   "source": [
    "1.Mean- This is in essence the average of a set of numbers\n",
    "2.Mode-Mode is usually used for categorical data where we wish to know which is the most common category\n",
    "3.Median- "
   ]
  },
  {
   "cell_type": "markdown",
   "metadata": {},
   "source": [
    "**11) Calculate the descriptive statistice for each of the above central measures in Python on this list of numbers and print out the values:**<br/> \n",
    "\n",
    "[12,44,23,2,1,66,7,85,3,34,23,6,34,23,7,21,14,34,23,88]\n",
    "<br/> \n",
    "*(Hint: it might be easier to import a function from some other library)*\n",
    "\n"
   ]
  },
  {
   "cell_type": "code",
   "execution_count": 25,
   "metadata": {},
   "outputs": [
    {
     "name": "stdout",
     "output_type": "stream",
     "text": [
      "n    27.5\n",
      "dtype: float64\n",
      "    n\n",
      "0  23\n",
      "n    23.0\n",
      "dtype: float64\n"
     ]
    }
   ],
   "source": [
    "%matplotlib inline\n",
    "import pandas as pd\n",
    "import numpy as np\n",
    "obs = {'n': [12,44,23,2,1,66,7,85,3,34,23,6,34,23,7,21,14,34,23,88]}\n",
    "d = pd.DataFrame (obs)\n",
    "print d.mean()\n",
    "print d.mode()\n",
    "print d.median()"
   ]
  },
  {
   "cell_type": "markdown",
   "metadata": {},
   "source": [
    "**12) Delete the empty cell  between question 12 (this one) and Question 13 from the Jupyter notebook**"
   ]
  },
  {
   "cell_type": "markdown",
   "metadata": {},
   "source": [
    "**13) Create a list, called mylist, containing a sequential list of numbers that starts with 2 and stops at 1000, counting by 2's in Python**"
   ]
  },
  {
   "cell_type": "code",
   "execution_count": 28,
   "metadata": {},
   "outputs": [
    {
     "name": "stdout",
     "output_type": "stream",
     "text": [
      "[2, 4, 6, 8, 10, 12, 14, 16, 18, 20, 22, 24, 26, 28, 30, 32, 34, 36, 38, 40, 42, 44, 46, 48, 50, 52, 54, 56, 58, 60, 62, 64, 66, 68, 70, 72, 74, 76, 78, 80, 82, 84, 86, 88, 90, 92, 94, 96, 98, 100, 102, 104, 106, 108, 110, 112, 114, 116, 118, 120, 122, 124, 126, 128, 130, 132, 134, 136, 138, 140, 142, 144, 146, 148, 150, 152, 154, 156, 158, 160, 162, 164, 166, 168, 170, 172, 174, 176, 178, 180, 182, 184, 186, 188, 190, 192, 194, 196, 198, 200, 202, 204, 206, 208, 210, 212, 214, 216, 218, 220, 222, 224, 226, 228, 230, 232, 234, 236, 238, 240, 242, 244, 246, 248, 250, 252, 254, 256, 258, 260, 262, 264, 266, 268, 270, 272, 274, 276, 278, 280, 282, 284, 286, 288, 290, 292, 294, 296, 298, 300, 302, 304, 306, 308, 310, 312, 314, 316, 318, 320, 322, 324, 326, 328, 330, 332, 334, 336, 338, 340, 342, 344, 346, 348, 350, 352, 354, 356, 358, 360, 362, 364, 366, 368, 370, 372, 374, 376, 378, 380, 382, 384, 386, 388, 390, 392, 394, 396, 398, 400, 402, 404, 406, 408, 410, 412, 414, 416, 418, 420, 422, 424, 426, 428, 430, 432, 434, 436, 438, 440, 442, 444, 446, 448, 450, 452, 454, 456, 458, 460, 462, 464, 466, 468, 470, 472, 474, 476, 478, 480, 482, 484, 486, 488, 490, 492, 494, 496, 498, 500, 502, 504, 506, 508, 510, 512, 514, 516, 518, 520, 522, 524, 526, 528, 530, 532, 534, 536, 538, 540, 542, 544, 546, 548, 550, 552, 554, 556, 558, 560, 562, 564, 566, 568, 570, 572, 574, 576, 578, 580, 582, 584, 586, 588, 590, 592, 594, 596, 598, 600, 602, 604, 606, 608, 610, 612, 614, 616, 618, 620, 622, 624, 626, 628, 630, 632, 634, 636, 638, 640, 642, 644, 646, 648, 650, 652, 654, 656, 658, 660, 662, 664, 666, 668, 670, 672, 674, 676, 678, 680, 682, 684, 686, 688, 690, 692, 694, 696, 698, 700, 702, 704, 706, 708, 710, 712, 714, 716, 718, 720, 722, 724, 726, 728, 730, 732, 734, 736, 738, 740, 742, 744, 746, 748, 750, 752, 754, 756, 758, 760, 762, 764, 766, 768, 770, 772, 774, 776, 778, 780, 782, 784, 786, 788, 790, 792, 794, 796, 798, 800, 802, 804, 806, 808, 810, 812, 814, 816, 818, 820, 822, 824, 826, 828, 830, 832, 834, 836, 838, 840, 842, 844, 846, 848, 850, 852, 854, 856, 858, 860, 862, 864, 866, 868, 870, 872, 874, 876, 878, 880, 882, 884, 886, 888, 890, 892, 894, 896, 898, 900, 902, 904, 906, 908, 910, 912, 914, 916, 918, 920, 922, 924, 926, 928, 930, 932, 934, 936, 938, 940, 942, 944, 946, 948, 950, 952, 954, 956, 958, 960, 962, 964, 966, 968, 970, 972, 974, 976, 978, 980, 982, 984, 986, 988, 990, 992, 994, 996, 998, 1000]\n"
     ]
    }
   ],
   "source": [
    "mylist = []\n",
    "for i in range(1,501):\n",
    "    x = 2*i\n",
    "    mylist.append(x)\n",
    "print mylist"
   ]
  },
  {
   "cell_type": "markdown",
   "metadata": {},
   "source": [
    "**14) Is the sum of the first 50 elements in \"mylist\" greater than the last element of  \"mylist\"?**<br/> Use Python below to print out the answer. (mylist is defined in question 13). "
   ]
  },
  {
   "cell_type": "code",
   "execution_count": 34,
   "metadata": {},
   "outputs": [
    {
     "name": "stdout",
     "output_type": "stream",
     "text": [
      "The first 50 elements in mylist are greater than the last element\n"
     ]
    }
   ],
   "source": [
    "subset_ff = mylist [0:50]\n",
    "ff_s = sum(subset_ff)\n",
    "last = mylist [-1]\n",
    "if ff_s > last:\n",
    "    print 'The first 50 elements in mylist are greater than the last element'\n",
    "else:\n",
    "    print 'The first 50 elements in mylist are not greater than the last element'"
   ]
  },
  {
   "cell_type": "markdown",
   "metadata": {},
   "source": [
    "**15) What is the length of \"mylist\"?**"
   ]
  },
  {
   "cell_type": "code",
   "execution_count": 39,
   "metadata": {},
   "outputs": [
    {
     "name": "stdout",
     "output_type": "stream",
     "text": [
      "500\n"
     ]
    }
   ],
   "source": [
    "l = len(mylist)\n",
    "print l"
   ]
  },
  {
   "cell_type": "markdown",
   "metadata": {},
   "source": [
    "**16) Create another list, called my2ndlist, containing a list of numbers starting at 1002 and stops at 1052,counting by 3's in Python. <br/>THEN concatenate my2ndlist with mylist into a new list called theMegaList.**<br/> Print theMegaList below."
   ]
  },
  {
   "cell_type": "code",
   "execution_count": 66,
   "metadata": {},
   "outputs": [
    {
     "name": "stdout",
     "output_type": "stream",
     "text": [
      "[2, 4, 6, 8, 10, 12, 14, 16, 18, 20, 22, 24, 26, 28, 30, 32, 34, 36, 38, 40, 42, 44, 46, 48, 50, 52, 54, 56, 58, 60, 62, 64, 66, 68, 70, 72, 74, 76, 78, 80, 82, 84, 86, 88, 90, 92, 94, 96, 98, 100, 102, 104, 106, 108, 110, 112, 114, 116, 118, 120, 122, 124, 126, 128, 130, 132, 134, 136, 138, 140, 142, 144, 146, 148, 150, 152, 154, 156, 158, 160, 162, 164, 166, 168, 170, 172, 174, 176, 178, 180, 182, 184, 186, 188, 190, 192, 194, 196, 198, 200, 202, 204, 206, 208, 210, 212, 214, 216, 218, 220, 222, 224, 226, 228, 230, 232, 234, 236, 238, 240, 242, 244, 246, 248, 250, 252, 254, 256, 258, 260, 262, 264, 266, 268, 270, 272, 274, 276, 278, 280, 282, 284, 286, 288, 290, 292, 294, 296, 298, 300, 302, 304, 306, 308, 310, 312, 314, 316, 318, 320, 322, 324, 326, 328, 330, 332, 334, 336, 338, 340, 342, 344, 346, 348, 350, 352, 354, 356, 358, 360, 362, 364, 366, 368, 370, 372, 374, 376, 378, 380, 382, 384, 386, 388, 390, 392, 394, 396, 398, 400, 402, 404, 406, 408, 410, 412, 414, 416, 418, 420, 422, 424, 426, 428, 430, 432, 434, 436, 438, 440, 442, 444, 446, 448, 450, 452, 454, 456, 458, 460, 462, 464, 466, 468, 470, 472, 474, 476, 478, 480, 482, 484, 486, 488, 490, 492, 494, 496, 498, 500, 502, 504, 506, 508, 510, 512, 514, 516, 518, 520, 522, 524, 526, 528, 530, 532, 534, 536, 538, 540, 542, 544, 546, 548, 550, 552, 554, 556, 558, 560, 562, 564, 566, 568, 570, 572, 574, 576, 578, 580, 582, 584, 586, 588, 590, 592, 594, 596, 598, 600, 602, 604, 606, 608, 610, 612, 614, 616, 618, 620, 622, 624, 626, 628, 630, 632, 634, 636, 638, 640, 642, 644, 646, 648, 650, 652, 654, 656, 658, 660, 662, 664, 666, 668, 670, 672, 674, 676, 678, 680, 682, 684, 686, 688, 690, 692, 694, 696, 698, 700, 702, 704, 706, 708, 710, 712, 714, 716, 718, 720, 722, 724, 726, 728, 730, 732, 734, 736, 738, 740, 742, 744, 746, 748, 750, 752, 754, 756, 758, 760, 762, 764, 766, 768, 770, 772, 774, 776, 778, 780, 782, 784, 786, 788, 790, 792, 794, 796, 798, 800, 802, 804, 806, 808, 810, 812, 814, 816, 818, 820, 822, 824, 826, 828, 830, 832, 834, 836, 838, 840, 842, 844, 846, 848, 850, 852, 854, 856, 858, 860, 862, 864, 866, 868, 870, 872, 874, 876, 878, 880, 882, 884, 886, 888, 890, 892, 894, 896, 898, 900, 902, 904, 906, 908, 910, 912, 914, 916, 918, 920, 922, 924, 926, 928, 930, 932, 934, 936, 938, 940, 942, 944, 946, 948, 950, 952, 954, 956, 958, 960, 962, 964, 966, 968, 970, 972, 974, 976, 978, 980, 982, 984, 986, 988, 990, 992, 994, 996, 998, 1000, 1002, 1005, 1008, 1011, 1014, 1017, 1020, 1023, 1026, 1029, 1032, 1035, 1038, 1041, 1044, 1047, 1050, 1053]\n"
     ]
    }
   ],
   "source": [
    "my2ndlist =[]\n",
    "for i in range(334,352):\n",
    "    x = 3*i\n",
    "    my2ndlist.append(x)\n",
    "MegaList = mylist + my2ndlist\n",
    "print MegaList\n"
   ]
  },
  {
   "cell_type": "markdown",
   "metadata": {},
   "source": [
    "**17) What is the index for the value 822 in theMegaList?**"
   ]
  },
  {
   "cell_type": "code",
   "execution_count": 50,
   "metadata": {},
   "outputs": [
    {
     "data": {
      "text/plain": [
       "410"
      ]
     },
     "execution_count": 50,
     "metadata": {},
     "output_type": "execute_result"
    }
   ],
   "source": [
    "MegaList.index(822)"
   ]
  },
  {
   "cell_type": "markdown",
   "metadata": {},
   "source": [
    "18) Write a for loop that will test if an element in theMegaList is an even or odd number and keeps a count of how many of each there are in the list.**<br/> Print out the total number of even and odd numbers found in theMegalist below. "
   ]
  },
  {
   "cell_type": "code",
   "execution_count": 56,
   "metadata": {},
   "outputs": [
    {
     "name": "stdout",
     "output_type": "stream",
     "text": [
      "Number of even numbers : 509\n",
      "Number of odd numbers : 8\n"
     ]
    }
   ],
   "source": [
    "c_odd = 0\n",
    "c_even = 0\n",
    "for x in MegaList:\n",
    "        if not x % 2:\n",
    "            c_even+=1\n",
    "        else:\n",
    "            c_odd+=1\n",
    "print \"Number of even numbers :\",c_even\n",
    "print \"Number of odd numbers :\" ,c_odd"
   ]
  },
  {
   "cell_type": "markdown",
   "metadata": {},
   "source": [
    "**19) Write a brief definition of what Data Latency and the difference between \"real-time\" and \"near-time\" data.**"
   ]
  },
  {
   "cell_type": "markdown",
   "metadata": {
    "collapsed": true
   },
   "source": [
    "Data latency is a used to describe the \"timeliness\" of a particular dataset- basically it is used to decribe a characteristic of the data i.e. when the data comes in or is generated \n",
    "\n",
    "Real-time data is data that is up to date, all the time - kind of like a live stream with absolutely no lag.\n",
    "\n",
    "Near-time data  is data that would be updated on a schedule of some sort which means there will be some time difference between when the data was generated and when it is updated. \n"
   ]
  },
  {
   "cell_type": "markdown",
   "metadata": {},
   "source": [
    "**19) What does the statistic Standard Deviation tell you about a numerical dataset? **"
   ]
  },
  {
   "cell_type": "markdown",
   "metadata": {
    "collapsed": true
   },
   "source": [
    "Standard deviation tells you about about how spread out the samples are and the number of samples you can expect at various distances from the mean.It basically tells you how useful the mean or average is as part of your larger analysis."
   ]
  },
  {
   "cell_type": "markdown",
   "metadata": {},
   "source": [
    "**20) Suppose you have the following loop:**<br>\n",
    ">things = [1,2,3,5,6,7,8,9,10]<br>\n",
    ">previous_thing = 0<br>\n",
    ">for thing in things:<br>\n",
    ">>new_thing = thing * previous_thing<br>\n",
    ">>x = 3+previous_thing<br>\n",
    ">>previous_thing = thing<br>\n",
    "\n",
    "**At the end of the loop:**\n",
    ">**What does new_thing equal?**<br>\n",
    ">**What does x equal?**\n",
    "    \n",
    "    \n"
   ]
  },
  {
   "cell_type": "code",
   "execution_count": 59,
   "metadata": {},
   "outputs": [
    {
     "name": "stdout",
     "output_type": "stream",
     "text": [
      "90\n",
      "12\n"
     ]
    }
   ],
   "source": [
    "things = [1,2,3,5,6,7,8,9,10]\n",
    "previous_thing = 0\n",
    "for thing in things:\n",
    "    new_thing = thing * previous_thing\n",
    "    x = 3+previous_thing\n",
    "    previous_thing = thing\n",
    "print new_thing\n",
    "print x"
   ]
  },
  {
   "cell_type": "markdown",
   "metadata": {},
   "source": [
    "**21) What's the difference between Zero and None or Null?** "
   ]
  },
  {
   "cell_type": "markdown",
   "metadata": {
    "collapsed": true
   },
   "source": [
    "Zero is a value whereas None and Null could be described as states of a value.For instance in Financial tables  0 represents a zero value - no money whereas NULL is used to represent the state when no info is present i.e. the transaction data hasn't been updated and the value is hence NULL for now but not 0."
   ]
  },
  {
   "cell_type": "markdown",
   "metadata": {},
   "source": [
    "**22) In the following loop:**<br> \n",
    ">x = 1<br>\n",
    ">sure_thing = True<br>\n",
    ">while sure_thing:<br>\n",
    ">>x = x +100<br>\n",
    ">>if x < 20001: <br>\n",
    ">>>x = x-1<br>\n",
    ">>else: <br>\n",
    ">>>sure_thing = False<br>\n",
    "\n",
    "**What does x equal to make our sure_thing False? **\n",
    "        "
   ]
  },
  {
   "cell_type": "code",
   "execution_count": null,
   "metadata": {
    "collapsed": true
   },
   "outputs": [],
   "source": [
    "x=1 to make sure_thing False"
   ]
  },
  {
   "cell_type": "markdown",
   "metadata": {},
   "source": [
    "**Based on the DataFrame df and df1 defined below, add needed code to answer the following questions.**"
   ]
  },
  {
   "cell_type": "code",
   "execution_count": 61,
   "metadata": {
    "collapsed": true
   },
   "outputs": [],
   "source": [
    "from pandas import Series, DataFrame\n",
    "import pandas as pd\n",
    "raw_data = {'first_name': ['Jason', 'Jason', 'Tina', 'Jake', 'Amy'],\n",
    "        'last_name': ['Miller', 'Miller', 'Ali', 'Milner', 'Milner'],\n",
    "        'age': [42, 42, 36, 24, 73],\n",
    "        'preTest': [4, 4, 31, 2, 3],\n",
    "        'postTest': [25, 25, 57, 62, 70]}\n",
    "df = pd.DataFrame(raw_data, columns = ['first_name', 'last_name', 'age', 'preTest', 'postTest'])\n",
    "df1 = df"
   ]
  },
  {
   "cell_type": "markdown",
   "metadata": {},
   "source": [
    "**23) What are the column names in df1?print the result.**"
   ]
  },
  {
   "cell_type": "code",
   "execution_count": 62,
   "metadata": {},
   "outputs": [
    {
     "data": {
      "text/plain": [
       "Index([u'first_name', u'last_name', u'age', u'preTest', u'postTest'], dtype='object')"
      ]
     },
     "execution_count": 62,
     "metadata": {},
     "output_type": "execute_result"
    }
   ],
   "source": [
    "df1.columns"
   ]
  },
  {
   "cell_type": "markdown",
   "metadata": {},
   "source": [
    "**24) What is the average (mean) of the preTest and postTest scores?print the result. **"
   ]
  },
  {
   "cell_type": "code",
   "execution_count": 64,
   "metadata": {},
   "outputs": [
    {
     "name": "stdout",
     "output_type": "stream",
     "text": [
      "8.8\n",
      "47.8\n"
     ]
    }
   ],
   "source": [
    "print df1 [\"preTest\"].mean()\n",
    "print df1 [\"postTest\"].mean()"
   ]
  },
  {
   "cell_type": "markdown",
   "metadata": {},
   "source": [
    "**25) Remove duplicated rows in df based on last_name only.  Instead of keeping the first value, now keep the last of the duplicated values.print the result.**"
   ]
  },
  {
   "cell_type": "code",
   "execution_count": 71,
   "metadata": {},
   "outputs": [
    {
     "name": "stdout",
     "output_type": "stream",
     "text": [
      "  first_name last_name  age  preTest  postTest\n",
      "1      Jason    Miller   42        4        25\n",
      "2       Tina       Ali   36       31        57\n",
      "4        Amy    Milner   73        3        70\n"
     ]
    }
   ],
   "source": [
    "print df1.drop_duplicates(['last_name'],keep='last')"
   ]
  },
  {
   "cell_type": "markdown",
   "metadata": {},
   "source": [
    "**26) Remove duplicated rows in df1 based on both first_name and last_name.  print the result.**"
   ]
  },
  {
   "cell_type": "code",
   "execution_count": 220,
   "metadata": {},
   "outputs": [
    {
     "name": "stdout",
     "output_type": "stream",
     "text": [
      "  first_name last_name  age  preTest  postTest\n",
      "2       Tina       Ali   36       31        57\n",
      "3       Jake    Milner   24        2        62\n",
      "4        Amy    Milner   73        3        70\n"
     ]
    }
   ],
   "source": [
    "print df1.drop_duplicates (subset= ['first_name','last_name'], keep=False)"
   ]
  },
  {
   "cell_type": "markdown",
   "metadata": {},
   "source": [
    "***Use the dataframe defined in the following cell to answer the next few questions***: "
   ]
  },
  {
   "cell_type": "code",
   "execution_count": 82,
   "metadata": {},
   "outputs": [
    {
     "name": "stdout",
     "output_type": "stream",
     "text": [
      "            0         1         2         3\n",
      "0    0.496714 -0.138264  0.647689  1.523030\n",
      "1   -0.234153 -0.234137  1.579213  0.767435\n",
      "2   -0.469474  0.542560 -0.463418 -0.465730\n",
      "3    0.241962 -1.913280 -1.724918 -0.562288\n",
      "4   -1.012831  0.314247 -0.908024 -1.412304\n",
      "5    1.465649 -0.225776  0.067528 -1.424748\n",
      "6   -0.544383  0.110923 -1.150994  0.375698\n",
      "7   -0.600639 -0.291694 -0.601707  1.852278\n",
      "8   -0.013497 -1.057711  0.822545 -1.220844\n",
      "9    0.208864 -1.959670 -1.328186  0.196861\n",
      "10   0.738467  0.171368 -0.115648 -0.301104\n",
      "11  -1.478522 -0.719844 -0.460639  1.057122\n",
      "12   0.343618 -1.763040  0.324084 -0.385082\n",
      "13  -0.676922  0.611676  1.031000  0.931280\n",
      "14  -0.839218 -0.309212  0.331263  0.975545\n",
      "15  -0.479174 -0.185659 -1.106335 -1.196207\n",
      "16   0.812526  1.356240 -0.072010  1.003533\n",
      "17   0.361636 -0.645120  0.361396  1.538037\n",
      "18  -0.035826  1.564644 -2.619745  0.821903\n",
      "19   0.087047 -0.299007  0.091761 -1.987569\n",
      "20  -0.219672  0.357113  1.477894 -0.518270\n",
      "21  -0.808494 -0.501757  0.915402  0.328751\n",
      "22  -0.529760  0.513267  0.097078  0.968645\n",
      "23  -0.702053 -0.327662 -0.392108 -1.463515\n",
      "24   0.296120  0.261055  0.005113 -0.234587\n",
      "25  -1.415371 -0.420645 -0.342715 -0.802277\n",
      "26  -0.161286  0.404051  1.886186  0.174578\n",
      "27   0.257550 -0.074446 -1.918771 -0.026514\n",
      "28   0.060230  2.463242 -0.192361  0.301547\n",
      "29  -0.034712 -1.168678  1.142823  0.751933\n",
      "..        ...       ...       ...       ...\n",
      "370  0.722381 -0.372833  1.726964 -0.399636\n",
      "371  0.224685  0.932591 -1.418366 -1.760809\n",
      "372 -1.525656  1.262584 -0.551858  2.558199\n",
      "373 -0.564248  0.184551  1.542110  2.006093\n",
      "374  2.061504  1.208366  1.024063  0.592527\n",
      "375  0.778361 -0.551186 -0.818199 -0.003374\n",
      "376 -0.170185 -0.453228  0.696387  0.955305\n",
      "377  0.088407  1.477530 -1.141689 -0.193659\n",
      "378 -0.716822 -1.866537 -0.082681 -0.121748\n",
      "379  1.513450  0.630812 -1.024187  1.854093\n",
      "380  1.221034  0.582098 -0.226484 -0.959439\n",
      "381 -0.372207  1.088749  1.884586  1.543244\n",
      "382 -0.488849 -1.119617  0.140886 -1.768439\n",
      "383  0.323168 -0.147603 -0.466037 -1.594703\n",
      "384  0.513600 -0.532701 -1.169917 -2.872262\n",
      "385 -0.027515  1.772252  1.661259 -0.457096\n",
      "386 -0.602212  0.468774 -0.998385  0.301792\n",
      "387  0.766080  1.226933 -0.100154 -0.203674\n",
      "388 -0.877983 -0.826880 -0.226479  0.367366\n",
      "389  0.913585 -0.803179  1.492689 -0.271124\n",
      "390 -0.021367 -0.747212 -2.424240  0.884045\n",
      "391  0.736844 -0.281328  0.066991  0.515939\n",
      "392 -1.562546 -0.529053  0.794265 -1.254289\n",
      "393  0.293558 -1.356582  0.466430 -0.035641\n",
      "394 -1.615132  1.164739 -0.734592 -0.810252\n",
      "395  0.200569  1.148637 -1.015822  0.061680\n",
      "396  0.428817  0.693106  0.176442 -0.367028\n",
      "397 -0.827590  0.086144 -1.072139 -2.921350\n",
      "398  0.436560  0.903935 -2.362932 -1.009731\n",
      "399  0.619154  2.057495  0.020794 -0.728003\n",
      "\n",
      "[400 rows x 4 columns]\n"
     ]
    }
   ],
   "source": [
    "from pandas import Series, DataFrame\n",
    "import pandas as pd\n",
    "from numpy.random import randn\n",
    "import numpy as np\n",
    "np.random.seed(42)\n",
    "randomdata = DataFrame(np.random.randn(400, 4))\n",
    "print randomdata\n",
    "%matplotlib inline"
   ]
  },
  {
   "cell_type": "code",
   "execution_count": null,
   "metadata": {
    "collapsed": true
   },
   "outputs": [],
   "source": []
  },
  {
   "cell_type": "markdown",
   "metadata": {},
   "source": [
    "**27) Use the \"describe\" function to summarize the randomdata created above.**"
   ]
  },
  {
   "cell_type": "code",
   "execution_count": 83,
   "metadata": {},
   "outputs": [
    {
     "data": {
      "text/html": [
       "<div>\n",
       "<style>\n",
       "    .dataframe thead tr:only-child th {\n",
       "        text-align: right;\n",
       "    }\n",
       "\n",
       "    .dataframe thead th {\n",
       "        text-align: left;\n",
       "    }\n",
       "\n",
       "    .dataframe tbody tr th {\n",
       "        vertical-align: top;\n",
       "    }\n",
       "</style>\n",
       "<table border=\"1\" class=\"dataframe\">\n",
       "  <thead>\n",
       "    <tr style=\"text-align: right;\">\n",
       "      <th></th>\n",
       "      <th>0</th>\n",
       "      <th>1</th>\n",
       "      <th>2</th>\n",
       "      <th>3</th>\n",
       "    </tr>\n",
       "  </thead>\n",
       "  <tbody>\n",
       "    <tr>\n",
       "      <th>count</th>\n",
       "      <td>400.000000</td>\n",
       "      <td>400.000000</td>\n",
       "      <td>400.000000</td>\n",
       "      <td>400.000000</td>\n",
       "    </tr>\n",
       "    <tr>\n",
       "      <th>mean</th>\n",
       "      <td>0.035296</td>\n",
       "      <td>0.041202</td>\n",
       "      <td>0.046713</td>\n",
       "      <td>0.035939</td>\n",
       "    </tr>\n",
       "    <tr>\n",
       "      <th>std</th>\n",
       "      <td>0.924153</td>\n",
       "      <td>1.028034</td>\n",
       "      <td>0.997816</td>\n",
       "      <td>1.024632</td>\n",
       "    </tr>\n",
       "    <tr>\n",
       "      <th>min</th>\n",
       "      <td>-2.650970</td>\n",
       "      <td>-2.896255</td>\n",
       "      <td>-3.241267</td>\n",
       "      <td>-2.921350</td>\n",
       "    </tr>\n",
       "    <tr>\n",
       "      <th>25%</th>\n",
       "      <td>-0.612942</td>\n",
       "      <td>-0.651856</td>\n",
       "      <td>-0.602684</td>\n",
       "      <td>-0.683766</td>\n",
       "    </tr>\n",
       "    <tr>\n",
       "      <th>50%</th>\n",
       "      <td>0.052292</td>\n",
       "      <td>0.037928</td>\n",
       "      <td>0.036043</td>\n",
       "      <td>0.047190</td>\n",
       "    </tr>\n",
       "    <tr>\n",
       "      <th>75%</th>\n",
       "      <td>0.634986</td>\n",
       "      <td>0.676014</td>\n",
       "      <td>0.652834</td>\n",
       "      <td>0.744011</td>\n",
       "    </tr>\n",
       "    <tr>\n",
       "      <th>max</th>\n",
       "      <td>2.526932</td>\n",
       "      <td>3.852731</td>\n",
       "      <td>3.078881</td>\n",
       "      <td>2.720169</td>\n",
       "    </tr>\n",
       "  </tbody>\n",
       "</table>\n",
       "</div>"
      ],
      "text/plain": [
       "                0           1           2           3\n",
       "count  400.000000  400.000000  400.000000  400.000000\n",
       "mean     0.035296    0.041202    0.046713    0.035939\n",
       "std      0.924153    1.028034    0.997816    1.024632\n",
       "min     -2.650970   -2.896255   -3.241267   -2.921350\n",
       "25%     -0.612942   -0.651856   -0.602684   -0.683766\n",
       "50%      0.052292    0.037928    0.036043    0.047190\n",
       "75%      0.634986    0.676014    0.652834    0.744011\n",
       "max      2.526932    3.852731    3.078881    2.720169"
      ]
     },
     "execution_count": 83,
     "metadata": {},
     "output_type": "execute_result"
    }
   ],
   "source": [
    "randomdata.describe()"
   ]
  },
  {
   "cell_type": "markdown",
   "metadata": {},
   "source": [
    "**28) Identify the rows which contains at least one item with absolute value greater than 1**"
   ]
  },
  {
   "cell_type": "code",
   "execution_count": 109,
   "metadata": {},
   "outputs": [
    {
     "data": {
      "text/html": [
       "<div>\n",
       "<style>\n",
       "    .dataframe thead tr:only-child th {\n",
       "        text-align: right;\n",
       "    }\n",
       "\n",
       "    .dataframe thead th {\n",
       "        text-align: left;\n",
       "    }\n",
       "\n",
       "    .dataframe tbody tr th {\n",
       "        vertical-align: top;\n",
       "    }\n",
       "</style>\n",
       "<table border=\"1\" class=\"dataframe\">\n",
       "  <thead>\n",
       "    <tr style=\"text-align: right;\">\n",
       "      <th></th>\n",
       "      <th>a</th>\n",
       "      <th>b</th>\n",
       "      <th>c</th>\n",
       "      <th>d</th>\n",
       "    </tr>\n",
       "  </thead>\n",
       "  <tbody>\n",
       "    <tr>\n",
       "      <th>0</th>\n",
       "      <td>0.496714</td>\n",
       "      <td>-0.138264</td>\n",
       "      <td>0.647689</td>\n",
       "      <td>1.523030</td>\n",
       "    </tr>\n",
       "    <tr>\n",
       "      <th>1</th>\n",
       "      <td>-0.234153</td>\n",
       "      <td>-0.234137</td>\n",
       "      <td>1.579213</td>\n",
       "      <td>0.767435</td>\n",
       "    </tr>\n",
       "    <tr>\n",
       "      <th>3</th>\n",
       "      <td>0.241962</td>\n",
       "      <td>-1.913280</td>\n",
       "      <td>-1.724918</td>\n",
       "      <td>-0.562288</td>\n",
       "    </tr>\n",
       "    <tr>\n",
       "      <th>4</th>\n",
       "      <td>-1.012831</td>\n",
       "      <td>0.314247</td>\n",
       "      <td>-0.908024</td>\n",
       "      <td>-1.412304</td>\n",
       "    </tr>\n",
       "    <tr>\n",
       "      <th>5</th>\n",
       "      <td>1.465649</td>\n",
       "      <td>-0.225776</td>\n",
       "      <td>0.067528</td>\n",
       "      <td>-1.424748</td>\n",
       "    </tr>\n",
       "    <tr>\n",
       "      <th>6</th>\n",
       "      <td>-0.544383</td>\n",
       "      <td>0.110923</td>\n",
       "      <td>-1.150994</td>\n",
       "      <td>0.375698</td>\n",
       "    </tr>\n",
       "    <tr>\n",
       "      <th>7</th>\n",
       "      <td>-0.600639</td>\n",
       "      <td>-0.291694</td>\n",
       "      <td>-0.601707</td>\n",
       "      <td>1.852278</td>\n",
       "    </tr>\n",
       "    <tr>\n",
       "      <th>8</th>\n",
       "      <td>-0.013497</td>\n",
       "      <td>-1.057711</td>\n",
       "      <td>0.822545</td>\n",
       "      <td>-1.220844</td>\n",
       "    </tr>\n",
       "    <tr>\n",
       "      <th>9</th>\n",
       "      <td>0.208864</td>\n",
       "      <td>-1.959670</td>\n",
       "      <td>-1.328186</td>\n",
       "      <td>0.196861</td>\n",
       "    </tr>\n",
       "    <tr>\n",
       "      <th>11</th>\n",
       "      <td>-1.478522</td>\n",
       "      <td>-0.719844</td>\n",
       "      <td>-0.460639</td>\n",
       "      <td>1.057122</td>\n",
       "    </tr>\n",
       "    <tr>\n",
       "      <th>12</th>\n",
       "      <td>0.343618</td>\n",
       "      <td>-1.763040</td>\n",
       "      <td>0.324084</td>\n",
       "      <td>-0.385082</td>\n",
       "    </tr>\n",
       "    <tr>\n",
       "      <th>13</th>\n",
       "      <td>-0.676922</td>\n",
       "      <td>0.611676</td>\n",
       "      <td>1.031000</td>\n",
       "      <td>0.931280</td>\n",
       "    </tr>\n",
       "    <tr>\n",
       "      <th>15</th>\n",
       "      <td>-0.479174</td>\n",
       "      <td>-0.185659</td>\n",
       "      <td>-1.106335</td>\n",
       "      <td>-1.196207</td>\n",
       "    </tr>\n",
       "    <tr>\n",
       "      <th>16</th>\n",
       "      <td>0.812526</td>\n",
       "      <td>1.356240</td>\n",
       "      <td>-0.072010</td>\n",
       "      <td>1.003533</td>\n",
       "    </tr>\n",
       "    <tr>\n",
       "      <th>17</th>\n",
       "      <td>0.361636</td>\n",
       "      <td>-0.645120</td>\n",
       "      <td>0.361396</td>\n",
       "      <td>1.538037</td>\n",
       "    </tr>\n",
       "    <tr>\n",
       "      <th>18</th>\n",
       "      <td>-0.035826</td>\n",
       "      <td>1.564644</td>\n",
       "      <td>-2.619745</td>\n",
       "      <td>0.821903</td>\n",
       "    </tr>\n",
       "    <tr>\n",
       "      <th>19</th>\n",
       "      <td>0.087047</td>\n",
       "      <td>-0.299007</td>\n",
       "      <td>0.091761</td>\n",
       "      <td>-1.987569</td>\n",
       "    </tr>\n",
       "    <tr>\n",
       "      <th>20</th>\n",
       "      <td>-0.219672</td>\n",
       "      <td>0.357113</td>\n",
       "      <td>1.477894</td>\n",
       "      <td>-0.518270</td>\n",
       "    </tr>\n",
       "    <tr>\n",
       "      <th>23</th>\n",
       "      <td>-0.702053</td>\n",
       "      <td>-0.327662</td>\n",
       "      <td>-0.392108</td>\n",
       "      <td>-1.463515</td>\n",
       "    </tr>\n",
       "    <tr>\n",
       "      <th>25</th>\n",
       "      <td>-1.415371</td>\n",
       "      <td>-0.420645</td>\n",
       "      <td>-0.342715</td>\n",
       "      <td>-0.802277</td>\n",
       "    </tr>\n",
       "    <tr>\n",
       "      <th>26</th>\n",
       "      <td>-0.161286</td>\n",
       "      <td>0.404051</td>\n",
       "      <td>1.886186</td>\n",
       "      <td>0.174578</td>\n",
       "    </tr>\n",
       "    <tr>\n",
       "      <th>27</th>\n",
       "      <td>0.257550</td>\n",
       "      <td>-0.074446</td>\n",
       "      <td>-1.918771</td>\n",
       "      <td>-0.026514</td>\n",
       "    </tr>\n",
       "    <tr>\n",
       "      <th>28</th>\n",
       "      <td>0.060230</td>\n",
       "      <td>2.463242</td>\n",
       "      <td>-0.192361</td>\n",
       "      <td>0.301547</td>\n",
       "    </tr>\n",
       "    <tr>\n",
       "      <th>29</th>\n",
       "      <td>-0.034712</td>\n",
       "      <td>-1.168678</td>\n",
       "      <td>1.142823</td>\n",
       "      <td>0.751933</td>\n",
       "    </tr>\n",
       "    <tr>\n",
       "      <th>30</th>\n",
       "      <td>0.791032</td>\n",
       "      <td>-0.909387</td>\n",
       "      <td>1.402794</td>\n",
       "      <td>-1.401851</td>\n",
       "    </tr>\n",
       "    <tr>\n",
       "      <th>31</th>\n",
       "      <td>0.586857</td>\n",
       "      <td>2.190456</td>\n",
       "      <td>-0.990536</td>\n",
       "      <td>-0.566298</td>\n",
       "    </tr>\n",
       "    <tr>\n",
       "      <th>32</th>\n",
       "      <td>0.099651</td>\n",
       "      <td>-0.503476</td>\n",
       "      <td>-1.550663</td>\n",
       "      <td>0.068563</td>\n",
       "    </tr>\n",
       "    <tr>\n",
       "      <th>33</th>\n",
       "      <td>-1.062304</td>\n",
       "      <td>0.473592</td>\n",
       "      <td>-0.919424</td>\n",
       "      <td>1.549934</td>\n",
       "    </tr>\n",
       "    <tr>\n",
       "      <th>34</th>\n",
       "      <td>-0.783253</td>\n",
       "      <td>-0.322062</td>\n",
       "      <td>0.813517</td>\n",
       "      <td>-1.230864</td>\n",
       "    </tr>\n",
       "    <tr>\n",
       "      <th>35</th>\n",
       "      <td>0.227460</td>\n",
       "      <td>1.307143</td>\n",
       "      <td>-1.607483</td>\n",
       "      <td>0.184634</td>\n",
       "    </tr>\n",
       "    <tr>\n",
       "      <th>...</th>\n",
       "      <td>...</td>\n",
       "      <td>...</td>\n",
       "      <td>...</td>\n",
       "      <td>...</td>\n",
       "    </tr>\n",
       "    <tr>\n",
       "      <th>362</th>\n",
       "      <td>1.238283</td>\n",
       "      <td>0.021272</td>\n",
       "      <td>0.308833</td>\n",
       "      <td>1.702215</td>\n",
       "    </tr>\n",
       "    <tr>\n",
       "      <th>363</th>\n",
       "      <td>0.240753</td>\n",
       "      <td>2.601683</td>\n",
       "      <td>0.565510</td>\n",
       "      <td>-1.760763</td>\n",
       "    </tr>\n",
       "    <tr>\n",
       "      <th>364</th>\n",
       "      <td>0.753342</td>\n",
       "      <td>0.381158</td>\n",
       "      <td>1.289753</td>\n",
       "      <td>0.673181</td>\n",
       "    </tr>\n",
       "    <tr>\n",
       "      <th>365</th>\n",
       "      <td>-0.138456</td>\n",
       "      <td>-1.224298</td>\n",
       "      <td>-0.209023</td>\n",
       "      <td>-0.850520</td>\n",
       "    </tr>\n",
       "    <tr>\n",
       "      <th>366</th>\n",
       "      <td>-0.580523</td>\n",
       "      <td>0.588578</td>\n",
       "      <td>1.669905</td>\n",
       "      <td>0.394672</td>\n",
       "    </tr>\n",
       "    <tr>\n",
       "      <th>367</th>\n",
       "      <td>-1.195883</td>\n",
       "      <td>0.444603</td>\n",
       "      <td>1.196631</td>\n",
       "      <td>-0.609783</td>\n",
       "    </tr>\n",
       "    <tr>\n",
       "      <th>370</th>\n",
       "      <td>0.722381</td>\n",
       "      <td>-0.372833</td>\n",
       "      <td>1.726964</td>\n",
       "      <td>-0.399636</td>\n",
       "    </tr>\n",
       "    <tr>\n",
       "      <th>371</th>\n",
       "      <td>0.224685</td>\n",
       "      <td>0.932591</td>\n",
       "      <td>-1.418366</td>\n",
       "      <td>-1.760809</td>\n",
       "    </tr>\n",
       "    <tr>\n",
       "      <th>372</th>\n",
       "      <td>-1.525656</td>\n",
       "      <td>1.262584</td>\n",
       "      <td>-0.551858</td>\n",
       "      <td>2.558199</td>\n",
       "    </tr>\n",
       "    <tr>\n",
       "      <th>373</th>\n",
       "      <td>-0.564248</td>\n",
       "      <td>0.184551</td>\n",
       "      <td>1.542110</td>\n",
       "      <td>2.006093</td>\n",
       "    </tr>\n",
       "    <tr>\n",
       "      <th>374</th>\n",
       "      <td>2.061504</td>\n",
       "      <td>1.208366</td>\n",
       "      <td>1.024063</td>\n",
       "      <td>0.592527</td>\n",
       "    </tr>\n",
       "    <tr>\n",
       "      <th>377</th>\n",
       "      <td>0.088407</td>\n",
       "      <td>1.477530</td>\n",
       "      <td>-1.141689</td>\n",
       "      <td>-0.193659</td>\n",
       "    </tr>\n",
       "    <tr>\n",
       "      <th>378</th>\n",
       "      <td>-0.716822</td>\n",
       "      <td>-1.866537</td>\n",
       "      <td>-0.082681</td>\n",
       "      <td>-0.121748</td>\n",
       "    </tr>\n",
       "    <tr>\n",
       "      <th>379</th>\n",
       "      <td>1.513450</td>\n",
       "      <td>0.630812</td>\n",
       "      <td>-1.024187</td>\n",
       "      <td>1.854093</td>\n",
       "    </tr>\n",
       "    <tr>\n",
       "      <th>380</th>\n",
       "      <td>1.221034</td>\n",
       "      <td>0.582098</td>\n",
       "      <td>-0.226484</td>\n",
       "      <td>-0.959439</td>\n",
       "    </tr>\n",
       "    <tr>\n",
       "      <th>381</th>\n",
       "      <td>-0.372207</td>\n",
       "      <td>1.088749</td>\n",
       "      <td>1.884586</td>\n",
       "      <td>1.543244</td>\n",
       "    </tr>\n",
       "    <tr>\n",
       "      <th>382</th>\n",
       "      <td>-0.488849</td>\n",
       "      <td>-1.119617</td>\n",
       "      <td>0.140886</td>\n",
       "      <td>-1.768439</td>\n",
       "    </tr>\n",
       "    <tr>\n",
       "      <th>383</th>\n",
       "      <td>0.323168</td>\n",
       "      <td>-0.147603</td>\n",
       "      <td>-0.466037</td>\n",
       "      <td>-1.594703</td>\n",
       "    </tr>\n",
       "    <tr>\n",
       "      <th>384</th>\n",
       "      <td>0.513600</td>\n",
       "      <td>-0.532701</td>\n",
       "      <td>-1.169917</td>\n",
       "      <td>-2.872262</td>\n",
       "    </tr>\n",
       "    <tr>\n",
       "      <th>385</th>\n",
       "      <td>-0.027515</td>\n",
       "      <td>1.772252</td>\n",
       "      <td>1.661259</td>\n",
       "      <td>-0.457096</td>\n",
       "    </tr>\n",
       "    <tr>\n",
       "      <th>387</th>\n",
       "      <td>0.766080</td>\n",
       "      <td>1.226933</td>\n",
       "      <td>-0.100154</td>\n",
       "      <td>-0.203674</td>\n",
       "    </tr>\n",
       "    <tr>\n",
       "      <th>389</th>\n",
       "      <td>0.913585</td>\n",
       "      <td>-0.803179</td>\n",
       "      <td>1.492689</td>\n",
       "      <td>-0.271124</td>\n",
       "    </tr>\n",
       "    <tr>\n",
       "      <th>390</th>\n",
       "      <td>-0.021367</td>\n",
       "      <td>-0.747212</td>\n",
       "      <td>-2.424240</td>\n",
       "      <td>0.884045</td>\n",
       "    </tr>\n",
       "    <tr>\n",
       "      <th>392</th>\n",
       "      <td>-1.562546</td>\n",
       "      <td>-0.529053</td>\n",
       "      <td>0.794265</td>\n",
       "      <td>-1.254289</td>\n",
       "    </tr>\n",
       "    <tr>\n",
       "      <th>393</th>\n",
       "      <td>0.293558</td>\n",
       "      <td>-1.356582</td>\n",
       "      <td>0.466430</td>\n",
       "      <td>-0.035641</td>\n",
       "    </tr>\n",
       "    <tr>\n",
       "      <th>394</th>\n",
       "      <td>-1.615132</td>\n",
       "      <td>1.164739</td>\n",
       "      <td>-0.734592</td>\n",
       "      <td>-0.810252</td>\n",
       "    </tr>\n",
       "    <tr>\n",
       "      <th>395</th>\n",
       "      <td>0.200569</td>\n",
       "      <td>1.148637</td>\n",
       "      <td>-1.015822</td>\n",
       "      <td>0.061680</td>\n",
       "    </tr>\n",
       "    <tr>\n",
       "      <th>397</th>\n",
       "      <td>-0.827590</td>\n",
       "      <td>0.086144</td>\n",
       "      <td>-1.072139</td>\n",
       "      <td>-2.921350</td>\n",
       "    </tr>\n",
       "    <tr>\n",
       "      <th>398</th>\n",
       "      <td>0.436560</td>\n",
       "      <td>0.903935</td>\n",
       "      <td>-2.362932</td>\n",
       "      <td>-1.009731</td>\n",
       "    </tr>\n",
       "    <tr>\n",
       "      <th>399</th>\n",
       "      <td>0.619154</td>\n",
       "      <td>2.057495</td>\n",
       "      <td>0.020794</td>\n",
       "      <td>-0.728003</td>\n",
       "    </tr>\n",
       "  </tbody>\n",
       "</table>\n",
       "<p>306 rows × 4 columns</p>\n",
       "</div>"
      ],
      "text/plain": [
       "            a         b         c         d\n",
       "0    0.496714 -0.138264  0.647689  1.523030\n",
       "1   -0.234153 -0.234137  1.579213  0.767435\n",
       "3    0.241962 -1.913280 -1.724918 -0.562288\n",
       "4   -1.012831  0.314247 -0.908024 -1.412304\n",
       "5    1.465649 -0.225776  0.067528 -1.424748\n",
       "6   -0.544383  0.110923 -1.150994  0.375698\n",
       "7   -0.600639 -0.291694 -0.601707  1.852278\n",
       "8   -0.013497 -1.057711  0.822545 -1.220844\n",
       "9    0.208864 -1.959670 -1.328186  0.196861\n",
       "11  -1.478522 -0.719844 -0.460639  1.057122\n",
       "12   0.343618 -1.763040  0.324084 -0.385082\n",
       "13  -0.676922  0.611676  1.031000  0.931280\n",
       "15  -0.479174 -0.185659 -1.106335 -1.196207\n",
       "16   0.812526  1.356240 -0.072010  1.003533\n",
       "17   0.361636 -0.645120  0.361396  1.538037\n",
       "18  -0.035826  1.564644 -2.619745  0.821903\n",
       "19   0.087047 -0.299007  0.091761 -1.987569\n",
       "20  -0.219672  0.357113  1.477894 -0.518270\n",
       "23  -0.702053 -0.327662 -0.392108 -1.463515\n",
       "25  -1.415371 -0.420645 -0.342715 -0.802277\n",
       "26  -0.161286  0.404051  1.886186  0.174578\n",
       "27   0.257550 -0.074446 -1.918771 -0.026514\n",
       "28   0.060230  2.463242 -0.192361  0.301547\n",
       "29  -0.034712 -1.168678  1.142823  0.751933\n",
       "30   0.791032 -0.909387  1.402794 -1.401851\n",
       "31   0.586857  2.190456 -0.990536 -0.566298\n",
       "32   0.099651 -0.503476 -1.550663  0.068563\n",
       "33  -1.062304  0.473592 -0.919424  1.549934\n",
       "34  -0.783253 -0.322062  0.813517 -1.230864\n",
       "35   0.227460  1.307143 -1.607483  0.184634\n",
       "..        ...       ...       ...       ...\n",
       "362  1.238283  0.021272  0.308833  1.702215\n",
       "363  0.240753  2.601683  0.565510 -1.760763\n",
       "364  0.753342  0.381158  1.289753  0.673181\n",
       "365 -0.138456 -1.224298 -0.209023 -0.850520\n",
       "366 -0.580523  0.588578  1.669905  0.394672\n",
       "367 -1.195883  0.444603  1.196631 -0.609783\n",
       "370  0.722381 -0.372833  1.726964 -0.399636\n",
       "371  0.224685  0.932591 -1.418366 -1.760809\n",
       "372 -1.525656  1.262584 -0.551858  2.558199\n",
       "373 -0.564248  0.184551  1.542110  2.006093\n",
       "374  2.061504  1.208366  1.024063  0.592527\n",
       "377  0.088407  1.477530 -1.141689 -0.193659\n",
       "378 -0.716822 -1.866537 -0.082681 -0.121748\n",
       "379  1.513450  0.630812 -1.024187  1.854093\n",
       "380  1.221034  0.582098 -0.226484 -0.959439\n",
       "381 -0.372207  1.088749  1.884586  1.543244\n",
       "382 -0.488849 -1.119617  0.140886 -1.768439\n",
       "383  0.323168 -0.147603 -0.466037 -1.594703\n",
       "384  0.513600 -0.532701 -1.169917 -2.872262\n",
       "385 -0.027515  1.772252  1.661259 -0.457096\n",
       "387  0.766080  1.226933 -0.100154 -0.203674\n",
       "389  0.913585 -0.803179  1.492689 -0.271124\n",
       "390 -0.021367 -0.747212 -2.424240  0.884045\n",
       "392 -1.562546 -0.529053  0.794265 -1.254289\n",
       "393  0.293558 -1.356582  0.466430 -0.035641\n",
       "394 -1.615132  1.164739 -0.734592 -0.810252\n",
       "395  0.200569  1.148637 -1.015822  0.061680\n",
       "397 -0.827590  0.086144 -1.072139 -2.921350\n",
       "398  0.436560  0.903935 -2.362932 -1.009731\n",
       "399  0.619154  2.057495  0.020794 -0.728003\n",
       "\n",
       "[306 rows x 4 columns]"
      ]
     },
     "execution_count": 109,
     "metadata": {},
     "output_type": "execute_result"
    }
   ],
   "source": [
    "randomdata.query('a > 1 | a < -1 |b > 1 | b < -1 |c > 1 | c < -1 |d > 1 | d < -1')"
   ]
  },
  {
   "cell_type": "markdown",
   "metadata": {},
   "source": [
    "**29) Set the values greater than 3 to 3, and the values less than -3 to -3.  Rerun the 'describe' function to summarize the randomdata dataset.**"
   ]
  },
  {
   "cell_type": "code",
   "execution_count": 122,
   "metadata": {},
   "outputs": [
    {
     "data": {
      "text/html": [
       "<div>\n",
       "<style>\n",
       "    .dataframe thead tr:only-child th {\n",
       "        text-align: right;\n",
       "    }\n",
       "\n",
       "    .dataframe thead th {\n",
       "        text-align: left;\n",
       "    }\n",
       "\n",
       "    .dataframe tbody tr th {\n",
       "        vertical-align: top;\n",
       "    }\n",
       "</style>\n",
       "<table border=\"1\" class=\"dataframe\">\n",
       "  <thead>\n",
       "    <tr style=\"text-align: right;\">\n",
       "      <th></th>\n",
       "      <th>a</th>\n",
       "      <th>b</th>\n",
       "      <th>c</th>\n",
       "      <th>d</th>\n",
       "    </tr>\n",
       "  </thead>\n",
       "  <tbody>\n",
       "    <tr>\n",
       "      <th>count</th>\n",
       "      <td>400.000000</td>\n",
       "      <td>400.000000</td>\n",
       "      <td>400.000000</td>\n",
       "      <td>400.000000</td>\n",
       "    </tr>\n",
       "    <tr>\n",
       "      <th>mean</th>\n",
       "      <td>0.035296</td>\n",
       "      <td>0.039070</td>\n",
       "      <td>0.047119</td>\n",
       "      <td>0.035939</td>\n",
       "    </tr>\n",
       "    <tr>\n",
       "      <th>std</th>\n",
       "      <td>0.924153</td>\n",
       "      <td>1.020970</td>\n",
       "      <td>0.995301</td>\n",
       "      <td>1.024632</td>\n",
       "    </tr>\n",
       "    <tr>\n",
       "      <th>min</th>\n",
       "      <td>-2.650970</td>\n",
       "      <td>-2.896255</td>\n",
       "      <td>-3.000000</td>\n",
       "      <td>-2.921350</td>\n",
       "    </tr>\n",
       "    <tr>\n",
       "      <th>25%</th>\n",
       "      <td>-0.612942</td>\n",
       "      <td>-0.651856</td>\n",
       "      <td>-0.602684</td>\n",
       "      <td>-0.683766</td>\n",
       "    </tr>\n",
       "    <tr>\n",
       "      <th>50%</th>\n",
       "      <td>0.052292</td>\n",
       "      <td>0.037928</td>\n",
       "      <td>0.036043</td>\n",
       "      <td>0.047190</td>\n",
       "    </tr>\n",
       "    <tr>\n",
       "      <th>75%</th>\n",
       "      <td>0.634986</td>\n",
       "      <td>0.676014</td>\n",
       "      <td>0.652834</td>\n",
       "      <td>0.744011</td>\n",
       "    </tr>\n",
       "    <tr>\n",
       "      <th>max</th>\n",
       "      <td>2.526932</td>\n",
       "      <td>3.000000</td>\n",
       "      <td>3.000000</td>\n",
       "      <td>2.720169</td>\n",
       "    </tr>\n",
       "  </tbody>\n",
       "</table>\n",
       "</div>"
      ],
      "text/plain": [
       "                a           b           c           d\n",
       "count  400.000000  400.000000  400.000000  400.000000\n",
       "mean     0.035296    0.039070    0.047119    0.035939\n",
       "std      0.924153    1.020970    0.995301    1.024632\n",
       "min     -2.650970   -2.896255   -3.000000   -2.921350\n",
       "25%     -0.612942   -0.651856   -0.602684   -0.683766\n",
       "50%      0.052292    0.037928    0.036043    0.047190\n",
       "75%      0.634986    0.676014    0.652834    0.744011\n",
       "max      2.526932    3.000000    3.000000    2.720169"
      ]
     },
     "execution_count": 122,
     "metadata": {},
     "output_type": "execute_result"
    }
   ],
   "source": [
    "randomdata.loc[(randomdata['a']>3),'a']= 3\n",
    "randomdata.loc [(randomdata['a']<-3), 'a']= -3\n",
    "randomdata.loc[(randomdata['b']>3),'b']= 3\n",
    "randomdata.loc[(randomdata['b']<-3), 'b']= -3\n",
    "randomdata.loc[(randomdata['c']>3),'c']= 3\n",
    "randomdata.loc[(randomdata['c']<-3), 'c']= -3\n",
    "randomdata.loc[(randomdata['d']>3),'d']= 3\n",
    "randomdata.loc[(randomdata['d']<-3), 'd']= -3\n",
    "randomdata.describe()"
   ]
  },
  {
   "cell_type": "markdown",
   "metadata": {},
   "source": [
    "***Use the dataframe defined in the following cell to answer the next few questions***: "
   ]
  },
  {
   "cell_type": "code",
   "execution_count": 124,
   "metadata": {
    "scrolled": true
   },
   "outputs": [
    {
     "data": {
      "text/html": [
       "<div>\n",
       "<style>\n",
       "    .dataframe thead tr:only-child th {\n",
       "        text-align: right;\n",
       "    }\n",
       "\n",
       "    .dataframe thead th {\n",
       "        text-align: left;\n",
       "    }\n",
       "\n",
       "    .dataframe tbody tr th {\n",
       "        vertical-align: top;\n",
       "    }\n",
       "</style>\n",
       "<table border=\"1\" class=\"dataframe\">\n",
       "  <thead>\n",
       "    <tr style=\"text-align: right;\">\n",
       "      <th></th>\n",
       "      <th>GrossIn</th>\n",
       "      <th>GrossOut</th>\n",
       "      <th>NetIn</th>\n",
       "      <th>NetOut</th>\n",
       "    </tr>\n",
       "  </thead>\n",
       "  <tbody>\n",
       "    <tr>\n",
       "      <th>2015-11-29</th>\n",
       "      <td>-0.182896</td>\n",
       "      <td>1.374876</td>\n",
       "      <td>-0.645964</td>\n",
       "      <td>-0.799192</td>\n",
       "    </tr>\n",
       "    <tr>\n",
       "      <th>2015-12-06</th>\n",
       "      <td>-0.482744</td>\n",
       "      <td>-0.953329</td>\n",
       "      <td>0.122670</td>\n",
       "      <td>1.624678</td>\n",
       "    </tr>\n",
       "    <tr>\n",
       "      <th>2015-12-13</th>\n",
       "      <td>0.323079</td>\n",
       "      <td>-0.252354</td>\n",
       "      <td>-0.291811</td>\n",
       "      <td>-1.563191</td>\n",
       "    </tr>\n",
       "    <tr>\n",
       "      <th>2015-12-20</th>\n",
       "      <td>0.883110</td>\n",
       "      <td>-0.077837</td>\n",
       "      <td>-0.180480</td>\n",
       "      <td>3.193108</td>\n",
       "    </tr>\n",
       "    <tr>\n",
       "      <th>2015-12-27</th>\n",
       "      <td>0.298753</td>\n",
       "      <td>-0.751791</td>\n",
       "      <td>-0.426358</td>\n",
       "      <td>1.148446</td>\n",
       "    </tr>\n",
       "    <tr>\n",
       "      <th>2016-01-03</th>\n",
       "      <td>0.113270</td>\n",
       "      <td>-1.438278</td>\n",
       "      <td>0.919229</td>\n",
       "      <td>-0.668144</td>\n",
       "    </tr>\n",
       "    <tr>\n",
       "      <th>2016-01-10</th>\n",
       "      <td>1.873298</td>\n",
       "      <td>1.080048</td>\n",
       "      <td>-0.447322</td>\n",
       "      <td>1.281016</td>\n",
       "    </tr>\n",
       "    <tr>\n",
       "      <th>2016-01-17</th>\n",
       "      <td>0.067856</td>\n",
       "      <td>0.852774</td>\n",
       "      <td>0.484733</td>\n",
       "      <td>-0.846357</td>\n",
       "    </tr>\n",
       "    <tr>\n",
       "      <th>2016-01-24</th>\n",
       "      <td>-0.643550</td>\n",
       "      <td>1.029961</td>\n",
       "      <td>-0.334775</td>\n",
       "      <td>-0.403648</td>\n",
       "    </tr>\n",
       "    <tr>\n",
       "      <th>2016-01-31</th>\n",
       "      <td>-0.955123</td>\n",
       "      <td>0.423599</td>\n",
       "      <td>2.062525</td>\n",
       "      <td>-1.067533</td>\n",
       "    </tr>\n",
       "    <tr>\n",
       "      <th>2016-02-07</th>\n",
       "      <td>0.024219</td>\n",
       "      <td>1.412221</td>\n",
       "      <td>-0.079641</td>\n",
       "      <td>0.452372</td>\n",
       "    </tr>\n",
       "    <tr>\n",
       "      <th>2016-02-14</th>\n",
       "      <td>-1.062394</td>\n",
       "      <td>0.428307</td>\n",
       "      <td>-0.187144</td>\n",
       "      <td>0.985730</td>\n",
       "    </tr>\n",
       "    <tr>\n",
       "      <th>2016-02-21</th>\n",
       "      <td>1.187386</td>\n",
       "      <td>2.589564</td>\n",
       "      <td>0.579633</td>\n",
       "      <td>0.325796</td>\n",
       "    </tr>\n",
       "    <tr>\n",
       "      <th>2016-02-28</th>\n",
       "      <td>0.194384</td>\n",
       "      <td>-0.353166</td>\n",
       "      <td>0.338484</td>\n",
       "      <td>-0.295401</td>\n",
       "    </tr>\n",
       "    <tr>\n",
       "      <th>2016-03-06</th>\n",
       "      <td>0.168461</td>\n",
       "      <td>1.317598</td>\n",
       "      <td>-1.006543</td>\n",
       "      <td>1.139879</td>\n",
       "    </tr>\n",
       "    <tr>\n",
       "      <th>2016-03-13</th>\n",
       "      <td>1.317115</td>\n",
       "      <td>-0.118069</td>\n",
       "      <td>-2.121855</td>\n",
       "      <td>-0.607822</td>\n",
       "    </tr>\n",
       "    <tr>\n",
       "      <th>2016-03-20</th>\n",
       "      <td>1.296995</td>\n",
       "      <td>-0.022868</td>\n",
       "      <td>-0.999302</td>\n",
       "      <td>-0.504775</td>\n",
       "    </tr>\n",
       "    <tr>\n",
       "      <th>2016-03-27</th>\n",
       "      <td>0.840620</td>\n",
       "      <td>0.546734</td>\n",
       "      <td>-0.238932</td>\n",
       "      <td>-0.366824</td>\n",
       "    </tr>\n",
       "    <tr>\n",
       "      <th>2016-04-03</th>\n",
       "      <td>-0.391758</td>\n",
       "      <td>-0.922410</td>\n",
       "      <td>1.615376</td>\n",
       "      <td>-0.322320</td>\n",
       "    </tr>\n",
       "    <tr>\n",
       "      <th>2016-04-10</th>\n",
       "      <td>1.217159</td>\n",
       "      <td>1.521316</td>\n",
       "      <td>0.998311</td>\n",
       "      <td>-0.431620</td>\n",
       "    </tr>\n",
       "    <tr>\n",
       "      <th>2016-04-17</th>\n",
       "      <td>0.403730</td>\n",
       "      <td>-0.024196</td>\n",
       "      <td>-0.903702</td>\n",
       "      <td>0.324359</td>\n",
       "    </tr>\n",
       "    <tr>\n",
       "      <th>2016-04-24</th>\n",
       "      <td>-1.179040</td>\n",
       "      <td>1.187679</td>\n",
       "      <td>-0.464617</td>\n",
       "      <td>0.201160</td>\n",
       "    </tr>\n",
       "    <tr>\n",
       "      <th>2016-05-01</th>\n",
       "      <td>0.283288</td>\n",
       "      <td>-0.258905</td>\n",
       "      <td>0.586694</td>\n",
       "      <td>-0.474904</td>\n",
       "    </tr>\n",
       "    <tr>\n",
       "      <th>2016-05-08</th>\n",
       "      <td>0.871297</td>\n",
       "      <td>-1.345980</td>\n",
       "      <td>0.126380</td>\n",
       "      <td>1.938929</td>\n",
       "    </tr>\n",
       "    <tr>\n",
       "      <th>2016-05-15</th>\n",
       "      <td>-1.000331</td>\n",
       "      <td>-0.677745</td>\n",
       "      <td>0.513908</td>\n",
       "      <td>0.179582</td>\n",
       "    </tr>\n",
       "    <tr>\n",
       "      <th>2016-05-22</th>\n",
       "      <td>0.350630</td>\n",
       "      <td>0.489187</td>\n",
       "      <td>0.634721</td>\n",
       "      <td>1.109700</td>\n",
       "    </tr>\n",
       "    <tr>\n",
       "      <th>2016-05-29</th>\n",
       "      <td>0.409819</td>\n",
       "      <td>-0.241258</td>\n",
       "      <td>0.672574</td>\n",
       "      <td>1.899882</td>\n",
       "    </tr>\n",
       "    <tr>\n",
       "      <th>2016-06-05</th>\n",
       "      <td>-0.132634</td>\n",
       "      <td>-0.974529</td>\n",
       "      <td>1.107081</td>\n",
       "      <td>-0.120381</td>\n",
       "    </tr>\n",
       "    <tr>\n",
       "      <th>2016-06-12</th>\n",
       "      <td>-2.172670</td>\n",
       "      <td>0.847422</td>\n",
       "      <td>-0.535328</td>\n",
       "      <td>-0.090533</td>\n",
       "    </tr>\n",
       "    <tr>\n",
       "      <th>2016-06-19</th>\n",
       "      <td>0.331980</td>\n",
       "      <td>0.190500</td>\n",
       "      <td>0.709452</td>\n",
       "      <td>-0.435486</td>\n",
       "    </tr>\n",
       "    <tr>\n",
       "      <th>2016-06-26</th>\n",
       "      <td>0.513106</td>\n",
       "      <td>-0.259547</td>\n",
       "      <td>0.738810</td>\n",
       "      <td>0.615367</td>\n",
       "    </tr>\n",
       "    <tr>\n",
       "      <th>2016-07-03</th>\n",
       "      <td>-0.935439</td>\n",
       "      <td>1.085982</td>\n",
       "      <td>-0.535963</td>\n",
       "      <td>0.808058</td>\n",
       "    </tr>\n",
       "    <tr>\n",
       "      <th>2016-07-10</th>\n",
       "      <td>0.367287</td>\n",
       "      <td>1.838184</td>\n",
       "      <td>-0.223466</td>\n",
       "      <td>-0.349317</td>\n",
       "    </tr>\n",
       "    <tr>\n",
       "      <th>2016-07-17</th>\n",
       "      <td>-0.019420</td>\n",
       "      <td>-0.303180</td>\n",
       "      <td>0.799942</td>\n",
       "      <td>-1.616311</td>\n",
       "    </tr>\n",
       "    <tr>\n",
       "      <th>2016-07-24</th>\n",
       "      <td>-1.053682</td>\n",
       "      <td>-1.067803</td>\n",
       "      <td>0.950308</td>\n",
       "      <td>1.710613</td>\n",
       "    </tr>\n",
       "    <tr>\n",
       "      <th>2016-07-31</th>\n",
       "      <td>-0.104449</td>\n",
       "      <td>-0.168822</td>\n",
       "      <td>0.070052</td>\n",
       "      <td>1.161878</td>\n",
       "    </tr>\n",
       "    <tr>\n",
       "      <th>2016-08-07</th>\n",
       "      <td>-0.927353</td>\n",
       "      <td>0.238369</td>\n",
       "      <td>0.975198</td>\n",
       "      <td>0.501094</td>\n",
       "    </tr>\n",
       "    <tr>\n",
       "      <th>2016-08-14</th>\n",
       "      <td>0.189582</td>\n",
       "      <td>1.001046</td>\n",
       "      <td>-2.703232</td>\n",
       "      <td>0.677875</td>\n",
       "    </tr>\n",
       "    <tr>\n",
       "      <th>2016-08-21</th>\n",
       "      <td>-0.654076</td>\n",
       "      <td>-1.830633</td>\n",
       "      <td>0.511203</td>\n",
       "      <td>1.373659</td>\n",
       "    </tr>\n",
       "    <tr>\n",
       "      <th>2016-08-28</th>\n",
       "      <td>-0.137449</td>\n",
       "      <td>0.952875</td>\n",
       "      <td>1.612278</td>\n",
       "      <td>1.314914</td>\n",
       "    </tr>\n",
       "    <tr>\n",
       "      <th>2016-09-04</th>\n",
       "      <td>1.639965</td>\n",
       "      <td>0.742127</td>\n",
       "      <td>0.075434</td>\n",
       "      <td>-1.601966</td>\n",
       "    </tr>\n",
       "    <tr>\n",
       "      <th>2016-09-11</th>\n",
       "      <td>-0.246062</td>\n",
       "      <td>-0.843247</td>\n",
       "      <td>2.170943</td>\n",
       "      <td>-0.175886</td>\n",
       "    </tr>\n",
       "    <tr>\n",
       "      <th>2016-09-18</th>\n",
       "      <td>0.123205</td>\n",
       "      <td>0.551485</td>\n",
       "      <td>0.043602</td>\n",
       "      <td>1.695051</td>\n",
       "    </tr>\n",
       "    <tr>\n",
       "      <th>2016-09-25</th>\n",
       "      <td>-0.622649</td>\n",
       "      <td>0.194607</td>\n",
       "      <td>-0.742471</td>\n",
       "      <td>-1.320023</td>\n",
       "    </tr>\n",
       "    <tr>\n",
       "      <th>2016-10-02</th>\n",
       "      <td>-0.611769</td>\n",
       "      <td>-0.037037</td>\n",
       "      <td>-0.429302</td>\n",
       "      <td>-0.692421</td>\n",
       "    </tr>\n",
       "    <tr>\n",
       "      <th>2016-10-09</th>\n",
       "      <td>-1.406317</td>\n",
       "      <td>-0.083106</td>\n",
       "      <td>-1.504720</td>\n",
       "      <td>0.760056</td>\n",
       "    </tr>\n",
       "    <tr>\n",
       "      <th>2016-10-16</th>\n",
       "      <td>0.082440</td>\n",
       "      <td>-1.457551</td>\n",
       "      <td>-0.309209</td>\n",
       "      <td>-0.752156</td>\n",
       "    </tr>\n",
       "    <tr>\n",
       "      <th>2016-10-23</th>\n",
       "      <td>0.319175</td>\n",
       "      <td>1.340450</td>\n",
       "      <td>-1.875172</td>\n",
       "      <td>0.115026</td>\n",
       "    </tr>\n",
       "    <tr>\n",
       "      <th>2016-10-30</th>\n",
       "      <td>-0.160133</td>\n",
       "      <td>0.671340</td>\n",
       "      <td>0.213197</td>\n",
       "      <td>-0.751969</td>\n",
       "    </tr>\n",
       "    <tr>\n",
       "      <th>2016-11-06</th>\n",
       "      <td>-0.319054</td>\n",
       "      <td>-0.796026</td>\n",
       "      <td>1.076007</td>\n",
       "      <td>0.021312</td>\n",
       "    </tr>\n",
       "    <tr>\n",
       "      <th>2016-11-13</th>\n",
       "      <td>1.901191</td>\n",
       "      <td>-0.060661</td>\n",
       "      <td>-0.708407</td>\n",
       "      <td>-1.513714</td>\n",
       "    </tr>\n",
       "    <tr>\n",
       "      <th>2016-11-20</th>\n",
       "      <td>-1.803140</td>\n",
       "      <td>-1.584136</td>\n",
       "      <td>0.267127</td>\n",
       "      <td>0.508725</td>\n",
       "    </tr>\n",
       "    <tr>\n",
       "      <th>2016-11-27</th>\n",
       "      <td>-1.581191</td>\n",
       "      <td>0.895038</td>\n",
       "      <td>-0.483061</td>\n",
       "      <td>0.146793</td>\n",
       "    </tr>\n",
       "    <tr>\n",
       "      <th>2016-12-04</th>\n",
       "      <td>1.612221</td>\n",
       "      <td>0.896839</td>\n",
       "      <td>-0.268531</td>\n",
       "      <td>-0.891192</td>\n",
       "    </tr>\n",
       "    <tr>\n",
       "      <th>2016-12-11</th>\n",
       "      <td>-2.151815</td>\n",
       "      <td>-0.719153</td>\n",
       "      <td>-0.211130</td>\n",
       "      <td>-0.987180</td>\n",
       "    </tr>\n",
       "    <tr>\n",
       "      <th>2016-12-18</th>\n",
       "      <td>-0.131257</td>\n",
       "      <td>0.076852</td>\n",
       "      <td>-0.224856</td>\n",
       "      <td>-0.650003</td>\n",
       "    </tr>\n",
       "    <tr>\n",
       "      <th>2016-12-25</th>\n",
       "      <td>0.168655</td>\n",
       "      <td>0.441941</td>\n",
       "      <td>-1.090399</td>\n",
       "      <td>1.410932</td>\n",
       "    </tr>\n",
       "    <tr>\n",
       "      <th>2017-01-01</th>\n",
       "      <td>-0.098588</td>\n",
       "      <td>0.018850</td>\n",
       "      <td>0.708214</td>\n",
       "      <td>0.233216</td>\n",
       "    </tr>\n",
       "    <tr>\n",
       "      <th>2017-01-08</th>\n",
       "      <td>0.953137</td>\n",
       "      <td>0.287124</td>\n",
       "      <td>-0.612437</td>\n",
       "      <td>0.361504</td>\n",
       "    </tr>\n",
       "  </tbody>\n",
       "</table>\n",
       "</div>"
      ],
      "text/plain": [
       "             GrossIn  GrossOut     NetIn    NetOut\n",
       "2015-11-29 -0.182896  1.374876 -0.645964 -0.799192\n",
       "2015-12-06 -0.482744 -0.953329  0.122670  1.624678\n",
       "2015-12-13  0.323079 -0.252354 -0.291811 -1.563191\n",
       "2015-12-20  0.883110 -0.077837 -0.180480  3.193108\n",
       "2015-12-27  0.298753 -0.751791 -0.426358  1.148446\n",
       "2016-01-03  0.113270 -1.438278  0.919229 -0.668144\n",
       "2016-01-10  1.873298  1.080048 -0.447322  1.281016\n",
       "2016-01-17  0.067856  0.852774  0.484733 -0.846357\n",
       "2016-01-24 -0.643550  1.029961 -0.334775 -0.403648\n",
       "2016-01-31 -0.955123  0.423599  2.062525 -1.067533\n",
       "2016-02-07  0.024219  1.412221 -0.079641  0.452372\n",
       "2016-02-14 -1.062394  0.428307 -0.187144  0.985730\n",
       "2016-02-21  1.187386  2.589564  0.579633  0.325796\n",
       "2016-02-28  0.194384 -0.353166  0.338484 -0.295401\n",
       "2016-03-06  0.168461  1.317598 -1.006543  1.139879\n",
       "2016-03-13  1.317115 -0.118069 -2.121855 -0.607822\n",
       "2016-03-20  1.296995 -0.022868 -0.999302 -0.504775\n",
       "2016-03-27  0.840620  0.546734 -0.238932 -0.366824\n",
       "2016-04-03 -0.391758 -0.922410  1.615376 -0.322320\n",
       "2016-04-10  1.217159  1.521316  0.998311 -0.431620\n",
       "2016-04-17  0.403730 -0.024196 -0.903702  0.324359\n",
       "2016-04-24 -1.179040  1.187679 -0.464617  0.201160\n",
       "2016-05-01  0.283288 -0.258905  0.586694 -0.474904\n",
       "2016-05-08  0.871297 -1.345980  0.126380  1.938929\n",
       "2016-05-15 -1.000331 -0.677745  0.513908  0.179582\n",
       "2016-05-22  0.350630  0.489187  0.634721  1.109700\n",
       "2016-05-29  0.409819 -0.241258  0.672574  1.899882\n",
       "2016-06-05 -0.132634 -0.974529  1.107081 -0.120381\n",
       "2016-06-12 -2.172670  0.847422 -0.535328 -0.090533\n",
       "2016-06-19  0.331980  0.190500  0.709452 -0.435486\n",
       "2016-06-26  0.513106 -0.259547  0.738810  0.615367\n",
       "2016-07-03 -0.935439  1.085982 -0.535963  0.808058\n",
       "2016-07-10  0.367287  1.838184 -0.223466 -0.349317\n",
       "2016-07-17 -0.019420 -0.303180  0.799942 -1.616311\n",
       "2016-07-24 -1.053682 -1.067803  0.950308  1.710613\n",
       "2016-07-31 -0.104449 -0.168822  0.070052  1.161878\n",
       "2016-08-07 -0.927353  0.238369  0.975198  0.501094\n",
       "2016-08-14  0.189582  1.001046 -2.703232  0.677875\n",
       "2016-08-21 -0.654076 -1.830633  0.511203  1.373659\n",
       "2016-08-28 -0.137449  0.952875  1.612278  1.314914\n",
       "2016-09-04  1.639965  0.742127  0.075434 -1.601966\n",
       "2016-09-11 -0.246062 -0.843247  2.170943 -0.175886\n",
       "2016-09-18  0.123205  0.551485  0.043602  1.695051\n",
       "2016-09-25 -0.622649  0.194607 -0.742471 -1.320023\n",
       "2016-10-02 -0.611769 -0.037037 -0.429302 -0.692421\n",
       "2016-10-09 -1.406317 -0.083106 -1.504720  0.760056\n",
       "2016-10-16  0.082440 -1.457551 -0.309209 -0.752156\n",
       "2016-10-23  0.319175  1.340450 -1.875172  0.115026\n",
       "2016-10-30 -0.160133  0.671340  0.213197 -0.751969\n",
       "2016-11-06 -0.319054 -0.796026  1.076007  0.021312\n",
       "2016-11-13  1.901191 -0.060661 -0.708407 -1.513714\n",
       "2016-11-20 -1.803140 -1.584136  0.267127  0.508725\n",
       "2016-11-27 -1.581191  0.895038 -0.483061  0.146793\n",
       "2016-12-04  1.612221  0.896839 -0.268531 -0.891192\n",
       "2016-12-11 -2.151815 -0.719153 -0.211130 -0.987180\n",
       "2016-12-18 -0.131257  0.076852 -0.224856 -0.650003\n",
       "2016-12-25  0.168655  0.441941 -1.090399  1.410932\n",
       "2017-01-01 -0.098588  0.018850  0.708214  0.233216\n",
       "2017-01-08  0.953137  0.287124 -0.612437  0.361504"
      ]
     },
     "execution_count": 124,
     "metadata": {},
     "output_type": "execute_result"
    }
   ],
   "source": [
    "df2 = pd.DataFrame(np.random.randn(59,4))\n",
    "cols = ['GrossIn', 'GrossOut', 'NetIn', 'NetOut']\n",
    "df2.columns = cols\n",
    "dates = pd.date_range(start='2015-11-29', freq='W', periods=59)\n",
    "df2.index = dates\n",
    "df2"
   ]
  },
  {
   "cell_type": "markdown",
   "metadata": {},
   "source": [
    "**30) Print all the data from 2016-06-19 to 2016-10-20 in df2 above.**"
   ]
  },
  {
   "cell_type": "code",
   "execution_count": 129,
   "metadata": {},
   "outputs": [
    {
     "name": "stdout",
     "output_type": "stream",
     "text": [
      "             GrossIn  GrossOut     NetIn    NetOut\n",
      "2016-06-19  0.331980  0.190500  0.709452 -0.435486\n",
      "2016-06-26  0.513106 -0.259547  0.738810  0.615367\n",
      "2016-07-03 -0.935439  1.085982 -0.535963  0.808058\n",
      "2016-07-10  0.367287  1.838184 -0.223466 -0.349317\n",
      "2016-07-17 -0.019420 -0.303180  0.799942 -1.616311\n",
      "2016-07-24 -1.053682 -1.067803  0.950308  1.710613\n",
      "2016-07-31 -0.104449 -0.168822  0.070052  1.161878\n",
      "2016-08-07 -0.927353  0.238369  0.975198  0.501094\n",
      "2016-08-14  0.189582  1.001046 -2.703232  0.677875\n",
      "2016-08-21 -0.654076 -1.830633  0.511203  1.373659\n",
      "2016-08-28 -0.137449  0.952875  1.612278  1.314914\n",
      "2016-09-04  1.639965  0.742127  0.075434 -1.601966\n",
      "2016-09-11 -0.246062 -0.843247  2.170943 -0.175886\n",
      "2016-09-18  0.123205  0.551485  0.043602  1.695051\n",
      "2016-09-25 -0.622649  0.194607 -0.742471 -1.320023\n",
      "2016-10-02 -0.611769 -0.037037 -0.429302 -0.692421\n",
      "2016-10-09 -1.406317 -0.083106 -1.504720  0.760056\n",
      "2016-10-16  0.082440 -1.457551 -0.309209 -0.752156\n"
     ]
    }
   ],
   "source": [
    "print(df2.loc['2016-06-19':'2016-10-20'])"
   ]
  },
  {
   "cell_type": "markdown",
   "metadata": {},
   "source": [
    "**31) What was the GrossIn and NetIn for 2016-09-18? Print the results. **"
   ]
  },
  {
   "cell_type": "code",
   "execution_count": 133,
   "metadata": {},
   "outputs": [
    {
     "name": "stdout",
     "output_type": "stream",
     "text": [
      "0.123204806784\n",
      "0.0436024463725\n"
     ]
    }
   ],
   "source": [
    "print (df2.loc['2016-09-18','GrossIn'])\n",
    "print (df2.loc['2016-09-18','NetIn'])"
   ]
  },
  {
   "cell_type": "markdown",
   "metadata": {},
   "source": [
    "**32) Sum all the GrossOut and NetOut for the month of March 2016 in df2. Print the results. **"
   ]
  },
  {
   "cell_type": "code",
   "execution_count": 135,
   "metadata": {},
   "outputs": [
    {
     "name": "stdout",
     "output_type": "stream",
     "text": [
      "0.405796978911\n",
      "-1.47942132014\n"
     ]
    }
   ],
   "source": [
    "df3 = df2.loc['2016-01-01':'2016-12-31']\n",
    "print df3 ['GrossOut'].sum()\n",
    "print df3 ['NetOut'].sum()"
   ]
  },
  {
   "cell_type": "markdown",
   "metadata": {},
   "source": [
    "**33) Find all the days GrossOut was greater than GrossIn in df2. Print the results.**"
   ]
  },
  {
   "cell_type": "code",
   "execution_count": 136,
   "metadata": {},
   "outputs": [
    {
     "name": "stdout",
     "output_type": "stream",
     "text": [
      "             GrossIn  GrossOut     NetIn    NetOut\n",
      "2015-11-29 -0.182896  1.374876 -0.645964 -0.799192\n",
      "2016-01-17  0.067856  0.852774  0.484733 -0.846357\n",
      "2016-01-24 -0.643550  1.029961 -0.334775 -0.403648\n",
      "2016-01-31 -0.955123  0.423599  2.062525 -1.067533\n",
      "2016-02-07  0.024219  1.412221 -0.079641  0.452372\n",
      "2016-02-14 -1.062394  0.428307 -0.187144  0.985730\n",
      "2016-02-21  1.187386  2.589564  0.579633  0.325796\n",
      "2016-03-06  0.168461  1.317598 -1.006543  1.139879\n",
      "2016-04-10  1.217159  1.521316  0.998311 -0.431620\n",
      "2016-04-24 -1.179040  1.187679 -0.464617  0.201160\n",
      "2016-05-15 -1.000331 -0.677745  0.513908  0.179582\n",
      "2016-05-22  0.350630  0.489187  0.634721  1.109700\n",
      "2016-06-12 -2.172670  0.847422 -0.535328 -0.090533\n",
      "2016-07-03 -0.935439  1.085982 -0.535963  0.808058\n",
      "2016-07-10  0.367287  1.838184 -0.223466 -0.349317\n",
      "2016-08-07 -0.927353  0.238369  0.975198  0.501094\n",
      "2016-08-14  0.189582  1.001046 -2.703232  0.677875\n",
      "2016-08-28 -0.137449  0.952875  1.612278  1.314914\n",
      "2016-09-18  0.123205  0.551485  0.043602  1.695051\n",
      "2016-09-25 -0.622649  0.194607 -0.742471 -1.320023\n",
      "2016-10-02 -0.611769 -0.037037 -0.429302 -0.692421\n",
      "2016-10-09 -1.406317 -0.083106 -1.504720  0.760056\n",
      "2016-10-23  0.319175  1.340450 -1.875172  0.115026\n",
      "2016-10-30 -0.160133  0.671340  0.213197 -0.751969\n",
      "2016-11-20 -1.803140 -1.584136  0.267127  0.508725\n",
      "2016-11-27 -1.581191  0.895038 -0.483061  0.146793\n",
      "2016-12-11 -2.151815 -0.719153 -0.211130 -0.987180\n",
      "2016-12-18 -0.131257  0.076852 -0.224856 -0.650003\n",
      "2016-12-25  0.168655  0.441941 -1.090399  1.410932\n",
      "2017-01-01 -0.098588  0.018850  0.708214  0.233216\n"
     ]
    }
   ],
   "source": [
    "print df2[df2.GrossOut > df2.GrossIn]"
   ]
  },
  {
   "cell_type": "markdown",
   "metadata": {},
   "source": [
    "**34) What percentage was the total NetOut of the total NetIn in the year 2016 from df2 above? **"
   ]
  },
  {
   "cell_type": "code",
   "execution_count": 144,
   "metadata": {},
   "outputs": [
    {
     "name": "stdout",
     "output_type": "stream",
     "text": [
      "212.30324323\n"
     ]
    }
   ],
   "source": [
    "df4= df2.loc['2016-01-01':'2016-12-31']\n",
    "x= df4['NetOut'].sum()\n",
    "y= df4['NetIn'].sum()\n",
    "z= (x/y)*100\n",
    "print z"
   ]
  },
  {
   "cell_type": "markdown",
   "metadata": {},
   "source": [
    "**35) Plot values for 2016 on a line graph for the GrossOut and GrossIn in df2:**"
   ]
  },
  {
   "cell_type": "code",
   "execution_count": 145,
   "metadata": {
    "collapsed": true
   },
   "outputs": [],
   "source": [
    "%matplotlib inline\n",
    "import numpy as np\n",
    "import pandas as pd\n",
    "import matplotlib.pyplot as plt"
   ]
  },
  {
   "cell_type": "code",
   "execution_count": 151,
   "metadata": {},
   "outputs": [
    {
     "data": {
      "text/plain": [
       "<matplotlib.axes._subplots.AxesSubplot at 0x7f8ced514f10>"
      ]
     },
     "execution_count": 151,
     "metadata": {},
     "output_type": "execute_result"
    },
    {
     "data": {
      "image/png": "[encoded data removed]",
      "text/plain": [
       "<matplotlib.figure.Figure at 0x7f8ced79ea50>"
      ]
     },
     "metadata": {},
     "output_type": "display_data"
    }
   ],
   "source": [
    "df4['GrossOut'].plot(kind='line', color='r')\n",
    "df4['GrossIn'].plot(kind='line', color='b')"
   ]
  },
  {
   "cell_type": "markdown",
   "metadata": {},
   "source": [
    "**36) Plot 4 different HISTOGRAMS of df2.GrossIn each having 5,10,15,20 bins.**<br> \n",
    "Hint: use the following code  to plot the histograms on different subplots. <br> \n",
    "\n",
    "import matplotlib.pyplot as plt<br> \n",
    "fig, ax = plt.subplots(nrows=2, ncols=2)<br> \n",
    "dataframe.plot(ax=ax[0,0])# this is just an example of how to plot on a top right subplot (2x2)"
   ]
  },
  {
   "cell_type": "code",
   "execution_count": 164,
   "metadata": {},
   "outputs": [
    {
     "data": {
      "text/plain": [
       "<matplotlib.axes._subplots.AxesSubplot at 0x7f8ce6a35890>"
      ]
     },
     "execution_count": 164,
     "metadata": {},
     "output_type": "execute_result"
    },
    {
     "data": {
      "image/png": "[encoded data removed]",
      "text/plain": [
       "<matplotlib.figure.Figure at 0x7f8ce6731810>"
      ]
     },
     "metadata": {},
     "output_type": "display_data"
    }
   ],
   "source": [
    "import matplotlib.pyplot as plt\n",
    "fig, ax = plt.subplots(nrows=2, ncols=2)\n",
    "df2.GrossIn.plot.hist(ax=ax[0,0],bins=5)\n",
    "df2.GrossIn.plot.hist(ax=ax[0,1],bins=10)\n",
    "df2.GrossIn.plot.hist(ax=ax[1,0],bins=15)\n",
    "df2.GrossIn.plot.hist(ax=ax[1,1],bins=20)"
   ]
  },
  {
   "cell_type": "markdown",
   "metadata": {},
   "source": [
    "**37) What is your favorite pizza topping? None is not a valid answer. I don't care if you are off gluten.**"
   ]
  },
  {
   "cell_type": "markdown",
   "metadata": {
    "collapsed": true
   },
   "source": [
    "Avocado ! (just joking- seemed appropriate consdering the flak millenials get about this). I guess Pineapple would be my answer( love the controversy around it though )"
   ]
  },
  {
   "cell_type": "markdown",
   "metadata": {},
   "source": [
    "**38) Import pandas libary with the alias pd**"
   ]
  },
  {
   "cell_type": "code",
   "execution_count": 165,
   "metadata": {
    "collapsed": true
   },
   "outputs": [],
   "source": [
    "import pandas as pd"
   ]
  },
  {
   "cell_type": "markdown",
   "metadata": {},
   "source": [
    "**39)You are given the Medicare spending dataset. Read it into a pandas dataframe. Then remove the 2 unused columns 'Measure Start Date' and 'Measure End Date' from the DataFrame all in the following cell. Provide your code as the answer. **\n",
    "\n",
    "***You need to put the data file ‘Medicare_Hospital_Spending_by_Claim.csv’ at the same place as your notebook file.***\n",
    "\n"
   ]
  },
  {
   "cell_type": "code",
   "execution_count": 179,
   "metadata": {},
   "outputs": [
    {
     "data": {
      "text/html": [
       "<div>\n",
       "<style>\n",
       "    .dataframe thead tr:only-child th {\n",
       "        text-align: right;\n",
       "    }\n",
       "\n",
       "    .dataframe thead th {\n",
       "        text-align: left;\n",
       "    }\n",
       "\n",
       "    .dataframe tbody tr th {\n",
       "        vertical-align: top;\n",
       "    }\n",
       "</style>\n",
       "<table border=\"1\" class=\"dataframe\">\n",
       "  <thead>\n",
       "    <tr style=\"text-align: right;\">\n",
       "      <th></th>\n",
       "      <th>Hospital Name</th>\n",
       "      <th>Provider Number</th>\n",
       "      <th>State</th>\n",
       "      <th>Period</th>\n",
       "      <th>Claim Type</th>\n",
       "      <th>Avg Spending Per Episode (Hospital)</th>\n",
       "      <th>Avg Spending Per Episode (State)</th>\n",
       "      <th>Avg Spending Per Episode (Nation)</th>\n",
       "      <th>Percent of Spending (Hospital)</th>\n",
       "      <th>Percent of Spending (State)</th>\n",
       "      <th>Percent of Spending (Nation)</th>\n",
       "    </tr>\n",
       "  </thead>\n",
       "  <tbody>\n",
       "    <tr>\n",
       "      <th>0</th>\n",
       "      <td>SOUTHEAST ALABAMA MEDICAL CENTER</td>\n",
       "      <td>10001</td>\n",
       "      <td>AL</td>\n",
       "      <td>1 to 3 days Prior to Index Hospital Admission</td>\n",
       "      <td>Home Health Agency</td>\n",
       "      <td>$12</td>\n",
       "      <td>$14</td>\n",
       "      <td>$13</td>\n",
       "      <td>0.06%</td>\n",
       "      <td>0.07%</td>\n",
       "      <td>0.07%</td>\n",
       "    </tr>\n",
       "    <tr>\n",
       "      <th>1</th>\n",
       "      <td>SOUTHEAST ALABAMA MEDICAL CENTER</td>\n",
       "      <td>10001</td>\n",
       "      <td>AL</td>\n",
       "      <td>1 to 3 days Prior to Index Hospital Admission</td>\n",
       "      <td>Hospice</td>\n",
       "      <td>$1</td>\n",
       "      <td>$1</td>\n",
       "      <td>$1</td>\n",
       "      <td>0.01%</td>\n",
       "      <td>0.01%</td>\n",
       "      <td>0%</td>\n",
       "    </tr>\n",
       "    <tr>\n",
       "      <th>2</th>\n",
       "      <td>SOUTHEAST ALABAMA MEDICAL CENTER</td>\n",
       "      <td>10001</td>\n",
       "      <td>AL</td>\n",
       "      <td>1 to 3 days Prior to Index Hospital Admission</td>\n",
       "      <td>Inpatient</td>\n",
       "      <td>$6</td>\n",
       "      <td>$6</td>\n",
       "      <td>$5</td>\n",
       "      <td>0.03%</td>\n",
       "      <td>0.03%</td>\n",
       "      <td>0.03%</td>\n",
       "    </tr>\n",
       "    <tr>\n",
       "      <th>3</th>\n",
       "      <td>SOUTHEAST ALABAMA MEDICAL CENTER</td>\n",
       "      <td>10001</td>\n",
       "      <td>AL</td>\n",
       "      <td>1 to 3 days Prior to Index Hospital Admission</td>\n",
       "      <td>Outpatient</td>\n",
       "      <td>$160</td>\n",
       "      <td>$85</td>\n",
       "      <td>$117</td>\n",
       "      <td>0.84%</td>\n",
       "      <td>0.46%</td>\n",
       "      <td>0.58%</td>\n",
       "    </tr>\n",
       "    <tr>\n",
       "      <th>4</th>\n",
       "      <td>SOUTHEAST ALABAMA MEDICAL CENTER</td>\n",
       "      <td>10001</td>\n",
       "      <td>AL</td>\n",
       "      <td>1 to 3 days Prior to Index Hospital Admission</td>\n",
       "      <td>Skilled Nursing Facility</td>\n",
       "      <td>$1</td>\n",
       "      <td>$2</td>\n",
       "      <td>$2</td>\n",
       "      <td>0.01%</td>\n",
       "      <td>0.01%</td>\n",
       "      <td>0.01%</td>\n",
       "    </tr>\n",
       "  </tbody>\n",
       "</table>\n",
       "</div>"
      ],
      "text/plain": [
       "                      Hospital Name  Provider Number  State  \\\n",
       "0  SOUTHEAST ALABAMA MEDICAL CENTER             10001    AL   \n",
       "1  SOUTHEAST ALABAMA MEDICAL CENTER             10001    AL   \n",
       "2  SOUTHEAST ALABAMA MEDICAL CENTER             10001    AL   \n",
       "3  SOUTHEAST ALABAMA MEDICAL CENTER             10001    AL   \n",
       "4  SOUTHEAST ALABAMA MEDICAL CENTER             10001    AL   \n",
       "\n",
       "                                          Period                Claim Type  \\\n",
       "0  1 to 3 days Prior to Index Hospital Admission        Home Health Agency   \n",
       "1  1 to 3 days Prior to Index Hospital Admission                   Hospice   \n",
       "2  1 to 3 days Prior to Index Hospital Admission                 Inpatient   \n",
       "3  1 to 3 days Prior to Index Hospital Admission                Outpatient   \n",
       "4  1 to 3 days Prior to Index Hospital Admission  Skilled Nursing Facility   \n",
       "\n",
       "  Avg Spending Per Episode (Hospital) Avg Spending Per Episode (State)  \\\n",
       "0                                 $12                              $14   \n",
       "1                                  $1                               $1   \n",
       "2                                  $6                               $6   \n",
       "3                                $160                              $85   \n",
       "4                                  $1                               $2   \n",
       "\n",
       "  Avg Spending Per Episode (Nation) Percent of Spending (Hospital)  \\\n",
       "0                               $13                          0.06%   \n",
       "1                                $1                          0.01%   \n",
       "2                                $5                          0.03%   \n",
       "3                              $117                          0.84%   \n",
       "4                                $2                          0.01%   \n",
       "\n",
       "  Percent of Spending (State) Percent of Spending (Nation)  \n",
       "0                       0.07%                        0.07%  \n",
       "1                       0.01%                           0%  \n",
       "2                       0.03%                        0.03%  \n",
       "3                       0.46%                        0.58%  \n",
       "4                       0.01%                        0.01%  "
      ]
     },
     "execution_count": 179,
     "metadata": {},
     "output_type": "execute_result"
    }
   ],
   "source": [
    "d = pd.read_csv('../bigdatamidterm/Medicare_Hospital_Spending_by_Claim.csv')\n",
    "d1= d.drop('Measure Start Date',axis=1)\n",
    "d2= d1.drop('Measure End Date',axis=1)\n",
    "d2.head()\n"
   ]
  },
  {
   "cell_type": "markdown",
   "metadata": {},
   "source": [
    "**40) Replace columns names...replace the original long column names in the dataframe above (Q - 39) with shorter ones provided below in \"newColumns\".  Provide your code and the resulting new column names as the answer.**\n",
    "<br/>\n",
    "newColumns = ['Hospital', 'Provider ID', 'State', 'Period', 'Claim Type', 'Avg Spending Hospital', 'Avg Spending State', 'Avg Spending Nation', 'Percent Spending Hospital', 'Percent Spending State', 'Percent Spending Nation']"
   ]
  },
  {
   "cell_type": "code",
   "execution_count": 181,
   "metadata": {},
   "outputs": [
    {
     "name": "stdout",
     "output_type": "stream",
     "text": [
      "Index([u'Hospital Name', u'Provider Number ', u'State', u'Period',\n",
      "       u'Claim Type', u'Avg Spending Per Episode (Hospital)',\n",
      "       u'Avg Spending Per Episode (State)',\n",
      "       u'Avg Spending Per Episode (Nation)', u'Percent of Spending (Hospital)',\n",
      "       u'Percent of Spending (State)', u'Percent of Spending (Nation)'],\n",
      "      dtype='object')\n"
     ]
    }
   ],
   "source": [
    "print d2.columns"
   ]
  },
  {
   "cell_type": "code",
   "execution_count": 187,
   "metadata": {},
   "outputs": [
    {
     "data": {
      "text/html": [
       "<div>\n",
       "<style>\n",
       "    .dataframe thead tr:only-child th {\n",
       "        text-align: right;\n",
       "    }\n",
       "\n",
       "    .dataframe thead th {\n",
       "        text-align: left;\n",
       "    }\n",
       "\n",
       "    .dataframe tbody tr th {\n",
       "        vertical-align: top;\n",
       "    }\n",
       "</style>\n",
       "<table border=\"1\" class=\"dataframe\">\n",
       "  <thead>\n",
       "    <tr style=\"text-align: right;\">\n",
       "      <th></th>\n",
       "      <th>Hospital</th>\n",
       "      <th>Provider Number</th>\n",
       "      <th>State</th>\n",
       "      <th>Period</th>\n",
       "      <th>Claim Type</th>\n",
       "      <th>Avg Spending Hospital</th>\n",
       "      <th>Avg Spending State</th>\n",
       "      <th>Avg Spending Nation</th>\n",
       "      <th>Percent Spending Hospital</th>\n",
       "      <th>Percent Spending State</th>\n",
       "      <th>Percent Spending Nation</th>\n",
       "    </tr>\n",
       "  </thead>\n",
       "  <tbody>\n",
       "    <tr>\n",
       "      <th>0</th>\n",
       "      <td>SOUTHEAST ALABAMA MEDICAL CENTER</td>\n",
       "      <td>10001</td>\n",
       "      <td>AL</td>\n",
       "      <td>1 to 3 days Prior to Index Hospital Admission</td>\n",
       "      <td>Home Health Agency</td>\n",
       "      <td>$12</td>\n",
       "      <td>$14</td>\n",
       "      <td>$13</td>\n",
       "      <td>0.06%</td>\n",
       "      <td>0.07%</td>\n",
       "      <td>0.07%</td>\n",
       "    </tr>\n",
       "    <tr>\n",
       "      <th>1</th>\n",
       "      <td>SOUTHEAST ALABAMA MEDICAL CENTER</td>\n",
       "      <td>10001</td>\n",
       "      <td>AL</td>\n",
       "      <td>1 to 3 days Prior to Index Hospital Admission</td>\n",
       "      <td>Hospice</td>\n",
       "      <td>$1</td>\n",
       "      <td>$1</td>\n",
       "      <td>$1</td>\n",
       "      <td>0.01%</td>\n",
       "      <td>0.01%</td>\n",
       "      <td>0%</td>\n",
       "    </tr>\n",
       "    <tr>\n",
       "      <th>2</th>\n",
       "      <td>SOUTHEAST ALABAMA MEDICAL CENTER</td>\n",
       "      <td>10001</td>\n",
       "      <td>AL</td>\n",
       "      <td>1 to 3 days Prior to Index Hospital Admission</td>\n",
       "      <td>Inpatient</td>\n",
       "      <td>$6</td>\n",
       "      <td>$6</td>\n",
       "      <td>$5</td>\n",
       "      <td>0.03%</td>\n",
       "      <td>0.03%</td>\n",
       "      <td>0.03%</td>\n",
       "    </tr>\n",
       "    <tr>\n",
       "      <th>3</th>\n",
       "      <td>SOUTHEAST ALABAMA MEDICAL CENTER</td>\n",
       "      <td>10001</td>\n",
       "      <td>AL</td>\n",
       "      <td>1 to 3 days Prior to Index Hospital Admission</td>\n",
       "      <td>Outpatient</td>\n",
       "      <td>$160</td>\n",
       "      <td>$85</td>\n",
       "      <td>$117</td>\n",
       "      <td>0.84%</td>\n",
       "      <td>0.46%</td>\n",
       "      <td>0.58%</td>\n",
       "    </tr>\n",
       "    <tr>\n",
       "      <th>4</th>\n",
       "      <td>SOUTHEAST ALABAMA MEDICAL CENTER</td>\n",
       "      <td>10001</td>\n",
       "      <td>AL</td>\n",
       "      <td>1 to 3 days Prior to Index Hospital Admission</td>\n",
       "      <td>Skilled Nursing Facility</td>\n",
       "      <td>$1</td>\n",
       "      <td>$2</td>\n",
       "      <td>$2</td>\n",
       "      <td>0.01%</td>\n",
       "      <td>0.01%</td>\n",
       "      <td>0.01%</td>\n",
       "    </tr>\n",
       "  </tbody>\n",
       "</table>\n",
       "</div>"
      ],
      "text/plain": [
       "                           Hospital  Provider Number  State  \\\n",
       "0  SOUTHEAST ALABAMA MEDICAL CENTER             10001    AL   \n",
       "1  SOUTHEAST ALABAMA MEDICAL CENTER             10001    AL   \n",
       "2  SOUTHEAST ALABAMA MEDICAL CENTER             10001    AL   \n",
       "3  SOUTHEAST ALABAMA MEDICAL CENTER             10001    AL   \n",
       "4  SOUTHEAST ALABAMA MEDICAL CENTER             10001    AL   \n",
       "\n",
       "                                          Period                Claim Type  \\\n",
       "0  1 to 3 days Prior to Index Hospital Admission        Home Health Agency   \n",
       "1  1 to 3 days Prior to Index Hospital Admission                   Hospice   \n",
       "2  1 to 3 days Prior to Index Hospital Admission                 Inpatient   \n",
       "3  1 to 3 days Prior to Index Hospital Admission                Outpatient   \n",
       "4  1 to 3 days Prior to Index Hospital Admission  Skilled Nursing Facility   \n",
       "\n",
       "  Avg Spending Hospital Avg Spending State Avg Spending Nation  \\\n",
       "0                   $12                $14                 $13   \n",
       "1                    $1                 $1                  $1   \n",
       "2                    $6                 $6                  $5   \n",
       "3                  $160                $85                $117   \n",
       "4                    $1                 $2                  $2   \n",
       "\n",
       "  Percent Spending Hospital Percent Spending State Percent Spending Nation  \n",
       "0                     0.06%                  0.07%                   0.07%  \n",
       "1                     0.01%                  0.01%                      0%  \n",
       "2                     0.03%                  0.03%                   0.03%  \n",
       "3                     0.84%                  0.46%                   0.58%  \n",
       "4                     0.01%                  0.01%                   0.01%  "
      ]
     },
     "execution_count": 187,
     "metadata": {},
     "output_type": "execute_result"
    }
   ],
   "source": [
    "d2 = d2.rename(columns={'Hospital Name': 'Hospital', 'Provider Number': 'Provider ID',\n",
    "                        'Avg Spending Per Episode (Hospital)':'Avg Spending Hospital',\n",
    "                        'Avg Spending Per Episode (State)': 'Avg Spending State',\n",
    "                       'Avg Spending Per Episode (Nation)':'Avg Spending Nation', \n",
    "                        'Percent of Spending (Hospital)':'Percent Spending Hospital',\n",
    "                        'Percent of Spending (State)':'Percent Spending State', \n",
    "                        'Percent of Spending (Nation)':'Percent Spending Nation'})\n",
    "d2.head()"
   ]
  },
  {
   "cell_type": "markdown",
   "metadata": {},
   "source": [
    "**41) Find the statistics of average (mean) and percentage spending for different states, claim types, and hospitals.  In the cell below using the same dataframe used in 39 and 40. Place your code and print your results in the cell below **"
   ]
  },
  {
   "cell_type": "code",
   "execution_count": 196,
   "metadata": {},
   "outputs": [
    {
     "data": {
      "text/plain": [
       "Hospital                      object\n",
       "Provider Number                int64\n",
       "State                         object\n",
       "Period                        object\n",
       "Claim Type                    object\n",
       "Avg Spending Hospital        float64\n",
       "Avg Spending State           float64\n",
       "Avg Spending Nation          float64\n",
       "Percent Spending Hospital    float64\n",
       "Percent Spending State       float64\n",
       "Percent Spending Nation      float64\n",
       "dtype: object"
      ]
     },
     "execution_count": 196,
     "metadata": {},
     "output_type": "execute_result"
    }
   ],
   "source": [
    "d2['Avg Spending Hospital']=d2['Avg Spending Hospital'].replace('[\\$,]', '', regex=True).astype(float)\n",
    "d2['Avg Spending State']=d2['Avg Spending State'].replace('[\\$,]', '', regex=True).astype(float)\n",
    "d2['Avg Spending Nation']=d2['Avg Spending Nation'].replace('[\\$,]', '', regex=True).astype(float)\n",
    "d2['Percent Spending Hospital']=d2['Percent Spending Hospital'].replace('[\\%,]', '', regex=True).astype(float)\n",
    "d2['Percent Spending State']=d2['Percent Spending State'].replace('[\\%,]', '', regex=True).astype(float)\n",
    "d2['Percent Spending Nation']=d2['Percent Spending Nation'].replace('[\\%,]', '', regex=True).astype(float)\n",
    "d2.dtypes"
   ]
  },
  {
   "cell_type": "code",
   "execution_count": 207,
   "metadata": {},
   "outputs": [
    {
     "data": {
      "text/html": [
       "<div>\n",
       "<style>\n",
       "    .dataframe thead tr:only-child th {\n",
       "        text-align: right;\n",
       "    }\n",
       "\n",
       "    .dataframe thead th {\n",
       "        text-align: left;\n",
       "    }\n",
       "\n",
       "    .dataframe tbody tr th {\n",
       "        vertical-align: top;\n",
       "    }\n",
       "</style>\n",
       "<table border=\"1\" class=\"dataframe\">\n",
       "  <thead>\n",
       "    <tr style=\"text-align: right;\">\n",
       "      <th></th>\n",
       "      <th></th>\n",
       "      <th></th>\n",
       "      <th>Avg Spending Hospital</th>\n",
       "      <th>Percent Spending Hospital</th>\n",
       "    </tr>\n",
       "    <tr>\n",
       "      <th>Hospital</th>\n",
       "      <th>State</th>\n",
       "      <th>Claim Type</th>\n",
       "      <th></th>\n",
       "      <th></th>\n",
       "    </tr>\n",
       "  </thead>\n",
       "  <tbody>\n",
       "    <tr>\n",
       "      <th rowspan=\"5\" valign=\"top\">ABBEVILLE GENERAL HOSPITAL</th>\n",
       "      <th rowspan=\"5\" valign=\"top\">LA</th>\n",
       "      <th>Carrier</th>\n",
       "      <td>2059.0</td>\n",
       "      <td>11.97</td>\n",
       "    </tr>\n",
       "    <tr>\n",
       "      <th>Durable Medical Equipment</th>\n",
       "      <td>115.0</td>\n",
       "      <td>0.66</td>\n",
       "    </tr>\n",
       "    <tr>\n",
       "      <th>Home Health Agency</th>\n",
       "      <td>693.0</td>\n",
       "      <td>4.03</td>\n",
       "    </tr>\n",
       "    <tr>\n",
       "      <th>Hospice</th>\n",
       "      <td>145.0</td>\n",
       "      <td>0.85</td>\n",
       "    </tr>\n",
       "    <tr>\n",
       "      <th>Inpatient</th>\n",
       "      <td>9510.0</td>\n",
       "      <td>55.29</td>\n",
       "    </tr>\n",
       "  </tbody>\n",
       "</table>\n",
       "</div>"
      ],
      "text/plain": [
       "                                                            Avg Spending Hospital  \\\n",
       "Hospital                   State Claim Type                                         \n",
       "ABBEVILLE GENERAL HOSPITAL LA    Carrier                                   2059.0   \n",
       "                                 Durable Medical Equipment                  115.0   \n",
       "                                 Home Health Agency                         693.0   \n",
       "                                 Hospice                                    145.0   \n",
       "                                 Inpatient                                 9510.0   \n",
       "\n",
       "                                                            Percent Spending Hospital  \n",
       "Hospital                   State Claim Type                                            \n",
       "ABBEVILLE GENERAL HOSPITAL LA    Carrier                                        11.97  \n",
       "                                 Durable Medical Equipment                       0.66  \n",
       "                                 Home Health Agency                              4.03  \n",
       "                                 Hospice                                         0.85  \n",
       "                                 Inpatient                                      55.29  "
      ]
     },
     "execution_count": 207,
     "metadata": {},
     "output_type": "execute_result"
    }
   ],
   "source": [
    "ind=['Hospital','State','Claim Type']\n",
    "val=['Avg Spending Hospital','Percent Spending Hospital']\n",
    "h_l= d2.pivot_table(index= ind, values=val, aggfunc='sum')\n",
    "h_l.head()"
   ]
  },
  {
   "cell_type": "markdown",
   "metadata": {},
   "source": [
    "**42) Continuing with data from above, convert the dataframe content to be the right \"data type\" (i.e., int, float, etc) in order to perform statistical calculations for the DataFrame.  Provide your code and the resulting new print out as the answer.**\n",
    "<br>\n",
    "***Hint convert the columns with % and $***"
   ]
  },
  {
   "cell_type": "code",
   "execution_count": 198,
   "metadata": {},
   "outputs": [
    {
     "data": {
      "text/plain": [
       "Hospital                      object\n",
       "Provider Number                int64\n",
       "State                         object\n",
       "Period                        object\n",
       "Claim Type                    object\n",
       "Avg Spending Hospital        float64\n",
       "Avg Spending State           float64\n",
       "Avg Spending Nation          float64\n",
       "Percent Spending Hospital    float64\n",
       "Percent Spending State       float64\n",
       "Percent Spending Nation      float64\n",
       "dtype: object"
      ]
     },
     "execution_count": 198,
     "metadata": {},
     "output_type": "execute_result"
    }
   ],
   "source": [
    "d2['Avg Spending Hospital']=d2['Avg Spending Hospital'].replace('[\\$,]', '', regex=True).astype(float)\n",
    "d2['Avg Spending State']=d2['Avg Spending State'].replace('[\\$,]', '', regex=True).astype(float)\n",
    "d2['Avg Spending Nation']=d2['Avg Spending Nation'].replace('[\\$,]', '', regex=True).astype(float)\n",
    "d2['Percent Spending Hospital']=d2['Percent Spending Hospital'].replace('[\\%,]', '', regex=True).astype(float)\n",
    "d2['Percent Spending State']=d2['Percent Spending State'].replace('[\\%,]', '', regex=True).astype(float)\n",
    "d2['Percent Spending Nation']=d2['Percent Spending Nation'].replace('[\\%,]', '', regex=True).astype(float)\n",
    "d2.dtypes"
   ]
  },
  {
   "cell_type": "markdown",
   "metadata": {},
   "source": [
    "**43) Continuing with the dataframe above, extract only the TX state claims into a new dataframe.  Provide your code and print the new dataframe (with only TX claims) below as the answer.**"
   ]
  },
  {
   "cell_type": "code",
   "execution_count": 210,
   "metadata": {},
   "outputs": [
    {
     "data": {
      "text/html": [
       "<div>\n",
       "<style>\n",
       "    .dataframe thead tr:only-child th {\n",
       "        text-align: right;\n",
       "    }\n",
       "\n",
       "    .dataframe thead th {\n",
       "        text-align: left;\n",
       "    }\n",
       "\n",
       "    .dataframe tbody tr th {\n",
       "        vertical-align: top;\n",
       "    }\n",
       "</style>\n",
       "<table border=\"1\" class=\"dataframe\">\n",
       "  <thead>\n",
       "    <tr style=\"text-align: right;\">\n",
       "      <th></th>\n",
       "      <th>Hospital</th>\n",
       "      <th>Provider Number</th>\n",
       "      <th>State</th>\n",
       "      <th>Period</th>\n",
       "      <th>Claim Type</th>\n",
       "      <th>Avg Spending Hospital</th>\n",
       "      <th>Avg Spending State</th>\n",
       "      <th>Avg Spending Nation</th>\n",
       "      <th>Percent Spending Hospital</th>\n",
       "      <th>Percent Spending State</th>\n",
       "      <th>Percent Spending Nation</th>\n",
       "    </tr>\n",
       "  </thead>\n",
       "  <tbody>\n",
       "    <tr>\n",
       "      <th>58322</th>\n",
       "      <td>PROVIDENCE MEMORIAL HOSPITAL</td>\n",
       "      <td>450002</td>\n",
       "      <td>TX</td>\n",
       "      <td>1 to 3 days Prior to Index Hospital Admission</td>\n",
       "      <td>Home Health Agency</td>\n",
       "      <td>52.0</td>\n",
       "      <td>23.0</td>\n",
       "      <td>13.0</td>\n",
       "      <td>0.27</td>\n",
       "      <td>0.11</td>\n",
       "      <td>0.07</td>\n",
       "    </tr>\n",
       "    <tr>\n",
       "      <th>58323</th>\n",
       "      <td>PROVIDENCE MEMORIAL HOSPITAL</td>\n",
       "      <td>450002</td>\n",
       "      <td>TX</td>\n",
       "      <td>1 to 3 days Prior to Index Hospital Admission</td>\n",
       "      <td>Hospice</td>\n",
       "      <td>0.0</td>\n",
       "      <td>1.0</td>\n",
       "      <td>1.0</td>\n",
       "      <td>0.00</td>\n",
       "      <td>0.01</td>\n",
       "      <td>0.00</td>\n",
       "    </tr>\n",
       "    <tr>\n",
       "      <th>58324</th>\n",
       "      <td>PROVIDENCE MEMORIAL HOSPITAL</td>\n",
       "      <td>450002</td>\n",
       "      <td>TX</td>\n",
       "      <td>1 to 3 days Prior to Index Hospital Admission</td>\n",
       "      <td>Inpatient</td>\n",
       "      <td>2.0</td>\n",
       "      <td>5.0</td>\n",
       "      <td>5.0</td>\n",
       "      <td>0.01</td>\n",
       "      <td>0.02</td>\n",
       "      <td>0.03</td>\n",
       "    </tr>\n",
       "    <tr>\n",
       "      <th>58325</th>\n",
       "      <td>PROVIDENCE MEMORIAL HOSPITAL</td>\n",
       "      <td>450002</td>\n",
       "      <td>TX</td>\n",
       "      <td>1 to 3 days Prior to Index Hospital Admission</td>\n",
       "      <td>Outpatient</td>\n",
       "      <td>80.0</td>\n",
       "      <td>122.0</td>\n",
       "      <td>117.0</td>\n",
       "      <td>0.41</td>\n",
       "      <td>0.57</td>\n",
       "      <td>0.58</td>\n",
       "    </tr>\n",
       "    <tr>\n",
       "      <th>58326</th>\n",
       "      <td>PROVIDENCE MEMORIAL HOSPITAL</td>\n",
       "      <td>450002</td>\n",
       "      <td>TX</td>\n",
       "      <td>1 to 3 days Prior to Index Hospital Admission</td>\n",
       "      <td>Skilled Nursing Facility</td>\n",
       "      <td>1.0</td>\n",
       "      <td>3.0</td>\n",
       "      <td>2.0</td>\n",
       "      <td>0.01</td>\n",
       "      <td>0.01</td>\n",
       "      <td>0.01</td>\n",
       "    </tr>\n",
       "  </tbody>\n",
       "</table>\n",
       "</div>"
      ],
      "text/plain": [
       "                           Hospital  Provider Number  State  \\\n",
       "58322  PROVIDENCE MEMORIAL HOSPITAL            450002    TX   \n",
       "58323  PROVIDENCE MEMORIAL HOSPITAL            450002    TX   \n",
       "58324  PROVIDENCE MEMORIAL HOSPITAL            450002    TX   \n",
       "58325  PROVIDENCE MEMORIAL HOSPITAL            450002    TX   \n",
       "58326  PROVIDENCE MEMORIAL HOSPITAL            450002    TX   \n",
       "\n",
       "                                              Period  \\\n",
       "58322  1 to 3 days Prior to Index Hospital Admission   \n",
       "58323  1 to 3 days Prior to Index Hospital Admission   \n",
       "58324  1 to 3 days Prior to Index Hospital Admission   \n",
       "58325  1 to 3 days Prior to Index Hospital Admission   \n",
       "58326  1 to 3 days Prior to Index Hospital Admission   \n",
       "\n",
       "                     Claim Type  Avg Spending Hospital  Avg Spending State  \\\n",
       "58322        Home Health Agency                   52.0                23.0   \n",
       "58323                   Hospice                    0.0                 1.0   \n",
       "58324                 Inpatient                    2.0                 5.0   \n",
       "58325                Outpatient                   80.0               122.0   \n",
       "58326  Skilled Nursing Facility                    1.0                 3.0   \n",
       "\n",
       "       Avg Spending Nation  Percent Spending Hospital  Percent Spending State  \\\n",
       "58322                 13.0                       0.27                    0.11   \n",
       "58323                  1.0                       0.00                    0.01   \n",
       "58324                  5.0                       0.01                    0.02   \n",
       "58325                117.0                       0.41                    0.57   \n",
       "58326                  2.0                       0.01                    0.01   \n",
       "\n",
       "       Percent Spending Nation  \n",
       "58322                     0.07  \n",
       "58323                     0.00  \n",
       "58324                     0.03  \n",
       "58325                     0.58  \n",
       "58326                     0.01  "
      ]
     },
     "execution_count": 210,
     "metadata": {},
     "output_type": "execute_result"
    }
   ],
   "source": [
    "vl=['TX']\n",
    "rt=d2[d2.State.isin(vl)]\n",
    "rt.head()"
   ]
  },
  {
   "cell_type": "markdown",
   "metadata": {},
   "source": [
    "**44) Using the dataframe from above (Q 42), find the average spending for each different TX hospitals groupedby each kind of  different claim types.  Provide your code and the resulting new print out as the answer. **"
   ]
  },
  {
   "cell_type": "code",
   "execution_count": 213,
   "metadata": {
    "scrolled": true
   },
   "outputs": [
    {
     "name": "stdout",
     "output_type": "stream",
     "text": [
      "                                                           Avg Spending Hospital\n",
      "Hospital                        Claim Type                                      \n",
      "ABILENE REGIONAL MEDICAL CENTER Carrier                                   2966.0\n",
      "                                Durable Medical Equipment                  127.0\n",
      "                                Home Health Agency                         968.0\n",
      "                                Hospice                                    115.0\n",
      "                                Inpatient                                13429.0\n"
     ]
    }
   ],
   "source": [
    "ind=['Hospital','Claim Type']\n",
    "val=['Avg Spending Hospital']\n",
    "h_l= rt.pivot_table(index= ind, values=val, aggfunc='sum')\n",
    "print h_l.head()"
   ]
  },
  {
   "cell_type": "markdown",
   "metadata": {
    "collapsed": true
   },
   "source": [
    "**45) Continuing from above (Q 43), what is the mean and max percentage spending of different TX hospitals for each different claim types.  Provide your code and print out the answer. **"
   ]
  },
  {
   "cell_type": "code",
   "execution_count": 216,
   "metadata": {},
   "outputs": [
    {
     "name": "stdout",
     "output_type": "stream",
     "text": [
      "                                                           Percent Spending Hospital\n",
      "Hospital                        Claim Type                                          \n",
      "ABILENE REGIONAL MEDICAL CENTER Carrier                                     4.750000\n",
      "                                Durable Medical Equipment                   0.203333\n",
      "                                Home Health Agency                          1.550000\n",
      "                                Hospice                                     0.183333\n",
      "                                Inpatient                                  21.500000\n"
     ]
    }
   ],
   "source": [
    "inde=['Hospital','Claim Type']\n",
    "va=['Percent Spending Hospital']\n",
    "h_k= rt.pivot_table(index= inde, values=va, aggfunc='mean')\n",
    "print h_k.head()"
   ]
  },
  {
   "cell_type": "code",
   "execution_count": 217,
   "metadata": {},
   "outputs": [
    {
     "name": "stdout",
     "output_type": "stream",
     "text": [
      "                                                           Percent Spending Hospital\n",
      "Hospital                        Claim Type                                          \n",
      "ABILENE REGIONAL MEDICAL CENTER Carrier                                         7.12\n",
      "                                Durable Medical Equipment                       0.42\n",
      "                                Home Health Agency                              4.56\n",
      "                                Hospice                                         0.55\n",
      "                                Inpatient                                      47.46\n"
     ]
    }
   ],
   "source": [
    "i=['Hospital','Claim Type']\n",
    "v=['Percent Spending Hospital']\n",
    "h_m= rt.pivot_table(index= i, values=v, aggfunc='max')\n",
    "print h_m.head()"
   ]
  },
  {
   "cell_type": "markdown",
   "metadata": {},
   "source": [
    "**46) Using the whole dataset from the Medicare_Hospital_Spending_by_Claim.csv table (i.e., Q 39-41), sort the dataframe descending order by average spending and print out what the rank of TX is in terms of average spending when compared to other state averages. **"
   ]
  },
  {
   "cell_type": "markdown",
   "metadata": {
    "collapsed": true
   },
   "source": [
    "Ignoring as per instructions"
   ]
  },
  {
   "cell_type": "markdown",
   "metadata": {},
   "source": [
    "**47) Give a very general and short definition of what an Analytical Model is or is supposed to do?**"
   ]
  },
  {
   "cell_type": "markdown",
   "metadata": {
    "collapsed": true
   },
   "source": [
    "An analytical model is nothing more than a represenatation of a version of reality based on multiple assumptions and simplifications. It should help the user understand a business problem better - however, a model is useless unless the results are interpreted."
   ]
  },
  {
   "cell_type": "markdown",
   "metadata": {},
   "source": [
    "**48) Briefly describe the differences between \"supervised\" and \"unsupervised\" learning.**"
   ]
  },
  {
   "cell_type": "markdown",
   "metadata": {
    "collapsed": true
   },
   "source": [
    "Supervised learning involves inferring a function by learning from a set of lablled data whereas unsupervised learning is involves using unclassified or unlabeled training data for the same."
   ]
  },
  {
   "cell_type": "markdown",
   "metadata": {},
   "source": [
    "**49) Briefly describe the differences between \"classification\" and \"clustering\".**"
   ]
  },
  {
   "cell_type": "markdown",
   "metadata": {
    "collapsed": true
   },
   "source": [
    "During Clustering new data is organised in sub groups similar to each other with no previous understanding of characterisitics of the data whereas during Classification the process uses alreadys categorized data to predict where new data should be categorized. These two methods are used for unsupervised and supervised learning respectively."
   ]
  },
  {
   "cell_type": "markdown",
   "metadata": {},
   "source": [
    "**50) Name 3 different \"kinds\" of Analytical Models and provide a brief definition of each. **"
   ]
  },
  {
   "cell_type": "markdown",
   "metadata": {
    "collapsed": true
   },
   "source": [
    "Based on model functionality, there are three common ones :\n",
    "1.Descriptive : model that gives a description of the data: answers the question: 'what happened' \n",
    "2.Predictive : model that incorporates forecasting techniques to try to predict what could happen in the future\n",
    "3.Prescriptive :model that uses simulation techniques to try and answer questions like ' what could be done?'"
   ]
  },
  {
   "cell_type": "markdown",
   "metadata": {},
   "source": [
    "**EXTRA CREDIT 51) Why is Ordinary Least Squares Regression, called Ordinary Least Squares?**"
   ]
  },
  {
   "cell_type": "markdown",
   "metadata": {
    "collapsed": true
   },
   "source": [
    "Ordinary Least Squares was the first ever model discovered and is called so to distinguish it from the various other models like EIGHTED, ROBUST ETC."
   ]
  },
  {
   "cell_type": "markdown",
   "metadata": {},
   "source": [
    "**EXTRA CREDIT 52) What makes \"big data\" different from \"small data\"? (Be brief - 1 to 2 paragaphs MAX)**"
   ]
  },
  {
   "cell_type": "markdown",
   "metadata": {
    "collapsed": true
   },
   "source": [
    "Big data is often said to be characterized by the volume of data , the variety of the types of data and the velocity at which it is processed. It is unstructured or structured data which maybe measured in petabytes or exabytes. Small data is usually consists of usable chunks of data in a format which is accessible, informative and actionable.\n",
    "For instance, consider twitter data - a great example of big data- unstructured with various types of data whereas internal data generated from a small size firm's CRM is usally structured and easily usable."
   ]
  },
  {
   "cell_type": "markdown",
   "metadata": {},
   "source": [
    "**EXTRA CREDIT 53) What are WMD's according to Cathy O'Neil?**"
   ]
  },
  {
   "cell_type": "markdown",
   "metadata": {
    "collapsed": true
   },
   "source": [
    "According to Cathy O'Neil, Weapons of Mass Destruction are the biased harmful models that could possible have been formulated and tweaked based on powerful interests.For instance, consider this -Harvard researchers found that ads about arrest records were much more likely to appear alongside searches for names thought to belong to a black person versus a white person.Why does this hapen? WMDs!"
   ]
  },
  {
   "cell_type": "markdown",
   "metadata": {},
   "source": [
    "**EXTRA CREDIT 54) Why do vicious feedback loops matter in data analytics?**"
   ]
  },
  {
   "cell_type": "markdown",
   "metadata": {
    "collapsed": true
   },
   "source": [
    "Vicous feedback loops are dangerous- they reinforce a model's output with really questioning the output. They become self-fulfilling and turn models into something that needs to be gamed. For exapmle: Credit Scores - nowadays a large number of the North American population is aware of how to game the score the system if they don't? They're punished"
   ]
  },
  {
   "cell_type": "markdown",
   "metadata": {},
   "source": [
    "**EXTRA CREDIT 55) What are the 10 simple rules Zook et. al. Suggest to follow when doing big data analytics?**"
   ]
  },
  {
   "cell_type": "markdown",
   "metadata": {
    "collapsed": true
   },
   "source": [
    "1.Data reprsents or affects people and it can do harm\n",
    "2.Privacy of data matters\n",
    "3.Remove personaly identifiable info - make sure it is anonymised\n",
    "4.Practice ethical data sharing\n",
    "5.Understand the data - limitations and strengths. Big data doesn't mean better automatically\n",
    "6.Talk about the tough ethical choices- debate the choices\n",
    "7.Develop a code of conduct for your organization, research community, or industry\n",
    "8.Make sure your data and design is auditable\n",
    "9.Engage with the broader consequences of data and analysis practices\n",
    "10.Know when to break the rules"
   ]
  }
 ],
 "metadata": {
  "kernelspec": {
   "display_name": "Python 2",
   "language": "python",
   "name": "python2"
  },
  "language_info": {
   "codemirror_mode": {
    "name": "ipython",
    "version": 2
   },
   "file_extension": ".py",
   "mimetype": "text/x-python",
   "name": "python",
   "nbconvert_exporter": "python",
   "pygments_lexer": "ipython2",
   "version": "2.7.13"
  }
 },
 "nbformat": 4,
 "nbformat_minor": 1
}
