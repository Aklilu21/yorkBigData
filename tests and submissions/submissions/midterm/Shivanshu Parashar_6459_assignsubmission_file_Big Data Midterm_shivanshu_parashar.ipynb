{
 "cells": [
  {
   "cell_type": "markdown",
   "metadata": {},
   "source": [
    "## Introduction to Big Data Midterm"
   ]
  },
  {
   "cell_type": "markdown",
   "metadata": {},
   "source": [
    "Assign date: 2017-12-03\n",
    "\n",
    "Due date: 2017-12-16 11:59pm\n",
    "\n",
    "Please submit only one copy of your Jupyter Notebook file with your answers for each question provided in the following cells below to Moodle. There will be no extensions or excemptions. \n",
    "\n",
    "You will lose 15% each day your submission is late. \n",
    "\n",
    "Please do not post any answers to the general question forum. You can however ask for technical help on the course page if you are having actualy technical issues. I reserve the right to delete any question/response that I deem being too much \"begging for hints\" in nature. You may email me directly at mtenney@yorku.ca if you have any questions, but do note I will not provide you any answers and my response may take up to 48hrs. And of course, you're free to use any class material, the Internet, or additional resources to complete the exam. The exam covers material from weeks 1-4 inclusively.\n",
    "\n",
    "Note you MUST RUN THE CODE and print out the required results when submitting. Any empty cells or un-run code will not be accepted. "
   ]
  },
  {
   "cell_type": "markdown",
   "metadata": {},
   "source": [
    "\n",
    "**1) Import the following libraries to your notebook (you can use alias' if you want) in the cell below:**<br/>\n",
    "    pandas,\n",
    "    seaborn,\n",
    "    os,\n",
    "    matplotlib.pyplot<br/>\n",
    "**And** add the following flag: \n",
    "    %matplotlib inline"
   ]
  },
  {
   "cell_type": "code",
   "execution_count": 46,
   "metadata": {
    "collapsed": true
   },
   "outputs": [],
   "source": [
    "import pandas as pd\n",
    "import seaborn as sns\n",
    "import os.path\n",
    "import matplotlib.pyplot as plt\n",
    "%matplotlib inline"
   ]
  },
  {
   "cell_type": "markdown",
   "metadata": {},
   "source": [
    "**2) Index a list in Python**<br/>\n",
    "Run the code below, it will give a result of 4. If we want to get ONLY the number 8 from the list of lists below, how would you alter the code? Alter the code directly and run to print the desired output. "
   ]
  },
  {
   "cell_type": "code",
   "execution_count": 3,
   "metadata": {},
   "outputs": [
    {
     "name": "stdout",
     "output_type": "stream",
     "text": [
      "8\n"
     ]
    }
   ],
   "source": [
    "question2 = [[1,2],[3,4],[5,6],[7,[8,9]]]\n",
    "print question2[3][1][0]"
   ]
  },
  {
   "cell_type": "markdown",
   "metadata": {},
   "source": [
    "**3) Define a variable called bigdata, to be a list in python with the following elements and print only the last two elements of the list:**<br/> 1, \"Big Data Class\", 2, \"Is Really Fun\",3, \"I Love Python\""
   ]
  },
  {
   "cell_type": "code",
   "execution_count": 4,
   "metadata": {},
   "outputs": [
    {
     "name": "stdout",
     "output_type": "stream",
     "text": [
      "is really fun\n"
     ]
    },
    {
     "data": {
      "text/plain": [
       "'i love python'"
      ]
     },
     "execution_count": 4,
     "metadata": {},
     "output_type": "execute_result"
    }
   ],
   "source": [
    "bigdata = [\"big data class\",\"is really fun\",\"i love python\"]\n",
    "print max(bigdata)\n",
    "bigdata[-1]"
   ]
  },
  {
   "cell_type": "markdown",
   "metadata": {},
   "source": [
    "**4) Cast the following list to be a string in Python:** <br/>\n",
    "Define the list [1,2,4,3,'k'] and cast it to a string where you print out '1243k'. Insert your code below."
   ]
  },
  {
   "cell_type": "code",
   "execution_count": 5,
   "metadata": {},
   "outputs": [
    {
     "data": {
      "text/plain": [
       "'1243k'"
      ]
     },
     "execution_count": 5,
     "metadata": {},
     "output_type": "execute_result"
    }
   ],
   "source": [
    "list1 = [1,2,4,3,\"k\"]\n",
    "\"\".join(str(elm)for elm in list1)\n",
    "\n"
   ]
  },
  {
   "cell_type": "markdown",
   "metadata": {},
   "source": [
    "**5) Test whether the two lists are equal too each other and if not what elements are shared between the two lists.**<br/>\n",
    "<t/>list1 = ['1',2,'3',4,5]<br/>\n",
    "<t/>list2 = [1,2,3,4,'5',6]<br/>\n",
    "<br/>\n",
    "Define the lists and print whether the lists are equal to one another, and find which elements are a match. (***Hint you can go element by element or use you can use a \"for\" loop, or, you can use a different data structure all together***). \n"
   ]
  },
  {
   "cell_type": "code",
   "execution_count": 6,
   "metadata": {},
   "outputs": [
    {
     "data": {
      "text/plain": [
       "False"
      ]
     },
     "execution_count": 6,
     "metadata": {},
     "output_type": "execute_result"
    }
   ],
   "source": [
    "list1 = ['1','2','3',4,5]\n",
    "list2 = [1,2,3,4,'5',6]\n",
    "list1 == list2"
   ]
  },
  {
   "cell_type": "markdown",
   "metadata": {},
   "source": [
    "**6) Test whether the two lists are equal too each other and if not what elements are shared between the two lists.**<br/>"
   ]
  },
  {
   "cell_type": "code",
   "execution_count": 7,
   "metadata": {},
   "outputs": [
    {
     "data": {
      "text/plain": [
       "[4]"
      ]
     },
     "execution_count": 7,
     "metadata": {},
     "output_type": "execute_result"
    }
   ],
   "source": [
    "def common_elements(list1, list2):\n",
    "    return [element for element in list1 if element in list2]\n",
    "common_elements(['1','2','3',4,5],[1,2,3,4,'5',6])"
   ]
  },
  {
   "cell_type": "markdown",
   "metadata": {},
   "source": [
    "**7) What are the \"5 V's\" commonly used to describe Big Data?** Write your answer below."
   ]
  },
  {
   "cell_type": "code",
   "execution_count": 8,
   "metadata": {},
   "outputs": [
    {
     "ename": "NameError",
     "evalue": "name 'Volume' is not defined",
     "output_type": "error",
     "traceback": [
      "\u001b[0;31m---------------------------------------------------------------------------\u001b[0m",
      "\u001b[0;31mNameError\u001b[0m                                 Traceback (most recent call last)",
      "\u001b[0;32m<ipython-input-8-f28f2a640dd0>\u001b[0m in \u001b[0;36m<module>\u001b[0;34m()\u001b[0m\n\u001b[0;32m----> 1\u001b[0;31m \u001b[0mVolume\u001b[0m\u001b[0;34m,\u001b[0m \u001b[0mVelocity\u001b[0m\u001b[0;34m,\u001b[0m \u001b[0mVariety\u001b[0m\u001b[0;34m,\u001b[0m \u001b[0mVeracity\u001b[0m \u001b[0;32mand\u001b[0m \u001b[0mValue\u001b[0m\u001b[0;34m\u001b[0m\u001b[0m\n\u001b[0m",
      "\u001b[0;31mNameError\u001b[0m: name 'Volume' is not defined"
     ]
    }
   ],
   "source": [
    "Volume, Velocity, Variety, Veracity and Value"
   ]
  },
  {
   "cell_type": "markdown",
   "metadata": {},
   "source": [
    "**8) Finish the quote:**<br/> *\"All models are wrong. Some are [...]\"*"
   ]
  },
  {
   "cell_type": "code",
   "execution_count": null,
   "metadata": {
    "collapsed": true
   },
   "outputs": [],
   "source": [
    "useful"
   ]
  },
  {
   "cell_type": "markdown",
   "metadata": {},
   "source": [
    "**9) If a variable dogs = 103x23/2 and a variable cats = 10x12x4,  Use python to determing if dogs are greater than cats. **"
   ]
  },
  {
   "cell_type": "code",
   "execution_count": 10,
   "metadata": {},
   "outputs": [
    {
     "name": "stdout",
     "output_type": "stream",
     "text": [
      "1184\n"
     ]
    }
   ],
   "source": [
    "dogs = 103*23/2\n",
    "print dogs\n",
    "\n"
   ]
  },
  {
   "cell_type": "code",
   "execution_count": 11,
   "metadata": {},
   "outputs": [
    {
     "name": "stdout",
     "output_type": "stream",
     "text": [
      "480\n"
     ]
    }
   ],
   "source": [
    "cats = 10*12*4\n",
    "print cats"
   ]
  },
  {
   "cell_type": "code",
   "execution_count": 12,
   "metadata": {},
   "outputs": [
    {
     "data": {
      "text/plain": [
       "True"
      ]
     },
     "execution_count": 12,
     "metadata": {},
     "output_type": "execute_result"
    }
   ],
   "source": [
    "dogs > cats"
   ]
  },
  {
   "cell_type": "markdown",
   "metadata": {},
   "source": [
    "**10) What is the name for the 3 primary measures of central tendency and give their definition** "
   ]
  },
  {
   "cell_type": "code",
   "execution_count": null,
   "metadata": {
    "collapsed": true
   },
   "outputs": [],
   "source": [
    "1. Mean = It is the measure of central tendency that is also referred to as the average.\n",
    "2. Median = The median is the value at the middle of a distribution of data when those data are organized from the lowest to the highest value.\n",
    "3. Mode = The mode is the measure of central tendency that identifies the category or score that occurs the most frequently within the distribution of data."
   ]
  },
  {
   "cell_type": "markdown",
   "metadata": {},
   "source": [
    "**11) Calculate the descriptive statistice for each of the above central measures in Python on this list of numbers and print out the values:**<br/> \n",
    "\n",
    "[12,44,23,2,1,66,7,85,3,34,23,6,34,23,7,21,14,34,23,88]\n",
    "<br/> \n",
    "*(Hint: it might be easier to import a function from some other library)*\n",
    "\n"
   ]
  },
  {
   "cell_type": "code",
   "execution_count": 13,
   "metadata": {},
   "outputs": [
    {
     "name": "stdout",
     "output_type": "stream",
     "text": [
      "28.7894736842\n",
      "23.0\n",
      "[23]\n"
     ]
    }
   ],
   "source": [
    "list2 = [12,44,23,2,1,66,7,85,34,23,6,34,23,7,21,14,34,23,88]\n",
    "import numpy as np\n",
    "print np.mean(list2)\n",
    "print np.median(list2)\n",
    "from collections import Counter\n",
    "counter = Counter(list2)\n",
    "max_count = max(counter.values())\n",
    "mode = [k for k,v in counter.items() if v == max_count]\n",
    "print mode\n"
   ]
  },
  {
   "cell_type": "markdown",
   "metadata": {},
   "source": [
    "**12) Delete the empty cell  between question 12 (this one) and Question 13 from the Jupyter notebook**"
   ]
  },
  {
   "cell_type": "markdown",
   "metadata": {},
   "source": [
    "**13) Create a list, called mylist, containing a sequential list of numbers that starts with 2 and stops at 1000, counting by 2's in Python**"
   ]
  },
  {
   "cell_type": "code",
   "execution_count": 14,
   "metadata": {},
   "outputs": [
    {
     "name": "stdout",
     "output_type": "stream",
     "text": [
      "2 4 6 8 10 12 14 16 18 20 22 24 26 28 30 32 34 36 38 40 42 44 46 48 50 52 54 56 58 60 62 64 66 68 70 72 74 76 78 80 82 84 86 88 90 92 94 96 98 100 102 104 106 108 110 112 114 116 118 120 122 124 126 128 130 132 134 136 138 140 142 144 146 148 150 152 154 156 158 160 162 164 166 168 170 172 174 176 178 180 182 184 186 188 190 192 194 196 198 200 202 204 206 208 210 212 214 216 218 220 222 224 226 228 230 232 234 236 238 240 242 244 246 248 250 252 254 256 258 260 262 264 266 268 270 272 274 276 278 280 282 284 286 288 290 292 294 296 298 300 302 304 306 308 310 312 314 316 318 320 322 324 326 328 330 332 334 336 338 340 342 344 346 348 350 352 354 356 358 360 362 364 366 368 370 372 374 376 378 380 382 384 386 388 390 392 394 396 398 400 402 404 406 408 410 412 414 416 418 420 422 424 426 428 430 432 434 436 438 440 442 444 446 448 450 452 454 456 458 460 462 464 466 468 470 472 474 476 478 480 482 484 486 488 490 492 494 496 498 500 502 504 506 508 510 512 514 516 518 520 522 524 526 528 530 532 534 536 538 540 542 544 546 548 550 552 554 556 558 560 562 564 566 568 570 572 574 576 578 580 582 584 586 588 590 592 594 596 598 600 602 604 606 608 610 612 614 616 618 620 622 624 626 628 630 632 634 636 638 640 642 644 646 648 650 652 654 656 658 660 662 664 666 668 670 672 674 676 678 680 682 684 686 688 690 692 694 696 698 700 702 704 706 708 710 712 714 716 718 720 722 724 726 728 730 732 734 736 738 740 742 744 746 748 750 752 754 756 758 760 762 764 766 768 770 772 774 776 778 780 782 784 786 788 790 792 794 796 798 800 802 804 806 808 810 812 814 816 818 820 822 824 826 828 830 832 834 836 838 840 842 844 846 848 850 852 854 856 858 860 862 864 866 868 870 872 874 876 878 880 882 884 886 888 890 892 894 896 898 900 902 904 906 908 910 912 914 916 918 920 922 924 926 928 930 932 934 936 938 940 942 944 946 948 950 952 954 956 958 960 962 964 966 968 970 972 974 976 978 980 982 984 986 988 990 992 994 996 998 1000\n"
     ]
    }
   ],
   "source": [
    "mylist = range(2,1001)\n",
    "mylist\n",
    "for i in mylist[::2]:\n",
    "    print i,"
   ]
  },
  {
   "cell_type": "markdown",
   "metadata": {},
   "source": [
    "**14) Is the sum of the first 50 elements in \"mylist\" greater than the last element of  \"mylist\"?**<br/> Use Python below to print out the answer. (mylist is defined in question 13). "
   ]
  },
  {
   "cell_type": "code",
   "execution_count": 15,
   "metadata": {},
   "outputs": [
    {
     "data": {
      "text/plain": [
       "<function sum>"
      ]
     },
     "execution_count": 15,
     "metadata": {},
     "output_type": "execute_result"
    }
   ],
   "source": [
    "mylist1 = range(2,50)\n",
    "sum"
   ]
  },
  {
   "cell_type": "code",
   "execution_count": 16,
   "metadata": {},
   "outputs": [
    {
     "data": {
      "text/plain": [
       "False"
      ]
     },
     "execution_count": 16,
     "metadata": {},
     "output_type": "execute_result"
    }
   ],
   "source": [
    "mylist2 = range(51,1001)\n",
    "sum \n",
    "mylist1 > mylist2"
   ]
  },
  {
   "cell_type": "markdown",
   "metadata": {},
   "source": [
    "**15) What is the length of \"mylist\"?**"
   ]
  },
  {
   "cell_type": "code",
   "execution_count": 17,
   "metadata": {},
   "outputs": [
    {
     "data": {
      "text/plain": [
       "999"
      ]
     },
     "execution_count": 17,
     "metadata": {},
     "output_type": "execute_result"
    }
   ],
   "source": [
    "len(mylist)"
   ]
  },
  {
   "cell_type": "markdown",
   "metadata": {},
   "source": [
    "**16) Create another list, called my2ndlist, containing a list of numbers starting at 1002 and stops at 1052,counting by 3's in Python. <br/>THEN concatenate my2ndlist with mylist into a new list called theMegaList.**<br/> Print theMegaList below."
   ]
  },
  {
   "cell_type": "code",
   "execution_count": 18,
   "metadata": {},
   "outputs": [
    {
     "name": "stdout",
     "output_type": "stream",
     "text": [
      "2 5 8 11 14 17 20 23 26 29 32 35 38 41 44 47 50 53 56 59 62 65 68 71 74 77 80 83 86 89 92 95 98 101 104 107 110 113 116 119 122 125 128 131 134 137 140 143 146 149 152 155 158 161 164 167 170 173 176 179 182 185 188 191 194 197 200 203 206 209 212 215 218 221 224 227 230 233 236 239 242 245 248 251 254 257 260 263 266 269 272 275 278 281 284 287 290 293 296 299 302 305 308 311 314 317 320 323 326 329 332 335 338 341 344 347 350 353 356 359 362 365 368 371 374 377 380 383 386 389 392 395 398 401 404 407 410 413 416 419 422 425 428 431 434 437 440 443 446 449 452 455 458 461 464 467 470 473 476 479 482 485 488 491 494 497 500 503 506 509 512 515 518 521 524 527 530 533 536 539 542 545 548 551 554 557 560 563 566 569 572 575 578 581 584 587 590 593 596 599 602 605 608 611 614 617 620 623 626 629 632 635 638 641 644 647 650 653 656 659 662 665 668 671 674 677 680 683 686 689 692 695 698 701 704 707 710 713 716 719 722 725 728 731 734 737 740 743 746 749 752 755 758 761 764 767 770 773 776 779 782 785 788 791 794 797 800 803 806 809 812 815 818 821 824 827 830 833 836 839 842 845 848 851 854 857 860 863 866 869 872 875 878 881 884 887 890 893 896 899 902 905 908 911 914 917 920 923 926 929 932 935 938 941 944 947 950 953 956 959 962 965 968 971 974 977 980 983 986 989 992 995 998\n"
     ]
    }
   ],
   "source": [
    "my2ndlist = range(1002,1053)\n",
    "my2ndlist\n",
    "for i in mylist[::3]:\n",
    "    print i,\n",
    "themegalist = mylist + my2ndlist"
   ]
  },
  {
   "cell_type": "markdown",
   "metadata": {},
   "source": [
    "**17) What is the index for the value 822 in theMegaList?**"
   ]
  },
  {
   "cell_type": "code",
   "execution_count": 19,
   "metadata": {},
   "outputs": [
    {
     "data": {
      "text/plain": [
       "820"
      ]
     },
     "execution_count": 19,
     "metadata": {},
     "output_type": "execute_result"
    }
   ],
   "source": [
    "themegalist.index(822)"
   ]
  },
  {
   "cell_type": "markdown",
   "metadata": {},
   "source": [
    "**18) Write a for loop that will test if an element in theMegaList is an even or odd number and keeps a count of how many of each there are in the list.**<br/> Print out the total number of even and odd numbers found in theMegalist below. "
   ]
  },
  {
   "cell_type": "code",
   "execution_count": 20,
   "metadata": {},
   "outputs": [
    {
     "name": "stdout",
     "output_type": "stream",
     "text": [
      "[2, 4, 6, 8, 10, 12, 14, 16, 18, 20, 22, 24, 26, 28, 30, 32, 34, 36, 38, 40, 42, 44, 46, 48, 50, 52, 54, 56, 58, 60, 62, 64, 66, 68, 70, 72, 74, 76, 78, 80, 82, 84, 86, 88, 90, 92, 94, 96, 98, 100, 102, 104, 106, 108, 110, 112, 114, 116, 118, 120, 122, 124, 126, 128, 130, 132, 134, 136, 138, 140, 142, 144, 146, 148, 150, 152, 154, 156, 158, 160, 162, 164, 166, 168, 170, 172, 174, 176, 178, 180, 182, 184, 186, 188, 190, 192, 194, 196, 198, 200, 202, 204, 206, 208, 210, 212, 214, 216, 218, 220, 222, 224, 226, 228, 230, 232, 234, 236, 238, 240, 242, 244, 246, 248, 250, 252, 254, 256, 258, 260, 262, 264, 266, 268, 270, 272, 274, 276, 278, 280, 282, 284, 286, 288, 290, 292, 294, 296, 298, 300, 302, 304, 306, 308, 310, 312, 314, 316, 318, 320, 322, 324, 326, 328, 330, 332, 334, 336, 338, 340, 342, 344, 346, 348, 350, 352, 354, 356, 358, 360, 362, 364, 366, 368, 370, 372, 374, 376, 378, 380, 382, 384, 386, 388, 390, 392, 394, 396, 398, 400, 402, 404, 406, 408, 410, 412, 414, 416, 418, 420, 422, 424, 426, 428, 430, 432, 434, 436, 438, 440, 442, 444, 446, 448, 450, 452, 454, 456, 458, 460, 462, 464, 466, 468, 470, 472, 474, 476, 478, 480, 482, 484, 486, 488, 490, 492, 494, 496, 498, 500, 502, 504, 506, 508, 510, 512, 514, 516, 518, 520, 522, 524, 526, 528, 530, 532, 534, 536, 538, 540, 542, 544, 546, 548, 550, 552, 554, 556, 558, 560, 562, 564, 566, 568, 570, 572, 574, 576, 578, 580, 582, 584, 586, 588, 590, 592, 594, 596, 598, 600, 602, 604, 606, 608, 610, 612, 614, 616, 618, 620, 622, 624, 626, 628, 630, 632, 634, 636, 638, 640, 642, 644, 646, 648, 650, 652, 654, 656, 658, 660, 662, 664, 666, 668, 670, 672, 674, 676, 678, 680, 682, 684, 686, 688, 690, 692, 694, 696, 698, 700, 702, 704, 706, 708, 710, 712, 714, 716, 718, 720, 722, 724, 726, 728, 730, 732, 734, 736, 738, 740, 742, 744, 746, 748, 750, 752, 754, 756, 758, 760, 762, 764, 766, 768, 770, 772, 774, 776, 778, 780, 782, 784, 786, 788, 790, 792, 794, 796, 798, 800, 802, 804, 806, 808, 810, 812, 814, 816, 818, 820, 822, 824, 826, 828, 830, 832, 834, 836, 838, 840, 842, 844, 846, 848, 850, 852, 854, 856, 858, 860, 862, 864, 866, 868, 870, 872, 874, 876, 878, 880, 882, 884, 886, 888, 890, 892, 894, 896, 898, 900, 902, 904, 906, 908, 910, 912, 914, 916, 918, 920, 922, 924, 926, 928, 930, 932, 934, 936, 938, 940, 942, 944, 946, 948, 950, 952, 954, 956, 958, 960, 962, 964, 966, 968, 970, 972, 974, 976, 978, 980, 982, 984, 986, 988, 990, 992, 994, 996, 998, 1000, 1002, 1004, 1006, 1008, 1010, 1012, 1014, 1016, 1018, 1020, 1022, 1024, 1026, 1028, 1030, 1032, 1034, 1036, 1038, 1040, 1042, 1044, 1046, 1048, 1050, 1052]\n",
      "[3, 5, 7, 9, 11, 13, 15, 17, 19, 21, 23, 25, 27, 29, 31, 33, 35, 37, 39, 41, 43, 45, 47, 49, 51, 53, 55, 57, 59, 61, 63, 65, 67, 69, 71, 73, 75, 77, 79, 81, 83, 85, 87, 89, 91, 93, 95, 97, 99, 101, 103, 105, 107, 109, 111, 113, 115, 117, 119, 121, 123, 125, 127, 129, 131, 133, 135, 137, 139, 141, 143, 145, 147, 149, 151, 153, 155, 157, 159, 161, 163, 165, 167, 169, 171, 173, 175, 177, 179, 181, 183, 185, 187, 189, 191, 193, 195, 197, 199, 201, 203, 205, 207, 209, 211, 213, 215, 217, 219, 221, 223, 225, 227, 229, 231, 233, 235, 237, 239, 241, 243, 245, 247, 249, 251, 253, 255, 257, 259, 261, 263, 265, 267, 269, 271, 273, 275, 277, 279, 281, 283, 285, 287, 289, 291, 293, 295, 297, 299, 301, 303, 305, 307, 309, 311, 313, 315, 317, 319, 321, 323, 325, 327, 329, 331, 333, 335, 337, 339, 341, 343, 345, 347, 349, 351, 353, 355, 357, 359, 361, 363, 365, 367, 369, 371, 373, 375, 377, 379, 381, 383, 385, 387, 389, 391, 393, 395, 397, 399, 401, 403, 405, 407, 409, 411, 413, 415, 417, 419, 421, 423, 425, 427, 429, 431, 433, 435, 437, 439, 441, 443, 445, 447, 449, 451, 453, 455, 457, 459, 461, 463, 465, 467, 469, 471, 473, 475, 477, 479, 481, 483, 485, 487, 489, 491, 493, 495, 497, 499, 501, 503, 505, 507, 509, 511, 513, 515, 517, 519, 521, 523, 525, 527, 529, 531, 533, 535, 537, 539, 541, 543, 545, 547, 549, 551, 553, 555, 557, 559, 561, 563, 565, 567, 569, 571, 573, 575, 577, 579, 581, 583, 585, 587, 589, 591, 593, 595, 597, 599, 601, 603, 605, 607, 609, 611, 613, 615, 617, 619, 621, 623, 625, 627, 629, 631, 633, 635, 637, 639, 641, 643, 645, 647, 649, 651, 653, 655, 657, 659, 661, 663, 665, 667, 669, 671, 673, 675, 677, 679, 681, 683, 685, 687, 689, 691, 693, 695, 697, 699, 701, 703, 705, 707, 709, 711, 713, 715, 717, 719, 721, 723, 725, 727, 729, 731, 733, 735, 737, 739, 741, 743, 745, 747, 749, 751, 753, 755, 757, 759, 761, 763, 765, 767, 769, 771, 773, 775, 777, 779, 781, 783, 785, 787, 789, 791, 793, 795, 797, 799, 801, 803, 805, 807, 809, 811, 813, 815, 817, 819, 821, 823, 825, 827, 829, 831, 833, 835, 837, 839, 841, 843, 845, 847, 849, 851, 853, 855, 857, 859, 861, 863, 865, 867, 869, 871, 873, 875, 877, 879, 881, 883, 885, 887, 889, 891, 893, 895, 897, 899, 901, 903, 905, 907, 909, 911, 913, 915, 917, 919, 921, 923, 925, 927, 929, 931, 933, 935, 937, 939, 941, 943, 945, 947, 949, 951, 953, 955, 957, 959, 961, 963, 965, 967, 969, 971, 973, 975, 977, 979, 981, 983, 985, 987, 989, 991, 993, 995, 997, 999, 1001, 1003, 1005, 1007, 1009, 1011, 1013, 1015, 1017, 1019, 1021, 1023, 1025, 1027, 1029, 1031, 1033, 1035, 1037, 1039, 1041, 1043, 1045, 1047, 1049, 1051]\n"
     ]
    }
   ],
   "source": [
    "evens = []\n",
    "odds = [] \n",
    " \n",
    "for i in range(2,1053):\n",
    "    if (i%2 == 0):\n",
    "        evens.append(i)\n",
    "    elif(i%2 != 0):\n",
    "        odds.append(i)\n",
    "    i+=1\n",
    " \n",
    "print(evens)\n",
    "print(odds)"
   ]
  },
  {
   "cell_type": "markdown",
   "metadata": {},
   "source": [
    "**19) Write a brief definition of what Data Latency and the difference between \"real-time\" and \"near-time\" data.**"
   ]
  },
  {
   "cell_type": "code",
   "execution_count": null,
   "metadata": {
    "collapsed": true
   },
   "outputs": [],
   "source": [
    "Data latency is the time it takes for data packets to be stored or retrieved. In business intelligence (BI), data latency is how long it takes for a business user to retrieve source data from a data warehouse or business intelligence dashboard.\n",
    "Real-time data integration is just what it sounds like. The program collects and aggregates the data as soon as someone does anything on the website.\n",
    "Near-time is data integration that happens periodically. The data is collected immediately, but it isnt aggregated until later. Anyone can set up near-time data integration programs to process the data it collects every day, every hour, or even every few minutes."
   ]
  },
  {
   "cell_type": "markdown",
   "metadata": {},
   "source": [
    "**19) What does the statistic Standard Deviation tell you about a numerical dataset? **"
   ]
  },
  {
   "cell_type": "code",
   "execution_count": null,
   "metadata": {
    "collapsed": true
   },
   "outputs": [],
   "source": [
    "Standard deviation can be difficult to interpret as a single number on its own. Basically, a small standard deviation means that the values in a statistical data set are close to the mean of the data set, on average, and a large standard deviation means that the values in the data set are farther away from the mean, on average."
   ]
  },
  {
   "cell_type": "markdown",
   "metadata": {},
   "source": [
    "**20) Suppose you have the following loop:**<br>\n",
    ">things = [1,2,3,5,6,7,8,9,10]<br>\n",
    ">previous_thing = 0<br>\n",
    ">for thing in things:<br>\n",
    ">>new_thing = thing * previous_thing<br>\n",
    ">>x = 3+previous_thing<br>\n",
    ">>previous_thing = thing<br>\n",
    "\n",
    "**At the end of the loop:**\n",
    ">**What does new_thing equal?**<br>\n",
    ">**What does x equal?**\n",
    "    \n",
    "    \n"
   ]
  },
  {
   "cell_type": "code",
   "execution_count": 21,
   "metadata": {},
   "outputs": [
    {
     "ename": "NameError",
     "evalue": "name 'new_thing' is not defined",
     "output_type": "error",
     "traceback": [
      "\u001b[0;31m---------------------------------------------------------------------------\u001b[0m",
      "\u001b[0;31mNameError\u001b[0m                                 Traceback (most recent call last)",
      "\u001b[0;32m<ipython-input-21-05c976725543>\u001b[0m in \u001b[0;36m<module>\u001b[0;34m()\u001b[0m\n\u001b[0;32m----> 1\u001b[0;31m \u001b[0mnew_thing\u001b[0m \u001b[0;34m==\u001b[0m \u001b[0;36m0\u001b[0m\u001b[0;34m\u001b[0m\u001b[0m\n\u001b[0m\u001b[1;32m      2\u001b[0m \u001b[0mx\u001b[0m \u001b[0;34m==\u001b[0m \u001b[0;36m3\u001b[0m\u001b[0;34m\u001b[0m\u001b[0m\n",
      "\u001b[0;31mNameError\u001b[0m: name 'new_thing' is not defined"
     ]
    }
   ],
   "source": [
    "new_thing == 0\n",
    "x == 3"
   ]
  },
  {
   "cell_type": "markdown",
   "metadata": {},
   "source": [
    "**21) What's the difference between Zero and None or Null?** "
   ]
  },
  {
   "cell_type": "code",
   "execution_count": null,
   "metadata": {
    "collapsed": true
   },
   "outputs": [],
   "source": [
    "'null' is qualitative, representing the absence of quantity. Closer to the word 'void' than the number 'zero'. Example: he reduced it to nil.\n",
    "\n",
    "'zero' is quantitative.Example: he got zero on his exam."
   ]
  },
  {
   "cell_type": "markdown",
   "metadata": {},
   "source": [
    "**22) In the following loop:**<br> \n",
    ">x = 1<br>\n",
    ">sure_thing = True<br>\n",
    ">while sure_thing:<br>\n",
    ">>x = x +100<br>\n",
    ">>if x < 20001: <br>\n",
    ">>>x = x-1<br>\n",
    ">>else: <br>\n",
    ">>>sure_thing = False<br>\n",
    "\n",
    "**What does x equal to make our sure_thing False? **\n",
    "        "
   ]
  },
  {
   "cell_type": "code",
   "execution_count": 26,
   "metadata": {},
   "outputs": [
    {
     "data": {
      "text/plain": [
       "False"
      ]
     },
     "execution_count": 26,
     "metadata": {},
     "output_type": "execute_result"
    }
   ],
   "source": [
    "x==x-1"
   ]
  },
  {
   "cell_type": "markdown",
   "metadata": {},
   "source": [
    "**Based on the DataFrame df and df1 defined below, add needed code to answer the following questions.**"
   ]
  },
  {
   "cell_type": "code",
   "execution_count": 27,
   "metadata": {
    "collapsed": true
   },
   "outputs": [],
   "source": [
    "from pandas import Series, DataFrame\n",
    "import pandas as pd\n",
    "raw_data = {'first_name': ['Jason', 'Jason', 'Tina', 'Jake', 'Amy'],\n",
    "        'last_name': ['Miller', 'Miller', 'Ali', 'Milner', 'Milner'],\n",
    "        'age': [42, 42, 36, 24, 73],\n",
    "        'preTest': [4, 4, 31, 2, 3],\n",
    "        'postTest': [25, 25, 57, 62, 70]}\n",
    "df = pd.DataFrame(raw_data, columns = ['first_name', 'last_name', 'age', 'preTest', 'postTest'])\n",
    "df1 = df"
   ]
  },
  {
   "cell_type": "markdown",
   "metadata": {},
   "source": [
    "**23) What are the column names in df1?print the result.**"
   ]
  },
  {
   "cell_type": "code",
   "execution_count": 28,
   "metadata": {},
   "outputs": [
    {
     "name": "stdout",
     "output_type": "stream",
     "text": [
      "  first_name last_name  age  preTest  postTest\n",
      "0      Jason    Miller   42        4        25\n",
      "1      Jason    Miller   42        4        25\n",
      "2       Tina       Ali   36       31        57\n",
      "3       Jake    Milner   24        2        62\n",
      "4        Amy    Milner   73        3        70\n"
     ]
    }
   ],
   "source": [
    "print df1"
   ]
  },
  {
   "cell_type": "markdown",
   "metadata": {},
   "source": [
    "**24) What is the average (mean) of the preTest and postTest scores?print the result. **"
   ]
  },
  {
   "cell_type": "code",
   "execution_count": 29,
   "metadata": {},
   "outputs": [
    {
     "data": {
      "text/plain": [
       "preTest      8.8\n",
       "postTest    47.8\n",
       "dtype: float64"
      ]
     },
     "execution_count": 29,
     "metadata": {},
     "output_type": "execute_result"
    }
   ],
   "source": [
    "df1[['preTest', 'postTest']].mean()"
   ]
  },
  {
   "cell_type": "markdown",
   "metadata": {},
   "source": [
    "**25) Remove duplicated rows in df based on last_name only.  Instead of keeping the first value, now keep the last of the duplicated values.print the result.**"
   ]
  },
  {
   "cell_type": "code",
   "execution_count": 30,
   "metadata": {
    "scrolled": true
   },
   "outputs": [
    {
     "data": {
      "text/html": [
       "<div>\n",
       "<style>\n",
       "    .dataframe thead tr:only-child th {\n",
       "        text-align: right;\n",
       "    }\n",
       "\n",
       "    .dataframe thead th {\n",
       "        text-align: left;\n",
       "    }\n",
       "\n",
       "    .dataframe tbody tr th {\n",
       "        vertical-align: top;\n",
       "    }\n",
       "</style>\n",
       "<table border=\"1\" class=\"dataframe\">\n",
       "  <thead>\n",
       "    <tr style=\"text-align: right;\">\n",
       "      <th></th>\n",
       "      <th>first_name</th>\n",
       "      <th>last_name</th>\n",
       "      <th>age</th>\n",
       "      <th>preTest</th>\n",
       "      <th>postTest</th>\n",
       "    </tr>\n",
       "  </thead>\n",
       "  <tbody>\n",
       "    <tr>\n",
       "      <th>1</th>\n",
       "      <td>Jason</td>\n",
       "      <td>Miller</td>\n",
       "      <td>42</td>\n",
       "      <td>4</td>\n",
       "      <td>25</td>\n",
       "    </tr>\n",
       "    <tr>\n",
       "      <th>2</th>\n",
       "      <td>Tina</td>\n",
       "      <td>Ali</td>\n",
       "      <td>36</td>\n",
       "      <td>31</td>\n",
       "      <td>57</td>\n",
       "    </tr>\n",
       "    <tr>\n",
       "      <th>4</th>\n",
       "      <td>Amy</td>\n",
       "      <td>Milner</td>\n",
       "      <td>73</td>\n",
       "      <td>3</td>\n",
       "      <td>70</td>\n",
       "    </tr>\n",
       "  </tbody>\n",
       "</table>\n",
       "</div>"
      ],
      "text/plain": [
       "  first_name last_name  age  preTest  postTest\n",
       "1      Jason    Miller   42        4        25\n",
       "2       Tina       Ali   36       31        57\n",
       "4        Amy    Milner   73        3        70"
      ]
     },
     "execution_count": 30,
     "metadata": {},
     "output_type": "execute_result"
    }
   ],
   "source": [
    "df.drop_duplicates('last_name', keep='last')"
   ]
  },
  {
   "cell_type": "markdown",
   "metadata": {},
   "source": [
    "**26) Remove duplicated rows in df1 based on both first_name and last_name.  print the result.**"
   ]
  },
  {
   "cell_type": "code",
   "execution_count": 31,
   "metadata": {},
   "outputs": [
    {
     "data": {
      "text/plain": [
       "(  first_name last_name  age  preTest  postTest\n",
       " 0      Jason    Miller   42        4        25\n",
       " 2       Tina       Ali   36       31        57\n",
       " 3       Jake    Milner   24        2        62\n",
       " 4        Amy    Milner   73        3        70, 'last_name')"
      ]
     },
     "execution_count": 31,
     "metadata": {},
     "output_type": "execute_result"
    }
   ],
   "source": [
    "df1.drop_duplicates('first_name'),('last_name')"
   ]
  },
  {
   "cell_type": "markdown",
   "metadata": {},
   "source": [
    "***Use the dataframe defined in the following cell to answer the next few questions***: "
   ]
  },
  {
   "cell_type": "code",
   "execution_count": 32,
   "metadata": {},
   "outputs": [
    {
     "name": "stdout",
     "output_type": "stream",
     "text": [
      "            0         1         2         3\n",
      "0    0.496714 -0.138264  0.647689  1.523030\n",
      "1   -0.234153 -0.234137  1.579213  0.767435\n",
      "2   -0.469474  0.542560 -0.463418 -0.465730\n",
      "3    0.241962 -1.913280 -1.724918 -0.562288\n",
      "4   -1.012831  0.314247 -0.908024 -1.412304\n",
      "5    1.465649 -0.225776  0.067528 -1.424748\n",
      "6   -0.544383  0.110923 -1.150994  0.375698\n",
      "7   -0.600639 -0.291694 -0.601707  1.852278\n",
      "8   -0.013497 -1.057711  0.822545 -1.220844\n",
      "9    0.208864 -1.959670 -1.328186  0.196861\n",
      "10   0.738467  0.171368 -0.115648 -0.301104\n",
      "11  -1.478522 -0.719844 -0.460639  1.057122\n",
      "12   0.343618 -1.763040  0.324084 -0.385082\n",
      "13  -0.676922  0.611676  1.031000  0.931280\n",
      "14  -0.839218 -0.309212  0.331263  0.975545\n",
      "15  -0.479174 -0.185659 -1.106335 -1.196207\n",
      "16   0.812526  1.356240 -0.072010  1.003533\n",
      "17   0.361636 -0.645120  0.361396  1.538037\n",
      "18  -0.035826  1.564644 -2.619745  0.821903\n",
      "19   0.087047 -0.299007  0.091761 -1.987569\n",
      "20  -0.219672  0.357113  1.477894 -0.518270\n",
      "21  -0.808494 -0.501757  0.915402  0.328751\n",
      "22  -0.529760  0.513267  0.097078  0.968645\n",
      "23  -0.702053 -0.327662 -0.392108 -1.463515\n",
      "24   0.296120  0.261055  0.005113 -0.234587\n",
      "25  -1.415371 -0.420645 -0.342715 -0.802277\n",
      "26  -0.161286  0.404051  1.886186  0.174578\n",
      "27   0.257550 -0.074446 -1.918771 -0.026514\n",
      "28   0.060230  2.463242 -0.192361  0.301547\n",
      "29  -0.034712 -1.168678  1.142823  0.751933\n",
      "..        ...       ...       ...       ...\n",
      "370  0.722381 -0.372833  1.726964 -0.399636\n",
      "371  0.224685  0.932591 -1.418366 -1.760809\n",
      "372 -1.525656  1.262584 -0.551858  2.558199\n",
      "373 -0.564248  0.184551  1.542110  2.006093\n",
      "374  2.061504  1.208366  1.024063  0.592527\n",
      "375  0.778361 -0.551186 -0.818199 -0.003374\n",
      "376 -0.170185 -0.453228  0.696387  0.955305\n",
      "377  0.088407  1.477530 -1.141689 -0.193659\n",
      "378 -0.716822 -1.866537 -0.082681 -0.121748\n",
      "379  1.513450  0.630812 -1.024187  1.854093\n",
      "380  1.221034  0.582098 -0.226484 -0.959439\n",
      "381 -0.372207  1.088749  1.884586  1.543244\n",
      "382 -0.488849 -1.119617  0.140886 -1.768439\n",
      "383  0.323168 -0.147603 -0.466037 -1.594703\n",
      "384  0.513600 -0.532701 -1.169917 -2.872262\n",
      "385 -0.027515  1.772252  1.661259 -0.457096\n",
      "386 -0.602212  0.468774 -0.998385  0.301792\n",
      "387  0.766080  1.226933 -0.100154 -0.203674\n",
      "388 -0.877983 -0.826880 -0.226479  0.367366\n",
      "389  0.913585 -0.803179  1.492689 -0.271124\n",
      "390 -0.021367 -0.747212 -2.424240  0.884045\n",
      "391  0.736844 -0.281328  0.066991  0.515939\n",
      "392 -1.562546 -0.529053  0.794265 -1.254289\n",
      "393  0.293558 -1.356582  0.466430 -0.035641\n",
      "394 -1.615132  1.164739 -0.734592 -0.810252\n",
      "395  0.200569  1.148637 -1.015822  0.061680\n",
      "396  0.428817  0.693106  0.176442 -0.367028\n",
      "397 -0.827590  0.086144 -1.072139 -2.921350\n",
      "398  0.436560  0.903935 -2.362932 -1.009731\n",
      "399  0.619154  2.057495  0.020794 -0.728003\n",
      "\n",
      "[400 rows x 4 columns]\n"
     ]
    }
   ],
   "source": [
    "from pandas import Series, DataFrame\n",
    "import pandas as pd\n",
    "from numpy.random import randn\n",
    "import numpy as np\n",
    "np.random.seed(42)\n",
    "randomdata = DataFrame(np.random.randn(400, 4))\n",
    "print randomdata\n",
    "%matplotlib inline"
   ]
  },
  {
   "cell_type": "code",
   "execution_count": null,
   "metadata": {
    "collapsed": true
   },
   "outputs": [],
   "source": []
  },
  {
   "cell_type": "markdown",
   "metadata": {},
   "source": [
    "**27) Use the \"describe\" function to summarize the randomdata created above.**"
   ]
  },
  {
   "cell_type": "code",
   "execution_count": 33,
   "metadata": {
    "scrolled": true
   },
   "outputs": [
    {
     "data": {
      "text/plain": [
       "count    200.000000\n",
       "mean       0.130630\n",
       "std        0.969816\n",
       "min       -2.940389\n",
       "25%       -0.472794\n",
       "50%        0.095414\n",
       "75%        0.764957\n",
       "max        3.193108\n",
       "dtype: float64"
      ]
     },
     "execution_count": 33,
     "metadata": {},
     "output_type": "execute_result"
    }
   ],
   "source": [
    "series = pd.Series(np.random.randn(400))\n",
    "series[::2] = np.nan\n",
    "series.describe()                   "
   ]
  },
  {
   "cell_type": "markdown",
   "metadata": {},
   "source": [
    "**28) Identify the rows which contains at least one item with absolute value greater than 1**"
   ]
  },
  {
   "cell_type": "code",
   "execution_count": 34,
   "metadata": {
    "scrolled": true
   },
   "outputs": [
    {
     "data": {
      "text/plain": [
       "0   -0.675178\n",
       "1   -0.144519\n",
       "dtype: float64"
      ]
     },
     "execution_count": 34,
     "metadata": {},
     "output_type": "execute_result"
    }
   ],
   "source": [
    "s1 = pd.Series(np.random.randn(2))\n",
    "s1"
   ]
  },
  {
   "cell_type": "markdown",
   "metadata": {},
   "source": [
    "**29) Set the values greater than 3 to 3, and the values less than -3 to -3.  Rerun the 'describe' function to summarize the randomdata dataset.**"
   ]
  },
  {
   "cell_type": "code",
   "execution_count": 35,
   "metadata": {},
   "outputs": [
    {
     "data": {
      "text/plain": [
       "0   -0.792420\n",
       "1   -0.307962\n",
       "2   -1.893615\n",
       "3    0.213294\n",
       "4    0.001205\n",
       "dtype: float64"
      ]
     },
     "execution_count": 35,
     "metadata": {},
     "output_type": "execute_result"
    }
   ],
   "source": [
    "s1 = pd.Series(np.random.randn(5))\n",
    "s1"
   ]
  },
  {
   "cell_type": "markdown",
   "metadata": {},
   "source": [
    "***Use the dataframe defined in the following cell to answer the next few questions***: "
   ]
  },
  {
   "cell_type": "code",
   "execution_count": 36,
   "metadata": {
    "scrolled": true
   },
   "outputs": [
    {
     "data": {
      "text/html": [
       "<div>\n",
       "<style>\n",
       "    .dataframe thead tr:only-child th {\n",
       "        text-align: right;\n",
       "    }\n",
       "\n",
       "    .dataframe thead th {\n",
       "        text-align: left;\n",
       "    }\n",
       "\n",
       "    .dataframe tbody tr th {\n",
       "        vertical-align: top;\n",
       "    }\n",
       "</style>\n",
       "<table border=\"1\" class=\"dataframe\">\n",
       "  <thead>\n",
       "    <tr style=\"text-align: right;\">\n",
       "      <th></th>\n",
       "      <th>GrossIn</th>\n",
       "      <th>GrossOut</th>\n",
       "      <th>NetIn</th>\n",
       "      <th>NetOut</th>\n",
       "    </tr>\n",
       "  </thead>\n",
       "  <tbody>\n",
       "    <tr>\n",
       "      <th>2015-11-29</th>\n",
       "      <td>-0.817089</td>\n",
       "      <td>0.659246</td>\n",
       "      <td>0.937570</td>\n",
       "      <td>-1.607560</td>\n",
       "    </tr>\n",
       "    <tr>\n",
       "      <th>2015-12-06</th>\n",
       "      <td>-0.762725</td>\n",
       "      <td>-0.769142</td>\n",
       "      <td>-0.939903</td>\n",
       "      <td>0.829475</td>\n",
       "    </tr>\n",
       "    <tr>\n",
       "      <th>2015-12-13</th>\n",
       "      <td>-0.193826</td>\n",
       "      <td>-0.264515</td>\n",
       "      <td>-2.003862</td>\n",
       "      <td>0.635418</td>\n",
       "    </tr>\n",
       "    <tr>\n",
       "      <th>2015-12-20</th>\n",
       "      <td>-1.239258</td>\n",
       "      <td>0.059933</td>\n",
       "      <td>0.277377</td>\n",
       "      <td>1.360659</td>\n",
       "    </tr>\n",
       "    <tr>\n",
       "      <th>2015-12-27</th>\n",
       "      <td>-1.308820</td>\n",
       "      <td>-3.019512</td>\n",
       "      <td>0.183850</td>\n",
       "      <td>1.800511</td>\n",
       "    </tr>\n",
       "    <tr>\n",
       "      <th>2016-01-03</th>\n",
       "      <td>1.238946</td>\n",
       "      <td>0.209659</td>\n",
       "      <td>-0.491636</td>\n",
       "      <td>0.807123</td>\n",
       "    </tr>\n",
       "    <tr>\n",
       "      <th>2016-01-10</th>\n",
       "      <td>-0.973546</td>\n",
       "      <td>0.476358</td>\n",
       "      <td>0.505470</td>\n",
       "      <td>1.060210</td>\n",
       "    </tr>\n",
       "    <tr>\n",
       "      <th>2016-01-17</th>\n",
       "      <td>2.759660</td>\n",
       "      <td>0.392416</td>\n",
       "      <td>-0.508964</td>\n",
       "      <td>-0.025574</td>\n",
       "    </tr>\n",
       "    <tr>\n",
       "      <th>2016-01-24</th>\n",
       "      <td>-1.769076</td>\n",
       "      <td>-0.694713</td>\n",
       "      <td>-0.409282</td>\n",
       "      <td>-0.524088</td>\n",
       "    </tr>\n",
       "    <tr>\n",
       "      <th>2016-01-31</th>\n",
       "      <td>0.152355</td>\n",
       "      <td>-0.822420</td>\n",
       "      <td>1.121031</td>\n",
       "      <td>0.000207</td>\n",
       "    </tr>\n",
       "    <tr>\n",
       "      <th>2016-02-07</th>\n",
       "      <td>-0.009300</td>\n",
       "      <td>-0.327895</td>\n",
       "      <td>0.155191</td>\n",
       "      <td>0.825098</td>\n",
       "    </tr>\n",
       "    <tr>\n",
       "      <th>2016-02-14</th>\n",
       "      <td>-0.867130</td>\n",
       "      <td>-0.658116</td>\n",
       "      <td>-0.303726</td>\n",
       "      <td>-1.345871</td>\n",
       "    </tr>\n",
       "    <tr>\n",
       "      <th>2016-02-21</th>\n",
       "      <td>-0.819258</td>\n",
       "      <td>-0.476221</td>\n",
       "      <td>0.874389</td>\n",
       "      <td>0.262561</td>\n",
       "    </tr>\n",
       "    <tr>\n",
       "      <th>2016-02-28</th>\n",
       "      <td>0.193590</td>\n",
       "      <td>0.850898</td>\n",
       "      <td>-0.137372</td>\n",
       "      <td>0.390465</td>\n",
       "    </tr>\n",
       "    <tr>\n",
       "      <th>2016-03-06</th>\n",
       "      <td>-0.103222</td>\n",
       "      <td>0.265362</td>\n",
       "      <td>-0.582759</td>\n",
       "      <td>-2.438817</td>\n",
       "    </tr>\n",
       "    <tr>\n",
       "      <th>2016-03-13</th>\n",
       "      <td>-0.134279</td>\n",
       "      <td>1.422748</td>\n",
       "      <td>0.926215</td>\n",
       "      <td>0.965397</td>\n",
       "    </tr>\n",
       "    <tr>\n",
       "      <th>2016-03-20</th>\n",
       "      <td>1.236131</td>\n",
       "      <td>0.088658</td>\n",
       "      <td>0.197316</td>\n",
       "      <td>-0.617652</td>\n",
       "    </tr>\n",
       "    <tr>\n",
       "      <th>2016-03-27</th>\n",
       "      <td>-0.316073</td>\n",
       "      <td>0.615771</td>\n",
       "      <td>1.203884</td>\n",
       "      <td>-0.139446</td>\n",
       "    </tr>\n",
       "    <tr>\n",
       "      <th>2016-04-03</th>\n",
       "      <td>-0.450189</td>\n",
       "      <td>0.000528</td>\n",
       "      <td>0.601207</td>\n",
       "      <td>-1.443855</td>\n",
       "    </tr>\n",
       "    <tr>\n",
       "      <th>2016-04-10</th>\n",
       "      <td>-2.296181</td>\n",
       "      <td>-0.550537</td>\n",
       "      <td>-1.220712</td>\n",
       "      <td>-0.508140</td>\n",
       "    </tr>\n",
       "    <tr>\n",
       "      <th>2016-04-17</th>\n",
       "      <td>-0.147780</td>\n",
       "      <td>-0.453248</td>\n",
       "      <td>1.452468</td>\n",
       "      <td>0.326745</td>\n",
       "    </tr>\n",
       "    <tr>\n",
       "      <th>2016-04-24</th>\n",
       "      <td>0.300474</td>\n",
       "      <td>0.622207</td>\n",
       "      <td>-1.138833</td>\n",
       "      <td>1.039112</td>\n",
       "    </tr>\n",
       "    <tr>\n",
       "      <th>2016-05-01</th>\n",
       "      <td>-0.075764</td>\n",
       "      <td>0.670481</td>\n",
       "      <td>-1.071857</td>\n",
       "      <td>-1.553759</td>\n",
       "    </tr>\n",
       "    <tr>\n",
       "      <th>2016-05-08</th>\n",
       "      <td>0.817890</td>\n",
       "      <td>0.376410</td>\n",
       "      <td>-0.902052</td>\n",
       "      <td>-0.869663</td>\n",
       "    </tr>\n",
       "    <tr>\n",
       "      <th>2016-05-15</th>\n",
       "      <td>1.125435</td>\n",
       "      <td>-1.189412</td>\n",
       "      <td>1.642673</td>\n",
       "      <td>-0.900621</td>\n",
       "    </tr>\n",
       "    <tr>\n",
       "      <th>2016-05-22</th>\n",
       "      <td>0.638392</td>\n",
       "      <td>-0.328618</td>\n",
       "      <td>0.603187</td>\n",
       "      <td>-0.544114</td>\n",
       "    </tr>\n",
       "    <tr>\n",
       "      <th>2016-05-29</th>\n",
       "      <td>-0.162793</td>\n",
       "      <td>0.040919</td>\n",
       "      <td>-1.002187</td>\n",
       "      <td>0.740824</td>\n",
       "    </tr>\n",
       "    <tr>\n",
       "      <th>2016-06-05</th>\n",
       "      <td>-0.513214</td>\n",
       "      <td>-0.228600</td>\n",
       "      <td>-0.994349</td>\n",
       "      <td>-2.562334</td>\n",
       "    </tr>\n",
       "    <tr>\n",
       "      <th>2016-06-12</th>\n",
       "      <td>-0.191028</td>\n",
       "      <td>2.412615</td>\n",
       "      <td>0.784604</td>\n",
       "      <td>-0.019260</td>\n",
       "    </tr>\n",
       "    <tr>\n",
       "      <th>2016-06-19</th>\n",
       "      <td>-0.262891</td>\n",
       "      <td>0.022466</td>\n",
       "      <td>0.547119</td>\n",
       "      <td>-1.180813</td>\n",
       "    </tr>\n",
       "    <tr>\n",
       "      <th>2016-06-26</th>\n",
       "      <td>1.114322</td>\n",
       "      <td>0.715381</td>\n",
       "      <td>0.718186</td>\n",
       "      <td>0.438476</td>\n",
       "    </tr>\n",
       "    <tr>\n",
       "      <th>2016-07-03</th>\n",
       "      <td>0.019617</td>\n",
       "      <td>0.672861</td>\n",
       "      <td>0.591814</td>\n",
       "      <td>-0.354041</td>\n",
       "    </tr>\n",
       "    <tr>\n",
       "      <th>2016-07-10</th>\n",
       "      <td>-0.573602</td>\n",
       "      <td>0.101856</td>\n",
       "      <td>1.549020</td>\n",
       "      <td>-1.239107</td>\n",
       "    </tr>\n",
       "    <tr>\n",
       "      <th>2016-07-17</th>\n",
       "      <td>-1.467525</td>\n",
       "      <td>0.164761</td>\n",
       "      <td>0.050888</td>\n",
       "      <td>0.173342</td>\n",
       "    </tr>\n",
       "    <tr>\n",
       "      <th>2016-07-24</th>\n",
       "      <td>0.243953</td>\n",
       "      <td>-0.223202</td>\n",
       "      <td>1.489863</td>\n",
       "      <td>-1.600904</td>\n",
       "    </tr>\n",
       "    <tr>\n",
       "      <th>2016-07-31</th>\n",
       "      <td>-0.828497</td>\n",
       "      <td>-0.103255</td>\n",
       "      <td>-1.643189</td>\n",
       "      <td>-0.175854</td>\n",
       "    </tr>\n",
       "    <tr>\n",
       "      <th>2016-08-07</th>\n",
       "      <td>1.661470</td>\n",
       "      <td>0.020886</td>\n",
       "      <td>0.230701</td>\n",
       "      <td>-1.260165</td>\n",
       "    </tr>\n",
       "    <tr>\n",
       "      <th>2016-08-14</th>\n",
       "      <td>-0.616361</td>\n",
       "      <td>-0.375196</td>\n",
       "      <td>-0.317715</td>\n",
       "      <td>1.281644</td>\n",
       "    </tr>\n",
       "    <tr>\n",
       "      <th>2016-08-21</th>\n",
       "      <td>0.557691</td>\n",
       "      <td>-1.111458</td>\n",
       "      <td>0.246505</td>\n",
       "      <td>0.498222</td>\n",
       "    </tr>\n",
       "    <tr>\n",
       "      <th>2016-08-28</th>\n",
       "      <td>1.140149</td>\n",
       "      <td>1.580541</td>\n",
       "      <td>-1.015094</td>\n",
       "      <td>-0.810858</td>\n",
       "    </tr>\n",
       "    <tr>\n",
       "      <th>2016-09-04</th>\n",
       "      <td>-1.257578</td>\n",
       "      <td>-0.234020</td>\n",
       "      <td>0.466358</td>\n",
       "      <td>0.987335</td>\n",
       "    </tr>\n",
       "    <tr>\n",
       "      <th>2016-09-11</th>\n",
       "      <td>-0.075951</td>\n",
       "      <td>-0.319848</td>\n",
       "      <td>0.151758</td>\n",
       "      <td>-0.835143</td>\n",
       "    </tr>\n",
       "    <tr>\n",
       "      <th>2016-09-18</th>\n",
       "      <td>2.089539</td>\n",
       "      <td>-1.607661</td>\n",
       "      <td>0.184741</td>\n",
       "      <td>2.023606</td>\n",
       "    </tr>\n",
       "    <tr>\n",
       "      <th>2016-09-25</th>\n",
       "      <td>0.006800</td>\n",
       "      <td>-0.190039</td>\n",
       "      <td>-0.357445</td>\n",
       "      <td>-0.180392</td>\n",
       "    </tr>\n",
       "    <tr>\n",
       "      <th>2016-10-02</th>\n",
       "      <td>1.372848</td>\n",
       "      <td>-2.211862</td>\n",
       "      <td>1.533434</td>\n",
       "      <td>-1.423957</td>\n",
       "    </tr>\n",
       "    <tr>\n",
       "      <th>2016-10-09</th>\n",
       "      <td>-0.266652</td>\n",
       "      <td>-0.429244</td>\n",
       "      <td>0.588553</td>\n",
       "      <td>-1.598124</td>\n",
       "    </tr>\n",
       "    <tr>\n",
       "      <th>2016-10-16</th>\n",
       "      <td>0.462173</td>\n",
       "      <td>2.024310</td>\n",
       "      <td>-1.363174</td>\n",
       "      <td>0.189706</td>\n",
       "    </tr>\n",
       "    <tr>\n",
       "      <th>2016-10-23</th>\n",
       "      <td>-0.661982</td>\n",
       "      <td>0.425887</td>\n",
       "      <td>0.019148</td>\n",
       "      <td>-0.641487</td>\n",
       "    </tr>\n",
       "    <tr>\n",
       "      <th>2016-10-30</th>\n",
       "      <td>0.487872</td>\n",
       "      <td>1.804348</td>\n",
       "      <td>-0.190904</td>\n",
       "      <td>0.719758</td>\n",
       "    </tr>\n",
       "    <tr>\n",
       "      <th>2016-11-06</th>\n",
       "      <td>-1.293273</td>\n",
       "      <td>-0.956436</td>\n",
       "      <td>0.472406</td>\n",
       "      <td>1.484116</td>\n",
       "    </tr>\n",
       "    <tr>\n",
       "      <th>2016-11-13</th>\n",
       "      <td>0.355613</td>\n",
       "      <td>-0.313058</td>\n",
       "      <td>-0.000709</td>\n",
       "      <td>-1.250408</td>\n",
       "    </tr>\n",
       "    <tr>\n",
       "      <th>2016-11-20</th>\n",
       "      <td>0.604515</td>\n",
       "      <td>0.882333</td>\n",
       "      <td>-0.452090</td>\n",
       "      <td>-0.470042</td>\n",
       "    </tr>\n",
       "    <tr>\n",
       "      <th>2016-11-27</th>\n",
       "      <td>0.265878</td>\n",
       "      <td>-0.436720</td>\n",
       "      <td>-0.066133</td>\n",
       "      <td>2.099722</td>\n",
       "    </tr>\n",
       "    <tr>\n",
       "      <th>2016-12-04</th>\n",
       "      <td>-0.247026</td>\n",
       "      <td>-0.358340</td>\n",
       "      <td>-0.647542</td>\n",
       "      <td>0.744192</td>\n",
       "    </tr>\n",
       "    <tr>\n",
       "      <th>2016-12-11</th>\n",
       "      <td>-0.181224</td>\n",
       "      <td>-0.649373</td>\n",
       "      <td>1.321304</td>\n",
       "      <td>1.419603</td>\n",
       "    </tr>\n",
       "    <tr>\n",
       "      <th>2016-12-18</th>\n",
       "      <td>-0.600424</td>\n",
       "      <td>-1.866540</td>\n",
       "      <td>1.007514</td>\n",
       "      <td>-0.684630</td>\n",
       "    </tr>\n",
       "    <tr>\n",
       "      <th>2016-12-25</th>\n",
       "      <td>0.790626</td>\n",
       "      <td>-1.970104</td>\n",
       "      <td>0.892597</td>\n",
       "      <td>-1.211172</td>\n",
       "    </tr>\n",
       "    <tr>\n",
       "      <th>2017-01-01</th>\n",
       "      <td>0.730764</td>\n",
       "      <td>0.014273</td>\n",
       "      <td>-0.953939</td>\n",
       "      <td>-0.407036</td>\n",
       "    </tr>\n",
       "    <tr>\n",
       "      <th>2017-01-08</th>\n",
       "      <td>0.686318</td>\n",
       "      <td>0.105894</td>\n",
       "      <td>0.584413</td>\n",
       "      <td>1.976441</td>\n",
       "    </tr>\n",
       "  </tbody>\n",
       "</table>\n",
       "</div>"
      ],
      "text/plain": [
       "             GrossIn  GrossOut     NetIn    NetOut\n",
       "2015-11-29 -0.817089  0.659246  0.937570 -1.607560\n",
       "2015-12-06 -0.762725 -0.769142 -0.939903  0.829475\n",
       "2015-12-13 -0.193826 -0.264515 -2.003862  0.635418\n",
       "2015-12-20 -1.239258  0.059933  0.277377  1.360659\n",
       "2015-12-27 -1.308820 -3.019512  0.183850  1.800511\n",
       "2016-01-03  1.238946  0.209659 -0.491636  0.807123\n",
       "2016-01-10 -0.973546  0.476358  0.505470  1.060210\n",
       "2016-01-17  2.759660  0.392416 -0.508964 -0.025574\n",
       "2016-01-24 -1.769076 -0.694713 -0.409282 -0.524088\n",
       "2016-01-31  0.152355 -0.822420  1.121031  0.000207\n",
       "2016-02-07 -0.009300 -0.327895  0.155191  0.825098\n",
       "2016-02-14 -0.867130 -0.658116 -0.303726 -1.345871\n",
       "2016-02-21 -0.819258 -0.476221  0.874389  0.262561\n",
       "2016-02-28  0.193590  0.850898 -0.137372  0.390465\n",
       "2016-03-06 -0.103222  0.265362 -0.582759 -2.438817\n",
       "2016-03-13 -0.134279  1.422748  0.926215  0.965397\n",
       "2016-03-20  1.236131  0.088658  0.197316 -0.617652\n",
       "2016-03-27 -0.316073  0.615771  1.203884 -0.139446\n",
       "2016-04-03 -0.450189  0.000528  0.601207 -1.443855\n",
       "2016-04-10 -2.296181 -0.550537 -1.220712 -0.508140\n",
       "2016-04-17 -0.147780 -0.453248  1.452468  0.326745\n",
       "2016-04-24  0.300474  0.622207 -1.138833  1.039112\n",
       "2016-05-01 -0.075764  0.670481 -1.071857 -1.553759\n",
       "2016-05-08  0.817890  0.376410 -0.902052 -0.869663\n",
       "2016-05-15  1.125435 -1.189412  1.642673 -0.900621\n",
       "2016-05-22  0.638392 -0.328618  0.603187 -0.544114\n",
       "2016-05-29 -0.162793  0.040919 -1.002187  0.740824\n",
       "2016-06-05 -0.513214 -0.228600 -0.994349 -2.562334\n",
       "2016-06-12 -0.191028  2.412615  0.784604 -0.019260\n",
       "2016-06-19 -0.262891  0.022466  0.547119 -1.180813\n",
       "2016-06-26  1.114322  0.715381  0.718186  0.438476\n",
       "2016-07-03  0.019617  0.672861  0.591814 -0.354041\n",
       "2016-07-10 -0.573602  0.101856  1.549020 -1.239107\n",
       "2016-07-17 -1.467525  0.164761  0.050888  0.173342\n",
       "2016-07-24  0.243953 -0.223202  1.489863 -1.600904\n",
       "2016-07-31 -0.828497 -0.103255 -1.643189 -0.175854\n",
       "2016-08-07  1.661470  0.020886  0.230701 -1.260165\n",
       "2016-08-14 -0.616361 -0.375196 -0.317715  1.281644\n",
       "2016-08-21  0.557691 -1.111458  0.246505  0.498222\n",
       "2016-08-28  1.140149  1.580541 -1.015094 -0.810858\n",
       "2016-09-04 -1.257578 -0.234020  0.466358  0.987335\n",
       "2016-09-11 -0.075951 -0.319848  0.151758 -0.835143\n",
       "2016-09-18  2.089539 -1.607661  0.184741  2.023606\n",
       "2016-09-25  0.006800 -0.190039 -0.357445 -0.180392\n",
       "2016-10-02  1.372848 -2.211862  1.533434 -1.423957\n",
       "2016-10-09 -0.266652 -0.429244  0.588553 -1.598124\n",
       "2016-10-16  0.462173  2.024310 -1.363174  0.189706\n",
       "2016-10-23 -0.661982  0.425887  0.019148 -0.641487\n",
       "2016-10-30  0.487872  1.804348 -0.190904  0.719758\n",
       "2016-11-06 -1.293273 -0.956436  0.472406  1.484116\n",
       "2016-11-13  0.355613 -0.313058 -0.000709 -1.250408\n",
       "2016-11-20  0.604515  0.882333 -0.452090 -0.470042\n",
       "2016-11-27  0.265878 -0.436720 -0.066133  2.099722\n",
       "2016-12-04 -0.247026 -0.358340 -0.647542  0.744192\n",
       "2016-12-11 -0.181224 -0.649373  1.321304  1.419603\n",
       "2016-12-18 -0.600424 -1.866540  1.007514 -0.684630\n",
       "2016-12-25  0.790626 -1.970104  0.892597 -1.211172\n",
       "2017-01-01  0.730764  0.014273 -0.953939 -0.407036\n",
       "2017-01-08  0.686318  0.105894  0.584413  1.976441"
      ]
     },
     "execution_count": 36,
     "metadata": {},
     "output_type": "execute_result"
    }
   ],
   "source": [
    "df2 = pd.DataFrame(np.random.randn(59,4))\n",
    "cols = ['GrossIn', 'GrossOut', 'NetIn', 'NetOut']\n",
    "df2.columns = cols\n",
    "dates = pd.date_range(start='2015-11-29', freq='W', periods=59)\n",
    "df2.index = dates\n",
    "df2"
   ]
  },
  {
   "cell_type": "markdown",
   "metadata": {},
   "source": [
    "**30) Print all the data from 2016-06-19 to 2016-10-20 in df2 above.**"
   ]
  },
  {
   "cell_type": "code",
   "execution_count": 37,
   "metadata": {
    "scrolled": true
   },
   "outputs": [
    {
     "data": {
      "text/html": [
       "<div>\n",
       "<style>\n",
       "    .dataframe thead tr:only-child th {\n",
       "        text-align: right;\n",
       "    }\n",
       "\n",
       "    .dataframe thead th {\n",
       "        text-align: left;\n",
       "    }\n",
       "\n",
       "    .dataframe tbody tr th {\n",
       "        vertical-align: top;\n",
       "    }\n",
       "</style>\n",
       "<table border=\"1\" class=\"dataframe\">\n",
       "  <thead>\n",
       "    <tr style=\"text-align: right;\">\n",
       "      <th></th>\n",
       "      <th>GrossIn</th>\n",
       "      <th>GrossOut</th>\n",
       "      <th>NetIn</th>\n",
       "      <th>NetOut</th>\n",
       "    </tr>\n",
       "  </thead>\n",
       "  <tbody>\n",
       "    <tr>\n",
       "      <th>2016-06-19</th>\n",
       "      <td>-1.564242</td>\n",
       "      <td>1.617213</td>\n",
       "      <td>0.104356</td>\n",
       "      <td>-0.898784</td>\n",
       "    </tr>\n",
       "    <tr>\n",
       "      <th>2016-06-26</th>\n",
       "      <td>-1.330314</td>\n",
       "      <td>-0.189120</td>\n",
       "      <td>0.921650</td>\n",
       "      <td>-0.127549</td>\n",
       "    </tr>\n",
       "    <tr>\n",
       "      <th>2016-07-03</th>\n",
       "      <td>1.511155</td>\n",
       "      <td>-1.451176</td>\n",
       "      <td>-0.012089</td>\n",
       "      <td>-1.252393</td>\n",
       "    </tr>\n",
       "    <tr>\n",
       "      <th>2016-07-10</th>\n",
       "      <td>0.363632</td>\n",
       "      <td>0.886887</td>\n",
       "      <td>-0.420762</td>\n",
       "      <td>-2.604214</td>\n",
       "    </tr>\n",
       "    <tr>\n",
       "      <th>2016-07-17</th>\n",
       "      <td>0.198948</td>\n",
       "      <td>0.436739</td>\n",
       "      <td>0.404295</td>\n",
       "      <td>1.235782</td>\n",
       "    </tr>\n",
       "    <tr>\n",
       "      <th>2016-07-24</th>\n",
       "      <td>-1.071054</td>\n",
       "      <td>0.680216</td>\n",
       "      <td>1.192508</td>\n",
       "      <td>-1.778588</td>\n",
       "    </tr>\n",
       "    <tr>\n",
       "      <th>2016-07-31</th>\n",
       "      <td>0.319652</td>\n",
       "      <td>-0.504180</td>\n",
       "      <td>-0.081523</td>\n",
       "      <td>0.347676</td>\n",
       "    </tr>\n",
       "    <tr>\n",
       "      <th>2016-08-07</th>\n",
       "      <td>-0.487229</td>\n",
       "      <td>-0.675708</td>\n",
       "      <td>0.034152</td>\n",
       "      <td>-1.087246</td>\n",
       "    </tr>\n",
       "    <tr>\n",
       "      <th>2016-08-14</th>\n",
       "      <td>-1.085825</td>\n",
       "      <td>0.679373</td>\n",
       "      <td>-1.148794</td>\n",
       "      <td>0.666313</td>\n",
       "    </tr>\n",
       "    <tr>\n",
       "      <th>2016-08-21</th>\n",
       "      <td>0.462591</td>\n",
       "      <td>-1.725807</td>\n",
       "      <td>-0.677565</td>\n",
       "      <td>1.194109</td>\n",
       "    </tr>\n",
       "    <tr>\n",
       "      <th>2016-08-28</th>\n",
       "      <td>-0.981166</td>\n",
       "      <td>-0.464404</td>\n",
       "      <td>0.462061</td>\n",
       "      <td>0.783391</td>\n",
       "    </tr>\n",
       "    <tr>\n",
       "      <th>2016-09-04</th>\n",
       "      <td>-0.251539</td>\n",
       "      <td>-0.597510</td>\n",
       "      <td>1.422370</td>\n",
       "      <td>1.738900</td>\n",
       "    </tr>\n",
       "    <tr>\n",
       "      <th>2016-09-11</th>\n",
       "      <td>0.978858</td>\n",
       "      <td>0.085318</td>\n",
       "      <td>-0.808266</td>\n",
       "      <td>-0.830444</td>\n",
       "    </tr>\n",
       "    <tr>\n",
       "      <th>2016-09-18</th>\n",
       "      <td>0.522514</td>\n",
       "      <td>0.418398</td>\n",
       "      <td>1.401599</td>\n",
       "      <td>0.650450</td>\n",
       "    </tr>\n",
       "    <tr>\n",
       "      <th>2016-09-25</th>\n",
       "      <td>-1.503080</td>\n",
       "      <td>1.051948</td>\n",
       "      <td>-0.998061</td>\n",
       "      <td>-0.383971</td>\n",
       "    </tr>\n",
       "    <tr>\n",
       "      <th>2016-10-02</th>\n",
       "      <td>0.250200</td>\n",
       "      <td>1.995667</td>\n",
       "      <td>3.109919</td>\n",
       "      <td>0.606723</td>\n",
       "    </tr>\n",
       "    <tr>\n",
       "      <th>2016-10-09</th>\n",
       "      <td>-0.183197</td>\n",
       "      <td>0.534506</td>\n",
       "      <td>0.887655</td>\n",
       "      <td>-0.320668</td>\n",
       "    </tr>\n",
       "    <tr>\n",
       "      <th>2016-10-16</th>\n",
       "      <td>1.795211</td>\n",
       "      <td>0.230071</td>\n",
       "      <td>0.497743</td>\n",
       "      <td>0.665924</td>\n",
       "    </tr>\n",
       "  </tbody>\n",
       "</table>\n",
       "</div>"
      ],
      "text/plain": [
       "             GrossIn  GrossOut     NetIn    NetOut\n",
       "2016-06-19 -1.564242  1.617213  0.104356 -0.898784\n",
       "2016-06-26 -1.330314 -0.189120  0.921650 -0.127549\n",
       "2016-07-03  1.511155 -1.451176 -0.012089 -1.252393\n",
       "2016-07-10  0.363632  0.886887 -0.420762 -2.604214\n",
       "2016-07-17  0.198948  0.436739  0.404295  1.235782\n",
       "2016-07-24 -1.071054  0.680216  1.192508 -1.778588\n",
       "2016-07-31  0.319652 -0.504180 -0.081523  0.347676\n",
       "2016-08-07 -0.487229 -0.675708  0.034152 -1.087246\n",
       "2016-08-14 -1.085825  0.679373 -1.148794  0.666313\n",
       "2016-08-21  0.462591 -1.725807 -0.677565  1.194109\n",
       "2016-08-28 -0.981166 -0.464404  0.462061  0.783391\n",
       "2016-09-04 -0.251539 -0.597510  1.422370  1.738900\n",
       "2016-09-11  0.978858  0.085318 -0.808266 -0.830444\n",
       "2016-09-18  0.522514  0.418398  1.401599  0.650450\n",
       "2016-09-25 -1.503080  1.051948 -0.998061 -0.383971\n",
       "2016-10-02  0.250200  1.995667  3.109919  0.606723\n",
       "2016-10-09 -0.183197  0.534506  0.887655 -0.320668\n",
       "2016-10-16  1.795211  0.230071  0.497743  0.665924"
      ]
     },
     "execution_count": 37,
     "metadata": {},
     "output_type": "execute_result"
    }
   ],
   "source": [
    "df2 = pd.DataFrame(np.random.randn(18,4))\n",
    "cols = ['GrossIn', 'GrossOut', 'NetIn', 'NetOut']\n",
    "df2.columns = cols\n",
    "dates = pd.date_range(start='2016-06-19', end='2016-10-20', freq='W',period=18)\n",
    "df2.index = dates\n",
    "df2"
   ]
  },
  {
   "cell_type": "markdown",
   "metadata": {},
   "source": [
    "**31) What was the GrossIn and NetIn for 2016-09-18? Print the results. **"
   ]
  },
  {
   "cell_type": "code",
   "execution_count": 38,
   "metadata": {},
   "outputs": [
    {
     "data": {
      "text/plain": [
       "GrossIN         NaN\n",
       "NetIn      1.401599\n",
       "Name: 2016-09-18 00:00:00, dtype: float64"
      ]
     },
     "execution_count": 38,
     "metadata": {},
     "output_type": "execute_result"
    }
   ],
   "source": [
    "df2.loc['2016-09-18',['GrossIN','NetIn']]"
   ]
  },
  {
   "cell_type": "markdown",
   "metadata": {},
   "source": [
    "**32) Sum all the GrossOut and NetOut for the month of March 2016 in df2. Print the results. **"
   ]
  },
  {
   "cell_type": "code",
   "execution_count": 39,
   "metadata": {
    "scrolled": true
   },
   "outputs": [
    {
     "name": "stdout",
     "output_type": "stream",
     "text": [
      "GrossIn     1.511155\n",
      "GrossOut   -1.451176\n",
      "NetIn      -0.012089\n",
      "NetOut     -1.252393\n",
      "Name: 2016-07-03 00:00:00, dtype: float64 GrossOut    3.008431\n",
      "NetOut     -1.394589\n",
      "dtype: float64\n"
     ]
    }
   ],
   "source": [
    "print df2.loc['2016-07-03'],(df2[['GrossOut','NetOut']].sum())"
   ]
  },
  {
   "cell_type": "markdown",
   "metadata": {},
   "source": [
    "**33) Find all the days GrossOut was greater than GrossIn in df2. Print the results.**"
   ]
  },
  {
   "cell_type": "code",
   "execution_count": 40,
   "metadata": {},
   "outputs": [
    {
     "name": "stdout",
     "output_type": "stream",
     "text": [
      "True\n"
     ]
    }
   ],
   "source": [
    "df2 = 'GrossOut' > 'GrossIn'\n",
    "print df2"
   ]
  },
  {
   "cell_type": "markdown",
   "metadata": {},
   "source": [
    "**34) What percentage was the total NetOut of the total NetIn in the year 2016 from df2 above? **"
   ]
  },
  {
   "cell_type": "code",
   "execution_count": 41,
   "metadata": {},
   "outputs": [
    {
     "data": {
      "text/plain": [
       "0.07772099999999948"
      ]
     },
     "execution_count": 41,
     "metadata": {},
     "output_type": "execute_result"
    }
   ],
   "source": [
    " -6.335935%0.801707\n"
   ]
  },
  {
   "cell_type": "markdown",
   "metadata": {},
   "source": [
    "**35) Plot values for 2016 on a line graph for the GrossOut and GrossIn in df2:**"
   ]
  },
  {
   "cell_type": "code",
   "execution_count": 42,
   "metadata": {},
   "outputs": [
    {
     "data": {
      "text/plain": [
       "[<matplotlib.lines.Line2D at 0x7f289e00bc10>]"
      ]
     },
     "execution_count": 42,
     "metadata": {},
     "output_type": "execute_result"
    },
    {
     "data": {
      "image/png": "[encoded data removed]",
      "text/plain": [
       "<matplotlib.figure.Figure at 0x7f289ea42ed0>"
      ]
     },
     "metadata": {},
     "output_type": "display_data"
    }
   ],
   "source": [
    "from numpy import genfromtxt\n",
    "import matplotlib.pyplot as plt\n",
    "tidx = pd.date_range(start='2016-06-19', end='2016-10-20', freq='W',period=18)\n",
    "df2 = pd.DataFrame(dict(data=(np.random.randn(len(tidx)) + .01).cumsum()), tidx)\n",
    "\n",
    "deltas = df.index - df.index[0]\n",
    "\n",
    "cols = ['GrossIn', 'GrossOut']\n",
    "\n",
    "plt.plot(df2)\n",
    "\n",
    "\n",
    "             "
   ]
  },
  {
   "cell_type": "markdown",
   "metadata": {},
   "source": [
    "**36) Plot 4 different HISTOGRAMS of df2.GrossIn each having 5,10,15,20 bins.**<br> \n",
    "Hint: use the following code  to plot the histograms on different subplots. <br> \n",
    "\n",
    "import matplotlib.pyplot as plt<br> \n",
    "fig, ax = plt.subplots(nrows=2, ncols=2)<br> \n",
    "dataframe.plot(ax=ax[0,0])# this is just an example of how to plot on a top right subplot (2x2)"
   ]
  },
  {
   "cell_type": "code",
   "execution_count": 43,
   "metadata": {},
   "outputs": [
    {
     "data": {
      "text/plain": [
       "array([[<matplotlib.axes._subplots.AxesSubplot object at 0x7f289db9a7d0>]], dtype=object)"
      ]
     },
     "execution_count": 43,
     "metadata": {},
     "output_type": "execute_result"
    },
    {
     "data": {
      "image/png": "[encoded data removed]",
      "text/plain": [
       "<matplotlib.figure.Figure at 0x7f289df39e90>"
      ]
     },
     "metadata": {},
     "output_type": "display_data"
    },
    {
     "data": {
      "image/png": "[encoded data removed]",
      "text/plain": [
       "<matplotlib.figure.Figure at 0x7f289dea13d0>"
      ]
     },
     "metadata": {},
     "output_type": "display_data"
    },
    {
     "data": {
      "image/png": "[encoded data removed]",
      "text/plain": [
       "<matplotlib.figure.Figure at 0x7f289dfc8250>"
      ]
     },
     "metadata": {},
     "output_type": "display_data"
    },
    {
     "data": {
      "image/png": "[encoded data removed]",
      "text/plain": [
       "<matplotlib.figure.Figure at 0x7f289dd28090>"
      ]
     },
     "metadata": {},
     "output_type": "display_data"
    },
    {
     "data": {
      "image/png": "[encoded data removed]",
      "text/plain": [
       "<matplotlib.figure.Figure at 0x7f289dc1f110>"
      ]
     },
     "metadata": {},
     "output_type": "display_data"
    }
   ],
   "source": [
    "import numpy as np\n",
    "import matplotlib.pyplot as plt\n",
    " \n",
    "a = np.random.normal(size=200)\n",
    "b = np.random.normal(size=200)\n",
    "c = np.random.normal(size=200)\n",
    "d = np.random.normal(size=200)\n",
    "\n",
    "fig = plt.figure()\n",
    "\n",
    "ax = fig.add_subplot(2, 1, 1)\n",
    "\n",
    "\n",
    "n, bins, patches = ax.hist(a)\n",
    "ax.set_xlabel('GrossIn')\n",
    "df2.hist(bins=5)\n",
    "\n",
    "\n",
    "n, bins, patches = ax.hist(b)\n",
    "ax.set_xlabel('GrossIn')\n",
    "df2.hist(bins=10)\n",
    "\n",
    "n, bins, patches = ax.hist(c)\n",
    "ax.set_xlabel('GrossIn')\n",
    "df2.hist(bins=15)\n",
    "\n",
    "n, bins, patches = ax.hist(d)\n",
    "ax.set_xlabel('GrossIn')\n",
    "df2.hist(bins=20)\n",
    "\n",
    "\n",
    "\n",
    "\n",
    "\n"
   ]
  },
  {
   "cell_type": "markdown",
   "metadata": {},
   "source": [
    "**37) What is your favorite pizza topping? None is not a valid answer. I don't care if you are off gluten.**"
   ]
  },
  {
   "cell_type": "code",
   "execution_count": null,
   "metadata": {
    "collapsed": true
   },
   "outputs": [],
   "source": [
    "green peppers, red onions, cheese."
   ]
  },
  {
   "cell_type": "markdown",
   "metadata": {},
   "source": [
    "**38) Import pandas libary with the alias pd**"
   ]
  },
  {
   "cell_type": "code",
   "execution_count": 44,
   "metadata": {
    "collapsed": true
   },
   "outputs": [],
   "source": [
    "import pandas as pd\n",
    "\n",
    "\n"
   ]
  },
  {
   "cell_type": "markdown",
   "metadata": {},
   "source": [
    "**39)You are given the Medicare spending dataset. Read it into a pandas dataframe. Then remove the 2 unused columns 'Measure Start Date' and 'Measure End Date' from the DataFrame all in the following cell. Provide your code as the answer. **\n",
    "\n",
    "***You need to put the data file ‘Medicare_Hospital_Spending_by_Claim.csv’ at the same place as your notebook file.***\n",
    "\n"
   ]
  },
  {
   "cell_type": "code",
   "execution_count": 45,
   "metadata": {},
   "outputs": [
    {
     "ename": "IOError",
     "evalue": "File Documents/big data midterm/bigdatamidterm-Copy1/Medicare_Hospital_Spending_by_Claim.csv does not exist",
     "output_type": "error",
     "traceback": [
      "\u001b[0;31m---------------------------------------------------------------------------\u001b[0m",
      "\u001b[0;31mIOError\u001b[0m                                   Traceback (most recent call last)",
      "\u001b[0;32m<ipython-input-45-502478ead40e>\u001b[0m in \u001b[0;36m<module>\u001b[0;34m()\u001b[0m\n\u001b[0;32m----> 1\u001b[0;31m \u001b[0mpd\u001b[0m\u001b[0;34m.\u001b[0m\u001b[0mread_csv\u001b[0m\u001b[0;34m(\u001b[0m\u001b[0;34m'Documents/big data midterm/bigdatamidterm-Copy1/Medicare_Hospital_Spending_by_Claim.csv'\u001b[0m\u001b[0;34m)\u001b[0m\u001b[0;34m\u001b[0m\u001b[0m\n\u001b[0m",
      "\u001b[0;32m/bda/app/anaconda2/lib/python2.7/site-packages/pandas/io/parsers.pyc\u001b[0m in \u001b[0;36mparser_f\u001b[0;34m(filepath_or_buffer, sep, delimiter, header, names, index_col, usecols, squeeze, prefix, mangle_dupe_cols, dtype, engine, converters, true_values, false_values, skipinitialspace, skiprows, nrows, na_values, keep_default_na, na_filter, verbose, skip_blank_lines, parse_dates, infer_datetime_format, keep_date_col, date_parser, dayfirst, iterator, chunksize, compression, thousands, decimal, lineterminator, quotechar, quoting, escapechar, comment, encoding, dialect, tupleize_cols, error_bad_lines, warn_bad_lines, skipfooter, skip_footer, doublequote, delim_whitespace, as_recarray, compact_ints, use_unsigned, low_memory, buffer_lines, memory_map, float_precision)\u001b[0m\n\u001b[1;32m    653\u001b[0m                     skip_blank_lines=skip_blank_lines)\n\u001b[1;32m    654\u001b[0m \u001b[0;34m\u001b[0m\u001b[0m\n\u001b[0;32m--> 655\u001b[0;31m         \u001b[0;32mreturn\u001b[0m \u001b[0m_read\u001b[0m\u001b[0;34m(\u001b[0m\u001b[0mfilepath_or_buffer\u001b[0m\u001b[0;34m,\u001b[0m \u001b[0mkwds\u001b[0m\u001b[0;34m)\u001b[0m\u001b[0;34m\u001b[0m\u001b[0m\n\u001b[0m\u001b[1;32m    656\u001b[0m \u001b[0;34m\u001b[0m\u001b[0m\n\u001b[1;32m    657\u001b[0m     \u001b[0mparser_f\u001b[0m\u001b[0;34m.\u001b[0m\u001b[0m__name__\u001b[0m \u001b[0;34m=\u001b[0m \u001b[0mname\u001b[0m\u001b[0;34m\u001b[0m\u001b[0m\n",
      "\u001b[0;32m/bda/app/anaconda2/lib/python2.7/site-packages/pandas/io/parsers.pyc\u001b[0m in \u001b[0;36m_read\u001b[0;34m(filepath_or_buffer, kwds)\u001b[0m\n\u001b[1;32m    403\u001b[0m \u001b[0;34m\u001b[0m\u001b[0m\n\u001b[1;32m    404\u001b[0m     \u001b[0;31m# Create the parser.\u001b[0m\u001b[0;34m\u001b[0m\u001b[0;34m\u001b[0m\u001b[0m\n\u001b[0;32m--> 405\u001b[0;31m     \u001b[0mparser\u001b[0m \u001b[0;34m=\u001b[0m \u001b[0mTextFileReader\u001b[0m\u001b[0;34m(\u001b[0m\u001b[0mfilepath_or_buffer\u001b[0m\u001b[0;34m,\u001b[0m \u001b[0;34m**\u001b[0m\u001b[0mkwds\u001b[0m\u001b[0;34m)\u001b[0m\u001b[0;34m\u001b[0m\u001b[0m\n\u001b[0m\u001b[1;32m    406\u001b[0m \u001b[0;34m\u001b[0m\u001b[0m\n\u001b[1;32m    407\u001b[0m     \u001b[0;32mif\u001b[0m \u001b[0mchunksize\u001b[0m \u001b[0;32mor\u001b[0m \u001b[0miterator\u001b[0m\u001b[0;34m:\u001b[0m\u001b[0;34m\u001b[0m\u001b[0m\n",
      "\u001b[0;32m/bda/app/anaconda2/lib/python2.7/site-packages/pandas/io/parsers.pyc\u001b[0m in \u001b[0;36m__init__\u001b[0;34m(self, f, engine, **kwds)\u001b[0m\n\u001b[1;32m    760\u001b[0m             \u001b[0mself\u001b[0m\u001b[0;34m.\u001b[0m\u001b[0moptions\u001b[0m\u001b[0;34m[\u001b[0m\u001b[0;34m'has_index_names'\u001b[0m\u001b[0;34m]\u001b[0m \u001b[0;34m=\u001b[0m \u001b[0mkwds\u001b[0m\u001b[0;34m[\u001b[0m\u001b[0;34m'has_index_names'\u001b[0m\u001b[0;34m]\u001b[0m\u001b[0;34m\u001b[0m\u001b[0m\n\u001b[1;32m    761\u001b[0m \u001b[0;34m\u001b[0m\u001b[0m\n\u001b[0;32m--> 762\u001b[0;31m         \u001b[0mself\u001b[0m\u001b[0;34m.\u001b[0m\u001b[0m_make_engine\u001b[0m\u001b[0;34m(\u001b[0m\u001b[0mself\u001b[0m\u001b[0;34m.\u001b[0m\u001b[0mengine\u001b[0m\u001b[0;34m)\u001b[0m\u001b[0;34m\u001b[0m\u001b[0m\n\u001b[0m\u001b[1;32m    763\u001b[0m \u001b[0;34m\u001b[0m\u001b[0m\n\u001b[1;32m    764\u001b[0m     \u001b[0;32mdef\u001b[0m \u001b[0mclose\u001b[0m\u001b[0;34m(\u001b[0m\u001b[0mself\u001b[0m\u001b[0;34m)\u001b[0m\u001b[0;34m:\u001b[0m\u001b[0;34m\u001b[0m\u001b[0m\n",
      "\u001b[0;32m/bda/app/anaconda2/lib/python2.7/site-packages/pandas/io/parsers.pyc\u001b[0m in \u001b[0;36m_make_engine\u001b[0;34m(self, engine)\u001b[0m\n\u001b[1;32m    964\u001b[0m     \u001b[0;32mdef\u001b[0m \u001b[0m_make_engine\u001b[0m\u001b[0;34m(\u001b[0m\u001b[0mself\u001b[0m\u001b[0;34m,\u001b[0m \u001b[0mengine\u001b[0m\u001b[0;34m=\u001b[0m\u001b[0;34m'c'\u001b[0m\u001b[0;34m)\u001b[0m\u001b[0;34m:\u001b[0m\u001b[0;34m\u001b[0m\u001b[0m\n\u001b[1;32m    965\u001b[0m         \u001b[0;32mif\u001b[0m \u001b[0mengine\u001b[0m \u001b[0;34m==\u001b[0m \u001b[0;34m'c'\u001b[0m\u001b[0;34m:\u001b[0m\u001b[0;34m\u001b[0m\u001b[0m\n\u001b[0;32m--> 966\u001b[0;31m             \u001b[0mself\u001b[0m\u001b[0;34m.\u001b[0m\u001b[0m_engine\u001b[0m \u001b[0;34m=\u001b[0m \u001b[0mCParserWrapper\u001b[0m\u001b[0;34m(\u001b[0m\u001b[0mself\u001b[0m\u001b[0;34m.\u001b[0m\u001b[0mf\u001b[0m\u001b[0;34m,\u001b[0m \u001b[0;34m**\u001b[0m\u001b[0mself\u001b[0m\u001b[0;34m.\u001b[0m\u001b[0moptions\u001b[0m\u001b[0;34m)\u001b[0m\u001b[0;34m\u001b[0m\u001b[0m\n\u001b[0m\u001b[1;32m    967\u001b[0m         \u001b[0;32melse\u001b[0m\u001b[0;34m:\u001b[0m\u001b[0;34m\u001b[0m\u001b[0m\n\u001b[1;32m    968\u001b[0m             \u001b[0;32mif\u001b[0m \u001b[0mengine\u001b[0m \u001b[0;34m==\u001b[0m \u001b[0;34m'python'\u001b[0m\u001b[0;34m:\u001b[0m\u001b[0;34m\u001b[0m\u001b[0m\n",
      "\u001b[0;32m/bda/app/anaconda2/lib/python2.7/site-packages/pandas/io/parsers.pyc\u001b[0m in \u001b[0;36m__init__\u001b[0;34m(self, src, **kwds)\u001b[0m\n\u001b[1;32m   1580\u001b[0m         \u001b[0mkwds\u001b[0m\u001b[0;34m[\u001b[0m\u001b[0;34m'allow_leading_cols'\u001b[0m\u001b[0;34m]\u001b[0m \u001b[0;34m=\u001b[0m \u001b[0mself\u001b[0m\u001b[0;34m.\u001b[0m\u001b[0mindex_col\u001b[0m \u001b[0;32mis\u001b[0m \u001b[0;32mnot\u001b[0m \u001b[0mFalse\u001b[0m\u001b[0;34m\u001b[0m\u001b[0m\n\u001b[1;32m   1581\u001b[0m \u001b[0;34m\u001b[0m\u001b[0m\n\u001b[0;32m-> 1582\u001b[0;31m         \u001b[0mself\u001b[0m\u001b[0;34m.\u001b[0m\u001b[0m_reader\u001b[0m \u001b[0;34m=\u001b[0m \u001b[0mparsers\u001b[0m\u001b[0;34m.\u001b[0m\u001b[0mTextReader\u001b[0m\u001b[0;34m(\u001b[0m\u001b[0msrc\u001b[0m\u001b[0;34m,\u001b[0m \u001b[0;34m**\u001b[0m\u001b[0mkwds\u001b[0m\u001b[0;34m)\u001b[0m\u001b[0;34m\u001b[0m\u001b[0m\n\u001b[0m\u001b[1;32m   1583\u001b[0m \u001b[0;34m\u001b[0m\u001b[0m\n\u001b[1;32m   1584\u001b[0m         \u001b[0;31m# XXX\u001b[0m\u001b[0;34m\u001b[0m\u001b[0;34m\u001b[0m\u001b[0m\n",
      "\u001b[0;32mpandas/_libs/parsers.pyx\u001b[0m in \u001b[0;36mpandas._libs.parsers.TextReader.__cinit__ (pandas/_libs/parsers.c:4209)\u001b[0;34m()\u001b[0m\n",
      "\u001b[0;32mpandas/_libs/parsers.pyx\u001b[0m in \u001b[0;36mpandas._libs.parsers.TextReader._setup_parser_source (pandas/_libs/parsers.c:8873)\u001b[0;34m()\u001b[0m\n",
      "\u001b[0;31mIOError\u001b[0m: File Documents/big data midterm/bigdatamidterm-Copy1/Medicare_Hospital_Spending_by_Claim.csv does not exist"
     ]
    }
   ],
   "source": [
    "pd.read_csv('Documents/big data midterm/bigdatamidterm-Copy1/Medicare_Hospital_Spending_by_Claim.csv')"
   ]
  },
  {
   "cell_type": "markdown",
   "metadata": {},
   "source": [
    "**40) Replace columns names...replace the original long column names in the dataframe above (Q - 39) with shorter ones provided below in \"newColumns\".  Provide your code and the resulting new column names as the answer.**\n",
    "<br/>\n",
    "newColumns = ['Hospital', 'Provider ID', 'State', 'Period', 'Claim Type', 'Avg Spending Hospital', 'Avg Spending State', 'Avg Spending Nation', 'Percent Spending Hospital', 'Percent Spending State', 'Percent Spending Nation']"
   ]
  },
  {
   "cell_type": "code",
   "execution_count": null,
   "metadata": {
    "collapsed": true
   },
   "outputs": [],
   "source": []
  },
  {
   "cell_type": "markdown",
   "metadata": {},
   "source": [
    "**41) Find the statistics of average (mean) and percentage spending for different states, claim types, and hospitals.  In the cell below using the same dataframe used in 39 and 40. Place your code and print your results in the cell below **"
   ]
  },
  {
   "cell_type": "code",
   "execution_count": null,
   "metadata": {
    "collapsed": true
   },
   "outputs": [],
   "source": []
  },
  {
   "cell_type": "markdown",
   "metadata": {},
   "source": [
    "**42) Continuing with data from above, convert the dataframe content to be the right \"data type\" (i.e., int, float, etc) in order to perform statistical calculations for the DataFrame.  Provide your code and the resulting new print out as the answer.**\n",
    "<br>\n",
    "***Hint convert the columns with % and $***"
   ]
  },
  {
   "cell_type": "code",
   "execution_count": null,
   "metadata": {
    "collapsed": true
   },
   "outputs": [],
   "source": []
  },
  {
   "cell_type": "markdown",
   "metadata": {},
   "source": [
    "**43) Continuing with the dataframe above, extract only the TX state claims into a new dataframe.  Provide your code and print the new dataframe (with only TX claims) below as the answer.**"
   ]
  },
  {
   "cell_type": "code",
   "execution_count": null,
   "metadata": {
    "collapsed": true
   },
   "outputs": [],
   "source": []
  },
  {
   "cell_type": "markdown",
   "metadata": {},
   "source": [
    "**44) Using the dataframe from above (Q 42), find the average spending for each different TX hospitals groupedby each kind of  different claim types.  Provide your code and the resulting new print out as the answer. **"
   ]
  },
  {
   "cell_type": "code",
   "execution_count": null,
   "metadata": {
    "collapsed": true
   },
   "outputs": [],
   "source": []
  },
  {
   "cell_type": "markdown",
   "metadata": {
    "collapsed": true
   },
   "source": [
    "**45) Continuing from above (Q 43), what is the mean and max percentage spending of different TX hospitals for each different claim types.  Provide your code and print out the answer. **"
   ]
  },
  {
   "cell_type": "code",
   "execution_count": null,
   "metadata": {
    "collapsed": true
   },
   "outputs": [],
   "source": []
  },
  {
   "cell_type": "markdown",
   "metadata": {},
   "source": [
    "**46) Using the whole dataset from the Medicare_Hospital_Spending_by_Claim.csv table (i.e., Q 39-41), sort the dataframe descending order by average spending and print out what the rank of TX is in terms of average spending when compared to other state averages. **"
   ]
  },
  {
   "cell_type": "code",
   "execution_count": null,
   "metadata": {
    "collapsed": true
   },
   "outputs": [],
   "source": []
  },
  {
   "cell_type": "markdown",
   "metadata": {},
   "source": [
    "**47) Give a very general and short definition of what an Analytical Model is or is supposed to do?**"
   ]
  },
  {
   "cell_type": "code",
   "execution_count": null,
   "metadata": {
    "collapsed": true
   },
   "outputs": [],
   "source": [
    "The Analytical Method is a generic process combining the power of the Scientific Method with the use of formal process to solve any type of problem."
   ]
  },
  {
   "cell_type": "markdown",
   "metadata": {},
   "source": [
    "**48) Briefly describe the differences between \"supervised\" and \"unsupervised\" learning.**"
   ]
  },
  {
   "cell_type": "code",
   "execution_count": null,
   "metadata": {
    "collapsed": true
   },
   "outputs": [],
   "source": [
    "In supervised learning, the output datasets are provided which are used to train the machine and get the desired outputs whereas in unsupervised learning no datasets are provided, instead the data is clustered into different classes ."
   ]
  },
  {
   "cell_type": "markdown",
   "metadata": {},
   "source": [
    "**49) Briefly describe the differences between \"classification\" and \"clustering\".**"
   ]
  },
  {
   "cell_type": "code",
   "execution_count": null,
   "metadata": {
    "collapsed": true
   },
   "outputs": [],
   "source": [
    "Clustering is called an unsupervised learning method and Classification is called a supervised learning method. They are very different in the machine learning world, and are often dictated by the kind of data present"
   ]
  },
  {
   "cell_type": "markdown",
   "metadata": {},
   "source": [
    "**50) Name 3 different \"kinds\" of Analytical Models and provide a brief definition of each. **"
   ]
  },
  {
   "cell_type": "code",
   "execution_count": null,
   "metadata": {
    "collapsed": true
   },
   "outputs": [],
   "source": [
    "Three main types of models are physical, mathematical, and conceptual.\n",
    "1) conceptual model describes the semantics of a domain (the scope of the model).\n",
    "2) mathematical model describes the structure of some domain of information. This consists of descriptions of (for example) tables, columns, object-oriented classes, and XML tags. The logical schema and conceptual schema are sometimes implemented as one and the same.\n",
    "3) physical model describes the physical means used to store data."
   ]
  },
  {
   "cell_type": "markdown",
   "metadata": {},
   "source": [
    "**EXTRA CREDIT 51) Why is Ordinary Least Squares Regression, called Ordinary Least Squares?**"
   ]
  },
  {
   "cell_type": "code",
   "execution_count": null,
   "metadata": {
    "collapsed": true
   },
   "outputs": [],
   "source": []
  },
  {
   "cell_type": "markdown",
   "metadata": {},
   "source": [
    "**EXTRA CREDIT 52) What makes \"big data\" different from \"small data\"? (Be brief - 1 to 2 paragaphs MAX)**"
   ]
  },
  {
   "cell_type": "code",
   "execution_count": null,
   "metadata": {
    "collapsed": true
   },
   "outputs": [],
   "source": [
    "Small Data can be defined as small datasets that are capable of impacting decisions in the present. Anything that is currently ongoing and whose data can be accumulated in an Excel file. Small Data is also helpful in making decisions, but does not aim to impact business to a great extent, rather for a short span of time.\n",
    "Big Data, on the other hand, can be described as huge chunks of structured and unstructured data. The volume of data stored is huge. Hence, it becomes important for analysts to carefully dig the whole thing up making it meaningful and useful for making better business decisions."
   ]
  },
  {
   "cell_type": "markdown",
   "metadata": {},
   "source": [
    "**EXTRA CREDIT 53) What are WMD's according to Cathy O'Neil?**"
   ]
  },
  {
   "cell_type": "code",
   "execution_count": null,
   "metadata": {
    "collapsed": true
   },
   "outputs": [],
   "source": []
  },
  {
   "cell_type": "markdown",
   "metadata": {},
   "source": [
    "**EXTRA CREDIT 54) Why do vicious feedback loops matter in data analytics?**"
   ]
  },
  {
   "cell_type": "code",
   "execution_count": null,
   "metadata": {
    "collapsed": true
   },
   "outputs": [],
   "source": []
  },
  {
   "cell_type": "markdown",
   "metadata": {},
   "source": [
    "**EXTRA CREDIT 55) What are the 10 simple rules Zook et. al. Suggest to follow when doing big data analytics?**"
   ]
  },
  {
   "cell_type": "code",
   "execution_count": null,
   "metadata": {
    "collapsed": true
   },
   "outputs": [],
   "source": []
  }
 ],
 "metadata": {
  "kernelspec": {
   "display_name": "Python 2",
   "language": "python",
   "name": "python2"
  }
 },
 "nbformat": 4,
 "nbformat_minor": 1
}
