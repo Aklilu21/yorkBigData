{
 "cells": [
  {
   "cell_type": "markdown",
   "metadata": {},
   "source": [
    "## Introductions"
   ]
  },
  {
   "cell_type": "code",
   "execution_count": 2,
   "metadata": {},
   "outputs": [
    {
     "name": "stdout",
     "output_type": "stream",
     "text": [
      "Hello, My name is Behnoush!\n",
      "I love math. I can show you some of my skills:\n",
      "2 + 7 = 9\n",
      "-1 which means 2 is less than 7\n"
     ]
    }
   ],
   "source": [
    "x = 'Hello,'\n",
    "y = 'My name is Behnoush!'\n",
    "z = 'I love math. I can show you some of my skills:'\n",
    "print x, y\n",
    "print z\n",
    "print '2 + 7 =', 2+7\n",
    "print cmp(2,7), 'which means 2 is less than 7'"
   ]
  },
  {
   "cell_type": "markdown",
   "metadata": {},
   "source": [
    "## If, Elif, Else Statements"
   ]
  },
  {
   "cell_type": "code",
   "execution_count": 3,
   "metadata": {},
   "outputs": [
    {
     "name": "stdout",
     "output_type": "stream",
     "text": [
      "Within Range\n"
     ]
    }
   ],
   "source": [
    "a = 80\n",
    "if a > 100:\n",
    "    print 'Above Max'\n",
    "elif a < 50:\n",
    "    print 'Below Min'\n",
    "else:\n",
    "    print 'Within Range'"
   ]
  },
  {
   "cell_type": "markdown",
   "metadata": {},
   "source": [
    "## While Loop"
   ]
  },
  {
   "cell_type": "code",
   "execution_count": 4,
   "metadata": {
    "scrolled": true
   },
   "outputs": [
    {
     "name": "stdout",
     "output_type": "stream",
     "text": [
      "5\n",
      "6\n",
      "7\n",
      "8\n",
      "9\n",
      "10\n",
      "11\n",
      "12\n",
      "The End\n"
     ]
    }
   ],
   "source": [
    "b = 2\n",
    "B = 3\n",
    "while b < 10:\n",
    "    print b+B\n",
    "    b = b+1\n",
    "print 'The End'"
   ]
  },
  {
   "cell_type": "markdown",
   "metadata": {},
   "source": [
    "## List Comprehension"
   ]
  },
  {
   "cell_type": "code",
   "execution_count": 5,
   "metadata": {},
   "outputs": [
    {
     "data": {
      "text/plain": [
       "[8, 12, 16, 20, 24, 28]"
      ]
     },
     "execution_count": 5,
     "metadata": {},
     "output_type": "execute_result"
    }
   ],
   "source": [
    "[4*c for c in range (2,8)]"
   ]
  },
  {
   "cell_type": "code",
   "execution_count": 23,
   "metadata": {},
   "outputs": [
    {
     "name": "stdout",
     "output_type": "stream",
     "text": [
      "[2, 6, 10, 14, 18]\n"
     ]
    }
   ],
   "source": [
    "print range(2,20,4)"
   ]
  },
  {
   "cell_type": "markdown",
   "metadata": {},
   "source": [
    "## Pandas"
   ]
  },
  {
   "cell_type": "code",
   "execution_count": 6,
   "metadata": {
    "collapsed": true
   },
   "outputs": [],
   "source": [
    "import pandas as pd\n",
    "import datetime"
   ]
  },
  {
   "cell_type": "code",
   "execution_count": 7,
   "metadata": {
    "collapsed": true
   },
   "outputs": [],
   "source": [
    "m = datetime.datetime(2017,1,2)\n",
    "end = datetime.datetime(2017,12,31)\n",
    "step = datetime.timedelta(days=31)\n",
    "months = []"
   ]
  },
  {
   "cell_type": "code",
   "execution_count": 8,
   "metadata": {
    "collapsed": true
   },
   "outputs": [],
   "source": [
    "while m < end:\n",
    "    months.append(m.strftime('%y-%m'))\n",
    "    m +=step"
   ]
  },
  {
   "cell_type": "code",
   "execution_count": 9,
   "metadata": {},
   "outputs": [
    {
     "data": {
      "text/plain": [
       "['17-01',\n",
       " '17-02',\n",
       " '17-03',\n",
       " '17-04',\n",
       " '17-05',\n",
       " '17-06',\n",
       " '17-07',\n",
       " '17-08',\n",
       " '17-09',\n",
       " '17-10',\n",
       " '17-11',\n",
       " '17-12']"
      ]
     },
     "execution_count": 9,
     "metadata": {},
     "output_type": "execute_result"
    }
   ],
   "source": [
    "months"
   ]
  },
  {
   "cell_type": "code",
   "execution_count": 10,
   "metadata": {
    "collapsed": true
   },
   "outputs": [],
   "source": [
    "cal = {'Month':months, 'No of Days' : [31,28,31,30,31,30,31,31,30,31,30,31], 'No of Weeks' : [5,4,4,4,5,4,4,5,4,5,4,4]}"
   ]
  },
  {
   "cell_type": "code",
   "execution_count": 11,
   "metadata": {},
   "outputs": [
    {
     "data": {
      "text/plain": [
       "{'Month': ['17-01',\n",
       "  '17-02',\n",
       "  '17-03',\n",
       "  '17-04',\n",
       "  '17-05',\n",
       "  '17-06',\n",
       "  '17-07',\n",
       "  '17-08',\n",
       "  '17-09',\n",
       "  '17-10',\n",
       "  '17-11',\n",
       "  '17-12'],\n",
       " 'No of Days': [31, 28, 31, 30, 31, 30, 31, 31, 30, 31, 30, 31],\n",
       " 'No of Weeks': [5, 4, 4, 4, 5, 4, 4, 5, 4, 5, 4, 4]}"
      ]
     },
     "execution_count": 11,
     "metadata": {},
     "output_type": "execute_result"
    }
   ],
   "source": [
    "cal"
   ]
  },
  {
   "cell_type": "code",
   "execution_count": 12,
   "metadata": {
    "scrolled": true
   },
   "outputs": [
    {
     "name": "stdout",
     "output_type": "stream",
     "text": [
      "       No of Days  No of Weeks\n",
      "Month                         \n",
      "17-01          31            5\n",
      "17-02          28            4\n",
      "17-03          31            4\n",
      "17-04          30            4\n",
      "17-05          31            5\n",
      "17-06          30            4\n",
      "17-07          31            4\n",
      "17-08          31            5\n",
      "17-09          30            4\n",
      "17-10          31            5\n",
      "17-11          30            4\n",
      "17-12          31            4\n"
     ]
    }
   ],
   "source": [
    "calf = pd.DataFrame(cal)\n",
    "calf = calf.set_index('Month')\n",
    "print calf"
   ]
  },
  {
   "cell_type": "code",
   "execution_count": 28,
   "metadata": {
    "collapsed": true
   },
   "outputs": [],
   "source": [
    "matrix = {'C1':[1,4,7],\n",
    "         'C2':[2,5,8],\n",
    "         'C3':[3,6,9]}"
   ]
  },
  {
   "cell_type": "code",
   "execution_count": 29,
   "metadata": {},
   "outputs": [
    {
     "name": "stdout",
     "output_type": "stream",
     "text": [
      "   C1  C2  C3\n",
      "0   1   2   3\n",
      "1   4   5   6\n",
      "2   7   8   9\n"
     ]
    }
   ],
   "source": [
    "Matrix=pd.DataFrame(matrix)\n",
    "print Matrix"
   ]
  },
  {
   "cell_type": "code",
   "execution_count": 30,
   "metadata": {},
   "outputs": [
    {
     "name": "stdout",
     "output_type": "stream",
     "text": [
      "    C2  C3\n",
      "C1        \n",
      "1    2   3\n",
      "4    5   6\n",
      "7    8   9\n"
     ]
    }
   ],
   "source": [
    "Matrix=Matrix.set_index('C1')\n",
    "print Matrix"
   ]
  },
  {
   "cell_type": "code",
   "execution_count": 31,
   "metadata": {},
   "outputs": [
    {
     "name": "stdout",
     "output_type": "stream",
     "text": [
      "r    11\n",
      "s    12\n",
      "t    13\n",
      "dtype: int64\n"
     ]
    }
   ],
   "source": [
    "S1=pd.Series([11,12,13], index=['r','s','t'])\n",
    "print S1"
   ]
  },
  {
   "cell_type": "code",
   "execution_count": 32,
   "metadata": {},
   "outputs": [
    {
     "data": {
      "text/plain": [
       "False"
      ]
     },
     "execution_count": 32,
     "metadata": {},
     "output_type": "execute_result"
    }
   ],
   "source": [
    "b in S1"
   ]
  },
  {
   "cell_type": "markdown",
   "metadata": {},
   "source": [
    "## Olympics Example"
   ]
  },
  {
   "cell_type": "code",
   "execution_count": 13,
   "metadata": {
    "collapsed": true
   },
   "outputs": [],
   "source": [
    "olympics = pd.read_csv('../data/olympicmedals.csv')"
   ]
  },
  {
   "cell_type": "code",
   "execution_count": 14,
   "metadata": {},
   "outputs": [
    {
     "data": {
      "text/plain": [
       "Men      21721\n",
       "Women     7495\n",
       "Name: Gender, dtype: int64"
      ]
     },
     "execution_count": 14,
     "metadata": {},
     "output_type": "execute_result"
    }
   ],
   "source": [
    "olympics.Gender.value_counts()"
   ]
  },
  {
   "cell_type": "code",
   "execution_count": 22,
   "metadata": {},
   "outputs": [
    {
     "data": {
      "text/plain": [
       "USA    4335\n",
       "URS    2049\n",
       "GBR    1594\n",
       "FRA    1314\n",
       "ITA    1228\n",
       "GER    1211\n",
       "AUS    1075\n",
       "HUN    1053\n",
       "SWE    1021\n",
       "GDR     825\n",
       "NED     782\n",
       "JPN     704\n",
       "CHN     679\n",
       "RUS     638\n",
       "ROU     624\n",
       "CAN     592\n",
       "NOR     537\n",
       "POL     499\n",
       "DEN     491\n",
       "FRG     490\n",
       "KOR     466\n",
       "FIN     451\n",
       "YUG     435\n",
       "BEL     408\n",
       "CUB     395\n",
       "ESP     377\n",
       "SUI     376\n",
       "BRA     372\n",
       "BUL     331\n",
       "TCH     329\n",
       "       ... \n",
       "TAN       2\n",
       "SUR       2\n",
       "SRI       2\n",
       "TJK       2\n",
       "ZAM       2\n",
       "MOZ       2\n",
       "QAT       2\n",
       "ECU       2\n",
       "LUX       2\n",
       "KSA       2\n",
       "NIG       1\n",
       "GUY       1\n",
       "KUW       1\n",
       "DJI       1\n",
       "ISV       1\n",
       "BDI       1\n",
       "AHO       1\n",
       "AFG       1\n",
       "BER       1\n",
       "TOG       1\n",
       "BAR       1\n",
       "ERI       1\n",
       "CIV       1\n",
       "IRQ       1\n",
       "MKD       1\n",
       "SEN       1\n",
       "TGA       1\n",
       "UAE       1\n",
       "MRI       1\n",
       "SUD       1\n",
       "Name: NOC, Length: 138, dtype: int64"
      ]
     },
     "execution_count": 22,
     "metadata": {},
     "output_type": "execute_result"
    }
   ],
   "source": [
    "olympics.NOC.value_counts()"
   ]
  },
  {
   "cell_type": "markdown",
   "metadata": {},
   "source": [
    "## Indexing"
   ]
  },
  {
   "cell_type": "code",
   "execution_count": 17,
   "metadata": {
    "collapsed": true
   },
   "outputs": [],
   "source": [
    "table = {'Numbers':[1,2,3,4,5],\n",
    "        'X 2':[2,4,6,8,10],\n",
    "        'X 3':[3,6,9,12,15],\n",
    "        'X 4':[4,8,12,16,20],\n",
    "        'X 5':[5,10,15,20,25]}"
   ]
  },
  {
   "cell_type": "code",
   "execution_count": 18,
   "metadata": {
    "collapsed": true
   },
   "outputs": [],
   "source": [
    "Table =pd.DataFrame(table)"
   ]
  },
  {
   "cell_type": "code",
   "execution_count": 19,
   "metadata": {},
   "outputs": [
    {
     "data": {
      "text/html": [
       "<div>\n",
       "<style>\n",
       "    .dataframe thead tr:only-child th {\n",
       "        text-align: right;\n",
       "    }\n",
       "\n",
       "    .dataframe thead th {\n",
       "        text-align: left;\n",
       "    }\n",
       "\n",
       "    .dataframe tbody tr th {\n",
       "        vertical-align: top;\n",
       "    }\n",
       "</style>\n",
       "<table border=\"1\" class=\"dataframe\">\n",
       "  <thead>\n",
       "    <tr style=\"text-align: right;\">\n",
       "      <th></th>\n",
       "      <th>Numbers</th>\n",
       "      <th>X 2</th>\n",
       "      <th>X 3</th>\n",
       "      <th>X 4</th>\n",
       "      <th>X 5</th>\n",
       "    </tr>\n",
       "  </thead>\n",
       "  <tbody>\n",
       "    <tr>\n",
       "      <th>0</th>\n",
       "      <td>1</td>\n",
       "      <td>2</td>\n",
       "      <td>3</td>\n",
       "      <td>4</td>\n",
       "      <td>5</td>\n",
       "    </tr>\n",
       "    <tr>\n",
       "      <th>1</th>\n",
       "      <td>2</td>\n",
       "      <td>4</td>\n",
       "      <td>6</td>\n",
       "      <td>8</td>\n",
       "      <td>10</td>\n",
       "    </tr>\n",
       "    <tr>\n",
       "      <th>2</th>\n",
       "      <td>3</td>\n",
       "      <td>6</td>\n",
       "      <td>9</td>\n",
       "      <td>12</td>\n",
       "      <td>15</td>\n",
       "    </tr>\n",
       "    <tr>\n",
       "      <th>3</th>\n",
       "      <td>4</td>\n",
       "      <td>8</td>\n",
       "      <td>12</td>\n",
       "      <td>16</td>\n",
       "      <td>20</td>\n",
       "    </tr>\n",
       "    <tr>\n",
       "      <th>4</th>\n",
       "      <td>5</td>\n",
       "      <td>10</td>\n",
       "      <td>15</td>\n",
       "      <td>20</td>\n",
       "      <td>25</td>\n",
       "    </tr>\n",
       "  </tbody>\n",
       "</table>\n",
       "</div>"
      ],
      "text/plain": [
       "   Numbers  X 2  X 3  X 4  X 5\n",
       "0        1    2    3    4    5\n",
       "1        2    4    6    8   10\n",
       "2        3    6    9   12   15\n",
       "3        4    8   12   16   20\n",
       "4        5   10   15   20   25"
      ]
     },
     "execution_count": 19,
     "metadata": {},
     "output_type": "execute_result"
    }
   ],
   "source": [
    "Table"
   ]
  },
  {
   "cell_type": "code",
   "execution_count": 20,
   "metadata": {},
   "outputs": [
    {
     "data": {
      "text/plain": [
       "RangeIndex(start=0, stop=5, step=1)"
      ]
     },
     "execution_count": 20,
     "metadata": {},
     "output_type": "execute_result"
    }
   ],
   "source": [
    "Table.index"
   ]
  },
  {
   "cell_type": "code",
   "execution_count": 21,
   "metadata": {},
   "outputs": [
    {
     "data": {
      "text/plain": [
       "X 2     6\n",
       "X 5    15\n",
       "Name: 2, dtype: int64"
      ]
     },
     "execution_count": 21,
     "metadata": {},
     "output_type": "execute_result"
    }
   ],
   "source": [
    "Table.loc[2,['X 2','X 5']]"
   ]
  }
 ],
 "metadata": {
  "kernelspec": {
   "display_name": "Python 2",
   "language": "python",
   "name": "python2"
  },
  "language_info": {
   "codemirror_mode": {
    "name": "ipython",
    "version": 2
   },
   "file_extension": ".py",
   "mimetype": "text/x-python",
   "name": "python",
   "nbconvert_exporter": "python",
   "pygments_lexer": "ipython2",
   "version": "2.7.13"
  }
 },
 "nbformat": 4,
 "nbformat_minor": 2
}
