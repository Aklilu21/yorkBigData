{
 "cells": [
  {
   "cell_type": "markdown",
   "metadata": {},
   "source": [
    "###### 1) Import the following libraries to your notebook (you can use alias' if you want) in the cell below:\n",
    "pandas, seaborn, os, matplotlib.pyplot\n",
    "And add the following flag: %matplotlib inline"
   ]
  },
  {
   "cell_type": "code",
   "execution_count": 225,
   "metadata": {
    "collapsed": true
   },
   "outputs": [],
   "source": [
    "import pandas as pd\n",
    "import seaborn as sns\n",
    "import matplotlib.pyplot as plt\n",
    "%matplotlib inline"
   ]
  },
  {
   "cell_type": "markdown",
   "metadata": {},
   "source": [
    "###### 2) Index a list in Python\n",
    "Run the code below, it will give a result of 4. If we want to get ONLY the number 8 from the list of lists below, how would you alter the code? Alter the code directly and run to print the desired output.\n"
   ]
  },
  {
   "cell_type": "code",
   "execution_count": 226,
   "metadata": {},
   "outputs": [
    {
     "data": {
      "text/plain": [
       "4"
      ]
     },
     "execution_count": 226,
     "metadata": {},
     "output_type": "execute_result"
    }
   ],
   "source": [
    "question2 = [[1,2],[3,4],[5,6],[7,[8,9]]]\n",
    "question2[1][1]"
   ]
  },
  {
   "cell_type": "code",
   "execution_count": 227,
   "metadata": {},
   "outputs": [
    {
     "data": {
      "text/plain": [
       "8"
      ]
     },
     "execution_count": 227,
     "metadata": {},
     "output_type": "execute_result"
    }
   ],
   "source": [
    "question2 [3][1][0]"
   ]
  },
  {
   "cell_type": "markdown",
   "metadata": {},
   "source": [
    "###### 3) Define a variable called bigdata, to be a list in python with the following elements and print only the last two elements of the list:\n",
    "1, \"Big Data Class\", 2, \"Is Really Fun\",3, \"I Love Python\""
   ]
  },
  {
   "cell_type": "code",
   "execution_count": 228,
   "metadata": {
    "collapsed": true
   },
   "outputs": [],
   "source": [
    "bigdata=['Big Data Class','Is Really Fun','I Love Python']"
   ]
  },
  {
   "cell_type": "code",
   "execution_count": 229,
   "metadata": {},
   "outputs": [
    {
     "data": {
      "text/plain": [
       "['Is Really Fun', 'I Love Python']"
      ]
     },
     "execution_count": 229,
     "metadata": {},
     "output_type": "execute_result"
    }
   ],
   "source": [
    "bigdata[1:]"
   ]
  },
  {
   "cell_type": "markdown",
   "metadata": {},
   "source": [
    "###### 4) Cast the following list to be a string in Python: \n",
    "Define the list [1,2,4,3,'k'] and cast it to a string where you print out '1243k'. Insert your code below."
   ]
  },
  {
   "cell_type": "code",
   "execution_count": 230,
   "metadata": {
    "collapsed": true
   },
   "outputs": [],
   "source": [
    "list=[1,2,4,3,'k']"
   ]
  },
  {
   "cell_type": "code",
   "execution_count": 231,
   "metadata": {
    "collapsed": true
   },
   "outputs": [],
   "source": [
    "list1=str(list[0])+str(list[1])+str(list[2])+str(list[3])+list[4]"
   ]
  },
  {
   "cell_type": "code",
   "execution_count": 232,
   "metadata": {},
   "outputs": [
    {
     "data": {
      "text/plain": [
       "'1243k'"
      ]
     },
     "execution_count": 232,
     "metadata": {},
     "output_type": "execute_result"
    }
   ],
   "source": [
    "list1"
   ]
  },
  {
   "cell_type": "markdown",
   "metadata": {},
   "source": [
    "###### 5) Test whether the two lists are equal too each other and if not what elements are shared between the two lists.\n",
    "list1 = ['1',2,'3',4,5]\n",
    "list2 = [1,2,3,4,'5',6]\n",
    "\n",
    "Define the lists and print whether the lists are equal to one another, and find which elements are a match. (Hint you can go element by element or use you can use a \"for\" loop, or, you can use a different data structure all together). "
   ]
  },
  {
   "cell_type": "code",
   "execution_count": 233,
   "metadata": {
    "collapsed": true
   },
   "outputs": [],
   "source": [
    "list1=['1',2,'3',4,5]\n",
    "list2=[1,2,3,4,'5',6]"
   ]
  },
  {
   "cell_type": "code",
   "execution_count": 396,
   "metadata": {},
   "outputs": [
    {
     "name": "stdout",
     "output_type": "stream",
     "text": [
      "They are not equal\n"
     ]
    }
   ],
   "source": [
    "if list1==list2:\n",
    "    print (\"They are equal\")\n",
    "else:\n",
    "       print (\"They are not equal\")\n"
   ]
  },
  {
   "cell_type": "code",
   "execution_count": 397,
   "metadata": {},
   "outputs": [
    {
     "name": "stdout",
     "output_type": "stream",
     "text": [
      "{2, 4}\n"
     ]
    }
   ],
   "source": [
    "print(set(list1).intersection(set(list2)))"
   ]
  },
  {
   "cell_type": "markdown",
   "metadata": {},
   "source": [
    "###### 6)What are the \"5 V's\" commonly used to describe Big Data?** Write your answer below."
   ]
  },
  {
   "cell_type": "code",
   "execution_count": null,
   "metadata": {
    "collapsed": true
   },
   "outputs": [],
   "source": []
  },
  {
   "cell_type": "markdown",
   "metadata": {},
   "source": [
    "1. Volume 2.Velocity 3.Variety 4. value 5.Veracity"
   ]
  },
  {
   "cell_type": "markdown",
   "metadata": {},
   "source": [
    "###### 7) Finish the quote:\n",
    "\"All models are wrong. Some are [...]\""
   ]
  },
  {
   "cell_type": "markdown",
   "metadata": {},
   "source": [
    "more useful than others"
   ]
  },
  {
   "cell_type": "markdown",
   "metadata": {},
   "source": [
    "###### 8) If a variable dogs = 103x23/2 and a variable cats = 10x12x4, Use python to determing if dogs are greater than cats. "
   ]
  },
  {
   "cell_type": "code",
   "execution_count": 236,
   "metadata": {
    "collapsed": true
   },
   "outputs": [],
   "source": [
    "dogs=103*23/2"
   ]
  },
  {
   "cell_type": "code",
   "execution_count": 237,
   "metadata": {
    "collapsed": true
   },
   "outputs": [],
   "source": [
    "cats=10*12*4"
   ]
  },
  {
   "cell_type": "code",
   "execution_count": 238,
   "metadata": {},
   "outputs": [
    {
     "name": "stdout",
     "output_type": "stream",
     "text": [
      "Dogs are greater than cats\n"
     ]
    }
   ],
   "source": [
    "if dogs>cats:\n",
    "    print (\"Dogs are greater than cats\")\n",
    "elif dogs<cats:\n",
    "    print (\"Dogs are less than cats\")\n",
    "else: \n",
    "    print (\"They are equal\")\n",
    "    "
   ]
  },
  {
   "cell_type": "markdown",
   "metadata": {},
   "source": [
    "###### 9) What is the name for the 3 primary measures of central tendency and give their definition "
   ]
  },
  {
   "cell_type": "markdown",
   "metadata": {},
   "source": [
    "1. Mean-- average value\n",
    "2. Median-- middle value\n",
    "3. Mode-- most common value"
   ]
  },
  {
   "cell_type": "markdown",
   "metadata": {},
   "source": [
    "###### 10)  Calculate the descriptive statistice for each of the above central measures in Python on this list of numbers and print out the values:\n",
    "[12,44,23,2,1,66,7,85,3,34,23,6,34,23,7,21,14,34,23,88] "
   ]
  },
  {
   "cell_type": "code",
   "execution_count": 239,
   "metadata": {
    "collapsed": true
   },
   "outputs": [],
   "source": [
    "import numpy as np\n",
    "a=np.array([12,44,23,2,1,66,7,85,3,34,23,6,34,23,7,21,14,34,23,88] )\n"
   ]
  },
  {
   "cell_type": "code",
   "execution_count": 240,
   "metadata": {},
   "outputs": [
    {
     "data": {
      "text/plain": [
       "27.5"
      ]
     },
     "execution_count": 240,
     "metadata": {},
     "output_type": "execute_result"
    }
   ],
   "source": [
    "np.mean(a)"
   ]
  },
  {
   "cell_type": "code",
   "execution_count": 241,
   "metadata": {},
   "outputs": [
    {
     "data": {
      "text/plain": [
       "23.0"
      ]
     },
     "execution_count": 241,
     "metadata": {},
     "output_type": "execute_result"
    }
   ],
   "source": [
    "np.median(a)"
   ]
  },
  {
   "cell_type": "code",
   "execution_count": 242,
   "metadata": {
    "collapsed": true
   },
   "outputs": [],
   "source": [
    "from statistics import mode\n"
   ]
  },
  {
   "cell_type": "code",
   "execution_count": 243,
   "metadata": {},
   "outputs": [
    {
     "data": {
      "text/plain": [
       "23"
      ]
     },
     "execution_count": 243,
     "metadata": {},
     "output_type": "execute_result"
    }
   ],
   "source": [
    "mode([12,44,23,2,1,66,7,85,3,34,23,6,34,23,7,21,14,34,23,88] )"
   ]
  },
  {
   "cell_type": "markdown",
   "metadata": {},
   "source": [
    "###### 12)  Delete the empty cell between question 12 (this one) and Question 13 from the Jupyter notebook"
   ]
  },
  {
   "cell_type": "markdown",
   "metadata": {},
   "source": [
    "###### 13) Create a list, called mylist, containing a sequential list of numbers that starts with 2 and stops at 1000, counting by 2's in Python"
   ]
  },
  {
   "cell_type": "code",
   "execution_count": 244,
   "metadata": {},
   "outputs": [
    {
     "name": "stdout",
     "output_type": "stream",
     "text": [
      "[2, 4, 6, 8, 10, 12, 14, 16, 18, 20, 22, 24, 26, 28, 30, 32, 34, 36, 38, 40, 42, 44, 46, 48, 50, 52, 54, 56, 58, 60, 62, 64, 66, 68, 70, 72, 74, 76, 78, 80, 82, 84, 86, 88, 90, 92, 94, 96, 98, 100, 102, 104, 106, 108, 110, 112, 114, 116, 118, 120, 122, 124, 126, 128, 130, 132, 134, 136, 138, 140, 142, 144, 146, 148, 150, 152, 154, 156, 158, 160, 162, 164, 166, 168, 170, 172, 174, 176, 178, 180, 182, 184, 186, 188, 190, 192, 194, 196, 198, 200, 202, 204, 206, 208, 210, 212, 214, 216, 218, 220, 222, 224, 226, 228, 230, 232, 234, 236, 238, 240, 242, 244, 246, 248, 250, 252, 254, 256, 258, 260, 262, 264, 266, 268, 270, 272, 274, 276, 278, 280, 282, 284, 286, 288, 290, 292, 294, 296, 298, 300, 302, 304, 306, 308, 310, 312, 314, 316, 318, 320, 322, 324, 326, 328, 330, 332, 334, 336, 338, 340, 342, 344, 346, 348, 350, 352, 354, 356, 358, 360, 362, 364, 366, 368, 370, 372, 374, 376, 378, 380, 382, 384, 386, 388, 390, 392, 394, 396, 398, 400, 402, 404, 406, 408, 410, 412, 414, 416, 418, 420, 422, 424, 426, 428, 430, 432, 434, 436, 438, 440, 442, 444, 446, 448, 450, 452, 454, 456, 458, 460, 462, 464, 466, 468, 470, 472, 474, 476, 478, 480, 482, 484, 486, 488, 490, 492, 494, 496, 498, 500, 502, 504, 506, 508, 510, 512, 514, 516, 518, 520, 522, 524, 526, 528, 530, 532, 534, 536, 538, 540, 542, 544, 546, 548, 550, 552, 554, 556, 558, 560, 562, 564, 566, 568, 570, 572, 574, 576, 578, 580, 582, 584, 586, 588, 590, 592, 594, 596, 598, 600, 602, 604, 606, 608, 610, 612, 614, 616, 618, 620, 622, 624, 626, 628, 630, 632, 634, 636, 638, 640, 642, 644, 646, 648, 650, 652, 654, 656, 658, 660, 662, 664, 666, 668, 670, 672, 674, 676, 678, 680, 682, 684, 686, 688, 690, 692, 694, 696, 698, 700, 702, 704, 706, 708, 710, 712, 714, 716, 718, 720, 722, 724, 726, 728, 730, 732, 734, 736, 738, 740, 742, 744, 746, 748, 750, 752, 754, 756, 758, 760, 762, 764, 766, 768, 770, 772, 774, 776, 778, 780, 782, 784, 786, 788, 790, 792, 794, 796, 798, 800, 802, 804, 806, 808, 810, 812, 814, 816, 818, 820, 822, 824, 826, 828, 830, 832, 834, 836, 838, 840, 842, 844, 846, 848, 850, 852, 854, 856, 858, 860, 862, 864, 866, 868, 870, 872, 874, 876, 878, 880, 882, 884, 886, 888, 890, 892, 894, 896, 898, 900, 902, 904, 906, 908, 910, 912, 914, 916, 918, 920, 922, 924, 926, 928, 930, 932, 934, 936, 938, 940, 942, 944, 946, 948, 950, 952, 954, 956, 958, 960, 962, 964, 966, 968, 970, 972, 974, 976, 978, 980, 982, 984, 986, 988, 990, 992, 994, 996, 998, 1000]\n"
     ]
    }
   ],
   "source": [
    "myList=[]\n",
    "for i in range(1,501):\n",
    "    x=2*i\n",
    "    myList.append(x)\n",
    "print (myList)\n"
   ]
  },
  {
   "cell_type": "markdown",
   "metadata": {},
   "source": [
    "###### 14) Is the sum of the first 50 elements in \"mylist\" greater than the last element of \"mylist\"?"
   ]
  },
  {
   "cell_type": "code",
   "execution_count": 245,
   "metadata": {
    "collapsed": true
   },
   "outputs": [],
   "source": [
    "flist=myList[:49]"
   ]
  },
  {
   "cell_type": "code",
   "execution_count": 246,
   "metadata": {},
   "outputs": [
    {
     "name": "stdout",
     "output_type": "stream",
     "text": [
      "[2, 4, 6, 8, 10, 12, 14, 16, 18, 20, 22, 24, 26, 28, 30, 32, 34, 36, 38, 40, 42, 44, 46, 48, 50, 52, 54, 56, 58, 60, 62, 64, 66, 68, 70, 72, 74, 76, 78, 80, 82, 84, 86, 88, 90, 92, 94, 96, 98]\n"
     ]
    }
   ],
   "source": [
    "print(flist)"
   ]
  },
  {
   "cell_type": "code",
   "execution_count": 247,
   "metadata": {},
   "outputs": [
    {
     "name": "stdout",
     "output_type": "stream",
     "text": [
      "True\n"
     ]
    }
   ],
   "source": [
    "print (sum(flist)>1000)"
   ]
  },
  {
   "cell_type": "markdown",
   "metadata": {},
   "source": [
    "###### 15) What is the length of \"mylist\"?"
   ]
  },
  {
   "cell_type": "code",
   "execution_count": 248,
   "metadata": {},
   "outputs": [
    {
     "name": "stdout",
     "output_type": "stream",
     "text": [
      "500\n"
     ]
    }
   ],
   "source": [
    "print (len(myList))"
   ]
  },
  {
   "cell_type": "markdown",
   "metadata": {},
   "source": [
    "###### 16) Create another list, called my2ndlist, containing a list of numbers starting at 1002 and stops at 1052,counting by 3's in Python. \n",
    "THEN concatenate my2ndlist with mylist into a new list called theMegaList.\n",
    "Print theMegaList below."
   ]
  },
  {
   "cell_type": "code",
   "execution_count": 249,
   "metadata": {
    "collapsed": true
   },
   "outputs": [],
   "source": [
    "my2ndList=[]\n",
    "\n",
    "i=999\n",
    "while i<1053:\n",
    "    i+=3\n",
    "    \n",
    "    my2ndList.append(i)\n",
    "    "
   ]
  },
  {
   "cell_type": "code",
   "execution_count": 250,
   "metadata": {},
   "outputs": [
    {
     "name": "stdout",
     "output_type": "stream",
     "text": [
      "[1002, 1005, 1008, 1011, 1014, 1017, 1020, 1023, 1026, 1029, 1032, 1035, 1038, 1041, 1044, 1047, 1050, 1053]\n"
     ]
    }
   ],
   "source": [
    "print(my2ndList)"
   ]
  },
  {
   "cell_type": "code",
   "execution_count": 251,
   "metadata": {
    "collapsed": true
   },
   "outputs": [],
   "source": [
    " x=myList "
   ]
  },
  {
   "cell_type": "code",
   "execution_count": 252,
   "metadata": {
    "collapsed": true
   },
   "outputs": [],
   "source": [
    "y=my2ndList"
   ]
  },
  {
   "cell_type": "code",
   "execution_count": 253,
   "metadata": {
    "collapsed": true
   },
   "outputs": [],
   "source": [
    "x.extend(y)\n"
   ]
  },
  {
   "cell_type": "code",
   "execution_count": 254,
   "metadata": {
    "collapsed": true
   },
   "outputs": [],
   "source": [
    "myMegaList=x"
   ]
  },
  {
   "cell_type": "code",
   "execution_count": 255,
   "metadata": {},
   "outputs": [
    {
     "name": "stdout",
     "output_type": "stream",
     "text": [
      "[2, 4, 6, 8, 10, 12, 14, 16, 18, 20, 22, 24, 26, 28, 30, 32, 34, 36, 38, 40, 42, 44, 46, 48, 50, 52, 54, 56, 58, 60, 62, 64, 66, 68, 70, 72, 74, 76, 78, 80, 82, 84, 86, 88, 90, 92, 94, 96, 98, 100, 102, 104, 106, 108, 110, 112, 114, 116, 118, 120, 122, 124, 126, 128, 130, 132, 134, 136, 138, 140, 142, 144, 146, 148, 150, 152, 154, 156, 158, 160, 162, 164, 166, 168, 170, 172, 174, 176, 178, 180, 182, 184, 186, 188, 190, 192, 194, 196, 198, 200, 202, 204, 206, 208, 210, 212, 214, 216, 218, 220, 222, 224, 226, 228, 230, 232, 234, 236, 238, 240, 242, 244, 246, 248, 250, 252, 254, 256, 258, 260, 262, 264, 266, 268, 270, 272, 274, 276, 278, 280, 282, 284, 286, 288, 290, 292, 294, 296, 298, 300, 302, 304, 306, 308, 310, 312, 314, 316, 318, 320, 322, 324, 326, 328, 330, 332, 334, 336, 338, 340, 342, 344, 346, 348, 350, 352, 354, 356, 358, 360, 362, 364, 366, 368, 370, 372, 374, 376, 378, 380, 382, 384, 386, 388, 390, 392, 394, 396, 398, 400, 402, 404, 406, 408, 410, 412, 414, 416, 418, 420, 422, 424, 426, 428, 430, 432, 434, 436, 438, 440, 442, 444, 446, 448, 450, 452, 454, 456, 458, 460, 462, 464, 466, 468, 470, 472, 474, 476, 478, 480, 482, 484, 486, 488, 490, 492, 494, 496, 498, 500, 502, 504, 506, 508, 510, 512, 514, 516, 518, 520, 522, 524, 526, 528, 530, 532, 534, 536, 538, 540, 542, 544, 546, 548, 550, 552, 554, 556, 558, 560, 562, 564, 566, 568, 570, 572, 574, 576, 578, 580, 582, 584, 586, 588, 590, 592, 594, 596, 598, 600, 602, 604, 606, 608, 610, 612, 614, 616, 618, 620, 622, 624, 626, 628, 630, 632, 634, 636, 638, 640, 642, 644, 646, 648, 650, 652, 654, 656, 658, 660, 662, 664, 666, 668, 670, 672, 674, 676, 678, 680, 682, 684, 686, 688, 690, 692, 694, 696, 698, 700, 702, 704, 706, 708, 710, 712, 714, 716, 718, 720, 722, 724, 726, 728, 730, 732, 734, 736, 738, 740, 742, 744, 746, 748, 750, 752, 754, 756, 758, 760, 762, 764, 766, 768, 770, 772, 774, 776, 778, 780, 782, 784, 786, 788, 790, 792, 794, 796, 798, 800, 802, 804, 806, 808, 810, 812, 814, 816, 818, 820, 822, 824, 826, 828, 830, 832, 834, 836, 838, 840, 842, 844, 846, 848, 850, 852, 854, 856, 858, 860, 862, 864, 866, 868, 870, 872, 874, 876, 878, 880, 882, 884, 886, 888, 890, 892, 894, 896, 898, 900, 902, 904, 906, 908, 910, 912, 914, 916, 918, 920, 922, 924, 926, 928, 930, 932, 934, 936, 938, 940, 942, 944, 946, 948, 950, 952, 954, 956, 958, 960, 962, 964, 966, 968, 970, 972, 974, 976, 978, 980, 982, 984, 986, 988, 990, 992, 994, 996, 998, 1000, 1002, 1005, 1008, 1011, 1014, 1017, 1020, 1023, 1026, 1029, 1032, 1035, 1038, 1041, 1044, 1047, 1050, 1053]\n"
     ]
    }
   ],
   "source": [
    "print(myMegaList)"
   ]
  },
  {
   "cell_type": "markdown",
   "metadata": {},
   "source": [
    "###### 17) What is the index for the value 822 in theMegaList?"
   ]
  },
  {
   "cell_type": "code",
   "execution_count": 256,
   "metadata": {},
   "outputs": [
    {
     "data": {
      "text/plain": [
       "410"
      ]
     },
     "execution_count": 256,
     "metadata": {},
     "output_type": "execute_result"
    }
   ],
   "source": [
    "myMegaList.index(822)"
   ]
  },
  {
   "cell_type": "markdown",
   "metadata": {},
   "source": [
    "###### 18) Write a for loop that will test if an element in theMegaList is an even or odd number and keeps a count of how many of each there are in the list.\n",
    "Print out the total number of even and odd numbers found in theMegalist below."
   ]
  },
  {
   "cell_type": "code",
   "execution_count": 389,
   "metadata": {},
   "outputs": [],
   "source": [
    "even=[]\n",
    "odd=[]\n",
    "\n",
    "for i in myMegaList:\n",
    "    x=i%2\n",
    "    if x==0:\n",
    "        even.append(x)\n",
    "        continue\n",
    "    elif x!=0:\n",
    "        odd.append(x)\n",
    "\n",
    "\n"
   ]
  },
  {
   "cell_type": "code",
   "execution_count": 391,
   "metadata": {},
   "outputs": [
    {
     "name": "stdout",
     "output_type": "stream",
     "text": [
      "509\n"
     ]
    }
   ],
   "source": [
    "print(even.count(0))"
   ]
  },
  {
   "cell_type": "code",
   "execution_count": 393,
   "metadata": {},
   "outputs": [
    {
     "name": "stdout",
     "output_type": "stream",
     "text": [
      "9\n"
     ]
    }
   ],
   "source": [
    "print(odd.count(1))"
   ]
  },
  {
   "cell_type": "code",
   "execution_count": 394,
   "metadata": {},
   "outputs": [
    {
     "name": "stdout",
     "output_type": "stream",
     "text": [
      "518\n"
     ]
    }
   ],
   "source": [
    "print(len(myMegaList))"
   ]
  },
  {
   "cell_type": "markdown",
   "metadata": {},
   "source": [
    "###### 19) Write a brief definition of what Data Latency and the difference between \"real-time\" and \"near-time\" data."
   ]
  },
  {
   "cell_type": "markdown",
   "metadata": {},
   "source": [
    "Data Latency--it describes how frequently it is updated and how much of a time delay exists between an actual event happening and the related data base is made aware of it.\n",
    "\n",
    "Difference between real-time and near-time data--is the amount of time between a real event and the data is updated to reflect it. there is a small amount of time for real-time and that is less than a day but greater than an hour for near-time."
   ]
  },
  {
   "cell_type": "markdown",
   "metadata": {},
   "source": [
    "###### 19) What does the statistic Standard Deviation tell you about a numerical dataset?"
   ]
  },
  {
   "cell_type": "markdown",
   "metadata": {
    "collapsed": true
   },
   "source": [
    "Standard deviation is a number used to tell how measurements for a group are spread out from the average (mean), or expected value. A low standard deviation means that most of the numbers are very close to the average. A high standard deviation means that the numbers are spread out."
   ]
  },
  {
   "cell_type": "markdown",
   "metadata": {},
   "source": [
    "###### 20) Suppose you have the following loop:\n",
    "\n",
    "things = [1,2,3,5,6,7,8,9,10]\n",
    "previous_thing = 0\n",
    "for thing in things:\n",
    "         new_thing = thing * previous_thing\n",
    "         x = 3+previous_thing\n",
    "         previous_thing = thing"
   ]
  },
  {
   "cell_type": "code",
   "execution_count": 257,
   "metadata": {},
   "outputs": [
    {
     "name": "stdout",
     "output_type": "stream",
     "text": [
      "0\n",
      "0\n",
      "0\n",
      "0\n",
      "0\n",
      "0\n",
      "0\n",
      "0\n",
      "0\n",
      "0\n"
     ]
    }
   ],
   "source": [
    "a=[1,2,3,4,5,6,7,8,9,10]\n",
    "b=0\n",
    "for i in a:\n",
    "    c=i*b\n",
    "    print(c)"
   ]
  },
  {
   "cell_type": "code",
   "execution_count": 258,
   "metadata": {},
   "outputs": [
    {
     "data": {
      "text/plain": [
       "3"
      ]
     },
     "execution_count": 258,
     "metadata": {},
     "output_type": "execute_result"
    }
   ],
   "source": [
    "x=3+b\n",
    "x"
   ]
  },
  {
   "cell_type": "markdown",
   "metadata": {},
   "source": [
    "new_thing equal 0,0,0,0,0,0,0,0,0,0\n",
    "x=3"
   ]
  },
  {
   "cell_type": "markdown",
   "metadata": {},
   "source": [
    "###### 21) What's the difference between Zero and None or Null? "
   ]
  },
  {
   "cell_type": "markdown",
   "metadata": {},
   "source": [
    "Zero represents a integer or a value in certain scale; None or Null means an absence of value."
   ]
  },
  {
   "cell_type": "code",
   "execution_count": 261,
   "metadata": {
    "collapsed": true
   },
   "outputs": [],
   "source": [
    "from pandas import Series, DataFrame\n",
    "import pandas as pd\n",
    "raw_data = {'first_name': ['Jason', 'Jason', 'Tina', 'Jake', 'Amy'],\n",
    "        'last_name': ['Miller', 'Miller', 'Ali', 'Milner', 'Milner'],\n",
    "        'age': [42, 42, 36, 24, 73],\n",
    "        'preTest': [4, 4, 31, 2, 3],\n",
    "        'postTest': [25, 25, 57, 62, 70]}\n",
    "df = pd.DataFrame(raw_data, columns = ['first_name', 'last_name', 'age', 'preTest', 'postTest'])\n",
    "df1 = df"
   ]
  },
  {
   "cell_type": "markdown",
   "metadata": {},
   "source": [
    "###### 23) What are the column names in df1?print the result."
   ]
  },
  {
   "cell_type": "code",
   "execution_count": 262,
   "metadata": {},
   "outputs": [
    {
     "name": "stdout",
     "output_type": "stream",
     "text": [
      "Index(['first_name', 'last_name', 'age', 'preTest', 'postTest'], dtype='object')\n"
     ]
    }
   ],
   "source": [
    "print (df1.columns)"
   ]
  },
  {
   "cell_type": "markdown",
   "metadata": {},
   "source": [
    "###### 24) What is the average (mean) of the preTest and postTest scores?print the result. "
   ]
  },
  {
   "cell_type": "code",
   "execution_count": 263,
   "metadata": {},
   "outputs": [
    {
     "data": {
      "text/plain": [
       "8.8000000000000007"
      ]
     },
     "execution_count": 263,
     "metadata": {},
     "output_type": "execute_result"
    }
   ],
   "source": [
    "preTest= [4, 4, 31, 2, 3]\n",
    "postTest=[25, 25, 57, 62, 70]\n",
    "np.mean(preTest)\n"
   ]
  },
  {
   "cell_type": "code",
   "execution_count": 264,
   "metadata": {},
   "outputs": [
    {
     "data": {
      "text/plain": [
       "47.799999999999997"
      ]
     },
     "execution_count": 264,
     "metadata": {},
     "output_type": "execute_result"
    }
   ],
   "source": [
    "np.mean(postTest)"
   ]
  },
  {
   "cell_type": "markdown",
   "metadata": {},
   "source": [
    "###### 25) Remove duplicated rows in df based on last_name only. Instead of keeping the first value, now keep the last of the duplicated values.print the result."
   ]
  },
  {
   "cell_type": "code",
   "execution_count": 265,
   "metadata": {},
   "outputs": [
    {
     "data": {
      "text/html": [
       "<div>\n",
       "<style>\n",
       "    .dataframe thead tr:only-child th {\n",
       "        text-align: right;\n",
       "    }\n",
       "\n",
       "    .dataframe thead th {\n",
       "        text-align: left;\n",
       "    }\n",
       "\n",
       "    .dataframe tbody tr th {\n",
       "        vertical-align: top;\n",
       "    }\n",
       "</style>\n",
       "<table border=\"1\" class=\"dataframe\">\n",
       "  <thead>\n",
       "    <tr style=\"text-align: right;\">\n",
       "      <th></th>\n",
       "      <th>first_name</th>\n",
       "      <th>last_name</th>\n",
       "      <th>age</th>\n",
       "      <th>preTest</th>\n",
       "      <th>postTest</th>\n",
       "    </tr>\n",
       "  </thead>\n",
       "  <tbody>\n",
       "    <tr>\n",
       "      <th>1</th>\n",
       "      <td>Jason</td>\n",
       "      <td>Miller</td>\n",
       "      <td>42</td>\n",
       "      <td>4</td>\n",
       "      <td>25</td>\n",
       "    </tr>\n",
       "    <tr>\n",
       "      <th>2</th>\n",
       "      <td>Tina</td>\n",
       "      <td>Ali</td>\n",
       "      <td>36</td>\n",
       "      <td>31</td>\n",
       "      <td>57</td>\n",
       "    </tr>\n",
       "    <tr>\n",
       "      <th>3</th>\n",
       "      <td>Jake</td>\n",
       "      <td>Milner</td>\n",
       "      <td>24</td>\n",
       "      <td>2</td>\n",
       "      <td>62</td>\n",
       "    </tr>\n",
       "    <tr>\n",
       "      <th>4</th>\n",
       "      <td>Amy</td>\n",
       "      <td>Milner</td>\n",
       "      <td>73</td>\n",
       "      <td>3</td>\n",
       "      <td>70</td>\n",
       "    </tr>\n",
       "  </tbody>\n",
       "</table>\n",
       "</div>"
      ],
      "text/plain": [
       "  first_name last_name  age  preTest  postTest\n",
       "1      Jason    Miller   42        4        25\n",
       "2       Tina       Ali   36       31        57\n",
       "3       Jake    Milner   24        2        62\n",
       "4        Amy    Milner   73        3        70"
      ]
     },
     "execution_count": 265,
     "metadata": {},
     "output_type": "execute_result"
    }
   ],
   "source": [
    "df1.drop(0)"
   ]
  },
  {
   "cell_type": "markdown",
   "metadata": {},
   "source": [
    "###### 26) Remove duplicated rows in df1 based on both first_name and last_name. print the result."
   ]
  },
  {
   "cell_type": "code",
   "execution_count": 266,
   "metadata": {},
   "outputs": [
    {
     "data": {
      "text/html": [
       "<div>\n",
       "<style>\n",
       "    .dataframe thead tr:only-child th {\n",
       "        text-align: right;\n",
       "    }\n",
       "\n",
       "    .dataframe thead th {\n",
       "        text-align: left;\n",
       "    }\n",
       "\n",
       "    .dataframe tbody tr th {\n",
       "        vertical-align: top;\n",
       "    }\n",
       "</style>\n",
       "<table border=\"1\" class=\"dataframe\">\n",
       "  <thead>\n",
       "    <tr style=\"text-align: right;\">\n",
       "      <th></th>\n",
       "      <th>first_name</th>\n",
       "      <th>last_name</th>\n",
       "      <th>age</th>\n",
       "      <th>preTest</th>\n",
       "      <th>postTest</th>\n",
       "    </tr>\n",
       "  </thead>\n",
       "  <tbody>\n",
       "    <tr>\n",
       "      <th>1</th>\n",
       "      <td>Jason</td>\n",
       "      <td>Miller</td>\n",
       "      <td>42</td>\n",
       "      <td>4</td>\n",
       "      <td>25</td>\n",
       "    </tr>\n",
       "    <tr>\n",
       "      <th>2</th>\n",
       "      <td>Tina</td>\n",
       "      <td>Ali</td>\n",
       "      <td>36</td>\n",
       "      <td>31</td>\n",
       "      <td>57</td>\n",
       "    </tr>\n",
       "    <tr>\n",
       "      <th>3</th>\n",
       "      <td>Jake</td>\n",
       "      <td>Milner</td>\n",
       "      <td>24</td>\n",
       "      <td>2</td>\n",
       "      <td>62</td>\n",
       "    </tr>\n",
       "    <tr>\n",
       "      <th>4</th>\n",
       "      <td>Amy</td>\n",
       "      <td>Milner</td>\n",
       "      <td>73</td>\n",
       "      <td>3</td>\n",
       "      <td>70</td>\n",
       "    </tr>\n",
       "  </tbody>\n",
       "</table>\n",
       "</div>"
      ],
      "text/plain": [
       "  first_name last_name  age  preTest  postTest\n",
       "1      Jason    Miller   42        4        25\n",
       "2       Tina       Ali   36       31        57\n",
       "3       Jake    Milner   24        2        62\n",
       "4        Amy    Milner   73        3        70"
      ]
     },
     "execution_count": 266,
     "metadata": {},
     "output_type": "execute_result"
    }
   ],
   "source": [
    "df1.drop_duplicates(['first_name'], keep='last')"
   ]
  },
  {
   "cell_type": "markdown",
   "metadata": {},
   "source": [
    "Use the dataframe defined in the following cell to answer the next few questions: "
   ]
  },
  {
   "cell_type": "code",
   "execution_count": 267,
   "metadata": {},
   "outputs": [
    {
     "name": "stdout",
     "output_type": "stream",
     "text": [
      "            0         1         2         3\n",
      "0    0.496714 -0.138264  0.647689  1.523030\n",
      "1   -0.234153 -0.234137  1.579213  0.767435\n",
      "2   -0.469474  0.542560 -0.463418 -0.465730\n",
      "3    0.241962 -1.913280 -1.724918 -0.562288\n",
      "4   -1.012831  0.314247 -0.908024 -1.412304\n",
      "5    1.465649 -0.225776  0.067528 -1.424748\n",
      "6   -0.544383  0.110923 -1.150994  0.375698\n",
      "7   -0.600639 -0.291694 -0.601707  1.852278\n",
      "8   -0.013497 -1.057711  0.822545 -1.220844\n",
      "9    0.208864 -1.959670 -1.328186  0.196861\n",
      "10   0.738467  0.171368 -0.115648 -0.301104\n",
      "11  -1.478522 -0.719844 -0.460639  1.057122\n",
      "12   0.343618 -1.763040  0.324084 -0.385082\n",
      "13  -0.676922  0.611676  1.031000  0.931280\n",
      "14  -0.839218 -0.309212  0.331263  0.975545\n",
      "15  -0.479174 -0.185659 -1.106335 -1.196207\n",
      "16   0.812526  1.356240 -0.072010  1.003533\n",
      "17   0.361636 -0.645120  0.361396  1.538037\n",
      "18  -0.035826  1.564644 -2.619745  0.821903\n",
      "19   0.087047 -0.299007  0.091761 -1.987569\n",
      "20  -0.219672  0.357113  1.477894 -0.518270\n",
      "21  -0.808494 -0.501757  0.915402  0.328751\n",
      "22  -0.529760  0.513267  0.097078  0.968645\n",
      "23  -0.702053 -0.327662 -0.392108 -1.463515\n",
      "24   0.296120  0.261055  0.005113 -0.234587\n",
      "25  -1.415371 -0.420645 -0.342715 -0.802277\n",
      "26  -0.161286  0.404051  1.886186  0.174578\n",
      "27   0.257550 -0.074446 -1.918771 -0.026514\n",
      "28   0.060230  2.463242 -0.192361  0.301547\n",
      "29  -0.034712 -1.168678  1.142823  0.751933\n",
      "..        ...       ...       ...       ...\n",
      "370  0.722381 -0.372833  1.726964 -0.399636\n",
      "371  0.224685  0.932591 -1.418366 -1.760809\n",
      "372 -1.525656  1.262584 -0.551858  2.558199\n",
      "373 -0.564248  0.184551  1.542110  2.006093\n",
      "374  2.061504  1.208366  1.024063  0.592527\n",
      "375  0.778361 -0.551186 -0.818199 -0.003374\n",
      "376 -0.170185 -0.453228  0.696387  0.955305\n",
      "377  0.088407  1.477530 -1.141689 -0.193659\n",
      "378 -0.716822 -1.866537 -0.082681 -0.121748\n",
      "379  1.513450  0.630812 -1.024187  1.854093\n",
      "380  1.221034  0.582098 -0.226484 -0.959439\n",
      "381 -0.372207  1.088749  1.884586  1.543244\n",
      "382 -0.488849 -1.119617  0.140886 -1.768439\n",
      "383  0.323168 -0.147603 -0.466037 -1.594703\n",
      "384  0.513600 -0.532701 -1.169917 -2.872262\n",
      "385 -0.027515  1.772252  1.661259 -0.457096\n",
      "386 -0.602212  0.468774 -0.998385  0.301792\n",
      "387  0.766080  1.226933 -0.100154 -0.203674\n",
      "388 -0.877983 -0.826880 -0.226479  0.367366\n",
      "389  0.913585 -0.803179  1.492689 -0.271124\n",
      "390 -0.021367 -0.747212 -2.424240  0.884045\n",
      "391  0.736844 -0.281328  0.066991  0.515939\n",
      "392 -1.562546 -0.529053  0.794265 -1.254289\n",
      "393  0.293558 -1.356582  0.466430 -0.035641\n",
      "394 -1.615132  1.164739 -0.734592 -0.810252\n",
      "395  0.200569  1.148637 -1.015822  0.061680\n",
      "396  0.428817  0.693106  0.176442 -0.367028\n",
      "397 -0.827590  0.086144 -1.072139 -2.921350\n",
      "398  0.436560  0.903935 -2.362932 -1.009731\n",
      "399  0.619154  2.057495  0.020794 -0.728003\n",
      "\n",
      "[400 rows x 4 columns]\n"
     ]
    }
   ],
   "source": [
    "from pandas import Series, DataFrame\n",
    "import pandas as pd\n",
    "from numpy.random import randn\n",
    "import numpy as np\n",
    "np.random.seed(42)\n",
    "randomdata = DataFrame(np.random.randn(400, 4))\n",
    "print (randomdata)\n",
    "%matplotlib inline"
   ]
  },
  {
   "cell_type": "markdown",
   "metadata": {},
   "source": [
    "###### 27) Use the \"describe\" function to summarize the randomdata created above."
   ]
  },
  {
   "cell_type": "code",
   "execution_count": 268,
   "metadata": {},
   "outputs": [
    {
     "data": {
      "text/html": [
       "<div>\n",
       "<style>\n",
       "    .dataframe thead tr:only-child th {\n",
       "        text-align: right;\n",
       "    }\n",
       "\n",
       "    .dataframe thead th {\n",
       "        text-align: left;\n",
       "    }\n",
       "\n",
       "    .dataframe tbody tr th {\n",
       "        vertical-align: top;\n",
       "    }\n",
       "</style>\n",
       "<table border=\"1\" class=\"dataframe\">\n",
       "  <thead>\n",
       "    <tr style=\"text-align: right;\">\n",
       "      <th></th>\n",
       "      <th>0</th>\n",
       "      <th>1</th>\n",
       "      <th>2</th>\n",
       "      <th>3</th>\n",
       "    </tr>\n",
       "  </thead>\n",
       "  <tbody>\n",
       "    <tr>\n",
       "      <th>count</th>\n",
       "      <td>400.000000</td>\n",
       "      <td>400.000000</td>\n",
       "      <td>400.000000</td>\n",
       "      <td>400.000000</td>\n",
       "    </tr>\n",
       "    <tr>\n",
       "      <th>mean</th>\n",
       "      <td>0.035296</td>\n",
       "      <td>0.041202</td>\n",
       "      <td>0.046713</td>\n",
       "      <td>0.035939</td>\n",
       "    </tr>\n",
       "    <tr>\n",
       "      <th>std</th>\n",
       "      <td>0.924153</td>\n",
       "      <td>1.028034</td>\n",
       "      <td>0.997816</td>\n",
       "      <td>1.024632</td>\n",
       "    </tr>\n",
       "    <tr>\n",
       "      <th>min</th>\n",
       "      <td>-2.650970</td>\n",
       "      <td>-2.896255</td>\n",
       "      <td>-3.241267</td>\n",
       "      <td>-2.921350</td>\n",
       "    </tr>\n",
       "    <tr>\n",
       "      <th>25%</th>\n",
       "      <td>-0.612942</td>\n",
       "      <td>-0.651856</td>\n",
       "      <td>-0.602684</td>\n",
       "      <td>-0.683766</td>\n",
       "    </tr>\n",
       "    <tr>\n",
       "      <th>50%</th>\n",
       "      <td>0.052292</td>\n",
       "      <td>0.037928</td>\n",
       "      <td>0.036043</td>\n",
       "      <td>0.047190</td>\n",
       "    </tr>\n",
       "    <tr>\n",
       "      <th>75%</th>\n",
       "      <td>0.634986</td>\n",
       "      <td>0.676014</td>\n",
       "      <td>0.652834</td>\n",
       "      <td>0.744011</td>\n",
       "    </tr>\n",
       "    <tr>\n",
       "      <th>max</th>\n",
       "      <td>2.526932</td>\n",
       "      <td>3.852731</td>\n",
       "      <td>3.078881</td>\n",
       "      <td>2.720169</td>\n",
       "    </tr>\n",
       "  </tbody>\n",
       "</table>\n",
       "</div>"
      ],
      "text/plain": [
       "                0           1           2           3\n",
       "count  400.000000  400.000000  400.000000  400.000000\n",
       "mean     0.035296    0.041202    0.046713    0.035939\n",
       "std      0.924153    1.028034    0.997816    1.024632\n",
       "min     -2.650970   -2.896255   -3.241267   -2.921350\n",
       "25%     -0.612942   -0.651856   -0.602684   -0.683766\n",
       "50%      0.052292    0.037928    0.036043    0.047190\n",
       "75%      0.634986    0.676014    0.652834    0.744011\n",
       "max      2.526932    3.852731    3.078881    2.720169"
      ]
     },
     "execution_count": 268,
     "metadata": {},
     "output_type": "execute_result"
    }
   ],
   "source": [
    "randomdata.describe()"
   ]
  },
  {
   "cell_type": "markdown",
   "metadata": {},
   "source": [
    "###### 28) Identify the rows which contains at least one item with absolute value greater than 1"
   ]
  },
  {
   "cell_type": "code",
   "execution_count": 269,
   "metadata": {},
   "outputs": [
    {
     "name": "stdout",
     "output_type": "stream",
     "text": [
      "         0      1      2      3\n",
      "0    False  False  False   True\n",
      "1    False  False   True  False\n",
      "2    False  False  False  False\n",
      "3    False  False  False  False\n",
      "4    False  False  False  False\n",
      "5     True  False  False  False\n",
      "6    False  False  False  False\n",
      "7    False  False  False   True\n",
      "8    False  False  False  False\n",
      "9    False  False  False  False\n",
      "10   False  False  False  False\n",
      "11   False  False  False   True\n",
      "12   False  False  False  False\n",
      "13   False  False   True  False\n",
      "14   False  False  False  False\n",
      "15   False  False  False  False\n",
      "16   False   True  False   True\n",
      "17   False  False  False   True\n",
      "18   False   True  False  False\n",
      "19   False  False  False  False\n",
      "20   False  False   True  False\n",
      "21   False  False  False  False\n",
      "22   False  False  False  False\n",
      "23   False  False  False  False\n",
      "24   False  False  False  False\n",
      "25   False  False  False  False\n",
      "26   False  False   True  False\n",
      "27   False  False  False  False\n",
      "28   False   True  False  False\n",
      "29   False  False   True  False\n",
      "..     ...    ...    ...    ...\n",
      "370  False  False   True  False\n",
      "371  False  False  False  False\n",
      "372  False   True  False   True\n",
      "373  False  False   True   True\n",
      "374   True   True   True  False\n",
      "375  False  False  False  False\n",
      "376  False  False  False  False\n",
      "377  False   True  False  False\n",
      "378  False  False  False  False\n",
      "379   True  False  False   True\n",
      "380   True  False  False  False\n",
      "381  False   True   True   True\n",
      "382  False  False  False  False\n",
      "383  False  False  False  False\n",
      "384  False  False  False  False\n",
      "385  False   True   True  False\n",
      "386  False  False  False  False\n",
      "387  False   True  False  False\n",
      "388  False  False  False  False\n",
      "389  False  False   True  False\n",
      "390  False  False  False  False\n",
      "391  False  False  False  False\n",
      "392  False  False  False  False\n",
      "393  False  False  False  False\n",
      "394  False   True  False  False\n",
      "395  False   True  False  False\n",
      "396  False  False  False  False\n",
      "397  False  False  False  False\n",
      "398  False  False  False  False\n",
      "399  False   True  False  False\n",
      "\n",
      "[400 rows x 4 columns]\n"
     ]
    }
   ],
   "source": [
    "print (randomdata>1)"
   ]
  },
  {
   "cell_type": "markdown",
   "metadata": {},
   "source": [
    "###### Use the dataframe defined in the following cell to answer the next few questions: "
   ]
  },
  {
   "cell_type": "code",
   "execution_count": 270,
   "metadata": {},
   "outputs": [
    {
     "data": {
      "text/html": [
       "<div>\n",
       "<style>\n",
       "    .dataframe thead tr:only-child th {\n",
       "        text-align: right;\n",
       "    }\n",
       "\n",
       "    .dataframe thead th {\n",
       "        text-align: left;\n",
       "    }\n",
       "\n",
       "    .dataframe tbody tr th {\n",
       "        vertical-align: top;\n",
       "    }\n",
       "</style>\n",
       "<table border=\"1\" class=\"dataframe\">\n",
       "  <thead>\n",
       "    <tr style=\"text-align: right;\">\n",
       "      <th></th>\n",
       "      <th>GrossIn</th>\n",
       "      <th>GrossOut</th>\n",
       "      <th>NetIn</th>\n",
       "      <th>NetOut</th>\n",
       "    </tr>\n",
       "  </thead>\n",
       "  <tbody>\n",
       "    <tr>\n",
       "      <th>2015-11-29</th>\n",
       "      <td>-0.182896</td>\n",
       "      <td>1.374876</td>\n",
       "      <td>-0.645964</td>\n",
       "      <td>-0.799192</td>\n",
       "    </tr>\n",
       "    <tr>\n",
       "      <th>2015-12-06</th>\n",
       "      <td>-0.482744</td>\n",
       "      <td>-0.953329</td>\n",
       "      <td>0.122670</td>\n",
       "      <td>1.624678</td>\n",
       "    </tr>\n",
       "    <tr>\n",
       "      <th>2015-12-13</th>\n",
       "      <td>0.323079</td>\n",
       "      <td>-0.252354</td>\n",
       "      <td>-0.291811</td>\n",
       "      <td>-1.563191</td>\n",
       "    </tr>\n",
       "    <tr>\n",
       "      <th>2015-12-20</th>\n",
       "      <td>0.883110</td>\n",
       "      <td>-0.077837</td>\n",
       "      <td>-0.180480</td>\n",
       "      <td>3.193108</td>\n",
       "    </tr>\n",
       "    <tr>\n",
       "      <th>2015-12-27</th>\n",
       "      <td>0.298753</td>\n",
       "      <td>-0.751791</td>\n",
       "      <td>-0.426358</td>\n",
       "      <td>1.148446</td>\n",
       "    </tr>\n",
       "    <tr>\n",
       "      <th>2016-01-03</th>\n",
       "      <td>0.113270</td>\n",
       "      <td>-1.438278</td>\n",
       "      <td>0.919229</td>\n",
       "      <td>-0.668144</td>\n",
       "    </tr>\n",
       "    <tr>\n",
       "      <th>2016-01-10</th>\n",
       "      <td>1.873298</td>\n",
       "      <td>1.080048</td>\n",
       "      <td>-0.447322</td>\n",
       "      <td>1.281016</td>\n",
       "    </tr>\n",
       "    <tr>\n",
       "      <th>2016-01-17</th>\n",
       "      <td>0.067856</td>\n",
       "      <td>0.852774</td>\n",
       "      <td>0.484733</td>\n",
       "      <td>-0.846357</td>\n",
       "    </tr>\n",
       "    <tr>\n",
       "      <th>2016-01-24</th>\n",
       "      <td>-0.643550</td>\n",
       "      <td>1.029961</td>\n",
       "      <td>-0.334775</td>\n",
       "      <td>-0.403648</td>\n",
       "    </tr>\n",
       "    <tr>\n",
       "      <th>2016-01-31</th>\n",
       "      <td>-0.955123</td>\n",
       "      <td>0.423599</td>\n",
       "      <td>2.062525</td>\n",
       "      <td>-1.067533</td>\n",
       "    </tr>\n",
       "    <tr>\n",
       "      <th>2016-02-07</th>\n",
       "      <td>0.024219</td>\n",
       "      <td>1.412221</td>\n",
       "      <td>-0.079641</td>\n",
       "      <td>0.452372</td>\n",
       "    </tr>\n",
       "    <tr>\n",
       "      <th>2016-02-14</th>\n",
       "      <td>-1.062394</td>\n",
       "      <td>0.428307</td>\n",
       "      <td>-0.187144</td>\n",
       "      <td>0.985730</td>\n",
       "    </tr>\n",
       "    <tr>\n",
       "      <th>2016-02-21</th>\n",
       "      <td>1.187386</td>\n",
       "      <td>2.589564</td>\n",
       "      <td>0.579633</td>\n",
       "      <td>0.325796</td>\n",
       "    </tr>\n",
       "    <tr>\n",
       "      <th>2016-02-28</th>\n",
       "      <td>0.194384</td>\n",
       "      <td>-0.353166</td>\n",
       "      <td>0.338484</td>\n",
       "      <td>-0.295401</td>\n",
       "    </tr>\n",
       "    <tr>\n",
       "      <th>2016-03-06</th>\n",
       "      <td>0.168461</td>\n",
       "      <td>1.317598</td>\n",
       "      <td>-1.006543</td>\n",
       "      <td>1.139879</td>\n",
       "    </tr>\n",
       "    <tr>\n",
       "      <th>2016-03-13</th>\n",
       "      <td>1.317115</td>\n",
       "      <td>-0.118069</td>\n",
       "      <td>-2.121855</td>\n",
       "      <td>-0.607822</td>\n",
       "    </tr>\n",
       "    <tr>\n",
       "      <th>2016-03-20</th>\n",
       "      <td>1.296995</td>\n",
       "      <td>-0.022868</td>\n",
       "      <td>-0.999302</td>\n",
       "      <td>-0.504775</td>\n",
       "    </tr>\n",
       "    <tr>\n",
       "      <th>2016-03-27</th>\n",
       "      <td>0.840620</td>\n",
       "      <td>0.546734</td>\n",
       "      <td>-0.238932</td>\n",
       "      <td>-0.366824</td>\n",
       "    </tr>\n",
       "    <tr>\n",
       "      <th>2016-04-03</th>\n",
       "      <td>-0.391758</td>\n",
       "      <td>-0.922410</td>\n",
       "      <td>1.615376</td>\n",
       "      <td>-0.322320</td>\n",
       "    </tr>\n",
       "    <tr>\n",
       "      <th>2016-04-10</th>\n",
       "      <td>1.217159</td>\n",
       "      <td>1.521316</td>\n",
       "      <td>0.998311</td>\n",
       "      <td>-0.431620</td>\n",
       "    </tr>\n",
       "    <tr>\n",
       "      <th>2016-04-17</th>\n",
       "      <td>0.403730</td>\n",
       "      <td>-0.024196</td>\n",
       "      <td>-0.903702</td>\n",
       "      <td>0.324359</td>\n",
       "    </tr>\n",
       "    <tr>\n",
       "      <th>2016-04-24</th>\n",
       "      <td>-1.179040</td>\n",
       "      <td>1.187679</td>\n",
       "      <td>-0.464617</td>\n",
       "      <td>0.201160</td>\n",
       "    </tr>\n",
       "    <tr>\n",
       "      <th>2016-05-01</th>\n",
       "      <td>0.283288</td>\n",
       "      <td>-0.258905</td>\n",
       "      <td>0.586694</td>\n",
       "      <td>-0.474904</td>\n",
       "    </tr>\n",
       "    <tr>\n",
       "      <th>2016-05-08</th>\n",
       "      <td>0.871297</td>\n",
       "      <td>-1.345980</td>\n",
       "      <td>0.126380</td>\n",
       "      <td>1.938929</td>\n",
       "    </tr>\n",
       "    <tr>\n",
       "      <th>2016-05-15</th>\n",
       "      <td>-1.000331</td>\n",
       "      <td>-0.677745</td>\n",
       "      <td>0.513908</td>\n",
       "      <td>0.179582</td>\n",
       "    </tr>\n",
       "    <tr>\n",
       "      <th>2016-05-22</th>\n",
       "      <td>0.350630</td>\n",
       "      <td>0.489187</td>\n",
       "      <td>0.634721</td>\n",
       "      <td>1.109700</td>\n",
       "    </tr>\n",
       "    <tr>\n",
       "      <th>2016-05-29</th>\n",
       "      <td>0.409819</td>\n",
       "      <td>-0.241258</td>\n",
       "      <td>0.672574</td>\n",
       "      <td>1.899882</td>\n",
       "    </tr>\n",
       "    <tr>\n",
       "      <th>2016-06-05</th>\n",
       "      <td>-0.132634</td>\n",
       "      <td>-0.974529</td>\n",
       "      <td>1.107081</td>\n",
       "      <td>-0.120381</td>\n",
       "    </tr>\n",
       "    <tr>\n",
       "      <th>2016-06-12</th>\n",
       "      <td>-2.172670</td>\n",
       "      <td>0.847422</td>\n",
       "      <td>-0.535328</td>\n",
       "      <td>-0.090533</td>\n",
       "    </tr>\n",
       "    <tr>\n",
       "      <th>2016-06-19</th>\n",
       "      <td>0.331980</td>\n",
       "      <td>0.190500</td>\n",
       "      <td>0.709452</td>\n",
       "      <td>-0.435486</td>\n",
       "    </tr>\n",
       "    <tr>\n",
       "      <th>2016-06-26</th>\n",
       "      <td>0.513106</td>\n",
       "      <td>-0.259547</td>\n",
       "      <td>0.738810</td>\n",
       "      <td>0.615367</td>\n",
       "    </tr>\n",
       "    <tr>\n",
       "      <th>2016-07-03</th>\n",
       "      <td>-0.935439</td>\n",
       "      <td>1.085982</td>\n",
       "      <td>-0.535963</td>\n",
       "      <td>0.808058</td>\n",
       "    </tr>\n",
       "    <tr>\n",
       "      <th>2016-07-10</th>\n",
       "      <td>0.367287</td>\n",
       "      <td>1.838184</td>\n",
       "      <td>-0.223466</td>\n",
       "      <td>-0.349317</td>\n",
       "    </tr>\n",
       "    <tr>\n",
       "      <th>2016-07-17</th>\n",
       "      <td>-0.019420</td>\n",
       "      <td>-0.303180</td>\n",
       "      <td>0.799942</td>\n",
       "      <td>-1.616311</td>\n",
       "    </tr>\n",
       "    <tr>\n",
       "      <th>2016-07-24</th>\n",
       "      <td>-1.053682</td>\n",
       "      <td>-1.067803</td>\n",
       "      <td>0.950308</td>\n",
       "      <td>1.710613</td>\n",
       "    </tr>\n",
       "    <tr>\n",
       "      <th>2016-07-31</th>\n",
       "      <td>-0.104449</td>\n",
       "      <td>-0.168822</td>\n",
       "      <td>0.070052</td>\n",
       "      <td>1.161878</td>\n",
       "    </tr>\n",
       "    <tr>\n",
       "      <th>2016-08-07</th>\n",
       "      <td>-0.927353</td>\n",
       "      <td>0.238369</td>\n",
       "      <td>0.975198</td>\n",
       "      <td>0.501094</td>\n",
       "    </tr>\n",
       "    <tr>\n",
       "      <th>2016-08-14</th>\n",
       "      <td>0.189582</td>\n",
       "      <td>1.001046</td>\n",
       "      <td>-2.703232</td>\n",
       "      <td>0.677875</td>\n",
       "    </tr>\n",
       "    <tr>\n",
       "      <th>2016-08-21</th>\n",
       "      <td>-0.654076</td>\n",
       "      <td>-1.830633</td>\n",
       "      <td>0.511203</td>\n",
       "      <td>1.373659</td>\n",
       "    </tr>\n",
       "    <tr>\n",
       "      <th>2016-08-28</th>\n",
       "      <td>-0.137449</td>\n",
       "      <td>0.952875</td>\n",
       "      <td>1.612278</td>\n",
       "      <td>1.314914</td>\n",
       "    </tr>\n",
       "    <tr>\n",
       "      <th>2016-09-04</th>\n",
       "      <td>1.639965</td>\n",
       "      <td>0.742127</td>\n",
       "      <td>0.075434</td>\n",
       "      <td>-1.601966</td>\n",
       "    </tr>\n",
       "    <tr>\n",
       "      <th>2016-09-11</th>\n",
       "      <td>-0.246062</td>\n",
       "      <td>-0.843247</td>\n",
       "      <td>2.170943</td>\n",
       "      <td>-0.175886</td>\n",
       "    </tr>\n",
       "    <tr>\n",
       "      <th>2016-09-18</th>\n",
       "      <td>0.123205</td>\n",
       "      <td>0.551485</td>\n",
       "      <td>0.043602</td>\n",
       "      <td>1.695051</td>\n",
       "    </tr>\n",
       "    <tr>\n",
       "      <th>2016-09-25</th>\n",
       "      <td>-0.622649</td>\n",
       "      <td>0.194607</td>\n",
       "      <td>-0.742471</td>\n",
       "      <td>-1.320023</td>\n",
       "    </tr>\n",
       "    <tr>\n",
       "      <th>2016-10-02</th>\n",
       "      <td>-0.611769</td>\n",
       "      <td>-0.037037</td>\n",
       "      <td>-0.429302</td>\n",
       "      <td>-0.692421</td>\n",
       "    </tr>\n",
       "    <tr>\n",
       "      <th>2016-10-09</th>\n",
       "      <td>-1.406317</td>\n",
       "      <td>-0.083106</td>\n",
       "      <td>-1.504720</td>\n",
       "      <td>0.760056</td>\n",
       "    </tr>\n",
       "    <tr>\n",
       "      <th>2016-10-16</th>\n",
       "      <td>0.082440</td>\n",
       "      <td>-1.457551</td>\n",
       "      <td>-0.309209</td>\n",
       "      <td>-0.752156</td>\n",
       "    </tr>\n",
       "    <tr>\n",
       "      <th>2016-10-23</th>\n",
       "      <td>0.319175</td>\n",
       "      <td>1.340450</td>\n",
       "      <td>-1.875172</td>\n",
       "      <td>0.115026</td>\n",
       "    </tr>\n",
       "    <tr>\n",
       "      <th>2016-10-30</th>\n",
       "      <td>-0.160133</td>\n",
       "      <td>0.671340</td>\n",
       "      <td>0.213197</td>\n",
       "      <td>-0.751969</td>\n",
       "    </tr>\n",
       "    <tr>\n",
       "      <th>2016-11-06</th>\n",
       "      <td>-0.319054</td>\n",
       "      <td>-0.796026</td>\n",
       "      <td>1.076007</td>\n",
       "      <td>0.021312</td>\n",
       "    </tr>\n",
       "    <tr>\n",
       "      <th>2016-11-13</th>\n",
       "      <td>1.901191</td>\n",
       "      <td>-0.060661</td>\n",
       "      <td>-0.708407</td>\n",
       "      <td>-1.513714</td>\n",
       "    </tr>\n",
       "    <tr>\n",
       "      <th>2016-11-20</th>\n",
       "      <td>-1.803140</td>\n",
       "      <td>-1.584136</td>\n",
       "      <td>0.267127</td>\n",
       "      <td>0.508725</td>\n",
       "    </tr>\n",
       "    <tr>\n",
       "      <th>2016-11-27</th>\n",
       "      <td>-1.581191</td>\n",
       "      <td>0.895038</td>\n",
       "      <td>-0.483061</td>\n",
       "      <td>0.146793</td>\n",
       "    </tr>\n",
       "    <tr>\n",
       "      <th>2016-12-04</th>\n",
       "      <td>1.612221</td>\n",
       "      <td>0.896839</td>\n",
       "      <td>-0.268531</td>\n",
       "      <td>-0.891192</td>\n",
       "    </tr>\n",
       "    <tr>\n",
       "      <th>2016-12-11</th>\n",
       "      <td>-2.151815</td>\n",
       "      <td>-0.719153</td>\n",
       "      <td>-0.211130</td>\n",
       "      <td>-0.987180</td>\n",
       "    </tr>\n",
       "    <tr>\n",
       "      <th>2016-12-18</th>\n",
       "      <td>-0.131257</td>\n",
       "      <td>0.076852</td>\n",
       "      <td>-0.224856</td>\n",
       "      <td>-0.650003</td>\n",
       "    </tr>\n",
       "    <tr>\n",
       "      <th>2016-12-25</th>\n",
       "      <td>0.168655</td>\n",
       "      <td>0.441941</td>\n",
       "      <td>-1.090399</td>\n",
       "      <td>1.410932</td>\n",
       "    </tr>\n",
       "    <tr>\n",
       "      <th>2017-01-01</th>\n",
       "      <td>-0.098588</td>\n",
       "      <td>0.018850</td>\n",
       "      <td>0.708214</td>\n",
       "      <td>0.233216</td>\n",
       "    </tr>\n",
       "    <tr>\n",
       "      <th>2017-01-08</th>\n",
       "      <td>0.953137</td>\n",
       "      <td>0.287124</td>\n",
       "      <td>-0.612437</td>\n",
       "      <td>0.361504</td>\n",
       "    </tr>\n",
       "  </tbody>\n",
       "</table>\n",
       "</div>"
      ],
      "text/plain": [
       "             GrossIn  GrossOut     NetIn    NetOut\n",
       "2015-11-29 -0.182896  1.374876 -0.645964 -0.799192\n",
       "2015-12-06 -0.482744 -0.953329  0.122670  1.624678\n",
       "2015-12-13  0.323079 -0.252354 -0.291811 -1.563191\n",
       "2015-12-20  0.883110 -0.077837 -0.180480  3.193108\n",
       "2015-12-27  0.298753 -0.751791 -0.426358  1.148446\n",
       "2016-01-03  0.113270 -1.438278  0.919229 -0.668144\n",
       "2016-01-10  1.873298  1.080048 -0.447322  1.281016\n",
       "2016-01-17  0.067856  0.852774  0.484733 -0.846357\n",
       "2016-01-24 -0.643550  1.029961 -0.334775 -0.403648\n",
       "2016-01-31 -0.955123  0.423599  2.062525 -1.067533\n",
       "2016-02-07  0.024219  1.412221 -0.079641  0.452372\n",
       "2016-02-14 -1.062394  0.428307 -0.187144  0.985730\n",
       "2016-02-21  1.187386  2.589564  0.579633  0.325796\n",
       "2016-02-28  0.194384 -0.353166  0.338484 -0.295401\n",
       "2016-03-06  0.168461  1.317598 -1.006543  1.139879\n",
       "2016-03-13  1.317115 -0.118069 -2.121855 -0.607822\n",
       "2016-03-20  1.296995 -0.022868 -0.999302 -0.504775\n",
       "2016-03-27  0.840620  0.546734 -0.238932 -0.366824\n",
       "2016-04-03 -0.391758 -0.922410  1.615376 -0.322320\n",
       "2016-04-10  1.217159  1.521316  0.998311 -0.431620\n",
       "2016-04-17  0.403730 -0.024196 -0.903702  0.324359\n",
       "2016-04-24 -1.179040  1.187679 -0.464617  0.201160\n",
       "2016-05-01  0.283288 -0.258905  0.586694 -0.474904\n",
       "2016-05-08  0.871297 -1.345980  0.126380  1.938929\n",
       "2016-05-15 -1.000331 -0.677745  0.513908  0.179582\n",
       "2016-05-22  0.350630  0.489187  0.634721  1.109700\n",
       "2016-05-29  0.409819 -0.241258  0.672574  1.899882\n",
       "2016-06-05 -0.132634 -0.974529  1.107081 -0.120381\n",
       "2016-06-12 -2.172670  0.847422 -0.535328 -0.090533\n",
       "2016-06-19  0.331980  0.190500  0.709452 -0.435486\n",
       "2016-06-26  0.513106 -0.259547  0.738810  0.615367\n",
       "2016-07-03 -0.935439  1.085982 -0.535963  0.808058\n",
       "2016-07-10  0.367287  1.838184 -0.223466 -0.349317\n",
       "2016-07-17 -0.019420 -0.303180  0.799942 -1.616311\n",
       "2016-07-24 -1.053682 -1.067803  0.950308  1.710613\n",
       "2016-07-31 -0.104449 -0.168822  0.070052  1.161878\n",
       "2016-08-07 -0.927353  0.238369  0.975198  0.501094\n",
       "2016-08-14  0.189582  1.001046 -2.703232  0.677875\n",
       "2016-08-21 -0.654076 -1.830633  0.511203  1.373659\n",
       "2016-08-28 -0.137449  0.952875  1.612278  1.314914\n",
       "2016-09-04  1.639965  0.742127  0.075434 -1.601966\n",
       "2016-09-11 -0.246062 -0.843247  2.170943 -0.175886\n",
       "2016-09-18  0.123205  0.551485  0.043602  1.695051\n",
       "2016-09-25 -0.622649  0.194607 -0.742471 -1.320023\n",
       "2016-10-02 -0.611769 -0.037037 -0.429302 -0.692421\n",
       "2016-10-09 -1.406317 -0.083106 -1.504720  0.760056\n",
       "2016-10-16  0.082440 -1.457551 -0.309209 -0.752156\n",
       "2016-10-23  0.319175  1.340450 -1.875172  0.115026\n",
       "2016-10-30 -0.160133  0.671340  0.213197 -0.751969\n",
       "2016-11-06 -0.319054 -0.796026  1.076007  0.021312\n",
       "2016-11-13  1.901191 -0.060661 -0.708407 -1.513714\n",
       "2016-11-20 -1.803140 -1.584136  0.267127  0.508725\n",
       "2016-11-27 -1.581191  0.895038 -0.483061  0.146793\n",
       "2016-12-04  1.612221  0.896839 -0.268531 -0.891192\n",
       "2016-12-11 -2.151815 -0.719153 -0.211130 -0.987180\n",
       "2016-12-18 -0.131257  0.076852 -0.224856 -0.650003\n",
       "2016-12-25  0.168655  0.441941 -1.090399  1.410932\n",
       "2017-01-01 -0.098588  0.018850  0.708214  0.233216\n",
       "2017-01-08  0.953137  0.287124 -0.612437  0.361504"
      ]
     },
     "execution_count": 270,
     "metadata": {},
     "output_type": "execute_result"
    }
   ],
   "source": [
    "df2 = pd.DataFrame(np.random.randn(59,4))\n",
    "cols = ['GrossIn', 'GrossOut', 'NetIn', 'NetOut']\n",
    "df2.columns = cols\n",
    "dates = pd.date_range(start='2015-11-29', freq='W', periods=59)\n",
    "df2.index = dates\n",
    "df2"
   ]
  },
  {
   "cell_type": "markdown",
   "metadata": {},
   "source": [
    "###### 30) Print all the data from 2016-06-19 to 2016-10-20 in df2 above."
   ]
  },
  {
   "cell_type": "code",
   "execution_count": 271,
   "metadata": {
    "scrolled": true
   },
   "outputs": [
    {
     "name": "stdout",
     "output_type": "stream",
     "text": [
      "             GrossIn  GrossOut     NetIn    NetOut\n",
      "2016-06-19  0.331980  0.190500  0.709452 -0.435486\n",
      "2016-06-26  0.513106 -0.259547  0.738810  0.615367\n",
      "2016-07-03 -0.935439  1.085982 -0.535963  0.808058\n",
      "2016-07-10  0.367287  1.838184 -0.223466 -0.349317\n",
      "2016-07-17 -0.019420 -0.303180  0.799942 -1.616311\n",
      "2016-07-24 -1.053682 -1.067803  0.950308  1.710613\n",
      "2016-07-31 -0.104449 -0.168822  0.070052  1.161878\n",
      "2016-08-07 -0.927353  0.238369  0.975198  0.501094\n",
      "2016-08-14  0.189582  1.001046 -2.703232  0.677875\n",
      "2016-08-21 -0.654076 -1.830633  0.511203  1.373659\n",
      "2016-08-28 -0.137449  0.952875  1.612278  1.314914\n",
      "2016-09-04  1.639965  0.742127  0.075434 -1.601966\n",
      "2016-09-11 -0.246062 -0.843247  2.170943 -0.175886\n",
      "2016-09-18  0.123205  0.551485  0.043602  1.695051\n",
      "2016-09-25 -0.622649  0.194607 -0.742471 -1.320023\n",
      "2016-10-02 -0.611769 -0.037037 -0.429302 -0.692421\n",
      "2016-10-09 -1.406317 -0.083106 -1.504720  0.760056\n",
      "2016-10-16  0.082440 -1.457551 -0.309209 -0.752156\n"
     ]
    }
   ],
   "source": [
    "mask = (dates> '2016-06-12') & (dates <= '2016-10-20')\n",
    "print(df2.loc[mask])"
   ]
  },
  {
   "cell_type": "markdown",
   "metadata": {},
   "source": [
    "###### 31) What was the GrossIn and NetIn for 2016-09-18? Print the results. "
   ]
  },
  {
   "cell_type": "code",
   "execution_count": 272,
   "metadata": {},
   "outputs": [
    {
     "name": "stdout",
     "output_type": "stream",
     "text": [
      "GrossIn    0.123205\n",
      "NetIn      0.043602\n",
      "Name: 2016-09-18 00:00:00, dtype: float64\n"
     ]
    }
   ],
   "source": [
    "print(df2.loc['2016-09-18',['GrossIn','NetIn']])"
   ]
  },
  {
   "cell_type": "markdown",
   "metadata": {},
   "source": [
    "###### 32) Sum all the GrossOut and NetOut for the month of March 2016 in df2. Print the results. "
   ]
  },
  {
   "cell_type": "code",
   "execution_count": 273,
   "metadata": {},
   "outputs": [
    {
     "name": "stdout",
     "output_type": "stream",
     "text": [
      "            GrossOut    NetOut\n",
      "2016-03-06  1.317598  1.139879\n",
      "2016-03-13 -0.118069 -0.607822\n",
      "2016-03-20 -0.022868 -0.504775\n",
      "2016-03-27  0.546734 -0.366824\n"
     ]
    }
   ],
   "source": [
    "df3=df2.loc['2016-03-06':'2016-03-27',['GrossOut','NetOut']]\n",
    "print(df3)"
   ]
  },
  {
   "cell_type": "code",
   "execution_count": 274,
   "metadata": {},
   "outputs": [
    {
     "name": "stdout",
     "output_type": "stream",
     "text": [
      "1.723394514519378\n"
     ]
    }
   ],
   "source": [
    "Total = df3['GrossOut'].sum()\n",
    "print (Total)"
   ]
  },
  {
   "cell_type": "code",
   "execution_count": 275,
   "metadata": {
    "collapsed": true
   },
   "outputs": [],
   "source": [
    "df3.at['Total', 'GrossOut']=df3['GrossOut'].sum()"
   ]
  },
  {
   "cell_type": "code",
   "execution_count": 276,
   "metadata": {},
   "outputs": [
    {
     "name": "stdout",
     "output_type": "stream",
     "text": [
      "                     GrossOut    NetOut\n",
      "2016-03-06 00:00:00  1.317598  1.139879\n",
      "2016-03-13 00:00:00 -0.118069 -0.607822\n",
      "2016-03-20 00:00:00 -0.022868 -0.504775\n",
      "2016-03-27 00:00:00  0.546734 -0.366824\n",
      "Total                1.723395       NaN\n"
     ]
    }
   ],
   "source": [
    "print(df3)"
   ]
  },
  {
   "cell_type": "code",
   "execution_count": 277,
   "metadata": {},
   "outputs": [
    {
     "name": "stdout",
     "output_type": "stream",
     "text": [
      "                     GrossOut    NetOut\n",
      "2016-03-06 00:00:00  1.317598  1.139879\n",
      "2016-03-13 00:00:00 -0.118069 -0.607822\n",
      "2016-03-20 00:00:00 -0.022868 -0.504775\n",
      "2016-03-27 00:00:00  0.546734 -0.366824\n",
      "Total                1.723395 -0.339543\n"
     ]
    }
   ],
   "source": [
    "df3.at['Total', 'NetOut']=df3['NetOut'].sum()\n",
    "print(df3)"
   ]
  },
  {
   "cell_type": "markdown",
   "metadata": {},
   "source": [
    "###### 33) Find all the days GrossOut was greater than GrossIn in df2. Print the results."
   ]
  },
  {
   "cell_type": "code",
   "execution_count": 278,
   "metadata": {},
   "outputs": [],
   "source": [
    "df2['que'] = np.where((df2['GrossOut'] > df2['GrossIn']), df2['GrossOut'], np.nan)"
   ]
  },
  {
   "cell_type": "code",
   "execution_count": 279,
   "metadata": {
    "scrolled": false
   },
   "outputs": [
    {
     "name": "stdout",
     "output_type": "stream",
     "text": [
      "             GrossIn  GrossOut     NetIn    NetOut       que\n",
      "2015-11-29 -0.182896  1.374876 -0.645964 -0.799192  1.374876\n",
      "2015-12-06 -0.482744 -0.953329  0.122670  1.624678       NaN\n",
      "2015-12-13  0.323079 -0.252354 -0.291811 -1.563191       NaN\n",
      "2015-12-20  0.883110 -0.077837 -0.180480  3.193108       NaN\n",
      "2015-12-27  0.298753 -0.751791 -0.426358  1.148446       NaN\n",
      "2016-01-03  0.113270 -1.438278  0.919229 -0.668144       NaN\n",
      "2016-01-10  1.873298  1.080048 -0.447322  1.281016       NaN\n",
      "2016-01-17  0.067856  0.852774  0.484733 -0.846357  0.852774\n",
      "2016-01-24 -0.643550  1.029961 -0.334775 -0.403648  1.029961\n",
      "2016-01-31 -0.955123  0.423599  2.062525 -1.067533  0.423599\n",
      "2016-02-07  0.024219  1.412221 -0.079641  0.452372  1.412221\n",
      "2016-02-14 -1.062394  0.428307 -0.187144  0.985730  0.428307\n",
      "2016-02-21  1.187386  2.589564  0.579633  0.325796  2.589564\n",
      "2016-02-28  0.194384 -0.353166  0.338484 -0.295401       NaN\n",
      "2016-03-06  0.168461  1.317598 -1.006543  1.139879  1.317598\n",
      "2016-03-13  1.317115 -0.118069 -2.121855 -0.607822       NaN\n",
      "2016-03-20  1.296995 -0.022868 -0.999302 -0.504775       NaN\n",
      "2016-03-27  0.840620  0.546734 -0.238932 -0.366824       NaN\n",
      "2016-04-03 -0.391758 -0.922410  1.615376 -0.322320       NaN\n",
      "2016-04-10  1.217159  1.521316  0.998311 -0.431620  1.521316\n",
      "2016-04-17  0.403730 -0.024196 -0.903702  0.324359       NaN\n",
      "2016-04-24 -1.179040  1.187679 -0.464617  0.201160  1.187679\n",
      "2016-05-01  0.283288 -0.258905  0.586694 -0.474904       NaN\n",
      "2016-05-08  0.871297 -1.345980  0.126380  1.938929       NaN\n",
      "2016-05-15 -1.000331 -0.677745  0.513908  0.179582 -0.677745\n",
      "2016-05-22  0.350630  0.489187  0.634721  1.109700  0.489187\n",
      "2016-05-29  0.409819 -0.241258  0.672574  1.899882       NaN\n",
      "2016-06-05 -0.132634 -0.974529  1.107081 -0.120381       NaN\n",
      "2016-06-12 -2.172670  0.847422 -0.535328 -0.090533  0.847422\n",
      "2016-06-19  0.331980  0.190500  0.709452 -0.435486       NaN\n",
      "2016-06-26  0.513106 -0.259547  0.738810  0.615367       NaN\n",
      "2016-07-03 -0.935439  1.085982 -0.535963  0.808058  1.085982\n",
      "2016-07-10  0.367287  1.838184 -0.223466 -0.349317  1.838184\n",
      "2016-07-17 -0.019420 -0.303180  0.799942 -1.616311       NaN\n",
      "2016-07-24 -1.053682 -1.067803  0.950308  1.710613       NaN\n",
      "2016-07-31 -0.104449 -0.168822  0.070052  1.161878       NaN\n",
      "2016-08-07 -0.927353  0.238369  0.975198  0.501094  0.238369\n",
      "2016-08-14  0.189582  1.001046 -2.703232  0.677875  1.001046\n",
      "2016-08-21 -0.654076 -1.830633  0.511203  1.373659       NaN\n",
      "2016-08-28 -0.137449  0.952875  1.612278  1.314914  0.952875\n",
      "2016-09-04  1.639965  0.742127  0.075434 -1.601966       NaN\n",
      "2016-09-11 -0.246062 -0.843247  2.170943 -0.175886       NaN\n",
      "2016-09-18  0.123205  0.551485  0.043602  1.695051  0.551485\n",
      "2016-09-25 -0.622649  0.194607 -0.742471 -1.320023  0.194607\n",
      "2016-10-02 -0.611769 -0.037037 -0.429302 -0.692421 -0.037037\n",
      "2016-10-09 -1.406317 -0.083106 -1.504720  0.760056 -0.083106\n",
      "2016-10-16  0.082440 -1.457551 -0.309209 -0.752156       NaN\n",
      "2016-10-23  0.319175  1.340450 -1.875172  0.115026  1.340450\n",
      "2016-10-30 -0.160133  0.671340  0.213197 -0.751969  0.671340\n",
      "2016-11-06 -0.319054 -0.796026  1.076007  0.021312       NaN\n",
      "2016-11-13  1.901191 -0.060661 -0.708407 -1.513714       NaN\n",
      "2016-11-20 -1.803140 -1.584136  0.267127  0.508725 -1.584136\n",
      "2016-11-27 -1.581191  0.895038 -0.483061  0.146793  0.895038\n",
      "2016-12-04  1.612221  0.896839 -0.268531 -0.891192       NaN\n",
      "2016-12-11 -2.151815 -0.719153 -0.211130 -0.987180 -0.719153\n",
      "2016-12-18 -0.131257  0.076852 -0.224856 -0.650003  0.076852\n",
      "2016-12-25  0.168655  0.441941 -1.090399  1.410932  0.441941\n",
      "2017-01-01 -0.098588  0.018850  0.708214  0.233216  0.018850\n",
      "2017-01-08  0.953137  0.287124 -0.612437  0.361504       NaN\n"
     ]
    }
   ],
   "source": [
    "print(df2)"
   ]
  },
  {
   "cell_type": "markdown",
   "metadata": {
    "collapsed": true
   },
   "source": [
    "###### 34) What percentage was the total NetOut of the total NetIn in the year 2016 from df2 above? "
   ]
  },
  {
   "cell_type": "code",
   "execution_count": 280,
   "metadata": {},
   "outputs": [
    {
     "name": "stdout",
     "output_type": "stream",
     "text": [
      "              NetOut     NetIn\n",
      "2016-01-03 -0.668144  0.919229\n",
      "2016-01-10  1.281016 -0.447322\n",
      "2016-01-17 -0.846357  0.484733\n",
      "2016-01-24 -0.403648 -0.334775\n",
      "2016-01-31 -1.067533  2.062525\n",
      "2016-02-07  0.452372 -0.079641\n",
      "2016-02-14  0.985730 -0.187144\n",
      "2016-02-21  0.325796  0.579633\n",
      "2016-02-28 -0.295401  0.338484\n",
      "2016-03-06  1.139879 -1.006543\n",
      "2016-03-13 -0.607822 -2.121855\n",
      "2016-03-20 -0.504775 -0.999302\n",
      "2016-03-27 -0.366824 -0.238932\n",
      "2016-04-03 -0.322320  1.615376\n",
      "2016-04-10 -0.431620  0.998311\n",
      "2016-04-17  0.324359 -0.903702\n",
      "2016-04-24  0.201160 -0.464617\n",
      "2016-05-01 -0.474904  0.586694\n",
      "2016-05-08  1.938929  0.126380\n",
      "2016-05-15  0.179582  0.513908\n",
      "2016-05-22  1.109700  0.634721\n",
      "2016-05-29  1.899882  0.672574\n",
      "2016-06-05 -0.120381  1.107081\n",
      "2016-06-12 -0.090533 -0.535328\n",
      "2016-06-19 -0.435486  0.709452\n",
      "2016-06-26  0.615367  0.738810\n",
      "2016-07-03  0.808058 -0.535963\n",
      "2016-07-10 -0.349317 -0.223466\n",
      "2016-07-17 -1.616311  0.799942\n",
      "2016-07-24  1.710613  0.950308\n",
      "2016-07-31  1.161878  0.070052\n",
      "2016-08-07  0.501094  0.975198\n",
      "2016-08-14  0.677875 -2.703232\n",
      "2016-08-21  1.373659  0.511203\n",
      "2016-08-28  1.314914  1.612278\n",
      "2016-09-04 -1.601966  0.075434\n",
      "2016-09-11 -0.175886  2.170943\n",
      "2016-09-18  1.695051  0.043602\n",
      "2016-09-25 -1.320023 -0.742471\n",
      "2016-10-02 -0.692421 -0.429302\n",
      "2016-10-09  0.760056 -1.504720\n",
      "2016-10-16 -0.752156 -0.309209\n",
      "2016-10-23  0.115026 -1.875172\n",
      "2016-10-30 -0.751969  0.213197\n",
      "2016-11-06  0.021312  1.076007\n",
      "2016-11-13 -1.513714 -0.708407\n",
      "2016-11-20  0.508725  0.267127\n",
      "2016-11-27  0.146793 -0.483061\n",
      "2016-12-04 -0.891192 -0.268531\n",
      "2016-12-11 -0.987180 -0.211130\n",
      "2016-12-18 -0.650003 -0.224856\n",
      "2016-12-25  1.410932 -1.090399\n"
     ]
    }
   ],
   "source": [
    "df5=df2.loc['2016-01-01':'2016-12-31',['NetOut','NetIn']]\n",
    "print(df5)"
   ]
  },
  {
   "cell_type": "code",
   "execution_count": 281,
   "metadata": {},
   "outputs": [
    {
     "name": "stdout",
     "output_type": "stream",
     "text": [
      "                       NetOut     NetIn\n",
      "2016-01-03 00:00:00 -0.668144  0.919229\n",
      "2016-01-10 00:00:00  1.281016 -0.447322\n",
      "2016-01-17 00:00:00 -0.846357  0.484733\n",
      "2016-01-24 00:00:00 -0.403648 -0.334775\n",
      "2016-01-31 00:00:00 -1.067533  2.062525\n",
      "2016-02-07 00:00:00  0.452372 -0.079641\n",
      "2016-02-14 00:00:00  0.985730 -0.187144\n",
      "2016-02-21 00:00:00  0.325796  0.579633\n",
      "2016-02-28 00:00:00 -0.295401  0.338484\n",
      "2016-03-06 00:00:00  1.139879 -1.006543\n",
      "2016-03-13 00:00:00 -0.607822 -2.121855\n",
      "2016-03-20 00:00:00 -0.504775 -0.999302\n",
      "2016-03-27 00:00:00 -0.366824 -0.238932\n",
      "2016-04-03 00:00:00 -0.322320  1.615376\n",
      "2016-04-10 00:00:00 -0.431620  0.998311\n",
      "2016-04-17 00:00:00  0.324359 -0.903702\n",
      "2016-04-24 00:00:00  0.201160 -0.464617\n",
      "2016-05-01 00:00:00 -0.474904  0.586694\n",
      "2016-05-08 00:00:00  1.938929  0.126380\n",
      "2016-05-15 00:00:00  0.179582  0.513908\n",
      "2016-05-22 00:00:00  1.109700  0.634721\n",
      "2016-05-29 00:00:00  1.899882  0.672574\n",
      "2016-06-05 00:00:00 -0.120381  1.107081\n",
      "2016-06-12 00:00:00 -0.090533 -0.535328\n",
      "2016-06-19 00:00:00 -0.435486  0.709452\n",
      "2016-06-26 00:00:00  0.615367  0.738810\n",
      "2016-07-03 00:00:00  0.808058 -0.535963\n",
      "2016-07-10 00:00:00 -0.349317 -0.223466\n",
      "2016-07-17 00:00:00 -1.616311  0.799942\n",
      "2016-07-24 00:00:00  1.710613  0.950308\n",
      "2016-07-31 00:00:00  1.161878  0.070052\n",
      "2016-08-07 00:00:00  0.501094  0.975198\n",
      "2016-08-14 00:00:00  0.677875 -2.703232\n",
      "2016-08-21 00:00:00  1.373659  0.511203\n",
      "2016-08-28 00:00:00  1.314914  1.612278\n",
      "2016-09-04 00:00:00 -1.601966  0.075434\n",
      "2016-09-11 00:00:00 -0.175886  2.170943\n",
      "2016-09-18 00:00:00  1.695051  0.043602\n",
      "2016-09-25 00:00:00 -1.320023 -0.742471\n",
      "2016-10-02 00:00:00 -0.692421 -0.429302\n",
      "2016-10-09 00:00:00  0.760056 -1.504720\n",
      "2016-10-16 00:00:00 -0.752156 -0.309209\n",
      "2016-10-23 00:00:00  0.115026 -1.875172\n",
      "2016-10-30 00:00:00 -0.751969  0.213197\n",
      "2016-11-06 00:00:00  0.021312  1.076007\n",
      "2016-11-13 00:00:00 -1.513714 -0.708407\n",
      "2016-11-20 00:00:00  0.508725  0.267127\n",
      "2016-11-27 00:00:00  0.146793 -0.483061\n",
      "2016-12-04 00:00:00 -0.891192 -0.268531\n",
      "2016-12-11 00:00:00 -0.987180 -0.211130\n",
      "2016-12-18 00:00:00 -0.650003 -0.224856\n",
      "2016-12-25 00:00:00  1.410932 -1.090399\n",
      "Total                4.721872       NaN\n"
     ]
    }
   ],
   "source": [
    "df5.at['Total', 'NetOut']=df5['NetOut'].sum()\n",
    "print(df5)"
   ]
  },
  {
   "cell_type": "code",
   "execution_count": 282,
   "metadata": {},
   "outputs": [
    {
     "name": "stdout",
     "output_type": "stream",
     "text": [
      "                       NetOut     NetIn\n",
      "2016-01-03 00:00:00 -0.668144  0.919229\n",
      "2016-01-10 00:00:00  1.281016 -0.447322\n",
      "2016-01-17 00:00:00 -0.846357  0.484733\n",
      "2016-01-24 00:00:00 -0.403648 -0.334775\n",
      "2016-01-31 00:00:00 -1.067533  2.062525\n",
      "2016-02-07 00:00:00  0.452372 -0.079641\n",
      "2016-02-14 00:00:00  0.985730 -0.187144\n",
      "2016-02-21 00:00:00  0.325796  0.579633\n",
      "2016-02-28 00:00:00 -0.295401  0.338484\n",
      "2016-03-06 00:00:00  1.139879 -1.006543\n",
      "2016-03-13 00:00:00 -0.607822 -2.121855\n",
      "2016-03-20 00:00:00 -0.504775 -0.999302\n",
      "2016-03-27 00:00:00 -0.366824 -0.238932\n",
      "2016-04-03 00:00:00 -0.322320  1.615376\n",
      "2016-04-10 00:00:00 -0.431620  0.998311\n",
      "2016-04-17 00:00:00  0.324359 -0.903702\n",
      "2016-04-24 00:00:00  0.201160 -0.464617\n",
      "2016-05-01 00:00:00 -0.474904  0.586694\n",
      "2016-05-08 00:00:00  1.938929  0.126380\n",
      "2016-05-15 00:00:00  0.179582  0.513908\n",
      "2016-05-22 00:00:00  1.109700  0.634721\n",
      "2016-05-29 00:00:00  1.899882  0.672574\n",
      "2016-06-05 00:00:00 -0.120381  1.107081\n",
      "2016-06-12 00:00:00 -0.090533 -0.535328\n",
      "2016-06-19 00:00:00 -0.435486  0.709452\n",
      "2016-06-26 00:00:00  0.615367  0.738810\n",
      "2016-07-03 00:00:00  0.808058 -0.535963\n",
      "2016-07-10 00:00:00 -0.349317 -0.223466\n",
      "2016-07-17 00:00:00 -1.616311  0.799942\n",
      "2016-07-24 00:00:00  1.710613  0.950308\n",
      "2016-07-31 00:00:00  1.161878  0.070052\n",
      "2016-08-07 00:00:00  0.501094  0.975198\n",
      "2016-08-14 00:00:00  0.677875 -2.703232\n",
      "2016-08-21 00:00:00  1.373659  0.511203\n",
      "2016-08-28 00:00:00  1.314914  1.612278\n",
      "2016-09-04 00:00:00 -1.601966  0.075434\n",
      "2016-09-11 00:00:00 -0.175886  2.170943\n",
      "2016-09-18 00:00:00  1.695051  0.043602\n",
      "2016-09-25 00:00:00 -1.320023 -0.742471\n",
      "2016-10-02 00:00:00 -0.692421 -0.429302\n",
      "2016-10-09 00:00:00  0.760056 -1.504720\n",
      "2016-10-16 00:00:00 -0.752156 -0.309209\n",
      "2016-10-23 00:00:00  0.115026 -1.875172\n",
      "2016-10-30 00:00:00 -0.751969  0.213197\n",
      "2016-11-06 00:00:00  0.021312  1.076007\n",
      "2016-11-13 00:00:00 -1.513714 -0.708407\n",
      "2016-11-20 00:00:00  0.508725  0.267127\n",
      "2016-11-27 00:00:00  0.146793 -0.483061\n",
      "2016-12-04 00:00:00 -0.891192 -0.268531\n",
      "2016-12-11 00:00:00 -0.987180 -0.211130\n",
      "2016-12-18 00:00:00 -0.650003 -0.224856\n",
      "2016-12-25 00:00:00  1.410932 -1.090399\n",
      "Total                4.721872  2.224117\n"
     ]
    }
   ],
   "source": [
    "df5.at['Total', 'NetIn']=df5['NetIn'].sum()\n",
    "print(df5)"
   ]
  },
  {
   "cell_type": "code",
   "execution_count": 283,
   "metadata": {},
   "outputs": [],
   "source": [
    "output=df5['NetIn'].sum()/df5['NetOut'].sum()"
   ]
  },
  {
   "cell_type": "code",
   "execution_count": 284,
   "metadata": {},
   "outputs": [
    {
     "name": "stdout",
     "output_type": "stream",
     "text": [
      "47%\n"
     ]
    }
   ],
   "source": [
    "print (\"{0:.0f}%\".format(output * 100))"
   ]
  },
  {
   "cell_type": "markdown",
   "metadata": {},
   "source": [
    "###### 35) Plot values for 2016 on a line graph for the GrossOut and GrossIn in df2:"
   ]
  },
  {
   "cell_type": "code",
   "execution_count": 285,
   "metadata": {},
   "outputs": [],
   "source": [
    "\n",
    "df6=df2.loc['2016-01-01':'2016-12-30',['GrossOut','GrossIn']]\n"
   ]
  },
  {
   "cell_type": "code",
   "execution_count": 286,
   "metadata": {},
   "outputs": [
    {
     "name": "stdout",
     "output_type": "stream",
     "text": [
      "            GrossOut   GrossIn\n",
      "2016-01-03 -1.438278  0.113270\n",
      "2016-01-10  1.080048  1.873298\n",
      "2016-01-17  0.852774  0.067856\n",
      "2016-01-24  1.029961 -0.643550\n",
      "2016-01-31  0.423599 -0.955123\n",
      "2016-02-07  1.412221  0.024219\n",
      "2016-02-14  0.428307 -1.062394\n",
      "2016-02-21  2.589564  1.187386\n",
      "2016-02-28 -0.353166  0.194384\n",
      "2016-03-06  1.317598  0.168461\n",
      "2016-03-13 -0.118069  1.317115\n",
      "2016-03-20 -0.022868  1.296995\n",
      "2016-03-27  0.546734  0.840620\n",
      "2016-04-03 -0.922410 -0.391758\n",
      "2016-04-10  1.521316  1.217159\n",
      "2016-04-17 -0.024196  0.403730\n",
      "2016-04-24  1.187679 -1.179040\n",
      "2016-05-01 -0.258905  0.283288\n",
      "2016-05-08 -1.345980  0.871297\n",
      "2016-05-15 -0.677745 -1.000331\n",
      "2016-05-22  0.489187  0.350630\n",
      "2016-05-29 -0.241258  0.409819\n",
      "2016-06-05 -0.974529 -0.132634\n",
      "2016-06-12  0.847422 -2.172670\n",
      "2016-06-19  0.190500  0.331980\n",
      "2016-06-26 -0.259547  0.513106\n",
      "2016-07-03  1.085982 -0.935439\n",
      "2016-07-10  1.838184  0.367287\n",
      "2016-07-17 -0.303180 -0.019420\n",
      "2016-07-24 -1.067803 -1.053682\n",
      "2016-07-31 -0.168822 -0.104449\n",
      "2016-08-07  0.238369 -0.927353\n",
      "2016-08-14  1.001046  0.189582\n",
      "2016-08-21 -1.830633 -0.654076\n",
      "2016-08-28  0.952875 -0.137449\n",
      "2016-09-04  0.742127  1.639965\n",
      "2016-09-11 -0.843247 -0.246062\n",
      "2016-09-18  0.551485  0.123205\n",
      "2016-09-25  0.194607 -0.622649\n",
      "2016-10-02 -0.037037 -0.611769\n",
      "2016-10-09 -0.083106 -1.406317\n",
      "2016-10-16 -1.457551  0.082440\n",
      "2016-10-23  1.340450  0.319175\n",
      "2016-10-30  0.671340 -0.160133\n",
      "2016-11-06 -0.796026 -0.319054\n",
      "2016-11-13 -0.060661  1.901191\n",
      "2016-11-20 -1.584136 -1.803140\n",
      "2016-11-27  0.895038 -1.581191\n",
      "2016-12-04  0.896839  1.612221\n",
      "2016-12-11 -0.719153 -2.151815\n",
      "2016-12-18  0.076852 -0.131257\n",
      "2016-12-25  0.441941  0.168655\n"
     ]
    }
   ],
   "source": [
    "print(df6)"
   ]
  },
  {
   "cell_type": "code",
   "execution_count": 289,
   "metadata": {},
   "outputs": [
    {
     "data": {
      "text/plain": [
       "<matplotlib.axes._subplots.AxesSubplot at 0x170a8beac88>"
      ]
     },
     "execution_count": 289,
     "metadata": {},
     "output_type": "execute_result"
    },
    {
     "data": {
      "image/png": "[encoded data removed]",
      "text/plain": [
       "<matplotlib.figure.Figure at 0x170a89ce860>"
      ]
     },
     "metadata": {},
     "output_type": "display_data"
    }
   ],
   "source": [
    "df6.plot()\n"
   ]
  },
  {
   "cell_type": "markdown",
   "metadata": {},
   "source": [
    "###### 36) Plot 4 different HISTOGRAMS of df2.GrossIn each having 5,10,15,20 bins."
   ]
  },
  {
   "cell_type": "code",
   "execution_count": 420,
   "metadata": {},
   "outputs": [
    {
     "data": {
      "text/plain": [
       "<matplotlib.axes._subplots.AxesSubplot at 0x170ab4bca58>"
      ]
     },
     "execution_count": 420,
     "metadata": {},
     "output_type": "execute_result"
    },
    {
     "data": {
      "image/png": "[encoded data removed]",
      "text/plain": [
       "<matplotlib.figure.Figure at 0x170aaf8eda0>"
      ]
     },
     "metadata": {},
     "output_type": "display_data"
    }
   ],
   "source": [
    "fig, ax = plt.subplots(nrows=2, ncols=2)\n",
    "df10.plot(ax=ax[0,1])"
   ]
  },
  {
   "cell_type": "code",
   "execution_count": 405,
   "metadata": {},
   "outputs": [
    {
     "data": {
      "text/html": [
       "<div>\n",
       "<style>\n",
       "    .dataframe thead tr:only-child th {\n",
       "        text-align: right;\n",
       "    }\n",
       "\n",
       "    .dataframe thead th {\n",
       "        text-align: left;\n",
       "    }\n",
       "\n",
       "    .dataframe tbody tr th {\n",
       "        vertical-align: top;\n",
       "    }\n",
       "</style>\n",
       "<table border=\"1\" class=\"dataframe\">\n",
       "  <thead>\n",
       "    <tr style=\"text-align: right;\">\n",
       "      <th></th>\n",
       "      <th>GrossIn</th>\n",
       "      <th>GrossOut</th>\n",
       "      <th>NetIn</th>\n",
       "      <th>NetOut</th>\n",
       "    </tr>\n",
       "  </thead>\n",
       "  <tbody>\n",
       "    <tr>\n",
       "      <th>2015-11-29</th>\n",
       "      <td>0.088658</td>\n",
       "      <td>0.197316</td>\n",
       "      <td>-0.617652</td>\n",
       "      <td>-0.316073</td>\n",
       "    </tr>\n",
       "    <tr>\n",
       "      <th>2015-12-06</th>\n",
       "      <td>0.615771</td>\n",
       "      <td>1.203884</td>\n",
       "      <td>-0.139446</td>\n",
       "      <td>-0.450189</td>\n",
       "    </tr>\n",
       "    <tr>\n",
       "      <th>2015-12-13</th>\n",
       "      <td>0.000528</td>\n",
       "      <td>0.601207</td>\n",
       "      <td>-1.443855</td>\n",
       "      <td>-2.296181</td>\n",
       "    </tr>\n",
       "    <tr>\n",
       "      <th>2015-12-20</th>\n",
       "      <td>-0.550537</td>\n",
       "      <td>-1.220712</td>\n",
       "      <td>-0.508140</td>\n",
       "      <td>-0.147780</td>\n",
       "    </tr>\n",
       "    <tr>\n",
       "      <th>2015-12-27</th>\n",
       "      <td>-0.453248</td>\n",
       "      <td>1.452468</td>\n",
       "      <td>0.326745</td>\n",
       "      <td>0.300474</td>\n",
       "    </tr>\n",
       "    <tr>\n",
       "      <th>2016-01-03</th>\n",
       "      <td>0.622207</td>\n",
       "      <td>-1.138833</td>\n",
       "      <td>1.039112</td>\n",
       "      <td>-0.075764</td>\n",
       "    </tr>\n",
       "    <tr>\n",
       "      <th>2016-01-10</th>\n",
       "      <td>0.670481</td>\n",
       "      <td>-1.071857</td>\n",
       "      <td>-1.553759</td>\n",
       "      <td>0.817890</td>\n",
       "    </tr>\n",
       "    <tr>\n",
       "      <th>2016-01-17</th>\n",
       "      <td>0.376410</td>\n",
       "      <td>-0.902052</td>\n",
       "      <td>-0.869663</td>\n",
       "      <td>1.125435</td>\n",
       "    </tr>\n",
       "    <tr>\n",
       "      <th>2016-01-24</th>\n",
       "      <td>-1.189412</td>\n",
       "      <td>1.642673</td>\n",
       "      <td>-0.900621</td>\n",
       "      <td>0.638392</td>\n",
       "    </tr>\n",
       "    <tr>\n",
       "      <th>2016-01-31</th>\n",
       "      <td>-0.328618</td>\n",
       "      <td>0.603187</td>\n",
       "      <td>-0.544114</td>\n",
       "      <td>-0.162793</td>\n",
       "    </tr>\n",
       "    <tr>\n",
       "      <th>2016-02-07</th>\n",
       "      <td>0.040919</td>\n",
       "      <td>-1.002187</td>\n",
       "      <td>0.740824</td>\n",
       "      <td>-0.513214</td>\n",
       "    </tr>\n",
       "    <tr>\n",
       "      <th>2016-02-14</th>\n",
       "      <td>-0.228600</td>\n",
       "      <td>-0.994349</td>\n",
       "      <td>-2.562334</td>\n",
       "      <td>-0.191028</td>\n",
       "    </tr>\n",
       "    <tr>\n",
       "      <th>2016-02-21</th>\n",
       "      <td>2.412615</td>\n",
       "      <td>0.784604</td>\n",
       "      <td>-0.019260</td>\n",
       "      <td>-0.262891</td>\n",
       "    </tr>\n",
       "    <tr>\n",
       "      <th>2016-02-28</th>\n",
       "      <td>0.022466</td>\n",
       "      <td>0.547119</td>\n",
       "      <td>-1.180813</td>\n",
       "      <td>1.114322</td>\n",
       "    </tr>\n",
       "    <tr>\n",
       "      <th>2016-03-06</th>\n",
       "      <td>0.715381</td>\n",
       "      <td>0.718186</td>\n",
       "      <td>0.438476</td>\n",
       "      <td>0.019617</td>\n",
       "    </tr>\n",
       "    <tr>\n",
       "      <th>2016-03-13</th>\n",
       "      <td>0.672861</td>\n",
       "      <td>0.591814</td>\n",
       "      <td>-0.354041</td>\n",
       "      <td>-0.573602</td>\n",
       "    </tr>\n",
       "    <tr>\n",
       "      <th>2016-03-20</th>\n",
       "      <td>0.101856</td>\n",
       "      <td>1.549020</td>\n",
       "      <td>-1.239107</td>\n",
       "      <td>-1.467525</td>\n",
       "    </tr>\n",
       "    <tr>\n",
       "      <th>2016-03-27</th>\n",
       "      <td>0.164761</td>\n",
       "      <td>0.050888</td>\n",
       "      <td>0.173342</td>\n",
       "      <td>0.243953</td>\n",
       "    </tr>\n",
       "    <tr>\n",
       "      <th>2016-04-03</th>\n",
       "      <td>-0.223202</td>\n",
       "      <td>1.489863</td>\n",
       "      <td>-1.600904</td>\n",
       "      <td>-0.828497</td>\n",
       "    </tr>\n",
       "    <tr>\n",
       "      <th>2016-04-10</th>\n",
       "      <td>-0.103255</td>\n",
       "      <td>-1.643189</td>\n",
       "      <td>-0.175854</td>\n",
       "      <td>1.661470</td>\n",
       "    </tr>\n",
       "    <tr>\n",
       "      <th>2016-04-17</th>\n",
       "      <td>0.020886</td>\n",
       "      <td>0.230701</td>\n",
       "      <td>-1.260165</td>\n",
       "      <td>-0.616361</td>\n",
       "    </tr>\n",
       "    <tr>\n",
       "      <th>2016-04-24</th>\n",
       "      <td>-0.375196</td>\n",
       "      <td>-0.317715</td>\n",
       "      <td>1.281644</td>\n",
       "      <td>0.557691</td>\n",
       "    </tr>\n",
       "    <tr>\n",
       "      <th>2016-05-01</th>\n",
       "      <td>-1.111458</td>\n",
       "      <td>0.246505</td>\n",
       "      <td>0.498222</td>\n",
       "      <td>1.140149</td>\n",
       "    </tr>\n",
       "    <tr>\n",
       "      <th>2016-05-08</th>\n",
       "      <td>1.580541</td>\n",
       "      <td>-1.015094</td>\n",
       "      <td>-0.810858</td>\n",
       "      <td>-1.257578</td>\n",
       "    </tr>\n",
       "    <tr>\n",
       "      <th>2016-05-15</th>\n",
       "      <td>-0.234020</td>\n",
       "      <td>0.466358</td>\n",
       "      <td>0.987335</td>\n",
       "      <td>-0.075951</td>\n",
       "    </tr>\n",
       "    <tr>\n",
       "      <th>2016-05-22</th>\n",
       "      <td>-0.319848</td>\n",
       "      <td>0.151758</td>\n",
       "      <td>-0.835143</td>\n",
       "      <td>2.089539</td>\n",
       "    </tr>\n",
       "    <tr>\n",
       "      <th>2016-05-29</th>\n",
       "      <td>-1.607661</td>\n",
       "      <td>0.184741</td>\n",
       "      <td>2.023606</td>\n",
       "      <td>0.006800</td>\n",
       "    </tr>\n",
       "    <tr>\n",
       "      <th>2016-06-05</th>\n",
       "      <td>-0.190039</td>\n",
       "      <td>-0.357445</td>\n",
       "      <td>-0.180392</td>\n",
       "      <td>1.372848</td>\n",
       "    </tr>\n",
       "    <tr>\n",
       "      <th>2016-06-12</th>\n",
       "      <td>-2.211862</td>\n",
       "      <td>1.533434</td>\n",
       "      <td>-1.423957</td>\n",
       "      <td>-0.266652</td>\n",
       "    </tr>\n",
       "    <tr>\n",
       "      <th>2016-06-19</th>\n",
       "      <td>-0.429244</td>\n",
       "      <td>0.588553</td>\n",
       "      <td>-1.598124</td>\n",
       "      <td>0.462173</td>\n",
       "    </tr>\n",
       "    <tr>\n",
       "      <th>2016-06-26</th>\n",
       "      <td>2.024310</td>\n",
       "      <td>-1.363174</td>\n",
       "      <td>0.189706</td>\n",
       "      <td>-0.661982</td>\n",
       "    </tr>\n",
       "    <tr>\n",
       "      <th>2016-07-03</th>\n",
       "      <td>0.425887</td>\n",
       "      <td>0.019148</td>\n",
       "      <td>-0.641487</td>\n",
       "      <td>0.487872</td>\n",
       "    </tr>\n",
       "    <tr>\n",
       "      <th>2016-07-10</th>\n",
       "      <td>1.804348</td>\n",
       "      <td>-0.190904</td>\n",
       "      <td>0.719758</td>\n",
       "      <td>-1.293273</td>\n",
       "    </tr>\n",
       "    <tr>\n",
       "      <th>2016-07-17</th>\n",
       "      <td>-0.956436</td>\n",
       "      <td>0.472406</td>\n",
       "      <td>1.484116</td>\n",
       "      <td>0.355613</td>\n",
       "    </tr>\n",
       "    <tr>\n",
       "      <th>2016-07-24</th>\n",
       "      <td>-0.313058</td>\n",
       "      <td>-0.000709</td>\n",
       "      <td>-1.250408</td>\n",
       "      <td>0.604515</td>\n",
       "    </tr>\n",
       "    <tr>\n",
       "      <th>2016-07-31</th>\n",
       "      <td>0.882333</td>\n",
       "      <td>-0.452090</td>\n",
       "      <td>-0.470042</td>\n",
       "      <td>0.265878</td>\n",
       "    </tr>\n",
       "    <tr>\n",
       "      <th>2016-08-07</th>\n",
       "      <td>-0.436720</td>\n",
       "      <td>-0.066133</td>\n",
       "      <td>2.099722</td>\n",
       "      <td>-0.247026</td>\n",
       "    </tr>\n",
       "    <tr>\n",
       "      <th>2016-08-14</th>\n",
       "      <td>-0.358340</td>\n",
       "      <td>-0.647542</td>\n",
       "      <td>0.744192</td>\n",
       "      <td>-0.181224</td>\n",
       "    </tr>\n",
       "    <tr>\n",
       "      <th>2016-08-21</th>\n",
       "      <td>-0.649373</td>\n",
       "      <td>1.321304</td>\n",
       "      <td>1.419603</td>\n",
       "      <td>-0.600424</td>\n",
       "    </tr>\n",
       "    <tr>\n",
       "      <th>2016-08-28</th>\n",
       "      <td>-1.866540</td>\n",
       "      <td>1.007514</td>\n",
       "      <td>-0.684630</td>\n",
       "      <td>0.790626</td>\n",
       "    </tr>\n",
       "    <tr>\n",
       "      <th>2016-09-04</th>\n",
       "      <td>-1.970104</td>\n",
       "      <td>0.892597</td>\n",
       "      <td>-1.211172</td>\n",
       "      <td>0.730764</td>\n",
       "    </tr>\n",
       "    <tr>\n",
       "      <th>2016-09-11</th>\n",
       "      <td>0.014273</td>\n",
       "      <td>-0.953939</td>\n",
       "      <td>-0.407036</td>\n",
       "      <td>0.686318</td>\n",
       "    </tr>\n",
       "    <tr>\n",
       "      <th>2016-09-18</th>\n",
       "      <td>0.105894</td>\n",
       "      <td>0.584413</td>\n",
       "      <td>1.976441</td>\n",
       "      <td>-1.564242</td>\n",
       "    </tr>\n",
       "    <tr>\n",
       "      <th>2016-09-25</th>\n",
       "      <td>1.617213</td>\n",
       "      <td>0.104356</td>\n",
       "      <td>-0.898784</td>\n",
       "      <td>-1.330314</td>\n",
       "    </tr>\n",
       "    <tr>\n",
       "      <th>2016-10-02</th>\n",
       "      <td>-0.189120</td>\n",
       "      <td>0.921650</td>\n",
       "      <td>-0.127549</td>\n",
       "      <td>1.511155</td>\n",
       "    </tr>\n",
       "    <tr>\n",
       "      <th>2016-10-09</th>\n",
       "      <td>-1.451176</td>\n",
       "      <td>-0.012089</td>\n",
       "      <td>-1.252393</td>\n",
       "      <td>0.363632</td>\n",
       "    </tr>\n",
       "    <tr>\n",
       "      <th>2016-10-16</th>\n",
       "      <td>0.886887</td>\n",
       "      <td>-0.420762</td>\n",
       "      <td>-2.604214</td>\n",
       "      <td>0.198948</td>\n",
       "    </tr>\n",
       "    <tr>\n",
       "      <th>2016-10-23</th>\n",
       "      <td>0.436739</td>\n",
       "      <td>0.404295</td>\n",
       "      <td>1.235782</td>\n",
       "      <td>-1.071054</td>\n",
       "    </tr>\n",
       "    <tr>\n",
       "      <th>2016-10-30</th>\n",
       "      <td>0.680216</td>\n",
       "      <td>1.192508</td>\n",
       "      <td>-1.778588</td>\n",
       "      <td>0.319652</td>\n",
       "    </tr>\n",
       "    <tr>\n",
       "      <th>2016-11-06</th>\n",
       "      <td>-0.504180</td>\n",
       "      <td>-0.081523</td>\n",
       "      <td>0.347676</td>\n",
       "      <td>-0.487229</td>\n",
       "    </tr>\n",
       "    <tr>\n",
       "      <th>2016-11-13</th>\n",
       "      <td>-0.675708</td>\n",
       "      <td>0.034152</td>\n",
       "      <td>-1.087246</td>\n",
       "      <td>-1.085825</td>\n",
       "    </tr>\n",
       "    <tr>\n",
       "      <th>2016-11-20</th>\n",
       "      <td>0.679373</td>\n",
       "      <td>-1.148794</td>\n",
       "      <td>0.666313</td>\n",
       "      <td>0.462591</td>\n",
       "    </tr>\n",
       "    <tr>\n",
       "      <th>2016-11-27</th>\n",
       "      <td>-1.725807</td>\n",
       "      <td>-0.677565</td>\n",
       "      <td>1.194109</td>\n",
       "      <td>-0.981166</td>\n",
       "    </tr>\n",
       "    <tr>\n",
       "      <th>2016-12-04</th>\n",
       "      <td>-0.464404</td>\n",
       "      <td>0.462061</td>\n",
       "      <td>0.783391</td>\n",
       "      <td>-0.251539</td>\n",
       "    </tr>\n",
       "    <tr>\n",
       "      <th>2016-12-11</th>\n",
       "      <td>-0.597510</td>\n",
       "      <td>1.422370</td>\n",
       "      <td>1.738900</td>\n",
       "      <td>0.978858</td>\n",
       "    </tr>\n",
       "    <tr>\n",
       "      <th>2016-12-18</th>\n",
       "      <td>0.085318</td>\n",
       "      <td>-0.808266</td>\n",
       "      <td>-0.830444</td>\n",
       "      <td>0.522514</td>\n",
       "    </tr>\n",
       "    <tr>\n",
       "      <th>2016-12-25</th>\n",
       "      <td>0.418398</td>\n",
       "      <td>1.401599</td>\n",
       "      <td>0.650450</td>\n",
       "      <td>-1.503080</td>\n",
       "    </tr>\n",
       "    <tr>\n",
       "      <th>2017-01-01</th>\n",
       "      <td>1.051948</td>\n",
       "      <td>-0.998061</td>\n",
       "      <td>-0.383971</td>\n",
       "      <td>0.250200</td>\n",
       "    </tr>\n",
       "    <tr>\n",
       "      <th>2017-01-08</th>\n",
       "      <td>1.995667</td>\n",
       "      <td>3.109919</td>\n",
       "      <td>0.606723</td>\n",
       "      <td>-0.183197</td>\n",
       "    </tr>\n",
       "  </tbody>\n",
       "</table>\n",
       "</div>"
      ],
      "text/plain": [
       "             GrossIn  GrossOut     NetIn    NetOut\n",
       "2015-11-29  0.088658  0.197316 -0.617652 -0.316073\n",
       "2015-12-06  0.615771  1.203884 -0.139446 -0.450189\n",
       "2015-12-13  0.000528  0.601207 -1.443855 -2.296181\n",
       "2015-12-20 -0.550537 -1.220712 -0.508140 -0.147780\n",
       "2015-12-27 -0.453248  1.452468  0.326745  0.300474\n",
       "2016-01-03  0.622207 -1.138833  1.039112 -0.075764\n",
       "2016-01-10  0.670481 -1.071857 -1.553759  0.817890\n",
       "2016-01-17  0.376410 -0.902052 -0.869663  1.125435\n",
       "2016-01-24 -1.189412  1.642673 -0.900621  0.638392\n",
       "2016-01-31 -0.328618  0.603187 -0.544114 -0.162793\n",
       "2016-02-07  0.040919 -1.002187  0.740824 -0.513214\n",
       "2016-02-14 -0.228600 -0.994349 -2.562334 -0.191028\n",
       "2016-02-21  2.412615  0.784604 -0.019260 -0.262891\n",
       "2016-02-28  0.022466  0.547119 -1.180813  1.114322\n",
       "2016-03-06  0.715381  0.718186  0.438476  0.019617\n",
       "2016-03-13  0.672861  0.591814 -0.354041 -0.573602\n",
       "2016-03-20  0.101856  1.549020 -1.239107 -1.467525\n",
       "2016-03-27  0.164761  0.050888  0.173342  0.243953\n",
       "2016-04-03 -0.223202  1.489863 -1.600904 -0.828497\n",
       "2016-04-10 -0.103255 -1.643189 -0.175854  1.661470\n",
       "2016-04-17  0.020886  0.230701 -1.260165 -0.616361\n",
       "2016-04-24 -0.375196 -0.317715  1.281644  0.557691\n",
       "2016-05-01 -1.111458  0.246505  0.498222  1.140149\n",
       "2016-05-08  1.580541 -1.015094 -0.810858 -1.257578\n",
       "2016-05-15 -0.234020  0.466358  0.987335 -0.075951\n",
       "2016-05-22 -0.319848  0.151758 -0.835143  2.089539\n",
       "2016-05-29 -1.607661  0.184741  2.023606  0.006800\n",
       "2016-06-05 -0.190039 -0.357445 -0.180392  1.372848\n",
       "2016-06-12 -2.211862  1.533434 -1.423957 -0.266652\n",
       "2016-06-19 -0.429244  0.588553 -1.598124  0.462173\n",
       "2016-06-26  2.024310 -1.363174  0.189706 -0.661982\n",
       "2016-07-03  0.425887  0.019148 -0.641487  0.487872\n",
       "2016-07-10  1.804348 -0.190904  0.719758 -1.293273\n",
       "2016-07-17 -0.956436  0.472406  1.484116  0.355613\n",
       "2016-07-24 -0.313058 -0.000709 -1.250408  0.604515\n",
       "2016-07-31  0.882333 -0.452090 -0.470042  0.265878\n",
       "2016-08-07 -0.436720 -0.066133  2.099722 -0.247026\n",
       "2016-08-14 -0.358340 -0.647542  0.744192 -0.181224\n",
       "2016-08-21 -0.649373  1.321304  1.419603 -0.600424\n",
       "2016-08-28 -1.866540  1.007514 -0.684630  0.790626\n",
       "2016-09-04 -1.970104  0.892597 -1.211172  0.730764\n",
       "2016-09-11  0.014273 -0.953939 -0.407036  0.686318\n",
       "2016-09-18  0.105894  0.584413  1.976441 -1.564242\n",
       "2016-09-25  1.617213  0.104356 -0.898784 -1.330314\n",
       "2016-10-02 -0.189120  0.921650 -0.127549  1.511155\n",
       "2016-10-09 -1.451176 -0.012089 -1.252393  0.363632\n",
       "2016-10-16  0.886887 -0.420762 -2.604214  0.198948\n",
       "2016-10-23  0.436739  0.404295  1.235782 -1.071054\n",
       "2016-10-30  0.680216  1.192508 -1.778588  0.319652\n",
       "2016-11-06 -0.504180 -0.081523  0.347676 -0.487229\n",
       "2016-11-13 -0.675708  0.034152 -1.087246 -1.085825\n",
       "2016-11-20  0.679373 -1.148794  0.666313  0.462591\n",
       "2016-11-27 -1.725807 -0.677565  1.194109 -0.981166\n",
       "2016-12-04 -0.464404  0.462061  0.783391 -0.251539\n",
       "2016-12-11 -0.597510  1.422370  1.738900  0.978858\n",
       "2016-12-18  0.085318 -0.808266 -0.830444  0.522514\n",
       "2016-12-25  0.418398  1.401599  0.650450 -1.503080\n",
       "2017-01-01  1.051948 -0.998061 -0.383971  0.250200\n",
       "2017-01-08  1.995667  3.109919  0.606723 -0.183197"
      ]
     },
     "execution_count": 405,
     "metadata": {},
     "output_type": "execute_result"
    }
   ],
   "source": [
    "df10 = pd.DataFrame(np.random.randn(59,4))\n",
    "cols = ['GrossIn', 'GrossOut', 'NetIn', 'NetOut']\n",
    "df10.columns = cols\n",
    "dates = pd.date_range(start='2015-11-29', freq='W', periods=59)\n",
    "df10.index = dates\n",
    "df10"
   ]
  },
  {
   "cell_type": "code",
   "execution_count": 406,
   "metadata": {},
   "outputs": [
    {
     "data": {
      "text/plain": [
       "array([[<matplotlib.axes._subplots.AxesSubplot object at 0x00000170A95ED4E0>,\n",
       "        <matplotlib.axes._subplots.AxesSubplot object at 0x00000170A962D860>],\n",
       "       [<matplotlib.axes._subplots.AxesSubplot object at 0x00000170A9924828>,\n",
       "        <matplotlib.axes._subplots.AxesSubplot object at 0x00000170A995D898>]], dtype=object)"
      ]
     },
     "execution_count": 406,
     "metadata": {},
     "output_type": "execute_result"
    },
    {
     "data": {
      "image/png": "[encoded data removed]",
      "text/plain": [
       "<matplotlib.figure.Figure at 0x170a95ed0f0>"
      ]
     },
     "metadata": {},
     "output_type": "display_data"
    }
   ],
   "source": [
    "df10.hist()"
   ]
  },
  {
   "cell_type": "code",
   "execution_count": 416,
   "metadata": {},
   "outputs": [
    {
     "data": {
      "text/plain": [
       "(array([  6.,  13.,  24.,  10.,   6.]),\n",
       " array([-2.21186191, -1.28696644, -0.36207098,  0.56282449,  1.48771996,\n",
       "         2.41261542]),\n",
       " <a list of 5 Patch objects>)"
      ]
     },
     "execution_count": 416,
     "metadata": {},
     "output_type": "execute_result"
    },
    {
     "data": {
      "image/png": "[encoded data removed]",
      "text/plain": [
       "<matplotlib.figure.Figure at 0x170aa879048>"
      ]
     },
     "metadata": {},
     "output_type": "display_data"
    }
   ],
   "source": [
    "plt.hist(df10['GrossIn'], bins=5)"
   ]
  },
  {
   "cell_type": "code",
   "execution_count": 417,
   "metadata": {},
   "outputs": [
    {
     "data": {
      "text/plain": [
       "(array([  3.,   3.,   3.,  10.,  17.,   7.,   9.,   1.,   3.,   3.]),\n",
       " array([-2.21186191, -1.74941418, -1.28696644, -0.82451871, -0.36207098,\n",
       "         0.10037676,  0.56282449,  1.02527222,  1.48771996,  1.95016769,\n",
       "         2.41261542]),\n",
       " <a list of 10 Patch objects>)"
      ]
     },
     "execution_count": 417,
     "metadata": {},
     "output_type": "execute_result"
    },
    {
     "data": {
      "image/png": "[encoded data removed]",
      "text/plain": [
       "<matplotlib.figure.Figure at 0x170ab94f8d0>"
      ]
     },
     "metadata": {},
     "output_type": "display_data"
    }
   ],
   "source": [
    "plt.hist(df10['GrossIn'], bins=10)"
   ]
  },
  {
   "cell_type": "code",
   "execution_count": 418,
   "metadata": {},
   "outputs": [
    {
     "data": {
      "text/plain": [
       "(array([  2.,   3.,   1.,   2.,   2.,   9.,  10.,  10.,   4.,   7.,   3.,\n",
       "          0.,   2.,   3.,   1.]),\n",
       " array([-2.21186191, -1.90356342, -1.59526493, -1.28696644, -0.97866796,\n",
       "        -0.67036947, -0.36207098, -0.05377249,  0.254526  ,  0.56282449,\n",
       "         0.87112298,  1.17942147,  1.48771996,  1.79601844,  2.10431693,\n",
       "         2.41261542]),\n",
       " <a list of 15 Patch objects>)"
      ]
     },
     "execution_count": 418,
     "metadata": {},
     "output_type": "execute_result"
    },
    {
     "data": {
      "image/png": "[encoded data removed]",
      "text/plain": [
       "<matplotlib.figure.Figure at 0x170a99fb240>"
      ]
     },
     "metadata": {},
     "output_type": "display_data"
    }
   ],
   "source": [
    "plt.hist(df10['GrossIn'], bins=15)"
   ]
  },
  {
   "cell_type": "code",
   "execution_count": 419,
   "metadata": {},
   "outputs": [
    {
     "data": {
      "text/plain": [
       "(array([ 1.,  2.,  2.,  1.,  2.,  1.,  3.,  7.,  9.,  8.,  3.,  4.,  7.,\n",
       "         2.,  1.,  0.,  2.,  1.,  2.,  1.]),\n",
       " array([-2.21186191, -1.98063804, -1.74941418, -1.51819031, -1.28696644,\n",
       "        -1.05574258, -0.82451871, -0.59329484, -0.36207098, -0.13084711,\n",
       "         0.10037676,  0.33160062,  0.56282449,  0.79404836,  1.02527222,\n",
       "         1.25649609,  1.48771996,  1.71894382,  1.95016769,  2.18139155,\n",
       "         2.41261542]),\n",
       " <a list of 20 Patch objects>)"
      ]
     },
     "execution_count": 419,
     "metadata": {},
     "output_type": "execute_result"
    },
    {
     "data": {
      "image/png": "[encoded data removed]",
      "text/plain": [
       "<matplotlib.figure.Figure at 0x170aaf93f60>"
      ]
     },
     "metadata": {},
     "output_type": "display_data"
    }
   ],
   "source": [
    "plt.hist(df10['GrossIn'], bins=20)"
   ]
  },
  {
   "cell_type": "markdown",
   "metadata": {},
   "source": [
    "###### 38) Import pandas libary with the alias pd"
   ]
  },
  {
   "cell_type": "code",
   "execution_count": 379,
   "metadata": {
    "collapsed": true
   },
   "outputs": [],
   "source": [
    "import pandas as pd"
   ]
  },
  {
   "cell_type": "markdown",
   "metadata": {},
   "source": [
    "###### 39)You are given the Medicare spending dataset. Read it into a pandas dataframe. Then remove the 2 unused columns 'Measure Start Date' and 'Measure End Date' from the DataFrame all in the following cell. Provide your code as the answer. \n",
    "You need to put the data file ‘Medicare_Hospital_Spending_by_Claim.csv’ at the same place as your notebook file."
   ]
  },
  {
   "cell_type": "code",
   "execution_count": 338,
   "metadata": {},
   "outputs": [],
   "source": [
    "df = pd.read_csv('C:/Users/YINGNAN/Downloads/YorkU/Data/Medicare_Hospital_Spending_by_Claim.csv', encoding='latin1')"
   ]
  },
  {
   "cell_type": "code",
   "execution_count": 339,
   "metadata": {},
   "outputs": [
    {
     "name": "stdout",
     "output_type": "stream",
     "text": [
      "                               Hospital Name  Provider Number  State  \\\n",
      "0           SOUTHEAST ALABAMA MEDICAL CENTER             10001    AL   \n",
      "1           SOUTHEAST ALABAMA MEDICAL CENTER             10001    AL   \n",
      "2           SOUTHEAST ALABAMA MEDICAL CENTER             10001    AL   \n",
      "3           SOUTHEAST ALABAMA MEDICAL CENTER             10001    AL   \n",
      "4           SOUTHEAST ALABAMA MEDICAL CENTER             10001    AL   \n",
      "5           SOUTHEAST ALABAMA MEDICAL CENTER             10001    AL   \n",
      "6           SOUTHEAST ALABAMA MEDICAL CENTER             10001    AL   \n",
      "7           SOUTHEAST ALABAMA MEDICAL CENTER             10001    AL   \n",
      "8           SOUTHEAST ALABAMA MEDICAL CENTER             10001    AL   \n",
      "9           SOUTHEAST ALABAMA MEDICAL CENTER             10001    AL   \n",
      "10          SOUTHEAST ALABAMA MEDICAL CENTER             10001    AL   \n",
      "11          SOUTHEAST ALABAMA MEDICAL CENTER             10001    AL   \n",
      "12          SOUTHEAST ALABAMA MEDICAL CENTER             10001    AL   \n",
      "13          SOUTHEAST ALABAMA MEDICAL CENTER             10001    AL   \n",
      "14          SOUTHEAST ALABAMA MEDICAL CENTER             10001    AL   \n",
      "15          SOUTHEAST ALABAMA MEDICAL CENTER             10001    AL   \n",
      "16          SOUTHEAST ALABAMA MEDICAL CENTER             10001    AL   \n",
      "17          SOUTHEAST ALABAMA MEDICAL CENTER             10001    AL   \n",
      "18          SOUTHEAST ALABAMA MEDICAL CENTER             10001    AL   \n",
      "19          SOUTHEAST ALABAMA MEDICAL CENTER             10001    AL   \n",
      "20          SOUTHEAST ALABAMA MEDICAL CENTER             10001    AL   \n",
      "21          SOUTHEAST ALABAMA MEDICAL CENTER             10001    AL   \n",
      "22                  MARSHALL MEDICAL CENTERS             10005    AL   \n",
      "23                  MARSHALL MEDICAL CENTERS             10005    AL   \n",
      "24                  MARSHALL MEDICAL CENTERS             10005    AL   \n",
      "25                  MARSHALL MEDICAL CENTERS             10005    AL   \n",
      "26                  MARSHALL MEDICAL CENTERS             10005    AL   \n",
      "27                  MARSHALL MEDICAL CENTERS             10005    AL   \n",
      "28                  MARSHALL MEDICAL CENTERS             10005    AL   \n",
      "29                  MARSHALL MEDICAL CENTERS             10005    AL   \n",
      "...                                      ...               ...   ...   \n",
      "70568  BAY AREA REGIONAL MEDICAL CENTER, LLC            670096    TX   \n",
      "70569  BAY AREA REGIONAL MEDICAL CENTER, LLC            670096    TX   \n",
      "70570  BAY AREA REGIONAL MEDICAL CENTER, LLC            670096    TX   \n",
      "70571  BAY AREA REGIONAL MEDICAL CENTER, LLC            670096    TX   \n",
      "70572  BAY AREA REGIONAL MEDICAL CENTER, LLC            670096    TX   \n",
      "70573  BAY AREA REGIONAL MEDICAL CENTER, LLC            670096    TX   \n",
      "70574  BAY AREA REGIONAL MEDICAL CENTER, LLC            670096    TX   \n",
      "70575  BAY AREA REGIONAL MEDICAL CENTER, LLC            670096    TX   \n",
      "70576               RESOLUTE HEALTH HOSPITAL            670098    TX   \n",
      "70577               RESOLUTE HEALTH HOSPITAL            670098    TX   \n",
      "70578               RESOLUTE HEALTH HOSPITAL            670098    TX   \n",
      "70579               RESOLUTE HEALTH HOSPITAL            670098    TX   \n",
      "70580               RESOLUTE HEALTH HOSPITAL            670098    TX   \n",
      "70581               RESOLUTE HEALTH HOSPITAL            670098    TX   \n",
      "70582               RESOLUTE HEALTH HOSPITAL            670098    TX   \n",
      "70583               RESOLUTE HEALTH HOSPITAL            670098    TX   \n",
      "70584               RESOLUTE HEALTH HOSPITAL            670098    TX   \n",
      "70585               RESOLUTE HEALTH HOSPITAL            670098    TX   \n",
      "70586               RESOLUTE HEALTH HOSPITAL            670098    TX   \n",
      "70587               RESOLUTE HEALTH HOSPITAL            670098    TX   \n",
      "70588               RESOLUTE HEALTH HOSPITAL            670098    TX   \n",
      "70589               RESOLUTE HEALTH HOSPITAL            670098    TX   \n",
      "70590               RESOLUTE HEALTH HOSPITAL            670098    TX   \n",
      "70591               RESOLUTE HEALTH HOSPITAL            670098    TX   \n",
      "70592               RESOLUTE HEALTH HOSPITAL            670098    TX   \n",
      "70593               RESOLUTE HEALTH HOSPITAL            670098    TX   \n",
      "70594               RESOLUTE HEALTH HOSPITAL            670098    TX   \n",
      "70595               RESOLUTE HEALTH HOSPITAL            670098    TX   \n",
      "70596               RESOLUTE HEALTH HOSPITAL            670098    TX   \n",
      "70597               RESOLUTE HEALTH HOSPITAL            670098    TX   \n",
      "\n",
      "                                                  Period  \\\n",
      "0          1 to 3 days Prior to Index Hospital Admission   \n",
      "1          1 to 3 days Prior to Index Hospital Admission   \n",
      "2          1 to 3 days Prior to Index Hospital Admission   \n",
      "3          1 to 3 days Prior to Index Hospital Admission   \n",
      "4          1 to 3 days Prior to Index Hospital Admission   \n",
      "5          1 to 3 days Prior to Index Hospital Admission   \n",
      "6          1 to 3 days Prior to Index Hospital Admission   \n",
      "7                        During Index Hospital Admission   \n",
      "8                        During Index Hospital Admission   \n",
      "9                        During Index Hospital Admission   \n",
      "10                       During Index Hospital Admission   \n",
      "11                       During Index Hospital Admission   \n",
      "12                       During Index Hospital Admission   \n",
      "13                       During Index Hospital Admission   \n",
      "14     1 through 30 days After Discharge from Index H...   \n",
      "15     1 through 30 days After Discharge from Index H...   \n",
      "16     1 through 30 days After Discharge from Index H...   \n",
      "17     1 through 30 days After Discharge from Index H...   \n",
      "18     1 through 30 days After Discharge from Index H...   \n",
      "19     1 through 30 days After Discharge from Index H...   \n",
      "20     1 through 30 days After Discharge from Index H...   \n",
      "21                                      Complete Episode   \n",
      "22         1 to 3 days Prior to Index Hospital Admission   \n",
      "23         1 to 3 days Prior to Index Hospital Admission   \n",
      "24         1 to 3 days Prior to Index Hospital Admission   \n",
      "25         1 to 3 days Prior to Index Hospital Admission   \n",
      "26         1 to 3 days Prior to Index Hospital Admission   \n",
      "27         1 to 3 days Prior to Index Hospital Admission   \n",
      "28         1 to 3 days Prior to Index Hospital Admission   \n",
      "29                       During Index Hospital Admission   \n",
      "...                                                  ...   \n",
      "70568  1 through 30 days After Discharge from Index H...   \n",
      "70569  1 through 30 days After Discharge from Index H...   \n",
      "70570  1 through 30 days After Discharge from Index H...   \n",
      "70571  1 through 30 days After Discharge from Index H...   \n",
      "70572  1 through 30 days After Discharge from Index H...   \n",
      "70573  1 through 30 days After Discharge from Index H...   \n",
      "70574  1 through 30 days After Discharge from Index H...   \n",
      "70575                                   Complete Episode   \n",
      "70576      1 to 3 days Prior to Index Hospital Admission   \n",
      "70577      1 to 3 days Prior to Index Hospital Admission   \n",
      "70578      1 to 3 days Prior to Index Hospital Admission   \n",
      "70579      1 to 3 days Prior to Index Hospital Admission   \n",
      "70580      1 to 3 days Prior to Index Hospital Admission   \n",
      "70581      1 to 3 days Prior to Index Hospital Admission   \n",
      "70582      1 to 3 days Prior to Index Hospital Admission   \n",
      "70583                    During Index Hospital Admission   \n",
      "70584                    During Index Hospital Admission   \n",
      "70585                    During Index Hospital Admission   \n",
      "70586                    During Index Hospital Admission   \n",
      "70587                    During Index Hospital Admission   \n",
      "70588                    During Index Hospital Admission   \n",
      "70589                    During Index Hospital Admission   \n",
      "70590  1 through 30 days After Discharge from Index H...   \n",
      "70591  1 through 30 days After Discharge from Index H...   \n",
      "70592  1 through 30 days After Discharge from Index H...   \n",
      "70593  1 through 30 days After Discharge from Index H...   \n",
      "70594  1 through 30 days After Discharge from Index H...   \n",
      "70595  1 through 30 days After Discharge from Index H...   \n",
      "70596  1 through 30 days After Discharge from Index H...   \n",
      "70597                                   Complete Episode   \n",
      "\n",
      "                      Claim Type Avg Spending Per Episode (Hospital)  \\\n",
      "0             Home Health Agency                                 $12   \n",
      "1                        Hospice                                  $1   \n",
      "2                      Inpatient                                  $6   \n",
      "3                     Outpatient                                $160   \n",
      "4       Skilled Nursing Facility                                  $1   \n",
      "5      Durable Medical Equipment                                  $6   \n",
      "6                        Carrier                                $462   \n",
      "7             Home Health Agency                                  $0   \n",
      "8                        Hospice                                  $0   \n",
      "9                      Inpatient                               $8981   \n",
      "10                    Outpatient                                  $0   \n",
      "11      Skilled Nursing Facility                                  $0   \n",
      "12     Durable Medical Equipment                                 $27   \n",
      "13                       Carrier                               $1587   \n",
      "14            Home Health Agency                                $988   \n",
      "15                       Hospice                                $137   \n",
      "16                     Inpatient                               $2943   \n",
      "17                    Outpatient                                $654   \n",
      "18      Skilled Nursing Facility                               $1946   \n",
      "19     Durable Medical Equipment                                $141   \n",
      "20                       Carrier                                $974   \n",
      "21                         Total                              $19025   \n",
      "22            Home Health Agency                                 $19   \n",
      "23                       Hospice                                  $0   \n",
      "24                     Inpatient                                  $0   \n",
      "25                    Outpatient                                 $91   \n",
      "26      Skilled Nursing Facility                                  $1   \n",
      "27     Durable Medical Equipment                                  $6   \n",
      "28                       Carrier                                $446   \n",
      "29            Home Health Agency                                  $0   \n",
      "...                          ...                                 ...   \n",
      "70568         Home Health Agency                                $615   \n",
      "70569                    Hospice                                 $25   \n",
      "70570                  Inpatient                               $5390   \n",
      "70571                 Outpatient                                $443   \n",
      "70572   Skilled Nursing Facility                               $2395   \n",
      "70573  Durable Medical Equipment                                 $83   \n",
      "70574                    Carrier                               $1428   \n",
      "70575                      Total                              $20058   \n",
      "70576         Home Health Agency                                  $0   \n",
      "70577                    Hospice                                  $0   \n",
      "70578                  Inpatient                                  $0   \n",
      "70579                 Outpatient                                 $89   \n",
      "70580   Skilled Nursing Facility                                  $0   \n",
      "70581  Durable Medical Equipment                                  $0   \n",
      "70582                    Carrier                                $565   \n",
      "70583         Home Health Agency                                  $0   \n",
      "70584                    Hospice                                  $0   \n",
      "70585                  Inpatient                               $5693   \n",
      "70586                 Outpatient                                  $0   \n",
      "70587   Skilled Nursing Facility                                  $0   \n",
      "70588  Durable Medical Equipment                                 $11   \n",
      "70589                    Carrier                                $581   \n",
      "70590         Home Health Agency                               $1305   \n",
      "70591                    Hospice                                  $0   \n",
      "70592                  Inpatient                               $2738   \n",
      "70593                 Outpatient                                $817   \n",
      "70594   Skilled Nursing Facility                               $4539   \n",
      "70595  Durable Medical Equipment                                 $61   \n",
      "70596                    Carrier                               $1168   \n",
      "70597                      Total                              $17568   \n",
      "\n",
      "      Avg Spending Per Episode (State) Avg Spending Per Episode (Nation)  \\\n",
      "0                                  $14                               $13   \n",
      "1                                   $1                                $1   \n",
      "2                                   $6                                $5   \n",
      "3                                  $85                              $117   \n",
      "4                                   $2                                $2   \n",
      "5                                   $9                                $9   \n",
      "6                                 $492                              $532   \n",
      "7                                   $0                                $0   \n",
      "8                                   $0                                $0   \n",
      "9                                $8723                             $9108   \n",
      "10                                  $0                                $0   \n",
      "11                                  $0                                $0   \n",
      "12                                 $32                               $24   \n",
      "13                               $1435                             $1514   \n",
      "14                                $898                              $771   \n",
      "15                                $141                              $118   \n",
      "16                               $2607                             $2665   \n",
      "17                                $596                              $710   \n",
      "18                               $2437                             $3251   \n",
      "19                                $124                              $101   \n",
      "20                                $995                             $1083   \n",
      "21                              $18597                            $20025   \n",
      "22                                 $14                               $13   \n",
      "23                                  $1                                $1   \n",
      "24                                  $6                                $5   \n",
      "25                                 $85                              $117   \n",
      "26                                  $2                                $2   \n",
      "27                                  $9                                $9   \n",
      "28                                $492                              $532   \n",
      "29                                  $0                                $0   \n",
      "...                                ...                               ...   \n",
      "70568                             $858                              $771   \n",
      "70569                             $145                              $118   \n",
      "70570                            $3975                             $2665   \n",
      "70571                             $710                              $710   \n",
      "70572                            $2903                             $3251   \n",
      "70573                             $114                              $101   \n",
      "70574                            $1231                             $1083   \n",
      "70575                           $21484                            $20025   \n",
      "70576                              $23                               $13   \n",
      "70577                               $1                                $1   \n",
      "70578                               $5                                $5   \n",
      "70579                             $122                              $117   \n",
      "70580                               $3                                $2   \n",
      "70581                               $9                                $9   \n",
      "70582                             $585                              $532   \n",
      "70583                               $0                                $0   \n",
      "70584                               $0                                $0   \n",
      "70585                            $9227                             $9108   \n",
      "70586                               $0                                $0   \n",
      "70587                               $0                                $0   \n",
      "70588                              $30                               $24   \n",
      "70589                            $1543                             $1514   \n",
      "70590                             $858                              $771   \n",
      "70591                             $145                              $118   \n",
      "70592                            $3975                             $2665   \n",
      "70593                             $710                              $710   \n",
      "70594                            $2903                             $3251   \n",
      "70595                             $114                              $101   \n",
      "70596                            $1231                             $1083   \n",
      "70597                           $21484                            $20025   \n",
      "\n",
      "      Percent of Spending (Hospital) Percent of Spending (State)  \\\n",
      "0                              0.06%                       0.07%   \n",
      "1                              0.01%                       0.01%   \n",
      "2                              0.03%                       0.03%   \n",
      "3                              0.84%                       0.46%   \n",
      "4                              0.01%                       0.01%   \n",
      "5                              0.03%                       0.05%   \n",
      "6                              2.43%                       2.65%   \n",
      "7                                 0%                          0%   \n",
      "8                                 0%                          0%   \n",
      "9                             47.21%                      46.91%   \n",
      "10                                0%                          0%   \n",
      "11                                0%                          0%   \n",
      "12                             0.14%                       0.17%   \n",
      "13                             8.34%                       7.71%   \n",
      "14                              5.2%                       4.83%   \n",
      "15                             0.72%                       0.76%   \n",
      "16                            15.47%                      14.02%   \n",
      "17                             3.44%                        3.2%   \n",
      "18                            10.23%                       13.1%   \n",
      "19                             0.74%                       0.67%   \n",
      "20                             5.12%                       5.35%   \n",
      "21                              100%                        100%   \n",
      "22                             0.12%                       0.07%   \n",
      "23                                0%                       0.01%   \n",
      "24                                0%                       0.03%   \n",
      "25                             0.55%                       0.46%   \n",
      "26                                0%                       0.01%   \n",
      "27                             0.03%                       0.05%   \n",
      "28                             2.69%                       2.65%   \n",
      "29                                0%                          0%   \n",
      "...                              ...                         ...   \n",
      "70568                          3.07%                       3.99%   \n",
      "70569                          0.12%                       0.67%   \n",
      "70570                         26.87%                       18.5%   \n",
      "70571                          2.21%                       3.31%   \n",
      "70572                         11.94%                      13.51%   \n",
      "70573                          0.41%                       0.53%   \n",
      "70574                          7.12%                       5.73%   \n",
      "70575                           100%                        100%   \n",
      "70576                             0%                       0.11%   \n",
      "70577                             0%                       0.01%   \n",
      "70578                             0%                       0.02%   \n",
      "70579                          0.51%                       0.57%   \n",
      "70580                             0%                       0.01%   \n",
      "70581                             0%                       0.04%   \n",
      "70582                          3.22%                       2.72%   \n",
      "70583                             0%                          0%   \n",
      "70584                             0%                          0%   \n",
      "70585                         32.41%                      42.95%   \n",
      "70586                             0%                          0%   \n",
      "70587                             0%                          0%   \n",
      "70588                          0.06%                       0.14%   \n",
      "70589                          3.31%                       7.18%   \n",
      "70590                          7.43%                       3.99%   \n",
      "70591                             0%                       0.67%   \n",
      "70592                         15.59%                       18.5%   \n",
      "70593                          4.65%                       3.31%   \n",
      "70594                         25.83%                      13.51%   \n",
      "70595                          0.35%                       0.53%   \n",
      "70596                          6.65%                       5.73%   \n",
      "70597                           100%                        100%   \n",
      "\n",
      "      Percent of Spending (Nation) Measure Start Date Measure End Date  \n",
      "0                            0.07%         01/01/2014       12/31/2014  \n",
      "1                               0%         01/01/2014       12/31/2014  \n",
      "2                            0.03%         01/01/2014       12/31/2014  \n",
      "3                            0.58%         01/01/2014       12/31/2014  \n",
      "4                            0.01%         01/01/2014       12/31/2014  \n",
      "5                            0.04%         01/01/2014       12/31/2014  \n",
      "6                            2.66%         01/01/2014       12/31/2014  \n",
      "7                               0%         01/01/2014       12/31/2014  \n",
      "8                               0%         01/01/2014       12/31/2014  \n",
      "9                           45.48%         01/01/2014       12/31/2014  \n",
      "10                              0%         01/01/2014       12/31/2014  \n",
      "11                              0%         01/01/2014       12/31/2014  \n",
      "12                           0.12%         01/01/2014       12/31/2014  \n",
      "13                           7.56%         01/01/2014       12/31/2014  \n",
      "14                           3.85%         01/01/2014       12/31/2014  \n",
      "15                           0.59%         01/01/2014       12/31/2014  \n",
      "16                          13.31%         01/01/2014       12/31/2014  \n",
      "17                           3.54%         01/01/2014       12/31/2014  \n",
      "18                          16.23%         01/01/2014       12/31/2014  \n",
      "19                            0.5%         01/01/2014       12/31/2014  \n",
      "20                           5.41%         01/01/2014       12/31/2014  \n",
      "21                            100%         01/01/2014       12/31/2014  \n",
      "22                           0.07%         01/01/2014       12/31/2014  \n",
      "23                              0%         01/01/2014       12/31/2014  \n",
      "24                           0.03%         01/01/2014       12/31/2014  \n",
      "25                           0.58%         01/01/2014       12/31/2014  \n",
      "26                           0.01%         01/01/2014       12/31/2014  \n",
      "27                           0.04%         01/01/2014       12/31/2014  \n",
      "28                           2.66%         01/01/2014       12/31/2014  \n",
      "29                              0%         01/01/2014       12/31/2014  \n",
      "...                            ...                ...              ...  \n",
      "70568                        3.85%         01/01/2014       12/31/2014  \n",
      "70569                        0.59%         01/01/2014       12/31/2014  \n",
      "70570                       13.31%         01/01/2014       12/31/2014  \n",
      "70571                        3.54%         01/01/2014       12/31/2014  \n",
      "70572                       16.23%         01/01/2014       12/31/2014  \n",
      "70573                         0.5%         01/01/2014       12/31/2014  \n",
      "70574                        5.41%         01/01/2014       12/31/2014  \n",
      "70575                         100%         01/01/2014       12/31/2014  \n",
      "70576                        0.07%         01/01/2014       12/31/2014  \n",
      "70577                           0%         01/01/2014       12/31/2014  \n",
      "70578                        0.03%         01/01/2014       12/31/2014  \n",
      "70579                        0.58%         01/01/2014       12/31/2014  \n",
      "70580                        0.01%         01/01/2014       12/31/2014  \n",
      "70581                        0.04%         01/01/2014       12/31/2014  \n",
      "70582                        2.66%         01/01/2014       12/31/2014  \n",
      "70583                           0%         01/01/2014       12/31/2014  \n",
      "70584                           0%         01/01/2014       12/31/2014  \n",
      "70585                       45.48%         01/01/2014       12/31/2014  \n",
      "70586                           0%         01/01/2014       12/31/2014  \n",
      "70587                           0%         01/01/2014       12/31/2014  \n",
      "70588                        0.12%         01/01/2014       12/31/2014  \n",
      "70589                        7.56%         01/01/2014       12/31/2014  \n",
      "70590                        3.85%         01/01/2014       12/31/2014  \n",
      "70591                        0.59%         01/01/2014       12/31/2014  \n",
      "70592                       13.31%         01/01/2014       12/31/2014  \n",
      "70593                        3.54%         01/01/2014       12/31/2014  \n",
      "70594                       16.23%         01/01/2014       12/31/2014  \n",
      "70595                         0.5%         01/01/2014       12/31/2014  \n",
      "70596                        5.41%         01/01/2014       12/31/2014  \n",
      "70597                         100%         01/01/2014       12/31/2014  \n",
      "\n",
      "[70598 rows x 13 columns]\n"
     ]
    }
   ],
   "source": [
    "print(df)"
   ]
  },
  {
   "cell_type": "code",
   "execution_count": 344,
   "metadata": {},
   "outputs": [],
   "source": [
    "\n",
    "del df['Measure Start Date']"
   ]
  },
  {
   "cell_type": "code",
   "execution_count": 345,
   "metadata": {},
   "outputs": [
    {
     "name": "stdout",
     "output_type": "stream",
     "text": [
      "                               Hospital Name  Provider Number  State  \\\n",
      "0           SOUTHEAST ALABAMA MEDICAL CENTER             10001    AL   \n",
      "1           SOUTHEAST ALABAMA MEDICAL CENTER             10001    AL   \n",
      "2           SOUTHEAST ALABAMA MEDICAL CENTER             10001    AL   \n",
      "3           SOUTHEAST ALABAMA MEDICAL CENTER             10001    AL   \n",
      "4           SOUTHEAST ALABAMA MEDICAL CENTER             10001    AL   \n",
      "5           SOUTHEAST ALABAMA MEDICAL CENTER             10001    AL   \n",
      "6           SOUTHEAST ALABAMA MEDICAL CENTER             10001    AL   \n",
      "7           SOUTHEAST ALABAMA MEDICAL CENTER             10001    AL   \n",
      "8           SOUTHEAST ALABAMA MEDICAL CENTER             10001    AL   \n",
      "9           SOUTHEAST ALABAMA MEDICAL CENTER             10001    AL   \n",
      "10          SOUTHEAST ALABAMA MEDICAL CENTER             10001    AL   \n",
      "11          SOUTHEAST ALABAMA MEDICAL CENTER             10001    AL   \n",
      "12          SOUTHEAST ALABAMA MEDICAL CENTER             10001    AL   \n",
      "13          SOUTHEAST ALABAMA MEDICAL CENTER             10001    AL   \n",
      "14          SOUTHEAST ALABAMA MEDICAL CENTER             10001    AL   \n",
      "15          SOUTHEAST ALABAMA MEDICAL CENTER             10001    AL   \n",
      "16          SOUTHEAST ALABAMA MEDICAL CENTER             10001    AL   \n",
      "17          SOUTHEAST ALABAMA MEDICAL CENTER             10001    AL   \n",
      "18          SOUTHEAST ALABAMA MEDICAL CENTER             10001    AL   \n",
      "19          SOUTHEAST ALABAMA MEDICAL CENTER             10001    AL   \n",
      "20          SOUTHEAST ALABAMA MEDICAL CENTER             10001    AL   \n",
      "21          SOUTHEAST ALABAMA MEDICAL CENTER             10001    AL   \n",
      "22                  MARSHALL MEDICAL CENTERS             10005    AL   \n",
      "23                  MARSHALL MEDICAL CENTERS             10005    AL   \n",
      "24                  MARSHALL MEDICAL CENTERS             10005    AL   \n",
      "25                  MARSHALL MEDICAL CENTERS             10005    AL   \n",
      "26                  MARSHALL MEDICAL CENTERS             10005    AL   \n",
      "27                  MARSHALL MEDICAL CENTERS             10005    AL   \n",
      "28                  MARSHALL MEDICAL CENTERS             10005    AL   \n",
      "29                  MARSHALL MEDICAL CENTERS             10005    AL   \n",
      "...                                      ...               ...   ...   \n",
      "70568  BAY AREA REGIONAL MEDICAL CENTER, LLC            670096    TX   \n",
      "70569  BAY AREA REGIONAL MEDICAL CENTER, LLC            670096    TX   \n",
      "70570  BAY AREA REGIONAL MEDICAL CENTER, LLC            670096    TX   \n",
      "70571  BAY AREA REGIONAL MEDICAL CENTER, LLC            670096    TX   \n",
      "70572  BAY AREA REGIONAL MEDICAL CENTER, LLC            670096    TX   \n",
      "70573  BAY AREA REGIONAL MEDICAL CENTER, LLC            670096    TX   \n",
      "70574  BAY AREA REGIONAL MEDICAL CENTER, LLC            670096    TX   \n",
      "70575  BAY AREA REGIONAL MEDICAL CENTER, LLC            670096    TX   \n",
      "70576               RESOLUTE HEALTH HOSPITAL            670098    TX   \n",
      "70577               RESOLUTE HEALTH HOSPITAL            670098    TX   \n",
      "70578               RESOLUTE HEALTH HOSPITAL            670098    TX   \n",
      "70579               RESOLUTE HEALTH HOSPITAL            670098    TX   \n",
      "70580               RESOLUTE HEALTH HOSPITAL            670098    TX   \n",
      "70581               RESOLUTE HEALTH HOSPITAL            670098    TX   \n",
      "70582               RESOLUTE HEALTH HOSPITAL            670098    TX   \n",
      "70583               RESOLUTE HEALTH HOSPITAL            670098    TX   \n",
      "70584               RESOLUTE HEALTH HOSPITAL            670098    TX   \n",
      "70585               RESOLUTE HEALTH HOSPITAL            670098    TX   \n",
      "70586               RESOLUTE HEALTH HOSPITAL            670098    TX   \n",
      "70587               RESOLUTE HEALTH HOSPITAL            670098    TX   \n",
      "70588               RESOLUTE HEALTH HOSPITAL            670098    TX   \n",
      "70589               RESOLUTE HEALTH HOSPITAL            670098    TX   \n",
      "70590               RESOLUTE HEALTH HOSPITAL            670098    TX   \n",
      "70591               RESOLUTE HEALTH HOSPITAL            670098    TX   \n",
      "70592               RESOLUTE HEALTH HOSPITAL            670098    TX   \n",
      "70593               RESOLUTE HEALTH HOSPITAL            670098    TX   \n",
      "70594               RESOLUTE HEALTH HOSPITAL            670098    TX   \n",
      "70595               RESOLUTE HEALTH HOSPITAL            670098    TX   \n",
      "70596               RESOLUTE HEALTH HOSPITAL            670098    TX   \n",
      "70597               RESOLUTE HEALTH HOSPITAL            670098    TX   \n",
      "\n",
      "                                                  Period  \\\n",
      "0          1 to 3 days Prior to Index Hospital Admission   \n",
      "1          1 to 3 days Prior to Index Hospital Admission   \n",
      "2          1 to 3 days Prior to Index Hospital Admission   \n",
      "3          1 to 3 days Prior to Index Hospital Admission   \n",
      "4          1 to 3 days Prior to Index Hospital Admission   \n",
      "5          1 to 3 days Prior to Index Hospital Admission   \n",
      "6          1 to 3 days Prior to Index Hospital Admission   \n",
      "7                        During Index Hospital Admission   \n",
      "8                        During Index Hospital Admission   \n",
      "9                        During Index Hospital Admission   \n",
      "10                       During Index Hospital Admission   \n",
      "11                       During Index Hospital Admission   \n",
      "12                       During Index Hospital Admission   \n",
      "13                       During Index Hospital Admission   \n",
      "14     1 through 30 days After Discharge from Index H...   \n",
      "15     1 through 30 days After Discharge from Index H...   \n",
      "16     1 through 30 days After Discharge from Index H...   \n",
      "17     1 through 30 days After Discharge from Index H...   \n",
      "18     1 through 30 days After Discharge from Index H...   \n",
      "19     1 through 30 days After Discharge from Index H...   \n",
      "20     1 through 30 days After Discharge from Index H...   \n",
      "21                                      Complete Episode   \n",
      "22         1 to 3 days Prior to Index Hospital Admission   \n",
      "23         1 to 3 days Prior to Index Hospital Admission   \n",
      "24         1 to 3 days Prior to Index Hospital Admission   \n",
      "25         1 to 3 days Prior to Index Hospital Admission   \n",
      "26         1 to 3 days Prior to Index Hospital Admission   \n",
      "27         1 to 3 days Prior to Index Hospital Admission   \n",
      "28         1 to 3 days Prior to Index Hospital Admission   \n",
      "29                       During Index Hospital Admission   \n",
      "...                                                  ...   \n",
      "70568  1 through 30 days After Discharge from Index H...   \n",
      "70569  1 through 30 days After Discharge from Index H...   \n",
      "70570  1 through 30 days After Discharge from Index H...   \n",
      "70571  1 through 30 days After Discharge from Index H...   \n",
      "70572  1 through 30 days After Discharge from Index H...   \n",
      "70573  1 through 30 days After Discharge from Index H...   \n",
      "70574  1 through 30 days After Discharge from Index H...   \n",
      "70575                                   Complete Episode   \n",
      "70576      1 to 3 days Prior to Index Hospital Admission   \n",
      "70577      1 to 3 days Prior to Index Hospital Admission   \n",
      "70578      1 to 3 days Prior to Index Hospital Admission   \n",
      "70579      1 to 3 days Prior to Index Hospital Admission   \n",
      "70580      1 to 3 days Prior to Index Hospital Admission   \n",
      "70581      1 to 3 days Prior to Index Hospital Admission   \n",
      "70582      1 to 3 days Prior to Index Hospital Admission   \n",
      "70583                    During Index Hospital Admission   \n",
      "70584                    During Index Hospital Admission   \n",
      "70585                    During Index Hospital Admission   \n",
      "70586                    During Index Hospital Admission   \n",
      "70587                    During Index Hospital Admission   \n",
      "70588                    During Index Hospital Admission   \n",
      "70589                    During Index Hospital Admission   \n",
      "70590  1 through 30 days After Discharge from Index H...   \n",
      "70591  1 through 30 days After Discharge from Index H...   \n",
      "70592  1 through 30 days After Discharge from Index H...   \n",
      "70593  1 through 30 days After Discharge from Index H...   \n",
      "70594  1 through 30 days After Discharge from Index H...   \n",
      "70595  1 through 30 days After Discharge from Index H...   \n",
      "70596  1 through 30 days After Discharge from Index H...   \n",
      "70597                                   Complete Episode   \n",
      "\n",
      "                      Claim Type Avg Spending Per Episode (Hospital)  \\\n",
      "0             Home Health Agency                                 $12   \n",
      "1                        Hospice                                  $1   \n",
      "2                      Inpatient                                  $6   \n",
      "3                     Outpatient                                $160   \n",
      "4       Skilled Nursing Facility                                  $1   \n",
      "5      Durable Medical Equipment                                  $6   \n",
      "6                        Carrier                                $462   \n",
      "7             Home Health Agency                                  $0   \n",
      "8                        Hospice                                  $0   \n",
      "9                      Inpatient                               $8981   \n",
      "10                    Outpatient                                  $0   \n",
      "11      Skilled Nursing Facility                                  $0   \n",
      "12     Durable Medical Equipment                                 $27   \n",
      "13                       Carrier                               $1587   \n",
      "14            Home Health Agency                                $988   \n",
      "15                       Hospice                                $137   \n",
      "16                     Inpatient                               $2943   \n",
      "17                    Outpatient                                $654   \n",
      "18      Skilled Nursing Facility                               $1946   \n",
      "19     Durable Medical Equipment                                $141   \n",
      "20                       Carrier                                $974   \n",
      "21                         Total                              $19025   \n",
      "22            Home Health Agency                                 $19   \n",
      "23                       Hospice                                  $0   \n",
      "24                     Inpatient                                  $0   \n",
      "25                    Outpatient                                 $91   \n",
      "26      Skilled Nursing Facility                                  $1   \n",
      "27     Durable Medical Equipment                                  $6   \n",
      "28                       Carrier                                $446   \n",
      "29            Home Health Agency                                  $0   \n",
      "...                          ...                                 ...   \n",
      "70568         Home Health Agency                                $615   \n",
      "70569                    Hospice                                 $25   \n",
      "70570                  Inpatient                               $5390   \n",
      "70571                 Outpatient                                $443   \n",
      "70572   Skilled Nursing Facility                               $2395   \n",
      "70573  Durable Medical Equipment                                 $83   \n",
      "70574                    Carrier                               $1428   \n",
      "70575                      Total                              $20058   \n",
      "70576         Home Health Agency                                  $0   \n",
      "70577                    Hospice                                  $0   \n",
      "70578                  Inpatient                                  $0   \n",
      "70579                 Outpatient                                 $89   \n",
      "70580   Skilled Nursing Facility                                  $0   \n",
      "70581  Durable Medical Equipment                                  $0   \n",
      "70582                    Carrier                                $565   \n",
      "70583         Home Health Agency                                  $0   \n",
      "70584                    Hospice                                  $0   \n",
      "70585                  Inpatient                               $5693   \n",
      "70586                 Outpatient                                  $0   \n",
      "70587   Skilled Nursing Facility                                  $0   \n",
      "70588  Durable Medical Equipment                                 $11   \n",
      "70589                    Carrier                                $581   \n",
      "70590         Home Health Agency                               $1305   \n",
      "70591                    Hospice                                  $0   \n",
      "70592                  Inpatient                               $2738   \n",
      "70593                 Outpatient                                $817   \n",
      "70594   Skilled Nursing Facility                               $4539   \n",
      "70595  Durable Medical Equipment                                 $61   \n",
      "70596                    Carrier                               $1168   \n",
      "70597                      Total                              $17568   \n",
      "\n",
      "      Avg Spending Per Episode (State) Avg Spending Per Episode (Nation)  \\\n",
      "0                                  $14                               $13   \n",
      "1                                   $1                                $1   \n",
      "2                                   $6                                $5   \n",
      "3                                  $85                              $117   \n",
      "4                                   $2                                $2   \n",
      "5                                   $9                                $9   \n",
      "6                                 $492                              $532   \n",
      "7                                   $0                                $0   \n",
      "8                                   $0                                $0   \n",
      "9                                $8723                             $9108   \n",
      "10                                  $0                                $0   \n",
      "11                                  $0                                $0   \n",
      "12                                 $32                               $24   \n",
      "13                               $1435                             $1514   \n",
      "14                                $898                              $771   \n",
      "15                                $141                              $118   \n",
      "16                               $2607                             $2665   \n",
      "17                                $596                              $710   \n",
      "18                               $2437                             $3251   \n",
      "19                                $124                              $101   \n",
      "20                                $995                             $1083   \n",
      "21                              $18597                            $20025   \n",
      "22                                 $14                               $13   \n",
      "23                                  $1                                $1   \n",
      "24                                  $6                                $5   \n",
      "25                                 $85                              $117   \n",
      "26                                  $2                                $2   \n",
      "27                                  $9                                $9   \n",
      "28                                $492                              $532   \n",
      "29                                  $0                                $0   \n",
      "...                                ...                               ...   \n",
      "70568                             $858                              $771   \n",
      "70569                             $145                              $118   \n",
      "70570                            $3975                             $2665   \n",
      "70571                             $710                              $710   \n",
      "70572                            $2903                             $3251   \n",
      "70573                             $114                              $101   \n",
      "70574                            $1231                             $1083   \n",
      "70575                           $21484                            $20025   \n",
      "70576                              $23                               $13   \n",
      "70577                               $1                                $1   \n",
      "70578                               $5                                $5   \n",
      "70579                             $122                              $117   \n",
      "70580                               $3                                $2   \n",
      "70581                               $9                                $9   \n",
      "70582                             $585                              $532   \n",
      "70583                               $0                                $0   \n",
      "70584                               $0                                $0   \n",
      "70585                            $9227                             $9108   \n",
      "70586                               $0                                $0   \n",
      "70587                               $0                                $0   \n",
      "70588                              $30                               $24   \n",
      "70589                            $1543                             $1514   \n",
      "70590                             $858                              $771   \n",
      "70591                             $145                              $118   \n",
      "70592                            $3975                             $2665   \n",
      "70593                             $710                              $710   \n",
      "70594                            $2903                             $3251   \n",
      "70595                             $114                              $101   \n",
      "70596                            $1231                             $1083   \n",
      "70597                           $21484                            $20025   \n",
      "\n",
      "      Percent of Spending (Hospital) Percent of Spending (State)  \\\n",
      "0                              0.06%                       0.07%   \n",
      "1                              0.01%                       0.01%   \n",
      "2                              0.03%                       0.03%   \n",
      "3                              0.84%                       0.46%   \n",
      "4                              0.01%                       0.01%   \n",
      "5                              0.03%                       0.05%   \n",
      "6                              2.43%                       2.65%   \n",
      "7                                 0%                          0%   \n",
      "8                                 0%                          0%   \n",
      "9                             47.21%                      46.91%   \n",
      "10                                0%                          0%   \n",
      "11                                0%                          0%   \n",
      "12                             0.14%                       0.17%   \n",
      "13                             8.34%                       7.71%   \n",
      "14                              5.2%                       4.83%   \n",
      "15                             0.72%                       0.76%   \n",
      "16                            15.47%                      14.02%   \n",
      "17                             3.44%                        3.2%   \n",
      "18                            10.23%                       13.1%   \n",
      "19                             0.74%                       0.67%   \n",
      "20                             5.12%                       5.35%   \n",
      "21                              100%                        100%   \n",
      "22                             0.12%                       0.07%   \n",
      "23                                0%                       0.01%   \n",
      "24                                0%                       0.03%   \n",
      "25                             0.55%                       0.46%   \n",
      "26                                0%                       0.01%   \n",
      "27                             0.03%                       0.05%   \n",
      "28                             2.69%                       2.65%   \n",
      "29                                0%                          0%   \n",
      "...                              ...                         ...   \n",
      "70568                          3.07%                       3.99%   \n",
      "70569                          0.12%                       0.67%   \n",
      "70570                         26.87%                       18.5%   \n",
      "70571                          2.21%                       3.31%   \n",
      "70572                         11.94%                      13.51%   \n",
      "70573                          0.41%                       0.53%   \n",
      "70574                          7.12%                       5.73%   \n",
      "70575                           100%                        100%   \n",
      "70576                             0%                       0.11%   \n",
      "70577                             0%                       0.01%   \n",
      "70578                             0%                       0.02%   \n",
      "70579                          0.51%                       0.57%   \n",
      "70580                             0%                       0.01%   \n",
      "70581                             0%                       0.04%   \n",
      "70582                          3.22%                       2.72%   \n",
      "70583                             0%                          0%   \n",
      "70584                             0%                          0%   \n",
      "70585                         32.41%                      42.95%   \n",
      "70586                             0%                          0%   \n",
      "70587                             0%                          0%   \n",
      "70588                          0.06%                       0.14%   \n",
      "70589                          3.31%                       7.18%   \n",
      "70590                          7.43%                       3.99%   \n",
      "70591                             0%                       0.67%   \n",
      "70592                         15.59%                       18.5%   \n",
      "70593                          4.65%                       3.31%   \n",
      "70594                         25.83%                      13.51%   \n",
      "70595                          0.35%                       0.53%   \n",
      "70596                          6.65%                       5.73%   \n",
      "70597                           100%                        100%   \n",
      "\n",
      "      Percent of Spending (Nation)  \n",
      "0                            0.07%  \n",
      "1                               0%  \n",
      "2                            0.03%  \n",
      "3                            0.58%  \n",
      "4                            0.01%  \n",
      "5                            0.04%  \n",
      "6                            2.66%  \n",
      "7                               0%  \n",
      "8                               0%  \n",
      "9                           45.48%  \n",
      "10                              0%  \n",
      "11                              0%  \n",
      "12                           0.12%  \n",
      "13                           7.56%  \n",
      "14                           3.85%  \n",
      "15                           0.59%  \n",
      "16                          13.31%  \n",
      "17                           3.54%  \n",
      "18                          16.23%  \n",
      "19                            0.5%  \n",
      "20                           5.41%  \n",
      "21                            100%  \n",
      "22                           0.07%  \n",
      "23                              0%  \n",
      "24                           0.03%  \n",
      "25                           0.58%  \n",
      "26                           0.01%  \n",
      "27                           0.04%  \n",
      "28                           2.66%  \n",
      "29                              0%  \n",
      "...                            ...  \n",
      "70568                        3.85%  \n",
      "70569                        0.59%  \n",
      "70570                       13.31%  \n",
      "70571                        3.54%  \n",
      "70572                       16.23%  \n",
      "70573                         0.5%  \n",
      "70574                        5.41%  \n",
      "70575                         100%  \n",
      "70576                        0.07%  \n",
      "70577                           0%  \n",
      "70578                        0.03%  \n",
      "70579                        0.58%  \n",
      "70580                        0.01%  \n",
      "70581                        0.04%  \n",
      "70582                        2.66%  \n",
      "70583                           0%  \n",
      "70584                           0%  \n",
      "70585                       45.48%  \n",
      "70586                           0%  \n",
      "70587                           0%  \n",
      "70588                        0.12%  \n",
      "70589                        7.56%  \n",
      "70590                        3.85%  \n",
      "70591                        0.59%  \n",
      "70592                       13.31%  \n",
      "70593                        3.54%  \n",
      "70594                       16.23%  \n",
      "70595                         0.5%  \n",
      "70596                        5.41%  \n",
      "70597                         100%  \n",
      "\n",
      "[70598 rows x 11 columns]\n"
     ]
    }
   ],
   "source": [
    "print(df)"
   ]
  },
  {
   "cell_type": "markdown",
   "metadata": {},
   "source": [
    "###### 40) Replace columns names...replace the original long column names in the dataframe above (Q - 39) with shorter ones provided below in \"newColumns\". Provide your code and the resulting new column names as the answer. \n",
    "newColumns = ['Hospital', 'Provider ID', 'State', 'Period', 'Claim Type', 'Avg Spending Hospital', 'Avg Spending State', 'Avg Spending Nation', 'Percent Spending Hospital', 'Percent Spending State', 'Percent Spending Nation']"
   ]
  },
  {
   "cell_type": "code",
   "execution_count": 359,
   "metadata": {
    "collapsed": true
   },
   "outputs": [],
   "source": [
    "df.rename(columns={'Hospital Name': 'Hospital','Provider Number':'Provider Id','Avg Spending Per Episode (Hospital)':'Avg Spending Hospital','Avg Spending Per Episode (State)':'Avg Spending State','Avg Spending Per Episode (Nation)':'Avg Spending Nation','Percent of Spending (Hospital)':'Percent Spending Hospital','Percent of Spending (State)':'Percent Spending State','Percent of Spending (Nation)':'Percent Spending Nation'}, inplace=True)"
   ]
  },
  {
   "cell_type": "code",
   "execution_count": 360,
   "metadata": {},
   "outputs": [
    {
     "name": "stdout",
     "output_type": "stream",
     "text": [
      "                                    Hospital  Provider Number  State  \\\n",
      "0           SOUTHEAST ALABAMA MEDICAL CENTER             10001    AL   \n",
      "1           SOUTHEAST ALABAMA MEDICAL CENTER             10001    AL   \n",
      "2           SOUTHEAST ALABAMA MEDICAL CENTER             10001    AL   \n",
      "3           SOUTHEAST ALABAMA MEDICAL CENTER             10001    AL   \n",
      "4           SOUTHEAST ALABAMA MEDICAL CENTER             10001    AL   \n",
      "5           SOUTHEAST ALABAMA MEDICAL CENTER             10001    AL   \n",
      "6           SOUTHEAST ALABAMA MEDICAL CENTER             10001    AL   \n",
      "7           SOUTHEAST ALABAMA MEDICAL CENTER             10001    AL   \n",
      "8           SOUTHEAST ALABAMA MEDICAL CENTER             10001    AL   \n",
      "9           SOUTHEAST ALABAMA MEDICAL CENTER             10001    AL   \n",
      "10          SOUTHEAST ALABAMA MEDICAL CENTER             10001    AL   \n",
      "11          SOUTHEAST ALABAMA MEDICAL CENTER             10001    AL   \n",
      "12          SOUTHEAST ALABAMA MEDICAL CENTER             10001    AL   \n",
      "13          SOUTHEAST ALABAMA MEDICAL CENTER             10001    AL   \n",
      "14          SOUTHEAST ALABAMA MEDICAL CENTER             10001    AL   \n",
      "15          SOUTHEAST ALABAMA MEDICAL CENTER             10001    AL   \n",
      "16          SOUTHEAST ALABAMA MEDICAL CENTER             10001    AL   \n",
      "17          SOUTHEAST ALABAMA MEDICAL CENTER             10001    AL   \n",
      "18          SOUTHEAST ALABAMA MEDICAL CENTER             10001    AL   \n",
      "19          SOUTHEAST ALABAMA MEDICAL CENTER             10001    AL   \n",
      "20          SOUTHEAST ALABAMA MEDICAL CENTER             10001    AL   \n",
      "21          SOUTHEAST ALABAMA MEDICAL CENTER             10001    AL   \n",
      "22                  MARSHALL MEDICAL CENTERS             10005    AL   \n",
      "23                  MARSHALL MEDICAL CENTERS             10005    AL   \n",
      "24                  MARSHALL MEDICAL CENTERS             10005    AL   \n",
      "25                  MARSHALL MEDICAL CENTERS             10005    AL   \n",
      "26                  MARSHALL MEDICAL CENTERS             10005    AL   \n",
      "27                  MARSHALL MEDICAL CENTERS             10005    AL   \n",
      "28                  MARSHALL MEDICAL CENTERS             10005    AL   \n",
      "29                  MARSHALL MEDICAL CENTERS             10005    AL   \n",
      "...                                      ...               ...   ...   \n",
      "70568  BAY AREA REGIONAL MEDICAL CENTER, LLC            670096    TX   \n",
      "70569  BAY AREA REGIONAL MEDICAL CENTER, LLC            670096    TX   \n",
      "70570  BAY AREA REGIONAL MEDICAL CENTER, LLC            670096    TX   \n",
      "70571  BAY AREA REGIONAL MEDICAL CENTER, LLC            670096    TX   \n",
      "70572  BAY AREA REGIONAL MEDICAL CENTER, LLC            670096    TX   \n",
      "70573  BAY AREA REGIONAL MEDICAL CENTER, LLC            670096    TX   \n",
      "70574  BAY AREA REGIONAL MEDICAL CENTER, LLC            670096    TX   \n",
      "70575  BAY AREA REGIONAL MEDICAL CENTER, LLC            670096    TX   \n",
      "70576               RESOLUTE HEALTH HOSPITAL            670098    TX   \n",
      "70577               RESOLUTE HEALTH HOSPITAL            670098    TX   \n",
      "70578               RESOLUTE HEALTH HOSPITAL            670098    TX   \n",
      "70579               RESOLUTE HEALTH HOSPITAL            670098    TX   \n",
      "70580               RESOLUTE HEALTH HOSPITAL            670098    TX   \n",
      "70581               RESOLUTE HEALTH HOSPITAL            670098    TX   \n",
      "70582               RESOLUTE HEALTH HOSPITAL            670098    TX   \n",
      "70583               RESOLUTE HEALTH HOSPITAL            670098    TX   \n",
      "70584               RESOLUTE HEALTH HOSPITAL            670098    TX   \n",
      "70585               RESOLUTE HEALTH HOSPITAL            670098    TX   \n",
      "70586               RESOLUTE HEALTH HOSPITAL            670098    TX   \n",
      "70587               RESOLUTE HEALTH HOSPITAL            670098    TX   \n",
      "70588               RESOLUTE HEALTH HOSPITAL            670098    TX   \n",
      "70589               RESOLUTE HEALTH HOSPITAL            670098    TX   \n",
      "70590               RESOLUTE HEALTH HOSPITAL            670098    TX   \n",
      "70591               RESOLUTE HEALTH HOSPITAL            670098    TX   \n",
      "70592               RESOLUTE HEALTH HOSPITAL            670098    TX   \n",
      "70593               RESOLUTE HEALTH HOSPITAL            670098    TX   \n",
      "70594               RESOLUTE HEALTH HOSPITAL            670098    TX   \n",
      "70595               RESOLUTE HEALTH HOSPITAL            670098    TX   \n",
      "70596               RESOLUTE HEALTH HOSPITAL            670098    TX   \n",
      "70597               RESOLUTE HEALTH HOSPITAL            670098    TX   \n",
      "\n",
      "                                                  Period  \\\n",
      "0          1 to 3 days Prior to Index Hospital Admission   \n",
      "1          1 to 3 days Prior to Index Hospital Admission   \n",
      "2          1 to 3 days Prior to Index Hospital Admission   \n",
      "3          1 to 3 days Prior to Index Hospital Admission   \n",
      "4          1 to 3 days Prior to Index Hospital Admission   \n",
      "5          1 to 3 days Prior to Index Hospital Admission   \n",
      "6          1 to 3 days Prior to Index Hospital Admission   \n",
      "7                        During Index Hospital Admission   \n",
      "8                        During Index Hospital Admission   \n",
      "9                        During Index Hospital Admission   \n",
      "10                       During Index Hospital Admission   \n",
      "11                       During Index Hospital Admission   \n",
      "12                       During Index Hospital Admission   \n",
      "13                       During Index Hospital Admission   \n",
      "14     1 through 30 days After Discharge from Index H...   \n",
      "15     1 through 30 days After Discharge from Index H...   \n",
      "16     1 through 30 days After Discharge from Index H...   \n",
      "17     1 through 30 days After Discharge from Index H...   \n",
      "18     1 through 30 days After Discharge from Index H...   \n",
      "19     1 through 30 days After Discharge from Index H...   \n",
      "20     1 through 30 days After Discharge from Index H...   \n",
      "21                                      Complete Episode   \n",
      "22         1 to 3 days Prior to Index Hospital Admission   \n",
      "23         1 to 3 days Prior to Index Hospital Admission   \n",
      "24         1 to 3 days Prior to Index Hospital Admission   \n",
      "25         1 to 3 days Prior to Index Hospital Admission   \n",
      "26         1 to 3 days Prior to Index Hospital Admission   \n",
      "27         1 to 3 days Prior to Index Hospital Admission   \n",
      "28         1 to 3 days Prior to Index Hospital Admission   \n",
      "29                       During Index Hospital Admission   \n",
      "...                                                  ...   \n",
      "70568  1 through 30 days After Discharge from Index H...   \n",
      "70569  1 through 30 days After Discharge from Index H...   \n",
      "70570  1 through 30 days After Discharge from Index H...   \n",
      "70571  1 through 30 days After Discharge from Index H...   \n",
      "70572  1 through 30 days After Discharge from Index H...   \n",
      "70573  1 through 30 days After Discharge from Index H...   \n",
      "70574  1 through 30 days After Discharge from Index H...   \n",
      "70575                                   Complete Episode   \n",
      "70576      1 to 3 days Prior to Index Hospital Admission   \n",
      "70577      1 to 3 days Prior to Index Hospital Admission   \n",
      "70578      1 to 3 days Prior to Index Hospital Admission   \n",
      "70579      1 to 3 days Prior to Index Hospital Admission   \n",
      "70580      1 to 3 days Prior to Index Hospital Admission   \n",
      "70581      1 to 3 days Prior to Index Hospital Admission   \n",
      "70582      1 to 3 days Prior to Index Hospital Admission   \n",
      "70583                    During Index Hospital Admission   \n",
      "70584                    During Index Hospital Admission   \n",
      "70585                    During Index Hospital Admission   \n",
      "70586                    During Index Hospital Admission   \n",
      "70587                    During Index Hospital Admission   \n",
      "70588                    During Index Hospital Admission   \n",
      "70589                    During Index Hospital Admission   \n",
      "70590  1 through 30 days After Discharge from Index H...   \n",
      "70591  1 through 30 days After Discharge from Index H...   \n",
      "70592  1 through 30 days After Discharge from Index H...   \n",
      "70593  1 through 30 days After Discharge from Index H...   \n",
      "70594  1 through 30 days After Discharge from Index H...   \n",
      "70595  1 through 30 days After Discharge from Index H...   \n",
      "70596  1 through 30 days After Discharge from Index H...   \n",
      "70597                                   Complete Episode   \n",
      "\n",
      "                      Claim Type Avg Spending Hospital Avg Spending State  \\\n",
      "0             Home Health Agency                    12                 14   \n",
      "1                        Hospice                     1                  1   \n",
      "2                      Inpatient                     6                  6   \n",
      "3                     Outpatient                   160                 85   \n",
      "4       Skilled Nursing Facility                     1                  2   \n",
      "5      Durable Medical Equipment                     6                  9   \n",
      "6                        Carrier                   462                492   \n",
      "7             Home Health Agency                     0                  0   \n",
      "8                        Hospice                     0                  0   \n",
      "9                      Inpatient                  8981               8723   \n",
      "10                    Outpatient                     0                  0   \n",
      "11      Skilled Nursing Facility                     0                  0   \n",
      "12     Durable Medical Equipment                    27                 32   \n",
      "13                       Carrier                  1587               1435   \n",
      "14            Home Health Agency                   988                898   \n",
      "15                       Hospice                   137                141   \n",
      "16                     Inpatient                  2943               2607   \n",
      "17                    Outpatient                   654                596   \n",
      "18      Skilled Nursing Facility                  1946               2437   \n",
      "19     Durable Medical Equipment                   141                124   \n",
      "20                       Carrier                   974                995   \n",
      "21                         Total                 19025              18597   \n",
      "22            Home Health Agency                    19                 14   \n",
      "23                       Hospice                     0                  1   \n",
      "24                     Inpatient                     0                  6   \n",
      "25                    Outpatient                    91                 85   \n",
      "26      Skilled Nursing Facility                     1                  2   \n",
      "27     Durable Medical Equipment                     6                  9   \n",
      "28                       Carrier                   446                492   \n",
      "29            Home Health Agency                     0                  0   \n",
      "...                          ...                   ...                ...   \n",
      "70568         Home Health Agency                   615                858   \n",
      "70569                    Hospice                    25                145   \n",
      "70570                  Inpatient                  5390               3975   \n",
      "70571                 Outpatient                   443                710   \n",
      "70572   Skilled Nursing Facility                  2395               2903   \n",
      "70573  Durable Medical Equipment                    83                114   \n",
      "70574                    Carrier                  1428               1231   \n",
      "70575                      Total                 20058              21484   \n",
      "70576         Home Health Agency                     0                 23   \n",
      "70577                    Hospice                     0                  1   \n",
      "70578                  Inpatient                     0                  5   \n",
      "70579                 Outpatient                    89                122   \n",
      "70580   Skilled Nursing Facility                     0                  3   \n",
      "70581  Durable Medical Equipment                     0                  9   \n",
      "70582                    Carrier                   565                585   \n",
      "70583         Home Health Agency                     0                  0   \n",
      "70584                    Hospice                     0                  0   \n",
      "70585                  Inpatient                  5693               9227   \n",
      "70586                 Outpatient                     0                  0   \n",
      "70587   Skilled Nursing Facility                     0                  0   \n",
      "70588  Durable Medical Equipment                    11                 30   \n",
      "70589                    Carrier                   581               1543   \n",
      "70590         Home Health Agency                  1305                858   \n",
      "70591                    Hospice                     0                145   \n",
      "70592                  Inpatient                  2738               3975   \n",
      "70593                 Outpatient                   817                710   \n",
      "70594   Skilled Nursing Facility                  4539               2903   \n",
      "70595  Durable Medical Equipment                    61                114   \n",
      "70596                    Carrier                  1168               1231   \n",
      "70597                      Total                 17568              21484   \n",
      "\n",
      "      Avg Spending Nation Percent Spending Hospital Percent Spending State  \\\n",
      "0                      13                      0.06                   0.07   \n",
      "1                       1                      0.01                   0.01   \n",
      "2                       5                      0.03                   0.03   \n",
      "3                     117                      0.84                   0.46   \n",
      "4                       2                      0.01                   0.01   \n",
      "5                       9                      0.03                   0.05   \n",
      "6                     532                      2.43                   2.65   \n",
      "7                       0                         0                      0   \n",
      "8                       0                         0                      0   \n",
      "9                    9108                     47.21                  46.91   \n",
      "10                      0                         0                      0   \n",
      "11                      0                         0                      0   \n",
      "12                     24                      0.14                   0.17   \n",
      "13                   1514                      8.34                   7.71   \n",
      "14                    771                       5.2                   4.83   \n",
      "15                    118                      0.72                   0.76   \n",
      "16                   2665                     15.47                  14.02   \n",
      "17                    710                      3.44                    3.2   \n",
      "18                   3251                     10.23                   13.1   \n",
      "19                    101                      0.74                   0.67   \n",
      "20                   1083                      5.12                   5.35   \n",
      "21                  20025                       100                    100   \n",
      "22                     13                      0.12                   0.07   \n",
      "23                      1                         0                   0.01   \n",
      "24                      5                         0                   0.03   \n",
      "25                    117                      0.55                   0.46   \n",
      "26                      2                         0                   0.01   \n",
      "27                      9                      0.03                   0.05   \n",
      "28                    532                      2.69                   2.65   \n",
      "29                      0                         0                      0   \n",
      "...                   ...                       ...                    ...   \n",
      "70568                 771                      3.07                   3.99   \n",
      "70569                 118                      0.12                   0.67   \n",
      "70570                2665                     26.87                   18.5   \n",
      "70571                 710                      2.21                   3.31   \n",
      "70572                3251                     11.94                  13.51   \n",
      "70573                 101                      0.41                   0.53   \n",
      "70574                1083                      7.12                   5.73   \n",
      "70575               20025                       100                    100   \n",
      "70576                  13                         0                   0.11   \n",
      "70577                   1                         0                   0.01   \n",
      "70578                   5                         0                   0.02   \n",
      "70579                 117                      0.51                   0.57   \n",
      "70580                   2                         0                   0.01   \n",
      "70581                   9                         0                   0.04   \n",
      "70582                 532                      3.22                   2.72   \n",
      "70583                   0                         0                      0   \n",
      "70584                   0                         0                      0   \n",
      "70585                9108                     32.41                  42.95   \n",
      "70586                   0                         0                      0   \n",
      "70587                   0                         0                      0   \n",
      "70588                  24                      0.06                   0.14   \n",
      "70589                1514                      3.31                   7.18   \n",
      "70590                 771                      7.43                   3.99   \n",
      "70591                 118                         0                   0.67   \n",
      "70592                2665                     15.59                   18.5   \n",
      "70593                 710                      4.65                   3.31   \n",
      "70594                3251                     25.83                  13.51   \n",
      "70595                 101                      0.35                   0.53   \n",
      "70596                1083                      6.65                   5.73   \n",
      "70597               20025                       100                    100   \n",
      "\n",
      "      Percent Spending Nation  \n",
      "0                        0.07  \n",
      "1                           0  \n",
      "2                        0.03  \n",
      "3                        0.58  \n",
      "4                        0.01  \n",
      "5                        0.04  \n",
      "6                        2.66  \n",
      "7                           0  \n",
      "8                           0  \n",
      "9                       45.48  \n",
      "10                          0  \n",
      "11                          0  \n",
      "12                       0.12  \n",
      "13                       7.56  \n",
      "14                       3.85  \n",
      "15                       0.59  \n",
      "16                      13.31  \n",
      "17                       3.54  \n",
      "18                      16.23  \n",
      "19                        0.5  \n",
      "20                       5.41  \n",
      "21                        100  \n",
      "22                       0.07  \n",
      "23                          0  \n",
      "24                       0.03  \n",
      "25                       0.58  \n",
      "26                       0.01  \n",
      "27                       0.04  \n",
      "28                       2.66  \n",
      "29                          0  \n",
      "...                       ...  \n",
      "70568                    3.85  \n",
      "70569                    0.59  \n",
      "70570                   13.31  \n",
      "70571                    3.54  \n",
      "70572                   16.23  \n",
      "70573                     0.5  \n",
      "70574                    5.41  \n",
      "70575                     100  \n",
      "70576                    0.07  \n",
      "70577                       0  \n",
      "70578                    0.03  \n",
      "70579                    0.58  \n",
      "70580                    0.01  \n",
      "70581                    0.04  \n",
      "70582                    2.66  \n",
      "70583                       0  \n",
      "70584                       0  \n",
      "70585                   45.48  \n",
      "70586                       0  \n",
      "70587                       0  \n",
      "70588                    0.12  \n",
      "70589                    7.56  \n",
      "70590                    3.85  \n",
      "70591                    0.59  \n",
      "70592                   13.31  \n",
      "70593                    3.54  \n",
      "70594                   16.23  \n",
      "70595                     0.5  \n",
      "70596                    5.41  \n",
      "70597                     100  \n",
      "\n",
      "[70598 rows x 11 columns]\n"
     ]
    }
   ],
   "source": [
    "print(df)"
   ]
  },
  {
   "cell_type": "markdown",
   "metadata": {},
   "source": [
    "###### 42) Continuing with data from above, convert the dataframe content to be the right \"data type\" (i.e., int, float, etc) in order to perform statistical calculations for the DataFrame. Provide your code and the resulting new print out as the answer. \n",
    "Hint convert the columns with % and $"
   ]
  },
  {
   "cell_type": "code",
   "execution_count": 348,
   "metadata": {
    "collapsed": true
   },
   "outputs": [],
   "source": [
    "df['Avg Spending Hospital'] = df['Avg Spending Hospital'].str.replace('$', '')"
   ]
  },
  {
   "cell_type": "code",
   "execution_count": 349,
   "metadata": {},
   "outputs": [
    {
     "name": "stdout",
     "output_type": "stream",
     "text": [
      "                                    Hospital  Provider Number  State  \\\n",
      "0           SOUTHEAST ALABAMA MEDICAL CENTER             10001    AL   \n",
      "1           SOUTHEAST ALABAMA MEDICAL CENTER             10001    AL   \n",
      "2           SOUTHEAST ALABAMA MEDICAL CENTER             10001    AL   \n",
      "3           SOUTHEAST ALABAMA MEDICAL CENTER             10001    AL   \n",
      "4           SOUTHEAST ALABAMA MEDICAL CENTER             10001    AL   \n",
      "5           SOUTHEAST ALABAMA MEDICAL CENTER             10001    AL   \n",
      "6           SOUTHEAST ALABAMA MEDICAL CENTER             10001    AL   \n",
      "7           SOUTHEAST ALABAMA MEDICAL CENTER             10001    AL   \n",
      "8           SOUTHEAST ALABAMA MEDICAL CENTER             10001    AL   \n",
      "9           SOUTHEAST ALABAMA MEDICAL CENTER             10001    AL   \n",
      "10          SOUTHEAST ALABAMA MEDICAL CENTER             10001    AL   \n",
      "11          SOUTHEAST ALABAMA MEDICAL CENTER             10001    AL   \n",
      "12          SOUTHEAST ALABAMA MEDICAL CENTER             10001    AL   \n",
      "13          SOUTHEAST ALABAMA MEDICAL CENTER             10001    AL   \n",
      "14          SOUTHEAST ALABAMA MEDICAL CENTER             10001    AL   \n",
      "15          SOUTHEAST ALABAMA MEDICAL CENTER             10001    AL   \n",
      "16          SOUTHEAST ALABAMA MEDICAL CENTER             10001    AL   \n",
      "17          SOUTHEAST ALABAMA MEDICAL CENTER             10001    AL   \n",
      "18          SOUTHEAST ALABAMA MEDICAL CENTER             10001    AL   \n",
      "19          SOUTHEAST ALABAMA MEDICAL CENTER             10001    AL   \n",
      "20          SOUTHEAST ALABAMA MEDICAL CENTER             10001    AL   \n",
      "21          SOUTHEAST ALABAMA MEDICAL CENTER             10001    AL   \n",
      "22                  MARSHALL MEDICAL CENTERS             10005    AL   \n",
      "23                  MARSHALL MEDICAL CENTERS             10005    AL   \n",
      "24                  MARSHALL MEDICAL CENTERS             10005    AL   \n",
      "25                  MARSHALL MEDICAL CENTERS             10005    AL   \n",
      "26                  MARSHALL MEDICAL CENTERS             10005    AL   \n",
      "27                  MARSHALL MEDICAL CENTERS             10005    AL   \n",
      "28                  MARSHALL MEDICAL CENTERS             10005    AL   \n",
      "29                  MARSHALL MEDICAL CENTERS             10005    AL   \n",
      "...                                      ...               ...   ...   \n",
      "70568  BAY AREA REGIONAL MEDICAL CENTER, LLC            670096    TX   \n",
      "70569  BAY AREA REGIONAL MEDICAL CENTER, LLC            670096    TX   \n",
      "70570  BAY AREA REGIONAL MEDICAL CENTER, LLC            670096    TX   \n",
      "70571  BAY AREA REGIONAL MEDICAL CENTER, LLC            670096    TX   \n",
      "70572  BAY AREA REGIONAL MEDICAL CENTER, LLC            670096    TX   \n",
      "70573  BAY AREA REGIONAL MEDICAL CENTER, LLC            670096    TX   \n",
      "70574  BAY AREA REGIONAL MEDICAL CENTER, LLC            670096    TX   \n",
      "70575  BAY AREA REGIONAL MEDICAL CENTER, LLC            670096    TX   \n",
      "70576               RESOLUTE HEALTH HOSPITAL            670098    TX   \n",
      "70577               RESOLUTE HEALTH HOSPITAL            670098    TX   \n",
      "70578               RESOLUTE HEALTH HOSPITAL            670098    TX   \n",
      "70579               RESOLUTE HEALTH HOSPITAL            670098    TX   \n",
      "70580               RESOLUTE HEALTH HOSPITAL            670098    TX   \n",
      "70581               RESOLUTE HEALTH HOSPITAL            670098    TX   \n",
      "70582               RESOLUTE HEALTH HOSPITAL            670098    TX   \n",
      "70583               RESOLUTE HEALTH HOSPITAL            670098    TX   \n",
      "70584               RESOLUTE HEALTH HOSPITAL            670098    TX   \n",
      "70585               RESOLUTE HEALTH HOSPITAL            670098    TX   \n",
      "70586               RESOLUTE HEALTH HOSPITAL            670098    TX   \n",
      "70587               RESOLUTE HEALTH HOSPITAL            670098    TX   \n",
      "70588               RESOLUTE HEALTH HOSPITAL            670098    TX   \n",
      "70589               RESOLUTE HEALTH HOSPITAL            670098    TX   \n",
      "70590               RESOLUTE HEALTH HOSPITAL            670098    TX   \n",
      "70591               RESOLUTE HEALTH HOSPITAL            670098    TX   \n",
      "70592               RESOLUTE HEALTH HOSPITAL            670098    TX   \n",
      "70593               RESOLUTE HEALTH HOSPITAL            670098    TX   \n",
      "70594               RESOLUTE HEALTH HOSPITAL            670098    TX   \n",
      "70595               RESOLUTE HEALTH HOSPITAL            670098    TX   \n",
      "70596               RESOLUTE HEALTH HOSPITAL            670098    TX   \n",
      "70597               RESOLUTE HEALTH HOSPITAL            670098    TX   \n",
      "\n",
      "                                                  Period  \\\n",
      "0          1 to 3 days Prior to Index Hospital Admission   \n",
      "1          1 to 3 days Prior to Index Hospital Admission   \n",
      "2          1 to 3 days Prior to Index Hospital Admission   \n",
      "3          1 to 3 days Prior to Index Hospital Admission   \n",
      "4          1 to 3 days Prior to Index Hospital Admission   \n",
      "5          1 to 3 days Prior to Index Hospital Admission   \n",
      "6          1 to 3 days Prior to Index Hospital Admission   \n",
      "7                        During Index Hospital Admission   \n",
      "8                        During Index Hospital Admission   \n",
      "9                        During Index Hospital Admission   \n",
      "10                       During Index Hospital Admission   \n",
      "11                       During Index Hospital Admission   \n",
      "12                       During Index Hospital Admission   \n",
      "13                       During Index Hospital Admission   \n",
      "14     1 through 30 days After Discharge from Index H...   \n",
      "15     1 through 30 days After Discharge from Index H...   \n",
      "16     1 through 30 days After Discharge from Index H...   \n",
      "17     1 through 30 days After Discharge from Index H...   \n",
      "18     1 through 30 days After Discharge from Index H...   \n",
      "19     1 through 30 days After Discharge from Index H...   \n",
      "20     1 through 30 days After Discharge from Index H...   \n",
      "21                                      Complete Episode   \n",
      "22         1 to 3 days Prior to Index Hospital Admission   \n",
      "23         1 to 3 days Prior to Index Hospital Admission   \n",
      "24         1 to 3 days Prior to Index Hospital Admission   \n",
      "25         1 to 3 days Prior to Index Hospital Admission   \n",
      "26         1 to 3 days Prior to Index Hospital Admission   \n",
      "27         1 to 3 days Prior to Index Hospital Admission   \n",
      "28         1 to 3 days Prior to Index Hospital Admission   \n",
      "29                       During Index Hospital Admission   \n",
      "...                                                  ...   \n",
      "70568  1 through 30 days After Discharge from Index H...   \n",
      "70569  1 through 30 days After Discharge from Index H...   \n",
      "70570  1 through 30 days After Discharge from Index H...   \n",
      "70571  1 through 30 days After Discharge from Index H...   \n",
      "70572  1 through 30 days After Discharge from Index H...   \n",
      "70573  1 through 30 days After Discharge from Index H...   \n",
      "70574  1 through 30 days After Discharge from Index H...   \n",
      "70575                                   Complete Episode   \n",
      "70576      1 to 3 days Prior to Index Hospital Admission   \n",
      "70577      1 to 3 days Prior to Index Hospital Admission   \n",
      "70578      1 to 3 days Prior to Index Hospital Admission   \n",
      "70579      1 to 3 days Prior to Index Hospital Admission   \n",
      "70580      1 to 3 days Prior to Index Hospital Admission   \n",
      "70581      1 to 3 days Prior to Index Hospital Admission   \n",
      "70582      1 to 3 days Prior to Index Hospital Admission   \n",
      "70583                    During Index Hospital Admission   \n",
      "70584                    During Index Hospital Admission   \n",
      "70585                    During Index Hospital Admission   \n",
      "70586                    During Index Hospital Admission   \n",
      "70587                    During Index Hospital Admission   \n",
      "70588                    During Index Hospital Admission   \n",
      "70589                    During Index Hospital Admission   \n",
      "70590  1 through 30 days After Discharge from Index H...   \n",
      "70591  1 through 30 days After Discharge from Index H...   \n",
      "70592  1 through 30 days After Discharge from Index H...   \n",
      "70593  1 through 30 days After Discharge from Index H...   \n",
      "70594  1 through 30 days After Discharge from Index H...   \n",
      "70595  1 through 30 days After Discharge from Index H...   \n",
      "70596  1 through 30 days After Discharge from Index H...   \n",
      "70597                                   Complete Episode   \n",
      "\n",
      "                      Claim Type Avg Spending Hospital Avg Spending State  \\\n",
      "0             Home Health Agency                    12                $14   \n",
      "1                        Hospice                     1                 $1   \n",
      "2                      Inpatient                     6                 $6   \n",
      "3                     Outpatient                   160                $85   \n",
      "4       Skilled Nursing Facility                     1                 $2   \n",
      "5      Durable Medical Equipment                     6                 $9   \n",
      "6                        Carrier                   462               $492   \n",
      "7             Home Health Agency                     0                 $0   \n",
      "8                        Hospice                     0                 $0   \n",
      "9                      Inpatient                  8981              $8723   \n",
      "10                    Outpatient                     0                 $0   \n",
      "11      Skilled Nursing Facility                     0                 $0   \n",
      "12     Durable Medical Equipment                    27                $32   \n",
      "13                       Carrier                  1587              $1435   \n",
      "14            Home Health Agency                   988               $898   \n",
      "15                       Hospice                   137               $141   \n",
      "16                     Inpatient                  2943              $2607   \n",
      "17                    Outpatient                   654               $596   \n",
      "18      Skilled Nursing Facility                  1946              $2437   \n",
      "19     Durable Medical Equipment                   141               $124   \n",
      "20                       Carrier                   974               $995   \n",
      "21                         Total                 19025             $18597   \n",
      "22            Home Health Agency                    19                $14   \n",
      "23                       Hospice                     0                 $1   \n",
      "24                     Inpatient                     0                 $6   \n",
      "25                    Outpatient                    91                $85   \n",
      "26      Skilled Nursing Facility                     1                 $2   \n",
      "27     Durable Medical Equipment                     6                 $9   \n",
      "28                       Carrier                   446               $492   \n",
      "29            Home Health Agency                     0                 $0   \n",
      "...                          ...                   ...                ...   \n",
      "70568         Home Health Agency                   615               $858   \n",
      "70569                    Hospice                    25               $145   \n",
      "70570                  Inpatient                  5390              $3975   \n",
      "70571                 Outpatient                   443               $710   \n",
      "70572   Skilled Nursing Facility                  2395              $2903   \n",
      "70573  Durable Medical Equipment                    83               $114   \n",
      "70574                    Carrier                  1428              $1231   \n",
      "70575                      Total                 20058             $21484   \n",
      "70576         Home Health Agency                     0                $23   \n",
      "70577                    Hospice                     0                 $1   \n",
      "70578                  Inpatient                     0                 $5   \n",
      "70579                 Outpatient                    89               $122   \n",
      "70580   Skilled Nursing Facility                     0                 $3   \n",
      "70581  Durable Medical Equipment                     0                 $9   \n",
      "70582                    Carrier                   565               $585   \n",
      "70583         Home Health Agency                     0                 $0   \n",
      "70584                    Hospice                     0                 $0   \n",
      "70585                  Inpatient                  5693              $9227   \n",
      "70586                 Outpatient                     0                 $0   \n",
      "70587   Skilled Nursing Facility                     0                 $0   \n",
      "70588  Durable Medical Equipment                    11                $30   \n",
      "70589                    Carrier                   581              $1543   \n",
      "70590         Home Health Agency                  1305               $858   \n",
      "70591                    Hospice                     0               $145   \n",
      "70592                  Inpatient                  2738              $3975   \n",
      "70593                 Outpatient                   817               $710   \n",
      "70594   Skilled Nursing Facility                  4539              $2903   \n",
      "70595  Durable Medical Equipment                    61               $114   \n",
      "70596                    Carrier                  1168              $1231   \n",
      "70597                      Total                 17568             $21484   \n",
      "\n",
      "      Avg Spending Nation Percent Spending Hospital Percent Spending State  \\\n",
      "0                     $13                     0.06%                  0.07%   \n",
      "1                      $1                     0.01%                  0.01%   \n",
      "2                      $5                     0.03%                  0.03%   \n",
      "3                    $117                     0.84%                  0.46%   \n",
      "4                      $2                     0.01%                  0.01%   \n",
      "5                      $9                     0.03%                  0.05%   \n",
      "6                    $532                     2.43%                  2.65%   \n",
      "7                      $0                        0%                     0%   \n",
      "8                      $0                        0%                     0%   \n",
      "9                   $9108                    47.21%                 46.91%   \n",
      "10                     $0                        0%                     0%   \n",
      "11                     $0                        0%                     0%   \n",
      "12                    $24                     0.14%                  0.17%   \n",
      "13                  $1514                     8.34%                  7.71%   \n",
      "14                   $771                      5.2%                  4.83%   \n",
      "15                   $118                     0.72%                  0.76%   \n",
      "16                  $2665                    15.47%                 14.02%   \n",
      "17                   $710                     3.44%                   3.2%   \n",
      "18                  $3251                    10.23%                  13.1%   \n",
      "19                   $101                     0.74%                  0.67%   \n",
      "20                  $1083                     5.12%                  5.35%   \n",
      "21                 $20025                      100%                   100%   \n",
      "22                    $13                     0.12%                  0.07%   \n",
      "23                     $1                        0%                  0.01%   \n",
      "24                     $5                        0%                  0.03%   \n",
      "25                   $117                     0.55%                  0.46%   \n",
      "26                     $2                        0%                  0.01%   \n",
      "27                     $9                     0.03%                  0.05%   \n",
      "28                   $532                     2.69%                  2.65%   \n",
      "29                     $0                        0%                     0%   \n",
      "...                   ...                       ...                    ...   \n",
      "70568                $771                     3.07%                  3.99%   \n",
      "70569                $118                     0.12%                  0.67%   \n",
      "70570               $2665                    26.87%                  18.5%   \n",
      "70571                $710                     2.21%                  3.31%   \n",
      "70572               $3251                    11.94%                 13.51%   \n",
      "70573                $101                     0.41%                  0.53%   \n",
      "70574               $1083                     7.12%                  5.73%   \n",
      "70575              $20025                      100%                   100%   \n",
      "70576                 $13                        0%                  0.11%   \n",
      "70577                  $1                        0%                  0.01%   \n",
      "70578                  $5                        0%                  0.02%   \n",
      "70579                $117                     0.51%                  0.57%   \n",
      "70580                  $2                        0%                  0.01%   \n",
      "70581                  $9                        0%                  0.04%   \n",
      "70582                $532                     3.22%                  2.72%   \n",
      "70583                  $0                        0%                     0%   \n",
      "70584                  $0                        0%                     0%   \n",
      "70585               $9108                    32.41%                 42.95%   \n",
      "70586                  $0                        0%                     0%   \n",
      "70587                  $0                        0%                     0%   \n",
      "70588                 $24                     0.06%                  0.14%   \n",
      "70589               $1514                     3.31%                  7.18%   \n",
      "70590                $771                     7.43%                  3.99%   \n",
      "70591                $118                        0%                  0.67%   \n",
      "70592               $2665                    15.59%                  18.5%   \n",
      "70593                $710                     4.65%                  3.31%   \n",
      "70594               $3251                    25.83%                 13.51%   \n",
      "70595                $101                     0.35%                  0.53%   \n",
      "70596               $1083                     6.65%                  5.73%   \n",
      "70597              $20025                      100%                   100%   \n",
      "\n",
      "      Percent Spending Nation  \n",
      "0                       0.07%  \n",
      "1                          0%  \n",
      "2                       0.03%  \n",
      "3                       0.58%  \n",
      "4                       0.01%  \n",
      "5                       0.04%  \n",
      "6                       2.66%  \n",
      "7                          0%  \n",
      "8                          0%  \n",
      "9                      45.48%  \n",
      "10                         0%  \n",
      "11                         0%  \n",
      "12                      0.12%  \n",
      "13                      7.56%  \n",
      "14                      3.85%  \n",
      "15                      0.59%  \n",
      "16                     13.31%  \n",
      "17                      3.54%  \n",
      "18                     16.23%  \n",
      "19                       0.5%  \n",
      "20                      5.41%  \n",
      "21                       100%  \n",
      "22                      0.07%  \n",
      "23                         0%  \n",
      "24                      0.03%  \n",
      "25                      0.58%  \n",
      "26                      0.01%  \n",
      "27                      0.04%  \n",
      "28                      2.66%  \n",
      "29                         0%  \n",
      "...                       ...  \n",
      "70568                   3.85%  \n",
      "70569                   0.59%  \n",
      "70570                  13.31%  \n",
      "70571                   3.54%  \n",
      "70572                  16.23%  \n",
      "70573                    0.5%  \n",
      "70574                   5.41%  \n",
      "70575                    100%  \n",
      "70576                   0.07%  \n",
      "70577                      0%  \n",
      "70578                   0.03%  \n",
      "70579                   0.58%  \n",
      "70580                   0.01%  \n",
      "70581                   0.04%  \n",
      "70582                   2.66%  \n",
      "70583                      0%  \n",
      "70584                      0%  \n",
      "70585                  45.48%  \n",
      "70586                      0%  \n",
      "70587                      0%  \n",
      "70588                   0.12%  \n",
      "70589                   7.56%  \n",
      "70590                   3.85%  \n",
      "70591                   0.59%  \n",
      "70592                  13.31%  \n",
      "70593                   3.54%  \n",
      "70594                  16.23%  \n",
      "70595                    0.5%  \n",
      "70596                   5.41%  \n",
      "70597                    100%  \n",
      "\n",
      "[70598 rows x 11 columns]\n"
     ]
    }
   ],
   "source": [
    "print(df)"
   ]
  },
  {
   "cell_type": "code",
   "execution_count": 350,
   "metadata": {
    "collapsed": true
   },
   "outputs": [],
   "source": [
    "df['Avg Spending State'] = df['Avg Spending State'].str.replace('$', '')"
   ]
  },
  {
   "cell_type": "code",
   "execution_count": 351,
   "metadata": {
    "collapsed": true
   },
   "outputs": [],
   "source": [
    "df['Avg Spending Nation'] = df['Avg Spending Nation'].str.replace('$', '')"
   ]
  },
  {
   "cell_type": "code",
   "execution_count": 352,
   "metadata": {
    "collapsed": true
   },
   "outputs": [],
   "source": [
    "df['Percent Spending Hospital'] = df['Percent Spending Hospital'].str.replace('%', '')"
   ]
  },
  {
   "cell_type": "code",
   "execution_count": 353,
   "metadata": {
    "collapsed": true
   },
   "outputs": [],
   "source": [
    "df['Percent Spending State'] = df['Percent Spending State'].str.replace('%', '')"
   ]
  },
  {
   "cell_type": "code",
   "execution_count": 354,
   "metadata": {
    "collapsed": true
   },
   "outputs": [],
   "source": [
    "df['Percent Spending Nation'] = df['Percent Spending Nation'].str.replace('%', '')"
   ]
  },
  {
   "cell_type": "code",
   "execution_count": 355,
   "metadata": {},
   "outputs": [
    {
     "name": "stdout",
     "output_type": "stream",
     "text": [
      "                                    Hospital  Provider Number  State  \\\n",
      "0           SOUTHEAST ALABAMA MEDICAL CENTER             10001    AL   \n",
      "1           SOUTHEAST ALABAMA MEDICAL CENTER             10001    AL   \n",
      "2           SOUTHEAST ALABAMA MEDICAL CENTER             10001    AL   \n",
      "3           SOUTHEAST ALABAMA MEDICAL CENTER             10001    AL   \n",
      "4           SOUTHEAST ALABAMA MEDICAL CENTER             10001    AL   \n",
      "5           SOUTHEAST ALABAMA MEDICAL CENTER             10001    AL   \n",
      "6           SOUTHEAST ALABAMA MEDICAL CENTER             10001    AL   \n",
      "7           SOUTHEAST ALABAMA MEDICAL CENTER             10001    AL   \n",
      "8           SOUTHEAST ALABAMA MEDICAL CENTER             10001    AL   \n",
      "9           SOUTHEAST ALABAMA MEDICAL CENTER             10001    AL   \n",
      "10          SOUTHEAST ALABAMA MEDICAL CENTER             10001    AL   \n",
      "11          SOUTHEAST ALABAMA MEDICAL CENTER             10001    AL   \n",
      "12          SOUTHEAST ALABAMA MEDICAL CENTER             10001    AL   \n",
      "13          SOUTHEAST ALABAMA MEDICAL CENTER             10001    AL   \n",
      "14          SOUTHEAST ALABAMA MEDICAL CENTER             10001    AL   \n",
      "15          SOUTHEAST ALABAMA MEDICAL CENTER             10001    AL   \n",
      "16          SOUTHEAST ALABAMA MEDICAL CENTER             10001    AL   \n",
      "17          SOUTHEAST ALABAMA MEDICAL CENTER             10001    AL   \n",
      "18          SOUTHEAST ALABAMA MEDICAL CENTER             10001    AL   \n",
      "19          SOUTHEAST ALABAMA MEDICAL CENTER             10001    AL   \n",
      "20          SOUTHEAST ALABAMA MEDICAL CENTER             10001    AL   \n",
      "21          SOUTHEAST ALABAMA MEDICAL CENTER             10001    AL   \n",
      "22                  MARSHALL MEDICAL CENTERS             10005    AL   \n",
      "23                  MARSHALL MEDICAL CENTERS             10005    AL   \n",
      "24                  MARSHALL MEDICAL CENTERS             10005    AL   \n",
      "25                  MARSHALL MEDICAL CENTERS             10005    AL   \n",
      "26                  MARSHALL MEDICAL CENTERS             10005    AL   \n",
      "27                  MARSHALL MEDICAL CENTERS             10005    AL   \n",
      "28                  MARSHALL MEDICAL CENTERS             10005    AL   \n",
      "29                  MARSHALL MEDICAL CENTERS             10005    AL   \n",
      "...                                      ...               ...   ...   \n",
      "70568  BAY AREA REGIONAL MEDICAL CENTER, LLC            670096    TX   \n",
      "70569  BAY AREA REGIONAL MEDICAL CENTER, LLC            670096    TX   \n",
      "70570  BAY AREA REGIONAL MEDICAL CENTER, LLC            670096    TX   \n",
      "70571  BAY AREA REGIONAL MEDICAL CENTER, LLC            670096    TX   \n",
      "70572  BAY AREA REGIONAL MEDICAL CENTER, LLC            670096    TX   \n",
      "70573  BAY AREA REGIONAL MEDICAL CENTER, LLC            670096    TX   \n",
      "70574  BAY AREA REGIONAL MEDICAL CENTER, LLC            670096    TX   \n",
      "70575  BAY AREA REGIONAL MEDICAL CENTER, LLC            670096    TX   \n",
      "70576               RESOLUTE HEALTH HOSPITAL            670098    TX   \n",
      "70577               RESOLUTE HEALTH HOSPITAL            670098    TX   \n",
      "70578               RESOLUTE HEALTH HOSPITAL            670098    TX   \n",
      "70579               RESOLUTE HEALTH HOSPITAL            670098    TX   \n",
      "70580               RESOLUTE HEALTH HOSPITAL            670098    TX   \n",
      "70581               RESOLUTE HEALTH HOSPITAL            670098    TX   \n",
      "70582               RESOLUTE HEALTH HOSPITAL            670098    TX   \n",
      "70583               RESOLUTE HEALTH HOSPITAL            670098    TX   \n",
      "70584               RESOLUTE HEALTH HOSPITAL            670098    TX   \n",
      "70585               RESOLUTE HEALTH HOSPITAL            670098    TX   \n",
      "70586               RESOLUTE HEALTH HOSPITAL            670098    TX   \n",
      "70587               RESOLUTE HEALTH HOSPITAL            670098    TX   \n",
      "70588               RESOLUTE HEALTH HOSPITAL            670098    TX   \n",
      "70589               RESOLUTE HEALTH HOSPITAL            670098    TX   \n",
      "70590               RESOLUTE HEALTH HOSPITAL            670098    TX   \n",
      "70591               RESOLUTE HEALTH HOSPITAL            670098    TX   \n",
      "70592               RESOLUTE HEALTH HOSPITAL            670098    TX   \n",
      "70593               RESOLUTE HEALTH HOSPITAL            670098    TX   \n",
      "70594               RESOLUTE HEALTH HOSPITAL            670098    TX   \n",
      "70595               RESOLUTE HEALTH HOSPITAL            670098    TX   \n",
      "70596               RESOLUTE HEALTH HOSPITAL            670098    TX   \n",
      "70597               RESOLUTE HEALTH HOSPITAL            670098    TX   \n",
      "\n",
      "                                                  Period  \\\n",
      "0          1 to 3 days Prior to Index Hospital Admission   \n",
      "1          1 to 3 days Prior to Index Hospital Admission   \n",
      "2          1 to 3 days Prior to Index Hospital Admission   \n",
      "3          1 to 3 days Prior to Index Hospital Admission   \n",
      "4          1 to 3 days Prior to Index Hospital Admission   \n",
      "5          1 to 3 days Prior to Index Hospital Admission   \n",
      "6          1 to 3 days Prior to Index Hospital Admission   \n",
      "7                        During Index Hospital Admission   \n",
      "8                        During Index Hospital Admission   \n",
      "9                        During Index Hospital Admission   \n",
      "10                       During Index Hospital Admission   \n",
      "11                       During Index Hospital Admission   \n",
      "12                       During Index Hospital Admission   \n",
      "13                       During Index Hospital Admission   \n",
      "14     1 through 30 days After Discharge from Index H...   \n",
      "15     1 through 30 days After Discharge from Index H...   \n",
      "16     1 through 30 days After Discharge from Index H...   \n",
      "17     1 through 30 days After Discharge from Index H...   \n",
      "18     1 through 30 days After Discharge from Index H...   \n",
      "19     1 through 30 days After Discharge from Index H...   \n",
      "20     1 through 30 days After Discharge from Index H...   \n",
      "21                                      Complete Episode   \n",
      "22         1 to 3 days Prior to Index Hospital Admission   \n",
      "23         1 to 3 days Prior to Index Hospital Admission   \n",
      "24         1 to 3 days Prior to Index Hospital Admission   \n",
      "25         1 to 3 days Prior to Index Hospital Admission   \n",
      "26         1 to 3 days Prior to Index Hospital Admission   \n",
      "27         1 to 3 days Prior to Index Hospital Admission   \n",
      "28         1 to 3 days Prior to Index Hospital Admission   \n",
      "29                       During Index Hospital Admission   \n",
      "...                                                  ...   \n",
      "70568  1 through 30 days After Discharge from Index H...   \n",
      "70569  1 through 30 days After Discharge from Index H...   \n",
      "70570  1 through 30 days After Discharge from Index H...   \n",
      "70571  1 through 30 days After Discharge from Index H...   \n",
      "70572  1 through 30 days After Discharge from Index H...   \n",
      "70573  1 through 30 days After Discharge from Index H...   \n",
      "70574  1 through 30 days After Discharge from Index H...   \n",
      "70575                                   Complete Episode   \n",
      "70576      1 to 3 days Prior to Index Hospital Admission   \n",
      "70577      1 to 3 days Prior to Index Hospital Admission   \n",
      "70578      1 to 3 days Prior to Index Hospital Admission   \n",
      "70579      1 to 3 days Prior to Index Hospital Admission   \n",
      "70580      1 to 3 days Prior to Index Hospital Admission   \n",
      "70581      1 to 3 days Prior to Index Hospital Admission   \n",
      "70582      1 to 3 days Prior to Index Hospital Admission   \n",
      "70583                    During Index Hospital Admission   \n",
      "70584                    During Index Hospital Admission   \n",
      "70585                    During Index Hospital Admission   \n",
      "70586                    During Index Hospital Admission   \n",
      "70587                    During Index Hospital Admission   \n",
      "70588                    During Index Hospital Admission   \n",
      "70589                    During Index Hospital Admission   \n",
      "70590  1 through 30 days After Discharge from Index H...   \n",
      "70591  1 through 30 days After Discharge from Index H...   \n",
      "70592  1 through 30 days After Discharge from Index H...   \n",
      "70593  1 through 30 days After Discharge from Index H...   \n",
      "70594  1 through 30 days After Discharge from Index H...   \n",
      "70595  1 through 30 days After Discharge from Index H...   \n",
      "70596  1 through 30 days After Discharge from Index H...   \n",
      "70597                                   Complete Episode   \n",
      "\n",
      "                      Claim Type Avg Spending Hospital Avg Spending State  \\\n",
      "0             Home Health Agency                    12                 14   \n",
      "1                        Hospice                     1                  1   \n",
      "2                      Inpatient                     6                  6   \n",
      "3                     Outpatient                   160                 85   \n",
      "4       Skilled Nursing Facility                     1                  2   \n",
      "5      Durable Medical Equipment                     6                  9   \n",
      "6                        Carrier                   462                492   \n",
      "7             Home Health Agency                     0                  0   \n",
      "8                        Hospice                     0                  0   \n",
      "9                      Inpatient                  8981               8723   \n",
      "10                    Outpatient                     0                  0   \n",
      "11      Skilled Nursing Facility                     0                  0   \n",
      "12     Durable Medical Equipment                    27                 32   \n",
      "13                       Carrier                  1587               1435   \n",
      "14            Home Health Agency                   988                898   \n",
      "15                       Hospice                   137                141   \n",
      "16                     Inpatient                  2943               2607   \n",
      "17                    Outpatient                   654                596   \n",
      "18      Skilled Nursing Facility                  1946               2437   \n",
      "19     Durable Medical Equipment                   141                124   \n",
      "20                       Carrier                   974                995   \n",
      "21                         Total                 19025              18597   \n",
      "22            Home Health Agency                    19                 14   \n",
      "23                       Hospice                     0                  1   \n",
      "24                     Inpatient                     0                  6   \n",
      "25                    Outpatient                    91                 85   \n",
      "26      Skilled Nursing Facility                     1                  2   \n",
      "27     Durable Medical Equipment                     6                  9   \n",
      "28                       Carrier                   446                492   \n",
      "29            Home Health Agency                     0                  0   \n",
      "...                          ...                   ...                ...   \n",
      "70568         Home Health Agency                   615                858   \n",
      "70569                    Hospice                    25                145   \n",
      "70570                  Inpatient                  5390               3975   \n",
      "70571                 Outpatient                   443                710   \n",
      "70572   Skilled Nursing Facility                  2395               2903   \n",
      "70573  Durable Medical Equipment                    83                114   \n",
      "70574                    Carrier                  1428               1231   \n",
      "70575                      Total                 20058              21484   \n",
      "70576         Home Health Agency                     0                 23   \n",
      "70577                    Hospice                     0                  1   \n",
      "70578                  Inpatient                     0                  5   \n",
      "70579                 Outpatient                    89                122   \n",
      "70580   Skilled Nursing Facility                     0                  3   \n",
      "70581  Durable Medical Equipment                     0                  9   \n",
      "70582                    Carrier                   565                585   \n",
      "70583         Home Health Agency                     0                  0   \n",
      "70584                    Hospice                     0                  0   \n",
      "70585                  Inpatient                  5693               9227   \n",
      "70586                 Outpatient                     0                  0   \n",
      "70587   Skilled Nursing Facility                     0                  0   \n",
      "70588  Durable Medical Equipment                    11                 30   \n",
      "70589                    Carrier                   581               1543   \n",
      "70590         Home Health Agency                  1305                858   \n",
      "70591                    Hospice                     0                145   \n",
      "70592                  Inpatient                  2738               3975   \n",
      "70593                 Outpatient                   817                710   \n",
      "70594   Skilled Nursing Facility                  4539               2903   \n",
      "70595  Durable Medical Equipment                    61                114   \n",
      "70596                    Carrier                  1168               1231   \n",
      "70597                      Total                 17568              21484   \n",
      "\n",
      "      Avg Spending Nation Percent Spending Hospital Percent Spending State  \\\n",
      "0                      13                      0.06                   0.07   \n",
      "1                       1                      0.01                   0.01   \n",
      "2                       5                      0.03                   0.03   \n",
      "3                     117                      0.84                   0.46   \n",
      "4                       2                      0.01                   0.01   \n",
      "5                       9                      0.03                   0.05   \n",
      "6                     532                      2.43                   2.65   \n",
      "7                       0                         0                      0   \n",
      "8                       0                         0                      0   \n",
      "9                    9108                     47.21                  46.91   \n",
      "10                      0                         0                      0   \n",
      "11                      0                         0                      0   \n",
      "12                     24                      0.14                   0.17   \n",
      "13                   1514                      8.34                   7.71   \n",
      "14                    771                       5.2                   4.83   \n",
      "15                    118                      0.72                   0.76   \n",
      "16                   2665                     15.47                  14.02   \n",
      "17                    710                      3.44                    3.2   \n",
      "18                   3251                     10.23                   13.1   \n",
      "19                    101                      0.74                   0.67   \n",
      "20                   1083                      5.12                   5.35   \n",
      "21                  20025                       100                    100   \n",
      "22                     13                      0.12                   0.07   \n",
      "23                      1                         0                   0.01   \n",
      "24                      5                         0                   0.03   \n",
      "25                    117                      0.55                   0.46   \n",
      "26                      2                         0                   0.01   \n",
      "27                      9                      0.03                   0.05   \n",
      "28                    532                      2.69                   2.65   \n",
      "29                      0                         0                      0   \n",
      "...                   ...                       ...                    ...   \n",
      "70568                 771                      3.07                   3.99   \n",
      "70569                 118                      0.12                   0.67   \n",
      "70570                2665                     26.87                   18.5   \n",
      "70571                 710                      2.21                   3.31   \n",
      "70572                3251                     11.94                  13.51   \n",
      "70573                 101                      0.41                   0.53   \n",
      "70574                1083                      7.12                   5.73   \n",
      "70575               20025                       100                    100   \n",
      "70576                  13                         0                   0.11   \n",
      "70577                   1                         0                   0.01   \n",
      "70578                   5                         0                   0.02   \n",
      "70579                 117                      0.51                   0.57   \n",
      "70580                   2                         0                   0.01   \n",
      "70581                   9                         0                   0.04   \n",
      "70582                 532                      3.22                   2.72   \n",
      "70583                   0                         0                      0   \n",
      "70584                   0                         0                      0   \n",
      "70585                9108                     32.41                  42.95   \n",
      "70586                   0                         0                      0   \n",
      "70587                   0                         0                      0   \n",
      "70588                  24                      0.06                   0.14   \n",
      "70589                1514                      3.31                   7.18   \n",
      "70590                 771                      7.43                   3.99   \n",
      "70591                 118                         0                   0.67   \n",
      "70592                2665                     15.59                   18.5   \n",
      "70593                 710                      4.65                   3.31   \n",
      "70594                3251                     25.83                  13.51   \n",
      "70595                 101                      0.35                   0.53   \n",
      "70596                1083                      6.65                   5.73   \n",
      "70597               20025                       100                    100   \n",
      "\n",
      "      Percent Spending Nation  \n",
      "0                        0.07  \n",
      "1                           0  \n",
      "2                        0.03  \n",
      "3                        0.58  \n",
      "4                        0.01  \n",
      "5                        0.04  \n",
      "6                        2.66  \n",
      "7                           0  \n",
      "8                           0  \n",
      "9                       45.48  \n",
      "10                          0  \n",
      "11                          0  \n",
      "12                       0.12  \n",
      "13                       7.56  \n",
      "14                       3.85  \n",
      "15                       0.59  \n",
      "16                      13.31  \n",
      "17                       3.54  \n",
      "18                      16.23  \n",
      "19                        0.5  \n",
      "20                       5.41  \n",
      "21                        100  \n",
      "22                       0.07  \n",
      "23                          0  \n",
      "24                       0.03  \n",
      "25                       0.58  \n",
      "26                       0.01  \n",
      "27                       0.04  \n",
      "28                       2.66  \n",
      "29                          0  \n",
      "...                       ...  \n",
      "70568                    3.85  \n",
      "70569                    0.59  \n",
      "70570                   13.31  \n",
      "70571                    3.54  \n",
      "70572                   16.23  \n",
      "70573                     0.5  \n",
      "70574                    5.41  \n",
      "70575                     100  \n",
      "70576                    0.07  \n",
      "70577                       0  \n",
      "70578                    0.03  \n",
      "70579                    0.58  \n",
      "70580                    0.01  \n",
      "70581                    0.04  \n",
      "70582                    2.66  \n",
      "70583                       0  \n",
      "70584                       0  \n",
      "70585                   45.48  \n",
      "70586                       0  \n",
      "70587                       0  \n",
      "70588                    0.12  \n",
      "70589                    7.56  \n",
      "70590                    3.85  \n",
      "70591                    0.59  \n",
      "70592                   13.31  \n",
      "70593                    3.54  \n",
      "70594                   16.23  \n",
      "70595                     0.5  \n",
      "70596                    5.41  \n",
      "70597                     100  \n",
      "\n",
      "[70598 rows x 11 columns]\n"
     ]
    }
   ],
   "source": [
    "print(df)"
   ]
  },
  {
   "cell_type": "markdown",
   "metadata": {},
   "source": [
    "###### 41) Find the statistics of average (mean) and percentage spending for different states, claim types, and hospitals. In the cell below using the same dataframe used in 39 and 40. Place your code and print your results in the cell below "
   ]
  },
  {
   "cell_type": "code",
   "execution_count": null,
   "metadata": {},
   "outputs": [],
   "source": []
  },
  {
   "cell_type": "markdown",
   "metadata": {},
   "source": [
    "###### 43) Continuing with the dataframe above, extract only the TX state claims into a new dataframe. Provide your code and print the new dataframe (with only TX claims) below as the answer."
   ]
  },
  {
   "cell_type": "code",
   "execution_count": 372,
   "metadata": {},
   "outputs": [],
   "source": [
    "df_TX=(df[df.State == 'TX'])"
   ]
  },
  {
   "cell_type": "code",
   "execution_count": 373,
   "metadata": {},
   "outputs": [],
   "source": [
    "claim_gb = df_TX[['Claim Type',\n",
    "                  'State']].groupby('Claim Type')"
   ]
  },
  {
   "cell_type": "code",
   "execution_count": 377,
   "metadata": {},
   "outputs": [
    {
     "data": {
      "text/html": [
       "<div>\n",
       "<style>\n",
       "    .dataframe thead tr:only-child th {\n",
       "        text-align: right;\n",
       "    }\n",
       "\n",
       "    .dataframe thead th {\n",
       "        text-align: left;\n",
       "    }\n",
       "\n",
       "    .dataframe tbody tr th {\n",
       "        vertical-align: top;\n",
       "    }\n",
       "</style>\n",
       "<table border=\"1\" class=\"dataframe\">\n",
       "  <thead>\n",
       "    <tr style=\"text-align: right;\">\n",
       "      <th></th>\n",
       "      <th>Claim Type</th>\n",
       "      <th>State</th>\n",
       "    </tr>\n",
       "  </thead>\n",
       "  <tbody>\n",
       "    <tr>\n",
       "      <th>58322</th>\n",
       "      <td>Home Health Agency</td>\n",
       "      <td>TX</td>\n",
       "    </tr>\n",
       "    <tr>\n",
       "      <th>58323</th>\n",
       "      <td>Hospice</td>\n",
       "      <td>TX</td>\n",
       "    </tr>\n",
       "    <tr>\n",
       "      <th>58324</th>\n",
       "      <td>Inpatient</td>\n",
       "      <td>TX</td>\n",
       "    </tr>\n",
       "    <tr>\n",
       "      <th>58325</th>\n",
       "      <td>Outpatient</td>\n",
       "      <td>TX</td>\n",
       "    </tr>\n",
       "    <tr>\n",
       "      <th>58326</th>\n",
       "      <td>Skilled Nursing Facility</td>\n",
       "      <td>TX</td>\n",
       "    </tr>\n",
       "    <tr>\n",
       "      <th>58327</th>\n",
       "      <td>Durable Medical Equipment</td>\n",
       "      <td>TX</td>\n",
       "    </tr>\n",
       "    <tr>\n",
       "      <th>58328</th>\n",
       "      <td>Carrier</td>\n",
       "      <td>TX</td>\n",
       "    </tr>\n",
       "    <tr>\n",
       "      <th>58329</th>\n",
       "      <td>Home Health Agency</td>\n",
       "      <td>TX</td>\n",
       "    </tr>\n",
       "    <tr>\n",
       "      <th>58330</th>\n",
       "      <td>Hospice</td>\n",
       "      <td>TX</td>\n",
       "    </tr>\n",
       "    <tr>\n",
       "      <th>58331</th>\n",
       "      <td>Inpatient</td>\n",
       "      <td>TX</td>\n",
       "    </tr>\n",
       "    <tr>\n",
       "      <th>58332</th>\n",
       "      <td>Outpatient</td>\n",
       "      <td>TX</td>\n",
       "    </tr>\n",
       "    <tr>\n",
       "      <th>58333</th>\n",
       "      <td>Skilled Nursing Facility</td>\n",
       "      <td>TX</td>\n",
       "    </tr>\n",
       "    <tr>\n",
       "      <th>58334</th>\n",
       "      <td>Durable Medical Equipment</td>\n",
       "      <td>TX</td>\n",
       "    </tr>\n",
       "    <tr>\n",
       "      <th>58335</th>\n",
       "      <td>Carrier</td>\n",
       "      <td>TX</td>\n",
       "    </tr>\n",
       "    <tr>\n",
       "      <th>58336</th>\n",
       "      <td>Home Health Agency</td>\n",
       "      <td>TX</td>\n",
       "    </tr>\n",
       "    <tr>\n",
       "      <th>58337</th>\n",
       "      <td>Hospice</td>\n",
       "      <td>TX</td>\n",
       "    </tr>\n",
       "    <tr>\n",
       "      <th>58338</th>\n",
       "      <td>Inpatient</td>\n",
       "      <td>TX</td>\n",
       "    </tr>\n",
       "    <tr>\n",
       "      <th>58339</th>\n",
       "      <td>Outpatient</td>\n",
       "      <td>TX</td>\n",
       "    </tr>\n",
       "    <tr>\n",
       "      <th>58340</th>\n",
       "      <td>Skilled Nursing Facility</td>\n",
       "      <td>TX</td>\n",
       "    </tr>\n",
       "    <tr>\n",
       "      <th>58341</th>\n",
       "      <td>Durable Medical Equipment</td>\n",
       "      <td>TX</td>\n",
       "    </tr>\n",
       "    <tr>\n",
       "      <th>58342</th>\n",
       "      <td>Carrier</td>\n",
       "      <td>TX</td>\n",
       "    </tr>\n",
       "    <tr>\n",
       "      <th>58343</th>\n",
       "      <td>Total</td>\n",
       "      <td>TX</td>\n",
       "    </tr>\n",
       "    <tr>\n",
       "      <th>58344</th>\n",
       "      <td>Home Health Agency</td>\n",
       "      <td>TX</td>\n",
       "    </tr>\n",
       "    <tr>\n",
       "      <th>58345</th>\n",
       "      <td>Hospice</td>\n",
       "      <td>TX</td>\n",
       "    </tr>\n",
       "    <tr>\n",
       "      <th>58346</th>\n",
       "      <td>Inpatient</td>\n",
       "      <td>TX</td>\n",
       "    </tr>\n",
       "    <tr>\n",
       "      <th>58347</th>\n",
       "      <td>Outpatient</td>\n",
       "      <td>TX</td>\n",
       "    </tr>\n",
       "    <tr>\n",
       "      <th>58348</th>\n",
       "      <td>Skilled Nursing Facility</td>\n",
       "      <td>TX</td>\n",
       "    </tr>\n",
       "    <tr>\n",
       "      <th>58349</th>\n",
       "      <td>Durable Medical Equipment</td>\n",
       "      <td>TX</td>\n",
       "    </tr>\n",
       "    <tr>\n",
       "      <th>58350</th>\n",
       "      <td>Carrier</td>\n",
       "      <td>TX</td>\n",
       "    </tr>\n",
       "    <tr>\n",
       "      <th>58351</th>\n",
       "      <td>Home Health Agency</td>\n",
       "      <td>TX</td>\n",
       "    </tr>\n",
       "    <tr>\n",
       "      <th>58352</th>\n",
       "      <td>Hospice</td>\n",
       "      <td>TX</td>\n",
       "    </tr>\n",
       "    <tr>\n",
       "      <th>58353</th>\n",
       "      <td>Inpatient</td>\n",
       "      <td>TX</td>\n",
       "    </tr>\n",
       "    <tr>\n",
       "      <th>58354</th>\n",
       "      <td>Outpatient</td>\n",
       "      <td>TX</td>\n",
       "    </tr>\n",
       "    <tr>\n",
       "      <th>58355</th>\n",
       "      <td>Skilled Nursing Facility</td>\n",
       "      <td>TX</td>\n",
       "    </tr>\n",
       "    <tr>\n",
       "      <th>58356</th>\n",
       "      <td>Durable Medical Equipment</td>\n",
       "      <td>TX</td>\n",
       "    </tr>\n",
       "    <tr>\n",
       "      <th>58357</th>\n",
       "      <td>Carrier</td>\n",
       "      <td>TX</td>\n",
       "    </tr>\n",
       "    <tr>\n",
       "      <th>58365</th>\n",
       "      <td>Total</td>\n",
       "      <td>TX</td>\n",
       "    </tr>\n",
       "    <tr>\n",
       "      <th>58387</th>\n",
       "      <td>Total</td>\n",
       "      <td>TX</td>\n",
       "    </tr>\n",
       "    <tr>\n",
       "      <th>58409</th>\n",
       "      <td>Total</td>\n",
       "      <td>TX</td>\n",
       "    </tr>\n",
       "    <tr>\n",
       "      <th>58431</th>\n",
       "      <td>Total</td>\n",
       "      <td>TX</td>\n",
       "    </tr>\n",
       "  </tbody>\n",
       "</table>\n",
       "</div>"
      ],
      "text/plain": [
       "                      Claim Type State\n",
       "58322         Home Health Agency    TX\n",
       "58323                    Hospice    TX\n",
       "58324                  Inpatient    TX\n",
       "58325                 Outpatient    TX\n",
       "58326   Skilled Nursing Facility    TX\n",
       "58327  Durable Medical Equipment    TX\n",
       "58328                    Carrier    TX\n",
       "58329         Home Health Agency    TX\n",
       "58330                    Hospice    TX\n",
       "58331                  Inpatient    TX\n",
       "58332                 Outpatient    TX\n",
       "58333   Skilled Nursing Facility    TX\n",
       "58334  Durable Medical Equipment    TX\n",
       "58335                    Carrier    TX\n",
       "58336         Home Health Agency    TX\n",
       "58337                    Hospice    TX\n",
       "58338                  Inpatient    TX\n",
       "58339                 Outpatient    TX\n",
       "58340   Skilled Nursing Facility    TX\n",
       "58341  Durable Medical Equipment    TX\n",
       "58342                    Carrier    TX\n",
       "58343                      Total    TX\n",
       "58344         Home Health Agency    TX\n",
       "58345                    Hospice    TX\n",
       "58346                  Inpatient    TX\n",
       "58347                 Outpatient    TX\n",
       "58348   Skilled Nursing Facility    TX\n",
       "58349  Durable Medical Equipment    TX\n",
       "58350                    Carrier    TX\n",
       "58351         Home Health Agency    TX\n",
       "58352                    Hospice    TX\n",
       "58353                  Inpatient    TX\n",
       "58354                 Outpatient    TX\n",
       "58355   Skilled Nursing Facility    TX\n",
       "58356  Durable Medical Equipment    TX\n",
       "58357                    Carrier    TX\n",
       "58365                      Total    TX\n",
       "58387                      Total    TX\n",
       "58409                      Total    TX\n",
       "58431                      Total    TX"
      ]
     },
     "execution_count": 377,
     "metadata": {},
     "output_type": "execute_result"
    }
   ],
   "source": [
    "claim_gb.head()"
   ]
  },
  {
   "cell_type": "markdown",
   "metadata": {},
   "source": [
    "###### 44) Using the dataframe from above (Q 42), find the average spending for each different TX hospitals groupedby each kind of different claim types. Provide your code and the resulting new print out as the answer. "
   ]
  },
  {
   "cell_type": "code",
   "execution_count": null,
   "metadata": {
    "collapsed": true
   },
   "outputs": [],
   "source": []
  },
  {
   "cell_type": "markdown",
   "metadata": {},
   "source": [
    "###### 45) Continuing from above (Q 43), what is the mean and max percentage spending of different TX hospitals for each different claim types. Provide your code and print out the answer. "
   ]
  },
  {
   "cell_type": "code",
   "execution_count": null,
   "metadata": {
    "collapsed": true
   },
   "outputs": [],
   "source": []
  },
  {
   "cell_type": "markdown",
   "metadata": {},
   "source": [
    "###### 47) Give a very general and short definition of what an Analytical Model is or is supposed to do?"
   ]
  },
  {
   "cell_type": "markdown",
   "metadata": {},
   "source": [
    "\n",
    "Analytical Modeling--A mathematical modeling technique used for simulating, explaining, and making predictions about the mechanisms involved in complex physical processes."
   ]
  },
  {
   "cell_type": "markdown",
   "metadata": {},
   "source": [
    "###### 48) Briefly describe the differences between \"supervised\" and \"unsupervised\" learning."
   ]
  },
  {
   "cell_type": "markdown",
   "metadata": {},
   "source": [
    "Supervised learning is where you have input variables (x) and an output variable (Y) and you use an algorithm to learn the mapping function from the input to the output.Supervised learning problems can be further grouped into regression and classification problems.\n",
    "\n",
    "\n",
    "Unsupervised learning is where you only have input data (X) and no corresponding output variables.Unsupervised learning problems can be further grouped into clustering and association problems."
   ]
  },
  {
   "cell_type": "markdown",
   "metadata": {},
   "source": [
    "###### 49) Briefly describe the differences between \"classification\" and \"clustering\"."
   ]
  },
  {
   "cell_type": "markdown",
   "metadata": {},
   "source": [
    "Classification is the result of supervised learning which means that there is a known label that you want the system to generate.\n",
    "\n",
    "Clustering is the result of unsupervised learning which means that you’ve seen lots of examples, but don’t have labels."
   ]
  },
  {
   "cell_type": "markdown",
   "metadata": {},
   "source": [
    "###### 50) Name 3 different \"kinds\" of Analytical Models and provide a brief definition of each. "
   ]
  },
  {
   "cell_type": "markdown",
   "metadata": {},
   "source": [
    "1. Statistical modeling--A statistical model is a class of mathematical model, which embodies a set of assumptions concerning the generation of some sample data, and similar data from a larger population. A statistical model represents, often in considerably idealized form, the data-generating process\n",
    "\n",
    "2. Data mining--Data mining is the computing process of discovering patterns in large data sets involving methods at the intersection of machine learning, statistics, and database systems\n",
    "\n",
    "3. Machine learning--Machine learning is closely related to (and often overlaps with) computational statistics, which also focuses on prediction-making through the use of computers"
   ]
  },
  {
   "cell_type": "markdown",
   "metadata": {},
   "source": [
    "###### EXTRA CREDIT 51) Why is Ordinary Least Squares Regression, called Ordinary Least Squares?"
   ]
  },
  {
   "cell_type": "markdown",
   "metadata": {},
   "source": [
    "Ordinary Least Squares or OLS is one of the simplest (if you can call it so) methods of linear regression. The goal of OLS is to closely \"fit\" a function with the data. It does so by minimizing the sum of squared errors from the data."
   ]
  },
  {
   "cell_type": "markdown",
   "metadata": {},
   "source": [
    "###### EXTRA CREDIT 52) What makes \"big data\" different from \"small data\"? (Be brief - 1 to 2 paragaphs MAX)"
   ]
  },
  {
   "cell_type": "markdown",
   "metadata": {},
   "source": [
    "volume: too big to handle by a human\n",
    "velocity: tons of data generated by millisecond\n",
    "veracity: no idea how data might come in and in what format\n",
    "structure: non-relational\n"
   ]
  },
  {
   "cell_type": "markdown",
   "metadata": {},
   "source": [
    "###### EXTRA CREDIT 53) What are WMD's according to Cathy O'Neil?"
   ]
  },
  {
   "cell_type": "markdown",
   "metadata": {},
   "source": [
    "Weapons of math destruction"
   ]
  },
  {
   "cell_type": "markdown",
   "metadata": {},
   "source": [
    "###### EXTRA CREDIT 55) What are the 10 simple rules Zook et. al. Suggest to follow when doing big data analytics?"
   ]
  },
  {
   "cell_type": "markdown",
   "metadata": {},
   "source": [
    "1. Acknowledge that data are people and can do harm\n",
    "2. Recognize that privacy is more than a binary value\n",
    "3. Guard against the reidentification of your data\n",
    "4. Practice ethical data sharing\n",
    "5. Consider the strengths and limitations of your data; big does not automatically mean better\n",
    "6. Debate the tough, ethical choices\n",
    "7. Develop a code of conduct for your organization, research community, or industry\n",
    "8. Design your data and systems for auditability\n",
    "9. Engage with the broader consequences of data and analysis practices\n",
    "10. Know when to break these rules"
   ]
  },
  {
   "cell_type": "code",
   "execution_count": null,
   "metadata": {
    "collapsed": true
   },
   "outputs": [],
   "source": []
  }
 ],
 "metadata": {
  "kernelspec": {
   "display_name": "Python 3",
   "language": "python",
   "name": "python3"
  },
  "language_info": {
   "codemirror_mode": {
    "name": "ipython",
    "version": 3
   },
   "file_extension": ".py",
   "mimetype": "text/x-python",
   "name": "python",
   "nbconvert_exporter": "python",
   "pygments_lexer": "ipython3",
   "version": "3.6.3"
  }
 },
 "nbformat": 4,
 "nbformat_minor": 2
}
