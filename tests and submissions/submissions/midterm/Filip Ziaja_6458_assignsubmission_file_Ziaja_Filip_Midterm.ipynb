{
 "cells": [
  {
   "cell_type": "markdown",
   "metadata": {},
   "source": [
    "## Introduction to Big Data Midterm"
   ]
  },
  {
   "cell_type": "markdown",
   "metadata": {},
   "source": [
    "Assign date: 2017-12-03\n",
    "\n",
    "Due date: 2017-12-16 11:59pm\n",
    "\n",
    "Please submit only one copy of your Jupyter Notebook file with your answers for each question provided in the following cells below to Moodle. There will be no extensions or excemptions. \n",
    "\n",
    "You will lose 15% each day your submission is late. \n",
    "\n",
    "Please do not post any answers to the general question forum. You can however ask for technical help on the course page if you are having actualy technical issues. I reserve the right to delete any question/response that I deem being too much \"begging for hints\" in nature. You may email me directly at mtenney@yorku.ca if you have any questions, but do note I will not provide you any answers and my response may take up to 48hrs. And of course, you're free to use any class material, the Internet, or additional resources to complete the exam. The exam covers material from weeks 1-4 inclusively.\n",
    "\n",
    "Note you MUST RUN THE CODE and print out the required results when submitting. Any empty cells or un-run code will not be accepted. "
   ]
  },
  {
   "cell_type": "markdown",
   "metadata": {},
   "source": [
    "\n",
    "**1) Import the following libraries to your notebook (you can use alias' if you want) in the cell below:**<br/>\n",
    "    pandas,\n",
    "    seaborn,\n",
    "    os,\n",
    "    matplotlib.pyplot<br/>\n",
    "**And** add the following flag: \n",
    "    %matplotlib inline"
   ]
  },
  {
   "cell_type": "code",
   "execution_count": 1,
   "metadata": {
    "collapsed": true
   },
   "outputs": [],
   "source": [
    "import pandas\n",
    "import seaborn\n",
    "import os\n",
    "import matplotlib.pyplot\n",
    "%matplotlib inline"
   ]
  },
  {
   "cell_type": "markdown",
   "metadata": {},
   "source": [
    "**2) Index a list in Python**<br/>\n",
    "Run the code below, it will give a result of 4. If we want to get ONLY the number 8 from the list of lists below, how would you alter the code? Alter the code directly and run to print the desired output. "
   ]
  },
  {
   "cell_type": "code",
   "execution_count": 2,
   "metadata": {},
   "outputs": [
    {
     "name": "stdout",
     "output_type": "stream",
     "text": [
      "8\n"
     ]
    }
   ],
   "source": [
    "question2 = [[1,2],[3,4],[5,6],[7,[8,9]]]\n",
    "print(question2[3][1][0])"
   ]
  },
  {
   "cell_type": "markdown",
   "metadata": {},
   "source": [
    "**3) Define a variable called bigdata, to be a list in python with the following elements and print only the last two elements of the list:**<br/> 1, \"Big Data Class\", 2, \"Is Really Fun\",3, \"I Love Python\""
   ]
  },
  {
   "cell_type": "code",
   "execution_count": 3,
   "metadata": {},
   "outputs": [
    {
     "name": "stdout",
     "output_type": "stream",
     "text": [
      "[3, 'I Love Python']\n"
     ]
    }
   ],
   "source": [
    "bigdata = [1, \"Big Data Class\", 2, \"Is Really Fun\",3, \"I Love Python\"]\n",
    "print(bigdata[4:])"
   ]
  },
  {
   "cell_type": "markdown",
   "metadata": {},
   "source": [
    "**4) Cast the following list to be a string in Python:** <br/>\n",
    "Define the list [1,2,4,3,'k'] and cast it to a string where you print out '1243k'. Insert your code below."
   ]
  },
  {
   "cell_type": "code",
   "execution_count": 4,
   "metadata": {},
   "outputs": [
    {
     "name": "stdout",
     "output_type": "stream",
     "text": [
      "1243k\n"
     ]
    }
   ],
   "source": [
    "list1 = [1, 2, 4, 3, 'k']\n",
    "str1 = \"\"\n",
    "for i in range(len(list1)):\n",
    "    str1 = str1 + str(list1[i])\n",
    "print(str1)"
   ]
  },
  {
   "cell_type": "markdown",
   "metadata": {},
   "source": [
    "**5) Test whether the two lists are equal too each other and if not what elements are shared between the two lists.**<br/>\n",
    "<t/>list1 = ['1',2,'3',4,5]<br/>\n",
    "<t/>list2 = [1,2,3,4,'5',6]<br/>\n",
    "<br/>\n",
    "Define the lists and print whether the lists are equal to one another, and find which elements are a match. (***Hint you can go element by element or use you can use a \"for\" loop, or, you can use a different data structure all together***). \n"
   ]
  },
  {
   "cell_type": "code",
   "execution_count": 5,
   "metadata": {},
   "outputs": [
    {
     "name": "stdout",
     "output_type": "stream",
     "text": [
      "The two lists are not equal, since they have unequal lengths.\n",
      "Length of list1 = 5\n",
      "Length of list2 = 6\n",
      "\n",
      "Convert the lists to sets and find the intersection.\n",
      "The following elements are found in both lists:\n",
      "{2, 4}\n"
     ]
    }
   ],
   "source": [
    "list1 = ['1',2,'3',4,5]\n",
    "list2 = [1,2,3,4,'5',6]\n",
    "\n",
    "print(\"The two lists are not equal, since they have unequal lengths.\")\n",
    "print(\"Length of list1 = \" + str(len(list1)))\n",
    "print(\"Length of list2 = \" + str(len(list2)))\n",
    "\n",
    "print(\"\\nConvert the lists to sets and find the intersection.\")\n",
    "set1 = set(list1)\n",
    "set2 = set(list2)\n",
    "print(\"The following elements are found in both lists:\")\n",
    "print(set1.intersection(set2))"
   ]
  },
  {
   "cell_type": "markdown",
   "metadata": {},
   "source": [
    "**6) Test whether the two lists are equal too each other and if not what elements are shared between the two lists.**<br/>"
   ]
  },
  {
   "cell_type": "code",
   "execution_count": 6,
   "metadata": {},
   "outputs": [
    {
     "name": "stdout",
     "output_type": "stream",
     "text": [
      "The two lists are not equal, since they have unequal lengths.\n",
      "Length of list1 = 5\n",
      "Length of list2 = 6\n",
      "\n",
      "Convert the lists to sets and find the intersection.\n",
      "The following elements are found in both lists:\n",
      "{2, 4}\n"
     ]
    }
   ],
   "source": [
    "list1 = ['1',2,'3',4,5]\n",
    "list2 = [1,2,3,4,'5',6]\n",
    "\n",
    "print(\"The two lists are not equal, since they have unequal lengths.\")\n",
    "print(\"Length of list1 = \" + str(len(list1)))\n",
    "print(\"Length of list2 = \" + str(len(list2)))\n",
    "\n",
    "print(\"\\nConvert the lists to sets and find the intersection.\")\n",
    "set1 = set(list1)\n",
    "set2 = set(list2)\n",
    "print(\"The following elements are found in both lists:\")\n",
    "print(set1.intersection(set2))"
   ]
  },
  {
   "cell_type": "markdown",
   "metadata": {},
   "source": [
    "**7) What are the \"5 V's\" commonly used to describe Big Data?** Write your answer below."
   ]
  },
  {
   "cell_type": "code",
   "execution_count": 7,
   "metadata": {},
   "outputs": [
    {
     "name": "stdout",
     "output_type": "stream",
     "text": [
      "Volume\n",
      "Velocity\n",
      "Variety\n",
      "Value\n",
      "Veracity\n"
     ]
    }
   ],
   "source": [
    "print(\"Volume\\nVelocity\\nVariety\\nValue\\nVeracity\")"
   ]
  },
  {
   "cell_type": "markdown",
   "metadata": {},
   "source": [
    "**8) Finish the quote:**<br/> *\"All models are wrong. Some are [...]\"*"
   ]
  },
  {
   "cell_type": "code",
   "execution_count": 8,
   "metadata": {},
   "outputs": [
    {
     "name": "stdout",
     "output_type": "stream",
     "text": [
      "more useful than others.\n"
     ]
    }
   ],
   "source": [
    "print(\"more useful than others.\")"
   ]
  },
  {
   "cell_type": "markdown",
   "metadata": {},
   "source": [
    "**9) If a variable dogs = 103x23/2 and a variable cats = 10x12x4,  Use python to determing if dogs are greater than cats. **"
   ]
  },
  {
   "cell_type": "code",
   "execution_count": 9,
   "metadata": {},
   "outputs": [
    {
     "name": "stdout",
     "output_type": "stream",
     "text": [
      "dogs are greater than cats\n"
     ]
    }
   ],
   "source": [
    "dogs = 103 * 23 / 2\n",
    "cats = 10 * 12 * 4\n",
    "\n",
    "if dogs > cats:\n",
    "    print (\"dogs are greater than cats\")\n",
    "elif dogs == cats:\n",
    "    print (\"dogs are equal to cats\")\n",
    "else:\n",
    "    print (\"cats are greater than goss\")"
   ]
  },
  {
   "cell_type": "markdown",
   "metadata": {},
   "source": [
    "**10) What is the name for the 3 primary measures of central tendency and give their definition** "
   ]
  },
  {
   "cell_type": "code",
   "execution_count": 10,
   "metadata": {},
   "outputs": [
    {
     "name": "stdout",
     "output_type": "stream",
     "text": [
      "Mean - The mathematical average of all measurements in a sample (ie. the sum of all measurements\n",
      "divided by the number of measurements).\n",
      "\n",
      "Median - Given an ordered set of measurements, if the number of measurements is odd, then the\n",
      "median is the middle measurement. If the number of measurements is even, then the median is the\n",
      "mean of the two measurements in the middle.\n",
      "\n",
      "Mode - The most common measurement in a sample (ie. the measurement that appears with the highest\n",
      "frequency in a sample)\n"
     ]
    }
   ],
   "source": [
    "print(\"Mean - The mathematical average of all measurements in a sample (ie. the sum of all measurements\\ndivided by the number of measurements).\\n\")\n",
    "print(\"Median - Given an ordered set of measurements, if the number of measurements is odd, then the\\nmedian is the middle measurement. If the number of measurements is even, then the median is the\\nmean of the two measurements in the middle.\\n\")\n",
    "print(\"Mode - The most common measurement in a sample (ie. the measurement that appears with the highest\\nfrequency in a sample)\")"
   ]
  },
  {
   "cell_type": "markdown",
   "metadata": {},
   "source": [
    "**11) Calculate the descriptive statistice for each of the above central measures in Python on this list of numbers and print out the values:**<br/> \n",
    "\n",
    "[12,44,23,2,1,66,7,85,3,34,23,6,34,23,7,21,14,34,23,88]\n",
    "<br/> \n",
    "*(Hint: it might be easier to import a function from some other library)*\n",
    "\n"
   ]
  },
  {
   "cell_type": "code",
   "execution_count": 11,
   "metadata": {},
   "outputs": [
    {
     "name": "stdout",
     "output_type": "stream",
     "text": [
      "Mean = 27.5\n",
      "\n",
      "The number of entries in the list is 20 therefore the median equal to the mean of the\n",
      "two middle entries at indices 9 and 10.\n",
      "\n",
      "[1, 2, 3, 6, 7, 7, 12, 14, 21, 23, 23, 23, 23, 34, 34, 34, 44, 66, 85, 88]\n",
      "Median = 23.0\n",
      "\n",
      "Mode = 23, appearing 4 times.\n"
     ]
    }
   ],
   "source": [
    "list1 = [12,44,23,2,1,66,7,85,3,34,23,6,34,23,7,21,14,34,23,88] \n",
    "total = 0\n",
    "for i in range(len(list1)):\n",
    "    total = total + list1[i]\n",
    "mean = float(total) / len(list1)\n",
    "print(\"Mean = \" + str(mean) + \"\\n\")\n",
    "\n",
    "print(\"\"\"The number of entries in the list is \"\"\" + str(len(list1)) + \"\"\" therefore the median equal to the mean of the\n",
    "two middle entries at indices 9 and 10.\\n\"\"\")\n",
    "\n",
    "list1.sort()\n",
    "print(list1)\n",
    "median = (float(list1[9]) + float(list1[10])) / 2\n",
    "\n",
    "print(\"Median = \" + str(median) + \"\\n\")\n",
    "\n",
    "mode = list1[0]\n",
    "modeCount = 1\n",
    "potentialModeCount = 1\n",
    "\n",
    "# Since the list is sorted, we can go through it element by element to find the mode.\n",
    "for i in range(1, len(list1)):\n",
    "    if list1[i] == list1[i - 1]:\n",
    "        potentialModeCount = potentialModeCount + 1\n",
    "    else:\n",
    "        if potentialModeCount > modeCount:\n",
    "            mode = list1[i - 1]\n",
    "            modeCount = potentialModeCount\n",
    "        potentialModeCount = 1\n",
    "\n",
    "if potentialModeCount > modeCount:\n",
    "    mode = list1[len(list1) - 1]\n",
    "    modeCount = potentialModeCount\n",
    "\n",
    "print(\"Mode = \" + str(mode) + \", appearing \" + str(modeCount) + \" times.\")"
   ]
  },
  {
   "cell_type": "markdown",
   "metadata": {},
   "source": [
    "**12) Delete the empty cell  between question 12 (this one) and Question 13 from the Jupyter notebook**"
   ]
  },
  {
   "cell_type": "markdown",
   "metadata": {},
   "source": [
    "**13) Create a list, called mylist, containing a sequential list of numbers that starts with 2 and stops at 1000, counting by 2's in Python**"
   ]
  },
  {
   "cell_type": "code",
   "execution_count": 12,
   "metadata": {},
   "outputs": [
    {
     "name": "stdout",
     "output_type": "stream",
     "text": [
      "2 4 6 8 10 12 14 16 18 20 22 24 26 28 30 32 34 36 38 40 42 44 46 48 50 52 54 56 58 60 62 64 66 68 70 72 74 76 78 80 82 84 86 88 90 92 94 96 98 100 102 104 106 108 110 112 114 116 118 120 122 124 126 128 130 132 134 136 138 140 142 144 146 148 150 152 154 156 158 160 162 164 166 168 170 172 174 176 178 180 182 184 186 188 190 192 194 196 198 200 202 204 206 208 210 212 214 216 218 220 222 224 226 228 230 232 234 236 238 240 242 244 246 248 250 252 254 256 258 260 262 264 266 268 270 272 274 276 278 280 282 284 286 288 290 292 294 296 298 300 302 304 306 308 310 312 314 316 318 320 322 324 326 328 330 332 334 336 338 340 342 344 346 348 350 352 354 356 358 360 362 364 366 368 370 372 374 376 378 380 382 384 386 388 390 392 394 396 398 400 402 404 406 408 410 412 414 416 418 420 422 424 426 428 430 432 434 436 438 440 442 444 446 448 450 452 454 456 458 460 462 464 466 468 470 472 474 476 478 480 482 484 486 488 490 492 494 496 498 500 502 504 506 508 510 512 514 516 518 520 522 524 526 528 530 532 534 536 538 540 542 544 546 548 550 552 554 556 558 560 562 564 566 568 570 572 574 576 578 580 582 584 586 588 590 592 594 596 598 600 602 604 606 608 610 612 614 616 618 620 622 624 626 628 630 632 634 636 638 640 642 644 646 648 650 652 654 656 658 660 662 664 666 668 670 672 674 676 678 680 682 684 686 688 690 692 694 696 698 700 702 704 706 708 710 712 714 716 718 720 722 724 726 728 730 732 734 736 738 740 742 744 746 748 750 752 754 756 758 760 762 764 766 768 770 772 774 776 778 780 782 784 786 788 790 792 794 796 798 800 802 804 806 808 810 812 814 816 818 820 822 824 826 828 830 832 834 836 838 840 842 844 846 848 850 852 854 856 858 860 862 864 866 868 870 872 874 876 878 880 882 884 886 888 890 892 894 896 898 900 902 904 906 908 910 912 914 916 918 920 922 924 926 928 930 932 934 936 938 940 942 944 946 948 950 952 954 956 958 960 962 964 966 968 970 972 974 976 978 980 982 984 986 988 990 992 994 996 998 1000\n"
     ]
    }
   ],
   "source": [
    "mylist = range(2, 1001, 2)\n",
    "print(*mylist)"
   ]
  },
  {
   "cell_type": "markdown",
   "metadata": {},
   "source": [
    "**14) Is the sum of the first 50 elements in \"mylist\" greater than the last element of  \"mylist\"?**<br/> Use Python below to print out the answer. (mylist is defined in question 13). "
   ]
  },
  {
   "cell_type": "code",
   "execution_count": 13,
   "metadata": {},
   "outputs": [
    {
     "name": "stdout",
     "output_type": "stream",
     "text": [
      "The sum of the first 50 elements is greater than the last element.\n"
     ]
    }
   ],
   "source": [
    "sumOfFirst50 = 0\n",
    "for i in range(50):\n",
    "    sumOfFirst50 = sumOfFirst50 + mylist[i]\n",
    "\n",
    "if sumOfFirst50 > mylist[len(mylist) - 1]:\n",
    "    print(\"The sum of the first 50 elements is greater than the last element.\")\n",
    "else:\n",
    "    print(\"The sum of the first 50 elements is less than or equal to the last element.\")"
   ]
  },
  {
   "cell_type": "markdown",
   "metadata": {},
   "source": [
    "**15) What is the length of \"mylist\"?**"
   ]
  },
  {
   "cell_type": "code",
   "execution_count": 14,
   "metadata": {},
   "outputs": [
    {
     "name": "stdout",
     "output_type": "stream",
     "text": [
      "500\n"
     ]
    }
   ],
   "source": [
    "print(len(mylist))"
   ]
  },
  {
   "cell_type": "markdown",
   "metadata": {},
   "source": [
    "**16) Create another list, called my2ndlist, containing a list of numbers starting at 1002 and stops at 1052,counting by 3's in Python. <br/>THEN concatenate my2ndlist with mylist into a new list called theMegaList.**<br/> Print theMegaList below."
   ]
  },
  {
   "cell_type": "code",
   "execution_count": 15,
   "metadata": {},
   "outputs": [
    {
     "name": "stdout",
     "output_type": "stream",
     "text": [
      "Since the problem says to concatenate 'my2ndlist with mylist', I assume that my my2ndlist should come first in the concatenation.\n",
      "[1002, 1005, 1008, 1011, 1014, 1017, 1020, 1023, 1026, 1029, 1032, 1035, 1038, 1041, 1044, 1047, 1050, 2, 4, 6, 8, 10, 12, 14, 16, 18, 20, 22, 24, 26, 28, 30, 32, 34, 36, 38, 40, 42, 44, 46, 48, 50, 52, 54, 56, 58, 60, 62, 64, 66, 68, 70, 72, 74, 76, 78, 80, 82, 84, 86, 88, 90, 92, 94, 96, 98, 100, 102, 104, 106, 108, 110, 112, 114, 116, 118, 120, 122, 124, 126, 128, 130, 132, 134, 136, 138, 140, 142, 144, 146, 148, 150, 152, 154, 156, 158, 160, 162, 164, 166, 168, 170, 172, 174, 176, 178, 180, 182, 184, 186, 188, 190, 192, 194, 196, 198, 200, 202, 204, 206, 208, 210, 212, 214, 216, 218, 220, 222, 224, 226, 228, 230, 232, 234, 236, 238, 240, 242, 244, 246, 248, 250, 252, 254, 256, 258, 260, 262, 264, 266, 268, 270, 272, 274, 276, 278, 280, 282, 284, 286, 288, 290, 292, 294, 296, 298, 300, 302, 304, 306, 308, 310, 312, 314, 316, 318, 320, 322, 324, 326, 328, 330, 332, 334, 336, 338, 340, 342, 344, 346, 348, 350, 352, 354, 356, 358, 360, 362, 364, 366, 368, 370, 372, 374, 376, 378, 380, 382, 384, 386, 388, 390, 392, 394, 396, 398, 400, 402, 404, 406, 408, 410, 412, 414, 416, 418, 420, 422, 424, 426, 428, 430, 432, 434, 436, 438, 440, 442, 444, 446, 448, 450, 452, 454, 456, 458, 460, 462, 464, 466, 468, 470, 472, 474, 476, 478, 480, 482, 484, 486, 488, 490, 492, 494, 496, 498, 500, 502, 504, 506, 508, 510, 512, 514, 516, 518, 520, 522, 524, 526, 528, 530, 532, 534, 536, 538, 540, 542, 544, 546, 548, 550, 552, 554, 556, 558, 560, 562, 564, 566, 568, 570, 572, 574, 576, 578, 580, 582, 584, 586, 588, 590, 592, 594, 596, 598, 600, 602, 604, 606, 608, 610, 612, 614, 616, 618, 620, 622, 624, 626, 628, 630, 632, 634, 636, 638, 640, 642, 644, 646, 648, 650, 652, 654, 656, 658, 660, 662, 664, 666, 668, 670, 672, 674, 676, 678, 680, 682, 684, 686, 688, 690, 692, 694, 696, 698, 700, 702, 704, 706, 708, 710, 712, 714, 716, 718, 720, 722, 724, 726, 728, 730, 732, 734, 736, 738, 740, 742, 744, 746, 748, 750, 752, 754, 756, 758, 760, 762, 764, 766, 768, 770, 772, 774, 776, 778, 780, 782, 784, 786, 788, 790, 792, 794, 796, 798, 800, 802, 804, 806, 808, 810, 812, 814, 816, 818, 820, 822, 824, 826, 828, 830, 832, 834, 836, 838, 840, 842, 844, 846, 848, 850, 852, 854, 856, 858, 860, 862, 864, 866, 868, 870, 872, 874, 876, 878, 880, 882, 884, 886, 888, 890, 892, 894, 896, 898, 900, 902, 904, 906, 908, 910, 912, 914, 916, 918, 920, 922, 924, 926, 928, 930, 932, 934, 936, 938, 940, 942, 944, 946, 948, 950, 952, 954, 956, 958, 960, 962, 964, 966, 968, 970, 972, 974, 976, 978, 980, 982, 984, 986, 988, 990, 992, 994, 996, 998, 1000]\n"
     ]
    }
   ],
   "source": [
    "my2ndlist = range(1002, 1053, 3)\n",
    "\n",
    "theMegaList = list(my2ndlist) + list(mylist)\n",
    "\n",
    "print(\"Since the problem says to concatenate 'my2ndlist with mylist', I assume that my my2ndlist should come first in the concatenation.\")\n",
    "print(theMegaList)"
   ]
  },
  {
   "cell_type": "markdown",
   "metadata": {},
   "source": [
    "**17) What is the index for the value 822 in theMegaList?**"
   ]
  },
  {
   "cell_type": "code",
   "execution_count": 16,
   "metadata": {},
   "outputs": [
    {
     "name": "stdout",
     "output_type": "stream",
     "text": [
      "427\n"
     ]
    }
   ],
   "source": [
    "print(theMegaList.index(822))"
   ]
  },
  {
   "cell_type": "markdown",
   "metadata": {},
   "source": [
    "**18) Write a for loop that will test if an element in theMegaList is an even or odd number and keeps a count of how many of each there are in the list.**<br/> Print out the total number of even and odd numbers found in theMegalist below. "
   ]
  },
  {
   "cell_type": "code",
   "execution_count": 17,
   "metadata": {},
   "outputs": [
    {
     "name": "stdout",
     "output_type": "stream",
     "text": [
      "Number of even elements: 509\n",
      "Number of odd elements: 8\n"
     ]
    }
   ],
   "source": [
    "oddCount = 0\n",
    "evenCount = 0\n",
    "\n",
    "for i in range(len(theMegaList)):\n",
    "    if theMegaList[i] % 2 == 0:\n",
    "        evenCount = evenCount + 1\n",
    "    else:\n",
    "        oddCount = oddCount + 1\n",
    "\n",
    "print(\"Number of even elements: \" + str(evenCount))\n",
    "print(\"Number of odd elements: \" + str(oddCount))"
   ]
  },
  {
   "cell_type": "markdown",
   "metadata": {},
   "source": [
    "**19) Write a brief definition of what Data Latency and the difference between \"real-time\" and \"near-time\" data.**"
   ]
  },
  {
   "cell_type": "code",
   "execution_count": 18,
   "metadata": {},
   "outputs": [
    {
     "name": "stdout",
     "output_type": "stream",
     "text": [
      "Data latency is the time it takes for data to become available for use after initial creation.\n",
      "\n",
      "Real-time data integration is when data is aggregated as soon as it is created. Near-time data\n",
      "integration is when data is aggregated some time after initial creation.\n"
     ]
    }
   ],
   "source": [
    "print(\"Data latency is the time it takes for data to become available for use after initial creation.\\n\")\n",
    "\n",
    "print(\"Real-time data integration is when data is aggregated as soon as it is created. Near-time data\\nintegration is when data is aggregated some time after initial creation.\")"
   ]
  },
  {
   "cell_type": "markdown",
   "metadata": {},
   "source": [
    "**19) What does the statistic Standard Deviation tell you about a numerical dataset? **"
   ]
  },
  {
   "cell_type": "code",
   "execution_count": 19,
   "metadata": {},
   "outputs": [
    {
     "name": "stdout",
     "output_type": "stream",
     "text": [
      "The standard deviation can tell you about the dispersion of a numerical data set. The smaller the standard deviation, the closer the individual measurements are to the mean of the dataset.\n"
     ]
    }
   ],
   "source": [
    "print(\"The standard deviation can tell you about the dispersion of a numerical data set. The smaller the standard deviation, the closer the individual measurements are to the mean of the dataset.\")"
   ]
  },
  {
   "cell_type": "markdown",
   "metadata": {},
   "source": [
    "**20) Suppose you have the following loop:**<br>\n",
    ">things = [1,2,3,5,6,7,8,9,10]<br>\n",
    ">previous_thing = 0<br>\n",
    ">for thing in things:<br>\n",
    ">>new_thing = thing * previous_thing<br>\n",
    ">>x = 3+previous_thing<br>\n",
    ">>previous_thing = thing<br>\n",
    "\n",
    "**At the end of the loop:**\n",
    ">**What does new_thing equal?**<br>\n",
    ">**What does x equal?**\n",
    "    \n",
    "    \n"
   ]
  },
  {
   "cell_type": "code",
   "execution_count": 20,
   "metadata": {},
   "outputs": [
    {
     "name": "stdout",
     "output_type": "stream",
     "text": [
      "At the end of the loop, new_thing = 90 and x = 12\n"
     ]
    }
   ],
   "source": [
    "things = [1,2,3,5,6,7,8,9,10]\n",
    "previous_thing = 0\n",
    "\n",
    "new_thing = 0\n",
    "x = 0\n",
    "\n",
    "for thing in things:\n",
    "    new_thing = thing * previous_thing\n",
    "    x = 3+previous_thing\n",
    "    previous_thing = thing\n",
    "    \n",
    "print(\"At the end of the loop, new_thing = \" + str(new_thing) + \" and x = \" + str(x))"
   ]
  },
  {
   "cell_type": "markdown",
   "metadata": {},
   "source": [
    "**21) What's the difference between Zero and None or Null?** "
   ]
  },
  {
   "cell_type": "code",
   "execution_count": 21,
   "metadata": {},
   "outputs": [
    {
     "name": "stdout",
     "output_type": "stream",
     "text": [
      "Setting a variable to 'None' causes it to have no value, whereas setting it to 0 causes it to store the value 0.\n"
     ]
    }
   ],
   "source": [
    "print(\"Setting a variable to 'None' causes it to have no value, whereas setting it to 0 causes it to store the value 0.\")"
   ]
  },
  {
   "cell_type": "markdown",
   "metadata": {},
   "source": [
    "**22) In the following loop:**<br> \n",
    ">x = 1<br>\n",
    ">sure_thing = True<br>\n",
    ">while sure_thing:<br>\n",
    ">>x = x +100<br>\n",
    ">>if x < 20001: <br>\n",
    ">>>x = x-1<br>\n",
    ">>else: <br>\n",
    ">>>sure_thing = False<br>\n",
    "\n",
    "**What does x equal to make our sure_thing False? **\n",
    "        "
   ]
  },
  {
   "cell_type": "code",
   "execution_count": 22,
   "metadata": {},
   "outputs": [
    {
     "name": "stdout",
     "output_type": "stream",
     "text": [
      "x = 20099 causes 'sure_thing' to become false\n"
     ]
    }
   ],
   "source": [
    "x = 1\n",
    "sure_thing = True\n",
    "while sure_thing:\n",
    "    x = x + 100\n",
    "    if x < 20001: \n",
    "        x = x-1\n",
    "    else: \n",
    "        sure_thing = False\n",
    "        \n",
    "print(\"x = \" + str(x) + \" causes 'sure_thing' to become false\")"
   ]
  },
  {
   "cell_type": "markdown",
   "metadata": {},
   "source": [
    "**Based on the DataFrame df and df1 defined below, add needed code to answer the following questions.**"
   ]
  },
  {
   "cell_type": "code",
   "execution_count": 23,
   "metadata": {
    "collapsed": true
   },
   "outputs": [],
   "source": [
    "from pandas import Series, DataFrame\n",
    "import pandas as pd\n",
    "raw_data = {'first_name': ['Jason', 'Jason', 'Tina', 'Jake', 'Amy'],\n",
    "        'last_name': ['Miller', 'Miller', 'Ali', 'Milner', 'Milner'],\n",
    "        'age': [42, 42, 36, 24, 73],\n",
    "        'preTest': [4, 4, 31, 2, 3],\n",
    "        'postTest': [25, 25, 57, 62, 70]}\n",
    "df = pd.DataFrame(raw_data, columns = ['first_name', 'last_name', 'age', 'preTest', 'postTest'])\n",
    "df1 = df"
   ]
  },
  {
   "cell_type": "markdown",
   "metadata": {},
   "source": [
    "**23) What are the column names in df1?print the result.**"
   ]
  },
  {
   "cell_type": "code",
   "execution_count": 24,
   "metadata": {},
   "outputs": [
    {
     "name": "stdout",
     "output_type": "stream",
     "text": [
      "['first_name' 'last_name' 'age' 'preTest' 'postTest']\n"
     ]
    }
   ],
   "source": [
    "print(df1.columns.values)"
   ]
  },
  {
   "cell_type": "markdown",
   "metadata": {},
   "source": [
    "**24) What is the average (mean) of the preTest and postTest scores?print the result. **"
   ]
  },
  {
   "cell_type": "code",
   "execution_count": 25,
   "metadata": {},
   "outputs": [
    {
     "name": "stdout",
     "output_type": "stream",
     "text": [
      "The preTest mean is 8.8\n",
      "The postTest mean is 47.8\n"
     ]
    }
   ],
   "source": [
    "print(\"The preTest mean is \" + str(df1['preTest'].mean()))\n",
    "print(\"The postTest mean is \" + str(df1['postTest'].mean()))"
   ]
  },
  {
   "cell_type": "markdown",
   "metadata": {},
   "source": [
    "**25) Remove duplicated rows in df based on last_name only.  Instead of keeping the first value, now keep the last of the duplicated values.print the result.**"
   ]
  },
  {
   "cell_type": "code",
   "execution_count": 26,
   "metadata": {},
   "outputs": [
    {
     "name": "stdout",
     "output_type": "stream",
     "text": [
      "  first_name last_name  age  preTest  postTest\n",
      "1      Jason    Miller   42        4        25\n",
      "2       Tina       Ali   36       31        57\n",
      "4        Amy    Milner   73        3        70\n"
     ]
    }
   ],
   "source": [
    "df2 = df.drop_duplicates('last_name','last')\n",
    "print(df2)"
   ]
  },
  {
   "cell_type": "markdown",
   "metadata": {},
   "source": [
    "**26) Remove duplicated rows in df1 based on both first_name and last_name.  print the result.**"
   ]
  },
  {
   "cell_type": "code",
   "execution_count": 27,
   "metadata": {},
   "outputs": [
    {
     "name": "stdout",
     "output_type": "stream",
     "text": [
      "  first_name last_name  age  preTest  postTest\n",
      "1      Jason    Miller   42        4        25\n",
      "2       Tina       Ali   36       31        57\n",
      "3       Jake    Milner   24        2        62\n",
      "4        Amy    Milner   73        3        70\n"
     ]
    }
   ],
   "source": [
    "df3 = df.drop_duplicates(['first_name', 'last_name'],'last')\n",
    "print(df3)"
   ]
  },
  {
   "cell_type": "markdown",
   "metadata": {},
   "source": [
    "***Use the dataframe defined in the following cell to answer the next few questions***: "
   ]
  },
  {
   "cell_type": "code",
   "execution_count": 28,
   "metadata": {},
   "outputs": [
    {
     "name": "stdout",
     "output_type": "stream",
     "text": [
      "            0         1         2         3\n",
      "0    0.496714 -0.138264  0.647689  1.523030\n",
      "1   -0.234153 -0.234137  1.579213  0.767435\n",
      "2   -0.469474  0.542560 -0.463418 -0.465730\n",
      "3    0.241962 -1.913280 -1.724918 -0.562288\n",
      "4   -1.012831  0.314247 -0.908024 -1.412304\n",
      "5    1.465649 -0.225776  0.067528 -1.424748\n",
      "6   -0.544383  0.110923 -1.150994  0.375698\n",
      "7   -0.600639 -0.291694 -0.601707  1.852278\n",
      "8   -0.013497 -1.057711  0.822545 -1.220844\n",
      "9    0.208864 -1.959670 -1.328186  0.196861\n",
      "10   0.738467  0.171368 -0.115648 -0.301104\n",
      "11  -1.478522 -0.719844 -0.460639  1.057122\n",
      "12   0.343618 -1.763040  0.324084 -0.385082\n",
      "13  -0.676922  0.611676  1.031000  0.931280\n",
      "14  -0.839218 -0.309212  0.331263  0.975545\n",
      "15  -0.479174 -0.185659 -1.106335 -1.196207\n",
      "16   0.812526  1.356240 -0.072010  1.003533\n",
      "17   0.361636 -0.645120  0.361396  1.538037\n",
      "18  -0.035826  1.564644 -2.619745  0.821903\n",
      "19   0.087047 -0.299007  0.091761 -1.987569\n",
      "20  -0.219672  0.357113  1.477894 -0.518270\n",
      "21  -0.808494 -0.501757  0.915402  0.328751\n",
      "22  -0.529760  0.513267  0.097078  0.968645\n",
      "23  -0.702053 -0.327662 -0.392108 -1.463515\n",
      "24   0.296120  0.261055  0.005113 -0.234587\n",
      "25  -1.415371 -0.420645 -0.342715 -0.802277\n",
      "26  -0.161286  0.404051  1.886186  0.174578\n",
      "27   0.257550 -0.074446 -1.918771 -0.026514\n",
      "28   0.060230  2.463242 -0.192361  0.301547\n",
      "29  -0.034712 -1.168678  1.142823  0.751933\n",
      "..        ...       ...       ...       ...\n",
      "370  0.722381 -0.372833  1.726964 -0.399636\n",
      "371  0.224685  0.932591 -1.418366 -1.760809\n",
      "372 -1.525656  1.262584 -0.551858  2.558199\n",
      "373 -0.564248  0.184551  1.542110  2.006093\n",
      "374  2.061504  1.208366  1.024063  0.592527\n",
      "375  0.778361 -0.551186 -0.818199 -0.003374\n",
      "376 -0.170185 -0.453228  0.696387  0.955305\n",
      "377  0.088407  1.477530 -1.141689 -0.193659\n",
      "378 -0.716822 -1.866537 -0.082681 -0.121748\n",
      "379  1.513450  0.630812 -1.024187  1.854093\n",
      "380  1.221034  0.582098 -0.226484 -0.959439\n",
      "381 -0.372207  1.088749  1.884586  1.543244\n",
      "382 -0.488849 -1.119617  0.140886 -1.768439\n",
      "383  0.323168 -0.147603 -0.466037 -1.594703\n",
      "384  0.513600 -0.532701 -1.169917 -2.872262\n",
      "385 -0.027515  1.772252  1.661259 -0.457096\n",
      "386 -0.602212  0.468774 -0.998385  0.301792\n",
      "387  0.766080  1.226933 -0.100154 -0.203674\n",
      "388 -0.877983 -0.826880 -0.226479  0.367366\n",
      "389  0.913585 -0.803179  1.492689 -0.271124\n",
      "390 -0.021367 -0.747212 -2.424240  0.884045\n",
      "391  0.736844 -0.281328  0.066991  0.515939\n",
      "392 -1.562546 -0.529053  0.794265 -1.254289\n",
      "393  0.293558 -1.356582  0.466430 -0.035641\n",
      "394 -1.615132  1.164739 -0.734592 -0.810252\n",
      "395  0.200569  1.148637 -1.015822  0.061680\n",
      "396  0.428817  0.693106  0.176442 -0.367028\n",
      "397 -0.827590  0.086144 -1.072139 -2.921350\n",
      "398  0.436560  0.903935 -2.362932 -1.009731\n",
      "399  0.619154  2.057495  0.020794 -0.728003\n",
      "\n",
      "[400 rows x 4 columns]\n"
     ]
    }
   ],
   "source": [
    "from pandas import Series, DataFrame\n",
    "import pandas as pd\n",
    "from numpy.random import randn\n",
    "import numpy as np\n",
    "np.random.seed(42)\n",
    "randomdata = DataFrame(np.random.randn(400, 4))\n",
    "print(randomdata)\n",
    "%matplotlib inline"
   ]
  },
  {
   "cell_type": "markdown",
   "metadata": {},
   "source": [
    "**27) Use the \"describe\" function to summarize the randomdata created above.**"
   ]
  },
  {
   "cell_type": "code",
   "execution_count": 29,
   "metadata": {},
   "outputs": [
    {
     "name": "stdout",
     "output_type": "stream",
     "text": [
      "                0           1           2           3\n",
      "count  400.000000  400.000000  400.000000  400.000000\n",
      "mean     0.035296    0.041202    0.046713    0.035939\n",
      "std      0.924153    1.028034    0.997816    1.024632\n",
      "min     -2.650970   -2.896255   -3.241267   -2.921350\n",
      "25%     -0.612942   -0.651856   -0.602684   -0.683766\n",
      "50%      0.052292    0.037928    0.036043    0.047190\n",
      "75%      0.634986    0.676014    0.652834    0.744011\n",
      "max      2.526932    3.852731    3.078881    2.720169\n"
     ]
    }
   ],
   "source": [
    "print(randomdata.describe())"
   ]
  },
  {
   "cell_type": "markdown",
   "metadata": {},
   "source": [
    "**28) Identify the rows which contains at least one item with absolute value greater than 1**"
   ]
  },
  {
   "cell_type": "code",
   "execution_count": 30,
   "metadata": {},
   "outputs": [
    {
     "name": "stdout",
     "output_type": "stream",
     "text": [
      "            0         1         2         3\n",
      "0    0.496714 -0.138264  0.647689  1.523030\n",
      "1   -0.234153 -0.234137  1.579213  0.767435\n",
      "3    0.241962 -1.913280 -1.724918 -0.562288\n",
      "4   -1.012831  0.314247 -0.908024 -1.412304\n",
      "5    1.465649 -0.225776  0.067528 -1.424748\n",
      "6   -0.544383  0.110923 -1.150994  0.375698\n",
      "7   -0.600639 -0.291694 -0.601707  1.852278\n",
      "8   -0.013497 -1.057711  0.822545 -1.220844\n",
      "9    0.208864 -1.959670 -1.328186  0.196861\n",
      "11  -1.478522 -0.719844 -0.460639  1.057122\n",
      "12   0.343618 -1.763040  0.324084 -0.385082\n",
      "13  -0.676922  0.611676  1.031000  0.931280\n",
      "15  -0.479174 -0.185659 -1.106335 -1.196207\n",
      "16   0.812526  1.356240 -0.072010  1.003533\n",
      "17   0.361636 -0.645120  0.361396  1.538037\n",
      "18  -0.035826  1.564644 -2.619745  0.821903\n",
      "19   0.087047 -0.299007  0.091761 -1.987569\n",
      "20  -0.219672  0.357113  1.477894 -0.518270\n",
      "23  -0.702053 -0.327662 -0.392108 -1.463515\n",
      "25  -1.415371 -0.420645 -0.342715 -0.802277\n",
      "26  -0.161286  0.404051  1.886186  0.174578\n",
      "27   0.257550 -0.074446 -1.918771 -0.026514\n",
      "28   0.060230  2.463242 -0.192361  0.301547\n",
      "29  -0.034712 -1.168678  1.142823  0.751933\n",
      "30   0.791032 -0.909387  1.402794 -1.401851\n",
      "31   0.586857  2.190456 -0.990536 -0.566298\n",
      "32   0.099651 -0.503476 -1.550663  0.068563\n",
      "33  -1.062304  0.473592 -0.919424  1.549934\n",
      "34  -0.783253 -0.322062  0.813517 -1.230864\n",
      "35   0.227460  1.307143 -1.607483  0.184634\n",
      "..        ...       ...       ...       ...\n",
      "362  1.238283  0.021272  0.308833  1.702215\n",
      "363  0.240753  2.601683  0.565510 -1.760763\n",
      "364  0.753342  0.381158  1.289753  0.673181\n",
      "365 -0.138456 -1.224298 -0.209023 -0.850520\n",
      "366 -0.580523  0.588578  1.669905  0.394672\n",
      "367 -1.195883  0.444603  1.196631 -0.609783\n",
      "370  0.722381 -0.372833  1.726964 -0.399636\n",
      "371  0.224685  0.932591 -1.418366 -1.760809\n",
      "372 -1.525656  1.262584 -0.551858  2.558199\n",
      "373 -0.564248  0.184551  1.542110  2.006093\n",
      "374  2.061504  1.208366  1.024063  0.592527\n",
      "377  0.088407  1.477530 -1.141689 -0.193659\n",
      "378 -0.716822 -1.866537 -0.082681 -0.121748\n",
      "379  1.513450  0.630812 -1.024187  1.854093\n",
      "380  1.221034  0.582098 -0.226484 -0.959439\n",
      "381 -0.372207  1.088749  1.884586  1.543244\n",
      "382 -0.488849 -1.119617  0.140886 -1.768439\n",
      "383  0.323168 -0.147603 -0.466037 -1.594703\n",
      "384  0.513600 -0.532701 -1.169917 -2.872262\n",
      "385 -0.027515  1.772252  1.661259 -0.457096\n",
      "387  0.766080  1.226933 -0.100154 -0.203674\n",
      "389  0.913585 -0.803179  1.492689 -0.271124\n",
      "390 -0.021367 -0.747212 -2.424240  0.884045\n",
      "392 -1.562546 -0.529053  0.794265 -1.254289\n",
      "393  0.293558 -1.356582  0.466430 -0.035641\n",
      "394 -1.615132  1.164739 -0.734592 -0.810252\n",
      "395  0.200569  1.148637 -1.015822  0.061680\n",
      "397 -0.827590  0.086144 -1.072139 -2.921350\n",
      "398  0.436560  0.903935 -2.362932 -1.009731\n",
      "399  0.619154  2.057495  0.020794 -0.728003\n",
      "\n",
      "[306 rows x 4 columns]\n"
     ]
    }
   ],
   "source": [
    "filtered_df = randomdata[(abs(randomdata[0]) > 1) | (abs(randomdata[1]) > 1) | (abs(randomdata[2]) > 1) | (abs(randomdata[3]) > 1)]\n",
    "print(filtered_df)"
   ]
  },
  {
   "cell_type": "markdown",
   "metadata": {},
   "source": [
    "**29) Set the values greater than 3 to 3, and the values less than -3 to -3.  Rerun the 'describe' function to summarize the randomdata dataset.**"
   ]
  },
  {
   "cell_type": "code",
   "execution_count": 41,
   "metadata": {},
   "outputs": [
    {
     "name": "stdout",
     "output_type": "stream",
     "text": [
      "Empty DataFrame\n",
      "Columns: [0, 1, 2, 3]\n",
      "Index: []\n"
     ]
    }
   ],
   "source": [
    "\n"
   ]
  },
  {
   "cell_type": "markdown",
   "metadata": {},
   "source": [
    "***Use the dataframe defined in the following cell to answer the next few questions***: "
   ]
  },
  {
   "cell_type": "code",
   "execution_count": 31,
   "metadata": {
    "scrolled": true
   },
   "outputs": [
    {
     "data": {
      "text/html": [
       "<div>\n",
       "<style>\n",
       "    .dataframe thead tr:only-child th {\n",
       "        text-align: right;\n",
       "    }\n",
       "\n",
       "    .dataframe thead th {\n",
       "        text-align: left;\n",
       "    }\n",
       "\n",
       "    .dataframe tbody tr th {\n",
       "        vertical-align: top;\n",
       "    }\n",
       "</style>\n",
       "<table border=\"1\" class=\"dataframe\">\n",
       "  <thead>\n",
       "    <tr style=\"text-align: right;\">\n",
       "      <th></th>\n",
       "      <th>GrossIn</th>\n",
       "      <th>GrossOut</th>\n",
       "      <th>NetIn</th>\n",
       "      <th>NetOut</th>\n",
       "    </tr>\n",
       "  </thead>\n",
       "  <tbody>\n",
       "    <tr>\n",
       "      <th>2015-11-29</th>\n",
       "      <td>-0.182896</td>\n",
       "      <td>1.374876</td>\n",
       "      <td>-0.645964</td>\n",
       "      <td>-0.799192</td>\n",
       "    </tr>\n",
       "    <tr>\n",
       "      <th>2015-12-06</th>\n",
       "      <td>-0.482744</td>\n",
       "      <td>-0.953329</td>\n",
       "      <td>0.122670</td>\n",
       "      <td>1.624678</td>\n",
       "    </tr>\n",
       "    <tr>\n",
       "      <th>2015-12-13</th>\n",
       "      <td>0.323079</td>\n",
       "      <td>-0.252354</td>\n",
       "      <td>-0.291811</td>\n",
       "      <td>-1.563191</td>\n",
       "    </tr>\n",
       "    <tr>\n",
       "      <th>2015-12-20</th>\n",
       "      <td>0.883110</td>\n",
       "      <td>-0.077837</td>\n",
       "      <td>-0.180480</td>\n",
       "      <td>3.193108</td>\n",
       "    </tr>\n",
       "    <tr>\n",
       "      <th>2015-12-27</th>\n",
       "      <td>0.298753</td>\n",
       "      <td>-0.751791</td>\n",
       "      <td>-0.426358</td>\n",
       "      <td>1.148446</td>\n",
       "    </tr>\n",
       "    <tr>\n",
       "      <th>2016-01-03</th>\n",
       "      <td>0.113270</td>\n",
       "      <td>-1.438278</td>\n",
       "      <td>0.919229</td>\n",
       "      <td>-0.668144</td>\n",
       "    </tr>\n",
       "    <tr>\n",
       "      <th>2016-01-10</th>\n",
       "      <td>1.873298</td>\n",
       "      <td>1.080048</td>\n",
       "      <td>-0.447322</td>\n",
       "      <td>1.281016</td>\n",
       "    </tr>\n",
       "    <tr>\n",
       "      <th>2016-01-17</th>\n",
       "      <td>0.067856</td>\n",
       "      <td>0.852774</td>\n",
       "      <td>0.484733</td>\n",
       "      <td>-0.846357</td>\n",
       "    </tr>\n",
       "    <tr>\n",
       "      <th>2016-01-24</th>\n",
       "      <td>-0.643550</td>\n",
       "      <td>1.029961</td>\n",
       "      <td>-0.334775</td>\n",
       "      <td>-0.403648</td>\n",
       "    </tr>\n",
       "    <tr>\n",
       "      <th>2016-01-31</th>\n",
       "      <td>-0.955123</td>\n",
       "      <td>0.423599</td>\n",
       "      <td>2.062525</td>\n",
       "      <td>-1.067533</td>\n",
       "    </tr>\n",
       "    <tr>\n",
       "      <th>2016-02-07</th>\n",
       "      <td>0.024219</td>\n",
       "      <td>1.412221</td>\n",
       "      <td>-0.079641</td>\n",
       "      <td>0.452372</td>\n",
       "    </tr>\n",
       "    <tr>\n",
       "      <th>2016-02-14</th>\n",
       "      <td>-1.062394</td>\n",
       "      <td>0.428307</td>\n",
       "      <td>-0.187144</td>\n",
       "      <td>0.985730</td>\n",
       "    </tr>\n",
       "    <tr>\n",
       "      <th>2016-02-21</th>\n",
       "      <td>1.187386</td>\n",
       "      <td>2.589564</td>\n",
       "      <td>0.579633</td>\n",
       "      <td>0.325796</td>\n",
       "    </tr>\n",
       "    <tr>\n",
       "      <th>2016-02-28</th>\n",
       "      <td>0.194384</td>\n",
       "      <td>-0.353166</td>\n",
       "      <td>0.338484</td>\n",
       "      <td>-0.295401</td>\n",
       "    </tr>\n",
       "    <tr>\n",
       "      <th>2016-03-06</th>\n",
       "      <td>0.168461</td>\n",
       "      <td>1.317598</td>\n",
       "      <td>-1.006543</td>\n",
       "      <td>1.139879</td>\n",
       "    </tr>\n",
       "    <tr>\n",
       "      <th>2016-03-13</th>\n",
       "      <td>1.317115</td>\n",
       "      <td>-0.118069</td>\n",
       "      <td>-2.121855</td>\n",
       "      <td>-0.607822</td>\n",
       "    </tr>\n",
       "    <tr>\n",
       "      <th>2016-03-20</th>\n",
       "      <td>1.296995</td>\n",
       "      <td>-0.022868</td>\n",
       "      <td>-0.999302</td>\n",
       "      <td>-0.504775</td>\n",
       "    </tr>\n",
       "    <tr>\n",
       "      <th>2016-03-27</th>\n",
       "      <td>0.840620</td>\n",
       "      <td>0.546734</td>\n",
       "      <td>-0.238932</td>\n",
       "      <td>-0.366824</td>\n",
       "    </tr>\n",
       "    <tr>\n",
       "      <th>2016-04-03</th>\n",
       "      <td>-0.391758</td>\n",
       "      <td>-0.922410</td>\n",
       "      <td>1.615376</td>\n",
       "      <td>-0.322320</td>\n",
       "    </tr>\n",
       "    <tr>\n",
       "      <th>2016-04-10</th>\n",
       "      <td>1.217159</td>\n",
       "      <td>1.521316</td>\n",
       "      <td>0.998311</td>\n",
       "      <td>-0.431620</td>\n",
       "    </tr>\n",
       "    <tr>\n",
       "      <th>2016-04-17</th>\n",
       "      <td>0.403730</td>\n",
       "      <td>-0.024196</td>\n",
       "      <td>-0.903702</td>\n",
       "      <td>0.324359</td>\n",
       "    </tr>\n",
       "    <tr>\n",
       "      <th>2016-04-24</th>\n",
       "      <td>-1.179040</td>\n",
       "      <td>1.187679</td>\n",
       "      <td>-0.464617</td>\n",
       "      <td>0.201160</td>\n",
       "    </tr>\n",
       "    <tr>\n",
       "      <th>2016-05-01</th>\n",
       "      <td>0.283288</td>\n",
       "      <td>-0.258905</td>\n",
       "      <td>0.586694</td>\n",
       "      <td>-0.474904</td>\n",
       "    </tr>\n",
       "    <tr>\n",
       "      <th>2016-05-08</th>\n",
       "      <td>0.871297</td>\n",
       "      <td>-1.345980</td>\n",
       "      <td>0.126380</td>\n",
       "      <td>1.938929</td>\n",
       "    </tr>\n",
       "    <tr>\n",
       "      <th>2016-05-15</th>\n",
       "      <td>-1.000331</td>\n",
       "      <td>-0.677745</td>\n",
       "      <td>0.513908</td>\n",
       "      <td>0.179582</td>\n",
       "    </tr>\n",
       "    <tr>\n",
       "      <th>2016-05-22</th>\n",
       "      <td>0.350630</td>\n",
       "      <td>0.489187</td>\n",
       "      <td>0.634721</td>\n",
       "      <td>1.109700</td>\n",
       "    </tr>\n",
       "    <tr>\n",
       "      <th>2016-05-29</th>\n",
       "      <td>0.409819</td>\n",
       "      <td>-0.241258</td>\n",
       "      <td>0.672574</td>\n",
       "      <td>1.899882</td>\n",
       "    </tr>\n",
       "    <tr>\n",
       "      <th>2016-06-05</th>\n",
       "      <td>-0.132634</td>\n",
       "      <td>-0.974529</td>\n",
       "      <td>1.107081</td>\n",
       "      <td>-0.120381</td>\n",
       "    </tr>\n",
       "    <tr>\n",
       "      <th>2016-06-12</th>\n",
       "      <td>-2.172670</td>\n",
       "      <td>0.847422</td>\n",
       "      <td>-0.535328</td>\n",
       "      <td>-0.090533</td>\n",
       "    </tr>\n",
       "    <tr>\n",
       "      <th>2016-06-19</th>\n",
       "      <td>0.331980</td>\n",
       "      <td>0.190500</td>\n",
       "      <td>0.709452</td>\n",
       "      <td>-0.435486</td>\n",
       "    </tr>\n",
       "    <tr>\n",
       "      <th>2016-06-26</th>\n",
       "      <td>0.513106</td>\n",
       "      <td>-0.259547</td>\n",
       "      <td>0.738810</td>\n",
       "      <td>0.615367</td>\n",
       "    </tr>\n",
       "    <tr>\n",
       "      <th>2016-07-03</th>\n",
       "      <td>-0.935439</td>\n",
       "      <td>1.085982</td>\n",
       "      <td>-0.535963</td>\n",
       "      <td>0.808058</td>\n",
       "    </tr>\n",
       "    <tr>\n",
       "      <th>2016-07-10</th>\n",
       "      <td>0.367287</td>\n",
       "      <td>1.838184</td>\n",
       "      <td>-0.223466</td>\n",
       "      <td>-0.349317</td>\n",
       "    </tr>\n",
       "    <tr>\n",
       "      <th>2016-07-17</th>\n",
       "      <td>-0.019420</td>\n",
       "      <td>-0.303180</td>\n",
       "      <td>0.799942</td>\n",
       "      <td>-1.616311</td>\n",
       "    </tr>\n",
       "    <tr>\n",
       "      <th>2016-07-24</th>\n",
       "      <td>-1.053682</td>\n",
       "      <td>-1.067803</td>\n",
       "      <td>0.950308</td>\n",
       "      <td>1.710613</td>\n",
       "    </tr>\n",
       "    <tr>\n",
       "      <th>2016-07-31</th>\n",
       "      <td>-0.104449</td>\n",
       "      <td>-0.168822</td>\n",
       "      <td>0.070052</td>\n",
       "      <td>1.161878</td>\n",
       "    </tr>\n",
       "    <tr>\n",
       "      <th>2016-08-07</th>\n",
       "      <td>-0.927353</td>\n",
       "      <td>0.238369</td>\n",
       "      <td>0.975198</td>\n",
       "      <td>0.501094</td>\n",
       "    </tr>\n",
       "    <tr>\n",
       "      <th>2016-08-14</th>\n",
       "      <td>0.189582</td>\n",
       "      <td>1.001046</td>\n",
       "      <td>-2.703232</td>\n",
       "      <td>0.677875</td>\n",
       "    </tr>\n",
       "    <tr>\n",
       "      <th>2016-08-21</th>\n",
       "      <td>-0.654076</td>\n",
       "      <td>-1.830633</td>\n",
       "      <td>0.511203</td>\n",
       "      <td>1.373659</td>\n",
       "    </tr>\n",
       "    <tr>\n",
       "      <th>2016-08-28</th>\n",
       "      <td>-0.137449</td>\n",
       "      <td>0.952875</td>\n",
       "      <td>1.612278</td>\n",
       "      <td>1.314914</td>\n",
       "    </tr>\n",
       "    <tr>\n",
       "      <th>2016-09-04</th>\n",
       "      <td>1.639965</td>\n",
       "      <td>0.742127</td>\n",
       "      <td>0.075434</td>\n",
       "      <td>-1.601966</td>\n",
       "    </tr>\n",
       "    <tr>\n",
       "      <th>2016-09-11</th>\n",
       "      <td>-0.246062</td>\n",
       "      <td>-0.843247</td>\n",
       "      <td>2.170943</td>\n",
       "      <td>-0.175886</td>\n",
       "    </tr>\n",
       "    <tr>\n",
       "      <th>2016-09-18</th>\n",
       "      <td>0.123205</td>\n",
       "      <td>0.551485</td>\n",
       "      <td>0.043602</td>\n",
       "      <td>1.695051</td>\n",
       "    </tr>\n",
       "    <tr>\n",
       "      <th>2016-09-25</th>\n",
       "      <td>-0.622649</td>\n",
       "      <td>0.194607</td>\n",
       "      <td>-0.742471</td>\n",
       "      <td>-1.320023</td>\n",
       "    </tr>\n",
       "    <tr>\n",
       "      <th>2016-10-02</th>\n",
       "      <td>-0.611769</td>\n",
       "      <td>-0.037037</td>\n",
       "      <td>-0.429302</td>\n",
       "      <td>-0.692421</td>\n",
       "    </tr>\n",
       "    <tr>\n",
       "      <th>2016-10-09</th>\n",
       "      <td>-1.406317</td>\n",
       "      <td>-0.083106</td>\n",
       "      <td>-1.504720</td>\n",
       "      <td>0.760056</td>\n",
       "    </tr>\n",
       "    <tr>\n",
       "      <th>2016-10-16</th>\n",
       "      <td>0.082440</td>\n",
       "      <td>-1.457551</td>\n",
       "      <td>-0.309209</td>\n",
       "      <td>-0.752156</td>\n",
       "    </tr>\n",
       "    <tr>\n",
       "      <th>2016-10-23</th>\n",
       "      <td>0.319175</td>\n",
       "      <td>1.340450</td>\n",
       "      <td>-1.875172</td>\n",
       "      <td>0.115026</td>\n",
       "    </tr>\n",
       "    <tr>\n",
       "      <th>2016-10-30</th>\n",
       "      <td>-0.160133</td>\n",
       "      <td>0.671340</td>\n",
       "      <td>0.213197</td>\n",
       "      <td>-0.751969</td>\n",
       "    </tr>\n",
       "    <tr>\n",
       "      <th>2016-11-06</th>\n",
       "      <td>-0.319054</td>\n",
       "      <td>-0.796026</td>\n",
       "      <td>1.076007</td>\n",
       "      <td>0.021312</td>\n",
       "    </tr>\n",
       "    <tr>\n",
       "      <th>2016-11-13</th>\n",
       "      <td>1.901191</td>\n",
       "      <td>-0.060661</td>\n",
       "      <td>-0.708407</td>\n",
       "      <td>-1.513714</td>\n",
       "    </tr>\n",
       "    <tr>\n",
       "      <th>2016-11-20</th>\n",
       "      <td>-1.803140</td>\n",
       "      <td>-1.584136</td>\n",
       "      <td>0.267127</td>\n",
       "      <td>0.508725</td>\n",
       "    </tr>\n",
       "    <tr>\n",
       "      <th>2016-11-27</th>\n",
       "      <td>-1.581191</td>\n",
       "      <td>0.895038</td>\n",
       "      <td>-0.483061</td>\n",
       "      <td>0.146793</td>\n",
       "    </tr>\n",
       "    <tr>\n",
       "      <th>2016-12-04</th>\n",
       "      <td>1.612221</td>\n",
       "      <td>0.896839</td>\n",
       "      <td>-0.268531</td>\n",
       "      <td>-0.891192</td>\n",
       "    </tr>\n",
       "    <tr>\n",
       "      <th>2016-12-11</th>\n",
       "      <td>-2.151815</td>\n",
       "      <td>-0.719153</td>\n",
       "      <td>-0.211130</td>\n",
       "      <td>-0.987180</td>\n",
       "    </tr>\n",
       "    <tr>\n",
       "      <th>2016-12-18</th>\n",
       "      <td>-0.131257</td>\n",
       "      <td>0.076852</td>\n",
       "      <td>-0.224856</td>\n",
       "      <td>-0.650003</td>\n",
       "    </tr>\n",
       "    <tr>\n",
       "      <th>2016-12-25</th>\n",
       "      <td>0.168655</td>\n",
       "      <td>0.441941</td>\n",
       "      <td>-1.090399</td>\n",
       "      <td>1.410932</td>\n",
       "    </tr>\n",
       "    <tr>\n",
       "      <th>2017-01-01</th>\n",
       "      <td>-0.098588</td>\n",
       "      <td>0.018850</td>\n",
       "      <td>0.708214</td>\n",
       "      <td>0.233216</td>\n",
       "    </tr>\n",
       "    <tr>\n",
       "      <th>2017-01-08</th>\n",
       "      <td>0.953137</td>\n",
       "      <td>0.287124</td>\n",
       "      <td>-0.612437</td>\n",
       "      <td>0.361504</td>\n",
       "    </tr>\n",
       "  </tbody>\n",
       "</table>\n",
       "</div>"
      ],
      "text/plain": [
       "             GrossIn  GrossOut     NetIn    NetOut\n",
       "2015-11-29 -0.182896  1.374876 -0.645964 -0.799192\n",
       "2015-12-06 -0.482744 -0.953329  0.122670  1.624678\n",
       "2015-12-13  0.323079 -0.252354 -0.291811 -1.563191\n",
       "2015-12-20  0.883110 -0.077837 -0.180480  3.193108\n",
       "2015-12-27  0.298753 -0.751791 -0.426358  1.148446\n",
       "2016-01-03  0.113270 -1.438278  0.919229 -0.668144\n",
       "2016-01-10  1.873298  1.080048 -0.447322  1.281016\n",
       "2016-01-17  0.067856  0.852774  0.484733 -0.846357\n",
       "2016-01-24 -0.643550  1.029961 -0.334775 -0.403648\n",
       "2016-01-31 -0.955123  0.423599  2.062525 -1.067533\n",
       "2016-02-07  0.024219  1.412221 -0.079641  0.452372\n",
       "2016-02-14 -1.062394  0.428307 -0.187144  0.985730\n",
       "2016-02-21  1.187386  2.589564  0.579633  0.325796\n",
       "2016-02-28  0.194384 -0.353166  0.338484 -0.295401\n",
       "2016-03-06  0.168461  1.317598 -1.006543  1.139879\n",
       "2016-03-13  1.317115 -0.118069 -2.121855 -0.607822\n",
       "2016-03-20  1.296995 -0.022868 -0.999302 -0.504775\n",
       "2016-03-27  0.840620  0.546734 -0.238932 -0.366824\n",
       "2016-04-03 -0.391758 -0.922410  1.615376 -0.322320\n",
       "2016-04-10  1.217159  1.521316  0.998311 -0.431620\n",
       "2016-04-17  0.403730 -0.024196 -0.903702  0.324359\n",
       "2016-04-24 -1.179040  1.187679 -0.464617  0.201160\n",
       "2016-05-01  0.283288 -0.258905  0.586694 -0.474904\n",
       "2016-05-08  0.871297 -1.345980  0.126380  1.938929\n",
       "2016-05-15 -1.000331 -0.677745  0.513908  0.179582\n",
       "2016-05-22  0.350630  0.489187  0.634721  1.109700\n",
       "2016-05-29  0.409819 -0.241258  0.672574  1.899882\n",
       "2016-06-05 -0.132634 -0.974529  1.107081 -0.120381\n",
       "2016-06-12 -2.172670  0.847422 -0.535328 -0.090533\n",
       "2016-06-19  0.331980  0.190500  0.709452 -0.435486\n",
       "2016-06-26  0.513106 -0.259547  0.738810  0.615367\n",
       "2016-07-03 -0.935439  1.085982 -0.535963  0.808058\n",
       "2016-07-10  0.367287  1.838184 -0.223466 -0.349317\n",
       "2016-07-17 -0.019420 -0.303180  0.799942 -1.616311\n",
       "2016-07-24 -1.053682 -1.067803  0.950308  1.710613\n",
       "2016-07-31 -0.104449 -0.168822  0.070052  1.161878\n",
       "2016-08-07 -0.927353  0.238369  0.975198  0.501094\n",
       "2016-08-14  0.189582  1.001046 -2.703232  0.677875\n",
       "2016-08-21 -0.654076 -1.830633  0.511203  1.373659\n",
       "2016-08-28 -0.137449  0.952875  1.612278  1.314914\n",
       "2016-09-04  1.639965  0.742127  0.075434 -1.601966\n",
       "2016-09-11 -0.246062 -0.843247  2.170943 -0.175886\n",
       "2016-09-18  0.123205  0.551485  0.043602  1.695051\n",
       "2016-09-25 -0.622649  0.194607 -0.742471 -1.320023\n",
       "2016-10-02 -0.611769 -0.037037 -0.429302 -0.692421\n",
       "2016-10-09 -1.406317 -0.083106 -1.504720  0.760056\n",
       "2016-10-16  0.082440 -1.457551 -0.309209 -0.752156\n",
       "2016-10-23  0.319175  1.340450 -1.875172  0.115026\n",
       "2016-10-30 -0.160133  0.671340  0.213197 -0.751969\n",
       "2016-11-06 -0.319054 -0.796026  1.076007  0.021312\n",
       "2016-11-13  1.901191 -0.060661 -0.708407 -1.513714\n",
       "2016-11-20 -1.803140 -1.584136  0.267127  0.508725\n",
       "2016-11-27 -1.581191  0.895038 -0.483061  0.146793\n",
       "2016-12-04  1.612221  0.896839 -0.268531 -0.891192\n",
       "2016-12-11 -2.151815 -0.719153 -0.211130 -0.987180\n",
       "2016-12-18 -0.131257  0.076852 -0.224856 -0.650003\n",
       "2016-12-25  0.168655  0.441941 -1.090399  1.410932\n",
       "2017-01-01 -0.098588  0.018850  0.708214  0.233216\n",
       "2017-01-08  0.953137  0.287124 -0.612437  0.361504"
      ]
     },
     "execution_count": 31,
     "metadata": {},
     "output_type": "execute_result"
    }
   ],
   "source": [
    "df2 = pd.DataFrame(np.random.randn(59,4))\n",
    "cols = ['GrossIn', 'GrossOut', 'NetIn', 'NetOut']\n",
    "df2.columns = cols\n",
    "dates = pd.date_range(start='2015-11-29', freq='W', periods=59)\n",
    "df2.index = dates\n",
    "df2"
   ]
  },
  {
   "cell_type": "markdown",
   "metadata": {},
   "source": [
    "**30) Print all the data from 2016-06-19 to 2016-10-20 in df2 above.**"
   ]
  },
  {
   "cell_type": "code",
   "execution_count": 32,
   "metadata": {},
   "outputs": [
    {
     "name": "stdout",
     "output_type": "stream",
     "text": [
      "             GrossIn  GrossOut     NetIn    NetOut\n",
      "2016-06-19  0.331980  0.190500  0.709452 -0.435486\n",
      "2016-06-26  0.513106 -0.259547  0.738810  0.615367\n",
      "2016-07-03 -0.935439  1.085982 -0.535963  0.808058\n",
      "2016-07-10  0.367287  1.838184 -0.223466 -0.349317\n",
      "2016-07-17 -0.019420 -0.303180  0.799942 -1.616311\n",
      "2016-07-24 -1.053682 -1.067803  0.950308  1.710613\n",
      "2016-07-31 -0.104449 -0.168822  0.070052  1.161878\n",
      "2016-08-07 -0.927353  0.238369  0.975198  0.501094\n",
      "2016-08-14  0.189582  1.001046 -2.703232  0.677875\n",
      "2016-08-21 -0.654076 -1.830633  0.511203  1.373659\n",
      "2016-08-28 -0.137449  0.952875  1.612278  1.314914\n",
      "2016-09-04  1.639965  0.742127  0.075434 -1.601966\n",
      "2016-09-11 -0.246062 -0.843247  2.170943 -0.175886\n",
      "2016-09-18  0.123205  0.551485  0.043602  1.695051\n",
      "2016-09-25 -0.622649  0.194607 -0.742471 -1.320023\n",
      "2016-10-02 -0.611769 -0.037037 -0.429302 -0.692421\n",
      "2016-10-09 -1.406317 -0.083106 -1.504720  0.760056\n",
      "2016-10-16  0.082440 -1.457551 -0.309209 -0.752156\n"
     ]
    }
   ],
   "source": [
    "print(df2.loc['2016-06-19':'2016-10-20'])"
   ]
  },
  {
   "cell_type": "markdown",
   "metadata": {},
   "source": [
    "**31) What was the GrossIn and NetIn for 2016-09-18? Print the results. **"
   ]
  },
  {
   "cell_type": "code",
   "execution_count": 33,
   "metadata": {},
   "outputs": [
    {
     "name": "stdout",
     "output_type": "stream",
     "text": [
      "GrossIn:\n",
      "0.123204806784\n",
      "\n",
      "\n",
      "NetIn:\n",
      "0.0436024463725\n"
     ]
    }
   ],
   "source": [
    "print(\"GrossIn:\")\n",
    "print(df2.loc['2016-09-18']['GrossIn'])\n",
    "print(\"\\n\")\n",
    "print(\"NetIn:\")\n",
    "print(df2.loc['2016-09-18']['NetIn'])"
   ]
  },
  {
   "cell_type": "markdown",
   "metadata": {},
   "source": [
    "**32) Sum all the GrossOut and NetOut for the month of March 2016 in df2. Print the results. **"
   ]
  },
  {
   "cell_type": "code",
   "execution_count": 34,
   "metadata": {},
   "outputs": [
    {
     "name": "stdout",
     "output_type": "stream",
     "text": [
      "Sum of GrossOut:\n",
      "1.723394514519378\n",
      "\n",
      "\n",
      "Sum of NetOut:\n",
      "-0.33954275900829206\n"
     ]
    }
   ],
   "source": [
    "print(\"Sum of GrossOut:\")\n",
    "print(df2.loc['2016-03-01':'2016-3-31']['GrossOut'].sum())\n",
    "print(\"\\n\")\n",
    "print(\"Sum of NetOut:\")\n",
    "print(df2.loc['2016-03-01':'2016-3-31']['NetOut'].sum())"
   ]
  },
  {
   "cell_type": "markdown",
   "metadata": {},
   "source": [
    "**33) Find all the days GrossOut was greater than GrossIn in df2. Print the results.**"
   ]
  },
  {
   "cell_type": "code",
   "execution_count": 35,
   "metadata": {},
   "outputs": [
    {
     "name": "stdout",
     "output_type": "stream",
     "text": [
      "GrossOut was greater than GrossIn on the following days:\n",
      "\n",
      "['2015-11-29T00:00:00.000000000' '2016-01-17T00:00:00.000000000'\n",
      " '2016-01-24T00:00:00.000000000' '2016-01-31T00:00:00.000000000'\n",
      " '2016-02-07T00:00:00.000000000' '2016-02-14T00:00:00.000000000'\n",
      " '2016-02-21T00:00:00.000000000' '2016-03-06T00:00:00.000000000'\n",
      " '2016-04-10T00:00:00.000000000' '2016-04-24T00:00:00.000000000'\n",
      " '2016-05-15T00:00:00.000000000' '2016-05-22T00:00:00.000000000'\n",
      " '2016-06-12T00:00:00.000000000' '2016-07-03T00:00:00.000000000'\n",
      " '2016-07-10T00:00:00.000000000' '2016-08-07T00:00:00.000000000'\n",
      " '2016-08-14T00:00:00.000000000' '2016-08-28T00:00:00.000000000'\n",
      " '2016-09-18T00:00:00.000000000' '2016-09-25T00:00:00.000000000'\n",
      " '2016-10-02T00:00:00.000000000' '2016-10-09T00:00:00.000000000'\n",
      " '2016-10-23T00:00:00.000000000' '2016-10-30T00:00:00.000000000'\n",
      " '2016-11-20T00:00:00.000000000' '2016-11-27T00:00:00.000000000'\n",
      " '2016-12-11T00:00:00.000000000' '2016-12-18T00:00:00.000000000'\n",
      " '2016-12-25T00:00:00.000000000' '2017-01-01T00:00:00.000000000']\n"
     ]
    }
   ],
   "source": [
    "filtered_df2 = df2[(df2['GrossOut']) > (df2['GrossIn'])]\n",
    "print(\"GrossOut was greater than GrossIn on the following days:\\n\")\n",
    "print(filtered_df2.index.values)"
   ]
  },
  {
   "cell_type": "markdown",
   "metadata": {},
   "source": [
    "**34) What percentage was the total NetOut of the total NetIn in the year 2016 from df2 above? **"
   ]
  },
  {
   "cell_type": "code",
   "execution_count": 36,
   "metadata": {},
   "outputs": [
    {
     "name": "stdout",
     "output_type": "stream",
     "text": [
      "The percentage was 212.30324322981505%.\n"
     ]
    }
   ],
   "source": [
    "netOutSum = df2.loc['2016-01-01':'2016-12-31']['NetOut'].sum()\n",
    "netInSum = df2.loc['2016-01-01':'2016-12-31']['NetIn'].sum()\n",
    "\n",
    "percentage = (netOutSum / netInSum) * 100\n",
    "\n",
    "print(\"The percentage was \" + str(percentage) +\"%.\")"
   ]
  },
  {
   "cell_type": "markdown",
   "metadata": {},
   "source": [
    "**35) Plot values for 2016 on a line graph for the GrossOut and GrossIn in df2:**"
   ]
  },
  {
   "cell_type": "code",
   "execution_count": 37,
   "metadata": {},
   "outputs": [
    {
     "data": {
      "text/plain": [
       "<matplotlib.axes._subplots.AxesSubplot at 0x1a146d2780>"
      ]
     },
     "execution_count": 37,
     "metadata": {},
     "output_type": "execute_result"
    },
    {
     "data": {
      "image/png": "[encoded data removed]",
      "text/plain": [
       "<matplotlib.figure.Figure at 0x1a14712d30>"
      ]
     },
     "metadata": {},
     "output_type": "display_data"
    }
   ],
   "source": [
    "df2.loc['2016-01-01':'2016-12-31'].plot.line(y=['GrossIn', 'GrossOut'])"
   ]
  },
  {
   "cell_type": "markdown",
   "metadata": {},
   "source": [
    "**36) Plot 4 different HISTOGRAMS of df2.GrossIn each having 5,10,15,20 bins.**<br> \n",
    "Hint: use the following code  to plot the histograms on different subplots. <br> \n",
    "\n",
    "import matplotlib.pyplot as plt<br> \n",
    "fig, ax = plt.subplots(nrows=2, ncols=2)<br> \n",
    "dataframe.plot(ax=ax[0,0])# this is just an example of how to plot on a top right subplot (2x2)"
   ]
  },
  {
   "cell_type": "code",
   "execution_count": 38,
   "metadata": {},
   "outputs": [
    {
     "data": {
      "text/plain": [
       "<matplotlib.axes._subplots.AxesSubplot at 0x1a1ce29208>"
      ]
     },
     "execution_count": 38,
     "metadata": {},
     "output_type": "execute_result"
    },
    {
     "data": {
      "image/png": "[encoded data removed]",
      "text/plain": [
       "<matplotlib.figure.Figure at 0x1a1cc5b3c8>"
      ]
     },
     "metadata": {},
     "output_type": "display_data"
    }
   ],
   "source": [
    "import matplotlib.pyplot as plt\n",
    "fig, ax = plt.subplots(nrows=2, ncols=2)\n",
    "df2.GrossIn.hist(ax=ax[0,0], bins=5)# this is just an example of how to plot on a top right subplot (2x2)\n",
    "df2.GrossIn.hist(ax=ax[0,1], bins=10)\n",
    "df2.GrossIn.hist(ax=ax[1,0], bins=15)\n",
    "df2.GrossIn.hist(ax=ax[1,1], bins=20)"
   ]
  },
  {
   "cell_type": "markdown",
   "metadata": {},
   "source": [
    "**37) What is your favorite pizza topping? None is not a valid answer. I don't care if you are off gluten.**"
   ]
  },
  {
   "cell_type": "code",
   "execution_count": 39,
   "metadata": {},
   "outputs": [
    {
     "name": "stdout",
     "output_type": "stream",
     "text": [
      "Mushrooms\n"
     ]
    }
   ],
   "source": [
    "print(\"Mushrooms\")"
   ]
  },
  {
   "cell_type": "markdown",
   "metadata": {},
   "source": [
    "**38) Import pandas libary with the alias pd**"
   ]
  },
  {
   "cell_type": "code",
   "execution_count": 40,
   "metadata": {
    "collapsed": true
   },
   "outputs": [],
   "source": [
    "import pandas as pd"
   ]
  },
  {
   "cell_type": "markdown",
   "metadata": {},
   "source": [
    "**39)You are given the Medicare spending dataset. Read it into a pandas dataframe. Then remove the 2 unused columns 'Measure Start Date' and 'Measure End Date' from the DataFrame all in the following cell. Provide your code as the answer. **\n",
    "\n",
    "***You need to put the data file ‘Medicare_Hospital_Spending_by_Claim.csv’ at the same place as your notebook file.***\n",
    "\n"
   ]
  },
  {
   "cell_type": "code",
   "execution_count": 41,
   "metadata": {},
   "outputs": [
    {
     "name": "stdout",
     "output_type": "stream",
     "text": [
      "                      Hospital Name  Provider Number  State  \\\n",
      "0  SOUTHEAST ALABAMA MEDICAL CENTER             10001    AL   \n",
      "1  SOUTHEAST ALABAMA MEDICAL CENTER             10001    AL   \n",
      "2  SOUTHEAST ALABAMA MEDICAL CENTER             10001    AL   \n",
      "3  SOUTHEAST ALABAMA MEDICAL CENTER             10001    AL   \n",
      "4  SOUTHEAST ALABAMA MEDICAL CENTER             10001    AL   \n",
      "\n",
      "                                          Period                Claim Type  \\\n",
      "0  1 to 3 days Prior to Index Hospital Admission        Home Health Agency   \n",
      "1  1 to 3 days Prior to Index Hospital Admission                   Hospice   \n",
      "2  1 to 3 days Prior to Index Hospital Admission                 Inpatient   \n",
      "3  1 to 3 days Prior to Index Hospital Admission                Outpatient   \n",
      "4  1 to 3 days Prior to Index Hospital Admission  Skilled Nursing Facility   \n",
      "\n",
      "  Avg Spending Per Episode (Hospital) Avg Spending Per Episode (State)  \\\n",
      "0                                 $12                              $14   \n",
      "1                                  $1                               $1   \n",
      "2                                  $6                               $6   \n",
      "3                                $160                              $85   \n",
      "4                                  $1                               $2   \n",
      "\n",
      "  Avg Spending Per Episode (Nation) Percent of Spending (Hospital)  \\\n",
      "0                               $13                          0.06%   \n",
      "1                                $1                          0.01%   \n",
      "2                                $5                          0.03%   \n",
      "3                              $117                          0.84%   \n",
      "4                                $2                          0.01%   \n",
      "\n",
      "  Percent of Spending (State) Percent of Spending (Nation)  \n",
      "0                       0.07%                        0.07%  \n",
      "1                       0.01%                           0%  \n",
      "2                       0.03%                        0.03%  \n",
      "3                       0.46%                        0.58%  \n",
      "4                       0.01%                        0.01%  \n"
     ]
    }
   ],
   "source": [
    "medicare = pd.read_csv(\"Medicare_Hospital_Spending_by_Claim.csv\")\n",
    "medicare.drop(['Measure Start Date', 'Measure End Date'], axis=1, inplace=True)\n",
    "print(medicare.head())"
   ]
  },
  {
   "cell_type": "markdown",
   "metadata": {},
   "source": [
    "**40) Replace columns names...replace the original long column names in the dataframe above (Q - 39) with shorter ones provided below in \"newColumns\".  Provide your code and the resulting new column names as the answer.**\n",
    "<br/>\n",
    "newColumns = ['Hospital', 'Provider ID', 'State', 'Period', 'Claim Type', 'Avg Spending Hospital', 'Avg Spending State', 'Avg Spending Nation', 'Percent Spending Hospital', 'Percent Spending State', 'Percent Spending Nation']"
   ]
  },
  {
   "cell_type": "code",
   "execution_count": 42,
   "metadata": {},
   "outputs": [
    {
     "name": "stdout",
     "output_type": "stream",
     "text": [
      "                           Hospital  Provider ID State  \\\n",
      "0  SOUTHEAST ALABAMA MEDICAL CENTER        10001    AL   \n",
      "1  SOUTHEAST ALABAMA MEDICAL CENTER        10001    AL   \n",
      "2  SOUTHEAST ALABAMA MEDICAL CENTER        10001    AL   \n",
      "3  SOUTHEAST ALABAMA MEDICAL CENTER        10001    AL   \n",
      "4  SOUTHEAST ALABAMA MEDICAL CENTER        10001    AL   \n",
      "\n",
      "                                          Period                Claim Type  \\\n",
      "0  1 to 3 days Prior to Index Hospital Admission        Home Health Agency   \n",
      "1  1 to 3 days Prior to Index Hospital Admission                   Hospice   \n",
      "2  1 to 3 days Prior to Index Hospital Admission                 Inpatient   \n",
      "3  1 to 3 days Prior to Index Hospital Admission                Outpatient   \n",
      "4  1 to 3 days Prior to Index Hospital Admission  Skilled Nursing Facility   \n",
      "\n",
      "  Avg Spending Hospital Avg Spending State Avg Spending Nation  \\\n",
      "0                   $12                $14                 $13   \n",
      "1                    $1                 $1                  $1   \n",
      "2                    $6                 $6                  $5   \n",
      "3                  $160                $85                $117   \n",
      "4                    $1                 $2                  $2   \n",
      "\n",
      "  Percent Spending Hospital Percent Spending State Percent Spending Nation  \n",
      "0                     0.06%                  0.07%                   0.07%  \n",
      "1                     0.01%                  0.01%                      0%  \n",
      "2                     0.03%                  0.03%                   0.03%  \n",
      "3                     0.84%                  0.46%                   0.58%  \n",
      "4                     0.01%                  0.01%                   0.01%  \n"
     ]
    }
   ],
   "source": [
    "newColumns = ['Hospital', 'Provider ID', 'State', 'Period', 'Claim Type', 'Avg Spending Hospital', 'Avg Spending State', 'Avg Spending Nation', 'Percent Spending Hospital', 'Percent Spending State', 'Percent Spending Nation']\n",
    "medicare.columns = newColumns\n",
    "\n",
    "print(medicare.head())"
   ]
  },
  {
   "cell_type": "markdown",
   "metadata": {},
   "source": [
    "**41) Find the statistics of average (mean) and percentage spending for different states, claim types, and hospitals.  In the cell below using the same dataframe used in 39 and 40. Place your code and print your results in the cell below **"
   ]
  },
  {
   "cell_type": "code",
   "execution_count": 43,
   "metadata": {},
   "outputs": [
    {
     "name": "stdout",
     "output_type": "stream",
     "text": [
      "                                Provider ID\n",
      "State Percent Spending State               \n",
      "AK    0%                       20015.444444\n",
      "      0.01%                    20015.444444\n",
      "      0.02%                    20015.444444\n",
      "      0.03%                    20015.444444\n",
      "      0.1%                     20015.444444\n",
      "      0.44%                    20015.444444\n",
      "      0.54%                    20015.444444\n",
      "      0.71%                    20015.444444\n",
      "      100%                     20015.444444\n",
      "      15.98%                   20015.444444\n",
      "      2.63%                    20015.444444\n",
      "      2.91%                    20015.444444\n",
      "      3.92%                    20015.444444\n",
      "      4.26%                    20015.444444\n",
      "      51.33%                   20015.444444\n",
      "      7.33%                    20015.444444\n",
      "      9.73%                    20015.444444\n",
      "AL    0%                       10079.841463\n",
      "      0.01%                    10079.841463\n",
      "      0.03%                    10079.841463\n",
      "      0.05%                    10079.841463\n",
      "      0.07%                    10079.841463\n",
      "      0.17%                    10079.841463\n",
      "      0.46%                    10079.841463\n",
      "      0.67%                    10079.841463\n",
      "      0.76%                    10079.841463\n",
      "      100%                     10079.841463\n",
      "      13.1%                    10079.841463\n",
      "      14.02%                   10079.841463\n",
      "      2.65%                    10079.841463\n",
      "...                                     ...\n",
      "WV    0.57%                   510039.607143\n",
      "      0.59%                   510039.607143\n",
      "      0.74%                   510039.607143\n",
      "      100%                    510039.607143\n",
      "      11.66%                  510039.607143\n",
      "      15.05%                  510039.607143\n",
      "      3.35%                   510039.607143\n",
      "      3.58%                   510039.607143\n",
      "      4.14%                   510039.607143\n",
      "      47.33%                  510039.607143\n",
      "      5.36%                   510039.607143\n",
      "      7.26%                   510039.607143\n",
      "WY    0%                      530015.800000\n",
      "      0.01%                   530015.800000\n",
      "      0.03%                   530015.800000\n",
      "      0.04%                   530015.800000\n",
      "      0.05%                   530015.800000\n",
      "      0.24%                   530015.800000\n",
      "      0.44%                   530015.800000\n",
      "      0.59%                   530015.800000\n",
      "      0.92%                   530015.800000\n",
      "      100%                    530015.800000\n",
      "      13.99%                  530015.800000\n",
      "      14.15%                  530015.800000\n",
      "      2.03%                   530015.800000\n",
      "      2.87%                   530015.800000\n",
      "      3.72%                   530015.800000\n",
      "      4.71%                   530015.800000\n",
      "      49.38%                  530015.800000\n",
      "      6.83%                   530015.800000\n",
      "\n",
      "[868 rows x 1 columns]\n",
      "                                                   Provider ID\n",
      "Claim Type               Percent Spending State               \n",
      "Carrier                  2.24%                   310052.437500\n",
      "                         2.25%                   280079.125000\n",
      "                         2.41%                   150086.804598\n",
      "                         2.43%                   326971.925926\n",
      "                         2.44%                   520089.953846\n",
      "                         2.47%                   279468.965517\n",
      "                         2.48%                   250071.593220\n",
      "                         2.49%                   267725.850000\n",
      "                         2.5%                    140142.261905\n",
      "                         2.51%                   300923.112150\n",
      "                         2.53%                   390141.286667\n",
      "                         2.59%                    90581.081206\n",
      "                         2.6%                     85389.846154\n",
      "                         2.63%                    40058.113636\n",
      "                         2.65%                    45653.221053\n",
      "                         2.68%                   353698.000000\n",
      "                         2.7%                    214524.897297\n",
      "                         2.71%                   360129.710938\n",
      "                         2.72%                   471343.793282\n",
      "                         2.74%                   100155.532934\n",
      "                         2.77%                   169472.546512\n",
      "                         2.81%                   370107.275862\n",
      "                         2.82%                   260106.184211\n",
      "                         2.83%                   130027.615385\n",
      "                         2.87%                   530015.800000\n",
      "                         2.91%                   424260.807018\n",
      "                         3%                      180065.615385\n",
      "                         3.02%                   440099.612903\n",
      "                         3.03%                   380042.617647\n",
      "                         3.05%                    30073.426230\n",
      "...                                                        ...\n",
      "Skilled Nursing Facility 15.18%                  240078.163265\n",
      "                         15.23%                  180065.615385\n",
      "                         15.25%                  250071.593220\n",
      "                         15.43%                  340086.916667\n",
      "                         15.66%                  408509.076923\n",
      "                         15.83%                  230125.425532\n",
      "                         15.95%                  490071.581081\n",
      "                         15.98%                  424260.807018\n",
      "                         15.99%                  200029.166667\n",
      "                         16%                      60053.066667\n",
      "                         16.08%                  170111.686275\n",
      "                         16.13%                  440099.612903\n",
      "                         16.4%                   390141.286667\n",
      "                         17.11%                  160068.088235\n",
      "                         17.24%                  520089.953846\n",
      "                         17.26%                  100155.532934\n",
      "                         17.28%                   50363.931507\n",
      "                         17.86%                  220071.175439\n",
      "                         17.93%                  460028.000000\n",
      "                         18.29%                  150086.804598\n",
      "                         18.35%                  330175.831081\n",
      "                         18.75%                  353698.000000\n",
      "                         18.86%                  140142.261905\n",
      "                         18.89%                  360129.710938\n",
      "                         19.33%                  280079.125000\n",
      "                         20.58%                  410007.818182\n",
      "                         21.64%                  310052.437500\n",
      "                         22.33%                   70020.068966\n",
      "                         9.6%                    290026.000000\n",
      "Total                    100%                    262746.629480\n",
      "\n",
      "[477 rows x 1 columns]\n",
      "                                                                   Provider ID\n",
      "Hospital                                   Percent Spending State             \n",
      "ABBEVILLE GENERAL HOSPITAL                 0%                         190034.0\n",
      "                                           0.01%                      190034.0\n",
      "                                           0.03%                      190034.0\n",
      "                                           0.04%                      190034.0\n",
      "                                           0.1%                       190034.0\n",
      "                                           0.14%                      190034.0\n",
      "                                           0.55%                      190034.0\n",
      "                                           0.63%                      190034.0\n",
      "                                           0.72%                      190034.0\n",
      "                                           100%                       190034.0\n",
      "                                           11.01%                     190034.0\n",
      "                                           2.47%                      190034.0\n",
      "                                           20.43%                     190034.0\n",
      "                                           3.97%                      190034.0\n",
      "                                           4.58%                      190034.0\n",
      "                                           4.95%                      190034.0\n",
      "                                           43.63%                     190034.0\n",
      "                                           6.71%                      190034.0\n",
      "ABBOTT NORTHWESTERN HOSPITAL               0%                         240057.0\n",
      "                                           0.01%                      240057.0\n",
      "                                           0.03%                      240057.0\n",
      "                                           0.04%                      240057.0\n",
      "                                           0.05%                      240057.0\n",
      "                                           0.09%                      240057.0\n",
      "                                           0.49%                      240057.0\n",
      "                                           0.5%                       240057.0\n",
      "                                           1.44%                      240057.0\n",
      "                                           10.14%                     240057.0\n",
      "                                           100%                       240057.0\n",
      "                                           15.18%                     240057.0\n",
      "...                                                                        ...\n",
      "YUMA REGIONAL MEDICAL CENTER               0.14%                       30013.0\n",
      "                                           0.45%                       30013.0\n",
      "                                           0.57%                       30013.0\n",
      "                                           0.74%                       30013.0\n",
      "                                           10.81%                      30013.0\n",
      "                                           100%                        30013.0\n",
      "                                           13.57%                      30013.0\n",
      "                                           3.05%                       30013.0\n",
      "                                           3.15%                       30013.0\n",
      "                                           3.27%                       30013.0\n",
      "                                           48.78%                      30013.0\n",
      "                                           6.37%                       30013.0\n",
      "                                           8.97%                       30013.0\n",
      "ZUNI COMPREHENSIVE COMMUNITY HEALTH CENTER 0%                         320060.0\n",
      "                                           0.01%                      320060.0\n",
      "                                           0.02%                      320060.0\n",
      "                                           0.05%                      320060.0\n",
      "                                           0.13%                      320060.0\n",
      "                                           0.48%                      320060.0\n",
      "                                           0.79%                      320060.0\n",
      "                                           0.94%                      320060.0\n",
      "                                           100%                       320060.0\n",
      "                                           12.77%                     320060.0\n",
      "                                           14.28%                     320060.0\n",
      "                                           3.65%                      320060.0\n",
      "                                           3.7%                       320060.0\n",
      "                                           3.99%                      320060.0\n",
      "                                           4.58%                      320060.0\n",
      "                                           47.86%                     320060.0\n",
      "                                           6.69%                      320060.0\n",
      "\n",
      "[55747 rows x 1 columns]\n"
     ]
    }
   ],
   "source": [
    "print(medicare.groupby(['State','Percent Spending State']).mean())\n",
    "print(medicare.groupby(['Claim Type','Percent Spending State']).mean())\n",
    "print(medicare.groupby(['Hospital','Percent Spending State']).mean())"
   ]
  },
  {
   "cell_type": "markdown",
   "metadata": {},
   "source": [
    "**42) Continuing with data from above, convert the dataframe content to be the right \"data type\" (i.e., int, float, etc) in order to perform statistical calculations for the DataFrame.  Provide your code and the resulting new print out as the answer.**\n",
    "<br>\n",
    "***Hint convert the columns with % and $***"
   ]
  },
  {
   "cell_type": "code",
   "execution_count": 44,
   "metadata": {},
   "outputs": [
    {
     "name": "stdout",
     "output_type": "stream",
     "text": [
      "Reomve '$' and '%' signs from all columns that should be numeric, and convert all dollar and percent amounts to type 'float'.\n",
      "\n",
      "                           Hospital  Provider ID State  \\\n",
      "0  SOUTHEAST ALABAMA MEDICAL CENTER        10001    AL   \n",
      "1  SOUTHEAST ALABAMA MEDICAL CENTER        10001    AL   \n",
      "2  SOUTHEAST ALABAMA MEDICAL CENTER        10001    AL   \n",
      "3  SOUTHEAST ALABAMA MEDICAL CENTER        10001    AL   \n",
      "4  SOUTHEAST ALABAMA MEDICAL CENTER        10001    AL   \n",
      "\n",
      "                                          Period                Claim Type  \\\n",
      "0  1 to 3 days Prior to Index Hospital Admission        Home Health Agency   \n",
      "1  1 to 3 days Prior to Index Hospital Admission                   Hospice   \n",
      "2  1 to 3 days Prior to Index Hospital Admission                 Inpatient   \n",
      "3  1 to 3 days Prior to Index Hospital Admission                Outpatient   \n",
      "4  1 to 3 days Prior to Index Hospital Admission  Skilled Nursing Facility   \n",
      "\n",
      "   Avg Spending Hospital  Avg Spending State  Avg Spending Nation  \\\n",
      "0                   12.0                14.0                 13.0   \n",
      "1                    1.0                 1.0                  1.0   \n",
      "2                    6.0                 6.0                  5.0   \n",
      "3                  160.0                85.0                117.0   \n",
      "4                    1.0                 2.0                  2.0   \n",
      "\n",
      "   Percent Spending Hospital  Percent Spending State  Percent Spending Nation  \n",
      "0                       0.06                    0.07                     0.07  \n",
      "1                       0.01                    0.01                     0.00  \n",
      "2                       0.03                    0.03                     0.03  \n",
      "3                       0.84                    0.46                     0.58  \n",
      "4                       0.01                    0.01                     0.01  \n"
     ]
    }
   ],
   "source": [
    "def ConvertToFloat(val):\n",
    "    if val == None or val == 'None':\n",
    "        return 0.0\n",
    "    else:\n",
    "        return float(val)\n",
    "print(\"Reomve '$' and '%' signs from all columns that should be numeric, and convert all dollar and percent amounts to type 'float'.\\n\")\n",
    "\n",
    "medicare['Avg Spending Hospital'] = medicare['Avg Spending Hospital'].replace('\\$','',regex=True).astype(float)\n",
    "medicare['Avg Spending State'] = medicare['Avg Spending State'].replace('\\$','',regex=True).astype(float)\n",
    "medicare['Avg Spending Nation'] = medicare['Avg Spending Nation'].replace('\\$','',regex=True).astype(float)\n",
    "\n",
    "medicare['Percent Spending Hospital'] = medicare['Percent Spending Hospital'].replace('%','',regex=True).astype(float)\n",
    "medicare['Percent Spending State'] = medicare['Percent Spending State'].replace('%','',regex=True).astype(float)\n",
    "medicare['Percent Spending Nation'] = medicare['Percent Spending Nation'].replace('%','',regex=True).astype(float)\n",
    "\n",
    "print(medicare.head())\n",
    "\n",
    "#print(medicare['Avg Spending Hospital'].replace('\\$', '', regex=True))\n",
    "\n",
    "#medicare.dtypes"
   ]
  },
  {
   "cell_type": "markdown",
   "metadata": {},
   "source": [
    "**43) Continuing with the dataframe above, extract only the TX state claims into a new dataframe.  Provide your code and print the new dataframe (with only TX claims) below as the answer.**"
   ]
  },
  {
   "cell_type": "code",
   "execution_count": 45,
   "metadata": {},
   "outputs": [
    {
     "name": "stdout",
     "output_type": "stream",
     "text": [
      "                                       Hospital  Provider ID State  \\\n",
      "58322              PROVIDENCE MEMORIAL HOSPITAL       450002    TX   \n",
      "58323              PROVIDENCE MEMORIAL HOSPITAL       450002    TX   \n",
      "58324              PROVIDENCE MEMORIAL HOSPITAL       450002    TX   \n",
      "58325              PROVIDENCE MEMORIAL HOSPITAL       450002    TX   \n",
      "58326              PROVIDENCE MEMORIAL HOSPITAL       450002    TX   \n",
      "58327              PROVIDENCE MEMORIAL HOSPITAL       450002    TX   \n",
      "58328              PROVIDENCE MEMORIAL HOSPITAL       450002    TX   \n",
      "58329              PROVIDENCE MEMORIAL HOSPITAL       450002    TX   \n",
      "58330              PROVIDENCE MEMORIAL HOSPITAL       450002    TX   \n",
      "58331              PROVIDENCE MEMORIAL HOSPITAL       450002    TX   \n",
      "58332              PROVIDENCE MEMORIAL HOSPITAL       450002    TX   \n",
      "58333              PROVIDENCE MEMORIAL HOSPITAL       450002    TX   \n",
      "58334              PROVIDENCE MEMORIAL HOSPITAL       450002    TX   \n",
      "58335              PROVIDENCE MEMORIAL HOSPITAL       450002    TX   \n",
      "58336              PROVIDENCE MEMORIAL HOSPITAL       450002    TX   \n",
      "58337              PROVIDENCE MEMORIAL HOSPITAL       450002    TX   \n",
      "58338              PROVIDENCE MEMORIAL HOSPITAL       450002    TX   \n",
      "58339              PROVIDENCE MEMORIAL HOSPITAL       450002    TX   \n",
      "58340              PROVIDENCE MEMORIAL HOSPITAL       450002    TX   \n",
      "58341              PROVIDENCE MEMORIAL HOSPITAL       450002    TX   \n",
      "58342              PROVIDENCE MEMORIAL HOSPITAL       450002    TX   \n",
      "58343              PROVIDENCE MEMORIAL HOSPITAL       450002    TX   \n",
      "58344  MEMORIAL HERMANN BAPTIST ORANGE HOSPITAL       450005    TX   \n",
      "58345  MEMORIAL HERMANN BAPTIST ORANGE HOSPITAL       450005    TX   \n",
      "58346  MEMORIAL HERMANN BAPTIST ORANGE HOSPITAL       450005    TX   \n",
      "58347  MEMORIAL HERMANN BAPTIST ORANGE HOSPITAL       450005    TX   \n",
      "58348  MEMORIAL HERMANN BAPTIST ORANGE HOSPITAL       450005    TX   \n",
      "58349  MEMORIAL HERMANN BAPTIST ORANGE HOSPITAL       450005    TX   \n",
      "58350  MEMORIAL HERMANN BAPTIST ORANGE HOSPITAL       450005    TX   \n",
      "58351  MEMORIAL HERMANN BAPTIST ORANGE HOSPITAL       450005    TX   \n",
      "...                                         ...          ...   ...   \n",
      "70568     BAY AREA REGIONAL MEDICAL CENTER, LLC       670096    TX   \n",
      "70569     BAY AREA REGIONAL MEDICAL CENTER, LLC       670096    TX   \n",
      "70570     BAY AREA REGIONAL MEDICAL CENTER, LLC       670096    TX   \n",
      "70571     BAY AREA REGIONAL MEDICAL CENTER, LLC       670096    TX   \n",
      "70572     BAY AREA REGIONAL MEDICAL CENTER, LLC       670096    TX   \n",
      "70573     BAY AREA REGIONAL MEDICAL CENTER, LLC       670096    TX   \n",
      "70574     BAY AREA REGIONAL MEDICAL CENTER, LLC       670096    TX   \n",
      "70575     BAY AREA REGIONAL MEDICAL CENTER, LLC       670096    TX   \n",
      "70576                  RESOLUTE HEALTH HOSPITAL       670098    TX   \n",
      "70577                  RESOLUTE HEALTH HOSPITAL       670098    TX   \n",
      "70578                  RESOLUTE HEALTH HOSPITAL       670098    TX   \n",
      "70579                  RESOLUTE HEALTH HOSPITAL       670098    TX   \n",
      "70580                  RESOLUTE HEALTH HOSPITAL       670098    TX   \n",
      "70581                  RESOLUTE HEALTH HOSPITAL       670098    TX   \n",
      "70582                  RESOLUTE HEALTH HOSPITAL       670098    TX   \n",
      "70583                  RESOLUTE HEALTH HOSPITAL       670098    TX   \n",
      "70584                  RESOLUTE HEALTH HOSPITAL       670098    TX   \n",
      "70585                  RESOLUTE HEALTH HOSPITAL       670098    TX   \n",
      "70586                  RESOLUTE HEALTH HOSPITAL       670098    TX   \n",
      "70587                  RESOLUTE HEALTH HOSPITAL       670098    TX   \n",
      "70588                  RESOLUTE HEALTH HOSPITAL       670098    TX   \n",
      "70589                  RESOLUTE HEALTH HOSPITAL       670098    TX   \n",
      "70590                  RESOLUTE HEALTH HOSPITAL       670098    TX   \n",
      "70591                  RESOLUTE HEALTH HOSPITAL       670098    TX   \n",
      "70592                  RESOLUTE HEALTH HOSPITAL       670098    TX   \n",
      "70593                  RESOLUTE HEALTH HOSPITAL       670098    TX   \n",
      "70594                  RESOLUTE HEALTH HOSPITAL       670098    TX   \n",
      "70595                  RESOLUTE HEALTH HOSPITAL       670098    TX   \n",
      "70596                  RESOLUTE HEALTH HOSPITAL       670098    TX   \n",
      "70597                  RESOLUTE HEALTH HOSPITAL       670098    TX   \n",
      "\n",
      "                                                  Period  \\\n",
      "58322      1 to 3 days Prior to Index Hospital Admission   \n",
      "58323      1 to 3 days Prior to Index Hospital Admission   \n",
      "58324      1 to 3 days Prior to Index Hospital Admission   \n",
      "58325      1 to 3 days Prior to Index Hospital Admission   \n",
      "58326      1 to 3 days Prior to Index Hospital Admission   \n",
      "58327      1 to 3 days Prior to Index Hospital Admission   \n",
      "58328      1 to 3 days Prior to Index Hospital Admission   \n",
      "58329                    During Index Hospital Admission   \n",
      "58330                    During Index Hospital Admission   \n",
      "58331                    During Index Hospital Admission   \n",
      "58332                    During Index Hospital Admission   \n",
      "58333                    During Index Hospital Admission   \n",
      "58334                    During Index Hospital Admission   \n",
      "58335                    During Index Hospital Admission   \n",
      "58336  1 through 30 days After Discharge from Index H...   \n",
      "58337  1 through 30 days After Discharge from Index H...   \n",
      "58338  1 through 30 days After Discharge from Index H...   \n",
      "58339  1 through 30 days After Discharge from Index H...   \n",
      "58340  1 through 30 days After Discharge from Index H...   \n",
      "58341  1 through 30 days After Discharge from Index H...   \n",
      "58342  1 through 30 days After Discharge from Index H...   \n",
      "58343                                   Complete Episode   \n",
      "58344      1 to 3 days Prior to Index Hospital Admission   \n",
      "58345      1 to 3 days Prior to Index Hospital Admission   \n",
      "58346      1 to 3 days Prior to Index Hospital Admission   \n",
      "58347      1 to 3 days Prior to Index Hospital Admission   \n",
      "58348      1 to 3 days Prior to Index Hospital Admission   \n",
      "58349      1 to 3 days Prior to Index Hospital Admission   \n",
      "58350      1 to 3 days Prior to Index Hospital Admission   \n",
      "58351                    During Index Hospital Admission   \n",
      "...                                                  ...   \n",
      "70568  1 through 30 days After Discharge from Index H...   \n",
      "70569  1 through 30 days After Discharge from Index H...   \n",
      "70570  1 through 30 days After Discharge from Index H...   \n",
      "70571  1 through 30 days After Discharge from Index H...   \n",
      "70572  1 through 30 days After Discharge from Index H...   \n",
      "70573  1 through 30 days After Discharge from Index H...   \n",
      "70574  1 through 30 days After Discharge from Index H...   \n",
      "70575                                   Complete Episode   \n",
      "70576      1 to 3 days Prior to Index Hospital Admission   \n",
      "70577      1 to 3 days Prior to Index Hospital Admission   \n",
      "70578      1 to 3 days Prior to Index Hospital Admission   \n",
      "70579      1 to 3 days Prior to Index Hospital Admission   \n",
      "70580      1 to 3 days Prior to Index Hospital Admission   \n",
      "70581      1 to 3 days Prior to Index Hospital Admission   \n",
      "70582      1 to 3 days Prior to Index Hospital Admission   \n",
      "70583                    During Index Hospital Admission   \n",
      "70584                    During Index Hospital Admission   \n",
      "70585                    During Index Hospital Admission   \n",
      "70586                    During Index Hospital Admission   \n",
      "70587                    During Index Hospital Admission   \n",
      "70588                    During Index Hospital Admission   \n",
      "70589                    During Index Hospital Admission   \n",
      "70590  1 through 30 days After Discharge from Index H...   \n",
      "70591  1 through 30 days After Discharge from Index H...   \n",
      "70592  1 through 30 days After Discharge from Index H...   \n",
      "70593  1 through 30 days After Discharge from Index H...   \n",
      "70594  1 through 30 days After Discharge from Index H...   \n",
      "70595  1 through 30 days After Discharge from Index H...   \n",
      "70596  1 through 30 days After Discharge from Index H...   \n",
      "70597                                   Complete Episode   \n",
      "\n",
      "                      Claim Type  Avg Spending Hospital  Avg Spending State  \\\n",
      "58322         Home Health Agency                   52.0                23.0   \n",
      "58323                    Hospice                    0.0                 1.0   \n",
      "58324                  Inpatient                    2.0                 5.0   \n",
      "58325                 Outpatient                   80.0               122.0   \n",
      "58326   Skilled Nursing Facility                    1.0                 3.0   \n",
      "58327  Durable Medical Equipment                    7.0                 9.0   \n",
      "58328                    Carrier                  487.0               585.0   \n",
      "58329         Home Health Agency                    0.0                 0.0   \n",
      "58330                    Hospice                    0.0                 0.0   \n",
      "58331                  Inpatient                 7973.0              9227.0   \n",
      "58332                 Outpatient                    0.0                 0.0   \n",
      "58333   Skilled Nursing Facility                    0.0                 0.0   \n",
      "58334  Durable Medical Equipment                   20.0                30.0   \n",
      "58335                    Carrier                 1549.0              1543.0   \n",
      "58336         Home Health Agency                  972.0               858.0   \n",
      "58337                    Hospice                  169.0               145.0   \n",
      "58338                  Inpatient                 3976.0              3975.0   \n",
      "58339                 Outpatient                  661.0               710.0   \n",
      "58340   Skilled Nursing Facility                 2062.0              2903.0   \n",
      "58341  Durable Medical Equipment                  128.0               114.0   \n",
      "58342                    Carrier                 1265.0              1231.0   \n",
      "58343                      Total                19406.0             21484.0   \n",
      "58344         Home Health Agency                   56.0                23.0   \n",
      "58345                    Hospice                    2.0                 1.0   \n",
      "58346                  Inpatient                    0.0                 5.0   \n",
      "58347                 Outpatient                    8.0               122.0   \n",
      "58348   Skilled Nursing Facility                    3.0                 3.0   \n",
      "58349  Durable Medical Equipment                    1.0                 9.0   \n",
      "58350                    Carrier                  499.0               585.0   \n",
      "58351         Home Health Agency                    0.0                 0.0   \n",
      "...                          ...                    ...                 ...   \n",
      "70568         Home Health Agency                  615.0               858.0   \n",
      "70569                    Hospice                   25.0               145.0   \n",
      "70570                  Inpatient                 5390.0              3975.0   \n",
      "70571                 Outpatient                  443.0               710.0   \n",
      "70572   Skilled Nursing Facility                 2395.0              2903.0   \n",
      "70573  Durable Medical Equipment                   83.0               114.0   \n",
      "70574                    Carrier                 1428.0              1231.0   \n",
      "70575                      Total                20058.0             21484.0   \n",
      "70576         Home Health Agency                    0.0                23.0   \n",
      "70577                    Hospice                    0.0                 1.0   \n",
      "70578                  Inpatient                    0.0                 5.0   \n",
      "70579                 Outpatient                   89.0               122.0   \n",
      "70580   Skilled Nursing Facility                    0.0                 3.0   \n",
      "70581  Durable Medical Equipment                    0.0                 9.0   \n",
      "70582                    Carrier                  565.0               585.0   \n",
      "70583         Home Health Agency                    0.0                 0.0   \n",
      "70584                    Hospice                    0.0                 0.0   \n",
      "70585                  Inpatient                 5693.0              9227.0   \n",
      "70586                 Outpatient                    0.0                 0.0   \n",
      "70587   Skilled Nursing Facility                    0.0                 0.0   \n",
      "70588  Durable Medical Equipment                   11.0                30.0   \n",
      "70589                    Carrier                  581.0              1543.0   \n",
      "70590         Home Health Agency                 1305.0               858.0   \n",
      "70591                    Hospice                    0.0               145.0   \n",
      "70592                  Inpatient                 2738.0              3975.0   \n",
      "70593                 Outpatient                  817.0               710.0   \n",
      "70594   Skilled Nursing Facility                 4539.0              2903.0   \n",
      "70595  Durable Medical Equipment                   61.0               114.0   \n",
      "70596                    Carrier                 1168.0              1231.0   \n",
      "70597                      Total                17568.0             21484.0   \n",
      "\n",
      "       Avg Spending Nation  Percent Spending Hospital  Percent Spending State  \\\n",
      "58322                 13.0                       0.27                    0.11   \n",
      "58323                  1.0                       0.00                    0.01   \n",
      "58324                  5.0                       0.01                    0.02   \n",
      "58325                117.0                       0.41                    0.57   \n",
      "58326                  2.0                       0.01                    0.01   \n",
      "58327                  9.0                       0.04                    0.04   \n",
      "58328                532.0                       2.51                    2.72   \n",
      "58329                  0.0                       0.00                    0.00   \n",
      "58330                  0.0                       0.00                    0.00   \n",
      "58331               9108.0                      41.08                   42.95   \n",
      "58332                  0.0                       0.00                    0.00   \n",
      "58333                  0.0                       0.00                    0.00   \n",
      "58334                 24.0                       0.11                    0.14   \n",
      "58335               1514.0                       7.98                    7.18   \n",
      "58336                771.0                       5.01                    3.99   \n",
      "58337                118.0                       0.87                    0.67   \n",
      "58338               2665.0                      20.49                   18.50   \n",
      "58339                710.0                       3.41                    3.31   \n",
      "58340               3251.0                      10.62                   13.51   \n",
      "58341                101.0                       0.66                    0.53   \n",
      "58342               1083.0                       6.52                    5.73   \n",
      "58343              20025.0                     100.00                  100.00   \n",
      "58344                 13.0                       0.33                    0.11   \n",
      "58345                  1.0                       0.01                    0.01   \n",
      "58346                  5.0                       0.00                    0.02   \n",
      "58347                117.0                       0.04                    0.57   \n",
      "58348                  2.0                       0.02                    0.01   \n",
      "58349                  9.0                       0.01                    0.04   \n",
      "58350                532.0                       2.95                    2.72   \n",
      "58351                  0.0                       0.00                    0.00   \n",
      "...                    ...                        ...                     ...   \n",
      "70568                771.0                       3.07                    3.99   \n",
      "70569                118.0                       0.12                    0.67   \n",
      "70570               2665.0                      26.87                   18.50   \n",
      "70571                710.0                       2.21                    3.31   \n",
      "70572               3251.0                      11.94                   13.51   \n",
      "70573                101.0                       0.41                    0.53   \n",
      "70574               1083.0                       7.12                    5.73   \n",
      "70575              20025.0                     100.00                  100.00   \n",
      "70576                 13.0                       0.00                    0.11   \n",
      "70577                  1.0                       0.00                    0.01   \n",
      "70578                  5.0                       0.00                    0.02   \n",
      "70579                117.0                       0.51                    0.57   \n",
      "70580                  2.0                       0.00                    0.01   \n",
      "70581                  9.0                       0.00                    0.04   \n",
      "70582                532.0                       3.22                    2.72   \n",
      "70583                  0.0                       0.00                    0.00   \n",
      "70584                  0.0                       0.00                    0.00   \n",
      "70585               9108.0                      32.41                   42.95   \n",
      "70586                  0.0                       0.00                    0.00   \n",
      "70587                  0.0                       0.00                    0.00   \n",
      "70588                 24.0                       0.06                    0.14   \n",
      "70589               1514.0                       3.31                    7.18   \n",
      "70590                771.0                       7.43                    3.99   \n",
      "70591                118.0                       0.00                    0.67   \n",
      "70592               2665.0                      15.59                   18.50   \n",
      "70593                710.0                       4.65                    3.31   \n",
      "70594               3251.0                      25.83                   13.51   \n",
      "70595                101.0                       0.35                    0.53   \n",
      "70596               1083.0                       6.65                    5.73   \n",
      "70597              20025.0                     100.00                  100.00   \n",
      "\n",
      "       Percent Spending Nation  \n",
      "58322                     0.07  \n",
      "58323                     0.00  \n",
      "58324                     0.03  \n",
      "58325                     0.58  \n",
      "58326                     0.01  \n",
      "58327                     0.04  \n",
      "58328                     2.66  \n",
      "58329                     0.00  \n",
      "58330                     0.00  \n",
      "58331                    45.48  \n",
      "58332                     0.00  \n",
      "58333                     0.00  \n",
      "58334                     0.12  \n",
      "58335                     7.56  \n",
      "58336                     3.85  \n",
      "58337                     0.59  \n",
      "58338                    13.31  \n",
      "58339                     3.54  \n",
      "58340                    16.23  \n",
      "58341                     0.50  \n",
      "58342                     5.41  \n",
      "58343                   100.00  \n",
      "58344                     0.07  \n",
      "58345                     0.00  \n",
      "58346                     0.03  \n",
      "58347                     0.58  \n",
      "58348                     0.01  \n",
      "58349                     0.04  \n",
      "58350                     2.66  \n",
      "58351                     0.00  \n",
      "...                        ...  \n",
      "70568                     3.85  \n",
      "70569                     0.59  \n",
      "70570                    13.31  \n",
      "70571                     3.54  \n",
      "70572                    16.23  \n",
      "70573                     0.50  \n",
      "70574                     5.41  \n",
      "70575                   100.00  \n",
      "70576                     0.07  \n",
      "70577                     0.00  \n",
      "70578                     0.03  \n",
      "70579                     0.58  \n",
      "70580                     0.01  \n",
      "70581                     0.04  \n",
      "70582                     2.66  \n",
      "70583                     0.00  \n",
      "70584                     0.00  \n",
      "70585                    45.48  \n",
      "70586                     0.00  \n",
      "70587                     0.00  \n",
      "70588                     0.12  \n",
      "70589                     7.56  \n",
      "70590                     3.85  \n",
      "70591                     0.59  \n",
      "70592                    13.31  \n",
      "70593                     3.54  \n",
      "70594                    16.23  \n",
      "70595                     0.50  \n",
      "70596                     5.41  \n",
      "70597                   100.00  \n",
      "\n",
      "[6490 rows x 11 columns]\n"
     ]
    }
   ],
   "source": [
    "medicareTX=medicare[medicare['State'] == \"TX\"]\n",
    "\n",
    "print(medicareTX)"
   ]
  },
  {
   "cell_type": "markdown",
   "metadata": {},
   "source": [
    "**44) Using the dataframe from above (Q 42), find the average spending for each different TX hospitals groupedby each kind of  different claim types.  Provide your code and the resulting new print out as the answer. **"
   ]
  },
  {
   "cell_type": "code",
   "execution_count": 46,
   "metadata": {},
   "outputs": [
    {
     "name": "stdout",
     "output_type": "stream",
     "text": [
      "Hospital                                 Claim Type               \n",
      "ABILENE REGIONAL MEDICAL CENTER          Carrier                        988.666667\n",
      "                                         Durable Medical Equipment       42.333333\n",
      "                                         Home Health Agency             322.666667\n",
      "                                         Hospice                         38.333333\n",
      "                                         Inpatient                     4476.333333\n",
      "                                         Outpatient                     281.666667\n",
      "                                         Skilled Nursing Facility       789.666667\n",
      "                                         Total                        20821.000000\n",
      "ANSON GENERAL HOSPITAL                   Carrier                        341.000000\n",
      "                                         Durable Medical Equipment       24.666667\n",
      "                                         Home Health Agency              81.666667\n",
      "                                         Hospice                         33.333333\n",
      "                                         Inpatient                     2073.000000\n",
      "                                         Outpatient                     275.666667\n",
      "                                         Skilled Nursing Facility      1013.333333\n",
      "                                         Total                        11528.000000\n",
      "ARISE AUSTIN MEDICAL CENTER              Carrier                       1105.666667\n",
      "                                         Durable Medical Equipment       73.666667\n",
      "                                         Home Health Agency             516.333333\n",
      "                                         Hospice                          0.000000\n",
      "                                         Inpatient                     4689.333333\n",
      "                                         Outpatient                      76.333333\n",
      "                                         Skilled Nursing Facility       147.000000\n",
      "                                         Total                        19825.000000\n",
      "BAPTIST BEAUMONT HOSPITAL                Carrier                        935.666667\n",
      "                                         Durable Medical Equipment       36.333333\n",
      "                                         Home Health Agency             283.333333\n",
      "                                         Hospice                        101.666667\n",
      "                                         Inpatient                     4094.333333\n",
      "                                         Outpatient                     263.666667\n",
      "                                                                          ...     \n",
      "WILSON N. JONES REGIONAL MEDICAL CENTER  Home Health Agency             289.333333\n",
      "                                         Hospice                         81.666667\n",
      "                                         Inpatient                     4071.333333\n",
      "                                         Outpatient                     185.333333\n",
      "                                         Skilled Nursing Facility      1397.333333\n",
      "                                         Total                        21467.000000\n",
      "WISE REGIONAL HEALTH SYSTEM              Carrier                       1084.000000\n",
      "                                         Durable Medical Equipment       70.333333\n",
      "                                         Home Health Agency             330.333333\n",
      "                                         Hospice                         58.000000\n",
      "                                         Inpatient                     4312.666667\n",
      "                                         Outpatient                     271.000000\n",
      "                                         Skilled Nursing Facility      1458.666667\n",
      "                                         Total                        22756.000000\n",
      "WOMANS HOSPITAL OF TEXAS,THE             Carrier                        876.333333\n",
      "                                         Durable Medical Equipment       30.666667\n",
      "                                         Home Health Agency              31.666667\n",
      "                                         Hospice                          0.000000\n",
      "                                         Inpatient                     2454.666667\n",
      "                                         Outpatient                     126.666667\n",
      "                                         Skilled Nursing Facility        81.333333\n",
      "                                         Total                        10803.000000\n",
      "WOODLAND HEIGHTS MEDICAL CENTER          Carrier                        959.666667\n",
      "                                         Durable Medical Equipment       34.666667\n",
      "                                         Home Health Agency             262.666667\n",
      "                                         Hospice                         34.333333\n",
      "                                         Inpatient                     3640.333333\n",
      "                                         Outpatient                     242.333333\n",
      "                                         Skilled Nursing Facility       893.000000\n",
      "                                         Total                        18199.000000\n",
      "Name: Avg Spending Hospital, Length: 2352, dtype: float64\n"
     ]
    }
   ],
   "source": [
    "print(medicareTX.groupby(['Hospital', 'Claim Type'])['Avg Spending Hospital'].mean())"
   ]
  },
  {
   "cell_type": "markdown",
   "metadata": {
    "collapsed": true
   },
   "source": [
    "**45) Continuing from above (Q 43), what is the mean and max percentage spending of different TX hospitals for each different claim types.  Provide your code and print out the answer. **"
   ]
  },
  {
   "cell_type": "code",
   "execution_count": 47,
   "metadata": {},
   "outputs": [
    {
     "name": "stdout",
     "output_type": "stream",
     "text": [
      "MEAN\n",
      "Hospital                                 Claim Type               \n",
      "ABILENE REGIONAL MEDICAL CENTER          Carrier                        4.750000\n",
      "                                         Durable Medical Equipment      0.203333\n",
      "                                         Home Health Agency             1.550000\n",
      "                                         Hospice                        0.183333\n",
      "                                         Inpatient                     21.500000\n",
      "                                         Outpatient                     1.353333\n",
      "                                         Skilled Nursing Facility       3.793333\n",
      "                                         Total                        100.000000\n",
      "ANSON GENERAL HOSPITAL                   Carrier                        2.960000\n",
      "                                         Durable Medical Equipment      0.213333\n",
      "                                         Home Health Agency             0.706667\n",
      "                                         Hospice                        0.290000\n",
      "                                         Inpatient                     17.980000\n",
      "                                         Outpatient                     2.390000\n",
      "                                         Skilled Nursing Facility       8.790000\n",
      "                                         Total                        100.000000\n",
      "ARISE AUSTIN MEDICAL CENTER              Carrier                        5.576667\n",
      "                                         Durable Medical Equipment      0.370000\n",
      "                                         Home Health Agency             2.603333\n",
      "                                         Hospice                        0.000000\n",
      "                                         Inpatient                     23.656667\n",
      "                                         Outpatient                     0.386667\n",
      "                                         Skilled Nursing Facility       0.743333\n",
      "                                         Total                        100.000000\n",
      "BAPTIST BEAUMONT HOSPITAL                Carrier                        4.763333\n",
      "                                         Durable Medical Equipment      0.186667\n",
      "                                         Home Health Agency             1.443333\n",
      "                                         Hospice                        0.520000\n",
      "                                         Inpatient                     20.846667\n",
      "                                         Outpatient                     1.343333\n",
      "                                                                         ...    \n",
      "WILSON N. JONES REGIONAL MEDICAL CENTER  Home Health Agency             1.350000\n",
      "                                         Hospice                        0.380000\n",
      "                                         Inpatient                     18.963333\n",
      "                                         Outpatient                     0.866667\n",
      "                                         Skilled Nursing Facility       6.510000\n",
      "                                         Total                        100.000000\n",
      "WISE REGIONAL HEALTH SYSTEM              Carrier                        4.763333\n",
      "                                         Durable Medical Equipment      0.306667\n",
      "                                         Home Health Agency             1.450000\n",
      "                                         Hospice                        0.256667\n",
      "                                         Inpatient                     18.953333\n",
      "                                         Outpatient                     1.190000\n",
      "                                         Skilled Nursing Facility       6.410000\n",
      "                                         Total                        100.000000\n",
      "WOMANS HOSPITAL OF TEXAS,THE             Carrier                        8.110000\n",
      "                                         Durable Medical Equipment      0.283333\n",
      "                                         Home Health Agency             0.293333\n",
      "                                         Hospice                        0.000000\n",
      "                                         Inpatient                     22.720000\n",
      "                                         Outpatient                     1.173333\n",
      "                                         Skilled Nursing Facility       0.750000\n",
      "                                         Total                        100.000000\n",
      "WOODLAND HEIGHTS MEDICAL CENTER          Carrier                        5.270000\n",
      "                                         Durable Medical Equipment      0.190000\n",
      "                                         Home Health Agency             1.443333\n",
      "                                         Hospice                        0.190000\n",
      "                                         Inpatient                     20.003333\n",
      "                                         Outpatient                     1.330000\n",
      "                                         Skilled Nursing Facility       4.906667\n",
      "                                         Total                        100.000000\n",
      "Name: Percent Spending Hospital, Length: 2352, dtype: float64\n",
      "\n",
      "\n",
      "MAX\n",
      "Hospital                                 Claim Type               \n",
      "ABILENE REGIONAL MEDICAL CENTER          Carrier                        7.12\n",
      "                                         Durable Medical Equipment      0.42\n",
      "                                         Home Health Agency             4.56\n",
      "                                         Hospice                        0.55\n",
      "                                         Inpatient                     47.46\n",
      "                                         Outpatient                     3.02\n",
      "                                         Skilled Nursing Facility      11.37\n",
      "                                         Total                        100.00\n",
      "ANSON GENERAL HOSPITAL                   Carrier                        4.77\n",
      "                                         Durable Medical Equipment      0.30\n",
      "                                         Home Health Agency             2.12\n",
      "                                         Hospice                        0.87\n",
      "                                         Inpatient                     43.02\n",
      "                                         Outpatient                     5.98\n",
      "                                         Skilled Nursing Facility      26.37\n",
      "                                         Total                        100.00\n",
      "ARISE AUSTIN MEDICAL CENTER              Carrier                       10.45\n",
      "                                         Durable Medical Equipment      0.69\n",
      "                                         Home Health Agency             7.64\n",
      "                                         Hospice                        0.00\n",
      "                                         Inpatient                     59.14\n",
      "                                         Outpatient                     1.05\n",
      "                                         Skilled Nursing Facility       2.23\n",
      "                                         Total                        100.00\n",
      "BAPTIST BEAUMONT HOSPITAL                Carrier                        5.83\n",
      "                                         Durable Medical Equipment      0.34\n",
      "                                         Home Health Agency             4.20\n",
      "                                         Hospice                        1.55\n",
      "                                         Inpatient                     43.14\n",
      "                                         Outpatient                     3.64\n",
      "                                                                       ...  \n",
      "WILSON N. JONES REGIONAL MEDICAL CENTER  Home Health Agency             3.91\n",
      "                                         Hospice                        1.09\n",
      "                                         Inpatient                     41.21\n",
      "                                         Outpatient                     2.24\n",
      "                                         Skilled Nursing Facility      19.50\n",
      "                                         Total                        100.00\n",
      "WISE REGIONAL HEALTH SYSTEM              Carrier                        7.01\n",
      "                                         Durable Medical Equipment      0.56\n",
      "                                         Home Health Agency             4.22\n",
      "                                         Hospice                        0.74\n",
      "                                         Inpatient                     42.29\n",
      "                                         Outpatient                     3.40\n",
      "                                         Skilled Nursing Facility      19.21\n",
      "                                         Total                        100.00\n",
      "WOMANS HOSPITAL OF TEXAS,THE             Carrier                       12.88\n",
      "                                         Durable Medical Equipment      0.62\n",
      "                                         Home Health Agency             0.88\n",
      "                                         Hospice                        0.00\n",
      "                                         Inpatient                     60.20\n",
      "                                         Outpatient                     2.28\n",
      "                                         Skilled Nursing Facility       2.25\n",
      "                                         Total                        100.00\n",
      "WOODLAND HEIGHTS MEDICAL CENTER          Carrier                        7.86\n",
      "                                         Durable Medical Equipment      0.46\n",
      "                                         Home Health Agency             4.27\n",
      "                                         Hospice                        0.57\n",
      "                                         Inpatient                     48.01\n",
      "                                         Outpatient                     3.35\n",
      "                                         Skilled Nursing Facility      14.71\n",
      "                                         Total                        100.00\n",
      "Name: Percent Spending Hospital, Length: 2352, dtype: float64\n"
     ]
    }
   ],
   "source": [
    "print(\"MEAN\")\n",
    "print(medicareTX.groupby(['Hospital', 'Claim Type'])['Percent Spending Hospital'].mean())\n",
    "print(\"\\n\")\n",
    "print(\"MAX\")\n",
    "print(medicareTX.groupby(['Hospital', 'Claim Type'])['Percent Spending Hospital'].max())"
   ]
  },
  {
   "cell_type": "markdown",
   "metadata": {},
   "source": [
    "**46) Using the whole dataset from the Medicare_Hospital_Spending_by_Claim.csv table (i.e., Q 39-41), sort the dataframe descending order by average spending and print out what the rank of TX is in terms of average spending when compared to other state averages. **"
   ]
  },
  {
   "cell_type": "code",
   "execution_count": null,
   "metadata": {
    "collapsed": true
   },
   "outputs": [],
   "source": [
    "#Skip this one"
   ]
  },
  {
   "cell_type": "markdown",
   "metadata": {},
   "source": [
    "**47) Give a very general and short definition of what an Analytical Model is or is supposed to do?**"
   ]
  },
  {
   "cell_type": "code",
   "execution_count": 48,
   "metadata": {},
   "outputs": [
    {
     "name": "stdout",
     "output_type": "stream",
     "text": [
      "An analytical model is a mathematical representation of some aspect of reality, such as a business problem or other observed phenomenon. Models are meant to be approximations of reality. They are not meant to be exact representations, since reality is often very complex and it would be infeasible for a model to account for every possible detail.\n"
     ]
    }
   ],
   "source": [
    "print(\"An analytical model is a mathematical representation of some aspect of reality, such as a business problem or other observed phenomenon. Models are meant to be approximations of reality. They are not meant to be exact representations, since reality is often very complex and it would be infeasible for a model to account for every possible detail.\")"
   ]
  },
  {
   "cell_type": "markdown",
   "metadata": {},
   "source": [
    "**48) Briefly describe the differences between \"supervised\" and \"unsupervised\" learning.**"
   ]
  },
  {
   "cell_type": "code",
   "execution_count": 49,
   "metadata": {},
   "outputs": [
    {
     "name": "stdout",
     "output_type": "stream",
     "text": [
      "Supervised learning involves the use of a training dataset, which includes inputs and their corresponding outputs. This data set is used to train the model, so that it can make accurate judgments about inputs it has not yet seen.\n",
      "\n",
      "In unsupervised learning, a model has to learn without the use of a training dataset.\n"
     ]
    }
   ],
   "source": [
    "print(\"Supervised learning involves the use of a training dataset, which includes inputs and their corresponding outputs. This data set is used to train the model, so that it can make accurate judgments about inputs it has not yet seen.\\n\")\n",
    "\n",
    "print(\"In unsupervised learning, a model has to learn without the use of a training dataset.\")"
   ]
  },
  {
   "cell_type": "markdown",
   "metadata": {},
   "source": [
    "**49) Briefly describe the differences between \"classification\" and \"clustering\".**"
   ]
  },
  {
   "cell_type": "code",
   "execution_count": 50,
   "metadata": {},
   "outputs": [
    {
     "name": "stdout",
     "output_type": "stream",
     "text": [
      "Classification and clustering both involve assigning objects into groups.\n",
      "\n",
      "In classification, there is a set of predefined categories, and the purpose of the model is to assign each object into the correct category.\n",
      "\n",
      "In clustering, there are no predefined categories. The purpose of the model is to group objects together, in order to see whether there are any similarities/distinctions between objects.\n"
     ]
    }
   ],
   "source": [
    "print(\"Classification and clustering both involve assigning objects into groups.\\n\") \n",
    "print(\"In classification, there is a set of predefined categories, and the purpose of the model is to assign each object into the correct category.\\n\")\n",
    "print(\"In clustering, there are no predefined categories. The purpose of the model is to group objects together, in order to see whether there are any similarities/distinctions between objects.\")"
   ]
  },
  {
   "cell_type": "markdown",
   "metadata": {},
   "source": [
    "**50) Name 3 different \"kinds\" of Analytical Models and provide a brief definition of each. **"
   ]
  },
  {
   "cell_type": "code",
   "execution_count": 51,
   "metadata": {},
   "outputs": [
    {
     "name": "stdout",
     "output_type": "stream",
     "text": [
      "I wasn't sure whether this question is asking for 'types of models' or 'types of model functionality', so I included 3 examples of each.\n",
      "\n",
      "3 Types of Models:\n",
      "Deterministic Equation - An equation that produces a single, well-defined output for each input.\n",
      "Algorithm - A precise series of instructions to follow, in order to derive an output from a given input\n",
      "Heuristics - A set of general best practices that are not guaranteed to lead to a perfect result, but have generally proven to be reliable.\n",
      "\n",
      "3 Types of Model Functionality:\n",
      "Prediction Model - A model whose purpose is to make a prediction based on recent and past trends.\n",
      "Forecast Model - A model whose purpose is to make predictions and place them on a timeline.\n",
      "Detection Model - A model whose purpose is to detect anomalies, so that problems may be caught and identified.\n"
     ]
    }
   ],
   "source": [
    "print(\"I wasn't sure whether this question is asking for 'types of models' or 'types of model functionality', so I included 3 examples of each.\\n\")\n",
    "\n",
    "print(\"3 Types of Models:\")\n",
    "print(\"Deterministic Equation - An equation that produces a single, well-defined output for each input.\")\n",
    "print(\"Algorithm - A precise series of instructions to follow, in order to derive an output from a given input\")\n",
    "print(\"Heuristics - A set of general best practices that are not guaranteed to lead to a perfect result, but have generally proven to be reliable.\\n\")\n",
    "      \n",
    "print(\"3 Types of Model Functionality:\")\n",
    "print(\"Prediction Model - A model whose purpose is to make a prediction based on recent and past trends.\")\n",
    "print(\"Forecast Model - A model whose purpose is to make predictions and place them on a timeline.\")\n",
    "print(\"Detection Model - A model whose purpose is to detect anomalies, so that problems may be caught and identified.\")"
   ]
  },
  {
   "cell_type": "markdown",
   "metadata": {},
   "source": [
    "**EXTRA CREDIT 51) Why is Ordinary Least Squares Regression, called Ordinary Least Squares?**"
   ]
  },
  {
   "cell_type": "code",
   "execution_count": 52,
   "metadata": {},
   "outputs": [
    {
     "name": "stdout",
     "output_type": "stream",
     "text": [
      "Because it generates a model that minimizes the sum of square of squares of the distances from the actual observations to the regression line.\n"
     ]
    }
   ],
   "source": [
    "print(\"Because it generates a model that minimizes the sum of square of squares of the distances from the actual observations to the regression line.\")"
   ]
  },
  {
   "cell_type": "markdown",
   "metadata": {},
   "source": [
    "**EXTRA CREDIT 52) What makes \"big data\" different from \"small data\"? (Be brief - 1 to 2 paragaphs MAX)**"
   ]
  },
  {
   "cell_type": "code",
   "execution_count": 53,
   "metadata": {},
   "outputs": [
    {
     "name": "stdout",
     "output_type": "stream",
     "text": [
      "Big data differs from small data in various ways, such as the volume of the data, the way it is generated, and the speed at which it comes. As our lives become more and more automated, there is more and more opportunity to capture more and more data. Big data is generated whenever we run a Google search, carry out transactions on our phones, etc. Unlike small data, big data comes in at such speeds and volumes that it is infeasible to analyze it with traditional data analytics software. Thus, more sophisticated methods are needed.\n"
     ]
    }
   ],
   "source": [
    "print(\"Big data differs from small data in various ways, such as the volume of the data, the way it is generated, and the speed at which it comes. As our lives become more and more automated, there is more and more opportunity to capture more and more data. Big data is generated whenever we run a Google search, carry out transactions on our phones, etc. Unlike small data, big data comes in at such speeds and volumes that it is infeasible to analyze it with traditional data analytics software. Thus, more sophisticated methods are needed.\")"
   ]
  },
  {
   "cell_type": "markdown",
   "metadata": {},
   "source": [
    "**EXTRA CREDIT 53) What are WMD's according to Cathy O'Neil?**"
   ]
  },
  {
   "cell_type": "code",
   "execution_count": 54,
   "metadata": {},
   "outputs": [
    {
     "name": "stdout",
     "output_type": "stream",
     "text": [
      "WMDs are Weapons of Math Destruction. Their processes are opaque to most people. Their decisions tend to be beyond dispute, and tend to make poor people poorer and rich people richer.\n"
     ]
    }
   ],
   "source": [
    "print(\"WMDs are Weapons of Math Destruction. Their processes are opaque to most people. Their decisions tend to be beyond dispute, and tend to make poor people poorer and rich people richer.\")"
   ]
  },
  {
   "cell_type": "markdown",
   "metadata": {},
   "source": [
    "**EXTRA CREDIT 54) Why do vicious feedback loops matter in data analytics?**"
   ]
  },
  {
   "cell_type": "code",
   "execution_count": 55,
   "metadata": {},
   "outputs": [
    {
     "name": "stdout",
     "output_type": "stream",
     "text": [
      "One example of a vicious feedback loop is created by WMDs that judge criminals and calculate the length of their sentences based on the likelihood that the criminal will commit another crime. The higher the likelihood, the longer the sentence. A person who is forced to carry out a longer sentence will have been out of work for a longer time, and their connections will have had more time to erode. This can lead them into desperation and increase their likelihood of committing another crime, thus \"proving\" that the algorithm was \"right\".\n",
      "\n",
      "\n",
      "These vicoius feedback loops matter because after making a prediction, they make decisions that ultimately lead to the realization of that prediction. If these algorithms were used to decide which communities need the most help, rather than who deserves a longer sentence, then those initial predictions may turn out to be entirely false.\n"
     ]
    }
   ],
   "source": [
    "print(\"One example of a vicious feedback loop is created by WMDs that judge criminals and calculate the length of their sentences based on the likelihood that the criminal will commit another crime. The higher the likelihood, the longer the sentence. A person who is forced to carry out a longer sentence will have been out of work for a longer time, and their connections will have had more time to erode. This can lead them into desperation and increase their likelihood of committing another crime, thus \\\"proving\\\" that the algorithm was \\\"right\\\".\")\n",
    "print(\"\\n\")\n",
    "print(\"These vicoius feedback loops matter because after making a prediction, they make decisions that ultimately lead to the realization of that prediction. If these algorithms were used to decide which communities need the most help, rather than who deserves a longer sentence, then those initial predictions may turn out to be entirely false.\")"
   ]
  },
  {
   "cell_type": "markdown",
   "metadata": {},
   "source": [
    "**EXTRA CREDIT 55) What are the 10 simple rules Zook et. al. Suggest to follow when doing big data analytics?**"
   ]
  },
  {
   "cell_type": "code",
   "execution_count": 56,
   "metadata": {},
   "outputs": [
    {
     "name": "stdout",
     "output_type": "stream",
     "text": [
      "1) Acknowledge that data are people and can do harm\n",
      "2) Recognize that privacy is more than a binary value\n",
      "3) Guard against the reidentification of your data\n",
      "4) Practice ethical data sharing\n",
      "5) Consider the strengths and limitations of your data; big does not automatically mean better\n",
      "6) Debate the tough, ethical choices\n",
      "7) Develop a code of conduct for your organization, research community, or industry\n",
      "8) Design your data and systems for auditability\n",
      "9) Engage with the broader consequences of data and analysis practices\n",
      "10) Know when to break these rules\n"
     ]
    }
   ],
   "source": [
    "print(\"1) Acknowledge that data are people and can do harm\")\n",
    "print(\"2) Recognize that privacy is more than a binary value\")\n",
    "print(\"3) Guard against the reidentification of your data\")\n",
    "print(\"4) Practice ethical data sharing\")\n",
    "print(\"5) Consider the strengths and limitations of your data; big does not automatically mean better\")\n",
    "print(\"6) Debate the tough, ethical choices\")\n",
    "print(\"7) Develop a code of conduct for your organization, research community, or industry\")\n",
    "print(\"8) Design your data and systems for auditability\")\n",
    "print(\"9) Engage with the broader consequences of data and analysis practices\")\n",
    "print(\"10) Know when to break these rules\")"
   ]
  }
 ],
 "metadata": {
  "kernelspec": {
   "display_name": "Python 3",
   "language": "python",
   "name": "python3"
  },
  "language_info": {
   "codemirror_mode": {
    "name": "ipython",
    "version": 3
   },
   "file_extension": ".py",
   "mimetype": "text/x-python",
   "name": "python",
   "nbconvert_exporter": "python",
   "pygments_lexer": "ipython3",
   "version": "3.6.3"
  }
 },
 "nbformat": 4,
 "nbformat_minor": 1
}
