{
 "cells": [
  {
   "cell_type": "markdown",
   "metadata": {},
   "source": [
    "## Introduction to Big Data Midterm"
   ]
  },
  {
   "cell_type": "markdown",
   "metadata": {},
   "source": [
    "Assign date: 2017-12-03\n",
    "\n",
    "Due date: 2017-12-16 11:59pm\n",
    "\n",
    "Please submit only one copy of your Jupyter Notebook file with your answers for each question provided in the following cells below to Moodle. There will be no extensions or excemptions. \n",
    "\n",
    "You will lose 15% each day your submission is late. \n",
    "\n",
    "Please do not post any answers to the general question forum. You can however ask for technical help on the course page if you are having actualy technical issues. I reserve the right to delete any question/response that I deem being too much \"begging for hints\" in nature. You may email me directly at mtenney@yorku.ca if you have any questions, but do note I will not provide you any answers and my response may take up to 48hrs. And of course, you're free to use any class material, the Internet, or additional resources to complete the exam. The exam covers material from weeks 1-4 inclusively.\n",
    "\n",
    "Note you MUST RUN THE CODE and print out the required results when submitting. Any empty cells or un-run code will not be accepted. "
   ]
  },
  {
   "cell_type": "markdown",
   "metadata": {},
   "source": [
    "\n",
    "**1) Import the following libraries to your notebook (you can use alias' if you want) in the cell below:**<br/>\n",
    "    pandas,\n",
    "    seaborn,\n",
    "    os,\n",
    "    matplotlib.pyplot<br/>\n",
    "**And** add the following flag: \n",
    "    %matplotlib inline"
   ]
  },
  {
   "cell_type": "code",
   "execution_count": 1,
   "metadata": {
    "collapsed": true
   },
   "outputs": [],
   "source": [
    "import pandas as pd \n",
    "import seaborn as sb\n",
    "import os\n",
    "import matplotlib.pyplot as plt\n",
    "%matplotlib inline\n"
   ]
  },
  {
   "cell_type": "markdown",
   "metadata": {},
   "source": [
    "**2) Index a list in Python**<br/>\n",
    "Run the code below, it will give a result of 4. If we want to get ONLY the number 8 from the list of lists below, how would you alter the code? Alter the code directly and run to print the desired output. "
   ]
  },
  {
   "cell_type": "code",
   "execution_count": 2,
   "metadata": {},
   "outputs": [
    {
     "name": "stdout",
     "output_type": "stream",
     "text": [
      "8\n"
     ]
    }
   ],
   "source": [
    "question2 = [[1,2],[3,4],[5,6],[7,[8,9]]]\n",
    "print question2[3][1][0]"
   ]
  },
  {
   "cell_type": "markdown",
   "metadata": {},
   "source": [
    "**3) Define a variable called bigdata, to be a list in python with the following elements and print only the last two elements of the list:**<br/> 1, \"Big Data Class\", 2, \"Is Really Fun\",3, \"I Love Python\""
   ]
  },
  {
   "cell_type": "code",
   "execution_count": 30,
   "metadata": {},
   "outputs": [
    {
     "name": "stdout",
     "output_type": "stream",
     "text": [
      "['Is Really Fun', 'I Love Python']\n"
     ]
    }
   ],
   "source": [
    "bigdata = ['Big Data Class','Is Really Fun','I Love Python']\n",
    "bigdata.remove('Big Data Class')\n",
    "print bigdata\n",
    "\n"
   ]
  },
  {
   "cell_type": "markdown",
   "metadata": {},
   "source": [
    "**4) Cast the following list to be a string in Python:** <br/>\n",
    "Define the list [1,2,4,3,'k'] and cast it to a string where you print out '1243k'. Insert your code below."
   ]
  },
  {
   "cell_type": "code",
   "execution_count": 40,
   "metadata": {},
   "outputs": [
    {
     "name": "stdout",
     "output_type": "stream",
     "text": [
      "[1, 2, 4, 3, 'k']\n",
      "1243k\n"
     ]
    }
   ],
   "source": [
    "lst1 =[1,2,4,3,'k']\n",
    "print lst1\n",
    "str1 = ''.join(str(n) for n in lst1)\n",
    "print str1"
   ]
  },
  {
   "cell_type": "markdown",
   "metadata": {},
   "source": [
    "**5) Test whether the two lists are equal too each other and if not what elements are shared between the two lists.**<br/>\n",
    "<t/>list1 = ['1',2,'3',4,5]<br/>\n",
    "<t/>list2 = [1,2,3,4,'5',6]<br/>\n",
    "<br/>\n",
    "\n",
    "\n",
    "Define the lists and print whether the lists are equal to one another, and find which elements are a match. (***Hint you can go element by element or use you can use a \"for\" loop, or, you can use a different data structure all together***). \n"
   ]
  },
  {
   "cell_type": "code",
   "execution_count": 54,
   "metadata": {},
   "outputs": [
    {
     "data": {
      "text/plain": [
       "False"
      ]
     },
     "execution_count": 54,
     "metadata": {},
     "output_type": "execute_result"
    }
   ],
   "source": [
    "list1 = ['1',2,'3',4,5]\n",
    "list2 = [1,2,3,4,'5','6']\n",
    "list1 == list2"
   ]
  },
  {
   "cell_type": "code",
   "execution_count": 55,
   "metadata": {},
   "outputs": [
    {
     "data": {
      "text/plain": [
       "False"
      ]
     },
     "execution_count": 55,
     "metadata": {},
     "output_type": "execute_result"
    }
   ],
   "source": [
    "1 in list1"
   ]
  },
  {
   "cell_type": "code",
   "execution_count": 56,
   "metadata": {},
   "outputs": [
    {
     "data": {
      "text/plain": [
       "True"
      ]
     },
     "execution_count": 56,
     "metadata": {},
     "output_type": "execute_result"
    }
   ],
   "source": [
    "2 in list1"
   ]
  },
  {
   "cell_type": "code",
   "execution_count": 57,
   "metadata": {},
   "outputs": [
    {
     "data": {
      "text/plain": [
       "False"
      ]
     },
     "execution_count": 57,
     "metadata": {},
     "output_type": "execute_result"
    }
   ],
   "source": [
    "3 in list1"
   ]
  },
  {
   "cell_type": "code",
   "execution_count": 59,
   "metadata": {},
   "outputs": [
    {
     "data": {
      "text/plain": [
       "False"
      ]
     },
     "execution_count": 59,
     "metadata": {},
     "output_type": "execute_result"
    }
   ],
   "source": [
    "'5' in list1"
   ]
  },
  {
   "cell_type": "code",
   "execution_count": 58,
   "metadata": {},
   "outputs": [
    {
     "data": {
      "text/plain": [
       "True"
      ]
     },
     "execution_count": 58,
     "metadata": {},
     "output_type": "execute_result"
    }
   ],
   "source": [
    "4 in list1"
   ]
  },
  {
   "cell_type": "code",
   "execution_count": 60,
   "metadata": {},
   "outputs": [
    {
     "data": {
      "text/plain": [
       "False"
      ]
     },
     "execution_count": 60,
     "metadata": {},
     "output_type": "execute_result"
    }
   ],
   "source": [
    "'6' in list1"
   ]
  },
  {
   "cell_type": "markdown",
   "metadata": {},
   "source": [
    "**6) Test whether the two lists are equal too each other and if not what elements are shared between the two lists.**<br/>"
   ]
  },
  {
   "cell_type": "code",
   "execution_count": 64,
   "metadata": {},
   "outputs": [
    {
     "name": "stdout",
     "output_type": "stream",
     "text": [
      "[2, 4]\n"
     ]
    }
   ],
   "source": [
    "list1 == list2\n",
    "print(list(set(list1).intersection(list2)))"
   ]
  },
  {
   "cell_type": "markdown",
   "metadata": {},
   "source": [
    "**7) What are the \"5 V's\" commonly used to describe Big Data?** Write your answer below."
   ]
  },
  {
   "cell_type": "raw",
   "metadata": {
    "collapsed": true
   },
   "source": [
    "Volume, Velocity, Variety, Veracity, Value "
   ]
  },
  {
   "cell_type": "markdown",
   "metadata": {},
   "source": [
    "**8) Finish the quote:**<br/> *\"All models are wrong. Some are [...]\"*"
   ]
  },
  {
   "cell_type": "code",
   "execution_count": null,
   "metadata": {
    "collapsed": true
   },
   "outputs": [],
   "source": [
    "more useful than others "
   ]
  },
  {
   "cell_type": "markdown",
   "metadata": {},
   "source": [
    "**9) If a variable dogs = 103x23/2 and a variable cats = 10x12x4,  Use python to determing if dogs are greater than cats. **"
   ]
  },
  {
   "cell_type": "code",
   "execution_count": 65,
   "metadata": {},
   "outputs": [
    {
     "data": {
      "text/plain": [
       "True"
      ]
     },
     "execution_count": 65,
     "metadata": {},
     "output_type": "execute_result"
    }
   ],
   "source": [
    "dogs = 103*23/2\n",
    "cats = 10*12*4\n",
    "dogs > cats\n"
   ]
  },
  {
   "cell_type": "markdown",
   "metadata": {},
   "source": [
    "**10) What is the name for the 3 primary measures of central tendency and give their definition** "
   ]
  },
  {
   "cell_type": "code",
   "execution_count": null,
   "metadata": {
    "collapsed": true
   },
   "outputs": [],
   "source": [
    "Mean- arithmetic average\n",
    "Median- middle value\n",
    "Mode- most common value "
   ]
  },
  {
   "cell_type": "markdown",
   "metadata": {},
   "source": [
    "**11) Calculate the descriptive statistice for each of the above central measures in Python on this list of numbers and print out the values:**<br/> \n",
    "\n",
    "[12,44,23,2,1,66,7,85,3,34,23,6,34,23,7,21,14,34,23,88]\n",
    "<br/> \n",
    "*(Hint: it might be easier to import a function from some other library)*\n",
    "\n"
   ]
  },
  {
   "cell_type": "code",
   "execution_count": 76,
   "metadata": {},
   "outputs": [
    {
     "name": "stdout",
     "output_type": "stream",
     "text": [
      "27.5\n",
      "23.0\n"
     ]
    },
    {
     "data": {
      "text/html": [
       "<div>\n",
       "<style>\n",
       "    .dataframe thead tr:only-child th {\n",
       "        text-align: right;\n",
       "    }\n",
       "\n",
       "    .dataframe thead th {\n",
       "        text-align: left;\n",
       "    }\n",
       "\n",
       "    .dataframe tbody tr th {\n",
       "        vertical-align: top;\n",
       "    }\n",
       "</style>\n",
       "<table border=\"1\" class=\"dataframe\">\n",
       "  <thead>\n",
       "    <tr style=\"text-align: right;\">\n",
       "      <th></th>\n",
       "      <th>A</th>\n",
       "    </tr>\n",
       "  </thead>\n",
       "  <tbody>\n",
       "    <tr>\n",
       "      <th>0</th>\n",
       "      <td>23</td>\n",
       "    </tr>\n",
       "  </tbody>\n",
       "</table>\n",
       "</div>"
      ],
      "text/plain": [
       "    A\n",
       "0  23"
      ]
     },
     "execution_count": 76,
     "metadata": {},
     "output_type": "execute_result"
    }
   ],
   "source": [
    "import numpy \n",
    "\n",
    "print (numpy.mean([12,44,23,2,1,66,7,85,3,34,23,6,34,23,7,21,14,34,23,88]))\n",
    "\n",
    "print (numpy.median([12,44,23,2,1,66,7,85,3,34,23,6,34,23,7,21,14,34,23,88]))\n",
    "\n",
    "df = pd.DataFrame({'A':[12,44,23,2,1,66,7,85,3,34,23,6,34,23,7,21,14,34,23,88]})\n",
    "df.mode()\n"
   ]
  },
  {
   "cell_type": "markdown",
   "metadata": {},
   "source": [
    "**12) Delete the empty cell  between question 12 (this one) and Question 13 from the Jupyter notebook**"
   ]
  },
  {
   "cell_type": "markdown",
   "metadata": {},
   "source": [
    "**13) Create a list, called mylist, containing a sequential list of numbers that starts with 2 and stops at 1000, counting by 2's in Python**"
   ]
  },
  {
   "cell_type": "code",
   "execution_count": 85,
   "metadata": {
    "scrolled": true
   },
   "outputs": [
    {
     "name": "stdout",
     "output_type": "stream",
     "text": [
      "[2, 4, 6, 8, 10, 12, 14, 16, 18, 20, 22, 24, 26, 28, 30, 32, 34, 36, 38, 40, 42, 44, 46, 48, 50, 52, 54, 56, 58, 60, 62, 64, 66, 68, 70, 72, 74, 76, 78, 80, 82, 84, 86, 88, 90, 92, 94, 96, 98, 100, 102, 104, 106, 108, 110, 112, 114, 116, 118, 120, 122, 124, 126, 128, 130, 132, 134, 136, 138, 140, 142, 144, 146, 148, 150, 152, 154, 156, 158, 160, 162, 164, 166, 168, 170, 172, 174, 176, 178, 180, 182, 184, 186, 188, 190, 192, 194, 196, 198, 200, 202, 204, 206, 208, 210, 212, 214, 216, 218, 220, 222, 224, 226, 228, 230, 232, 234, 236, 238, 240, 242, 244, 246, 248, 250, 252, 254, 256, 258, 260, 262, 264, 266, 268, 270, 272, 274, 276, 278, 280, 282, 284, 286, 288, 290, 292, 294, 296, 298, 300, 302, 304, 306, 308, 310, 312, 314, 316, 318, 320, 322, 324, 326, 328, 330, 332, 334, 336, 338, 340, 342, 344, 346, 348, 350, 352, 354, 356, 358, 360, 362, 364, 366, 368, 370, 372, 374, 376, 378, 380, 382, 384, 386, 388, 390, 392, 394, 396, 398, 400, 402, 404, 406, 408, 410, 412, 414, 416, 418, 420, 422, 424, 426, 428, 430, 432, 434, 436, 438, 440, 442, 444, 446, 448, 450, 452, 454, 456, 458, 460, 462, 464, 466, 468, 470, 472, 474, 476, 478, 480, 482, 484, 486, 488, 490, 492, 494, 496, 498, 500, 502, 504, 506, 508, 510, 512, 514, 516, 518, 520, 522, 524, 526, 528, 530, 532, 534, 536, 538, 540, 542, 544, 546, 548, 550, 552, 554, 556, 558, 560, 562, 564, 566, 568, 570, 572, 574, 576, 578, 580, 582, 584, 586, 588, 590, 592, 594, 596, 598, 600, 602, 604, 606, 608, 610, 612, 614, 616, 618, 620, 622, 624, 626, 628, 630, 632, 634, 636, 638, 640, 642, 644, 646, 648, 650, 652, 654, 656, 658, 660, 662, 664, 666, 668, 670, 672, 674, 676, 678, 680, 682, 684, 686, 688, 690, 692, 694, 696, 698, 700, 702, 704, 706, 708, 710, 712, 714, 716, 718, 720, 722, 724, 726, 728, 730, 732, 734, 736, 738, 740, 742, 744, 746, 748, 750, 752, 754, 756, 758, 760, 762, 764, 766, 768, 770, 772, 774, 776, 778, 780, 782, 784, 786, 788, 790, 792, 794, 796, 798, 800, 802, 804, 806, 808, 810, 812, 814, 816, 818, 820, 822, 824, 826, 828, 830, 832, 834, 836, 838, 840, 842, 844, 846, 848, 850, 852, 854, 856, 858, 860, 862, 864, 866, 868, 870, 872, 874, 876, 878, 880, 882, 884, 886, 888, 890, 892, 894, 896, 898, 900, 902, 904, 906, 908, 910, 912, 914, 916, 918, 920, 922, 924, 926, 928, 930, 932, 934, 936, 938, 940, 942, 944, 946, 948, 950, 952, 954, 956, 958, 960, 962, 964, 966, 968, 970, 972, 974, 976, 978, 980, 982, 984, 986, 988, 990, 992, 994, 996, 998]\n"
     ]
    }
   ],
   "source": [
    "mylist = (range(2,1000,2))\n",
    "print mylist"
   ]
  },
  {
   "cell_type": "markdown",
   "metadata": {},
   "source": [
    "**14) Is the sum of the first 50 elements in \"mylist\" greater than the last element of  \"mylist\"?**<br/> Use Python below to print out the answer. (mylist is defined in question 13). "
   ]
  },
  {
   "cell_type": "code",
   "execution_count": 87,
   "metadata": {},
   "outputs": [
    {
     "data": {
      "text/plain": [
       "True"
      ]
     },
     "execution_count": 87,
     "metadata": {},
     "output_type": "execute_result"
    }
   ],
   "source": [
    "mylist[0:50] > mylist[-1]"
   ]
  },
  {
   "cell_type": "markdown",
   "metadata": {},
   "source": [
    "**15) What is the length of \"mylist\"?**"
   ]
  },
  {
   "cell_type": "code",
   "execution_count": 88,
   "metadata": {},
   "outputs": [
    {
     "data": {
      "text/plain": [
       "499"
      ]
     },
     "execution_count": 88,
     "metadata": {},
     "output_type": "execute_result"
    }
   ],
   "source": [
    "len(mylist)"
   ]
  },
  {
   "cell_type": "markdown",
   "metadata": {},
   "source": [
    "**16) Create another list, called my2ndlist, containing a list of numbers starting at 1002 and stops at 1052,counting by 3's in Python. <br/>THEN concatenate my2ndlist with mylist into a new list called theMegaList.**<br/> Print theMegaList below."
   ]
  },
  {
   "cell_type": "code",
   "execution_count": 127,
   "metadata": {},
   "outputs": [
    {
     "name": "stdout",
     "output_type": "stream",
     "text": [
      "[2, 4, 6, 8, 10, 12, 14, 16, 18, 20, 22, 24, 26, 28, 30, 32, 34, 36, 38, 40, 42, 44, 46, 48, 50, 52, 54, 56, 58, 60, 62, 64, 66, 68, 70, 72, 74, 76, 78, 80, 82, 84, 86, 88, 90, 92, 94, 96, 98, 100, 102, 104, 106, 108, 110, 112, 114, 116, 118, 120, 122, 124, 126, 128, 130, 132, 134, 136, 138, 140, 142, 144, 146, 148, 150, 152, 154, 156, 158, 160, 162, 164, 166, 168, 170, 172, 174, 176, 178, 180, 182, 184, 186, 188, 190, 192, 194, 196, 198, 200, 202, 204, 206, 208, 210, 212, 214, 216, 218, 220, 222, 224, 226, 228, 230, 232, 234, 236, 238, 240, 242, 244, 246, 248, 250, 252, 254, 256, 258, 260, 262, 264, 266, 268, 270, 272, 274, 276, 278, 280, 282, 284, 286, 288, 290, 292, 294, 296, 298, 300, 302, 304, 306, 308, 310, 312, 314, 316, 318, 320, 322, 324, 326, 328, 330, 332, 334, 336, 338, 340, 342, 344, 346, 348, 350, 352, 354, 356, 358, 360, 362, 364, 366, 368, 370, 372, 374, 376, 378, 380, 382, 384, 386, 388, 390, 392, 394, 396, 398, 400, 402, 404, 406, 408, 410, 412, 414, 416, 418, 420, 422, 424, 426, 428, 430, 432, 434, 436, 438, 440, 442, 444, 446, 448, 450, 452, 454, 456, 458, 460, 462, 464, 466, 468, 470, 472, 474, 476, 478, 480, 482, 484, 486, 488, 490, 492, 494, 496, 498, 500, 502, 504, 506, 508, 510, 512, 514, 516, 518, 520, 522, 524, 526, 528, 530, 532, 534, 536, 538, 540, 542, 544, 546, 548, 550, 552, 554, 556, 558, 560, 562, 564, 566, 568, 570, 572, 574, 576, 578, 580, 582, 584, 586, 588, 590, 592, 594, 596, 598, 600, 602, 604, 606, 608, 610, 612, 614, 616, 618, 620, 622, 624, 626, 628, 630, 632, 634, 636, 638, 640, 642, 644, 646, 648, 650, 652, 654, 656, 658, 660, 662, 664, 666, 668, 670, 672, 674, 676, 678, 680, 682, 684, 686, 688, 690, 692, 694, 696, 698, 700, 702, 704, 706, 708, 710, 712, 714, 716, 718, 720, 722, 724, 726, 728, 730, 732, 734, 736, 738, 740, 742, 744, 746, 748, 750, 752, 754, 756, 758, 760, 762, 764, 766, 768, 770, 772, 774, 776, 778, 780, 782, 784, 786, 788, 790, 792, 794, 796, 798, 800, 802, 804, 806, 808, 810, 812, 814, 816, 818, 820, 822, 824, 826, 828, 830, 832, 834, 836, 838, 840, 842, 844, 846, 848, 850, 852, 854, 856, 858, 860, 862, 864, 866, 868, 870, 872, 874, 876, 878, 880, 882, 884, 886, 888, 890, 892, 894, 896, 898, 900, 902, 904, 906, 908, 910, 912, 914, 916, 918, 920, 922, 924, 926, 928, 930, 932, 934, 936, 938, 940, 942, 944, 946, 948, 950, 952, 954, 956, 958, 960, 962, 964, 966, 968, 970, 972, 974, 976, 978, 980, 982, 984, 986, 988, 990, 992, 994, 996, 998, 1002, 1005, 1008, 1011, 1014, 1017, 1020, 1023, 1026, 1029, 1032, 1035, 1038, 1041, 1044, 1047, 1050]\n"
     ]
    }
   ],
   "source": [
    "my2ndlist = (range(1002,1052,3))\n",
    "theMegaList = []\n",
    "theMegaList.extend(mylist)\n",
    "theMegaList.extend(my2ndlist)\n",
    "print theMegaList\n"
   ]
  },
  {
   "cell_type": "markdown",
   "metadata": {},
   "source": [
    "**17) What is the index for the value 822 in theMegaList?**"
   ]
  },
  {
   "cell_type": "code",
   "execution_count": 108,
   "metadata": {},
   "outputs": [
    {
     "data": {
      "text/plain": [
       "410"
      ]
     },
     "execution_count": 108,
     "metadata": {},
     "output_type": "execute_result"
    }
   ],
   "source": [
    "theMegaList.index(822)"
   ]
  },
  {
   "cell_type": "markdown",
   "metadata": {},
   "source": [
    "**18) Write a for loop that will test if an element in theMegaList is an even or odd number and keeps a count of how many of each there are in the list.**<br/> Print out the total number of even and odd numbers found in theMegalist below. "
   ]
  },
  {
   "cell_type": "code",
   "execution_count": 136,
   "metadata": {},
   "outputs": [
    {
     "name": "stdout",
     "output_type": "stream",
     "text": [
      "Total even numbers in theMegaList = 508\n",
      "Total odd numbers in theMegaList = 8\n"
     ]
    }
   ],
   "source": [
    "even=0\n",
    "odd=0\n",
    "\n",
    "for i in theMegaList:\n",
    "    if i%2==0:\n",
    "        even=even +1 \n",
    "    else:\n",
    "        odd=odd+1\n",
    "\n",
    "print \"Total even numbers in theMegaList = %d\" %(even)\n",
    "print \"Total odd numbers in theMegaList = %d\" %(odd)\n",
    "        \n",
    "        "
   ]
  },
  {
   "cell_type": "markdown",
   "metadata": {},
   "source": [
    "**19) Write a brief definition of what Data Latency and the difference between \"real-time\" and \"near-time\" data.**"
   ]
  },
  {
   "cell_type": "markdown",
   "metadata": {
    "collapsed": true
   },
   "source": [
    "Latency is how frequent data is updated and how much time is between an event and the related databse being updated. Real time refers to a minimal amount of time between the event and the database being updated (low latency). The definition of 'minimal' or 'small' amount of time can vary depending on the application. Near-time refers to a longer period of time between event and the databse being updated (high latency), which can range from more than an hour to less than a day. "
   ]
  },
  {
   "cell_type": "markdown",
   "metadata": {},
   "source": [
    "**19) What does the statistic Standard Deviation tell you about a numerical dataset? **"
   ]
  },
  {
   "cell_type": "markdown",
   "metadata": {
    "collapsed": true
   },
   "source": [
    "It will tell us the distance on average from the mean"
   ]
  },
  {
   "cell_type": "markdown",
   "metadata": {},
   "source": [
    "**20) Suppose you have the following loop:**<br>\n",
    ">things = [1,2,3,5,6,7,8,9,10]<br>\n",
    ">previous_thing = 0<br>\n",
    ">for thing in things:<br>\n",
    ">>new_thing = thing * previous_thing<br>\n",
    ">>x = 3+previous_thing<br>\n",
    ">>previous_thing = thing<br>\n",
    "\n",
    "**At the end of the loop:**\n",
    ">**What does new_thing equal?**<br>\n",
    ">**What does x equal?**\n",
    "    \n",
    "    \n"
   ]
  },
  {
   "cell_type": "markdown",
   "metadata": {
    "collapsed": true
   },
   "source": [
    "new_thing equals 90\n",
    "x equals 12"
   ]
  },
  {
   "cell_type": "markdown",
   "metadata": {},
   "source": [
    "**21) What's the difference between Zero and None or Null?** "
   ]
  },
  {
   "cell_type": "markdown",
   "metadata": {
    "collapsed": true
   },
   "source": [
    "Zero represents a ranking place, none is the absence of value or element. Zero can be ranked in an ordinal manner whereas null cannot. "
   ]
  },
  {
   "cell_type": "markdown",
   "metadata": {},
   "source": [
    "**22) In the following loop:**<br> \n",
    ">x = 1<br>\n",
    ">sure_thing = True<br>\n",
    "\n",
    ">while sure_thing:<br>\n",
    ">>x = x +100<br>\n",
    "\n",
    ">>if x < 20001: <br>\n",
    ">>>x = x-1<br>\n",
    ">>else: <br>\n",
    ">>>sure_thing = False<br>\n",
    "\n",
    "**What does x equal to make our sure_thing False? **\n",
    "        "
   ]
  },
  {
   "cell_type": "markdown",
   "metadata": {
    "collapsed": true
   },
   "source": [
    "x >= 20000\n"
   ]
  },
  {
   "cell_type": "markdown",
   "metadata": {},
   "source": [
    "**Based on the DataFrame df and df1 defined below, add needed code to answer the following questions.**"
   ]
  },
  {
   "cell_type": "code",
   "execution_count": 137,
   "metadata": {
    "collapsed": true
   },
   "outputs": [],
   "source": [
    "from pandas import Series\n",
    "from pandas import DataFrame\n",
    "import pandas as pd\n",
    "raw_data = {'first_name': ['Jason', 'Jason', 'Tina', 'Jake', 'Amy'],\n",
    "        'last_name': ['Miller', 'Miller', 'Ali', 'Milner', 'Milner'],\n",
    "        'age': [42, 42, 36, 24, 73],\n",
    "        'preTest': [4, 4, 31, 2, 3],\n",
    "        'postTest': [25, 25, 57, 62, 70]}\n",
    "df = pd.DataFrame(raw_data, columns = ['first_name', 'last_name', 'age', 'preTest', 'postTest'])\n",
    "df1 = df"
   ]
  },
  {
   "cell_type": "markdown",
   "metadata": {},
   "source": [
    "**23) What are the column names in df1?print the result.**"
   ]
  },
  {
   "cell_type": "code",
   "execution_count": 138,
   "metadata": {},
   "outputs": [
    {
     "name": "stdout",
     "output_type": "stream",
     "text": [
      "Index([u'first_name', u'last_name', u'age', u'preTest', u'postTest'], dtype='object')\n"
     ]
    }
   ],
   "source": [
    "print df1.columns"
   ]
  },
  {
   "cell_type": "markdown",
   "metadata": {},
   "source": [
    "**24) What is the average (mean) of the preTest and postTest scores?print the result. **"
   ]
  },
  {
   "cell_type": "code",
   "execution_count": 145,
   "metadata": {},
   "outputs": [
    {
     "name": "stdout",
     "output_type": "stream",
     "text": [
      "8.8\n",
      "47.8\n"
     ]
    }
   ],
   "source": [
    "print df1['preTest'].mean()\n",
    "print df1['postTest'].mean()\n"
   ]
  },
  {
   "cell_type": "markdown",
   "metadata": {},
   "source": [
    "**25) Remove duplicated rows in df based on last_name only.  Instead of keeping the first value, now keep the last of the duplicated values.print the result.**"
   ]
  },
  {
   "cell_type": "code",
   "execution_count": 146,
   "metadata": {
    "scrolled": true
   },
   "outputs": [
    {
     "data": {
      "text/html": [
       "<div>\n",
       "<style>\n",
       "    .dataframe thead tr:only-child th {\n",
       "        text-align: right;\n",
       "    }\n",
       "\n",
       "    .dataframe thead th {\n",
       "        text-align: left;\n",
       "    }\n",
       "\n",
       "    .dataframe tbody tr th {\n",
       "        vertical-align: top;\n",
       "    }\n",
       "</style>\n",
       "<table border=\"1\" class=\"dataframe\">\n",
       "  <thead>\n",
       "    <tr style=\"text-align: right;\">\n",
       "      <th></th>\n",
       "      <th>first_name</th>\n",
       "      <th>last_name</th>\n",
       "      <th>age</th>\n",
       "      <th>preTest</th>\n",
       "      <th>postTest</th>\n",
       "    </tr>\n",
       "  </thead>\n",
       "  <tbody>\n",
       "    <tr>\n",
       "      <th>1</th>\n",
       "      <td>Jason</td>\n",
       "      <td>Miller</td>\n",
       "      <td>42</td>\n",
       "      <td>4</td>\n",
       "      <td>25</td>\n",
       "    </tr>\n",
       "    <tr>\n",
       "      <th>2</th>\n",
       "      <td>Tina</td>\n",
       "      <td>Ali</td>\n",
       "      <td>36</td>\n",
       "      <td>31</td>\n",
       "      <td>57</td>\n",
       "    </tr>\n",
       "    <tr>\n",
       "      <th>4</th>\n",
       "      <td>Amy</td>\n",
       "      <td>Milner</td>\n",
       "      <td>73</td>\n",
       "      <td>3</td>\n",
       "      <td>70</td>\n",
       "    </tr>\n",
       "  </tbody>\n",
       "</table>\n",
       "</div>"
      ],
      "text/plain": [
       "  first_name last_name  age  preTest  postTest\n",
       "1      Jason    Miller   42        4        25\n",
       "2       Tina       Ali   36       31        57\n",
       "4        Amy    Milner   73        3        70"
      ]
     },
     "execution_count": 146,
     "metadata": {},
     "output_type": "execute_result"
    }
   ],
   "source": [
    "df1.drop_duplicates(subset='last_name',keep='last',inplace=False)"
   ]
  },
  {
   "cell_type": "markdown",
   "metadata": {},
   "source": [
    "**26) Remove duplicated rows in df1 based on both first_name and last_name.  print the result.**"
   ]
  },
  {
   "cell_type": "code",
   "execution_count": 148,
   "metadata": {},
   "outputs": [
    {
     "data": {
      "text/html": [
       "<div>\n",
       "<style>\n",
       "    .dataframe thead tr:only-child th {\n",
       "        text-align: right;\n",
       "    }\n",
       "\n",
       "    .dataframe thead th {\n",
       "        text-align: left;\n",
       "    }\n",
       "\n",
       "    .dataframe tbody tr th {\n",
       "        vertical-align: top;\n",
       "    }\n",
       "</style>\n",
       "<table border=\"1\" class=\"dataframe\">\n",
       "  <thead>\n",
       "    <tr style=\"text-align: right;\">\n",
       "      <th></th>\n",
       "      <th>first_name</th>\n",
       "      <th>last_name</th>\n",
       "      <th>age</th>\n",
       "      <th>preTest</th>\n",
       "      <th>postTest</th>\n",
       "    </tr>\n",
       "  </thead>\n",
       "  <tbody>\n",
       "    <tr>\n",
       "      <th>1</th>\n",
       "      <td>Jason</td>\n",
       "      <td>Miller</td>\n",
       "      <td>42</td>\n",
       "      <td>4</td>\n",
       "      <td>25</td>\n",
       "    </tr>\n",
       "    <tr>\n",
       "      <th>2</th>\n",
       "      <td>Tina</td>\n",
       "      <td>Ali</td>\n",
       "      <td>36</td>\n",
       "      <td>31</td>\n",
       "      <td>57</td>\n",
       "    </tr>\n",
       "    <tr>\n",
       "      <th>3</th>\n",
       "      <td>Jake</td>\n",
       "      <td>Milner</td>\n",
       "      <td>24</td>\n",
       "      <td>2</td>\n",
       "      <td>62</td>\n",
       "    </tr>\n",
       "    <tr>\n",
       "      <th>4</th>\n",
       "      <td>Amy</td>\n",
       "      <td>Milner</td>\n",
       "      <td>73</td>\n",
       "      <td>3</td>\n",
       "      <td>70</td>\n",
       "    </tr>\n",
       "  </tbody>\n",
       "</table>\n",
       "</div>"
      ],
      "text/plain": [
       "  first_name last_name  age  preTest  postTest\n",
       "1      Jason    Miller   42        4        25\n",
       "2       Tina       Ali   36       31        57\n",
       "3       Jake    Milner   24        2        62\n",
       "4        Amy    Milner   73        3        70"
      ]
     },
     "execution_count": 148,
     "metadata": {},
     "output_type": "execute_result"
    }
   ],
   "source": [
    "df1.drop_duplicates(subset=['first_name','last_name'],keep='last', inplace=False)"
   ]
  },
  {
   "cell_type": "markdown",
   "metadata": {},
   "source": [
    "***Use the dataframe defined in the following cell to answer the next few questions***: "
   ]
  },
  {
   "cell_type": "code",
   "execution_count": 149,
   "metadata": {
    "scrolled": true
   },
   "outputs": [
    {
     "name": "stdout",
     "output_type": "stream",
     "text": [
      "            0         1         2         3\n",
      "0    0.496714 -0.138264  0.647689  1.523030\n",
      "1   -0.234153 -0.234137  1.579213  0.767435\n",
      "2   -0.469474  0.542560 -0.463418 -0.465730\n",
      "3    0.241962 -1.913280 -1.724918 -0.562288\n",
      "4   -1.012831  0.314247 -0.908024 -1.412304\n",
      "5    1.465649 -0.225776  0.067528 -1.424748\n",
      "6   -0.544383  0.110923 -1.150994  0.375698\n",
      "7   -0.600639 -0.291694 -0.601707  1.852278\n",
      "8   -0.013497 -1.057711  0.822545 -1.220844\n",
      "9    0.208864 -1.959670 -1.328186  0.196861\n",
      "10   0.738467  0.171368 -0.115648 -0.301104\n",
      "11  -1.478522 -0.719844 -0.460639  1.057122\n",
      "12   0.343618 -1.763040  0.324084 -0.385082\n",
      "13  -0.676922  0.611676  1.031000  0.931280\n",
      "14  -0.839218 -0.309212  0.331263  0.975545\n",
      "15  -0.479174 -0.185659 -1.106335 -1.196207\n",
      "16   0.812526  1.356240 -0.072010  1.003533\n",
      "17   0.361636 -0.645120  0.361396  1.538037\n",
      "18  -0.035826  1.564644 -2.619745  0.821903\n",
      "19   0.087047 -0.299007  0.091761 -1.987569\n",
      "20  -0.219672  0.357113  1.477894 -0.518270\n",
      "21  -0.808494 -0.501757  0.915402  0.328751\n",
      "22  -0.529760  0.513267  0.097078  0.968645\n",
      "23  -0.702053 -0.327662 -0.392108 -1.463515\n",
      "24   0.296120  0.261055  0.005113 -0.234587\n",
      "25  -1.415371 -0.420645 -0.342715 -0.802277\n",
      "26  -0.161286  0.404051  1.886186  0.174578\n",
      "27   0.257550 -0.074446 -1.918771 -0.026514\n",
      "28   0.060230  2.463242 -0.192361  0.301547\n",
      "29  -0.034712 -1.168678  1.142823  0.751933\n",
      "..        ...       ...       ...       ...\n",
      "370  0.722381 -0.372833  1.726964 -0.399636\n",
      "371  0.224685  0.932591 -1.418366 -1.760809\n",
      "372 -1.525656  1.262584 -0.551858  2.558199\n",
      "373 -0.564248  0.184551  1.542110  2.006093\n",
      "374  2.061504  1.208366  1.024063  0.592527\n",
      "375  0.778361 -0.551186 -0.818199 -0.003374\n",
      "376 -0.170185 -0.453228  0.696387  0.955305\n",
      "377  0.088407  1.477530 -1.141689 -0.193659\n",
      "378 -0.716822 -1.866537 -0.082681 -0.121748\n",
      "379  1.513450  0.630812 -1.024187  1.854093\n",
      "380  1.221034  0.582098 -0.226484 -0.959439\n",
      "381 -0.372207  1.088749  1.884586  1.543244\n",
      "382 -0.488849 -1.119617  0.140886 -1.768439\n",
      "383  0.323168 -0.147603 -0.466037 -1.594703\n",
      "384  0.513600 -0.532701 -1.169917 -2.872262\n",
      "385 -0.027515  1.772252  1.661259 -0.457096\n",
      "386 -0.602212  0.468774 -0.998385  0.301792\n",
      "387  0.766080  1.226933 -0.100154 -0.203674\n",
      "388 -0.877983 -0.826880 -0.226479  0.367366\n",
      "389  0.913585 -0.803179  1.492689 -0.271124\n",
      "390 -0.021367 -0.747212 -2.424240  0.884045\n",
      "391  0.736844 -0.281328  0.066991  0.515939\n",
      "392 -1.562546 -0.529053  0.794265 -1.254289\n",
      "393  0.293558 -1.356582  0.466430 -0.035641\n",
      "394 -1.615132  1.164739 -0.734592 -0.810252\n",
      "395  0.200569  1.148637 -1.015822  0.061680\n",
      "396  0.428817  0.693106  0.176442 -0.367028\n",
      "397 -0.827590  0.086144 -1.072139 -2.921350\n",
      "398  0.436560  0.903935 -2.362932 -1.009731\n",
      "399  0.619154  2.057495  0.020794 -0.728003\n",
      "\n",
      "[400 rows x 4 columns]\n"
     ]
    }
   ],
   "source": [
    "from pandas import Series, DataFrame\n",
    "import pandas as pd\n",
    "from numpy.random import randn\n",
    "import numpy as np\n",
    "np.random.seed(42)\n",
    "randomdata = DataFrame(np.random.randn(400, 4))\n",
    "print randomdata\n",
    "%matplotlib inline"
   ]
  },
  {
   "cell_type": "code",
   "execution_count": null,
   "metadata": {
    "collapsed": true
   },
   "outputs": [],
   "source": []
  },
  {
   "cell_type": "markdown",
   "metadata": {},
   "source": [
    "**27) Use the \"describe\" function to summarize the randomdata created above.**"
   ]
  },
  {
   "cell_type": "code",
   "execution_count": 150,
   "metadata": {},
   "outputs": [
    {
     "data": {
      "text/html": [
       "<div>\n",
       "<style>\n",
       "    .dataframe thead tr:only-child th {\n",
       "        text-align: right;\n",
       "    }\n",
       "\n",
       "    .dataframe thead th {\n",
       "        text-align: left;\n",
       "    }\n",
       "\n",
       "    .dataframe tbody tr th {\n",
       "        vertical-align: top;\n",
       "    }\n",
       "</style>\n",
       "<table border=\"1\" class=\"dataframe\">\n",
       "  <thead>\n",
       "    <tr style=\"text-align: right;\">\n",
       "      <th></th>\n",
       "      <th>0</th>\n",
       "      <th>1</th>\n",
       "      <th>2</th>\n",
       "      <th>3</th>\n",
       "    </tr>\n",
       "  </thead>\n",
       "  <tbody>\n",
       "    <tr>\n",
       "      <th>count</th>\n",
       "      <td>400.000000</td>\n",
       "      <td>400.000000</td>\n",
       "      <td>400.000000</td>\n",
       "      <td>400.000000</td>\n",
       "    </tr>\n",
       "    <tr>\n",
       "      <th>mean</th>\n",
       "      <td>0.035296</td>\n",
       "      <td>0.041202</td>\n",
       "      <td>0.046713</td>\n",
       "      <td>0.035939</td>\n",
       "    </tr>\n",
       "    <tr>\n",
       "      <th>std</th>\n",
       "      <td>0.924153</td>\n",
       "      <td>1.028034</td>\n",
       "      <td>0.997816</td>\n",
       "      <td>1.024632</td>\n",
       "    </tr>\n",
       "    <tr>\n",
       "      <th>min</th>\n",
       "      <td>-2.650970</td>\n",
       "      <td>-2.896255</td>\n",
       "      <td>-3.241267</td>\n",
       "      <td>-2.921350</td>\n",
       "    </tr>\n",
       "    <tr>\n",
       "      <th>25%</th>\n",
       "      <td>-0.612942</td>\n",
       "      <td>-0.651856</td>\n",
       "      <td>-0.602684</td>\n",
       "      <td>-0.683766</td>\n",
       "    </tr>\n",
       "    <tr>\n",
       "      <th>50%</th>\n",
       "      <td>0.052292</td>\n",
       "      <td>0.037928</td>\n",
       "      <td>0.036043</td>\n",
       "      <td>0.047190</td>\n",
       "    </tr>\n",
       "    <tr>\n",
       "      <th>75%</th>\n",
       "      <td>0.634986</td>\n",
       "      <td>0.676014</td>\n",
       "      <td>0.652834</td>\n",
       "      <td>0.744011</td>\n",
       "    </tr>\n",
       "    <tr>\n",
       "      <th>max</th>\n",
       "      <td>2.526932</td>\n",
       "      <td>3.852731</td>\n",
       "      <td>3.078881</td>\n",
       "      <td>2.720169</td>\n",
       "    </tr>\n",
       "  </tbody>\n",
       "</table>\n",
       "</div>"
      ],
      "text/plain": [
       "                0           1           2           3\n",
       "count  400.000000  400.000000  400.000000  400.000000\n",
       "mean     0.035296    0.041202    0.046713    0.035939\n",
       "std      0.924153    1.028034    0.997816    1.024632\n",
       "min     -2.650970   -2.896255   -3.241267   -2.921350\n",
       "25%     -0.612942   -0.651856   -0.602684   -0.683766\n",
       "50%      0.052292    0.037928    0.036043    0.047190\n",
       "75%      0.634986    0.676014    0.652834    0.744011\n",
       "max      2.526932    3.852731    3.078881    2.720169"
      ]
     },
     "execution_count": 150,
     "metadata": {},
     "output_type": "execute_result"
    }
   ],
   "source": [
    "randomdata.describe(percentiles=None,include=None,exclude=None)"
   ]
  },
  {
   "cell_type": "markdown",
   "metadata": {},
   "source": [
    "**28) Identify the rows which contains at least one item with absolute value greater than 1**"
   ]
  },
  {
   "cell_type": "code",
   "execution_count": 202,
   "metadata": {
    "scrolled": true
   },
   "outputs": [
    {
     "name": "stdout",
     "output_type": "stream",
     "text": [
      "            0         1         2         3\n",
      "0    0.496714 -0.138264  0.647689  1.523030\n",
      "1   -0.234153 -0.234137  1.579213  0.767435\n",
      "3    0.241962 -1.913280 -1.724918 -0.562288\n",
      "4   -1.012831  0.314247 -0.908024 -1.412304\n",
      "5    1.465649 -0.225776  0.067528 -1.424748\n",
      "6   -0.544383  0.110923 -1.150994  0.375698\n",
      "7   -0.600639 -0.291694 -0.601707  1.852278\n",
      "8   -0.013497 -1.057711  0.822545 -1.220844\n",
      "9    0.208864 -1.959670 -1.328186  0.196861\n",
      "11  -1.478522 -0.719844 -0.460639  1.057122\n",
      "12   0.343618 -1.763040  0.324084 -0.385082\n",
      "13  -0.676922  0.611676  1.031000  0.931280\n",
      "15  -0.479174 -0.185659 -1.106335 -1.196207\n",
      "16   0.812526  1.356240 -0.072010  1.003533\n",
      "17   0.361636 -0.645120  0.361396  1.538037\n",
      "18  -0.035826  1.564644 -2.619745  0.821903\n",
      "19   0.087047 -0.299007  0.091761 -1.987569\n",
      "20  -0.219672  0.357113  1.477894 -0.518270\n",
      "23  -0.702053 -0.327662 -0.392108 -1.463515\n",
      "25  -1.415371 -0.420645 -0.342715 -0.802277\n",
      "26  -0.161286  0.404051  1.886186  0.174578\n",
      "27   0.257550 -0.074446 -1.918771 -0.026514\n",
      "28   0.060230  2.463242 -0.192361  0.301547\n",
      "29  -0.034712 -1.168678  1.142823  0.751933\n",
      "30   0.791032 -0.909387  1.402794 -1.401851\n",
      "31   0.586857  2.190456 -0.990536 -0.566298\n",
      "32   0.099651 -0.503476 -1.550663  0.068563\n",
      "33  -1.062304  0.473592 -0.919424  1.549934\n",
      "34  -0.783253 -0.322062  0.813517 -1.230864\n",
      "35   0.227460  1.307143 -1.607483  0.184634\n",
      "..        ...       ...       ...       ...\n",
      "362  1.238283  0.021272  0.308833  1.702215\n",
      "363  0.240753  2.601683  0.565510 -1.760763\n",
      "364  0.753342  0.381158  1.289753  0.673181\n",
      "365 -0.138456 -1.224298 -0.209023 -0.850520\n",
      "366 -0.580523  0.588578  1.669905  0.394672\n",
      "367 -1.195883  0.444603  1.196631 -0.609783\n",
      "370  0.722381 -0.372833  1.726964 -0.399636\n",
      "371  0.224685  0.932591 -1.418366 -1.760809\n",
      "372 -1.525656  1.262584 -0.551858  2.558199\n",
      "373 -0.564248  0.184551  1.542110  2.006093\n",
      "374  2.061504  1.208366  1.024063  0.592527\n",
      "377  0.088407  1.477530 -1.141689 -0.193659\n",
      "378 -0.716822 -1.866537 -0.082681 -0.121748\n",
      "379  1.513450  0.630812 -1.024187  1.854093\n",
      "380  1.221034  0.582098 -0.226484 -0.959439\n",
      "381 -0.372207  1.088749  1.884586  1.543244\n",
      "382 -0.488849 -1.119617  0.140886 -1.768439\n",
      "383  0.323168 -0.147603 -0.466037 -1.594703\n",
      "384  0.513600 -0.532701 -1.169917 -2.872262\n",
      "385 -0.027515  1.772252  1.661259 -0.457096\n",
      "387  0.766080  1.226933 -0.100154 -0.203674\n",
      "389  0.913585 -0.803179  1.492689 -0.271124\n",
      "390 -0.021367 -0.747212 -2.424240  0.884045\n",
      "392 -1.562546 -0.529053  0.794265 -1.254289\n",
      "393  0.293558 -1.356582  0.466430 -0.035641\n",
      "394 -1.615132  1.164739 -0.734592 -0.810252\n",
      "395  0.200569  1.148637 -1.015822  0.061680\n",
      "397 -0.827590  0.086144 -1.072139 -2.921350\n",
      "398  0.436560  0.903935 -2.362932 -1.009731\n",
      "399  0.619154  2.057495  0.020794 -0.728003\n",
      "\n",
      "[306 rows x 4 columns]\n"
     ]
    }
   ],
   "source": [
    "randomdatanew = randomdata[(abs(randomdata[0])> 1) | (abs(randomdata[1])> 1) | (abs(randomdata[2]) > 1) | (abs(randomdata[3])> 1)]\n",
    "print randomdatanew"
   ]
  },
  {
   "cell_type": "markdown",
   "metadata": {},
   "source": [
    "**29) Set the values greater than 3 to 3, and the values less than -3 to -3.  Rerun the 'describe' function to summarize the randomdata dataset.**"
   ]
  },
  {
   "cell_type": "code",
   "execution_count": 216,
   "metadata": {},
   "outputs": [
    {
     "data": {
      "text/html": [
       "<div>\n",
       "<style>\n",
       "    .dataframe thead tr:only-child th {\n",
       "        text-align: right;\n",
       "    }\n",
       "\n",
       "    .dataframe thead th {\n",
       "        text-align: left;\n",
       "    }\n",
       "\n",
       "    .dataframe tbody tr th {\n",
       "        vertical-align: top;\n",
       "    }\n",
       "</style>\n",
       "<table border=\"1\" class=\"dataframe\">\n",
       "  <thead>\n",
       "    <tr style=\"text-align: right;\">\n",
       "      <th></th>\n",
       "      <th>0</th>\n",
       "      <th>1</th>\n",
       "      <th>2</th>\n",
       "      <th>3</th>\n",
       "    </tr>\n",
       "  </thead>\n",
       "  <tbody>\n",
       "    <tr>\n",
       "      <th>count</th>\n",
       "      <td>400.000000</td>\n",
       "      <td>400.000000</td>\n",
       "      <td>400.000000</td>\n",
       "      <td>400.000000</td>\n",
       "    </tr>\n",
       "    <tr>\n",
       "      <th>mean</th>\n",
       "      <td>0.035296</td>\n",
       "      <td>0.039070</td>\n",
       "      <td>0.047119</td>\n",
       "      <td>0.035939</td>\n",
       "    </tr>\n",
       "    <tr>\n",
       "      <th>std</th>\n",
       "      <td>0.924153</td>\n",
       "      <td>1.020970</td>\n",
       "      <td>0.995301</td>\n",
       "      <td>1.024632</td>\n",
       "    </tr>\n",
       "    <tr>\n",
       "      <th>min</th>\n",
       "      <td>-2.650970</td>\n",
       "      <td>-2.896255</td>\n",
       "      <td>-3.000000</td>\n",
       "      <td>-2.921350</td>\n",
       "    </tr>\n",
       "    <tr>\n",
       "      <th>25%</th>\n",
       "      <td>-0.612942</td>\n",
       "      <td>-0.651856</td>\n",
       "      <td>-0.602684</td>\n",
       "      <td>-0.683766</td>\n",
       "    </tr>\n",
       "    <tr>\n",
       "      <th>50%</th>\n",
       "      <td>0.052292</td>\n",
       "      <td>0.037928</td>\n",
       "      <td>0.036043</td>\n",
       "      <td>0.047190</td>\n",
       "    </tr>\n",
       "    <tr>\n",
       "      <th>75%</th>\n",
       "      <td>0.634986</td>\n",
       "      <td>0.676014</td>\n",
       "      <td>0.652834</td>\n",
       "      <td>0.744011</td>\n",
       "    </tr>\n",
       "    <tr>\n",
       "      <th>max</th>\n",
       "      <td>2.526932</td>\n",
       "      <td>3.000000</td>\n",
       "      <td>3.000000</td>\n",
       "      <td>2.720169</td>\n",
       "    </tr>\n",
       "  </tbody>\n",
       "</table>\n",
       "</div>"
      ],
      "text/plain": [
       "                0           1           2           3\n",
       "count  400.000000  400.000000  400.000000  400.000000\n",
       "mean     0.035296    0.039070    0.047119    0.035939\n",
       "std      0.924153    1.020970    0.995301    1.024632\n",
       "min     -2.650970   -2.896255   -3.000000   -2.921350\n",
       "25%     -0.612942   -0.651856   -0.602684   -0.683766\n",
       "50%      0.052292    0.037928    0.036043    0.047190\n",
       "75%      0.634986    0.676014    0.652834    0.744011\n",
       "max      2.526932    3.000000    3.000000    2.720169"
      ]
     },
     "execution_count": 216,
     "metadata": {},
     "output_type": "execute_result"
    }
   ],
   "source": [
    "mask = (randomdata > 3)\n",
    "randomdata1 = randomdata.mask(mask,3)\n",
    "mask2 = (randomdata1 < -3)\n",
    "randomdata2 = randomdata1.mask(mask2,-3)\n",
    "randomdata2.describe(percentiles=None,include=None,exclude=None)"
   ]
  },
  {
   "cell_type": "raw",
   "metadata": {
    "collapsed": true
   },
   "source": [
    "  \n"
   ]
  },
  {
   "cell_type": "markdown",
   "metadata": {},
   "source": [
    "***Use the dataframe defined in the following cell to answer the next few questions***: "
   ]
  },
  {
   "cell_type": "code",
   "execution_count": 234,
   "metadata": {
    "scrolled": true
   },
   "outputs": [
    {
     "data": {
      "text/html": [
       "<div>\n",
       "<style>\n",
       "    .dataframe thead tr:only-child th {\n",
       "        text-align: right;\n",
       "    }\n",
       "\n",
       "    .dataframe thead th {\n",
       "        text-align: left;\n",
       "    }\n",
       "\n",
       "    .dataframe tbody tr th {\n",
       "        vertical-align: top;\n",
       "    }\n",
       "</style>\n",
       "<table border=\"1\" class=\"dataframe\">\n",
       "  <thead>\n",
       "    <tr style=\"text-align: right;\">\n",
       "      <th></th>\n",
       "      <th>GrossIn</th>\n",
       "      <th>GrossOut</th>\n",
       "      <th>NetIn</th>\n",
       "      <th>NetOut</th>\n",
       "    </tr>\n",
       "  </thead>\n",
       "  <tbody>\n",
       "    <tr>\n",
       "      <th>2015-11-29</th>\n",
       "      <td>0.226684</td>\n",
       "      <td>-0.561558</td>\n",
       "      <td>-0.553090</td>\n",
       "      <td>0.695864</td>\n",
       "    </tr>\n",
       "    <tr>\n",
       "      <th>2015-12-06</th>\n",
       "      <td>1.173442</td>\n",
       "      <td>-0.272545</td>\n",
       "      <td>-0.340599</td>\n",
       "      <td>0.500143</td>\n",
       "    </tr>\n",
       "    <tr>\n",
       "      <th>2015-12-13</th>\n",
       "      <td>-1.356936</td>\n",
       "      <td>0.223153</td>\n",
       "      <td>0.551886</td>\n",
       "      <td>0.680230</td>\n",
       "    </tr>\n",
       "    <tr>\n",
       "      <th>2015-12-20</th>\n",
       "      <td>-1.936753</td>\n",
       "      <td>-0.761355</td>\n",
       "      <td>-0.878263</td>\n",
       "      <td>0.099887</td>\n",
       "    </tr>\n",
       "    <tr>\n",
       "      <th>2015-12-27</th>\n",
       "      <td>0.480745</td>\n",
       "      <td>1.496710</td>\n",
       "      <td>-0.494965</td>\n",
       "      <td>-0.497572</td>\n",
       "    </tr>\n",
       "    <tr>\n",
       "      <th>2016-01-03</th>\n",
       "      <td>1.149672</td>\n",
       "      <td>0.296577</td>\n",
       "      <td>1.267652</td>\n",
       "      <td>0.288728</td>\n",
       "    </tr>\n",
       "    <tr>\n",
       "      <th>2016-01-10</th>\n",
       "      <td>-1.157117</td>\n",
       "      <td>-1.333128</td>\n",
       "      <td>-1.551512</td>\n",
       "      <td>0.662052</td>\n",
       "    </tr>\n",
       "    <tr>\n",
       "      <th>2016-01-17</th>\n",
       "      <td>1.188597</td>\n",
       "      <td>1.849362</td>\n",
       "      <td>0.843105</td>\n",
       "      <td>1.162839</td>\n",
       "    </tr>\n",
       "    <tr>\n",
       "      <th>2016-01-24</th>\n",
       "      <td>-0.580016</td>\n",
       "      <td>-1.156416</td>\n",
       "      <td>0.850079</td>\n",
       "      <td>0.417681</td>\n",
       "    </tr>\n",
       "    <tr>\n",
       "      <th>2016-01-31</th>\n",
       "      <td>0.107444</td>\n",
       "      <td>0.387371</td>\n",
       "      <td>0.323185</td>\n",
       "      <td>1.283817</td>\n",
       "    </tr>\n",
       "    <tr>\n",
       "      <th>2016-02-07</th>\n",
       "      <td>1.294986</td>\n",
       "      <td>0.544220</td>\n",
       "      <td>0.845803</td>\n",
       "      <td>0.514063</td>\n",
       "    </tr>\n",
       "    <tr>\n",
       "      <th>2016-02-14</th>\n",
       "      <td>-0.461170</td>\n",
       "      <td>0.756565</td>\n",
       "      <td>-1.394495</td>\n",
       "      <td>1.053892</td>\n",
       "    </tr>\n",
       "    <tr>\n",
       "      <th>2016-02-21</th>\n",
       "      <td>-1.194523</td>\n",
       "      <td>0.285803</td>\n",
       "      <td>-0.845154</td>\n",
       "      <td>0.553389</td>\n",
       "    </tr>\n",
       "    <tr>\n",
       "      <th>2016-02-28</th>\n",
       "      <td>-0.033925</td>\n",
       "      <td>-1.594756</td>\n",
       "      <td>0.420700</td>\n",
       "      <td>-0.577921</td>\n",
       "    </tr>\n",
       "    <tr>\n",
       "      <th>2016-03-06</th>\n",
       "      <td>0.881147</td>\n",
       "      <td>0.001326</td>\n",
       "      <td>0.395421</td>\n",
       "      <td>-0.957569</td>\n",
       "    </tr>\n",
       "    <tr>\n",
       "      <th>2016-03-13</th>\n",
       "      <td>-0.589332</td>\n",
       "      <td>-0.458639</td>\n",
       "      <td>0.856702</td>\n",
       "      <td>1.677377</td>\n",
       "    </tr>\n",
       "    <tr>\n",
       "      <th>2016-03-20</th>\n",
       "      <td>-0.805172</td>\n",
       "      <td>1.076848</td>\n",
       "      <td>-2.169677</td>\n",
       "      <td>-1.194189</td>\n",
       "    </tr>\n",
       "    <tr>\n",
       "      <th>2016-03-27</th>\n",
       "      <td>-0.958778</td>\n",
       "      <td>-1.352509</td>\n",
       "      <td>-1.583588</td>\n",
       "      <td>0.412999</td>\n",
       "    </tr>\n",
       "    <tr>\n",
       "      <th>2016-04-03</th>\n",
       "      <td>-0.214068</td>\n",
       "      <td>0.379405</td>\n",
       "      <td>0.690473</td>\n",
       "      <td>0.265617</td>\n",
       "    </tr>\n",
       "    <tr>\n",
       "      <th>2016-04-10</th>\n",
       "      <td>0.657763</td>\n",
       "      <td>-0.069532</td>\n",
       "      <td>-1.186993</td>\n",
       "      <td>1.057814</td>\n",
       "    </tr>\n",
       "    <tr>\n",
       "      <th>2016-04-17</th>\n",
       "      <td>-0.589112</td>\n",
       "      <td>-0.935596</td>\n",
       "      <td>-0.177918</td>\n",
       "      <td>-0.912811</td>\n",
       "    </tr>\n",
       "    <tr>\n",
       "      <th>2016-04-24</th>\n",
       "      <td>-0.417430</td>\n",
       "      <td>0.344054</td>\n",
       "      <td>0.348342</td>\n",
       "      <td>-0.897830</td>\n",
       "    </tr>\n",
       "    <tr>\n",
       "      <th>2016-05-01</th>\n",
       "      <td>-0.487705</td>\n",
       "      <td>1.074333</td>\n",
       "      <td>0.496400</td>\n",
       "      <td>2.075065</td>\n",
       "    </tr>\n",
       "    <tr>\n",
       "      <th>2016-05-08</th>\n",
       "      <td>1.180128</td>\n",
       "      <td>1.144293</td>\n",
       "      <td>-1.387869</td>\n",
       "      <td>0.763860</td>\n",
       "    </tr>\n",
       "    <tr>\n",
       "      <th>2016-05-15</th>\n",
       "      <td>-0.053107</td>\n",
       "      <td>-0.550982</td>\n",
       "      <td>0.168015</td>\n",
       "      <td>0.945212</td>\n",
       "    </tr>\n",
       "    <tr>\n",
       "      <th>2016-05-22</th>\n",
       "      <td>0.500832</td>\n",
       "      <td>-0.878474</td>\n",
       "      <td>0.742459</td>\n",
       "      <td>-0.637588</td>\n",
       "    </tr>\n",
       "    <tr>\n",
       "      <th>2016-05-29</th>\n",
       "      <td>0.216683</td>\n",
       "      <td>-0.303350</td>\n",
       "      <td>-0.218866</td>\n",
       "      <td>0.766243</td>\n",
       "    </tr>\n",
       "    <tr>\n",
       "      <th>2016-06-05</th>\n",
       "      <td>-1.040194</td>\n",
       "      <td>1.945195</td>\n",
       "      <td>-1.821086</td>\n",
       "      <td>-0.597668</td>\n",
       "    </tr>\n",
       "    <tr>\n",
       "      <th>2016-06-12</th>\n",
       "      <td>0.370212</td>\n",
       "      <td>0.584314</td>\n",
       "      <td>-0.100476</td>\n",
       "      <td>-0.057391</td>\n",
       "    </tr>\n",
       "    <tr>\n",
       "      <th>2016-06-19</th>\n",
       "      <td>0.410550</td>\n",
       "      <td>-0.231069</td>\n",
       "      <td>1.393181</td>\n",
       "      <td>0.839349</td>\n",
       "    </tr>\n",
       "    <tr>\n",
       "      <th>2016-06-26</th>\n",
       "      <td>0.872824</td>\n",
       "      <td>-0.966157</td>\n",
       "      <td>-0.079388</td>\n",
       "      <td>-0.300466</td>\n",
       "    </tr>\n",
       "    <tr>\n",
       "      <th>2016-07-03</th>\n",
       "      <td>-1.005601</td>\n",
       "      <td>0.360164</td>\n",
       "      <td>-0.537646</td>\n",
       "      <td>0.655404</td>\n",
       "    </tr>\n",
       "    <tr>\n",
       "      <th>2016-07-10</th>\n",
       "      <td>-1.070192</td>\n",
       "      <td>1.719041</td>\n",
       "      <td>-0.896333</td>\n",
       "      <td>0.219302</td>\n",
       "    </tr>\n",
       "    <tr>\n",
       "      <th>2016-07-17</th>\n",
       "      <td>0.791859</td>\n",
       "      <td>-0.570640</td>\n",
       "      <td>0.852469</td>\n",
       "      <td>-1.229184</td>\n",
       "    </tr>\n",
       "    <tr>\n",
       "      <th>2016-07-24</th>\n",
       "      <td>1.452118</td>\n",
       "      <td>0.014149</td>\n",
       "      <td>-0.596411</td>\n",
       "      <td>-0.299182</td>\n",
       "    </tr>\n",
       "    <tr>\n",
       "      <th>2016-07-31</th>\n",
       "      <td>0.808919</td>\n",
       "      <td>-0.584455</td>\n",
       "      <td>-0.749358</td>\n",
       "      <td>-0.221537</td>\n",
       "    </tr>\n",
       "    <tr>\n",
       "      <th>2016-08-07</th>\n",
       "      <td>-1.176962</td>\n",
       "      <td>1.820544</td>\n",
       "      <td>-0.566395</td>\n",
       "      <td>0.831617</td>\n",
       "    </tr>\n",
       "    <tr>\n",
       "      <th>2016-08-14</th>\n",
       "      <td>0.209470</td>\n",
       "      <td>-0.984534</td>\n",
       "      <td>-0.005955</td>\n",
       "      <td>0.784003</td>\n",
       "    </tr>\n",
       "    <tr>\n",
       "      <th>2016-08-21</th>\n",
       "      <td>-0.188261</td>\n",
       "      <td>1.193113</td>\n",
       "      <td>1.021515</td>\n",
       "      <td>0.918915</td>\n",
       "    </tr>\n",
       "    <tr>\n",
       "      <th>2016-08-28</th>\n",
       "      <td>-0.459657</td>\n",
       "      <td>-1.079842</td>\n",
       "      <td>-0.613588</td>\n",
       "      <td>0.196241</td>\n",
       "    </tr>\n",
       "    <tr>\n",
       "      <th>2016-09-04</th>\n",
       "      <td>0.545787</td>\n",
       "      <td>-2.171571</td>\n",
       "      <td>-0.008113</td>\n",
       "      <td>0.158089</td>\n",
       "    </tr>\n",
       "    <tr>\n",
       "      <th>2016-09-11</th>\n",
       "      <td>-0.277544</td>\n",
       "      <td>1.291274</td>\n",
       "      <td>0.421780</td>\n",
       "      <td>1.310192</td>\n",
       "    </tr>\n",
       "    <tr>\n",
       "      <th>2016-09-18</th>\n",
       "      <td>-0.215961</td>\n",
       "      <td>0.937477</td>\n",
       "      <td>1.635066</td>\n",
       "      <td>1.311693</td>\n",
       "    </tr>\n",
       "    <tr>\n",
       "      <th>2016-09-25</th>\n",
       "      <td>-1.092142</td>\n",
       "      <td>-0.253676</td>\n",
       "      <td>-0.345165</td>\n",
       "      <td>0.489255</td>\n",
       "    </tr>\n",
       "    <tr>\n",
       "      <th>2016-10-02</th>\n",
       "      <td>0.686354</td>\n",
       "      <td>-0.838893</td>\n",
       "      <td>0.067839</td>\n",
       "      <td>-2.019927</td>\n",
       "    </tr>\n",
       "    <tr>\n",
       "      <th>2016-10-09</th>\n",
       "      <td>1.441945</td>\n",
       "      <td>-0.512374</td>\n",
       "      <td>0.055864</td>\n",
       "      <td>-0.309650</td>\n",
       "    </tr>\n",
       "    <tr>\n",
       "      <th>2016-10-16</th>\n",
       "      <td>1.146028</td>\n",
       "      <td>-2.837506</td>\n",
       "      <td>-0.016610</td>\n",
       "      <td>-0.105819</td>\n",
       "    </tr>\n",
       "    <tr>\n",
       "      <th>2016-10-23</th>\n",
       "      <td>-0.453636</td>\n",
       "      <td>1.726227</td>\n",
       "      <td>-0.887329</td>\n",
       "      <td>0.771796</td>\n",
       "    </tr>\n",
       "    <tr>\n",
       "      <th>2016-10-30</th>\n",
       "      <td>0.356253</td>\n",
       "      <td>1.261519</td>\n",
       "      <td>-0.667189</td>\n",
       "      <td>-0.732969</td>\n",
       "    </tr>\n",
       "    <tr>\n",
       "      <th>2016-11-06</th>\n",
       "      <td>1.096070</td>\n",
       "      <td>0.425321</td>\n",
       "      <td>-1.544937</td>\n",
       "      <td>-0.539305</td>\n",
       "    </tr>\n",
       "    <tr>\n",
       "      <th>2016-11-13</th>\n",
       "      <td>0.386383</td>\n",
       "      <td>0.837764</td>\n",
       "      <td>-0.679231</td>\n",
       "      <td>-2.914256</td>\n",
       "    </tr>\n",
       "    <tr>\n",
       "      <th>2016-11-20</th>\n",
       "      <td>0.523223</td>\n",
       "      <td>-1.220321</td>\n",
       "      <td>-2.017339</td>\n",
       "      <td>-2.832326</td>\n",
       "    </tr>\n",
       "    <tr>\n",
       "      <th>2016-11-27</th>\n",
       "      <td>0.813981</td>\n",
       "      <td>0.128617</td>\n",
       "      <td>-0.225656</td>\n",
       "      <td>1.389024</td>\n",
       "    </tr>\n",
       "    <tr>\n",
       "      <th>2016-12-04</th>\n",
       "      <td>0.637325</td>\n",
       "      <td>1.616300</td>\n",
       "      <td>-1.392735</td>\n",
       "      <td>-0.034551</td>\n",
       "    </tr>\n",
       "    <tr>\n",
       "      <th>2016-12-11</th>\n",
       "      <td>-1.616713</td>\n",
       "      <td>-0.229382</td>\n",
       "      <td>-0.248616</td>\n",
       "      <td>0.626614</td>\n",
       "    </tr>\n",
       "    <tr>\n",
       "      <th>2016-12-18</th>\n",
       "      <td>0.045564</td>\n",
       "      <td>0.623407</td>\n",
       "      <td>0.703440</td>\n",
       "      <td>2.154929</td>\n",
       "    </tr>\n",
       "    <tr>\n",
       "      <th>2016-12-25</th>\n",
       "      <td>-0.315297</td>\n",
       "      <td>-0.941023</td>\n",
       "      <td>0.246084</td>\n",
       "      <td>-0.802280</td>\n",
       "    </tr>\n",
       "    <tr>\n",
       "      <th>2017-01-01</th>\n",
       "      <td>1.481961</td>\n",
       "      <td>-0.283218</td>\n",
       "      <td>-0.565576</td>\n",
       "      <td>-0.471316</td>\n",
       "    </tr>\n",
       "    <tr>\n",
       "      <th>2017-01-08</th>\n",
       "      <td>0.718417</td>\n",
       "      <td>-0.157747</td>\n",
       "      <td>-0.641667</td>\n",
       "      <td>1.665352</td>\n",
       "    </tr>\n",
       "  </tbody>\n",
       "</table>\n",
       "</div>"
      ],
      "text/plain": [
       "             GrossIn  GrossOut     NetIn    NetOut\n",
       "2015-11-29  0.226684 -0.561558 -0.553090  0.695864\n",
       "2015-12-06  1.173442 -0.272545 -0.340599  0.500143\n",
       "2015-12-13 -1.356936  0.223153  0.551886  0.680230\n",
       "2015-12-20 -1.936753 -0.761355 -0.878263  0.099887\n",
       "2015-12-27  0.480745  1.496710 -0.494965 -0.497572\n",
       "2016-01-03  1.149672  0.296577  1.267652  0.288728\n",
       "2016-01-10 -1.157117 -1.333128 -1.551512  0.662052\n",
       "2016-01-17  1.188597  1.849362  0.843105  1.162839\n",
       "2016-01-24 -0.580016 -1.156416  0.850079  0.417681\n",
       "2016-01-31  0.107444  0.387371  0.323185  1.283817\n",
       "2016-02-07  1.294986  0.544220  0.845803  0.514063\n",
       "2016-02-14 -0.461170  0.756565 -1.394495  1.053892\n",
       "2016-02-21 -1.194523  0.285803 -0.845154  0.553389\n",
       "2016-02-28 -0.033925 -1.594756  0.420700 -0.577921\n",
       "2016-03-06  0.881147  0.001326  0.395421 -0.957569\n",
       "2016-03-13 -0.589332 -0.458639  0.856702  1.677377\n",
       "2016-03-20 -0.805172  1.076848 -2.169677 -1.194189\n",
       "2016-03-27 -0.958778 -1.352509 -1.583588  0.412999\n",
       "2016-04-03 -0.214068  0.379405  0.690473  0.265617\n",
       "2016-04-10  0.657763 -0.069532 -1.186993  1.057814\n",
       "2016-04-17 -0.589112 -0.935596 -0.177918 -0.912811\n",
       "2016-04-24 -0.417430  0.344054  0.348342 -0.897830\n",
       "2016-05-01 -0.487705  1.074333  0.496400  2.075065\n",
       "2016-05-08  1.180128  1.144293 -1.387869  0.763860\n",
       "2016-05-15 -0.053107 -0.550982  0.168015  0.945212\n",
       "2016-05-22  0.500832 -0.878474  0.742459 -0.637588\n",
       "2016-05-29  0.216683 -0.303350 -0.218866  0.766243\n",
       "2016-06-05 -1.040194  1.945195 -1.821086 -0.597668\n",
       "2016-06-12  0.370212  0.584314 -0.100476 -0.057391\n",
       "2016-06-19  0.410550 -0.231069  1.393181  0.839349\n",
       "2016-06-26  0.872824 -0.966157 -0.079388 -0.300466\n",
       "2016-07-03 -1.005601  0.360164 -0.537646  0.655404\n",
       "2016-07-10 -1.070192  1.719041 -0.896333  0.219302\n",
       "2016-07-17  0.791859 -0.570640  0.852469 -1.229184\n",
       "2016-07-24  1.452118  0.014149 -0.596411 -0.299182\n",
       "2016-07-31  0.808919 -0.584455 -0.749358 -0.221537\n",
       "2016-08-07 -1.176962  1.820544 -0.566395  0.831617\n",
       "2016-08-14  0.209470 -0.984534 -0.005955  0.784003\n",
       "2016-08-21 -0.188261  1.193113  1.021515  0.918915\n",
       "2016-08-28 -0.459657 -1.079842 -0.613588  0.196241\n",
       "2016-09-04  0.545787 -2.171571 -0.008113  0.158089\n",
       "2016-09-11 -0.277544  1.291274  0.421780  1.310192\n",
       "2016-09-18 -0.215961  0.937477  1.635066  1.311693\n",
       "2016-09-25 -1.092142 -0.253676 -0.345165  0.489255\n",
       "2016-10-02  0.686354 -0.838893  0.067839 -2.019927\n",
       "2016-10-09  1.441945 -0.512374  0.055864 -0.309650\n",
       "2016-10-16  1.146028 -2.837506 -0.016610 -0.105819\n",
       "2016-10-23 -0.453636  1.726227 -0.887329  0.771796\n",
       "2016-10-30  0.356253  1.261519 -0.667189 -0.732969\n",
       "2016-11-06  1.096070  0.425321 -1.544937 -0.539305\n",
       "2016-11-13  0.386383  0.837764 -0.679231 -2.914256\n",
       "2016-11-20  0.523223 -1.220321 -2.017339 -2.832326\n",
       "2016-11-27  0.813981  0.128617 -0.225656  1.389024\n",
       "2016-12-04  0.637325  1.616300 -1.392735 -0.034551\n",
       "2016-12-11 -1.616713 -0.229382 -0.248616  0.626614\n",
       "2016-12-18  0.045564  0.623407  0.703440  2.154929\n",
       "2016-12-25 -0.315297 -0.941023  0.246084 -0.802280\n",
       "2017-01-01  1.481961 -0.283218 -0.565576 -0.471316\n",
       "2017-01-08  0.718417 -0.157747 -0.641667  1.665352"
      ]
     },
     "execution_count": 234,
     "metadata": {},
     "output_type": "execute_result"
    }
   ],
   "source": [
    "df2 = pd.DataFrame(np.random.randn(59,4))\n",
    "cols = ['GrossIn', 'GrossOut', 'NetIn', 'NetOut']\n",
    "df2.columns = cols\n",
    "dates = pd.date_range(start='2015-11-29', freq='W', periods=59)\n",
    "df2.index = dates\n",
    "df2"
   ]
  },
  {
   "cell_type": "markdown",
   "metadata": {},
   "source": [
    "**30) Print all the data from 2016-06-19 to 2016-10-20 in df2 above.**"
   ]
  },
  {
   "cell_type": "raw",
   "metadata": {},
   "source": []
  },
  {
   "cell_type": "code",
   "execution_count": 245,
   "metadata": {
    "scrolled": true
   },
   "outputs": [
    {
     "data": {
      "text/html": [
       "<div>\n",
       "<style>\n",
       "    .dataframe thead tr:only-child th {\n",
       "        text-align: right;\n",
       "    }\n",
       "\n",
       "    .dataframe thead th {\n",
       "        text-align: left;\n",
       "    }\n",
       "\n",
       "    .dataframe tbody tr th {\n",
       "        vertical-align: top;\n",
       "    }\n",
       "</style>\n",
       "<table border=\"1\" class=\"dataframe\">\n",
       "  <thead>\n",
       "    <tr style=\"text-align: right;\">\n",
       "      <th></th>\n",
       "      <th>GrossIn</th>\n",
       "      <th>GrossOut</th>\n",
       "      <th>NetIn</th>\n",
       "      <th>NetOut</th>\n",
       "    </tr>\n",
       "  </thead>\n",
       "  <tbody>\n",
       "    <tr>\n",
       "      <th>2016-06-19</th>\n",
       "      <td>0.369016</td>\n",
       "      <td>0.124286</td>\n",
       "      <td>0.936056</td>\n",
       "      <td>0.776937</td>\n",
       "    </tr>\n",
       "    <tr>\n",
       "      <th>2016-06-26</th>\n",
       "      <td>0.030476</td>\n",
       "      <td>-0.897253</td>\n",
       "      <td>-0.652950</td>\n",
       "      <td>-0.549789</td>\n",
       "    </tr>\n",
       "    <tr>\n",
       "      <th>2016-07-03</th>\n",
       "      <td>-0.315266</td>\n",
       "      <td>0.268050</td>\n",
       "      <td>0.715174</td>\n",
       "      <td>-0.051119</td>\n",
       "    </tr>\n",
       "    <tr>\n",
       "      <th>2016-07-10</th>\n",
       "      <td>0.016125</td>\n",
       "      <td>0.143306</td>\n",
       "      <td>-0.515905</td>\n",
       "      <td>-0.925392</td>\n",
       "    </tr>\n",
       "    <tr>\n",
       "      <th>2016-07-17</th>\n",
       "      <td>-1.755438</td>\n",
       "      <td>-0.695149</td>\n",
       "      <td>0.473145</td>\n",
       "      <td>-0.702911</td>\n",
       "    </tr>\n",
       "    <tr>\n",
       "      <th>2016-07-24</th>\n",
       "      <td>-0.237807</td>\n",
       "      <td>0.466431</td>\n",
       "      <td>0.520689</td>\n",
       "      <td>-1.079533</td>\n",
       "    </tr>\n",
       "    <tr>\n",
       "      <th>2016-07-31</th>\n",
       "      <td>0.997059</td>\n",
       "      <td>1.127350</td>\n",
       "      <td>-1.129850</td>\n",
       "      <td>-0.823837</td>\n",
       "    </tr>\n",
       "    <tr>\n",
       "      <th>2016-08-07</th>\n",
       "      <td>1.191091</td>\n",
       "      <td>-0.146854</td>\n",
       "      <td>-2.219778</td>\n",
       "      <td>-1.399682</td>\n",
       "    </tr>\n",
       "    <tr>\n",
       "      <th>2016-08-14</th>\n",
       "      <td>-0.249370</td>\n",
       "      <td>-1.163043</td>\n",
       "      <td>-0.413424</td>\n",
       "      <td>0.032396</td>\n",
       "    </tr>\n",
       "    <tr>\n",
       "      <th>2016-08-21</th>\n",
       "      <td>1.462255</td>\n",
       "      <td>-0.290454</td>\n",
       "      <td>1.072542</td>\n",
       "      <td>1.428760</td>\n",
       "    </tr>\n",
       "    <tr>\n",
       "      <th>2016-08-28</th>\n",
       "      <td>1.434310</td>\n",
       "      <td>0.284755</td>\n",
       "      <td>-1.963289</td>\n",
       "      <td>0.460825</td>\n",
       "    </tr>\n",
       "    <tr>\n",
       "      <th>2016-09-04</th>\n",
       "      <td>1.048400</td>\n",
       "      <td>-0.081067</td>\n",
       "      <td>1.744584</td>\n",
       "      <td>0.859834</td>\n",
       "    </tr>\n",
       "    <tr>\n",
       "      <th>2016-09-11</th>\n",
       "      <td>0.568273</td>\n",
       "      <td>1.086381</td>\n",
       "      <td>0.333370</td>\n",
       "      <td>-2.492810</td>\n",
       "    </tr>\n",
       "    <tr>\n",
       "      <th>2016-09-18</th>\n",
       "      <td>-0.499139</td>\n",
       "      <td>1.197168</td>\n",
       "      <td>-0.807591</td>\n",
       "      <td>-0.223473</td>\n",
       "    </tr>\n",
       "    <tr>\n",
       "      <th>2016-09-25</th>\n",
       "      <td>-1.044836</td>\n",
       "      <td>1.783923</td>\n",
       "      <td>1.681492</td>\n",
       "      <td>-0.883869</td>\n",
       "    </tr>\n",
       "    <tr>\n",
       "      <th>2016-10-02</th>\n",
       "      <td>0.147298</td>\n",
       "      <td>-0.680494</td>\n",
       "      <td>0.614945</td>\n",
       "      <td>0.509683</td>\n",
       "    </tr>\n",
       "    <tr>\n",
       "      <th>2016-10-09</th>\n",
       "      <td>0.811706</td>\n",
       "      <td>0.331918</td>\n",
       "      <td>2.935406</td>\n",
       "      <td>-1.027924</td>\n",
       "    </tr>\n",
       "    <tr>\n",
       "      <th>2016-10-16</th>\n",
       "      <td>-1.710603</td>\n",
       "      <td>-0.393090</td>\n",
       "      <td>-1.567988</td>\n",
       "      <td>-1.492462</td>\n",
       "    </tr>\n",
       "  </tbody>\n",
       "</table>\n",
       "</div>"
      ],
      "text/plain": [
       "             GrossIn  GrossOut     NetIn    NetOut\n",
       "2016-06-19  0.369016  0.124286  0.936056  0.776937\n",
       "2016-06-26  0.030476 -0.897253 -0.652950 -0.549789\n",
       "2016-07-03 -0.315266  0.268050  0.715174 -0.051119\n",
       "2016-07-10  0.016125  0.143306 -0.515905 -0.925392\n",
       "2016-07-17 -1.755438 -0.695149  0.473145 -0.702911\n",
       "2016-07-24 -0.237807  0.466431  0.520689 -1.079533\n",
       "2016-07-31  0.997059  1.127350 -1.129850 -0.823837\n",
       "2016-08-07  1.191091 -0.146854 -2.219778 -1.399682\n",
       "2016-08-14 -0.249370 -1.163043 -0.413424  0.032396\n",
       "2016-08-21  1.462255 -0.290454  1.072542  1.428760\n",
       "2016-08-28  1.434310  0.284755 -1.963289  0.460825\n",
       "2016-09-04  1.048400 -0.081067  1.744584  0.859834\n",
       "2016-09-11  0.568273  1.086381  0.333370 -2.492810\n",
       "2016-09-18 -0.499139  1.197168 -0.807591 -0.223473\n",
       "2016-09-25 -1.044836  1.783923  1.681492 -0.883869\n",
       "2016-10-02  0.147298 -0.680494  0.614945  0.509683\n",
       "2016-10-09  0.811706  0.331918  2.935406 -1.027924\n",
       "2016-10-16 -1.710603 -0.393090 -1.567988 -1.492462"
      ]
     },
     "execution_count": 245,
     "metadata": {},
     "output_type": "execute_result"
    }
   ],
   "source": [
    "df2 = pd.DataFrame(np.random.randn(59,4))\n",
    "cols = ['GrossIn', 'GrossOut', 'NetIn', 'NetOut']\n",
    "df2.columns = cols\n",
    "dates = pd.date_range(start='2015-11-29', freq='W', periods=59)\n",
    "df2.index = dates\n",
    "df2.index = pd.to_datetime(df2.index)\n",
    "startdate = pd.to_datetime('2016-06-19')\n",
    "enddate = pd.to_datetime('2016-10-20')\n",
    "mask = (df2.index >= startdate) & (df2.index <= enddate)\n",
    "df2.loc[mask]"
   ]
  },
  {
   "cell_type": "markdown",
   "metadata": {},
   "source": [
    "**31) What was the GrossIn and NetIn for 2016-09-18? Print the results. **"
   ]
  },
  {
   "cell_type": "code",
   "execution_count": 266,
   "metadata": {},
   "outputs": [
    {
     "name": "stdout",
     "output_type": "stream",
     "text": [
      "grossIn is -0.499139\n",
      "NetIn is -0.807591\n"
     ]
    }
   ],
   "source": [
    "specialdate = pd.to_datetime('2016-09-18')\n",
    "mask = (df2.index == specialdate)\n",
    "print(\"grossIn is %f\" %(df2.loc[mask, 'GrossIn']))\n",
    "print(\"NetIn is %f\" %(df2.loc[mask, 'NetIn']))"
   ]
  },
  {
   "cell_type": "markdown",
   "metadata": {},
   "source": [
    "**32) Sum all the GrossOut and NetOut for the month of March 2016 in df2. Print the results. **"
   ]
  },
  {
   "cell_type": "code",
   "execution_count": 273,
   "metadata": {},
   "outputs": [
    {
     "name": "stdout",
     "output_type": "stream",
     "text": [
      "Sum of GrossOut in month of March is 2.705191\n",
      "Sum of NetOut in month of March is 1.189296\n"
     ]
    }
   ],
   "source": [
    "startdate = pd.to_datetime('2016-03-01')\n",
    "enddate = pd.to_datetime('2016-03-31')\n",
    "mask = (df2.index >= startdate) & (df2.index <= enddate)\n",
    "print(\"Sum of GrossOut in month of March is %f\" %(df2.loc[mask, 'GrossOut'].sum()))\n",
    "print(\"Sum of NetOut in month of March is %f\" %(df2.loc[mask, 'NetOut'].sum()))"
   ]
  },
  {
   "cell_type": "markdown",
   "metadata": {},
   "source": [
    "**33) Find all the days GrossOut was greater than GrossIn in df2. Print the results.**"
   ]
  },
  {
   "cell_type": "code",
   "execution_count": 280,
   "metadata": {
    "scrolled": true
   },
   "outputs": [
    {
     "data": {
      "text/html": [
       "<div>\n",
       "<style>\n",
       "    .dataframe thead tr:only-child th {\n",
       "        text-align: right;\n",
       "    }\n",
       "\n",
       "    .dataframe thead th {\n",
       "        text-align: left;\n",
       "    }\n",
       "\n",
       "    .dataframe tbody tr th {\n",
       "        vertical-align: top;\n",
       "    }\n",
       "</style>\n",
       "<table border=\"1\" class=\"dataframe\">\n",
       "  <thead>\n",
       "    <tr style=\"text-align: right;\">\n",
       "      <th></th>\n",
       "      <th>GrossIn</th>\n",
       "      <th>GrossOut</th>\n",
       "      <th>NetIn</th>\n",
       "      <th>NetOut</th>\n",
       "    </tr>\n",
       "  </thead>\n",
       "  <tbody>\n",
       "    <tr>\n",
       "      <th>2015-11-29</th>\n",
       "      <td>-0.108139</td>\n",
       "      <td>1.112101</td>\n",
       "      <td>0.685290</td>\n",
       "      <td>1.402009</td>\n",
       "    </tr>\n",
       "    <tr>\n",
       "      <th>2015-12-06</th>\n",
       "      <td>-0.302885</td>\n",
       "      <td>1.346100</td>\n",
       "      <td>-0.193304</td>\n",
       "      <td>1.471585</td>\n",
       "    </tr>\n",
       "    <tr>\n",
       "      <th>2015-12-13</th>\n",
       "      <td>-0.021857</td>\n",
       "      <td>0.707231</td>\n",
       "      <td>1.475112</td>\n",
       "      <td>-0.193428</td>\n",
       "    </tr>\n",
       "    <tr>\n",
       "      <th>2015-12-20</th>\n",
       "      <td>0.218389</td>\n",
       "      <td>1.288863</td>\n",
       "      <td>-0.133003</td>\n",
       "      <td>-1.320892</td>\n",
       "    </tr>\n",
       "    <tr>\n",
       "      <th>2016-01-10</th>\n",
       "      <td>-0.287906</td>\n",
       "      <td>0.245039</td>\n",
       "      <td>-0.269952</td>\n",
       "      <td>-1.543451</td>\n",
       "    </tr>\n",
       "    <tr>\n",
       "      <th>2016-01-24</th>\n",
       "      <td>-0.880012</td>\n",
       "      <td>0.269181</td>\n",
       "      <td>-0.215787</td>\n",
       "      <td>-1.177761</td>\n",
       "    </tr>\n",
       "    <tr>\n",
       "      <th>2016-02-14</th>\n",
       "      <td>-1.289481</td>\n",
       "      <td>0.058449</td>\n",
       "      <td>0.912620</td>\n",
       "      <td>0.421717</td>\n",
       "    </tr>\n",
       "    <tr>\n",
       "      <th>2016-02-28</th>\n",
       "      <td>-0.787174</td>\n",
       "      <td>0.203359</td>\n",
       "      <td>0.681743</td>\n",
       "      <td>0.962503</td>\n",
       "    </tr>\n",
       "    <tr>\n",
       "      <th>2016-03-06</th>\n",
       "      <td>-1.226179</td>\n",
       "      <td>2.196646</td>\n",
       "      <td>0.767479</td>\n",
       "      <td>-0.001714</td>\n",
       "    </tr>\n",
       "    <tr>\n",
       "      <th>2016-03-13</th>\n",
       "      <td>1.089537</td>\n",
       "      <td>2.365408</td>\n",
       "      <td>-1.438720</td>\n",
       "      <td>-0.225263</td>\n",
       "    </tr>\n",
       "    <tr>\n",
       "      <th>2016-03-20</th>\n",
       "      <td>-2.378432</td>\n",
       "      <td>0.192652</td>\n",
       "      <td>0.365394</td>\n",
       "      <td>-0.039162</td>\n",
       "    </tr>\n",
       "    <tr>\n",
       "      <th>2016-04-03</th>\n",
       "      <td>-0.591018</td>\n",
       "      <td>0.440060</td>\n",
       "      <td>-1.568144</td>\n",
       "      <td>0.457213</td>\n",
       "    </tr>\n",
       "    <tr>\n",
       "      <th>2016-04-24</th>\n",
       "      <td>-1.099039</td>\n",
       "      <td>1.796665</td>\n",
       "      <td>-0.853495</td>\n",
       "      <td>-0.669437</td>\n",
       "    </tr>\n",
       "    <tr>\n",
       "      <th>2016-05-01</th>\n",
       "      <td>-0.978308</td>\n",
       "      <td>1.798480</td>\n",
       "      <td>0.552905</td>\n",
       "      <td>-0.936592</td>\n",
       "    </tr>\n",
       "    <tr>\n",
       "      <th>2016-05-15</th>\n",
       "      <td>-0.749416</td>\n",
       "      <td>0.337766</td>\n",
       "      <td>-0.545087</td>\n",
       "      <td>1.816756</td>\n",
       "    </tr>\n",
       "    <tr>\n",
       "      <th>2016-05-22</th>\n",
       "      <td>-1.269291</td>\n",
       "      <td>1.536157</td>\n",
       "      <td>-0.111319</td>\n",
       "      <td>0.299086</td>\n",
       "    </tr>\n",
       "    <tr>\n",
       "      <th>2016-06-12</th>\n",
       "      <td>0.385750</td>\n",
       "      <td>0.702660</td>\n",
       "      <td>0.240877</td>\n",
       "      <td>-0.665693</td>\n",
       "    </tr>\n",
       "    <tr>\n",
       "      <th>2016-07-03</th>\n",
       "      <td>-0.315266</td>\n",
       "      <td>0.268050</td>\n",
       "      <td>0.715174</td>\n",
       "      <td>-0.051119</td>\n",
       "    </tr>\n",
       "    <tr>\n",
       "      <th>2016-07-10</th>\n",
       "      <td>0.016125</td>\n",
       "      <td>0.143306</td>\n",
       "      <td>-0.515905</td>\n",
       "      <td>-0.925392</td>\n",
       "    </tr>\n",
       "    <tr>\n",
       "      <th>2016-07-17</th>\n",
       "      <td>-1.755438</td>\n",
       "      <td>-0.695149</td>\n",
       "      <td>0.473145</td>\n",
       "      <td>-0.702911</td>\n",
       "    </tr>\n",
       "    <tr>\n",
       "      <th>2016-07-24</th>\n",
       "      <td>-0.237807</td>\n",
       "      <td>0.466431</td>\n",
       "      <td>0.520689</td>\n",
       "      <td>-1.079533</td>\n",
       "    </tr>\n",
       "    <tr>\n",
       "      <th>2016-07-31</th>\n",
       "      <td>0.997059</td>\n",
       "      <td>1.127350</td>\n",
       "      <td>-1.129850</td>\n",
       "      <td>-0.823837</td>\n",
       "    </tr>\n",
       "    <tr>\n",
       "      <th>2016-09-11</th>\n",
       "      <td>0.568273</td>\n",
       "      <td>1.086381</td>\n",
       "      <td>0.333370</td>\n",
       "      <td>-2.492810</td>\n",
       "    </tr>\n",
       "    <tr>\n",
       "      <th>2016-09-18</th>\n",
       "      <td>-0.499139</td>\n",
       "      <td>1.197168</td>\n",
       "      <td>-0.807591</td>\n",
       "      <td>-0.223473</td>\n",
       "    </tr>\n",
       "    <tr>\n",
       "      <th>2016-09-25</th>\n",
       "      <td>-1.044836</td>\n",
       "      <td>1.783923</td>\n",
       "      <td>1.681492</td>\n",
       "      <td>-0.883869</td>\n",
       "    </tr>\n",
       "    <tr>\n",
       "      <th>2016-10-16</th>\n",
       "      <td>-1.710603</td>\n",
       "      <td>-0.393090</td>\n",
       "      <td>-1.567988</td>\n",
       "      <td>-1.492462</td>\n",
       "    </tr>\n",
       "    <tr>\n",
       "      <th>2016-10-23</th>\n",
       "      <td>-1.001315</td>\n",
       "      <td>-0.922189</td>\n",
       "      <td>-0.954618</td>\n",
       "      <td>0.518219</td>\n",
       "    </tr>\n",
       "    <tr>\n",
       "      <th>2016-10-30</th>\n",
       "      <td>-0.506189</td>\n",
       "      <td>-0.179515</td>\n",
       "      <td>0.894233</td>\n",
       "      <td>-0.766323</td>\n",
       "    </tr>\n",
       "    <tr>\n",
       "      <th>2016-11-06</th>\n",
       "      <td>-0.264546</td>\n",
       "      <td>0.365760</td>\n",
       "      <td>-1.941568</td>\n",
       "      <td>-2.384906</td>\n",
       "    </tr>\n",
       "    <tr>\n",
       "      <th>2016-11-13</th>\n",
       "      <td>0.346117</td>\n",
       "      <td>0.492014</td>\n",
       "      <td>2.064220</td>\n",
       "      <td>0.158095</td>\n",
       "    </tr>\n",
       "    <tr>\n",
       "      <th>2016-11-27</th>\n",
       "      <td>-2.123993</td>\n",
       "      <td>0.413616</td>\n",
       "      <td>2.135587</td>\n",
       "      <td>0.282034</td>\n",
       "    </tr>\n",
       "    <tr>\n",
       "      <th>2016-12-11</th>\n",
       "      <td>-2.217591</td>\n",
       "      <td>-1.168178</td>\n",
       "      <td>-1.096875</td>\n",
       "      <td>0.822066</td>\n",
       "    </tr>\n",
       "    <tr>\n",
       "      <th>2017-01-08</th>\n",
       "      <td>-1.098916</td>\n",
       "      <td>0.687427</td>\n",
       "      <td>-0.088544</td>\n",
       "      <td>-0.453891</td>\n",
       "    </tr>\n",
       "  </tbody>\n",
       "</table>\n",
       "</div>"
      ],
      "text/plain": [
       "             GrossIn  GrossOut     NetIn    NetOut\n",
       "2015-11-29 -0.108139  1.112101  0.685290  1.402009\n",
       "2015-12-06 -0.302885  1.346100 -0.193304  1.471585\n",
       "2015-12-13 -0.021857  0.707231  1.475112 -0.193428\n",
       "2015-12-20  0.218389  1.288863 -0.133003 -1.320892\n",
       "2016-01-10 -0.287906  0.245039 -0.269952 -1.543451\n",
       "2016-01-24 -0.880012  0.269181 -0.215787 -1.177761\n",
       "2016-02-14 -1.289481  0.058449  0.912620  0.421717\n",
       "2016-02-28 -0.787174  0.203359  0.681743  0.962503\n",
       "2016-03-06 -1.226179  2.196646  0.767479 -0.001714\n",
       "2016-03-13  1.089537  2.365408 -1.438720 -0.225263\n",
       "2016-03-20 -2.378432  0.192652  0.365394 -0.039162\n",
       "2016-04-03 -0.591018  0.440060 -1.568144  0.457213\n",
       "2016-04-24 -1.099039  1.796665 -0.853495 -0.669437\n",
       "2016-05-01 -0.978308  1.798480  0.552905 -0.936592\n",
       "2016-05-15 -0.749416  0.337766 -0.545087  1.816756\n",
       "2016-05-22 -1.269291  1.536157 -0.111319  0.299086\n",
       "2016-06-12  0.385750  0.702660  0.240877 -0.665693\n",
       "2016-07-03 -0.315266  0.268050  0.715174 -0.051119\n",
       "2016-07-10  0.016125  0.143306 -0.515905 -0.925392\n",
       "2016-07-17 -1.755438 -0.695149  0.473145 -0.702911\n",
       "2016-07-24 -0.237807  0.466431  0.520689 -1.079533\n",
       "2016-07-31  0.997059  1.127350 -1.129850 -0.823837\n",
       "2016-09-11  0.568273  1.086381  0.333370 -2.492810\n",
       "2016-09-18 -0.499139  1.197168 -0.807591 -0.223473\n",
       "2016-09-25 -1.044836  1.783923  1.681492 -0.883869\n",
       "2016-10-16 -1.710603 -0.393090 -1.567988 -1.492462\n",
       "2016-10-23 -1.001315 -0.922189 -0.954618  0.518219\n",
       "2016-10-30 -0.506189 -0.179515  0.894233 -0.766323\n",
       "2016-11-06 -0.264546  0.365760 -1.941568 -2.384906\n",
       "2016-11-13  0.346117  0.492014  2.064220  0.158095\n",
       "2016-11-27 -2.123993  0.413616  2.135587  0.282034\n",
       "2016-12-11 -2.217591 -1.168178 -1.096875  0.822066\n",
       "2017-01-08 -1.098916  0.687427 -0.088544 -0.453891"
      ]
     },
     "execution_count": 280,
     "metadata": {},
     "output_type": "execute_result"
    }
   ],
   "source": [
    "mask = (df2['GrossOut'] > df2['GrossIn'])\n",
    "df2[mask]"
   ]
  },
  {
   "cell_type": "markdown",
   "metadata": {},
   "source": [
    "**34) What percentage was the total NetOut of the total NetIn in the year 2016 from df2 above? **"
   ]
  },
  {
   "cell_type": "code",
   "execution_count": 287,
   "metadata": {},
   "outputs": [
    {
     "name": "stdout",
     "output_type": "stream",
     "text": [
      "(-10.028769738208469, -1.1231707189276388)\n",
      "Percentage of NetOut of NetIn 8.928981\n"
     ]
    }
   ],
   "source": [
    "startdate = pd.to_datetime('2016-01-01')\n",
    "enddate = pd.to_datetime('2016-12-31')\n",
    "mask = (df2.index >= startdate) & (df2.index <= enddate)\n",
    "NetOutTotal = df2.loc[mask, 'NetOut'].sum()\n",
    "NetInTotal = df2.loc[mask, 'NetIn'].sum()\n",
    "print(NetOutTotal, NetInTotal)\n",
    "print(\"Percentage of NetOut of NetIn %f\" %(NetOutTotal / NetInTotal))\n"
   ]
  },
  {
   "cell_type": "markdown",
   "metadata": {},
   "source": [
    "**35) Plot values for 2016 on a line graph for the GrossOut and GrossIn in df2:**"
   ]
  },
  {
   "cell_type": "code",
   "execution_count": 312,
   "metadata": {},
   "outputs": [
    {
     "data": {
      "image/png": "[encoded data removed]",
      "text/plain": [
       "<matplotlib.figure.Figure at 0x7fce782f8510>"
      ]
     },
     "metadata": {},
     "output_type": "display_data"
    },
    {
     "data": {
      "image/png": "[encoded data removed]",
      "text/plain": [
       "<matplotlib.figure.Figure at 0x7fce782ac790>"
      ]
     },
     "metadata": {},
     "output_type": "display_data"
    }
   ],
   "source": [
    "from pylab import *\n",
    "startdate = pd.to_datetime('2016-01-01')\n",
    "enddate = pd.to_datetime('2016-12-31')\n",
    "mask = (df2.index >= startdate) & (df2.index <= enddate)\n",
    "plot(df2.index[mask],df2.loc[mask,'GrossOut'])\n",
    "xlabel('Date')\n",
    "ylabel('GrossOut')\n",
    "show()\n",
    "plot(df2.index[mask],df2.loc[mask,'GrossIn'])\n",
    "xlabel('Date')\n",
    "ylabel('GrossIn')\n",
    "show()"
   ]
  },
  {
   "cell_type": "code",
   "execution_count": 303,
   "metadata": {
    "scrolled": true
   },
   "outputs": [
    {
     "ename": "ImportError",
     "evalue": "No module named plotly",
     "output_type": "error",
     "traceback": [
      "\u001b[0;31m---------------------------------------------------------------------------\u001b[0m",
      "\u001b[0;31mImportError\u001b[0m                               Traceback (most recent call last)",
      "\u001b[0;32m<ipython-input-303-125ec5996132>\u001b[0m in \u001b[0;36m<module>\u001b[0;34m()\u001b[0m\n\u001b[1;32m      1\u001b[0m \u001b[0;32mimport\u001b[0m \u001b[0mprettyplotlib\u001b[0m\u001b[0;34m\u001b[0m\u001b[0m\n\u001b[0;32m----> 2\u001b[0;31m \u001b[0;32mimport\u001b[0m \u001b[0mplotly\u001b[0m \u001b[0;32mas\u001b[0m \u001b[0mpy\u001b[0m\u001b[0;34m\u001b[0m\u001b[0m\n\u001b[0m",
      "\u001b[0;31mImportError\u001b[0m: No module named plotly"
     ]
    }
   ],
   "source": []
  },
  {
   "cell_type": "markdown",
   "metadata": {},
   "source": [
    "**36) Plot 4 different HISTOGRAMS of df2.GrossIn each having 5,10,15,20 bins.**<br> \n",
    "Hint: use the following code  to plot the histograms on different subplots. <br> \n",
    "\n",
    "import matplotlib.pyplot as plt<br> \n",
    "fig, ax = plt.subplots(nrows=2, ncols=2)<br> \n",
    "dataframe.plot(ax=ax[0,0])# this is just an example of how to plot on a top right subplot (2x2)"
   ]
  },
  {
   "cell_type": "code",
   "execution_count": 324,
   "metadata": {
    "scrolled": true
   },
   "outputs": [
    {
     "ename": "AttributeError",
     "evalue": "'numpy.ndarray' object has no attribute 'plot'",
     "output_type": "error",
     "traceback": [
      "\u001b[0;31m---------------------------------------------------------------------------\u001b[0m",
      "\u001b[0;31mAttributeError\u001b[0m                            Traceback (most recent call last)",
      "\u001b[0;32m<ipython-input-324-e0aa9c21173a>\u001b[0m in \u001b[0;36m<module>\u001b[0;34m()\u001b[0m\n\u001b[1;32m      2\u001b[0m \u001b[0mfig\u001b[0m\u001b[0;34m,\u001b[0m \u001b[0max\u001b[0m\u001b[0;34m=\u001b[0m\u001b[0mplot\u001b[0m\u001b[0;34m.\u001b[0m\u001b[0msubplots\u001b[0m\u001b[0;34m(\u001b[0m\u001b[0mnrows\u001b[0m \u001b[0;34m=\u001b[0m \u001b[0;36m2\u001b[0m\u001b[0;34m,\u001b[0m \u001b[0mncols\u001b[0m \u001b[0;34m=\u001b[0m \u001b[0;36m2\u001b[0m\u001b[0;34m)\u001b[0m\u001b[0;34m\u001b[0m\u001b[0m\n\u001b[1;32m      3\u001b[0m \u001b[0mplot\u001b[0m\u001b[0;34m.\u001b[0m\u001b[0mfigure\u001b[0m\u001b[0;34m(\u001b[0m\u001b[0;34m)\u001b[0m\u001b[0;34m\u001b[0m\u001b[0m\n\u001b[0;32m----> 4\u001b[0;31m \u001b[0;34m(\u001b[0m\u001b[0mdf2\u001b[0m\u001b[0;34m.\u001b[0m\u001b[0mhist\u001b[0m\u001b[0;34m(\u001b[0m\u001b[0mcolor\u001b[0m\u001b[0;34m=\u001b[0m\u001b[0;34m'k'\u001b[0m\u001b[0;34m,\u001b[0m\u001b[0malpha\u001b[0m\u001b[0;34m=\u001b[0m\u001b[0;36m0.5\u001b[0m\u001b[0;34m,\u001b[0m\u001b[0mbins\u001b[0m\u001b[0;34m=\u001b[0m\u001b[0;36m5\u001b[0m\u001b[0;34m)\u001b[0m\u001b[0;34m)\u001b[0m\u001b[0;34m.\u001b[0m\u001b[0mplot\u001b[0m\u001b[0;34m(\u001b[0m\u001b[0max\u001b[0m\u001b[0;34m=\u001b[0m\u001b[0max\u001b[0m\u001b[0;34m[\u001b[0m\u001b[0;36m0\u001b[0m\u001b[0;34m,\u001b[0m\u001b[0;36m0\u001b[0m\u001b[0;34m]\u001b[0m\u001b[0;34m)\u001b[0m\u001b[0;34m\u001b[0m\u001b[0m\n\u001b[0m",
      "\u001b[0;31mAttributeError\u001b[0m: 'numpy.ndarray' object has no attribute 'plot'"
     ]
    },
    {
     "data": {
      "image/png": "[encoded data removed]",
      "text/plain": [
       "<matplotlib.figure.Figure at 0x7fce72598c50>"
      ]
     },
     "metadata": {},
     "output_type": "display_data"
    },
    {
     "data": {
      "text/plain": [
       "<matplotlib.figure.Figure at 0x7fce72598c10>"
      ]
     },
     "metadata": {},
     "output_type": "display_data"
    },
    {
     "data": {
      "image/png": "[encoded data removed]",
      "text/plain": [
       "<matplotlib.figure.Figure at 0x7fce7238f750>"
      ]
     },
     "metadata": {},
     "output_type": "display_data"
    }
   ],
   "source": [
    "import matplotlib.pyplot as plot\n",
    "fig, ax=plot.subplots(nrows = 2, ncols = 2)\n",
    "plot.figure()\n",
    "(df2.hist(color='k',alpha=0.5,bins=5)).plot(ax=ax[0,0])"
   ]
  },
  {
   "cell_type": "markdown",
   "metadata": {},
   "source": [
    "**37) What is your favorite pizza topping? None is not a valid answer. I don't care if you are off gluten.**"
   ]
  },
  {
   "cell_type": "code",
   "execution_count": null,
   "metadata": {
    "collapsed": true
   },
   "outputs": [],
   "source": [
    "sopressata"
   ]
  },
  {
   "cell_type": "markdown",
   "metadata": {},
   "source": [
    "**38) Import pandas libary with the alias pd**"
   ]
  },
  {
   "cell_type": "code",
   "execution_count": null,
   "metadata": {
    "collapsed": true
   },
   "outputs": [],
   "source": [
    "import pandas as pd "
   ]
  },
  {
   "cell_type": "markdown",
   "metadata": {},
   "source": [
    "**39)You are given the Medicare spending dataset. Read it into a pandas dataframe. Then remove the 2 unused columns 'Measure Start Date' and 'Measure End Date' from the DataFrame all in the following cell. Provide your code as the answer. **\n",
    "\n",
    "***You need to put the data file ‘Medicare_Hospital_Spending_by_Claim.csv’ at the same place as your notebook file.***\n",
    "\n"
   ]
  },
  {
   "cell_type": "code",
   "execution_count": 335,
   "metadata": {},
   "outputs": [
    {
     "data": {
      "text/plain": [
       "Index([u'Hospital Name', u'Provider Number ', u'State', u'Period',\n",
       "       u'Claim Type', u'Avg Spending Per Episode (Hospital)',\n",
       "       u'Avg Spending Per Episode (State)',\n",
       "       u'Avg Spending Per Episode (Nation)', u'Percent of Spending (Hospital)',\n",
       "       u'Percent of Spending (State)', u'Percent of Spending (Nation)',\n",
       "       u'Measure End Date'],\n",
       "      dtype='object')"
      ]
     },
     "execution_count": 335,
     "metadata": {},
     "output_type": "execute_result"
    }
   ],
   "source": [
    "Medicare = pd.read_csv(\"../Downloads/Medicare_Hospital_Spending_by_Claim.csv\")\n",
    "\n",
    "\n",
    "Medicare.tail()\n",
    "\n",
    "del Medicare['Measure Start Date']\n",
    "Medicare.columns"
   ]
  },
  {
   "cell_type": "markdown",
   "metadata": {},
   "source": [
    "**40) Replace columns names...replace the original long column names in the dataframe above (Q - 39) with shorter ones provided below in \"newColumns\".  Provide your code and the resulting new column names as the answer.**\n",
    "<br/>\n",
    "newColumns = ['Hospital', 'Provider ID', 'State', 'Period', 'Claim Type', 'Avg Spending Hospital', 'Avg Spending State', 'Avg Spending Nation', 'Percent Spending Hospital', 'Percent Spending State', 'Percent Spending Nation']"
   ]
  },
  {
   "cell_type": "code",
   "execution_count": null,
   "metadata": {
    "collapsed": true
   },
   "outputs": [],
   "source": []
  },
  {
   "cell_type": "markdown",
   "metadata": {},
   "source": [
    "**41) Find the statistics of average (mean) and percentage spending for different states, claim types, and hospitals.  In the cell below using the same dataframe used in 39 and 40. Place your code and print your results in the cell below **"
   ]
  },
  {
   "cell_type": "code",
   "execution_count": null,
   "metadata": {
    "collapsed": true
   },
   "outputs": [],
   "source": []
  },
  {
   "cell_type": "markdown",
   "metadata": {},
   "source": [
    "**42) Continuing with data from above, convert the dataframe content to be the right \"data type\" (i.e., int, float, etc) in order to perform statistical calculations for the DataFrame.  Provide your code and the resulting new print out as the answer.**\n",
    "<br>\n",
    "***Hint convert the columns with % and $***"
   ]
  },
  {
   "cell_type": "code",
   "execution_count": null,
   "metadata": {
    "collapsed": true
   },
   "outputs": [],
   "source": []
  },
  {
   "cell_type": "markdown",
   "metadata": {},
   "source": [
    "**43) Continuing with the dataframe above, extract only the TX state claims into a new dataframe.  Provide your code and print the new dataframe (with only TX claims) below as the answer.**"
   ]
  },
  {
   "cell_type": "code",
   "execution_count": null,
   "metadata": {
    "collapsed": true
   },
   "outputs": [],
   "source": []
  },
  {
   "cell_type": "markdown",
   "metadata": {},
   "source": [
    "**44) Using the dataframe from above (Q 42), find the average spending for each different TX hospitals groupedby each kind of  different claim types.  Provide your code and the resulting new print out as the answer. **"
   ]
  },
  {
   "cell_type": "code",
   "execution_count": null,
   "metadata": {
    "collapsed": true
   },
   "outputs": [],
   "source": []
  },
  {
   "cell_type": "markdown",
   "metadata": {
    "collapsed": true
   },
   "source": [
    "**45) Continuing from above (Q 43), what is the mean and max percentage spending of different TX hospitals for each different claim types.  Provide your code and print out the answer. **"
   ]
  },
  {
   "cell_type": "code",
   "execution_count": null,
   "metadata": {
    "collapsed": true
   },
   "outputs": [],
   "source": []
  },
  {
   "cell_type": "markdown",
   "metadata": {},
   "source": [
    "**46) Using the whole dataset from the Medicare_Hospital_Spending_by_Claim.csv table (i.e., Q 39-41), sort the dataframe descending order by average spending and print out what the rank of TX is in terms of average spending when compared to other state averages. **"
   ]
  },
  {
   "cell_type": "code",
   "execution_count": null,
   "metadata": {
    "collapsed": true
   },
   "outputs": [],
   "source": []
  },
  {
   "cell_type": "markdown",
   "metadata": {},
   "source": [
    "**47) Give a very general and short definition of what an Analytical Model is or is supposed to do?**"
   ]
  },
  {
   "cell_type": "markdown",
   "metadata": {
    "collapsed": true
   },
   "source": [
    "With analytical models, you provide inputs or variables and the model will return an outcome or predicted, dependent variable based on a set of equations/assumptions. For example, there is Statistical modeling which describes a set of probability distributions, univariate analysis which estimates the shape of  variable's distribution, and multivariate analysis which estimates correlation between pairs of variables. "
   ]
  },
  {
   "cell_type": "markdown",
   "metadata": {},
   "source": [
    "**48) Briefly describe the differences between \"supervised\" and \"unsupervised\" learning.**"
   ]
  },
  {
   "cell_type": "markdown",
   "metadata": {
    "collapsed": true
   },
   "source": [
    "Supervised learning there is an input and a desired output value and uses training data and examples. Unsupervised learning is inferring a function to describe hidden structure from unlabeled data and therefore there is no evaluation of the accuracy of the structure that is output. "
   ]
  },
  {
   "cell_type": "markdown",
   "metadata": {},
   "source": [
    "**49) Briefly describe the differences between \"classification\" and \"clustering\".**"
   ]
  },
  {
   "cell_type": "markdown",
   "metadata": {
    "collapsed": true
   },
   "source": [
    "Classification is essentially supervised learning in which a function is inferred from labeled training data and requires algorithm to generalize from the training data to unseen situations in a 'reasonable' way. Clustering is essentially unsupervised learning where there is unlabeled data. "
   ]
  },
  {
   "cell_type": "markdown",
   "metadata": {},
   "source": [
    "**50) Name 3 different \"kinds\" of Analytical Models and provide a brief definition of each. **"
   ]
  },
  {
   "cell_type": "markdown",
   "metadata": {
    "collapsed": true
   },
   "source": [
    "Deterministic Equation- every time you put inputs, you will get the same output, doesnt include random behaviour\n",
    "Stochastic- accounts for randomness, cluster can generate range, looks at risk, uncertainty\n",
    "Algorithm- series of steps to get a result such as if then"
   ]
  },
  {
   "cell_type": "markdown",
   "metadata": {},
   "source": [
    "**EXTRA CREDIT 51) Why is Ordinary Least Squares Regression, called Ordinary Least Squares?**"
   ]
  },
  {
   "cell_type": "markdown",
   "metadata": {
    "collapsed": true
   },
   "source": [
    "This is because outliers are squared and become bigger factors (minimized or weighted heavier). It is the sum of the squared distances. "
   ]
  },
  {
   "cell_type": "markdown",
   "metadata": {},
   "source": [
    "**EXTRA CREDIT 52) What makes \"big data\" different from \"small data\"? (Be brief - 1 to 2 paragaphs MAX)**"
   ]
  },
  {
   "cell_type": "markdown",
   "metadata": {
    "collapsed": true
   },
   "source": [
    "Big data refers to enormous datasets that cannot be analyzed, perceived, managed and processed by traditional IT software tools within a tolerable time. In addition, big data refers to significant volume of data and becoming increasingly larger, high velocity of data and variety of data types.Big data also demands or has pointed to higher levels of security and privacy. Previous methods used to encrypt and safely store small sized data is unable to meet the needs of big data security.  Small data is also more process oriented whereas big data is more object oriented. "
   ]
  },
  {
   "cell_type": "markdown",
   "metadata": {},
   "source": [
    "**EXTRA CREDIT 53) What are WMD's according to Cathy O'Neil?**"
   ]
  },
  {
   "cell_type": "markdown",
   "metadata": {
    "collapsed": true
   },
   "source": [
    "WMD is weapons of math destruction which are algorithms or rules that can quantify/measure certain traits  or support decisions that contribute to inequality. "
   ]
  },
  {
   "cell_type": "markdown",
   "metadata": {},
   "source": [
    "**EXTRA CREDIT 54) Why do vicious feedback loops matter in data analytics?**"
   ]
  },
  {
   "cell_type": "code",
   "execution_count": null,
   "metadata": {
    "collapsed": true
   },
   "outputs": [],
   "source": []
  },
  {
   "cell_type": "markdown",
   "metadata": {},
   "source": [
    "**EXTRA CREDIT 55) What are the 10 simple rules Zook et. al. Suggest to follow when doing big data analytics?**"
   ]
  },
  {
   "cell_type": "markdown",
   "metadata": {
    "collapsed": true
   },
   "source": [
    "1. Acknowledge that data are people can do harm\n",
    "2. Recognize privacy is more than a binary value\n",
    "3. Guard against the reidentification of your data\n",
    "4. Practice ethical data sharing \n",
    "5. Consider the strength and limitations of your data; big does not automatically mean better\n",
    "6. Debate the tough ethical choices \n",
    "7. Develop a code of conduct for your organization, research community orindustry\n",
    "8. Design your data and systems for audibility\n",
    "9. Engage with the broader consequences of data and analysis practices \n",
    "10. Know when to break these rules "
   ]
  }
 ],
 "metadata": {
  "kernelspec": {
   "display_name": "Python 2",
   "language": "python",
   "name": "python2"
  },
  "language_info": {
   "codemirror_mode": {
    "name": "ipython",
    "version": 2
   },
   "file_extension": ".py",
   "mimetype": "text/x-python",
   "name": "python",
   "nbconvert_exporter": "python",
   "pygments_lexer": "ipython2",
   "version": "2.7.13"
  }
 },
 "nbformat": 4,
 "nbformat_minor": 1
}
