{
 "cells": [
  {
   "cell_type": "markdown",
   "metadata": {},
   "source": [
    "Your assignment this week is again to recreate an example notebook in Python.\n",
    "\n",
    "Download this week's example (right-click, save link as):\n",
    "\n",
    "03 - Pandas - Data Structures Continued\n",
    "\n",
    "You can recreate the given examples directly in your own notebook provided you change the variable names, string examples, numbers, etc. (e.g. The example has x=2, you write y=3). To be given credit you must alter every example you include in your submission. However, for all graphs and plots you do not have to change and these can be replicated exactly as in the examples provided.\n",
    "\n",
    "This week you must included the following sections / items in your submission from the Week 3 notebook.\n",
    "\n",
    "1. Everything in the \"part 2: data\" and \"part 3: plotting\" sections using pandas.\n",
    "\n",
    "2. Three graphs from each of the last 3 sections using seaborn:\n",
    "\n",
    "- Visualizing the distribution of a dataset\n",
    "\n",
    "- Plotting univariate distributions\n",
    "\n",
    "- Plotting bivariate distributions\n",
    "\n",
    "- Visualizing pairwise relationships in a dataset\n",
    "\n",
    "- Visualizing linear relationships\n",
    "\n",
    "- Plotting with categorical data"
   ]
  },
  {
   "cell_type": "code",
   "execution_count": 36,
   "metadata": {
    "collapsed": true
   },
   "outputs": [],
   "source": [
    "%matplotlib inline\n",
    "# import naming conventions \n",
    "import numpy as np\n",
    "import pandas as pd\n",
    "import matplotlib.pyplot as plt \n",
    "from scipy import stats, integrate\n",
    "import matplotlib as mpl\n",
    "import matplotlib.pyplot as plt\n",
    "import seaborn as sns\n",
    "sns.set(color_codes=True)\n",
    "\n",
    "np.random.seed(sum(map(ord, \"distributions\")))\n",
    "\n"
   ]
  },
  {
   "cell_type": "markdown",
   "metadata": {},
   "source": [
    "## 1a. Part 2: Data"
   ]
  },
  {
   "cell_type": "code",
   "execution_count": 2,
   "metadata": {},
   "outputs": [
    {
     "data": {
      "text/plain": [
       "list"
      ]
     },
     "execution_count": 2,
     "metadata": {},
     "output_type": "execute_result"
    }
   ],
   "source": [
    "gnacs_x = \"id|postedTime|body|None|['twitter_entiteis:urls:url']|['None']|['actor:languages_list-items']|gnip:language:value|twitter_lang|[u'geo:coordinates_list-items']|geo:type|None|None|None|None|actor:utcOffset|None|None|None|None|None|None|None|None|None|actor:displayName|actor:preferredUsername|actor:id|gnip:klout_score|actor:followersCount|actor:friendsCount|actor:listedCount|actor:statusesCount|Tweet|None|None|None\"\n",
    "twit_colnames = gnacs_x.split('|')\n",
    "twit_colnames\n",
    "type(twit_colnames)"
   ]
  },
  {
   "cell_type": "code",
   "execution_count": 3,
   "metadata": {
    "collapsed": true
   },
   "outputs": [],
   "source": [
    "pd.set_option(\"display.max_columns\", None)"
   ]
  },
  {
   "cell_type": "code",
   "execution_count": 5,
   "metadata": {},
   "outputs": [
    {
     "data": {
      "text/html": [
       "<div>\n",
       "<style>\n",
       "    .dataframe thead tr:only-child th {\n",
       "        text-align: right;\n",
       "    }\n",
       "\n",
       "    .dataframe thead th {\n",
       "        text-align: left;\n",
       "    }\n",
       "\n",
       "    .dataframe tbody tr th {\n",
       "        vertical-align: top;\n",
       "    }\n",
       "</style>\n",
       "<table border=\"1\" class=\"dataframe\">\n",
       "  <thead>\n",
       "    <tr style=\"text-align: right;\">\n",
       "      <th></th>\n",
       "      <th>id</th>\n",
       "      <th>postedTime</th>\n",
       "      <th>body</th>\n",
       "      <th>['twitter_entiteis:urls:url']</th>\n",
       "      <th>['None']</th>\n",
       "      <th>['actor:languages_list-items']</th>\n",
       "      <th>gnip:language:value</th>\n",
       "      <th>twitter_lang</th>\n",
       "      <th>[u'geo:coordinates_list-items']</th>\n",
       "      <th>geo:type</th>\n",
       "      <th>None.1</th>\n",
       "      <th>None.2</th>\n",
       "      <th>None.3</th>\n",
       "      <th>None.4</th>\n",
       "      <th>actor:utcOffset</th>\n",
       "      <th>None.5</th>\n",
       "      <th>None.6</th>\n",
       "      <th>None.7</th>\n",
       "      <th>None.8</th>\n",
       "      <th>None.9</th>\n",
       "      <th>None.10</th>\n",
       "      <th>None.11</th>\n",
       "      <th>None.12</th>\n",
       "      <th>None.13</th>\n",
       "      <th>actor:displayName</th>\n",
       "      <th>actor:preferredUsername</th>\n",
       "      <th>actor:id</th>\n",
       "      <th>gnip:klout_score</th>\n",
       "      <th>actor:followersCount</th>\n",
       "      <th>actor:friendsCount</th>\n",
       "      <th>actor:listedCount</th>\n",
       "      <th>actor:statusesCount</th>\n",
       "      <th>Tweet</th>\n",
       "      <th>None.14</th>\n",
       "      <th>None.15</th>\n",
       "      <th>None.16</th>\n",
       "    </tr>\n",
       "  </thead>\n",
       "  <tbody>\n",
       "    <tr>\n",
       "      <th>92</th>\n",
       "      <td>tag:search.twitter.com,2005:351835321425608704</td>\n",
       "      <td>2013-07-01T22:50:52.000Z</td>\n",
       "      <td>O matheus André ta me falando aqui , tem quase...</td>\n",
       "      <td>None</td>\n",
       "      <td>None</td>\n",
       "      <td>['pt']</td>\n",
       "      <td>pt</td>\n",
       "      <td>pt</td>\n",
       "      <td>[-22.72046574, -43.57919689]</td>\n",
       "      <td>Point</td>\n",
       "      <td>['[-43.645123999999996, -22.783967999999998]',...</td>\n",
       "      <td>Polygon</td>\n",
       "      <td>Queimados, Rio de Janeiro</td>\n",
       "      <td>BR</td>\n",
       "      <td>-10800</td>\n",
       "      <td>Rio de Janeiro</td>\n",
       "      <td>None</td>\n",
       "      <td>None</td>\n",
       "      <td>None</td>\n",
       "      <td>None</td>\n",
       "      <td>None</td>\n",
       "      <td>None</td>\n",
       "      <td>None</td>\n",
       "      <td>None</td>\n",
       "      <td>Shelyda</td>\n",
       "      <td>ShelydaDays</td>\n",
       "      <td>70959019</td>\n",
       "      <td>40</td>\n",
       "      <td>128</td>\n",
       "      <td>76</td>\n",
       "      <td>0</td>\n",
       "      <td>1419</td>\n",
       "      <td>Tweet</td>\n",
       "      <td>None</td>\n",
       "      <td>None</td>\n",
       "      <td>None</td>\n",
       "    </tr>\n",
       "    <tr>\n",
       "      <th>93</th>\n",
       "      <td>tag:search.twitter.com,2005:351835320859369475</td>\n",
       "      <td>2013-07-01T22:50:51.000Z</td>\n",
       "      <td>@Mulayhim hatha bs one exam. Other exams y6l3o...</td>\n",
       "      <td>None</td>\n",
       "      <td>None</td>\n",
       "      <td>['en']</td>\n",
       "      <td>en</td>\n",
       "      <td>en</td>\n",
       "      <td>[52.21599153, 6.88528201]</td>\n",
       "      <td>Point</td>\n",
       "      <td>['[6.7559955, 52.1611799]', '[6.7559955, 52.28...</td>\n",
       "      <td>Polygon</td>\n",
       "      <td>Enschede</td>\n",
       "      <td>NL</td>\n",
       "      <td>3600</td>\n",
       "      <td>Netherlands\\Enschede</td>\n",
       "      <td>None</td>\n",
       "      <td>None</td>\n",
       "      <td>None</td>\n",
       "      <td>None</td>\n",
       "      <td>None</td>\n",
       "      <td>None</td>\n",
       "      <td>None</td>\n",
       "      <td>None</td>\n",
       "      <td>L</td>\n",
       "      <td>Karkooba</td>\n",
       "      <td>1252736376</td>\n",
       "      <td>30</td>\n",
       "      <td>48</td>\n",
       "      <td>88</td>\n",
       "      <td>0</td>\n",
       "      <td>957</td>\n",
       "      <td>Reply</td>\n",
       "      <td>http://twitter.com/Mulayhim/statuses/351817617...</td>\n",
       "      <td>None</td>\n",
       "      <td>None</td>\n",
       "    </tr>\n",
       "    <tr>\n",
       "      <th>94</th>\n",
       "      <td>tag:search.twitter.com,2005:351835321471746048</td>\n",
       "      <td>2013-07-01T22:50:52.000Z</td>\n",
       "      <td>😕 Hmm...</td>\n",
       "      <td>None</td>\n",
       "      <td>None</td>\n",
       "      <td>['en']</td>\n",
       "      <td>None</td>\n",
       "      <td>en</td>\n",
       "      <td>[42.21746118, -78.03367083]</td>\n",
       "      <td>Point</td>\n",
       "      <td>['[-78.045887, 42.212985]', '[-78.045887, 42.2...</td>\n",
       "      <td>Polygon</td>\n",
       "      <td>Belmont, NY</td>\n",
       "      <td>US</td>\n",
       "      <td>None</td>\n",
       "      <td>None</td>\n",
       "      <td>None</td>\n",
       "      <td>None</td>\n",
       "      <td>None</td>\n",
       "      <td>None</td>\n",
       "      <td>None</td>\n",
       "      <td>None</td>\n",
       "      <td>None</td>\n",
       "      <td>None</td>\n",
       "      <td>Lindsey Chamberlain</td>\n",
       "      <td>Linnyy_Kayy</td>\n",
       "      <td>466042520</td>\n",
       "      <td>41</td>\n",
       "      <td>198</td>\n",
       "      <td>188</td>\n",
       "      <td>0</td>\n",
       "      <td>1897</td>\n",
       "      <td>Tweet</td>\n",
       "      <td>None</td>\n",
       "      <td>None</td>\n",
       "      <td>None</td>\n",
       "    </tr>\n",
       "  </tbody>\n",
       "</table>\n",
       "</div>"
      ],
      "text/plain": [
       "                                                id                postedTime  \\\n",
       "92  tag:search.twitter.com,2005:351835321425608704  2013-07-01T22:50:52.000Z   \n",
       "93  tag:search.twitter.com,2005:351835320859369475  2013-07-01T22:50:51.000Z   \n",
       "94  tag:search.twitter.com,2005:351835321471746048  2013-07-01T22:50:52.000Z   \n",
       "\n",
       "                                                 body  \\\n",
       "92  O matheus André ta me falando aqui , tem quase...   \n",
       "93  @Mulayhim hatha bs one exam. Other exams y6l3o...   \n",
       "94                                           😕 Hmm...   \n",
       "\n",
       "   ['twitter_entiteis:urls:url'] ['None'] ['actor:languages_list-items']  \\\n",
       "92                          None     None                         ['pt']   \n",
       "93                          None     None                         ['en']   \n",
       "94                          None     None                         ['en']   \n",
       "\n",
       "   gnip:language:value twitter_lang [u'geo:coordinates_list-items'] geo:type  \\\n",
       "92                  pt           pt    [-22.72046574, -43.57919689]    Point   \n",
       "93                  en           en       [52.21599153, 6.88528201]    Point   \n",
       "94                None           en     [42.21746118, -78.03367083]    Point   \n",
       "\n",
       "                                               None.1   None.2  \\\n",
       "92  ['[-43.645123999999996, -22.783967999999998]',...  Polygon   \n",
       "93  ['[6.7559955, 52.1611799]', '[6.7559955, 52.28...  Polygon   \n",
       "94  ['[-78.045887, 42.212985]', '[-78.045887, 42.2...  Polygon   \n",
       "\n",
       "                       None.3 None.4 actor:utcOffset                None.5  \\\n",
       "92  Queimados, Rio de Janeiro     BR          -10800        Rio de Janeiro   \n",
       "93                   Enschede     NL            3600  Netherlands\\Enschede   \n",
       "94                Belmont, NY     US            None                  None   \n",
       "\n",
       "   None.6 None.7 None.8 None.9 None.10 None.11 None.12 None.13  \\\n",
       "92   None   None   None   None    None    None    None    None   \n",
       "93   None   None   None   None    None    None    None    None   \n",
       "94   None   None   None   None    None    None    None    None   \n",
       "\n",
       "      actor:displayName actor:preferredUsername    actor:id gnip:klout_score  \\\n",
       "92              Shelyda             ShelydaDays    70959019               40   \n",
       "93                    L                Karkooba  1252736376               30   \n",
       "94  Lindsey Chamberlain             Linnyy_Kayy   466042520               41   \n",
       "\n",
       "    actor:followersCount  actor:friendsCount  actor:listedCount  \\\n",
       "92                   128                  76                  0   \n",
       "93                    48                  88                  0   \n",
       "94                   198                 188                  0   \n",
       "\n",
       "    actor:statusesCount  Tweet  \\\n",
       "92                 1419  Tweet   \n",
       "93                  957  Reply   \n",
       "94                 1897  Tweet   \n",
       "\n",
       "                                              None.14 None.15 None.16  \n",
       "92                                               None    None    None  \n",
       "93  http://twitter.com/Mulayhim/statuses/351817617...    None    None  \n",
       "94                                               None    None    None  "
      ]
     },
     "execution_count": 5,
     "metadata": {},
     "output_type": "execute_result"
    }
   ],
   "source": [
    "twit_df = pd.read_csv('twitter_sample.csv', sep='|', names=twit_colnames)\n",
    "twit_df.tail(3)\n",
    "\n",
    "del twit_df['None']\n",
    "twit_df.tail(3)\n",
    "\n"
   ]
  },
  {
   "cell_type": "markdown",
   "metadata": {},
   "source": [
    "### Slicing and Combing"
   ]
  },
  {
   "cell_type": "code",
   "execution_count": 6,
   "metadata": {},
   "outputs": [
    {
     "data": {
      "text/html": [
       "<div>\n",
       "<style>\n",
       "    .dataframe thead tr:only-child th {\n",
       "        text-align: right;\n",
       "    }\n",
       "\n",
       "    .dataframe thead th {\n",
       "        text-align: left;\n",
       "    }\n",
       "\n",
       "    .dataframe tbody tr th {\n",
       "        vertical-align: top;\n",
       "    }\n",
       "</style>\n",
       "<table border=\"1\" class=\"dataframe\">\n",
       "  <thead>\n",
       "    <tr style=\"text-align: right;\">\n",
       "      <th></th>\n",
       "      <th>id</th>\n",
       "      <th>postedTime</th>\n",
       "      <th>body</th>\n",
       "      <th>['twitter_entiteis:urls:url']</th>\n",
       "      <th>['None']</th>\n",
       "      <th>['actor:languages_list-items']</th>\n",
       "      <th>gnip:language:value</th>\n",
       "      <th>twitter_lang</th>\n",
       "      <th>[u'geo:coordinates_list-items']</th>\n",
       "      <th>geo:type</th>\n",
       "      <th>None.1</th>\n",
       "      <th>None.2</th>\n",
       "      <th>None.3</th>\n",
       "      <th>None.4</th>\n",
       "      <th>actor:utcOffset</th>\n",
       "      <th>None.5</th>\n",
       "      <th>None.6</th>\n",
       "      <th>None.7</th>\n",
       "      <th>None.8</th>\n",
       "      <th>None.9</th>\n",
       "      <th>None.10</th>\n",
       "      <th>None.11</th>\n",
       "      <th>None.12</th>\n",
       "      <th>None.13</th>\n",
       "      <th>actor:displayName</th>\n",
       "      <th>actor:preferredUsername</th>\n",
       "      <th>actor:id</th>\n",
       "      <th>gnip:klout_score</th>\n",
       "      <th>actor:followersCount</th>\n",
       "      <th>actor:friendsCount</th>\n",
       "      <th>actor:listedCount</th>\n",
       "      <th>actor:statusesCount</th>\n",
       "      <th>Tweet</th>\n",
       "      <th>None.14</th>\n",
       "      <th>None.15</th>\n",
       "      <th>None.16</th>\n",
       "    </tr>\n",
       "  </thead>\n",
       "  <tbody>\n",
       "    <tr>\n",
       "      <th>8</th>\n",
       "      <td>tag:search.twitter.com,2005:351835318028222465</td>\n",
       "      <td>2013-07-01T22:50:51.000Z</td>\n",
       "      <td>@pafcdan Aww good! X</td>\n",
       "      <td>None</td>\n",
       "      <td>None</td>\n",
       "      <td>['en']</td>\n",
       "      <td>en</td>\n",
       "      <td>en</td>\n",
       "      <td>[50.3582949, -4.0930973]</td>\n",
       "      <td>Point</td>\n",
       "      <td>['[-4.209496, 50.3320883]', '[-4.209496, 50.44...</td>\n",
       "      <td>Polygon</td>\n",
       "      <td>Plymouth, Plymouth</td>\n",
       "      <td>GB</td>\n",
       "      <td>0</td>\n",
       "      <td>Plymouth</td>\n",
       "      <td>None</td>\n",
       "      <td>None</td>\n",
       "      <td>None</td>\n",
       "      <td>None</td>\n",
       "      <td>None</td>\n",
       "      <td>None</td>\n",
       "      <td>None</td>\n",
       "      <td>None</td>\n",
       "      <td>Becky ❤</td>\n",
       "      <td>BeckyLou90x</td>\n",
       "      <td>26568635</td>\n",
       "      <td>38</td>\n",
       "      <td>380</td>\n",
       "      <td>860</td>\n",
       "      <td>0</td>\n",
       "      <td>3116</td>\n",
       "      <td>Reply</td>\n",
       "      <td>http://twitter.com/pafcdan/statuses/3518344574...</td>\n",
       "      <td>None</td>\n",
       "      <td>None</td>\n",
       "    </tr>\n",
       "    <tr>\n",
       "      <th>9</th>\n",
       "      <td>tag:search.twitter.com,2005:351835318346981377</td>\n",
       "      <td>2013-07-01T22:50:51.000Z</td>\n",
       "      <td>Newest hobby: sending videos back and forth of...</td>\n",
       "      <td>None</td>\n",
       "      <td>None</td>\n",
       "      <td>['en']</td>\n",
       "      <td>en</td>\n",
       "      <td>en</td>\n",
       "      <td>[29.54588264, -95.10669141]</td>\n",
       "      <td>Point</td>\n",
       "      <td>['[-95.145152, 29.506973]', '[-95.145152, 29.5...</td>\n",
       "      <td>Polygon</td>\n",
       "      <td>Webster, TX</td>\n",
       "      <td>US</td>\n",
       "      <td>None</td>\n",
       "      <td>Houston, Texas</td>\n",
       "      <td>None</td>\n",
       "      <td>None</td>\n",
       "      <td>None</td>\n",
       "      <td>None</td>\n",
       "      <td>None</td>\n",
       "      <td>None</td>\n",
       "      <td>None</td>\n",
       "      <td>None</td>\n",
       "      <td>lil beyoncé</td>\n",
       "      <td>beezlebrat</td>\n",
       "      <td>541953037</td>\n",
       "      <td>41</td>\n",
       "      <td>160</td>\n",
       "      <td>135</td>\n",
       "      <td>0</td>\n",
       "      <td>4170</td>\n",
       "      <td>Tweet</td>\n",
       "      <td>None</td>\n",
       "      <td>None</td>\n",
       "      <td>None</td>\n",
       "    </tr>\n",
       "    <tr>\n",
       "      <th>11</th>\n",
       "      <td>tag:search.twitter.com,2005:351835318024028161</td>\n",
       "      <td>2013-07-01T22:50:51.000Z</td>\n",
       "      <td>~FINALLY OFF OF WORK~</td>\n",
       "      <td>None</td>\n",
       "      <td>None</td>\n",
       "      <td>['en']</td>\n",
       "      <td>en</td>\n",
       "      <td>en</td>\n",
       "      <td>[32.86107, -83.72062]</td>\n",
       "      <td>Point</td>\n",
       "      <td>['[-83.739741, 32.765651]', '[-83.739741, 32.8...</td>\n",
       "      <td>Polygon</td>\n",
       "      <td>Macon, GA</td>\n",
       "      <td>US</td>\n",
       "      <td>None</td>\n",
       "      <td>None</td>\n",
       "      <td>None</td>\n",
       "      <td>None</td>\n",
       "      <td>None</td>\n",
       "      <td>None</td>\n",
       "      <td>None</td>\n",
       "      <td>None</td>\n",
       "      <td>None</td>\n",
       "      <td>None</td>\n",
       "      <td>Tomeisha Cross</td>\n",
       "      <td>MISSMEISHA223</td>\n",
       "      <td>242505369</td>\n",
       "      <td>18</td>\n",
       "      <td>290</td>\n",
       "      <td>683</td>\n",
       "      <td>0</td>\n",
       "      <td>540</td>\n",
       "      <td>Tweet</td>\n",
       "      <td>None</td>\n",
       "      <td>None</td>\n",
       "      <td>None</td>\n",
       "    </tr>\n",
       "    <tr>\n",
       "      <th>12</th>\n",
       "      <td>tag:search.twitter.com,2005:351835318497980416</td>\n",
       "      <td>2013-07-01T22:50:51.000Z</td>\n",
       "      <td>Rubbing/massaging my feet is like giving me he...</td>\n",
       "      <td>None</td>\n",
       "      <td>None</td>\n",
       "      <td>['en']</td>\n",
       "      <td>en</td>\n",
       "      <td>en</td>\n",
       "      <td>[33.68890281, -84.27369741]</td>\n",
       "      <td>Point</td>\n",
       "      <td>['[-85.605165, 30.355756999999997]', '[-85.605...</td>\n",
       "      <td>Polygon</td>\n",
       "      <td>Georgia, US</td>\n",
       "      <td>US</td>\n",
       "      <td>-18000</td>\n",
       "      <td>Atl...</td>\n",
       "      <td>None</td>\n",
       "      <td>None</td>\n",
       "      <td>None</td>\n",
       "      <td>None</td>\n",
       "      <td>None</td>\n",
       "      <td>None</td>\n",
       "      <td>None</td>\n",
       "      <td>None</td>\n",
       "      <td>Poison †</td>\n",
       "      <td>shanbonita</td>\n",
       "      <td>29619102</td>\n",
       "      <td>64</td>\n",
       "      <td>40543</td>\n",
       "      <td>116</td>\n",
       "      <td>486</td>\n",
       "      <td>60465</td>\n",
       "      <td>Tweet</td>\n",
       "      <td>None</td>\n",
       "      <td>None</td>\n",
       "      <td>None</td>\n",
       "    </tr>\n",
       "    <tr>\n",
       "      <th>15</th>\n",
       "      <td>tag:search.twitter.com,2005:351835318724468737</td>\n",
       "      <td>2013-07-01T22:50:51.000Z</td>\n",
       "      <td>@Hayley_Brownn Same!!!! Very sad times😞😞😞😞</td>\n",
       "      <td>None</td>\n",
       "      <td>None</td>\n",
       "      <td>['en']</td>\n",
       "      <td>en</td>\n",
       "      <td>en</td>\n",
       "      <td>[54.6884467, -3.51776393]</td>\n",
       "      <td>Point</td>\n",
       "      <td>['[-3.580063, 54.454108]', '[-3.580063, 54.964...</td>\n",
       "      <td>Polygon</td>\n",
       "      <td>Allerdale, Cumbria</td>\n",
       "      <td>GB</td>\n",
       "      <td>-36000</td>\n",
       "      <td>None</td>\n",
       "      <td>None</td>\n",
       "      <td>None</td>\n",
       "      <td>None</td>\n",
       "      <td>None</td>\n",
       "      <td>None</td>\n",
       "      <td>None</td>\n",
       "      <td>None</td>\n",
       "      <td>None</td>\n",
       "      <td>Karl Hine</td>\n",
       "      <td>KarlHine</td>\n",
       "      <td>402334657</td>\n",
       "      <td>42</td>\n",
       "      <td>417</td>\n",
       "      <td>259</td>\n",
       "      <td>1</td>\n",
       "      <td>5242</td>\n",
       "      <td>Reply</td>\n",
       "      <td>http://twitter.com/Hayley_Brownn/statuses/3518...</td>\n",
       "      <td>None</td>\n",
       "      <td>None</td>\n",
       "    </tr>\n",
       "  </tbody>\n",
       "</table>\n",
       "</div>"
      ],
      "text/plain": [
       "                                                id                postedTime  \\\n",
       "8   tag:search.twitter.com,2005:351835318028222465  2013-07-01T22:50:51.000Z   \n",
       "9   tag:search.twitter.com,2005:351835318346981377  2013-07-01T22:50:51.000Z   \n",
       "11  tag:search.twitter.com,2005:351835318024028161  2013-07-01T22:50:51.000Z   \n",
       "12  tag:search.twitter.com,2005:351835318497980416  2013-07-01T22:50:51.000Z   \n",
       "15  tag:search.twitter.com,2005:351835318724468737  2013-07-01T22:50:51.000Z   \n",
       "\n",
       "                                                 body  \\\n",
       "8                                @pafcdan Aww good! X   \n",
       "9   Newest hobby: sending videos back and forth of...   \n",
       "11                              ~FINALLY OFF OF WORK~   \n",
       "12  Rubbing/massaging my feet is like giving me he...   \n",
       "15         @Hayley_Brownn Same!!!! Very sad times😞😞😞😞   \n",
       "\n",
       "   ['twitter_entiteis:urls:url'] ['None'] ['actor:languages_list-items']  \\\n",
       "8                           None     None                         ['en']   \n",
       "9                           None     None                         ['en']   \n",
       "11                          None     None                         ['en']   \n",
       "12                          None     None                         ['en']   \n",
       "15                          None     None                         ['en']   \n",
       "\n",
       "   gnip:language:value twitter_lang [u'geo:coordinates_list-items'] geo:type  \\\n",
       "8                   en           en        [50.3582949, -4.0930973]    Point   \n",
       "9                   en           en     [29.54588264, -95.10669141]    Point   \n",
       "11                  en           en           [32.86107, -83.72062]    Point   \n",
       "12                  en           en     [33.68890281, -84.27369741]    Point   \n",
       "15                  en           en       [54.6884467, -3.51776393]    Point   \n",
       "\n",
       "                                               None.1   None.2  \\\n",
       "8   ['[-4.209496, 50.3320883]', '[-4.209496, 50.44...  Polygon   \n",
       "9   ['[-95.145152, 29.506973]', '[-95.145152, 29.5...  Polygon   \n",
       "11  ['[-83.739741, 32.765651]', '[-83.739741, 32.8...  Polygon   \n",
       "12  ['[-85.605165, 30.355756999999997]', '[-85.605...  Polygon   \n",
       "15  ['[-3.580063, 54.454108]', '[-3.580063, 54.964...  Polygon   \n",
       "\n",
       "                None.3 None.4 actor:utcOffset          None.5 None.6 None.7  \\\n",
       "8   Plymouth, Plymouth     GB               0        Plymouth   None   None   \n",
       "9          Webster, TX     US            None  Houston, Texas   None   None   \n",
       "11           Macon, GA     US            None            None   None   None   \n",
       "12         Georgia, US     US          -18000          Atl...   None   None   \n",
       "15  Allerdale, Cumbria     GB          -36000            None   None   None   \n",
       "\n",
       "   None.8 None.9 None.10 None.11 None.12 None.13 actor:displayName  \\\n",
       "8    None   None    None    None    None    None           Becky ❤   \n",
       "9    None   None    None    None    None    None       lil beyoncé   \n",
       "11   None   None    None    None    None    None    Tomeisha Cross   \n",
       "12   None   None    None    None    None    None          Poison †   \n",
       "15   None   None    None    None    None    None         Karl Hine   \n",
       "\n",
       "   actor:preferredUsername   actor:id gnip:klout_score  actor:followersCount  \\\n",
       "8              BeckyLou90x   26568635               38                   380   \n",
       "9               beezlebrat  541953037               41                   160   \n",
       "11           MISSMEISHA223  242505369               18                   290   \n",
       "12              shanbonita   29619102               64                 40543   \n",
       "15                KarlHine  402334657               42                   417   \n",
       "\n",
       "    actor:friendsCount  actor:listedCount  actor:statusesCount  Tweet  \\\n",
       "8                  860                  0                 3116  Reply   \n",
       "9                  135                  0                 4170  Tweet   \n",
       "11                 683                  0                  540  Tweet   \n",
       "12                 116                486                60465  Tweet   \n",
       "15                 259                  1                 5242  Reply   \n",
       "\n",
       "                                              None.14 None.15 None.16  \n",
       "8   http://twitter.com/pafcdan/statuses/3518344574...    None    None  \n",
       "9                                                None    None    None  \n",
       "11                                               None    None    None  \n",
       "12                                               None    None    None  \n",
       "15  http://twitter.com/Hayley_Brownn/statuses/3518...    None    None  "
      ]
     },
     "execution_count": 6,
     "metadata": {},
     "output_type": "execute_result"
    }
   ],
   "source": [
    "twit_df[twit_df.twitter_lang == 'en'].head()"
   ]
  },
  {
   "cell_type": "code",
   "execution_count": 13,
   "metadata": {},
   "outputs": [
    {
     "data": {
      "text/plain": [
       "gnip:klout_score        object\n",
       "actor:followersCount     int64\n",
       "actor:friendsCount       int64\n",
       "actor:listedCount        int64\n",
       "dtype: object"
      ]
     },
     "execution_count": 13,
     "metadata": {},
     "output_type": "execute_result"
    }
   ],
   "source": [
    "twit_df_num = twit_df[[\"gnip:klout_score\",\"actor:followersCount\", \"actor:friendsCount\", \"actor:listedCount\"]]\n",
    "\n",
    "twit_df_num.head()\n",
    "twit_df_num.dtypes"
   ]
  },
  {
   "cell_type": "code",
   "execution_count": 14,
   "metadata": {
    "collapsed": true
   },
   "outputs": [],
   "source": [
    "def typeToFloat(val):\n",
    "    if val == None or val == 'None':\n",
    "        return 0.0\n",
    "    else:\n",
    "        return float(val)"
   ]
  },
  {
   "cell_type": "code",
   "execution_count": 16,
   "metadata": {},
   "outputs": [
    {
     "name": "stderr",
     "output_type": "stream",
     "text": [
      "C:\\Users\\somsa\\Anaconda3\\lib\\site-packages\\ipykernel_launcher.py:1: SettingWithCopyWarning: \n",
      "A value is trying to be set on a copy of a slice from a DataFrame.\n",
      "Try using .loc[row_indexer,col_indexer] = value instead\n",
      "\n",
      "See the caveats in the documentation: http://pandas.pydata.org/pandas-docs/stable/indexing.html#indexing-view-versus-copy\n",
      "  \"\"\"Entry point for launching an IPython kernel.\n"
     ]
    },
    {
     "data": {
      "text/plain": [
       "gnip:klout_score        float64\n",
       "actor:followersCount      int64\n",
       "actor:friendsCount        int64\n",
       "actor:listedCount         int64\n",
       "dtype: object"
      ]
     },
     "execution_count": 16,
     "metadata": {},
     "output_type": "execute_result"
    }
   ],
   "source": [
    "twit_df_num['gnip:klout_score'] = twit_df_num['gnip:klout_score'].map(typeToFloat)\n",
    "\n",
    "twit_df_num.dtypes"
   ]
  },
  {
   "cell_type": "code",
   "execution_count": 18,
   "metadata": {},
   "outputs": [
    {
     "data": {
      "text/plain": [
       "gnip:klout_score        float64\n",
       "actor:followersCount    float64\n",
       "actor:friendsCount      float64\n",
       "actor:listedCount       float64\n",
       "dtype: object"
      ]
     },
     "execution_count": 18,
     "metadata": {},
     "output_type": "execute_result"
    }
   ],
   "source": [
    "twit_df_num = twit_df_num.astype(float)\n",
    "\n",
    "twit_df_num.dtypes"
   ]
  },
  {
   "cell_type": "code",
   "execution_count": 19,
   "metadata": {
    "collapsed": true
   },
   "outputs": [],
   "source": [
    "twit_df_num['fol:frnd'] = twit_df_num['gnip:klout_score'] / twit_df_num['actor:followersCount']"
   ]
  },
  {
   "cell_type": "code",
   "execution_count": 20,
   "metadata": {},
   "outputs": [
    {
     "data": {
      "text/html": [
       "<div>\n",
       "<style>\n",
       "    .dataframe thead tr:only-child th {\n",
       "        text-align: right;\n",
       "    }\n",
       "\n",
       "    .dataframe thead th {\n",
       "        text-align: left;\n",
       "    }\n",
       "\n",
       "    .dataframe tbody tr th {\n",
       "        vertical-align: top;\n",
       "    }\n",
       "</style>\n",
       "<table border=\"1\" class=\"dataframe\">\n",
       "  <thead>\n",
       "    <tr style=\"text-align: right;\">\n",
       "      <th></th>\n",
       "      <th>gnip:klout_score</th>\n",
       "      <th>actor:followersCount</th>\n",
       "      <th>actor:friendsCount</th>\n",
       "      <th>actor:listedCount</th>\n",
       "      <th>fol:frnd</th>\n",
       "    </tr>\n",
       "  </thead>\n",
       "  <tbody>\n",
       "    <tr>\n",
       "      <th>0</th>\n",
       "      <td>35.0</td>\n",
       "      <td>178.0</td>\n",
       "      <td>129.0</td>\n",
       "      <td>0.0</td>\n",
       "      <td>0.196629</td>\n",
       "    </tr>\n",
       "    <tr>\n",
       "      <th>1</th>\n",
       "      <td>32.0</td>\n",
       "      <td>144.0</td>\n",
       "      <td>215.0</td>\n",
       "      <td>0.0</td>\n",
       "      <td>0.222222</td>\n",
       "    </tr>\n",
       "    <tr>\n",
       "      <th>2</th>\n",
       "      <td>18.0</td>\n",
       "      <td>37.0</td>\n",
       "      <td>54.0</td>\n",
       "      <td>0.0</td>\n",
       "      <td>0.486486</td>\n",
       "    </tr>\n",
       "    <tr>\n",
       "      <th>3</th>\n",
       "      <td>50.0</td>\n",
       "      <td>438.0</td>\n",
       "      <td>174.0</td>\n",
       "      <td>1.0</td>\n",
       "      <td>0.114155</td>\n",
       "    </tr>\n",
       "    <tr>\n",
       "      <th>4</th>\n",
       "      <td>21.0</td>\n",
       "      <td>12.0</td>\n",
       "      <td>6.0</td>\n",
       "      <td>0.0</td>\n",
       "      <td>1.750000</td>\n",
       "    </tr>\n",
       "  </tbody>\n",
       "</table>\n",
       "</div>"
      ],
      "text/plain": [
       "   gnip:klout_score  actor:followersCount  actor:friendsCount  \\\n",
       "0              35.0                 178.0               129.0   \n",
       "1              32.0                 144.0               215.0   \n",
       "2              18.0                  37.0                54.0   \n",
       "3              50.0                 438.0               174.0   \n",
       "4              21.0                  12.0                 6.0   \n",
       "\n",
       "   actor:listedCount  fol:frnd  \n",
       "0                0.0  0.196629  \n",
       "1                0.0  0.222222  \n",
       "2                0.0  0.486486  \n",
       "3                1.0  0.114155  \n",
       "4                0.0  1.750000  "
      ]
     },
     "execution_count": 20,
     "metadata": {},
     "output_type": "execute_result"
    }
   ],
   "source": [
    "twit_df_num.head()"
   ]
  },
  {
   "cell_type": "markdown",
   "metadata": {},
   "source": [
    "### Grouping"
   ]
  },
  {
   "cell_type": "code",
   "execution_count": 21,
   "metadata": {},
   "outputs": [
    {
     "data": {
      "text/html": [
       "<div>\n",
       "<style>\n",
       "    .dataframe thead tr:only-child th {\n",
       "        text-align: right;\n",
       "    }\n",
       "\n",
       "    .dataframe thead th {\n",
       "        text-align: left;\n",
       "    }\n",
       "\n",
       "    .dataframe tbody tr th {\n",
       "        vertical-align: top;\n",
       "    }\n",
       "</style>\n",
       "<table border=\"1\" class=\"dataframe\">\n",
       "  <thead>\n",
       "    <tr style=\"text-align: right;\">\n",
       "      <th></th>\n",
       "      <th>id</th>\n",
       "      <th>postedTime</th>\n",
       "      <th>body</th>\n",
       "      <th>['twitter_entiteis:urls:url']</th>\n",
       "      <th>['None']</th>\n",
       "      <th>['actor:languages_list-items']</th>\n",
       "      <th>gnip:language:value</th>\n",
       "      <th>twitter_lang</th>\n",
       "      <th>[u'geo:coordinates_list-items']</th>\n",
       "      <th>geo:type</th>\n",
       "      <th>None.1</th>\n",
       "      <th>None.2</th>\n",
       "      <th>None.3</th>\n",
       "      <th>None.4</th>\n",
       "      <th>actor:utcOffset</th>\n",
       "      <th>None.5</th>\n",
       "      <th>None.6</th>\n",
       "      <th>None.7</th>\n",
       "      <th>None.8</th>\n",
       "      <th>None.9</th>\n",
       "      <th>None.10</th>\n",
       "      <th>None.11</th>\n",
       "      <th>None.12</th>\n",
       "      <th>None.13</th>\n",
       "      <th>actor:displayName</th>\n",
       "      <th>actor:preferredUsername</th>\n",
       "      <th>actor:id</th>\n",
       "      <th>gnip:klout_score</th>\n",
       "      <th>actor:followersCount</th>\n",
       "      <th>actor:friendsCount</th>\n",
       "      <th>actor:listedCount</th>\n",
       "      <th>actor:statusesCount</th>\n",
       "      <th>Tweet</th>\n",
       "      <th>None.14</th>\n",
       "      <th>None.15</th>\n",
       "      <th>None.16</th>\n",
       "    </tr>\n",
       "  </thead>\n",
       "  <tbody>\n",
       "    <tr>\n",
       "      <th>0</th>\n",
       "      <td>tag:search.twitter.com,2005:351835317671690241</td>\n",
       "      <td>2013-07-01T22:50:51.000Z</td>\n",
       "      <td>kavga edelim ama konuşalım</td>\n",
       "      <td>None</td>\n",
       "      <td>None</td>\n",
       "      <td>['tr']</td>\n",
       "      <td>en</td>\n",
       "      <td>tr</td>\n",
       "      <td>None</td>\n",
       "      <td>None</td>\n",
       "      <td>['[25.663883, 35.817497]', '[25.663883, 42.109...</td>\n",
       "      <td>Polygon</td>\n",
       "      <td>Türkiye</td>\n",
       "      <td>TR</td>\n",
       "      <td>7200</td>\n",
       "      <td>None</td>\n",
       "      <td>None</td>\n",
       "      <td>None</td>\n",
       "      <td>None</td>\n",
       "      <td>None</td>\n",
       "      <td>None</td>\n",
       "      <td>None</td>\n",
       "      <td>None</td>\n",
       "      <td>None</td>\n",
       "      <td>Rümeysa Özdemir</td>\n",
       "      <td>uykugibisiyok</td>\n",
       "      <td>248312738</td>\n",
       "      <td>35</td>\n",
       "      <td>178</td>\n",
       "      <td>129</td>\n",
       "      <td>0</td>\n",
       "      <td>2028</td>\n",
       "      <td>Tweet</td>\n",
       "      <td>None</td>\n",
       "      <td>None</td>\n",
       "      <td>None</td>\n",
       "    </tr>\n",
       "    <tr>\n",
       "      <th>1</th>\n",
       "      <td>tag:search.twitter.com,2005:351835317604593666</td>\n",
       "      <td>2013-07-01T22:50:51.000Z</td>\n",
       "      <td>@shane_joersz wooooow</td>\n",
       "      <td>None</td>\n",
       "      <td>None</td>\n",
       "      <td>['en']</td>\n",
       "      <td>en</td>\n",
       "      <td>es</td>\n",
       "      <td>[47.29088246, -101.0379045]</td>\n",
       "      <td>Point</td>\n",
       "      <td>['[-101.043785, 47.275933]', '[-101.043785, 47...</td>\n",
       "      <td>Polygon</td>\n",
       "      <td>Washburn, ND</td>\n",
       "      <td>US</td>\n",
       "      <td>-21600</td>\n",
       "      <td>sevenohone</td>\n",
       "      <td>None</td>\n",
       "      <td>None</td>\n",
       "      <td>None</td>\n",
       "      <td>None</td>\n",
       "      <td>None</td>\n",
       "      <td>None</td>\n",
       "      <td>None</td>\n",
       "      <td>None</td>\n",
       "      <td>cori▲alex.</td>\n",
       "      <td>CoBerg_</td>\n",
       "      <td>48025164</td>\n",
       "      <td>32</td>\n",
       "      <td>144</td>\n",
       "      <td>215</td>\n",
       "      <td>0</td>\n",
       "      <td>4071</td>\n",
       "      <td>Reply</td>\n",
       "      <td>http://twitter.com/shane_joersz/statuses/35182...</td>\n",
       "      <td>None</td>\n",
       "      <td>None</td>\n",
       "    </tr>\n",
       "    <tr>\n",
       "      <th>2</th>\n",
       "      <td>tag:search.twitter.com,2005:351835317747191808</td>\n",
       "      <td>2013-07-01T22:50:51.000Z</td>\n",
       "      <td>お前との肌のふれあいなんぞ求めてない。自重しろ。</td>\n",
       "      <td>None</td>\n",
       "      <td>None</td>\n",
       "      <td>['ja']</td>\n",
       "      <td>en</td>\n",
       "      <td>ja</td>\n",
       "      <td>[35.70675048, 139.84273005]</td>\n",
       "      <td>Point</td>\n",
       "      <td>['[139.8332175, 35.6345694444444]', '[139.8332...</td>\n",
       "      <td>Polygon</td>\n",
       "      <td>江戸川区, 東京都</td>\n",
       "      <td>JP</td>\n",
       "      <td>-36000</td>\n",
       "      <td>ちば</td>\n",
       "      <td>None</td>\n",
       "      <td>None</td>\n",
       "      <td>None</td>\n",
       "      <td>None</td>\n",
       "      <td>None</td>\n",
       "      <td>None</td>\n",
       "      <td>None</td>\n",
       "      <td>None</td>\n",
       "      <td>黒い恋人</td>\n",
       "      <td>yamasyoyamasyo</td>\n",
       "      <td>217987801</td>\n",
       "      <td>18</td>\n",
       "      <td>37</td>\n",
       "      <td>54</td>\n",
       "      <td>0</td>\n",
       "      <td>3505</td>\n",
       "      <td>Tweet</td>\n",
       "      <td>None</td>\n",
       "      <td>None</td>\n",
       "      <td>None</td>\n",
       "    </tr>\n",
       "    <tr>\n",
       "      <th>3</th>\n",
       "      <td>tag:search.twitter.com,2005:351835317608792064</td>\n",
       "      <td>2013-07-01T22:50:51.000Z</td>\n",
       "      <td>@Gabo_navoficial yo tambien creo en ti mi char...</td>\n",
       "      <td>None</td>\n",
       "      <td>None</td>\n",
       "      <td>['en']</td>\n",
       "      <td>en</td>\n",
       "      <td>es</td>\n",
       "      <td>None</td>\n",
       "      <td>None</td>\n",
       "      <td>['[-80.248663, 25.986366]', '[-80.248663, 26.0...</td>\n",
       "      <td>Polygon</td>\n",
       "      <td>Hollywood, FL</td>\n",
       "      <td>US</td>\n",
       "      <td>-14400</td>\n",
       "      <td>hollywood florida</td>\n",
       "      <td>None</td>\n",
       "      <td>None</td>\n",
       "      <td>None</td>\n",
       "      <td>None</td>\n",
       "      <td>None</td>\n",
       "      <td>None</td>\n",
       "      <td>None</td>\n",
       "      <td>None</td>\n",
       "      <td>MARIA</td>\n",
       "      <td>maria_e_pena</td>\n",
       "      <td>461188787</td>\n",
       "      <td>50</td>\n",
       "      <td>438</td>\n",
       "      <td>174</td>\n",
       "      <td>1</td>\n",
       "      <td>17636</td>\n",
       "      <td>Reply</td>\n",
       "      <td>http://twitter.com/Gabo_navoficial/statuses/35...</td>\n",
       "      <td>None</td>\n",
       "      <td>None</td>\n",
       "    </tr>\n",
       "    <tr>\n",
       "      <th>4</th>\n",
       "      <td>tag:search.twitter.com,2005:351835317755592705</td>\n",
       "      <td>2013-07-01T22:50:51.000Z</td>\n",
       "      <td>только ты об этом не знаешь... http://t.co/MOH...</td>\n",
       "      <td>None</td>\n",
       "      <td>None</td>\n",
       "      <td>['ru']</td>\n",
       "      <td>en</td>\n",
       "      <td>ru</td>\n",
       "      <td>None</td>\n",
       "      <td>None</td>\n",
       "      <td>['[23.179216999999998, 51.2626423]', '[23.1792...</td>\n",
       "      <td>Polygon</td>\n",
       "      <td>Belarus</td>\n",
       "      <td>BY</td>\n",
       "      <td>None</td>\n",
       "      <td>None</td>\n",
       "      <td>None</td>\n",
       "      <td>None</td>\n",
       "      <td>None</td>\n",
       "      <td>None</td>\n",
       "      <td>None</td>\n",
       "      <td>None</td>\n",
       "      <td>None</td>\n",
       "      <td>None</td>\n",
       "      <td>Элька Алб</td>\n",
       "      <td>ElkaAlb</td>\n",
       "      <td>1433828712</td>\n",
       "      <td>21</td>\n",
       "      <td>12</td>\n",
       "      <td>6</td>\n",
       "      <td>0</td>\n",
       "      <td>145</td>\n",
       "      <td>Tweet</td>\n",
       "      <td>None</td>\n",
       "      <td>None</td>\n",
       "      <td>None</td>\n",
       "    </tr>\n",
       "  </tbody>\n",
       "</table>\n",
       "</div>"
      ],
      "text/plain": [
       "                                               id                postedTime  \\\n",
       "0  tag:search.twitter.com,2005:351835317671690241  2013-07-01T22:50:51.000Z   \n",
       "1  tag:search.twitter.com,2005:351835317604593666  2013-07-01T22:50:51.000Z   \n",
       "2  tag:search.twitter.com,2005:351835317747191808  2013-07-01T22:50:51.000Z   \n",
       "3  tag:search.twitter.com,2005:351835317608792064  2013-07-01T22:50:51.000Z   \n",
       "4  tag:search.twitter.com,2005:351835317755592705  2013-07-01T22:50:51.000Z   \n",
       "\n",
       "                                                body  \\\n",
       "0                         kavga edelim ama konuşalım   \n",
       "1                              @shane_joersz wooooow   \n",
       "2                           お前との肌のふれあいなんぞ求めてない。自重しろ。   \n",
       "3  @Gabo_navoficial yo tambien creo en ti mi char...   \n",
       "4  только ты об этом не знаешь... http://t.co/MOH...   \n",
       "\n",
       "  ['twitter_entiteis:urls:url'] ['None'] ['actor:languages_list-items']  \\\n",
       "0                          None     None                         ['tr']   \n",
       "1                          None     None                         ['en']   \n",
       "2                          None     None                         ['ja']   \n",
       "3                          None     None                         ['en']   \n",
       "4                          None     None                         ['ru']   \n",
       "\n",
       "  gnip:language:value twitter_lang [u'geo:coordinates_list-items'] geo:type  \\\n",
       "0                  en           tr                            None     None   \n",
       "1                  en           es     [47.29088246, -101.0379045]    Point   \n",
       "2                  en           ja     [35.70675048, 139.84273005]    Point   \n",
       "3                  en           es                            None     None   \n",
       "4                  en           ru                            None     None   \n",
       "\n",
       "                                              None.1   None.2         None.3  \\\n",
       "0  ['[25.663883, 35.817497]', '[25.663883, 42.109...  Polygon        Türkiye   \n",
       "1  ['[-101.043785, 47.275933]', '[-101.043785, 47...  Polygon   Washburn, ND   \n",
       "2  ['[139.8332175, 35.6345694444444]', '[139.8332...  Polygon      江戸川区, 東京都   \n",
       "3  ['[-80.248663, 25.986366]', '[-80.248663, 26.0...  Polygon  Hollywood, FL   \n",
       "4  ['[23.179216999999998, 51.2626423]', '[23.1792...  Polygon        Belarus   \n",
       "\n",
       "  None.4 actor:utcOffset             None.5 None.6 None.7 None.8 None.9  \\\n",
       "0     TR            7200               None   None   None   None   None   \n",
       "1     US          -21600         sevenohone   None   None   None   None   \n",
       "2     JP          -36000                 ちば   None   None   None   None   \n",
       "3     US          -14400  hollywood florida   None   None   None   None   \n",
       "4     BY            None               None   None   None   None   None   \n",
       "\n",
       "  None.10 None.11 None.12 None.13 actor:displayName actor:preferredUsername  \\\n",
       "0    None    None    None    None   Rümeysa Özdemir           uykugibisiyok   \n",
       "1    None    None    None    None        cori▲alex.                 CoBerg_   \n",
       "2    None    None    None    None              黒い恋人          yamasyoyamasyo   \n",
       "3    None    None    None    None             MARIA            maria_e_pena   \n",
       "4    None    None    None    None         Элька Алб                 ElkaAlb   \n",
       "\n",
       "     actor:id gnip:klout_score  actor:followersCount  actor:friendsCount  \\\n",
       "0   248312738               35                   178                 129   \n",
       "1    48025164               32                   144                 215   \n",
       "2   217987801               18                    37                  54   \n",
       "3   461188787               50                   438                 174   \n",
       "4  1433828712               21                    12                   6   \n",
       "\n",
       "   actor:listedCount  actor:statusesCount  Tweet  \\\n",
       "0                  0                 2028  Tweet   \n",
       "1                  0                 4071  Reply   \n",
       "2                  0                 3505  Tweet   \n",
       "3                  1                17636  Reply   \n",
       "4                  0                  145  Tweet   \n",
       "\n",
       "                                             None.14 None.15 None.16  \n",
       "0                                               None    None    None  \n",
       "1  http://twitter.com/shane_joersz/statuses/35182...    None    None  \n",
       "2                                               None    None    None  \n",
       "3  http://twitter.com/Gabo_navoficial/statuses/35...    None    None  \n",
       "4                                               None    None    None  "
      ]
     },
     "execution_count": 21,
     "metadata": {},
     "output_type": "execute_result"
    }
   ],
   "source": [
    "twit_df.head()"
   ]
  },
  {
   "cell_type": "code",
   "execution_count": 34,
   "metadata": {},
   "outputs": [
    {
     "data": {
      "text/html": [
       "<div>\n",
       "<style>\n",
       "    .dataframe thead tr:only-child th {\n",
       "        text-align: right;\n",
       "    }\n",
       "\n",
       "    .dataframe thead th {\n",
       "        text-align: left;\n",
       "    }\n",
       "\n",
       "    .dataframe tbody tr th {\n",
       "        vertical-align: top;\n",
       "    }\n",
       "</style>\n",
       "<table border=\"1\" class=\"dataframe\">\n",
       "  <thead>\n",
       "    <tr style=\"text-align: right;\">\n",
       "      <th></th>\n",
       "      <th>actor:followersCount</th>\n",
       "      <th>actor:friendsCount</th>\n",
       "      <th>actor:statusesCount</th>\n",
       "    </tr>\n",
       "    <tr>\n",
       "      <th>twitter_lang</th>\n",
       "      <th></th>\n",
       "      <th></th>\n",
       "      <th></th>\n",
       "    </tr>\n",
       "  </thead>\n",
       "  <tbody>\n",
       "    <tr>\n",
       "      <th>ar</th>\n",
       "      <td>458.000000</td>\n",
       "      <td>413.000000</td>\n",
       "      <td>1061.000000</td>\n",
       "    </tr>\n",
       "    <tr>\n",
       "      <th>en</th>\n",
       "      <td>1796.147059</td>\n",
       "      <td>582.735294</td>\n",
       "      <td>16364.352941</td>\n",
       "    </tr>\n",
       "    <tr>\n",
       "      <th>es</th>\n",
       "      <td>1359.285714</td>\n",
       "      <td>441.142857</td>\n",
       "      <td>8953.357143</td>\n",
       "    </tr>\n",
       "    <tr>\n",
       "      <th>fr</th>\n",
       "      <td>116.000000</td>\n",
       "      <td>122.000000</td>\n",
       "      <td>3174.000000</td>\n",
       "    </tr>\n",
       "    <tr>\n",
       "      <th>he</th>\n",
       "      <td>151.000000</td>\n",
       "      <td>284.000000</td>\n",
       "      <td>641.000000</td>\n",
       "    </tr>\n",
       "  </tbody>\n",
       "</table>\n",
       "</div>"
      ],
      "text/plain": [
       "              actor:followersCount  actor:friendsCount  actor:statusesCount\n",
       "twitter_lang                                                               \n",
       "ar                      458.000000          413.000000          1061.000000\n",
       "en                     1796.147059          582.735294         16364.352941\n",
       "es                     1359.285714          441.142857          8953.357143\n",
       "fr                      116.000000          122.000000          3174.000000\n",
       "he                      151.000000          284.000000           641.000000"
      ]
     },
     "execution_count": 34,
     "metadata": {},
     "output_type": "execute_result"
    }
   ],
   "source": [
    "populars_df = twit_df[twit_df['actor:followersCount']>100]\n",
    "\n",
    "populars_df.groupby('twitter_lang').sum()\n",
    "\n",
    "lang_summary = populars_df[['twitter_lang',\\\n",
    "             'gnip:klout_score',\\\n",
    "             'actor:followersCount',\\\n",
    "             'actor:friendsCount',\\\n",
    "             'actor:statusesCount']].groupby('twitter_lang')\n",
    "\n",
    "lang_summary.head(1)\n",
    "\n",
    "lang_summary.dtypes\n",
    "\n",
    "lang_summary_mean = lang_summary.aggregate(np.mean)\n",
    "lang_summary_mean.head(5)"
   ]
  },
  {
   "cell_type": "markdown",
   "metadata": {},
   "source": [
    "## 1b. Part 3: Plotting"
   ]
  },
  {
   "cell_type": "code",
   "execution_count": 36,
   "metadata": {},
   "outputs": [
    {
     "data": {
      "text/plain": [
       "actor:followersCount    15\n",
       "actor:friendsCount      15\n",
       "actor:statusesCount     15\n",
       "dtype: int64"
      ]
     },
     "execution_count": 36,
     "metadata": {},
     "output_type": "execute_result"
    }
   ],
   "source": [
    "lang_summary_mean.count()"
   ]
  },
  {
   "cell_type": "code",
   "execution_count": 39,
   "metadata": {},
   "outputs": [
    {
     "data": {
      "text/plain": [
       "<matplotlib.axes._subplots.AxesSubplot at 0x263e81c5ac8>"
      ]
     },
     "execution_count": 39,
     "metadata": {},
     "output_type": "execute_result"
    },
    {
     "data": {
      "image/png": "[encoded data removed]",
      "text/plain": [
       "<matplotlib.figure.Figure at 0x263e811ff60>"
      ]
     },
     "metadata": {},
     "output_type": "display_data"
    }
   ],
   "source": [
    "lang_summary_mean['actor:followersCount'].plot(kind='bar',color='g')"
   ]
  },
  {
   "cell_type": "code",
   "execution_count": 44,
   "metadata": {},
   "outputs": [
    {
     "data": {
      "text/plain": [
       "<matplotlib.collections.PathCollection at 0x263e8672c50>"
      ]
     },
     "execution_count": 44,
     "metadata": {},
     "output_type": "execute_result"
    },
    {
     "data": {
      "image/png": "[encoded data removed]",
      "text/plain": [
       "<matplotlib.figure.Figure at 0x263e7fe7048>"
      ]
     },
     "metadata": {},
     "output_type": "display_data"
    }
   ],
   "source": [
    "plt.scatter(x=lang_summary_mean['actor:followersCount'], y =lang_summary_mean['actor:friendsCount'], alpha=0.5,                  s=50,\\\n",
    "                    color='red',\n",
    "                    marker='o')"
   ]
  },
  {
   "cell_type": "code",
   "execution_count": 48,
   "metadata": {},
   "outputs": [
    {
     "data": {
      "text/plain": [
       "array([[<matplotlib.axes._subplots.AxesSubplot object at 0x00000263E9AA5AC8>,\n",
       "        <matplotlib.axes._subplots.AxesSubplot object at 0x00000263E9AF5F60>],\n",
       "       [<matplotlib.axes._subplots.AxesSubplot object at 0x00000263E9B2EA90>,\n",
       "        <matplotlib.axes._subplots.AxesSubplot object at 0x00000263E9B6A7F0>]], dtype=object)"
      ]
     },
     "execution_count": 48,
     "metadata": {},
     "output_type": "execute_result"
    },
    {
     "data": {
      "image/png": "[encoded data removed]",
      "text/plain": [
       "<matplotlib.figure.Figure at 0x263e9994ba8>"
      ]
     },
     "metadata": {},
     "output_type": "display_data"
    },
    {
     "data": {
      "image/png": "[encoded data removed]",
      "text/plain": [
       "<matplotlib.figure.Figure at 0x263e9994e80>"
      ]
     },
     "metadata": {},
     "output_type": "display_data"
    }
   ],
   "source": [
    "test_df = pd.DataFrame(np.random.randn(1000, 4), index=pd.date_range('1/1/2000', periods=1000), columns=list('ABCD'))\n",
    "test_df = test_df.cumsum()\n",
    "test_df.head()\n",
    "\n",
    "test_df.plot()\n",
    "test_df.hist()"
   ]
  },
  {
   "cell_type": "markdown",
   "metadata": {},
   "source": [
    "## 3. Visualizing the distribution of a dataset"
   ]
  },
  {
   "cell_type": "markdown",
   "metadata": {},
   "source": [
    "### 4. Plotting Univariate Distributions"
   ]
  },
  {
   "cell_type": "markdown",
   "metadata": {},
   "source": [
    "#### 4.a Histogram"
   ]
  },
  {
   "cell_type": "code",
   "execution_count": 3,
   "metadata": {},
   "outputs": [],
   "source": [
    "tips = sns.load_dataset('tips')"
   ]
  },
  {
   "cell_type": "code",
   "execution_count": 6,
   "metadata": {},
   "outputs": [
    {
     "data": {
      "text/html": [
       "<div>\n",
       "<style>\n",
       "    .dataframe thead tr:only-child th {\n",
       "        text-align: right;\n",
       "    }\n",
       "\n",
       "    .dataframe thead th {\n",
       "        text-align: left;\n",
       "    }\n",
       "\n",
       "    .dataframe tbody tr th {\n",
       "        vertical-align: top;\n",
       "    }\n",
       "</style>\n",
       "<table border=\"1\" class=\"dataframe\">\n",
       "  <thead>\n",
       "    <tr style=\"text-align: right;\">\n",
       "      <th></th>\n",
       "      <th>total_bill</th>\n",
       "      <th>tip</th>\n",
       "      <th>sex</th>\n",
       "      <th>smoker</th>\n",
       "      <th>day</th>\n",
       "      <th>time</th>\n",
       "      <th>size</th>\n",
       "    </tr>\n",
       "  </thead>\n",
       "  <tbody>\n",
       "    <tr>\n",
       "      <th>0</th>\n",
       "      <td>16.99</td>\n",
       "      <td>1.01</td>\n",
       "      <td>Female</td>\n",
       "      <td>No</td>\n",
       "      <td>Sun</td>\n",
       "      <td>Dinner</td>\n",
       "      <td>2</td>\n",
       "    </tr>\n",
       "    <tr>\n",
       "      <th>1</th>\n",
       "      <td>10.34</td>\n",
       "      <td>1.66</td>\n",
       "      <td>Male</td>\n",
       "      <td>No</td>\n",
       "      <td>Sun</td>\n",
       "      <td>Dinner</td>\n",
       "      <td>3</td>\n",
       "    </tr>\n",
       "    <tr>\n",
       "      <th>2</th>\n",
       "      <td>21.01</td>\n",
       "      <td>3.50</td>\n",
       "      <td>Male</td>\n",
       "      <td>No</td>\n",
       "      <td>Sun</td>\n",
       "      <td>Dinner</td>\n",
       "      <td>3</td>\n",
       "    </tr>\n",
       "    <tr>\n",
       "      <th>3</th>\n",
       "      <td>23.68</td>\n",
       "      <td>3.31</td>\n",
       "      <td>Male</td>\n",
       "      <td>No</td>\n",
       "      <td>Sun</td>\n",
       "      <td>Dinner</td>\n",
       "      <td>2</td>\n",
       "    </tr>\n",
       "    <tr>\n",
       "      <th>4</th>\n",
       "      <td>24.59</td>\n",
       "      <td>3.61</td>\n",
       "      <td>Female</td>\n",
       "      <td>No</td>\n",
       "      <td>Sun</td>\n",
       "      <td>Dinner</td>\n",
       "      <td>4</td>\n",
       "    </tr>\n",
       "  </tbody>\n",
       "</table>\n",
       "</div>"
      ],
      "text/plain": [
       "   total_bill   tip     sex smoker  day    time  size\n",
       "0       16.99  1.01  Female     No  Sun  Dinner     2\n",
       "1       10.34  1.66    Male     No  Sun  Dinner     3\n",
       "2       21.01  3.50    Male     No  Sun  Dinner     3\n",
       "3       23.68  3.31    Male     No  Sun  Dinner     2\n",
       "4       24.59  3.61  Female     No  Sun  Dinner     4"
      ]
     },
     "execution_count": 6,
     "metadata": {},
     "output_type": "execute_result"
    }
   ],
   "source": [
    "tips.head()"
   ]
  },
  {
   "cell_type": "code",
   "execution_count": 7,
   "metadata": {},
   "outputs": [
    {
     "data": {
      "text/plain": [
       "<matplotlib.axes._subplots.AxesSubplot at 0x15e5fe16ba8>"
      ]
     },
     "execution_count": 7,
     "metadata": {},
     "output_type": "execute_result"
    },
    {
     "data": {
      "image/png": "[encoded data removed]",
      "text/plain": [
       "<matplotlib.figure.Figure at 0x15e5fe08b38>"
      ]
     },
     "metadata": {},
     "output_type": "display_data"
    }
   ],
   "source": [
    "sns.distplot(tips['total_bill'], bins = 4, kde=False, rug=False)"
   ]
  },
  {
   "cell_type": "markdown",
   "metadata": {},
   "source": [
    "#### 4.b Kernel Density Estimation"
   ]
  },
  {
   "cell_type": "code",
   "execution_count": 8,
   "metadata": {},
   "outputs": [
    {
     "data": {
      "text/plain": [
       "<matplotlib.axes._subplots.AxesSubplot at 0x15e5fdb6fd0>"
      ]
     },
     "execution_count": 8,
     "metadata": {},
     "output_type": "execute_result"
    },
    {
     "data": {
      "image/png": "[encoded data removed]",
      "text/plain": [
       "<matplotlib.figure.Figure at 0x15e5ff4e0b8>"
      ]
     },
     "metadata": {},
     "output_type": "display_data"
    }
   ],
   "source": [
    "sns.distplot(tips['total_bill'], hist=False, rug=True)"
   ]
  },
  {
   "cell_type": "markdown",
   "metadata": {},
   "source": [
    "#### 4.c Rugplot"
   ]
  },
  {
   "cell_type": "code",
   "execution_count": 9,
   "metadata": {},
   "outputs": [
    {
     "data": {
      "text/plain": [
       "<matplotlib.axes._subplots.AxesSubplot at 0x15e604bc7f0>"
      ]
     },
     "execution_count": 9,
     "metadata": {},
     "output_type": "execute_result"
    },
    {
     "data": {
      "image/png": "[encoded data removed]",
      "text/plain": [
       "<matplotlib.figure.Figure at 0x15e5fdcae48>"
      ]
     },
     "metadata": {},
     "output_type": "display_data"
    }
   ],
   "source": [
    "sns.rugplot(tips['total_bill'])"
   ]
  },
  {
   "cell_type": "markdown",
   "metadata": {},
   "source": [
    "### 5. Plotting bivariate distributions"
   ]
  },
  {
   "cell_type": "markdown",
   "metadata": {},
   "source": [
    "#### 5a. Scatterplots"
   ]
  },
  {
   "cell_type": "code",
   "execution_count": 16,
   "metadata": {},
   "outputs": [
    {
     "data": {
      "text/plain": [
       "<seaborn.axisgrid.JointGrid at 0x15e60e6fe48>"
      ]
     },
     "execution_count": 16,
     "metadata": {},
     "output_type": "execute_result"
    },
    {
     "data": {
      "image/png": "[encoded data removed]",
      "text/plain": [
       "<matplotlib.figure.Figure at 0x15e60e6fcc0>"
      ]
     },
     "metadata": {},
     "output_type": "display_data"
    }
   ],
   "source": [
    "sns.jointplot(x='total_bill',y='tip',data=tips, kind='reg') #scatter plot is by default. Reg will draw a regression line"
   ]
  },
  {
   "cell_type": "markdown",
   "metadata": {},
   "source": [
    "#### 5b. Hexbin Plots"
   ]
  },
  {
   "cell_type": "code",
   "execution_count": 15,
   "metadata": {},
   "outputs": [
    {
     "data": {
      "text/plain": [
       "<seaborn.axisgrid.JointGrid at 0x15e60d17cf8>"
      ]
     },
     "execution_count": 15,
     "metadata": {},
     "output_type": "execute_result"
    },
    {
     "data": {
      "image/png": "[encoded data removed]",
      "text/plain": [
       "<matplotlib.figure.Figure at 0x15e60d17dd8>"
      ]
     },
     "metadata": {},
     "output_type": "display_data"
    }
   ],
   "source": [
    "sns.jointplot(x='total_bill',y='tip',data=tips, kind='hex') #scatter plot is by default"
   ]
  },
  {
   "cell_type": "markdown",
   "metadata": {},
   "source": [
    "#### 5c Kernel Density Estimation"
   ]
  },
  {
   "cell_type": "code",
   "execution_count": 17,
   "metadata": {},
   "outputs": [
    {
     "data": {
      "text/plain": [
       "<seaborn.axisgrid.JointGrid at 0x15e61f73588>"
      ]
     },
     "execution_count": 17,
     "metadata": {},
     "output_type": "execute_result"
    },
    {
     "data": {
      "image/png": "[encoded data removed]",
      "text/plain": [
       "<matplotlib.figure.Figure at 0x15e61f73a20>"
      ]
     },
     "metadata": {},
     "output_type": "display_data"
    }
   ],
   "source": [
    "sns.jointplot(x='total_bill',y='tip',data=tips, kind='kde')"
   ]
  },
  {
   "cell_type": "markdown",
   "metadata": {},
   "source": [
    "### 6. Visualizing pairwise relationships in a dataset"
   ]
  },
  {
   "cell_type": "code",
   "execution_count": 19,
   "metadata": {},
   "outputs": [
    {
     "data": {
      "text/plain": [
       "<seaborn.axisgrid.PairGrid at 0x15e626351d0>"
      ]
     },
     "execution_count": 19,
     "metadata": {},
     "output_type": "execute_result"
    },
    {
     "data": {
      "image/png": "[encoded data removed]",
      "text/plain": [
       "<matplotlib.figure.Figure at 0x15e62635550>"
      ]
     },
     "metadata": {},
     "output_type": "display_data"
    }
   ],
   "source": [
    "sns.pairplot(tips, hue='sex')"
   ]
  },
  {
   "cell_type": "markdown",
   "metadata": {
    "collapsed": true
   },
   "source": [
    "### 7. Visualizing linear relationships"
   ]
  },
  {
   "cell_type": "code",
   "execution_count": 20,
   "metadata": {},
   "outputs": [
    {
     "data": {
      "text/plain": [
       "<matplotlib.axes._subplots.AxesSubplot at 0x15e625dc908>"
      ]
     },
     "execution_count": 20,
     "metadata": {},
     "output_type": "execute_result"
    },
    {
     "data": {
      "image/png": "[encoded data removed]",
      "text/plain": [
       "<matplotlib.figure.Figure at 0x15e62e270b8>"
      ]
     },
     "metadata": {},
     "output_type": "display_data"
    }
   ],
   "source": [
    "sns.regplot(x='total_bill',y='tip',data=tips)"
   ]
  },
  {
   "cell_type": "code",
   "execution_count": 21,
   "metadata": {},
   "outputs": [
    {
     "data": {
      "text/html": [
       "<div>\n",
       "<style>\n",
       "    .dataframe thead tr:only-child th {\n",
       "        text-align: right;\n",
       "    }\n",
       "\n",
       "    .dataframe thead th {\n",
       "        text-align: left;\n",
       "    }\n",
       "\n",
       "    .dataframe tbody tr th {\n",
       "        vertical-align: top;\n",
       "    }\n",
       "</style>\n",
       "<table border=\"1\" class=\"dataframe\">\n",
       "  <thead>\n",
       "    <tr style=\"text-align: right;\">\n",
       "      <th></th>\n",
       "      <th>total_bill</th>\n",
       "      <th>tip</th>\n",
       "      <th>sex</th>\n",
       "      <th>smoker</th>\n",
       "      <th>day</th>\n",
       "      <th>time</th>\n",
       "      <th>size</th>\n",
       "    </tr>\n",
       "  </thead>\n",
       "  <tbody>\n",
       "    <tr>\n",
       "      <th>0</th>\n",
       "      <td>16.99</td>\n",
       "      <td>1.01</td>\n",
       "      <td>Female</td>\n",
       "      <td>No</td>\n",
       "      <td>Sun</td>\n",
       "      <td>Dinner</td>\n",
       "      <td>2</td>\n",
       "    </tr>\n",
       "    <tr>\n",
       "      <th>1</th>\n",
       "      <td>10.34</td>\n",
       "      <td>1.66</td>\n",
       "      <td>Male</td>\n",
       "      <td>No</td>\n",
       "      <td>Sun</td>\n",
       "      <td>Dinner</td>\n",
       "      <td>3</td>\n",
       "    </tr>\n",
       "    <tr>\n",
       "      <th>2</th>\n",
       "      <td>21.01</td>\n",
       "      <td>3.50</td>\n",
       "      <td>Male</td>\n",
       "      <td>No</td>\n",
       "      <td>Sun</td>\n",
       "      <td>Dinner</td>\n",
       "      <td>3</td>\n",
       "    </tr>\n",
       "    <tr>\n",
       "      <th>3</th>\n",
       "      <td>23.68</td>\n",
       "      <td>3.31</td>\n",
       "      <td>Male</td>\n",
       "      <td>No</td>\n",
       "      <td>Sun</td>\n",
       "      <td>Dinner</td>\n",
       "      <td>2</td>\n",
       "    </tr>\n",
       "    <tr>\n",
       "      <th>4</th>\n",
       "      <td>24.59</td>\n",
       "      <td>3.61</td>\n",
       "      <td>Female</td>\n",
       "      <td>No</td>\n",
       "      <td>Sun</td>\n",
       "      <td>Dinner</td>\n",
       "      <td>4</td>\n",
       "    </tr>\n",
       "  </tbody>\n",
       "</table>\n",
       "</div>"
      ],
      "text/plain": [
       "   total_bill   tip     sex smoker  day    time  size\n",
       "0       16.99  1.01  Female     No  Sun  Dinner     2\n",
       "1       10.34  1.66    Male     No  Sun  Dinner     3\n",
       "2       21.01  3.50    Male     No  Sun  Dinner     3\n",
       "3       23.68  3.31    Male     No  Sun  Dinner     2\n",
       "4       24.59  3.61  Female     No  Sun  Dinner     4"
      ]
     },
     "execution_count": 21,
     "metadata": {},
     "output_type": "execute_result"
    }
   ],
   "source": [
    "tips.head()"
   ]
  },
  {
   "cell_type": "code",
   "execution_count": 32,
   "metadata": {},
   "outputs": [
    {
     "data": {
      "text/plain": [
       "<matplotlib.axes._subplots.AxesSubplot at 0x15e60b15eb8>"
      ]
     },
     "execution_count": 32,
     "metadata": {},
     "output_type": "execute_result"
    },
    {
     "data": {
      "image/png": "[encoded data removed]",
      "text/plain": [
       "<matplotlib.figure.Figure at 0x15e60aaf048>"
      ]
     },
     "metadata": {},
     "output_type": "display_data"
    }
   ],
   "source": [
    "sns.regplot(x='size',y='tip',data=tips)"
   ]
  },
  {
   "cell_type": "code",
   "execution_count": 33,
   "metadata": {},
   "outputs": [
    {
     "data": {
      "text/plain": [
       "<seaborn.axisgrid.FacetGrid at 0x15e64099ef0>"
      ]
     },
     "execution_count": 33,
     "metadata": {},
     "output_type": "execute_result"
    },
    {
     "data": {
      "image/png": "[encoded data removed]",
      "text/plain": [
       "<matplotlib.figure.Figure at 0x15e64099390>"
      ]
     },
     "metadata": {},
     "output_type": "display_data"
    }
   ],
   "source": [
    "sns.lmplot(x=\"total_bill\", y=\"tip\", data=tips)"
   ]
  },
  {
   "cell_type": "code",
   "execution_count": 35,
   "metadata": {},
   "outputs": [
    {
     "data": {
      "image/png": "[encoded data removed]",
      "text/plain": [
       "<matplotlib.figure.Figure at 0x15e641ce198>"
      ]
     },
     "metadata": {},
     "output_type": "display_data"
    }
   ],
   "source": [
    "sns.lmplot(x=\"size\", y=\"tip\", hue='smoker', data=tips, x_jitter=.05);"
   ]
  },
  {
   "cell_type": "code",
   "execution_count": 37,
   "metadata": {},
   "outputs": [
    {
     "data": {
      "text/html": [
       "<div>\n",
       "<style>\n",
       "    .dataframe thead tr:only-child th {\n",
       "        text-align: right;\n",
       "    }\n",
       "\n",
       "    .dataframe thead th {\n",
       "        text-align: left;\n",
       "    }\n",
       "\n",
       "    .dataframe tbody tr th {\n",
       "        vertical-align: top;\n",
       "    }\n",
       "</style>\n",
       "<table border=\"1\" class=\"dataframe\">\n",
       "  <thead>\n",
       "    <tr style=\"text-align: right;\">\n",
       "      <th></th>\n",
       "      <th>total_bill</th>\n",
       "      <th>tip</th>\n",
       "      <th>sex</th>\n",
       "      <th>smoker</th>\n",
       "      <th>day</th>\n",
       "      <th>time</th>\n",
       "      <th>size</th>\n",
       "    </tr>\n",
       "  </thead>\n",
       "  <tbody>\n",
       "    <tr>\n",
       "      <th>0</th>\n",
       "      <td>16.99</td>\n",
       "      <td>1.01</td>\n",
       "      <td>Female</td>\n",
       "      <td>No</td>\n",
       "      <td>Sun</td>\n",
       "      <td>Dinner</td>\n",
       "      <td>2</td>\n",
       "    </tr>\n",
       "    <tr>\n",
       "      <th>1</th>\n",
       "      <td>10.34</td>\n",
       "      <td>1.66</td>\n",
       "      <td>Male</td>\n",
       "      <td>No</td>\n",
       "      <td>Sun</td>\n",
       "      <td>Dinner</td>\n",
       "      <td>3</td>\n",
       "    </tr>\n",
       "    <tr>\n",
       "      <th>2</th>\n",
       "      <td>21.01</td>\n",
       "      <td>3.50</td>\n",
       "      <td>Male</td>\n",
       "      <td>No</td>\n",
       "      <td>Sun</td>\n",
       "      <td>Dinner</td>\n",
       "      <td>3</td>\n",
       "    </tr>\n",
       "    <tr>\n",
       "      <th>3</th>\n",
       "      <td>23.68</td>\n",
       "      <td>3.31</td>\n",
       "      <td>Male</td>\n",
       "      <td>No</td>\n",
       "      <td>Sun</td>\n",
       "      <td>Dinner</td>\n",
       "      <td>2</td>\n",
       "    </tr>\n",
       "    <tr>\n",
       "      <th>4</th>\n",
       "      <td>24.59</td>\n",
       "      <td>3.61</td>\n",
       "      <td>Female</td>\n",
       "      <td>No</td>\n",
       "      <td>Sun</td>\n",
       "      <td>Dinner</td>\n",
       "      <td>4</td>\n",
       "    </tr>\n",
       "  </tbody>\n",
       "</table>\n",
       "</div>"
      ],
      "text/plain": [
       "   total_bill   tip     sex smoker  day    time  size\n",
       "0       16.99  1.01  Female     No  Sun  Dinner     2\n",
       "1       10.34  1.66    Male     No  Sun  Dinner     3\n",
       "2       21.01  3.50    Male     No  Sun  Dinner     3\n",
       "3       23.68  3.31    Male     No  Sun  Dinner     2\n",
       "4       24.59  3.61  Female     No  Sun  Dinner     4"
      ]
     },
     "execution_count": 37,
     "metadata": {},
     "output_type": "execute_result"
    }
   ],
   "source": [
    "tips.head()"
   ]
  },
  {
   "cell_type": "code",
   "execution_count": 38,
   "metadata": {},
   "outputs": [
    {
     "data": {
      "text/plain": [
       "<matplotlib.axes._subplots.AxesSubplot at 0x15e6420f240>"
      ]
     },
     "execution_count": 38,
     "metadata": {},
     "output_type": "execute_result"
    },
    {
     "data": {
      "image/png": "[encoded data removed]",
      "text/plain": [
       "<matplotlib.figure.Figure at 0x15e63048e80>"
      ]
     },
     "metadata": {},
     "output_type": "display_data"
    }
   ],
   "source": [
    "sns.barplot(x='sex',y='tip',data=tips)"
   ]
  },
  {
   "cell_type": "code",
   "execution_count": 39,
   "metadata": {},
   "outputs": [
    {
     "data": {
      "text/plain": [
       "<matplotlib.axes._subplots.AxesSubplot at 0x15e6429ba20>"
      ]
     },
     "execution_count": 39,
     "metadata": {},
     "output_type": "execute_result"
    },
    {
     "data": {
      "image/png": "[encoded data removed]",
      "text/plain": [
       "<matplotlib.figure.Figure at 0x15e642236d8>"
      ]
     },
     "metadata": {},
     "output_type": "display_data"
    }
   ],
   "source": [
    "sns.barplot(x='tip',y='sex',data=tips)"
   ]
  },
  {
   "cell_type": "code",
   "execution_count": 42,
   "metadata": {},
   "outputs": [
    {
     "data": {
      "text/plain": [
       "<matplotlib.axes._subplots.AxesSubplot at 0x15e6431bbe0>"
      ]
     },
     "execution_count": 42,
     "metadata": {},
     "output_type": "execute_result"
    },
    {
     "data": {
      "image/png": "[encoded data removed]",
      "text/plain": [
       "<matplotlib.figure.Figure at 0x15e643d8978>"
      ]
     },
     "metadata": {},
     "output_type": "display_data"
    }
   ],
   "source": [
    "sns.stripplot(x='tip',y='day',data=tips, hue='smoker')"
   ]
  },
  {
   "cell_type": "code",
   "execution_count": 44,
   "metadata": {},
   "outputs": [
    {
     "data": {
      "text/html": [
       "<div>\n",
       "<style>\n",
       "    .dataframe thead tr:only-child th {\n",
       "        text-align: right;\n",
       "    }\n",
       "\n",
       "    .dataframe thead th {\n",
       "        text-align: left;\n",
       "    }\n",
       "\n",
       "    .dataframe tbody tr th {\n",
       "        vertical-align: top;\n",
       "    }\n",
       "</style>\n",
       "<table border=\"1\" class=\"dataframe\">\n",
       "  <thead>\n",
       "    <tr style=\"text-align: right;\">\n",
       "      <th></th>\n",
       "      <th>total_bill</th>\n",
       "      <th>tip</th>\n",
       "      <th>sex</th>\n",
       "      <th>smoker</th>\n",
       "      <th>day</th>\n",
       "      <th>time</th>\n",
       "      <th>size</th>\n",
       "    </tr>\n",
       "  </thead>\n",
       "  <tbody>\n",
       "    <tr>\n",
       "      <th>0</th>\n",
       "      <td>16.99</td>\n",
       "      <td>1.01</td>\n",
       "      <td>Female</td>\n",
       "      <td>No</td>\n",
       "      <td>Sun</td>\n",
       "      <td>Dinner</td>\n",
       "      <td>2</td>\n",
       "    </tr>\n",
       "    <tr>\n",
       "      <th>1</th>\n",
       "      <td>10.34</td>\n",
       "      <td>1.66</td>\n",
       "      <td>Male</td>\n",
       "      <td>No</td>\n",
       "      <td>Sun</td>\n",
       "      <td>Dinner</td>\n",
       "      <td>3</td>\n",
       "    </tr>\n",
       "    <tr>\n",
       "      <th>2</th>\n",
       "      <td>21.01</td>\n",
       "      <td>3.50</td>\n",
       "      <td>Male</td>\n",
       "      <td>No</td>\n",
       "      <td>Sun</td>\n",
       "      <td>Dinner</td>\n",
       "      <td>3</td>\n",
       "    </tr>\n",
       "    <tr>\n",
       "      <th>3</th>\n",
       "      <td>23.68</td>\n",
       "      <td>3.31</td>\n",
       "      <td>Male</td>\n",
       "      <td>No</td>\n",
       "      <td>Sun</td>\n",
       "      <td>Dinner</td>\n",
       "      <td>2</td>\n",
       "    </tr>\n",
       "    <tr>\n",
       "      <th>4</th>\n",
       "      <td>24.59</td>\n",
       "      <td>3.61</td>\n",
       "      <td>Female</td>\n",
       "      <td>No</td>\n",
       "      <td>Sun</td>\n",
       "      <td>Dinner</td>\n",
       "      <td>4</td>\n",
       "    </tr>\n",
       "  </tbody>\n",
       "</table>\n",
       "</div>"
      ],
      "text/plain": [
       "   total_bill   tip     sex smoker  day    time  size\n",
       "0       16.99  1.01  Female     No  Sun  Dinner     2\n",
       "1       10.34  1.66    Male     No  Sun  Dinner     3\n",
       "2       21.01  3.50    Male     No  Sun  Dinner     3\n",
       "3       23.68  3.31    Male     No  Sun  Dinner     2\n",
       "4       24.59  3.61  Female     No  Sun  Dinner     4"
      ]
     },
     "execution_count": 44,
     "metadata": {},
     "output_type": "execute_result"
    }
   ],
   "source": [
    "tips.head()"
   ]
  },
  {
   "cell_type": "code",
   "execution_count": 45,
   "metadata": {
    "collapsed": true
   },
   "outputs": [],
   "source": [
    "tips['tip/total'] = tips['tip']/tips['total_bill']"
   ]
  },
  {
   "cell_type": "code",
   "execution_count": 46,
   "metadata": {},
   "outputs": [
    {
     "data": {
      "text/html": [
       "<div>\n",
       "<style>\n",
       "    .dataframe thead tr:only-child th {\n",
       "        text-align: right;\n",
       "    }\n",
       "\n",
       "    .dataframe thead th {\n",
       "        text-align: left;\n",
       "    }\n",
       "\n",
       "    .dataframe tbody tr th {\n",
       "        vertical-align: top;\n",
       "    }\n",
       "</style>\n",
       "<table border=\"1\" class=\"dataframe\">\n",
       "  <thead>\n",
       "    <tr style=\"text-align: right;\">\n",
       "      <th></th>\n",
       "      <th>total_bill</th>\n",
       "      <th>tip</th>\n",
       "      <th>sex</th>\n",
       "      <th>smoker</th>\n",
       "      <th>day</th>\n",
       "      <th>time</th>\n",
       "      <th>size</th>\n",
       "      <th>tip/total</th>\n",
       "    </tr>\n",
       "  </thead>\n",
       "  <tbody>\n",
       "    <tr>\n",
       "      <th>0</th>\n",
       "      <td>16.99</td>\n",
       "      <td>1.01</td>\n",
       "      <td>Female</td>\n",
       "      <td>No</td>\n",
       "      <td>Sun</td>\n",
       "      <td>Dinner</td>\n",
       "      <td>2</td>\n",
       "      <td>0.059447</td>\n",
       "    </tr>\n",
       "    <tr>\n",
       "      <th>1</th>\n",
       "      <td>10.34</td>\n",
       "      <td>1.66</td>\n",
       "      <td>Male</td>\n",
       "      <td>No</td>\n",
       "      <td>Sun</td>\n",
       "      <td>Dinner</td>\n",
       "      <td>3</td>\n",
       "      <td>0.160542</td>\n",
       "    </tr>\n",
       "    <tr>\n",
       "      <th>2</th>\n",
       "      <td>21.01</td>\n",
       "      <td>3.50</td>\n",
       "      <td>Male</td>\n",
       "      <td>No</td>\n",
       "      <td>Sun</td>\n",
       "      <td>Dinner</td>\n",
       "      <td>3</td>\n",
       "      <td>0.166587</td>\n",
       "    </tr>\n",
       "    <tr>\n",
       "      <th>3</th>\n",
       "      <td>23.68</td>\n",
       "      <td>3.31</td>\n",
       "      <td>Male</td>\n",
       "      <td>No</td>\n",
       "      <td>Sun</td>\n",
       "      <td>Dinner</td>\n",
       "      <td>2</td>\n",
       "      <td>0.139780</td>\n",
       "    </tr>\n",
       "    <tr>\n",
       "      <th>4</th>\n",
       "      <td>24.59</td>\n",
       "      <td>3.61</td>\n",
       "      <td>Female</td>\n",
       "      <td>No</td>\n",
       "      <td>Sun</td>\n",
       "      <td>Dinner</td>\n",
       "      <td>4</td>\n",
       "      <td>0.146808</td>\n",
       "    </tr>\n",
       "  </tbody>\n",
       "</table>\n",
       "</div>"
      ],
      "text/plain": [
       "   total_bill   tip     sex smoker  day    time  size  tip/total\n",
       "0       16.99  1.01  Female     No  Sun  Dinner     2   0.059447\n",
       "1       10.34  1.66    Male     No  Sun  Dinner     3   0.160542\n",
       "2       21.01  3.50    Male     No  Sun  Dinner     3   0.166587\n",
       "3       23.68  3.31    Male     No  Sun  Dinner     2   0.139780\n",
       "4       24.59  3.61  Female     No  Sun  Dinner     4   0.146808"
      ]
     },
     "execution_count": 46,
     "metadata": {},
     "output_type": "execute_result"
    }
   ],
   "source": [
    "tips.head()"
   ]
  },
  {
   "cell_type": "code",
   "execution_count": 49,
   "metadata": {},
   "outputs": [
    {
     "data": {
      "text/plain": [
       "<matplotlib.axes._subplots.AxesSubplot at 0x15e64561828>"
      ]
     },
     "execution_count": 49,
     "metadata": {},
     "output_type": "execute_result"
    },
    {
     "data": {
      "image/png": "[encoded data removed]",
      "text/plain": [
       "<matplotlib.figure.Figure at 0x15e6455d9e8>"
      ]
     },
     "metadata": {},
     "output_type": "display_data"
    }
   ],
   "source": [
    "#This will give you the plot based on Tip%. Are customers more generous on certain days? ;)\n",
    "sns.stripplot(x='tip/total',y='day',data=tips, hue='smoker')"
   ]
  },
  {
   "cell_type": "code",
   "execution_count": 51,
   "metadata": {},
   "outputs": [
    {
     "data": {
      "text/plain": [
       "<matplotlib.axes._subplots.AxesSubplot at 0x15e64536fd0>"
      ]
     },
     "execution_count": 51,
     "metadata": {},
     "output_type": "execute_result"
    },
    {
     "data": {
      "image/png": "[encoded data removed]",
      "text/plain": [
       "<matplotlib.figure.Figure at 0x15e6453f630>"
      ]
     },
     "metadata": {},
     "output_type": "display_data"
    }
   ],
   "source": [
    "#This will give you the plot based on Tip%. Are customers more generous on certain days? ;)\n",
    "sns.stripplot(x='tip/total',y='day',data=tips, hue='sex')"
   ]
  },
  {
   "cell_type": "code",
   "execution_count": 55,
   "metadata": {},
   "outputs": [
    {
     "data": {
      "text/plain": [
       "<matplotlib.axes._subplots.AxesSubplot at 0x15e65728978>"
      ]
     },
     "execution_count": 55,
     "metadata": {},
     "output_type": "execute_result"
    },
    {
     "data": {
      "image/png": "[encoded data removed]",
      "text/plain": [
       "<matplotlib.figure.Figure at 0x15e645446a0>"
      ]
     },
     "metadata": {},
     "output_type": "display_data"
    }
   ],
   "source": [
    "#Are customers more generous during lunch or dinner.\n",
    "sns.stripplot(x='tip/total',y='time',data=tips)"
   ]
  },
  {
   "cell_type": "code",
   "execution_count": 52,
   "metadata": {},
   "outputs": [
    {
     "data": {
      "image/png": "[encoded data removed]",
      "text/plain": [
       "<matplotlib.figure.Figure at 0x15e64470518>"
      ]
     },
     "metadata": {},
     "output_type": "display_data"
    }
   ],
   "source": [
    "sns.swarmplot(x=\"day\", y=\"tip/total\", hue=\"sex\", data=tips);"
   ]
  },
  {
   "cell_type": "code",
   "execution_count": 60,
   "metadata": {},
   "outputs": [
    {
     "data": {
      "text/plain": [
       "<matplotlib.axes._subplots.AxesSubplot at 0x15e6594a438>"
      ]
     },
     "execution_count": 60,
     "metadata": {},
     "output_type": "execute_result"
    },
    {
     "data": {
      "image/png": "[encoded data removed]",
      "text/plain": [
       "<matplotlib.figure.Figure at 0x15e6595f438>"
      ]
     },
     "metadata": {},
     "output_type": "display_data"
    }
   ],
   "source": [
    "sns.boxplot(x=\"day\", y=\"tip/total\", data=tips,hue='smoker')"
   ]
  },
  {
   "cell_type": "code",
   "execution_count": 61,
   "metadata": {},
   "outputs": [
    {
     "data": {
      "text/html": [
       "<div>\n",
       "<style>\n",
       "    .dataframe thead tr:only-child th {\n",
       "        text-align: right;\n",
       "    }\n",
       "\n",
       "    .dataframe thead th {\n",
       "        text-align: left;\n",
       "    }\n",
       "\n",
       "    .dataframe tbody tr th {\n",
       "        vertical-align: top;\n",
       "    }\n",
       "</style>\n",
       "<table border=\"1\" class=\"dataframe\">\n",
       "  <thead>\n",
       "    <tr style=\"text-align: right;\">\n",
       "      <th></th>\n",
       "      <th>total_bill</th>\n",
       "      <th>tip</th>\n",
       "      <th>sex</th>\n",
       "      <th>smoker</th>\n",
       "      <th>day</th>\n",
       "      <th>time</th>\n",
       "      <th>size</th>\n",
       "      <th>tip/total</th>\n",
       "    </tr>\n",
       "  </thead>\n",
       "  <tbody>\n",
       "    <tr>\n",
       "      <th>0</th>\n",
       "      <td>16.99</td>\n",
       "      <td>1.01</td>\n",
       "      <td>Female</td>\n",
       "      <td>No</td>\n",
       "      <td>Sun</td>\n",
       "      <td>Dinner</td>\n",
       "      <td>2</td>\n",
       "      <td>0.059447</td>\n",
       "    </tr>\n",
       "    <tr>\n",
       "      <th>1</th>\n",
       "      <td>10.34</td>\n",
       "      <td>1.66</td>\n",
       "      <td>Male</td>\n",
       "      <td>No</td>\n",
       "      <td>Sun</td>\n",
       "      <td>Dinner</td>\n",
       "      <td>3</td>\n",
       "      <td>0.160542</td>\n",
       "    </tr>\n",
       "    <tr>\n",
       "      <th>2</th>\n",
       "      <td>21.01</td>\n",
       "      <td>3.50</td>\n",
       "      <td>Male</td>\n",
       "      <td>No</td>\n",
       "      <td>Sun</td>\n",
       "      <td>Dinner</td>\n",
       "      <td>3</td>\n",
       "      <td>0.166587</td>\n",
       "    </tr>\n",
       "    <tr>\n",
       "      <th>3</th>\n",
       "      <td>23.68</td>\n",
       "      <td>3.31</td>\n",
       "      <td>Male</td>\n",
       "      <td>No</td>\n",
       "      <td>Sun</td>\n",
       "      <td>Dinner</td>\n",
       "      <td>2</td>\n",
       "      <td>0.139780</td>\n",
       "    </tr>\n",
       "    <tr>\n",
       "      <th>4</th>\n",
       "      <td>24.59</td>\n",
       "      <td>3.61</td>\n",
       "      <td>Female</td>\n",
       "      <td>No</td>\n",
       "      <td>Sun</td>\n",
       "      <td>Dinner</td>\n",
       "      <td>4</td>\n",
       "      <td>0.146808</td>\n",
       "    </tr>\n",
       "  </tbody>\n",
       "</table>\n",
       "</div>"
      ],
      "text/plain": [
       "   total_bill   tip     sex smoker  day    time  size  tip/total\n",
       "0       16.99  1.01  Female     No  Sun  Dinner     2   0.059447\n",
       "1       10.34  1.66    Male     No  Sun  Dinner     3   0.160542\n",
       "2       21.01  3.50    Male     No  Sun  Dinner     3   0.166587\n",
       "3       23.68  3.31    Male     No  Sun  Dinner     2   0.139780\n",
       "4       24.59  3.61  Female     No  Sun  Dinner     4   0.146808"
      ]
     },
     "execution_count": 61,
     "metadata": {},
     "output_type": "execute_result"
    }
   ],
   "source": [
    "tips.head()"
   ]
  },
  {
   "cell_type": "code",
   "execution_count": 66,
   "metadata": {},
   "outputs": [],
   "source": [
    "tips['weekend'] = (tips['day']=='Sun') | (tips['day']=='Sat')"
   ]
  },
  {
   "cell_type": "code",
   "execution_count": 69,
   "metadata": {},
   "outputs": [],
   "source": [
    "tips.to_csv('tips_v1.csv')"
   ]
  },
  {
   "cell_type": "code",
   "execution_count": 70,
   "metadata": {},
   "outputs": [
    {
     "data": {
      "text/html": [
       "<div>\n",
       "<style>\n",
       "    .dataframe thead tr:only-child th {\n",
       "        text-align: right;\n",
       "    }\n",
       "\n",
       "    .dataframe thead th {\n",
       "        text-align: left;\n",
       "    }\n",
       "\n",
       "    .dataframe tbody tr th {\n",
       "        vertical-align: top;\n",
       "    }\n",
       "</style>\n",
       "<table border=\"1\" class=\"dataframe\">\n",
       "  <thead>\n",
       "    <tr style=\"text-align: right;\">\n",
       "      <th></th>\n",
       "      <th>total_bill</th>\n",
       "      <th>tip</th>\n",
       "      <th>sex</th>\n",
       "      <th>smoker</th>\n",
       "      <th>day</th>\n",
       "      <th>time</th>\n",
       "      <th>size</th>\n",
       "      <th>tip/total</th>\n",
       "      <th>weekend</th>\n",
       "    </tr>\n",
       "  </thead>\n",
       "  <tbody>\n",
       "    <tr>\n",
       "      <th>0</th>\n",
       "      <td>16.99</td>\n",
       "      <td>1.01</td>\n",
       "      <td>Female</td>\n",
       "      <td>No</td>\n",
       "      <td>Sun</td>\n",
       "      <td>Dinner</td>\n",
       "      <td>2</td>\n",
       "      <td>0.059447</td>\n",
       "      <td>True</td>\n",
       "    </tr>\n",
       "    <tr>\n",
       "      <th>1</th>\n",
       "      <td>10.34</td>\n",
       "      <td>1.66</td>\n",
       "      <td>Male</td>\n",
       "      <td>No</td>\n",
       "      <td>Sun</td>\n",
       "      <td>Dinner</td>\n",
       "      <td>3</td>\n",
       "      <td>0.160542</td>\n",
       "      <td>True</td>\n",
       "    </tr>\n",
       "    <tr>\n",
       "      <th>2</th>\n",
       "      <td>21.01</td>\n",
       "      <td>3.50</td>\n",
       "      <td>Male</td>\n",
       "      <td>No</td>\n",
       "      <td>Sun</td>\n",
       "      <td>Dinner</td>\n",
       "      <td>3</td>\n",
       "      <td>0.166587</td>\n",
       "      <td>True</td>\n",
       "    </tr>\n",
       "    <tr>\n",
       "      <th>3</th>\n",
       "      <td>23.68</td>\n",
       "      <td>3.31</td>\n",
       "      <td>Male</td>\n",
       "      <td>No</td>\n",
       "      <td>Sun</td>\n",
       "      <td>Dinner</td>\n",
       "      <td>2</td>\n",
       "      <td>0.139780</td>\n",
       "      <td>True</td>\n",
       "    </tr>\n",
       "    <tr>\n",
       "      <th>4</th>\n",
       "      <td>24.59</td>\n",
       "      <td>3.61</td>\n",
       "      <td>Female</td>\n",
       "      <td>No</td>\n",
       "      <td>Sun</td>\n",
       "      <td>Dinner</td>\n",
       "      <td>4</td>\n",
       "      <td>0.146808</td>\n",
       "      <td>True</td>\n",
       "    </tr>\n",
       "  </tbody>\n",
       "</table>\n",
       "</div>"
      ],
      "text/plain": [
       "   total_bill   tip     sex smoker  day    time  size  tip/total  weekend\n",
       "0       16.99  1.01  Female     No  Sun  Dinner     2   0.059447     True\n",
       "1       10.34  1.66    Male     No  Sun  Dinner     3   0.160542     True\n",
       "2       21.01  3.50    Male     No  Sun  Dinner     3   0.166587     True\n",
       "3       23.68  3.31    Male     No  Sun  Dinner     2   0.139780     True\n",
       "4       24.59  3.61  Female     No  Sun  Dinner     4   0.146808     True"
      ]
     },
     "execution_count": 70,
     "metadata": {},
     "output_type": "execute_result"
    }
   ],
   "source": [
    "tips.head()"
   ]
  },
  {
   "cell_type": "code",
   "execution_count": 71,
   "metadata": {},
   "outputs": [
    {
     "data": {
      "text/plain": [
       "<matplotlib.axes._subplots.AxesSubplot at 0x15e641863c8>"
      ]
     },
     "execution_count": 71,
     "metadata": {},
     "output_type": "execute_result"
    },
    {
     "data": {
      "image/png": "[encoded data removed]",
      "text/plain": [
       "<matplotlib.figure.Figure at 0x15e658a6e48>"
      ]
     },
     "metadata": {},
     "output_type": "display_data"
    }
   ],
   "source": [
    "sns.boxplot(x=\"time\", y=\"tip/total\", data=tips,hue='weekend')"
   ]
  },
  {
   "cell_type": "code",
   "execution_count": null,
   "metadata": {
    "collapsed": true
   },
   "outputs": [],
   "source": []
  }
 ],
 "metadata": {
  "kernelspec": {
   "display_name": "Python 3",
   "language": "python",
   "name": "python3"
  },
  "language_info": {
   "codemirror_mode": {
    "name": "ipython",
    "version": 3
   },
   "file_extension": ".py",
   "mimetype": "text/x-python",
   "name": "python",
   "nbconvert_exporter": "python",
   "pygments_lexer": "ipython3",
   "version": "3.6.3"
  }
 },
 "nbformat": 4,
 "nbformat_minor": 2
}
