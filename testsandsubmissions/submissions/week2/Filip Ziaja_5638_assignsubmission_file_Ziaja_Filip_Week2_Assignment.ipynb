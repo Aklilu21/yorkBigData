{
 "cells": [
  {
   "cell_type": "markdown",
   "metadata": {},
   "source": [
    "# Week 1"
   ]
  },
  {
   "cell_type": "markdown",
   "metadata": {
    "collapsed": true
   },
   "source": [
    "# Assigning Variables"
   ]
  },
  {
   "cell_type": "code",
   "execution_count": 2,
   "metadata": {},
   "outputs": [
    {
     "name": "stdout",
     "output_type": "stream",
     "text": [
      "24 R+L=J\n"
     ]
    }
   ],
   "source": [
    "num1 = 13\n",
    "num2 = 11\n",
    "text1 = 'R+L=J'\n",
    "\n",
    "print num1+num2, text1"
   ]
  },
  {
   "cell_type": "code",
   "execution_count": 3,
   "metadata": {},
   "outputs": [
    {
     "name": "stdout",
     "output_type": "stream",
     "text": [
      "19 19\n"
     ]
    }
   ],
   "source": [
    "num1 = num2 = 19\n",
    "print num1, num2"
   ]
  },
  {
   "cell_type": "markdown",
   "metadata": {},
   "source": [
    "# Comparison & Math Functions"
   ]
  },
  {
   "cell_type": "code",
   "execution_count": 22,
   "metadata": {},
   "outputs": [
    {
     "name": "stdout",
     "output_type": "stream",
     "text": [
      "Help on class int in module __builtin__:\n",
      "\n",
      "class int(object)\n",
      " |  int(x=0) -> int or long\n",
      " |  int(x, base=10) -> int or long\n",
      " |  \n",
      " |  Convert a number or string to an integer, or return 0 if no arguments\n",
      " |  are given.  If x is floating point, the conversion truncates towards zero.\n",
      " |  If x is outside the integer range, the function returns a long instead.\n",
      " |  \n",
      " |  If x is not a number or if base is given, then x must be a string or\n",
      " |  Unicode object representing an integer literal in the given base.  The\n",
      " |  literal can be preceded by '+' or '-' and be surrounded by whitespace.\n",
      " |  The base defaults to 10.  Valid bases are 0 and 2-36.  Base 0 means to\n",
      " |  interpret the base from the string as an integer literal.\n",
      " |  >>> int('0b100', base=0)\n",
      " |  4\n",
      " |  \n",
      " |  Methods defined here:\n",
      " |  \n",
      " |  __abs__(...)\n",
      " |      x.__abs__() <==> abs(x)\n",
      " |  \n",
      " |  __add__(...)\n",
      " |      x.__add__(y) <==> x+y\n",
      " |  \n",
      " |  __and__(...)\n",
      " |      x.__and__(y) <==> x&y\n",
      " |  \n",
      " |  __cmp__(...)\n",
      " |      x.__cmp__(y) <==> cmp(x,y)\n",
      " |  \n",
      " |  __coerce__(...)\n",
      " |      x.__coerce__(y) <==> coerce(x, y)\n",
      " |  \n",
      " |  __div__(...)\n",
      " |      x.__div__(y) <==> x/y\n",
      " |  \n",
      " |  __divmod__(...)\n",
      " |      x.__divmod__(y) <==> divmod(x, y)\n",
      " |  \n",
      " |  __float__(...)\n",
      " |      x.__float__() <==> float(x)\n",
      " |  \n",
      " |  __floordiv__(...)\n",
      " |      x.__floordiv__(y) <==> x//y\n",
      " |  \n",
      " |  __format__(...)\n",
      " |  \n",
      " |  __getattribute__(...)\n",
      " |      x.__getattribute__('name') <==> x.name\n",
      " |  \n",
      " |  __getnewargs__(...)\n",
      " |  \n",
      " |  __hash__(...)\n",
      " |      x.__hash__() <==> hash(x)\n",
      " |  \n",
      " |  __hex__(...)\n",
      " |      x.__hex__() <==> hex(x)\n",
      " |  \n",
      " |  __index__(...)\n",
      " |      x[y:z] <==> x[y.__index__():z.__index__()]\n",
      " |  \n",
      " |  __int__(...)\n",
      " |      x.__int__() <==> int(x)\n",
      " |  \n",
      " |  __invert__(...)\n",
      " |      x.__invert__() <==> ~x\n",
      " |  \n",
      " |  __long__(...)\n",
      " |      x.__long__() <==> long(x)\n",
      " |  \n",
      " |  __lshift__(...)\n",
      " |      x.__lshift__(y) <==> x<<y\n",
      " |  \n",
      " |  __mod__(...)\n",
      " |      x.__mod__(y) <==> x%y\n",
      " |  \n",
      " |  __mul__(...)\n",
      " |      x.__mul__(y) <==> x*y\n",
      " |  \n",
      " |  __neg__(...)\n",
      " |      x.__neg__() <==> -x\n",
      " |  \n",
      " |  __nonzero__(...)\n",
      " |      x.__nonzero__() <==> x != 0\n",
      " |  \n",
      " |  __oct__(...)\n",
      " |      x.__oct__() <==> oct(x)\n",
      " |  \n",
      " |  __or__(...)\n",
      " |      x.__or__(y) <==> x|y\n",
      " |  \n",
      " |  __pos__(...)\n",
      " |      x.__pos__() <==> +x\n",
      " |  \n",
      " |  __pow__(...)\n",
      " |      x.__pow__(y[, z]) <==> pow(x, y[, z])\n",
      " |  \n",
      " |  __radd__(...)\n",
      " |      x.__radd__(y) <==> y+x\n",
      " |  \n",
      " |  __rand__(...)\n",
      " |      x.__rand__(y) <==> y&x\n",
      " |  \n",
      " |  __rdiv__(...)\n",
      " |      x.__rdiv__(y) <==> y/x\n",
      " |  \n",
      " |  __rdivmod__(...)\n",
      " |      x.__rdivmod__(y) <==> divmod(y, x)\n",
      " |  \n",
      " |  __repr__(...)\n",
      " |      x.__repr__() <==> repr(x)\n",
      " |  \n",
      " |  __rfloordiv__(...)\n",
      " |      x.__rfloordiv__(y) <==> y//x\n",
      " |  \n",
      " |  __rlshift__(...)\n",
      " |      x.__rlshift__(y) <==> y<<x\n",
      " |  \n",
      " |  __rmod__(...)\n",
      " |      x.__rmod__(y) <==> y%x\n",
      " |  \n",
      " |  __rmul__(...)\n",
      " |      x.__rmul__(y) <==> y*x\n",
      " |  \n",
      " |  __ror__(...)\n",
      " |      x.__ror__(y) <==> y|x\n",
      " |  \n",
      " |  __rpow__(...)\n",
      " |      y.__rpow__(x[, z]) <==> pow(x, y[, z])\n",
      " |  \n",
      " |  __rrshift__(...)\n",
      " |      x.__rrshift__(y) <==> y>>x\n",
      " |  \n",
      " |  __rshift__(...)\n",
      " |      x.__rshift__(y) <==> x>>y\n",
      " |  \n",
      " |  __rsub__(...)\n",
      " |      x.__rsub__(y) <==> y-x\n",
      " |  \n",
      " |  __rtruediv__(...)\n",
      " |      x.__rtruediv__(y) <==> y/x\n",
      " |  \n",
      " |  __rxor__(...)\n",
      " |      x.__rxor__(y) <==> y^x\n",
      " |  \n",
      " |  __str__(...)\n",
      " |      x.__str__() <==> str(x)\n",
      " |  \n",
      " |  __sub__(...)\n",
      " |      x.__sub__(y) <==> x-y\n",
      " |  \n",
      " |  __truediv__(...)\n",
      " |      x.__truediv__(y) <==> x/y\n",
      " |  \n",
      " |  __trunc__(...)\n",
      " |      Truncating an Integral returns itself.\n",
      " |  \n",
      " |  __xor__(...)\n",
      " |      x.__xor__(y) <==> x^y\n",
      " |  \n",
      " |  bit_length(...)\n",
      " |      int.bit_length() -> int\n",
      " |      \n",
      " |      Number of bits necessary to represent self in binary.\n",
      " |      >>> bin(37)\n",
      " |      '0b100101'\n",
      " |      >>> (37).bit_length()\n",
      " |      6\n",
      " |  \n",
      " |  conjugate(...)\n",
      " |      Returns self, the complex conjugate of any int.\n",
      " |  \n",
      " |  ----------------------------------------------------------------------\n",
      " |  Data descriptors defined here:\n",
      " |  \n",
      " |  denominator\n",
      " |      the denominator of a rational number in lowest terms\n",
      " |  \n",
      " |  imag\n",
      " |      the imaginary part of a complex number\n",
      " |  \n",
      " |  numerator\n",
      " |      the numerator of a rational number in lowest terms\n",
      " |  \n",
      " |  real\n",
      " |      the real part of a complex number\n",
      " |  \n",
      " |  ----------------------------------------------------------------------\n",
      " |  Data and other attributes defined here:\n",
      " |  \n",
      " |  __new__ = <built-in method __new__ of type object>\n",
      " |      T.__new__(S, ...) -> a new object with type S, a subtype of T\n",
      "\n",
      "Help on class str in module __builtin__:\n",
      "\n",
      "class str(basestring)\n",
      " |  str(object='') -> string\n",
      " |  \n",
      " |  Return a nice string representation of the object.\n",
      " |  If the argument is a string, the return value is the same object.\n",
      " |  \n",
      " |  Method resolution order:\n",
      " |      str\n",
      " |      basestring\n",
      " |      object\n",
      " |  \n",
      " |  Methods defined here:\n",
      " |  \n",
      " |  __add__(...)\n",
      " |      x.__add__(y) <==> x+y\n",
      " |  \n",
      " |  __contains__(...)\n",
      " |      x.__contains__(y) <==> y in x\n",
      " |  \n",
      " |  __eq__(...)\n",
      " |      x.__eq__(y) <==> x==y\n",
      " |  \n",
      " |  __format__(...)\n",
      " |      S.__format__(format_spec) -> string\n",
      " |      \n",
      " |      Return a formatted version of S as described by format_spec.\n",
      " |  \n",
      " |  __ge__(...)\n",
      " |      x.__ge__(y) <==> x>=y\n",
      " |  \n",
      " |  __getattribute__(...)\n",
      " |      x.__getattribute__('name') <==> x.name\n",
      " |  \n",
      " |  __getitem__(...)\n",
      " |      x.__getitem__(y) <==> x[y]\n",
      " |  \n",
      " |  __getnewargs__(...)\n",
      " |  \n",
      " |  __getslice__(...)\n",
      " |      x.__getslice__(i, j) <==> x[i:j]\n",
      " |      \n",
      " |      Use of negative indices is not supported.\n",
      " |  \n",
      " |  __gt__(...)\n",
      " |      x.__gt__(y) <==> x>y\n",
      " |  \n",
      " |  __hash__(...)\n",
      " |      x.__hash__() <==> hash(x)\n",
      " |  \n",
      " |  __le__(...)\n",
      " |      x.__le__(y) <==> x<=y\n",
      " |  \n",
      " |  __len__(...)\n",
      " |      x.__len__() <==> len(x)\n",
      " |  \n",
      " |  __lt__(...)\n",
      " |      x.__lt__(y) <==> x<y\n",
      " |  \n",
      " |  __mod__(...)\n",
      " |      x.__mod__(y) <==> x%y\n",
      " |  \n",
      " |  __mul__(...)\n",
      " |      x.__mul__(n) <==> x*n\n",
      " |  \n",
      " |  __ne__(...)\n",
      " |      x.__ne__(y) <==> x!=y\n",
      " |  \n",
      " |  __repr__(...)\n",
      " |      x.__repr__() <==> repr(x)\n",
      " |  \n",
      " |  __rmod__(...)\n",
      " |      x.__rmod__(y) <==> y%x\n",
      " |  \n",
      " |  __rmul__(...)\n",
      " |      x.__rmul__(n) <==> n*x\n",
      " |  \n",
      " |  __sizeof__(...)\n",
      " |      S.__sizeof__() -> size of S in memory, in bytes\n",
      " |  \n",
      " |  __str__(...)\n",
      " |      x.__str__() <==> str(x)\n",
      " |  \n",
      " |  capitalize(...)\n",
      " |      S.capitalize() -> string\n",
      " |      \n",
      " |      Return a copy of the string S with only its first character\n",
      " |      capitalized.\n",
      " |  \n",
      " |  center(...)\n",
      " |      S.center(width[, fillchar]) -> string\n",
      " |      \n",
      " |      Return S centered in a string of length width. Padding is\n",
      " |      done using the specified fill character (default is a space)\n",
      " |  \n",
      " |  count(...)\n",
      " |      S.count(sub[, start[, end]]) -> int\n",
      " |      \n",
      " |      Return the number of non-overlapping occurrences of substring sub in\n",
      " |      string S[start:end].  Optional arguments start and end are interpreted\n",
      " |      as in slice notation.\n",
      " |  \n",
      " |  decode(...)\n",
      " |      S.decode([encoding[,errors]]) -> object\n",
      " |      \n",
      " |      Decodes S using the codec registered for encoding. encoding defaults\n",
      " |      to the default encoding. errors may be given to set a different error\n",
      " |      handling scheme. Default is 'strict' meaning that encoding errors raise\n",
      " |      a UnicodeDecodeError. Other possible values are 'ignore' and 'replace'\n",
      " |      as well as any other name registered with codecs.register_error that is\n",
      " |      able to handle UnicodeDecodeErrors.\n",
      " |  \n",
      " |  encode(...)\n",
      " |      S.encode([encoding[,errors]]) -> object\n",
      " |      \n",
      " |      Encodes S using the codec registered for encoding. encoding defaults\n",
      " |      to the default encoding. errors may be given to set a different error\n",
      " |      handling scheme. Default is 'strict' meaning that encoding errors raise\n",
      " |      a UnicodeEncodeError. Other possible values are 'ignore', 'replace' and\n",
      " |      'xmlcharrefreplace' as well as any other name registered with\n",
      " |      codecs.register_error that is able to handle UnicodeEncodeErrors.\n",
      " |  \n",
      " |  endswith(...)\n",
      " |      S.endswith(suffix[, start[, end]]) -> bool\n",
      " |      \n",
      " |      Return True if S ends with the specified suffix, False otherwise.\n",
      " |      With optional start, test S beginning at that position.\n",
      " |      With optional end, stop comparing S at that position.\n",
      " |      suffix can also be a tuple of strings to try.\n",
      " |  \n",
      " |  expandtabs(...)\n",
      " |      S.expandtabs([tabsize]) -> string\n",
      " |      \n",
      " |      Return a copy of S where all tab characters are expanded using spaces.\n",
      " |      If tabsize is not given, a tab size of 8 characters is assumed.\n",
      " |  \n",
      " |  find(...)\n",
      " |      S.find(sub [,start [,end]]) -> int\n",
      " |      \n",
      " |      Return the lowest index in S where substring sub is found,\n",
      " |      such that sub is contained within S[start:end].  Optional\n",
      " |      arguments start and end are interpreted as in slice notation.\n",
      " |      \n",
      " |      Return -1 on failure.\n",
      " |  \n",
      " |  format(...)\n",
      " |      S.format(*args, **kwargs) -> string\n",
      " |      \n",
      " |      Return a formatted version of S, using substitutions from args and kwargs.\n",
      " |      The substitutions are identified by braces ('{' and '}').\n",
      " |  \n",
      " |  index(...)\n",
      " |      S.index(sub [,start [,end]]) -> int\n",
      " |      \n",
      " |      Like S.find() but raise ValueError when the substring is not found.\n",
      " |  \n",
      " |  isalnum(...)\n",
      " |      S.isalnum() -> bool\n",
      " |      \n",
      " |      Return True if all characters in S are alphanumeric\n",
      " |      and there is at least one character in S, False otherwise.\n",
      " |  \n",
      " |  isalpha(...)\n",
      " |      S.isalpha() -> bool\n",
      " |      \n",
      " |      Return True if all characters in S are alphabetic\n",
      " |      and there is at least one character in S, False otherwise.\n",
      " |  \n",
      " |  isdigit(...)\n",
      " |      S.isdigit() -> bool\n",
      " |      \n",
      " |      Return True if all characters in S are digits\n",
      " |      and there is at least one character in S, False otherwise.\n",
      " |  \n",
      " |  islower(...)\n",
      " |      S.islower() -> bool\n",
      " |      \n",
      " |      Return True if all cased characters in S are lowercase and there is\n",
      " |      at least one cased character in S, False otherwise.\n",
      " |  \n",
      " |  isspace(...)\n",
      " |      S.isspace() -> bool\n",
      " |      \n",
      " |      Return True if all characters in S are whitespace\n",
      " |      and there is at least one character in S, False otherwise.\n",
      " |  \n",
      " |  istitle(...)\n",
      " |      S.istitle() -> bool\n",
      " |      \n",
      " |      Return True if S is a titlecased string and there is at least one\n",
      " |      character in S, i.e. uppercase characters may only follow uncased\n",
      " |      characters and lowercase characters only cased ones. Return False\n",
      " |      otherwise.\n",
      " |  \n",
      " |  isupper(...)\n",
      " |      S.isupper() -> bool\n",
      " |      \n",
      " |      Return True if all cased characters in S are uppercase and there is\n",
      " |      at least one cased character in S, False otherwise.\n",
      " |  \n",
      " |  join(...)\n",
      " |      S.join(iterable) -> string\n",
      " |      \n",
      " |      Return a string which is the concatenation of the strings in the\n",
      " |      iterable.  The separator between elements is S.\n",
      " |  \n",
      " |  ljust(...)\n",
      " |      S.ljust(width[, fillchar]) -> string\n",
      " |      \n",
      " |      Return S left-justified in a string of length width. Padding is\n",
      " |      done using the specified fill character (default is a space).\n",
      " |  \n",
      " |  lower(...)\n",
      " |      S.lower() -> string\n",
      " |      \n",
      " |      Return a copy of the string S converted to lowercase.\n",
      " |  \n",
      " |  lstrip(...)\n",
      " |      S.lstrip([chars]) -> string or unicode\n",
      " |      \n",
      " |      Return a copy of the string S with leading whitespace removed.\n",
      " |      If chars is given and not None, remove characters in chars instead.\n",
      " |      If chars is unicode, S will be converted to unicode before stripping\n",
      " |  \n",
      " |  partition(...)\n",
      " |      S.partition(sep) -> (head, sep, tail)\n",
      " |      \n",
      " |      Search for the separator sep in S, and return the part before it,\n",
      " |      the separator itself, and the part after it.  If the separator is not\n",
      " |      found, return S and two empty strings.\n",
      " |  \n",
      " |  replace(...)\n",
      " |      S.replace(old, new[, count]) -> string\n",
      " |      \n",
      " |      Return a copy of string S with all occurrences of substring\n",
      " |      old replaced by new.  If the optional argument count is\n",
      " |      given, only the first count occurrences are replaced.\n",
      " |  \n",
      " |  rfind(...)\n",
      " |      S.rfind(sub [,start [,end]]) -> int\n",
      " |      \n",
      " |      Return the highest index in S where substring sub is found,\n",
      " |      such that sub is contained within S[start:end].  Optional\n",
      " |      arguments start and end are interpreted as in slice notation.\n",
      " |      \n",
      " |      Return -1 on failure.\n",
      " |  \n",
      " |  rindex(...)\n",
      " |      S.rindex(sub [,start [,end]]) -> int\n",
      " |      \n",
      " |      Like S.rfind() but raise ValueError when the substring is not found.\n",
      " |  \n",
      " |  rjust(...)\n",
      " |      S.rjust(width[, fillchar]) -> string\n",
      " |      \n",
      " |      Return S right-justified in a string of length width. Padding is\n",
      " |      done using the specified fill character (default is a space)\n",
      " |  \n",
      " |  rpartition(...)\n",
      " |      S.rpartition(sep) -> (head, sep, tail)\n",
      " |      \n",
      " |      Search for the separator sep in S, starting at the end of S, and return\n",
      " |      the part before it, the separator itself, and the part after it.  If the\n",
      " |      separator is not found, return two empty strings and S.\n",
      " |  \n",
      " |  rsplit(...)\n",
      " |      S.rsplit([sep [,maxsplit]]) -> list of strings\n",
      " |      \n",
      " |      Return a list of the words in the string S, using sep as the\n",
      " |      delimiter string, starting at the end of the string and working\n",
      " |      to the front.  If maxsplit is given, at most maxsplit splits are\n",
      " |      done. If sep is not specified or is None, any whitespace string\n",
      " |      is a separator.\n",
      " |  \n",
      " |  rstrip(...)\n",
      " |      S.rstrip([chars]) -> string or unicode\n",
      " |      \n",
      " |      Return a copy of the string S with trailing whitespace removed.\n",
      " |      If chars is given and not None, remove characters in chars instead.\n",
      " |      If chars is unicode, S will be converted to unicode before stripping\n",
      " |  \n",
      " |  split(...)\n",
      " |      S.split([sep [,maxsplit]]) -> list of strings\n",
      " |      \n",
      " |      Return a list of the words in the string S, using sep as the\n",
      " |      delimiter string.  If maxsplit is given, at most maxsplit\n",
      " |      splits are done. If sep is not specified or is None, any\n",
      " |      whitespace string is a separator and empty strings are removed\n",
      " |      from the result.\n",
      " |  \n",
      " |  splitlines(...)\n",
      " |      S.splitlines(keepends=False) -> list of strings\n",
      " |      \n",
      " |      Return a list of the lines in S, breaking at line boundaries.\n",
      " |      Line breaks are not included in the resulting list unless keepends\n",
      " |      is given and true.\n",
      " |  \n",
      " |  startswith(...)\n",
      " |      S.startswith(prefix[, start[, end]]) -> bool\n",
      " |      \n",
      " |      Return True if S starts with the specified prefix, False otherwise.\n",
      " |      With optional start, test S beginning at that position.\n",
      " |      With optional end, stop comparing S at that position.\n",
      " |      prefix can also be a tuple of strings to try.\n",
      " |  \n",
      " |  strip(...)\n",
      " |      S.strip([chars]) -> string or unicode\n",
      " |      \n",
      " |      Return a copy of the string S with leading and trailing\n",
      " |      whitespace removed.\n",
      " |      If chars is given and not None, remove characters in chars instead.\n",
      " |      If chars is unicode, S will be converted to unicode before stripping\n",
      " |  \n",
      " |  swapcase(...)\n",
      " |      S.swapcase() -> string\n",
      " |      \n",
      " |      Return a copy of the string S with uppercase characters\n",
      " |      converted to lowercase and vice versa.\n",
      " |  \n",
      " |  title(...)\n",
      " |      S.title() -> string\n",
      " |      \n",
      " |      Return a titlecased version of S, i.e. words start with uppercase\n",
      " |      characters, all remaining cased characters have lowercase.\n",
      " |  \n",
      " |  translate(...)\n",
      " |      S.translate(table [,deletechars]) -> string\n",
      " |      \n",
      " |      Return a copy of the string S, where all characters occurring\n",
      " |      in the optional argument deletechars are removed, and the\n",
      " |      remaining characters have been mapped through the given\n",
      " |      translation table, which must be a string of length 256 or None.\n",
      " |      If the table argument is None, no translation is applied and\n",
      " |      the operation simply removes the characters in deletechars.\n",
      " |  \n",
      " |  upper(...)\n",
      " |      S.upper() -> string\n",
      " |      \n",
      " |      Return a copy of the string S converted to uppercase.\n",
      " |  \n",
      " |  zfill(...)\n",
      " |      S.zfill(width) -> string\n",
      " |      \n",
      " |      Pad a numeric string S with zeros on the left, to fill a field\n",
      " |      of the specified width.  The string S is never truncated.\n",
      " |  \n",
      " |  ----------------------------------------------------------------------\n",
      " |  Data and other attributes defined here:\n",
      " |  \n",
      " |  __new__ = <built-in method __new__ of type object>\n",
      " |      T.__new__(S, ...) -> a new object with type S, a subtype of T\n",
      "\n"
     ]
    }
   ],
   "source": [
    "help(int)\n",
    "help(str)"
   ]
  },
  {
   "cell_type": "code",
   "execution_count": 4,
   "metadata": {},
   "outputs": [
    {
     "name": "stdout",
     "output_type": "stream",
     "text": [
      "101\n",
      "-13\n",
      "20\n",
      "1\n",
      "1.16666666667\n",
      "2\n"
     ]
    }
   ],
   "source": [
    "print 99+2\n",
    "print 14-27\n",
    "print 4*5\n",
    "print 7/6\n",
    "print 7.0/6\n",
    "print 23 % 7\n",
    "print 14.6//5.0"
   ]
  },
  {
   "cell_type": "code",
   "execution_count": 5,
   "metadata": {},
   "outputs": [
    {
     "name": "stdout",
     "output_type": "stream",
     "text": [
      "True\n",
      "False\n"
     ]
    }
   ],
   "source": [
    "number = 76\n",
    "print number == 76\n",
    "print number > 100"
   ]
  },
  {
   "cell_type": "markdown",
   "metadata": {},
   "source": [
    "# Native Python Functions"
   ]
  },
  {
   "cell_type": "code",
   "execution_count": 6,
   "metadata": {},
   "outputs": [
    {
     "name": "stdout",
     "output_type": "stream",
     "text": [
      "30\n",
      "247\n",
      "10\n"
     ]
    }
   ],
   "source": [
    "print int('110',5)\n",
    "print int('0xf7',16)\n",
    "print int('101',3)"
   ]
  },
  {
   "cell_type": "code",
   "execution_count": 8,
   "metadata": {},
   "outputs": [
    {
     "name": "stdout",
     "output_type": "stream",
     "text": [
      "3\n",
      "3\n",
      "1.0\n",
      "15243.0\n",
      "0b1100100\n",
      "0xc8\n"
     ]
    }
   ],
   "source": [
    "print int(3.8)\n",
    "print int('3')\n",
    "print float(1)\n",
    "print float(15243)\n",
    "print bin(100)\n",
    "print hex(200)"
   ]
  },
  {
   "cell_type": "code",
   "execution_count": 9,
   "metadata": {},
   "outputs": [
    {
     "name": "stdout",
     "output_type": "stream",
     "text": [
      "o\n",
      "110\n"
     ]
    }
   ],
   "source": [
    "print chr(111)\n",
    "print ord('n')"
   ]
  },
  {
   "cell_type": "code",
   "execution_count": 10,
   "metadata": {},
   "outputs": [
    {
     "name": "stdout",
     "output_type": "stream",
     "text": [
      "10.0\n",
      "10.299\n"
     ]
    }
   ],
   "source": [
    "print round(9.8) \n",
    "print round(10.2986, 3)"
   ]
  },
  {
   "cell_type": "code",
   "execution_count": 11,
   "metadata": {},
   "outputs": [
    {
     "name": "stdout",
     "output_type": "stream",
     "text": [
      "10.0\n"
     ]
    }
   ],
   "source": [
    "comp1 =complex('6+8j')\n",
    "print abs(comp1)"
   ]
  },
  {
   "cell_type": "code",
   "execution_count": 12,
   "metadata": {},
   "outputs": [
    {
     "name": "stdout",
     "output_type": "stream",
     "text": [
      "False\n",
      "True\n",
      "True\n",
      "True\n"
     ]
    }
   ],
   "source": [
    "print isinstance(5, float)\n",
    "print isinstance(5.0, float)\n",
    "print isinstance(5,(int,float))\n",
    "print isinstance(5.0,(int,float))"
   ]
  },
  {
   "cell_type": "code",
   "execution_count": 13,
   "metadata": {},
   "outputs": [
    {
     "name": "stdout",
     "output_type": "stream",
     "text": [
      "1\n",
      "-1\n",
      "0\n"
     ]
    }
   ],
   "source": [
    "print cmp(110,109)\n",
    "print cmp(11,13)\n",
    "print cmp(7,7)"
   ]
  },
  {
   "cell_type": "code",
   "execution_count": 14,
   "metadata": {},
   "outputs": [
    {
     "name": "stdout",
     "output_type": "stream",
     "text": [
      "625\n",
      "25\n"
     ]
    }
   ],
   "source": [
    "print pow(5,4)\n",
    "print pow(5,4,100)"
   ]
  },
  {
   "cell_type": "code",
   "execution_count": 16,
   "metadata": {},
   "outputs": [
    {
     "name": "stdout",
     "output_type": "stream",
     "text": [
      "[0, 1, 2, 3, 4, 5, 6]\n",
      "[7, 8, 9, 10, 11, 12, 13, 14, 15, 16]\n",
      "[17, 31, 45, 59, 73, 87, 101]\n"
     ]
    }
   ],
   "source": [
    "print range(7)\n",
    "print range(7,17)\n",
    "print range(17,107,14)"
   ]
  },
  {
   "cell_type": "markdown",
   "metadata": {},
   "source": [
    "### Strings"
   ]
  },
  {
   "cell_type": "code",
   "execution_count": 23,
   "metadata": {},
   "outputs": [
    {
     "name": "stdout",
     "output_type": "stream",
     "text": [
      "Apples & Oranges\n",
      "Cherry\n",
      "My name is Filip\n",
      "\n",
      "I am studying Data Science.\n"
     ]
    }
   ],
   "source": [
    "print \"Strawberries & Kiwis\"\n",
    "print 'Cherry'\n",
    "print \"\"\"My name is Filip\n",
    "\n",
    "I am studying Data Science.\"\"\""
   ]
  },
  {
   "cell_type": "code",
   "execution_count": 30,
   "metadata": {},
   "outputs": [
    {
     "name": "stdout",
     "output_type": "stream",
     "text": [
      "Strawberries & Kiwis\n",
      "Strawberries & Kiwis\n",
      "Strawberries&Kiwis\n",
      "Strawberries & Kiwis\n",
      "Strawberries & Kiwis\n"
     ]
    }
   ],
   "source": [
    "string1 = 'Kiwis'\n",
    "print 'Strawberries &', string1\n",
    "\n",
    "string2 = '&'\n",
    "print 'Strawberries', string2, string1\n",
    "\n",
    "print 'Strawberries' + string2 + string1\n",
    "print \"Strawberries & %s\" % string1\n",
    "\n",
    "print \"Strawberries %s %s\" %(string2,string1)"
   ]
  },
  {
   "cell_type": "code",
   "execution_count": 26,
   "metadata": {},
   "outputs": [
    {
     "name": "stdout",
     "output_type": "stream",
     "text": [
      "Actual Number = 250\n",
      "Float of the number = 250.000000\n",
      "Octal equivalent of the number = 372\n",
      "Hexadecimal equivalent of the number = fa\n",
      "Exponential equivalent of the number = 2.500000e+02\n"
     ]
    }
   ],
   "source": [
    "print \"Actual Number = %d\" %250\n",
    "print \"Float of the number = %f\" %250\n",
    "print \"Octal equivalent of the number = %o\" %250\n",
    "print \"Hexadecimal equivalent of the number = %x\" %250\n",
    "print \"Exponential equivalent of the number = %e\" %250"
   ]
  },
  {
   "cell_type": "code",
   "execution_count": 33,
   "metadata": {},
   "outputs": [
    {
     "name": "stdout",
     "output_type": "stream",
     "text": [
      "25 Strawberries and 4 Kiwis\n",
      "4321_4321_4321_4321_4321_4321_4321_4321_4321_4321_\n",
      "Mon\n",
      "Tue\n",
      "Wed\n",
      "Thu\n",
      "Fri\n",
      "Sat\n",
      "Sun\n",
      "I want to print a backslash: \\.\n",
      "\n",
      "Recipe:\n",
      "\t- Hull and slice strawberries\n",
      "\t- Peel and slice kiwis\n",
      "\t- Mix\n",
      "\t- Eat\n",
      "\n"
     ]
    }
   ],
   "source": [
    "print \"%d Strawberries %s %d Kiwis\" % (25,'and', 4)\n",
    "print '4321_'*10\n",
    "print \"Mon\\nTue\\nWed\\nThu\\nFri\\nSat\\nSun\"\n",
    "print \"I want to print a backslash: \\\\.\"\n",
    "print \"\"\"\n",
    "Recipe:\n",
    "\\t- Hull and slice strawberries\n",
    "\\t- Peel and slice kiwis\n",
    "\\t- Mix\n",
    "\\t- Eat\n",
    "\"\"\""
   ]
  },
  {
   "cell_type": "markdown",
   "metadata": {},
   "source": [
    "# Looping Over and Working with Lists"
   ]
  },
  {
   "cell_type": "code",
   "execution_count": 34,
   "metadata": {},
   "outputs": [
    {
     "name": "stdout",
     "output_type": "stream",
     "text": [
      "<type 'list'>\n"
     ]
    }
   ],
   "source": [
    "emptyList = []\n",
    "print type(emptyList)"
   ]
  },
  {
   "cell_type": "code",
   "execution_count": 35,
   "metadata": {},
   "outputs": [
    {
     "name": "stdout",
     "output_type": "stream",
     "text": [
      "Cherry\n",
      "Kiwi\n",
      "[['Strawberry', 'Kiwi', 'Cherry'], ['Bell Pepper', 'Radish', 'Cucumber', 'Tomato']]\n",
      "['Bell Pepper', 'Radish', 'Cucumber', 'Tomato']\n",
      "Bell Pepper\n",
      "Bell Pepper\n"
     ]
    }
   ],
   "source": [
    "fruits = ['Strawberry', 'Kiwi', 'Cherry']\n",
    "print fruits[2]\n",
    "print fruits[-2]\n",
    "vegetables = ['Bell Pepper','Radish', 'Cucumber', 'Tomato']\n",
    "produce  = [fruits, vegetables]\n",
    "print produce\n",
    "\n",
    "produce2 = produce[1]\n",
    "print produce2\n",
    "\n",
    "print produce2[0]\n",
    "print produce[1][0]"
   ]
  },
  {
   "cell_type": "code",
   "execution_count": 36,
   "metadata": {},
   "outputs": [
    {
     "name": "stdout",
     "output_type": "stream",
     "text": [
      "[2, 3, 5, 7, 11, 13, 17]\n",
      "[29, 31, 37, 41, 43, 47]\n",
      "[2, 5, 11, 17, 23, 31, 41]\n",
      "15\n",
      "2\n",
      "47\n"
     ]
    }
   ],
   "source": [
    "primes = [2, 3, 5, 7, 11, 13, 17, 19, 23, 29, 31, 37, 41, 43, 47]\n",
    "print primes[0:7]\n",
    "print primes[9:]\n",
    "print primes[:13:2]\n",
    "print len(primes)\n",
    "print min(primes)\n",
    "print max(primes)"
   ]
  },
  {
   "cell_type": "code",
   "execution_count": 40,
   "metadata": {},
   "outputs": [
    {
     "name": "stdout",
     "output_type": "stream",
     "text": [
      "['Emerald', 'Ruby', 'Sapphire', 'Diamond']\n",
      "False\n",
      "True\n",
      "Sapphire\n",
      "Diamond\n",
      "Sapphire\n",
      "Ruby\n"
     ]
    }
   ],
   "source": [
    "Gems = ['Emerald','Ruby','Sapphire'] + ['Diamond']\n",
    "print Gems\n",
    "print 'Fire' in Gems\n",
    "print 'Diamond' in Gems\n",
    "mlist = ['bzaa','ds','nc','az','z','klm']\n",
    "print max(Gems)\n",
    "print min(Gems)\n",
    "print max(Gems, key=len)\n",
    "print min(Gems, key=len)"
   ]
  },
  {
   "cell_type": "code",
   "execution_count": 42,
   "metadata": {},
   "outputs": [
    {
     "name": "stdout",
     "output_type": "stream",
     "text": [
      "['d', 'i', 'a', 'm', 'o', 'n', 'd', 's']\n",
      "['d', 'i', 'a', 'm', 'o', 'n', 'd', 's', [' ', 's', 'p', 'a', 'r', 'k', 'l', 'e']]\n",
      "['d', 'i', 'a', 'm', 'o', 'n', 'd', 's', [' ', 's', 'p', 'a', 'r', 'k', 'l', 'e'], ' ', 's', 'p', 'a', 'r', 'k', 'l', 'e']\n",
      "['d', 'i', 'a', 'm', 'o', 'n', 'd', 's', 'shimmer and', [' ', 's', 'p', 'a', 'r', 'k', 'l', 'e'], ' ', 's', 'p', 'a', 'r', 'k', 'l', 'e']\n",
      "['d', 'i', 'a', 'm', 'o', 'n', 'd', 's', 'refract light and', [' ', 's', 'p', 'a', 'r', 'k', 'l', 'e'], ' ', 's', 'p', 'a', 'r', 'k', 'l', 'e']\n",
      "e\n",
      "d\n",
      "None\n",
      "['i', 'a', 'm', 'o', 'n', 'd', 'refract light and', [' ', 's', 'p', 'a', 'r', 'k', 'l', 'e'], ' ', 's', 'p', 'a', 'r', 'k', 'l']\n",
      "['i', 'm', 'o', 'n', 'd', 'refract light and', [' ', 's', 'p', 'a', 'r', 'k', 'l', 'e'], ' ', 's', 'p', 'a', 'r', 'k', 'l']\n",
      "['l', 'k', 'r', 'a', 'p', 's', ' ', [' ', 's', 'p', 'a', 'r', 'k', 'l', 'e'], 'refract light and', 'd', 'n', 'o', 'm', 'i']\n",
      "[[' ', 's', 'p', 'a', 'r', 'k', 'l', 'e'], ' ', 'a', 'd', 'i', 'k', 'l', 'm', 'n', 'o', 'p', 'r', 'refract light and', 's']\n",
      "['s', 'refract light and', 'r', 'p', 'o', 'n', 'm', 'l', 'k', 'i', 'd', 'a', ' ', [' ', 's', 'p', 'a', 'r', 'k', 'l', 'e']]\n",
      "['refract light and', [' ', 's', 'p', 'a', 'r', 'k', 'l', 'e'], 's', 'r', 'p', 'o', 'n', 'm', 'l', 'k', 'i', 'd', 'a', ' ']\n"
     ]
    }
   ],
   "source": [
    "diamondChars = list('diamond')\n",
    "diamondChars.append('s')\n",
    "print diamondChars\n",
    "diamondChars.count('d')\n",
    "\n",
    "sparkleChars = [' ', 's','p','a','r','k','l','e']\n",
    "diamondChars.append(sparkleChars)\n",
    "print diamondChars\n",
    "diamondChars.extend(sparkleChars)\n",
    "print diamondChars\n",
    "diamondChars.index('e')\n",
    "diamondChars.insert(8, 'shimmer and')\n",
    "print diamondChars\n",
    "diamondChars[8] = 'refract light and'\n",
    "print diamondChars\n",
    "print diamondChars.pop()\n",
    "print diamondChars.pop(0)\n",
    "print diamondChars.remove('s')\n",
    "print diamondChars\n",
    "del diamondChars[1]\n",
    "print diamondChars\n",
    "diamondChars.reverse()\n",
    "print diamondChars\n",
    "diamondChars.sort()\n",
    "print diamondChars\n",
    "diamondChars.sort(reverse=True)\n",
    "print diamondChars\n",
    "diamondChars.sort(key=len,reverse=True)\n",
    "print diamondChars"
   ]
  },
  {
   "cell_type": "code",
   "execution_count": 58,
   "metadata": {},
   "outputs": [
    {
     "name": "stdout",
     "output_type": "stream",
     "text": [
      "Copying lists by reference\n",
      "[2, 10, 4, 8, 6]\n",
      "[2, 10, 4, 8]\n",
      "[2, 10, 4, 8, 100]\n",
      "[2, 10, 4, 8, 100]\n",
      "\n",
      "Copying lists by value\n",
      "[2, 10, 4, 8, 6]\n",
      "[2, 10, 4, 8]\n",
      "[2, 10, 4, 8, 100]\n",
      "[2, 10, 4, 8, 6]\n"
     ]
    }
   ],
   "source": [
    "print('Copying lists by reference')\n",
    "numberList1 = [2, 10, 4, 8, 6]\n",
    "numberList2 = numberList1\n",
    "print numberList2\n",
    "numberList1.pop()\n",
    "print numberList1\n",
    "numberList1.append(100)\n",
    "print numberList1\n",
    "print numberList2\n",
    "\n",
    "print('\\nCopying lists by value')\n",
    "numberList1 = [2, 10, 4, 8, 6]\n",
    "numberList2 = numberList1[:]\n",
    "print numberList2\n",
    "numberList1.pop()\n",
    "print numberList1\n",
    "numberList1.append(100)\n",
    "print numberList1\n",
    "print numberList2"
   ]
  },
  {
   "cell_type": "markdown",
   "metadata": {},
   "source": [
    "### Tuples"
   ]
  },
  {
   "cell_type": "code",
   "execution_count": 59,
   "metadata": {},
   "outputs": [
    {
     "name": "stdout",
     "output_type": "stream",
     "text": [
      "(5, 12)\n",
      "<type 'tuple'>\n"
     ]
    }
   ],
   "source": [
    "div137by25 = divmod(137,25)\n",
    "print div137by25\n",
    "print type(div137by25)"
   ]
  },
  {
   "cell_type": "code",
   "execution_count": 7,
   "metadata": {},
   "outputs": [
    {
     "name": "stdout",
     "output_type": "stream",
     "text": [
      "37 \n",
      "\n",
      "(37, 37, 37, 37, 37, 37, 37)\n",
      "(2, 3, 5, 7)\n",
      "('s', 't', 'r', 'a', 'w', 'b', 'e', 'r', 'r', 'y')\n",
      "e\n",
      "('b', 'e', 'r', 'r', 'y')\n",
      "Jack Queen King\n",
      "Filip Ziaja\n",
      "3\n",
      "1\n"
     ]
    }
   ],
   "source": [
    "tuple1 = ()\n",
    "\n",
    "print 37,\n",
    "print('\\n')\n",
    "print 7*(37,)\n",
    "tuple2 = (2,3,5,7)\n",
    "print tuple2\n",
    "tuple3 = ('s', 't', 'r', 'a', 'w', 'b', 'e', 'r', 'r', 'y')\n",
    "print tuple3\n",
    "print tuple3[6]\n",
    "tuple4 = tuple3[5:]\n",
    "print tuple4\n",
    "(j, q, k)= ('Jack','Queen','King')\n",
    "print j,q,k\n",
    "fz = ('Filip Ziaja')\n",
    "print fz\n",
    "print fz.count('i')\n",
    "print fz.index('i')"
   ]
  },
  {
   "cell_type": "markdown",
   "metadata": {},
   "source": [
    "### Sets"
   ]
  },
  {
   "cell_type": "code",
   "execution_count": 70,
   "metadata": {},
   "outputs": [
    {
     "name": "stdout",
     "output_type": "stream",
     "text": [
      "<type 'set'>\n",
      "Number set\n",
      "set([1, 2, 3, 4, 5])\n",
      "Number set union Prime set\n",
      "set([1, 2, 3, 4, 5, 7])\n",
      "Number set - add 0\n",
      "set([0, 1, 2, 3, 4, 5])\n",
      "Number set intersection Prime set\n",
      "set([2, 3, 5])\n",
      "Number set difference Prime set\n",
      "set([0, 1, 4])\n",
      "Number set symmetric difference Prime set\n",
      "set([0, 1, 4, 7])\n",
      "Number set is subset of Prime set\n",
      "False\n",
      "Number set is disjoint from Prime set\n",
      "False\n",
      "Number set is superset of Prime set\n",
      "False\n",
      "Number set - pop\n",
      "set([1, 2, 3, 4, 5])\n",
      "Number set - remove 2\n",
      "set([1, 3, 4, 5])\n",
      "Number set - clear\n",
      "set([])\n"
     ]
    }
   ],
   "source": [
    "emptySet = set()\n",
    "print type(emptySet)\n",
    "numberSet = set([1,2,2,3,3,4,5])\n",
    "print('Number set')\n",
    "print numberSet\n",
    "primeSet = set([2,3,5,7])\n",
    "print ('Number set union Prime set')\n",
    "print numberSet.union(primeSet)\n",
    "print('Number set - add 0')\n",
    "numberSet.add(0)\n",
    "print numberSet\n",
    "print('Number set intersection Prime set')\n",
    "print numberSet.intersection(primeSet)\n",
    "print('Number set difference Prime set')\n",
    "print numberSet.difference(primeSet)\n",
    "print('Number set symmetric difference Prime set')\n",
    "print primeSet.symmetric_difference(numberSet)\n",
    "print('Number set is subset of Prime set')\n",
    "print numberSet.issubset(primeSet)\n",
    "print('Number set is disjoint from Prime set')\n",
    "print primeSet.isdisjoint(numberSet)\n",
    "print('Number set is superset of Prime set')\n",
    "print primeSet.issuperset(numberSet)\n",
    "print('Number set - pop')\n",
    "numberSet.pop()\n",
    "print numberSet\n",
    "print('Number set - remove 2')\n",
    "numberSet.remove(2)\n",
    "print numberSet\n",
    "print('Number set - clear')\n",
    "numberSet.clear()\n",
    "print numberSet\n"
   ]
  },
  {
   "cell_type": "markdown",
   "metadata": {},
   "source": [
    "### Control Flow"
   ]
  },
  {
   "cell_type": "code",
   "execution_count": 44,
   "metadata": {},
   "outputs": [
    {
     "name": "stdout",
     "output_type": "stream",
     "text": [
      "number1 (1) is less than 25\n",
      "\n",
      "number2 (189) is less than or equal to 250\n",
      "\n",
      "101 > 2 * 37\n",
      "\n",
      "54 < 2 * 37\n",
      "\n",
      "74 = 2 * 37\n"
     ]
    }
   ],
   "source": [
    "number1 = 1\n",
    "if number1 < 25:\n",
    "    print \"number1 (%d) is less than 25\" %number1\n",
    "    \n",
    "print('')\n",
    "    \n",
    "number2 = 189\n",
    "if number2 > 250:\n",
    "    print \"number2 (%d) is greater than 250\" %number2\n",
    "else:\n",
    "    print \"number2 (%d) is less than or equal to 250\" %number2\n",
    "    \n",
    "print('')\n",
    "    \n",
    "p1x = 101\n",
    "p1y = 37\n",
    "\n",
    "if p1x > 2 * p1y:\n",
    "    print \"%d > 2 * %d\" % (p1x, p1y)\n",
    "elif p1x < 2 * p1y:\n",
    "    print \"%d < 2 * %d\" % (p1x, p1y)\n",
    "else:\n",
    "    print \"%d = 2 * %d\" % (p1x, p1y)\n",
    "    \n",
    "print('')\n",
    "    \n",
    "p1x = 54\n",
    "p1y = 37\n",
    "\n",
    "if p1x > 2 * p1y:\n",
    "    print \"%d > 2 * %d\" % (p1x, p1y)\n",
    "elif p1x < 2 * p1y:\n",
    "    print \"%d < 2 * %d\" % (p1x, p1y)\n",
    "else:\n",
    "    print \"%d = 2 * %d\" % (p1x, p1y)\n",
    "    \n",
    "print('')\n",
    "    \n",
    "p1x = 74\n",
    "p1y = 37\n",
    "\n",
    "if p1x > 2 * p1y:\n",
    "    print \"%d > 2 * %d\" % (p1x, p1y)\n",
    "elif p1x < 2 * p1y:\n",
    "    print \"%d < 2 * %d\" % (p1x, p1y)\n",
    "else:\n",
    "    print \"%d = 2 * %d\" % (p1x, p1y)"
   ]
  },
  {
   "cell_type": "markdown",
   "metadata": {},
   "source": [
    "### Loops"
   ]
  },
  {
   "cell_type": "code",
   "execution_count": 48,
   "metadata": {},
   "outputs": [
    {
     "name": "stdout",
     "output_type": "stream",
     "text": [
      "0\n",
      "1\n",
      "2\n",
      "3\n",
      "4\n",
      "5\n",
      "6\n",
      "7\n",
      "8\n",
      "9\n",
      "\n",
      "\n",
      "['Apple', 'Pear', 'Banana']\n",
      "['Tomato', 'Lettuce', 'Cucumber']\n",
      "['Beans', 'Lentils', 'Peas']\n",
      "\n",
      "\n",
      "Apple\n",
      "Pear\n",
      "Banana\n",
      "\n",
      "\n",
      "Tomato\n",
      "Lettuce\n",
      "Cucumber\n",
      "\n",
      "\n",
      "Beans\n",
      "Lentils\n",
      "Peas\n",
      "\n",
      "\n"
     ]
    }
   ],
   "source": [
    "for number in range(10):\n",
    "    print number\n",
    "    \n",
    "print('\\n')\n",
    "    \n",
    "foodLists = [['Apple', 'Pear', 'Banana'], ['Tomato', 'Lettuce', 'Cucumber'], ['Beans', 'Lentils', 'Peas']]\n",
    "for foodList in foodLists:\n",
    "        print foodList\n",
    "        \n",
    "print('\\n')\n",
    "        \n",
    "for foodList in foodLists:\n",
    "    for food in foodList:\n",
    "        print food\n",
    "    print('\\n')"
   ]
  },
  {
   "cell_type": "code",
   "execution_count": 55,
   "metadata": {},
   "outputs": [
    {
     "name": "stdout",
     "output_type": "stream",
     "text": [
      "4\n",
      "8\n",
      "16\n",
      "32\n",
      "64\n",
      "128\n",
      "512\n",
      "Hit \"break\" at number = 9\n"
     ]
    }
   ],
   "source": [
    "number = 1\n",
    "while number <= 10:\n",
    "    if 2 ** number == 128:\n",
    "        number = number + 1\n",
    "        continue\n",
    "    elif 2 ** number == 512:\n",
    "        print('Hit \"break\" at number = %d') %number\n",
    "        break\n",
    "    number = number + 1\n",
    "    print(2 ** number)"
   ]
  },
  {
   "cell_type": "code",
   "execution_count": 56,
   "metadata": {},
   "outputs": [
    {
     "name": "stdout",
     "output_type": "stream",
     "text": [
      "[5, 10, 15, 20, 25, 30, 35, 40, 45, 50, 55, 60, 65, 70, 75, 80, 85, 90, 95]\n"
     ]
    }
   ],
   "source": [
    "multiplesOf5 = [5*number for number in range(1,20)]\n",
    "print multiplesOf5"
   ]
  },
  {
   "cell_type": "markdown",
   "metadata": {},
   "source": [
    "# Importing Pandas"
   ]
  },
  {
   "cell_type": "code",
   "execution_count": 1,
   "metadata": {
    "collapsed": true
   },
   "outputs": [],
   "source": [
    "import pandas as pds\n",
    "import datetime\n",
    "from pandas import Series, DataFrame\n",
    "import numpy\n",
    "import matplotlib.pyplot as plot"
   ]
  },
  {
   "cell_type": "markdown",
   "metadata": {},
   "source": [
    "# Create a dataframe with a few columns and rows."
   ]
  },
  {
   "cell_type": "code",
   "execution_count": 9,
   "metadata": {},
   "outputs": [
    {
     "name": "stdout",
     "output_type": "stream",
     "text": [
      "['01-01', '01-08', '01-15', '01-22', '01-29', '02-05', '02-12']\n",
      "{'Week of': ['01-01', '01-08', '01-15', '01-22', '01-29', '02-05', '02-12'], 'Tower of London': [345, 321, 536, 543, 143, -378, 98], 'Westminster Abbey': [2345, 1342, 987, 332, 1098, 3617, 874], 'Big Ben': [657, 639, 648, 602, 693, 684, 675]}\n",
      "\n",
      "\n",
      "0    2345\n",
      "1    1342\n",
      "2     987\n",
      "3     332\n",
      "4    1098\n",
      "5    3617\n",
      "6     874\n",
      "Name: Westminster Abbey, dtype: int64\n",
      "\n",
      "\n",
      "         Big Ben  Tower of London  Westminster Abbey\n",
      "Week of                                             \n",
      "01-01        657              345               2345\n",
      "01-08        639              321               1342\n",
      "01-15        648              536                987\n",
      "01-22        602              543                332\n",
      "01-29        693              143               1098\n",
      "02-05        684             -378               3617\n",
      "02-12        675               98                874\n"
     ]
    }
   ],
   "source": [
    "# create a list containing dates from Jan 1, 2017 to Apr 1, 2017, with a one-week step between them\n",
    "currentDate = datetime.datetime(2017,1,1)\n",
    "endDate = datetime.datetime(2017,2,13)\n",
    "step = datetime.timedelta(weeks=1)\n",
    "dateList = []\n",
    "while currentDate < endDate:\n",
    "    dateList.append(currentDate.strftime('%m-%d'))\n",
    "    currentDate += step\n",
    "\n",
    "print dateList\n",
    "    \n",
    "visitorCounts = {'Week of': dateList, 'Westminster Abbey' : [2345,1342,987,332,1098,3617,874], 'Tower of London': [345,321,536,543,143,-378,98], 'Big Ben':[657,639,648,602,693,684,675]}\n",
    "print visitorCounts\n",
    "\n",
    "print '\\n'\n",
    "\n",
    "visitorDF = pds.DataFrame(visitorCounts)\n",
    "\n",
    "visitorDF = visitorDF.set_index('Week of')\n",
    "\n",
    "print visitorDF"
   ]
  },
  {
   "cell_type": "markdown",
   "metadata": {},
   "source": [
    "# Index a pandas data frame and print different cells, rows, columns, etc."
   ]
  },
  {
   "cell_type": "code",
   "execution_count": 14,
   "metadata": {},
   "outputs": [
    {
     "name": "stdout",
     "output_type": "stream",
     "text": [
      "Week of\n",
      "01-01    2345\n",
      "01-08    1342\n",
      "01-15     987\n",
      "01-22     332\n",
      "01-29    1098\n",
      "02-05    3617\n",
      "02-12     874\n",
      "Name: Westminster Abbey, dtype: int64\n",
      "\n",
      "\n",
      "Number of visitors at Big Ben during the week of Jan 15: 648\n"
     ]
    }
   ],
   "source": [
    "print visitorDF['Westminster Abbey']\n",
    "\n",
    "print '\\n'\n",
    "\n",
    "print 'Number of visitors at Big Ben during the week of Jan 15:', visitorDF['Big Ben'][2]"
   ]
  },
  {
   "cell_type": "markdown",
   "metadata": {},
   "source": [
    "### Read data set from csv"
   ]
  },
  {
   "cell_type": "code",
   "execution_count": 16,
   "metadata": {},
   "outputs": [
    {
     "name": "stdout",
     "output_type": "stream",
     "text": [
      "3    491\n",
      "1    216\n",
      "2    184\n",
      "Name: Pclass, dtype: int64\n",
      "          City  Edition      Sport       Discipline               Athlete  \\\n",
      "29211  Beijing     2008  Wrestling  Wrestling Gre-R        ENGLICH, Mirko   \n",
      "29212  Beijing     2008  Wrestling  Wrestling Gre-R  MIZGAITIS, Mindaugas   \n",
      "29213  Beijing     2008  Wrestling  Wrestling Gre-R       PATRIKEEV, Yuri   \n",
      "29214  Beijing     2008  Wrestling  Wrestling Gre-R         LOPEZ, Mijain   \n",
      "29215  Beijing     2008  Wrestling  Wrestling Gre-R        BAROEV, Khasan   \n",
      "\n",
      "       NOC Gender       Event Event_gender   Medal  \n",
      "29211  GER    Men   84 - 96kg            M  Silver  \n",
      "29212  LTU    Men  96 - 120kg            M  Bronze  \n",
      "29213  ARM    Men  96 - 120kg            M  Bronze  \n",
      "29214  CUB    Men  96 - 120kg            M    Gold  \n",
      "29215  RUS    Men  96 - 120kg            M  Silver  \n",
      "Athletics          3448\n",
      "Rowing             2523\n",
      "Swimming           2439\n",
      "Artistic G.        2103\n",
      "Fencing            1547\n",
      "Football           1387\n",
      "Hockey             1325\n",
      "Shooting           1105\n",
      "Sailing            1061\n",
      "Basketball          940\n",
      "Canoe / Kayak F     912\n",
      "Handball            886\n",
      "Water polo          880\n",
      "Volleyball          862\n",
      "Boxing              842\n",
      "Cycling Track       692\n",
      "Wrestling Free.     591\n",
      "Wrestling Gre-R     549\n",
      "Weightlifting       548\n",
      "Judo                435\n",
      "Diving              356\n",
      "Baseball            335\n",
      "Eventing            313\n",
      "Jumping             312\n",
      "Archery             305\n",
      "Cycling Road        303\n",
      "Tennis              272\n",
      "Dressage            255\n",
      "Rugby               192\n",
      "Softball            180\n",
      "Modern Pentath.     174\n",
      "Synchronized S.     153\n",
      "Table Tennis        120\n",
      "Badminton           120\n",
      "Tug of War           94\n",
      "Rhythmic G.          93\n",
      "Canoe / Kayak S      90\n",
      "Taekwondo            80\n",
      "Polo                 66\n",
      "Lacrosse             59\n",
      "Beach volley.        48\n",
      "Golf                 30\n",
      "Figure skating       27\n",
      "Ice Hockey           27\n",
      "Cricket              24\n",
      "Mountain Bike        24\n",
      "Trampoline           18\n",
      "Triathlon            18\n",
      "Vaulting             14\n",
      "Rackets              10\n",
      "Croquet               8\n",
      "BMX                   6\n",
      "Water Motorspor       5\n",
      "Basque Pelota         4\n",
      "Roque                 3\n",
      "Jeu de Paume          3\n",
      "Name: Discipline, dtype: int64\n"
     ]
    }
   ],
   "source": [
    "# Titanic\n",
    "titanicData = pds.read_csv('../data/titanic.csv')\n",
    "print titanicData.Pclass.value_counts()\n",
    "\n",
    "# Olympic Medals\n",
    "olympicData=pds.read_csv('../data/olympicmedals.csv')\n",
    "print olympicData.tail()\n",
    "print olympicData.Discipline.value_counts()"
   ]
  },
  {
   "cell_type": "markdown",
   "metadata": {},
   "source": [
    "# Other Dataframe Manipulations"
   ]
  },
  {
   "cell_type": "code",
   "execution_count": 47,
   "metadata": {
    "collapsed": true
   },
   "outputs": [],
   "source": [
    "import numpy\n",
    "from pandas import Series, DataFrame\n",
    "numpy.random.seed(31452)\n",
    "import matplotlib.pyplot as plot\n",
    "plot.rc('figure', figsize=(19, 16))\n",
    "MAX_ROWS = pds.options.display.max_rows\n",
    "pds.options.display.max_rows = 20\n",
    "numpy.set_printoptions(precision=8, suppress=True)"
   ]
  },
  {
   "cell_type": "code",
   "execution_count": 26,
   "metadata": {},
   "outputs": [
    {
     "name": "stdout",
     "output_type": "stream",
     "text": [
      "0    2\n",
      "1   -3\n",
      "2    5\n",
      "3   -7\n",
      "dtype: int64\n",
      "[ 2 -3  5 -7]\n",
      "RangeIndex(start=0, stop=4, step=1)\n"
     ]
    }
   ],
   "source": [
    "ser1 = pds.Series([2, -3, 5, -7])\n",
    "print ser1\n",
    "print ser1.values\n",
    "print ser1.index"
   ]
  },
  {
   "cell_type": "code",
   "execution_count": 29,
   "metadata": {},
   "outputs": [
    {
     "name": "stdout",
     "output_type": "stream",
     "text": [
      "w    11\n",
      "x    13\n",
      "y    17\n",
      "z    19\n",
      "dtype: int64\n",
      "\n",
      "\n",
      "Index([u'w', u'x', u'y', u'z'], dtype='object')\n",
      "\n",
      "\n",
      "13\n",
      "\n",
      "\n",
      "x    13\n",
      "z   -19\n",
      "dtype: int64\n",
      "\n",
      "\n",
      "y    17\n",
      "dtype: int64\n",
      "\n",
      "\n",
      "w    33\n",
      "x    39\n",
      "y    51\n",
      "z   -57\n",
      "dtype: int64\n",
      "\n",
      "\n",
      "w    5.987414e+04\n",
      "x    4.424134e+05\n",
      "y    2.415495e+07\n",
      "z    5.602796e-09\n",
      "dtype: float64\n",
      "\n",
      "\n",
      "False\n",
      "\n",
      "\n",
      "True\n"
     ]
    }
   ],
   "source": [
    "ser2 = pds.Series([11, 13, 17, 19], index=['w', 'x', 'y', 'z'])\n",
    "print ser2\n",
    "print '\\n'\n",
    "print ser2.index\n",
    "print '\\n'\n",
    "print ser2['x']\n",
    "print '\\n'\n",
    "ser2['z']=-19\n",
    "print ser2[['x', 'z']]\n",
    "print '\\n'\n",
    "print ser2[ser2>15]\n",
    "print '\\n'\n",
    "print ser2 * 3\n",
    "print '\\n'\n",
    "print numpy.exp(ser2)\n",
    "print '\\n'\n",
    "print 't' in ser2\n",
    "print '\\n'\n",
    "print 'w' in ser2"
   ]
  },
  {
   "cell_type": "code",
   "execution_count": 30,
   "metadata": {},
   "outputs": [
    {
     "name": "stdout",
     "output_type": "stream",
     "text": [
      "Canada    123000\n",
      "Mexico    231000\n",
      "US        321000\n",
      "dtype: int64\n"
     ]
    }
   ],
   "source": [
    "countryData = {'Canada': 123000, 'US': 321000, 'Mexico': 231000}\n",
    "ser3 = pds.Series(countryData)\n",
    "print ser3"
   ]
  },
  {
   "cell_type": "code",
   "execution_count": 38,
   "metadata": {},
   "outputs": [
    {
     "name": "stdout",
     "output_type": "stream",
     "text": [
      "Canada    123000.0\n",
      "Mexico    231000.0\n",
      "Chile          NaN\n",
      "dtype: float64\n",
      "\n",
      "\n",
      "Canada    False\n",
      "Mexico    False\n",
      "Chile      True\n",
      "dtype: bool\n",
      "\n",
      "\n",
      "Canada     True\n",
      "Mexico     True\n",
      "Chile     False\n",
      "dtype: bool\n",
      "\n",
      "\n",
      "Canada    False\n",
      "Mexico    False\n",
      "Chile      True\n",
      "dtype: bool\n",
      "\n",
      "\n",
      "Canada    246000.0\n",
      "Chile          NaN\n",
      "Mexico    462000.0\n",
      "US             NaN\n",
      "dtype: float64\n",
      "\n",
      "\n",
      "Country\n",
      "Canada    123000.0\n",
      "Mexico    231000.0\n",
      "Chile          NaN\n",
      "Name: population, dtype: float64\n"
     ]
    }
   ],
   "source": [
    "countries = ['Canada', 'Mexico', 'Chile']\n",
    "ser4 = pds.Series(countryData, index=countries)\n",
    "print ser4\n",
    "print '\\n'\n",
    "print pds.isnull(ser4)\n",
    "print '\\n'\n",
    "print pds.notnull(ser4)\n",
    "print '\\n'\n",
    "print ser4.isnull()\n",
    "print '\\n'\n",
    "print ser3 + ser4\n",
    "print '\\n'\n",
    "ser4.name = 'population'\n",
    "ser4.index.name = 'Country'\n",
    "print ser4"
   ]
  },
  {
   "cell_type": "code",
   "execution_count": 41,
   "metadata": {},
   "outputs": [
    {
     "name": "stdout",
     "output_type": "stream",
     "text": [
      "Prime1     2\n",
      "nPrime2   -3\n",
      "Prime3     5\n",
      "nPrime4   -7\n",
      "dtype: int64\n"
     ]
    }
   ],
   "source": [
    "ser1\n",
    "ser1.index = ['Prime1', 'nPrime2', 'Prime3', 'nPrime4']\n",
    "print ser1"
   ]
  },
  {
   "cell_type": "code",
   "execution_count": 2,
   "metadata": {},
   "outputs": [
    {
     "name": "stdout",
     "output_type": "stream",
     "text": [
      "  Country  Population  Year\n",
      "0  Canada         2.5  2014\n",
      "1  Canada         2.7  2015\n",
      "2  Canada         2.9  2016\n",
      "3      US         2.4  2012\n",
      "4      US         2.7  2013\n",
      "5      US         3.0  2014\n",
      "\n",
      "\n",
      "  Country  Population  Year\n",
      "0  Canada         2.5  2014\n",
      "1  Canada         2.7  2015\n",
      "2  Canada         2.9  2016\n",
      "3      US         2.4  2012\n",
      "4      US         2.7  2013\n",
      "\n",
      "\n",
      "   Year Country  Population\n",
      "0  2014  Canada         2.5\n",
      "1  2015  Canada         2.7\n",
      "2  2016  Canada         2.9\n",
      "3  2012      US         2.4\n",
      "4  2013      US         2.7\n",
      "5  2014      US         3.0\n"
     ]
    }
   ],
   "source": [
    "countryPopulations = {'Country': ['Canada', 'Canada', 'Canada', 'US', 'US', 'US'],\n",
    "        'Year': [2014, 2015, 2016, 2012, 2013, 2014],\n",
    "        'Population': [2.5, 2.7, 2.9, 2.4, 2.7, 3.0]}\n",
    "dataFrame1 = pds.DataFrame(countryPopulations)\n",
    "print dataFrame1\n",
    "print '\\n'\n",
    "print dataFrame1.head()\n",
    "print '\\n'\n",
    "print pds.DataFrame(countryPopulations, columns=['Year', 'Country', 'Population'])"
   ]
  },
  {
   "cell_type": "code",
   "execution_count": 9,
   "metadata": {},
   "outputs": [
    {
     "name": "stdout",
     "output_type": "stream",
     "text": [
      "   Year Country  Population Deficit\n",
      "a  2014  Canada         2.5     NaN\n",
      "b  2015  Canada         2.7     NaN\n",
      "c  2016  Canada         2.9     NaN\n",
      "d  2012      US         2.4     NaN\n",
      "e  2013      US         2.7     NaN\n",
      "f  2014      US         3.0     NaN\n",
      "\n",
      "\n",
      "Index([u'Year', u'Country', u'Population', u'Deficit'], dtype='object')\n",
      "\n",
      "\n",
      "a    Canada\n",
      "b    Canada\n",
      "c    Canada\n",
      "d        US\n",
      "e        US\n",
      "f        US\n",
      "Name: Country, dtype: object\n",
      "\n",
      "\n",
      "a    2014\n",
      "b    2015\n",
      "c    2016\n",
      "d    2012\n",
      "e    2013\n",
      "f    2014\n",
      "Name: Year, dtype: int64\n",
      "\n",
      "\n",
      "Year          2013\n",
      "Country         US\n",
      "Population     2.7\n",
      "Deficit        NaN\n",
      "Name: e, dtype: object\n",
      "\n",
      "\n",
      "   Year Country  Population  Deficit\n",
      "a  2014  Canada         2.5     25.0\n",
      "b  2015  Canada         2.7     25.0\n",
      "c  2016  Canada         2.9     25.0\n",
      "d  2012      US         2.4     25.0\n",
      "e  2013      US         2.7     25.0\n",
      "f  2014      US         3.0     25.0\n",
      "\n",
      "\n",
      "   Year Country  Population  Deficit\n",
      "a  2014  Canada         2.5      4.5\n",
      "b  2015  Canada         2.7      NaN\n",
      "c  2016  Canada         2.9      3.2\n",
      "d  2012      US         2.4      8.7\n",
      "e  2013      US         2.7      NaN\n",
      "f  2014      US         3.0      NaN\n",
      "\n",
      "\n",
      "   Year Country  Population  Deficit  North\n",
      "a  2014  Canada         2.5      4.5   True\n",
      "b  2015  Canada         2.7      NaN   True\n",
      "c  2016  Canada         2.9      3.2   True\n",
      "d  2012      US         2.4      8.7  False\n",
      "e  2013      US         2.7      NaN  False\n",
      "f  2014      US         3.0      NaN  False\n",
      "\n",
      "\n",
      "Index([u'Year', u'Country', u'Population', u'Deficit'], dtype='object')\n"
     ]
    }
   ],
   "source": [
    "dataFrame2 = pds.DataFrame(countryPopulations, columns=['Year', 'Country', 'Population', 'Deficit'], \n",
    "                          index=['a', 'b', 'c', 'd', 'e', 'f'])\n",
    "print dataFrame2\n",
    "print '\\n'\n",
    "print dataFrame2.columns\n",
    "print '\\n'\n",
    "print dataFrame2['Country']\n",
    "print '\\n'\n",
    "print dataFrame2.Year\n",
    "print '\\n'\n",
    "print dataFrame2.loc['e']\n",
    "print '\\n'\n",
    "dataFrame2['Deficit'] = 25.0\n",
    "print dataFrame2\n",
    "values = pds.Series([4.5, 3.2, 8.7], index=['a', 'c', 'd'])\n",
    "dataFrame2['Deficit'] = values\n",
    "print '\\n'\n",
    "print dataFrame2\n",
    "dataFrame2['North'] = dataFrame2.Country == 'Canada'\n",
    "print '\\n'\n",
    "print dataFrame2\n",
    "del dataFrame2['North']\n",
    "print '\\n'\n",
    "print dataFrame2.columns"
   ]
  },
  {
   "cell_type": "code",
   "execution_count": 12,
   "metadata": {},
   "outputs": [
    {
     "name": "stdout",
     "output_type": "stream",
     "text": [
      "      Canada   US\n",
      "2010     NaN  3.2\n",
      "2011     5.4  3.3\n",
      "2012     6.1  3.4\n",
      "\n",
      "\n",
      "        2010  2011  2012\n",
      "Canada   NaN   5.4   6.1\n",
      "US       3.2   3.3   3.4\n",
      "\n",
      "\n",
      "      Canada   US\n",
      "2011     5.4  3.3\n",
      "2012     6.1  3.4\n",
      "2013     NaN  NaN\n",
      "\n",
      "\n",
      "      Canada   US\n",
      "2010     NaN  3.2\n",
      "2011     5.4  3.3\n",
      "\n",
      "\n",
      "Country  Canada   US\n",
      "Year                \n",
      "2010        NaN  3.2\n",
      "2011        5.4  3.3\n",
      "2012        6.1  3.4\n",
      "\n",
      "\n",
      "[[ nan  3.2]\n",
      " [ 5.4  3.3]\n",
      " [ 6.1  3.4]]\n"
     ]
    }
   ],
   "source": [
    "Populations = {'Canada': {2011: 5.4, 2012: 6.1},\n",
    "       'US': {2010: 3.2, 2011: 3.3, 2012: 3.4}}\n",
    "dataFrame3 = pds.DataFrame(Populations)\n",
    "print dataFrame3\n",
    "print '\\n'\n",
    "print dataFrame3.T\n",
    "print '\\n'\n",
    "print pds.DataFrame(Populations, index=[2011, 2012, 2013])\n",
    "populationData = {'Canada': dataFrame3['Canada'][:-1],\n",
    "         'US': dataFrame3['US'][:2]}\n",
    "print '\\n'\n",
    "print pds.DataFrame(populationData)\n",
    "dataFrame3.index.name = 'Year'; dataFrame3.columns.name = 'Country'\n",
    "print '\\n'\n",
    "print dataFrame3\n",
    "print '\\n'\n",
    "print dataFrame3.values"
   ]
  },
  {
   "cell_type": "code",
   "execution_count": 14,
   "metadata": {},
   "outputs": [
    {
     "name": "stdout",
     "output_type": "stream",
     "text": [
      "[[2014 'Canada' 2.5 4.5]\n",
      " [2015 'Canada' 2.7 nan]\n",
      " [2016 'Canada' 2.9 3.2]\n",
      " [2012 'US' 2.4 8.7]\n",
      " [2013 'US' 2.7 nan]\n",
      " [2014 'US' 3.0 nan]]\n",
      "\n",
      "\n",
      "Index([u'x', u'y', u'z'], dtype='object')\n",
      "\n",
      "\n",
      "Index([u'x'], dtype='object')\n",
      "\n",
      "\n",
      "Int64Index([0, 1, 2], dtype='int64')\n"
     ]
    }
   ],
   "source": [
    "print dataFrame2.values\n",
    "object1 = pds.Series(range(3), index=['x', 'y', 'z'])\n",
    "index = object1.index\n",
    "print '\\n'\n",
    "print index\n",
    "print '\\n'\n",
    "print index[:1]\n",
    "labels = pds.Index(numpy.arange(3))\n",
    "print '\\n'\n",
    "print  labels"
   ]
  },
  {
   "cell_type": "code",
   "execution_count": 17,
   "metadata": {},
   "outputs": [
    {
     "name": "stdout",
     "output_type": "stream",
     "text": [
      "0    3.4\n",
      "1   -5.5\n",
      "2    6.7\n",
      "dtype: float64\n",
      "\n",
      "\n",
      "True\n",
      "\n",
      "\n",
      "Index([u'see', u'see', u'sea', u'sea'], dtype='object')\n"
     ]
    }
   ],
   "source": [
    "object2 = pds.Series([3.4, -5.5, 6.7], index=labels)\n",
    "print object2\n",
    "print '\\n'\n",
    "print object2.index is labels\n",
    "print '\\n'\n",
    "duplicates = pds.Index(['see', 'see', 'sea', 'sea'])\n",
    "print duplicates\n"
   ]
  },
  {
   "cell_type": "code",
   "execution_count": 18,
   "metadata": {},
   "outputs": [
    {
     "name": "stdout",
     "output_type": "stream",
     "text": [
      "w    4.5\n",
      "x    7.2\n",
      "y   -5.3\n",
      "z    3.6\n",
      "dtype: float64\n",
      "\n",
      "\n",
      "w    4.5\n",
      "x    7.2\n",
      "y   -5.3\n",
      "z    3.6\n",
      "v    NaN\n",
      "dtype: float64\n",
      "\n",
      "\n",
      "2     yellow\n",
      "3       cyan\n",
      "7    magenta\n",
      "dtype: object\n",
      "\n",
      "\n",
      "2     yellow\n",
      "3       cyan\n",
      "7    magenta\n",
      "dtype: object\n"
     ]
    }
   ],
   "source": [
    "object1 = pds.Series([4.5, 7.2, -5.3, 3.6], index=['w', 'x', 'y', 'z'])\n",
    "print object1\n",
    "print '\\n'\n",
    "object2 = object1.reindex(['w', 'x', 'y', 'z', 'v'])\n",
    "print object2\n",
    "object3 = pds.Series(['yellow', 'cyan', 'magenta'], index=[2, 3, 7])\n",
    "print '\\n'\n",
    "print object3\n",
    "print '\\n'\n",
    "object3.reindex(range(6), method='ffill')\n",
    "print object3"
   ]
  }
 ],
 "metadata": {
  "kernelspec": {
   "display_name": "Python 2",
   "language": "python",
   "name": "python2"
  },
  "language_info": {
   "codemirror_mode": {
    "name": "ipython",
    "version": 2
   },
   "file_extension": ".py",
   "mimetype": "text/x-python",
   "name": "python",
   "nbconvert_exporter": "python",
   "pygments_lexer": "ipython2",
   "version": "2.7.13"
  }
 },
 "nbformat": 4,
 "nbformat_minor": 2
}
