{
 "cells": [
  {
   "cell_type": "markdown",
   "metadata": {},
   "source": [
    "# CS596-032 2016 Summer Homework-6"
   ]
  },
  {
   "cell_type": "markdown",
   "metadata": {},
   "source": [
    "Assign date: 2016-07-25\n",
    "\n",
    "Due date: 2016-08-06 9am\n",
    "\n",
    "Please submit only one copy of your IPython Notebook file with the answers to Apeksha Srivastava 150101236@svuca.edu"
   ]
  },
  {
   "cell_type": "code",
   "execution_count": 1,
   "metadata": {
    "collapsed": true
   },
   "outputs": [],
   "source": [
    "import matplotlib.pyplot as plt\n",
    "%matplotlib inline"
   ]
  },
  {
   "cell_type": "markdown",
   "metadata": {},
   "source": [
    "Q1. For Q-1, you need to put the data file ‘Medicare_Hospital_Spending_by_Claim.csv’ at the same place as your notebook file.\n",
    "\n",
    "Q1-a. You are given the Medicare spending dataset. The first thing to do is to remove 2 unused columns 'Measure Start Date' and 'Measure End Date' from the DataFrame in the following code segment. Provide your code as the answer."
   ]
  },
  {
   "cell_type": "code",
   "execution_count": 4,
   "metadata": {},
   "outputs": [
    {
     "name": "stdout",
     "output_type": "stream",
     "text": [
      "<class 'pandas.core.frame.DataFrame'>\n",
      "RangeIndex: 70598 entries, 0 to 70597\n",
      "Data columns (total 13 columns):\n",
      "Hospital Name                          70598 non-null object\n",
      "Provider Number                        70598 non-null int64\n",
      "State                                  70598 non-null object\n",
      "Period                                 70598 non-null object\n",
      "Claim Type                             70598 non-null object\n",
      "Avg Spending Per Episode (Hospital)    70598 non-null object\n",
      "Avg Spending Per Episode (State)       70598 non-null object\n",
      "Avg Spending Per Episode (Nation)      70598 non-null object\n",
      "Percent of Spending (Hospital)         70598 non-null object\n",
      "Percent of Spending (State)            70598 non-null object\n",
      "Percent of Spending (Nation)           70598 non-null object\n",
      "Measure Start Date                     70598 non-null object\n",
      "Measure End Date                       70598 non-null object\n",
      "dtypes: int64(1), object(12)\n",
      "memory usage: 7.0+ MB\n",
      "Index([u'Hospital Name', u'Provider Number ', u'State', u'Period',\n",
      "       u'Claim Type', u'Avg Spending Per Episode (Hospital)',\n",
      "       u'Avg Spending Per Episode (State)',\n",
      "       u'Avg Spending Per Episode (Nation)', u'Percent of Spending (Hospital)',\n",
      "       u'Percent of Spending (State)', u'Percent of Spending (Nation)',\n",
      "       u'Measure Start Date', u'Measure End Date'],\n",
      "      dtype='object')\n"
     ]
    }
   ],
   "source": [
    "from pandas import Series, DataFrame\n",
    "import pandas as pd\n",
    "import numpy as np\n",
    "claims = pd.read_csv('./Medicare_Hospital_Spending_by_Claim.csv', parse_dates=True) #, index_col=0)\n",
    "claims.info()\n",
    "print claims.columns\n",
    "# Q1-a drop unused columns 'Measure Start Date' and 'Measure End Date'\n",
    "# add your code below"
   ]
  },
  {
   "cell_type": "markdown",
   "metadata": {},
   "source": [
    "Q1-b Replace names\n",
    "Continuing with the above code, we want to replace the original long column names with shorter ones.  Provide your code and the resulting new column names as the answer.\n",
    "newColumns = ['Hospital', 'Provider ID', 'State', 'Period', 'Claim Type', 'Avg Spending Hospital', 'Avg Spending State', 'Avg Spending Nation', 'Percent Spending Hospital', 'Percent Spending State', 'Percent Spending Nation']"
   ]
  },
  {
   "cell_type": "code",
   "execution_count": null,
   "metadata": {
    "collapsed": true
   },
   "outputs": [],
   "source": [
    "# rename columns. add your code below"
   ]
  },
  {
   "cell_type": "markdown",
   "metadata": {},
   "source": [
    "Q1-c) Continuing with the above code, we would like to investigate the statistics of average and percentage spending for different states, claim types, and hospitals.  In the code segment below, we print out the last 15 items of two columns for testing.  Do you see any issue in the data for statistics calculation?  Provide your comments as the answer. "
   ]
  },
  {
   "cell_type": "code",
   "execution_count": 3,
   "metadata": {},
   "outputs": [
    {
     "ename": "KeyError",
     "evalue": "\"['Percent Spending Hospital' 'Percent Spending State'\\n 'Percent Spending Nation' 'Avg Spending Hospital' 'Avg Spending State'\\n 'Avg Spending Nation'] not in index\"",
     "output_type": "error",
     "traceback": [
      "\u001b[1;31m---------------------------------------------------------------------------\u001b[0m",
      "\u001b[1;31mKeyError\u001b[0m                                  Traceback (most recent call last)",
      "\u001b[1;32m<ipython-input-3-27eb014e2017>\u001b[0m in \u001b[0;36m<module>\u001b[1;34m()\u001b[0m\n\u001b[0;32m      1\u001b[0m claims[['Percent Spending Hospital', 'Percent Spending State','Percent Spending Nation',\n\u001b[1;32m----> 2\u001b[1;33m         'Avg Spending Hospital', 'Avg Spending State',  'Avg Spending Nation']].tail(15)\n\u001b[0m",
      "\u001b[1;32mC:\\Users\\hermitus\\Anaconda2\\lib\\site-packages\\pandas\\core\\frame.pyc\u001b[0m in \u001b[0;36m__getitem__\u001b[1;34m(self, key)\u001b[0m\n\u001b[0;32m   1956\u001b[0m         \u001b[1;32mif\u001b[0m \u001b[0misinstance\u001b[0m\u001b[1;33m(\u001b[0m\u001b[0mkey\u001b[0m\u001b[1;33m,\u001b[0m \u001b[1;33m(\u001b[0m\u001b[0mSeries\u001b[0m\u001b[1;33m,\u001b[0m \u001b[0mnp\u001b[0m\u001b[1;33m.\u001b[0m\u001b[0mndarray\u001b[0m\u001b[1;33m,\u001b[0m \u001b[0mIndex\u001b[0m\u001b[1;33m,\u001b[0m \u001b[0mlist\u001b[0m\u001b[1;33m)\u001b[0m\u001b[1;33m)\u001b[0m\u001b[1;33m:\u001b[0m\u001b[1;33m\u001b[0m\u001b[0m\n\u001b[0;32m   1957\u001b[0m             \u001b[1;31m# either boolean or fancy integer index\u001b[0m\u001b[1;33m\u001b[0m\u001b[1;33m\u001b[0m\u001b[0m\n\u001b[1;32m-> 1958\u001b[1;33m             \u001b[1;32mreturn\u001b[0m \u001b[0mself\u001b[0m\u001b[1;33m.\u001b[0m\u001b[0m_getitem_array\u001b[0m\u001b[1;33m(\u001b[0m\u001b[0mkey\u001b[0m\u001b[1;33m)\u001b[0m\u001b[1;33m\u001b[0m\u001b[0m\n\u001b[0m\u001b[0;32m   1959\u001b[0m         \u001b[1;32melif\u001b[0m \u001b[0misinstance\u001b[0m\u001b[1;33m(\u001b[0m\u001b[0mkey\u001b[0m\u001b[1;33m,\u001b[0m \u001b[0mDataFrame\u001b[0m\u001b[1;33m)\u001b[0m\u001b[1;33m:\u001b[0m\u001b[1;33m\u001b[0m\u001b[0m\n\u001b[0;32m   1960\u001b[0m             \u001b[1;32mreturn\u001b[0m \u001b[0mself\u001b[0m\u001b[1;33m.\u001b[0m\u001b[0m_getitem_frame\u001b[0m\u001b[1;33m(\u001b[0m\u001b[0mkey\u001b[0m\u001b[1;33m)\u001b[0m\u001b[1;33m\u001b[0m\u001b[0m\n",
      "\u001b[1;32mC:\\Users\\hermitus\\Anaconda2\\lib\\site-packages\\pandas\\core\\frame.pyc\u001b[0m in \u001b[0;36m_getitem_array\u001b[1;34m(self, key)\u001b[0m\n\u001b[0;32m   2000\u001b[0m             \u001b[1;32mreturn\u001b[0m \u001b[0mself\u001b[0m\u001b[1;33m.\u001b[0m\u001b[0mtake\u001b[0m\u001b[1;33m(\u001b[0m\u001b[0mindexer\u001b[0m\u001b[1;33m,\u001b[0m \u001b[0maxis\u001b[0m\u001b[1;33m=\u001b[0m\u001b[1;36m0\u001b[0m\u001b[1;33m,\u001b[0m \u001b[0mconvert\u001b[0m\u001b[1;33m=\u001b[0m\u001b[0mFalse\u001b[0m\u001b[1;33m)\u001b[0m\u001b[1;33m\u001b[0m\u001b[0m\n\u001b[0;32m   2001\u001b[0m         \u001b[1;32melse\u001b[0m\u001b[1;33m:\u001b[0m\u001b[1;33m\u001b[0m\u001b[0m\n\u001b[1;32m-> 2002\u001b[1;33m             \u001b[0mindexer\u001b[0m \u001b[1;33m=\u001b[0m \u001b[0mself\u001b[0m\u001b[1;33m.\u001b[0m\u001b[0mloc\u001b[0m\u001b[1;33m.\u001b[0m\u001b[0m_convert_to_indexer\u001b[0m\u001b[1;33m(\u001b[0m\u001b[0mkey\u001b[0m\u001b[1;33m,\u001b[0m \u001b[0maxis\u001b[0m\u001b[1;33m=\u001b[0m\u001b[1;36m1\u001b[0m\u001b[1;33m)\u001b[0m\u001b[1;33m\u001b[0m\u001b[0m\n\u001b[0m\u001b[0;32m   2003\u001b[0m             \u001b[1;32mreturn\u001b[0m \u001b[0mself\u001b[0m\u001b[1;33m.\u001b[0m\u001b[0mtake\u001b[0m\u001b[1;33m(\u001b[0m\u001b[0mindexer\u001b[0m\u001b[1;33m,\u001b[0m \u001b[0maxis\u001b[0m\u001b[1;33m=\u001b[0m\u001b[1;36m1\u001b[0m\u001b[1;33m,\u001b[0m \u001b[0mconvert\u001b[0m\u001b[1;33m=\u001b[0m\u001b[0mTrue\u001b[0m\u001b[1;33m)\u001b[0m\u001b[1;33m\u001b[0m\u001b[0m\n\u001b[0;32m   2004\u001b[0m \u001b[1;33m\u001b[0m\u001b[0m\n",
      "\u001b[1;32mC:\\Users\\hermitus\\Anaconda2\\lib\\site-packages\\pandas\\core\\indexing.pyc\u001b[0m in \u001b[0;36m_convert_to_indexer\u001b[1;34m(self, obj, axis, is_setter)\u001b[0m\n\u001b[0;32m   1229\u001b[0m                 \u001b[0mmask\u001b[0m \u001b[1;33m=\u001b[0m \u001b[0mcheck\u001b[0m \u001b[1;33m==\u001b[0m \u001b[1;33m-\u001b[0m\u001b[1;36m1\u001b[0m\u001b[1;33m\u001b[0m\u001b[0m\n\u001b[0;32m   1230\u001b[0m                 \u001b[1;32mif\u001b[0m \u001b[0mmask\u001b[0m\u001b[1;33m.\u001b[0m\u001b[0many\u001b[0m\u001b[1;33m(\u001b[0m\u001b[1;33m)\u001b[0m\u001b[1;33m:\u001b[0m\u001b[1;33m\u001b[0m\u001b[0m\n\u001b[1;32m-> 1231\u001b[1;33m                     \u001b[1;32mraise\u001b[0m \u001b[0mKeyError\u001b[0m\u001b[1;33m(\u001b[0m\u001b[1;34m'%s not in index'\u001b[0m \u001b[1;33m%\u001b[0m \u001b[0mobjarr\u001b[0m\u001b[1;33m[\u001b[0m\u001b[0mmask\u001b[0m\u001b[1;33m]\u001b[0m\u001b[1;33m)\u001b[0m\u001b[1;33m\u001b[0m\u001b[0m\n\u001b[0m\u001b[0;32m   1232\u001b[0m \u001b[1;33m\u001b[0m\u001b[0m\n\u001b[0;32m   1233\u001b[0m                 \u001b[1;32mreturn\u001b[0m \u001b[0m_values_from_object\u001b[0m\u001b[1;33m(\u001b[0m\u001b[0mindexer\u001b[0m\u001b[1;33m)\u001b[0m\u001b[1;33m\u001b[0m\u001b[0m\n",
      "\u001b[1;31mKeyError\u001b[0m: \"['Percent Spending Hospital' 'Percent Spending State'\\n 'Percent Spending Nation' 'Avg Spending Hospital' 'Avg Spending State'\\n 'Avg Spending Nation'] not in index\""
     ]
    }
   ],
   "source": [
    "claims[['Percent Spending Hospital', 'Percent Spending State','Percent Spending Nation',\n",
    "        'Avg Spending Hospital', 'Avg Spending State',  'Avg Spending Nation']].tail(15)"
   ]
  },
  {
   "cell_type": "markdown",
   "metadata": {},
   "source": [
    "Q1-d) Continuing with the above code, we want to convert the contents to the right typesin order to perform statistic calculation for the DataFrame.  Provide your code and the resulting new print out as the answer."
   ]
  },
  {
   "cell_type": "code",
   "execution_count": null,
   "metadata": {
    "collapsed": true
   },
   "outputs": [],
   "source": [
    "# use regular expression or string function to convert content types"
   ]
  },
  {
   "cell_type": "markdown",
   "metadata": {},
   "source": [
    "Q1-e) Continuing with the above code, we want to use the code segment below to extract only the TX state claims to study.  Provide your code and the resulting new print out as the answer."
   ]
  },
  {
   "cell_type": "code",
   "execution_count": null,
   "metadata": {
    "collapsed": true
   },
   "outputs": [],
   "source": [
    "# extract TX only from claims to tx_claims"
   ]
  },
  {
   "cell_type": "markdown",
   "metadata": {},
   "source": [
    "Q1-f) Continuing from above, we want to study the average spending of different TX hospitals for different claim types.  Provide your code and the resulting new print out as the answer. "
   ]
  },
  {
   "cell_type": "code",
   "execution_count": null,
   "metadata": {
    "collapsed": true
   },
   "outputs": [],
   "source": [
    "# Aggregate over hospitals and claim types for 'Avg Spending Hospital', 'Avg Spending State', 'Avg Spending Nation'\n",
    "# Add your code below"
   ]
  },
  {
   "cell_type": "markdown",
   "metadata": {},
   "source": [
    "Q1-g) Continuing from above, we want to study the mean and max percentage spending of different TX hospitals for different claim types.  Provide your code and the resulting new print out as the answer. "
   ]
  },
  {
   "cell_type": "code",
   "execution_count": null,
   "metadata": {
    "collapsed": true
   },
   "outputs": [],
   "source": [
    "# Define aggregation functions for 'Avg Spending Hospital', 'Avg Spending State', 'Avg Spending Nation'\n",
    "# Add your code below"
   ]
  },
  {
   "cell_type": "markdown",
   "metadata": {},
   "source": [
    "Q2. For Q-2, you need to put the data file ‘stock_px.csv’ at the same place as your notebook file.\n",
    "\n",
    "Q2-a. We are given the stock prices dataset for tickers ‘AAPL’, ‘MSFT’, ‘XOM’, and ‘SPX’. Add your code in the next code segment to print out the last 10 rows of the dataset. Provide your code and the resulting print out as the answer."
   ]
  },
  {
   "cell_type": "code",
   "execution_count": null,
   "metadata": {
    "collapsed": true
   },
   "outputs": [],
   "source": [
    "from pandas import Series, DataFrame\n",
    "import pandas as pd\n",
    "import numpy as np\n",
    "close_px = pd.read_csv('./stock_px.csv', parse_dates=True, index_col=0)\n",
    "\n",
    "# Add your code below\n"
   ]
  },
  {
   "cell_type": "markdown",
   "metadata": {},
   "source": [
    "Q2-b. Continuing with the above code, add necessary Python code to print out only the stock prices in May 2010. Provide your code and the output as the answer. "
   ]
  },
  {
   "cell_type": "markdown",
   "metadata": {},
   "source": [
    "Q2-c. Continuing with the above code, add necessary Python code to print out only the stock prices from 3/16/2011 to 3/30/2011. Provide your code and the output as the answer. "
   ]
  },
  {
   "cell_type": "markdown",
   "metadata": {},
   "source": [
    "Q2-d. Continuing with the above code, add necessary Python code to print out only the weekly stock closing prices from 8/1/2011 to 10/31/2011. Provide your code and the output as the answer. "
   ]
  },
  {
   "cell_type": "markdown",
   "metadata": {},
   "source": [
    "Q2-e. Continuing with the above code, add necessary Python code to resample the daily stock closing prices to monthly stock closing prices for the whole dataset. Provide your code and last 15 output as the answer. "
   ]
  },
  {
   "cell_type": "markdown",
   "metadata": {},
   "source": [
    "Q2-f. Continuing with the above code, add necessary Python code to create the DataFrame of previous monthly stock closing prices for the whole dataset. Provide your code as the answer."
   ]
  },
  {
   "cell_type": "code",
   "execution_count": null,
   "metadata": {
    "collapsed": true
   },
   "outputs": [],
   "source": [
    "# create previous monthly closing stock prices.  Add your code below"
   ]
  },
  {
   "cell_type": "markdown",
   "metadata": {},
   "source": [
    "Q2-g. Continuing with the above code, add necessary Python code to calculate the percentage of monthly change. Provide your code and the plots as the answer.\n",
    "\n",
    "The percentage change series d(n) is defined as:\n",
    "\n",
    "d(n) = (x(n) – x(n-1)) / x(n-1), where x(n) is the original Time Series.\n"
   ]
  },
  {
   "cell_type": "code",
   "execution_count": null,
   "metadata": {
    "collapsed": true
   },
   "outputs": [],
   "source": [
    "import matplotlib.pyplot as plt\n",
    "plt.rc('figure', figsize=(10, 8))\n",
    "%matplotlib inline\n",
    "# Add your code for monthly percentage below"
   ]
  },
  {
   "cell_type": "code",
   "execution_count": null,
   "metadata": {
    "collapsed": true
   },
   "outputs": [],
   "source": [
    "# Add your code for weekly percentage below\n"
   ]
  }
 ],
 "metadata": {
  "kernelspec": {
   "display_name": "Python 2",
   "language": "python",
   "name": "python2"
  },
  "language_info": {
   "codemirror_mode": {
    "name": "ipython",
    "version": 2
   },
   "file_extension": ".py",
   "mimetype": "text/x-python",
   "name": "python",
   "nbconvert_exporter": "python",
   "pygments_lexer": "ipython2",
   "version": "2.7.14"
  }
 },
 "nbformat": 4,
 "nbformat_minor": 1
}
