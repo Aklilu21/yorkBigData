{
 "cells": [
  {
   "cell_type": "markdown",
   "metadata": {},
   "source": [
    "## Introduction to Big Data Midterm"
   ]
  },
  {
   "cell_type": "markdown",
   "metadata": {},
   "source": [
    "Assign date: 2017-12-03\n",
    "\n",
    "Due date: 2017-12-16 11:59pm\n",
    "\n",
    "Please submit only one copy of your Jupyter Notebook file with your answers for each question provided in the following cells below to Moodle. There will be no extensions or excemptions. \n",
    "\n",
    "You will lose 15% each day your submission is late. \n",
    "\n",
    "Please do not post any answers to the general question forum. You can however ask for technical help on the course page if you are having actualy technical issues. I reserve the right to delete any question/response that I deem being too much \"begging for hints\" in nature. You may email me directly at mtenney@yorku.ca if you have any questions, but do note I will not provide you any answers and my response may take up to 48hrs. And of course, you're free to use any class material, the Internet, or additional resources to complete the exam. The exam covers material from weeks 1-4 inclusively.\n",
    "\n",
    "Note you MUST RUN THE CODE and print out the required results when submitting. Any empty cells or un-run code will not be accepted. "
   ]
  },
  {
   "cell_type": "markdown",
   "metadata": {},
   "source": [
    "\n",
    "**1) Import the following libraries to your notebook (you can use alias' if you want) in the cell below:**<br/>\n",
    "    pandas,\n",
    "    seaborn,\n",
    "    os,\n",
    "    matplotlib.pyplot<br/>\n",
    "**And** add the following flag: \n",
    "    %matplotlib inline"
   ]
  },
  {
   "cell_type": "code",
   "execution_count": 8,
   "metadata": {
    "collapsed": true
   },
   "outputs": [],
   "source": [
    "import pandas as pd\n",
    "import seaborn as sns\n",
    "import os\n",
    "import matplotlib.pyplot as plt\n",
    "%matplotlib inline"
   ]
  },
  {
   "cell_type": "markdown",
   "metadata": {},
   "source": [
    "**2) Index a list in Python**<br/>\n",
    "Run the code below, it will give a result of 4. If we want to get ONLY the number 8 from the list of lists below, how would you alter the code? Alter the code directly and run to print the desired output. "
   ]
  },
  {
   "cell_type": "code",
   "execution_count": 1,
   "metadata": {},
   "outputs": [
    {
     "name": "stdout",
     "output_type": "stream",
     "text": [
      "8\n"
     ]
    }
   ],
   "source": [
    "question2 = [[1,2],[3,4],[5,6],[7,[8,9]]]\n",
    "print (question2[3][1][0])"
   ]
  },
  {
   "cell_type": "markdown",
   "metadata": {},
   "source": [
    "**3) Define a variable called bigdata, to be a list in python with the following elements and print only the last two elements of the list:**<br/> 1, \"Big Data Class\", 2, \"Is Really Fun\",3, \"I Love Python\""
   ]
  },
  {
   "cell_type": "code",
   "execution_count": 9,
   "metadata": {},
   "outputs": [
    {
     "name": "stdout",
     "output_type": "stream",
     "text": [
      "[3, 'I Love Python']\n",
      "I Love Python\n"
     ]
    }
   ],
   "source": [
    "bigdata =[[1,'Big Data Class'],[2,\"Is Really Fun\"],[3,'I Love Python']]\n",
    "print (bigdata [2])\n",
    "print (bigdata [2][1])"
   ]
  },
  {
   "cell_type": "markdown",
   "metadata": {},
   "source": [
    "**4) Cast the following list to be a string in Python:** <br/>\n",
    "Define the list [1,2,4,3,'k'] and cast it to a string where you print out '1243k'. Insert your code below."
   ]
  },
  {
   "cell_type": "code",
   "execution_count": 10,
   "metadata": {},
   "outputs": [
    {
     "data": {
      "text/plain": [
       "'1243K'"
      ]
     },
     "execution_count": 10,
     "metadata": {},
     "output_type": "execute_result"
    }
   ],
   "source": [
    "lst_1 = [1,2,4,3,'K']\n",
    "''.join(map(str,lst_1))"
   ]
  },
  {
   "cell_type": "markdown",
   "metadata": {},
   "source": [
    "**5) Test whether the two lists are equal too each other and if not what elements are shared between the two lists.**<br/>\n",
    "<t/>list1 = ['1',2,'3',4,5]<br/>\n",
    "<t/>list2 = [1,2,3,4,'5',6]<br/>\n",
    "<br/>\n",
    "Define the lists and print whether the lists are equal to one another, and find which elements are a match. (***Hint you can go element by element or use you can use a \"for\" loop, or, you can use a different data structure all together***). \n"
   ]
  },
  {
   "cell_type": "code",
   "execution_count": 11,
   "metadata": {},
   "outputs": [
    {
     "name": "stdout",
     "output_type": "stream",
     "text": [
      "False\n",
      "True\n",
      "False\n",
      "True\n",
      "False\n"
     ]
    }
   ],
   "source": [
    "list1 = ['1',2,'3',4,5]\n",
    "list2 = [1,2,3,4,'5',6]\n",
    "\n",
    "print (list1[0]==list2[0])\n",
    "print (list1[1]==list2[1])\n",
    "print (list1[2]==list2[2])\n",
    "print (list1[3]==list2[3])\n",
    "print (list1[4]==list2[4])"
   ]
  },
  {
   "cell_type": "markdown",
   "metadata": {},
   "source": [
    "**6) Test whether the two lists are equal too each other and if not what elements are shared between the two lists.**<br/>"
   ]
  },
  {
   "cell_type": "code",
   "execution_count": 12,
   "metadata": {},
   "outputs": [
    {
     "name": "stdout",
     "output_type": "stream",
     "text": [
      "False\n",
      "True\n",
      "False\n",
      "True\n",
      "False\n"
     ]
    }
   ],
   "source": [
    "list1 = ['1',2,'3',4,5]\n",
    "list2 = [1,2,3,4,'5',6]\n",
    "\n",
    "print (list1[0]==list2[0])\n",
    "print (list1[1]==list2[1])\n",
    "print (list1[2]==list2[2])\n",
    "print (list1[3]==list2[3])\n",
    "print (list1[4]==list2[4])"
   ]
  },
  {
   "cell_type": "markdown",
   "metadata": {},
   "source": [
    "**7) What are the \"5 V's\" commonly used to describe Big Data?** Write your answer below."
   ]
  },
  {
   "cell_type": "markdown",
   "metadata": {
    "collapsed": true
   },
   "source": [
    "The 5 V’s used to describe big data are:\n",
    "1.\tVolume\n",
    "2.\tVelocity\n",
    "3.\tVariety\n",
    "4.\tValue\n",
    "5.\tVeracity\n"
   ]
  },
  {
   "cell_type": "markdown",
   "metadata": {},
   "source": [
    "**8) Finish the quote:**<br/> *\"All models are wrong. Some are [...]\"*"
   ]
  },
  {
   "cell_type": "markdown",
   "metadata": {
    "collapsed": true
   },
   "source": [
    "Some are more useful than others"
   ]
  },
  {
   "cell_type": "markdown",
   "metadata": {},
   "source": [
    "**9) If a variable dogs = 103x23/2 and a variable cats = 10x12x4,  Use python to determing if dogs are greater than cats. **"
   ]
  },
  {
   "cell_type": "code",
   "execution_count": 13,
   "metadata": {},
   "outputs": [
    {
     "name": "stdout",
     "output_type": "stream",
     "text": [
      "True\n"
     ]
    }
   ],
   "source": [
    "dogs = 103*23/2\n",
    "cats = 10*12*4\n",
    "\n",
    "print(dogs>cats)"
   ]
  },
  {
   "cell_type": "markdown",
   "metadata": {},
   "source": [
    "**10) What is the name for the 3 primary measures of central tendency and give their definition** "
   ]
  },
  {
   "cell_type": "markdown",
   "metadata": {
    "collapsed": true
   },
   "source": [
    "Central tendency is measure by the following 3 descriptive statistics\n",
    "1.\tMean – Arithmetic average\n",
    "2.\tMedian – Middle value\n",
    "3.\tMode – Most common value\n"
   ]
  },
  {
   "cell_type": "markdown",
   "metadata": {},
   "source": [
    "**11) Calculate the descriptive statistice for each of the above central measures in Python on this list of numbers and print out the values:**<br/> \n",
    "\n",
    "[12,44,23,2,1,66,7,85,3,34,23,6,34,23,7,21,14,34,23,88]\n",
    "<br/> \n",
    "*(Hint: it might be easier to import a function from some other library)*\n",
    "\n"
   ]
  },
  {
   "cell_type": "code",
   "execution_count": 25,
   "metadata": {},
   "outputs": [
    {
     "name": "stdout",
     "output_type": "stream",
     "text": [
      "27.5\n",
      "23.0\n",
      "23\n"
     ]
    }
   ],
   "source": [
    "import statistics\n",
    "\n",
    "q11_list = [12,44,23,2,1,66,7,85,3,34,23,6,34,23,7,21,14,34,23,88]\n",
    "\n",
    "print(statistics.mean(q11_list))\n",
    "print(statistics.median(q11_list))\n",
    "print (statistics.mode(q11_list))"
   ]
  },
  {
   "cell_type": "markdown",
   "metadata": {},
   "source": [
    "**12) Delete the empty cell  between question 12 (this one) and Question 13 from the Jupyter notebook**"
   ]
  },
  {
   "cell_type": "markdown",
   "metadata": {},
   "source": [
    "**13) Create a list, called mylist, containing a sequential list of numbers that starts with 2 and stops at 1000, counting by 2's in Python**"
   ]
  },
  {
   "cell_type": "code",
   "execution_count": 52,
   "metadata": {},
   "outputs": [
    {
     "name": "stdout",
     "output_type": "stream",
     "text": [
      "[2, 4, 6, 8, 10, 12, 14, 16, 18, 20, 22, 24, 26, 28, 30, 32, 34, 36, 38, 40, 42, 44, 46, 48, 50, 52, 54, 56, 58, 60, 62, 64, 66, 68, 70, 72, 74, 76, 78, 80, 82, 84, 86, 88, 90, 92, 94, 96, 98, 100, 102, 104, 106, 108, 110, 112, 114, 116, 118, 120, 122, 124, 126, 128, 130, 132, 134, 136, 138, 140, 142, 144, 146, 148, 150, 152, 154, 156, 158, 160, 162, 164, 166, 168, 170, 172, 174, 176, 178, 180, 182, 184, 186, 188, 190, 192, 194, 196, 198, 200, 202, 204, 206, 208, 210, 212, 214, 216, 218, 220, 222, 224, 226, 228, 230, 232, 234, 236, 238, 240, 242, 244, 246, 248, 250, 252, 254, 256, 258, 260, 262, 264, 266, 268, 270, 272, 274, 276, 278, 280, 282, 284, 286, 288, 290, 292, 294, 296, 298, 300, 302, 304, 306, 308, 310, 312, 314, 316, 318, 320, 322, 324, 326, 328, 330, 332, 334, 336, 338, 340, 342, 344, 346, 348, 350, 352, 354, 356, 358, 360, 362, 364, 366, 368, 370, 372, 374, 376, 378, 380, 382, 384, 386, 388, 390, 392, 394, 396, 398, 400, 402, 404, 406, 408, 410, 412, 414, 416, 418, 420, 422, 424, 426, 428, 430, 432, 434, 436, 438, 440, 442, 444, 446, 448, 450, 452, 454, 456, 458, 460, 462, 464, 466, 468, 470, 472, 474, 476, 478, 480, 482, 484, 486, 488, 490, 492, 494, 496, 498, 500, 502, 504, 506, 508, 510, 512, 514, 516, 518, 520, 522, 524, 526, 528, 530, 532, 534, 536, 538, 540, 542, 544, 546, 548, 550, 552, 554, 556, 558, 560, 562, 564, 566, 568, 570, 572, 574, 576, 578, 580, 582, 584, 586, 588, 590, 592, 594, 596, 598, 600, 602, 604, 606, 608, 610, 612, 614, 616, 618, 620, 622, 624, 626, 628, 630, 632, 634, 636, 638, 640, 642, 644, 646, 648, 650, 652, 654, 656, 658, 660, 662, 664, 666, 668, 670, 672, 674, 676, 678, 680, 682, 684, 686, 688, 690, 692, 694, 696, 698, 700, 702, 704, 706, 708, 710, 712, 714, 716, 718, 720, 722, 724, 726, 728, 730, 732, 734, 736, 738, 740, 742, 744, 746, 748, 750, 752, 754, 756, 758, 760, 762, 764, 766, 768, 770, 772, 774, 776, 778, 780, 782, 784, 786, 788, 790, 792, 794, 796, 798, 800, 802, 804, 806, 808, 810, 812, 814, 816, 818, 820, 822, 824, 826, 828, 830, 832, 834, 836, 838, 840, 842, 844, 846, 848, 850, 852, 854, 856, 858, 860, 862, 864, 866, 868, 870, 872, 874, 876, 878, 880, 882, 884, 886, 888, 890, 892, 894, 896, 898, 900, 902, 904, 906, 908, 910, 912, 914, 916, 918, 920, 922, 924, 926, 928, 930, 932, 934, 936, 938, 940, 942, 944, 946, 948, 950, 952, 954, 956, 958, 960, 962, 964, 966, 968, 970, 972, 974, 976, 978, 980, 982, 984, 986, 988, 990, 992, 994, 996, 998, 1000, 1002, 1004, 1006, 1008, 1010, 1012, 1014, 1016, 1018, 1020, 1022, 1024, 1026, 1028, 1030, 1032, 1034, 1036, 1038, 1040, 1042, 1044, 1046, 1048, 1050, 1052, 1054, 1056, 1058, 1060, 1062, 1064, 1066, 1068, 1070, 1072, 1074, 1076, 1078, 1080, 1082, 1084, 1086, 1088, 1090, 1092, 1094, 1096, 1098, 1100, 1102, 1104, 1106, 1108, 1110, 1112, 1114, 1116, 1118, 1120, 1122, 1124, 1126, 1128, 1130, 1132, 1134, 1136, 1138, 1140, 1142, 1144, 1146, 1148, 1150, 1152, 1154, 1156, 1158, 1160, 1162, 1164, 1166, 1168, 1170, 1172, 1174, 1176, 1178, 1180, 1182, 1184, 1186, 1188, 1190, 1192, 1194, 1196, 1198, 1200, 1202, 1204, 1206, 1208, 1210, 1212, 1214, 1216, 1218, 1220, 1222, 1224, 1226, 1228, 1230, 1232, 1234, 1236, 1238, 1240, 1242, 1244, 1246, 1248, 1250, 1252, 1254, 1256, 1258, 1260, 1262, 1264, 1266, 1268, 1270, 1272, 1274, 1276, 1278, 1280, 1282, 1284, 1286, 1288, 1290, 1292, 1294, 1296, 1298, 1300, 1302, 1304, 1306, 1308, 1310, 1312, 1314, 1316, 1318, 1320, 1322, 1324, 1326, 1328, 1330, 1332, 1334, 1336, 1338, 1340, 1342, 1344, 1346, 1348, 1350, 1352, 1354, 1356, 1358, 1360, 1362, 1364, 1366, 1368, 1370, 1372, 1374, 1376, 1378, 1380, 1382, 1384, 1386, 1388, 1390, 1392, 1394, 1396, 1398, 1400, 1402, 1404, 1406, 1408, 1410, 1412, 1414, 1416, 1418, 1420, 1422, 1424, 1426, 1428, 1430, 1432, 1434, 1436, 1438, 1440, 1442, 1444, 1446, 1448, 1450, 1452, 1454, 1456, 1458, 1460, 1462, 1464, 1466, 1468, 1470, 1472, 1474, 1476, 1478, 1480, 1482, 1484, 1486, 1488, 1490, 1492, 1494, 1496, 1498, 1500, 1502, 1504, 1506, 1508, 1510, 1512, 1514, 1516, 1518, 1520, 1522, 1524, 1526, 1528, 1530, 1532, 1534, 1536, 1538, 1540, 1542, 1544, 1546, 1548, 1550, 1552, 1554, 1556, 1558, 1560, 1562, 1564, 1566, 1568, 1570, 1572, 1574, 1576, 1578, 1580, 1582, 1584, 1586, 1588, 1590, 1592, 1594, 1596, 1598, 1600, 1602, 1604, 1606, 1608, 1610, 1612, 1614, 1616, 1618, 1620, 1622, 1624, 1626, 1628, 1630, 1632, 1634, 1636, 1638, 1640, 1642, 1644, 1646, 1648, 1650, 1652, 1654, 1656, 1658, 1660, 1662, 1664, 1666, 1668, 1670, 1672, 1674, 1676, 1678, 1680, 1682, 1684, 1686, 1688, 1690, 1692, 1694, 1696, 1698, 1700, 1702, 1704, 1706, 1708, 1710, 1712, 1714, 1716, 1718, 1720, 1722, 1724, 1726, 1728, 1730, 1732, 1734, 1736, 1738, 1740, 1742, 1744, 1746, 1748, 1750, 1752, 1754, 1756, 1758, 1760, 1762, 1764, 1766, 1768, 1770, 1772, 1774, 1776, 1778, 1780, 1782, 1784, 1786, 1788, 1790, 1792, 1794, 1796, 1798, 1800, 1802, 1804, 1806, 1808, 1810, 1812, 1814, 1816, 1818, 1820, 1822, 1824, 1826, 1828, 1830, 1832, 1834, 1836, 1838, 1840, 1842, 1844, 1846, 1848, 1850, 1852, 1854, 1856, 1858, 1860, 1862, 1864, 1866, 1868, 1870, 1872, 1874, 1876, 1878, 1880, 1882, 1884, 1886, 1888, 1890, 1892, 1894, 1896, 1898, 1900, 1902, 1904, 1906, 1908, 1910, 1912, 1914, 1916, 1918, 1920, 1922, 1924, 1926, 1928, 1930, 1932, 1934, 1936, 1938, 1940, 1942, 1944, 1946, 1948, 1950, 1952, 1954, 1956, 1958, 1960, 1962, 1964, 1966, 1968, 1970, 1972, 1974, 1976, 1978, 1980, 1982, 1984, 1986, 1988, 1990, 1992, 1994, 1996, 1998, 2000]\n"
     ]
    }
   ],
   "source": [
    "mylist= list(range(2,2001))[::2]\n",
    "\n",
    "print(mylist)"
   ]
  },
  {
   "cell_type": "markdown",
   "metadata": {},
   "source": [
    "**14) Is the sum of the first 50 elements in \"mylist\" greater than the last element of  \"mylist\"?**<br/> Use Python below to print out the answer. (mylist is defined in question 13). "
   ]
  },
  {
   "cell_type": "code",
   "execution_count": 53,
   "metadata": {},
   "outputs": [
    {
     "name": "stdout",
     "output_type": "stream",
     "text": [
      "2550\n"
     ]
    }
   ],
   "source": [
    "total = sum((mylist)[:50])\n",
    "print (total)"
   ]
  },
  {
   "cell_type": "markdown",
   "metadata": {},
   "source": [
    "**15) What is the length of \"mylist\"?**"
   ]
  },
  {
   "cell_type": "code",
   "execution_count": 54,
   "metadata": {},
   "outputs": [
    {
     "name": "stdout",
     "output_type": "stream",
     "text": [
      "1000\n"
     ]
    }
   ],
   "source": [
    "print (len(mylist))"
   ]
  },
  {
   "cell_type": "markdown",
   "metadata": {},
   "source": [
    "**16) Create another list, called my2ndlist, containing a list of numbers starting at 1002 and stops at 1052,counting by 3's in Python. <br/>THEN concatenate my2ndlist with mylist into a new list called theMegaList.**<br/> Print theMegaList below."
   ]
  },
  {
   "cell_type": "code",
   "execution_count": 56,
   "metadata": {},
   "outputs": [
    {
     "name": "stdout",
     "output_type": "stream",
     "text": [
      "[2, 4, 6, 8, 10, 12, 14, 16, 18, 20, 22, 24, 26, 28, 30, 32, 34, 36, 38, 40, 42, 44, 46, 48, 50, 52, 54, 56, 58, 60, 62, 64, 66, 68, 70, 72, 74, 76, 78, 80, 82, 84, 86, 88, 90, 92, 94, 96, 98, 100, 102, 104, 106, 108, 110, 112, 114, 116, 118, 120, 122, 124, 126, 128, 130, 132, 134, 136, 138, 140, 142, 144, 146, 148, 150, 152, 154, 156, 158, 160, 162, 164, 166, 168, 170, 172, 174, 176, 178, 180, 182, 184, 186, 188, 190, 192, 194, 196, 198, 200, 202, 204, 206, 208, 210, 212, 214, 216, 218, 220, 222, 224, 226, 228, 230, 232, 234, 236, 238, 240, 242, 244, 246, 248, 250, 252, 254, 256, 258, 260, 262, 264, 266, 268, 270, 272, 274, 276, 278, 280, 282, 284, 286, 288, 290, 292, 294, 296, 298, 300, 302, 304, 306, 308, 310, 312, 314, 316, 318, 320, 322, 324, 326, 328, 330, 332, 334, 336, 338, 340, 342, 344, 346, 348, 350, 352, 354, 356, 358, 360, 362, 364, 366, 368, 370, 372, 374, 376, 378, 380, 382, 384, 386, 388, 390, 392, 394, 396, 398, 400, 402, 404, 406, 408, 410, 412, 414, 416, 418, 420, 422, 424, 426, 428, 430, 432, 434, 436, 438, 440, 442, 444, 446, 448, 450, 452, 454, 456, 458, 460, 462, 464, 466, 468, 470, 472, 474, 476, 478, 480, 482, 484, 486, 488, 490, 492, 494, 496, 498, 500, 502, 504, 506, 508, 510, 512, 514, 516, 518, 520, 522, 524, 526, 528, 530, 532, 534, 536, 538, 540, 542, 544, 546, 548, 550, 552, 554, 556, 558, 560, 562, 564, 566, 568, 570, 572, 574, 576, 578, 580, 582, 584, 586, 588, 590, 592, 594, 596, 598, 600, 602, 604, 606, 608, 610, 612, 614, 616, 618, 620, 622, 624, 626, 628, 630, 632, 634, 636, 638, 640, 642, 644, 646, 648, 650, 652, 654, 656, 658, 660, 662, 664, 666, 668, 670, 672, 674, 676, 678, 680, 682, 684, 686, 688, 690, 692, 694, 696, 698, 700, 702, 704, 706, 708, 710, 712, 714, 716, 718, 720, 722, 724, 726, 728, 730, 732, 734, 736, 738, 740, 742, 744, 746, 748, 750, 752, 754, 756, 758, 760, 762, 764, 766, 768, 770, 772, 774, 776, 778, 780, 782, 784, 786, 788, 790, 792, 794, 796, 798, 800, 802, 804, 806, 808, 810, 812, 814, 816, 818, 820, 822, 824, 826, 828, 830, 832, 834, 836, 838, 840, 842, 844, 846, 848, 850, 852, 854, 856, 858, 860, 862, 864, 866, 868, 870, 872, 874, 876, 878, 880, 882, 884, 886, 888, 890, 892, 894, 896, 898, 900, 902, 904, 906, 908, 910, 912, 914, 916, 918, 920, 922, 924, 926, 928, 930, 932, 934, 936, 938, 940, 942, 944, 946, 948, 950, 952, 954, 956, 958, 960, 962, 964, 966, 968, 970, 972, 974, 976, 978, 980, 982, 984, 986, 988, 990, 992, 994, 996, 998, 1000, 1002, 1004, 1005, 1006, 1008, 1010, 1011, 1012, 1014, 1016, 1017, 1018, 1020, 1022, 1023, 1024, 1026, 1028, 1029, 1030, 1032, 1034, 1035, 1036, 1038, 1040, 1041, 1042, 1044, 1046, 1047, 1048, 1050, 1052, 1054, 1056, 1058, 1060, 1062, 1064, 1066, 1068, 1070, 1072, 1074, 1076, 1078, 1080, 1082, 1084, 1086, 1088, 1090, 1092, 1094, 1096, 1098, 1100, 1102, 1104, 1106, 1108, 1110, 1112, 1114, 1116, 1118, 1120, 1122, 1124, 1126, 1128, 1130, 1132, 1134, 1136, 1138, 1140, 1142, 1144, 1146, 1148, 1150, 1152, 1154, 1156, 1158, 1160, 1162, 1164, 1166, 1168, 1170, 1172, 1174, 1176, 1178, 1180, 1182, 1184, 1186, 1188, 1190, 1192, 1194, 1196, 1198, 1200, 1202, 1204, 1206, 1208, 1210, 1212, 1214, 1216, 1218, 1220, 1222, 1224, 1226, 1228, 1230, 1232, 1234, 1236, 1238, 1240, 1242, 1244, 1246, 1248, 1250, 1252, 1254, 1256, 1258, 1260, 1262, 1264, 1266, 1268, 1270, 1272, 1274, 1276, 1278, 1280, 1282, 1284, 1286, 1288, 1290, 1292, 1294, 1296, 1298, 1300, 1302, 1304, 1306, 1308, 1310, 1312, 1314, 1316, 1318, 1320, 1322, 1324, 1326, 1328, 1330, 1332, 1334, 1336, 1338, 1340, 1342, 1344, 1346, 1348, 1350, 1352, 1354, 1356, 1358, 1360, 1362, 1364, 1366, 1368, 1370, 1372, 1374, 1376, 1378, 1380, 1382, 1384, 1386, 1388, 1390, 1392, 1394, 1396, 1398, 1400, 1402, 1404, 1406, 1408, 1410, 1412, 1414, 1416, 1418, 1420, 1422, 1424, 1426, 1428, 1430, 1432, 1434, 1436, 1438, 1440, 1442, 1444, 1446, 1448, 1450, 1452, 1454, 1456, 1458, 1460, 1462, 1464, 1466, 1468, 1470, 1472, 1474, 1476, 1478, 1480, 1482, 1484, 1486, 1488, 1490, 1492, 1494, 1496, 1498, 1500, 1502, 1504, 1506, 1508, 1510, 1512, 1514, 1516, 1518, 1520, 1522, 1524, 1526, 1528, 1530, 1532, 1534, 1536, 1538, 1540, 1542, 1544, 1546, 1548, 1550, 1552, 1554, 1556, 1558, 1560, 1562, 1564, 1566, 1568, 1570, 1572, 1574, 1576, 1578, 1580, 1582, 1584, 1586, 1588, 1590, 1592, 1594, 1596, 1598, 1600, 1602, 1604, 1606, 1608, 1610, 1612, 1614, 1616, 1618, 1620, 1622, 1624, 1626, 1628, 1630, 1632, 1634, 1636, 1638, 1640, 1642, 1644, 1646, 1648, 1650, 1652, 1654, 1656, 1658, 1660, 1662, 1664, 1666, 1668, 1670, 1672, 1674, 1676, 1678, 1680, 1682, 1684, 1686, 1688, 1690, 1692, 1694, 1696, 1698, 1700, 1702, 1704, 1706, 1708, 1710, 1712, 1714, 1716, 1718, 1720, 1722, 1724, 1726, 1728, 1730, 1732, 1734, 1736, 1738, 1740, 1742, 1744, 1746, 1748, 1750, 1752, 1754, 1756, 1758, 1760, 1762, 1764, 1766, 1768, 1770, 1772, 1774, 1776, 1778, 1780, 1782, 1784, 1786, 1788, 1790, 1792, 1794, 1796, 1798, 1800, 1802, 1804, 1806, 1808, 1810, 1812, 1814, 1816, 1818, 1820, 1822, 1824, 1826, 1828, 1830, 1832, 1834, 1836, 1838, 1840, 1842, 1844, 1846, 1848, 1850, 1852, 1854, 1856, 1858, 1860, 1862, 1864, 1866, 1868, 1870, 1872, 1874, 1876, 1878, 1880, 1882, 1884, 1886, 1888, 1890, 1892, 1894, 1896, 1898, 1900, 1902, 1904, 1906, 1908, 1910, 1912, 1914, 1916, 1918, 1920, 1922, 1924, 1926, 1928, 1930, 1932, 1934, 1936, 1938, 1940, 1942, 1944, 1946, 1948, 1950, 1952, 1954, 1956, 1958, 1960, 1962, 1964, 1966, 1968, 1970, 1972, 1974, 1976, 1978, 1980, 1982, 1984, 1986, 1988, 1990, 1992, 1994, 1996, 1998, 2000]\n"
     ]
    }
   ],
   "source": [
    "my2ndlist= list(range(1002,1052))[::3]\n",
    "\n",
    "theMegaList = list(set(mylist + my2ndlist))\n",
    "\n",
    "print(theMegaList)"
   ]
  },
  {
   "cell_type": "markdown",
   "metadata": {},
   "source": [
    "**17) What is the index for the value 822 in theMegaList?**"
   ]
  },
  {
   "cell_type": "code",
   "execution_count": 58,
   "metadata": {},
   "outputs": [
    {
     "name": "stdout",
     "output_type": "stream",
     "text": [
      "410\n"
     ]
    }
   ],
   "source": [
    "print(theMegaList.index(822))\n"
   ]
  },
  {
   "cell_type": "markdown",
   "metadata": {},
   "source": [
    "**18) Write a for loop that will test if an element in theMegaList is an even or odd number and keeps a count of how many of each there are in the list.**<br/> Print out the total number of even and odd numbers found in theMegalist below. "
   ]
  },
  {
   "cell_type": "code",
   "execution_count": 60,
   "metadata": {},
   "outputs": [
    {
     "name": "stdout",
     "output_type": "stream",
     "text": [
      "Number of even numbers : 1000\n",
      "Number of odd numbers : 8\n"
     ]
    }
   ],
   "source": [
    "count_odd = 0\n",
    "count_even = 0\n",
    "for x in (theMegaList):\n",
    "        if not x % 2:\n",
    "             count_even+=1\n",
    "        else:\n",
    "             count_odd+=1\n",
    "print(\"Number of even numbers :\",count_even)\n",
    "print(\"Number of odd numbers :\",count_odd)"
   ]
  },
  {
   "cell_type": "markdown",
   "metadata": {},
   "source": [
    "**19) Write a brief definition of what Data Latency and the difference between \"real-time\" and \"near-time\" data.**"
   ]
  },
  {
   "cell_type": "markdown",
   "metadata": {
    "collapsed": true
   },
   "source": [
    "Data Latency describes the time perspective of the data. \n",
    "It includes factors such as how often data is collected, updated, and the amount of time delay between the time the data is collected and when the event actually occurred. \n",
    "\n",
    "Real Time Data – is when there is a relatively small amount of time between the data being collected/updated and the event occurring (i.e. real event) \n",
    "\n",
    "Near Time Data – when the latency is less than a day but longer than an hour\n",
    "\n"
   ]
  },
  {
   "cell_type": "markdown",
   "metadata": {},
   "source": [
    "**19) What does the statistic Standard Deviation tell you about a numerical dataset? **"
   ]
  },
  {
   "cell_type": "markdown",
   "metadata": {
    "collapsed": true
   },
   "source": [
    "Standard deviation tell us how far away the data is from the mean of the set of the data\n",
    "\n",
    "It is calculated as the square root of the variance. \n"
   ]
  },
  {
   "cell_type": "markdown",
   "metadata": {},
   "source": [
    "**20) Suppose you have the following loop:**<br>\n",
    ">things = [1,2,3,5,6,7,8,9,10]<br>\n",
    ">previous_thing = 0<br>\n",
    ">for thing in things:<br>\n",
    ">>new_thing = thing * previous_thing<br>\n",
    ">>x = 3+previous_thing<br>\n",
    ">>previous_thing = thing<br>\n",
    "\n",
    "**At the end of the loop:**\n",
    ">**What does new_thing equal?**<br>\n",
    ">**What does x equal?**\n",
    "    \n",
    "    \n"
   ]
  },
  {
   "cell_type": "markdown",
   "metadata": {
    "collapsed": true
   },
   "source": [
    "new_thing = 90\n",
    "\n",
    "x = 12\n"
   ]
  },
  {
   "cell_type": "markdown",
   "metadata": {},
   "source": [
    "**21) What's the difference between Zero and None or Null?** "
   ]
  },
  {
   "cell_type": "markdown",
   "metadata": {
    "collapsed": true
   },
   "source": [
    "Zero – is a numeric value (or integer) with a value of 0. \n",
    "\n",
    "Null – is when a variable is defined but has no value assigned to it\n",
    "\n",
    "None – is the absence of anything, there is no variable or value\n",
    "\n"
   ]
  },
  {
   "cell_type": "markdown",
   "metadata": {},
   "source": [
    "**22) In the following loop:**<br> \n",
    ">x = 1<br>\n",
    ">sure_thing = True<br>\n",
    ">while sure_thing:<br>\n",
    ">>x = x +100<br>\n",
    ">>if x < 20001: <br>\n",
    ">>>x = x-1<br>\n",
    ">>else: <br>\n",
    ">>>sure_thing = False<br>\n",
    "\n",
    "**What does x equal to make our sure_thing False? **\n",
    "        "
   ]
  },
  {
   "cell_type": "markdown",
   "metadata": {
    "collapsed": true
   },
   "source": [
    "x = 20099 to make sure_thing False"
   ]
  },
  {
   "cell_type": "markdown",
   "metadata": {},
   "source": [
    "**Based on the DataFrame df and df1 defined below, add needed code to answer the following questions.**"
   ]
  },
  {
   "cell_type": "code",
   "execution_count": 62,
   "metadata": {
    "collapsed": true
   },
   "outputs": [],
   "source": [
    "from pandas import Series, DataFrame\n",
    "import pandas as pd\n",
    "raw_data = {'first_name': ['Jason', 'Jason', 'Tina', 'Jake', 'Amy'],\n",
    "        'last_name': ['Miller', 'Miller', 'Ali', 'Milner', 'Milner'],\n",
    "        'age': [42, 42, 36, 24, 73],\n",
    "        'preTest': [4, 4, 31, 2, 3],\n",
    "        'postTest': [25, 25, 57, 62, 70]}\n",
    "df = pd.DataFrame(raw_data, columns = ['first_name', 'last_name', 'age', 'preTest', 'postTest'])\n",
    "df1 = df"
   ]
  },
  {
   "cell_type": "markdown",
   "metadata": {},
   "source": [
    "**23) What are the column names in df1?print the result.**"
   ]
  },
  {
   "cell_type": "code",
   "execution_count": 63,
   "metadata": {},
   "outputs": [
    {
     "data": {
      "text/plain": [
       "['first_name', 'last_name', 'age', 'preTest', 'postTest']"
      ]
     },
     "execution_count": 63,
     "metadata": {},
     "output_type": "execute_result"
    }
   ],
   "source": [
    "list(df1)"
   ]
  },
  {
   "cell_type": "markdown",
   "metadata": {},
   "source": [
    "**24) What is the average (mean) of the preTest and postTest scores?print the result. **"
   ]
  },
  {
   "cell_type": "code",
   "execution_count": 66,
   "metadata": {},
   "outputs": [
    {
     "name": "stdout",
     "output_type": "stream",
     "text": [
      "8.8\n",
      "47.8\n"
     ]
    }
   ],
   "source": [
    "print (df1['preTest'].mean())\n",
    "print (df1['postTest'].mean())\n"
   ]
  },
  {
   "cell_type": "markdown",
   "metadata": {},
   "source": [
    "**25) Remove duplicated rows in df based on last_name only.  Instead of keeping the first value, now keep the last of the duplicated values.print the result.**"
   ]
  },
  {
   "cell_type": "code",
   "execution_count": 67,
   "metadata": {},
   "outputs": [
    {
     "name": "stdout",
     "output_type": "stream",
     "text": [
      "  first_name last_name  age  preTest  postTest\n",
      "1      Jason    Miller   42        4        25\n",
      "2       Tina       Ali   36       31        57\n",
      "4        Amy    Milner   73        3        70\n"
     ]
    }
   ],
   "source": [
    "df2 = df.drop_duplicates(subset ='last_name', keep = 'last')\n",
    "print (df2)"
   ]
  },
  {
   "cell_type": "markdown",
   "metadata": {},
   "source": [
    "**26) Remove duplicated rows in df1 based on both first_name and last_name.  print the result.**"
   ]
  },
  {
   "cell_type": "code",
   "execution_count": 70,
   "metadata": {},
   "outputs": [
    {
     "name": "stdout",
     "output_type": "stream",
     "text": [
      "  first_name last_name  age  preTest  postTest\n",
      "0      Jason    Miller   42        4        25\n",
      "2       Tina       Ali   36       31        57\n",
      "3       Jake    Milner   24        2        62\n"
     ]
    }
   ],
   "source": [
    "df3 = df1.drop_duplicates(['first_name'])\n",
    "\n",
    "df4 = df3.drop_duplicates(['last_name'])\n",
    "print (df4)"
   ]
  },
  {
   "cell_type": "markdown",
   "metadata": {},
   "source": [
    "***Use the dataframe defined in the following cell to answer the next few questions***: "
   ]
  },
  {
   "cell_type": "code",
   "execution_count": 73,
   "metadata": {},
   "outputs": [
    {
     "name": "stdout",
     "output_type": "stream",
     "text": [
      "            0         1         2         3\n",
      "0    0.496714 -0.138264  0.647689  1.523030\n",
      "1   -0.234153 -0.234137  1.579213  0.767435\n",
      "2   -0.469474  0.542560 -0.463418 -0.465730\n",
      "3    0.241962 -1.913280 -1.724918 -0.562288\n",
      "4   -1.012831  0.314247 -0.908024 -1.412304\n",
      "5    1.465649 -0.225776  0.067528 -1.424748\n",
      "6   -0.544383  0.110923 -1.150994  0.375698\n",
      "7   -0.600639 -0.291694 -0.601707  1.852278\n",
      "8   -0.013497 -1.057711  0.822545 -1.220844\n",
      "9    0.208864 -1.959670 -1.328186  0.196861\n",
      "10   0.738467  0.171368 -0.115648 -0.301104\n",
      "11  -1.478522 -0.719844 -0.460639  1.057122\n",
      "12   0.343618 -1.763040  0.324084 -0.385082\n",
      "13  -0.676922  0.611676  1.031000  0.931280\n",
      "14  -0.839218 -0.309212  0.331263  0.975545\n",
      "15  -0.479174 -0.185659 -1.106335 -1.196207\n",
      "16   0.812526  1.356240 -0.072010  1.003533\n",
      "17   0.361636 -0.645120  0.361396  1.538037\n",
      "18  -0.035826  1.564644 -2.619745  0.821903\n",
      "19   0.087047 -0.299007  0.091761 -1.987569\n",
      "20  -0.219672  0.357113  1.477894 -0.518270\n",
      "21  -0.808494 -0.501757  0.915402  0.328751\n",
      "22  -0.529760  0.513267  0.097078  0.968645\n",
      "23  -0.702053 -0.327662 -0.392108 -1.463515\n",
      "24   0.296120  0.261055  0.005113 -0.234587\n",
      "25  -1.415371 -0.420645 -0.342715 -0.802277\n",
      "26  -0.161286  0.404051  1.886186  0.174578\n",
      "27   0.257550 -0.074446 -1.918771 -0.026514\n",
      "28   0.060230  2.463242 -0.192361  0.301547\n",
      "29  -0.034712 -1.168678  1.142823  0.751933\n",
      "..        ...       ...       ...       ...\n",
      "370  0.722381 -0.372833  1.726964 -0.399636\n",
      "371  0.224685  0.932591 -1.418366 -1.760809\n",
      "372 -1.525656  1.262584 -0.551858  2.558199\n",
      "373 -0.564248  0.184551  1.542110  2.006093\n",
      "374  2.061504  1.208366  1.024063  0.592527\n",
      "375  0.778361 -0.551186 -0.818199 -0.003374\n",
      "376 -0.170185 -0.453228  0.696387  0.955305\n",
      "377  0.088407  1.477530 -1.141689 -0.193659\n",
      "378 -0.716822 -1.866537 -0.082681 -0.121748\n",
      "379  1.513450  0.630812 -1.024187  1.854093\n",
      "380  1.221034  0.582098 -0.226484 -0.959439\n",
      "381 -0.372207  1.088749  1.884586  1.543244\n",
      "382 -0.488849 -1.119617  0.140886 -1.768439\n",
      "383  0.323168 -0.147603 -0.466037 -1.594703\n",
      "384  0.513600 -0.532701 -1.169917 -2.872262\n",
      "385 -0.027515  1.772252  1.661259 -0.457096\n",
      "386 -0.602212  0.468774 -0.998385  0.301792\n",
      "387  0.766080  1.226933 -0.100154 -0.203674\n",
      "388 -0.877983 -0.826880 -0.226479  0.367366\n",
      "389  0.913585 -0.803179  1.492689 -0.271124\n",
      "390 -0.021367 -0.747212 -2.424240  0.884045\n",
      "391  0.736844 -0.281328  0.066991  0.515939\n",
      "392 -1.562546 -0.529053  0.794265 -1.254289\n",
      "393  0.293558 -1.356582  0.466430 -0.035641\n",
      "394 -1.615132  1.164739 -0.734592 -0.810252\n",
      "395  0.200569  1.148637 -1.015822  0.061680\n",
      "396  0.428817  0.693106  0.176442 -0.367028\n",
      "397 -0.827590  0.086144 -1.072139 -2.921350\n",
      "398  0.436560  0.903935 -2.362932 -1.009731\n",
      "399  0.619154  2.057495  0.020794 -0.728003\n",
      "\n",
      "[400 rows x 4 columns]\n"
     ]
    }
   ],
   "source": [
    "from pandas import Series, DataFrame\n",
    "import pandas as pd\n",
    "from numpy.random import randn\n",
    "import numpy as np\n",
    "np.random.seed(42)\n",
    "randomdata = DataFrame(np.random.randn(400, 4))\n",
    "print (randomdata)\n",
    "%matplotlib inline"
   ]
  },
  {
   "cell_type": "code",
   "execution_count": null,
   "metadata": {
    "collapsed": true
   },
   "outputs": [],
   "source": []
  },
  {
   "cell_type": "markdown",
   "metadata": {},
   "source": [
    "**27) Use the \"describe\" function to summarize the randomdata created above.**"
   ]
  },
  {
   "cell_type": "code",
   "execution_count": 74,
   "metadata": {},
   "outputs": [
    {
     "data": {
      "text/html": [
       "<div>\n",
       "<style>\n",
       "    .dataframe thead tr:only-child th {\n",
       "        text-align: right;\n",
       "    }\n",
       "\n",
       "    .dataframe thead th {\n",
       "        text-align: left;\n",
       "    }\n",
       "\n",
       "    .dataframe tbody tr th {\n",
       "        vertical-align: top;\n",
       "    }\n",
       "</style>\n",
       "<table border=\"1\" class=\"dataframe\">\n",
       "  <thead>\n",
       "    <tr style=\"text-align: right;\">\n",
       "      <th></th>\n",
       "      <th>0</th>\n",
       "      <th>1</th>\n",
       "      <th>2</th>\n",
       "      <th>3</th>\n",
       "    </tr>\n",
       "  </thead>\n",
       "  <tbody>\n",
       "    <tr>\n",
       "      <th>count</th>\n",
       "      <td>400.000000</td>\n",
       "      <td>400.000000</td>\n",
       "      <td>400.000000</td>\n",
       "      <td>400.000000</td>\n",
       "    </tr>\n",
       "    <tr>\n",
       "      <th>mean</th>\n",
       "      <td>0.035296</td>\n",
       "      <td>0.041202</td>\n",
       "      <td>0.046713</td>\n",
       "      <td>0.035939</td>\n",
       "    </tr>\n",
       "    <tr>\n",
       "      <th>std</th>\n",
       "      <td>0.924153</td>\n",
       "      <td>1.028034</td>\n",
       "      <td>0.997816</td>\n",
       "      <td>1.024632</td>\n",
       "    </tr>\n",
       "    <tr>\n",
       "      <th>min</th>\n",
       "      <td>-2.650970</td>\n",
       "      <td>-2.896255</td>\n",
       "      <td>-3.241267</td>\n",
       "      <td>-2.921350</td>\n",
       "    </tr>\n",
       "    <tr>\n",
       "      <th>25%</th>\n",
       "      <td>-0.612942</td>\n",
       "      <td>-0.651856</td>\n",
       "      <td>-0.602684</td>\n",
       "      <td>-0.683766</td>\n",
       "    </tr>\n",
       "    <tr>\n",
       "      <th>50%</th>\n",
       "      <td>0.052292</td>\n",
       "      <td>0.037928</td>\n",
       "      <td>0.036043</td>\n",
       "      <td>0.047190</td>\n",
       "    </tr>\n",
       "    <tr>\n",
       "      <th>75%</th>\n",
       "      <td>0.634986</td>\n",
       "      <td>0.676014</td>\n",
       "      <td>0.652834</td>\n",
       "      <td>0.744011</td>\n",
       "    </tr>\n",
       "    <tr>\n",
       "      <th>max</th>\n",
       "      <td>2.526932</td>\n",
       "      <td>3.852731</td>\n",
       "      <td>3.078881</td>\n",
       "      <td>2.720169</td>\n",
       "    </tr>\n",
       "  </tbody>\n",
       "</table>\n",
       "</div>"
      ],
      "text/plain": [
       "                0           1           2           3\n",
       "count  400.000000  400.000000  400.000000  400.000000\n",
       "mean     0.035296    0.041202    0.046713    0.035939\n",
       "std      0.924153    1.028034    0.997816    1.024632\n",
       "min     -2.650970   -2.896255   -3.241267   -2.921350\n",
       "25%     -0.612942   -0.651856   -0.602684   -0.683766\n",
       "50%      0.052292    0.037928    0.036043    0.047190\n",
       "75%      0.634986    0.676014    0.652834    0.744011\n",
       "max      2.526932    3.852731    3.078881    2.720169"
      ]
     },
     "execution_count": 74,
     "metadata": {},
     "output_type": "execute_result"
    }
   ],
   "source": [
    "randomdata.describe()"
   ]
  },
  {
   "cell_type": "markdown",
   "metadata": {},
   "source": [
    "**28) Identify the rows which contains at least one item with absolute value greater than 1**"
   ]
  },
  {
   "cell_type": "code",
   "execution_count": 76,
   "metadata": {},
   "outputs": [
    {
     "name": "stdout",
     "output_type": "stream",
     "text": [
      "            0         1         2         3\n",
      "0         NaN       NaN       NaN  1.523030\n",
      "1         NaN       NaN  1.579213       NaN\n",
      "5    1.465649       NaN       NaN       NaN\n",
      "7         NaN       NaN       NaN  1.852278\n",
      "11        NaN       NaN       NaN  1.057122\n",
      "13        NaN       NaN  1.031000       NaN\n",
      "16        NaN  1.356240       NaN  1.003533\n",
      "17        NaN       NaN       NaN  1.538037\n",
      "18        NaN  1.564644       NaN       NaN\n",
      "20        NaN       NaN  1.477894       NaN\n",
      "26        NaN       NaN  1.886186       NaN\n",
      "28        NaN  2.463242       NaN       NaN\n",
      "29        NaN       NaN  1.142823       NaN\n",
      "30        NaN       NaN  1.402794       NaN\n",
      "31        NaN  2.190456       NaN       NaN\n",
      "33        NaN       NaN       NaN  1.549934\n",
      "35        NaN  1.307143       NaN       NaN\n",
      "39   1.865775       NaN       NaN       NaN\n",
      "40        NaN       NaN  1.158596       NaN\n",
      "41        NaN       NaN       NaN  1.896793\n",
      "44        NaN  1.453534       NaN  2.720169\n",
      "50        NaN       NaN  1.083051  1.053802\n",
      "52        NaN  3.852731       NaN  1.135566\n",
      "55   2.314659       NaN       NaN       NaN\n",
      "56        NaN  1.088951       NaN       NaN\n",
      "58        NaN       NaN  2.143944       NaN\n",
      "62   1.765454       NaN       NaN       NaN\n",
      "63   2.122156  1.032465       NaN       NaN\n",
      "64   1.266911       NaN       NaN       NaN\n",
      "66        NaN       NaN  1.632411       NaN\n",
      "..        ...       ...       ...       ...\n",
      "348  2.013387       NaN       NaN       NaN\n",
      "349       NaN       NaN  1.200414       NaN\n",
      "350       NaN       NaN  1.185704       NaN\n",
      "351       NaN       NaN       NaN  1.501334\n",
      "352       NaN       NaN  1.328194       NaN\n",
      "353       NaN  2.165002       NaN       NaN\n",
      "354       NaN       NaN  1.528468       NaN\n",
      "355       NaN  1.072507       NaN       NaN\n",
      "356       NaN       NaN  2.056207       NaN\n",
      "359       NaN  1.607346       NaN       NaN\n",
      "360       NaN  1.173474       NaN       NaN\n",
      "362  1.238283       NaN       NaN  1.702215\n",
      "363       NaN  2.601683       NaN       NaN\n",
      "364       NaN       NaN  1.289753       NaN\n",
      "366       NaN       NaN  1.669905       NaN\n",
      "367       NaN       NaN  1.196631       NaN\n",
      "370       NaN       NaN  1.726964       NaN\n",
      "372       NaN  1.262584       NaN  2.558199\n",
      "373       NaN       NaN  1.542110  2.006093\n",
      "374  2.061504  1.208366  1.024063       NaN\n",
      "377       NaN  1.477530       NaN       NaN\n",
      "379  1.513450       NaN       NaN  1.854093\n",
      "380  1.221034       NaN       NaN       NaN\n",
      "381       NaN  1.088749  1.884586  1.543244\n",
      "385       NaN  1.772252  1.661259       NaN\n",
      "387       NaN  1.226933       NaN       NaN\n",
      "389       NaN       NaN  1.492689       NaN\n",
      "394       NaN  1.164739       NaN       NaN\n",
      "395       NaN  1.148637       NaN       NaN\n",
      "399       NaN  2.057495       NaN       NaN\n",
      "\n",
      "[207 rows x 4 columns]\n"
     ]
    }
   ],
   "source": [
    "rd2 = randomdata[randomdata > abs(1)]\n",
    "\n",
    "rd3 = rd2.dropna(how='all')\n",
    "\n",
    "print(rd3)"
   ]
  },
  {
   "cell_type": "markdown",
   "metadata": {},
   "source": [
    "**29) Set the values greater than 3 to 3, and the values less than -3 to -3.  Rerun the 'describe' function to summarize the randomdata dataset.**"
   ]
  },
  {
   "cell_type": "code",
   "execution_count": 150,
   "metadata": {},
   "outputs": [
    {
     "data": {
      "text/html": [
       "<div>\n",
       "<style>\n",
       "    .dataframe thead tr:only-child th {\n",
       "        text-align: right;\n",
       "    }\n",
       "\n",
       "    .dataframe thead th {\n",
       "        text-align: left;\n",
       "    }\n",
       "\n",
       "    .dataframe tbody tr th {\n",
       "        vertical-align: top;\n",
       "    }\n",
       "</style>\n",
       "<table border=\"1\" class=\"dataframe\">\n",
       "  <thead>\n",
       "    <tr style=\"text-align: right;\">\n",
       "      <th></th>\n",
       "      <th>0</th>\n",
       "      <th>1</th>\n",
       "      <th>2</th>\n",
       "      <th>3</th>\n",
       "    </tr>\n",
       "  </thead>\n",
       "  <tbody>\n",
       "    <tr>\n",
       "      <th>count</th>\n",
       "      <td>400.000000</td>\n",
       "      <td>400.000000</td>\n",
       "      <td>400.000000</td>\n",
       "      <td>400.000000</td>\n",
       "    </tr>\n",
       "    <tr>\n",
       "      <th>mean</th>\n",
       "      <td>0.035296</td>\n",
       "      <td>0.039070</td>\n",
       "      <td>0.047119</td>\n",
       "      <td>0.035939</td>\n",
       "    </tr>\n",
       "    <tr>\n",
       "      <th>std</th>\n",
       "      <td>0.924153</td>\n",
       "      <td>1.020970</td>\n",
       "      <td>0.995301</td>\n",
       "      <td>1.024632</td>\n",
       "    </tr>\n",
       "    <tr>\n",
       "      <th>min</th>\n",
       "      <td>-2.650970</td>\n",
       "      <td>-2.896255</td>\n",
       "      <td>-3.000000</td>\n",
       "      <td>-2.921350</td>\n",
       "    </tr>\n",
       "    <tr>\n",
       "      <th>25%</th>\n",
       "      <td>-0.612942</td>\n",
       "      <td>-0.651856</td>\n",
       "      <td>-0.602684</td>\n",
       "      <td>-0.683766</td>\n",
       "    </tr>\n",
       "    <tr>\n",
       "      <th>50%</th>\n",
       "      <td>0.052292</td>\n",
       "      <td>0.037928</td>\n",
       "      <td>0.036043</td>\n",
       "      <td>0.047190</td>\n",
       "    </tr>\n",
       "    <tr>\n",
       "      <th>75%</th>\n",
       "      <td>0.634986</td>\n",
       "      <td>0.676014</td>\n",
       "      <td>0.652834</td>\n",
       "      <td>0.744011</td>\n",
       "    </tr>\n",
       "    <tr>\n",
       "      <th>max</th>\n",
       "      <td>2.526932</td>\n",
       "      <td>3.000000</td>\n",
       "      <td>3.000000</td>\n",
       "      <td>2.720169</td>\n",
       "    </tr>\n",
       "  </tbody>\n",
       "</table>\n",
       "</div>"
      ],
      "text/plain": [
       "                0           1           2           3\n",
       "count  400.000000  400.000000  400.000000  400.000000\n",
       "mean     0.035296    0.039070    0.047119    0.035939\n",
       "std      0.924153    1.020970    0.995301    1.024632\n",
       "min     -2.650970   -2.896255   -3.000000   -2.921350\n",
       "25%     -0.612942   -0.651856   -0.602684   -0.683766\n",
       "50%      0.052292    0.037928    0.036043    0.047190\n",
       "75%      0.634986    0.676014    0.652834    0.744011\n",
       "max      2.526932    3.000000    3.000000    2.720169"
      ]
     },
     "execution_count": 150,
     "metadata": {},
     "output_type": "execute_result"
    }
   ],
   "source": [
    "randomdata[randomdata>3]=3\n",
    "randomdata[randomdata<-3]=-3\n",
    "randomdata.describe()"
   ]
  },
  {
   "cell_type": "markdown",
   "metadata": {},
   "source": [
    "***Use the dataframe defined in the following cell to answer the next few questions***: "
   ]
  },
  {
   "cell_type": "code",
   "execution_count": 77,
   "metadata": {
    "scrolled": true
   },
   "outputs": [
    {
     "data": {
      "text/html": [
       "<div>\n",
       "<style>\n",
       "    .dataframe thead tr:only-child th {\n",
       "        text-align: right;\n",
       "    }\n",
       "\n",
       "    .dataframe thead th {\n",
       "        text-align: left;\n",
       "    }\n",
       "\n",
       "    .dataframe tbody tr th {\n",
       "        vertical-align: top;\n",
       "    }\n",
       "</style>\n",
       "<table border=\"1\" class=\"dataframe\">\n",
       "  <thead>\n",
       "    <tr style=\"text-align: right;\">\n",
       "      <th></th>\n",
       "      <th>GrossIn</th>\n",
       "      <th>GrossOut</th>\n",
       "      <th>NetIn</th>\n",
       "      <th>NetOut</th>\n",
       "    </tr>\n",
       "  </thead>\n",
       "  <tbody>\n",
       "    <tr>\n",
       "      <th>2015-11-29</th>\n",
       "      <td>-0.182896</td>\n",
       "      <td>1.374876</td>\n",
       "      <td>-0.645964</td>\n",
       "      <td>-0.799192</td>\n",
       "    </tr>\n",
       "    <tr>\n",
       "      <th>2015-12-06</th>\n",
       "      <td>-0.482744</td>\n",
       "      <td>-0.953329</td>\n",
       "      <td>0.122670</td>\n",
       "      <td>1.624678</td>\n",
       "    </tr>\n",
       "    <tr>\n",
       "      <th>2015-12-13</th>\n",
       "      <td>0.323079</td>\n",
       "      <td>-0.252354</td>\n",
       "      <td>-0.291811</td>\n",
       "      <td>-1.563191</td>\n",
       "    </tr>\n",
       "    <tr>\n",
       "      <th>2015-12-20</th>\n",
       "      <td>0.883110</td>\n",
       "      <td>-0.077837</td>\n",
       "      <td>-0.180480</td>\n",
       "      <td>3.193108</td>\n",
       "    </tr>\n",
       "    <tr>\n",
       "      <th>2015-12-27</th>\n",
       "      <td>0.298753</td>\n",
       "      <td>-0.751791</td>\n",
       "      <td>-0.426358</td>\n",
       "      <td>1.148446</td>\n",
       "    </tr>\n",
       "    <tr>\n",
       "      <th>2016-01-03</th>\n",
       "      <td>0.113270</td>\n",
       "      <td>-1.438278</td>\n",
       "      <td>0.919229</td>\n",
       "      <td>-0.668144</td>\n",
       "    </tr>\n",
       "    <tr>\n",
       "      <th>2016-01-10</th>\n",
       "      <td>1.873298</td>\n",
       "      <td>1.080048</td>\n",
       "      <td>-0.447322</td>\n",
       "      <td>1.281016</td>\n",
       "    </tr>\n",
       "    <tr>\n",
       "      <th>2016-01-17</th>\n",
       "      <td>0.067856</td>\n",
       "      <td>0.852774</td>\n",
       "      <td>0.484733</td>\n",
       "      <td>-0.846357</td>\n",
       "    </tr>\n",
       "    <tr>\n",
       "      <th>2016-01-24</th>\n",
       "      <td>-0.643550</td>\n",
       "      <td>1.029961</td>\n",
       "      <td>-0.334775</td>\n",
       "      <td>-0.403648</td>\n",
       "    </tr>\n",
       "    <tr>\n",
       "      <th>2016-01-31</th>\n",
       "      <td>-0.955123</td>\n",
       "      <td>0.423599</td>\n",
       "      <td>2.062525</td>\n",
       "      <td>-1.067533</td>\n",
       "    </tr>\n",
       "    <tr>\n",
       "      <th>2016-02-07</th>\n",
       "      <td>0.024219</td>\n",
       "      <td>1.412221</td>\n",
       "      <td>-0.079641</td>\n",
       "      <td>0.452372</td>\n",
       "    </tr>\n",
       "    <tr>\n",
       "      <th>2016-02-14</th>\n",
       "      <td>-1.062394</td>\n",
       "      <td>0.428307</td>\n",
       "      <td>-0.187144</td>\n",
       "      <td>0.985730</td>\n",
       "    </tr>\n",
       "    <tr>\n",
       "      <th>2016-02-21</th>\n",
       "      <td>1.187386</td>\n",
       "      <td>2.589564</td>\n",
       "      <td>0.579633</td>\n",
       "      <td>0.325796</td>\n",
       "    </tr>\n",
       "    <tr>\n",
       "      <th>2016-02-28</th>\n",
       "      <td>0.194384</td>\n",
       "      <td>-0.353166</td>\n",
       "      <td>0.338484</td>\n",
       "      <td>-0.295401</td>\n",
       "    </tr>\n",
       "    <tr>\n",
       "      <th>2016-03-06</th>\n",
       "      <td>0.168461</td>\n",
       "      <td>1.317598</td>\n",
       "      <td>-1.006543</td>\n",
       "      <td>1.139879</td>\n",
       "    </tr>\n",
       "    <tr>\n",
       "      <th>2016-03-13</th>\n",
       "      <td>1.317115</td>\n",
       "      <td>-0.118069</td>\n",
       "      <td>-2.121855</td>\n",
       "      <td>-0.607822</td>\n",
       "    </tr>\n",
       "    <tr>\n",
       "      <th>2016-03-20</th>\n",
       "      <td>1.296995</td>\n",
       "      <td>-0.022868</td>\n",
       "      <td>-0.999302</td>\n",
       "      <td>-0.504775</td>\n",
       "    </tr>\n",
       "    <tr>\n",
       "      <th>2016-03-27</th>\n",
       "      <td>0.840620</td>\n",
       "      <td>0.546734</td>\n",
       "      <td>-0.238932</td>\n",
       "      <td>-0.366824</td>\n",
       "    </tr>\n",
       "    <tr>\n",
       "      <th>2016-04-03</th>\n",
       "      <td>-0.391758</td>\n",
       "      <td>-0.922410</td>\n",
       "      <td>1.615376</td>\n",
       "      <td>-0.322320</td>\n",
       "    </tr>\n",
       "    <tr>\n",
       "      <th>2016-04-10</th>\n",
       "      <td>1.217159</td>\n",
       "      <td>1.521316</td>\n",
       "      <td>0.998311</td>\n",
       "      <td>-0.431620</td>\n",
       "    </tr>\n",
       "    <tr>\n",
       "      <th>2016-04-17</th>\n",
       "      <td>0.403730</td>\n",
       "      <td>-0.024196</td>\n",
       "      <td>-0.903702</td>\n",
       "      <td>0.324359</td>\n",
       "    </tr>\n",
       "    <tr>\n",
       "      <th>2016-04-24</th>\n",
       "      <td>-1.179040</td>\n",
       "      <td>1.187679</td>\n",
       "      <td>-0.464617</td>\n",
       "      <td>0.201160</td>\n",
       "    </tr>\n",
       "    <tr>\n",
       "      <th>2016-05-01</th>\n",
       "      <td>0.283288</td>\n",
       "      <td>-0.258905</td>\n",
       "      <td>0.586694</td>\n",
       "      <td>-0.474904</td>\n",
       "    </tr>\n",
       "    <tr>\n",
       "      <th>2016-05-08</th>\n",
       "      <td>0.871297</td>\n",
       "      <td>-1.345980</td>\n",
       "      <td>0.126380</td>\n",
       "      <td>1.938929</td>\n",
       "    </tr>\n",
       "    <tr>\n",
       "      <th>2016-05-15</th>\n",
       "      <td>-1.000331</td>\n",
       "      <td>-0.677745</td>\n",
       "      <td>0.513908</td>\n",
       "      <td>0.179582</td>\n",
       "    </tr>\n",
       "    <tr>\n",
       "      <th>2016-05-22</th>\n",
       "      <td>0.350630</td>\n",
       "      <td>0.489187</td>\n",
       "      <td>0.634721</td>\n",
       "      <td>1.109700</td>\n",
       "    </tr>\n",
       "    <tr>\n",
       "      <th>2016-05-29</th>\n",
       "      <td>0.409819</td>\n",
       "      <td>-0.241258</td>\n",
       "      <td>0.672574</td>\n",
       "      <td>1.899882</td>\n",
       "    </tr>\n",
       "    <tr>\n",
       "      <th>2016-06-05</th>\n",
       "      <td>-0.132634</td>\n",
       "      <td>-0.974529</td>\n",
       "      <td>1.107081</td>\n",
       "      <td>-0.120381</td>\n",
       "    </tr>\n",
       "    <tr>\n",
       "      <th>2016-06-12</th>\n",
       "      <td>-2.172670</td>\n",
       "      <td>0.847422</td>\n",
       "      <td>-0.535328</td>\n",
       "      <td>-0.090533</td>\n",
       "    </tr>\n",
       "    <tr>\n",
       "      <th>2016-06-19</th>\n",
       "      <td>0.331980</td>\n",
       "      <td>0.190500</td>\n",
       "      <td>0.709452</td>\n",
       "      <td>-0.435486</td>\n",
       "    </tr>\n",
       "    <tr>\n",
       "      <th>2016-06-26</th>\n",
       "      <td>0.513106</td>\n",
       "      <td>-0.259547</td>\n",
       "      <td>0.738810</td>\n",
       "      <td>0.615367</td>\n",
       "    </tr>\n",
       "    <tr>\n",
       "      <th>2016-07-03</th>\n",
       "      <td>-0.935439</td>\n",
       "      <td>1.085982</td>\n",
       "      <td>-0.535963</td>\n",
       "      <td>0.808058</td>\n",
       "    </tr>\n",
       "    <tr>\n",
       "      <th>2016-07-10</th>\n",
       "      <td>0.367287</td>\n",
       "      <td>1.838184</td>\n",
       "      <td>-0.223466</td>\n",
       "      <td>-0.349317</td>\n",
       "    </tr>\n",
       "    <tr>\n",
       "      <th>2016-07-17</th>\n",
       "      <td>-0.019420</td>\n",
       "      <td>-0.303180</td>\n",
       "      <td>0.799942</td>\n",
       "      <td>-1.616311</td>\n",
       "    </tr>\n",
       "    <tr>\n",
       "      <th>2016-07-24</th>\n",
       "      <td>-1.053682</td>\n",
       "      <td>-1.067803</td>\n",
       "      <td>0.950308</td>\n",
       "      <td>1.710613</td>\n",
       "    </tr>\n",
       "    <tr>\n",
       "      <th>2016-07-31</th>\n",
       "      <td>-0.104449</td>\n",
       "      <td>-0.168822</td>\n",
       "      <td>0.070052</td>\n",
       "      <td>1.161878</td>\n",
       "    </tr>\n",
       "    <tr>\n",
       "      <th>2016-08-07</th>\n",
       "      <td>-0.927353</td>\n",
       "      <td>0.238369</td>\n",
       "      <td>0.975198</td>\n",
       "      <td>0.501094</td>\n",
       "    </tr>\n",
       "    <tr>\n",
       "      <th>2016-08-14</th>\n",
       "      <td>0.189582</td>\n",
       "      <td>1.001046</td>\n",
       "      <td>-2.703232</td>\n",
       "      <td>0.677875</td>\n",
       "    </tr>\n",
       "    <tr>\n",
       "      <th>2016-08-21</th>\n",
       "      <td>-0.654076</td>\n",
       "      <td>-1.830633</td>\n",
       "      <td>0.511203</td>\n",
       "      <td>1.373659</td>\n",
       "    </tr>\n",
       "    <tr>\n",
       "      <th>2016-08-28</th>\n",
       "      <td>-0.137449</td>\n",
       "      <td>0.952875</td>\n",
       "      <td>1.612278</td>\n",
       "      <td>1.314914</td>\n",
       "    </tr>\n",
       "    <tr>\n",
       "      <th>2016-09-04</th>\n",
       "      <td>1.639965</td>\n",
       "      <td>0.742127</td>\n",
       "      <td>0.075434</td>\n",
       "      <td>-1.601966</td>\n",
       "    </tr>\n",
       "    <tr>\n",
       "      <th>2016-09-11</th>\n",
       "      <td>-0.246062</td>\n",
       "      <td>-0.843247</td>\n",
       "      <td>2.170943</td>\n",
       "      <td>-0.175886</td>\n",
       "    </tr>\n",
       "    <tr>\n",
       "      <th>2016-09-18</th>\n",
       "      <td>0.123205</td>\n",
       "      <td>0.551485</td>\n",
       "      <td>0.043602</td>\n",
       "      <td>1.695051</td>\n",
       "    </tr>\n",
       "    <tr>\n",
       "      <th>2016-09-25</th>\n",
       "      <td>-0.622649</td>\n",
       "      <td>0.194607</td>\n",
       "      <td>-0.742471</td>\n",
       "      <td>-1.320023</td>\n",
       "    </tr>\n",
       "    <tr>\n",
       "      <th>2016-10-02</th>\n",
       "      <td>-0.611769</td>\n",
       "      <td>-0.037037</td>\n",
       "      <td>-0.429302</td>\n",
       "      <td>-0.692421</td>\n",
       "    </tr>\n",
       "    <tr>\n",
       "      <th>2016-10-09</th>\n",
       "      <td>-1.406317</td>\n",
       "      <td>-0.083106</td>\n",
       "      <td>-1.504720</td>\n",
       "      <td>0.760056</td>\n",
       "    </tr>\n",
       "    <tr>\n",
       "      <th>2016-10-16</th>\n",
       "      <td>0.082440</td>\n",
       "      <td>-1.457551</td>\n",
       "      <td>-0.309209</td>\n",
       "      <td>-0.752156</td>\n",
       "    </tr>\n",
       "    <tr>\n",
       "      <th>2016-10-23</th>\n",
       "      <td>0.319175</td>\n",
       "      <td>1.340450</td>\n",
       "      <td>-1.875172</td>\n",
       "      <td>0.115026</td>\n",
       "    </tr>\n",
       "    <tr>\n",
       "      <th>2016-10-30</th>\n",
       "      <td>-0.160133</td>\n",
       "      <td>0.671340</td>\n",
       "      <td>0.213197</td>\n",
       "      <td>-0.751969</td>\n",
       "    </tr>\n",
       "    <tr>\n",
       "      <th>2016-11-06</th>\n",
       "      <td>-0.319054</td>\n",
       "      <td>-0.796026</td>\n",
       "      <td>1.076007</td>\n",
       "      <td>0.021312</td>\n",
       "    </tr>\n",
       "    <tr>\n",
       "      <th>2016-11-13</th>\n",
       "      <td>1.901191</td>\n",
       "      <td>-0.060661</td>\n",
       "      <td>-0.708407</td>\n",
       "      <td>-1.513714</td>\n",
       "    </tr>\n",
       "    <tr>\n",
       "      <th>2016-11-20</th>\n",
       "      <td>-1.803140</td>\n",
       "      <td>-1.584136</td>\n",
       "      <td>0.267127</td>\n",
       "      <td>0.508725</td>\n",
       "    </tr>\n",
       "    <tr>\n",
       "      <th>2016-11-27</th>\n",
       "      <td>-1.581191</td>\n",
       "      <td>0.895038</td>\n",
       "      <td>-0.483061</td>\n",
       "      <td>0.146793</td>\n",
       "    </tr>\n",
       "    <tr>\n",
       "      <th>2016-12-04</th>\n",
       "      <td>1.612221</td>\n",
       "      <td>0.896839</td>\n",
       "      <td>-0.268531</td>\n",
       "      <td>-0.891192</td>\n",
       "    </tr>\n",
       "    <tr>\n",
       "      <th>2016-12-11</th>\n",
       "      <td>-2.151815</td>\n",
       "      <td>-0.719153</td>\n",
       "      <td>-0.211130</td>\n",
       "      <td>-0.987180</td>\n",
       "    </tr>\n",
       "    <tr>\n",
       "      <th>2016-12-18</th>\n",
       "      <td>-0.131257</td>\n",
       "      <td>0.076852</td>\n",
       "      <td>-0.224856</td>\n",
       "      <td>-0.650003</td>\n",
       "    </tr>\n",
       "    <tr>\n",
       "      <th>2016-12-25</th>\n",
       "      <td>0.168655</td>\n",
       "      <td>0.441941</td>\n",
       "      <td>-1.090399</td>\n",
       "      <td>1.410932</td>\n",
       "    </tr>\n",
       "    <tr>\n",
       "      <th>2017-01-01</th>\n",
       "      <td>-0.098588</td>\n",
       "      <td>0.018850</td>\n",
       "      <td>0.708214</td>\n",
       "      <td>0.233216</td>\n",
       "    </tr>\n",
       "    <tr>\n",
       "      <th>2017-01-08</th>\n",
       "      <td>0.953137</td>\n",
       "      <td>0.287124</td>\n",
       "      <td>-0.612437</td>\n",
       "      <td>0.361504</td>\n",
       "    </tr>\n",
       "  </tbody>\n",
       "</table>\n",
       "</div>"
      ],
      "text/plain": [
       "             GrossIn  GrossOut     NetIn    NetOut\n",
       "2015-11-29 -0.182896  1.374876 -0.645964 -0.799192\n",
       "2015-12-06 -0.482744 -0.953329  0.122670  1.624678\n",
       "2015-12-13  0.323079 -0.252354 -0.291811 -1.563191\n",
       "2015-12-20  0.883110 -0.077837 -0.180480  3.193108\n",
       "2015-12-27  0.298753 -0.751791 -0.426358  1.148446\n",
       "2016-01-03  0.113270 -1.438278  0.919229 -0.668144\n",
       "2016-01-10  1.873298  1.080048 -0.447322  1.281016\n",
       "2016-01-17  0.067856  0.852774  0.484733 -0.846357\n",
       "2016-01-24 -0.643550  1.029961 -0.334775 -0.403648\n",
       "2016-01-31 -0.955123  0.423599  2.062525 -1.067533\n",
       "2016-02-07  0.024219  1.412221 -0.079641  0.452372\n",
       "2016-02-14 -1.062394  0.428307 -0.187144  0.985730\n",
       "2016-02-21  1.187386  2.589564  0.579633  0.325796\n",
       "2016-02-28  0.194384 -0.353166  0.338484 -0.295401\n",
       "2016-03-06  0.168461  1.317598 -1.006543  1.139879\n",
       "2016-03-13  1.317115 -0.118069 -2.121855 -0.607822\n",
       "2016-03-20  1.296995 -0.022868 -0.999302 -0.504775\n",
       "2016-03-27  0.840620  0.546734 -0.238932 -0.366824\n",
       "2016-04-03 -0.391758 -0.922410  1.615376 -0.322320\n",
       "2016-04-10  1.217159  1.521316  0.998311 -0.431620\n",
       "2016-04-17  0.403730 -0.024196 -0.903702  0.324359\n",
       "2016-04-24 -1.179040  1.187679 -0.464617  0.201160\n",
       "2016-05-01  0.283288 -0.258905  0.586694 -0.474904\n",
       "2016-05-08  0.871297 -1.345980  0.126380  1.938929\n",
       "2016-05-15 -1.000331 -0.677745  0.513908  0.179582\n",
       "2016-05-22  0.350630  0.489187  0.634721  1.109700\n",
       "2016-05-29  0.409819 -0.241258  0.672574  1.899882\n",
       "2016-06-05 -0.132634 -0.974529  1.107081 -0.120381\n",
       "2016-06-12 -2.172670  0.847422 -0.535328 -0.090533\n",
       "2016-06-19  0.331980  0.190500  0.709452 -0.435486\n",
       "2016-06-26  0.513106 -0.259547  0.738810  0.615367\n",
       "2016-07-03 -0.935439  1.085982 -0.535963  0.808058\n",
       "2016-07-10  0.367287  1.838184 -0.223466 -0.349317\n",
       "2016-07-17 -0.019420 -0.303180  0.799942 -1.616311\n",
       "2016-07-24 -1.053682 -1.067803  0.950308  1.710613\n",
       "2016-07-31 -0.104449 -0.168822  0.070052  1.161878\n",
       "2016-08-07 -0.927353  0.238369  0.975198  0.501094\n",
       "2016-08-14  0.189582  1.001046 -2.703232  0.677875\n",
       "2016-08-21 -0.654076 -1.830633  0.511203  1.373659\n",
       "2016-08-28 -0.137449  0.952875  1.612278  1.314914\n",
       "2016-09-04  1.639965  0.742127  0.075434 -1.601966\n",
       "2016-09-11 -0.246062 -0.843247  2.170943 -0.175886\n",
       "2016-09-18  0.123205  0.551485  0.043602  1.695051\n",
       "2016-09-25 -0.622649  0.194607 -0.742471 -1.320023\n",
       "2016-10-02 -0.611769 -0.037037 -0.429302 -0.692421\n",
       "2016-10-09 -1.406317 -0.083106 -1.504720  0.760056\n",
       "2016-10-16  0.082440 -1.457551 -0.309209 -0.752156\n",
       "2016-10-23  0.319175  1.340450 -1.875172  0.115026\n",
       "2016-10-30 -0.160133  0.671340  0.213197 -0.751969\n",
       "2016-11-06 -0.319054 -0.796026  1.076007  0.021312\n",
       "2016-11-13  1.901191 -0.060661 -0.708407 -1.513714\n",
       "2016-11-20 -1.803140 -1.584136  0.267127  0.508725\n",
       "2016-11-27 -1.581191  0.895038 -0.483061  0.146793\n",
       "2016-12-04  1.612221  0.896839 -0.268531 -0.891192\n",
       "2016-12-11 -2.151815 -0.719153 -0.211130 -0.987180\n",
       "2016-12-18 -0.131257  0.076852 -0.224856 -0.650003\n",
       "2016-12-25  0.168655  0.441941 -1.090399  1.410932\n",
       "2017-01-01 -0.098588  0.018850  0.708214  0.233216\n",
       "2017-01-08  0.953137  0.287124 -0.612437  0.361504"
      ]
     },
     "execution_count": 77,
     "metadata": {},
     "output_type": "execute_result"
    }
   ],
   "source": [
    "df2 = pd.DataFrame(np.random.randn(59,4))\n",
    "cols = ['GrossIn', 'GrossOut', 'NetIn', 'NetOut']\n",
    "df2.columns = cols\n",
    "dates = pd.date_range(start='2015-11-29', freq='W', periods=59)\n",
    "df2.index = dates\n",
    "df2"
   ]
  },
  {
   "cell_type": "markdown",
   "metadata": {},
   "source": [
    "**30) Print all the data from 2016-06-19 to 2016-10-20 in df2 above.**"
   ]
  },
  {
   "cell_type": "code",
   "execution_count": 78,
   "metadata": {},
   "outputs": [
    {
     "name": "stdout",
     "output_type": "stream",
     "text": [
      "             GrossIn  GrossOut     NetIn    NetOut\n",
      "2016-06-19  0.331980  0.190500  0.709452 -0.435486\n",
      "2016-06-26  0.513106 -0.259547  0.738810  0.615367\n",
      "2016-07-03 -0.935439  1.085982 -0.535963  0.808058\n",
      "2016-07-10  0.367287  1.838184 -0.223466 -0.349317\n",
      "2016-07-17 -0.019420 -0.303180  0.799942 -1.616311\n",
      "2016-07-24 -1.053682 -1.067803  0.950308  1.710613\n",
      "2016-07-31 -0.104449 -0.168822  0.070052  1.161878\n",
      "2016-08-07 -0.927353  0.238369  0.975198  0.501094\n",
      "2016-08-14  0.189582  1.001046 -2.703232  0.677875\n",
      "2016-08-21 -0.654076 -1.830633  0.511203  1.373659\n",
      "2016-08-28 -0.137449  0.952875  1.612278  1.314914\n",
      "2016-09-04  1.639965  0.742127  0.075434 -1.601966\n",
      "2016-09-11 -0.246062 -0.843247  2.170943 -0.175886\n",
      "2016-09-18  0.123205  0.551485  0.043602  1.695051\n",
      "2016-09-25 -0.622649  0.194607 -0.742471 -1.320023\n",
      "2016-10-02 -0.611769 -0.037037 -0.429302 -0.692421\n",
      "2016-10-09 -1.406317 -0.083106 -1.504720  0.760056\n",
      "2016-10-16  0.082440 -1.457551 -0.309209 -0.752156\n"
     ]
    }
   ],
   "source": [
    "print (df2.loc['2016-06-19':'2016-10-20'])"
   ]
  },
  {
   "cell_type": "markdown",
   "metadata": {},
   "source": [
    "**31) What was the GrossIn and NetIn for 2016-09-18? Print the results. **"
   ]
  },
  {
   "cell_type": "code",
   "execution_count": 94,
   "metadata": {},
   "outputs": [
    {
     "name": "stdout",
     "output_type": "stream",
     "text": [
      "GrossIn    0.123205\n",
      "NetIn      0.043602\n",
      "Name: 2016-09-18 00:00:00, dtype: float64\n"
     ]
    }
   ],
   "source": [
    "print (df2.loc['2016-09-18',['GrossIn', 'NetIn']])"
   ]
  },
  {
   "cell_type": "markdown",
   "metadata": {},
   "source": [
    "**32) Sum all the GrossOut and NetOut for the month of March 2016 in df2. Print the results. **"
   ]
  },
  {
   "cell_type": "code",
   "execution_count": 112,
   "metadata": {},
   "outputs": [
    {
     "name": "stdout",
     "output_type": "stream",
     "text": [
      "1.723394514519378\n",
      "-4.36663179575284\n"
     ]
    }
   ],
   "source": [
    "df3 = df2.loc['2016-03-01':'2016-03-30']\n",
    "\n",
    "total_GrossOut = df3['GrossOut'].sum()\n",
    "print (total_GrossOut)\n",
    "\n",
    "total_NetIn = df3['NetIn'].sum()\n",
    "print (total_NetIn)"
   ]
  },
  {
   "cell_type": "markdown",
   "metadata": {},
   "source": [
    "**33) Find all the days GrossOut was greater than GrossIn in df2. Print the results.**"
   ]
  },
  {
   "cell_type": "code",
   "execution_count": 116,
   "metadata": {},
   "outputs": [
    {
     "name": "stdout",
     "output_type": "stream",
     "text": [
      "2015-11-29 00:00:00\n",
      "2016-01-17 00:00:00\n",
      "2016-01-24 00:00:00\n",
      "2016-01-31 00:00:00\n",
      "2016-02-07 00:00:00\n",
      "2016-02-14 00:00:00\n",
      "2016-02-21 00:00:00\n",
      "2016-03-06 00:00:00\n",
      "2016-04-10 00:00:00\n",
      "2016-04-24 00:00:00\n",
      "2016-05-15 00:00:00\n",
      "2016-05-22 00:00:00\n",
      "2016-06-12 00:00:00\n",
      "2016-07-03 00:00:00\n",
      "2016-07-10 00:00:00\n",
      "2016-08-07 00:00:00\n",
      "2016-08-14 00:00:00\n",
      "2016-08-28 00:00:00\n",
      "2016-09-18 00:00:00\n",
      "2016-09-25 00:00:00\n",
      "2016-10-02 00:00:00\n",
      "2016-10-09 00:00:00\n",
      "2016-10-23 00:00:00\n",
      "2016-10-30 00:00:00\n",
      "2016-11-20 00:00:00\n",
      "2016-11-27 00:00:00\n",
      "2016-12-11 00:00:00\n",
      "2016-12-18 00:00:00\n",
      "2016-12-25 00:00:00\n",
      "2017-01-01 00:00:00\n"
     ]
    }
   ],
   "source": [
    "x = len(df2)\n",
    "i = 0\n",
    "\n",
    "for i in range(x):\n",
    "    if df2[\"GrossOut\"][i]>df2[\"GrossIn\"][i]:\n",
    "        print (df2.index[i])\n",
    "        i=i+1\n",
    "   "
   ]
  },
  {
   "cell_type": "markdown",
   "metadata": {},
   "source": [
    "**34) What percentage was the total NetOut of the total NetIn in the year 2016 from df2 above? **"
   ]
  },
  {
   "cell_type": "code",
   "execution_count": 113,
   "metadata": {},
   "outputs": [
    {
     "name": "stdout",
     "output_type": "stream",
     "text": [
      "10.066219982616227\n"
     ]
    }
   ],
   "source": [
    "Total_NO = df2['NetOut'].sum()\n",
    "\n",
    "Total_NI = df2['NetIn'].sum()\n",
    "\n",
    "Net_Total = Total_NI/Total_NO\n",
    "print(Net_Total*100)"
   ]
  },
  {
   "cell_type": "markdown",
   "metadata": {},
   "source": [
    "**35) Plot values for 2016 on a line graph for the GrossOut and GrossIn in df2:**"
   ]
  },
  {
   "cell_type": "code",
   "execution_count": 114,
   "metadata": {},
   "outputs": [
    {
     "data": {
      "text/plain": [
       "<matplotlib.axes._subplots.AxesSubplot at 0x20d3d094828>"
      ]
     },
     "execution_count": 114,
     "metadata": {},
     "output_type": "execute_result"
    },
    {
     "data": {
      "image/png": "[encoded data removed]",
      "text/plain": [
       "<matplotlib.figure.Figure at 0x20d3d02bbe0>"
      ]
     },
     "metadata": {},
     "output_type": "display_data"
    }
   ],
   "source": [
    "df2['GrossOut'].plot(kind='Line', color='r')\n",
    "df2['GrossIn'].plot(kind='Line')"
   ]
  },
  {
   "cell_type": "markdown",
   "metadata": {},
   "source": [
    "**36) Plot 4 different HISTOGRAMS of df2.GrossIn each having 5,10,15,20 bins.**<br> \n",
    "Hint: use the following code  to plot the histograms on different subplots. <br> \n",
    "\n",
    "import matplotlib.pyplot as plt<br> \n",
    "fig, ax = plt.subplots(nrows=2, ncols=2)<br> \n",
    "dataframe.plot(ax=ax[0,0])# this is just an example of how to plot on a top right subplot (2x2)"
   ]
  },
  {
   "cell_type": "code",
   "execution_count": 119,
   "metadata": {},
   "outputs": [
    {
     "data": {
      "text/plain": [
       "<matplotlib.axes._subplots.AxesSubplot at 0x20d3daeb898>"
      ]
     },
     "execution_count": 119,
     "metadata": {},
     "output_type": "execute_result"
    },
    {
     "data": {
      "image/png": "[encoded data removed]",
      "text/plain": [
       "<matplotlib.figure.Figure at 0x20d3d8b54e0>"
      ]
     },
     "metadata": {},
     "output_type": "display_data"
    }
   ],
   "source": [
    "import matplotlib.pyplot as plt\n",
    "fig, ax = plt.subplots(nrows=2, ncols=2)\n",
    "\n",
    "df2[\"GrossIn\"].plot(kind='hist',ax=ax[0,0], bins=5, figsize =(10,10), color ='r')\n",
    "df2[\"GrossIn\"].plot(kind='hist',ax=ax[0,1], bins=10, color = 'g')\n",
    "df2[\"GrossIn\"].plot(kind='hist',ax=ax[1,0], bins=15, color='b')\n",
    "df2[\"GrossIn\"].plot(kind='hist',ax=ax[1,1], bins=20, color ='y')"
   ]
  },
  {
   "cell_type": "markdown",
   "metadata": {},
   "source": [
    "**37) What is your favorite pizza topping? None is not a valid answer. I don't care if you are off gluten.**"
   ]
  },
  {
   "cell_type": "markdown",
   "metadata": {
    "collapsed": true
   },
   "source": [
    "My favorite pizza topping has to be extra cheese! I'm a man of simple taste!"
   ]
  },
  {
   "cell_type": "markdown",
   "metadata": {},
   "source": [
    "**38) Import pandas libary with the alias pd**"
   ]
  },
  {
   "cell_type": "code",
   "execution_count": 115,
   "metadata": {
    "collapsed": true
   },
   "outputs": [],
   "source": [
    "import pandas as pd"
   ]
  },
  {
   "cell_type": "markdown",
   "metadata": {},
   "source": [
    "**39)You are given the Medicare spending dataset. Read it into a pandas dataframe. Then remove the 2 unused columns 'Measure Start Date' and 'Measure End Date' from the DataFrame all in the following cell. Provide your code as the answer. **\n",
    "\n",
    "***You need to put the data file ‘Medicare_Hospital_Spending_by_Claim.csv’ at the same place as your notebook file.***\n",
    "\n"
   ]
  },
  {
   "cell_type": "code",
   "execution_count": 156,
   "metadata": {},
   "outputs": [
    {
     "name": "stdout",
     "output_type": "stream",
     "text": [
      "['Hospital Name', 'Provider Number ', 'State', 'Period', 'Claim Type', 'Avg Spending Per Episode (Hospital)', 'Avg Spending Per Episode (State)', 'Avg Spending Per Episode (Nation)', 'Percent of Spending (Hospital)', 'Percent of Spending (State)', 'Percent of Spending (Nation)']\n"
     ]
    }
   ],
   "source": [
    "meddata = (pd.read_csv('Medicare_Hospital_Spending_by_Claim.csv'))\n",
    "meddata=pd.DataFrame(meddata)\n",
    "\n",
    "meddata.drop(['Measure Start Date', 'Measure End Date'], axis=1, inplace=True)\n",
    "\n",
    "print (list(meddata))"
   ]
  },
  {
   "cell_type": "markdown",
   "metadata": {},
   "source": [
    "**40) Replace columns names...replace the original long column names in the dataframe above (Q - 39) with shorter ones provided below in \"newColumns\".  Provide your code and the resulting new column names as the answer.**\n",
    "<br/>\n",
    "newColumns = ['Hospital', 'Provider ID', 'State', 'Period', 'Claim Type', 'Avg Spending Hospital', 'Avg Spending State', 'Avg Spending Nation', 'Percent Spending Hospital', 'Percent Spending State', 'Percent Spending Nation']"
   ]
  },
  {
   "cell_type": "code",
   "execution_count": 121,
   "metadata": {},
   "outputs": [
    {
     "name": "stdout",
     "output_type": "stream",
     "text": [
      "['Hospital', 'Provider ID', 'State', 'Period', 'Claim Type', 'Avg Spending Hospital', 'Avg Spending State', 'Avg Spending Nation', 'Percent Spending Hospital', 'Percent Spending State', 'Percent Spending Nation']\n"
     ]
    }
   ],
   "source": [
    "newColumns = ['Hospital', 'Provider ID', 'State', 'Period', 'Claim Type', 'Avg Spending Hospital', 'Avg Spending State', 'Avg Spending Nation', 'Percent Spending Hospital', 'Percent Spending State', 'Percent Spending Nation']\n",
    "meddata.columns = [newColumns]\n",
    "print (list(meddata))"
   ]
  },
  {
   "cell_type": "markdown",
   "metadata": {},
   "source": [
    "**41) Find the statistics of average (mean) and percentage spending for different states, claim types, and hospitals.  In the cell below using the same dataframe used in 39 and 40. Place your code and print your results in the cell below **"
   ]
  },
  {
   "cell_type": "code",
   "execution_count": 149,
   "metadata": {
    "collapsed": true
   },
   "outputs": [],
   "source": [
    "#THIS IS THE CODE FOR QUESION 42 WHICH HAS TO BE DONE FIRST\n",
    "meddata = meddata[meddata.columns[5:8]].replace('[\\$,]','',regex=True).astype(float)\n",
    "meddata = meddata[meddata.columns[8:11]].replace('%','',regex=True).astype(float)"
   ]
  },
  {
   "cell_type": "markdown",
   "metadata": {},
   "source": [
    "**42) Continuing with data from above, convert the dataframe content to be the right \"data type\" (i.e., int, float, etc) in order to perform statistical calculations for the DataFrame.  Provide your code and the resulting new print out as the answer.**\n",
    "<br>\n",
    "***Hint convert the columns with % and $***"
   ]
  },
  {
   "cell_type": "code",
   "execution_count": 145,
   "metadata": {},
   "outputs": [
    {
     "data": {
      "text/html": [
       "<div>\n",
       "<style>\n",
       "    .dataframe thead tr:only-child th {\n",
       "        text-align: right;\n",
       "    }\n",
       "\n",
       "    .dataframe thead th {\n",
       "        text-align: left;\n",
       "    }\n",
       "\n",
       "    .dataframe tbody tr th {\n",
       "        vertical-align: top;\n",
       "    }\n",
       "</style>\n",
       "<table border=\"1\" class=\"dataframe\">\n",
       "  <thead>\n",
       "    <tr style=\"text-align: right;\">\n",
       "      <th></th>\n",
       "      <th></th>\n",
       "      <th>Provider ID</th>\n",
       "      <th>Avg Spending State</th>\n",
       "      <th>Percent Spending Hospital</th>\n",
       "      <th>Percent Spending State</th>\n",
       "      <th>Percent Spending Nation</th>\n",
       "    </tr>\n",
       "    <tr>\n",
       "      <th>Claim Type</th>\n",
       "      <th>Hospital</th>\n",
       "      <th></th>\n",
       "      <th></th>\n",
       "      <th></th>\n",
       "      <th></th>\n",
       "      <th></th>\n",
       "    </tr>\n",
       "  </thead>\n",
       "  <tbody>\n",
       "    <tr>\n",
       "      <th rowspan=\"30\" valign=\"top\">Carrier</th>\n",
       "      <th>ABBEVILLE GENERAL HOSPITAL</th>\n",
       "      <td>190034.0</td>\n",
       "      <td>964.333333</td>\n",
       "      <td>3.990000e-22</td>\n",
       "      <td>4.710000e-22</td>\n",
       "      <td>5.210000e-22</td>\n",
       "    </tr>\n",
       "    <tr>\n",
       "      <th>ABBOTT NORTHWESTERN HOSPITAL</th>\n",
       "      <td>240057.0</td>\n",
       "      <td>925.000000</td>\n",
       "      <td>5.223333e-22</td>\n",
       "      <td>4.766667e-22</td>\n",
       "      <td>5.210000e-22</td>\n",
       "    </tr>\n",
       "    <tr>\n",
       "      <th>ABILENE REGIONAL MEDICAL CENTER</th>\n",
       "      <td>450558.0</td>\n",
       "      <td>1119.666667</td>\n",
       "      <td>4.750000e-22</td>\n",
       "      <td>5.210000e-22</td>\n",
       "      <td>5.210000e-22</td>\n",
       "    </tr>\n",
       "    <tr>\n",
       "      <th>ABINGTON HEALTH LANSDALE HOSPITAL</th>\n",
       "      <td>390012.0</td>\n",
       "      <td>1053.000000</td>\n",
       "      <td>5.106667e-22</td>\n",
       "      <td>5.180000e-22</td>\n",
       "      <td>5.210000e-22</td>\n",
       "    </tr>\n",
       "    <tr>\n",
       "      <th>ABINGTON MEMORIAL HOSPITAL</th>\n",
       "      <td>390231.0</td>\n",
       "      <td>1053.000000</td>\n",
       "      <td>5.640000e-22</td>\n",
       "      <td>5.180000e-22</td>\n",
       "      <td>5.210000e-22</td>\n",
       "    </tr>\n",
       "    <tr>\n",
       "      <th>ABRAZO CENTRAL CAMPUS</th>\n",
       "      <td>30030.0</td>\n",
       "      <td>1213.333333</td>\n",
       "      <td>6.386667e-22</td>\n",
       "      <td>6.130000e-22</td>\n",
       "      <td>5.210000e-22</td>\n",
       "    </tr>\n",
       "    <tr>\n",
       "      <th>ABRAZO MARYVALE CAMPUS</th>\n",
       "      <td>30001.0</td>\n",
       "      <td>1213.333333</td>\n",
       "      <td>6.120000e-22</td>\n",
       "      <td>6.130000e-22</td>\n",
       "      <td>5.210000e-22</td>\n",
       "    </tr>\n",
       "    <tr>\n",
       "      <th>ABRAZO SCOTTSDALE CAMPUS</th>\n",
       "      <td>30083.0</td>\n",
       "      <td>1213.333333</td>\n",
       "      <td>5.936667e-22</td>\n",
       "      <td>6.130000e-22</td>\n",
       "      <td>5.210000e-22</td>\n",
       "    </tr>\n",
       "    <tr>\n",
       "      <th>ABRAZO WEST CAMPUS</th>\n",
       "      <td>30110.0</td>\n",
       "      <td>1213.333333</td>\n",
       "      <td>7.286667e-22</td>\n",
       "      <td>6.130000e-22</td>\n",
       "      <td>5.210000e-22</td>\n",
       "    </tr>\n",
       "    <tr>\n",
       "      <th>ACADIA GENERAL HOSPITAL</th>\n",
       "      <td>190044.0</td>\n",
       "      <td>964.333333</td>\n",
       "      <td>4.040000e-22</td>\n",
       "      <td>4.710000e-22</td>\n",
       "      <td>5.210000e-22</td>\n",
       "    </tr>\n",
       "    <tr>\n",
       "      <th>ACMH HOSPITAL</th>\n",
       "      <td>390163.0</td>\n",
       "      <td>1053.000000</td>\n",
       "      <td>5.276667e-22</td>\n",
       "      <td>5.180000e-22</td>\n",
       "      <td>5.210000e-22</td>\n",
       "    </tr>\n",
       "    <tr>\n",
       "      <th>ACOMA-CANONCITO-LAGUNA IHS HOSPITAL</th>\n",
       "      <td>320070.0</td>\n",
       "      <td>902.666667</td>\n",
       "      <td>2.986667e-22</td>\n",
       "      <td>4.973333e-22</td>\n",
       "      <td>5.210000e-22</td>\n",
       "    </tr>\n",
       "    <tr>\n",
       "      <th>ADCARE HOSPITAL OF WORCESTER INC</th>\n",
       "      <td>220062.0</td>\n",
       "      <td>1017.666667</td>\n",
       "      <td>4.500000e-22</td>\n",
       "      <td>5.126667e-22</td>\n",
       "      <td>5.210000e-22</td>\n",
       "    </tr>\n",
       "    <tr>\n",
       "      <th>ADENA REGIONAL MEDICAL CENTER</th>\n",
       "      <td>360159.0</td>\n",
       "      <td>1032.666667</td>\n",
       "      <td>4.873333e-22</td>\n",
       "      <td>5.073333e-22</td>\n",
       "      <td>5.210000e-22</td>\n",
       "    </tr>\n",
       "    <tr>\n",
       "      <th>ADIRONDACK MEDICAL CENTER</th>\n",
       "      <td>330079.0</td>\n",
       "      <td>1074.666667</td>\n",
       "      <td>4.803333e-22</td>\n",
       "      <td>5.463333e-22</td>\n",
       "      <td>5.210000e-22</td>\n",
       "    </tr>\n",
       "    <tr>\n",
       "      <th>ADVANCED SURGICAL HOSPITAL</th>\n",
       "      <td>390323.0</td>\n",
       "      <td>1053.000000</td>\n",
       "      <td>3.996667e-22</td>\n",
       "      <td>5.180000e-22</td>\n",
       "      <td>5.210000e-22</td>\n",
       "    </tr>\n",
       "    <tr>\n",
       "      <th>ADVENTIST BOLINGBROOK HOSPITAL</th>\n",
       "      <td>140304.0</td>\n",
       "      <td>1072.666667</td>\n",
       "      <td>5.603333e-22</td>\n",
       "      <td>5.310000e-22</td>\n",
       "      <td>5.210000e-22</td>\n",
       "    </tr>\n",
       "    <tr>\n",
       "      <th>ADVENTIST GLENOAKS HOSPITAL</th>\n",
       "      <td>140292.0</td>\n",
       "      <td>1072.666667</td>\n",
       "      <td>6.353333e-22</td>\n",
       "      <td>5.310000e-22</td>\n",
       "      <td>5.210000e-22</td>\n",
       "    </tr>\n",
       "    <tr>\n",
       "      <th>ADVENTIST LA GRANGE MEMORIAL HOSPITAL</th>\n",
       "      <td>140065.0</td>\n",
       "      <td>1072.666667</td>\n",
       "      <td>5.713333e-22</td>\n",
       "      <td>5.310000e-22</td>\n",
       "      <td>5.210000e-22</td>\n",
       "    </tr>\n",
       "    <tr>\n",
       "      <th>ADVENTIST MEDICAL CENTER</th>\n",
       "      <td>215090.5</td>\n",
       "      <td>1012.333333</td>\n",
       "      <td>4.993333e-22</td>\n",
       "      <td>5.096667e-22</td>\n",
       "      <td>5.210000e-22</td>\n",
       "    </tr>\n",
       "    <tr>\n",
       "      <th>ADVENTIST MEDICAL CENTER - REEDLEY</th>\n",
       "      <td>50192.0</td>\n",
       "      <td>1112.000000</td>\n",
       "      <td>4.543333e-22</td>\n",
       "      <td>5.380000e-22</td>\n",
       "      <td>5.210000e-22</td>\n",
       "    </tr>\n",
       "    <tr>\n",
       "      <th>ADVOCATE BROMENN MEDICAL CENTER</th>\n",
       "      <td>140127.0</td>\n",
       "      <td>1072.666667</td>\n",
       "      <td>4.933333e-22</td>\n",
       "      <td>5.310000e-22</td>\n",
       "      <td>5.210000e-22</td>\n",
       "    </tr>\n",
       "    <tr>\n",
       "      <th>ADVOCATE CHRIST HOSPITAL &amp; MEDICAL CENTER</th>\n",
       "      <td>140208.0</td>\n",
       "      <td>1072.666667</td>\n",
       "      <td>5.753333e-22</td>\n",
       "      <td>5.310000e-22</td>\n",
       "      <td>5.210000e-22</td>\n",
       "    </tr>\n",
       "    <tr>\n",
       "      <th>ADVOCATE CONDELL MEDICAL CENTER</th>\n",
       "      <td>140202.0</td>\n",
       "      <td>1072.666667</td>\n",
       "      <td>5.940000e-22</td>\n",
       "      <td>5.310000e-22</td>\n",
       "      <td>5.210000e-22</td>\n",
       "    </tr>\n",
       "    <tr>\n",
       "      <th>ADVOCATE GOOD SAMARITAN HOSPITAL</th>\n",
       "      <td>140288.0</td>\n",
       "      <td>1072.666667</td>\n",
       "      <td>5.726667e-22</td>\n",
       "      <td>5.310000e-22</td>\n",
       "      <td>5.210000e-22</td>\n",
       "    </tr>\n",
       "    <tr>\n",
       "      <th>ADVOCATE GOOD SHEPHERD HOSPITAL</th>\n",
       "      <td>140291.0</td>\n",
       "      <td>1072.666667</td>\n",
       "      <td>6.040000e-22</td>\n",
       "      <td>5.310000e-22</td>\n",
       "      <td>5.210000e-22</td>\n",
       "    </tr>\n",
       "    <tr>\n",
       "      <th>ADVOCATE ILLINOIS MASONIC MEDICAL CENTER</th>\n",
       "      <td>140182.0</td>\n",
       "      <td>1072.666667</td>\n",
       "      <td>5.070000e-22</td>\n",
       "      <td>5.310000e-22</td>\n",
       "      <td>5.210000e-22</td>\n",
       "    </tr>\n",
       "    <tr>\n",
       "      <th>ADVOCATE LUTHERAN GENERAL HOSPITAL</th>\n",
       "      <td>140223.0</td>\n",
       "      <td>1072.666667</td>\n",
       "      <td>5.466667e-22</td>\n",
       "      <td>5.310000e-22</td>\n",
       "      <td>5.210000e-22</td>\n",
       "    </tr>\n",
       "    <tr>\n",
       "      <th>ADVOCATE SOUTH SUBURBAN HOSPITAL</th>\n",
       "      <td>140250.0</td>\n",
       "      <td>1072.666667</td>\n",
       "      <td>5.833333e-22</td>\n",
       "      <td>5.310000e-22</td>\n",
       "      <td>5.210000e-22</td>\n",
       "    </tr>\n",
       "    <tr>\n",
       "      <th>ADVOCATE TRINITY HOSPITAL</th>\n",
       "      <td>140048.0</td>\n",
       "      <td>1072.666667</td>\n",
       "      <td>5.956667e-22</td>\n",
       "      <td>5.310000e-22</td>\n",
       "      <td>5.210000e-22</td>\n",
       "    </tr>\n",
       "    <tr>\n",
       "      <th>...</th>\n",
       "      <th>...</th>\n",
       "      <td>...</td>\n",
       "      <td>...</td>\n",
       "      <td>...</td>\n",
       "      <td>...</td>\n",
       "      <td>...</td>\n",
       "    </tr>\n",
       "    <tr>\n",
       "      <th rowspan=\"30\" valign=\"top\">Total</th>\n",
       "      <th>WISE REGIONAL HEALTH SYSTEM</th>\n",
       "      <td>450271.0</td>\n",
       "      <td>21484.000000</td>\n",
       "      <td>1.000000e-20</td>\n",
       "      <td>1.000000e-20</td>\n",
       "      <td>1.000000e-20</td>\n",
       "    </tr>\n",
       "    <tr>\n",
       "      <th>WITHAM HEALTH SERVICES</th>\n",
       "      <td>150104.0</td>\n",
       "      <td>20242.000000</td>\n",
       "      <td>1.000000e-20</td>\n",
       "      <td>1.000000e-20</td>\n",
       "      <td>1.000000e-20</td>\n",
       "    </tr>\n",
       "    <tr>\n",
       "      <th>WOMAN'S CHRISTIAN ASSOCIATION</th>\n",
       "      <td>330239.0</td>\n",
       "      <td>19672.000000</td>\n",
       "      <td>1.000000e-20</td>\n",
       "      <td>1.000000e-20</td>\n",
       "      <td>1.000000e-20</td>\n",
       "    </tr>\n",
       "    <tr>\n",
       "      <th>WOMAN'S HOSPITAL</th>\n",
       "      <td>190128.0</td>\n",
       "      <td>20458.000000</td>\n",
       "      <td>1.000000e-20</td>\n",
       "      <td>1.000000e-20</td>\n",
       "      <td>1.000000e-20</td>\n",
       "    </tr>\n",
       "    <tr>\n",
       "      <th>WOMANS HOSPITAL OF TEXAS,THE</th>\n",
       "      <td>450674.0</td>\n",
       "      <td>21484.000000</td>\n",
       "      <td>1.000000e-20</td>\n",
       "      <td>1.000000e-20</td>\n",
       "      <td>1.000000e-20</td>\n",
       "    </tr>\n",
       "    <tr>\n",
       "      <th>WOMEN AND INFANTS HOSPITAL OF RHODE ISLAND</th>\n",
       "      <td>410010.0</td>\n",
       "      <td>19062.000000</td>\n",
       "      <td>1.000000e-20</td>\n",
       "      <td>1.000000e-20</td>\n",
       "      <td>1.000000e-20</td>\n",
       "    </tr>\n",
       "    <tr>\n",
       "      <th>WOOD COUNTY HOSPITAL</th>\n",
       "      <td>360029.0</td>\n",
       "      <td>20359.000000</td>\n",
       "      <td>1.000000e-20</td>\n",
       "      <td>1.000000e-20</td>\n",
       "      <td>1.000000e-20</td>\n",
       "    </tr>\n",
       "    <tr>\n",
       "      <th>WOODHULL MEDICAL AND MENTAL HEALTH CENTER</th>\n",
       "      <td>330396.0</td>\n",
       "      <td>19672.000000</td>\n",
       "      <td>1.000000e-20</td>\n",
       "      <td>1.000000e-20</td>\n",
       "      <td>1.000000e-20</td>\n",
       "    </tr>\n",
       "    <tr>\n",
       "      <th>WOODLAND HEIGHTS MEDICAL CENTER</th>\n",
       "      <td>450484.0</td>\n",
       "      <td>21484.000000</td>\n",
       "      <td>1.000000e-20</td>\n",
       "      <td>1.000000e-20</td>\n",
       "      <td>1.000000e-20</td>\n",
       "    </tr>\n",
       "    <tr>\n",
       "      <th>WOODLAND MEMORIAL HOSPITAL</th>\n",
       "      <td>50127.0</td>\n",
       "      <td>20669.000000</td>\n",
       "      <td>1.000000e-20</td>\n",
       "      <td>1.000000e-20</td>\n",
       "      <td>1.000000e-20</td>\n",
       "    </tr>\n",
       "    <tr>\n",
       "      <th>WOODS AT PARKSIDE,THE</th>\n",
       "      <td>360247.0</td>\n",
       "      <td>20359.000000</td>\n",
       "      <td>1.000000e-20</td>\n",
       "      <td>1.000000e-20</td>\n",
       "      <td>1.000000e-20</td>\n",
       "    </tr>\n",
       "    <tr>\n",
       "      <th>WOODWARD REGIONAL HOSPITAL</th>\n",
       "      <td>370002.0</td>\n",
       "      <td>19328.000000</td>\n",
       "      <td>1.000000e-20</td>\n",
       "      <td>1.000000e-20</td>\n",
       "      <td>1.000000e-20</td>\n",
       "    </tr>\n",
       "    <tr>\n",
       "      <th>WOOSTER COMMUNITY HOSPITAL</th>\n",
       "      <td>360036.0</td>\n",
       "      <td>20359.000000</td>\n",
       "      <td>1.000000e-20</td>\n",
       "      <td>1.000000e-20</td>\n",
       "      <td>1.000000e-20</td>\n",
       "    </tr>\n",
       "    <tr>\n",
       "      <th>WUESTHOFF MEDICAL CENTER  ROCKLEDGE</th>\n",
       "      <td>100092.0</td>\n",
       "      <td>20205.000000</td>\n",
       "      <td>1.000000e-20</td>\n",
       "      <td>1.000000e-20</td>\n",
       "      <td>1.000000e-20</td>\n",
       "    </tr>\n",
       "    <tr>\n",
       "      <th>WUESTHOFF MELBOURNE</th>\n",
       "      <td>100291.0</td>\n",
       "      <td>20205.000000</td>\n",
       "      <td>1.000000e-20</td>\n",
       "      <td>1.000000e-20</td>\n",
       "      <td>1.000000e-20</td>\n",
       "    </tr>\n",
       "    <tr>\n",
       "      <th>WYCKOFF HEIGHTS MEDICAL CENTER</th>\n",
       "      <td>330221.0</td>\n",
       "      <td>19672.000000</td>\n",
       "      <td>1.000000e-20</td>\n",
       "      <td>1.000000e-20</td>\n",
       "      <td>1.000000e-20</td>\n",
       "    </tr>\n",
       "    <tr>\n",
       "      <th>WYOMING COUNTY COMMUNITY HOSPITAL</th>\n",
       "      <td>330008.0</td>\n",
       "      <td>19672.000000</td>\n",
       "      <td>1.000000e-20</td>\n",
       "      <td>1.000000e-20</td>\n",
       "      <td>1.000000e-20</td>\n",
       "    </tr>\n",
       "    <tr>\n",
       "      <th>WYOMING MEDICAL CENTER</th>\n",
       "      <td>530012.0</td>\n",
       "      <td>18397.000000</td>\n",
       "      <td>1.000000e-20</td>\n",
       "      <td>1.000000e-20</td>\n",
       "      <td>1.000000e-20</td>\n",
       "    </tr>\n",
       "    <tr>\n",
       "      <th>WYTHE COUNTY COMMUNITY HOSPITAL</th>\n",
       "      <td>490111.0</td>\n",
       "      <td>19361.000000</td>\n",
       "      <td>1.000000e-20</td>\n",
       "      <td>1.000000e-20</td>\n",
       "      <td>1.000000e-20</td>\n",
       "    </tr>\n",
       "    <tr>\n",
       "      <th>YAKIMA HMA, INC. D/B/A YAKIMA REGIONAL MEDICAL AND CARDIAC CENTER</th>\n",
       "      <td>500012.0</td>\n",
       "      <td>19625.000000</td>\n",
       "      <td>1.000000e-20</td>\n",
       "      <td>1.000000e-20</td>\n",
       "      <td>1.000000e-20</td>\n",
       "    </tr>\n",
       "    <tr>\n",
       "      <th>YAKIMA VALLEY MEMORIAL HOSPITAL</th>\n",
       "      <td>500036.0</td>\n",
       "      <td>19625.000000</td>\n",
       "      <td>1.000000e-20</td>\n",
       "      <td>1.000000e-20</td>\n",
       "      <td>1.000000e-20</td>\n",
       "    </tr>\n",
       "    <tr>\n",
       "      <th>YALE-NEW HAVEN HOSPITAL</th>\n",
       "      <td>70022.0</td>\n",
       "      <td>20202.000000</td>\n",
       "      <td>1.000000e-20</td>\n",
       "      <td>1.000000e-20</td>\n",
       "      <td>1.000000e-20</td>\n",
       "    </tr>\n",
       "    <tr>\n",
       "      <th>YALOBUSHA GENERAL HOSPITAL</th>\n",
       "      <td>250061.0</td>\n",
       "      <td>18958.000000</td>\n",
       "      <td>1.000000e-20</td>\n",
       "      <td>1.000000e-20</td>\n",
       "      <td>1.000000e-20</td>\n",
       "    </tr>\n",
       "    <tr>\n",
       "      <th>YAMPA VALLEY MEDICAL CENTER</th>\n",
       "      <td>60049.0</td>\n",
       "      <td>20504.000000</td>\n",
       "      <td>1.000000e-20</td>\n",
       "      <td>1.000000e-20</td>\n",
       "      <td>1.000000e-20</td>\n",
       "    </tr>\n",
       "    <tr>\n",
       "      <th>YAVAPAI REGIONAL MEDICAL CENTER</th>\n",
       "      <td>30012.0</td>\n",
       "      <td>19780.000000</td>\n",
       "      <td>1.000000e-20</td>\n",
       "      <td>1.000000e-20</td>\n",
       "      <td>1.000000e-20</td>\n",
       "    </tr>\n",
       "    <tr>\n",
       "      <th>YAVAPAI REGIONAL MEDICAL CENTER-EAST CAMPUS</th>\n",
       "      <td>30118.0</td>\n",
       "      <td>19780.000000</td>\n",
       "      <td>1.000000e-20</td>\n",
       "      <td>1.000000e-20</td>\n",
       "      <td>1.000000e-20</td>\n",
       "    </tr>\n",
       "    <tr>\n",
       "      <th>YORK HOSPITAL</th>\n",
       "      <td>295033.0</td>\n",
       "      <td>19596.500000</td>\n",
       "      <td>1.000000e-20</td>\n",
       "      <td>1.000000e-20</td>\n",
       "      <td>1.000000e-20</td>\n",
       "    </tr>\n",
       "    <tr>\n",
       "      <th>YUKON KUSKOKWIM DELTA REG HOSPITAL</th>\n",
       "      <td>20018.0</td>\n",
       "      <td>19625.000000</td>\n",
       "      <td>1.000000e-20</td>\n",
       "      <td>1.000000e-20</td>\n",
       "      <td>1.000000e-20</td>\n",
       "    </tr>\n",
       "    <tr>\n",
       "      <th>YUMA REGIONAL MEDICAL CENTER</th>\n",
       "      <td>30013.0</td>\n",
       "      <td>19780.000000</td>\n",
       "      <td>1.000000e-20</td>\n",
       "      <td>1.000000e-20</td>\n",
       "      <td>1.000000e-20</td>\n",
       "    </tr>\n",
       "    <tr>\n",
       "      <th>ZUNI COMPREHENSIVE COMMUNITY HEALTH CENTER</th>\n",
       "      <td>320060.0</td>\n",
       "      <td>18162.000000</td>\n",
       "      <td>1.000000e-20</td>\n",
       "      <td>1.000000e-20</td>\n",
       "      <td>1.000000e-20</td>\n",
       "    </tr>\n",
       "  </tbody>\n",
       "</table>\n",
       "<p>24728 rows × 5 columns</p>\n",
       "</div>"
      ],
      "text/plain": [
       "                                                               Provider ID  \\\n",
       "Claim Type Hospital                                                          \n",
       "Carrier    ABBEVILLE GENERAL HOSPITAL                             190034.0   \n",
       "           ABBOTT NORTHWESTERN HOSPITAL                           240057.0   \n",
       "           ABILENE REGIONAL MEDICAL CENTER                        450558.0   \n",
       "           ABINGTON HEALTH LANSDALE HOSPITAL                      390012.0   \n",
       "           ABINGTON MEMORIAL HOSPITAL                             390231.0   \n",
       "           ABRAZO CENTRAL CAMPUS                                   30030.0   \n",
       "           ABRAZO MARYVALE CAMPUS                                  30001.0   \n",
       "           ABRAZO SCOTTSDALE CAMPUS                                30083.0   \n",
       "           ABRAZO WEST CAMPUS                                      30110.0   \n",
       "           ACADIA GENERAL HOSPITAL                                190044.0   \n",
       "           ACMH HOSPITAL                                          390163.0   \n",
       "           ACOMA-CANONCITO-LAGUNA IHS HOSPITAL                    320070.0   \n",
       "           ADCARE HOSPITAL OF WORCESTER INC                       220062.0   \n",
       "           ADENA REGIONAL MEDICAL CENTER                          360159.0   \n",
       "           ADIRONDACK MEDICAL CENTER                              330079.0   \n",
       "           ADVANCED SURGICAL HOSPITAL                             390323.0   \n",
       "           ADVENTIST BOLINGBROOK HOSPITAL                         140304.0   \n",
       "           ADVENTIST GLENOAKS HOSPITAL                            140292.0   \n",
       "           ADVENTIST LA GRANGE MEMORIAL HOSPITAL                  140065.0   \n",
       "           ADVENTIST MEDICAL CENTER                               215090.5   \n",
       "           ADVENTIST MEDICAL CENTER - REEDLEY                      50192.0   \n",
       "           ADVOCATE BROMENN MEDICAL CENTER                        140127.0   \n",
       "           ADVOCATE CHRIST HOSPITAL & MEDICAL CENTER              140208.0   \n",
       "           ADVOCATE CONDELL MEDICAL CENTER                        140202.0   \n",
       "           ADVOCATE GOOD SAMARITAN HOSPITAL                       140288.0   \n",
       "           ADVOCATE GOOD SHEPHERD HOSPITAL                        140291.0   \n",
       "           ADVOCATE ILLINOIS MASONIC MEDICAL CENTER               140182.0   \n",
       "           ADVOCATE LUTHERAN GENERAL HOSPITAL                     140223.0   \n",
       "           ADVOCATE SOUTH SUBURBAN HOSPITAL                       140250.0   \n",
       "           ADVOCATE TRINITY HOSPITAL                              140048.0   \n",
       "...                                                                    ...   \n",
       "Total      WISE REGIONAL HEALTH SYSTEM                            450271.0   \n",
       "           WITHAM HEALTH SERVICES                                 150104.0   \n",
       "           WOMAN'S CHRISTIAN ASSOCIATION                          330239.0   \n",
       "           WOMAN'S HOSPITAL                                       190128.0   \n",
       "           WOMANS HOSPITAL OF TEXAS,THE                           450674.0   \n",
       "           WOMEN AND INFANTS HOSPITAL OF RHODE ISLAND             410010.0   \n",
       "           WOOD COUNTY HOSPITAL                                   360029.0   \n",
       "           WOODHULL MEDICAL AND MENTAL HEALTH CENTER              330396.0   \n",
       "           WOODLAND HEIGHTS MEDICAL CENTER                        450484.0   \n",
       "           WOODLAND MEMORIAL HOSPITAL                              50127.0   \n",
       "           WOODS AT PARKSIDE,THE                                  360247.0   \n",
       "           WOODWARD REGIONAL HOSPITAL                             370002.0   \n",
       "           WOOSTER COMMUNITY HOSPITAL                             360036.0   \n",
       "           WUESTHOFF MEDICAL CENTER  ROCKLEDGE                    100092.0   \n",
       "           WUESTHOFF MELBOURNE                                    100291.0   \n",
       "           WYCKOFF HEIGHTS MEDICAL CENTER                         330221.0   \n",
       "           WYOMING COUNTY COMMUNITY HOSPITAL                      330008.0   \n",
       "           WYOMING MEDICAL CENTER                                 530012.0   \n",
       "           WYTHE COUNTY COMMUNITY HOSPITAL                        490111.0   \n",
       "           YAKIMA HMA, INC. D/B/A YAKIMA REGIONAL MEDICAL ...     500012.0   \n",
       "           YAKIMA VALLEY MEMORIAL HOSPITAL                        500036.0   \n",
       "           YALE-NEW HAVEN HOSPITAL                                 70022.0   \n",
       "           YALOBUSHA GENERAL HOSPITAL                             250061.0   \n",
       "           YAMPA VALLEY MEDICAL CENTER                             60049.0   \n",
       "           YAVAPAI REGIONAL MEDICAL CENTER                         30012.0   \n",
       "           YAVAPAI REGIONAL MEDICAL CENTER-EAST CAMPUS             30118.0   \n",
       "           YORK HOSPITAL                                          295033.0   \n",
       "           YUKON KUSKOKWIM DELTA REG HOSPITAL                      20018.0   \n",
       "           YUMA REGIONAL MEDICAL CENTER                            30013.0   \n",
       "           ZUNI COMPREHENSIVE COMMUNITY HEALTH CENTER             320060.0   \n",
       "\n",
       "                                                               Avg Spending State  \\\n",
       "Claim Type Hospital                                                                 \n",
       "Carrier    ABBEVILLE GENERAL HOSPITAL                                  964.333333   \n",
       "           ABBOTT NORTHWESTERN HOSPITAL                                925.000000   \n",
       "           ABILENE REGIONAL MEDICAL CENTER                            1119.666667   \n",
       "           ABINGTON HEALTH LANSDALE HOSPITAL                          1053.000000   \n",
       "           ABINGTON MEMORIAL HOSPITAL                                 1053.000000   \n",
       "           ABRAZO CENTRAL CAMPUS                                      1213.333333   \n",
       "           ABRAZO MARYVALE CAMPUS                                     1213.333333   \n",
       "           ABRAZO SCOTTSDALE CAMPUS                                   1213.333333   \n",
       "           ABRAZO WEST CAMPUS                                         1213.333333   \n",
       "           ACADIA GENERAL HOSPITAL                                     964.333333   \n",
       "           ACMH HOSPITAL                                              1053.000000   \n",
       "           ACOMA-CANONCITO-LAGUNA IHS HOSPITAL                         902.666667   \n",
       "           ADCARE HOSPITAL OF WORCESTER INC                           1017.666667   \n",
       "           ADENA REGIONAL MEDICAL CENTER                              1032.666667   \n",
       "           ADIRONDACK MEDICAL CENTER                                  1074.666667   \n",
       "           ADVANCED SURGICAL HOSPITAL                                 1053.000000   \n",
       "           ADVENTIST BOLINGBROOK HOSPITAL                             1072.666667   \n",
       "           ADVENTIST GLENOAKS HOSPITAL                                1072.666667   \n",
       "           ADVENTIST LA GRANGE MEMORIAL HOSPITAL                      1072.666667   \n",
       "           ADVENTIST MEDICAL CENTER                                   1012.333333   \n",
       "           ADVENTIST MEDICAL CENTER - REEDLEY                         1112.000000   \n",
       "           ADVOCATE BROMENN MEDICAL CENTER                            1072.666667   \n",
       "           ADVOCATE CHRIST HOSPITAL & MEDICAL CENTER                  1072.666667   \n",
       "           ADVOCATE CONDELL MEDICAL CENTER                            1072.666667   \n",
       "           ADVOCATE GOOD SAMARITAN HOSPITAL                           1072.666667   \n",
       "           ADVOCATE GOOD SHEPHERD HOSPITAL                            1072.666667   \n",
       "           ADVOCATE ILLINOIS MASONIC MEDICAL CENTER                   1072.666667   \n",
       "           ADVOCATE LUTHERAN GENERAL HOSPITAL                         1072.666667   \n",
       "           ADVOCATE SOUTH SUBURBAN HOSPITAL                           1072.666667   \n",
       "           ADVOCATE TRINITY HOSPITAL                                  1072.666667   \n",
       "...                                                                           ...   \n",
       "Total      WISE REGIONAL HEALTH SYSTEM                               21484.000000   \n",
       "           WITHAM HEALTH SERVICES                                    20242.000000   \n",
       "           WOMAN'S CHRISTIAN ASSOCIATION                             19672.000000   \n",
       "           WOMAN'S HOSPITAL                                          20458.000000   \n",
       "           WOMANS HOSPITAL OF TEXAS,THE                              21484.000000   \n",
       "           WOMEN AND INFANTS HOSPITAL OF RHODE ISLAND                19062.000000   \n",
       "           WOOD COUNTY HOSPITAL                                      20359.000000   \n",
       "           WOODHULL MEDICAL AND MENTAL HEALTH CENTER                 19672.000000   \n",
       "           WOODLAND HEIGHTS MEDICAL CENTER                           21484.000000   \n",
       "           WOODLAND MEMORIAL HOSPITAL                                20669.000000   \n",
       "           WOODS AT PARKSIDE,THE                                     20359.000000   \n",
       "           WOODWARD REGIONAL HOSPITAL                                19328.000000   \n",
       "           WOOSTER COMMUNITY HOSPITAL                                20359.000000   \n",
       "           WUESTHOFF MEDICAL CENTER  ROCKLEDGE                       20205.000000   \n",
       "           WUESTHOFF MELBOURNE                                       20205.000000   \n",
       "           WYCKOFF HEIGHTS MEDICAL CENTER                            19672.000000   \n",
       "           WYOMING COUNTY COMMUNITY HOSPITAL                         19672.000000   \n",
       "           WYOMING MEDICAL CENTER                                    18397.000000   \n",
       "           WYTHE COUNTY COMMUNITY HOSPITAL                           19361.000000   \n",
       "           YAKIMA HMA, INC. D/B/A YAKIMA REGIONAL MEDICAL ...        19625.000000   \n",
       "           YAKIMA VALLEY MEMORIAL HOSPITAL                           19625.000000   \n",
       "           YALE-NEW HAVEN HOSPITAL                                   20202.000000   \n",
       "           YALOBUSHA GENERAL HOSPITAL                                18958.000000   \n",
       "           YAMPA VALLEY MEDICAL CENTER                               20504.000000   \n",
       "           YAVAPAI REGIONAL MEDICAL CENTER                           19780.000000   \n",
       "           YAVAPAI REGIONAL MEDICAL CENTER-EAST CAMPUS               19780.000000   \n",
       "           YORK HOSPITAL                                             19596.500000   \n",
       "           YUKON KUSKOKWIM DELTA REG HOSPITAL                        19625.000000   \n",
       "           YUMA REGIONAL MEDICAL CENTER                              19780.000000   \n",
       "           ZUNI COMPREHENSIVE COMMUNITY HEALTH CENTER                18162.000000   \n",
       "\n",
       "                                                               Percent Spending Hospital  \\\n",
       "Claim Type Hospital                                                                        \n",
       "Carrier    ABBEVILLE GENERAL HOSPITAL                                       3.990000e-22   \n",
       "           ABBOTT NORTHWESTERN HOSPITAL                                     5.223333e-22   \n",
       "           ABILENE REGIONAL MEDICAL CENTER                                  4.750000e-22   \n",
       "           ABINGTON HEALTH LANSDALE HOSPITAL                                5.106667e-22   \n",
       "           ABINGTON MEMORIAL HOSPITAL                                       5.640000e-22   \n",
       "           ABRAZO CENTRAL CAMPUS                                            6.386667e-22   \n",
       "           ABRAZO MARYVALE CAMPUS                                           6.120000e-22   \n",
       "           ABRAZO SCOTTSDALE CAMPUS                                         5.936667e-22   \n",
       "           ABRAZO WEST CAMPUS                                               7.286667e-22   \n",
       "           ACADIA GENERAL HOSPITAL                                          4.040000e-22   \n",
       "           ACMH HOSPITAL                                                    5.276667e-22   \n",
       "           ACOMA-CANONCITO-LAGUNA IHS HOSPITAL                              2.986667e-22   \n",
       "           ADCARE HOSPITAL OF WORCESTER INC                                 4.500000e-22   \n",
       "           ADENA REGIONAL MEDICAL CENTER                                    4.873333e-22   \n",
       "           ADIRONDACK MEDICAL CENTER                                        4.803333e-22   \n",
       "           ADVANCED SURGICAL HOSPITAL                                       3.996667e-22   \n",
       "           ADVENTIST BOLINGBROOK HOSPITAL                                   5.603333e-22   \n",
       "           ADVENTIST GLENOAKS HOSPITAL                                      6.353333e-22   \n",
       "           ADVENTIST LA GRANGE MEMORIAL HOSPITAL                            5.713333e-22   \n",
       "           ADVENTIST MEDICAL CENTER                                         4.993333e-22   \n",
       "           ADVENTIST MEDICAL CENTER - REEDLEY                               4.543333e-22   \n",
       "           ADVOCATE BROMENN MEDICAL CENTER                                  4.933333e-22   \n",
       "           ADVOCATE CHRIST HOSPITAL & MEDICAL CENTER                        5.753333e-22   \n",
       "           ADVOCATE CONDELL MEDICAL CENTER                                  5.940000e-22   \n",
       "           ADVOCATE GOOD SAMARITAN HOSPITAL                                 5.726667e-22   \n",
       "           ADVOCATE GOOD SHEPHERD HOSPITAL                                  6.040000e-22   \n",
       "           ADVOCATE ILLINOIS MASONIC MEDICAL CENTER                         5.070000e-22   \n",
       "           ADVOCATE LUTHERAN GENERAL HOSPITAL                               5.466667e-22   \n",
       "           ADVOCATE SOUTH SUBURBAN HOSPITAL                                 5.833333e-22   \n",
       "           ADVOCATE TRINITY HOSPITAL                                        5.956667e-22   \n",
       "...                                                                                  ...   \n",
       "Total      WISE REGIONAL HEALTH SYSTEM                                      1.000000e-20   \n",
       "           WITHAM HEALTH SERVICES                                           1.000000e-20   \n",
       "           WOMAN'S CHRISTIAN ASSOCIATION                                    1.000000e-20   \n",
       "           WOMAN'S HOSPITAL                                                 1.000000e-20   \n",
       "           WOMANS HOSPITAL OF TEXAS,THE                                     1.000000e-20   \n",
       "           WOMEN AND INFANTS HOSPITAL OF RHODE ISLAND                       1.000000e-20   \n",
       "           WOOD COUNTY HOSPITAL                                             1.000000e-20   \n",
       "           WOODHULL MEDICAL AND MENTAL HEALTH CENTER                        1.000000e-20   \n",
       "           WOODLAND HEIGHTS MEDICAL CENTER                                  1.000000e-20   \n",
       "           WOODLAND MEMORIAL HOSPITAL                                       1.000000e-20   \n",
       "           WOODS AT PARKSIDE,THE                                            1.000000e-20   \n",
       "           WOODWARD REGIONAL HOSPITAL                                       1.000000e-20   \n",
       "           WOOSTER COMMUNITY HOSPITAL                                       1.000000e-20   \n",
       "           WUESTHOFF MEDICAL CENTER  ROCKLEDGE                              1.000000e-20   \n",
       "           WUESTHOFF MELBOURNE                                              1.000000e-20   \n",
       "           WYCKOFF HEIGHTS MEDICAL CENTER                                   1.000000e-20   \n",
       "           WYOMING COUNTY COMMUNITY HOSPITAL                                1.000000e-20   \n",
       "           WYOMING MEDICAL CENTER                                           1.000000e-20   \n",
       "           WYTHE COUNTY COMMUNITY HOSPITAL                                  1.000000e-20   \n",
       "           YAKIMA HMA, INC. D/B/A YAKIMA REGIONAL MEDICAL ...               1.000000e-20   \n",
       "           YAKIMA VALLEY MEMORIAL HOSPITAL                                  1.000000e-20   \n",
       "           YALE-NEW HAVEN HOSPITAL                                          1.000000e-20   \n",
       "           YALOBUSHA GENERAL HOSPITAL                                       1.000000e-20   \n",
       "           YAMPA VALLEY MEDICAL CENTER                                      1.000000e-20   \n",
       "           YAVAPAI REGIONAL MEDICAL CENTER                                  1.000000e-20   \n",
       "           YAVAPAI REGIONAL MEDICAL CENTER-EAST CAMPUS                      1.000000e-20   \n",
       "           YORK HOSPITAL                                                    1.000000e-20   \n",
       "           YUKON KUSKOKWIM DELTA REG HOSPITAL                               1.000000e-20   \n",
       "           YUMA REGIONAL MEDICAL CENTER                                     1.000000e-20   \n",
       "           ZUNI COMPREHENSIVE COMMUNITY HEALTH CENTER                       1.000000e-20   \n",
       "\n",
       "                                                               Percent Spending State  \\\n",
       "Claim Type Hospital                                                                     \n",
       "Carrier    ABBEVILLE GENERAL HOSPITAL                                    4.710000e-22   \n",
       "           ABBOTT NORTHWESTERN HOSPITAL                                  4.766667e-22   \n",
       "           ABILENE REGIONAL MEDICAL CENTER                               5.210000e-22   \n",
       "           ABINGTON HEALTH LANSDALE HOSPITAL                             5.180000e-22   \n",
       "           ABINGTON MEMORIAL HOSPITAL                                    5.180000e-22   \n",
       "           ABRAZO CENTRAL CAMPUS                                         6.130000e-22   \n",
       "           ABRAZO MARYVALE CAMPUS                                        6.130000e-22   \n",
       "           ABRAZO SCOTTSDALE CAMPUS                                      6.130000e-22   \n",
       "           ABRAZO WEST CAMPUS                                            6.130000e-22   \n",
       "           ACADIA GENERAL HOSPITAL                                       4.710000e-22   \n",
       "           ACMH HOSPITAL                                                 5.180000e-22   \n",
       "           ACOMA-CANONCITO-LAGUNA IHS HOSPITAL                           4.973333e-22   \n",
       "           ADCARE HOSPITAL OF WORCESTER INC                              5.126667e-22   \n",
       "           ADENA REGIONAL MEDICAL CENTER                                 5.073333e-22   \n",
       "           ADIRONDACK MEDICAL CENTER                                     5.463333e-22   \n",
       "           ADVANCED SURGICAL HOSPITAL                                    5.180000e-22   \n",
       "           ADVENTIST BOLINGBROOK HOSPITAL                                5.310000e-22   \n",
       "           ADVENTIST GLENOAKS HOSPITAL                                   5.310000e-22   \n",
       "           ADVENTIST LA GRANGE MEMORIAL HOSPITAL                         5.310000e-22   \n",
       "           ADVENTIST MEDICAL CENTER                                      5.096667e-22   \n",
       "           ADVENTIST MEDICAL CENTER - REEDLEY                            5.380000e-22   \n",
       "           ADVOCATE BROMENN MEDICAL CENTER                               5.310000e-22   \n",
       "           ADVOCATE CHRIST HOSPITAL & MEDICAL CENTER                     5.310000e-22   \n",
       "           ADVOCATE CONDELL MEDICAL CENTER                               5.310000e-22   \n",
       "           ADVOCATE GOOD SAMARITAN HOSPITAL                              5.310000e-22   \n",
       "           ADVOCATE GOOD SHEPHERD HOSPITAL                               5.310000e-22   \n",
       "           ADVOCATE ILLINOIS MASONIC MEDICAL CENTER                      5.310000e-22   \n",
       "           ADVOCATE LUTHERAN GENERAL HOSPITAL                            5.310000e-22   \n",
       "           ADVOCATE SOUTH SUBURBAN HOSPITAL                              5.310000e-22   \n",
       "           ADVOCATE TRINITY HOSPITAL                                     5.310000e-22   \n",
       "...                                                                               ...   \n",
       "Total      WISE REGIONAL HEALTH SYSTEM                                   1.000000e-20   \n",
       "           WITHAM HEALTH SERVICES                                        1.000000e-20   \n",
       "           WOMAN'S CHRISTIAN ASSOCIATION                                 1.000000e-20   \n",
       "           WOMAN'S HOSPITAL                                              1.000000e-20   \n",
       "           WOMANS HOSPITAL OF TEXAS,THE                                  1.000000e-20   \n",
       "           WOMEN AND INFANTS HOSPITAL OF RHODE ISLAND                    1.000000e-20   \n",
       "           WOOD COUNTY HOSPITAL                                          1.000000e-20   \n",
       "           WOODHULL MEDICAL AND MENTAL HEALTH CENTER                     1.000000e-20   \n",
       "           WOODLAND HEIGHTS MEDICAL CENTER                               1.000000e-20   \n",
       "           WOODLAND MEMORIAL HOSPITAL                                    1.000000e-20   \n",
       "           WOODS AT PARKSIDE,THE                                         1.000000e-20   \n",
       "           WOODWARD REGIONAL HOSPITAL                                    1.000000e-20   \n",
       "           WOOSTER COMMUNITY HOSPITAL                                    1.000000e-20   \n",
       "           WUESTHOFF MEDICAL CENTER  ROCKLEDGE                           1.000000e-20   \n",
       "           WUESTHOFF MELBOURNE                                           1.000000e-20   \n",
       "           WYCKOFF HEIGHTS MEDICAL CENTER                                1.000000e-20   \n",
       "           WYOMING COUNTY COMMUNITY HOSPITAL                             1.000000e-20   \n",
       "           WYOMING MEDICAL CENTER                                        1.000000e-20   \n",
       "           WYTHE COUNTY COMMUNITY HOSPITAL                               1.000000e-20   \n",
       "           YAKIMA HMA, INC. D/B/A YAKIMA REGIONAL MEDICAL ...            1.000000e-20   \n",
       "           YAKIMA VALLEY MEMORIAL HOSPITAL                               1.000000e-20   \n",
       "           YALE-NEW HAVEN HOSPITAL                                       1.000000e-20   \n",
       "           YALOBUSHA GENERAL HOSPITAL                                    1.000000e-20   \n",
       "           YAMPA VALLEY MEDICAL CENTER                                   1.000000e-20   \n",
       "           YAVAPAI REGIONAL MEDICAL CENTER                               1.000000e-20   \n",
       "           YAVAPAI REGIONAL MEDICAL CENTER-EAST CAMPUS                   1.000000e-20   \n",
       "           YORK HOSPITAL                                                 1.000000e-20   \n",
       "           YUKON KUSKOKWIM DELTA REG HOSPITAL                            1.000000e-20   \n",
       "           YUMA REGIONAL MEDICAL CENTER                                  1.000000e-20   \n",
       "           ZUNI COMPREHENSIVE COMMUNITY HEALTH CENTER                    1.000000e-20   \n",
       "\n",
       "                                                               Percent Spending Nation  \n",
       "Claim Type Hospital                                                                     \n",
       "Carrier    ABBEVILLE GENERAL HOSPITAL                                     5.210000e-22  \n",
       "           ABBOTT NORTHWESTERN HOSPITAL                                   5.210000e-22  \n",
       "           ABILENE REGIONAL MEDICAL CENTER                                5.210000e-22  \n",
       "           ABINGTON HEALTH LANSDALE HOSPITAL                              5.210000e-22  \n",
       "           ABINGTON MEMORIAL HOSPITAL                                     5.210000e-22  \n",
       "           ABRAZO CENTRAL CAMPUS                                          5.210000e-22  \n",
       "           ABRAZO MARYVALE CAMPUS                                         5.210000e-22  \n",
       "           ABRAZO SCOTTSDALE CAMPUS                                       5.210000e-22  \n",
       "           ABRAZO WEST CAMPUS                                             5.210000e-22  \n",
       "           ACADIA GENERAL HOSPITAL                                        5.210000e-22  \n",
       "           ACMH HOSPITAL                                                  5.210000e-22  \n",
       "           ACOMA-CANONCITO-LAGUNA IHS HOSPITAL                            5.210000e-22  \n",
       "           ADCARE HOSPITAL OF WORCESTER INC                               5.210000e-22  \n",
       "           ADENA REGIONAL MEDICAL CENTER                                  5.210000e-22  \n",
       "           ADIRONDACK MEDICAL CENTER                                      5.210000e-22  \n",
       "           ADVANCED SURGICAL HOSPITAL                                     5.210000e-22  \n",
       "           ADVENTIST BOLINGBROOK HOSPITAL                                 5.210000e-22  \n",
       "           ADVENTIST GLENOAKS HOSPITAL                                    5.210000e-22  \n",
       "           ADVENTIST LA GRANGE MEMORIAL HOSPITAL                          5.210000e-22  \n",
       "           ADVENTIST MEDICAL CENTER                                       5.210000e-22  \n",
       "           ADVENTIST MEDICAL CENTER - REEDLEY                             5.210000e-22  \n",
       "           ADVOCATE BROMENN MEDICAL CENTER                                5.210000e-22  \n",
       "           ADVOCATE CHRIST HOSPITAL & MEDICAL CENTER                      5.210000e-22  \n",
       "           ADVOCATE CONDELL MEDICAL CENTER                                5.210000e-22  \n",
       "           ADVOCATE GOOD SAMARITAN HOSPITAL                               5.210000e-22  \n",
       "           ADVOCATE GOOD SHEPHERD HOSPITAL                                5.210000e-22  \n",
       "           ADVOCATE ILLINOIS MASONIC MEDICAL CENTER                       5.210000e-22  \n",
       "           ADVOCATE LUTHERAN GENERAL HOSPITAL                             5.210000e-22  \n",
       "           ADVOCATE SOUTH SUBURBAN HOSPITAL                               5.210000e-22  \n",
       "           ADVOCATE TRINITY HOSPITAL                                      5.210000e-22  \n",
       "...                                                                                ...  \n",
       "Total      WISE REGIONAL HEALTH SYSTEM                                    1.000000e-20  \n",
       "           WITHAM HEALTH SERVICES                                         1.000000e-20  \n",
       "           WOMAN'S CHRISTIAN ASSOCIATION                                  1.000000e-20  \n",
       "           WOMAN'S HOSPITAL                                               1.000000e-20  \n",
       "           WOMANS HOSPITAL OF TEXAS,THE                                   1.000000e-20  \n",
       "           WOMEN AND INFANTS HOSPITAL OF RHODE ISLAND                     1.000000e-20  \n",
       "           WOOD COUNTY HOSPITAL                                           1.000000e-20  \n",
       "           WOODHULL MEDICAL AND MENTAL HEALTH CENTER                      1.000000e-20  \n",
       "           WOODLAND HEIGHTS MEDICAL CENTER                                1.000000e-20  \n",
       "           WOODLAND MEMORIAL HOSPITAL                                     1.000000e-20  \n",
       "           WOODS AT PARKSIDE,THE                                          1.000000e-20  \n",
       "           WOODWARD REGIONAL HOSPITAL                                     1.000000e-20  \n",
       "           WOOSTER COMMUNITY HOSPITAL                                     1.000000e-20  \n",
       "           WUESTHOFF MEDICAL CENTER  ROCKLEDGE                            1.000000e-20  \n",
       "           WUESTHOFF MELBOURNE                                            1.000000e-20  \n",
       "           WYCKOFF HEIGHTS MEDICAL CENTER                                 1.000000e-20  \n",
       "           WYOMING COUNTY COMMUNITY HOSPITAL                              1.000000e-20  \n",
       "           WYOMING MEDICAL CENTER                                         1.000000e-20  \n",
       "           WYTHE COUNTY COMMUNITY HOSPITAL                                1.000000e-20  \n",
       "           YAKIMA HMA, INC. D/B/A YAKIMA REGIONAL MEDICAL ...             1.000000e-20  \n",
       "           YAKIMA VALLEY MEMORIAL HOSPITAL                                1.000000e-20  \n",
       "           YALE-NEW HAVEN HOSPITAL                                        1.000000e-20  \n",
       "           YALOBUSHA GENERAL HOSPITAL                                     1.000000e-20  \n",
       "           YAMPA VALLEY MEDICAL CENTER                                    1.000000e-20  \n",
       "           YAVAPAI REGIONAL MEDICAL CENTER                                1.000000e-20  \n",
       "           YAVAPAI REGIONAL MEDICAL CENTER-EAST CAMPUS                    1.000000e-20  \n",
       "           YORK HOSPITAL                                                  1.000000e-20  \n",
       "           YUKON KUSKOKWIM DELTA REG HOSPITAL                             1.000000e-20  \n",
       "           YUMA REGIONAL MEDICAL CENTER                                   1.000000e-20  \n",
       "           ZUNI COMPREHENSIVE COMMUNITY HEALTH CENTER                     1.000000e-20  \n",
       "\n",
       "[24728 rows x 5 columns]"
      ]
     },
     "execution_count": 145,
     "metadata": {},
     "output_type": "execute_result"
    }
   ],
   "source": [
    "meddata.groupby((\"State\",\"Percent Spending State\")).mean()\n",
    "meddata.groupby(('Claim Type','Percent Spending State')).mean()\n",
    "meddata.groupby(('Claim Type','Hospital')).mean()"
   ]
  },
  {
   "cell_type": "markdown",
   "metadata": {},
   "source": [
    "**43) Continuing with the dataframe above, extract only the TX state claims into a new dataframe.  Provide your code and print the new dataframe (with only TX claims) below as the answer.**"
   ]
  },
  {
   "cell_type": "code",
   "execution_count": null,
   "metadata": {
    "collapsed": true
   },
   "outputs": [],
   "source": [
    "meddata_tx = "
   ]
  },
  {
   "cell_type": "markdown",
   "metadata": {},
   "source": [
    "**44) Using the dataframe from above (Q 42), find the average spending for each different TX hospitals groupedby each kind of  different claim types.  Provide your code and the resulting new print out as the answer. **"
   ]
  },
  {
   "cell_type": "code",
   "execution_count": null,
   "metadata": {
    "collapsed": true
   },
   "outputs": [],
   "source": []
  },
  {
   "cell_type": "markdown",
   "metadata": {
    "collapsed": true
   },
   "source": [
    "**45) Continuing from above (Q 43), what is the mean and max percentage spending of different TX hospitals for each different claim types.  Provide your code and print out the answer. **"
   ]
  },
  {
   "cell_type": "code",
   "execution_count": null,
   "metadata": {
    "collapsed": true
   },
   "outputs": [],
   "source": []
  },
  {
   "cell_type": "markdown",
   "metadata": {},
   "source": [
    "**46) Using the whole dataset from the Medicare_Hospital_Spending_by_Claim.csv table (i.e., Q 39-41), sort the dataframe descending order by average spending and print out what the rank of TX is in terms of average spending when compared to other state averages. **"
   ]
  },
  {
   "cell_type": "code",
   "execution_count": null,
   "metadata": {
    "collapsed": true
   },
   "outputs": [],
   "source": []
  },
  {
   "cell_type": "markdown",
   "metadata": {},
   "source": [
    "**47) Give a very general and short definition of what an Analytical Model is or is supposed to do?**"
   ]
  },
  {
   "cell_type": "markdown",
   "metadata": {
    "collapsed": true
   },
   "source": [
    "Models are used to represent a simplified reality. They change inputs to outputs with the use  of assumptions.  \n",
    "They can generate new information and insights that can be used to solve business and/or real world problems. \n",
    "Models can have errors associated with them. These errors have to be known and accounted for to ensure the results of the model are analyzed accurately. \n"
   ]
  },
  {
   "cell_type": "markdown",
   "metadata": {},
   "source": [
    "**48) Briefly describe the differences between \"supervised\" and \"unsupervised\" learning.**"
   ]
  },
  {
   "cell_type": "markdown",
   "metadata": {
    "collapsed": true
   },
   "source": [
    "Supervised Learning\n",
    "\n",
    "•\tInferring a function from labelled training data\n",
    "\n",
    "•\tHas a set of training examples\n",
    "\n",
    "•\tHas an input variable and desired output value\n",
    "\n",
    "•\tThe analyzed training data can produce a function which can map new examples\n",
    "\n",
    "Unsupervised Learning\n",
    "\n",
    "•\tInferring a function to describe a hidden structure from data which is not labelled \n",
    "\n",
    "•\tNo evaluation of the accuracy of the structure that is output by the algorithm \n"
   ]
  },
  {
   "cell_type": "markdown",
   "metadata": {},
   "source": [
    "**49) Briefly describe the differences between \"classification\" and \"clustering\".**"
   ]
  },
  {
   "cell_type": "markdown",
   "metadata": {
    "collapsed": true
   },
   "source": [
    "Classification is when classes are predefined and can determine which class a new object belongs to. \n",
    "\n",
    "Clustering is trying group a set of objects and determine if a relationship between them exists.\n",
    "\n",
    "It can be said that classification is supervised learning and clustering is unsupervised learning.\n"
   ]
  },
  {
   "cell_type": "markdown",
   "metadata": {},
   "source": [
    "**50) Name 3 different \"kinds\" of Analytical Models and provide a brief definition of each. **"
   ]
  },
  {
   "cell_type": "markdown",
   "metadata": {
    "collapsed": true
   },
   "source": [
    "The kinds of analytical models are:\n",
    "1.\tEmpirical – created based strictly based on observed data\n",
    "2.\tDeterministic – does not consider randomness or uncertainties\n",
    "3.\tDiscrete – works with integers and whole numbers\n"
   ]
  },
  {
   "cell_type": "markdown",
   "metadata": {},
   "source": [
    "**EXTRA CREDIT 51) Why is Ordinary Least Squares Regression, called Ordinary Least Squares?**"
   ]
  },
  {
   "cell_type": "markdown",
   "metadata": {
    "collapsed": true
   },
   "source": [
    "OLS goal is fit the function closely. It does so my minimizing the sum of the squared errors from the data. OLS squares the errors and sums them to minimize them. "
   ]
  },
  {
   "cell_type": "markdown",
   "metadata": {},
   "source": [
    "**EXTRA CREDIT 52) What makes \"big data\" different from \"small data\"? (Be brief - 1 to 2 paragaphs MAX)**"
   ]
  },
  {
   "cell_type": "markdown",
   "metadata": {
    "collapsed": true
   },
   "source": [
    "Big data doesn’t always refer to the size or amount of data. However, it can be a factor. Big data is impactful but can be hard to manage. It is complex and can’t create value on its own. It needs people like ourselves to create models and algorithms to get desired outputs. It has the ability to change the way we live our lives and how companies compete and operate. It is generated by our personal and corporate lives. It can be costly as it requires innovations in technology to apply it and manage it. \n",
    "\n",
    "It can be said that small data consists of usable chunks. Idea of small data is that companies can get actionable results without needing systems often used with big data. Is usually near real-time where big data can be at real time. Small data is said to be at the center to customer relationship management. Rufus Pollok said that “the hype around big data is misplaced – small, linked data is where real value lies.’ \n"
   ]
  },
  {
   "cell_type": "markdown",
   "metadata": {},
   "source": [
    "**EXTRA CREDIT 53) What are WMD's according to Cathy O'Neil?**"
   ]
  },
  {
   "cell_type": "markdown",
   "metadata": {
    "collapsed": true
   },
   "source": [
    "According to Cathy O’Neil, WMD’s are Weapons of Math Destruction. She has an interesting quote which says “Big data processes codify the past. They do not invent the future”. I found that interesting because we are trying to find trends and patterns from big data to try and change how we live lives and operate businesses. To me it feels like that is a way to invent (maybe improve is a better word) the future. \n",
    "\n",
    "As a high level baseball player, her quote about baseball really hit home. We keep data on everything. From what kind of pitch was thrown and its location to which count it was thrown in. MLB coaches are large binders with all kinds of stats on pitchers/hitters trying to gain an upper hand. It has gotten to the point where it can be argued that player’s batting averages have gone down since the introduction of data (which I would love to do some data analytics on to see if its true). Hitters spend more time thinking about the count and what pitch will be thrown based on the data showing pitcher tendency rather than just seeing the ball and hitting the ball. Hitting in its most basic form.  \n"
   ]
  },
  {
   "cell_type": "markdown",
   "metadata": {},
   "source": [
    "**EXTRA CREDIT 54) Why do vicious feedback loops matter in data analytics?**"
   ]
  },
  {
   "cell_type": "markdown",
   "metadata": {
    "collapsed": true
   },
   "source": [
    "Vicious or negative feedback loops are important in data analytics because as one variable/input changes, a second input/variable has the opposite effect. This is important to know because it can show a relationship between the two inputs. \n",
    "\n",
    "For example, having worked at Best Buy for many years it has been known that Apple products have negative margins, so we lose money on every apple product we would sell. \n",
    "Therefore, when an apple product would be sold, our store revenue would increase but the store margin would decrease. If you’ve ever wondered why the sales people push warranty and/or accessories (which have over 150% margin), its to balance this loss of margin while still increasing revenue. \n"
   ]
  },
  {
   "cell_type": "markdown",
   "metadata": {},
   "source": [
    "**EXTRA CREDIT 55) What are the 10 simple rules Zook et. al. Suggest to follow when doing big data analytics?**"
   ]
  },
  {
   "cell_type": "markdown",
   "metadata": {
    "collapsed": true
   },
   "source": [
    "The 10 simple rules that Zook and his colleagues’ mentions about big data analytics are:\n",
    "1.\tAcknowledge that data are people and can do harm\n",
    "2.\tRecognize that privacy is more than a binary value\n",
    "3.\tGuard against the reidentification of your data\n",
    "4.\tPractice ethical data sharing \n",
    "5.\tConsider the strengths and limitations of you data. Big doesn’t automatically mean better\n",
    "6.\tDebate the tough, ethical choices\n",
    "7.\tDevelop a code of conduct for your organization, research community, or industry\n",
    "8.\tDesign you data and systems for auditability \n",
    "9.\tEngage with the broader consequences of data and analytic practices \n",
    "10.\tKnow when to break these rules \n"
   ]
  }
 ],
 "metadata": {
  "kernelspec": {
   "display_name": "Python 3",
   "language": "python",
   "name": "python3"
  },
  "language_info": {
   "codemirror_mode": {
    "name": "ipython",
    "version": 3
   },
   "file_extension": ".py",
   "mimetype": "text/x-python",
   "name": "python",
   "nbconvert_exporter": "python",
   "pygments_lexer": "ipython3",
   "version": "3.6.3"
  }
 },
 "nbformat": 4,
 "nbformat_minor": 1
}
