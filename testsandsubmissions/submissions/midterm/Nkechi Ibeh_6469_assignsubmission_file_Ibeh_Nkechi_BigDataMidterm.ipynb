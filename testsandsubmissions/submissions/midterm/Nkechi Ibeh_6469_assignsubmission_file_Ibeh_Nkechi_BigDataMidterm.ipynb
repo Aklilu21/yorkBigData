{
 "cells": [
  {
   "cell_type": "markdown",
   "metadata": {},
   "source": [
    "## Introduction to Big Data Midterm"
   ]
  },
  {
   "cell_type": "markdown",
   "metadata": {},
   "source": [
    "Assign date: 2017-12-03\n",
    "\n",
    "Due date: 2017-12-16 11:59pm\n",
    "\n",
    "Please submit only one copy of your Jupyter Notebook file with your answers for each question provided in the following cells below to Moodle. There will be no extensions or excemptions. \n",
    "\n",
    "You will lose 15% each day your submission is late. \n",
    "\n",
    "Please do not post any answers to the general question forum. You can however ask for technical help on the course page if you are having actualy technical issues. I reserve the right to delete any question/response that I deem being too much \"begging for hints\" in nature. You may email me directly at mtenney@yorku.ca if you have any questions, but do note I will not provide you any answers and my response may take up to 48hrs. And of course, you're free to use any class material, the Internet, or additional resources to complete the exam. The exam covers material from weeks 1-4 inclusively.\n",
    "\n",
    "Note you MUST RUN THE CODE and print out the required results when submitting. Any empty cells or un-run code will not be accepted. "
   ]
  },
  {
   "cell_type": "markdown",
   "metadata": {},
   "source": [
    "**1) Import the following libraries to your notebook (you can use alias' if you want) in the cell below:**<br/>\n",
    "    pandas,\n",
    "    seaborn,\n",
    "    os,\n",
    "    matplotlib.pyplot<br/>\n",
    "**And** add the following flag: \n",
    "    %matplotlib inline"
   ]
  },
  {
   "cell_type": "code",
   "execution_count": null,
   "metadata": {
    "collapsed": true
   },
   "outputs": [],
   "source": [
    "%matplotlib inline\n",
    "import os\n",
    "import pandas as pd\n",
    "import matplotlib.pyplot as plt\n",
    "import seaborn as sns\n"
   ]
  },
  {
   "cell_type": "markdown",
   "metadata": {},
   "source": [
    "**2) Index a list in Python**<br/>\n",
    "Run the code below, it will give a result of 4. If we want to get ONLY the number 8 from the list of lists below, how would you alter the code? Alter the code directly and run to print the desired output. "
   ]
  },
  {
   "cell_type": "code",
   "execution_count": 11,
   "metadata": {},
   "outputs": [
    {
     "name": "stdout",
     "output_type": "stream",
     "text": [
      "8\n"
     ]
    }
   ],
   "source": [
    "question2 = [[1,2],[3,4],[5,6],[7,[8,9]]]\n",
    "print question2[3][1][0]"
   ]
  },
  {
   "cell_type": "markdown",
   "metadata": {},
   "source": [
    "**3) Define a variable called bigdata, to be a list in python with the following elements and print only the last two elements of the list:**<br/> 1, \"Big Data Class\", 2, \"Is Really Fun\",3, \"I Love Python\""
   ]
  },
  {
   "cell_type": "code",
   "execution_count": 24,
   "metadata": {},
   "outputs": [
    {
     "name": "stdout",
     "output_type": "stream",
     "text": [
      "('Is Really Fun', 'I Love Python')\n"
     ]
    }
   ],
   "source": [
    "bigdata = ('Big Data Class','Is Really Fun','I Love Python')\n",
    "print bigdata[1:]"
   ]
  },
  {
   "cell_type": "markdown",
   "metadata": {},
   "source": [
    "**4) Cast the following list to be a string in Python:** <br/>\n",
    "Define the list [1,2,4,3,'k'] and cast it to a string where you print out '1243k'. Insert your code below."
   ]
  },
  {
   "cell_type": "code",
   "execution_count": 34,
   "metadata": {},
   "outputs": [
    {
     "data": {
      "text/plain": [
       "'1243k'"
      ]
     },
     "execution_count": 34,
     "metadata": {},
     "output_type": "execute_result"
    }
   ],
   "source": [
    "a = [1,2,4,3,'k']\n",
    "''.join(str(i) for i in a)"
   ]
  },
  {
   "cell_type": "markdown",
   "metadata": {},
   "source": [
    "**5) Test whether the two lists are equal too each other and if not what elements are shared between the two lists.**<br/>\n",
    "<t/>list1 = ['1',2,'3',4,5]<br/>\n",
    "<t/>list2 = [1,2,3,4,'5',6]<br/>\n",
    "<br/>\n",
    "Define the lists and print whether the lists are equal to one another, and find which elements are a match. (***Hint you can go element by element or use you can use a \"for\" loop, or, you can use a different data structure all together***). \n"
   ]
  },
  {
   "cell_type": "code",
   "execution_count": 37,
   "metadata": {},
   "outputs": [
    {
     "name": "stdout",
     "output_type": "stream",
     "text": [
      "False\n",
      "[2, 4]\n"
     ]
    }
   ],
   "source": [
    "list1 = ['1',2,'3',4,5]\n",
    "list2 = [1,2,3,4,'5',6]\n",
    "print list1 == list2\n",
    "print list(set(list1).intersection(list2))"
   ]
  },
  {
   "cell_type": "markdown",
   "metadata": {},
   "source": [
    "**6) Test whether the two lists are equal too each other and if not what elements are shared between the two lists.**<br/>"
   ]
  },
  {
   "cell_type": "code",
   "execution_count": null,
   "metadata": {
    "collapsed": true
   },
   "outputs": [],
   "source": []
  },
  {
   "cell_type": "markdown",
   "metadata": {},
   "source": [
    "**7) What are the \"5 V's\" commonly used to describe Big Data?** Write your answer below."
   ]
  },
  {
   "cell_type": "code",
   "execution_count": null,
   "metadata": {},
   "outputs": [],
   "source": [
    "Velocity, Volume, Value, Variety, Veracity"
   ]
  },
  {
   "cell_type": "markdown",
   "metadata": {},
   "source": [
    "**8) Finish the quote:**<br/> *\"All models are wrong. Some are [...]\"*"
   ]
  },
  {
   "cell_type": "code",
   "execution_count": null,
   "metadata": {
    "collapsed": true
   },
   "outputs": [],
   "source": [
    "Useful"
   ]
  },
  {
   "cell_type": "markdown",
   "metadata": {},
   "source": [
    "**9) If a variable dogs = 103x23/2 and a variable cats = 10x12x4,  Use python to determing if dogs are greater than cats. **"
   ]
  },
  {
   "cell_type": "code",
   "execution_count": 40,
   "metadata": {},
   "outputs": [
    {
     "name": "stdout",
     "output_type": "stream",
     "text": [
      "True\n"
     ]
    }
   ],
   "source": [
    "dogs = 103*23/2\n",
    "cats = 10*12*4\n",
    "print dogs > cats"
   ]
  },
  {
   "cell_type": "markdown",
   "metadata": {},
   "source": [
    "**10) What is the name for the 3 primary measures of central tendency and give their definition** "
   ]
  },
  {
   "cell_type": "code",
   "execution_count": null,
   "metadata": {},
   "outputs": [],
   "source": [
    "Mean: average value\n",
    "Median: middle value\n",
    "Mode: most common value"
   ]
  },
  {
   "cell_type": "markdown",
   "metadata": {},
   "source": [
    "**11) Calculate the descriptive statistice for each of the above central measures in Python on this list of numbers and print out the values:**<br/> \n",
    "\n",
    "[12,44,23,2,1,66,7,85,3,34,23,6,34,23,7,21,14,34,23,88]\n",
    "<br/> \n",
    "*(Hint: it might be easier to import a function from some other library)*\n",
    "\n",
    "\n",
    "\n"
   ]
  },
  {
   "cell_type": "code",
   "execution_count": 69,
   "metadata": {},
   "outputs": [
    {
     "name": "stdout",
     "output_type": "stream",
     "text": [
      "27.5\n",
      "23.0\n",
      "23\n"
     ]
    }
   ],
   "source": [
    "newlist= [12,44,23,2,1,66,7,85,3,34,23,6,34,23,7,21,14,34,23,88]\n",
    "import numpy as np\n",
    "from scipy import stats\n",
    "print numpy.mean(newlist)\n",
    "print numpy.median(newlist)\n",
    "mode = stats.mode(newlist)\n",
    "print mode.mode[0]"
   ]
  },
  {
   "cell_type": "markdown",
   "metadata": {},
   "source": [
    "**12) Delete the empty cell  between question 12 (this one) and Question 13 from the Jupyter notebook**"
   ]
  },
  {
   "cell_type": "markdown",
   "metadata": {},
   "source": [
    "**13) Create a list, called mylist, containing a sequential list of numbers that starts with 2 and stops at 1000, counting by 2's in Python**"
   ]
  },
  {
   "cell_type": "code",
   "execution_count": 45,
   "metadata": {},
   "outputs": [],
   "source": [
    "mylist = range(2,1002,2)"
   ]
  },
  {
   "cell_type": "markdown",
   "metadata": {},
   "source": [
    "**14) Is the sum of the first 50 elements in \"mylist\" greater than the last element of  \"mylist\"?**<br/> Use Python below to print out the answer. (mylist is defined in question 13). "
   ]
  },
  {
   "cell_type": "code",
   "execution_count": 48,
   "metadata": {},
   "outputs": [
    {
     "name": "stdout",
     "output_type": "stream",
     "text": [
      "True\n"
     ]
    }
   ],
   "source": [
    "print sum(mylist[:50]) > mylist[499]"
   ]
  },
  {
   "cell_type": "markdown",
   "metadata": {},
   "source": [
    "**15) What is the length of \"mylist\"?**"
   ]
  },
  {
   "cell_type": "code",
   "execution_count": 44,
   "metadata": {},
   "outputs": [
    {
     "data": {
      "text/plain": [
       "500"
      ]
     },
     "execution_count": 44,
     "metadata": {},
     "output_type": "execute_result"
    }
   ],
   "source": [
    "len(mylist)"
   ]
  },
  {
   "cell_type": "markdown",
   "metadata": {},
   "source": [
    "**16) Create another list, called my2ndlist, containing a list of numbers starting at 1002 and stops at 1052,counting by 3's in Python. <br/>THEN concatenate my2ndlist with mylist into a new list called theMegaList.**<br/> Print theMegaList below."
   ]
  },
  {
   "cell_type": "code",
   "execution_count": 75,
   "metadata": {},
   "outputs": [
    {
     "name": "stdout",
     "output_type": "stream",
     "text": [
      "[2, 4, 6, 8, 10, 12, 14, 16, 18, 20, 22, 24, 26, 28, 30, 32, 34, 36, 38, 40, 42, 44, 46, 48, 50, 52, 54, 56, 58, 60, 62, 64, 66, 68, 70, 72, 74, 76, 78, 80, 82, 84, 86, 88, 90, 92, 94, 96, 98, 100, 102, 104, 106, 108, 110, 112, 114, 116, 118, 120, 122, 124, 126, 128, 130, 132, 134, 136, 138, 140, 142, 144, 146, 148, 150, 152, 154, 156, 158, 160, 162, 164, 166, 168, 170, 172, 174, 176, 178, 180, 182, 184, 186, 188, 190, 192, 194, 196, 198, 200, 202, 204, 206, 208, 210, 212, 214, 216, 218, 220, 222, 224, 226, 228, 230, 232, 234, 236, 238, 240, 242, 244, 246, 248, 250, 252, 254, 256, 258, 260, 262, 264, 266, 268, 270, 272, 274, 276, 278, 280, 282, 284, 286, 288, 290, 292, 294, 296, 298, 300, 302, 304, 306, 308, 310, 312, 314, 316, 318, 320, 322, 324, 326, 328, 330, 332, 334, 336, 338, 340, 342, 344, 346, 348, 350, 352, 354, 356, 358, 360, 362, 364, 366, 368, 370, 372, 374, 376, 378, 380, 382, 384, 386, 388, 390, 392, 394, 396, 398, 400, 402, 404, 406, 408, 410, 412, 414, 416, 418, 420, 422, 424, 426, 428, 430, 432, 434, 436, 438, 440, 442, 444, 446, 448, 450, 452, 454, 456, 458, 460, 462, 464, 466, 468, 470, 472, 474, 476, 478, 480, 482, 484, 486, 488, 490, 492, 494, 496, 498, 500, 502, 504, 506, 508, 510, 512, 514, 516, 518, 520, 522, 524, 526, 528, 530, 532, 534, 536, 538, 540, 542, 544, 546, 548, 550, 552, 554, 556, 558, 560, 562, 564, 566, 568, 570, 572, 574, 576, 578, 580, 582, 584, 586, 588, 590, 592, 594, 596, 598, 600, 602, 604, 606, 608, 610, 612, 614, 616, 618, 620, 622, 624, 626, 628, 630, 632, 634, 636, 638, 640, 642, 644, 646, 648, 650, 652, 654, 656, 658, 660, 662, 664, 666, 668, 670, 672, 674, 676, 678, 680, 682, 684, 686, 688, 690, 692, 694, 696, 698, 700, 702, 704, 706, 708, 710, 712, 714, 716, 718, 720, 722, 724, 726, 728, 730, 732, 734, 736, 738, 740, 742, 744, 746, 748, 750, 752, 754, 756, 758, 760, 762, 764, 766, 768, 770, 772, 774, 776, 778, 780, 782, 784, 786, 788, 790, 792, 794, 796, 798, 800, 802, 804, 806, 808, 810, 812, 814, 816, 818, 820, 822, 824, 826, 828, 830, 832, 834, 836, 838, 840, 842, 844, 846, 848, 850, 852, 854, 856, 858, 860, 862, 864, 866, 868, 870, 872, 874, 876, 878, 880, 882, 884, 886, 888, 890, 892, 894, 896, 898, 900, 902, 904, 906, 908, 910, 912, 914, 916, 918, 920, 922, 924, 926, 928, 930, 932, 934, 936, 938, 940, 942, 944, 946, 948, 950, 952, 954, 956, 958, 960, 962, 964, 966, 968, 970, 972, 974, 976, 978, 980, 982, 984, 986, 988, 990, 992, 994, 996, 998, 1000, 1002, 1005, 1008, 1011, 1014, 1017, 1020, 1023, 1026, 1029, 1032, 1035, 1038, 1041, 1044, 1047, 1050]\n"
     ]
    }
   ],
   "source": [
    "my2ndlist = range(1002,1052,3)\n",
    "theMegaList = mylist+my2ndlist\n",
    "print theMegaList"
   ]
  },
  {
   "cell_type": "markdown",
   "metadata": {},
   "source": [
    "**17) What is the index for the value 822 in theMegaList?**"
   ]
  },
  {
   "cell_type": "code",
   "execution_count": 77,
   "metadata": {},
   "outputs": [
    {
     "name": "stdout",
     "output_type": "stream",
     "text": [
      "410\n"
     ]
    }
   ],
   "source": [
    "print theMegaList.index(822)"
   ]
  },
  {
   "cell_type": "markdown",
   "metadata": {},
   "source": [
    "**18) Write a for loop that will test if an element in theMegaList is an even or odd number and keeps a count of how many of each there are in the list.**<br/> Print out the total number of even and odd numbers found in theMegalist below. "
   ]
  },
  {
   "cell_type": "code",
   "execution_count": 82,
   "metadata": {},
   "outputs": [
    {
     "name": "stdout",
     "output_type": "stream",
     "text": [
      "509\n",
      "8\n"
     ]
    }
   ],
   "source": [
    "even_numbers = 0\n",
    "odd_numbers = 0\n",
    "for i in theMegaList:\n",
    "    if i % 2 == 0:\n",
    "        even_numbers += 1\n",
    "        continue\n",
    "    else:\n",
    "        odd_numbers += 1\n",
    "print even_numbers\n",
    "print odd_numbers"
   ]
  },
  {
   "cell_type": "markdown",
   "metadata": {},
   "source": [
    "**19) Write a brief definition of what Data Latency and the difference between \"real-time\" and \"near-time\" data.**"
   ]
  },
  {
   "cell_type": "code",
   "execution_count": null,
   "metadata": {
    "collapsed": true
   },
   "outputs": [],
   "source": [
    "Data latency is the time it takes for data packets to be stored or retrieved. In business intelligence (BI), data latency is how long it takes for a business user to retrieve source data from a data warehouse or business intelligence dashboard.Real-time data is precisely what it sounds like - information that is placed in the database as it occurs, with little or no latency.  Monitoring stock price information through a real-time feed from Wall Street is an example of real-time data.  Real-time data is updated as it enters the database, and that information is available immediately to anyone, or any application, requiring it for processing. Near-time data refers to information that is updated at set intervals rather than instantaneously.  Stock quotes posted on the Web are a good example of near-time data.  They are typically delayed twenty minutes or more, since the Web sites distributing the quotes are generally unable to process real-time data.  Near-time data can be thought of as \"good-enough\" latency data.  In other words, data only as timely as needed. "
   ]
  },
  {
   "cell_type": "markdown",
   "metadata": {},
   "source": [
    "**19) What does the statistic Standard Deviation tell you about a numerical dataset? **"
   ]
  },
  {
   "cell_type": "code",
   "execution_count": null,
   "metadata": {
    "collapsed": true
   },
   "outputs": [],
   "source": [
    "Standard deviation is a number used to tell how measurements for a group are spread out from the average (mean), or expected value. A low standard deviation means that most of the numbers are very close to the average. A high standard deviation means that the numbers are spread out."
   ]
  },
  {
   "cell_type": "markdown",
   "metadata": {},
   "source": [
    "**20) Suppose you have the following loop:**<br>\n",
    ">things = [1,2,3,5,6,7,8,9,10]<br>\n",
    ">previous_thing = 0<br>\n",
    ">for thing in things:<br>\n",
    ">>new_thing = thing * previous_thing<br>\n",
    ">>x = 3+previous_thing<br>\n",
    ">>previous_thing = thing<br>\n",
    "\n",
    "**At the end of the loop:**\n",
    ">**What does new_thing equal?**<br>\n",
    ">**What does x equal?**\n",
    "    \n",
    "    \n"
   ]
  },
  {
   "cell_type": "code",
   "execution_count": 84,
   "metadata": {},
   "outputs": [],
   "source": [
    "new_thing = 90\n",
    "x = 12"
   ]
  },
  {
   "cell_type": "markdown",
   "metadata": {},
   "source": [
    "**21) What's the difference between Zero and None or Null?** "
   ]
  },
  {
   "cell_type": "code",
   "execution_count": null,
   "metadata": {
    "collapsed": true
   },
   "outputs": [],
   "source": [
    "None is an object, a class. Not a basic type, such as digits. On the other hand, Zero can be used to indicate a counted quantity, and None cannot. "
   ]
  },
  {
   "cell_type": "markdown",
   "metadata": {},
   "source": [
    "**22) In the following loop:**<br> \n",
    ">x = 1<br>\n",
    ">sure_thing = True<br>\n",
    ">while sure_thing:<br>\n",
    ">>x = x +100<br>\n",
    ">>if x < 20001: <br>\n",
    ">>>x = x-1<br>\n",
    ">>else: <br>\n",
    ">>>sure_thing = False<br>\n",
    "\n",
    "**What does x equal to make our sure_thing False? **\n",
    "        "
   ]
  },
  {
   "cell_type": "code",
   "execution_count": 87,
   "metadata": {},
   "outputs": [],
   "source": [
    "x >= 20001"
   ]
  },
  {
   "cell_type": "markdown",
   "metadata": {},
   "source": [
    "**Based on the DataFrame df and df1 defined below, add needed code to answer the following questions.**"
   ]
  },
  {
   "cell_type": "code",
   "execution_count": 89,
   "metadata": {
    "collapsed": true
   },
   "outputs": [],
   "source": [
    "from pandas import Series, DataFrame\n",
    "import pandas as pd\n",
    "raw_data = {'first_name': ['Jason', 'Jason', 'Tina', 'Jake', 'Amy'],\n",
    "        'last_name': ['Miller', 'Miller', 'Ali', 'Milner', 'Milner'],\n",
    "        'age': [42, 42, 36, 24, 73],\n",
    "        'preTest': [4, 4, 31, 2, 3],\n",
    "        'postTest': [25, 25, 57, 62, 70]}\n",
    "df = pd.DataFrame(raw_data, columns = ['first_name', 'last_name', 'age', 'preTest', 'postTest'])\n",
    "df1 = df"
   ]
  },
  {
   "cell_type": "markdown",
   "metadata": {},
   "source": [
    "**23) What are the column names in df1?print the result.**"
   ]
  },
  {
   "cell_type": "code",
   "execution_count": 91,
   "metadata": {},
   "outputs": [
    {
     "data": {
      "text/plain": [
       "['first_name', 'last_name', 'age', 'preTest', 'postTest']"
      ]
     },
     "execution_count": 91,
     "metadata": {},
     "output_type": "execute_result"
    }
   ],
   "source": [
    "list(df1)"
   ]
  },
  {
   "cell_type": "markdown",
   "metadata": {},
   "source": [
    "**24) What is the average (mean) of the preTest and postTest scores?print the result. **"
   ]
  },
  {
   "cell_type": "code",
   "execution_count": 96,
   "metadata": {},
   "outputs": [
    {
     "name": "stdout",
     "output_type": "stream",
     "text": [
      "8.8\n",
      "47.8\n"
     ]
    }
   ],
   "source": [
    "preTest_mean = df1[\"preTest\"].mean()\n",
    "postTest_mean = df1[\"postTest\"].mean()\n",
    "print preTest_mean\n",
    "print postTest_mean"
   ]
  },
  {
   "cell_type": "markdown",
   "metadata": {},
   "source": [
    "**25) Remove duplicated rows in df based on last_name only.  Instead of keeping the first value, now keep the last of the duplicated values.print the result.**"
   ]
  },
  {
   "cell_type": "code",
   "execution_count": 99,
   "metadata": {},
   "outputs": [
    {
     "name": "stdout",
     "output_type": "stream",
     "text": [
      "  first_name last_name  age  preTest  postTest\n",
      "1      Jason    Miller   42        4        25\n",
      "2       Tina       Ali   36       31        57\n",
      "4        Amy    Milner   73        3        70\n"
     ]
    }
   ],
   "source": [
    "df2 = df1.drop_duplicates(subset='last_name', keep=\"last\")\n",
    "print df2"
   ]
  },
  {
   "cell_type": "markdown",
   "metadata": {},
   "source": [
    "**26) Remove duplicated rows in df1 based on both first_name and last_name.  print the result.**"
   ]
  },
  {
   "cell_type": "code",
   "execution_count": 105,
   "metadata": {},
   "outputs": [
    {
     "name": "stdout",
     "output_type": "stream",
     "text": [
      "  first_name last_name  age  preTest  postTest\n",
      "1      Jason    Miller   42        4        25\n",
      "2       Tina       Ali   36       31        57\n",
      "3       Jake    Milner   24        2        62\n",
      "4        Amy    Milner   73        3        70\n"
     ]
    }
   ],
   "source": [
    "df3 = df1.drop_duplicates(subset=[\"first_name\",\"last_name\"], keep=\"last\")\n",
    "print df3"
   ]
  },
  {
   "cell_type": "markdown",
   "metadata": {},
   "source": [
    "***Use the dataframe defined in the following cell to answer the next few questions***: "
   ]
  },
  {
   "cell_type": "code",
   "execution_count": 101,
   "metadata": {},
   "outputs": [
    {
     "name": "stdout",
     "output_type": "stream",
     "text": [
      "            0         1         2         3\n",
      "0    0.496714 -0.138264  0.647689  1.523030\n",
      "1   -0.234153 -0.234137  1.579213  0.767435\n",
      "2   -0.469474  0.542560 -0.463418 -0.465730\n",
      "3    0.241962 -1.913280 -1.724918 -0.562288\n",
      "4   -1.012831  0.314247 -0.908024 -1.412304\n",
      "5    1.465649 -0.225776  0.067528 -1.424748\n",
      "6   -0.544383  0.110923 -1.150994  0.375698\n",
      "7   -0.600639 -0.291694 -0.601707  1.852278\n",
      "8   -0.013497 -1.057711  0.822545 -1.220844\n",
      "9    0.208864 -1.959670 -1.328186  0.196861\n",
      "10   0.738467  0.171368 -0.115648 -0.301104\n",
      "11  -1.478522 -0.719844 -0.460639  1.057122\n",
      "12   0.343618 -1.763040  0.324084 -0.385082\n",
      "13  -0.676922  0.611676  1.031000  0.931280\n",
      "14  -0.839218 -0.309212  0.331263  0.975545\n",
      "15  -0.479174 -0.185659 -1.106335 -1.196207\n",
      "16   0.812526  1.356240 -0.072010  1.003533\n",
      "17   0.361636 -0.645120  0.361396  1.538037\n",
      "18  -0.035826  1.564644 -2.619745  0.821903\n",
      "19   0.087047 -0.299007  0.091761 -1.987569\n",
      "20  -0.219672  0.357113  1.477894 -0.518270\n",
      "21  -0.808494 -0.501757  0.915402  0.328751\n",
      "22  -0.529760  0.513267  0.097078  0.968645\n",
      "23  -0.702053 -0.327662 -0.392108 -1.463515\n",
      "24   0.296120  0.261055  0.005113 -0.234587\n",
      "25  -1.415371 -0.420645 -0.342715 -0.802277\n",
      "26  -0.161286  0.404051  1.886186  0.174578\n",
      "27   0.257550 -0.074446 -1.918771 -0.026514\n",
      "28   0.060230  2.463242 -0.192361  0.301547\n",
      "29  -0.034712 -1.168678  1.142823  0.751933\n",
      "..        ...       ...       ...       ...\n",
      "370  0.722381 -0.372833  1.726964 -0.399636\n",
      "371  0.224685  0.932591 -1.418366 -1.760809\n",
      "372 -1.525656  1.262584 -0.551858  2.558199\n",
      "373 -0.564248  0.184551  1.542110  2.006093\n",
      "374  2.061504  1.208366  1.024063  0.592527\n",
      "375  0.778361 -0.551186 -0.818199 -0.003374\n",
      "376 -0.170185 -0.453228  0.696387  0.955305\n",
      "377  0.088407  1.477530 -1.141689 -0.193659\n",
      "378 -0.716822 -1.866537 -0.082681 -0.121748\n",
      "379  1.513450  0.630812 -1.024187  1.854093\n",
      "380  1.221034  0.582098 -0.226484 -0.959439\n",
      "381 -0.372207  1.088749  1.884586  1.543244\n",
      "382 -0.488849 -1.119617  0.140886 -1.768439\n",
      "383  0.323168 -0.147603 -0.466037 -1.594703\n",
      "384  0.513600 -0.532701 -1.169917 -2.872262\n",
      "385 -0.027515  1.772252  1.661259 -0.457096\n",
      "386 -0.602212  0.468774 -0.998385  0.301792\n",
      "387  0.766080  1.226933 -0.100154 -0.203674\n",
      "388 -0.877983 -0.826880 -0.226479  0.367366\n",
      "389  0.913585 -0.803179  1.492689 -0.271124\n",
      "390 -0.021367 -0.747212 -2.424240  0.884045\n",
      "391  0.736844 -0.281328  0.066991  0.515939\n",
      "392 -1.562546 -0.529053  0.794265 -1.254289\n",
      "393  0.293558 -1.356582  0.466430 -0.035641\n",
      "394 -1.615132  1.164739 -0.734592 -0.810252\n",
      "395  0.200569  1.148637 -1.015822  0.061680\n",
      "396  0.428817  0.693106  0.176442 -0.367028\n",
      "397 -0.827590  0.086144 -1.072139 -2.921350\n",
      "398  0.436560  0.903935 -2.362932 -1.009731\n",
      "399  0.619154  2.057495  0.020794 -0.728003\n",
      "\n",
      "[400 rows x 4 columns]\n"
     ]
    }
   ],
   "source": [
    "from pandas import Series, DataFrame\n",
    "import pandas as pd\n",
    "from numpy.random import randn\n",
    "import numpy as np\n",
    "np.random.seed(42)\n",
    "randomdata = DataFrame(np.random.randn(400, 4))\n",
    "print randomdata\n",
    "%matplotlib inline"
   ]
  },
  {
   "cell_type": "markdown",
   "metadata": {},
   "source": [
    "**27) Use the \"describe\" function to summarize the randomdata created above.**"
   ]
  },
  {
   "cell_type": "code",
   "execution_count": 106,
   "metadata": {},
   "outputs": [
    {
     "data": {
      "text/html": [
       "<div>\n",
       "<style>\n",
       "    .dataframe thead tr:only-child th {\n",
       "        text-align: right;\n",
       "    }\n",
       "\n",
       "    .dataframe thead th {\n",
       "        text-align: left;\n",
       "    }\n",
       "\n",
       "    .dataframe tbody tr th {\n",
       "        vertical-align: top;\n",
       "    }\n",
       "</style>\n",
       "<table border=\"1\" class=\"dataframe\">\n",
       "  <thead>\n",
       "    <tr style=\"text-align: right;\">\n",
       "      <th></th>\n",
       "      <th>0</th>\n",
       "      <th>1</th>\n",
       "      <th>2</th>\n",
       "      <th>3</th>\n",
       "    </tr>\n",
       "  </thead>\n",
       "  <tbody>\n",
       "    <tr>\n",
       "      <th>count</th>\n",
       "      <td>400.000000</td>\n",
       "      <td>400.000000</td>\n",
       "      <td>400.000000</td>\n",
       "      <td>400.000000</td>\n",
       "    </tr>\n",
       "    <tr>\n",
       "      <th>mean</th>\n",
       "      <td>0.035296</td>\n",
       "      <td>0.041202</td>\n",
       "      <td>0.046713</td>\n",
       "      <td>0.035939</td>\n",
       "    </tr>\n",
       "    <tr>\n",
       "      <th>std</th>\n",
       "      <td>0.924153</td>\n",
       "      <td>1.028034</td>\n",
       "      <td>0.997816</td>\n",
       "      <td>1.024632</td>\n",
       "    </tr>\n",
       "    <tr>\n",
       "      <th>min</th>\n",
       "      <td>-2.650970</td>\n",
       "      <td>-2.896255</td>\n",
       "      <td>-3.241267</td>\n",
       "      <td>-2.921350</td>\n",
       "    </tr>\n",
       "    <tr>\n",
       "      <th>25%</th>\n",
       "      <td>-0.612942</td>\n",
       "      <td>-0.651856</td>\n",
       "      <td>-0.602684</td>\n",
       "      <td>-0.683766</td>\n",
       "    </tr>\n",
       "    <tr>\n",
       "      <th>50%</th>\n",
       "      <td>0.052292</td>\n",
       "      <td>0.037928</td>\n",
       "      <td>0.036043</td>\n",
       "      <td>0.047190</td>\n",
       "    </tr>\n",
       "    <tr>\n",
       "      <th>75%</th>\n",
       "      <td>0.634986</td>\n",
       "      <td>0.676014</td>\n",
       "      <td>0.652834</td>\n",
       "      <td>0.744011</td>\n",
       "    </tr>\n",
       "    <tr>\n",
       "      <th>max</th>\n",
       "      <td>2.526932</td>\n",
       "      <td>3.852731</td>\n",
       "      <td>3.078881</td>\n",
       "      <td>2.720169</td>\n",
       "    </tr>\n",
       "  </tbody>\n",
       "</table>\n",
       "</div>"
      ],
      "text/plain": [
       "                0           1           2           3\n",
       "count  400.000000  400.000000  400.000000  400.000000\n",
       "mean     0.035296    0.041202    0.046713    0.035939\n",
       "std      0.924153    1.028034    0.997816    1.024632\n",
       "min     -2.650970   -2.896255   -3.241267   -2.921350\n",
       "25%     -0.612942   -0.651856   -0.602684   -0.683766\n",
       "50%      0.052292    0.037928    0.036043    0.047190\n",
       "75%      0.634986    0.676014    0.652834    0.744011\n",
       "max      2.526932    3.852731    3.078881    2.720169"
      ]
     },
     "execution_count": 106,
     "metadata": {},
     "output_type": "execute_result"
    }
   ],
   "source": [
    "randomdata.describe()"
   ]
  },
  {
   "cell_type": "markdown",
   "metadata": {},
   "source": [
    "**28) Identify the rows which contains at least one item with absolute value greater than 1**"
   ]
  },
  {
   "cell_type": "code",
   "execution_count": 108,
   "metadata": {},
   "outputs": [
    {
     "name": "stdout",
     "output_type": "stream",
     "text": [
      "            0         1         2         3\n",
      "0    0.496714 -0.138264  0.647689  1.523030\n",
      "1   -0.234153 -0.234137  1.579213  0.767435\n",
      "5    1.465649 -0.225776  0.067528 -1.424748\n",
      "7   -0.600639 -0.291694 -0.601707  1.852278\n",
      "11  -1.478522 -0.719844 -0.460639  1.057122\n",
      "13  -0.676922  0.611676  1.031000  0.931280\n",
      "16   0.812526  1.356240 -0.072010  1.003533\n",
      "17   0.361636 -0.645120  0.361396  1.538037\n",
      "18  -0.035826  1.564644 -2.619745  0.821903\n",
      "20  -0.219672  0.357113  1.477894 -0.518270\n",
      "26  -0.161286  0.404051  1.886186  0.174578\n",
      "28   0.060230  2.463242 -0.192361  0.301547\n",
      "29  -0.034712 -1.168678  1.142823  0.751933\n",
      "30   0.791032 -0.909387  1.402794 -1.401851\n",
      "31   0.586857  2.190456 -0.990536 -0.566298\n",
      "33  -1.062304  0.473592 -0.919424  1.549934\n",
      "35   0.227460  1.307143 -1.607483  0.184634\n",
      "39   1.865775  0.473833 -1.191303  0.656554\n",
      "40  -0.974682  0.787085  1.158596 -0.820682\n",
      "41   0.963376  0.412781  0.822060  1.896793\n",
      "44   0.013002  1.453534 -0.264657  2.720169\n",
      "50   0.357787  0.560785  1.083051  1.053802\n",
      "52   0.515048  3.852731  0.570891  1.135566\n",
      "55   2.314659 -1.867265  0.686260 -1.612716\n",
      "56  -0.471932  1.088951  0.064280 -1.077745\n",
      "58   0.045572 -0.651600  2.143944  0.633919\n",
      "62   1.765454  0.404982 -1.260884  0.917862\n",
      "63   2.122156  1.032465 -1.519370 -0.484234\n",
      "64   1.266911 -0.707669  0.443819  0.774634\n",
      "66  -0.252568 -1.247783  1.632411 -1.430141\n",
      "..        ...       ...       ...       ...\n",
      "348  2.013387  0.136535 -0.365322  0.184680\n",
      "349 -1.347126 -0.971614  1.200414 -0.656894\n",
      "350 -1.046911  0.536653  1.185704  0.718953\n",
      "351  0.996048 -0.756795 -1.421811  1.501334\n",
      "352 -0.322680 -0.250833  1.328194  0.556230\n",
      "353  0.455888  2.165002 -0.643518  0.927840\n",
      "354  0.057013  0.268592  1.528468  0.507836\n",
      "355  0.538296  1.072507 -0.364953 -0.839210\n",
      "356 -1.044809 -1.966357  2.056207 -1.103208\n",
      "359 -0.248691  1.607346  0.490975  0.734878\n",
      "360  0.662881  1.173474  0.181022 -1.296832\n",
      "362  1.238283  0.021272  0.308833  1.702215\n",
      "363  0.240753  2.601683  0.565510 -1.760763\n",
      "364  0.753342  0.381158  1.289753  0.673181\n",
      "366 -0.580523  0.588578  1.669905  0.394672\n",
      "367 -1.195883  0.444603  1.196631 -0.609783\n",
      "370  0.722381 -0.372833  1.726964 -0.399636\n",
      "372 -1.525656  1.262584 -0.551858  2.558199\n",
      "373 -0.564248  0.184551  1.542110  2.006093\n",
      "374  2.061504  1.208366  1.024063  0.592527\n",
      "377  0.088407  1.477530 -1.141689 -0.193659\n",
      "379  1.513450  0.630812 -1.024187  1.854093\n",
      "380  1.221034  0.582098 -0.226484 -0.959439\n",
      "381 -0.372207  1.088749  1.884586  1.543244\n",
      "385 -0.027515  1.772252  1.661259 -0.457096\n",
      "387  0.766080  1.226933 -0.100154 -0.203674\n",
      "389  0.913585 -0.803179  1.492689 -0.271124\n",
      "394 -1.615132  1.164739 -0.734592 -0.810252\n",
      "395  0.200569  1.148637 -1.015822  0.061680\n",
      "399  0.619154  2.057495  0.020794 -0.728003\n",
      "\n",
      "[207 rows x 4 columns]\n"
     ]
    }
   ],
   "source": [
    "randomdata_new = randomdata[(randomdata > 1).any(1)]\n",
    "print randomdata_new"
   ]
  },
  {
   "cell_type": "markdown",
   "metadata": {},
   "source": [
    "**29) Set the values greater than 3 to 3, and the values less than -3 to -3.  Rerun the 'describe' function to summarize the randomdata dataset.**"
   ]
  },
  {
   "cell_type": "code",
   "execution_count": 112,
   "metadata": {},
   "outputs": [
    {
     "data": {
      "text/html": [
       "<div>\n",
       "<style>\n",
       "    .dataframe thead tr:only-child th {\n",
       "        text-align: right;\n",
       "    }\n",
       "\n",
       "    .dataframe thead th {\n",
       "        text-align: left;\n",
       "    }\n",
       "\n",
       "    .dataframe tbody tr th {\n",
       "        vertical-align: top;\n",
       "    }\n",
       "</style>\n",
       "<table border=\"1\" class=\"dataframe\">\n",
       "  <thead>\n",
       "    <tr style=\"text-align: right;\">\n",
       "      <th></th>\n",
       "      <th>0</th>\n",
       "      <th>1</th>\n",
       "      <th>2</th>\n",
       "      <th>3</th>\n",
       "    </tr>\n",
       "  </thead>\n",
       "  <tbody>\n",
       "    <tr>\n",
       "      <th>count</th>\n",
       "      <td>400.000000</td>\n",
       "      <td>400.000000</td>\n",
       "      <td>400.000000</td>\n",
       "      <td>400.000000</td>\n",
       "    </tr>\n",
       "    <tr>\n",
       "      <th>mean</th>\n",
       "      <td>0.035296</td>\n",
       "      <td>0.039070</td>\n",
       "      <td>0.047119</td>\n",
       "      <td>0.035939</td>\n",
       "    </tr>\n",
       "    <tr>\n",
       "      <th>std</th>\n",
       "      <td>0.924153</td>\n",
       "      <td>1.020970</td>\n",
       "      <td>0.995301</td>\n",
       "      <td>1.024632</td>\n",
       "    </tr>\n",
       "    <tr>\n",
       "      <th>min</th>\n",
       "      <td>-2.650970</td>\n",
       "      <td>-2.896255</td>\n",
       "      <td>-3.000000</td>\n",
       "      <td>-2.921350</td>\n",
       "    </tr>\n",
       "    <tr>\n",
       "      <th>25%</th>\n",
       "      <td>-0.612942</td>\n",
       "      <td>-0.651856</td>\n",
       "      <td>-0.602684</td>\n",
       "      <td>-0.683766</td>\n",
       "    </tr>\n",
       "    <tr>\n",
       "      <th>50%</th>\n",
       "      <td>0.052292</td>\n",
       "      <td>0.037928</td>\n",
       "      <td>0.036043</td>\n",
       "      <td>0.047190</td>\n",
       "    </tr>\n",
       "    <tr>\n",
       "      <th>75%</th>\n",
       "      <td>0.634986</td>\n",
       "      <td>0.676014</td>\n",
       "      <td>0.652834</td>\n",
       "      <td>0.744011</td>\n",
       "    </tr>\n",
       "    <tr>\n",
       "      <th>max</th>\n",
       "      <td>2.526932</td>\n",
       "      <td>3.000000</td>\n",
       "      <td>3.000000</td>\n",
       "      <td>2.720169</td>\n",
       "    </tr>\n",
       "  </tbody>\n",
       "</table>\n",
       "</div>"
      ],
      "text/plain": [
       "                0           1           2           3\n",
       "count  400.000000  400.000000  400.000000  400.000000\n",
       "mean     0.035296    0.039070    0.047119    0.035939\n",
       "std      0.924153    1.020970    0.995301    1.024632\n",
       "min     -2.650970   -2.896255   -3.000000   -2.921350\n",
       "25%     -0.612942   -0.651856   -0.602684   -0.683766\n",
       "50%      0.052292    0.037928    0.036043    0.047190\n",
       "75%      0.634986    0.676014    0.652834    0.744011\n",
       "max      2.526932    3.000000    3.000000    2.720169"
      ]
     },
     "execution_count": 112,
     "metadata": {},
     "output_type": "execute_result"
    }
   ],
   "source": [
    "randomdata = randomdata.apply(lambda x: [y if y <=3 else 3 for y in x])\n",
    "randomdata = randomdata.apply(lambda x: [y if y >= -3 else -3 for y in x])\n",
    "randomdata.describe()"
   ]
  },
  {
   "cell_type": "markdown",
   "metadata": {},
   "source": [
    "***Use the dataframe defined in the following cell to answer the next few questions***: "
   ]
  },
  {
   "cell_type": "code",
   "execution_count": 113,
   "metadata": {
    "scrolled": true
   },
   "outputs": [
    {
     "data": {
      "text/html": [
       "<div>\n",
       "<style>\n",
       "    .dataframe thead tr:only-child th {\n",
       "        text-align: right;\n",
       "    }\n",
       "\n",
       "    .dataframe thead th {\n",
       "        text-align: left;\n",
       "    }\n",
       "\n",
       "    .dataframe tbody tr th {\n",
       "        vertical-align: top;\n",
       "    }\n",
       "</style>\n",
       "<table border=\"1\" class=\"dataframe\">\n",
       "  <thead>\n",
       "    <tr style=\"text-align: right;\">\n",
       "      <th></th>\n",
       "      <th>GrossIn</th>\n",
       "      <th>GrossOut</th>\n",
       "      <th>NetIn</th>\n",
       "      <th>NetOut</th>\n",
       "    </tr>\n",
       "  </thead>\n",
       "  <tbody>\n",
       "    <tr>\n",
       "      <th>2015-11-29</th>\n",
       "      <td>-1.143726</td>\n",
       "      <td>0.108560</td>\n",
       "      <td>-0.033230</td>\n",
       "      <td>-0.208117</td>\n",
       "    </tr>\n",
       "    <tr>\n",
       "      <th>2015-12-06</th>\n",
       "      <td>-0.128538</td>\n",
       "      <td>-1.881849</td>\n",
       "      <td>-0.548725</td>\n",
       "      <td>0.092845</td>\n",
       "    </tr>\n",
       "    <tr>\n",
       "      <th>2015-12-13</th>\n",
       "      <td>0.159856</td>\n",
       "      <td>-1.027675</td>\n",
       "      <td>1.265708</td>\n",
       "      <td>-0.866175</td>\n",
       "    </tr>\n",
       "    <tr>\n",
       "      <th>2015-12-20</th>\n",
       "      <td>0.969457</td>\n",
       "      <td>0.427194</td>\n",
       "      <td>-0.646227</td>\n",
       "      <td>1.775311</td>\n",
       "    </tr>\n",
       "    <tr>\n",
       "      <th>2015-12-27</th>\n",
       "      <td>-1.193637</td>\n",
       "      <td>0.919154</td>\n",
       "      <td>1.000582</td>\n",
       "      <td>-0.670620</td>\n",
       "    </tr>\n",
       "    <tr>\n",
       "      <th>2016-01-03</th>\n",
       "      <td>1.392465</td>\n",
       "      <td>-0.250047</td>\n",
       "      <td>0.288694</td>\n",
       "      <td>0.260322</td>\n",
       "    </tr>\n",
       "    <tr>\n",
       "      <th>2016-01-10</th>\n",
       "      <td>-0.134309</td>\n",
       "      <td>0.810808</td>\n",
       "      <td>0.793489</td>\n",
       "      <td>-1.748532</td>\n",
       "    </tr>\n",
       "    <tr>\n",
       "      <th>2016-01-17</th>\n",
       "      <td>1.304340</td>\n",
       "      <td>-1.662492</td>\n",
       "      <td>1.032546</td>\n",
       "      <td>1.126705</td>\n",
       "    </tr>\n",
       "    <tr>\n",
       "      <th>2016-01-24</th>\n",
       "      <td>-1.090966</td>\n",
       "      <td>-0.410814</td>\n",
       "      <td>-1.105705</td>\n",
       "      <td>-0.214921</td>\n",
       "    </tr>\n",
       "    <tr>\n",
       "      <th>2016-01-31</th>\n",
       "      <td>-0.308034</td>\n",
       "      <td>0.779661</td>\n",
       "      <td>1.310309</td>\n",
       "      <td>1.395684</td>\n",
       "    </tr>\n",
       "    <tr>\n",
       "      <th>2016-02-07</th>\n",
       "      <td>-0.562168</td>\n",
       "      <td>-0.209222</td>\n",
       "      <td>-1.683438</td>\n",
       "      <td>-0.805870</td>\n",
       "    </tr>\n",
       "    <tr>\n",
       "      <th>2016-02-14</th>\n",
       "      <td>0.964852</td>\n",
       "      <td>1.615583</td>\n",
       "      <td>-1.234349</td>\n",
       "      <td>-0.592464</td>\n",
       "    </tr>\n",
       "    <tr>\n",
       "      <th>2016-02-21</th>\n",
       "      <td>-0.026406</td>\n",
       "      <td>0.280161</td>\n",
       "      <td>-0.809604</td>\n",
       "      <td>0.424061</td>\n",
       "    </tr>\n",
       "    <tr>\n",
       "      <th>2016-02-28</th>\n",
       "      <td>-0.473839</td>\n",
       "      <td>-0.014452</td>\n",
       "      <td>0.546284</td>\n",
       "      <td>0.006422</td>\n",
       "    </tr>\n",
       "    <tr>\n",
       "      <th>2016-03-06</th>\n",
       "      <td>-0.436386</td>\n",
       "      <td>-0.109610</td>\n",
       "      <td>-0.088363</td>\n",
       "      <td>-0.370011</td>\n",
       "    </tr>\n",
       "    <tr>\n",
       "      <th>2016-03-13</th>\n",
       "      <td>-0.258796</td>\n",
       "      <td>1.598647</td>\n",
       "      <td>0.560919</td>\n",
       "      <td>-0.295480</td>\n",
       "    </tr>\n",
       "    <tr>\n",
       "      <th>2016-03-20</th>\n",
       "      <td>0.696954</td>\n",
       "      <td>-0.333819</td>\n",
       "      <td>1.173125</td>\n",
       "      <td>0.369642</td>\n",
       "    </tr>\n",
       "    <tr>\n",
       "      <th>2016-03-27</th>\n",
       "      <td>-0.107302</td>\n",
       "      <td>0.447717</td>\n",
       "      <td>-1.570876</td>\n",
       "      <td>-1.126767</td>\n",
       "    </tr>\n",
       "    <tr>\n",
       "      <th>2016-04-03</th>\n",
       "      <td>-1.193925</td>\n",
       "      <td>0.142943</td>\n",
       "      <td>1.732515</td>\n",
       "      <td>2.231300</td>\n",
       "    </tr>\n",
       "    <tr>\n",
       "      <th>2016-04-10</th>\n",
       "      <td>0.638051</td>\n",
       "      <td>0.500844</td>\n",
       "      <td>-1.801058</td>\n",
       "      <td>-0.542674</td>\n",
       "    </tr>\n",
       "    <tr>\n",
       "      <th>2016-04-17</th>\n",
       "      <td>-0.787784</td>\n",
       "      <td>-0.620848</td>\n",
       "      <td>-0.168144</td>\n",
       "      <td>-0.472091</td>\n",
       "    </tr>\n",
       "    <tr>\n",
       "      <th>2016-04-24</th>\n",
       "      <td>-1.979300</td>\n",
       "      <td>0.747910</td>\n",
       "      <td>-1.072743</td>\n",
       "      <td>0.239247</td>\n",
       "    </tr>\n",
       "    <tr>\n",
       "      <th>2016-05-01</th>\n",
       "      <td>2.074083</td>\n",
       "      <td>-0.919385</td>\n",
       "      <td>-2.530288</td>\n",
       "      <td>-0.286004</td>\n",
       "    </tr>\n",
       "    <tr>\n",
       "      <th>2016-05-08</th>\n",
       "      <td>1.100960</td>\n",
       "      <td>1.958347</td>\n",
       "      <td>-1.229550</td>\n",
       "      <td>0.496699</td>\n",
       "    </tr>\n",
       "    <tr>\n",
       "      <th>2016-05-15</th>\n",
       "      <td>-0.465310</td>\n",
       "      <td>-0.105948</td>\n",
       "      <td>2.644343</td>\n",
       "      <td>-1.502970</td>\n",
       "    </tr>\n",
       "    <tr>\n",
       "      <th>2016-05-22</th>\n",
       "      <td>0.253740</td>\n",
       "      <td>0.467693</td>\n",
       "      <td>1.085786</td>\n",
       "      <td>0.097983</td>\n",
       "    </tr>\n",
       "    <tr>\n",
       "      <th>2016-05-29</th>\n",
       "      <td>0.308051</td>\n",
       "      <td>-0.391649</td>\n",
       "      <td>0.269127</td>\n",
       "      <td>-0.343192</td>\n",
       "    </tr>\n",
       "    <tr>\n",
       "      <th>2016-06-05</th>\n",
       "      <td>0.621572</td>\n",
       "      <td>-0.369610</td>\n",
       "      <td>0.377100</td>\n",
       "      <td>-0.029263</td>\n",
       "    </tr>\n",
       "    <tr>\n",
       "      <th>2016-06-12</th>\n",
       "      <td>1.126050</td>\n",
       "      <td>-0.051394</td>\n",
       "      <td>-1.773032</td>\n",
       "      <td>1.261922</td>\n",
       "    </tr>\n",
       "    <tr>\n",
       "      <th>2016-06-19</th>\n",
       "      <td>-0.905732</td>\n",
       "      <td>-0.653766</td>\n",
       "      <td>-0.595661</td>\n",
       "      <td>1.374438</td>\n",
       "    </tr>\n",
       "    <tr>\n",
       "      <th>2016-06-26</th>\n",
       "      <td>-2.135674</td>\n",
       "      <td>3.137749</td>\n",
       "      <td>1.056057</td>\n",
       "      <td>0.223239</td>\n",
       "    </tr>\n",
       "    <tr>\n",
       "      <th>2016-07-03</th>\n",
       "      <td>-0.054894</td>\n",
       "      <td>0.285554</td>\n",
       "      <td>0.521122</td>\n",
       "      <td>0.645216</td>\n",
       "    </tr>\n",
       "    <tr>\n",
       "      <th>2016-07-10</th>\n",
       "      <td>0.555604</td>\n",
       "      <td>0.089581</td>\n",
       "      <td>-0.197338</td>\n",
       "      <td>-0.151273</td>\n",
       "    </tr>\n",
       "    <tr>\n",
       "      <th>2016-07-17</th>\n",
       "      <td>-0.194908</td>\n",
       "      <td>1.133770</td>\n",
       "      <td>0.593557</td>\n",
       "      <td>-2.940389</td>\n",
       "    </tr>\n",
       "    <tr>\n",
       "      <th>2016-07-24</th>\n",
       "      <td>0.655901</td>\n",
       "      <td>0.194736</td>\n",
       "      <td>-0.018709</td>\n",
       "      <td>-0.388518</td>\n",
       "    </tr>\n",
       "    <tr>\n",
       "      <th>2016-07-31</th>\n",
       "      <td>1.124113</td>\n",
       "      <td>0.947526</td>\n",
       "      <td>-0.772878</td>\n",
       "      <td>0.407052</td>\n",
       "    </tr>\n",
       "    <tr>\n",
       "      <th>2016-08-07</th>\n",
       "      <td>-0.971657</td>\n",
       "      <td>-1.379618</td>\n",
       "      <td>-0.626717</td>\n",
       "      <td>0.862393</td>\n",
       "    </tr>\n",
       "    <tr>\n",
       "      <th>2016-08-14</th>\n",
       "      <td>0.953125</td>\n",
       "      <td>0.513085</td>\n",
       "      <td>0.725096</td>\n",
       "      <td>0.516178</td>\n",
       "    </tr>\n",
       "    <tr>\n",
       "      <th>2016-08-21</th>\n",
       "      <td>-0.641482</td>\n",
       "      <td>0.431923</td>\n",
       "      <td>0.800410</td>\n",
       "      <td>0.754291</td>\n",
       "    </tr>\n",
       "    <tr>\n",
       "      <th>2016-08-28</th>\n",
       "      <td>1.188913</td>\n",
       "      <td>0.708304</td>\n",
       "      <td>0.351448</td>\n",
       "      <td>1.070150</td>\n",
       "    </tr>\n",
       "    <tr>\n",
       "      <th>2016-09-04</th>\n",
       "      <td>-0.026521</td>\n",
       "      <td>-0.881875</td>\n",
       "      <td>-0.163067</td>\n",
       "      <td>-0.744903</td>\n",
       "    </tr>\n",
       "    <tr>\n",
       "      <th>2016-09-11</th>\n",
       "      <td>-0.675178</td>\n",
       "      <td>-0.144519</td>\n",
       "      <td>-0.792420</td>\n",
       "      <td>-0.307962</td>\n",
       "    </tr>\n",
       "    <tr>\n",
       "      <th>2016-09-18</th>\n",
       "      <td>-1.893615</td>\n",
       "      <td>0.213294</td>\n",
       "      <td>0.001205</td>\n",
       "      <td>-0.817089</td>\n",
       "    </tr>\n",
       "    <tr>\n",
       "      <th>2016-09-25</th>\n",
       "      <td>0.659246</td>\n",
       "      <td>0.937570</td>\n",
       "      <td>-1.607560</td>\n",
       "      <td>-0.762725</td>\n",
       "    </tr>\n",
       "    <tr>\n",
       "      <th>2016-10-02</th>\n",
       "      <td>-0.769142</td>\n",
       "      <td>-0.939903</td>\n",
       "      <td>0.829475</td>\n",
       "      <td>-0.193826</td>\n",
       "    </tr>\n",
       "    <tr>\n",
       "      <th>2016-10-09</th>\n",
       "      <td>-0.264515</td>\n",
       "      <td>-2.003862</td>\n",
       "      <td>0.635418</td>\n",
       "      <td>-1.239258</td>\n",
       "    </tr>\n",
       "    <tr>\n",
       "      <th>2016-10-16</th>\n",
       "      <td>0.059933</td>\n",
       "      <td>0.277377</td>\n",
       "      <td>1.360659</td>\n",
       "      <td>-1.308820</td>\n",
       "    </tr>\n",
       "    <tr>\n",
       "      <th>2016-10-23</th>\n",
       "      <td>-3.019512</td>\n",
       "      <td>0.183850</td>\n",
       "      <td>1.800511</td>\n",
       "      <td>1.238946</td>\n",
       "    </tr>\n",
       "    <tr>\n",
       "      <th>2016-10-30</th>\n",
       "      <td>0.209659</td>\n",
       "      <td>-0.491636</td>\n",
       "      <td>0.807123</td>\n",
       "      <td>-0.973546</td>\n",
       "    </tr>\n",
       "    <tr>\n",
       "      <th>2016-11-06</th>\n",
       "      <td>0.476358</td>\n",
       "      <td>0.505470</td>\n",
       "      <td>1.060210</td>\n",
       "      <td>2.759660</td>\n",
       "    </tr>\n",
       "    <tr>\n",
       "      <th>2016-11-13</th>\n",
       "      <td>0.392416</td>\n",
       "      <td>-0.508964</td>\n",
       "      <td>-0.025574</td>\n",
       "      <td>-1.769076</td>\n",
       "    </tr>\n",
       "    <tr>\n",
       "      <th>2016-11-20</th>\n",
       "      <td>-0.694713</td>\n",
       "      <td>-0.409282</td>\n",
       "      <td>-0.524088</td>\n",
       "      <td>0.152355</td>\n",
       "    </tr>\n",
       "    <tr>\n",
       "      <th>2016-11-27</th>\n",
       "      <td>-0.822420</td>\n",
       "      <td>1.121031</td>\n",
       "      <td>0.000207</td>\n",
       "      <td>-0.009300</td>\n",
       "    </tr>\n",
       "    <tr>\n",
       "      <th>2016-12-04</th>\n",
       "      <td>-0.327895</td>\n",
       "      <td>0.155191</td>\n",
       "      <td>0.825098</td>\n",
       "      <td>-0.867130</td>\n",
       "    </tr>\n",
       "    <tr>\n",
       "      <th>2016-12-11</th>\n",
       "      <td>-0.658116</td>\n",
       "      <td>-0.303726</td>\n",
       "      <td>-1.345871</td>\n",
       "      <td>-0.819258</td>\n",
       "    </tr>\n",
       "    <tr>\n",
       "      <th>2016-12-18</th>\n",
       "      <td>-0.476221</td>\n",
       "      <td>0.874389</td>\n",
       "      <td>0.262561</td>\n",
       "      <td>0.193590</td>\n",
       "    </tr>\n",
       "    <tr>\n",
       "      <th>2016-12-25</th>\n",
       "      <td>0.850898</td>\n",
       "      <td>-0.137372</td>\n",
       "      <td>0.390465</td>\n",
       "      <td>-0.103222</td>\n",
       "    </tr>\n",
       "    <tr>\n",
       "      <th>2017-01-01</th>\n",
       "      <td>0.265362</td>\n",
       "      <td>-0.582759</td>\n",
       "      <td>-2.438817</td>\n",
       "      <td>-0.134279</td>\n",
       "    </tr>\n",
       "    <tr>\n",
       "      <th>2017-01-08</th>\n",
       "      <td>1.422748</td>\n",
       "      <td>0.926215</td>\n",
       "      <td>0.965397</td>\n",
       "      <td>1.236131</td>\n",
       "    </tr>\n",
       "  </tbody>\n",
       "</table>\n",
       "</div>"
      ],
      "text/plain": [
       "             GrossIn  GrossOut     NetIn    NetOut\n",
       "2015-11-29 -1.143726  0.108560 -0.033230 -0.208117\n",
       "2015-12-06 -0.128538 -1.881849 -0.548725  0.092845\n",
       "2015-12-13  0.159856 -1.027675  1.265708 -0.866175\n",
       "2015-12-20  0.969457  0.427194 -0.646227  1.775311\n",
       "2015-12-27 -1.193637  0.919154  1.000582 -0.670620\n",
       "2016-01-03  1.392465 -0.250047  0.288694  0.260322\n",
       "2016-01-10 -0.134309  0.810808  0.793489 -1.748532\n",
       "2016-01-17  1.304340 -1.662492  1.032546  1.126705\n",
       "2016-01-24 -1.090966 -0.410814 -1.105705 -0.214921\n",
       "2016-01-31 -0.308034  0.779661  1.310309  1.395684\n",
       "2016-02-07 -0.562168 -0.209222 -1.683438 -0.805870\n",
       "2016-02-14  0.964852  1.615583 -1.234349 -0.592464\n",
       "2016-02-21 -0.026406  0.280161 -0.809604  0.424061\n",
       "2016-02-28 -0.473839 -0.014452  0.546284  0.006422\n",
       "2016-03-06 -0.436386 -0.109610 -0.088363 -0.370011\n",
       "2016-03-13 -0.258796  1.598647  0.560919 -0.295480\n",
       "2016-03-20  0.696954 -0.333819  1.173125  0.369642\n",
       "2016-03-27 -0.107302  0.447717 -1.570876 -1.126767\n",
       "2016-04-03 -1.193925  0.142943  1.732515  2.231300\n",
       "2016-04-10  0.638051  0.500844 -1.801058 -0.542674\n",
       "2016-04-17 -0.787784 -0.620848 -0.168144 -0.472091\n",
       "2016-04-24 -1.979300  0.747910 -1.072743  0.239247\n",
       "2016-05-01  2.074083 -0.919385 -2.530288 -0.286004\n",
       "2016-05-08  1.100960  1.958347 -1.229550  0.496699\n",
       "2016-05-15 -0.465310 -0.105948  2.644343 -1.502970\n",
       "2016-05-22  0.253740  0.467693  1.085786  0.097983\n",
       "2016-05-29  0.308051 -0.391649  0.269127 -0.343192\n",
       "2016-06-05  0.621572 -0.369610  0.377100 -0.029263\n",
       "2016-06-12  1.126050 -0.051394 -1.773032  1.261922\n",
       "2016-06-19 -0.905732 -0.653766 -0.595661  1.374438\n",
       "2016-06-26 -2.135674  3.137749  1.056057  0.223239\n",
       "2016-07-03 -0.054894  0.285554  0.521122  0.645216\n",
       "2016-07-10  0.555604  0.089581 -0.197338 -0.151273\n",
       "2016-07-17 -0.194908  1.133770  0.593557 -2.940389\n",
       "2016-07-24  0.655901  0.194736 -0.018709 -0.388518\n",
       "2016-07-31  1.124113  0.947526 -0.772878  0.407052\n",
       "2016-08-07 -0.971657 -1.379618 -0.626717  0.862393\n",
       "2016-08-14  0.953125  0.513085  0.725096  0.516178\n",
       "2016-08-21 -0.641482  0.431923  0.800410  0.754291\n",
       "2016-08-28  1.188913  0.708304  0.351448  1.070150\n",
       "2016-09-04 -0.026521 -0.881875 -0.163067 -0.744903\n",
       "2016-09-11 -0.675178 -0.144519 -0.792420 -0.307962\n",
       "2016-09-18 -1.893615  0.213294  0.001205 -0.817089\n",
       "2016-09-25  0.659246  0.937570 -1.607560 -0.762725\n",
       "2016-10-02 -0.769142 -0.939903  0.829475 -0.193826\n",
       "2016-10-09 -0.264515 -2.003862  0.635418 -1.239258\n",
       "2016-10-16  0.059933  0.277377  1.360659 -1.308820\n",
       "2016-10-23 -3.019512  0.183850  1.800511  1.238946\n",
       "2016-10-30  0.209659 -0.491636  0.807123 -0.973546\n",
       "2016-11-06  0.476358  0.505470  1.060210  2.759660\n",
       "2016-11-13  0.392416 -0.508964 -0.025574 -1.769076\n",
       "2016-11-20 -0.694713 -0.409282 -0.524088  0.152355\n",
       "2016-11-27 -0.822420  1.121031  0.000207 -0.009300\n",
       "2016-12-04 -0.327895  0.155191  0.825098 -0.867130\n",
       "2016-12-11 -0.658116 -0.303726 -1.345871 -0.819258\n",
       "2016-12-18 -0.476221  0.874389  0.262561  0.193590\n",
       "2016-12-25  0.850898 -0.137372  0.390465 -0.103222\n",
       "2017-01-01  0.265362 -0.582759 -2.438817 -0.134279\n",
       "2017-01-08  1.422748  0.926215  0.965397  1.236131"
      ]
     },
     "execution_count": 113,
     "metadata": {},
     "output_type": "execute_result"
    }
   ],
   "source": [
    "df2 = pd.DataFrame(np.random.randn(59,4))\n",
    "cols = ['GrossIn', 'GrossOut', 'NetIn', 'NetOut']\n",
    "df2.columns = cols\n",
    "dates = pd.date_range(start='2015-11-29', freq='W', periods=59)\n",
    "df2.index = dates\n",
    "df2"
   ]
  },
  {
   "cell_type": "markdown",
   "metadata": {},
   "source": [
    "**30) Print all the data from 2016-06-19 to 2016-10-20 in df2 above.**"
   ]
  },
  {
   "cell_type": "code",
   "execution_count": 115,
   "metadata": {},
   "outputs": [
    {
     "name": "stdout",
     "output_type": "stream",
     "text": [
      "             GrossIn  GrossOut     NetIn    NetOut\n",
      "2016-06-19 -0.905732 -0.653766 -0.595661  1.374438\n",
      "2016-06-26 -2.135674  3.137749  1.056057  0.223239\n",
      "2016-07-03 -0.054894  0.285554  0.521122  0.645216\n",
      "2016-07-10  0.555604  0.089581 -0.197338 -0.151273\n",
      "2016-07-17 -0.194908  1.133770  0.593557 -2.940389\n",
      "2016-07-24  0.655901  0.194736 -0.018709 -0.388518\n",
      "2016-07-31  1.124113  0.947526 -0.772878  0.407052\n",
      "2016-08-07 -0.971657 -1.379618 -0.626717  0.862393\n",
      "2016-08-14  0.953125  0.513085  0.725096  0.516178\n",
      "2016-08-21 -0.641482  0.431923  0.800410  0.754291\n",
      "2016-08-28  1.188913  0.708304  0.351448  1.070150\n",
      "2016-09-04 -0.026521 -0.881875 -0.163067 -0.744903\n",
      "2016-09-11 -0.675178 -0.144519 -0.792420 -0.307962\n",
      "2016-09-18 -1.893615  0.213294  0.001205 -0.817089\n",
      "2016-09-25  0.659246  0.937570 -1.607560 -0.762725\n",
      "2016-10-02 -0.769142 -0.939903  0.829475 -0.193826\n",
      "2016-10-09 -0.264515 -2.003862  0.635418 -1.239258\n",
      "2016-10-16  0.059933  0.277377  1.360659 -1.308820\n"
     ]
    }
   ],
   "source": [
    "print df2.loc['2016-06-19':'2016-10-20']"
   ]
  },
  {
   "cell_type": "markdown",
   "metadata": {},
   "source": [
    "**31) What was the GrossIn and NetIn for 2016-09-18? Print the results. **"
   ]
  },
  {
   "cell_type": "code",
   "execution_count": 114,
   "metadata": {},
   "outputs": [
    {
     "name": "stdout",
     "output_type": "stream",
     "text": [
      "GrossIn   -1.893615\n",
      "NetIn      0.001205\n",
      "Name: 2016-09-18 00:00:00, dtype: float64\n"
     ]
    }
   ],
   "source": [
    "print df2.loc['2016-09-18',['GrossIn','NetIn']]"
   ]
  },
  {
   "cell_type": "markdown",
   "metadata": {},
   "source": [
    "**32) Sum all the GrossOut and NetOut for the month of March 2016 in df2. Print the results. **"
   ]
  },
  {
   "cell_type": "code",
   "execution_count": 118,
   "metadata": {},
   "outputs": [
    {
     "name": "stdout",
     "output_type": "stream",
     "text": [
      "1.60293480263\n",
      "-1.42261662462\n"
     ]
    }
   ],
   "source": [
    "df2_march = df2.loc['2016-03-01':'2016-03-31']\n",
    "print df2_march['GrossOut'].sum()\n",
    "print df2_march['NetOut'].sum()"
   ]
  },
  {
   "cell_type": "markdown",
   "metadata": {},
   "source": [
    "**33) Find all the days GrossOut was greater than GrossIn in df2. Print the results.**"
   ]
  },
  {
   "cell_type": "code",
   "execution_count": 120,
   "metadata": {},
   "outputs": [
    {
     "name": "stdout",
     "output_type": "stream",
     "text": [
      "             GrossIn  GrossOut     NetIn    NetOut\n",
      "2015-11-29 -1.143726  0.108560 -0.033230 -0.208117\n",
      "2015-12-27 -1.193637  0.919154  1.000582 -0.670620\n",
      "2016-01-10 -0.134309  0.810808  0.793489 -1.748532\n",
      "2016-01-24 -1.090966 -0.410814 -1.105705 -0.214921\n",
      "2016-01-31 -0.308034  0.779661  1.310309  1.395684\n",
      "2016-02-07 -0.562168 -0.209222 -1.683438 -0.805870\n",
      "2016-02-14  0.964852  1.615583 -1.234349 -0.592464\n",
      "2016-02-21 -0.026406  0.280161 -0.809604  0.424061\n",
      "2016-02-28 -0.473839 -0.014452  0.546284  0.006422\n",
      "2016-03-06 -0.436386 -0.109610 -0.088363 -0.370011\n",
      "2016-03-13 -0.258796  1.598647  0.560919 -0.295480\n",
      "2016-03-27 -0.107302  0.447717 -1.570876 -1.126767\n",
      "2016-04-03 -1.193925  0.142943  1.732515  2.231300\n",
      "2016-04-17 -0.787784 -0.620848 -0.168144 -0.472091\n",
      "2016-04-24 -1.979300  0.747910 -1.072743  0.239247\n",
      "2016-05-08  1.100960  1.958347 -1.229550  0.496699\n",
      "2016-05-15 -0.465310 -0.105948  2.644343 -1.502970\n",
      "2016-05-22  0.253740  0.467693  1.085786  0.097983\n",
      "2016-06-19 -0.905732 -0.653766 -0.595661  1.374438\n",
      "2016-06-26 -2.135674  3.137749  1.056057  0.223239\n",
      "2016-07-03 -0.054894  0.285554  0.521122  0.645216\n",
      "2016-07-17 -0.194908  1.133770  0.593557 -2.940389\n",
      "2016-08-21 -0.641482  0.431923  0.800410  0.754291\n",
      "2016-09-11 -0.675178 -0.144519 -0.792420 -0.307962\n",
      "2016-09-18 -1.893615  0.213294  0.001205 -0.817089\n",
      "2016-09-25  0.659246  0.937570 -1.607560 -0.762725\n",
      "2016-10-16  0.059933  0.277377  1.360659 -1.308820\n",
      "2016-10-23 -3.019512  0.183850  1.800511  1.238946\n",
      "2016-11-06  0.476358  0.505470  1.060210  2.759660\n",
      "2016-11-20 -0.694713 -0.409282 -0.524088  0.152355\n",
      "2016-11-27 -0.822420  1.121031  0.000207 -0.009300\n",
      "2016-12-04 -0.327895  0.155191  0.825098 -0.867130\n",
      "2016-12-11 -0.658116 -0.303726 -1.345871 -0.819258\n",
      "2016-12-18 -0.476221  0.874389  0.262561  0.193590\n"
     ]
    }
   ],
   "source": [
    "print df2[df2['GrossOut'] > df2['GrossIn']]"
   ]
  },
  {
   "cell_type": "markdown",
   "metadata": {},
   "source": [
    "**34) What percentage was the total NetOut of the total NetIn in the year 2016 from df2 above? **"
   ]
  },
  {
   "cell_type": "code",
   "execution_count": 129,
   "metadata": {},
   "outputs": [
    {
     "name": "stdout",
     "output_type": "stream",
     "text": [
      "-172.513690113\n"
     ]
    }
   ],
   "source": [
    "df2_2016 = df2.loc['2016-01-01':'2016-12-31']\n",
    "NetOut_total = df2_2016['NetOut'].sum()\n",
    "NetIn_total = df2_2016['NetIn'].sum()\n",
    "percentage = (NetOut_total / NetIn_total) * 100\n",
    "print percentage"
   ]
  },
  {
   "cell_type": "markdown",
   "metadata": {},
   "source": [
    "**35) Plot values for 2016 on a line graph for the GrossOut and GrossIn in df2:**"
   ]
  },
  {
   "cell_type": "code",
   "execution_count": 135,
   "metadata": {},
   "outputs": [
    {
     "data": {
      "text/plain": [
       "<matplotlib.axes._subplots.AxesSubplot at 0x7f6810187090>"
      ]
     },
     "execution_count": 135,
     "metadata": {},
     "output_type": "execute_result"
    },
    {
     "data": {
      "image/png": "[encoded data removed]",
      "text/plain": [
       "<matplotlib.figure.Figure at 0x7f6810058bd0>"
      ]
     },
     "metadata": {},
     "output_type": "display_data"
    }
   ],
   "source": [
    "df2_2016[['GrossIn','GrossOut']].plot()"
   ]
  },
  {
   "cell_type": "markdown",
   "metadata": {},
   "source": [
    "**36) Plot 4 different HISTOGRAMS of df2.GrossIn each having 5,10,15,20 bins.**<br> \n",
    "Hint: use the following code  to plot the histograms on different subplots. <br> \n",
    "\n",
    "import matplotlib.pyplot as plt<br> \n",
    "fig, ax = plt.subplots(nrows=2, ncols=2)<br> \n",
    "dataframe.plot(ax=ax[0,0])# this is just an example of how to plot on a top right subplot (2x2)"
   ]
  },
  {
   "cell_type": "code",
   "execution_count": 141,
   "metadata": {},
   "outputs": [
    {
     "data": {
      "text/plain": [
       "<matplotlib.axes._subplots.AxesSubplot at 0x7f680a1c4ad0>"
      ]
     },
     "execution_count": 141,
     "metadata": {},
     "output_type": "execute_result"
    },
    {
     "data": {
      "image/png": "[encoded data removed]",
      "text/plain": [
       "<matplotlib.figure.Figure at 0x7f680a447390>"
      ]
     },
     "metadata": {},
     "output_type": "display_data"
    }
   ],
   "source": [
    "import matplotlib.pyplot as plt\n",
    "fig, ax = plt.subplots(nrows=2, ncols=2)\n",
    "df2.GrossIn.hist(ax=ax[0,0], bins=5)\n",
    "df2.GrossIn.hist(ax=ax[0,1], bins=10)\n",
    "df2.GrossIn.hist(ax=ax[1,0], bins=15)\n",
    "df2.GrossIn.hist(ax=ax[1,1], bins=20)"
   ]
  },
  {
   "cell_type": "markdown",
   "metadata": {},
   "source": [
    "**37) What is your favorite pizza topping? None is not a valid answer. I don't care if you are off gluten.**"
   ]
  },
  {
   "cell_type": "code",
   "execution_count": null,
   "metadata": {
    "collapsed": true
   },
   "outputs": [],
   "source": [
    "Pepperoni"
   ]
  },
  {
   "cell_type": "markdown",
   "metadata": {},
   "source": [
    "**38) Import pandas libary with the alias pd**"
   ]
  },
  {
   "cell_type": "code",
   "execution_count": 142,
   "metadata": {
    "collapsed": true
   },
   "outputs": [],
   "source": [
    "import pandas as pd"
   ]
  },
  {
   "cell_type": "markdown",
   "metadata": {},
   "source": [
    "**39)You are given the Medicare spending dataset. Read it into a pandas dataframe. Then remove the 2 unused columns 'Measure Start Date' and 'Measure End Date' from the DataFrame all in the following cell. Provide your code as the answer. **\n",
    "\n",
    "***You need to put the data file ‘Medicare_Hospital_Spending_by_Claim.csv’ at the same place as your notebook file.***\n",
    "\n"
   ]
  },
  {
   "cell_type": "code",
   "execution_count": 151,
   "metadata": {},
   "outputs": [],
   "source": [
    "data = pd.read_csv('./Medicare_Hospital_Spending_by_Claim.csv')\n",
    "data = data.drop('Measure Start Date',1)\n",
    "data = data.drop('Measure End Date', 1)"
   ]
  },
  {
   "cell_type": "markdown",
   "metadata": {},
   "source": [
    "**40) Replace columns names...replace the original long column names in the dataframe above (Q - 39) with shorter ones provided below in \"newColumns\".  Provide your code and the resulting new column names as the answer.**\n",
    "<br/>\n",
    "newColumns = ['Hospital', 'Provider ID', 'State', 'Period', 'Claim Type', 'Avg Spending Hospital', 'Avg Spending State', 'Avg Spending Nation', 'Percent Spending Hospital', 'Percent Spending State', 'Percent Spending Nation']"
   ]
  },
  {
   "cell_type": "code",
   "execution_count": 153,
   "metadata": {
    "scrolled": true
   },
   "outputs": [
    {
     "name": "stdout",
     "output_type": "stream",
     "text": [
      "Index([u'Hospital', u'Provider ID', u'State', u'Period', u'Claim Type',\n",
      "       u'Avg Spending Hospital', u'Avg Spending State', u'Avg Spending Nation',\n",
      "       u'Percent Spending Hospital', u'Percent Spending State',\n",
      "       u'Percent Spending Nation'],\n",
      "      dtype='object')\n"
     ]
    }
   ],
   "source": [
    "newColumns = ['Hospital', 'Provider ID', 'State', 'Period', 'Claim Type', 'Avg Spending Hospital', 'Avg Spending State', 'Avg Spending Nation', 'Percent Spending Hospital', 'Percent Spending State', 'Percent Spending Nation']\n",
    "data.columns = newColumns\n",
    "print data.columns"
   ]
  },
  {
   "cell_type": "markdown",
   "metadata": {},
   "source": [
    "**41) Find the statistics of average (mean) and percentage spending for different states, claim types, and hospitals.  In the cell below using the same dataframe used in 39 and 40. Place your code and print your results in the cell below **"
   ]
  },
  {
   "cell_type": "code",
   "execution_count": 174,
   "metadata": {},
   "outputs": [
    {
     "name": "stdout",
     "output_type": "stream",
     "text": [
      "                                Provider ID  Avg Spending Hospital  \\\n",
      "State Percent Spending State                                         \n",
      "AK    0.0000                   20015.444444               0.000000   \n",
      "      0.0001                   20015.444444               0.444444   \n",
      "      0.0002                   20015.444444               7.444444   \n",
      "      0.0003                   20015.444444               2.555556   \n",
      "      0.0010                   20015.444444              17.444444   \n",
      "      0.0044                   20015.444444              54.555556   \n",
      "      0.0054                   20015.444444              66.222222   \n",
      "      0.0071                   20015.444444             155.666667   \n",
      "      0.0263                   20015.444444             303.888889   \n",
      "      0.0291                   20015.444444             941.666667   \n",
      "      0.0392                   20015.444444             824.222222   \n",
      "      0.0426                   20015.444444             661.111111   \n",
      "      0.0733                   20015.444444            1110.222222   \n",
      "      0.0973                   20015.444444            1408.333333   \n",
      "      0.1598                   20015.444444             519.666667   \n",
      "      0.5133                   20015.444444            8702.555556   \n",
      "      1.0000                   20015.444444           14778.222222   \n",
      "AL    0.0000                   10079.841463               0.000000   \n",
      "      0.0001                   10079.841463               1.756098   \n",
      "      0.0003                   10079.841463               3.548780   \n",
      "      0.0005                   10079.841463               8.463415   \n",
      "      0.0007                   10079.841463              15.951220   \n",
      "      0.0017                   10079.841463              22.756098   \n",
      "      0.0046                   10079.841463              56.268293   \n",
      "      0.0067                   10079.841463             102.804878   \n",
      "      0.0076                   10079.841463             159.902439   \n",
      "      0.0265                   10079.841463             401.158537   \n",
      "      0.0320                   10079.841463             518.451220   \n",
      "      0.0483                   10079.841463             851.707317   \n",
      "      0.0535                   10079.841463             865.609756   \n",
      "...                                     ...                    ...   \n",
      "WV    0.0057                  510039.607143             103.142857   \n",
      "      0.0059                  510039.607143             110.357143   \n",
      "      0.0074                  510039.607143              91.714286   \n",
      "      0.0335                  510039.607143             536.071429   \n",
      "      0.0358                  510039.607143             639.000000   \n",
      "      0.0414                  510039.607143             700.821429   \n",
      "      0.0536                  510039.607143             939.750000   \n",
      "      0.0726                  510039.607143            1107.714286   \n",
      "      0.1166                  510039.607143            2226.607143   \n",
      "      0.1505                  510039.607143            2557.678571   \n",
      "      0.4733                  510039.607143            7956.785714   \n",
      "      1.0000                  510039.607143           17027.107143   \n",
      "WY    0.0000                  530015.800000               0.000000   \n",
      "      0.0001                  530015.800000               1.300000   \n",
      "      0.0003                  530015.800000               1.900000   \n",
      "      0.0004                  530015.800000               9.200000   \n",
      "      0.0005                  530015.800000               8.500000   \n",
      "      0.0024                  530015.800000              58.300000   \n",
      "      0.0044                  530015.800000              90.300000   \n",
      "      0.0059                  530015.800000             105.400000   \n",
      "      0.0092                  530015.800000             100.900000   \n",
      "      0.0203                  530015.800000             396.300000   \n",
      "      0.0287                  530015.800000             452.600000   \n",
      "      0.0372                  530015.800000             599.700000   \n",
      "      0.0471                  530015.800000             747.100000   \n",
      "      0.0683                  530015.800000            1190.000000   \n",
      "      0.1399                  530015.800000            2335.100000   \n",
      "      0.1415                  530015.800000            2202.300000   \n",
      "      0.4938                  530015.800000            8763.600000   \n",
      "      1.0000                  530015.800000           17062.100000   \n",
      "\n",
      "                              Avg Spending State  Avg Spending Nation  \\\n",
      "State Percent Spending State                                            \n",
      "AK    0.0000                                 0.0                  0.2   \n",
      "      0.0001                                 2.0                  2.0   \n",
      "      0.0002                                 4.0                  5.0   \n",
      "      0.0003                                 6.5                 11.0   \n",
      "      0.0010                                20.0                 24.0   \n",
      "      0.0044                                86.0                101.0   \n",
      "      0.0054                               107.0                118.0   \n",
      "      0.0071                               140.0                117.0   \n",
      "      0.0263                               517.0                771.0   \n",
      "      0.0291                               571.0                532.0   \n",
      "      0.0392                               770.0                710.0   \n",
      "      0.0426                               837.0               1083.0   \n",
      "      0.0733                              1438.0               1514.0   \n",
      "      0.0973                              1909.0               2665.0   \n",
      "      0.1598                              3137.0               3251.0   \n",
      "      0.5133                             10074.0               9108.0   \n",
      "      1.0000                             19625.0              20025.0   \n",
      "AL    0.0000                                 0.0                  0.0   \n",
      "      0.0001                                 1.5                  1.5   \n",
      "      0.0003                                 6.0                  5.0   \n",
      "      0.0005                                 9.0                  9.0   \n",
      "      0.0007                                14.0                 13.0   \n",
      "      0.0017                                32.0                 24.0   \n",
      "      0.0046                                85.0                117.0   \n",
      "      0.0067                               124.0                101.0   \n",
      "      0.0076                               141.0                118.0   \n",
      "      0.0265                               492.0                532.0   \n",
      "      0.0320                               596.0                710.0   \n",
      "      0.0483                               898.0                771.0   \n",
      "      0.0535                               995.0               1083.0   \n",
      "...                                          ...                  ...   \n",
      "WV    0.0057                               107.0                101.0   \n",
      "      0.0059                               110.0                118.0   \n",
      "      0.0074                               137.0                117.0   \n",
      "      0.0335                               625.0                532.0   \n",
      "      0.0358                               667.0                771.0   \n",
      "      0.0414                               772.0                710.0   \n",
      "      0.0536                              1000.0               1083.0   \n",
      "      0.0726                              1354.0               1514.0   \n",
      "      0.1166                              2175.0               3251.0   \n",
      "      0.1505                              2807.0               2665.0   \n",
      "      0.4733                              8827.0               9108.0   \n",
      "      1.0000                             18647.0              20025.0   \n",
      "WY    0.0000                                 0.0                  0.2   \n",
      "      0.0001                                 1.0                  2.0   \n",
      "      0.0003                                 5.0                  5.0   \n",
      "      0.0004                                 7.0                 13.0   \n",
      "      0.0005                                 9.0                  9.0   \n",
      "      0.0024                                45.0                 24.0   \n",
      "      0.0044                                81.0                118.0   \n",
      "      0.0059                               109.0                101.0   \n",
      "      0.0092                               168.0                117.0   \n",
      "      0.0203                               374.0                771.0   \n",
      "      0.0287                               528.0                532.0   \n",
      "      0.0372                               685.0                710.0   \n",
      "      0.0471                               866.0               1083.0   \n",
      "      0.0683                              1257.0               1514.0   \n",
      "      0.1399                              2574.0               3251.0   \n",
      "      0.1415                              2603.0               2665.0   \n",
      "      0.4938                              9085.0               9108.0   \n",
      "      1.0000                             18397.0              20025.0   \n",
      "\n",
      "                              Percent Spending Hospital  \\\n",
      "State Percent Spending State                              \n",
      "AK    0.0000                                   0.000000   \n",
      "      0.0001                                   0.000022   \n",
      "      0.0002                                   0.000478   \n",
      "      0.0003                                   0.000156   \n",
      "      0.0010                                   0.001078   \n",
      "      0.0044                                   0.003722   \n",
      "      0.0054                                   0.004289   \n",
      "      0.0071                                   0.008878   \n",
      "      0.0263                                   0.019567   \n",
      "      0.0291                                   0.069522   \n",
      "      0.0392                                   0.059022   \n",
      "      0.0426                                   0.045511   \n",
      "      0.0733                                   0.070544   \n",
      "      0.0973                                   0.095400   \n",
      "      0.1598                                   0.033922   \n",
      "      0.5133                                   0.587744   \n",
      "      1.0000                                   1.000000   \n",
      "AL    0.0000                                   0.000000   \n",
      "      0.0001                                   0.000116   \n",
      "      0.0003                                   0.000207   \n",
      "      0.0005                                   0.000552   \n",
      "      0.0007                                   0.001074   \n",
      "      0.0017                                   0.001328   \n",
      "      0.0046                                   0.003372   \n",
      "      0.0067                                   0.006467   \n",
      "      0.0076                                   0.010710   \n",
      "      0.0265                                   0.024972   \n",
      "      0.0320                                   0.032976   \n",
      "      0.0483                                   0.054488   \n",
      "      0.0535                                   0.054809   \n",
      "...                                                 ...   \n",
      "WV    0.0057                                   0.006225   \n",
      "      0.0059                                   0.006607   \n",
      "      0.0074                                   0.005093   \n",
      "      0.0335                                   0.031582   \n",
      "      0.0358                                   0.037868   \n",
      "      0.0414                                   0.041257   \n",
      "      0.0536                                   0.055657   \n",
      "      0.0726                                   0.063400   \n",
      "      0.1166                                   0.132529   \n",
      "      0.1505                                   0.148139   \n",
      "      0.4733                                   0.468286   \n",
      "      1.0000                                   1.000000   \n",
      "WY    0.0000                                   0.000000   \n",
      "      0.0001                                   0.000070   \n",
      "      0.0003                                   0.000090   \n",
      "      0.0004                                   0.000580   \n",
      "      0.0005                                   0.000520   \n",
      "      0.0024                                   0.003040   \n",
      "      0.0044                                   0.005950   \n",
      "      0.0059                                   0.006180   \n",
      "      0.0092                                   0.005710   \n",
      "      0.0203                                   0.024650   \n",
      "      0.0287                                   0.027440   \n",
      "      0.0372                                   0.035810   \n",
      "      0.0471                                   0.044380   \n",
      "      0.0683                                   0.065910   \n",
      "      0.1399                                   0.141450   \n",
      "      0.1415                                   0.127600   \n",
      "      0.4938                                   0.510580   \n",
      "      1.0000                                   1.000000   \n",
      "\n",
      "                              Percent Spending Nation  \n",
      "State Percent Spending State                           \n",
      "AK    0.0000                                  0.00000  \n",
      "      0.0001                                  0.00010  \n",
      "      0.0002                                  0.00030  \n",
      "      0.0003                                  0.00055  \n",
      "      0.0010                                  0.00120  \n",
      "      0.0044                                  0.00500  \n",
      "      0.0054                                  0.00590  \n",
      "      0.0071                                  0.00580  \n",
      "      0.0263                                  0.03850  \n",
      "      0.0291                                  0.02660  \n",
      "      0.0392                                  0.03540  \n",
      "      0.0426                                  0.05410  \n",
      "      0.0733                                  0.07560  \n",
      "      0.0973                                  0.13310  \n",
      "      0.1598                                  0.16230  \n",
      "      0.5133                                  0.45480  \n",
      "      1.0000                                  1.00000  \n",
      "AL    0.0000                                  0.00000  \n",
      "      0.0001                                  0.00005  \n",
      "      0.0003                                  0.00030  \n",
      "      0.0005                                  0.00040  \n",
      "      0.0007                                  0.00070  \n",
      "      0.0017                                  0.00120  \n",
      "      0.0046                                  0.00580  \n",
      "      0.0067                                  0.00500  \n",
      "      0.0076                                  0.00590  \n",
      "      0.0265                                  0.02660  \n",
      "      0.0320                                  0.03540  \n",
      "      0.0483                                  0.03850  \n",
      "      0.0535                                  0.05410  \n",
      "...                                               ...  \n",
      "WV    0.0057                                  0.00500  \n",
      "      0.0059                                  0.00590  \n",
      "      0.0074                                  0.00580  \n",
      "      0.0335                                  0.02660  \n",
      "      0.0358                                  0.03850  \n",
      "      0.0414                                  0.03540  \n",
      "      0.0536                                  0.05410  \n",
      "      0.0726                                  0.07560  \n",
      "      0.1166                                  0.16230  \n",
      "      0.1505                                  0.13310  \n",
      "      0.4733                                  0.45480  \n",
      "      1.0000                                  1.00000  \n",
      "WY    0.0000                                  0.00000  \n",
      "      0.0001                                  0.00010  \n",
      "      0.0003                                  0.00030  \n",
      "      0.0004                                  0.00070  \n",
      "      0.0005                                  0.00040  \n",
      "      0.0024                                  0.00120  \n",
      "      0.0044                                  0.00590  \n",
      "      0.0059                                  0.00500  \n",
      "      0.0092                                  0.00580  \n",
      "      0.0203                                  0.03850  \n",
      "      0.0287                                  0.02660  \n",
      "      0.0372                                  0.03540  \n",
      "      0.0471                                  0.05410  \n",
      "      0.0683                                  0.07560  \n",
      "      0.1399                                  0.16230  \n",
      "      0.1415                                  0.13310  \n",
      "      0.4938                                  0.45480  \n",
      "      1.0000                                  1.00000  \n",
      "\n",
      "[868 rows x 6 columns]\n"
     ]
    },
    {
     "name": "stdout",
     "output_type": "stream",
     "text": [
      "                                                                      Provider ID  \\\n",
      "Hospital                                   Percent Spending Hospital                \n",
      "ABBEVILLE GENERAL HOSPITAL                 0.0000                        190034.0   \n",
      "                                           0.0001                        190034.0   \n",
      "                                           0.0002                        190034.0   \n",
      "                                           0.0004                        190034.0   \n",
      "                                           0.0009                        190034.0   \n",
      "                                           0.0024                        190034.0   \n",
      "                                           0.0053                        190034.0   \n",
      "                                           0.0084                        190034.0   \n",
      "                                           0.0306                        190034.0   \n",
      "                                           0.0318                        190034.0   \n",
      "                                           0.0402                        190034.0   \n",
      "                                           0.0429                        190034.0   \n",
      "                                           0.0462                        190034.0   \n",
      "                                           0.1542                        190034.0   \n",
      "                                           0.2377                        190034.0   \n",
      "                                           0.3987                        190034.0   \n",
      "                                           1.0000                        190034.0   \n",
      "ABBOTT NORTHWESTERN HOSPITAL               0.0000                        240057.0   \n",
      "                                           0.0004                        240057.0   \n",
      "                                           0.0005                        240057.0   \n",
      "                                           0.0009                        240057.0   \n",
      "                                           0.0040                        240057.0   \n",
      "                                           0.0041                        240057.0   \n",
      "                                           0.0190                        240057.0   \n",
      "                                           0.0244                        240057.0   \n",
      "                                           0.0249                        240057.0   \n",
      "                                           0.0398                        240057.0   \n",
      "                                           0.0415                        240057.0   \n",
      "                                           0.0932                        240057.0   \n",
      "                                           0.0962                        240057.0   \n",
      "...                                                                           ...   \n",
      "YUMA REGIONAL MEDICAL CENTER               0.0004                         30013.0   \n",
      "                                           0.0006                         30013.0   \n",
      "                                           0.0010                         30013.0   \n",
      "                                           0.0011                         30013.0   \n",
      "                                           0.0034                         30013.0   \n",
      "                                           0.0057                         30013.0   \n",
      "                                           0.0258                         30013.0   \n",
      "                                           0.0350                         30013.0   \n",
      "                                           0.0353                         30013.0   \n",
      "                                           0.0581                         30013.0   \n",
      "                                           0.0747                         30013.0   \n",
      "                                           0.0851                         30013.0   \n",
      "                                           0.1999                         30013.0   \n",
      "                                           0.4738                         30013.0   \n",
      "                                           1.0000                         30013.0   \n",
      "ZUNI COMPREHENSIVE COMMUNITY HEALTH CENTER 0.0000                        320060.0   \n",
      "                                           0.0001                        320060.0   \n",
      "                                           0.0002                        320060.0   \n",
      "                                           0.0009                        320060.0   \n",
      "                                           0.0013                        320060.0   \n",
      "                                           0.0089                        320060.0   \n",
      "                                           0.0156                        320060.0   \n",
      "                                           0.0164                        320060.0   \n",
      "                                           0.0210                        320060.0   \n",
      "                                           0.0286                        320060.0   \n",
      "                                           0.0683                        320060.0   \n",
      "                                           0.1154                        320060.0   \n",
      "                                           0.1718                        320060.0   \n",
      "                                           0.5515                        320060.0   \n",
      "                                           1.0000                        320060.0   \n",
      "\n",
      "                                                                      Avg Spending Hospital  \\\n",
      "Hospital                                   Percent Spending Hospital                          \n",
      "ABBEVILLE GENERAL HOSPITAL                 0.0000                                  0.000000   \n",
      "                                           0.0001                                  1.000000   \n",
      "                                           0.0002                                  3.000000   \n",
      "                                           0.0004                                  7.000000   \n",
      "                                           0.0009                                 16.000000   \n",
      "                                           0.0024                                 41.000000   \n",
      "                                           0.0053                                 92.000000   \n",
      "                                           0.0084                                144.000000   \n",
      "                                           0.0306                                527.000000   \n",
      "                                           0.0318                                547.000000   \n",
      "                                           0.0402                                692.000000   \n",
      "                                           0.0429                                737.000000   \n",
      "                                           0.0462                                795.000000   \n",
      "                                           0.1542                               2652.000000   \n",
      "                                           0.2377                               4089.000000   \n",
      "                                           0.3987                               6858.000000   \n",
      "                                           1.0000                              17202.000000   \n",
      "ABBOTT NORTHWESTERN HOSPITAL               0.0000                                  0.166667   \n",
      "                                           0.0004                                  8.500000   \n",
      "                                           0.0005                                  9.000000   \n",
      "                                           0.0009                                 19.000000   \n",
      "                                           0.0040                                 83.000000   \n",
      "                                           0.0041                                 86.000000   \n",
      "                                           0.0190                                397.000000   \n",
      "                                           0.0244                                509.000000   \n",
      "                                           0.0249                                520.000000   \n",
      "                                           0.0398                                831.000000   \n",
      "                                           0.0415                                867.000000   \n",
      "                                           0.0932                               1946.000000   \n",
      "                                           0.0962                               2009.000000   \n",
      "...                                                                                     ...   \n",
      "YUMA REGIONAL MEDICAL CENTER               0.0004                                  8.000000   \n",
      "                                           0.0006                                 11.000000   \n",
      "                                           0.0010                                 19.000000   \n",
      "                                           0.0011                                 22.000000   \n",
      "                                           0.0034                                 68.000000   \n",
      "                                           0.0057                                112.000000   \n",
      "                                           0.0258                                512.000000   \n",
      "                                           0.0350                                694.000000   \n",
      "                                           0.0353                                699.000000   \n",
      "                                           0.0581                               1151.000000   \n",
      "                                           0.0747                               1480.000000   \n",
      "                                           0.0851                               1686.000000   \n",
      "                                           0.1999                               3962.000000   \n",
      "                                           0.4738                               9389.000000   \n",
      "                                           1.0000                              19816.000000   \n",
      "ZUNI COMPREHENSIVE COMMUNITY HEALTH CENTER 0.0000                                  0.000000   \n",
      "                                           0.0001                                  2.000000   \n",
      "                                           0.0002                                  2.000000   \n",
      "                                           0.0009                                 10.000000   \n",
      "                                           0.0013                                 15.000000   \n",
      "                                           0.0089                                104.000000   \n",
      "                                           0.0156                                181.000000   \n",
      "                                           0.0164                                190.000000   \n",
      "                                           0.0210                                243.000000   \n",
      "                                           0.0286                                332.000000   \n",
      "                                           0.0683                                792.000000   \n",
      "                                           0.1154                               1338.000000   \n",
      "                                           0.1718                               1991.000000   \n",
      "                                           0.5515                               6394.000000   \n",
      "                                           1.0000                              11594.000000   \n",
      "\n",
      "                                                                      Avg Spending State  \\\n",
      "Hospital                                   Percent Spending Hospital                       \n",
      "ABBEVILLE GENERAL HOSPITAL                 0.0000                               1.200000   \n",
      "                                           0.0001                              10.500000   \n",
      "                                           0.0002                               3.000000   \n",
      "                                           0.0004                               9.000000   \n",
      "                                           0.0009                              30.000000   \n",
      "                                           0.0024                             113.000000   \n",
      "                                           0.0053                             128.000000   \n",
      "                                           0.0084                             148.000000   \n",
      "                                           0.0306                             506.000000   \n",
      "                                           0.0318                             813.000000   \n",
      "                                           0.0402                             938.000000   \n",
      "                                           0.0429                            1013.000000   \n",
      "                                           0.0462                            1374.000000   \n",
      "                                           0.1542                            4180.000000   \n",
      "                                           0.2377                            2253.000000   \n",
      "                                           0.3987                            8925.000000   \n",
      "                                           1.0000                           20458.000000   \n",
      "ABBOTT NORTHWESTERN HOSPITAL               0.0000                               0.333333   \n",
      "                                           0.0004                               8.000000   \n",
      "                                           0.0005                               8.000000   \n",
      "                                           0.0009                              18.000000   \n",
      "                                           0.0040                              98.000000   \n",
      "                                           0.0041                              95.000000   \n",
      "                                           0.0190                             472.000000   \n",
      "                                           0.0244                             279.000000   \n",
      "                                           0.0249                             430.000000   \n",
      "                                           0.0398                             869.000000   \n",
      "                                           0.0415                             817.000000   \n",
      "                                           0.0932                            1968.000000   \n",
      "                                           0.0962                            1486.000000   \n",
      "...                                                                                  ...   \n",
      "YUMA REGIONAL MEDICAL CENTER               0.0004                               9.000000   \n",
      "                                           0.0006                               8.000000   \n",
      "                                           0.0010                              28.000000   \n",
      "                                           0.0011                             113.000000   \n",
      "                                           0.0034                              90.000000   \n",
      "                                           0.0057                             146.000000   \n",
      "                                           0.0258                             604.000000   \n",
      "                                           0.0350                             623.000000   \n",
      "                                           0.0353                             647.000000   \n",
      "                                           0.0581                            1261.000000   \n",
      "                                           0.0747                            1775.000000   \n",
      "                                           0.0851                            2139.000000   \n",
      "                                           0.1999                            2684.000000   \n",
      "                                           0.4738                            9649.000000   \n",
      "                                           1.0000                           19780.000000   \n",
      "ZUNI COMPREHENSIVE COMMUNITY HEALTH CENTER 0.0000                              86.000000   \n",
      "                                           0.0001                               9.000000   \n",
      "                                           0.0002                              23.000000   \n",
      "                                           0.0009                               2.000000   \n",
      "                                           0.0013                              87.000000   \n",
      "                                           0.0089                             143.000000   \n",
      "                                           0.0156                             171.000000   \n",
      "                                           0.0164                            2319.000000   \n",
      "                                           0.0210                             662.000000   \n",
      "                                           0.0286                            1215.000000   \n",
      "                                           0.0683                             831.000000   \n",
      "                                           0.1154                             724.000000   \n",
      "                                           0.1718                            2594.000000   \n",
      "                                           0.5515                            8692.000000   \n",
      "                                           1.0000                           18162.000000   \n",
      "\n",
      "                                                                      Avg Spending Nation  \\\n",
      "Hospital                                   Percent Spending Hospital                        \n",
      "ABBEVILLE GENERAL HOSPITAL                 0.0000                                    1.00   \n",
      "                                           0.0001                                    7.00   \n",
      "                                           0.0002                                    2.00   \n",
      "                                           0.0004                                    9.00   \n",
      "                                           0.0009                                   24.00   \n",
      "                                           0.0024                                  117.00   \n",
      "                                           0.0053                                  101.00   \n",
      "                                           0.0084                                  118.00   \n",
      "                                           0.0306                                  532.00   \n",
      "                                           0.0318                                  710.00   \n",
      "                                           0.0402                                  771.00   \n",
      "                                           0.0429                                 1083.00   \n",
      "                                           0.0462                                 1514.00   \n",
      "                                           0.1542                                 2665.00   \n",
      "                                           0.2377                                 3251.00   \n",
      "                                           0.3987                                 9108.00   \n",
      "                                           1.0000                                20025.00   \n",
      "ABBOTT NORTHWESTERN HOSPITAL               0.0000                                    0.50   \n",
      "                                           0.0004                                    7.00   \n",
      "                                           0.0005                                   13.00   \n",
      "                                           0.0009                                   24.00   \n",
      "                                           0.0040                                  118.00   \n",
      "                                           0.0041                                  101.00   \n",
      "                                           0.0190                                  532.00   \n",
      "                                           0.0244                                  117.00   \n",
      "                                           0.0249                                  771.00   \n",
      "                                           0.0398                                  710.00   \n",
      "                                           0.0415                                 1083.00   \n",
      "                                           0.0932                                 2665.00   \n",
      "                                           0.0962                                 1514.00   \n",
      "...                                                                                   ...   \n",
      "YUMA REGIONAL MEDICAL CENTER               0.0004                                   13.00   \n",
      "                                           0.0006                                    9.00   \n",
      "                                           0.0010                                   24.00   \n",
      "                                           0.0011                                  117.00   \n",
      "                                           0.0034                                  101.00   \n",
      "                                           0.0057                                  118.00   \n",
      "                                           0.0258                                  532.00   \n",
      "                                           0.0350                                  771.00   \n",
      "                                           0.0353                                  710.00   \n",
      "                                           0.0581                                 1083.00   \n",
      "                                           0.0747                                 1514.00   \n",
      "                                           0.0851                                 3251.00   \n",
      "                                           0.1999                                 2665.00   \n",
      "                                           0.4738                                 9108.00   \n",
      "                                           1.0000                                20025.00   \n",
      "ZUNI COMPREHENSIVE COMMUNITY HEALTH CENTER 0.0000                                   98.75   \n",
      "                                           0.0001                                    9.00   \n",
      "                                           0.0002                                   24.00   \n",
      "                                           0.0009                                    2.00   \n",
      "                                           0.0013                                  101.00   \n",
      "                                           0.0089                                  118.00   \n",
      "                                           0.0156                                  117.00   \n",
      "                                           0.0164                                 3251.00   \n",
      "                                           0.0210                                  532.00   \n",
      "                                           0.0286                                 1514.00   \n",
      "                                           0.0683                                 1083.00   \n",
      "                                           0.1154                                  710.00   \n",
      "                                           0.1718                                 2665.00   \n",
      "                                           0.5515                                 9108.00   \n",
      "                                           1.0000                                20025.00   \n",
      "\n",
      "                                                                      Percent Spending State  \\\n",
      "Hospital                                   Percent Spending Hospital                           \n",
      "ABBEVILLE GENERAL HOSPITAL                 0.0000                                   0.000060   \n",
      "                                           0.0001                                   0.000500   \n",
      "                                           0.0002                                   0.000100   \n",
      "                                           0.0004                                   0.000400   \n",
      "                                           0.0009                                   0.001400   \n",
      "                                           0.0024                                   0.005500   \n",
      "                                           0.0053                                   0.006300   \n",
      "                                           0.0084                                   0.007200   \n",
      "                                           0.0306                                   0.024700   \n",
      "                                           0.0318                                   0.039700   \n",
      "                                           0.0402                                   0.045800   \n",
      "                                           0.0429                                   0.049500   \n",
      "                                           0.0462                                   0.067100   \n",
      "                                           0.1542                                   0.204300   \n",
      "                                           0.2377                                   0.110100   \n",
      "                                           0.3987                                   0.436300   \n",
      "                                           1.0000                                   1.000000   \n",
      "ABBOTT NORTHWESTERN HOSPITAL               0.0000                                   0.000017   \n",
      "                                           0.0004                                   0.000400   \n",
      "                                           0.0005                                   0.000400   \n",
      "                                           0.0009                                   0.000900   \n",
      "                                           0.0040                                   0.005000   \n",
      "                                           0.0041                                   0.004900   \n",
      "                                           0.0190                                   0.024300   \n",
      "                                           0.0244                                   0.014400   \n",
      "                                           0.0249                                   0.022200   \n",
      "                                           0.0398                                   0.044800   \n",
      "                                           0.0415                                   0.042100   \n",
      "                                           0.0932                                   0.101400   \n",
      "                                           0.0962                                   0.076600   \n",
      "...                                                                                      ...   \n",
      "YUMA REGIONAL MEDICAL CENTER               0.0004                                   0.000400   \n",
      "                                           0.0006                                   0.000400   \n",
      "                                           0.0010                                   0.001400   \n",
      "                                           0.0011                                   0.005700   \n",
      "                                           0.0034                                   0.004500   \n",
      "                                           0.0057                                   0.007400   \n",
      "                                           0.0258                                   0.030500   \n",
      "                                           0.0350                                   0.031500   \n",
      "                                           0.0353                                   0.032700   \n",
      "                                           0.0581                                   0.063700   \n",
      "                                           0.0747                                   0.089700   \n",
      "                                           0.0851                                   0.108100   \n",
      "                                           0.1999                                   0.135700   \n",
      "                                           0.4738                                   0.487800   \n",
      "                                           1.0000                                   1.000000   \n",
      "ZUNI COMPREHENSIVE COMMUNITY HEALTH CENTER 0.0000                                   0.004713   \n",
      "                                           0.0001                                   0.000500   \n",
      "                                           0.0002                                   0.001300   \n",
      "                                           0.0009                                   0.000100   \n",
      "                                           0.0013                                   0.004800   \n",
      "                                           0.0089                                   0.007900   \n",
      "                                           0.0156                                   0.009400   \n",
      "                                           0.0164                                   0.127700   \n",
      "                                           0.0210                                   0.036500   \n",
      "                                           0.0286                                   0.066900   \n",
      "                                           0.0683                                   0.045800   \n",
      "                                           0.1154                                   0.039900   \n",
      "                                           0.1718                                   0.142800   \n",
      "                                           0.5515                                   0.478600   \n",
      "                                           1.0000                                   1.000000   \n",
      "\n",
      "                                                                      Percent Spending Nation  \n",
      "Hospital                                   Percent Spending Hospital                           \n",
      "ABBEVILLE GENERAL HOSPITAL                 0.0000                                    0.000060  \n",
      "                                           0.0001                                    0.000350  \n",
      "                                           0.0002                                    0.000100  \n",
      "                                           0.0004                                    0.000400  \n",
      "                                           0.0009                                    0.001200  \n",
      "                                           0.0024                                    0.005800  \n",
      "                                           0.0053                                    0.005000  \n",
      "                                           0.0084                                    0.005900  \n",
      "                                           0.0306                                    0.026600  \n",
      "                                           0.0318                                    0.035400  \n",
      "                                           0.0402                                    0.038500  \n",
      "                                           0.0429                                    0.054100  \n",
      "                                           0.0462                                    0.075600  \n",
      "                                           0.1542                                    0.133100  \n",
      "                                           0.2377                                    0.162300  \n",
      "                                           0.3987                                    0.454800  \n",
      "                                           1.0000                                    1.000000  \n",
      "ABBOTT NORTHWESTERN HOSPITAL               0.0000                                    0.000017  \n",
      "                                           0.0004                                    0.000350  \n",
      "                                           0.0005                                    0.000700  \n",
      "                                           0.0009                                    0.001200  \n",
      "                                           0.0040                                    0.005900  \n",
      "                                           0.0041                                    0.005000  \n",
      "                                           0.0190                                    0.026600  \n",
      "                                           0.0244                                    0.005800  \n",
      "                                           0.0249                                    0.038500  \n",
      "                                           0.0398                                    0.035400  \n",
      "                                           0.0415                                    0.054100  \n",
      "                                           0.0932                                    0.133100  \n",
      "                                           0.0962                                    0.075600  \n",
      "...                                                                                       ...  \n",
      "YUMA REGIONAL MEDICAL CENTER               0.0004                                    0.000700  \n",
      "                                           0.0006                                    0.000400  \n",
      "                                           0.0010                                    0.001200  \n",
      "                                           0.0011                                    0.005800  \n",
      "                                           0.0034                                    0.005000  \n",
      "                                           0.0057                                    0.005900  \n",
      "                                           0.0258                                    0.026600  \n",
      "                                           0.0350                                    0.038500  \n",
      "                                           0.0353                                    0.035400  \n",
      "                                           0.0581                                    0.054100  \n",
      "                                           0.0747                                    0.075600  \n",
      "                                           0.0851                                    0.162300  \n",
      "                                           0.1999                                    0.133100  \n",
      "                                           0.4738                                    0.454800  \n",
      "                                           1.0000                                    1.000000  \n",
      "ZUNI COMPREHENSIVE COMMUNITY HEALTH CENTER 0.0000                                    0.004938  \n",
      "                                           0.0001                                    0.000400  \n",
      "                                           0.0002                                    0.001200  \n",
      "                                           0.0009                                    0.000100  \n",
      "                                           0.0013                                    0.005000  \n",
      "                                           0.0089                                    0.005900  \n",
      "                                           0.0156                                    0.005800  \n",
      "                                           0.0164                                    0.162300  \n",
      "                                           0.0210                                    0.026600  \n",
      "                                           0.0286                                    0.075600  \n",
      "                                           0.0683                                    0.054100  \n",
      "                                           0.1154                                    0.035400  \n",
      "                                           0.1718                                    0.133100  \n",
      "                                           0.5515                                    0.454800  \n",
      "                                           1.0000                                    1.000000  \n",
      "\n",
      "[52561 rows x 6 columns]\n",
      "                                                    Provider ID  \\\n",
      "Claim Type                Percent Spending Nation                 \n",
      "Carrier                   0.0266                   262746.62948   \n",
      "                          0.0541                   262746.62948   \n",
      "                          0.0756                   262746.62948   \n",
      "Durable Medical Equipment 0.0004                   262746.62948   \n",
      "                          0.0012                   262746.62948   \n",
      "                          0.0050                   262746.62948   \n",
      "Home Health Agency        0.0000                   262746.62948   \n",
      "                          0.0007                   262746.62948   \n",
      "                          0.0385                   262746.62948   \n",
      "Hospice                   0.0000                   262746.62948   \n",
      "                          0.0059                   262746.62948   \n",
      "Inpatient                 0.0003                   262746.62948   \n",
      "                          0.1331                   262746.62948   \n",
      "                          0.4548                   262746.62948   \n",
      "Outpatient                0.0000                   262746.62948   \n",
      "                          0.0058                   262746.62948   \n",
      "                          0.0354                   262746.62948   \n",
      "Skilled Nursing Facility  0.0000                   262746.62948   \n",
      "                          0.0001                   262746.62948   \n",
      "                          0.1623                   262746.62948   \n",
      "Total                     1.0000                   262746.62948   \n",
      "\n",
      "                                                   Avg Spending Hospital  \\\n",
      "Claim Type                Percent Spending Nation                          \n",
      "Carrier                   0.0266                              476.584917   \n",
      "                          0.0541                              965.470552   \n",
      "                          0.0756                             1278.337177   \n",
      "Durable Medical Equipment 0.0004                                8.492054   \n",
      "                          0.0012                               23.466500   \n",
      "                          0.0050                               96.014646   \n",
      "Home Health Agency        0.0000                                0.000000   \n",
      "                          0.0007                               13.573699   \n",
      "                          0.0385                              733.771580   \n",
      "Hospice                   0.0000                                0.324244   \n",
      "                          0.0059                              119.572141   \n",
      "Inpatient                 0.0003                                3.885323   \n",
      "                          0.1331                             2415.643814   \n",
      "                          0.4548                             8467.039265   \n",
      "Outpatient                0.0000                                0.000000   \n",
      "                          0.0058                               94.163291   \n",
      "                          0.0354                              660.336553   \n",
      "Skilled Nursing Facility  0.0000                                0.000000   \n",
      "                          0.0001                                2.297600   \n",
      "                          0.1623                             3201.606731   \n",
      "Total                     1.0000                            18560.911499   \n",
      "\n",
      "                                                   Avg Spending State  \\\n",
      "Claim Type                Percent Spending Nation                       \n",
      "Carrier                   0.0266                           534.089748   \n",
      "                          0.0541                          1060.305079   \n",
      "                          0.0756                          1501.117170   \n",
      "Durable Medical Equipment 0.0004                             8.552820   \n",
      "                          0.0012                            25.088501   \n",
      "                          0.0050                           102.000000   \n",
      "Home Health Agency        0.0000                             0.000000   \n",
      "                          0.0007                            13.337177   \n",
      "                          0.0385                           761.024307   \n",
      "Hospice                   0.0000                             0.238392   \n",
      "                          0.0059                           119.172951   \n",
      "Inpatient                 0.0003                             5.301963   \n",
      "                          0.1331                          2709.767529   \n",
      "                          0.4548                          9167.367404   \n",
      "Outpatient                0.0000                             0.000000   \n",
      "                          0.0058                           123.593020   \n",
      "                          0.0354                           718.448426   \n",
      "Skilled Nursing Facility  0.0000                             0.000000   \n",
      "                          0.0001                             2.440012   \n",
      "                          0.1623                          3177.257401   \n",
      "Total                     1.0000                         20029.343721   \n",
      "\n",
      "                                                   Avg Spending Nation  \\\n",
      "Claim Type                Percent Spending Nation                        \n",
      "Carrier                   0.0266                                 532.0   \n",
      "                          0.0541                                1083.0   \n",
      "                          0.0756                                1514.0   \n",
      "Durable Medical Equipment 0.0004                                   9.0   \n",
      "                          0.0012                                  24.0   \n",
      "                          0.0050                                 101.0   \n",
      "Home Health Agency        0.0000                                   0.0   \n",
      "                          0.0007                                  13.0   \n",
      "                          0.0385                                 771.0   \n",
      "Hospice                   0.0000                                   0.5   \n",
      "                          0.0059                                 118.0   \n",
      "Inpatient                 0.0003                                   5.0   \n",
      "                          0.1331                                2665.0   \n",
      "                          0.4548                                9108.0   \n",
      "Outpatient                0.0000                                   0.0   \n",
      "                          0.0058                                 117.0   \n",
      "                          0.0354                                 710.0   \n",
      "Skilled Nursing Facility  0.0000                                   0.0   \n",
      "                          0.0001                                   2.0   \n",
      "                          0.1623                                3251.0   \n",
      "Total                     1.0000                               20025.0   \n",
      "\n",
      "                                                   Percent Spending Hospital  \\\n",
      "Claim Type                Percent Spending Nation                              \n",
      "Carrier                   0.0266                                    0.025848   \n",
      "                          0.0541                                    0.052142   \n",
      "                          0.0756                                    0.066706   \n",
      "Durable Medical Equipment 0.0004                                    0.000465   \n",
      "                          0.0012                                    0.001251   \n",
      "                          0.0050                                    0.005219   \n",
      "Home Health Agency        0.0000                                    0.000000   \n",
      "                          0.0007                                    0.000756   \n",
      "                          0.0385                                    0.039595   \n",
      "Hospice                   0.0000                                    0.000018   \n",
      "                          0.0059                                    0.006765   \n",
      "Inpatient                 0.0003                                    0.000201   \n",
      "                          0.1331                                    0.128742   \n",
      "                          0.4548                                    0.456078   \n",
      "Outpatient                0.0000                                    0.000000   \n",
      "                          0.0058                                    0.005012   \n",
      "                          0.0354                                    0.036353   \n",
      "Skilled Nursing Facility  0.0000                                    0.000000   \n",
      "                          0.0001                                    0.000125   \n",
      "                          0.1623                                    0.174701   \n",
      "Total                     1.0000                                    1.000000   \n",
      "\n",
      "                                                   Percent Spending State  \n",
      "Claim Type                Percent Spending Nation                          \n",
      "Carrier                   0.0266                                 0.026686  \n",
      "                          0.0541                                 0.052820  \n",
      "                          0.0756                                 0.074911  \n",
      "Durable Medical Equipment 0.0004                                 0.000431  \n",
      "                          0.0012                                 0.001250  \n",
      "                          0.0050                                 0.005100  \n",
      "Home Health Agency        0.0000                                 0.000000  \n",
      "                          0.0007                                 0.000667  \n",
      "                          0.0385                                 0.037983  \n",
      "Hospice                   0.0000                                 0.000014  \n",
      "                          0.0059                                 0.005952  \n",
      "Inpatient                 0.0003                                 0.000255  \n",
      "                          0.1331                                 0.134859  \n",
      "                          0.4548                                 0.458315  \n",
      "Outpatient                0.0000                                 0.000000  \n",
      "                          0.0058                                 0.006206  \n",
      "                          0.0354                                 0.035967  \n",
      "Skilled Nursing Facility  0.0000                                 0.000000  \n",
      "                          0.0001                                 0.000106  \n",
      "                          0.1623                                 0.158470  \n",
      "Total                     1.0000                                 1.000000  \n"
     ]
    }
   ],
   "source": [
    "print data.groupby(['State','Percent Spending State']).mean()\n",
    "print data.groupby(['Hospital','Percent Spending Hospital']).mean()\n",
    "print data.groupby(['Claim Type','Percent Spending Nation']).mean()"
   ]
  },
  {
   "cell_type": "markdown",
   "metadata": {},
   "source": [
    "**42) Continuing with data from above, convert the dataframe content to be the right \"data type\" (i.e., int, float, etc) in order to perform statistical calculations for the DataFrame.  Provide your code and the resulting new print out as the answer.**\n",
    "<br>\n",
    "***Hint convert the columns with % and $***"
   ]
  },
  {
   "cell_type": "code",
   "execution_count": 169,
   "metadata": {},
   "outputs": [],
   "source": [
    "cols = ['Avg Spending Hospital', 'Avg Spending State', 'Avg Spending Nation','Percent Spending Hospital','Percent Spending State','Percent Spending Nation']\n",
    "data[cols] = data[cols].replace({'\\$': '', '\\%': ''}, regex=True)\n",
    "data[['Avg Spending Hospital', 'Avg Spending State', 'Avg Spending Nation']] = data[['Avg Spending Hospital', 'Avg Spending State', 'Avg Spending Nation']].astype(float)\n",
    "data[['Percent Spending Hospital','Percent Spending State','Percent Spending Nation']] = data[['Percent Spending Hospital','Percent Spending State','Percent Spending Nation']].astype(float)/100"
   ]
  },
  {
   "cell_type": "markdown",
   "metadata": {},
   "source": [
    "**43) Continuing with the dataframe above, extract only the TX state claims into a new dataframe.  Provide your code and print the new dataframe (with only TX claims) below as the answer.**"
   ]
  },
  {
   "cell_type": "code",
   "execution_count": 173,
   "metadata": {},
   "outputs": [
    {
     "name": "stdout",
     "output_type": "stream",
     "text": [
      "                                       Hospital  Provider ID State  \\\n",
      "58322              PROVIDENCE MEMORIAL HOSPITAL       450002    TX   \n",
      "58323              PROVIDENCE MEMORIAL HOSPITAL       450002    TX   \n",
      "58324              PROVIDENCE MEMORIAL HOSPITAL       450002    TX   \n",
      "58325              PROVIDENCE MEMORIAL HOSPITAL       450002    TX   \n",
      "58326              PROVIDENCE MEMORIAL HOSPITAL       450002    TX   \n",
      "58327              PROVIDENCE MEMORIAL HOSPITAL       450002    TX   \n",
      "58328              PROVIDENCE MEMORIAL HOSPITAL       450002    TX   \n",
      "58329              PROVIDENCE MEMORIAL HOSPITAL       450002    TX   \n",
      "58330              PROVIDENCE MEMORIAL HOSPITAL       450002    TX   \n",
      "58331              PROVIDENCE MEMORIAL HOSPITAL       450002    TX   \n",
      "58332              PROVIDENCE MEMORIAL HOSPITAL       450002    TX   \n",
      "58333              PROVIDENCE MEMORIAL HOSPITAL       450002    TX   \n",
      "58334              PROVIDENCE MEMORIAL HOSPITAL       450002    TX   \n",
      "58335              PROVIDENCE MEMORIAL HOSPITAL       450002    TX   \n",
      "58336              PROVIDENCE MEMORIAL HOSPITAL       450002    TX   \n",
      "58337              PROVIDENCE MEMORIAL HOSPITAL       450002    TX   \n",
      "58338              PROVIDENCE MEMORIAL HOSPITAL       450002    TX   \n",
      "58339              PROVIDENCE MEMORIAL HOSPITAL       450002    TX   \n",
      "58340              PROVIDENCE MEMORIAL HOSPITAL       450002    TX   \n",
      "58341              PROVIDENCE MEMORIAL HOSPITAL       450002    TX   \n",
      "58342              PROVIDENCE MEMORIAL HOSPITAL       450002    TX   \n",
      "58343              PROVIDENCE MEMORIAL HOSPITAL       450002    TX   \n",
      "58344  MEMORIAL HERMANN BAPTIST ORANGE HOSPITAL       450005    TX   \n",
      "58345  MEMORIAL HERMANN BAPTIST ORANGE HOSPITAL       450005    TX   \n",
      "58346  MEMORIAL HERMANN BAPTIST ORANGE HOSPITAL       450005    TX   \n",
      "58347  MEMORIAL HERMANN BAPTIST ORANGE HOSPITAL       450005    TX   \n",
      "58348  MEMORIAL HERMANN BAPTIST ORANGE HOSPITAL       450005    TX   \n",
      "58349  MEMORIAL HERMANN BAPTIST ORANGE HOSPITAL       450005    TX   \n",
      "58350  MEMORIAL HERMANN BAPTIST ORANGE HOSPITAL       450005    TX   \n",
      "58351  MEMORIAL HERMANN BAPTIST ORANGE HOSPITAL       450005    TX   \n",
      "...                                         ...          ...   ...   \n",
      "70568     BAY AREA REGIONAL MEDICAL CENTER, LLC       670096    TX   \n",
      "70569     BAY AREA REGIONAL MEDICAL CENTER, LLC       670096    TX   \n",
      "70570     BAY AREA REGIONAL MEDICAL CENTER, LLC       670096    TX   \n",
      "70571     BAY AREA REGIONAL MEDICAL CENTER, LLC       670096    TX   \n",
      "70572     BAY AREA REGIONAL MEDICAL CENTER, LLC       670096    TX   \n",
      "70573     BAY AREA REGIONAL MEDICAL CENTER, LLC       670096    TX   \n",
      "70574     BAY AREA REGIONAL MEDICAL CENTER, LLC       670096    TX   \n",
      "70575     BAY AREA REGIONAL MEDICAL CENTER, LLC       670096    TX   \n",
      "70576                  RESOLUTE HEALTH HOSPITAL       670098    TX   \n",
      "70577                  RESOLUTE HEALTH HOSPITAL       670098    TX   \n",
      "70578                  RESOLUTE HEALTH HOSPITAL       670098    TX   \n",
      "70579                  RESOLUTE HEALTH HOSPITAL       670098    TX   \n",
      "70580                  RESOLUTE HEALTH HOSPITAL       670098    TX   \n",
      "70581                  RESOLUTE HEALTH HOSPITAL       670098    TX   \n",
      "70582                  RESOLUTE HEALTH HOSPITAL       670098    TX   \n",
      "70583                  RESOLUTE HEALTH HOSPITAL       670098    TX   \n",
      "70584                  RESOLUTE HEALTH HOSPITAL       670098    TX   \n",
      "70585                  RESOLUTE HEALTH HOSPITAL       670098    TX   \n",
      "70586                  RESOLUTE HEALTH HOSPITAL       670098    TX   \n",
      "70587                  RESOLUTE HEALTH HOSPITAL       670098    TX   \n",
      "70588                  RESOLUTE HEALTH HOSPITAL       670098    TX   \n",
      "70589                  RESOLUTE HEALTH HOSPITAL       670098    TX   \n",
      "70590                  RESOLUTE HEALTH HOSPITAL       670098    TX   \n",
      "70591                  RESOLUTE HEALTH HOSPITAL       670098    TX   \n",
      "70592                  RESOLUTE HEALTH HOSPITAL       670098    TX   \n",
      "70593                  RESOLUTE HEALTH HOSPITAL       670098    TX   \n",
      "70594                  RESOLUTE HEALTH HOSPITAL       670098    TX   \n",
      "70595                  RESOLUTE HEALTH HOSPITAL       670098    TX   \n",
      "70596                  RESOLUTE HEALTH HOSPITAL       670098    TX   \n",
      "70597                  RESOLUTE HEALTH HOSPITAL       670098    TX   \n",
      "\n",
      "                                                  Period  \\\n",
      "58322      1 to 3 days Prior to Index Hospital Admission   \n",
      "58323      1 to 3 days Prior to Index Hospital Admission   \n",
      "58324      1 to 3 days Prior to Index Hospital Admission   \n",
      "58325      1 to 3 days Prior to Index Hospital Admission   \n",
      "58326      1 to 3 days Prior to Index Hospital Admission   \n",
      "58327      1 to 3 days Prior to Index Hospital Admission   \n",
      "58328      1 to 3 days Prior to Index Hospital Admission   \n",
      "58329                    During Index Hospital Admission   \n",
      "58330                    During Index Hospital Admission   \n",
      "58331                    During Index Hospital Admission   \n",
      "58332                    During Index Hospital Admission   \n",
      "58333                    During Index Hospital Admission   \n",
      "58334                    During Index Hospital Admission   \n",
      "58335                    During Index Hospital Admission   \n",
      "58336  1 through 30 days After Discharge from Index H...   \n",
      "58337  1 through 30 days After Discharge from Index H...   \n",
      "58338  1 through 30 days After Discharge from Index H...   \n",
      "58339  1 through 30 days After Discharge from Index H...   \n",
      "58340  1 through 30 days After Discharge from Index H...   \n",
      "58341  1 through 30 days After Discharge from Index H...   \n",
      "58342  1 through 30 days After Discharge from Index H...   \n",
      "58343                                   Complete Episode   \n",
      "58344      1 to 3 days Prior to Index Hospital Admission   \n",
      "58345      1 to 3 days Prior to Index Hospital Admission   \n",
      "58346      1 to 3 days Prior to Index Hospital Admission   \n",
      "58347      1 to 3 days Prior to Index Hospital Admission   \n",
      "58348      1 to 3 days Prior to Index Hospital Admission   \n",
      "58349      1 to 3 days Prior to Index Hospital Admission   \n",
      "58350      1 to 3 days Prior to Index Hospital Admission   \n",
      "58351                    During Index Hospital Admission   \n",
      "...                                                  ...   \n",
      "70568  1 through 30 days After Discharge from Index H...   \n",
      "70569  1 through 30 days After Discharge from Index H...   \n",
      "70570  1 through 30 days After Discharge from Index H...   \n",
      "70571  1 through 30 days After Discharge from Index H...   \n",
      "70572  1 through 30 days After Discharge from Index H...   \n",
      "70573  1 through 30 days After Discharge from Index H...   \n",
      "70574  1 through 30 days After Discharge from Index H...   \n",
      "70575                                   Complete Episode   \n",
      "70576      1 to 3 days Prior to Index Hospital Admission   \n",
      "70577      1 to 3 days Prior to Index Hospital Admission   \n",
      "70578      1 to 3 days Prior to Index Hospital Admission   \n",
      "70579      1 to 3 days Prior to Index Hospital Admission   \n",
      "70580      1 to 3 days Prior to Index Hospital Admission   \n",
      "70581      1 to 3 days Prior to Index Hospital Admission   \n",
      "70582      1 to 3 days Prior to Index Hospital Admission   \n",
      "70583                    During Index Hospital Admission   \n",
      "70584                    During Index Hospital Admission   \n",
      "70585                    During Index Hospital Admission   \n",
      "70586                    During Index Hospital Admission   \n",
      "70587                    During Index Hospital Admission   \n",
      "70588                    During Index Hospital Admission   \n",
      "70589                    During Index Hospital Admission   \n",
      "70590  1 through 30 days After Discharge from Index H...   \n",
      "70591  1 through 30 days After Discharge from Index H...   \n",
      "70592  1 through 30 days After Discharge from Index H...   \n",
      "70593  1 through 30 days After Discharge from Index H...   \n",
      "70594  1 through 30 days After Discharge from Index H...   \n",
      "70595  1 through 30 days After Discharge from Index H...   \n",
      "70596  1 through 30 days After Discharge from Index H...   \n",
      "70597                                   Complete Episode   \n",
      "\n",
      "                      Claim Type  Avg Spending Hospital  Avg Spending State  \\\n",
      "58322         Home Health Agency                   52.0                23.0   \n",
      "58323                    Hospice                    0.0                 1.0   \n",
      "58324                  Inpatient                    2.0                 5.0   \n",
      "58325                 Outpatient                   80.0               122.0   \n",
      "58326   Skilled Nursing Facility                    1.0                 3.0   \n",
      "58327  Durable Medical Equipment                    7.0                 9.0   \n",
      "58328                    Carrier                  487.0               585.0   \n",
      "58329         Home Health Agency                    0.0                 0.0   \n",
      "58330                    Hospice                    0.0                 0.0   \n",
      "58331                  Inpatient                 7973.0              9227.0   \n",
      "58332                 Outpatient                    0.0                 0.0   \n",
      "58333   Skilled Nursing Facility                    0.0                 0.0   \n",
      "58334  Durable Medical Equipment                   20.0                30.0   \n",
      "58335                    Carrier                 1549.0              1543.0   \n",
      "58336         Home Health Agency                  972.0               858.0   \n",
      "58337                    Hospice                  169.0               145.0   \n",
      "58338                  Inpatient                 3976.0              3975.0   \n",
      "58339                 Outpatient                  661.0               710.0   \n",
      "58340   Skilled Nursing Facility                 2062.0              2903.0   \n",
      "58341  Durable Medical Equipment                  128.0               114.0   \n",
      "58342                    Carrier                 1265.0              1231.0   \n",
      "58343                      Total                19406.0             21484.0   \n",
      "58344         Home Health Agency                   56.0                23.0   \n",
      "58345                    Hospice                    2.0                 1.0   \n",
      "58346                  Inpatient                    0.0                 5.0   \n",
      "58347                 Outpatient                    8.0               122.0   \n",
      "58348   Skilled Nursing Facility                    3.0                 3.0   \n",
      "58349  Durable Medical Equipment                    1.0                 9.0   \n",
      "58350                    Carrier                  499.0               585.0   \n",
      "58351         Home Health Agency                    0.0                 0.0   \n",
      "...                          ...                    ...                 ...   \n",
      "70568         Home Health Agency                  615.0               858.0   \n",
      "70569                    Hospice                   25.0               145.0   \n",
      "70570                  Inpatient                 5390.0              3975.0   \n",
      "70571                 Outpatient                  443.0               710.0   \n",
      "70572   Skilled Nursing Facility                 2395.0              2903.0   \n",
      "70573  Durable Medical Equipment                   83.0               114.0   \n",
      "70574                    Carrier                 1428.0              1231.0   \n",
      "70575                      Total                20058.0             21484.0   \n",
      "70576         Home Health Agency                    0.0                23.0   \n",
      "70577                    Hospice                    0.0                 1.0   \n",
      "70578                  Inpatient                    0.0                 5.0   \n",
      "70579                 Outpatient                   89.0               122.0   \n",
      "70580   Skilled Nursing Facility                    0.0                 3.0   \n",
      "70581  Durable Medical Equipment                    0.0                 9.0   \n",
      "70582                    Carrier                  565.0               585.0   \n",
      "70583         Home Health Agency                    0.0                 0.0   \n",
      "70584                    Hospice                    0.0                 0.0   \n",
      "70585                  Inpatient                 5693.0              9227.0   \n",
      "70586                 Outpatient                    0.0                 0.0   \n",
      "70587   Skilled Nursing Facility                    0.0                 0.0   \n",
      "70588  Durable Medical Equipment                   11.0                30.0   \n",
      "70589                    Carrier                  581.0              1543.0   \n",
      "70590         Home Health Agency                 1305.0               858.0   \n",
      "70591                    Hospice                    0.0               145.0   \n",
      "70592                  Inpatient                 2738.0              3975.0   \n",
      "70593                 Outpatient                  817.0               710.0   \n",
      "70594   Skilled Nursing Facility                 4539.0              2903.0   \n",
      "70595  Durable Medical Equipment                   61.0               114.0   \n",
      "70596                    Carrier                 1168.0              1231.0   \n",
      "70597                      Total                17568.0             21484.0   \n",
      "\n",
      "       Avg Spending Nation  Percent Spending Hospital  Percent Spending State  \\\n",
      "58322                 13.0                     0.0027                  0.0011   \n",
      "58323                  1.0                     0.0000                  0.0001   \n",
      "58324                  5.0                     0.0001                  0.0002   \n",
      "58325                117.0                     0.0041                  0.0057   \n",
      "58326                  2.0                     0.0001                  0.0001   \n",
      "58327                  9.0                     0.0004                  0.0004   \n",
      "58328                532.0                     0.0251                  0.0272   \n",
      "58329                  0.0                     0.0000                  0.0000   \n",
      "58330                  0.0                     0.0000                  0.0000   \n",
      "58331               9108.0                     0.4108                  0.4295   \n",
      "58332                  0.0                     0.0000                  0.0000   \n",
      "58333                  0.0                     0.0000                  0.0000   \n",
      "58334                 24.0                     0.0011                  0.0014   \n",
      "58335               1514.0                     0.0798                  0.0718   \n",
      "58336                771.0                     0.0501                  0.0399   \n",
      "58337                118.0                     0.0087                  0.0067   \n",
      "58338               2665.0                     0.2049                  0.1850   \n",
      "58339                710.0                     0.0341                  0.0331   \n",
      "58340               3251.0                     0.1062                  0.1351   \n",
      "58341                101.0                     0.0066                  0.0053   \n",
      "58342               1083.0                     0.0652                  0.0573   \n",
      "58343              20025.0                     1.0000                  1.0000   \n",
      "58344                 13.0                     0.0033                  0.0011   \n",
      "58345                  1.0                     0.0001                  0.0001   \n",
      "58346                  5.0                     0.0000                  0.0002   \n",
      "58347                117.0                     0.0004                  0.0057   \n",
      "58348                  2.0                     0.0002                  0.0001   \n",
      "58349                  9.0                     0.0001                  0.0004   \n",
      "58350                532.0                     0.0295                  0.0272   \n",
      "58351                  0.0                     0.0000                  0.0000   \n",
      "...                    ...                        ...                     ...   \n",
      "70568                771.0                     0.0307                  0.0399   \n",
      "70569                118.0                     0.0012                  0.0067   \n",
      "70570               2665.0                     0.2687                  0.1850   \n",
      "70571                710.0                     0.0221                  0.0331   \n",
      "70572               3251.0                     0.1194                  0.1351   \n",
      "70573                101.0                     0.0041                  0.0053   \n",
      "70574               1083.0                     0.0712                  0.0573   \n",
      "70575              20025.0                     1.0000                  1.0000   \n",
      "70576                 13.0                     0.0000                  0.0011   \n",
      "70577                  1.0                     0.0000                  0.0001   \n",
      "70578                  5.0                     0.0000                  0.0002   \n",
      "70579                117.0                     0.0051                  0.0057   \n",
      "70580                  2.0                     0.0000                  0.0001   \n",
      "70581                  9.0                     0.0000                  0.0004   \n",
      "70582                532.0                     0.0322                  0.0272   \n",
      "70583                  0.0                     0.0000                  0.0000   \n",
      "70584                  0.0                     0.0000                  0.0000   \n",
      "70585               9108.0                     0.3241                  0.4295   \n",
      "70586                  0.0                     0.0000                  0.0000   \n",
      "70587                  0.0                     0.0000                  0.0000   \n",
      "70588                 24.0                     0.0006                  0.0014   \n",
      "70589               1514.0                     0.0331                  0.0718   \n",
      "70590                771.0                     0.0743                  0.0399   \n",
      "70591                118.0                     0.0000                  0.0067   \n",
      "70592               2665.0                     0.1559                  0.1850   \n",
      "70593                710.0                     0.0465                  0.0331   \n",
      "70594               3251.0                     0.2583                  0.1351   \n",
      "70595                101.0                     0.0035                  0.0053   \n",
      "70596               1083.0                     0.0665                  0.0573   \n",
      "70597              20025.0                     1.0000                  1.0000   \n",
      "\n",
      "       Percent Spending Nation  \n",
      "58322                   0.0007  \n",
      "58323                   0.0000  \n",
      "58324                   0.0003  \n",
      "58325                   0.0058  \n",
      "58326                   0.0001  \n",
      "58327                   0.0004  \n",
      "58328                   0.0266  \n",
      "58329                   0.0000  \n",
      "58330                   0.0000  \n",
      "58331                   0.4548  \n",
      "58332                   0.0000  \n",
      "58333                   0.0000  \n",
      "58334                   0.0012  \n",
      "58335                   0.0756  \n",
      "58336                   0.0385  \n",
      "58337                   0.0059  \n",
      "58338                   0.1331  \n",
      "58339                   0.0354  \n",
      "58340                   0.1623  \n",
      "58341                   0.0050  \n",
      "58342                   0.0541  \n",
      "58343                   1.0000  \n",
      "58344                   0.0007  \n",
      "58345                   0.0000  \n",
      "58346                   0.0003  \n",
      "58347                   0.0058  \n",
      "58348                   0.0001  \n",
      "58349                   0.0004  \n",
      "58350                   0.0266  \n",
      "58351                   0.0000  \n",
      "...                        ...  \n",
      "70568                   0.0385  \n",
      "70569                   0.0059  \n",
      "70570                   0.1331  \n",
      "70571                   0.0354  \n",
      "70572                   0.1623  \n",
      "70573                   0.0050  \n",
      "70574                   0.0541  \n",
      "70575                   1.0000  \n",
      "70576                   0.0007  \n",
      "70577                   0.0000  \n",
      "70578                   0.0003  \n",
      "70579                   0.0058  \n",
      "70580                   0.0001  \n",
      "70581                   0.0004  \n",
      "70582                   0.0266  \n",
      "70583                   0.0000  \n",
      "70584                   0.0000  \n",
      "70585                   0.4548  \n",
      "70586                   0.0000  \n",
      "70587                   0.0000  \n",
      "70588                   0.0012  \n",
      "70589                   0.0756  \n",
      "70590                   0.0385  \n",
      "70591                   0.0059  \n",
      "70592                   0.1331  \n",
      "70593                   0.0354  \n",
      "70594                   0.1623  \n",
      "70595                   0.0050  \n",
      "70596                   0.0541  \n",
      "70597                   1.0000  \n",
      "\n",
      "[6490 rows x 11 columns]\n"
     ]
    }
   ],
   "source": [
    "data_tx = data.loc[data['State'] == 'TX']\n",
    "print data_tx"
   ]
  },
  {
   "cell_type": "markdown",
   "metadata": {},
   "source": [
    "**44) Using the dataframe from above (Q 42), find the average spending for each different TX hospitals groupedby each kind of  different claim types.  Provide your code and the resulting new print out as the answer. **"
   ]
  },
  {
   "cell_type": "code",
   "execution_count": 181,
   "metadata": {},
   "outputs": [
    {
     "name": "stdout",
     "output_type": "stream",
     "text": [
      "       Avg Spending Hospital  Avg Spending State  Avg Spending Nation\n",
      "70509                12934.0             21484.0              20025.0\n",
      "70531                19368.0             21484.0              20025.0\n",
      "70553                17569.0             21484.0              20025.0\n",
      "70561                    0.0                 0.0                  0.0\n",
      "70562                    0.0                 0.0                  0.0\n",
      "70563                 7847.0              9227.0               9108.0\n",
      "70564                    0.0                 0.0                  0.0\n",
      "70565                    0.0                 0.0                  0.0\n",
      "70566                   35.0                30.0                 24.0\n",
      "70567                 1125.0              1543.0               1514.0\n",
      "70568                  615.0               858.0                771.0\n",
      "70569                   25.0               145.0                118.0\n",
      "70570                 5390.0              3975.0               2665.0\n",
      "70571                  443.0               710.0                710.0\n",
      "70572                 2395.0              2903.0               3251.0\n",
      "70573                   83.0               114.0                101.0\n",
      "70574                 1428.0              1231.0               1083.0\n",
      "70575                20058.0             21484.0              20025.0\n",
      "70576                    0.0                23.0                 13.0\n",
      "70577                    0.0                 1.0                  1.0\n",
      "70578                    0.0                 5.0                  5.0\n",
      "70579                   89.0               122.0                117.0\n",
      "70580                    0.0                 3.0                  2.0\n",
      "70581                    0.0                 9.0                  9.0\n",
      "70582                  565.0               585.0                532.0\n",
      "70583                    0.0                 0.0                  0.0\n",
      "70584                    0.0                 0.0                  0.0\n",
      "70585                 5693.0              9227.0               9108.0\n",
      "70586                    0.0                 0.0                  0.0\n",
      "70587                    0.0                 0.0                  0.0\n",
      "70588                   11.0                30.0                 24.0\n",
      "70589                  581.0              1543.0               1514.0\n",
      "70590                 1305.0               858.0                771.0\n",
      "70591                    0.0               145.0                118.0\n",
      "70592                 2738.0              3975.0               2665.0\n",
      "70593                  817.0               710.0                710.0\n",
      "70594                 4539.0              2903.0               3251.0\n",
      "70595                   61.0               114.0                101.0\n",
      "70596                 1168.0              1231.0               1083.0\n",
      "70597                17568.0             21484.0              20025.0\n"
     ]
    }
   ],
   "source": [
    "grouped_claims = data_tx.groupby(['Claim Type'])\n",
    "results = grouped_claims[['Avg Spending Hospital','Avg Spending State','Avg Spending Nation']]\n",
    "print results.tail()"
   ]
  },
  {
   "cell_type": "markdown",
   "metadata": {
    "collapsed": true
   },
   "source": [
    "**45) Continuing from above (Q 43), what is the mean and max percentage spending of different TX hospitals for each different claim types.  Provide your code and print out the answer. **"
   ]
  },
  {
   "cell_type": "code",
   "execution_count": null,
   "metadata": {
    "collapsed": true
   },
   "outputs": [],
   "source": [
    "functions =\n",
    "results = grouped_claims[['Percent Spending Hospital', 'Percent Spending State', 'Percent Spending Nation']].agg(functions)\n",
    "print results.tail()"
   ]
  },
  {
   "cell_type": "markdown",
   "metadata": {},
   "source": [
    "**46) Using the whole dataset from the Medicare_Hospital_Spending_by_Claim.csv table (i.e., Q 39-41), sort the dataframe descending order by average spending and print out what the rank of TX is in terms of average spending when compared to other state averages. **"
   ]
  },
  {
   "cell_type": "code",
   "execution_count": null,
   "metadata": {
    "collapsed": true
   },
   "outputs": [],
   "source": []
  },
  {
   "cell_type": "markdown",
   "metadata": {},
   "source": [
    "**47) Give a very general and short definition of what an Analytical Model is or is supposed to do?**"
   ]
  },
  {
   "cell_type": "code",
   "execution_count": null,
   "metadata": {
    "collapsed": true
   },
   "outputs": [],
   "source": [
    "Analytical model is a simplified representation of reality and is based n assumptions. It may be built using algorithm that models the problem. According to George Box, \"All models are wrong. Some are more useful than others.\""
   ]
  },
  {
   "cell_type": "markdown",
   "metadata": {},
   "source": [
    "**48) Briefly describe the differences between \"supervised\" and \"unsupervised\" learning.**"
   ]
  },
  {
   "cell_type": "code",
   "execution_count": null,
   "metadata": {
    "collapsed": true
   },
   "outputs": [],
   "source": [
    "In supervised learning, models are generated based on defined input variables and a defined output variable(label), while in unsupervised learning, models are generated without a known or defined output variable or label. In supervised learning, you have a data that you can learn from, you can access your results and the algorithm will be correct and follow suit, while in unsupervised the model works on its own to discover information that may not be visible to the eyes and hard to tell if it's a good solution or not. The supervised is very powerful,  can predict the future, and can lead to over fitting while the unsupervised does not have the problem of overfitting and creates a less controllable situation."
   ]
  },
  {
   "cell_type": "markdown",
   "metadata": {},
   "source": [
    "**49) Briefly describe the differences between \"classification\" and \"clustering\".**"
   ]
  },
  {
   "cell_type": "code",
   "execution_count": null,
   "metadata": {
    "collapsed": true
   },
   "outputs": [],
   "source": [
    "In classification, you will have to assign an observation, condition , or event to a pre-defined class or category, which may be from the past, the present or the future. \n",
    "\n",
    "In clustering, you will have to determine what categories best describe groups that have common observed behaviour."
   ]
  },
  {
   "cell_type": "markdown",
   "metadata": {},
   "source": [
    "**50) Name 3 different \"kinds\" of Analytical Models and provide a brief definition of each. **"
   ]
  },
  {
   "cell_type": "code",
   "execution_count": null,
   "metadata": {
    "collapsed": true
   },
   "outputs": [],
   "source": [
    "Empirical is a model that is created based strictly on observed data. \n",
    "\n",
    "Mechanistic is a model that is created based on theoretical rules and formulas. \n",
    "\n",
    "Deterministic is a model that does consider randomness or uncertainty. "
   ]
  },
  {
   "cell_type": "markdown",
   "metadata": {},
   "source": [
    "**EXTRA CREDIT 51) Why is Ordinary Least Squares Regression, called Ordinary Least Squares?**"
   ]
  },
  {
   "cell_type": "code",
   "execution_count": null,
   "metadata": {
    "collapsed": true
   },
   "outputs": [],
   "source": [
    "Ordinary Least Squares Regression is a generalized linear modelling technique which is used for estimating all unknown parameters involved in a linear regression model. It is also known as Ordinary Least Squares because they both are used for estimating the unknown parameters by the same method; which its goal is to minimize the sum of the Squares of the difference of the observed variables and the explanatory variables. "
   ]
  },
  {
   "cell_type": "markdown",
   "metadata": {},
   "source": [
    "**EXTRA CREDIT 52) What makes \"big data\" different from \"small data\"? (Be brief - 1 to 2 paragaphs MAX)**"
   ]
  },
  {
   "cell_type": "code",
   "execution_count": null,
   "metadata": {
    "collapsed": true
   },
   "outputs": [],
   "source": [
    "Big Data is commonly described according to the three \"V's\" : volume, velocity, and variety. It is also described according to its relation to veracity and value. Big Data is the large picture that encompasses many different types of data and it's very unstructured while small data is the small picture that is structured, focused, and easily interpreted. Big Data helps in making meaningful and better business decision because of its huge amounts of structured and unstructured data (volume). Small data helps in making decisions, but does not aim to impact business to a great extent, rather for a short span of time. "
   ]
  },
  {
   "cell_type": "markdown",
   "metadata": {},
   "source": [
    "**EXTRA CREDIT 53) What are WMD's according to Cathy O'Neil?**"
   ]
  },
  {
   "cell_type": "code",
   "execution_count": null,
   "metadata": {
    "collapsed": true
   },
   "outputs": [],
   "source": [
    "WMD's according to Cathy O'Neil are mathematical models that are opaque, unregulated, and incontestable that pervade modern life and threaten to rip apart our social fabric. They are very impersonal and encourage discrimination. WMD is increasing inequality and threatening democracy. According to her, WMDs punish the underprivileged and poor. "
   ]
  },
  {
   "cell_type": "markdown",
   "metadata": {},
   "source": [
    "**EXTRA CREDIT 54) Why do vicious feedback loops matter in data analytics?**"
   ]
  },
  {
   "cell_type": "code",
   "execution_count": null,
   "metadata": {
    "collapsed": true
   },
   "outputs": [],
   "source": [
    "A feedback loop in modelling is where the results of the model are somehow fed back into the model intentionally or unintentionally and this leads to better decision making results."
   ]
  },
  {
   "cell_type": "markdown",
   "metadata": {},
   "source": [
    "**EXTRA CREDIT 55) What are the 10 simple rules Zook et. al. Suggest to follow when doing big data analytics?**"
   ]
  },
  {
   "cell_type": "code",
   "execution_count": null,
   "metadata": {
    "collapsed": true
   },
   "outputs": [],
   "source": [
    "Acknowledge that data are people and can do harm. \n",
    "\n",
    "Recognize that privacy is more than a binary value. \n",
    "\n",
    "Guard against the reidentification of your data. \n",
    "\n",
    "Practice ethical data sharing. \n",
    "\n",
    "Consider the strengths and limitations of your data; big data does not automatically mean better. \n",
    "\n",
    "Debate the tough, ethical choices. \n",
    "\n",
    "Develop a code of conduct for your organization, research,community, or industry. \n",
    "\n",
    "Design your data and systems for auditability. \n",
    "\n",
    "Engage with the broader consequences of data and analysis practices. \n",
    "\n",
    "Know when to break these rules. "
   ]
  }
 ],
 "metadata": {
  "kernelspec": {
   "display_name": "Python 2",
   "language": "python",
   "name": "python2"
  },
  "language_info": {
   "codemirror_mode": {
    "name": "ipython",
    "version": 2
   },
   "file_extension": ".py",
   "mimetype": "text/x-python",
   "name": "python",
   "nbconvert_exporter": "python",
   "pygments_lexer": "ipython2",
   "version": "2.7.13"
  }
 },
 "nbformat": 4,
 "nbformat_minor": 1
}
