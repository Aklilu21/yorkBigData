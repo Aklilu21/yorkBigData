{
 "cells": [
  {
   "cell_type": "code",
   "execution_count": 1,
   "metadata": {
    "collapsed": true
   },
   "outputs": [],
   "source": [
    "# Week #2 Assignment Notebook.  \n",
    "# Student: Gary Gee\n",
    "#\n",
    "# For this notebook, I will attempt to demonstrate the following things that are required in the assignment.\n",
    "#\n",
    "# 1) Assign variables\n",
    "# 2) Perform built in comparison and mathematical functions\n",
    "# 3) Use several native Python functions (e.g., range(), help() )\n",
    "# 4) Loop over a list and print to the console\n",
    "# 5) Import Pandas\n",
    "# 6) Create a dataframe with a few columns and rows.\n",
    "# 7) Index a pandas data frame and print different cells, rows, columns, etc."
   ]
  },
  {
   "cell_type": "code",
   "execution_count": 2,
   "metadata": {},
   "outputs": [
    {
     "name": "stdout",
     "output_type": "stream",
     "text": [
      "Values of variables (a, g, p and message) are:\n",
      "g=2017, a=101, p=2017 and message=\"Hello World! My very first few lines of python code!\"\n",
      "Total of g+a+p = 4135\n"
     ]
    }
   ],
   "source": [
    "# 1) Assign Variables\n",
    "#\n",
    "# I will set two variables 'g', 'a'and 'p' to be some numbers and also a string to variable called 'message'\n",
    "\n",
    "g = 2017\n",
    "a =  101\n",
    "p = 2017\n",
    "message = 'Hello World! My very first few lines of python code!'\n",
    "SumTotal=g+a+p\n",
    "\n",
    "# Print output of these variables\n",
    "print 'Values of variables (a, g, p and message) are:'\n",
    "print 'g='+str(g)+', a='+str(a)+', p='+str(p), 'and message=\"'+message+'\"'\n",
    "print 'Total of g+a+p =',SumTotal"
   ]
  },
  {
   "cell_type": "code",
   "execution_count": 3,
   "metadata": {},
   "outputs": [
    {
     "data": {
      "text/plain": [
       "True"
      ]
     },
     "execution_count": 3,
     "metadata": {},
     "output_type": "execute_result"
    }
   ],
   "source": [
    "# 2) Perform built in comparison and mathematical operations/functions\n",
    "# \n",
    "# In this part of the notebook... I will use the above variables\n",
    "\n",
    "# iS g (which has a value of 2017) > a (which has a value of 101)  - the result should be True \n",
    "\n",
    "g > a"
   ]
  },
  {
   "cell_type": "code",
   "execution_count": 4,
   "metadata": {},
   "outputs": [
    {
     "data": {
      "text/plain": [
       "False"
      ]
     },
     "execution_count": 4,
     "metadata": {},
     "output_type": "execute_result"
    }
   ],
   "source": [
    "# g<a  -the result should be False (as 2017 is not greater than 101)\n",
    "g < a"
   ]
  },
  {
   "cell_type": "code",
   "execution_count": 5,
   "metadata": {},
   "outputs": [
    {
     "data": {
      "text/plain": [
       "1"
      ]
     },
     "execution_count": 5,
     "metadata": {},
     "output_type": "execute_result"
    }
   ],
   "source": [
    "# will use cmp function as 'a' is larger than 'g' we should get -1 as result\n",
    "cmp(g,a)"
   ]
  },
  {
   "cell_type": "code",
   "execution_count": 6,
   "metadata": {},
   "outputs": [
    {
     "data": {
      "text/plain": [
       "False"
      ]
     },
     "execution_count": 6,
     "metadata": {},
     "output_type": "execute_result"
    }
   ],
   "source": [
    "# g == a (is the value of 'g' equal to 'a')  - the result should be False (as 2017 is not the same as  101)\n",
    "g==a"
   ]
  },
  {
   "cell_type": "code",
   "execution_count": 7,
   "metadata": {},
   "outputs": [
    {
     "data": {
      "text/plain": [
       "True"
      ]
     },
     "execution_count": 7,
     "metadata": {},
     "output_type": "execute_result"
    }
   ],
   "source": [
    "# check to see if g is not equal to a (ie !=)  answer should be true as value of g (2017) is not same as a (101)\n",
    "#g!=a\n",
    "g!=a"
   ]
  },
  {
   "cell_type": "code",
   "execution_count": 8,
   "metadata": {},
   "outputs": [
    {
     "data": {
      "text/plain": [
       "True"
      ]
     },
     "execution_count": 8,
     "metadata": {},
     "output_type": "execute_result"
    }
   ],
   "source": [
    "# is variable 'g' of equal value to variable 'p'  - the result will be True as both variables have value of 2017\n",
    "g==p"
   ]
  },
  {
   "cell_type": "code",
   "execution_count": 9,
   "metadata": {},
   "outputs": [
    {
     "data": {
      "text/plain": [
       "0"
      ]
     },
     "execution_count": 9,
     "metadata": {},
     "output_type": "execute_result"
    }
   ],
   "source": [
    "# will use cmp function as 'g' is the same as  'p' we should get 0 as result\n",
    "cmp(g,p)"
   ]
  },
  {
   "cell_type": "code",
   "execution_count": 10,
   "metadata": {},
   "outputs": [
    {
     "data": {
      "text/plain": [
       "4034"
      ]
     },
     "execution_count": 10,
     "metadata": {},
     "output_type": "execute_result"
    }
   ],
   "source": [
    "# I will use some mathematical functions with variables.\n",
    "#  Set variable 'a' to be the total sum of 'g' (2017) and 'p' (2017) which is 4034\n",
    "a=g+p\n",
    "a"
   ]
  },
  {
   "cell_type": "code",
   "execution_count": 11,
   "metadata": {},
   "outputs": [
    {
     "data": {
      "text/plain": [
       "1008"
      ]
     },
     "execution_count": 11,
     "metadata": {},
     "output_type": "execute_result"
    }
   ],
   "source": [
    "# Divide variable g by 2.\n",
    "# g/2\n",
    "\n",
    "g/2"
   ]
  },
  {
   "cell_type": "code",
   "execution_count": 12,
   "metadata": {},
   "outputs": [
    {
     "data": {
      "text/plain": [
       "3120.0"
      ]
     },
     "execution_count": 12,
     "metadata": {},
     "output_type": "execute_result"
    }
   ],
   "source": [
    "# perform multiplication with two numbers\n",
    "# 200 * 15.6\n",
    "200*15.6"
   ]
  },
  {
   "cell_type": "code",
   "execution_count": 13,
   "metadata": {},
   "outputs": [
    {
     "data": {
      "text/plain": [
       "54.5"
      ]
     },
     "execution_count": 13,
     "metadata": {},
     "output_type": "execute_result"
    }
   ],
   "source": [
    "# Perform division with 2 numbers\n",
    "#109/2.0\n",
    "109/2.0\n"
   ]
  },
  {
   "cell_type": "code",
   "execution_count": 14,
   "metadata": {},
   "outputs": [
    {
     "data": {
      "text/plain": [
       "55.0"
      ]
     },
     "execution_count": 14,
     "metadata": {},
     "output_type": "execute_result"
    }
   ],
   "source": [
    "# use the round function with this result.  Should get 55.0\n",
    "round(54.5)"
   ]
  },
  {
   "cell_type": "code",
   "execution_count": 15,
   "metadata": {},
   "outputs": [
    {
     "data": {
      "text/plain": [
       "1024"
      ]
     },
     "execution_count": 15,
     "metadata": {},
     "output_type": "execute_result"
    }
   ],
   "source": [
    "# Use exponent **\n",
    "# Calculate 2 to tbe power of 10 \n",
    "# 2**10  (answer should be 1024)\n",
    "2**10"
   ]
  },
  {
   "cell_type": "code",
   "execution_count": 16,
   "metadata": {},
   "outputs": [
    {
     "data": {
      "text/plain": [
       "1024"
      ]
     },
     "execution_count": 16,
     "metadata": {},
     "output_type": "execute_result"
    }
   ],
   "source": [
    "pow(2,10)  # I will use the power function for the same as above."
   ]
  },
  {
   "cell_type": "code",
   "execution_count": 17,
   "metadata": {},
   "outputs": [
    {
     "data": {
      "text/plain": [
       "123"
      ]
     },
     "execution_count": 17,
     "metadata": {},
     "output_type": "execute_result"
    }
   ],
   "source": [
    "# get absolute values\n",
    "# absolute value of -123 is 123\n",
    "abs(-123)"
   ]
  },
  {
   "cell_type": "code",
   "execution_count": 18,
   "metadata": {},
   "outputs": [
    {
     "data": {
      "text/plain": [
       "113"
      ]
     },
     "execution_count": 18,
     "metadata": {},
     "output_type": "execute_result"
    }
   ],
   "source": [
    "# get absolute values\n",
    "# absolute value of 113 is still 113\n",
    "# I will assign it to variable 'y'\n",
    "y=abs(113)\n",
    "y"
   ]
  },
  {
   "cell_type": "code",
   "execution_count": 19,
   "metadata": {},
   "outputs": [
    {
     "data": {
      "text/plain": [
       "3.14286"
      ]
     },
     "execution_count": 19,
     "metadata": {},
     "output_type": "execute_result"
    }
   ],
   "source": [
    "# use round formula on PI approximation to 5 decimal places.\n",
    "round((22/7.0),5)"
   ]
  },
  {
   "cell_type": "code",
   "execution_count": 20,
   "metadata": {},
   "outputs": [
    {
     "data": {
      "text/plain": [
       "2017.0"
      ]
     },
     "execution_count": 20,
     "metadata": {},
     "output_type": "execute_result"
    }
   ],
   "source": [
    "# Turn g into a floating point value from it's value of 2017 we \n",
    "# will get a result of 2017.0\n",
    "float(g)"
   ]
  },
  {
   "cell_type": "code",
   "execution_count": 21,
   "metadata": {
    "collapsed": true
   },
   "outputs": [],
   "source": [
    "# 3) Use several native Python functions (e.g., range(), help() )\n",
    "# I will use the python functions:\n",
    "# print(), max(), range() and help()\n"
   ]
  },
  {
   "cell_type": "code",
   "execution_count": 22,
   "metadata": {},
   "outputs": [
    {
     "name": "stdout",
     "output_type": "stream",
     "text": [
      "This is a test!!!  Testing 1,2,3.\n"
     ]
    }
   ],
   "source": [
    "# Usage of print() function\n",
    "print('This is a test!!!  Testing 1,2,3.')"
   ]
  },
  {
   "cell_type": "code",
   "execution_count": 23,
   "metadata": {},
   "outputs": [
    {
     "data": {
      "text/plain": [
       "100.4"
      ]
     },
     "execution_count": 23,
     "metadata": {},
     "output_type": "execute_result"
    }
   ],
   "source": [
    "# max() - to get max value of a set of arguments (numbers in this case)\n",
    "max(100,20,21,22,100.4)"
   ]
  },
  {
   "cell_type": "code",
   "execution_count": 24,
   "metadata": {},
   "outputs": [
    {
     "data": {
      "text/plain": [
       "[1, 2, 3, 4, 5, 6, 7, 8, 9, 10]"
      ]
     },
     "execution_count": 24,
     "metadata": {},
     "output_type": "execute_result"
    }
   ],
   "source": [
    "# range() - I will have python count the numbers from 1 to 10 via the \n",
    "# range function\n",
    "range(1,11)"
   ]
  },
  {
   "cell_type": "code",
   "execution_count": 25,
   "metadata": {},
   "outputs": [
    {
     "data": {
      "text/plain": [
       "[1, 3, 5, 7, 9]"
      ]
     },
     "execution_count": 25,
     "metadata": {},
     "output_type": "execute_result"
    }
   ],
   "source": [
    "# range() - I will have python count the numbers from 1 to 10 (skipping ever other number\n",
    "# via the range function\n",
    "range(1,11,2)"
   ]
  },
  {
   "cell_type": "code",
   "execution_count": 26,
   "metadata": {},
   "outputs": [
    {
     "name": "stdout",
     "output_type": "stream",
     "text": [
      "The \"print\" statement\n",
      "*********************\n",
      "\n",
      "   print_stmt ::= \"print\" ([expression (\",\" expression)* [\",\"]]\n",
      "                  | \">>\" expression [(\",\" expression)+ [\",\"]])\n",
      "\n",
      "\"print\" evaluates each expression in turn and writes the resulting\n",
      "object to standard output (see below).  If an object is not a string,\n",
      "it is first converted to a string using the rules for string\n",
      "conversions.  The (resulting or original) string is then written.  A\n",
      "space is written before each object is (converted and) written, unless\n",
      "the output system believes it is positioned at the beginning of a\n",
      "line.  This is the case (1) when no characters have yet been written\n",
      "to standard output, (2) when the last character written to standard\n",
      "output is a whitespace character except \"' '\", or (3) when the last\n",
      "write operation on standard output was not a \"print\" statement. (In\n",
      "some cases it may be functional to write an empty string to standard\n",
      "output for this reason.)\n",
      "\n",
      "Note: Objects which act like file objects but which are not the\n",
      "  built-in file objects often do not properly emulate this aspect of\n",
      "  the file object's behavior, so it is best not to rely on this.\n",
      "\n",
      "A \"'\\n'\" character is written at the end, unless the \"print\" statement\n",
      "ends with a comma.  This is the only action if the statement contains\n",
      "just the keyword \"print\".\n",
      "\n",
      "Standard output is defined as the file object named \"stdout\" in the\n",
      "built-in module \"sys\".  If no such object exists, or if it does not\n",
      "have a \"write()\" method, a \"RuntimeError\" exception is raised.\n",
      "\n",
      "\"print\" also has an extended form, defined by the second portion of\n",
      "the syntax described above. This form is sometimes referred to as\n",
      "\"\"print\" chevron.\" In this form, the first expression after the \">>\"\n",
      "must evaluate to a \"file-like\" object, specifically an object that has\n",
      "a \"write()\" method as described above.  With this extended form, the\n",
      "subsequent expressions are printed to this file object.  If the first\n",
      "expression evaluates to \"None\", then \"sys.stdout\" is used as the file\n",
      "for output.\n",
      "\n"
     ]
    }
   ],
   "source": [
    "# help() function... I will output 'help' on the print function.\n",
    "# help('print')\n",
    "help('print')"
   ]
  },
  {
   "cell_type": "code",
   "execution_count": 27,
   "metadata": {},
   "outputs": [
    {
     "name": "stdout",
     "output_type": "stream",
     "text": [
      "Comparisons\n",
      "***********\n",
      "\n",
      "Unlike C, all comparison operations in Python have the same priority,\n",
      "which is lower than that of any arithmetic, shifting or bitwise\n",
      "operation.  Also unlike C, expressions like \"a < b < c\" have the\n",
      "interpretation that is conventional in mathematics:\n",
      "\n",
      "   comparison    ::= or_expr ( comp_operator or_expr )*\n",
      "   comp_operator ::= \"<\" | \">\" | \"==\" | \">=\" | \"<=\" | \"<>\" | \"!=\"\n",
      "                     | \"is\" [\"not\"] | [\"not\"] \"in\"\n",
      "\n",
      "Comparisons yield boolean values: \"True\" or \"False\".\n",
      "\n",
      "Comparisons can be chained arbitrarily, e.g., \"x < y <= z\" is\n",
      "equivalent to \"x < y and y <= z\", except that \"y\" is evaluated only\n",
      "once (but in both cases \"z\" is not evaluated at all when \"x < y\" is\n",
      "found to be false).\n",
      "\n",
      "Formally, if *a*, *b*, *c*, ..., *y*, *z* are expressions and *op1*,\n",
      "*op2*, ..., *opN* are comparison operators, then \"a op1 b op2 c ... y\n",
      "opN z\" is equivalent to \"a op1 b and b op2 c and ... y opN z\", except\n",
      "that each expression is evaluated at most once.\n",
      "\n",
      "Note that \"a op1 b op2 c\" doesn't imply any kind of comparison between\n",
      "*a* and *c*, so that, e.g., \"x < y > z\" is perfectly legal (though\n",
      "perhaps not pretty).\n",
      "\n",
      "The forms \"<>\" and \"!=\" are equivalent; for consistency with C, \"!=\"\n",
      "is preferred; where \"!=\" is mentioned below \"<>\" is also accepted.\n",
      "The \"<>\" spelling is considered obsolescent.\n",
      "\n",
      "\n",
      "Value comparisons\n",
      "=================\n",
      "\n",
      "The operators \"<\", \">\", \"==\", \">=\", \"<=\", and \"!=\" compare the values\n",
      "of two objects.  The objects do not need to have the same type.\n",
      "\n",
      "Chapter Objects, values and types states that objects have a value (in\n",
      "addition to type and identity).  The value of an object is a rather\n",
      "abstract notion in Python: For example, there is no canonical access\n",
      "method for an object's value.  Also, there is no requirement that the\n",
      "value of an object should be constructed in a particular way, e.g.\n",
      "comprised of all its data attributes. Comparison operators implement a\n",
      "particular notion of what the value of an object is.  One can think of\n",
      "them as defining the value of an object indirectly, by means of their\n",
      "comparison implementation.\n",
      "\n",
      "Types can customize their comparison behavior by implementing a\n",
      "\"__cmp__()\" method or *rich comparison methods* like \"__lt__()\",\n",
      "described in Basic customization.\n",
      "\n",
      "The default behavior for equality comparison (\"==\" and \"!=\") is based\n",
      "on the identity of the objects.  Hence, equality comparison of\n",
      "instances with the same identity results in equality, and equality\n",
      "comparison of instances with different identities results in\n",
      "inequality.  A motivation for this default behavior is the desire that\n",
      "all objects should be reflexive (i.e. \"x is y\" implies \"x == y\").\n",
      "\n",
      "The default order comparison (\"<\", \">\", \"<=\", and \">=\") gives a\n",
      "consistent but arbitrary order.\n",
      "\n",
      "(This unusual definition of comparison was used to simplify the\n",
      "definition of operations like sorting and the \"in\" and \"not in\"\n",
      "operators. In the future, the comparison rules for objects of\n",
      "different types are likely to change.)\n",
      "\n",
      "The behavior of the default equality comparison, that instances with\n",
      "different identities are always unequal, may be in contrast to what\n",
      "types will need that have a sensible definition of object value and\n",
      "value-based equality.  Such types will need to customize their\n",
      "comparison behavior, and in fact, a number of built-in types have done\n",
      "that.\n",
      "\n",
      "The following list describes the comparison behavior of the most\n",
      "important built-in types.\n",
      "\n",
      "* Numbers of built-in numeric types (Numeric Types --- int, float,\n",
      "  long, complex) and of the standard library types\n",
      "  \"fractions.Fraction\" and \"decimal.Decimal\" can be compared within\n",
      "  and across their types, with the restriction that complex numbers do\n",
      "  not support order comparison.  Within the limits of the types\n",
      "  involved, they compare mathematically (algorithmically) correct\n",
      "  without loss of precision.\n",
      "\n",
      "* Strings (instances of \"str\" or \"unicode\") compare\n",
      "  lexicographically using the numeric equivalents (the result of the\n",
      "  built-in function \"ord()\") of their characters. [4] When comparing\n",
      "  an 8-bit string and a Unicode string, the 8-bit string is converted\n",
      "  to Unicode.  If the conversion fails, the strings are considered\n",
      "  unequal.\n",
      "\n",
      "* Instances of \"tuple\" or \"list\" can be compared only within each of\n",
      "  their types.  Equality comparison across these types results in\n",
      "  unequality, and ordering comparison across these types gives an\n",
      "  arbitrary order.\n",
      "\n",
      "  These sequences compare lexicographically using comparison of\n",
      "  corresponding elements, whereby reflexivity of the elements is\n",
      "  enforced.\n",
      "\n",
      "  In enforcing reflexivity of elements, the comparison of collections\n",
      "  assumes that for a collection element \"x\", \"x == x\" is always true.\n",
      "  Based on that assumption, element identity is compared first, and\n",
      "  element comparison is performed only for distinct elements.  This\n",
      "  approach yields the same result as a strict element comparison\n",
      "  would, if the compared elements are reflexive.  For non-reflexive\n",
      "  elements, the result is different than for strict element\n",
      "  comparison.\n",
      "\n",
      "  Lexicographical comparison between built-in collections works as\n",
      "  follows:\n",
      "\n",
      "  * For two collections to compare equal, they must be of the same\n",
      "    type, have the same length, and each pair of corresponding\n",
      "    elements must compare equal (for example, \"[1,2] == (1,2)\" is\n",
      "    false because the type is not the same).\n",
      "\n",
      "  * Collections are ordered the same as their first unequal elements\n",
      "    (for example, \"cmp([1,2,x], [1,2,y])\" returns the same as\n",
      "    \"cmp(x,y)\").  If a corresponding element does not exist, the\n",
      "    shorter collection is ordered first (for example, \"[1,2] <\n",
      "    [1,2,3]\" is true).\n",
      "\n",
      "* Mappings (instances of \"dict\") compare equal if and only if they\n",
      "  have equal *(key, value)* pairs. Equality comparison of the keys and\n",
      "  values enforces reflexivity.\n",
      "\n",
      "  Outcomes other than equality are resolved consistently, but are not\n",
      "  otherwise defined. [5]\n",
      "\n",
      "* Most other objects of built-in types compare unequal unless they\n",
      "  are the same object; the choice whether one object is considered\n",
      "  smaller or larger than another one is made arbitrarily but\n",
      "  consistently within one execution of a program.\n",
      "\n",
      "User-defined classes that customize their comparison behavior should\n",
      "follow some consistency rules, if possible:\n",
      "\n",
      "* Equality comparison should be reflexive. In other words, identical\n",
      "  objects should compare equal:\n",
      "\n",
      "     \"x is y\" implies \"x == y\"\n",
      "\n",
      "* Comparison should be symmetric. In other words, the following\n",
      "  expressions should have the same result:\n",
      "\n",
      "     \"x == y\" and \"y == x\"\n",
      "\n",
      "     \"x != y\" and \"y != x\"\n",
      "\n",
      "     \"x < y\" and \"y > x\"\n",
      "\n",
      "     \"x <= y\" and \"y >= x\"\n",
      "\n",
      "* Comparison should be transitive. The following (non-exhaustive)\n",
      "  examples illustrate that:\n",
      "\n",
      "     \"x > y and y > z\" implies \"x > z\"\n",
      "\n",
      "     \"x < y and y <= z\" implies \"x < z\"\n",
      "\n",
      "* Inverse comparison should result in the boolean negation. In other\n",
      "  words, the following expressions should have the same result:\n",
      "\n",
      "     \"x == y\" and \"not x != y\"\n",
      "\n",
      "     \"x < y\" and \"not x >= y\" (for total ordering)\n",
      "\n",
      "     \"x > y\" and \"not x <= y\" (for total ordering)\n",
      "\n",
      "  The last two expressions apply to totally ordered collections (e.g.\n",
      "  to sequences, but not to sets or mappings). See also the\n",
      "  \"total_ordering()\" decorator.\n",
      "\n",
      "* The \"hash()\" result should be consistent with equality. Objects\n",
      "  that are equal should either have the same hash value, or be marked\n",
      "  as unhashable.\n",
      "\n",
      "Python does not enforce these consistency rules.\n",
      "\n",
      "\n",
      "Membership test operations\n",
      "==========================\n",
      "\n",
      "The operators \"in\" and \"not in\" test for membership.  \"x in s\"\n",
      "evaluates to \"True\" if *x* is a member of *s*, and \"False\" otherwise.\n",
      "\"x not in s\" returns the negation of \"x in s\".  All built-in sequences\n",
      "and set types support this as well as dictionary, for which \"in\" tests\n",
      "whether the dictionary has a given key. For container types such as\n",
      "list, tuple, set, frozenset, dict, or collections.deque, the\n",
      "expression \"x in y\" is equivalent to \"any(x is e or x == e for e in\n",
      "y)\".\n",
      "\n",
      "For the string and bytes types, \"x in y\" is \"True\" if and only if *x*\n",
      "is a substring of *y*.  An equivalent test is \"y.find(x) != -1\".\n",
      "Empty strings are always considered to be a substring of any other\n",
      "string, so \"\"\" in \"abc\"\" will return \"True\".\n",
      "\n",
      "For user-defined classes which define the \"__contains__()\" method, \"x\n",
      "in y\" returns \"True\" if \"y.__contains__(x)\" returns a true value, and\n",
      "\"False\" otherwise.\n",
      "\n",
      "For user-defined classes which do not define \"__contains__()\" but do\n",
      "define \"__iter__()\", \"x in y\" is \"True\" if some value \"z\" with \"x ==\n",
      "z\" is produced while iterating over \"y\".  If an exception is raised\n",
      "during the iteration, it is as if \"in\" raised that exception.\n",
      "\n",
      "Lastly, the old-style iteration protocol is tried: if a class defines\n",
      "\"__getitem__()\", \"x in y\" is \"True\" if and only if there is a non-\n",
      "negative integer index *i* such that \"x == y[i]\", and all lower\n",
      "integer indices do not raise \"IndexError\" exception. (If any other\n",
      "exception is raised, it is as if \"in\" raised that exception).\n",
      "\n",
      "The operator \"not in\" is defined to have the inverse true value of\n",
      "\"in\".\n",
      "\n",
      "\n",
      "Identity comparisons\n",
      "====================\n",
      "\n",
      "The operators \"is\" and \"is not\" test for object identity: \"x is y\" is\n",
      "true if and only if *x* and *y* are the same object.  \"x is not y\"\n",
      "yields the inverse truth value. [6]\n",
      "\n",
      "Related help topics: EXPRESSIONS, BASICMETHODS, OPERATORS\n",
      "\n"
     ]
    }
   ],
   "source": [
    "# help() function... I will output 'help' on the comparison operation '=='.\n",
    "# help('==')\n",
    "help('==')"
   ]
  },
  {
   "cell_type": "code",
   "execution_count": 28,
   "metadata": {},
   "outputs": [
    {
     "name": "stdout",
     "output_type": "stream",
     "text": [
      "1\n",
      "2\n",
      "3\n",
      "4\n",
      "6\n",
      "10\n"
     ]
    }
   ],
   "source": [
    "# 4) Loop over a list and print to the console\n",
    "# For Loop\n",
    "i=0\n",
    "lista=[1,2,3,4,6,10]\n",
    "\n",
    "for i in range(len(lista)):\n",
    "    print lista[i]\n"
   ]
  },
  {
   "cell_type": "code",
   "execution_count": 29,
   "metadata": {},
   "outputs": [
    {
     "name": "stdout",
     "output_type": "stream",
     "text": [
      "1\n",
      "2\n",
      "3\n",
      "4\n",
      "6\n",
      "10\n"
     ]
    }
   ],
   "source": [
    "# Do same thing with a While Loop\n",
    "lista=[1,2,3,4,6,10]\n",
    "i=0\n",
    "while i < len(lista):\n",
    "    print lista[i]\n",
    "    i=i+1\n"
   ]
  },
  {
   "cell_type": "code",
   "execution_count": 30,
   "metadata": {},
   "outputs": [
    {
     "name": "stdout",
     "output_type": "stream",
     "text": [
      "1\n",
      "2\n",
      "3\n",
      "4\n",
      "6\n",
      "10\n"
     ]
    }
   ],
   "source": [
    "# Do same thing with a break Loop\n",
    "lista=[1,2,3,4,6,10]\n",
    "i=0\n",
    "for i in range(100):\n",
    "    if i==len(lista):\n",
    "        break     \n",
    "    print lista[i]"
   ]
  },
  {
   "cell_type": "code",
   "execution_count": 31,
   "metadata": {
    "collapsed": true
   },
   "outputs": [],
   "source": [
    "# 5) Import Pandas\n",
    "import pandas as pd  # read to import as 'pd' or some other name to avoid \n",
    "                     # overlap with other libraries with similar method names"
   ]
  },
  {
   "cell_type": "code",
   "execution_count": 32,
   "metadata": {},
   "outputs": [
    {
     "data": {
      "text/html": [
       "<div>\n",
       "<style>\n",
       "    .dataframe thead tr:only-child th {\n",
       "        text-align: right;\n",
       "    }\n",
       "\n",
       "    .dataframe thead th {\n",
       "        text-align: left;\n",
       "    }\n",
       "\n",
       "    .dataframe tbody tr th {\n",
       "        vertical-align: top;\n",
       "    }\n",
       "</style>\n",
       "<table border=\"1\" class=\"dataframe\">\n",
       "  <thead>\n",
       "    <tr style=\"text-align: right;\">\n",
       "      <th></th>\n",
       "      <th>Close</th>\n",
       "      <th>Company</th>\n",
       "      <th>High</th>\n",
       "      <th>Low</th>\n",
       "      <th>Volume</th>\n",
       "    </tr>\n",
       "  </thead>\n",
       "  <tbody>\n",
       "    <tr>\n",
       "      <th>0</th>\n",
       "      <td>179.59</td>\n",
       "      <td>Facebook</td>\n",
       "      <td>179.83</td>\n",
       "      <td>178.50</td>\n",
       "      <td>15600000</td>\n",
       "    </tr>\n",
       "    <tr>\n",
       "      <th>1</th>\n",
       "      <td>1137.29</td>\n",
       "      <td>Amazon</td>\n",
       "      <td>1138.16</td>\n",
       "      <td>1130.05</td>\n",
       "      <td>2210000</td>\n",
       "    </tr>\n",
       "    <tr>\n",
       "      <th>2</th>\n",
       "      <td>195.51</td>\n",
       "      <td>Netflix</td>\n",
       "      <td>197.70</td>\n",
       "      <td>193.75</td>\n",
       "      <td>5680000</td>\n",
       "    </tr>\n",
       "    <tr>\n",
       "      <th>3</th>\n",
       "      <td>1048.47</td>\n",
       "      <td>Google</td>\n",
       "      <td>1051.76</td>\n",
       "      <td>1038.00</td>\n",
       "      <td>1190000</td>\n",
       "    </tr>\n",
       "  </tbody>\n",
       "</table>\n",
       "</div>"
      ],
      "text/plain": [
       "     Close   Company     High      Low    Volume\n",
       "0   179.59  Facebook   179.83   178.50  15600000\n",
       "1  1137.29    Amazon  1138.16  1130.05   2210000\n",
       "2   195.51   Netflix   197.70   193.75   5680000\n",
       "3  1048.47    Google  1051.76  1038.00   1190000"
      ]
     },
     "execution_count": 32,
     "metadata": {},
     "output_type": "execute_result"
    }
   ],
   "source": [
    "# 6) Create a dataframe with a few columns and rows.\n",
    "# set the source data set list up.\n",
    "source_dataset = {'Company':['Facebook', 'Amazon', 'Netflix','Google'],\n",
    "                  'Close':[179.59,1137.29,195.51,1048.47],\n",
    "                  'High':[179.83,1138.16,197.70,1051.76],\n",
    "                  'Low':[178.50,1130.05,193.75,1038.00],\n",
    "                  'Volume':[15600000, 2210000,5680000,1190000]\n",
    "        \n",
    "                 }\n",
    "# Create a dataframe called stocktable from the list if values in source_dataset\n",
    "stocktable=pd.DataFrame(source_dataset)\n",
    "\n",
    "# Output the stocktable\n",
    "stocktable\n"
   ]
  },
  {
   "cell_type": "code",
   "execution_count": 33,
   "metadata": {},
   "outputs": [
    {
     "data": {
      "text/html": [
       "<div>\n",
       "<style>\n",
       "    .dataframe thead tr:only-child th {\n",
       "        text-align: right;\n",
       "    }\n",
       "\n",
       "    .dataframe thead th {\n",
       "        text-align: left;\n",
       "    }\n",
       "\n",
       "    .dataframe tbody tr th {\n",
       "        vertical-align: top;\n",
       "    }\n",
       "</style>\n",
       "<table border=\"1\" class=\"dataframe\">\n",
       "  <thead>\n",
       "    <tr style=\"text-align: right;\">\n",
       "      <th></th>\n",
       "      <th>Type</th>\n",
       "      <th>Price</th>\n",
       "      <th>Store</th>\n",
       "      <th>Location</th>\n",
       "    </tr>\n",
       "  </thead>\n",
       "  <tbody>\n",
       "    <tr>\n",
       "      <th>0</th>\n",
       "      <td>Navel</td>\n",
       "      <td>1.59</td>\n",
       "      <td>Metro</td>\n",
       "      <td>Kennedy</td>\n",
       "    </tr>\n",
       "    <tr>\n",
       "      <th>1</th>\n",
       "      <td>Cara Cara</td>\n",
       "      <td>2.79</td>\n",
       "      <td>Loblaws</td>\n",
       "      <td>Hwy 7</td>\n",
       "    </tr>\n",
       "    <tr>\n",
       "      <th>2</th>\n",
       "      <td>Mandarin</td>\n",
       "      <td>2.99</td>\n",
       "      <td>Loblaws</td>\n",
       "      <td>Carlton</td>\n",
       "    </tr>\n",
       "    <tr>\n",
       "      <th>3</th>\n",
       "      <td>Kumquat</td>\n",
       "      <td>3.99</td>\n",
       "      <td>Loblaws</td>\n",
       "      <td>St. Clair</td>\n",
       "    </tr>\n",
       "    <tr>\n",
       "      <th>4</th>\n",
       "      <td>Cara Cara</td>\n",
       "      <td>2.99</td>\n",
       "      <td>Metro</td>\n",
       "      <td>College Park</td>\n",
       "    </tr>\n",
       "    <tr>\n",
       "      <th>5</th>\n",
       "      <td>Navel</td>\n",
       "      <td>1.79</td>\n",
       "      <td>Loblaws</td>\n",
       "      <td>Queen-Portland</td>\n",
       "    </tr>\n",
       "    <tr>\n",
       "      <th>6</th>\n",
       "      <td>Navel</td>\n",
       "      <td>0.99</td>\n",
       "      <td>No Frills</td>\n",
       "      <td>Agincourt</td>\n",
       "    </tr>\n",
       "    <tr>\n",
       "      <th>7</th>\n",
       "      <td>Cara Cara</td>\n",
       "      <td>1.99</td>\n",
       "      <td>T&amp;T</td>\n",
       "      <td>Warden</td>\n",
       "    </tr>\n",
       "  </tbody>\n",
       "</table>\n",
       "</div>"
      ],
      "text/plain": [
       "        Type  Price      Store        Location\n",
       "0      Navel   1.59      Metro         Kennedy\n",
       "1  Cara Cara   2.79    Loblaws           Hwy 7\n",
       "2   Mandarin   2.99    Loblaws         Carlton\n",
       "3    Kumquat   3.99    Loblaws       St. Clair\n",
       "4  Cara Cara   2.99      Metro    College Park\n",
       "5      Navel   1.79    Loblaws  Queen-Portland\n",
       "6      Navel   0.99  No Frills       Agincourt\n",
       "7  Cara Cara   1.99        T&T          Warden"
      ]
     },
     "execution_count": 33,
     "metadata": {},
     "output_type": "execute_result"
    }
   ],
   "source": [
    "# 7) Index a pandas data frame and print different cells, rows, columns, etc.\n",
    "\n",
    "import pandas as pd \n",
    "\n",
    "\n",
    "# set the source data set list up\n",
    "originaldata = {'Type':['Navel', 'Cara Cara', 'Mandarin','Kumquat','Cara Cara','Navel','Navel','Cara Cara'],\n",
    "                  'Price':[1.59,2.79,2.99,3.99,2.99,1.79,.99,1.99],\n",
    "                  'Store':['Metro','Loblaws','Loblaws','Loblaws','Metro','Loblaws','No Frills','T&T'],\n",
    "                  'Location':['Kennedy','Hwy 7','Carlton','St. Clair','College Park','Queen-Portland','Agincourt','Warden']}\n",
    "df=pd.DataFrame(originaldata, columns = ['Type', 'Price', 'Store','Location'])\n",
    "df\n",
    "\n"
   ]
  },
  {
   "cell_type": "code",
   "execution_count": 34,
   "metadata": {},
   "outputs": [
    {
     "name": "stdout",
     "output_type": "stream",
     "text": [
      "Original Table\n"
     ]
    },
    {
     "data": {
      "text/html": [
       "<div>\n",
       "<style>\n",
       "    .dataframe thead tr:only-child th {\n",
       "        text-align: right;\n",
       "    }\n",
       "\n",
       "    .dataframe thead th {\n",
       "        text-align: left;\n",
       "    }\n",
       "\n",
       "    .dataframe tbody tr th {\n",
       "        vertical-align: top;\n",
       "    }\n",
       "</style>\n",
       "<table border=\"1\" class=\"dataframe\">\n",
       "  <thead>\n",
       "    <tr style=\"text-align: right;\">\n",
       "      <th></th>\n",
       "      <th>Type</th>\n",
       "      <th>Price</th>\n",
       "      <th>Store</th>\n",
       "    </tr>\n",
       "    <tr>\n",
       "      <th>Location</th>\n",
       "      <th></th>\n",
       "      <th></th>\n",
       "      <th></th>\n",
       "    </tr>\n",
       "  </thead>\n",
       "  <tbody>\n",
       "    <tr>\n",
       "      <th>Kennedy</th>\n",
       "      <td>Navel</td>\n",
       "      <td>1.59</td>\n",
       "      <td>Metro</td>\n",
       "    </tr>\n",
       "    <tr>\n",
       "      <th>Hwy 7</th>\n",
       "      <td>Cara Cara</td>\n",
       "      <td>2.79</td>\n",
       "      <td>Loblaws</td>\n",
       "    </tr>\n",
       "    <tr>\n",
       "      <th>Carlton</th>\n",
       "      <td>Mandarin</td>\n",
       "      <td>2.99</td>\n",
       "      <td>Loblaws</td>\n",
       "    </tr>\n",
       "    <tr>\n",
       "      <th>St. Clair</th>\n",
       "      <td>Kumquat</td>\n",
       "      <td>3.99</td>\n",
       "      <td>Loblaws</td>\n",
       "    </tr>\n",
       "    <tr>\n",
       "      <th>College Park</th>\n",
       "      <td>Cara Cara</td>\n",
       "      <td>2.99</td>\n",
       "      <td>Metro</td>\n",
       "    </tr>\n",
       "    <tr>\n",
       "      <th>Queen-Portland</th>\n",
       "      <td>Navel</td>\n",
       "      <td>1.79</td>\n",
       "      <td>Loblaws</td>\n",
       "    </tr>\n",
       "    <tr>\n",
       "      <th>Agincourt</th>\n",
       "      <td>Navel</td>\n",
       "      <td>0.99</td>\n",
       "      <td>No Frills</td>\n",
       "    </tr>\n",
       "    <tr>\n",
       "      <th>Warden</th>\n",
       "      <td>Cara Cara</td>\n",
       "      <td>1.99</td>\n",
       "      <td>T&amp;T</td>\n",
       "    </tr>\n",
       "  </tbody>\n",
       "</table>\n",
       "</div>"
      ],
      "text/plain": [
       "                     Type  Price      Store\n",
       "Location                                   \n",
       "Kennedy             Navel   1.59      Metro\n",
       "Hwy 7           Cara Cara   2.79    Loblaws\n",
       "Carlton          Mandarin   2.99    Loblaws\n",
       "St. Clair         Kumquat   3.99    Loblaws\n",
       "College Park    Cara Cara   2.99      Metro\n",
       "Queen-Portland      Navel   1.79    Loblaws\n",
       "Agincourt           Navel   0.99  No Frills\n",
       "Warden          Cara Cara   1.99        T&T"
      ]
     },
     "execution_count": 34,
     "metadata": {},
     "output_type": "execute_result"
    }
   ],
   "source": [
    "FruitTable=df.set_index('Location')\n",
    "# output the original table that all of the next python statements will be \n",
    "# based on the original table.\n",
    "\n",
    "print('Original Table')\n",
    "\n",
    "FruitTable\n"
   ]
  },
  {
   "cell_type": "code",
   "execution_count": 35,
   "metadata": {},
   "outputs": [
    {
     "data": {
      "text/plain": [
       "Location\n",
       "Kennedy           1.59\n",
       "Hwy 7             2.79\n",
       "Carlton           2.99\n",
       "St. Clair         3.99\n",
       "College Park      2.99\n",
       "Queen-Portland    1.79\n",
       "Agincourt         0.99\n",
       "Warden            1.99\n",
       "Name: Price, dtype: float64"
      ]
     },
     "execution_count": 35,
     "metadata": {},
     "output_type": "execute_result"
    }
   ],
   "source": [
    "# Following lines show the printing out of various table columns\n",
    "FruitTable['Price']"
   ]
  },
  {
   "cell_type": "code",
   "execution_count": 36,
   "metadata": {},
   "outputs": [
    {
     "data": {
      "text/plain": [
       "Location\n",
       "Kennedy               Navel\n",
       "Hwy 7             Cara Cara\n",
       "Carlton            Mandarin\n",
       "St. Clair           Kumquat\n",
       "College Park      Cara Cara\n",
       "Queen-Portland        Navel\n",
       "Agincourt             Navel\n",
       "Warden            Cara Cara\n",
       "Name: Type, dtype: object"
      ]
     },
     "execution_count": 36,
     "metadata": {},
     "output_type": "execute_result"
    }
   ],
   "source": [
    "FruitTable['Type']"
   ]
  },
  {
   "cell_type": "code",
   "execution_count": 37,
   "metadata": {},
   "outputs": [
    {
     "data": {
      "text/plain": [
       "Location\n",
       "Kennedy               Metro\n",
       "Hwy 7               Loblaws\n",
       "Carlton             Loblaws\n",
       "St. Clair           Loblaws\n",
       "College Park          Metro\n",
       "Queen-Portland      Loblaws\n",
       "Agincourt         No Frills\n",
       "Warden                  T&T\n",
       "Name: Store, dtype: object"
      ]
     },
     "execution_count": 37,
     "metadata": {},
     "output_type": "execute_result"
    }
   ],
   "source": [
    "FruitTable['Store']"
   ]
  },
  {
   "cell_type": "code",
   "execution_count": 38,
   "metadata": {},
   "outputs": [
    {
     "data": {
      "text/plain": [
       "Type     Cara Cara\n",
       "Price         2.79\n",
       "Store      Loblaws\n",
       "Name: Hwy 7, dtype: object"
      ]
     },
     "execution_count": 38,
     "metadata": {},
     "output_type": "execute_result"
    }
   ],
   "source": [
    "# Following lines show the printing out of various table rows\n",
    "# Print out row for 'Hwy 7' store location using that index\n",
    "FruitTable.loc['Hwy 7']"
   ]
  },
  {
   "cell_type": "code",
   "execution_count": 39,
   "metadata": {},
   "outputs": [
    {
     "data": {
      "text/html": [
       "<div>\n",
       "<style>\n",
       "    .dataframe thead tr:only-child th {\n",
       "        text-align: right;\n",
       "    }\n",
       "\n",
       "    .dataframe thead th {\n",
       "        text-align: left;\n",
       "    }\n",
       "\n",
       "    .dataframe tbody tr th {\n",
       "        vertical-align: top;\n",
       "    }\n",
       "</style>\n",
       "<table border=\"1\" class=\"dataframe\">\n",
       "  <thead>\n",
       "    <tr style=\"text-align: right;\">\n",
       "      <th></th>\n",
       "      <th>Type</th>\n",
       "      <th>Price</th>\n",
       "      <th>Store</th>\n",
       "    </tr>\n",
       "    <tr>\n",
       "      <th>Location</th>\n",
       "      <th></th>\n",
       "      <th></th>\n",
       "      <th></th>\n",
       "    </tr>\n",
       "  </thead>\n",
       "  <tbody>\n",
       "    <tr>\n",
       "      <th>Kennedy</th>\n",
       "      <td>Navel</td>\n",
       "      <td>1.59</td>\n",
       "      <td>Metro</td>\n",
       "    </tr>\n",
       "    <tr>\n",
       "      <th>Hwy 7</th>\n",
       "      <td>Cara Cara</td>\n",
       "      <td>2.79</td>\n",
       "      <td>Loblaws</td>\n",
       "    </tr>\n",
       "    <tr>\n",
       "      <th>Carlton</th>\n",
       "      <td>Mandarin</td>\n",
       "      <td>2.99</td>\n",
       "      <td>Loblaws</td>\n",
       "    </tr>\n",
       "  </tbody>\n",
       "</table>\n",
       "</div>"
      ],
      "text/plain": [
       "               Type  Price    Store\n",
       "Location                           \n",
       "Kennedy       Navel   1.59    Metro\n",
       "Hwy 7     Cara Cara   2.79  Loblaws\n",
       "Carlton    Mandarin   2.99  Loblaws"
      ]
     },
     "execution_count": 39,
     "metadata": {},
     "output_type": "execute_result"
    }
   ],
   "source": [
    "# Print out first 3 rows of table\n",
    "FruitTable.iloc[:3]"
   ]
  },
  {
   "cell_type": "code",
   "execution_count": 40,
   "metadata": {},
   "outputs": [
    {
     "data": {
      "text/html": [
       "<div>\n",
       "<style>\n",
       "    .dataframe thead tr:only-child th {\n",
       "        text-align: right;\n",
       "    }\n",
       "\n",
       "    .dataframe thead th {\n",
       "        text-align: left;\n",
       "    }\n",
       "\n",
       "    .dataframe tbody tr th {\n",
       "        vertical-align: top;\n",
       "    }\n",
       "</style>\n",
       "<table border=\"1\" class=\"dataframe\">\n",
       "  <thead>\n",
       "    <tr style=\"text-align: right;\">\n",
       "      <th></th>\n",
       "      <th>Type</th>\n",
       "      <th>Price</th>\n",
       "      <th>Store</th>\n",
       "    </tr>\n",
       "    <tr>\n",
       "      <th>Location</th>\n",
       "      <th></th>\n",
       "      <th></th>\n",
       "      <th></th>\n",
       "    </tr>\n",
       "  </thead>\n",
       "  <tbody>\n",
       "    <tr>\n",
       "      <th>Hwy 7</th>\n",
       "      <td>Cara Cara</td>\n",
       "      <td>2.79</td>\n",
       "      <td>Loblaws</td>\n",
       "    </tr>\n",
       "    <tr>\n",
       "      <th>Carlton</th>\n",
       "      <td>Mandarin</td>\n",
       "      <td>2.99</td>\n",
       "      <td>Loblaws</td>\n",
       "    </tr>\n",
       "    <tr>\n",
       "      <th>St. Clair</th>\n",
       "      <td>Kumquat</td>\n",
       "      <td>3.99</td>\n",
       "      <td>Loblaws</td>\n",
       "    </tr>\n",
       "    <tr>\n",
       "      <th>College Park</th>\n",
       "      <td>Cara Cara</td>\n",
       "      <td>2.99</td>\n",
       "      <td>Metro</td>\n",
       "    </tr>\n",
       "  </tbody>\n",
       "</table>\n",
       "</div>"
      ],
      "text/plain": [
       "                   Type  Price    Store\n",
       "Location                               \n",
       "Hwy 7         Cara Cara   2.79  Loblaws\n",
       "Carlton        Mandarin   2.99  Loblaws\n",
       "St. Clair       Kumquat   3.99  Loblaws\n",
       "College Park  Cara Cara   2.99    Metro"
      ]
     },
     "execution_count": 40,
     "metadata": {},
     "output_type": "execute_result"
    }
   ],
   "source": [
    "# Print out rows where price is above $1.99 \n",
    "FruitTable[FruitTable['Price']> 1.99]"
   ]
  },
  {
   "cell_type": "code",
   "execution_count": 41,
   "metadata": {},
   "outputs": [
    {
     "data": {
      "text/html": [
       "<div>\n",
       "<style>\n",
       "    .dataframe thead tr:only-child th {\n",
       "        text-align: right;\n",
       "    }\n",
       "\n",
       "    .dataframe thead th {\n",
       "        text-align: left;\n",
       "    }\n",
       "\n",
       "    .dataframe tbody tr th {\n",
       "        vertical-align: top;\n",
       "    }\n",
       "</style>\n",
       "<table border=\"1\" class=\"dataframe\">\n",
       "  <thead>\n",
       "    <tr style=\"text-align: right;\">\n",
       "      <th></th>\n",
       "      <th>Type</th>\n",
       "      <th>Price</th>\n",
       "      <th>Store</th>\n",
       "    </tr>\n",
       "    <tr>\n",
       "      <th>Location</th>\n",
       "      <th></th>\n",
       "      <th></th>\n",
       "      <th></th>\n",
       "    </tr>\n",
       "  </thead>\n",
       "  <tbody>\n",
       "    <tr>\n",
       "      <th>Hwy 7</th>\n",
       "      <td>Cara Cara</td>\n",
       "      <td>2.79</td>\n",
       "      <td>Loblaws</td>\n",
       "    </tr>\n",
       "    <tr>\n",
       "      <th>Carlton</th>\n",
       "      <td>Mandarin</td>\n",
       "      <td>2.99</td>\n",
       "      <td>Loblaws</td>\n",
       "    </tr>\n",
       "    <tr>\n",
       "      <th>St. Clair</th>\n",
       "      <td>Kumquat</td>\n",
       "      <td>3.99</td>\n",
       "      <td>Loblaws</td>\n",
       "    </tr>\n",
       "    <tr>\n",
       "      <th>Queen-Portland</th>\n",
       "      <td>Navel</td>\n",
       "      <td>1.79</td>\n",
       "      <td>Loblaws</td>\n",
       "    </tr>\n",
       "  </tbody>\n",
       "</table>\n",
       "</div>"
      ],
      "text/plain": [
       "                     Type  Price    Store\n",
       "Location                                 \n",
       "Hwy 7           Cara Cara   2.79  Loblaws\n",
       "Carlton          Mandarin   2.99  Loblaws\n",
       "St. Clair         Kumquat   3.99  Loblaws\n",
       "Queen-Portland      Navel   1.79  Loblaws"
      ]
     },
     "execution_count": 41,
     "metadata": {},
     "output_type": "execute_result"
    }
   ],
   "source": [
    "# Print out rows for loblaws stores\n",
    "FruitTable[ FruitTable['Store']=='Loblaws']"
   ]
  },
  {
   "cell_type": "code",
   "execution_count": 42,
   "metadata": {},
   "outputs": [
    {
     "data": {
      "text/html": [
       "<div>\n",
       "<style>\n",
       "    .dataframe thead tr:only-child th {\n",
       "        text-align: right;\n",
       "    }\n",
       "\n",
       "    .dataframe thead th {\n",
       "        text-align: left;\n",
       "    }\n",
       "\n",
       "    .dataframe tbody tr th {\n",
       "        vertical-align: top;\n",
       "    }\n",
       "</style>\n",
       "<table border=\"1\" class=\"dataframe\">\n",
       "  <thead>\n",
       "    <tr style=\"text-align: right;\">\n",
       "      <th></th>\n",
       "      <th>Type</th>\n",
       "      <th>Price</th>\n",
       "      <th>Store</th>\n",
       "    </tr>\n",
       "    <tr>\n",
       "      <th>Location</th>\n",
       "      <th></th>\n",
       "      <th></th>\n",
       "      <th></th>\n",
       "    </tr>\n",
       "  </thead>\n",
       "  <tbody>\n",
       "    <tr>\n",
       "      <th>Kennedy</th>\n",
       "      <td>Navel</td>\n",
       "      <td>1.59</td>\n",
       "      <td>Metro</td>\n",
       "    </tr>\n",
       "    <tr>\n",
       "      <th>Queen-Portland</th>\n",
       "      <td>Navel</td>\n",
       "      <td>1.79</td>\n",
       "      <td>Loblaws</td>\n",
       "    </tr>\n",
       "    <tr>\n",
       "      <th>Agincourt</th>\n",
       "      <td>Navel</td>\n",
       "      <td>0.99</td>\n",
       "      <td>No Frills</td>\n",
       "    </tr>\n",
       "  </tbody>\n",
       "</table>\n",
       "</div>"
      ],
      "text/plain": [
       "                 Type  Price      Store\n",
       "Location                               \n",
       "Kennedy         Navel   1.59      Metro\n",
       "Queen-Portland  Navel   1.79    Loblaws\n",
       "Agincourt       Navel   0.99  No Frills"
      ]
     },
     "execution_count": 42,
     "metadata": {},
     "output_type": "execute_result"
    }
   ],
   "source": [
    "# Print out rows for Navel oranges\n",
    "FruitTable[ FruitTable['Type']=='Navel']"
   ]
  },
  {
   "cell_type": "code",
   "execution_count": 43,
   "metadata": {
    "collapsed": true
   },
   "outputs": [],
   "source": [
    "# Outputting cells in the table\n",
    "# Next... I will print out various cells in a given row of the table"
   ]
  },
  {
   "cell_type": "code",
   "execution_count": 44,
   "metadata": {},
   "outputs": [
    {
     "data": {
      "text/plain": [
       "Type     Cara Cara\n",
       "Price         2.79\n",
       "Store      Loblaws\n",
       "Name: Hwy 7, dtype: object"
      ]
     },
     "execution_count": 44,
     "metadata": {},
     "output_type": "execute_result"
    }
   ],
   "source": [
    "\n",
    "FruitTable.iloc[1]  # print out row 1 (all cells) of 2nd line of original table\n"
   ]
  },
  {
   "cell_type": "code",
   "execution_count": 45,
   "metadata": {},
   "outputs": [
    {
     "data": {
      "text/plain": [
       "'Cara Cara'"
      ]
     },
     "execution_count": 45,
     "metadata": {},
     "output_type": "execute_result"
    }
   ],
   "source": [
    "FruitTable.iloc[1,0] # print out 1st cell of row 1 (2nd line) of original table\n",
    "                     # this will essentially output the type of orange"
   ]
  },
  {
   "cell_type": "code",
   "execution_count": 46,
   "metadata": {},
   "outputs": [
    {
     "data": {
      "text/plain": [
       "2.79"
      ]
     },
     "execution_count": 46,
     "metadata": {},
     "output_type": "execute_result"
    }
   ],
   "source": [
    "FruitTable.iloc[1,1] # print out 2nd cell of row 1 (2nd line) of original table\n",
    "                     # this will essentially output the price"
   ]
  },
  {
   "cell_type": "code",
   "execution_count": 47,
   "metadata": {},
   "outputs": [
    {
     "data": {
      "text/plain": [
       "'Loblaws'"
      ]
     },
     "execution_count": 47,
     "metadata": {},
     "output_type": "execute_result"
    }
   ],
   "source": [
    "FruitTable.iloc[1,2] # print out 3rd cell of row 1 (2nd line) of original table\n",
    "                     # this will essentially output the store"
   ]
  }
 ],
 "metadata": {
  "kernelspec": {
   "display_name": "Python 2",
   "language": "python",
   "name": "python2"
  },
  "language_info": {
   "codemirror_mode": {
    "name": "ipython",
    "version": 2
   },
   "file_extension": ".py",
   "mimetype": "text/x-python",
   "name": "python",
   "nbconvert_exporter": "python",
   "pygments_lexer": "ipython2",
   "version": "2.7.14"
  }
 },
 "nbformat": 4,
 "nbformat_minor": 2
}
