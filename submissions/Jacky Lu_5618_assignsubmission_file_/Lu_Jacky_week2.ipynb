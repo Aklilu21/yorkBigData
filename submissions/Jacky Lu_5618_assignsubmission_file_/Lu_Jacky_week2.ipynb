{
 "cells": [
  {
   "cell_type": "code",
   "execution_count": 23,
   "metadata": {
    "collapsed": true
   },
   "outputs": [],
   "source": [
    "import pandas as pd\n",
    "import datetime as dt\n"
   ]
  },
  {
   "cell_type": "code",
   "execution_count": 70,
   "metadata": {},
   "outputs": [
    {
     "name": "stdout",
     "output_type": "stream",
     "text": [
      "Week 2 Assignment - Jacky Lu\n"
     ]
    }
   ],
   "source": [
    "name = \"Week 2 Assignment - Jacky Lu\"\n",
    "print name"
   ]
  },
  {
   "cell_type": "code",
   "execution_count": 106,
   "metadata": {},
   "outputs": [
    {
     "name": "stdout",
     "output_type": "stream",
     "text": [
      "Today is 2017-11-19\n"
     ]
    }
   ],
   "source": [
    "date=dt.datetime.now().date()\n",
    "print \"Today is %s\"%(date)"
   ]
  },
  {
   "cell_type": "code",
   "execution_count": 54,
   "metadata": {},
   "outputs": [
    {
     "name": "stdout",
     "output_type": "stream",
     "text": [
      "What is the answer for 999 + 1?\n",
      "The correct answer is 1000\n"
     ]
    }
   ],
   "source": [
    "print \"What is the answer for 999 + 1?\"\n",
    "print \"The correct answer is %d\" %(999+1)"
   ]
  },
  {
   "cell_type": "code",
   "execution_count": 59,
   "metadata": {},
   "outputs": [
    {
     "name": "stdout",
     "output_type": "stream",
     "text": [
      "1000\n"
     ]
    }
   ],
   "source": [
    "print 1000/2*2+500-500"
   ]
  },
  {
   "cell_type": "code",
   "execution_count": 82,
   "metadata": {},
   "outputs": [
    {
     "name": "stdout",
     "output_type": "stream",
     "text": [
      "False\n"
     ]
    }
   ],
   "source": [
    "num = 1000\n",
    "print num == 500"
   ]
  },
  {
   "cell_type": "code",
   "execution_count": 61,
   "metadata": {},
   "outputs": [
    {
     "name": "stdout",
     "output_type": "stream",
     "text": [
      "1\n"
     ]
    }
   ],
   "source": [
    "print cmp(1000, 60)"
   ]
  },
  {
   "cell_type": "code",
   "execution_count": 66,
   "metadata": {},
   "outputs": [
    {
     "name": "stdout",
     "output_type": "stream",
     "text": [
      "[20, 21, 22, 23, 24, 25, 26, 27, 28, 29]\n"
     ]
    }
   ],
   "source": [
    "print range(20,30)"
   ]
  },
  {
   "cell_type": "code",
   "execution_count": 72,
   "metadata": {},
   "outputs": [
    {
     "name": "stdout",
     "output_type": "stream",
     "text": [
      "Saturday\n"
     ]
    }
   ],
   "source": [
    "str = ['Monday', 'Tuesday', 'Wednesday', 'Thursday', 'Friday', 'Saturday', 'Sunday']\n",
    "print str[5]"
   ]
  },
  {
   "cell_type": "code",
   "execution_count": 81,
   "metadata": {},
   "outputs": [
    {
     "name": "stdout",
     "output_type": "stream",
     "text": [
      "The max number is 80\n",
      "The min number is 10\n"
     ]
    }
   ],
   "source": [
    "num = ['10','20','30','40','50','60','70','80']\n",
    "print \"The max number is \"+max(num)+\"\\nThe min number is \"+min(num)"
   ]
  },
  {
   "cell_type": "code",
   "execution_count": 85,
   "metadata": {},
   "outputs": [
    {
     "name": "stdout",
     "output_type": "stream",
     "text": [
      "Monday\n",
      "Tuesday\n",
      "Wednesday\n",
      "Thurday\n",
      "Friday\n",
      "Saturday\n",
      "Sunday\n"
     ]
    }
   ],
   "source": [
    "date = ['Monday','Tuesday','Wednesday','Thurday','Friday','Saturday','Sunday']\n",
    "for pdate in date:\n",
    "    print pdate"
   ]
  },
  {
   "cell_type": "code",
   "execution_count": 98,
   "metadata": {},
   "outputs": [
    {
     "name": "stdout",
     "output_type": "stream",
     "text": [
      "2\n",
      "8\n",
      "14\n",
      "You have reach your limit\n"
     ]
    }
   ],
   "source": [
    "x = 1\n",
    "while x < 10:\n",
    "    print (x*2)\n",
    "    x = x + 3\n",
    "print \"You have reach your limit\""
   ]
  },
  {
   "cell_type": "code",
   "execution_count": 132,
   "metadata": {},
   "outputs": [
    {
     "name": "stdout",
     "output_type": "stream",
     "text": [
      "      Fruit  Per L/B\n",
      "0     Apple     1.49\n",
      "1    Orange     1.59\n",
      "2      Kiwi     2.99\n",
      "3    Grapes     2.59\n",
      "4  Avocados     3.99\n"
     ]
    }
   ],
   "source": [
    "price = {'Fruit': ['Apple', 'Orange', 'Kiwi', 'Grapes', 'Avocados'],'Per L/B' : [1.49, 1.59, 2.99, 2.59, 3.99]}\n",
    "count = pd.DataFrame(price)\n",
    "print count"
   ]
  },
  {
   "cell_type": "code",
   "execution_count": 133,
   "metadata": {},
   "outputs": [
    {
     "name": "stdout",
     "output_type": "stream",
     "text": [
      "\n",
      "Employee preformance report\n",
      "\n",
      "       David  John  Peter\n",
      "Date                     \n",
      "11-09    150   120     60\n",
      "11-10    110     0     38\n",
      "11-11     25    35    150\n",
      "11-12     61    59     89\n",
      "11-13     68    80    130\n"
     ]
    }
   ],
   "source": [
    "start = datetime.datetime(2017,11,9)\n",
    "end = datetime.datetime(2017,11,14)\n",
    "step = datetime.timedelta(days=1)\n",
    "dates = []\n",
    "while start < end:\n",
    "    dates.append(start.strftime('%m-%d'))\n",
    "    start += step\n",
    "x = {'Date': dates, 'David' : [150,110,25,61,68], 'John': [120,0,35,59,80], 'Peter':[60,38,150,89,130]}\n",
    "emp = pd.DataFrame(x)\n",
    "print '\\nEmployee preformance report\\n'\n",
    "print emp.set_index('Date')"
   ]
  }
 ],
 "metadata": {
  "kernelspec": {
   "display_name": "Python 2",
   "language": "python",
   "name": "python2"
  },
  "language_info": {
   "codemirror_mode": {
    "name": "ipython",
    "version": 2
   },
   "file_extension": ".py",
   "mimetype": "text/x-python",
   "name": "python",
   "nbconvert_exporter": "python",
   "pygments_lexer": "ipython2",
   "version": "2.7.13"
  }
 },
 "nbformat": 4,
 "nbformat_minor": 2
}
