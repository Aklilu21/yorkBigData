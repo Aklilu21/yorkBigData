{
 "cells": [
  {
   "cell_type": "markdown",
   "metadata": {},
   "source": [
    "## Introduction to Big Data Midterm"
   ]
  },
  {
   "cell_type": "markdown",
   "metadata": {},
   "source": [
    "Assign date: 2017-12-03\n",
    "\n",
    "Due date: 2017-12-16 11:59pm\n",
    "\n",
    "Please submit only one copy of your Jupyter Notebook file with your answers for each question provided in the following cells below to Moodle. There will be no extensions or excemptions. \n",
    "\n",
    "You will lose 15% each day your submission is late. \n",
    "\n",
    "Please do not post any answers to the general question forum. You can however ask for technical help on the course page if you are having actualy technical issues. I reserve the right to delete any question/response that I deem being too much \"begging for hints\" in nature. You may email me directly at mtenney@yorku.ca if you have any questions, but do note I will not provide you any answers and my response may take up to 48hrs. And of course, you're free to use any class material, the Internet, or additional resources to complete the exam. The exam covers material from weeks 1-4 inclusively.\n",
    "\n",
    "Note you MUST RUN THE CODE and print out the required results when submitting. Any empty cells or un-run code will not be accepted. "
   ]
  },
  {
   "cell_type": "markdown",
   "metadata": {},
   "source": [
    "\n",
    "**1) Import the following libraries to your notebook (you can use alias' if you want) in the cell below:**<br/>\n",
    "    pandas,\n",
    "    seaborn,\n",
    "    os,\n",
    "    matplotlib.pyplot<br/>\n",
    "**And** add the following flag: \n",
    "    %matplotlib inline"
   ]
  },
  {
   "cell_type": "code",
   "execution_count": 81,
   "metadata": {
    "collapsed": true
   },
   "outputs": [],
   "source": [
    "import pandas as pd\n",
    "import seaborn as snsr\n",
    "import os\n",
    "import matplotlib.pyplot as plt\n",
    "%matplotlib inline"
   ]
  },
  {
   "cell_type": "markdown",
   "metadata": {},
   "source": [
    "**2) Index a list in Python**<br/>\n",
    "Run the code below, it will give a result of 4. If we want to get ONLY the number 8 from the list of lists below, how would you alter the code? Alter the code directly and run to print the desired output. "
   ]
  },
  {
   "cell_type": "code",
   "execution_count": 82,
   "metadata": {},
   "outputs": [
    {
     "name": "stdout",
     "output_type": "stream",
     "text": [
      "8\n"
     ]
    }
   ],
   "source": [
    "question2 = [[1,2],[3,4],[5,6],[7,[8,9]]]\n",
    "mylist1 = question2[3][1]\n",
    "print mylist1[0]"
   ]
  },
  {
   "cell_type": "markdown",
   "metadata": {},
   "source": [
    "**3) Define a variable called bigdata, to be a list in python with the following elements and print only the last two elements of the list:**<br/> 1, \"Big Data Class\", 2, \"Is Really Fun\",3, \"I Love Python\""
   ]
  },
  {
   "cell_type": "code",
   "execution_count": 83,
   "metadata": {},
   "outputs": [
    {
     "name": "stdout",
     "output_type": "stream",
     "text": [
      "2    Is Really Fun\n",
      "3    I Love Python\n",
      "dtype: object\n"
     ]
    }
   ],
   "source": [
    "bigdata = pd.Series([\"\",\"Big Data Class\",\"Is Really Fun\",\"I Love Python\"])\n",
    "print bigdata.tail(2)"
   ]
  },
  {
   "cell_type": "markdown",
   "metadata": {},
   "source": [
    "**4) Cast the following list to be a string in Python:** <br/>\n",
    "Define the list [1,2,4,3,'k'] and cast it to a string where you print out '1243k'. Insert your code below."
   ]
  },
  {
   "cell_type": "code",
   "execution_count": 86,
   "metadata": {},
   "outputs": [
    {
     "name": "stdout",
     "output_type": "stream",
     "text": [
      "1243k\n"
     ]
    }
   ],
   "source": [
    "mylist2 = [1,2,4,3,'k']\n",
    "mylist3 = str(mylist2[0]) + str(mylist2[1]) + str(mylist2[2]) + str(mylist2[3]) + str(mylist2[4])\n",
    "print mylist3"
   ]
  },
  {
   "cell_type": "markdown",
   "metadata": {},
   "source": [
    "**5) Test whether the two lists are equal too each other and if not what elements are shared between the two lists.**<br/>\n",
    "<t/>list1 = ['1',2,'3',4,5]<br/>\n",
    "<t/>list2 = [1,2,3,4,'5',6]<br/>\n",
    "<br/>\n",
    "Define the lists and print whether the lists are equal to one another, and find which elements are a match. (***Hint you can go element by element or use you can use a \"for\" loop, or, you can use a different data structure all together***). \n"
   ]
  },
  {
   "cell_type": "code",
   "execution_count": 87,
   "metadata": {},
   "outputs": [
    {
     "name": "stdout",
     "output_type": "stream",
     "text": [
      "Are the lists equal (T/F)? False \n",
      "\n",
      "Matching Elements\n",
      "  List1 List2\n",
      "1     2     2\n",
      "3     4     4\n"
     ]
    }
   ],
   "source": [
    "list1 = ['1',2,'3',4,5]\n",
    "list2 = [1,2,3,4,'5',6]\n",
    "\n",
    "print \"Are the lists equal (T/F)?\", list1 == list2, \"\\n\"\n",
    "\n",
    "l1 = pd.Series(list1)\n",
    "l2 = pd.Series(list2)\n",
    "\n",
    "d = ({'List1':l1,'List2':l2})\n",
    "df1 = pd.DataFrame(d)\n",
    "\n",
    "print \"Matching Elements\"\n",
    "print df1[df1.List1 == df1.List2]"
   ]
  },
  {
   "cell_type": "markdown",
   "metadata": {},
   "source": [
    "**6) Test whether the two lists are equal too each other and if not what elements are shared between the two lists.**<br/>"
   ]
  },
  {
   "cell_type": "code",
   "execution_count": null,
   "metadata": {
    "collapsed": true
   },
   "outputs": [],
   "source": []
  },
  {
   "cell_type": "markdown",
   "metadata": {},
   "source": [
    "**7) What are the \"5 V's\" commonly used to describe Big Data?** Write your answer below."
   ]
  },
  {
   "cell_type": "code",
   "execution_count": 88,
   "metadata": {},
   "outputs": [
    {
     "name": "stdout",
     "output_type": "stream",
     "text": [
      "Volume\n",
      "Velocity\n",
      "Variety\n",
      "Veracity\n",
      "Value\n"
     ]
    }
   ],
   "source": [
    "print \"Volume\\nVelocity\\nVariety\\nVeracity\\nValue\""
   ]
  },
  {
   "cell_type": "markdown",
   "metadata": {},
   "source": [
    "\"**8) Finish the quote:**<br/> *\"All models are wrong. Some are [...]\"*"
   ]
  },
  {
   "cell_type": "code",
   "execution_count": 89,
   "metadata": {},
   "outputs": [
    {
     "name": "stdout",
     "output_type": "stream",
     "text": [
      " ... more useful than others.\n"
     ]
    }
   ],
   "source": [
    "print \" ... more useful than others.\""
   ]
  },
  {
   "cell_type": "markdown",
   "metadata": {},
   "source": [
    "**9) If a variable dogs = 103x23/2 and a variable cats = 10x12x4,  Use python to determing if dogs are greater than cats. **"
   ]
  },
  {
   "cell_type": "code",
   "execution_count": 90,
   "metadata": {},
   "outputs": [
    {
     "name": "stdout",
     "output_type": "stream",
     "text": [
      "True\n"
     ]
    }
   ],
   "source": [
    "dogs = 103*23/2\n",
    "cats = 10*12*4\n",
    "print dogs > cats"
   ]
  },
  {
   "cell_type": "markdown",
   "metadata": {},
   "source": [
    "**10) What is the name for the 3 primary measures of central tendency and give their definition** "
   ]
  },
  {
   "cell_type": "code",
   "execution_count": 91,
   "metadata": {},
   "outputs": [
    {
     "name": "stdout",
     "output_type": "stream",
     "text": [
      "Mean - Average Value\n",
      "Median - Middle Value\n",
      "Mode - Most Common Value\n"
     ]
    }
   ],
   "source": [
    "print \"Mean - Average Value\"\n",
    "print \"Median - Middle Value\"\n",
    "print \"Mode - Most Common Value\""
   ]
  },
  {
   "cell_type": "markdown",
   "metadata": {},
   "source": [
    "**11) Calculate the descriptive statistice for each of the above central measures in Python on this list of numbers and print out the values:**<br/> \n",
    "\n",
    "[12,44,23,2,1,66,7,85,3,34,23,6,34,23,7,21,14,34,23,88]\n",
    "<br/> \n",
    "*(Hint: it might be easier to import a function from some other library)*\n",
    "\n"
   ]
  },
  {
   "cell_type": "code",
   "execution_count": 92,
   "metadata": {},
   "outputs": [
    {
     "name": "stdout",
     "output_type": "stream",
     "text": [
      "Mean - 27.500000\n",
      "Median - 23.000000\n",
      "Mode - 23.000000\n",
      "\n",
      "Variance - 665.736842\n",
      "Standard Deviation - 25.801877\n",
      "Interquartile Range - 27.000000\n"
     ]
    }
   ],
   "source": [
    "import numpy as np\n",
    "import scipy\n",
    "from scipy.stats import iqr\n",
    "\n",
    "ds1 = [12,44,23,2,1,66,7,85,3,34,23,6,34,23,7,21,14,34,23,88]\n",
    "ds2 = pd.Series(ds1)\n",
    "\n",
    "print \"Mean - %f\" %np.mean(ds2)\n",
    "print \"Median - %f\" %np.median(ds2)\n",
    "print \"Mode - %f\" %ds2.mode()\n",
    "print \"\"\n",
    "print \"Variance - %f\" %ds2.var()\n",
    "print \"Standard Deviation - %f\" %ds2.std()\n",
    "print \"Interquartile Range - %f\" %iqr(ds2)"
   ]
  },
  {
   "cell_type": "markdown",
   "metadata": {},
   "source": [
    "**12) Delete the empty cell  between question 12 (this one) and Question 13 from the Jupyter notebook**"
   ]
  },
  {
   "cell_type": "markdown",
   "metadata": {},
   "source": [
    "**13) Create a list, called mylist, containing a sequential list of numbers that starts with 2 and stops at 1000, counting by 2's in Python**"
   ]
  },
  {
   "cell_type": "code",
   "execution_count": 93,
   "metadata": {},
   "outputs": [
    {
     "name": "stdout",
     "output_type": "stream",
     "text": [
      "0         2\n",
      "1         4\n",
      "2         6\n",
      "3         8\n",
      "4        10\n",
      "5        12\n",
      "6        14\n",
      "7        16\n",
      "8        18\n",
      "9        20\n",
      "10       22\n",
      "11       24\n",
      "12       26\n",
      "13       28\n",
      "14       30\n",
      "15       32\n",
      "16       34\n",
      "17       36\n",
      "18       38\n",
      "19       40\n",
      "20       42\n",
      "21       44\n",
      "22       46\n",
      "23       48\n",
      "24       50\n",
      "25       52\n",
      "26       54\n",
      "27       56\n",
      "28       58\n",
      "29       60\n",
      "       ... \n",
      "470     942\n",
      "471     944\n",
      "472     946\n",
      "473     948\n",
      "474     950\n",
      "475     952\n",
      "476     954\n",
      "477     956\n",
      "478     958\n",
      "479     960\n",
      "480     962\n",
      "481     964\n",
      "482     966\n",
      "483     968\n",
      "484     970\n",
      "485     972\n",
      "486     974\n",
      "487     976\n",
      "488     978\n",
      "489     980\n",
      "490     982\n",
      "491     984\n",
      "492     986\n",
      "493     988\n",
      "494     990\n",
      "495     992\n",
      "496     994\n",
      "497     996\n",
      "498     998\n",
      "499    1000\n",
      "Length: 500, dtype: int64\n"
     ]
    }
   ],
   "source": [
    "mylist = pd.Series(0)\n",
    "val = 2\n",
    "\n",
    "for i in range(500):\n",
    "     mylist[i] = val\n",
    "     val = val + 2   \n",
    "        \n",
    "print mylist"
   ]
  },
  {
   "cell_type": "markdown",
   "metadata": {},
   "source": [
    "**14) Is the sum of the first 50 elements in \"mylist\" greater than the last element of  \"mylist\"?**<br/> Use Python below to print out the answer. (mylist is defined in question 13). "
   ]
  },
  {
   "cell_type": "code",
   "execution_count": 94,
   "metadata": {},
   "outputs": [
    {
     "name": "stdout",
     "output_type": "stream",
     "text": [
      "Sum of the first 50 elements: 2550\n",
      "Value of the last element: 1000\n",
      "\n",
      "Is the sum of the first 50 elements greater than the value of the last element? \n",
      "\n",
      "True\n"
     ]
    }
   ],
   "source": [
    "sum1 = 0\n",
    "\n",
    "for i in range(50):\n",
    "    sum1 = sum1 + mylist[i]\n",
    "\n",
    "print \"Sum of the first 50 elements: %i\" %sum1\n",
    "print \"Value of the last element: %i\" %mylist[499]\n",
    "print \"\\nIs the sum of the first 50 elements greater than the value of the last element? \\n\" \n",
    "print sum1 > mylist[499]"
   ]
  },
  {
   "cell_type": "markdown",
   "metadata": {},
   "source": [
    "**15) What is the length of \"mylist\"?**"
   ]
  },
  {
   "cell_type": "code",
   "execution_count": 95,
   "metadata": {},
   "outputs": [
    {
     "name": "stdout",
     "output_type": "stream",
     "text": [
      "The length is 500\n"
     ]
    }
   ],
   "source": [
    "print \"The length is %i\" %len(mylist)"
   ]
  },
  {
   "cell_type": "markdown",
   "metadata": {},
   "source": [
    "**16) Create another list, called my2ndlist, containing a list of numbers starting at 1002 and stops at 1052,counting by 3's in Python. <br/>THEN concatenate my2ndlist with mylist into a new list called theMegaList.**<br/> Print theMegaList below."
   ]
  },
  {
   "cell_type": "code",
   "execution_count": 96,
   "metadata": {},
   "outputs": [
    {
     "name": "stdout",
     "output_type": "stream",
     "text": [
      "0         2\n",
      "1         4\n",
      "2         6\n",
      "3         8\n",
      "4        10\n",
      "5        12\n",
      "6        14\n",
      "7        16\n",
      "8        18\n",
      "9        20\n",
      "10       22\n",
      "11       24\n",
      "12       26\n",
      "13       28\n",
      "14       30\n",
      "15       32\n",
      "16       34\n",
      "17       36\n",
      "18       38\n",
      "19       40\n",
      "20       42\n",
      "21       44\n",
      "22       46\n",
      "23       48\n",
      "24       50\n",
      "25       52\n",
      "26       54\n",
      "27       56\n",
      "28       58\n",
      "29       60\n",
      "       ... \n",
      "487     976\n",
      "488     978\n",
      "489     980\n",
      "490     982\n",
      "491     984\n",
      "492     986\n",
      "493     988\n",
      "494     990\n",
      "495     992\n",
      "496     994\n",
      "497     996\n",
      "498     998\n",
      "499    1000\n",
      "500    1002\n",
      "501    1005\n",
      "502    1008\n",
      "503    1011\n",
      "504    1014\n",
      "505    1017\n",
      "506    1020\n",
      "507    1023\n",
      "508    1026\n",
      "509    1029\n",
      "510    1032\n",
      "511    1035\n",
      "512    1038\n",
      "513    1041\n",
      "514    1044\n",
      "515    1047\n",
      "516    1050\n",
      "Length: 517, dtype: int64\n"
     ]
    }
   ],
   "source": [
    "temp1 = [1002,1005,1008,1011,1014,1017,1020,1023,1026,1029,1032,1035,1038,1041,1044,1047,1050]\n",
    "temp2 = [500,501,502,503,504,505,506,507,508,509,510,511,512,513,514,515,516]\n",
    "my2ndlist = pd.Series(temp1,temp2)\n",
    "        \n",
    "theMegaList = pd.concat([mylist, my2ndlist])\n",
    "print theMegaList"
   ]
  },
  {
   "cell_type": "markdown",
   "metadata": {},
   "source": [
    "**17) What is the index for the value 822 in theMegaList?**"
   ]
  },
  {
   "cell_type": "code",
   "execution_count": 97,
   "metadata": {},
   "outputs": [
    {
     "name": "stdout",
     "output_type": "stream",
     "text": [
      "Int64Index([410], dtype='int64')\n",
      "\n",
      "or\n",
      "\n",
      "410    822\n",
      "dtype: int64\n"
     ]
    }
   ],
   "source": [
    "print theMegaList.index[theMegaList==822]\n",
    "\n",
    "#or\n",
    "print \"\\nor\\n\"\n",
    "\n",
    "print theMegaList[theMegaList==822]"
   ]
  },
  {
   "cell_type": "markdown",
   "metadata": {},
   "source": [
    "**18) Write a for loop that will test if an element in theMegaList is an even or odd number and keeps a count of how many of each there are in the list.**<br/> Print out the total number of even and odd numbers found in theMegalist below. "
   ]
  },
  {
   "cell_type": "code",
   "execution_count": 98,
   "metadata": {},
   "outputs": [
    {
     "name": "stdout",
     "output_type": "stream",
     "text": [
      "Total Even: 509\n",
      "Total Odd: 8\n"
     ]
    }
   ],
   "source": [
    "cnt_even = 0\n",
    "cnt_odd = 0\n",
    "tally = 0\n",
    "\n",
    "for i in range(517):\n",
    "    tally = theMegaList[i]\n",
    "    if tally % 2 == 0:\n",
    "        cnt_even = cnt_even + 1\n",
    "    else:\n",
    "        cnt_odd = cnt_odd + 1\n",
    "\n",
    "print \"Total Even: %i\" %cnt_even\n",
    "print \"Total Odd: %i\" %cnt_odd"
   ]
  },
  {
   "cell_type": "markdown",
   "metadata": {},
   "source": [
    "**19) Write a brief definition of what Data Latency and the difference between \"real-time\" and \"near-time\" data.**"
   ]
  },
  {
   "cell_type": "code",
   "execution_count": 99,
   "metadata": {},
   "outputs": [
    {
     "name": "stdout",
     "output_type": "stream",
     "text": [
      "Data Latency describes how frequently data is updated and the time delay that exists between an actual event occurring and the related data base being made aware of the occurrence.\n",
      "\n",
      "Real Time Data = Describes the condition when there is a small amount of time between an event and the data  being updated to reflect it (low latency).\n",
      "\n",
      "Near Time Data - Describes the condition when the delay between the event and the data being updated is      larger and typically measured in hours or days (high latency).\n"
     ]
    }
   ],
   "source": [
    "print \"Data Latency describes how frequently data is updated and the time delay that exists between an actual event occurring and the related data base being made aware of the occurrence.\\n\"\n",
    "print \"Real Time Data = Describes the condition when there is a small amount of time between an event and the data  being updated to reflect it (low latency).\\n\"\n",
    "print \"Near Time Data - Describes the condition when the delay between the event and the data being updated is      larger and typically measured in hours or days (high latency).\""
   ]
  },
  {
   "cell_type": "markdown",
   "metadata": {},
   "source": [
    "**19) What does the statistic Standard Deviation tell you about a numerical dataset? **"
   ]
  },
  {
   "cell_type": "code",
   "execution_count": 100,
   "metadata": {},
   "outputs": [
    {
     "name": "stdout",
     "output_type": "stream",
     "text": [
      "Standard Deviation describes and/or quantifies the amount of variation or dispersion of a numerical dataset.\n"
     ]
    }
   ],
   "source": [
    "print \"Standard Deviation describes and/or quantifies the amount of variation or dispersion of a numerical dataset.\""
   ]
  },
  {
   "cell_type": "markdown",
   "metadata": {},
   "source": [
    "**20) Suppose you have the following loop:**<br>\n",
    ">things = [1,2,3,5,6,7,8,9,10]<br>\n",
    ">previous_thing = 0<br>\n",
    ">for thing in things:<br>\n",
    ">>new_thing = thing * previous_thing<br>\n",
    ">>x = 3+previous_thing<br>\n",
    ">>previous_thing = thing<br>\n",
    "\n",
    "**At the end of the loop:**\n",
    ">**What does new_thing equal?**<br>\n",
    ">**What does x equal?**\n",
    "    \n",
    "    \n"
   ]
  },
  {
   "cell_type": "code",
   "execution_count": 101,
   "metadata": {},
   "outputs": [
    {
     "name": "stdout",
     "output_type": "stream",
     "text": [
      "new_thing = 90\n",
      "x = 12\n"
     ]
    }
   ],
   "source": [
    "things = [1,2,3,5,6,7,8,9,10]\n",
    "previous_thing = 0\n",
    "\n",
    "for thing in things:\n",
    "    new_thing = thing * previous_thing\n",
    "    x = 3 + previous_thing\n",
    "    previous_thing = thing\n",
    "\n",
    "print \"new_thing = %i\" %new_thing\n",
    "print \"x = %i\" %x"
   ]
  },
  {
   "cell_type": "markdown",
   "metadata": {},
   "source": [
    "**21) What's the difference between Zero and None or Null?** "
   ]
  },
  {
   "cell_type": "code",
   "execution_count": 102,
   "metadata": {},
   "outputs": [
    {
     "name": "stdout",
     "output_type": "stream",
     "text": [
      "Zero is a number. None/Null is not a number and could represent the absence of something(s) that may or not  be a number.\n"
     ]
    }
   ],
   "source": [
    "print \"Zero is a number. None/Null is not a number and could represent the absence of something(s) that may or not  be a number.\""
   ]
  },
  {
   "cell_type": "markdown",
   "metadata": {},
   "source": [
    "**22) In the following loop:**<br> \n",
    ">x = 1<br>\n",
    ">sure_thing = True<br>\n",
    ">while sure_thing:<br>\n",
    ">>x = x +100<br>\n",
    ">>if x < 20001: <br>\n",
    ">>>x = x-1<br>\n",
    ">>else: <br>\n",
    ">>>sure_thing = False<br>\n",
    "\n",
    "**What does x equal to make our sure_thing False? **\n",
    "        "
   ]
  },
  {
   "cell_type": "code",
   "execution_count": 135,
   "metadata": {},
   "outputs": [
    {
     "name": "stdout",
     "output_type": "stream",
     "text": [
      "To make our sure_thing False, x equals 20099\n"
     ]
    }
   ],
   "source": [
    "x = 1\n",
    "sure_thing = True\n",
    "\n",
    "while sure_thing:\n",
    "    x = x +100\n",
    "    if x < 20001:\n",
    "        x = x-1\n",
    "    else:\n",
    "        sure_thing = False\n",
    "        \n",
    "print \"To make our sure_thing False, x equals %i\" %x"
   ]
  },
  {
   "cell_type": "markdown",
   "metadata": {},
   "source": [
    "**Based on the DataFrame df and df1 defined below, add needed code to answer the following questions.**"
   ]
  },
  {
   "cell_type": "code",
   "execution_count": 105,
   "metadata": {
    "collapsed": true
   },
   "outputs": [],
   "source": [
    "from pandas import Series, DataFrame\n",
    "import pandas as pd\n",
    "raw_data = {'first_name': ['Jason', 'Jason', 'Tina', 'Jake', 'Amy'],\n",
    "        'last_name': ['Miller', 'Miller', 'Ali', 'Milner', 'Milner'],\n",
    "        'age': [42, 42, 36, 24, 73],\n",
    "        'preTest': [4, 4, 31, 2, 3],\n",
    "        'postTest': [25, 25, 57, 62, 70]}\n",
    "df = pd.DataFrame(raw_data, columns = ['first_name', 'last_name', 'age', 'preTest', 'postTest'])\n",
    "df1 = df"
   ]
  },
  {
   "cell_type": "markdown",
   "metadata": {},
   "source": [
    "**23) What are the column names in df1?print the result.**"
   ]
  },
  {
   "cell_type": "code",
   "execution_count": 106,
   "metadata": {},
   "outputs": [
    {
     "name": "stdout",
     "output_type": "stream",
     "text": [
      "The column names in df1 are ['first_name', 'last_name', 'age', 'preTest', 'postTest']\n"
     ]
    }
   ],
   "source": [
    "print \"The column names in df1 are %s\" %list(df1)"
   ]
  },
  {
   "cell_type": "markdown",
   "metadata": {},
   "source": [
    "**24) What is the average (mean) of the preTest and postTest scores?print the result. **"
   ]
  },
  {
   "cell_type": "code",
   "execution_count": 107,
   "metadata": {
    "scrolled": true
   },
   "outputs": [
    {
     "name": "stdout",
     "output_type": "stream",
     "text": [
      "preTest mean: 8.800000\n",
      "postTest mean 47.800000\n"
     ]
    }
   ],
   "source": [
    "print \"preTest mean: %f\" %df1[\"preTest\"].mean()\n",
    "print \"postTest mean %f\" %df1[\"postTest\"].mean()"
   ]
  },
  {
   "cell_type": "markdown",
   "metadata": {},
   "source": [
    "**25) Remove duplicated rows in df based on last_name only.  Instead of keeping the first value, now keep the last of the duplicated values.print the result.**"
   ]
  },
  {
   "cell_type": "code",
   "execution_count": 77,
   "metadata": {},
   "outputs": [
    {
     "name": "stdout",
     "output_type": "stream",
     "text": [
      "  first_name last_name  age  preTest  postTest\n",
      "1      Jason    Miller   42        4        25\n",
      "2       Tina       Ali   36       31        57\n",
      "4        Amy    Milner   73        3        70\n"
     ]
    }
   ],
   "source": [
    "print df1.drop_duplicates(subset=['last_name'], keep='last')"
   ]
  },
  {
   "cell_type": "markdown",
   "metadata": {},
   "source": [
    "**26) Remove duplicated rows in df1 based on both first_name and last_name.  print the result.**"
   ]
  },
  {
   "cell_type": "code",
   "execution_count": 78,
   "metadata": {},
   "outputs": [
    {
     "name": "stdout",
     "output_type": "stream",
     "text": [
      "  first_name last_name  age  preTest  postTest\n",
      "1      Jason    Miller   42        4        25\n",
      "2       Tina       Ali   36       31        57\n",
      "3       Jake    Milner   24        2        62\n",
      "4        Amy    Milner   73        3        70\n"
     ]
    }
   ],
   "source": [
    "print df1.drop_duplicates(subset=['first_name', 'last_name'], keep='last')"
   ]
  },
  {
   "cell_type": "markdown",
   "metadata": {},
   "source": [
    "***Use the dataframe defined in the following cell to answer the next few questions***: "
   ]
  },
  {
   "cell_type": "code",
   "execution_count": 109,
   "metadata": {},
   "outputs": [
    {
     "name": "stdout",
     "output_type": "stream",
     "text": [
      "            0         1         2         3\n",
      "0    0.496714 -0.138264  0.647689  1.523030\n",
      "1   -0.234153 -0.234137  1.579213  0.767435\n",
      "2   -0.469474  0.542560 -0.463418 -0.465730\n",
      "3    0.241962 -1.913280 -1.724918 -0.562288\n",
      "4   -1.012831  0.314247 -0.908024 -1.412304\n",
      "5    1.465649 -0.225776  0.067528 -1.424748\n",
      "6   -0.544383  0.110923 -1.150994  0.375698\n",
      "7   -0.600639 -0.291694 -0.601707  1.852278\n",
      "8   -0.013497 -1.057711  0.822545 -1.220844\n",
      "9    0.208864 -1.959670 -1.328186  0.196861\n",
      "10   0.738467  0.171368 -0.115648 -0.301104\n",
      "11  -1.478522 -0.719844 -0.460639  1.057122\n",
      "12   0.343618 -1.763040  0.324084 -0.385082\n",
      "13  -0.676922  0.611676  1.031000  0.931280\n",
      "14  -0.839218 -0.309212  0.331263  0.975545\n",
      "15  -0.479174 -0.185659 -1.106335 -1.196207\n",
      "16   0.812526  1.356240 -0.072010  1.003533\n",
      "17   0.361636 -0.645120  0.361396  1.538037\n",
      "18  -0.035826  1.564644 -2.619745  0.821903\n",
      "19   0.087047 -0.299007  0.091761 -1.987569\n",
      "20  -0.219672  0.357113  1.477894 -0.518270\n",
      "21  -0.808494 -0.501757  0.915402  0.328751\n",
      "22  -0.529760  0.513267  0.097078  0.968645\n",
      "23  -0.702053 -0.327662 -0.392108 -1.463515\n",
      "24   0.296120  0.261055  0.005113 -0.234587\n",
      "25  -1.415371 -0.420645 -0.342715 -0.802277\n",
      "26  -0.161286  0.404051  1.886186  0.174578\n",
      "27   0.257550 -0.074446 -1.918771 -0.026514\n",
      "28   0.060230  2.463242 -0.192361  0.301547\n",
      "29  -0.034712 -1.168678  1.142823  0.751933\n",
      "..        ...       ...       ...       ...\n",
      "370  0.722381 -0.372833  1.726964 -0.399636\n",
      "371  0.224685  0.932591 -1.418366 -1.760809\n",
      "372 -1.525656  1.262584 -0.551858  2.558199\n",
      "373 -0.564248  0.184551  1.542110  2.006093\n",
      "374  2.061504  1.208366  1.024063  0.592527\n",
      "375  0.778361 -0.551186 -0.818199 -0.003374\n",
      "376 -0.170185 -0.453228  0.696387  0.955305\n",
      "377  0.088407  1.477530 -1.141689 -0.193659\n",
      "378 -0.716822 -1.866537 -0.082681 -0.121748\n",
      "379  1.513450  0.630812 -1.024187  1.854093\n",
      "380  1.221034  0.582098 -0.226484 -0.959439\n",
      "381 -0.372207  1.088749  1.884586  1.543244\n",
      "382 -0.488849 -1.119617  0.140886 -1.768439\n",
      "383  0.323168 -0.147603 -0.466037 -1.594703\n",
      "384  0.513600 -0.532701 -1.169917 -2.872262\n",
      "385 -0.027515  1.772252  1.661259 -0.457096\n",
      "386 -0.602212  0.468774 -0.998385  0.301792\n",
      "387  0.766080  1.226933 -0.100154 -0.203674\n",
      "388 -0.877983 -0.826880 -0.226479  0.367366\n",
      "389  0.913585 -0.803179  1.492689 -0.271124\n",
      "390 -0.021367 -0.747212 -2.424240  0.884045\n",
      "391  0.736844 -0.281328  0.066991  0.515939\n",
      "392 -1.562546 -0.529053  0.794265 -1.254289\n",
      "393  0.293558 -1.356582  0.466430 -0.035641\n",
      "394 -1.615132  1.164739 -0.734592 -0.810252\n",
      "395  0.200569  1.148637 -1.015822  0.061680\n",
      "396  0.428817  0.693106  0.176442 -0.367028\n",
      "397 -0.827590  0.086144 -1.072139 -2.921350\n",
      "398  0.436560  0.903935 -2.362932 -1.009731\n",
      "399  0.619154  2.057495  0.020794 -0.728003\n",
      "\n",
      "[400 rows x 4 columns]\n"
     ]
    }
   ],
   "source": [
    "from pandas import Series, DataFrame\n",
    "import pandas as pd\n",
    "from numpy.random import randn\n",
    "import numpy as np\n",
    "%matplotlib inline\n",
    "np.random.seed(42)\n",
    "randomdata = DataFrame(np.random.randn(400, 4))\n",
    "print randomdata"
   ]
  },
  {
   "cell_type": "code",
   "execution_count": null,
   "metadata": {
    "collapsed": true
   },
   "outputs": [],
   "source": []
  },
  {
   "cell_type": "markdown",
   "metadata": {},
   "source": [
    "**27) Use the \"describe\" function to summarize the randomdata created above.**"
   ]
  },
  {
   "cell_type": "code",
   "execution_count": 110,
   "metadata": {},
   "outputs": [
    {
     "name": "stdout",
     "output_type": "stream",
     "text": [
      "                0           1           2           3\n",
      "count  400.000000  400.000000  400.000000  400.000000\n",
      "mean     0.035296    0.041202    0.046713    0.035939\n",
      "std      0.924153    1.028034    0.997816    1.024632\n",
      "min     -2.650970   -2.896255   -3.241267   -2.921350\n",
      "25%     -0.612942   -0.651856   -0.602684   -0.683766\n",
      "50%      0.052292    0.037928    0.036043    0.047190\n",
      "75%      0.634986    0.676014    0.652834    0.744011\n",
      "max      2.526932    3.852731    3.078881    2.720169\n"
     ]
    }
   ],
   "source": [
    "print randomdata.describe(include = 'all')"
   ]
  },
  {
   "cell_type": "markdown",
   "metadata": {},
   "source": [
    "**28) Identify the rows which contains at least one item with absolute value greater than 1**"
   ]
  },
  {
   "cell_type": "code",
   "execution_count": 111,
   "metadata": {},
   "outputs": [
    {
     "name": "stdout",
     "output_type": "stream",
     "text": [
      "            0         1         2         3\n",
      "0    0.496714 -0.138264  0.647689  1.523030\n",
      "1   -0.234153 -0.234137  1.579213  0.767435\n",
      "5    1.465649 -0.225776  0.067528 -1.424748\n",
      "7   -0.600639 -0.291694 -0.601707  1.852278\n",
      "11  -1.478522 -0.719844 -0.460639  1.057122\n",
      "13  -0.676922  0.611676  1.031000  0.931280\n",
      "16   0.812526  1.356240 -0.072010  1.003533\n",
      "17   0.361636 -0.645120  0.361396  1.538037\n",
      "18  -0.035826  1.564644 -2.619745  0.821903\n",
      "20  -0.219672  0.357113  1.477894 -0.518270\n",
      "26  -0.161286  0.404051  1.886186  0.174578\n",
      "28   0.060230  2.463242 -0.192361  0.301547\n",
      "29  -0.034712 -1.168678  1.142823  0.751933\n",
      "30   0.791032 -0.909387  1.402794 -1.401851\n",
      "31   0.586857  2.190456 -0.990536 -0.566298\n",
      "33  -1.062304  0.473592 -0.919424  1.549934\n",
      "35   0.227460  1.307143 -1.607483  0.184634\n",
      "39   1.865775  0.473833 -1.191303  0.656554\n",
      "40  -0.974682  0.787085  1.158596 -0.820682\n",
      "41   0.963376  0.412781  0.822060  1.896793\n",
      "44   0.013002  1.453534 -0.264657  2.720169\n",
      "50   0.357787  0.560785  1.083051  1.053802\n",
      "52   0.515048  3.852731  0.570891  1.135566\n",
      "55   2.314659 -1.867265  0.686260 -1.612716\n",
      "56  -0.471932  1.088951  0.064280 -1.077745\n",
      "58   0.045572 -0.651600  2.143944  0.633919\n",
      "62   1.765454  0.404982 -1.260884  0.917862\n",
      "63   2.122156  1.032465 -1.519370 -0.484234\n",
      "64   1.266911 -0.707669  0.443819  0.774634\n",
      "66  -0.252568 -1.247783  1.632411 -1.430141\n",
      "..        ...       ...       ...       ...\n",
      "348  2.013387  0.136535 -0.365322  0.184680\n",
      "349 -1.347126 -0.971614  1.200414 -0.656894\n",
      "350 -1.046911  0.536653  1.185704  0.718953\n",
      "351  0.996048 -0.756795 -1.421811  1.501334\n",
      "352 -0.322680 -0.250833  1.328194  0.556230\n",
      "353  0.455888  2.165002 -0.643518  0.927840\n",
      "354  0.057013  0.268592  1.528468  0.507836\n",
      "355  0.538296  1.072507 -0.364953 -0.839210\n",
      "356 -1.044809 -1.966357  2.056207 -1.103208\n",
      "359 -0.248691  1.607346  0.490975  0.734878\n",
      "360  0.662881  1.173474  0.181022 -1.296832\n",
      "362  1.238283  0.021272  0.308833  1.702215\n",
      "363  0.240753  2.601683  0.565510 -1.760763\n",
      "364  0.753342  0.381158  1.289753  0.673181\n",
      "366 -0.580523  0.588578  1.669905  0.394672\n",
      "367 -1.195883  0.444603  1.196631 -0.609783\n",
      "370  0.722381 -0.372833  1.726964 -0.399636\n",
      "372 -1.525656  1.262584 -0.551858  2.558199\n",
      "373 -0.564248  0.184551  1.542110  2.006093\n",
      "374  2.061504  1.208366  1.024063  0.592527\n",
      "377  0.088407  1.477530 -1.141689 -0.193659\n",
      "379  1.513450  0.630812 -1.024187  1.854093\n",
      "380  1.221034  0.582098 -0.226484 -0.959439\n",
      "381 -0.372207  1.088749  1.884586  1.543244\n",
      "385 -0.027515  1.772252  1.661259 -0.457096\n",
      "387  0.766080  1.226933 -0.100154 -0.203674\n",
      "389  0.913585 -0.803179  1.492689 -0.271124\n",
      "394 -1.615132  1.164739 -0.734592 -0.810252\n",
      "395  0.200569  1.148637 -1.015822  0.061680\n",
      "399  0.619154  2.057495  0.020794 -0.728003\n",
      "\n",
      "[207 rows x 4 columns]\n"
     ]
    }
   ],
   "source": [
    "print randomdata[(randomdata[0] > 1) | (randomdata[1] > 1) | (randomdata[2] > 1) | (randomdata[3] > 1)]"
   ]
  },
  {
   "cell_type": "markdown",
   "metadata": {},
   "source": [
    "**29) Set the values greater than 3 to 3, and the values less than -3 to -3.  Rerun the 'describe' function to summarize \n",
    "the randomdata dataset.**"
   ]
  },
  {
   "cell_type": "code",
   "execution_count": 112,
   "metadata": {},
   "outputs": [
    {
     "name": "stdout",
     "output_type": "stream",
     "text": [
      "                0           1           2           3\n",
      "count  400.000000  400.000000  400.000000  400.000000\n",
      "mean     0.042384    0.038441    0.053191    0.040362\n",
      "std      0.957875    1.042732    1.005859    1.052710\n",
      "min     -3.000000   -3.000000   -3.000000   -3.000000\n",
      "25%     -0.612942   -0.658758   -0.602684   -0.683766\n",
      "50%      0.052292    0.037928    0.036043    0.047190\n",
      "75%      0.645403    0.680073    0.662339    0.744011\n",
      "max      3.000000    3.000000    3.000000    3.000000\n"
     ]
    }
   ],
   "source": [
    "randomdata[randomdata[0] > 3] = 3\n",
    "randomdata[randomdata[1] > 3] = 3\n",
    "randomdata[randomdata[2] > 3] = 3\n",
    "randomdata[randomdata[3] > 3] = 3\n",
    "\n",
    "randomdata[randomdata[0] < -3] = -3\n",
    "randomdata[randomdata[1] < -3] = -3\n",
    "randomdata[randomdata[2] < -3] = -3\n",
    "randomdata[randomdata[3] < -3] = -3\n",
    "\n",
    "print randomdata.describe(include = 'all')"
   ]
  },
  {
   "cell_type": "markdown",
   "metadata": {},
   "source": [
    "***Use the dataframe defined in the following cell to answer the next few questions***: "
   ]
  },
  {
   "cell_type": "code",
   "execution_count": 113,
   "metadata": {
    "scrolled": true
   },
   "outputs": [
    {
     "name": "stdout",
     "output_type": "stream",
     "text": [
      "             GrossIn  GrossOut     NetIn    NetOut\n",
      "2015-11-29 -0.182896  1.374876 -0.645964 -0.799192\n",
      "2015-12-06 -0.482744 -0.953329  0.122670  1.624678\n",
      "2015-12-13  0.323079 -0.252354 -0.291811 -1.563191\n",
      "2015-12-20  0.883110 -0.077837 -0.180480  3.193108\n",
      "2015-12-27  0.298753 -0.751791 -0.426358  1.148446\n",
      "2016-01-03  0.113270 -1.438278  0.919229 -0.668144\n",
      "2016-01-10  1.873298  1.080048 -0.447322  1.281016\n",
      "2016-01-17  0.067856  0.852774  0.484733 -0.846357\n",
      "2016-01-24 -0.643550  1.029961 -0.334775 -0.403648\n",
      "2016-01-31 -0.955123  0.423599  2.062525 -1.067533\n",
      "2016-02-07  0.024219  1.412221 -0.079641  0.452372\n",
      "2016-02-14 -1.062394  0.428307 -0.187144  0.985730\n",
      "2016-02-21  1.187386  2.589564  0.579633  0.325796\n",
      "2016-02-28  0.194384 -0.353166  0.338484 -0.295401\n",
      "2016-03-06  0.168461  1.317598 -1.006543  1.139879\n",
      "2016-03-13  1.317115 -0.118069 -2.121855 -0.607822\n",
      "2016-03-20  1.296995 -0.022868 -0.999302 -0.504775\n",
      "2016-03-27  0.840620  0.546734 -0.238932 -0.366824\n",
      "2016-04-03 -0.391758 -0.922410  1.615376 -0.322320\n",
      "2016-04-10  1.217159  1.521316  0.998311 -0.431620\n",
      "2016-04-17  0.403730 -0.024196 -0.903702  0.324359\n",
      "2016-04-24 -1.179040  1.187679 -0.464617  0.201160\n",
      "2016-05-01  0.283288 -0.258905  0.586694 -0.474904\n",
      "2016-05-08  0.871297 -1.345980  0.126380  1.938929\n",
      "2016-05-15 -1.000331 -0.677745  0.513908  0.179582\n",
      "2016-05-22  0.350630  0.489187  0.634721  1.109700\n",
      "2016-05-29  0.409819 -0.241258  0.672574  1.899882\n",
      "2016-06-05 -0.132634 -0.974529  1.107081 -0.120381\n",
      "2016-06-12 -2.172670  0.847422 -0.535328 -0.090533\n",
      "2016-06-19  0.331980  0.190500  0.709452 -0.435486\n",
      "2016-06-26  0.513106 -0.259547  0.738810  0.615367\n",
      "2016-07-03 -0.935439  1.085982 -0.535963  0.808058\n",
      "2016-07-10  0.367287  1.838184 -0.223466 -0.349317\n",
      "2016-07-17 -0.019420 -0.303180  0.799942 -1.616311\n",
      "2016-07-24 -1.053682 -1.067803  0.950308  1.710613\n",
      "2016-07-31 -0.104449 -0.168822  0.070052  1.161878\n",
      "2016-08-07 -0.927353  0.238369  0.975198  0.501094\n",
      "2016-08-14  0.189582  1.001046 -2.703232  0.677875\n",
      "2016-08-21 -0.654076 -1.830633  0.511203  1.373659\n",
      "2016-08-28 -0.137449  0.952875  1.612278  1.314914\n",
      "2016-09-04  1.639965  0.742127  0.075434 -1.601966\n",
      "2016-09-11 -0.246062 -0.843247  2.170943 -0.175886\n",
      "2016-09-18  0.123205  0.551485  0.043602  1.695051\n",
      "2016-09-25 -0.622649  0.194607 -0.742471 -1.320023\n",
      "2016-10-02 -0.611769 -0.037037 -0.429302 -0.692421\n",
      "2016-10-09 -1.406317 -0.083106 -1.504720  0.760056\n",
      "2016-10-16  0.082440 -1.457551 -0.309209 -0.752156\n",
      "2016-10-23  0.319175  1.340450 -1.875172  0.115026\n",
      "2016-10-30 -0.160133  0.671340  0.213197 -0.751969\n",
      "2016-11-06 -0.319054 -0.796026  1.076007  0.021312\n",
      "2016-11-13  1.901191 -0.060661 -0.708407 -1.513714\n",
      "2016-11-20 -1.803140 -1.584136  0.267127  0.508725\n",
      "2016-11-27 -1.581191  0.895038 -0.483061  0.146793\n",
      "2016-12-04  1.612221  0.896839 -0.268531 -0.891192\n",
      "2016-12-11 -2.151815 -0.719153 -0.211130 -0.987180\n",
      "2016-12-18 -0.131257  0.076852 -0.224856 -0.650003\n",
      "2016-12-25  0.168655  0.441941 -1.090399  1.410932\n",
      "2017-01-01 -0.098588  0.018850  0.708214  0.233216\n",
      "2017-01-08  0.953137  0.287124 -0.612437  0.361504\n"
     ]
    }
   ],
   "source": [
    "df2 = pd.DataFrame(np.random.randn(59,4))\n",
    "cols = ['GrossIn', 'GrossOut', 'NetIn', 'NetOut']\n",
    "df2.columns = cols\n",
    "dates = pd.date_range(start='2015-11-29', freq='W', periods=59)\n",
    "df2.index = dates\n",
    "print df2"
   ]
  },
  {
   "cell_type": "markdown",
   "metadata": {},
   "source": [
    "**30) Print all the data from 2016-06-19 to 2016-10-20 in df2 above.**"
   ]
  },
  {
   "cell_type": "code",
   "execution_count": 114,
   "metadata": {},
   "outputs": [
    {
     "name": "stdout",
     "output_type": "stream",
     "text": [
      "             GrossIn  GrossOut     NetIn    NetOut\n",
      "2016-06-19  0.331980  0.190500  0.709452 -0.435486\n",
      "2016-06-26  0.513106 -0.259547  0.738810  0.615367\n",
      "2016-07-03 -0.935439  1.085982 -0.535963  0.808058\n",
      "2016-07-10  0.367287  1.838184 -0.223466 -0.349317\n",
      "2016-07-17 -0.019420 -0.303180  0.799942 -1.616311\n",
      "2016-07-24 -1.053682 -1.067803  0.950308  1.710613\n",
      "2016-07-31 -0.104449 -0.168822  0.070052  1.161878\n",
      "2016-08-07 -0.927353  0.238369  0.975198  0.501094\n",
      "2016-08-14  0.189582  1.001046 -2.703232  0.677875\n",
      "2016-08-21 -0.654076 -1.830633  0.511203  1.373659\n",
      "2016-08-28 -0.137449  0.952875  1.612278  1.314914\n",
      "2016-09-04  1.639965  0.742127  0.075434 -1.601966\n",
      "2016-09-11 -0.246062 -0.843247  2.170943 -0.175886\n",
      "2016-09-18  0.123205  0.551485  0.043602  1.695051\n",
      "2016-09-25 -0.622649  0.194607 -0.742471 -1.320023\n",
      "2016-10-02 -0.611769 -0.037037 -0.429302 -0.692421\n",
      "2016-10-09 -1.406317 -0.083106 -1.504720  0.760056\n",
      "2016-10-16  0.082440 -1.457551 -0.309209 -0.752156\n"
     ]
    }
   ],
   "source": [
    "print df2[(df2.index > '2016-6-18') & (df2.index < '2016-10-21')]"
   ]
  },
  {
   "cell_type": "markdown",
   "metadata": {},
   "source": [
    "**31) What was the GrossIn and NetIn for 2016-09-18? Print the results. **"
   ]
  },
  {
   "cell_type": "code",
   "execution_count": 115,
   "metadata": {},
   "outputs": [
    {
     "name": "stdout",
     "output_type": "stream",
     "text": [
      "GrossIn    0.123205\n",
      "NetIn      0.043602\n",
      "Name: 2016-09-18 00:00:00, dtype: float64\n"
     ]
    }
   ],
   "source": [
    "print df2.loc['2016-09-18', [\"GrossIn\", \"NetIn\"]]"
   ]
  },
  {
   "cell_type": "markdown",
   "metadata": {},
   "source": [
    "**32) Sum all the GrossOut and NetOut for the month of March 2016 in df2. Print the results. **"
   ]
  },
  {
   "cell_type": "code",
   "execution_count": 118,
   "metadata": {},
   "outputs": [
    {
     "name": "stdout",
     "output_type": "stream",
     "text": [
      "Sum of GrossOut in March: 1.723395\n",
      "Sum of NetOut in March: -0.339543\n"
     ]
    }
   ],
   "source": [
    "df3 = df2[(df2.index >= '2016-3-1') & (df2.index <= '2016-3-31')]\n",
    "\n",
    "print \"Sum of GrossOut in March: %f\" %df3['GrossOut'].sum()\n",
    "print \"Sum of NetOut in March: %f\" %df3['NetOut'].sum()"
   ]
  },
  {
   "cell_type": "markdown",
   "metadata": {},
   "source": [
    "**33) Find all the days GrossOut was greater than GrossIn in df2. Print the results.**"
   ]
  },
  {
   "cell_type": "code",
   "execution_count": 119,
   "metadata": {},
   "outputs": [
    {
     "name": "stdout",
     "output_type": "stream",
     "text": [
      "            GrossOut   GrossIn\n",
      "2015-11-29  1.374876 -0.182896\n",
      "2016-01-17  0.852774  0.067856\n",
      "2016-01-24  1.029961 -0.643550\n",
      "2016-01-31  0.423599 -0.955123\n",
      "2016-02-07  1.412221  0.024219\n",
      "2016-02-14  0.428307 -1.062394\n",
      "2016-02-21  2.589564  1.187386\n",
      "2016-03-06  1.317598  0.168461\n",
      "2016-04-10  1.521316  1.217159\n",
      "2016-04-24  1.187679 -1.179040\n",
      "2016-05-15 -0.677745 -1.000331\n",
      "2016-05-22  0.489187  0.350630\n",
      "2016-06-12  0.847422 -2.172670\n",
      "2016-07-03  1.085982 -0.935439\n",
      "2016-07-10  1.838184  0.367287\n",
      "2016-08-07  0.238369 -0.927353\n",
      "2016-08-14  1.001046  0.189582\n",
      "2016-08-28  0.952875 -0.137449\n",
      "2016-09-18  0.551485  0.123205\n",
      "2016-09-25  0.194607 -0.622649\n",
      "2016-10-02 -0.037037 -0.611769\n",
      "2016-10-09 -0.083106 -1.406317\n",
      "2016-10-23  1.340450  0.319175\n",
      "2016-10-30  0.671340 -0.160133\n",
      "2016-11-20 -1.584136 -1.803140\n",
      "2016-11-27  0.895038 -1.581191\n",
      "2016-12-11 -0.719153 -2.151815\n",
      "2016-12-18  0.076852 -0.131257\n",
      "2016-12-25  0.441941  0.168655\n",
      "2017-01-01  0.018850 -0.098588\n"
     ]
    }
   ],
   "source": [
    "print df2.loc[df2['GrossOut'] > df2['GrossIn'], ['GrossOut', 'GrossIn']]"
   ]
  },
  {
   "cell_type": "markdown",
   "metadata": {},
   "source": [
    "**34) What percentage was the total NetOut of the total NetIn in the year 2016 from df2 above? **"
   ]
  },
  {
   "cell_type": "code",
   "execution_count": 120,
   "metadata": {},
   "outputs": [
    {
     "name": "stdout",
     "output_type": "stream",
     "text": [
      "Percentage of total NetOut of total NetIn in 2016: \n",
      "2.1230324323\n"
     ]
    }
   ],
   "source": [
    "df4 = df2[(df2.index >= '2016-1-1') & (df2.index <= '2016-12-31')]\n",
    "print \"Percentage of total NetOut of total NetIn in 2016: \" \n",
    "print df4['NetOut'].sum() / df4['NetIn'].sum()"
   ]
  },
  {
   "cell_type": "markdown",
   "metadata": {},
   "source": [
    "**35) Plot values for 2016 on a line graph for the GrossOut and GrossIn in df2:**"
   ]
  },
  {
   "cell_type": "code",
   "execution_count": 121,
   "metadata": {
    "scrolled": true
   },
   "outputs": [
    {
     "data": {
      "text/plain": [
       "<matplotlib.text.Text at 0x7f3b0f242e90>"
      ]
     },
     "execution_count": 121,
     "metadata": {},
     "output_type": "execute_result"
    },
    {
     "data": {
      "image/png": "[encoded data removed]",
      "text/plain": [
       "<matplotlib.figure.Figure at 0x7f3b0f211d90>"
      ]
     },
     "metadata": {},
     "output_type": "display_data"
    }
   ],
   "source": [
    "df5 = df4.loc[:, [\"GrossIn\", \"NetIn\"]]\n",
    "plt = df5.plot(kind='line')\n",
    "plt.set_title(\"Gross Value By Date - 2016\")\n",
    "plt.set_xlabel(\"Date\")\n",
    "plt.set_ylabel(\"Value\")"
   ]
  },
  {
   "cell_type": "markdown",
   "metadata": {},
   "source": [
    "**36) Plot 4 different HISTOGRAMS of df2.GrossIn each having 5,10,15,20 bins.**<br> \n",
    "Hint: use the following code  to plot the histograms on different subplots. <br> \n",
    "\n",
    "import matplotlib.pyplot as plt<br> \n",
    "fig, ax = plt.subplots(nrows=2, ncols=2)<br> \n",
    "dataframe.plot(ax=ax[0,0])# this is just an example of how to plot on a top right subplot (2x2)"
   ]
  },
  {
   "cell_type": "code",
   "execution_count": 122,
   "metadata": {},
   "outputs": [
    {
     "data": {
      "text/plain": [
       "array([<matplotlib.axes._subplots.AxesSubplot object at 0x7f3b0ef9c150>], dtype=object)"
      ]
     },
     "execution_count": 122,
     "metadata": {},
     "output_type": "execute_result"
    },
    {
     "data": {
      "image/png": "[encoded data removed]",
      "text/plain": [
       "<matplotlib.figure.Figure at 0x7f3b0f75dc50>"
      ]
     },
     "metadata": {},
     "output_type": "display_data"
    }
   ],
   "source": [
    "df6 = df2.loc[:, [\"GrossIn\"]]\n",
    "import matplotlib.pyplot as plt2\n",
    "fig, ax = plt2.subplots(nrows=2, ncols=2)\n",
    "df6.hist(ax=ax[0,0], bins=5)\n",
    "df6.hist(ax=ax[0,1], bins=10)\n",
    "df6.hist(ax=ax[1,0], bins=15)\n",
    "df6.hist(ax=ax[1,1], bins=20)"
   ]
  },
  {
   "cell_type": "markdown",
   "metadata": {},
   "source": [
    "**37) What is your favorite pizza topping? None is not a valid answer. I don't care if you are off gluten.**"
   ]
  },
  {
   "cell_type": "code",
   "execution_count": 125,
   "metadata": {},
   "outputs": [
    {
     "name": "stdout",
     "output_type": "stream",
     "text": [
      "It depends. Right now it's:\n",
      "\n",
      "Mushrooms\n",
      "\n",
      "(I wrote code that selects a random topping)\n"
     ]
    }
   ],
   "source": [
    "import numpy as np \n",
    "\n",
    "print \"It depends. Right now it's:\\n\"\n",
    "\n",
    "choice = np.random.randint(low=1, high=5, size=1)\n",
    "\n",
    "if choice == 1:\n",
    "    print \"Olives\"\n",
    "elif choice == 2: \n",
    "    print \"Mushrooms\"\n",
    "elif choice == 3:\n",
    "    print \"Green Peppers\"\n",
    "elif choice == 4:\n",
    "    print \"Pepperoni\"\n",
    "elif choice == 4:\n",
    "    print \"Onions\"\n",
    "\n",
    "print \"\"\n",
    "print \"(I wrote code that selects a random topping)\" "
   ]
  },
  {
   "cell_type": "markdown",
   "metadata": {},
   "source": [
    "**38) Import pandas libary with the alias pd**"
   ]
  },
  {
   "cell_type": "code",
   "execution_count": 126,
   "metadata": {
    "collapsed": true
   },
   "outputs": [],
   "source": [
    "import pandas as pd"
   ]
  },
  {
   "cell_type": "markdown",
   "metadata": {},
   "source": [
    "**39)You are given the Medicare spending dataset. Read it into a pandas dataframe. Then remove the 2 unused columns 'Measure Start Date' and 'Measure End Date' from the DataFrame all in the following cell. Provide your code as the answer. **\n",
    "\n",
    "***You need to put the data file ‘Medicare_Hospital_Spending_by_Claim.csv’ at the same place as your notebook file.***\n",
    "\n"
   ]
  },
  {
   "cell_type": "code",
   "execution_count": 127,
   "metadata": {
    "collapsed": true
   },
   "outputs": [],
   "source": [
    "df7 = pd.read_csv('Medicare_Hospital_Spending_by_Claim.csv')\n",
    "df7.drop('Measure Start Date', axis=1, inplace=True)\n",
    "df7.drop('Measure End Date', axis=1, inplace=True)"
   ]
  },
  {
   "cell_type": "markdown",
   "metadata": {},
   "source": [
    "**40) Replace columns names...replace the original long column names in the dataframe above (Q - 39) with shorter ones provided below in \"newColumns\".  Provide your code and the resulting new column names as the answer.**\n",
    "<br/>\n",
    "newColumns = ['Hospital', 'Provider ID', 'State', 'Period', 'Claim Type', 'Avg Spending Hospital', 'Avg Spending State', 'Avg Spending Nation', 'Percent Spending Hospital', 'Percent Spending State', 'Percent Spending Nation']"
   ]
  },
  {
   "cell_type": "code",
   "execution_count": 128,
   "metadata": {
    "collapsed": true
   },
   "outputs": [],
   "source": [
    "df7.rename(columns={'Hospital Name': 'Hospital', 'Provider Number': 'Provider ID', 'State': 'State', 'Period': 'Period', 'Claim Type': 'Claim Type', 'Avg Spending Per Episode (Hospital)': 'Avg Spending Hospital', 'Avg Spending Per Episode (State)': 'Avg Spending State', 'Avg Spending Per Episode (Nation)': 'Avg Spending Nation', 'Percent of Spending (Hospital)': 'Percent Spending Hospital', 'Percent of Spending (State)': 'Percent Spending State','Percent of Spending (Nation)': 'Percent Spending Nation'}, inplace=True)"
   ]
  },
  {
   "cell_type": "markdown",
   "metadata": {},
   "source": [
    "**41) Find the statistics of average (mean) and percentage spending for different states, claim types, and hospitals.  In the cell below using the same dataframe used in 39 and 40. Place your code and print your results in the cell below **"
   ]
  },
  {
   "cell_type": "code",
   "execution_count": 130,
   "metadata": {},
   "outputs": [
    {
     "name": "stdout",
     "output_type": "stream",
     "text": [
      "   State  Avg Spending State\n",
      "0     AK         1784.090909\n",
      "1     AL         1690.636364\n",
      "2     AR         1736.545455\n",
      "3     AZ         1798.227273\n",
      "4     CA         1879.090909\n",
      "5     CO         1863.954545\n",
      "6     CT         1836.409091\n",
      "7     DC         1839.590909\n",
      "8     DE         1839.590909\n",
      "9     FL         1836.818182\n",
      "10    GA         1765.818182\n",
      "11    HI         1686.000000\n",
      "12    IA         1708.681818\n",
      "13    ID         1815.363636\n",
      "14    IL         1836.590909\n",
      "15    IN         1840.136364\n",
      "16    KS         1824.318182\n",
      "17    KY         1723.318182\n",
      "18    LA         1859.909091\n",
      "19    MA         1804.909091\n",
      "20    ME         1715.500000\n",
      "21    MI         1790.045455\n",
      "22    MN         1763.545455\n",
      "23    MO         1790.954545\n",
      "24    MS         1723.454545\n",
      "25    MT         1743.954545\n",
      "26    NC         1747.954545\n",
      "27    ND         1845.272727\n",
      "28    NE         1891.636364\n",
      "29    NH         1788.590909\n",
      "30    NJ         1944.318182\n",
      "31    NM         1651.000000\n",
      "32    NV         2013.727273\n",
      "33    NY         1788.409091\n",
      "34    OH         1850.818182\n",
      "35    OK         1757.136364\n",
      "36    OR         1724.318182\n",
      "37    PA         1847.454545\n",
      "38    RI         1732.954545\n",
      "39    SC         1770.772727\n",
      "40    SD         1845.272727\n",
      "41    TN         1824.409091\n",
      "42    TX         1953.090909\n",
      "43    UT         1960.909091\n",
      "44    VA         1760.136364\n",
      "45    VT         1788.590909\n",
      "46    WA         1784.090909\n",
      "47    WI         1758.590909\n",
      "48    WV         1695.272727\n",
      "49    WY         1672.454545\n",
      "   State  Percent Spending State\n",
      "0     AK                9.089545\n",
      "1     AL                9.090909\n",
      "2     AR                9.090909\n",
      "3     AZ                9.090000\n",
      "4     CA                9.090909\n",
      "5     CO                9.091818\n",
      "6     CT                9.090455\n",
      "7     DC                9.090909\n",
      "8     DE                9.090909\n",
      "9     FL                9.091818\n",
      "10    GA                9.091364\n",
      "11    HI                9.090455\n",
      "12    IA                9.090909\n",
      "13    ID                9.090909\n",
      "14    IL                9.091818\n",
      "15    IN                9.090455\n",
      "16    KS                9.090000\n",
      "17    KY                9.090909\n",
      "18    LA                9.089545\n",
      "19    MA                9.091364\n",
      "20    ME                9.090909\n",
      "21    MI                9.090909\n",
      "22    MN                9.090000\n",
      "23    MO                9.091364\n",
      "24    MS                9.090455\n",
      "25    MT                9.090455\n",
      "26    NC                9.090909\n",
      "27    ND                9.090455\n",
      "28    NE                9.091818\n",
      "29    NH                9.090455\n",
      "30    NJ                9.090909\n",
      "31    NM                9.090455\n",
      "32    NV                9.090909\n",
      "33    NY                9.091818\n",
      "34    OH                9.090909\n",
      "35    OK                9.090909\n",
      "36    OR                9.090455\n",
      "37    PA                9.090909\n",
      "38    RI                9.090909\n",
      "39    SC                9.091364\n",
      "40    SD                9.090455\n",
      "41    TN                9.091364\n",
      "42    TX                9.090455\n",
      "43    UT                9.091364\n",
      "44    VA                9.091818\n",
      "45    VT                9.090455\n",
      "46    WA                9.089545\n",
      "47    WI                9.090909\n",
      "48    WV                9.090000\n",
      "49    WY                9.090909\n",
      "                  Claim Type  Avg Spending Nation\n",
      "0                    Carrier          1043.000000\n",
      "1  Durable Medical Equipment            44.666667\n",
      "2         Home Health Agency           261.333333\n",
      "3                    Hospice            39.666667\n",
      "4                  Inpatient          3926.000000\n",
      "5                 Outpatient           275.666667\n",
      "6   Skilled Nursing Facility          1084.333333\n",
      "7                      Total         20025.000000\n",
      "                  Claim Type  Percent Spending Nation\n",
      "0                    Carrier                 5.210000\n",
      "1  Durable Medical Equipment                 0.220000\n",
      "2         Home Health Agency                 1.306667\n",
      "3                    Hospice                 0.196667\n",
      "4                  Inpatient                19.606667\n",
      "5                 Outpatient                 1.373333\n",
      "6   Skilled Nursing Facility                 5.413333\n",
      "7                      Total               100.000000\n",
      "                                               Hospital  Avg Spending Hospital\n",
      "0                            ABBEVILLE GENERAL HOSPITAL            1563.818182\n",
      "1                          ABBOTT NORTHWESTERN HOSPITAL            1897.545455\n",
      "2                       ABILENE REGIONAL MEDICAL CENTER            1892.727273\n",
      "3                     ABINGTON HEALTH LANSDALE HOSPITAL            1699.181818\n",
      "4                            ABINGTON MEMORIAL HOSPITAL            1821.318182\n",
      "5                                 ABRAZO CENTRAL CAMPUS            1993.136364\n",
      "6                                ABRAZO MARYVALE CAMPUS            1534.409091\n",
      "7                              ABRAZO SCOTTSDALE CAMPUS            1625.045455\n",
      "8                                    ABRAZO WEST CAMPUS            1581.000000\n",
      "9                               ACADIA GENERAL HOSPITAL            1691.227273\n",
      "10                                        ACMH HOSPITAL            1718.545455\n",
      "11                  ACOMA-CANONCITO-LAGUNA IHS HOSPITAL             757.500000\n",
      "12                     ADCARE HOSPITAL OF WORCESTER INC             749.000000\n",
      "13                        ADENA REGIONAL MEDICAL CENTER            1769.772727\n",
      "14                            ADIRONDACK MEDICAL CENTER            1489.090909\n",
      "15                           ADVANCED SURGICAL HOSPITAL            2089.636364\n",
      "16                       ADVENTIST BOLINGBROOK HOSPITAL            1837.181818\n",
      "17                          ADVENTIST GLENOAKS HOSPITAL            1778.818182\n",
      "18                ADVENTIST LA GRANGE MEMORIAL HOSPITAL            2005.636364\n",
      "19                             ADVENTIST MEDICAL CENTER            1563.750000\n",
      "20                   ADVENTIST MEDICAL CENTER - REEDLEY            1121.772727\n",
      "21                      ADVOCATE BROMENN MEDICAL CENTER            1599.727273\n",
      "22            ADVOCATE CHRIST HOSPITAL & MEDICAL CENTER            2037.136364\n",
      "23                      ADVOCATE CONDELL MEDICAL CENTER            1893.045455\n",
      "24                     ADVOCATE GOOD SAMARITAN HOSPITAL            2013.590909\n",
      "25                      ADVOCATE GOOD SHEPHERD HOSPITAL            1895.045455\n",
      "26             ADVOCATE ILLINOIS MASONIC MEDICAL CENTER            1807.954545\n",
      "27                   ADVOCATE LUTHERAN GENERAL HOSPITAL            2045.727273\n",
      "28                     ADVOCATE SOUTH SUBURBAN HOSPITAL            1847.454545\n",
      "29                            ADVOCATE TRINITY HOSPITAL            1741.954545\n",
      "...                                                 ...                    ...\n",
      "3061                        WISE REGIONAL HEALTH SYSTEM            2068.681818\n",
      "3062                             WITHAM HEALTH SERVICES            1417.454545\n",
      "3063                      WOMAN'S CHRISTIAN ASSOCIATION            1554.090909\n",
      "3064                                   WOMAN'S HOSPITAL            1078.545455\n",
      "3065                       WOMANS HOSPITAL OF TEXAS,THE             982.136364\n",
      "3066         WOMEN AND INFANTS HOSPITAL OF RHODE ISLAND            1317.590909\n",
      "3067                               WOOD COUNTY HOSPITAL            1493.863636\n",
      "3068          WOODHULL MEDICAL AND MENTAL HEALTH CENTER            1448.545455\n",
      "3069                    WOODLAND HEIGHTS MEDICAL CENTER            1654.545455\n",
      "3070                         WOODLAND MEMORIAL HOSPITAL            1838.136364\n",
      "3071                              WOODS AT PARKSIDE,THE            1238.227273\n",
      "3072                         WOODWARD REGIONAL HOSPITAL            1245.500000\n",
      "3073                         WOOSTER COMMUNITY HOSPITAL            1522.090909\n",
      "3074                WUESTHOFF MEDICAL CENTER  ROCKLEDGE            1673.909091\n",
      "3075                                WUESTHOFF MELBOURNE            1768.500000\n",
      "3076                     WYCKOFF HEIGHTS MEDICAL CENTER            1606.772727\n",
      "3077                  WYOMING COUNTY COMMUNITY HOSPITAL            1297.590909\n",
      "3078                             WYOMING MEDICAL CENTER            1907.636364\n",
      "3079                    WYTHE COUNTY COMMUNITY HOSPITAL            1521.909091\n",
      "3080  YAKIMA HMA, INC. D/B/A YAKIMA REGIONAL MEDICAL...            1804.863636\n",
      "3081                    YAKIMA VALLEY MEMORIAL HOSPITAL            1659.272727\n",
      "3082                            YALE-NEW HAVEN HOSPITAL            1996.909091\n",
      "3083                         YALOBUSHA GENERAL HOSPITAL            1070.772727\n",
      "3084                        YAMPA VALLEY MEDICAL CENTER            1543.954545\n",
      "3085                    YAVAPAI REGIONAL MEDICAL CENTER            1728.227273\n",
      "3086        YAVAPAI REGIONAL MEDICAL CENTER-EAST CAMPUS            1482.954545\n",
      "3087                                      YORK HOSPITAL            1707.136364\n",
      "3088                 YUKON KUSKOKWIM DELTA REG HOSPITAL             752.136364\n",
      "3089                       YUMA REGIONAL MEDICAL CENTER            1801.409091\n",
      "3090         ZUNI COMPREHENSIVE COMMUNITY HEALTH CENTER            1054.000000\n",
      "\n",
      "[3091 rows x 2 columns]\n"
     ]
    },
    {
     "name": "stdout",
     "output_type": "stream",
     "text": [
      "                                               Hospital  \\\n",
      "0                            ABBEVILLE GENERAL HOSPITAL   \n",
      "1                          ABBOTT NORTHWESTERN HOSPITAL   \n",
      "2                       ABILENE REGIONAL MEDICAL CENTER   \n",
      "3                     ABINGTON HEALTH LANSDALE HOSPITAL   \n",
      "4                            ABINGTON MEMORIAL HOSPITAL   \n",
      "5                                 ABRAZO CENTRAL CAMPUS   \n",
      "6                                ABRAZO MARYVALE CAMPUS   \n",
      "7                              ABRAZO SCOTTSDALE CAMPUS   \n",
      "8                                    ABRAZO WEST CAMPUS   \n",
      "9                               ACADIA GENERAL HOSPITAL   \n",
      "10                                        ACMH HOSPITAL   \n",
      "11                  ACOMA-CANONCITO-LAGUNA IHS HOSPITAL   \n",
      "12                     ADCARE HOSPITAL OF WORCESTER INC   \n",
      "13                        ADENA REGIONAL MEDICAL CENTER   \n",
      "14                            ADIRONDACK MEDICAL CENTER   \n",
      "15                           ADVANCED SURGICAL HOSPITAL   \n",
      "16                       ADVENTIST BOLINGBROOK HOSPITAL   \n",
      "17                          ADVENTIST GLENOAKS HOSPITAL   \n",
      "18                ADVENTIST LA GRANGE MEMORIAL HOSPITAL   \n",
      "19                             ADVENTIST MEDICAL CENTER   \n",
      "20                   ADVENTIST MEDICAL CENTER - REEDLEY   \n",
      "21                      ADVOCATE BROMENN MEDICAL CENTER   \n",
      "22            ADVOCATE CHRIST HOSPITAL & MEDICAL CENTER   \n",
      "23                      ADVOCATE CONDELL MEDICAL CENTER   \n",
      "24                     ADVOCATE GOOD SAMARITAN HOSPITAL   \n",
      "25                      ADVOCATE GOOD SHEPHERD HOSPITAL   \n",
      "26             ADVOCATE ILLINOIS MASONIC MEDICAL CENTER   \n",
      "27                   ADVOCATE LUTHERAN GENERAL HOSPITAL   \n",
      "28                     ADVOCATE SOUTH SUBURBAN HOSPITAL   \n",
      "29                            ADVOCATE TRINITY HOSPITAL   \n",
      "...                                                 ...   \n",
      "3061                        WISE REGIONAL HEALTH SYSTEM   \n",
      "3062                             WITHAM HEALTH SERVICES   \n",
      "3063                      WOMAN'S CHRISTIAN ASSOCIATION   \n",
      "3064                                   WOMAN'S HOSPITAL   \n",
      "3065                       WOMANS HOSPITAL OF TEXAS,THE   \n",
      "3066         WOMEN AND INFANTS HOSPITAL OF RHODE ISLAND   \n",
      "3067                               WOOD COUNTY HOSPITAL   \n",
      "3068          WOODHULL MEDICAL AND MENTAL HEALTH CENTER   \n",
      "3069                    WOODLAND HEIGHTS MEDICAL CENTER   \n",
      "3070                         WOODLAND MEMORIAL HOSPITAL   \n",
      "3071                              WOODS AT PARKSIDE,THE   \n",
      "3072                         WOODWARD REGIONAL HOSPITAL   \n",
      "3073                         WOOSTER COMMUNITY HOSPITAL   \n",
      "3074                WUESTHOFF MEDICAL CENTER  ROCKLEDGE   \n",
      "3075                                WUESTHOFF MELBOURNE   \n",
      "3076                     WYCKOFF HEIGHTS MEDICAL CENTER   \n",
      "3077                  WYOMING COUNTY COMMUNITY HOSPITAL   \n",
      "3078                             WYOMING MEDICAL CENTER   \n",
      "3079                    WYTHE COUNTY COMMUNITY HOSPITAL   \n",
      "3080  YAKIMA HMA, INC. D/B/A YAKIMA REGIONAL MEDICAL...   \n",
      "3081                    YAKIMA VALLEY MEMORIAL HOSPITAL   \n",
      "3082                            YALE-NEW HAVEN HOSPITAL   \n",
      "3083                         YALOBUSHA GENERAL HOSPITAL   \n",
      "3084                        YAMPA VALLEY MEDICAL CENTER   \n",
      "3085                    YAVAPAI REGIONAL MEDICAL CENTER   \n",
      "3086        YAVAPAI REGIONAL MEDICAL CENTER-EAST CAMPUS   \n",
      "3087                                      YORK HOSPITAL   \n",
      "3088                 YUKON KUSKOKWIM DELTA REG HOSPITAL   \n",
      "3089                       YUMA REGIONAL MEDICAL CENTER   \n",
      "3090         ZUNI COMPREHENSIVE COMMUNITY HEALTH CENTER   \n",
      "\n",
      "      Percent Spending Hospital  \n",
      "0                      9.091364  \n",
      "1                      9.090000  \n",
      "2                      9.090909  \n",
      "3                      9.090455  \n",
      "4                      9.091364  \n",
      "5                      9.090455  \n",
      "6                      9.090455  \n",
      "7                      9.090909  \n",
      "8                      9.090455  \n",
      "9                      9.092273  \n",
      "10                     9.090909  \n",
      "11                     9.090455  \n",
      "12                     9.091364  \n",
      "13                     9.090909  \n",
      "14                     9.090909  \n",
      "15                     9.091364  \n",
      "16                     9.090909  \n",
      "17                     9.090000  \n",
      "18                     9.091364  \n",
      "19                     9.090909  \n",
      "20                     9.090909  \n",
      "21                     9.090909  \n",
      "22                     9.091818  \n",
      "23                     9.090909  \n",
      "24                     9.091818  \n",
      "25                     9.090455  \n",
      "26                     9.090455  \n",
      "27                     9.090909  \n",
      "28                     9.090455  \n",
      "29                     9.090909  \n",
      "...                         ...  \n",
      "3061                   9.090455  \n",
      "3062                   9.090909  \n",
      "3063                   9.090455  \n",
      "3064                   9.091364  \n",
      "3065                   9.090455  \n",
      "3066                   9.091364  \n",
      "3067                   9.091364  \n",
      "3068                   9.091364  \n",
      "3069                   9.090909  \n",
      "3070                   9.091364  \n",
      "3071                   9.090455  \n",
      "3072                   9.090909  \n",
      "3073                   9.090000  \n",
      "3074                   9.090909  \n",
      "3075                   9.090455  \n",
      "3076                   9.091818  \n",
      "3077                   9.090909  \n",
      "3078                   9.090000  \n",
      "3079                   9.089545  \n",
      "3080                   9.090000  \n",
      "3081                   9.090455  \n",
      "3082                   9.091364  \n",
      "3083                   9.090909  \n",
      "3084                   9.090909  \n",
      "3085                   9.091364  \n",
      "3086                   9.090909  \n",
      "3087                   9.091591  \n",
      "3088                   9.090909  \n",
      "3089                   9.090909  \n",
      "3090                   9.090909  \n",
      "\n",
      "[3091 rows x 2 columns]\n"
     ]
    }
   ],
   "source": [
    "print df7.groupby('State', as_index=False)['Avg Spending State'].mean()\n",
    "print df7.groupby('State', as_index=False)['Percent Spending State'].mean()\n",
    "print df7.groupby('Claim Type', as_index=False)['Avg Spending Nation'].mean()\n",
    "print df7.groupby('Claim Type', as_index=False)['Percent Spending Nation'].mean()\n",
    "print df7.groupby('Hospital', as_index=False)['Avg Spending Hospital'].mean()\n",
    "print df7.groupby('Hospital', as_index=False)['Percent Spending Hospital'].mean()\n"
   ]
  },
  {
   "cell_type": "markdown",
   "metadata": {},
   "source": [
    "**42) Continuing with data from above, convert the dataframe content to be the right \"data type\" (i.e., int, float, etc) in order to perform statistical calculations for the DataFrame.  Provide your code and the resulting new print out as the answer.**\n",
    "<br>\n",
    "***Hint convert the columns with % and $***"
   ]
  },
  {
   "cell_type": "code",
   "execution_count": 129,
   "metadata": {},
   "outputs": [
    {
     "data": {
      "text/plain": [
       "Hospital                      object\n",
       "Provider Number                int64\n",
       "State                         object\n",
       "Period                        object\n",
       "Claim Type                    object\n",
       "Avg Spending Hospital          int64\n",
       "Avg Spending State             int64\n",
       "Avg Spending Nation            int64\n",
       "Percent Spending Hospital    float64\n",
       "Percent Spending State       float64\n",
       "Percent Spending Nation      float64\n",
       "dtype: object"
      ]
     },
     "execution_count": 129,
     "metadata": {},
     "output_type": "execute_result"
    }
   ],
   "source": [
    "df7['Avg Spending Hospital'] = df7['Avg Spending Hospital'].str.replace('$', '').astype(int)\n",
    "df7['Avg Spending State'] = df7['Avg Spending State'].str.replace('$', '').astype(int)\n",
    "df7['Avg Spending Nation'] = df7['Avg Spending Nation'].str.replace('$', '').astype(int)\n",
    "df7['Percent Spending Hospital'] = df7['Percent Spending Hospital'].str.replace('%', '').astype(float)\n",
    "df7['Percent Spending State'] = df7['Percent Spending State'].str.replace('%', '').astype(float)\n",
    "df7['Percent Spending Nation'] = df7['Percent Spending Nation'].str.replace('%', '').astype(float)\n",
    "df7.dtypes"
   ]
  },
  {
   "cell_type": "markdown",
   "metadata": {},
   "source": [
    "**43) Continuing with the dataframe above, extract only the TX state claims into a new dataframe.  Provide your code and print the new dataframe (with only TX claims) below as the answer.**"
   ]
  },
  {
   "cell_type": "code",
   "execution_count": 131,
   "metadata": {},
   "outputs": [
    {
     "name": "stdout",
     "output_type": "stream",
     "text": [
      "                                       Hospital  Provider Number  State  \\\n",
      "58322              PROVIDENCE MEMORIAL HOSPITAL            450002    TX   \n",
      "58323              PROVIDENCE MEMORIAL HOSPITAL            450002    TX   \n",
      "58324              PROVIDENCE MEMORIAL HOSPITAL            450002    TX   \n",
      "58325              PROVIDENCE MEMORIAL HOSPITAL            450002    TX   \n",
      "58326              PROVIDENCE MEMORIAL HOSPITAL            450002    TX   \n",
      "58327              PROVIDENCE MEMORIAL HOSPITAL            450002    TX   \n",
      "58328              PROVIDENCE MEMORIAL HOSPITAL            450002    TX   \n",
      "58329              PROVIDENCE MEMORIAL HOSPITAL            450002    TX   \n",
      "58330              PROVIDENCE MEMORIAL HOSPITAL            450002    TX   \n",
      "58331              PROVIDENCE MEMORIAL HOSPITAL            450002    TX   \n",
      "58332              PROVIDENCE MEMORIAL HOSPITAL            450002    TX   \n",
      "58333              PROVIDENCE MEMORIAL HOSPITAL            450002    TX   \n",
      "58334              PROVIDENCE MEMORIAL HOSPITAL            450002    TX   \n",
      "58335              PROVIDENCE MEMORIAL HOSPITAL            450002    TX   \n",
      "58336              PROVIDENCE MEMORIAL HOSPITAL            450002    TX   \n",
      "58337              PROVIDENCE MEMORIAL HOSPITAL            450002    TX   \n",
      "58338              PROVIDENCE MEMORIAL HOSPITAL            450002    TX   \n",
      "58339              PROVIDENCE MEMORIAL HOSPITAL            450002    TX   \n",
      "58340              PROVIDENCE MEMORIAL HOSPITAL            450002    TX   \n",
      "58341              PROVIDENCE MEMORIAL HOSPITAL            450002    TX   \n",
      "58342              PROVIDENCE MEMORIAL HOSPITAL            450002    TX   \n",
      "58343              PROVIDENCE MEMORIAL HOSPITAL            450002    TX   \n",
      "58344  MEMORIAL HERMANN BAPTIST ORANGE HOSPITAL            450005    TX   \n",
      "58345  MEMORIAL HERMANN BAPTIST ORANGE HOSPITAL            450005    TX   \n",
      "58346  MEMORIAL HERMANN BAPTIST ORANGE HOSPITAL            450005    TX   \n",
      "58347  MEMORIAL HERMANN BAPTIST ORANGE HOSPITAL            450005    TX   \n",
      "58348  MEMORIAL HERMANN BAPTIST ORANGE HOSPITAL            450005    TX   \n",
      "58349  MEMORIAL HERMANN BAPTIST ORANGE HOSPITAL            450005    TX   \n",
      "58350  MEMORIAL HERMANN BAPTIST ORANGE HOSPITAL            450005    TX   \n",
      "58351  MEMORIAL HERMANN BAPTIST ORANGE HOSPITAL            450005    TX   \n",
      "...                                         ...               ...   ...   \n",
      "70568     BAY AREA REGIONAL MEDICAL CENTER, LLC            670096    TX   \n",
      "70569     BAY AREA REGIONAL MEDICAL CENTER, LLC            670096    TX   \n",
      "70570     BAY AREA REGIONAL MEDICAL CENTER, LLC            670096    TX   \n",
      "70571     BAY AREA REGIONAL MEDICAL CENTER, LLC            670096    TX   \n",
      "70572     BAY AREA REGIONAL MEDICAL CENTER, LLC            670096    TX   \n",
      "70573     BAY AREA REGIONAL MEDICAL CENTER, LLC            670096    TX   \n",
      "70574     BAY AREA REGIONAL MEDICAL CENTER, LLC            670096    TX   \n",
      "70575     BAY AREA REGIONAL MEDICAL CENTER, LLC            670096    TX   \n",
      "70576                  RESOLUTE HEALTH HOSPITAL            670098    TX   \n",
      "70577                  RESOLUTE HEALTH HOSPITAL            670098    TX   \n",
      "70578                  RESOLUTE HEALTH HOSPITAL            670098    TX   \n",
      "70579                  RESOLUTE HEALTH HOSPITAL            670098    TX   \n",
      "70580                  RESOLUTE HEALTH HOSPITAL            670098    TX   \n",
      "70581                  RESOLUTE HEALTH HOSPITAL            670098    TX   \n",
      "70582                  RESOLUTE HEALTH HOSPITAL            670098    TX   \n",
      "70583                  RESOLUTE HEALTH HOSPITAL            670098    TX   \n",
      "70584                  RESOLUTE HEALTH HOSPITAL            670098    TX   \n",
      "70585                  RESOLUTE HEALTH HOSPITAL            670098    TX   \n",
      "70586                  RESOLUTE HEALTH HOSPITAL            670098    TX   \n",
      "70587                  RESOLUTE HEALTH HOSPITAL            670098    TX   \n",
      "70588                  RESOLUTE HEALTH HOSPITAL            670098    TX   \n",
      "70589                  RESOLUTE HEALTH HOSPITAL            670098    TX   \n",
      "70590                  RESOLUTE HEALTH HOSPITAL            670098    TX   \n",
      "70591                  RESOLUTE HEALTH HOSPITAL            670098    TX   \n",
      "70592                  RESOLUTE HEALTH HOSPITAL            670098    TX   \n",
      "70593                  RESOLUTE HEALTH HOSPITAL            670098    TX   \n",
      "70594                  RESOLUTE HEALTH HOSPITAL            670098    TX   \n",
      "70595                  RESOLUTE HEALTH HOSPITAL            670098    TX   \n",
      "70596                  RESOLUTE HEALTH HOSPITAL            670098    TX   \n",
      "70597                  RESOLUTE HEALTH HOSPITAL            670098    TX   \n",
      "\n",
      "                                                  Period  \\\n",
      "58322      1 to 3 days Prior to Index Hospital Admission   \n",
      "58323      1 to 3 days Prior to Index Hospital Admission   \n",
      "58324      1 to 3 days Prior to Index Hospital Admission   \n",
      "58325      1 to 3 days Prior to Index Hospital Admission   \n",
      "58326      1 to 3 days Prior to Index Hospital Admission   \n",
      "58327      1 to 3 days Prior to Index Hospital Admission   \n",
      "58328      1 to 3 days Prior to Index Hospital Admission   \n",
      "58329                    During Index Hospital Admission   \n",
      "58330                    During Index Hospital Admission   \n",
      "58331                    During Index Hospital Admission   \n",
      "58332                    During Index Hospital Admission   \n",
      "58333                    During Index Hospital Admission   \n",
      "58334                    During Index Hospital Admission   \n",
      "58335                    During Index Hospital Admission   \n",
      "58336  1 through 30 days After Discharge from Index H...   \n",
      "58337  1 through 30 days After Discharge from Index H...   \n",
      "58338  1 through 30 days After Discharge from Index H...   \n",
      "58339  1 through 30 days After Discharge from Index H...   \n",
      "58340  1 through 30 days After Discharge from Index H...   \n",
      "58341  1 through 30 days After Discharge from Index H...   \n",
      "58342  1 through 30 days After Discharge from Index H...   \n",
      "58343                                   Complete Episode   \n",
      "58344      1 to 3 days Prior to Index Hospital Admission   \n",
      "58345      1 to 3 days Prior to Index Hospital Admission   \n",
      "58346      1 to 3 days Prior to Index Hospital Admission   \n",
      "58347      1 to 3 days Prior to Index Hospital Admission   \n",
      "58348      1 to 3 days Prior to Index Hospital Admission   \n",
      "58349      1 to 3 days Prior to Index Hospital Admission   \n",
      "58350      1 to 3 days Prior to Index Hospital Admission   \n",
      "58351                    During Index Hospital Admission   \n",
      "...                                                  ...   \n",
      "70568  1 through 30 days After Discharge from Index H...   \n",
      "70569  1 through 30 days After Discharge from Index H...   \n",
      "70570  1 through 30 days After Discharge from Index H...   \n",
      "70571  1 through 30 days After Discharge from Index H...   \n",
      "70572  1 through 30 days After Discharge from Index H...   \n",
      "70573  1 through 30 days After Discharge from Index H...   \n",
      "70574  1 through 30 days After Discharge from Index H...   \n",
      "70575                                   Complete Episode   \n",
      "70576      1 to 3 days Prior to Index Hospital Admission   \n",
      "70577      1 to 3 days Prior to Index Hospital Admission   \n",
      "70578      1 to 3 days Prior to Index Hospital Admission   \n",
      "70579      1 to 3 days Prior to Index Hospital Admission   \n",
      "70580      1 to 3 days Prior to Index Hospital Admission   \n",
      "70581      1 to 3 days Prior to Index Hospital Admission   \n",
      "70582      1 to 3 days Prior to Index Hospital Admission   \n",
      "70583                    During Index Hospital Admission   \n",
      "70584                    During Index Hospital Admission   \n",
      "70585                    During Index Hospital Admission   \n",
      "70586                    During Index Hospital Admission   \n",
      "70587                    During Index Hospital Admission   \n",
      "70588                    During Index Hospital Admission   \n",
      "70589                    During Index Hospital Admission   \n",
      "70590  1 through 30 days After Discharge from Index H...   \n",
      "70591  1 through 30 days After Discharge from Index H...   \n",
      "70592  1 through 30 days After Discharge from Index H...   \n",
      "70593  1 through 30 days After Discharge from Index H...   \n",
      "70594  1 through 30 days After Discharge from Index H...   \n",
      "70595  1 through 30 days After Discharge from Index H...   \n",
      "70596  1 through 30 days After Discharge from Index H...   \n",
      "70597                                   Complete Episode   \n",
      "\n",
      "                      Claim Type  Avg Spending Hospital  Avg Spending State  \\\n",
      "58322         Home Health Agency                     52                  23   \n",
      "58323                    Hospice                      0                   1   \n",
      "58324                  Inpatient                      2                   5   \n",
      "58325                 Outpatient                     80                 122   \n",
      "58326   Skilled Nursing Facility                      1                   3   \n",
      "58327  Durable Medical Equipment                      7                   9   \n",
      "58328                    Carrier                    487                 585   \n",
      "58329         Home Health Agency                      0                   0   \n",
      "58330                    Hospice                      0                   0   \n",
      "58331                  Inpatient                   7973                9227   \n",
      "58332                 Outpatient                      0                   0   \n",
      "58333   Skilled Nursing Facility                      0                   0   \n",
      "58334  Durable Medical Equipment                     20                  30   \n",
      "58335                    Carrier                   1549                1543   \n",
      "58336         Home Health Agency                    972                 858   \n",
      "58337                    Hospice                    169                 145   \n",
      "58338                  Inpatient                   3976                3975   \n",
      "58339                 Outpatient                    661                 710   \n",
      "58340   Skilled Nursing Facility                   2062                2903   \n",
      "58341  Durable Medical Equipment                    128                 114   \n",
      "58342                    Carrier                   1265                1231   \n",
      "58343                      Total                  19406               21484   \n",
      "58344         Home Health Agency                     56                  23   \n",
      "58345                    Hospice                      2                   1   \n",
      "58346                  Inpatient                      0                   5   \n",
      "58347                 Outpatient                      8                 122   \n",
      "58348   Skilled Nursing Facility                      3                   3   \n",
      "58349  Durable Medical Equipment                      1                   9   \n",
      "58350                    Carrier                    499                 585   \n",
      "58351         Home Health Agency                      0                   0   \n",
      "...                          ...                    ...                 ...   \n",
      "70568         Home Health Agency                    615                 858   \n",
      "70569                    Hospice                     25                 145   \n",
      "70570                  Inpatient                   5390                3975   \n",
      "70571                 Outpatient                    443                 710   \n",
      "70572   Skilled Nursing Facility                   2395                2903   \n",
      "70573  Durable Medical Equipment                     83                 114   \n",
      "70574                    Carrier                   1428                1231   \n",
      "70575                      Total                  20058               21484   \n",
      "70576         Home Health Agency                      0                  23   \n",
      "70577                    Hospice                      0                   1   \n",
      "70578                  Inpatient                      0                   5   \n",
      "70579                 Outpatient                     89                 122   \n",
      "70580   Skilled Nursing Facility                      0                   3   \n",
      "70581  Durable Medical Equipment                      0                   9   \n",
      "70582                    Carrier                    565                 585   \n",
      "70583         Home Health Agency                      0                   0   \n",
      "70584                    Hospice                      0                   0   \n",
      "70585                  Inpatient                   5693                9227   \n",
      "70586                 Outpatient                      0                   0   \n",
      "70587   Skilled Nursing Facility                      0                   0   \n",
      "70588  Durable Medical Equipment                     11                  30   \n",
      "70589                    Carrier                    581                1543   \n",
      "70590         Home Health Agency                   1305                 858   \n",
      "70591                    Hospice                      0                 145   \n",
      "70592                  Inpatient                   2738                3975   \n",
      "70593                 Outpatient                    817                 710   \n",
      "70594   Skilled Nursing Facility                   4539                2903   \n",
      "70595  Durable Medical Equipment                     61                 114   \n",
      "70596                    Carrier                   1168                1231   \n",
      "70597                      Total                  17568               21484   \n",
      "\n",
      "       Avg Spending Nation  Percent Spending Hospital  Percent Spending State  \\\n",
      "58322                   13                       0.27                    0.11   \n",
      "58323                    1                       0.00                    0.01   \n",
      "58324                    5                       0.01                    0.02   \n",
      "58325                  117                       0.41                    0.57   \n",
      "58326                    2                       0.01                    0.01   \n",
      "58327                    9                       0.04                    0.04   \n",
      "58328                  532                       2.51                    2.72   \n",
      "58329                    0                       0.00                    0.00   \n",
      "58330                    0                       0.00                    0.00   \n",
      "58331                 9108                      41.08                   42.95   \n",
      "58332                    0                       0.00                    0.00   \n",
      "58333                    0                       0.00                    0.00   \n",
      "58334                   24                       0.11                    0.14   \n",
      "58335                 1514                       7.98                    7.18   \n",
      "58336                  771                       5.01                    3.99   \n",
      "58337                  118                       0.87                    0.67   \n",
      "58338                 2665                      20.49                   18.50   \n",
      "58339                  710                       3.41                    3.31   \n",
      "58340                 3251                      10.62                   13.51   \n",
      "58341                  101                       0.66                    0.53   \n",
      "58342                 1083                       6.52                    5.73   \n",
      "58343                20025                     100.00                  100.00   \n",
      "58344                   13                       0.33                    0.11   \n",
      "58345                    1                       0.01                    0.01   \n",
      "58346                    5                       0.00                    0.02   \n",
      "58347                  117                       0.04                    0.57   \n",
      "58348                    2                       0.02                    0.01   \n",
      "58349                    9                       0.01                    0.04   \n",
      "58350                  532                       2.95                    2.72   \n",
      "58351                    0                       0.00                    0.00   \n",
      "...                    ...                        ...                     ...   \n",
      "70568                  771                       3.07                    3.99   \n",
      "70569                  118                       0.12                    0.67   \n",
      "70570                 2665                      26.87                   18.50   \n",
      "70571                  710                       2.21                    3.31   \n",
      "70572                 3251                      11.94                   13.51   \n",
      "70573                  101                       0.41                    0.53   \n",
      "70574                 1083                       7.12                    5.73   \n",
      "70575                20025                     100.00                  100.00   \n",
      "70576                   13                       0.00                    0.11   \n",
      "70577                    1                       0.00                    0.01   \n",
      "70578                    5                       0.00                    0.02   \n",
      "70579                  117                       0.51                    0.57   \n",
      "70580                    2                       0.00                    0.01   \n",
      "70581                    9                       0.00                    0.04   \n",
      "70582                  532                       3.22                    2.72   \n",
      "70583                    0                       0.00                    0.00   \n",
      "70584                    0                       0.00                    0.00   \n",
      "70585                 9108                      32.41                   42.95   \n",
      "70586                    0                       0.00                    0.00   \n",
      "70587                    0                       0.00                    0.00   \n",
      "70588                   24                       0.06                    0.14   \n",
      "70589                 1514                       3.31                    7.18   \n",
      "70590                  771                       7.43                    3.99   \n",
      "70591                  118                       0.00                    0.67   \n",
      "70592                 2665                      15.59                   18.50   \n",
      "70593                  710                       4.65                    3.31   \n",
      "70594                 3251                      25.83                   13.51   \n",
      "70595                  101                       0.35                    0.53   \n",
      "70596                 1083                       6.65                    5.73   \n",
      "70597                20025                     100.00                  100.00   \n",
      "\n",
      "       Percent Spending Nation  \n",
      "58322                     0.07  \n",
      "58323                     0.00  \n",
      "58324                     0.03  \n",
      "58325                     0.58  \n",
      "58326                     0.01  \n",
      "58327                     0.04  \n",
      "58328                     2.66  \n",
      "58329                     0.00  \n",
      "58330                     0.00  \n",
      "58331                    45.48  \n",
      "58332                     0.00  \n",
      "58333                     0.00  \n",
      "58334                     0.12  \n",
      "58335                     7.56  \n",
      "58336                     3.85  \n",
      "58337                     0.59  \n",
      "58338                    13.31  \n",
      "58339                     3.54  \n",
      "58340                    16.23  \n",
      "58341                     0.50  \n",
      "58342                     5.41  \n",
      "58343                   100.00  \n",
      "58344                     0.07  \n",
      "58345                     0.00  \n",
      "58346                     0.03  \n",
      "58347                     0.58  \n",
      "58348                     0.01  \n",
      "58349                     0.04  \n",
      "58350                     2.66  \n",
      "58351                     0.00  \n",
      "...                        ...  \n",
      "70568                     3.85  \n",
      "70569                     0.59  \n",
      "70570                    13.31  \n",
      "70571                     3.54  \n",
      "70572                    16.23  \n",
      "70573                     0.50  \n",
      "70574                     5.41  \n",
      "70575                   100.00  \n",
      "70576                     0.07  \n",
      "70577                     0.00  \n",
      "70578                     0.03  \n",
      "70579                     0.58  \n",
      "70580                     0.01  \n",
      "70581                     0.04  \n",
      "70582                     2.66  \n",
      "70583                     0.00  \n",
      "70584                     0.00  \n",
      "70585                    45.48  \n",
      "70586                     0.00  \n",
      "70587                     0.00  \n",
      "70588                     0.12  \n",
      "70589                     7.56  \n",
      "70590                     3.85  \n",
      "70591                     0.59  \n",
      "70592                    13.31  \n",
      "70593                     3.54  \n",
      "70594                    16.23  \n",
      "70595                     0.50  \n",
      "70596                     5.41  \n",
      "70597                   100.00  \n",
      "\n",
      "[6490 rows x 11 columns]\n"
     ]
    }
   ],
   "source": [
    "df8 = df7[df7.State == 'TX']\n",
    "print df8"
   ]
  },
  {
   "cell_type": "markdown",
   "metadata": {},
   "source": [
    "**44) Using the dataframe from above (Q 42), find the average spending for each different TX hospitals groupedby each kind of  different claim types.  Provide your code and the resulting new print out as the answer. **"
   ]
  },
  {
   "cell_type": "code",
   "execution_count": 132,
   "metadata": {},
   "outputs": [
    {
     "name": "stdout",
     "output_type": "stream",
     "text": [
      "                                    Hospital  Provider Number  State  \\\n",
      "0           SOUTHEAST ALABAMA MEDICAL CENTER             10001    AL   \n",
      "1           SOUTHEAST ALABAMA MEDICAL CENTER             10001    AL   \n",
      "2           SOUTHEAST ALABAMA MEDICAL CENTER             10001    AL   \n",
      "3           SOUTHEAST ALABAMA MEDICAL CENTER             10001    AL   \n",
      "4           SOUTHEAST ALABAMA MEDICAL CENTER             10001    AL   \n",
      "5           SOUTHEAST ALABAMA MEDICAL CENTER             10001    AL   \n",
      "6           SOUTHEAST ALABAMA MEDICAL CENTER             10001    AL   \n",
      "7           SOUTHEAST ALABAMA MEDICAL CENTER             10001    AL   \n",
      "8           SOUTHEAST ALABAMA MEDICAL CENTER             10001    AL   \n",
      "9           SOUTHEAST ALABAMA MEDICAL CENTER             10001    AL   \n",
      "10          SOUTHEAST ALABAMA MEDICAL CENTER             10001    AL   \n",
      "11          SOUTHEAST ALABAMA MEDICAL CENTER             10001    AL   \n",
      "12          SOUTHEAST ALABAMA MEDICAL CENTER             10001    AL   \n",
      "13          SOUTHEAST ALABAMA MEDICAL CENTER             10001    AL   \n",
      "14          SOUTHEAST ALABAMA MEDICAL CENTER             10001    AL   \n",
      "15          SOUTHEAST ALABAMA MEDICAL CENTER             10001    AL   \n",
      "16          SOUTHEAST ALABAMA MEDICAL CENTER             10001    AL   \n",
      "17          SOUTHEAST ALABAMA MEDICAL CENTER             10001    AL   \n",
      "18          SOUTHEAST ALABAMA MEDICAL CENTER             10001    AL   \n",
      "19          SOUTHEAST ALABAMA MEDICAL CENTER             10001    AL   \n",
      "20          SOUTHEAST ALABAMA MEDICAL CENTER             10001    AL   \n",
      "21          SOUTHEAST ALABAMA MEDICAL CENTER             10001    AL   \n",
      "22                  MARSHALL MEDICAL CENTERS             10005    AL   \n",
      "23                  MARSHALL MEDICAL CENTERS             10005    AL   \n",
      "24                  MARSHALL MEDICAL CENTERS             10005    AL   \n",
      "25                  MARSHALL MEDICAL CENTERS             10005    AL   \n",
      "26                  MARSHALL MEDICAL CENTERS             10005    AL   \n",
      "27                  MARSHALL MEDICAL CENTERS             10005    AL   \n",
      "28                  MARSHALL MEDICAL CENTERS             10005    AL   \n",
      "29                  MARSHALL MEDICAL CENTERS             10005    AL   \n",
      "...                                      ...               ...   ...   \n",
      "70568  BAY AREA REGIONAL MEDICAL CENTER, LLC            670096    TX   \n",
      "70569  BAY AREA REGIONAL MEDICAL CENTER, LLC            670096    TX   \n",
      "70570  BAY AREA REGIONAL MEDICAL CENTER, LLC            670096    TX   \n",
      "70571  BAY AREA REGIONAL MEDICAL CENTER, LLC            670096    TX   \n",
      "70572  BAY AREA REGIONAL MEDICAL CENTER, LLC            670096    TX   \n",
      "70573  BAY AREA REGIONAL MEDICAL CENTER, LLC            670096    TX   \n",
      "70574  BAY AREA REGIONAL MEDICAL CENTER, LLC            670096    TX   \n",
      "70575  BAY AREA REGIONAL MEDICAL CENTER, LLC            670096    TX   \n",
      "70576               RESOLUTE HEALTH HOSPITAL            670098    TX   \n",
      "70577               RESOLUTE HEALTH HOSPITAL            670098    TX   \n",
      "70578               RESOLUTE HEALTH HOSPITAL            670098    TX   \n",
      "70579               RESOLUTE HEALTH HOSPITAL            670098    TX   \n",
      "70580               RESOLUTE HEALTH HOSPITAL            670098    TX   \n",
      "70581               RESOLUTE HEALTH HOSPITAL            670098    TX   \n",
      "70582               RESOLUTE HEALTH HOSPITAL            670098    TX   \n",
      "70583               RESOLUTE HEALTH HOSPITAL            670098    TX   \n",
      "70584               RESOLUTE HEALTH HOSPITAL            670098    TX   \n",
      "70585               RESOLUTE HEALTH HOSPITAL            670098    TX   \n",
      "70586               RESOLUTE HEALTH HOSPITAL            670098    TX   \n",
      "70587               RESOLUTE HEALTH HOSPITAL            670098    TX   \n",
      "70588               RESOLUTE HEALTH HOSPITAL            670098    TX   \n",
      "70589               RESOLUTE HEALTH HOSPITAL            670098    TX   \n",
      "70590               RESOLUTE HEALTH HOSPITAL            670098    TX   \n",
      "70591               RESOLUTE HEALTH HOSPITAL            670098    TX   \n",
      "70592               RESOLUTE HEALTH HOSPITAL            670098    TX   \n",
      "70593               RESOLUTE HEALTH HOSPITAL            670098    TX   \n",
      "70594               RESOLUTE HEALTH HOSPITAL            670098    TX   \n",
      "70595               RESOLUTE HEALTH HOSPITAL            670098    TX   \n",
      "70596               RESOLUTE HEALTH HOSPITAL            670098    TX   \n",
      "70597               RESOLUTE HEALTH HOSPITAL            670098    TX   \n",
      "\n",
      "                                                  Period  \\\n",
      "0          1 to 3 days Prior to Index Hospital Admission   \n",
      "1          1 to 3 days Prior to Index Hospital Admission   \n",
      "2          1 to 3 days Prior to Index Hospital Admission   \n",
      "3          1 to 3 days Prior to Index Hospital Admission   \n",
      "4          1 to 3 days Prior to Index Hospital Admission   \n",
      "5          1 to 3 days Prior to Index Hospital Admission   \n",
      "6          1 to 3 days Prior to Index Hospital Admission   \n",
      "7                        During Index Hospital Admission   \n",
      "8                        During Index Hospital Admission   \n",
      "9                        During Index Hospital Admission   \n",
      "10                       During Index Hospital Admission   \n",
      "11                       During Index Hospital Admission   \n",
      "12                       During Index Hospital Admission   \n",
      "13                       During Index Hospital Admission   \n",
      "14     1 through 30 days After Discharge from Index H...   \n",
      "15     1 through 30 days After Discharge from Index H...   \n",
      "16     1 through 30 days After Discharge from Index H...   \n",
      "17     1 through 30 days After Discharge from Index H...   \n",
      "18     1 through 30 days After Discharge from Index H...   \n",
      "19     1 through 30 days After Discharge from Index H...   \n",
      "20     1 through 30 days After Discharge from Index H...   \n",
      "21                                      Complete Episode   \n",
      "22         1 to 3 days Prior to Index Hospital Admission   \n",
      "23         1 to 3 days Prior to Index Hospital Admission   \n",
      "24         1 to 3 days Prior to Index Hospital Admission   \n",
      "25         1 to 3 days Prior to Index Hospital Admission   \n",
      "26         1 to 3 days Prior to Index Hospital Admission   \n",
      "27         1 to 3 days Prior to Index Hospital Admission   \n",
      "28         1 to 3 days Prior to Index Hospital Admission   \n",
      "29                       During Index Hospital Admission   \n",
      "...                                                  ...   \n",
      "70568  1 through 30 days After Discharge from Index H...   \n",
      "70569  1 through 30 days After Discharge from Index H...   \n",
      "70570  1 through 30 days After Discharge from Index H...   \n",
      "70571  1 through 30 days After Discharge from Index H...   \n",
      "70572  1 through 30 days After Discharge from Index H...   \n",
      "70573  1 through 30 days After Discharge from Index H...   \n",
      "70574  1 through 30 days After Discharge from Index H...   \n",
      "70575                                   Complete Episode   \n",
      "70576      1 to 3 days Prior to Index Hospital Admission   \n",
      "70577      1 to 3 days Prior to Index Hospital Admission   \n",
      "70578      1 to 3 days Prior to Index Hospital Admission   \n",
      "70579      1 to 3 days Prior to Index Hospital Admission   \n",
      "70580      1 to 3 days Prior to Index Hospital Admission   \n",
      "70581      1 to 3 days Prior to Index Hospital Admission   \n",
      "70582      1 to 3 days Prior to Index Hospital Admission   \n",
      "70583                    During Index Hospital Admission   \n",
      "70584                    During Index Hospital Admission   \n",
      "70585                    During Index Hospital Admission   \n",
      "70586                    During Index Hospital Admission   \n",
      "70587                    During Index Hospital Admission   \n",
      "70588                    During Index Hospital Admission   \n",
      "70589                    During Index Hospital Admission   \n",
      "70590  1 through 30 days After Discharge from Index H...   \n",
      "70591  1 through 30 days After Discharge from Index H...   \n",
      "70592  1 through 30 days After Discharge from Index H...   \n",
      "70593  1 through 30 days After Discharge from Index H...   \n",
      "70594  1 through 30 days After Discharge from Index H...   \n",
      "70595  1 through 30 days After Discharge from Index H...   \n",
      "70596  1 through 30 days After Discharge from Index H...   \n",
      "70597                                   Complete Episode   \n",
      "\n",
      "                      Claim Type  Avg Spending Hospital  Avg Spending State  \\\n",
      "0             Home Health Agency                     12                  14   \n",
      "1                        Hospice                      1                   1   \n",
      "2                      Inpatient                      6                   6   \n",
      "3                     Outpatient                    160                  85   \n",
      "4       Skilled Nursing Facility                      1                   2   \n",
      "5      Durable Medical Equipment                      6                   9   \n",
      "6                        Carrier                    462                 492   \n",
      "7             Home Health Agency                      0                   0   \n",
      "8                        Hospice                      0                   0   \n",
      "9                      Inpatient                   8981                8723   \n",
      "10                    Outpatient                      0                   0   \n",
      "11      Skilled Nursing Facility                      0                   0   \n",
      "12     Durable Medical Equipment                     27                  32   \n",
      "13                       Carrier                   1587                1435   \n",
      "14            Home Health Agency                    988                 898   \n",
      "15                       Hospice                    137                 141   \n",
      "16                     Inpatient                   2943                2607   \n",
      "17                    Outpatient                    654                 596   \n",
      "18      Skilled Nursing Facility                   1946                2437   \n",
      "19     Durable Medical Equipment                    141                 124   \n",
      "20                       Carrier                    974                 995   \n",
      "21                         Total                  19025               18597   \n",
      "22            Home Health Agency                     19                  14   \n",
      "23                       Hospice                      0                   1   \n",
      "24                     Inpatient                      0                   6   \n",
      "25                    Outpatient                     91                  85   \n",
      "26      Skilled Nursing Facility                      1                   2   \n",
      "27     Durable Medical Equipment                      6                   9   \n",
      "28                       Carrier                    446                 492   \n",
      "29            Home Health Agency                      0                   0   \n",
      "...                          ...                    ...                 ...   \n",
      "70568         Home Health Agency                    615                 858   \n",
      "70569                    Hospice                     25                 145   \n",
      "70570                  Inpatient                   5390                3975   \n",
      "70571                 Outpatient                    443                 710   \n",
      "70572   Skilled Nursing Facility                   2395                2903   \n",
      "70573  Durable Medical Equipment                     83                 114   \n",
      "70574                    Carrier                   1428                1231   \n",
      "70575                      Total                  20058               21484   \n",
      "70576         Home Health Agency                      0                  23   \n",
      "70577                    Hospice                      0                   1   \n",
      "70578                  Inpatient                      0                   5   \n",
      "70579                 Outpatient                     89                 122   \n",
      "70580   Skilled Nursing Facility                      0                   3   \n",
      "70581  Durable Medical Equipment                      0                   9   \n",
      "70582                    Carrier                    565                 585   \n",
      "70583         Home Health Agency                      0                   0   \n",
      "70584                    Hospice                      0                   0   \n",
      "70585                  Inpatient                   5693                9227   \n",
      "70586                 Outpatient                      0                   0   \n",
      "70587   Skilled Nursing Facility                      0                   0   \n",
      "70588  Durable Medical Equipment                     11                  30   \n",
      "70589                    Carrier                    581                1543   \n",
      "70590         Home Health Agency                   1305                 858   \n",
      "70591                    Hospice                      0                 145   \n",
      "70592                  Inpatient                   2738                3975   \n",
      "70593                 Outpatient                    817                 710   \n",
      "70594   Skilled Nursing Facility                   4539                2903   \n",
      "70595  Durable Medical Equipment                     61                 114   \n",
      "70596                    Carrier                   1168                1231   \n",
      "70597                      Total                  17568               21484   \n",
      "\n",
      "       Avg Spending Nation  Percent Spending Hospital  Percent Spending State  \\\n",
      "0                       13                       0.06                    0.07   \n",
      "1                        1                       0.01                    0.01   \n",
      "2                        5                       0.03                    0.03   \n",
      "3                      117                       0.84                    0.46   \n",
      "4                        2                       0.01                    0.01   \n",
      "5                        9                       0.03                    0.05   \n",
      "6                      532                       2.43                    2.65   \n",
      "7                        0                       0.00                    0.00   \n",
      "8                        0                       0.00                    0.00   \n",
      "9                     9108                      47.21                   46.91   \n",
      "10                       0                       0.00                    0.00   \n",
      "11                       0                       0.00                    0.00   \n",
      "12                      24                       0.14                    0.17   \n",
      "13                    1514                       8.34                    7.71   \n",
      "14                     771                       5.20                    4.83   \n",
      "15                     118                       0.72                    0.76   \n",
      "16                    2665                      15.47                   14.02   \n",
      "17                     710                       3.44                    3.20   \n",
      "18                    3251                      10.23                   13.10   \n",
      "19                     101                       0.74                    0.67   \n",
      "20                    1083                       5.12                    5.35   \n",
      "21                   20025                     100.00                  100.00   \n",
      "22                      13                       0.12                    0.07   \n",
      "23                       1                       0.00                    0.01   \n",
      "24                       5                       0.00                    0.03   \n",
      "25                     117                       0.55                    0.46   \n",
      "26                       2                       0.00                    0.01   \n",
      "27                       9                       0.03                    0.05   \n",
      "28                     532                       2.69                    2.65   \n",
      "29                       0                       0.00                    0.00   \n",
      "...                    ...                        ...                     ...   \n",
      "70568                  771                       3.07                    3.99   \n",
      "70569                  118                       0.12                    0.67   \n",
      "70570                 2665                      26.87                   18.50   \n",
      "70571                  710                       2.21                    3.31   \n",
      "70572                 3251                      11.94                   13.51   \n",
      "70573                  101                       0.41                    0.53   \n",
      "70574                 1083                       7.12                    5.73   \n",
      "70575                20025                     100.00                  100.00   \n",
      "70576                   13                       0.00                    0.11   \n",
      "70577                    1                       0.00                    0.01   \n",
      "70578                    5                       0.00                    0.02   \n",
      "70579                  117                       0.51                    0.57   \n",
      "70580                    2                       0.00                    0.01   \n",
      "70581                    9                       0.00                    0.04   \n",
      "70582                  532                       3.22                    2.72   \n",
      "70583                    0                       0.00                    0.00   \n",
      "70584                    0                       0.00                    0.00   \n",
      "70585                 9108                      32.41                   42.95   \n",
      "70586                    0                       0.00                    0.00   \n",
      "70587                    0                       0.00                    0.00   \n",
      "70588                   24                       0.06                    0.14   \n",
      "70589                 1514                       3.31                    7.18   \n",
      "70590                  771                       7.43                    3.99   \n",
      "70591                  118                       0.00                    0.67   \n",
      "70592                 2665                      15.59                   18.50   \n",
      "70593                  710                       4.65                    3.31   \n",
      "70594                 3251                      25.83                   13.51   \n",
      "70595                  101                       0.35                    0.53   \n",
      "70596                 1083                       6.65                    5.73   \n",
      "70597                20025                     100.00                  100.00   \n",
      "\n",
      "       Percent Spending Nation  \n",
      "0                         0.07  \n",
      "1                         0.00  \n",
      "2                         0.03  \n",
      "3                         0.58  \n",
      "4                         0.01  \n",
      "5                         0.04  \n",
      "6                         2.66  \n",
      "7                         0.00  \n",
      "8                         0.00  \n",
      "9                        45.48  \n",
      "10                        0.00  \n",
      "11                        0.00  \n",
      "12                        0.12  \n",
      "13                        7.56  \n",
      "14                        3.85  \n",
      "15                        0.59  \n",
      "16                       13.31  \n",
      "17                        3.54  \n",
      "18                       16.23  \n",
      "19                        0.50  \n",
      "20                        5.41  \n",
      "21                      100.00  \n",
      "22                        0.07  \n",
      "23                        0.00  \n",
      "24                        0.03  \n",
      "25                        0.58  \n",
      "26                        0.01  \n",
      "27                        0.04  \n",
      "28                        2.66  \n",
      "29                        0.00  \n",
      "...                        ...  \n",
      "70568                     3.85  \n",
      "70569                     0.59  \n",
      "70570                    13.31  \n",
      "70571                     3.54  \n",
      "70572                    16.23  \n",
      "70573                     0.50  \n",
      "70574                     5.41  \n",
      "70575                   100.00  \n",
      "70576                     0.07  \n",
      "70577                     0.00  \n",
      "70578                     0.03  \n",
      "70579                     0.58  \n",
      "70580                     0.01  \n",
      "70581                     0.04  \n",
      "70582                     2.66  \n",
      "70583                     0.00  \n",
      "70584                     0.00  \n",
      "70585                    45.48  \n",
      "70586                     0.00  \n",
      "70587                     0.00  \n",
      "70588                     0.12  \n",
      "70589                     7.56  \n",
      "70590                     3.85  \n",
      "70591                     0.59  \n",
      "70592                    13.31  \n",
      "70593                     3.54  \n",
      "70594                    16.23  \n",
      "70595                     0.50  \n",
      "70596                     5.41  \n",
      "70597                   100.00  \n",
      "\n",
      "[70598 rows x 11 columns]\n"
     ]
    }
   ],
   "source": [
    "df7.groupby(['Hospital','Claim Type'], as_index=False)['Avg Spending Hospital'].mean()\n",
    "print df7"
   ]
  },
  {
   "cell_type": "markdown",
   "metadata": {
    "collapsed": true
   },
   "source": [
    "**45) Continuing from above (Q 43), what is the mean and max percentage spending of different TX hospitals for each different claim types.  Provide your code and print out the answer. **"
   ]
  },
  {
   "cell_type": "code",
   "execution_count": 133,
   "metadata": {},
   "outputs": [
    {
     "name": "stdout",
     "output_type": "stream",
     "text": [
      "                                         Hospital                 Claim Type  \\\n",
      "0                      ABBEVILLE GENERAL HOSPITAL                    Carrier   \n",
      "1                      ABBEVILLE GENERAL HOSPITAL  Durable Medical Equipment   \n",
      "2                      ABBEVILLE GENERAL HOSPITAL         Home Health Agency   \n",
      "3                      ABBEVILLE GENERAL HOSPITAL                    Hospice   \n",
      "4                      ABBEVILLE GENERAL HOSPITAL                  Inpatient   \n",
      "5                      ABBEVILLE GENERAL HOSPITAL                 Outpatient   \n",
      "6                      ABBEVILLE GENERAL HOSPITAL   Skilled Nursing Facility   \n",
      "7                      ABBEVILLE GENERAL HOSPITAL                      Total   \n",
      "8                    ABBOTT NORTHWESTERN HOSPITAL                    Carrier   \n",
      "9                    ABBOTT NORTHWESTERN HOSPITAL  Durable Medical Equipment   \n",
      "10                   ABBOTT NORTHWESTERN HOSPITAL         Home Health Agency   \n",
      "11                   ABBOTT NORTHWESTERN HOSPITAL                    Hospice   \n",
      "12                   ABBOTT NORTHWESTERN HOSPITAL                  Inpatient   \n",
      "13                   ABBOTT NORTHWESTERN HOSPITAL                 Outpatient   \n",
      "14                   ABBOTT NORTHWESTERN HOSPITAL   Skilled Nursing Facility   \n",
      "15                   ABBOTT NORTHWESTERN HOSPITAL                      Total   \n",
      "16                ABILENE REGIONAL MEDICAL CENTER                    Carrier   \n",
      "17                ABILENE REGIONAL MEDICAL CENTER  Durable Medical Equipment   \n",
      "18                ABILENE REGIONAL MEDICAL CENTER         Home Health Agency   \n",
      "19                ABILENE REGIONAL MEDICAL CENTER                    Hospice   \n",
      "20                ABILENE REGIONAL MEDICAL CENTER                  Inpatient   \n",
      "21                ABILENE REGIONAL MEDICAL CENTER                 Outpatient   \n",
      "22                ABILENE REGIONAL MEDICAL CENTER   Skilled Nursing Facility   \n",
      "23                ABILENE REGIONAL MEDICAL CENTER                      Total   \n",
      "24              ABINGTON HEALTH LANSDALE HOSPITAL                    Carrier   \n",
      "25              ABINGTON HEALTH LANSDALE HOSPITAL  Durable Medical Equipment   \n",
      "26              ABINGTON HEALTH LANSDALE HOSPITAL         Home Health Agency   \n",
      "27              ABINGTON HEALTH LANSDALE HOSPITAL                    Hospice   \n",
      "28              ABINGTON HEALTH LANSDALE HOSPITAL                  Inpatient   \n",
      "29              ABINGTON HEALTH LANSDALE HOSPITAL                 Outpatient   \n",
      "...                                           ...                        ...   \n",
      "24698                               YORK HOSPITAL         Home Health Agency   \n",
      "24699                               YORK HOSPITAL                    Hospice   \n",
      "24700                               YORK HOSPITAL                  Inpatient   \n",
      "24701                               YORK HOSPITAL                 Outpatient   \n",
      "24702                               YORK HOSPITAL   Skilled Nursing Facility   \n",
      "24703                               YORK HOSPITAL                      Total   \n",
      "24704          YUKON KUSKOKWIM DELTA REG HOSPITAL                    Carrier   \n",
      "24705          YUKON KUSKOKWIM DELTA REG HOSPITAL  Durable Medical Equipment   \n",
      "24706          YUKON KUSKOKWIM DELTA REG HOSPITAL         Home Health Agency   \n",
      "24707          YUKON KUSKOKWIM DELTA REG HOSPITAL                    Hospice   \n",
      "24708          YUKON KUSKOKWIM DELTA REG HOSPITAL                  Inpatient   \n",
      "24709          YUKON KUSKOKWIM DELTA REG HOSPITAL                 Outpatient   \n",
      "24710          YUKON KUSKOKWIM DELTA REG HOSPITAL   Skilled Nursing Facility   \n",
      "24711          YUKON KUSKOKWIM DELTA REG HOSPITAL                      Total   \n",
      "24712                YUMA REGIONAL MEDICAL CENTER                    Carrier   \n",
      "24713                YUMA REGIONAL MEDICAL CENTER  Durable Medical Equipment   \n",
      "24714                YUMA REGIONAL MEDICAL CENTER         Home Health Agency   \n",
      "24715                YUMA REGIONAL MEDICAL CENTER                    Hospice   \n",
      "24716                YUMA REGIONAL MEDICAL CENTER                  Inpatient   \n",
      "24717                YUMA REGIONAL MEDICAL CENTER                 Outpatient   \n",
      "24718                YUMA REGIONAL MEDICAL CENTER   Skilled Nursing Facility   \n",
      "24719                YUMA REGIONAL MEDICAL CENTER                      Total   \n",
      "24720  ZUNI COMPREHENSIVE COMMUNITY HEALTH CENTER                    Carrier   \n",
      "24721  ZUNI COMPREHENSIVE COMMUNITY HEALTH CENTER  Durable Medical Equipment   \n",
      "24722  ZUNI COMPREHENSIVE COMMUNITY HEALTH CENTER         Home Health Agency   \n",
      "24723  ZUNI COMPREHENSIVE COMMUNITY HEALTH CENTER                    Hospice   \n",
      "24724  ZUNI COMPREHENSIVE COMMUNITY HEALTH CENTER                  Inpatient   \n",
      "24725  ZUNI COMPREHENSIVE COMMUNITY HEALTH CENTER                 Outpatient   \n",
      "24726  ZUNI COMPREHENSIVE COMMUNITY HEALTH CENTER   Skilled Nursing Facility   \n",
      "24727  ZUNI COMPREHENSIVE COMMUNITY HEALTH CENTER                      Total   \n",
      "\n",
      "       Percent Spending Hospital  \n",
      "0                       3.990000  \n",
      "1                       0.220000  \n",
      "2                       1.343333  \n",
      "3                       0.283333  \n",
      "4                      18.430000  \n",
      "5                       1.140000  \n",
      "6                       7.930000  \n",
      "7                     100.000000  \n",
      "8                       5.223333  \n",
      "9                       0.180000  \n",
      "10                      0.846667  \n",
      "11                      0.133333  \n",
      "12                     21.173333  \n",
      "13                      2.140000  \n",
      "14                      3.630000  \n",
      "15                    100.000000  \n",
      "16                      4.750000  \n",
      "17                      0.203333  \n",
      "18                      1.550000  \n",
      "19                      0.183333  \n",
      "20                     21.500000  \n",
      "21                      1.353333  \n",
      "22                      3.793333  \n",
      "23                    100.000000  \n",
      "24                      5.106667  \n",
      "25                      0.110000  \n",
      "26                      1.603333  \n",
      "27                      0.296667  \n",
      "28                     17.226667  \n",
      "29                      0.976667  \n",
      "...                          ...  \n",
      "24698                   1.600000  \n",
      "24699                   0.208333  \n",
      "24700                  20.400000  \n",
      "24701                   1.255000  \n",
      "24702                   4.956667  \n",
      "24703                 100.000000  \n",
      "24704                   6.780000  \n",
      "24705                   0.033333  \n",
      "24706                   0.000000  \n",
      "24707                   0.000000  \n",
      "24708                  24.340000  \n",
      "24709                   2.180000  \n",
      "24710                   0.000000  \n",
      "24711                 100.000000  \n",
      "24712                   5.286667  \n",
      "24713                   0.166667  \n",
      "24714                   1.180000  \n",
      "24715                   0.190000  \n",
      "24716                  22.456667  \n",
      "24717                   1.213333  \n",
      "24718                   2.840000  \n",
      "24719                 100.000000  \n",
      "24720                   3.930000  \n",
      "24721                   0.053333  \n",
      "24722                   0.000000  \n",
      "24723                   0.296667  \n",
      "24724                  24.110000  \n",
      "24725                   4.366667  \n",
      "24726                   0.576667  \n",
      "24727                 100.000000  \n",
      "\n",
      "[24728 rows x 3 columns]\n",
      "                                         Hospital                 Claim Type  \\\n",
      "0                      ABBEVILLE GENERAL HOSPITAL                    Carrier   \n",
      "1                      ABBEVILLE GENERAL HOSPITAL  Durable Medical Equipment   \n",
      "2                      ABBEVILLE GENERAL HOSPITAL         Home Health Agency   \n",
      "3                      ABBEVILLE GENERAL HOSPITAL                    Hospice   \n",
      "4                      ABBEVILLE GENERAL HOSPITAL                  Inpatient   \n",
      "5                      ABBEVILLE GENERAL HOSPITAL                 Outpatient   \n",
      "6                      ABBEVILLE GENERAL HOSPITAL   Skilled Nursing Facility   \n",
      "7                      ABBEVILLE GENERAL HOSPITAL                      Total   \n",
      "8                    ABBOTT NORTHWESTERN HOSPITAL                    Carrier   \n",
      "9                    ABBOTT NORTHWESTERN HOSPITAL  Durable Medical Equipment   \n",
      "10                   ABBOTT NORTHWESTERN HOSPITAL         Home Health Agency   \n",
      "11                   ABBOTT NORTHWESTERN HOSPITAL                    Hospice   \n",
      "12                   ABBOTT NORTHWESTERN HOSPITAL                  Inpatient   \n",
      "13                   ABBOTT NORTHWESTERN HOSPITAL                 Outpatient   \n",
      "14                   ABBOTT NORTHWESTERN HOSPITAL   Skilled Nursing Facility   \n",
      "15                   ABBOTT NORTHWESTERN HOSPITAL                      Total   \n",
      "16                ABILENE REGIONAL MEDICAL CENTER                    Carrier   \n",
      "17                ABILENE REGIONAL MEDICAL CENTER  Durable Medical Equipment   \n",
      "18                ABILENE REGIONAL MEDICAL CENTER         Home Health Agency   \n",
      "19                ABILENE REGIONAL MEDICAL CENTER                    Hospice   \n",
      "20                ABILENE REGIONAL MEDICAL CENTER                  Inpatient   \n",
      "21                ABILENE REGIONAL MEDICAL CENTER                 Outpatient   \n",
      "22                ABILENE REGIONAL MEDICAL CENTER   Skilled Nursing Facility   \n",
      "23                ABILENE REGIONAL MEDICAL CENTER                      Total   \n",
      "24              ABINGTON HEALTH LANSDALE HOSPITAL                    Carrier   \n",
      "25              ABINGTON HEALTH LANSDALE HOSPITAL  Durable Medical Equipment   \n",
      "26              ABINGTON HEALTH LANSDALE HOSPITAL         Home Health Agency   \n",
      "27              ABINGTON HEALTH LANSDALE HOSPITAL                    Hospice   \n",
      "28              ABINGTON HEALTH LANSDALE HOSPITAL                  Inpatient   \n",
      "29              ABINGTON HEALTH LANSDALE HOSPITAL                 Outpatient   \n",
      "...                                           ...                        ...   \n",
      "24698                               YORK HOSPITAL         Home Health Agency   \n",
      "24699                               YORK HOSPITAL                    Hospice   \n",
      "24700                               YORK HOSPITAL                  Inpatient   \n",
      "24701                               YORK HOSPITAL                 Outpatient   \n",
      "24702                               YORK HOSPITAL   Skilled Nursing Facility   \n",
      "24703                               YORK HOSPITAL                      Total   \n",
      "24704          YUKON KUSKOKWIM DELTA REG HOSPITAL                    Carrier   \n",
      "24705          YUKON KUSKOKWIM DELTA REG HOSPITAL  Durable Medical Equipment   \n",
      "24706          YUKON KUSKOKWIM DELTA REG HOSPITAL         Home Health Agency   \n",
      "24707          YUKON KUSKOKWIM DELTA REG HOSPITAL                    Hospice   \n",
      "24708          YUKON KUSKOKWIM DELTA REG HOSPITAL                  Inpatient   \n",
      "24709          YUKON KUSKOKWIM DELTA REG HOSPITAL                 Outpatient   \n",
      "24710          YUKON KUSKOKWIM DELTA REG HOSPITAL   Skilled Nursing Facility   \n",
      "24711          YUKON KUSKOKWIM DELTA REG HOSPITAL                      Total   \n",
      "24712                YUMA REGIONAL MEDICAL CENTER                    Carrier   \n",
      "24713                YUMA REGIONAL MEDICAL CENTER  Durable Medical Equipment   \n",
      "24714                YUMA REGIONAL MEDICAL CENTER         Home Health Agency   \n",
      "24715                YUMA REGIONAL MEDICAL CENTER                    Hospice   \n",
      "24716                YUMA REGIONAL MEDICAL CENTER                  Inpatient   \n",
      "24717                YUMA REGIONAL MEDICAL CENTER                 Outpatient   \n",
      "24718                YUMA REGIONAL MEDICAL CENTER   Skilled Nursing Facility   \n",
      "24719                YUMA REGIONAL MEDICAL CENTER                      Total   \n",
      "24720  ZUNI COMPREHENSIVE COMMUNITY HEALTH CENTER                    Carrier   \n",
      "24721  ZUNI COMPREHENSIVE COMMUNITY HEALTH CENTER  Durable Medical Equipment   \n",
      "24722  ZUNI COMPREHENSIVE COMMUNITY HEALTH CENTER         Home Health Agency   \n",
      "24723  ZUNI COMPREHENSIVE COMMUNITY HEALTH CENTER                    Hospice   \n",
      "24724  ZUNI COMPREHENSIVE COMMUNITY HEALTH CENTER                  Inpatient   \n",
      "24725  ZUNI COMPREHENSIVE COMMUNITY HEALTH CENTER                 Outpatient   \n",
      "24726  ZUNI COMPREHENSIVE COMMUNITY HEALTH CENTER   Skilled Nursing Facility   \n",
      "24727  ZUNI COMPREHENSIVE COMMUNITY HEALTH CENTER                      Total   \n",
      "\n",
      "       Percent Spending Hospital  \n",
      "0                           4.62  \n",
      "1                           0.53  \n",
      "2                           4.02  \n",
      "3                           0.84  \n",
      "4                          39.87  \n",
      "5                           3.18  \n",
      "6                          23.77  \n",
      "7                         100.00  \n",
      "8                           9.62  \n",
      "9                           0.41  \n",
      "10                          2.49  \n",
      "11                          0.40  \n",
      "12                         54.16  \n",
      "13                          3.98  \n",
      "14                         10.89  \n",
      "15                        100.00  \n",
      "16                          7.12  \n",
      "17                          0.42  \n",
      "18                          4.56  \n",
      "19                          0.55  \n",
      "20                         47.46  \n",
      "21                          3.02  \n",
      "22                         11.37  \n",
      "23                        100.00  \n",
      "24                          6.93  \n",
      "25                          0.26  \n",
      "26                          4.75  \n",
      "27                          0.89  \n",
      "28                         41.26  \n",
      "29                          2.83  \n",
      "...                          ...  \n",
      "24698                       6.22  \n",
      "24699                       0.71  \n",
      "24700                      44.08  \n",
      "24701                       3.88  \n",
      "24702                      15.73  \n",
      "24703                     100.00  \n",
      "24704                      10.20  \n",
      "24705                       0.10  \n",
      "24706                       0.00  \n",
      "24707                       0.00  \n",
      "24708                      64.15  \n",
      "24709                       6.21  \n",
      "24710                       0.00  \n",
      "24711                     100.00  \n",
      "24712                       7.47  \n",
      "24713                       0.34  \n",
      "24714                       3.50  \n",
      "24715                       0.57  \n",
      "24716                      47.38  \n",
      "24717                       3.53  \n",
      "24718                       8.51  \n",
      "24719                     100.00  \n",
      "24720                       6.83  \n",
      "24721                       0.13  \n",
      "24722                       0.00  \n",
      "24723                       0.89  \n",
      "24724                      55.15  \n",
      "24725                      11.54  \n",
      "24726                       1.64  \n",
      "24727                     100.00  \n",
      "\n",
      "[24728 rows x 3 columns]\n"
     ]
    }
   ],
   "source": [
    "print df7.groupby(['Hospital','Claim Type'], as_index=False)['Percent Spending Hospital'].mean()\n",
    "print df7.groupby(['Hospital','Claim Type'], as_index=False)['Percent Spending Hospital'].max()"
   ]
  },
  {
   "cell_type": "markdown",
   "metadata": {},
   "source": [
    "**46) Using the whole dataset from the Medicare_Hospital_Spending_by_Claim.csv table (i.e., Q 39-41), sort the dataframe descending order by average spending and print out what the rank of TX is in terms of average spending when compared to other state averages. **"
   ]
  },
  {
   "cell_type": "code",
   "execution_count": null,
   "metadata": {
    "collapsed": true
   },
   "outputs": [],
   "source": []
  },
  {
   "cell_type": "markdown",
   "metadata": {},
   "source": [
    "**47) Give a very general and short definition of what an Analytical Model is or is supposed to do?**"
   ]
  },
  {
   "cell_type": "code",
   "execution_count": 134,
   "metadata": {},
   "outputs": [
    {
     "name": "stdout",
     "output_type": "stream",
     "text": [
      "Analytical models are representations of reality which are based on assumptions. Analytical Models generate  useful, relevant information and insights by answering key business questions that are framed as part of the analytics effort.\n"
     ]
    }
   ],
   "source": [
    "print \"Analytical models are representations of reality which are based on assumptions. Analytical Models generate  useful, relevant information and insights by answering key business questions that are framed as part of the analytics effort.\""
   ]
  },
  {
   "cell_type": "markdown",
   "metadata": {},
   "source": [
    "**48) Briefly describe the differences between \"supervised\" and \"unsupervised\" learning.**"
   ]
  },
  {
   "cell_type": "code",
   "execution_count": 58,
   "metadata": {},
   "outputs": [
    {
     "name": "stdout",
     "output_type": "stream",
     "text": [
      "Supervised Learning: Analyzes labeled training data to produce an inferred function. Training data consist of a set of training examples, which consist of an input object and a desired output value. Inferred function   can be applied to map new examples.\n",
      "\n",
      "Unsupervised Learning:  Involves inferring a function to describe hidden structure from unlabeled data, which is not classified or categorized. The examples provided to the learner are unlabeled, and the accuracy of the output is not evaluated. The goal is to model the underlying structure or distribution in the data in order  to learn more about the data.\n"
     ]
    }
   ],
   "source": [
    "print \"Supervised Learning: Analyzes labeled training data to produce an inferred function. Training data consist of a set of training examples, which consist of an input object and a desired output value. Inferred function   can be applied to map new examples.\"\n",
    "print \"\"\n",
    "print \"Unsupervised Learning:  Involves inferring a function to describe hidden structure from unlabeled data, which is not classified or categorized. The examples provided to the learner are unlabeled, and the accuracy of the output is not evaluated. The goal is to model the underlying structure or distribution in the data in order  to learn more about the data.\""
   ]
  },
  {
   "cell_type": "markdown",
   "metadata": {},
   "source": [
    "**49) Briefly describe the differences between \"classification\" and \"clustering\".**"
   ]
  },
  {
   "cell_type": "code",
   "execution_count": 59,
   "metadata": {},
   "outputs": [
    {
     "name": "stdout",
     "output_type": "stream",
     "text": [
      "Classification involves identifying to which of a set of categories a new observation belongs. Classification is performed based on a training set of data containing observations or instances whose categorical           membership has been determined. Classification is an example of pattern recognition.\n",
      "\n",
      "Clustering is the task of grouping similar objects into 'clusters', or categories based on some measure of   inherent similarity or distance. Objects within a cluster are more similar in some way to each other than    they are to objects in other clusters. Clustering is a common technique for statistical data analysis.\n"
     ]
    }
   ],
   "source": [
    "print \"Classification involves identifying to which of a set of categories a new observation belongs. Classification is performed based on a training set of data containing observations or instances whose categorical           membership has been determined. Classification is an example of pattern recognition.\"\n",
    "print \"\"\n",
    "print \"Clustering is the task of grouping similar objects into 'clusters', or categories based on some measure of   inherent similarity or distance. Objects within a cluster are more similar in some way to each other than    they are to objects in other clusters. Clustering is a common technique for statistical data analysis.\""
   ]
  },
  {
   "cell_type": "markdown",
   "metadata": {},
   "source": [
    "**50) Name 3 different \"kinds\" of Analytical Models and provide a brief definition of each. **"
   ]
  },
  {
   "cell_type": "code",
   "execution_count": 60,
   "metadata": {},
   "outputs": [
    {
     "name": "stdout",
     "output_type": "stream",
     "text": [
      "Empirical: Empirical models are based on observation and experimentation. Empirical modeling involves        determining connections through experience.\n",
      "\n",
      "Mechanistic: Mechanistic models are based on formula and theory, and assume that a system's complexity can be    understood by analyzing its individual components and the relationships between them.\n",
      "\n",
      "Deterministic: Deterministic models produce results that are determined precisely through known relationships among states and events. In a deterministic model a given input will always produce the same output, and     there is no room for randomness.\n"
     ]
    }
   ],
   "source": [
    "print \"Empirical: Empirical models are based on observation and experimentation. Empirical modeling involves        determining connections through experience.\"\n",
    "print \"\"\n",
    "print \"Mechanistic: Mechanistic models are based on formula and theory, and assume that a system's complexity can be    understood by analyzing its individual components and the relationships between them.\"\n",
    "print \"\"\n",
    "print \"Deterministic: Deterministic models produce results that are determined precisely through known relationships among states and events. In a deterministic model a given input will always produce the same output, and     there is no room for randomness.\""
   ]
  },
  {
   "cell_type": "markdown",
   "metadata": {},
   "source": [
    "**EXTRA CREDIT 51) Why is Ordinary Least Squares Regression, called Ordinary Least Squares?**"
   ]
  },
  {
   "cell_type": "code",
   "execution_count": 61,
   "metadata": {},
   "outputs": [
    {
     "name": "stdout",
     "output_type": "stream",
     "text": [
      "Ordinary Least Squares Regression is called Ordinary Least Squares (OLS) because it is one of the most basic and most employed prediction techniques. OLS was the first popular  statistical procedure to be developed.   This technique is often used incorrectly because many people using it have just enough training to be able to apply it, but not enough training to know when it shouldnt be applied.\n"
     ]
    }
   ],
   "source": [
    "print \"Ordinary Least Squares Regression is called Ordinary Least Squares (OLS) because it is one of the most basic and most employed prediction techniques. OLS was the first popular  statistical procedure to be developed.   This technique is often used incorrectly because many people using it have just enough training to be able to apply it, but not enough training to know when it shouldnt be applied.\""
   ]
  },
  {
   "cell_type": "markdown",
   "metadata": {},
   "source": [
    "**EXTRA CREDIT 52) What makes \"big data\" different from \"small data\"? (Be brief - 1 to 2 paragaphs MAX)**"
   ]
  },
  {
   "cell_type": "code",
   "execution_count": 62,
   "metadata": {},
   "outputs": [
    {
     "name": "stdout",
     "output_type": "stream",
     "text": [
      "Small data exists in a volume and format that makes it readily accessible, actionable, easy to work with, and manageable. For example, data stored in a MS Excel spreadsheet or MS Access database is 'small data'.\n",
      "\n",
      "Big Data is significantly more difficult to manage. The volume of big data is massive (typically measured in Terabytes or larger). The variety of big data tends to be very broad (structured and unstructured, text,     images, audio, etc). The velocity/timeliness at which big data is generated tends to be very rapid. An       example of big data would be the data generated by / stored within a social media application.\n"
     ]
    }
   ],
   "source": [
    "print \"Small data exists in a volume and format that makes it readily accessible, actionable, easy to work with, and manageable. For example, data stored in a MS Excel spreadsheet or MS Access database is 'small data'.\"\n",
    "print \"\"\n",
    "print \"Big Data is significantly more difficult to manage. The volume of big data is massive (typically measured in Terabytes or larger). The variety of big data tends to be very broad (structured and unstructured, text,     images, audio, etc). The velocity/timeliness at which big data is generated tends to be very rapid. An       example of big data would be the data generated by / stored within a social media application.\""
   ]
  },
  {
   "cell_type": "markdown",
   "metadata": {},
   "source": [
    "**EXTRA CREDIT 53) What are WMD's according to Cathy O'Neil?**"
   ]
  },
  {
   "cell_type": "code",
   "execution_count": 63,
   "metadata": {},
   "outputs": [
    {
     "name": "stdout",
     "output_type": "stream",
     "text": [
      "According to Cathy O'Neil, WMD's are algorithms and models that are opaque, unregulated, and uncontestable,  even when they are wrong.\n"
     ]
    }
   ],
   "source": [
    "print \"According to Cathy O'Neil, WMD's are algorithms and models that are opaque, unregulated, and uncontestable,  even when they are wrong.\""
   ]
  },
  {
   "cell_type": "markdown",
   "metadata": {},
   "source": [
    "**EXTRA CREDIT 54) Why do vicious feedback loops matter in data analytics?**"
   ]
  },
  {
   "cell_type": "code",
   "execution_count": 64,
   "metadata": {},
   "outputs": [
    {
     "name": "stdout",
     "output_type": "stream",
     "text": [
      "Data models are created by human beings. Humans are fallible and are sometimes prone to error and bias.      Therefore, some data models could incorporate biases and misunderstandings (and errors). Models that are     complex and opaque are often difficult to dispute. When such a model generates a vicious feedback loop, this feedback loop can serve to justify and reinforce modeler and/or systemic assumption and bias, causing harm.\n"
     ]
    }
   ],
   "source": [
    "print \"Data models are created by human beings. Humans are fallible and are sometimes prone to error and bias.      Therefore, some data models could incorporate biases and misunderstandings (and errors). Models that are     complex and opaque are often difficult to dispute. When such a model generates a vicious feedback loop, this feedback loop can serve to justify and reinforce modeler and/or systemic assumption and bias, causing harm.\""
   ]
  },
  {
   "cell_type": "markdown",
   "metadata": {},
   "source": [
    "**EXTRA CREDIT 55) What are the 10 simple rules Zook et. al. Suggest to follow when doing big data analytics?**"
   ]
  },
  {
   "cell_type": "code",
   "execution_count": 80,
   "metadata": {},
   "outputs": [
    {
     "name": "stdout",
     "output_type": "stream",
     "text": [
      "1. Acknowledge that data are people and can do harm.\n",
      "2. Recognize that privacy is more than a binary value.\n",
      "3. Guard against the reidentification of your data.\n",
      "4. Practice ethical data sharing.\n",
      "5. Consider the strengths and limitations of your data; big does not automatically mean better.\n",
      "6. Debate the tough, ethical choices.\n",
      "7. Develop a code of conduct for your organization, research community, or industry.\n",
      "8. Design your data and systems for auditability.\n",
      "9. Engage with the broader consequences of data and analysis practices.\n",
      "10. Know when to break these rules.\n"
     ]
    }
   ],
   "source": [
    "print \"1. Acknowledge that data are people and can do harm.\"\n",
    "print \"2. Recognize that privacy is more than a binary value.\"\n",
    "print \"3. Guard against the reidentification of your data.\"\n",
    "print \"4. Practice ethical data sharing.\"\n",
    "print \"5. Consider the strengths and limitations of your data; big does not automatically mean better.\"\n",
    "print \"6. Debate the tough, ethical choices.\"\n",
    "print \"7. Develop a code of conduct for your organization, research community, or industry.\"\n",
    "print \"8. Design your data and systems for auditability.\"\n",
    "print \"9. Engage with the broader consequences of data and analysis practices.\"\n",
    "print \"10. Know when to break these rules.\""
   ]
  }
 ],
 "metadata": {
  "kernelspec": {
   "display_name": "Python 2",
   "language": "python",
   "name": "python2"
  },
  "language_info": {
   "codemirror_mode": {
    "name": "ipython",
    "version": 2
   },
   "file_extension": ".py",
   "mimetype": "text/x-python",
   "name": "python",
   "nbconvert_exporter": "python",
   "pygments_lexer": "ipython2",
   "version": "2.7.13"
  }
 },
 "nbformat": 4,
 "nbformat_minor": 1
}
