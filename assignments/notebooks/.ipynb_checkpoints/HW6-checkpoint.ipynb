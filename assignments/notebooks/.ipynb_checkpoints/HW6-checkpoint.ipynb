{
 "cells": [
  {
   "cell_type": "markdown",
   "metadata": {},
   "source": [
    "# CS596-032 2016 Summer Homework-6"
   ]
  },
  {
   "cell_type": "markdown",
   "metadata": {},
   "source": [
    "Assign date: 2016-07-25\n",
    "\n",
    "Due date: 2016-08-06 9am\n",
    "\n",
    "Please submit only one copy of your IPython Notebook file with the answers to Apeksha Srivastava 150101236@svuca.edu"
   ]
  },
  {
   "cell_type": "code",
   "execution_count": null,
   "metadata": {
    "collapsed": true
   },
   "outputs": [],
   "source": [
    "import matplotlib.pyplot as plt\n",
    "%matplotlib inline"
   ]
  },
  {
   "cell_type": "markdown",
   "metadata": {},
   "source": [
    "Q1. For Q-1, you need to put the data file ‘Medicare_Hospital_Spending_by_Claim.csv’ at the same place as your notebook file.\n",
    "\n",
    "Q1-a. You are given the Medicare spending dataset. The first thing to do is to remove 2 unused columns 'Measure Start Date' and 'Measure End Date' from the DataFrame in the following code segment. Provide your code as the answer."
   ]
  },
  {
   "cell_type": "code",
   "execution_count": null,
   "metadata": {},
   "outputs": [],
   "source": [
    "from pandas import Series, DataFrame\n",
    "import pandas as pd\n",
    "import numpy as np\n",
    "claims = pd.read_csv('./Medicare_Hospital_Spending_by_Claim.csv', parse_dates=True) #, index_col=0)\n",
    "claims.info()\n",
    "print claims.columns\n",
    "# Q1-a drop unused columns 'Measure Start Date' and 'Measure End Date'\n",
    "# add your code below"
   ]
  },
  {
   "cell_type": "markdown",
   "metadata": {},
   "source": [
    "Q1-b Replace names\n",
    "Continuing with the above code, we want to replace the original long column names with shorter ones.  Provide your code and the resulting new column names as the answer.\n",
    "newColumns = ['Hospital', 'Provider ID', 'State', 'Period', 'Claim Type', 'Avg Spending Hospital', 'Avg Spending State', 'Avg Spending Nation', 'Percent Spending Hospital', 'Percent Spending State', 'Percent Spending Nation']"
   ]
  },
  {
   "cell_type": "code",
   "execution_count": null,
   "metadata": {
    "collapsed": true
   },
   "outputs": [],
   "source": [
    "# rename columns. add your code below"
   ]
  },
  {
   "cell_type": "markdown",
   "metadata": {},
   "source": [
    "Q1-c) Continuing with the above code, we would like to investigate the statistics of average and percentage spending for different states, claim types, and hospitals.  In the code segment below, we print out the last 15 items of two columns for testing.  Do you see any issue in the data for statistics calculation?  Provide your comments as the answer. "
   ]
  },
  {
   "cell_type": "code",
   "execution_count": null,
   "metadata": {},
   "outputs": [],
   "source": [
    "claims[['Percent Spending Hospital', 'Percent Spending State','Percent Spending Nation',\n",
    "        'Avg Spending Hospital', 'Avg Spending State',  'Avg Spending Nation']].tail(15)"
   ]
  },
  {
   "cell_type": "markdown",
   "metadata": {},
   "source": [
    "Q1-d) Continuing with the above code, we want to convert the contents to the right typesin order to perform statistic calculation for the DataFrame.  Provide your code and the resulting new print out as the answer."
   ]
  },
  {
   "cell_type": "code",
   "execution_count": null,
   "metadata": {
    "collapsed": true
   },
   "outputs": [],
   "source": [
    "# use regular expression or string function to convert content types"
   ]
  },
  {
   "cell_type": "markdown",
   "metadata": {},
   "source": [
    "Q1-e) Continuing with the above code, we want to use the code segment below to extract only the TX state claims to study.  Provide your code and the resulting new print out as the answer."
   ]
  },
  {
   "cell_type": "code",
   "execution_count": null,
   "metadata": {
    "collapsed": true
   },
   "outputs": [],
   "source": [
    "# extract TX only from claims to tx_claims"
   ]
  },
  {
   "cell_type": "markdown",
   "metadata": {},
   "source": [
    "Q1-f) Continuing from above, we want to study the average spending of different TX hospitals for different claim types.  Provide your code and the resulting new print out as the answer. "
   ]
  },
  {
   "cell_type": "code",
   "execution_count": null,
   "metadata": {
    "collapsed": true
   },
   "outputs": [],
   "source": [
    "# Aggregate over hospitals and claim types for 'Avg Spending Hospital', 'Avg Spending State', 'Avg Spending Nation'\n",
    "# Add your code below"
   ]
  },
  {
   "cell_type": "markdown",
   "metadata": {},
   "source": [
    "Q1-g) Continuing from above, we want to study the mean and max percentage spending of different TX hospitals for different claim types.  Provide your code and the resulting new print out as the answer. "
   ]
  },
  {
   "cell_type": "code",
   "execution_count": null,
   "metadata": {
    "collapsed": true
   },
   "outputs": [],
   "source": [
    "# Define aggregation functions for 'Avg Spending Hospital', 'Avg Spending State', 'Avg Spending Nation'\n",
    "# Add your code below"
   ]
  },
  {
   "cell_type": "markdown",
   "metadata": {},
   "source": [
    "Q2. For Q-2, you need to put the data file ‘stock_px.csv’ at the same place as your notebook file.\n",
    "\n",
    "Q2-a. We are given the stock prices dataset for tickers ‘AAPL’, ‘MSFT’, ‘XOM’, and ‘SPX’. Add your code in the next code segment to print out the last 10 rows of the dataset. Provide your code and the resulting print out as the answer."
   ]
  },
  {
   "cell_type": "code",
   "execution_count": null,
   "metadata": {
    "collapsed": true
   },
   "outputs": [],
   "source": [
    "from pandas import Series, DataFrame\n",
    "import pandas as pd\n",
    "import numpy as np\n",
    "close_px = pd.read_csv('./stock_px.csv', parse_dates=True, index_col=0)\n",
    "\n",
    "# Add your code below\n"
   ]
  },
  {
   "cell_type": "markdown",
   "metadata": {},
   "source": [
    "Q2-b. Continuing with the above code, add necessary Python code to print out only the stock prices in May 2010. Provide your code and the output as the answer. "
   ]
  },
  {
   "cell_type": "markdown",
   "metadata": {},
   "source": [
    "Q2-c. Continuing with the above code, add necessary Python code to print out only the stock prices from 3/16/2011 to 3/30/2011. Provide your code and the output as the answer. "
   ]
  },
  {
   "cell_type": "markdown",
   "metadata": {},
   "source": [
    "Q2-d. Continuing with the above code, add necessary Python code to print out only the weekly stock closing prices from 8/1/2011 to 10/31/2011. Provide your code and the output as the answer. "
   ]
  },
  {
   "cell_type": "markdown",
   "metadata": {},
   "source": [
    "Q2-e. Continuing with the above code, add necessary Python code to resample the daily stock closing prices to monthly stock closing prices for the whole dataset. Provide your code and last 15 output as the answer. "
   ]
  },
  {
   "cell_type": "markdown",
   "metadata": {},
   "source": [
    "Q2-f. Continuing with the above code, add necessary Python code to create the DataFrame of previous monthly stock closing prices for the whole dataset. Provide your code as the answer."
   ]
  },
  {
   "cell_type": "code",
   "execution_count": null,
   "metadata": {
    "collapsed": true
   },
   "outputs": [],
   "source": [
    "# create previous monthly closing stock prices.  Add your code below"
   ]
  },
  {
   "cell_type": "markdown",
   "metadata": {},
   "source": [
    "Q2-g. Continuing with the above code, add necessary Python code to calculate the percentage of monthly change. Provide your code and the plots as the answer.\n",
    "\n",
    "The percentage change series d(n) is defined as:\n",
    "\n",
    "d(n) = (x(n) – x(n-1)) / x(n-1), where x(n) is the original Time Series.\n"
   ]
  },
  {
   "cell_type": "code",
   "execution_count": null,
   "metadata": {
    "collapsed": true
   },
   "outputs": [],
   "source": [
    "import matplotlib.pyplot as plt\n",
    "plt.rc('figure', figsize=(10, 8))\n",
    "%matplotlib inline\n",
    "# Add your code for monthly percentage below"
   ]
  },
  {
   "cell_type": "code",
   "execution_count": null,
   "metadata": {
    "collapsed": true
   },
   "outputs": [],
   "source": [
    "# Add your code for weekly percentage below\n"
   ]
  }
 ],
 "metadata": {
  "kernelspec": {
   "display_name": "Python 2",
   "language": "python",
   "name": "python2"
  },
  "language_info": {
   "codemirror_mode": {
    "name": "ipython",
    "version": 2
   },
   "file_extension": ".py",
   "mimetype": "text/x-python",
   "name": "python",
   "nbconvert_exporter": "python",
   "pygments_lexer": "ipython2",
   "version": "2.7.14"
  }
 },
 "nbformat": 4,
 "nbformat_minor": 1
}
