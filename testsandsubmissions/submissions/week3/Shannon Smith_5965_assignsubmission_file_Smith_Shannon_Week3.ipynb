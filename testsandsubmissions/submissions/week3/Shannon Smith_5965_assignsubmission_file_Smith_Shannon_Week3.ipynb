{
 "cells": [
  {
   "cell_type": "code",
   "execution_count": 1,
   "metadata": {
    "collapsed": true
   },
   "outputs": [],
   "source": [
    "%matplotlib inline\n",
    "# import naming conventions \n",
    "import numpy as np\n",
    "import pandas as pd\n",
    "import matplotlib.pyplot as plt \n",
    "\n",
    "# (further reading on mpl imports: http://bit.ly/197aGoq )"
   ]
  },
  {
   "cell_type": "markdown",
   "metadata": {},
   "source": [
    "## Part 1: data structures\n",
    "\n",
    "There are two\\* main structures in `pandas`: Series (1-dimensional labeled array) and DataFrame (2-dimensional labeled structure).\n",
    "\n",
    "\n",
    "\\* there is also a TimeSeries (a flavor of Series that contains datetimes), Panel (3-dimensional), and Panel4D (4-dimensional). The last two are 'less used,' according to the docs. I haven't experimented with them yet."
   ]
  },
  {
   "cell_type": "markdown",
   "metadata": {},
   "source": [
    "### Series (1D)\n",
    "\n",
    "Series can hold any data type, and the axis label is called an index. Series is dict-like in that you can get and set values by index label. "
   ]
  },
  {
   "cell_type": "code",
   "execution_count": 2,
   "metadata": {},
   "outputs": [
    {
     "data": {
      "text/plain": [
       "0     NaN\n",
       "1     4.0\n",
       "2     8.0\n",
       "3    16.0\n",
       "4    24.0\n",
       "5    17.0\n",
       "6    14.0\n",
       "dtype: float64"
      ]
     },
     "execution_count": 2,
     "metadata": {},
     "output_type": "execute_result"
    }
   ],
   "source": [
    "m1 = pd.Series([np.nan,4,8,16,24,17,14])\n",
    "m1"
   ]
  },
  {
   "cell_type": "code",
   "execution_count": 3,
   "metadata": {},
   "outputs": [
    {
     "data": {
      "text/plain": [
       "14.0"
      ]
     },
     "execution_count": 3,
     "metadata": {},
     "output_type": "execute_result"
    }
   ],
   "source": [
    "# by default (without specifying them explicitly), the index label is just an int\n",
    "m1[6]"
   ]
  },
  {
   "cell_type": "markdown",
   "metadata": {},
   "source": [
    "### DataFrame (2D)\n",
    "\n",
    "Columns can be of different data types. Index and column names are optional. If individual Series have different indexes, the DataFrame index will be the union of the individual ones.\n",
    "\n",
    "Can create from:\n",
    "\n",
    "- dict of 1D ndarrays, lists, dicts, or Series\n",
    "\n",
    "- 2-D numpy.ndarray\n",
    "\n",
    "- Series\n",
    "\n",
    "- another DataFrame\n",
    "\n",
    "\n",
    "N.B.: there are other helper methods for constructing DataFrames from varying data types; [see the docs](http://pandas.pydata.org/pandas-docs/stable/dsintro.html#alternate-constructors) for more options."
   ]
  },
  {
   "cell_type": "code",
   "execution_count": 4,
   "metadata": {
    "collapsed": true
   },
   "outputs": [],
   "source": [
    "# create a couple more Series\n",
    "m2, m3 = pd.Series(np.random.randn(7)), pd.Series(np.random.randn(7))"
   ]
  },
  {
   "cell_type": "code",
   "execution_count": 5,
   "metadata": {},
   "outputs": [
    {
     "data": {
      "text/html": [
       "<div>\n",
       "<style>\n",
       "    .dataframe thead tr:only-child th {\n",
       "        text-align: right;\n",
       "    }\n",
       "\n",
       "    .dataframe thead th {\n",
       "        text-align: left;\n",
       "    }\n",
       "\n",
       "    .dataframe tbody tr th {\n",
       "        vertical-align: top;\n",
       "    }\n",
       "</style>\n",
       "<table border=\"1\" class=\"dataframe\">\n",
       "  <thead>\n",
       "    <tr style=\"text-align: right;\">\n",
       "      <th></th>\n",
       "      <th>W</th>\n",
       "      <th>X</th>\n",
       "      <th>Y</th>\n",
       "    </tr>\n",
       "  </thead>\n",
       "  <tbody>\n",
       "    <tr>\n",
       "      <th>0</th>\n",
       "      <td>NaN</td>\n",
       "      <td>-0.373902</td>\n",
       "      <td>-0.813727</td>\n",
       "    </tr>\n",
       "    <tr>\n",
       "      <th>1</th>\n",
       "      <td>4.0</td>\n",
       "      <td>-2.007908</td>\n",
       "      <td>-0.505396</td>\n",
       "    </tr>\n",
       "    <tr>\n",
       "      <th>2</th>\n",
       "      <td>8.0</td>\n",
       "      <td>0.140448</td>\n",
       "      <td>1.303552</td>\n",
       "    </tr>\n",
       "    <tr>\n",
       "      <th>3</th>\n",
       "      <td>16.0</td>\n",
       "      <td>0.967078</td>\n",
       "      <td>-0.514237</td>\n",
       "    </tr>\n",
       "    <tr>\n",
       "      <th>4</th>\n",
       "      <td>24.0</td>\n",
       "      <td>0.468727</td>\n",
       "      <td>-0.056261</td>\n",
       "    </tr>\n",
       "    <tr>\n",
       "      <th>5</th>\n",
       "      <td>17.0</td>\n",
       "      <td>0.584735</td>\n",
       "      <td>1.217346</td>\n",
       "    </tr>\n",
       "    <tr>\n",
       "      <th>6</th>\n",
       "      <td>14.0</td>\n",
       "      <td>-0.788167</td>\n",
       "      <td>-0.330822</td>\n",
       "    </tr>\n",
       "  </tbody>\n",
       "</table>\n",
       "</div>"
      ],
      "text/plain": [
       "      W         X         Y\n",
       "0   NaN -0.373902 -0.813727\n",
       "1   4.0 -2.007908 -0.505396\n",
       "2   8.0  0.140448  1.303552\n",
       "3  16.0  0.967078 -0.514237\n",
       "4  24.0  0.468727 -0.056261\n",
       "5  17.0  0.584735  1.217346\n",
       "6  14.0 -0.788167 -0.330822"
      ]
     },
     "execution_count": 5,
     "metadata": {},
     "output_type": "execute_result"
    }
   ],
   "source": [
    "# combine multiple Series into a DataFrame with column labels\n",
    "mydf = pd.DataFrame({'W': m1, 'X': m2, 'Y': m3})\n",
    "\n",
    "mydf"
   ]
  },
  {
   "cell_type": "code",
   "execution_count": 6,
   "metadata": {},
   "outputs": [
    {
     "data": {
      "text/html": [
       "<div>\n",
       "<style>\n",
       "    .dataframe thead tr:only-child th {\n",
       "        text-align: right;\n",
       "    }\n",
       "\n",
       "    .dataframe thead th {\n",
       "        text-align: left;\n",
       "    }\n",
       "\n",
       "    .dataframe tbody tr th {\n",
       "        vertical-align: top;\n",
       "    }\n",
       "</style>\n",
       "<table border=\"1\" class=\"dataframe\">\n",
       "  <thead>\n",
       "    <tr style=\"text-align: right;\">\n",
       "      <th></th>\n",
       "      <th>W</th>\n",
       "      <th>X</th>\n",
       "      <th>Y</th>\n",
       "      <th>Z</th>\n",
       "    </tr>\n",
       "  </thead>\n",
       "  <tbody>\n",
       "    <tr>\n",
       "      <th>0</th>\n",
       "      <td>NaN</td>\n",
       "      <td>-0.373902</td>\n",
       "      <td>-0.813727</td>\n",
       "      <td>-0.628135</td>\n",
       "    </tr>\n",
       "    <tr>\n",
       "      <th>1</th>\n",
       "      <td>4.0</td>\n",
       "      <td>-2.007908</td>\n",
       "      <td>-0.505396</td>\n",
       "      <td>0.871330</td>\n",
       "    </tr>\n",
       "    <tr>\n",
       "      <th>2</th>\n",
       "      <td>8.0</td>\n",
       "      <td>0.140448</td>\n",
       "      <td>1.303552</td>\n",
       "      <td>-0.929540</td>\n",
       "    </tr>\n",
       "    <tr>\n",
       "      <th>3</th>\n",
       "      <td>16.0</td>\n",
       "      <td>0.967078</td>\n",
       "      <td>-0.514237</td>\n",
       "      <td>-1.000045</td>\n",
       "    </tr>\n",
       "    <tr>\n",
       "      <th>4</th>\n",
       "      <td>24.0</td>\n",
       "      <td>0.468727</td>\n",
       "      <td>-0.056261</td>\n",
       "      <td>-1.611328</td>\n",
       "    </tr>\n",
       "    <tr>\n",
       "      <th>5</th>\n",
       "      <td>17.0</td>\n",
       "      <td>0.584735</td>\n",
       "      <td>1.217346</td>\n",
       "      <td>-0.739245</td>\n",
       "    </tr>\n",
       "    <tr>\n",
       "      <th>6</th>\n",
       "      <td>14.0</td>\n",
       "      <td>-0.788167</td>\n",
       "      <td>-0.330822</td>\n",
       "      <td>0.389253</td>\n",
       "    </tr>\n",
       "    <tr>\n",
       "      <th>7</th>\n",
       "      <td>NaN</td>\n",
       "      <td>NaN</td>\n",
       "      <td>NaN</td>\n",
       "      <td>-1.604193</td>\n",
       "    </tr>\n",
       "    <tr>\n",
       "      <th>8</th>\n",
       "      <td>NaN</td>\n",
       "      <td>NaN</td>\n",
       "      <td>NaN</td>\n",
       "      <td>0.154945</td>\n",
       "    </tr>\n",
       "  </tbody>\n",
       "</table>\n",
       "</div>"
      ],
      "text/plain": [
       "      W         X         Y         Z\n",
       "0   NaN -0.373902 -0.813727 -0.628135\n",
       "1   4.0 -2.007908 -0.505396  0.871330\n",
       "2   8.0  0.140448  1.303552 -0.929540\n",
       "3  16.0  0.967078 -0.514237 -1.000045\n",
       "4  24.0  0.468727 -0.056261 -1.611328\n",
       "5  17.0  0.584735  1.217346 -0.739245\n",
       "6  14.0 -0.788167 -0.330822  0.389253\n",
       "7   NaN       NaN       NaN -1.604193\n",
       "8   NaN       NaN       NaN  0.154945"
      ]
     },
     "execution_count": 6,
     "metadata": {},
     "output_type": "execute_result"
    }
   ],
   "source": [
    "# when Series are different lengths, DataFrame fills in gaps with NaN\n",
    "m4 = pd.Series(np.random.randn(9))  # whoaaaaaa this Series has extra entries!\n",
    "\n",
    "my_df = pd.DataFrame({'W': m1, 'X': m2, 'Y': m3, 'Z': m4})\n",
    "\n",
    "my_df "
   ]
  },
  {
   "cell_type": "code",
   "execution_count": 7,
   "metadata": {},
   "outputs": [
    {
     "name": "stdout",
     "output_type": "stream",
     "text": [
      "          0         1         2         3         4\n",
      "0 -1.979434  0.870614  0.161579  0.595805  1.499160\n",
      "1  0.145599 -0.025926 -0.982997 -0.843276 -1.104624\n",
      "2  1.825501  0.243407 -1.354107  0.397349  2.779328\n",
      "3 -1.803059  1.259042 -1.318908  0.665902 -0.557820\n",
      "4 -0.386380 -0.510367  0.707177  0.635649  1.009225\n",
      "5  0.044641  1.750581 -1.281326  0.213657  0.616886\n",
      "6  0.131723 -0.564916 -2.045519  0.259991  0.344527\n",
      "7  1.051417 -0.344901 -0.467640 -0.471288  0.282296\n",
      "      W         X         Y\n",
      "0   NaN -0.373902 -0.813727\n",
      "1   4.0 -2.007908 -0.505396\n",
      "2   8.0  0.140448  1.303552\n",
      "3  16.0  0.967078 -0.514237\n",
      "4  24.0  0.468727 -0.056261\n",
      "5  17.0  0.584735  1.217346\n",
      "6  14.0 -0.788167 -0.330822\n"
     ]
    }
   ],
   "source": [
    "# create a DataFrame from numpy array\n",
    "mydf1 = pd.DataFrame(np.random.randn(8,5))\n",
    "\n",
    "mydf1             # can only have one 'pretty' output per cell (if it's the last command)\n",
    "\n",
    "print mydf1       # otherwise, can print arb number of results w/o pretty format\n",
    "print mydf       # (uncomment both of these print statements)"
   ]
  },
  {
   "cell_type": "markdown",
   "metadata": {},
   "source": [
    "Can inspect your DataFrames with head() and tail() methods - takes a number of lines as an argument. \n",
    "\n",
    "Without specifiying them, DataFrames have default index and column name attributes."
   ]
  },
  {
   "cell_type": "code",
   "execution_count": 8,
   "metadata": {},
   "outputs": [
    {
     "data": {
      "text/html": [
       "<div>\n",
       "<style>\n",
       "    .dataframe thead tr:only-child th {\n",
       "        text-align: right;\n",
       "    }\n",
       "\n",
       "    .dataframe thead th {\n",
       "        text-align: left;\n",
       "    }\n",
       "\n",
       "    .dataframe tbody tr th {\n",
       "        vertical-align: top;\n",
       "    }\n",
       "</style>\n",
       "<table border=\"1\" class=\"dataframe\">\n",
       "  <thead>\n",
       "    <tr style=\"text-align: right;\">\n",
       "      <th></th>\n",
       "      <th>0</th>\n",
       "      <th>1</th>\n",
       "      <th>2</th>\n",
       "      <th>3</th>\n",
       "      <th>4</th>\n",
       "    </tr>\n",
       "  </thead>\n",
       "  <tbody>\n",
       "    <tr>\n",
       "      <th>0</th>\n",
       "      <td>-1.979434</td>\n",
       "      <td>0.870614</td>\n",
       "      <td>0.161579</td>\n",
       "      <td>0.595805</td>\n",
       "      <td>1.499160</td>\n",
       "    </tr>\n",
       "    <tr>\n",
       "      <th>1</th>\n",
       "      <td>0.145599</td>\n",
       "      <td>-0.025926</td>\n",
       "      <td>-0.982997</td>\n",
       "      <td>-0.843276</td>\n",
       "      <td>-1.104624</td>\n",
       "    </tr>\n",
       "    <tr>\n",
       "      <th>2</th>\n",
       "      <td>1.825501</td>\n",
       "      <td>0.243407</td>\n",
       "      <td>-1.354107</td>\n",
       "      <td>0.397349</td>\n",
       "      <td>2.779328</td>\n",
       "    </tr>\n",
       "    <tr>\n",
       "      <th>3</th>\n",
       "      <td>-1.803059</td>\n",
       "      <td>1.259042</td>\n",
       "      <td>-1.318908</td>\n",
       "      <td>0.665902</td>\n",
       "      <td>-0.557820</td>\n",
       "    </tr>\n",
       "  </tbody>\n",
       "</table>\n",
       "</div>"
      ],
      "text/plain": [
       "          0         1         2         3         4\n",
       "0 -1.979434  0.870614  0.161579  0.595805  1.499160\n",
       "1  0.145599 -0.025926 -0.982997 -0.843276 -1.104624\n",
       "2  1.825501  0.243407 -1.354107  0.397349  2.779328\n",
       "3 -1.803059  1.259042 -1.318908  0.665902 -0.557820"
      ]
     },
     "execution_count": 8,
     "metadata": {},
     "output_type": "execute_result"
    }
   ],
   "source": [
    "# recall current dataframe \n",
    "mydf1.head(4)"
   ]
  },
  {
   "cell_type": "markdown",
   "metadata": {},
   "source": [
    "But you can assign to those attributes of the DataFrame..."
   ]
  },
  {
   "cell_type": "code",
   "execution_count": 9,
   "metadata": {},
   "outputs": [
    {
     "data": {
      "text/html": [
       "<div>\n",
       "<style>\n",
       "    .dataframe thead tr:only-child th {\n",
       "        text-align: right;\n",
       "    }\n",
       "\n",
       "    .dataframe thead th {\n",
       "        text-align: left;\n",
       "    }\n",
       "\n",
       "    .dataframe tbody tr th {\n",
       "        vertical-align: top;\n",
       "    }\n",
       "</style>\n",
       "<table border=\"1\" class=\"dataframe\">\n",
       "  <thead>\n",
       "    <tr style=\"text-align: right;\">\n",
       "      <th></th>\n",
       "      <th>x</th>\n",
       "      <th>y</th>\n",
       "      <th>z</th>\n",
       "      <th>v</th>\n",
       "      <th>w</th>\n",
       "    </tr>\n",
       "  </thead>\n",
       "  <tbody>\n",
       "    <tr>\n",
       "      <th>2013-05-26 16:14:14</th>\n",
       "      <td>-1.979434</td>\n",
       "      <td>0.870614</td>\n",
       "      <td>0.161579</td>\n",
       "      <td>0.595805</td>\n",
       "      <td>1.499160</td>\n",
       "    </tr>\n",
       "    <tr>\n",
       "      <th>2013-06-02 16:14:14</th>\n",
       "      <td>0.145599</td>\n",
       "      <td>-0.025926</td>\n",
       "      <td>-0.982997</td>\n",
       "      <td>-0.843276</td>\n",
       "      <td>-1.104624</td>\n",
       "    </tr>\n",
       "    <tr>\n",
       "      <th>2013-06-09 16:14:14</th>\n",
       "      <td>1.825501</td>\n",
       "      <td>0.243407</td>\n",
       "      <td>-1.354107</td>\n",
       "      <td>0.397349</td>\n",
       "      <td>2.779328</td>\n",
       "    </tr>\n",
       "    <tr>\n",
       "      <th>2013-06-16 16:14:14</th>\n",
       "      <td>-1.803059</td>\n",
       "      <td>1.259042</td>\n",
       "      <td>-1.318908</td>\n",
       "      <td>0.665902</td>\n",
       "      <td>-0.557820</td>\n",
       "    </tr>\n",
       "    <tr>\n",
       "      <th>2013-06-23 16:14:14</th>\n",
       "      <td>-0.386380</td>\n",
       "      <td>-0.510367</td>\n",
       "      <td>0.707177</td>\n",
       "      <td>0.635649</td>\n",
       "      <td>1.009225</td>\n",
       "    </tr>\n",
       "    <tr>\n",
       "      <th>2013-06-30 16:14:14</th>\n",
       "      <td>0.044641</td>\n",
       "      <td>1.750581</td>\n",
       "      <td>-1.281326</td>\n",
       "      <td>0.213657</td>\n",
       "      <td>0.616886</td>\n",
       "    </tr>\n",
       "    <tr>\n",
       "      <th>2013-07-07 16:14:14</th>\n",
       "      <td>0.131723</td>\n",
       "      <td>-0.564916</td>\n",
       "      <td>-2.045519</td>\n",
       "      <td>0.259991</td>\n",
       "      <td>0.344527</td>\n",
       "    </tr>\n",
       "    <tr>\n",
       "      <th>2013-07-14 16:14:14</th>\n",
       "      <td>1.051417</td>\n",
       "      <td>-0.344901</td>\n",
       "      <td>-0.467640</td>\n",
       "      <td>-0.471288</td>\n",
       "      <td>0.282296</td>\n",
       "    </tr>\n",
       "  </tbody>\n",
       "</table>\n",
       "</div>"
      ],
      "text/plain": [
       "                            x         y         z         v         w\n",
       "2013-05-26 16:14:14 -1.979434  0.870614  0.161579  0.595805  1.499160\n",
       "2013-06-02 16:14:14  0.145599 -0.025926 -0.982997 -0.843276 -1.104624\n",
       "2013-06-09 16:14:14  1.825501  0.243407 -1.354107  0.397349  2.779328\n",
       "2013-06-16 16:14:14 -1.803059  1.259042 -1.318908  0.665902 -0.557820\n",
       "2013-06-23 16:14:14 -0.386380 -0.510367  0.707177  0.635649  1.009225\n",
       "2013-06-30 16:14:14  0.044641  1.750581 -1.281326  0.213657  0.616886\n",
       "2013-07-07 16:14:14  0.131723 -0.564916 -2.045519  0.259991  0.344527\n",
       "2013-07-14 16:14:14  1.051417 -0.344901 -0.467640 -0.471288  0.282296"
      ]
     },
     "execution_count": 9,
     "metadata": {},
     "output_type": "execute_result"
    }
   ],
   "source": [
    "cs = ['x', 'y', 'z', 'v', 'w']\n",
    "\n",
    "# assign columns attribute (names) \n",
    "mydf1.columns = cs\n",
    "\n",
    "# create an index:\n",
    "#  generate a sequence of dates with pandas' data_range() method,\n",
    "#  then assign the index attribute\n",
    "dts = pd.date_range(start='2013-05-24 16:14:14', freq='W', periods=8)\n",
    "mydf1.index = dts\n",
    "\n",
    "mydf1"
   ]
  },
  {
   "cell_type": "code",
   "execution_count": 10,
   "metadata": {},
   "outputs": [
    {
     "name": "stdout",
     "output_type": "stream",
     "text": [
      "what is a date_range object?\n",
      "\n",
      "DatetimeIndex(['2013-05-26 16:14:14', '2013-06-02 16:14:14',\n",
      "               '2013-06-09 16:14:14', '2013-06-16 16:14:14',\n",
      "               '2013-06-23 16:14:14', '2013-06-30 16:14:14',\n",
      "               '2013-07-07 16:14:14', '2013-07-14 16:14:14'],\n",
      "              dtype='datetime64[ns]', freq='W-SUN')\n"
     ]
    }
   ],
   "source": [
    "# an aside: inspecting the dates object...\n",
    "print 'what is a date_range object?\\n\\n', dts"
   ]
  },
  {
   "cell_type": "markdown",
   "metadata": {},
   "source": [
    "Do some indexing / subsetting..."
   ]
  },
  {
   "cell_type": "code",
   "execution_count": 11,
   "metadata": {},
   "outputs": [
    {
     "data": {
      "text/plain": [
       "x    0.131723\n",
       "y   -0.564916\n",
       "z   -2.045519\n",
       "v    0.259991\n",
       "w    0.344527\n",
       "Name: 2013-07-07 16:14:14, dtype: float64"
      ]
     },
     "execution_count": 11,
     "metadata": {},
     "output_type": "execute_result"
    }
   ],
   "source": [
    "# select a row by index label by using .loc \n",
    "mydf1.loc['2013-07-07 16:14:14']"
   ]
  },
  {
   "cell_type": "code",
   "execution_count": 12,
   "metadata": {},
   "outputs": [
    {
     "data": {
      "text/plain": [
       "0.16157885577697387"
      ]
     },
     "execution_count": 12,
     "metadata": {},
     "output_type": "execute_result"
    }
   ],
   "source": [
    "# select a single element\n",
    "mydf1.loc['2013-05-26 16:14:14','z']"
   ]
  },
  {
   "cell_type": "code",
   "execution_count": 13,
   "metadata": {},
   "outputs": [
    {
     "data": {
      "text/html": [
       "<div>\n",
       "<style>\n",
       "    .dataframe thead tr:only-child th {\n",
       "        text-align: right;\n",
       "    }\n",
       "\n",
       "    .dataframe thead th {\n",
       "        text-align: left;\n",
       "    }\n",
       "\n",
       "    .dataframe tbody tr th {\n",
       "        vertical-align: top;\n",
       "    }\n",
       "</style>\n",
       "<table border=\"1\" class=\"dataframe\">\n",
       "  <thead>\n",
       "    <tr style=\"text-align: right;\">\n",
       "      <th></th>\n",
       "      <th>W</th>\n",
       "      <th>X</th>\n",
       "      <th>Y</th>\n",
       "      <th>Z</th>\n",
       "      <th>A</th>\n",
       "      <th>B</th>\n",
       "      <th>C</th>\n",
       "    </tr>\n",
       "  </thead>\n",
       "  <tbody>\n",
       "    <tr>\n",
       "      <th>r</th>\n",
       "      <td>0.052040</td>\n",
       "      <td>-1.579228</td>\n",
       "      <td>0.730429</td>\n",
       "      <td>-0.156610</td>\n",
       "      <td>-0.739271</td>\n",
       "      <td>1.047159</td>\n",
       "      <td>2.613013</td>\n",
       "    </tr>\n",
       "    <tr>\n",
       "      <th>s</th>\n",
       "      <td>-0.892455</td>\n",
       "      <td>-0.666634</td>\n",
       "      <td>0.145120</td>\n",
       "      <td>-1.374048</td>\n",
       "      <td>-1.135077</td>\n",
       "      <td>-0.534149</td>\n",
       "      <td>-0.564438</td>\n",
       "    </tr>\n",
       "    <tr>\n",
       "      <th>t</th>\n",
       "      <td>-0.125459</td>\n",
       "      <td>1.354532</td>\n",
       "      <td>0.284881</td>\n",
       "      <td>-0.491755</td>\n",
       "      <td>-0.956256</td>\n",
       "      <td>-0.361497</td>\n",
       "      <td>0.161712</td>\n",
       "    </tr>\n",
       "    <tr>\n",
       "      <th>l</th>\n",
       "      <td>0.262518</td>\n",
       "      <td>0.196135</td>\n",
       "      <td>0.040833</td>\n",
       "      <td>-0.451995</td>\n",
       "      <td>-1.147921</td>\n",
       "      <td>0.740042</td>\n",
       "      <td>-0.615051</td>\n",
       "    </tr>\n",
       "    <tr>\n",
       "      <th>n</th>\n",
       "      <td>0.241802</td>\n",
       "      <td>-0.173474</td>\n",
       "      <td>0.587016</td>\n",
       "      <td>0.316506</td>\n",
       "      <td>-1.505252</td>\n",
       "      <td>-0.440143</td>\n",
       "      <td>-1.111473</td>\n",
       "    </tr>\n",
       "    <tr>\n",
       "      <th>e</th>\n",
       "      <td>-0.122608</td>\n",
       "      <td>0.024235</td>\n",
       "      <td>-0.788872</td>\n",
       "      <td>0.549005</td>\n",
       "      <td>-0.511097</td>\n",
       "      <td>0.343371</td>\n",
       "      <td>0.069982</td>\n",
       "    </tr>\n",
       "    <tr>\n",
       "      <th>a</th>\n",
       "      <td>-0.129802</td>\n",
       "      <td>0.234345</td>\n",
       "      <td>-0.231026</td>\n",
       "      <td>-0.753858</td>\n",
       "      <td>1.203371</td>\n",
       "      <td>-0.672741</td>\n",
       "      <td>-0.922743</td>\n",
       "    </tr>\n",
       "  </tbody>\n",
       "</table>\n",
       "</div>"
      ],
      "text/plain": [
       "          W         X         Y         Z         A         B         C\n",
       "r  0.052040 -1.579228  0.730429 -0.156610 -0.739271  1.047159  2.613013\n",
       "s -0.892455 -0.666634  0.145120 -1.374048 -1.135077 -0.534149 -0.564438\n",
       "t -0.125459  1.354532  0.284881 -0.491755 -0.956256 -0.361497  0.161712\n",
       "l  0.262518  0.196135  0.040833 -0.451995 -1.147921  0.740042 -0.615051\n",
       "n  0.241802 -0.173474  0.587016  0.316506 -1.505252 -0.440143 -1.111473\n",
       "e -0.122608  0.024235 -0.788872  0.549005 -0.511097  0.343371  0.069982\n",
       "a -0.129802  0.234345 -0.231026 -0.753858  1.203371 -0.672741 -0.922743"
      ]
     },
     "execution_count": 13,
     "metadata": {},
     "output_type": "execute_result"
    }
   ],
   "source": [
    "# new dataframe with random numbers\n",
    "df_1 = pd.DataFrame(np.random.randn(7,7), index=list('rstlnea'),columns=list('WXYZABC'))\n",
    "\n",
    "df_1"
   ]
  },
  {
   "cell_type": "code",
   "execution_count": 14,
   "metadata": {},
   "outputs": [
    {
     "data": {
      "text/html": [
       "<div>\n",
       "<style>\n",
       "    .dataframe thead tr:only-child th {\n",
       "        text-align: right;\n",
       "    }\n",
       "\n",
       "    .dataframe thead th {\n",
       "        text-align: left;\n",
       "    }\n",
       "\n",
       "    .dataframe tbody tr th {\n",
       "        vertical-align: top;\n",
       "    }\n",
       "</style>\n",
       "<table border=\"1\" class=\"dataframe\">\n",
       "  <thead>\n",
       "    <tr style=\"text-align: right;\">\n",
       "      <th></th>\n",
       "      <th>X</th>\n",
       "      <th>Y</th>\n",
       "      <th>Z</th>\n",
       "    </tr>\n",
       "  </thead>\n",
       "  <tbody>\n",
       "    <tr>\n",
       "      <th>l</th>\n",
       "      <td>0.196135</td>\n",
       "      <td>0.040833</td>\n",
       "      <td>-0.451995</td>\n",
       "    </tr>\n",
       "    <tr>\n",
       "      <th>e</th>\n",
       "      <td>0.024235</td>\n",
       "      <td>-0.788872</td>\n",
       "      <td>0.549005</td>\n",
       "    </tr>\n",
       "    <tr>\n",
       "      <th>n</th>\n",
       "      <td>-0.173474</td>\n",
       "      <td>0.587016</td>\n",
       "      <td>0.316506</td>\n",
       "    </tr>\n",
       "  </tbody>\n",
       "</table>\n",
       "</div>"
      ],
      "text/plain": [
       "          X         Y         Z\n",
       "l  0.196135  0.040833 -0.451995\n",
       "e  0.024235 -0.788872  0.549005\n",
       "n -0.173474  0.587016  0.316506"
      ]
     },
     "execution_count": 14,
     "metadata": {},
     "output_type": "execute_result"
    }
   ],
   "source": [
    "# address three separate rows, and a range of three columns\n",
    "df_1.loc[['l','e','n'],'X':'Z']"
   ]
  },
  {
   "cell_type": "markdown",
   "metadata": {},
   "source": [
    "## part 2: data\n",
    "\n",
    "In the `data/` directory is the sample of parsed twitter data that floats around with gnacs. To create the string of column names, I just used the explain option with all other options."
   ]
  },
  {
   "cell_type": "code",
   "execution_count": 15,
   "metadata": {
    "collapsed": true
   },
   "outputs": [],
   "source": [
    "g_x = \"id|postedTime|body|NA|['twitter_entiteis:urls:url']|['NA']|['actor:languages_list-items']|gnip:language:value|twitter_lang|[u'geo:coordinates_list-items']|geo:type|NA|NA|NA|NA|actor:utcOffset|NA|NA|NA|NA|NA|NA|NA|NA|NA|actor:displayName|actor:preferredUsername|actor:id|gnip:klout_score|actor:followersCount|actor:friendsCount|actor:listedCount|actor:statusesCount|Tweet|NA|NA|NA\"\n",
    "cnames = g_x.split('|')"
   ]
  },
  {
   "cell_type": "code",
   "execution_count": 16,
   "metadata": {},
   "outputs": [
    {
     "data": {
      "text/html": [
       "<div>\n",
       "<style>\n",
       "    .dataframe thead tr:only-child th {\n",
       "        text-align: right;\n",
       "    }\n",
       "\n",
       "    .dataframe thead th {\n",
       "        text-align: left;\n",
       "    }\n",
       "\n",
       "    .dataframe tbody tr th {\n",
       "        vertical-align: top;\n",
       "    }\n",
       "</style>\n",
       "<table border=\"1\" class=\"dataframe\">\n",
       "  <thead>\n",
       "    <tr style=\"text-align: right;\">\n",
       "      <th></th>\n",
       "      <th>id</th>\n",
       "      <th>postedTime</th>\n",
       "      <th>body</th>\n",
       "      <th>NA</th>\n",
       "      <th>['twitter_entiteis:urls:url']</th>\n",
       "      <th>['NA']</th>\n",
       "      <th>['actor:languages_list-items']</th>\n",
       "      <th>gnip:language:value</th>\n",
       "      <th>twitter_lang</th>\n",
       "      <th>[u'geo:coordinates_list-items']</th>\n",
       "      <th>geo:type</th>\n",
       "      <th>NA.1</th>\n",
       "      <th>NA.2</th>\n",
       "      <th>NA.3</th>\n",
       "      <th>NA.4</th>\n",
       "      <th>actor:utcOffset</th>\n",
       "      <th>NA.5</th>\n",
       "      <th>NA.6</th>\n",
       "      <th>NA.7</th>\n",
       "      <th>NA.8</th>\n",
       "      <th>NA.9</th>\n",
       "      <th>NA.10</th>\n",
       "      <th>NA.11</th>\n",
       "      <th>NA.12</th>\n",
       "      <th>NA.13</th>\n",
       "      <th>actor:displayName</th>\n",
       "      <th>actor:preferredUsername</th>\n",
       "      <th>actor:id</th>\n",
       "      <th>gnip:klout_score</th>\n",
       "      <th>actor:followersCount</th>\n",
       "      <th>actor:friendsCount</th>\n",
       "      <th>actor:listedCount</th>\n",
       "      <th>actor:statusesCount</th>\n",
       "      <th>Tweet</th>\n",
       "      <th>NA.14</th>\n",
       "      <th>NA.15</th>\n",
       "      <th>NA.16</th>\n",
       "    </tr>\n",
       "  </thead>\n",
       "  <tbody>\n",
       "    <tr>\n",
       "      <th>85</th>\n",
       "      <td>tag:search.twitter.com,2005:351835320817426433</td>\n",
       "      <td>2013-07-01T22:50:51.000Z</td>\n",
       "      <td>Como cuando grito ¡¡*José*!! y la mayoria de m...</td>\n",
       "      <td>None</td>\n",
       "      <td>None</td>\n",
       "      <td>None</td>\n",
       "      <td>['es']</td>\n",
       "      <td>en</td>\n",
       "      <td>es</td>\n",
       "      <td>[14.9673297, -91.7889038]</td>\n",
       "      <td>Point</td>\n",
       "      <td>['[-94.230569, 14.5319181]', '[-94.230569, 17....</td>\n",
       "      <td>Polygon</td>\n",
       "      <td>Chiapas, México</td>\n",
       "      <td>MX</td>\n",
       "      <td>-10800</td>\n",
       "      <td>Guatemala</td>\n",
       "      <td>None</td>\n",
       "      <td>None</td>\n",
       "      <td>None</td>\n",
       "      <td>None</td>\n",
       "      <td>None</td>\n",
       "      <td>None</td>\n",
       "      <td>None</td>\n",
       "      <td>None</td>\n",
       "      <td>Pilar Ochoa</td>\n",
       "      <td>PiLigrOsa</td>\n",
       "      <td>107307381</td>\n",
       "      <td>39</td>\n",
       "      <td>280</td>\n",
       "      <td>258</td>\n",
       "      <td>0</td>\n",
       "      <td>2632</td>\n",
       "      <td>Tweet</td>\n",
       "      <td>None</td>\n",
       "      <td>None</td>\n",
       "      <td>None</td>\n",
       "    </tr>\n",
       "    <tr>\n",
       "      <th>86</th>\n",
       "      <td>tag:search.twitter.com,2005:351835321006170112</td>\n",
       "      <td>2013-07-01T22:50:51.000Z</td>\n",
       "      <td>Tweeting for no reason</td>\n",
       "      <td>None</td>\n",
       "      <td>None</td>\n",
       "      <td>None</td>\n",
       "      <td>['en']</td>\n",
       "      <td>en</td>\n",
       "      <td>en</td>\n",
       "      <td>[47.0353488, -122.7995873]</td>\n",
       "      <td>Point</td>\n",
       "      <td>['[-122.839691, 46.980616]', '[-122.839691, 47...</td>\n",
       "      <td>Polygon</td>\n",
       "      <td>Lacey, WA</td>\n",
       "      <td>US</td>\n",
       "      <td>None</td>\n",
       "      <td>None</td>\n",
       "      <td>None</td>\n",
       "      <td>None</td>\n",
       "      <td>None</td>\n",
       "      <td>None</td>\n",
       "      <td>None</td>\n",
       "      <td>None</td>\n",
       "      <td>None</td>\n",
       "      <td>None</td>\n",
       "      <td>aG€Nt ¥£  ¤w</td>\n",
       "      <td>godsgentlegiant</td>\n",
       "      <td>1518643968</td>\n",
       "      <td>41</td>\n",
       "      <td>71</td>\n",
       "      <td>67</td>\n",
       "      <td>0</td>\n",
       "      <td>1474</td>\n",
       "      <td>Tweet</td>\n",
       "      <td>None</td>\n",
       "      <td>None</td>\n",
       "      <td>None</td>\n",
       "    </tr>\n",
       "    <tr>\n",
       "      <th>87</th>\n",
       "      <td>tag:search.twitter.com,2005:351835321056509952</td>\n",
       "      <td>2013-07-01T22:50:51.000Z</td>\n",
       "      <td>And I'm the one that always gets hit on. OKAAAAY.</td>\n",
       "      <td>None</td>\n",
       "      <td>None</td>\n",
       "      <td>None</td>\n",
       "      <td>['en']</td>\n",
       "      <td>en</td>\n",
       "      <td>en</td>\n",
       "      <td>[34.09956425, -117.40411515]</td>\n",
       "      <td>Point</td>\n",
       "      <td>['[-117.436711, 34.023746]', '[-117.436711, 34...</td>\n",
       "      <td>Polygon</td>\n",
       "      <td>Rialto, CA</td>\n",
       "      <td>US</td>\n",
       "      <td>-28800</td>\n",
       "      <td>Arizona-Cali</td>\n",
       "      <td>None</td>\n",
       "      <td>None</td>\n",
       "      <td>None</td>\n",
       "      <td>None</td>\n",
       "      <td>None</td>\n",
       "      <td>None</td>\n",
       "      <td>None</td>\n",
       "      <td>None</td>\n",
       "      <td>Cilli♡</td>\n",
       "      <td>Cilli_021112</td>\n",
       "      <td>382278854</td>\n",
       "      <td>30</td>\n",
       "      <td>557</td>\n",
       "      <td>440</td>\n",
       "      <td>1</td>\n",
       "      <td>18434</td>\n",
       "      <td>Tweet</td>\n",
       "      <td>None</td>\n",
       "      <td>None</td>\n",
       "      <td>None</td>\n",
       "    </tr>\n",
       "    <tr>\n",
       "      <th>88</th>\n",
       "      <td>tag:search.twitter.com,2005:351835320297328640</td>\n",
       "      <td>2013-07-01T22:50:51.000Z</td>\n",
       "      <td>@CheniseFowlisX yeah 😂</td>\n",
       "      <td>None</td>\n",
       "      <td>None</td>\n",
       "      <td>None</td>\n",
       "      <td>['en']</td>\n",
       "      <td>en</td>\n",
       "      <td>vi</td>\n",
       "      <td>[53.28722009, -3.21569687]</td>\n",
       "      <td>Point</td>\n",
       "      <td>['[-3.400604, 53.072143999999994]', '[-3.40060...</td>\n",
       "      <td>Polygon</td>\n",
       "      <td>Flintshire, Flintshire</td>\n",
       "      <td>GB</td>\n",
       "      <td>0</td>\n",
       "      <td>Leeds- UK / Greenfield- Wales</td>\n",
       "      <td>None</td>\n",
       "      <td>None</td>\n",
       "      <td>None</td>\n",
       "      <td>None</td>\n",
       "      <td>None</td>\n",
       "      <td>None</td>\n",
       "      <td>None</td>\n",
       "      <td>None</td>\n",
       "      <td>marshaa</td>\n",
       "      <td>marshaleighm</td>\n",
       "      <td>269323425</td>\n",
       "      <td>44</td>\n",
       "      <td>767</td>\n",
       "      <td>486</td>\n",
       "      <td>0</td>\n",
       "      <td>17549</td>\n",
       "      <td>Reply</td>\n",
       "      <td>http://twitter.com/CheniseFowlisX/statuses/351...</td>\n",
       "      <td>None</td>\n",
       "      <td>None</td>\n",
       "    </tr>\n",
       "    <tr>\n",
       "      <th>89</th>\n",
       "      <td>tag:search.twitter.com,2005:351835321220075524</td>\n",
       "      <td>2013-07-01T22:50:52.000Z</td>\n",
       "      <td>@justinbagdr no, non mi far star meglio.</td>\n",
       "      <td>None</td>\n",
       "      <td>None</td>\n",
       "      <td>None</td>\n",
       "      <td>['it']</td>\n",
       "      <td>it</td>\n",
       "      <td>it</td>\n",
       "      <td>None</td>\n",
       "      <td>None</td>\n",
       "      <td>['[14.1332005, 40.7920697]', '[14.1332005, 40....</td>\n",
       "      <td>Polygon</td>\n",
       "      <td>Napoli, Napoli</td>\n",
       "      <td>IT</td>\n",
       "      <td>None</td>\n",
       "      <td>#bagdr @limitdemibagdr</td>\n",
       "      <td>None</td>\n",
       "      <td>None</td>\n",
       "      <td>None</td>\n",
       "      <td>None</td>\n",
       "      <td>None</td>\n",
       "      <td>None</td>\n",
       "      <td>None</td>\n",
       "      <td>None</td>\n",
       "      <td>demi.</td>\n",
       "      <td>demibagdr</td>\n",
       "      <td>1542203100</td>\n",
       "      <td>44</td>\n",
       "      <td>64</td>\n",
       "      <td>58</td>\n",
       "      <td>0</td>\n",
       "      <td>1872</td>\n",
       "      <td>Reply</td>\n",
       "      <td>http://twitter.com/justinbagdr/statuses/351833...</td>\n",
       "      <td>None</td>\n",
       "      <td>None</td>\n",
       "    </tr>\n",
       "    <tr>\n",
       "      <th>90</th>\n",
       "      <td>tag:search.twitter.com,2005:351835321081659392</td>\n",
       "      <td>2013-07-01T22:50:51.000Z</td>\n",
       "      <td>@xhazzasdimples Probabile AHAHHAHAHAHAHAHAHAHA...</td>\n",
       "      <td>None</td>\n",
       "      <td>None</td>\n",
       "      <td>None</td>\n",
       "      <td>['it']</td>\n",
       "      <td>it</td>\n",
       "      <td>it</td>\n",
       "      <td>[41.73604, 12.2890263]</td>\n",
       "      <td>Point</td>\n",
       "      <td>['[12.2344266, 41.6558738]', '[12.2344266, 42....</td>\n",
       "      <td>Polygon</td>\n",
       "      <td>Roma, Roma</td>\n",
       "      <td>IT</td>\n",
       "      <td>7200</td>\n",
       "      <td>Big Ben's tip</td>\n",
       "      <td>None</td>\n",
       "      <td>None</td>\n",
       "      <td>None</td>\n",
       "      <td>None</td>\n",
       "      <td>None</td>\n",
       "      <td>None</td>\n",
       "      <td>None</td>\n",
       "      <td>None</td>\n",
       "      <td>She's my Louis ❤</td>\n",
       "      <td>xliamsdreams</td>\n",
       "      <td>562092674</td>\n",
       "      <td>53</td>\n",
       "      <td>5084</td>\n",
       "      <td>3802</td>\n",
       "      <td>11</td>\n",
       "      <td>30163</td>\n",
       "      <td>Reply</td>\n",
       "      <td>http://twitter.com/xhazzasdimples/statuses/351...</td>\n",
       "      <td>None</td>\n",
       "      <td>None</td>\n",
       "    </tr>\n",
       "    <tr>\n",
       "      <th>91</th>\n",
       "      <td>tag:search.twitter.com,2005:351835321442385921</td>\n",
       "      <td>2013-07-01T22:50:52.000Z</td>\n",
       "      <td>Mandei a foto do Piqué e o fc n respondeu até ...</td>\n",
       "      <td>None</td>\n",
       "      <td>None</td>\n",
       "      <td>None</td>\n",
       "      <td>['pt']</td>\n",
       "      <td>pt</td>\n",
       "      <td>pt</td>\n",
       "      <td>None</td>\n",
       "      <td>None</td>\n",
       "      <td>['[-50.899727999999996, -21.454719]', '[-50.89...</td>\n",
       "      <td>Polygon</td>\n",
       "      <td>Araçatuba, São Paulo</td>\n",
       "      <td>BR</td>\n",
       "      <td>-10800</td>\n",
       "      <td>na cama do mari :p</td>\n",
       "      <td>None</td>\n",
       "      <td>None</td>\n",
       "      <td>None</td>\n",
       "      <td>None</td>\n",
       "      <td>None</td>\n",
       "      <td>None</td>\n",
       "      <td>None</td>\n",
       "      <td>None</td>\n",
       "      <td>lorena uai ∞</td>\n",
       "      <td>Fc_GritaAmor</td>\n",
       "      <td>397609113</td>\n",
       "      <td>44</td>\n",
       "      <td>1248</td>\n",
       "      <td>1962</td>\n",
       "      <td>0</td>\n",
       "      <td>11161</td>\n",
       "      <td>Tweet</td>\n",
       "      <td>None</td>\n",
       "      <td>None</td>\n",
       "      <td>None</td>\n",
       "    </tr>\n",
       "    <tr>\n",
       "      <th>92</th>\n",
       "      <td>tag:search.twitter.com,2005:351835321425608704</td>\n",
       "      <td>2013-07-01T22:50:52.000Z</td>\n",
       "      <td>O matheus André ta me falando aqui , tem quase...</td>\n",
       "      <td>None</td>\n",
       "      <td>None</td>\n",
       "      <td>None</td>\n",
       "      <td>['pt']</td>\n",
       "      <td>pt</td>\n",
       "      <td>pt</td>\n",
       "      <td>[-22.72046574, -43.57919689]</td>\n",
       "      <td>Point</td>\n",
       "      <td>['[-43.645123999999996, -22.783967999999998]',...</td>\n",
       "      <td>Polygon</td>\n",
       "      <td>Queimados, Rio de Janeiro</td>\n",
       "      <td>BR</td>\n",
       "      <td>-10800</td>\n",
       "      <td>Rio de Janeiro</td>\n",
       "      <td>None</td>\n",
       "      <td>None</td>\n",
       "      <td>None</td>\n",
       "      <td>None</td>\n",
       "      <td>None</td>\n",
       "      <td>None</td>\n",
       "      <td>None</td>\n",
       "      <td>None</td>\n",
       "      <td>Shelyda</td>\n",
       "      <td>ShelydaDays</td>\n",
       "      <td>70959019</td>\n",
       "      <td>40</td>\n",
       "      <td>128</td>\n",
       "      <td>76</td>\n",
       "      <td>0</td>\n",
       "      <td>1419</td>\n",
       "      <td>Tweet</td>\n",
       "      <td>None</td>\n",
       "      <td>None</td>\n",
       "      <td>None</td>\n",
       "    </tr>\n",
       "    <tr>\n",
       "      <th>93</th>\n",
       "      <td>tag:search.twitter.com,2005:351835320859369475</td>\n",
       "      <td>2013-07-01T22:50:51.000Z</td>\n",
       "      <td>@Mulayhim hatha bs one exam. Other exams y6l3o...</td>\n",
       "      <td>None</td>\n",
       "      <td>None</td>\n",
       "      <td>None</td>\n",
       "      <td>['en']</td>\n",
       "      <td>en</td>\n",
       "      <td>en</td>\n",
       "      <td>[52.21599153, 6.88528201]</td>\n",
       "      <td>Point</td>\n",
       "      <td>['[6.7559955, 52.1611799]', '[6.7559955, 52.28...</td>\n",
       "      <td>Polygon</td>\n",
       "      <td>Enschede</td>\n",
       "      <td>NL</td>\n",
       "      <td>3600</td>\n",
       "      <td>Netherlands\\Enschede</td>\n",
       "      <td>None</td>\n",
       "      <td>None</td>\n",
       "      <td>None</td>\n",
       "      <td>None</td>\n",
       "      <td>None</td>\n",
       "      <td>None</td>\n",
       "      <td>None</td>\n",
       "      <td>None</td>\n",
       "      <td>L</td>\n",
       "      <td>Karkooba</td>\n",
       "      <td>1252736376</td>\n",
       "      <td>30</td>\n",
       "      <td>48</td>\n",
       "      <td>88</td>\n",
       "      <td>0</td>\n",
       "      <td>957</td>\n",
       "      <td>Reply</td>\n",
       "      <td>http://twitter.com/Mulayhim/statuses/351817617...</td>\n",
       "      <td>None</td>\n",
       "      <td>None</td>\n",
       "    </tr>\n",
       "    <tr>\n",
       "      <th>94</th>\n",
       "      <td>tag:search.twitter.com,2005:351835321471746048</td>\n",
       "      <td>2013-07-01T22:50:52.000Z</td>\n",
       "      <td>😕 Hmm...</td>\n",
       "      <td>None</td>\n",
       "      <td>None</td>\n",
       "      <td>None</td>\n",
       "      <td>['en']</td>\n",
       "      <td>None</td>\n",
       "      <td>en</td>\n",
       "      <td>[42.21746118, -78.03367083]</td>\n",
       "      <td>Point</td>\n",
       "      <td>['[-78.045887, 42.212985]', '[-78.045887, 42.2...</td>\n",
       "      <td>Polygon</td>\n",
       "      <td>Belmont, NY</td>\n",
       "      <td>US</td>\n",
       "      <td>None</td>\n",
       "      <td>None</td>\n",
       "      <td>None</td>\n",
       "      <td>None</td>\n",
       "      <td>None</td>\n",
       "      <td>None</td>\n",
       "      <td>None</td>\n",
       "      <td>None</td>\n",
       "      <td>None</td>\n",
       "      <td>None</td>\n",
       "      <td>Lindsey Chamberlain</td>\n",
       "      <td>Linnyy_Kayy</td>\n",
       "      <td>466042520</td>\n",
       "      <td>41</td>\n",
       "      <td>198</td>\n",
       "      <td>188</td>\n",
       "      <td>0</td>\n",
       "      <td>1897</td>\n",
       "      <td>Tweet</td>\n",
       "      <td>None</td>\n",
       "      <td>None</td>\n",
       "      <td>None</td>\n",
       "    </tr>\n",
       "  </tbody>\n",
       "</table>\n",
       "</div>"
      ],
      "text/plain": [
       "                                                id                postedTime  \\\n",
       "85  tag:search.twitter.com,2005:351835320817426433  2013-07-01T22:50:51.000Z   \n",
       "86  tag:search.twitter.com,2005:351835321006170112  2013-07-01T22:50:51.000Z   \n",
       "87  tag:search.twitter.com,2005:351835321056509952  2013-07-01T22:50:51.000Z   \n",
       "88  tag:search.twitter.com,2005:351835320297328640  2013-07-01T22:50:51.000Z   \n",
       "89  tag:search.twitter.com,2005:351835321220075524  2013-07-01T22:50:52.000Z   \n",
       "90  tag:search.twitter.com,2005:351835321081659392  2013-07-01T22:50:51.000Z   \n",
       "91  tag:search.twitter.com,2005:351835321442385921  2013-07-01T22:50:52.000Z   \n",
       "92  tag:search.twitter.com,2005:351835321425608704  2013-07-01T22:50:52.000Z   \n",
       "93  tag:search.twitter.com,2005:351835320859369475  2013-07-01T22:50:51.000Z   \n",
       "94  tag:search.twitter.com,2005:351835321471746048  2013-07-01T22:50:52.000Z   \n",
       "\n",
       "                                                 body    NA  \\\n",
       "85  Como cuando grito ¡¡*José*!! y la mayoria de m...  None   \n",
       "86                             Tweeting for no reason  None   \n",
       "87  And I'm the one that always gets hit on. OKAAAAY.  None   \n",
       "88                            @CheniseFowlisX yeah 😂  None   \n",
       "89           @justinbagdr no, non mi far star meglio.  None   \n",
       "90  @xhazzasdimples Probabile AHAHHAHAHAHAHAHAHAHA...  None   \n",
       "91  Mandei a foto do Piqué e o fc n respondeu até ...  None   \n",
       "92  O matheus André ta me falando aqui , tem quase...  None   \n",
       "93  @Mulayhim hatha bs one exam. Other exams y6l3o...  None   \n",
       "94                                          😕 Hmm...  None   \n",
       "\n",
       "   ['twitter_entiteis:urls:url'] ['NA'] ['actor:languages_list-items']  \\\n",
       "85                          None   None                         ['es']   \n",
       "86                          None   None                         ['en']   \n",
       "87                          None   None                         ['en']   \n",
       "88                          None   None                         ['en']   \n",
       "89                          None   None                         ['it']   \n",
       "90                          None   None                         ['it']   \n",
       "91                          None   None                         ['pt']   \n",
       "92                          None   None                         ['pt']   \n",
       "93                          None   None                         ['en']   \n",
       "94                          None   None                         ['en']   \n",
       "\n",
       "   gnip:language:value twitter_lang [u'geo:coordinates_list-items'] geo:type  \\\n",
       "85                  en           es       [14.9673297, -91.7889038]    Point   \n",
       "86                  en           en      [47.0353488, -122.7995873]    Point   \n",
       "87                  en           en    [34.09956425, -117.40411515]    Point   \n",
       "88                  en           vi      [53.28722009, -3.21569687]    Point   \n",
       "89                  it           it                            None     None   \n",
       "90                  it           it          [41.73604, 12.2890263]    Point   \n",
       "91                  pt           pt                            None     None   \n",
       "92                  pt           pt    [-22.72046574, -43.57919689]    Point   \n",
       "93                  en           en       [52.21599153, 6.88528201]    Point   \n",
       "94                None           en     [42.21746118, -78.03367083]    Point   \n",
       "\n",
       "                                                 NA.1     NA.2  \\\n",
       "85  ['[-94.230569, 14.5319181]', '[-94.230569, 17....  Polygon   \n",
       "86  ['[-122.839691, 46.980616]', '[-122.839691, 47...  Polygon   \n",
       "87  ['[-117.436711, 34.023746]', '[-117.436711, 34...  Polygon   \n",
       "88  ['[-3.400604, 53.072143999999994]', '[-3.40060...  Polygon   \n",
       "89  ['[14.1332005, 40.7920697]', '[14.1332005, 40....  Polygon   \n",
       "90  ['[12.2344266, 41.6558738]', '[12.2344266, 42....  Polygon   \n",
       "91  ['[-50.899727999999996, -21.454719]', '[-50.89...  Polygon   \n",
       "92  ['[-43.645123999999996, -22.783967999999998]',...  Polygon   \n",
       "93  ['[6.7559955, 52.1611799]', '[6.7559955, 52.28...  Polygon   \n",
       "94  ['[-78.045887, 42.212985]', '[-78.045887, 42.2...  Polygon   \n",
       "\n",
       "                         NA.3 NA.4 actor:utcOffset  \\\n",
       "85            Chiapas, México   MX          -10800   \n",
       "86                  Lacey, WA   US            None   \n",
       "87                 Rialto, CA   US          -28800   \n",
       "88     Flintshire, Flintshire   GB               0   \n",
       "89             Napoli, Napoli   IT            None   \n",
       "90                 Roma, Roma   IT            7200   \n",
       "91       Araçatuba, São Paulo   BR          -10800   \n",
       "92  Queimados, Rio de Janeiro   BR          -10800   \n",
       "93                   Enschede   NL            3600   \n",
       "94                Belmont, NY   US            None   \n",
       "\n",
       "                             NA.5  NA.6  NA.7  NA.8  NA.9 NA.10 NA.11 NA.12  \\\n",
       "85                      Guatemala  None  None  None  None  None  None  None   \n",
       "86                           None  None  None  None  None  None  None  None   \n",
       "87                   Arizona-Cali  None  None  None  None  None  None  None   \n",
       "88  Leeds- UK / Greenfield- Wales  None  None  None  None  None  None  None   \n",
       "89         #bagdr @limitdemibagdr  None  None  None  None  None  None  None   \n",
       "90                  Big Ben's tip  None  None  None  None  None  None  None   \n",
       "91             na cama do mari :p  None  None  None  None  None  None  None   \n",
       "92                 Rio de Janeiro  None  None  None  None  None  None  None   \n",
       "93           Netherlands\\Enschede  None  None  None  None  None  None  None   \n",
       "94                           None  None  None  None  None  None  None  None   \n",
       "\n",
       "   NA.13    actor:displayName actor:preferredUsername    actor:id  \\\n",
       "85  None          Pilar Ochoa               PiLigrOsa   107307381   \n",
       "86  None         aG€Nt ¥£  ¤w         godsgentlegiant  1518643968   \n",
       "87  None               Cilli♡            Cilli_021112   382278854   \n",
       "88  None              marshaa            marshaleighm   269323425   \n",
       "89  None                demi.               demibagdr  1542203100   \n",
       "90  None     She's my Louis ❤            xliamsdreams   562092674   \n",
       "91  None         lorena uai ∞            Fc_GritaAmor   397609113   \n",
       "92  None              Shelyda             ShelydaDays    70959019   \n",
       "93  None                    L                Karkooba  1252736376   \n",
       "94  None  Lindsey Chamberlain             Linnyy_Kayy   466042520   \n",
       "\n",
       "   gnip:klout_score  actor:followersCount  actor:friendsCount  \\\n",
       "85               39                   280                 258   \n",
       "86               41                    71                  67   \n",
       "87               30                   557                 440   \n",
       "88               44                   767                 486   \n",
       "89               44                    64                  58   \n",
       "90               53                  5084                3802   \n",
       "91               44                  1248                1962   \n",
       "92               40                   128                  76   \n",
       "93               30                    48                  88   \n",
       "94               41                   198                 188   \n",
       "\n",
       "    actor:listedCount  actor:statusesCount  Tweet  \\\n",
       "85                  0                 2632  Tweet   \n",
       "86                  0                 1474  Tweet   \n",
       "87                  1                18434  Tweet   \n",
       "88                  0                17549  Reply   \n",
       "89                  0                 1872  Reply   \n",
       "90                 11                30163  Reply   \n",
       "91                  0                11161  Tweet   \n",
       "92                  0                 1419  Tweet   \n",
       "93                  0                  957  Reply   \n",
       "94                  0                 1897  Tweet   \n",
       "\n",
       "                                                NA.14 NA.15 NA.16  \n",
       "85                                               None  None  None  \n",
       "86                                               None  None  None  \n",
       "87                                               None  None  None  \n",
       "88  http://twitter.com/CheniseFowlisX/statuses/351...  None  None  \n",
       "89  http://twitter.com/justinbagdr/statuses/351833...  None  None  \n",
       "90  http://twitter.com/xhazzasdimples/statuses/351...  None  None  \n",
       "91                                               None  None  None  \n",
       "92                                               None  None  None  \n",
       "93  http://twitter.com/Mulayhim/statuses/351817617...  None  None  \n",
       "94                                               None  None  None  "
      ]
     },
     "execution_count": 16,
     "metadata": {},
     "output_type": "execute_result"
    }
   ],
   "source": [
    "# prevent the automatic compression of wide dataframes (add scroll bar)\n",
    "pd.set_option(\"display.max_columns\", None)\n",
    "\n",
    "# get some data, inspect\n",
    "d1 = pd.read_csv('../data/twitter_sample.csv', sep='|', names=cnames)\n",
    "\n",
    "d1.tail(10)"
   ]
  },
  {
   "cell_type": "markdown",
   "metadata": {},
   "source": [
    "Since there are so many explain fields that come back with 'None', let's just get rid of them for now. \n",
    "\n",
    "(In the future, we might try to find a way to make that field more descriptive, too.)"
   ]
  },
  {
   "cell_type": "code",
   "execution_count": 17,
   "metadata": {},
   "outputs": [],
   "source": [
    "# n.b.: this is an *in-place* delete -- unusual for a pandas structure\n",
    "#del d1['NA'] This way didn't work, so I did it below\n",
    "\n",
    "# The command below is how the docs suggest carrying this out (creating a new df). \n",
    "#   But, it doesn't seem to work -- possibly due to multiple cols with same name. Oh well. \n",
    "new_d1 = d1.drop([u'NA', u\"['NA']\", u'NA.1', u'NA.2', u'NA.3',u'NA.4',u'NA.5', u'NA.6', u'NA.7', u'NA.8',\\\n",
    "                  u'NA.9',u'NA.10', u'NA.11', u'NA.12', u'NA.13',u'NA.14', u'NA.15', u'NA.16'], axis=1)  # return new df"
   ]
  },
  {
   "cell_type": "code",
   "execution_count": 18,
   "metadata": {},
   "outputs": [
    {
     "data": {
      "text/plain": [
       "Index([u'id', u'postedTime', u'body', u'['twitter_entiteis:urls:url']',\n",
       "       u'['actor:languages_list-items']', u'gnip:language:value',\n",
       "       u'twitter_lang', u'[u'geo:coordinates_list-items']', u'geo:type',\n",
       "       u'actor:utcOffset', u'actor:displayName', u'actor:preferredUsername',\n",
       "       u'actor:id', u'gnip:klout_score', u'actor:followersCount',\n",
       "       u'actor:friendsCount', u'actor:listedCount', u'actor:statusesCount',\n",
       "       u'Tweet'],\n",
       "      dtype='object')"
      ]
     },
     "execution_count": 18,
     "metadata": {},
     "output_type": "execute_result"
    }
   ],
   "source": [
    "# have a peek\n",
    "new_d1.tail(5)\n",
    "new_d1.columns"
   ]
  },
  {
   "cell_type": "markdown",
   "metadata": {},
   "source": [
    "## slicing & combining\n",
    "\n",
    "Subsetting a DataFrame is very similar to the syntax in R. There are two ways to select columns: 'dot' (attribute) notation, and 'square bracket' (index) notation. Sometimes, the column names will dictate which you have to use."
   ]
  },
  {
   "cell_type": "code",
   "execution_count": 19,
   "metadata": {},
   "outputs": [
    {
     "data": {
      "text/html": [
       "<div>\n",
       "<style>\n",
       "    .dataframe thead tr:only-child th {\n",
       "        text-align: right;\n",
       "    }\n",
       "\n",
       "    .dataframe thead th {\n",
       "        text-align: left;\n",
       "    }\n",
       "\n",
       "    .dataframe tbody tr th {\n",
       "        vertical-align: top;\n",
       "    }\n",
       "</style>\n",
       "<table border=\"1\" class=\"dataframe\">\n",
       "  <thead>\n",
       "    <tr style=\"text-align: right;\">\n",
       "      <th></th>\n",
       "      <th>id</th>\n",
       "      <th>postedTime</th>\n",
       "      <th>body</th>\n",
       "      <th>['twitter_entiteis:urls:url']</th>\n",
       "      <th>['actor:languages_list-items']</th>\n",
       "      <th>gnip:language:value</th>\n",
       "      <th>twitter_lang</th>\n",
       "      <th>[u'geo:coordinates_list-items']</th>\n",
       "      <th>geo:type</th>\n",
       "      <th>actor:utcOffset</th>\n",
       "      <th>actor:displayName</th>\n",
       "      <th>actor:preferredUsername</th>\n",
       "      <th>actor:id</th>\n",
       "      <th>gnip:klout_score</th>\n",
       "      <th>actor:followersCount</th>\n",
       "      <th>actor:friendsCount</th>\n",
       "      <th>actor:listedCount</th>\n",
       "      <th>actor:statusesCount</th>\n",
       "      <th>Tweet</th>\n",
       "    </tr>\n",
       "  </thead>\n",
       "  <tbody>\n",
       "    <tr>\n",
       "      <th>61</th>\n",
       "      <td>tag:search.twitter.com,2005:351835318850289665</td>\n",
       "      <td>2013-07-01T22:50:51.000Z</td>\n",
       "      <td>Buena noche</td>\n",
       "      <td>None</td>\n",
       "      <td>['es']</td>\n",
       "      <td>it</td>\n",
       "      <td>es</td>\n",
       "      <td>[37.1793352, -5.7949027]</td>\n",
       "      <td>Point</td>\n",
       "      <td>None</td>\n",
       "      <td>manolo</td>\n",
       "      <td>malooje94</td>\n",
       "      <td>936658410</td>\n",
       "      <td>36</td>\n",
       "      <td>159</td>\n",
       "      <td>160</td>\n",
       "      <td>0</td>\n",
       "      <td>2350</td>\n",
       "      <td>Tweet</td>\n",
       "    </tr>\n",
       "    <tr>\n",
       "      <th>79</th>\n",
       "      <td>tag:search.twitter.com,2005:351835320737730561</td>\n",
       "      <td>2013-07-01T22:50:51.000Z</td>\n",
       "      <td>cite nomes gata..</td>\n",
       "      <td>None</td>\n",
       "      <td>['pt']</td>\n",
       "      <td>it</td>\n",
       "      <td>lv</td>\n",
       "      <td>None</td>\n",
       "      <td>None</td>\n",
       "      <td>-10800</td>\n",
       "      <td>♣</td>\n",
       "      <td>GABRIEL34L3ST</td>\n",
       "      <td>323440706</td>\n",
       "      <td>41</td>\n",
       "      <td>297</td>\n",
       "      <td>237</td>\n",
       "      <td>0</td>\n",
       "      <td>5221</td>\n",
       "      <td>Tweet</td>\n",
       "    </tr>\n",
       "    <tr>\n",
       "      <th>89</th>\n",
       "      <td>tag:search.twitter.com,2005:351835321220075524</td>\n",
       "      <td>2013-07-01T22:50:52.000Z</td>\n",
       "      <td>@justinbagdr no, non mi far star meglio.</td>\n",
       "      <td>None</td>\n",
       "      <td>['it']</td>\n",
       "      <td>it</td>\n",
       "      <td>it</td>\n",
       "      <td>None</td>\n",
       "      <td>None</td>\n",
       "      <td>None</td>\n",
       "      <td>demi.</td>\n",
       "      <td>demibagdr</td>\n",
       "      <td>1542203100</td>\n",
       "      <td>44</td>\n",
       "      <td>64</td>\n",
       "      <td>58</td>\n",
       "      <td>0</td>\n",
       "      <td>1872</td>\n",
       "      <td>Reply</td>\n",
       "    </tr>\n",
       "    <tr>\n",
       "      <th>90</th>\n",
       "      <td>tag:search.twitter.com,2005:351835321081659392</td>\n",
       "      <td>2013-07-01T22:50:51.000Z</td>\n",
       "      <td>@xhazzasdimples Probabile AHAHHAHAHAHAHAHAHAHA...</td>\n",
       "      <td>None</td>\n",
       "      <td>['it']</td>\n",
       "      <td>it</td>\n",
       "      <td>it</td>\n",
       "      <td>[41.73604, 12.2890263]</td>\n",
       "      <td>Point</td>\n",
       "      <td>7200</td>\n",
       "      <td>She's my Louis ❤</td>\n",
       "      <td>xliamsdreams</td>\n",
       "      <td>562092674</td>\n",
       "      <td>53</td>\n",
       "      <td>5084</td>\n",
       "      <td>3802</td>\n",
       "      <td>11</td>\n",
       "      <td>30163</td>\n",
       "      <td>Reply</td>\n",
       "    </tr>\n",
       "  </tbody>\n",
       "</table>\n",
       "</div>"
      ],
      "text/plain": [
       "                                                id                postedTime  \\\n",
       "61  tag:search.twitter.com,2005:351835318850289665  2013-07-01T22:50:51.000Z   \n",
       "79  tag:search.twitter.com,2005:351835320737730561  2013-07-01T22:50:51.000Z   \n",
       "89  tag:search.twitter.com,2005:351835321220075524  2013-07-01T22:50:52.000Z   \n",
       "90  tag:search.twitter.com,2005:351835321081659392  2013-07-01T22:50:51.000Z   \n",
       "\n",
       "                                                 body  \\\n",
       "61                                        Buena noche   \n",
       "79                                  cite nomes gata..   \n",
       "89           @justinbagdr no, non mi far star meglio.   \n",
       "90  @xhazzasdimples Probabile AHAHHAHAHAHAHAHAHAHA...   \n",
       "\n",
       "   ['twitter_entiteis:urls:url'] ['actor:languages_list-items']  \\\n",
       "61                          None                         ['es']   \n",
       "79                          None                         ['pt']   \n",
       "89                          None                         ['it']   \n",
       "90                          None                         ['it']   \n",
       "\n",
       "   gnip:language:value twitter_lang [u'geo:coordinates_list-items'] geo:type  \\\n",
       "61                  it           es        [37.1793352, -5.7949027]    Point   \n",
       "79                  it           lv                            None     None   \n",
       "89                  it           it                            None     None   \n",
       "90                  it           it          [41.73604, 12.2890263]    Point   \n",
       "\n",
       "   actor:utcOffset actor:displayName actor:preferredUsername    actor:id  \\\n",
       "61            None            manolo               malooje94   936658410   \n",
       "79          -10800                 ♣           GABRIEL34L3ST   323440706   \n",
       "89            None             demi.               demibagdr  1542203100   \n",
       "90            7200  She's my Louis ❤            xliamsdreams   562092674   \n",
       "\n",
       "   gnip:klout_score  actor:followersCount  actor:friendsCount  \\\n",
       "61               36                   159                 160   \n",
       "79               41                   297                 237   \n",
       "89               44                    64                  58   \n",
       "90               53                  5084                3802   \n",
       "\n",
       "    actor:listedCount  actor:statusesCount  Tweet  \n",
       "61                  0                 2350  Tweet  \n",
       "79                  0                 5221  Tweet  \n",
       "89                  0                 1872  Reply  \n",
       "90                 11                30163  Reply  "
      ]
     },
     "execution_count": 19,
     "metadata": {},
     "output_type": "execute_result"
    }
   ],
   "source": [
    "# inspect those rows with twitter-classified lang 'en' (scroll the right to see)\n",
    "new_d1[new_d1.twitter_lang == 'it'].head()\n",
    "\n",
    "# the colons in the column name below won't allow dot-access to the column, so we can quote them and still filter.\n",
    "new_d1[new_d1[\"gnip:language:value\"] == 'it'].head()  "
   ]
  },
  {
   "cell_type": "markdown",
   "metadata": {},
   "source": [
    "Let's get a subset of this dataframe that has numerical values so we can eventually do some stuff."
   ]
  },
  {
   "cell_type": "code",
   "execution_count": 20,
   "metadata": {},
   "outputs": [
    {
     "data": {
      "text/html": [
       "<div>\n",
       "<style>\n",
       "    .dataframe thead tr:only-child th {\n",
       "        text-align: right;\n",
       "    }\n",
       "\n",
       "    .dataframe thead th {\n",
       "        text-align: left;\n",
       "    }\n",
       "\n",
       "    .dataframe tbody tr th {\n",
       "        vertical-align: top;\n",
       "    }\n",
       "</style>\n",
       "<table border=\"1\" class=\"dataframe\">\n",
       "  <thead>\n",
       "    <tr style=\"text-align: right;\">\n",
       "      <th></th>\n",
       "      <th>gnip:klout_score</th>\n",
       "      <th>actor:followersCount</th>\n",
       "      <th>actor:friendsCount</th>\n",
       "      <th>actor:listedCount</th>\n",
       "      <th>actor:statusesCount</th>\n",
       "    </tr>\n",
       "  </thead>\n",
       "  <tbody>\n",
       "    <tr>\n",
       "      <th>0</th>\n",
       "      <td>35</td>\n",
       "      <td>178</td>\n",
       "      <td>129</td>\n",
       "      <td>0</td>\n",
       "      <td>2028</td>\n",
       "    </tr>\n",
       "    <tr>\n",
       "      <th>1</th>\n",
       "      <td>32</td>\n",
       "      <td>144</td>\n",
       "      <td>215</td>\n",
       "      <td>0</td>\n",
       "      <td>4071</td>\n",
       "    </tr>\n",
       "    <tr>\n",
       "      <th>2</th>\n",
       "      <td>18</td>\n",
       "      <td>37</td>\n",
       "      <td>54</td>\n",
       "      <td>0</td>\n",
       "      <td>3505</td>\n",
       "    </tr>\n",
       "    <tr>\n",
       "      <th>3</th>\n",
       "      <td>50</td>\n",
       "      <td>438</td>\n",
       "      <td>174</td>\n",
       "      <td>1</td>\n",
       "      <td>17636</td>\n",
       "    </tr>\n",
       "    <tr>\n",
       "      <th>4</th>\n",
       "      <td>21</td>\n",
       "      <td>12</td>\n",
       "      <td>6</td>\n",
       "      <td>0</td>\n",
       "      <td>145</td>\n",
       "    </tr>\n",
       "  </tbody>\n",
       "</table>\n",
       "</div>"
      ],
      "text/plain": [
       "  gnip:klout_score  actor:followersCount  actor:friendsCount  \\\n",
       "0               35                   178                 129   \n",
       "1               32                   144                 215   \n",
       "2               18                    37                  54   \n",
       "3               50                   438                 174   \n",
       "4               21                    12                   6   \n",
       "\n",
       "   actor:listedCount  actor:statusesCount  \n",
       "0                  0                 2028  \n",
       "1                  0                 4071  \n",
       "2                  0                 3505  \n",
       "3                  1                17636  \n",
       "4                  0                  145  "
      ]
     },
     "execution_count": 20,
     "metadata": {},
     "output_type": "execute_result"
    }
   ],
   "source": [
    "# create new dataframe from numerical columns\n",
    "d2 = new_d1[[\"gnip:klout_score\",\"actor:followersCount\", \"actor:friendsCount\", \"actor:listedCount\",\"actor:statusesCount\"]]\n",
    "\n",
    "d2.head()"
   ]
  },
  {
   "cell_type": "code",
   "execution_count": 21,
   "metadata": {},
   "outputs": [
    {
     "data": {
      "text/plain": [
       "gnip:klout_score        object\n",
       "actor:followersCount     int64\n",
       "actor:friendsCount       int64\n",
       "actor:listedCount        int64\n",
       "actor:statusesCount      int64\n",
       "dtype: object"
      ]
     },
     "execution_count": 21,
     "metadata": {},
     "output_type": "execute_result"
    }
   ],
   "source": [
    "# because I happen to know the answer, let's check data types of the columns...\n",
    "d2.dtypes  "
   ]
  },
  {
   "cell_type": "markdown",
   "metadata": {},
   "source": [
    "The `object` type means that the column has multiple types of data in it. This is a good opportunity to 'fix' a section of the DataFrame by way of a function & the `map()` function"
   ]
  },
  {
   "cell_type": "code",
   "execution_count": 22,
   "metadata": {
    "collapsed": true
   },
   "outputs": [],
   "source": [
    "# convert ints / strings to floats, give up on anything else (call it 0.0)\n",
    "def makefloaty(arg):\n",
    "    if arg == None or arg == 'None':\n",
    "        return 0.0\n",
    "    else:\n",
    "        return float(arg)"
   ]
  },
  {
   "cell_type": "code",
   "execution_count": 23,
   "metadata": {},
   "outputs": [
    {
     "name": "stderr",
     "output_type": "stream",
     "text": [
      "C:\\Users\\shann\\Anaconda2\\lib\\site-packages\\ipykernel_launcher.py:2: SettingWithCopyWarning: \n",
      "A value is trying to be set on a copy of a slice from a DataFrame.\n",
      "Try using .loc[row_indexer,col_indexer] = value instead\n",
      "\n",
      "See the caveats in the documentation: http://pandas.pydata.org/pandas-docs/stable/indexing.html#indexing-view-versus-copy\n",
      "  \n"
     ]
    },
    {
     "data": {
      "text/plain": [
       "gnip:klout_score        float64\n",
       "actor:followersCount      int64\n",
       "actor:friendsCount        int64\n",
       "actor:listedCount         int64\n",
       "actor:statusesCount       int64\n",
       "dtype: object"
      ]
     },
     "execution_count": 23,
     "metadata": {},
     "output_type": "execute_result"
    }
   ],
   "source": [
    "# assigning to an existing column overwrites that column \n",
    "d2['gnip:klout_score'] = d2['gnip:klout_score'].map(makefloaty)\n",
    "\n",
    "# check again\n",
    "d2.dtypes"
   ]
  },
  {
   "cell_type": "code",
   "execution_count": 24,
   "metadata": {},
   "outputs": [
    {
     "data": {
      "text/plain": [
       "gnip:klout_score        float64\n",
       "actor:followersCount    float64\n",
       "actor:friendsCount      float64\n",
       "actor:listedCount       float64\n",
       "actor:statusesCount     float64\n",
       "dtype: object"
      ]
     },
     "execution_count": 24,
     "metadata": {},
     "output_type": "execute_result"
    }
   ],
   "source": [
    "# use all floats just for fun. \n",
    "#  this only works if the elements can all be converted to floats (e.g. ints or something python can handle) \n",
    "d2 = d2.astype(float)\n",
    "\n",
    "d2.dtypes"
   ]
  },
  {
   "cell_type": "markdown",
   "metadata": {},
   "source": [
    "Since they're all numbers now, we can do math and also add new columns to the DataFrame. Combining values from separate columns occurs on a row-by-row basis, as expected."
   ]
  },
  {
   "cell_type": "code",
   "execution_count": 25,
   "metadata": {},
   "outputs": [
    {
     "data": {
      "text/html": [
       "<div>\n",
       "<style>\n",
       "    .dataframe thead tr:only-child th {\n",
       "        text-align: right;\n",
       "    }\n",
       "\n",
       "    .dataframe thead th {\n",
       "        text-align: left;\n",
       "    }\n",
       "\n",
       "    .dataframe tbody tr th {\n",
       "        vertical-align: top;\n",
       "    }\n",
       "</style>\n",
       "<table border=\"1\" class=\"dataframe\">\n",
       "  <thead>\n",
       "    <tr style=\"text-align: right;\">\n",
       "      <th></th>\n",
       "      <th>gnip:klout_score</th>\n",
       "      <th>actor:followersCount</th>\n",
       "      <th>actor:friendsCount</th>\n",
       "      <th>actor:listedCount</th>\n",
       "      <th>actor:statusesCount</th>\n",
       "      <th>fol/fr</th>\n",
       "      <th>fr/flw</th>\n",
       "    </tr>\n",
       "  </thead>\n",
       "  <tbody>\n",
       "    <tr>\n",
       "      <th>0</th>\n",
       "      <td>35.0</td>\n",
       "      <td>178.0</td>\n",
       "      <td>129.0</td>\n",
       "      <td>0.0</td>\n",
       "      <td>2028.0</td>\n",
       "      <td>0.196629</td>\n",
       "      <td>0.724719</td>\n",
       "    </tr>\n",
       "    <tr>\n",
       "      <th>1</th>\n",
       "      <td>32.0</td>\n",
       "      <td>144.0</td>\n",
       "      <td>215.0</td>\n",
       "      <td>0.0</td>\n",
       "      <td>4071.0</td>\n",
       "      <td>0.222222</td>\n",
       "      <td>1.493056</td>\n",
       "    </tr>\n",
       "    <tr>\n",
       "      <th>2</th>\n",
       "      <td>18.0</td>\n",
       "      <td>37.0</td>\n",
       "      <td>54.0</td>\n",
       "      <td>0.0</td>\n",
       "      <td>3505.0</td>\n",
       "      <td>0.486486</td>\n",
       "      <td>1.459459</td>\n",
       "    </tr>\n",
       "    <tr>\n",
       "      <th>3</th>\n",
       "      <td>50.0</td>\n",
       "      <td>438.0</td>\n",
       "      <td>174.0</td>\n",
       "      <td>1.0</td>\n",
       "      <td>17636.0</td>\n",
       "      <td>0.114155</td>\n",
       "      <td>0.397260</td>\n",
       "    </tr>\n",
       "    <tr>\n",
       "      <th>4</th>\n",
       "      <td>21.0</td>\n",
       "      <td>12.0</td>\n",
       "      <td>6.0</td>\n",
       "      <td>0.0</td>\n",
       "      <td>145.0</td>\n",
       "      <td>1.750000</td>\n",
       "      <td>0.500000</td>\n",
       "    </tr>\n",
       "  </tbody>\n",
       "</table>\n",
       "</div>"
      ],
      "text/plain": [
       "   gnip:klout_score  actor:followersCount  actor:friendsCount  \\\n",
       "0              35.0                 178.0               129.0   \n",
       "1              32.0                 144.0               215.0   \n",
       "2              18.0                  37.0                54.0   \n",
       "3              50.0                 438.0               174.0   \n",
       "4              21.0                  12.0                 6.0   \n",
       "\n",
       "   actor:listedCount  actor:statusesCount    fol/fr    fr/flw  \n",
       "0                0.0               2028.0  0.196629  0.724719  \n",
       "1                0.0               4071.0  0.222222  1.493056  \n",
       "2                0.0               3505.0  0.486486  1.459459  \n",
       "3                1.0              17636.0  0.114155  0.397260  \n",
       "4                0.0                145.0  1.750000  0.500000  "
      ]
     },
     "execution_count": 25,
     "metadata": {},
     "output_type": "execute_result"
    }
   ],
   "source": [
    "# look at some activity ratios - add col to df\n",
    "d2['fol/fr'] = d2['gnip:klout_score'] / d2['actor:followersCount']\n",
    "d2['fr/flw'] = d2['actor:friendsCount'] / d2['actor:followersCount']\n",
    "\n",
    "d2.head()\n",
    "\n",
    "# can also use the built-in describe() method to get quick descriptive stats on the dataframe\n",
    "#d2.describe() -- I did this in a separate line so I could keep the head output pretty...."
   ]
  },
  {
   "cell_type": "code",
   "execution_count": 26,
   "metadata": {},
   "outputs": [
    {
     "data": {
      "text/html": [
       "<div>\n",
       "<style>\n",
       "    .dataframe thead tr:only-child th {\n",
       "        text-align: right;\n",
       "    }\n",
       "\n",
       "    .dataframe thead th {\n",
       "        text-align: left;\n",
       "    }\n",
       "\n",
       "    .dataframe tbody tr th {\n",
       "        vertical-align: top;\n",
       "    }\n",
       "</style>\n",
       "<table border=\"1\" class=\"dataframe\">\n",
       "  <thead>\n",
       "    <tr style=\"text-align: right;\">\n",
       "      <th></th>\n",
       "      <th>gnip:klout_score</th>\n",
       "      <th>actor:followersCount</th>\n",
       "      <th>actor:friendsCount</th>\n",
       "      <th>actor:listedCount</th>\n",
       "      <th>actor:statusesCount</th>\n",
       "      <th>fol/fr</th>\n",
       "      <th>fr/flw</th>\n",
       "    </tr>\n",
       "  </thead>\n",
       "  <tbody>\n",
       "    <tr>\n",
       "      <th>count</th>\n",
       "      <td>95.000000</td>\n",
       "      <td>95.000000</td>\n",
       "      <td>95.000000</td>\n",
       "      <td>95.000000</td>\n",
       "      <td>95.000000</td>\n",
       "      <td>94.000000</td>\n",
       "      <td>95.000000</td>\n",
       "    </tr>\n",
       "    <tr>\n",
       "      <th>mean</th>\n",
       "      <td>37.842105</td>\n",
       "      <td>1062.747368</td>\n",
       "      <td>442.747368</td>\n",
       "      <td>7.494737</td>\n",
       "      <td>11533.957895</td>\n",
       "      <td>0.224291</td>\n",
       "      <td>inf</td>\n",
       "    </tr>\n",
       "    <tr>\n",
       "      <th>std</th>\n",
       "      <td>9.907354</td>\n",
       "      <td>4345.287974</td>\n",
       "      <td>609.239375</td>\n",
       "      <td>50.270306</td>\n",
       "      <td>16738.854139</td>\n",
       "      <td>0.251564</td>\n",
       "      <td>NaN</td>\n",
       "    </tr>\n",
       "    <tr>\n",
       "      <th>min</th>\n",
       "      <td>0.000000</td>\n",
       "      <td>0.000000</td>\n",
       "      <td>1.000000</td>\n",
       "      <td>0.000000</td>\n",
       "      <td>3.000000</td>\n",
       "      <td>0.000000</td>\n",
       "      <td>0.002861</td>\n",
       "    </tr>\n",
       "    <tr>\n",
       "      <th>25%</th>\n",
       "      <td>33.000000</td>\n",
       "      <td>149.500000</td>\n",
       "      <td>125.500000</td>\n",
       "      <td>0.000000</td>\n",
       "      <td>1884.500000</td>\n",
       "      <td>0.066096</td>\n",
       "      <td>0.700634</td>\n",
       "    </tr>\n",
       "    <tr>\n",
       "      <th>50%</th>\n",
       "      <td>39.000000</td>\n",
       "      <td>243.000000</td>\n",
       "      <td>231.000000</td>\n",
       "      <td>0.000000</td>\n",
       "      <td>5221.000000</td>\n",
       "      <td>0.153499</td>\n",
       "      <td>0.927469</td>\n",
       "    </tr>\n",
       "    <tr>\n",
       "      <th>75%</th>\n",
       "      <td>43.000000</td>\n",
       "      <td>514.500000</td>\n",
       "      <td>436.500000</td>\n",
       "      <td>1.000000</td>\n",
       "      <td>14648.500000</td>\n",
       "      <td>0.271652</td>\n",
       "      <td>1.476258</td>\n",
       "    </tr>\n",
       "    <tr>\n",
       "      <th>max</th>\n",
       "      <td>64.000000</td>\n",
       "      <td>40543.000000</td>\n",
       "      <td>3802.000000</td>\n",
       "      <td>486.000000</td>\n",
       "      <td>105416.000000</td>\n",
       "      <td>1.750000</td>\n",
       "      <td>inf</td>\n",
       "    </tr>\n",
       "  </tbody>\n",
       "</table>\n",
       "</div>"
      ],
      "text/plain": [
       "       gnip:klout_score  actor:followersCount  actor:friendsCount  \\\n",
       "count         95.000000             95.000000           95.000000   \n",
       "mean          37.842105           1062.747368          442.747368   \n",
       "std            9.907354           4345.287974          609.239375   \n",
       "min            0.000000              0.000000            1.000000   \n",
       "25%           33.000000            149.500000          125.500000   \n",
       "50%           39.000000            243.000000          231.000000   \n",
       "75%           43.000000            514.500000          436.500000   \n",
       "max           64.000000          40543.000000         3802.000000   \n",
       "\n",
       "       actor:listedCount  actor:statusesCount     fol/fr     fr/flw  \n",
       "count          95.000000            95.000000  94.000000  95.000000  \n",
       "mean            7.494737         11533.957895   0.224291        inf  \n",
       "std            50.270306         16738.854139   0.251564        NaN  \n",
       "min             0.000000             3.000000   0.000000   0.002861  \n",
       "25%             0.000000          1884.500000   0.066096   0.700634  \n",
       "50%             0.000000          5221.000000   0.153499   0.927469  \n",
       "75%             1.000000         14648.500000   0.271652   1.476258  \n",
       "max           486.000000        105416.000000   1.750000        inf  "
      ]
     },
     "execution_count": 26,
     "metadata": {},
     "output_type": "execute_result"
    }
   ],
   "source": [
    "d2.describe()"
   ]
  },
  {
   "cell_type": "markdown",
   "metadata": {},
   "source": [
    "## grouping\n",
    "\n",
    "groupby() is used for the split-apply-combine process. I'm led to believe that this is one of the stronger aspects of `pandas`' approach to DataFrames (versus R's), but haven't yet had a chance to really see the power."
   ]
  },
  {
   "cell_type": "code",
   "execution_count": 27,
   "metadata": {},
   "outputs": [
    {
     "data": {
      "text/html": [
       "<div>\n",
       "<style>\n",
       "    .dataframe thead tr:only-child th {\n",
       "        text-align: right;\n",
       "    }\n",
       "\n",
       "    .dataframe thead th {\n",
       "        text-align: left;\n",
       "    }\n",
       "\n",
       "    .dataframe tbody tr th {\n",
       "        vertical-align: top;\n",
       "    }\n",
       "</style>\n",
       "<table border=\"1\" class=\"dataframe\">\n",
       "  <thead>\n",
       "    <tr style=\"text-align: right;\">\n",
       "      <th></th>\n",
       "      <th>id</th>\n",
       "      <th>postedTime</th>\n",
       "      <th>body</th>\n",
       "      <th>['twitter_entiteis:urls:url']</th>\n",
       "      <th>['actor:languages_list-items']</th>\n",
       "      <th>gnip:language:value</th>\n",
       "      <th>twitter_lang</th>\n",
       "      <th>[u'geo:coordinates_list-items']</th>\n",
       "      <th>geo:type</th>\n",
       "      <th>actor:utcOffset</th>\n",
       "      <th>actor:displayName</th>\n",
       "      <th>actor:preferredUsername</th>\n",
       "      <th>actor:id</th>\n",
       "      <th>gnip:klout_score</th>\n",
       "      <th>actor:followersCount</th>\n",
       "      <th>actor:friendsCount</th>\n",
       "      <th>actor:listedCount</th>\n",
       "      <th>actor:statusesCount</th>\n",
       "      <th>Tweet</th>\n",
       "    </tr>\n",
       "  </thead>\n",
       "  <tbody>\n",
       "    <tr>\n",
       "      <th>0</th>\n",
       "      <td>tag:search.twitter.com,2005:351835317671690241</td>\n",
       "      <td>2013-07-01T22:50:51.000Z</td>\n",
       "      <td>kavga edelim ama konuşalım</td>\n",
       "      <td>None</td>\n",
       "      <td>['tr']</td>\n",
       "      <td>en</td>\n",
       "      <td>tr</td>\n",
       "      <td>None</td>\n",
       "      <td>None</td>\n",
       "      <td>7200</td>\n",
       "      <td>Rümeysa Özdemir</td>\n",
       "      <td>uykugibisiyok</td>\n",
       "      <td>248312738</td>\n",
       "      <td>35</td>\n",
       "      <td>178</td>\n",
       "      <td>129</td>\n",
       "      <td>0</td>\n",
       "      <td>2028</td>\n",
       "      <td>Tweet</td>\n",
       "    </tr>\n",
       "    <tr>\n",
       "      <th>1</th>\n",
       "      <td>tag:search.twitter.com,2005:351835317604593666</td>\n",
       "      <td>2013-07-01T22:50:51.000Z</td>\n",
       "      <td>@shane_joersz wooooow</td>\n",
       "      <td>None</td>\n",
       "      <td>['en']</td>\n",
       "      <td>en</td>\n",
       "      <td>es</td>\n",
       "      <td>[47.29088246, -101.0379045]</td>\n",
       "      <td>Point</td>\n",
       "      <td>-21600</td>\n",
       "      <td>cori▲alex.</td>\n",
       "      <td>CoBerg_</td>\n",
       "      <td>48025164</td>\n",
       "      <td>32</td>\n",
       "      <td>144</td>\n",
       "      <td>215</td>\n",
       "      <td>0</td>\n",
       "      <td>4071</td>\n",
       "      <td>Reply</td>\n",
       "    </tr>\n",
       "    <tr>\n",
       "      <th>2</th>\n",
       "      <td>tag:search.twitter.com,2005:351835317747191808</td>\n",
       "      <td>2013-07-01T22:50:51.000Z</td>\n",
       "      <td>お前との肌のふれあいなんぞ求めてない。自重しろ。</td>\n",
       "      <td>None</td>\n",
       "      <td>['ja']</td>\n",
       "      <td>en</td>\n",
       "      <td>ja</td>\n",
       "      <td>[35.70675048, 139.84273005]</td>\n",
       "      <td>Point</td>\n",
       "      <td>-36000</td>\n",
       "      <td>黒い恋人</td>\n",
       "      <td>yamasyoyamasyo</td>\n",
       "      <td>217987801</td>\n",
       "      <td>18</td>\n",
       "      <td>37</td>\n",
       "      <td>54</td>\n",
       "      <td>0</td>\n",
       "      <td>3505</td>\n",
       "      <td>Tweet</td>\n",
       "    </tr>\n",
       "    <tr>\n",
       "      <th>3</th>\n",
       "      <td>tag:search.twitter.com,2005:351835317608792064</td>\n",
       "      <td>2013-07-01T22:50:51.000Z</td>\n",
       "      <td>@Gabo_navoficial yo tambien creo en ti mi char...</td>\n",
       "      <td>None</td>\n",
       "      <td>['en']</td>\n",
       "      <td>en</td>\n",
       "      <td>es</td>\n",
       "      <td>None</td>\n",
       "      <td>None</td>\n",
       "      <td>-14400</td>\n",
       "      <td>MARIA</td>\n",
       "      <td>maria_e_pena</td>\n",
       "      <td>461188787</td>\n",
       "      <td>50</td>\n",
       "      <td>438</td>\n",
       "      <td>174</td>\n",
       "      <td>1</td>\n",
       "      <td>17636</td>\n",
       "      <td>Reply</td>\n",
       "    </tr>\n",
       "    <tr>\n",
       "      <th>4</th>\n",
       "      <td>tag:search.twitter.com,2005:351835317755592705</td>\n",
       "      <td>2013-07-01T22:50:51.000Z</td>\n",
       "      <td>только ты об этом не знаешь... http://t.co/MOH...</td>\n",
       "      <td>None</td>\n",
       "      <td>['ru']</td>\n",
       "      <td>en</td>\n",
       "      <td>ru</td>\n",
       "      <td>None</td>\n",
       "      <td>None</td>\n",
       "      <td>None</td>\n",
       "      <td>Элька Алб</td>\n",
       "      <td>ElkaAlb</td>\n",
       "      <td>1433828712</td>\n",
       "      <td>21</td>\n",
       "      <td>12</td>\n",
       "      <td>6</td>\n",
       "      <td>0</td>\n",
       "      <td>145</td>\n",
       "      <td>Tweet</td>\n",
       "    </tr>\n",
       "  </tbody>\n",
       "</table>\n",
       "</div>"
      ],
      "text/plain": [
       "                                               id                postedTime  \\\n",
       "0  tag:search.twitter.com,2005:351835317671690241  2013-07-01T22:50:51.000Z   \n",
       "1  tag:search.twitter.com,2005:351835317604593666  2013-07-01T22:50:51.000Z   \n",
       "2  tag:search.twitter.com,2005:351835317747191808  2013-07-01T22:50:51.000Z   \n",
       "3  tag:search.twitter.com,2005:351835317608792064  2013-07-01T22:50:51.000Z   \n",
       "4  tag:search.twitter.com,2005:351835317755592705  2013-07-01T22:50:51.000Z   \n",
       "\n",
       "                                                body  \\\n",
       "0                         kavga edelim ama konuşalım   \n",
       "1                              @shane_joersz wooooow   \n",
       "2                           お前との肌のふれあいなんぞ求めてない。自重しろ。   \n",
       "3  @Gabo_navoficial yo tambien creo en ti mi char...   \n",
       "4  только ты об этом не знаешь... http://t.co/MOH...   \n",
       "\n",
       "  ['twitter_entiteis:urls:url'] ['actor:languages_list-items']  \\\n",
       "0                          None                         ['tr']   \n",
       "1                          None                         ['en']   \n",
       "2                          None                         ['ja']   \n",
       "3                          None                         ['en']   \n",
       "4                          None                         ['ru']   \n",
       "\n",
       "  gnip:language:value twitter_lang [u'geo:coordinates_list-items'] geo:type  \\\n",
       "0                  en           tr                            None     None   \n",
       "1                  en           es     [47.29088246, -101.0379045]    Point   \n",
       "2                  en           ja     [35.70675048, 139.84273005]    Point   \n",
       "3                  en           es                            None     None   \n",
       "4                  en           ru                            None     None   \n",
       "\n",
       "  actor:utcOffset actor:displayName actor:preferredUsername    actor:id  \\\n",
       "0            7200   Rümeysa Özdemir           uykugibisiyok   248312738   \n",
       "1          -21600        cori▲alex.                 CoBerg_    48025164   \n",
       "2          -36000              黒い恋人          yamasyoyamasyo   217987801   \n",
       "3          -14400             MARIA            maria_e_pena   461188787   \n",
       "4            None         Элька Алб                 ElkaAlb  1433828712   \n",
       "\n",
       "  gnip:klout_score  actor:followersCount  actor:friendsCount  \\\n",
       "0               35                   178                 129   \n",
       "1               32                   144                 215   \n",
       "2               18                    37                  54   \n",
       "3               50                   438                 174   \n",
       "4               21                    12                   6   \n",
       "\n",
       "   actor:listedCount  actor:statusesCount  Tweet  \n",
       "0                  0                 2028  Tweet  \n",
       "1                  0                 4071  Reply  \n",
       "2                  0                 3505  Tweet  \n",
       "3                  1                17636  Reply  \n",
       "4                  0                  145  Tweet  "
      ]
     },
     "execution_count": 27,
     "metadata": {},
     "output_type": "execute_result"
    }
   ],
   "source": [
    "# back to bigger df, without 'None' cols\n",
    "new_d1.head()"
   ]
  },
  {
   "cell_type": "markdown",
   "metadata": {},
   "source": [
    "Use a groupby to collect all rows by language value, and subsequently use some of the methods available to `GroupBy` DataFrames. Note that the `GroupBy` methods will only act on (and the method call only return) values for columns where numerical calculation makes sense."
   ]
  },
  {
   "cell_type": "code",
   "execution_count": 28,
   "metadata": {},
   "outputs": [
    {
     "name": "stderr",
     "output_type": "stream",
     "text": [
      "C:\\Users\\shann\\Anaconda2\\lib\\site-packages\\ipykernel_launcher.py:5: SettingWithCopyWarning: \n",
      "A value is trying to be set on a copy of a slice from a DataFrame.\n",
      "Try using .loc[row_indexer,col_indexer] = value instead\n",
      "\n",
      "See the caveats in the documentation: http://pandas.pydata.org/pandas-docs/stable/indexing.html#indexing-view-versus-copy\n",
      "  \"\"\"\n"
     ]
    },
    {
     "data": {
      "text/html": [
       "<div>\n",
       "<style>\n",
       "    .dataframe thead tr:only-child th {\n",
       "        text-align: right;\n",
       "    }\n",
       "\n",
       "    .dataframe thead th {\n",
       "        text-align: left;\n",
       "    }\n",
       "\n",
       "    .dataframe tbody tr th {\n",
       "        vertical-align: top;\n",
       "    }\n",
       "</style>\n",
       "<table border=\"1\" class=\"dataframe\">\n",
       "  <thead>\n",
       "    <tr style=\"text-align: right;\">\n",
       "      <th></th>\n",
       "      <th>actor:id</th>\n",
       "      <th>gnip:klout_score</th>\n",
       "      <th>actor:followersCount</th>\n",
       "      <th>actor:friendsCount</th>\n",
       "      <th>actor:listedCount</th>\n",
       "      <th>actor:statusesCount</th>\n",
       "    </tr>\n",
       "    <tr>\n",
       "      <th>twitter_lang</th>\n",
       "      <th></th>\n",
       "      <th></th>\n",
       "      <th></th>\n",
       "      <th></th>\n",
       "      <th></th>\n",
       "      <th></th>\n",
       "    </tr>\n",
       "  </thead>\n",
       "  <tbody>\n",
       "    <tr>\n",
       "      <th>ar</th>\n",
       "      <td>1.438926e+09</td>\n",
       "      <td>40.000000</td>\n",
       "      <td>458.000000</td>\n",
       "      <td>413.000000</td>\n",
       "      <td>0.000000</td>\n",
       "      <td>1061.000000</td>\n",
       "    </tr>\n",
       "    <tr>\n",
       "      <th>en</th>\n",
       "      <td>3.350906e+08</td>\n",
       "      <td>39.400000</td>\n",
       "      <td>2019.633333</td>\n",
       "      <td>635.666667</td>\n",
       "      <td>18.966667</td>\n",
       "      <td>18075.966667</td>\n",
       "    </tr>\n",
       "    <tr>\n",
       "      <th>es</th>\n",
       "      <td>4.794174e+08</td>\n",
       "      <td>40.076923</td>\n",
       "      <td>1452.769231</td>\n",
       "      <td>458.538462</td>\n",
       "      <td>6.846154</td>\n",
       "      <td>9328.923077</td>\n",
       "    </tr>\n",
       "    <tr>\n",
       "      <th>he</th>\n",
       "      <td>1.318589e+09</td>\n",
       "      <td>37.000000</td>\n",
       "      <td>151.000000</td>\n",
       "      <td>284.000000</td>\n",
       "      <td>0.000000</td>\n",
       "      <td>641.000000</td>\n",
       "    </tr>\n",
       "    <tr>\n",
       "      <th>id</th>\n",
       "      <td>5.297386e+08</td>\n",
       "      <td>43.250000</td>\n",
       "      <td>387.000000</td>\n",
       "      <td>245.500000</td>\n",
       "      <td>0.000000</td>\n",
       "      <td>8503.500000</td>\n",
       "    </tr>\n",
       "    <tr>\n",
       "      <th>it</th>\n",
       "      <td>5.581492e+08</td>\n",
       "      <td>49.500000</td>\n",
       "      <td>3541.500000</td>\n",
       "      <td>2047.500000</td>\n",
       "      <td>19.000000</td>\n",
       "      <td>45199.500000</td>\n",
       "    </tr>\n",
       "    <tr>\n",
       "      <th>ja</th>\n",
       "      <td>8.132785e+07</td>\n",
       "      <td>28.000000</td>\n",
       "      <td>152.000000</td>\n",
       "      <td>335.000000</td>\n",
       "      <td>3.000000</td>\n",
       "      <td>2151.000000</td>\n",
       "    </tr>\n",
       "    <tr>\n",
       "      <th>ko</th>\n",
       "      <td>1.016681e+09</td>\n",
       "      <td>39.000000</td>\n",
       "      <td>170.000000</td>\n",
       "      <td>120.000000</td>\n",
       "      <td>0.000000</td>\n",
       "      <td>1094.000000</td>\n",
       "    </tr>\n",
       "    <tr>\n",
       "      <th>lv</th>\n",
       "      <td>3.234407e+08</td>\n",
       "      <td>41.000000</td>\n",
       "      <td>297.000000</td>\n",
       "      <td>237.000000</td>\n",
       "      <td>0.000000</td>\n",
       "      <td>5221.000000</td>\n",
       "    </tr>\n",
       "    <tr>\n",
       "      <th>pl</th>\n",
       "      <td>1.041817e+09</td>\n",
       "      <td>48.000000</td>\n",
       "      <td>2037.000000</td>\n",
       "      <td>1984.000000</td>\n",
       "      <td>1.000000</td>\n",
       "      <td>23240.000000</td>\n",
       "    </tr>\n",
       "    <tr>\n",
       "      <th>pt</th>\n",
       "      <td>3.008801e+08</td>\n",
       "      <td>39.500000</td>\n",
       "      <td>519.500000</td>\n",
       "      <td>456.875000</td>\n",
       "      <td>0.125000</td>\n",
       "      <td>15184.750000</td>\n",
       "    </tr>\n",
       "    <tr>\n",
       "      <th>tr</th>\n",
       "      <td>3.280897e+08</td>\n",
       "      <td>32.000000</td>\n",
       "      <td>289.800000</td>\n",
       "      <td>220.800000</td>\n",
       "      <td>0.200000</td>\n",
       "      <td>7929.000000</td>\n",
       "    </tr>\n",
       "    <tr>\n",
       "      <th>und</th>\n",
       "      <td>4.366732e+08</td>\n",
       "      <td>44.000000</td>\n",
       "      <td>703.500000</td>\n",
       "      <td>406.500000</td>\n",
       "      <td>4.000000</td>\n",
       "      <td>22356.000000</td>\n",
       "    </tr>\n",
       "    <tr>\n",
       "      <th>vi</th>\n",
       "      <td>2.693234e+08</td>\n",
       "      <td>44.000000</td>\n",
       "      <td>767.000000</td>\n",
       "      <td>486.000000</td>\n",
       "      <td>0.000000</td>\n",
       "      <td>17549.000000</td>\n",
       "    </tr>\n",
       "  </tbody>\n",
       "</table>\n",
       "</div>"
      ],
      "text/plain": [
       "                  actor:id  gnip:klout_score  actor:followersCount  \\\n",
       "twitter_lang                                                         \n",
       "ar            1.438926e+09         40.000000            458.000000   \n",
       "en            3.350906e+08         39.400000           2019.633333   \n",
       "es            4.794174e+08         40.076923           1452.769231   \n",
       "he            1.318589e+09         37.000000            151.000000   \n",
       "id            5.297386e+08         43.250000            387.000000   \n",
       "it            5.581492e+08         49.500000           3541.500000   \n",
       "ja            8.132785e+07         28.000000            152.000000   \n",
       "ko            1.016681e+09         39.000000            170.000000   \n",
       "lv            3.234407e+08         41.000000            297.000000   \n",
       "pl            1.041817e+09         48.000000           2037.000000   \n",
       "pt            3.008801e+08         39.500000            519.500000   \n",
       "tr            3.280897e+08         32.000000            289.800000   \n",
       "und           4.366732e+08         44.000000            703.500000   \n",
       "vi            2.693234e+08         44.000000            767.000000   \n",
       "\n",
       "              actor:friendsCount  actor:listedCount  actor:statusesCount  \n",
       "twitter_lang                                                              \n",
       "ar                    413.000000           0.000000          1061.000000  \n",
       "en                    635.666667          18.966667         18075.966667  \n",
       "es                    458.538462           6.846154          9328.923077  \n",
       "he                    284.000000           0.000000           641.000000  \n",
       "id                    245.500000           0.000000          8503.500000  \n",
       "it                   2047.500000          19.000000         45199.500000  \n",
       "ja                    335.000000           3.000000          2151.000000  \n",
       "ko                    120.000000           0.000000          1094.000000  \n",
       "lv                    237.000000           0.000000          5221.000000  \n",
       "pl                   1984.000000           1.000000         23240.000000  \n",
       "pt                    456.875000           0.125000         15184.750000  \n",
       "tr                    220.800000           0.200000          7929.000000  \n",
       "und                   406.500000           4.000000         22356.000000  \n",
       "vi                    486.000000           0.000000         17549.000000  "
      ]
     },
     "execution_count": 28,
     "metadata": {},
     "output_type": "execute_result"
    }
   ],
   "source": [
    "# subset df, create new df with only 'popular' accounts -- those matching the filter condition given\n",
    "trendy_df = new_d1[new_d1[\"actor:followersCount\"] >= 150]\n",
    "\n",
    "# fix the klout scores again\n",
    "trendy_df['gnip:klout_score'] = trendy_df['gnip:klout_score'].map(makefloaty)\n",
    "\n",
    "# in case you need to remind yourself of the dataframe\n",
    "trendy_df.head()\n",
    "\n",
    "# use GroupBy methods for stats on each group:\n",
    "trendy_df.groupby(\"twitter_lang\").size()      # number of elements per group\n",
    "trendy_df.groupby(\"twitter_lang\").sum()       # sum of elements in each group (obviously doesn't make sense for some cols) \n",
    "trendy_df.groupby(\"twitter_lang\").mean()      # algebraic mean of elements per group"
   ]
  },
  {
   "cell_type": "code",
   "execution_count": 29,
   "metadata": {},
   "outputs": [
    {
     "data": {
      "text/plain": [
       "<pandas.core.groupby.DataFrameGroupBy object at 0x000000000A3660B8>"
      ]
     },
     "execution_count": 29,
     "metadata": {},
     "output_type": "execute_result"
    }
   ],
   "source": [
    "# though this looks like a normal dataframe, the DataFrameGroupBy object has a heirarchical index\n",
    "#  this means it may not act as you might expect.\n",
    "lingo_gb = trendy_df[['twitter_lang',\\\n",
    "             'gnip:klout_score',\\\n",
    "             'actor:followersCount',\\\n",
    "             'actor:friendsCount',\\\n",
    "             'actor:statusesCount']].groupby('twitter_lang')\n",
    "\n",
    "\n",
    "# note the new index 'twitter_lang' -- in this case, .head(n) returns <= n elements for each index\n",
    "lingo_gb.head(1)  \n",
    "\n",
    "# see that they type is DataFrameGroupBy object\n",
    "lingo_gb"
   ]
  },
  {
   "cell_type": "code",
   "execution_count": 30,
   "metadata": {},
   "outputs": [
    {
     "data": {
      "text/plain": [
       "Index([u'ar', u'en', u'es', u'he', u'id', u'it', u'ja', u'ko', u'lv', u'pl',\n",
       "       u'pt', u'tr', u'und', u'vi'],\n",
       "      dtype='object', name=u'twitter_lang')"
      ]
     },
     "execution_count": 30,
     "metadata": {},
     "output_type": "execute_result"
    }
   ],
   "source": [
    "# to get a DataFrame object that responds more like I'm used to, create a new one using the \n",
    "#   aggregate method, which results in a single-index DataFrame\n",
    "lingo_gb_mean = lingo_gb.aggregate(np.mean)  \n",
    "\n",
    "lingo_gb_mean.head()\n",
    "\n",
    "# verify the single index\n",
    "lingo_gb_mean.index"
   ]
  },
  {
   "cell_type": "markdown",
   "metadata": {},
   "source": [
    "## part 3: plotting\n",
    "\n",
    "As far as I can tell, plotting in Python was not fun in the past. Below is some easy, base matplotlib, but 'nice' graphics take *a lot* of code. This situation is changing quite quickly now, with the success of `ggplot2` in the R world and the attempts to a) make `matplotlib` look less sucky, and b) implement the Grammar of Graphics in Python."
   ]
  },
  {
   "cell_type": "code",
   "execution_count": 31,
   "metadata": {},
   "outputs": [
    {
     "data": {
      "text/plain": [
       "<matplotlib.axes._subplots.AxesSubplot at 0x61cbb00>"
      ]
     },
     "execution_count": 31,
     "metadata": {},
     "output_type": "execute_result"
    },
    {
     "data": {
      "image/png": "[encoded data removed]",
      "text/plain": [
       "<matplotlib.figure.Figure at 0xa3365c0>"
      ]
     },
     "metadata": {},
     "output_type": "display_data"
    }
   ],
   "source": [
    "# .plot() is a pandas wrapper for matplotlib's plt.plot() \n",
    "lingo_gb_mean['actor:followersCount'].plot(kind='bar', color='b')"
   ]
  },
  {
   "cell_type": "code",
   "execution_count": 32,
   "metadata": {},
   "outputs": [
    {
     "data": {
      "text/plain": [
       "<matplotlib.collections.PathCollection at 0xa59a240>"
      ]
     },
     "execution_count": 32,
     "metadata": {},
     "output_type": "execute_result"
    },
    {
     "data": {
      "image/png": "[encoded data removed]",
      "text/plain": [
       "<matplotlib.figure.Figure at 0xa5070f0>"
      ]
     },
     "metadata": {},
     "output_type": "display_data"
    }
   ],
   "source": [
    "# more base matplotlib \n",
    "plt.scatter(x=lingo_gb_mean['actor:followersCount'],\\\n",
    "            y=lingo_gb_mean['actor:friendsCount'],\\\n",
    "            alpha=0.5,\\\n",
    "            s=50,\\\n",
    "            color='blue',\\\n",
    "            marker='o')"
   ]
  },
  {
   "cell_type": "code",
   "execution_count": 33,
   "metadata": {},
   "outputs": [
    {
     "data": {
      "text/plain": [
       "array([[<matplotlib.axes._subplots.AxesSubplot object at 0x000000000B0E4978>,\n",
       "        <matplotlib.axes._subplots.AxesSubplot object at 0x000000000B1845C0>,\n",
       "        <matplotlib.axes._subplots.AxesSubplot object at 0x000000000B274160>,\n",
       "        <matplotlib.axes._subplots.AxesSubplot object at 0x000000000B2960B8>],\n",
       "       [<matplotlib.axes._subplots.AxesSubplot object at 0x000000000B40AA20>,\n",
       "        <matplotlib.axes._subplots.AxesSubplot object at 0x000000000B48F240>,\n",
       "        <matplotlib.axes._subplots.AxesSubplot object at 0x000000000B50EE80>,\n",
       "        <matplotlib.axes._subplots.AxesSubplot object at 0x000000000B5ADFD0>],\n",
       "       [<matplotlib.axes._subplots.AxesSubplot object at 0x000000000B63CC50>,\n",
       "        <matplotlib.axes._subplots.AxesSubplot object at 0x000000000B593F60>,\n",
       "        <matplotlib.axes._subplots.AxesSubplot object at 0x000000000B786B00>,\n",
       "        <matplotlib.axes._subplots.AxesSubplot object at 0x000000000B85BC50>],\n",
       "       [<matplotlib.axes._subplots.AxesSubplot object at 0x000000000B92E8D0>,\n",
       "        <matplotlib.axes._subplots.AxesSubplot object at 0x000000000B9FE4E0>,\n",
       "        <matplotlib.axes._subplots.AxesSubplot object at 0x000000000BA78780>,\n",
       "        <matplotlib.axes._subplots.AxesSubplot object at 0x000000000BB498D0>]], dtype=object)"
      ]
     },
     "execution_count": 33,
     "metadata": {},
     "output_type": "execute_result"
    },
    {
     "data": {
      "image/png": "[encoded data removed]",
      "text/plain": [
       "<matplotlib.figure.Figure at 0xb0ef780>"
      ]
     },
     "metadata": {},
     "output_type": "display_data"
    }
   ],
   "source": [
    "# now read the docs and copypasta a neat-looking plot\n",
    "from pandas.plotting import scatter_matrix\n",
    "\n",
    "scatter_matrix(lingo_gb_mean, alpha=0.5, figsize=(12,12), diagonal='hist', s=100)\n",
    "#I changed the diagonals to histograms...just wanted to see how that worked.\n"
   ]
  },
  {
   "cell_type": "markdown",
   "metadata": {},
   "source": [
    "Finally, a short taste of some other plotting libraries. My munging + plotting skillz in this world are still a work in progress, so I will definitely return to this section with an actual use-case in the future. For now, we'll make up some data for illustrative purposes."
   ]
  },
  {
   "cell_type": "code",
   "execution_count": 34,
   "metadata": {},
   "outputs": [
    {
     "data": {
      "text/html": [
       "<div>\n",
       "<style>\n",
       "    .dataframe thead tr:only-child th {\n",
       "        text-align: right;\n",
       "    }\n",
       "\n",
       "    .dataframe thead th {\n",
       "        text-align: left;\n",
       "    }\n",
       "\n",
       "    .dataframe tbody tr th {\n",
       "        vertical-align: top;\n",
       "    }\n",
       "</style>\n",
       "<table border=\"1\" class=\"dataframe\">\n",
       "  <thead>\n",
       "    <tr style=\"text-align: right;\">\n",
       "      <th></th>\n",
       "      <th>X</th>\n",
       "      <th>Y</th>\n",
       "      <th>Z</th>\n",
       "      <th>V</th>\n",
       "      <th>W</th>\n",
       "    </tr>\n",
       "  </thead>\n",
       "  <tbody>\n",
       "    <tr>\n",
       "      <th>2010-01-01</th>\n",
       "      <td>0.127366</td>\n",
       "      <td>-0.115791</td>\n",
       "      <td>0.832971</td>\n",
       "      <td>0.273465</td>\n",
       "      <td>2.014597</td>\n",
       "    </tr>\n",
       "    <tr>\n",
       "      <th>2010-01-02</th>\n",
       "      <td>-0.783436</td>\n",
       "      <td>-0.314634</td>\n",
       "      <td>0.460076</td>\n",
       "      <td>-1.033012</td>\n",
       "      <td>2.202205</td>\n",
       "    </tr>\n",
       "    <tr>\n",
       "      <th>2010-01-03</th>\n",
       "      <td>-1.131692</td>\n",
       "      <td>-0.748642</td>\n",
       "      <td>0.425021</td>\n",
       "      <td>-1.372113</td>\n",
       "      <td>3.487368</td>\n",
       "    </tr>\n",
       "    <tr>\n",
       "      <th>2010-01-04</th>\n",
       "      <td>-0.304292</td>\n",
       "      <td>0.076971</td>\n",
       "      <td>0.668625</td>\n",
       "      <td>-1.402017</td>\n",
       "      <td>3.777129</td>\n",
       "    </tr>\n",
       "    <tr>\n",
       "      <th>2010-01-05</th>\n",
       "      <td>0.584367</td>\n",
       "      <td>1.551901</td>\n",
       "      <td>1.262157</td>\n",
       "      <td>0.813257</td>\n",
       "      <td>4.462533</td>\n",
       "    </tr>\n",
       "  </tbody>\n",
       "</table>\n",
       "</div>"
      ],
      "text/plain": [
       "                   X         Y         Z         V         W\n",
       "2010-01-01  0.127366 -0.115791  0.832971  0.273465  2.014597\n",
       "2010-01-02 -0.783436 -0.314634  0.460076 -1.033012  2.202205\n",
       "2010-01-03 -1.131692 -0.748642  0.425021 -1.372113  3.487368\n",
       "2010-01-04 -0.304292  0.076971  0.668625 -1.402017  3.777129\n",
       "2010-01-05  0.584367  1.551901  1.262157  0.813257  4.462533"
      ]
     },
     "execution_count": 34,
     "metadata": {},
     "output_type": "execute_result"
    }
   ],
   "source": [
    "# make up some data with large-scale patterns and a datetime index\n",
    "d3 = pd.DataFrame(np.random.randn(1000, 5), index=pd.date_range('1/1/2010', periods=1000), columns=list('XYZVW'))\n",
    "d3 = d3.cumsum()\n",
    "d3.head()"
   ]
  },
  {
   "cell_type": "code",
   "execution_count": 35,
   "metadata": {},
   "outputs": [
    {
     "data": {
      "text/plain": [
       "array([[<matplotlib.axes._subplots.AxesSubplot object at 0x000000000C51E390>,\n",
       "        <matplotlib.axes._subplots.AxesSubplot object at 0x000000000C61AE80>],\n",
       "       [<matplotlib.axes._subplots.AxesSubplot object at 0x000000000C6EFB00>,\n",
       "        <matplotlib.axes._subplots.AxesSubplot object at 0x000000000C713CC0>],\n",
       "       [<matplotlib.axes._subplots.AxesSubplot object at 0x000000000C810390>,\n",
       "        <matplotlib.axes._subplots.AxesSubplot object at 0x000000000C88DF60>]], dtype=object)"
      ]
     },
     "execution_count": 35,
     "metadata": {},
     "output_type": "execute_result"
    },
    {
     "data": {
      "image/png": "[encoded data removed]",
      "text/plain": [
       "<matplotlib.figure.Figure at 0xc175da0>"
      ]
     },
     "metadata": {},
     "output_type": "display_data"
    },
    {
     "data": {
      "image/png": "[encoded data removed]",
      "text/plain": [
       "<matplotlib.figure.Figure at 0xa1b5860>"
      ]
     },
     "metadata": {},
     "output_type": "display_data"
    }
   ],
   "source": [
    "d3.plot()\n",
    "d3.hist()"
   ]
  },
  {
   "cell_type": "markdown",
   "metadata": {},
   "source": [
    "Now, let's use some other matplotlib wrappers to get a sense of how we can make this look a little better....\n",
    "\n",
    "- `prettyplotlib` essentially just fixes a bunch of matplotlib settings behind the scenes so your base methods lead to e.g. ColorBrewer palettes. This essentially overwrites the .matplotlibrc settings for this session with palettes and settings that are slightly nicer. The settings will remain until you start a new session."
   ]
  },
  {
   "cell_type": "code",
   "execution_count": 36,
   "metadata": {},
   "outputs": [
    {
     "data": {
      "text/plain": [
       "array([[<matplotlib.axes._subplots.AxesSubplot object at 0x000000000D62BA58>,\n",
       "        <matplotlib.axes._subplots.AxesSubplot object at 0x000000000D641AC8>],\n",
       "       [<matplotlib.axes._subplots.AxesSubplot object at 0x000000000D6DC668>,\n",
       "        <matplotlib.axes._subplots.AxesSubplot object at 0x000000000D7AB6D8>],\n",
       "       [<matplotlib.axes._subplots.AxesSubplot object at 0x000000000D8544A8>,\n",
       "        <matplotlib.axes._subplots.AxesSubplot object at 0x000000000D984F98>]], dtype=object)"
      ]
     },
     "execution_count": 36,
     "metadata": {},
     "output_type": "execute_result"
    },
    {
     "data": {
      "image/png": "[encoded data removed]",
      "text/plain": [
       "<matplotlib.figure.Figure at 0xc981940>"
      ]
     },
     "metadata": {},
     "output_type": "display_data"
    },
    {
     "data": {
      "image/png": "[encoded data removed]",
      "text/plain": [
       "<matplotlib.figure.Figure at 0xcb2afd0>"
      ]
     },
     "metadata": {},
     "output_type": "display_data"
    }
   ],
   "source": [
    "#!pip install prettyplotlib\n",
    "import prettyplotlib\n",
    "\n",
    "d3.plot()\n",
    "d3.hist()"
   ]
  },
  {
   "cell_type": "markdown",
   "metadata": {},
   "source": [
    "# Visualizing the distribution of a dataset"
   ]
  },
  {
   "cell_type": "markdown",
   "metadata": {},
   "source": [
    "Shannon's Note: I will keep one graph from each of the sections as per your further clarification...\n",
    "\n",
    "\n",
    "When dealing with a set of data, often the first thing you'll want to do is get a sense for how the variables are distributed. This chapter of the tutorial will give a brief introduction to some of the tools in seaborn for examining univariate and bivariate distributions. You may also want to look at the :ref:`categorical plots <categorical_tutorial>` chapter for examples of functions that make it easy to compare the distribution of a variable across levels of other variables."
   ]
  },
  {
   "cell_type": "code",
   "execution_count": 37,
   "metadata": {
    "collapsed": true
   },
   "outputs": [],
   "source": [
    "%matplotlib inline"
   ]
  },
  {
   "cell_type": "code",
   "execution_count": 38,
   "metadata": {
    "collapsed": true
   },
   "outputs": [],
   "source": [
    "import numpy as np\n",
    "import pandas as pd\n",
    "from scipy import stats, integrate\n",
    "import matplotlib.pyplot as plt"
   ]
  },
  {
   "cell_type": "code",
   "execution_count": 39,
   "metadata": {
    "collapsed": true
   },
   "outputs": [],
   "source": [
    "import seaborn as sns\n",
    "sns.set(color_codes=True)"
   ]
  },
  {
   "cell_type": "code",
   "execution_count": 40,
   "metadata": {
    "collapsed": true
   },
   "outputs": [],
   "source": [
    "np.random.seed(sum(map(ord, \"distributions\")))"
   ]
  },
  {
   "cell_type": "markdown",
   "metadata": {},
   "source": [
    "Plotting univariate distributions\n",
    "---------------------------------\n",
    "\n",
    "The most convenient way to take a quick look at a univariate distribution in seaborn is the ***`distplot` function. By default, this will draw a `histogram <https://en.wikipedia.org/wiki/Histogram>`_ and fit a `kernel density estimate <https://en.wikipedia.org/wiki/Kernel_density_estimation>`_ (KDE). "
   ]
  },
  {
   "cell_type": "code",
   "execution_count": 41,
   "metadata": {},
   "outputs": [
    {
     "data": {
      "image/png": "[encoded data removed]",
      "text/plain": [
       "<matplotlib.figure.Figure at 0xf64a390>"
      ]
     },
     "metadata": {},
     "output_type": "display_data"
    }
   ],
   "source": [
    "x = np.random.normal(size=100)\n",
    "sns.distplot(x);"
   ]
  },
  {
   "cell_type": "code",
   "execution_count": 42,
   "metadata": {},
   "outputs": [
    {
     "data": {
      "text/plain": [
       "<matplotlib.axes._subplots.AxesSubplot at 0xf70cac8>"
      ]
     },
     "execution_count": 42,
     "metadata": {},
     "output_type": "execute_result"
    },
    {
     "data": {
      "image/png": "[encoded data removed]",
      "text/plain": [
       "<matplotlib.figure.Figure at 0xf7ec5c0>"
      ]
     },
     "metadata": {},
     "output_type": "display_data"
    }
   ],
   "source": [
    "sns.rugplot(x) #decided to try to do a rugplot, it would be good if you're short on space, I guess."
   ]
  },
  {
   "cell_type": "markdown",
   "metadata": {},
   "source": [
    "Plotting bivariate distributions\n",
    "--------------------------------\n",
    "\n",
    "It can also be useful to visualize a bivariate distribution of two variables. The easiest way to do this in seaborn is to just use the ***`jointplot` function, which creates a multi-panel figure that shows both the bivariate (or joint) relationship between two variables along with the univariate (or marginal) distribution of each on separate axes."
   ]
  },
  {
   "cell_type": "code",
   "execution_count": 43,
   "metadata": {
    "collapsed": true
   },
   "outputs": [],
   "source": [
    "mean, cov = [0, 1], [(1, .5), (.5, 1)]\n",
    "data = np.random.multivariate_normal(mean, cov, 200)\n",
    "df = pd.DataFrame(data, columns=[\"x\", \"y\"])"
   ]
  },
  {
   "cell_type": "markdown",
   "metadata": {},
   "source": [
    "**Hexbin plots**\n",
    "\n",
    "The bivariate analogue of a histogram is known as a **\"hexbin\"** plot, because it shows the counts of observations that fall within hexagonal bins. This plot works best with relatively large datasets. It's available through the matplotlib **``plt.hexbin``** function and as a style in **`jointplot`**. It looks best with a white background:"
   ]
  },
  {
   "cell_type": "code",
   "execution_count": 44,
   "metadata": {},
   "outputs": [
    {
     "data": {
      "image/png": "[encoded data removed]",
      "text/plain": [
       "<matplotlib.figure.Figure at 0xc421048>"
      ]
     },
     "metadata": {},
     "output_type": "display_data"
    }
   ],
   "source": [
    "x, y = np.random.multivariate_normal(mean, cov, 1000).T\n",
    "with sns.axes_style(\"white\"):\n",
    "    sns.jointplot(x=x, y=y, kind=\"hex\", color=\"k\");"
   ]
  },
  {
   "cell_type": "markdown",
   "metadata": {},
   "source": [
    "Visualizing pairwise relationships in a dataset\n",
    "-----------------------------------------------\n",
    "\n",
    "To plot multiple pairwise bivariate distributions in a dataset, you can use the **`pairplot`** function. This creates a matrix of axes and shows the relationship for each pair of columns in a DataFrame. By default, it also draws the univariate distribution of each variable on the diagonal Axes:"
   ]
  },
  {
   "cell_type": "code",
   "execution_count": 45,
   "metadata": {},
   "outputs": [],
   "source": [
    "iris = sns.load_dataset(\"iris\")"
   ]
  },
  {
   "cell_type": "markdown",
   "metadata": {},
   "source": [
    "Much like the relationship between **`jointplot`** and **`JointGrid`**, the **`pairplot`** function is built on top of a **`PairGrid`** object, which can be used directly for more flexibility:"
   ]
  },
  {
   "cell_type": "code",
   "execution_count": 46,
   "metadata": {},
   "outputs": [
    {
     "name": "stderr",
     "output_type": "stream",
     "text": [
      "C:\\Users\\shann\\Anaconda2\\lib\\site-packages\\matplotlib\\contour.py:967: UserWarning: The following kwargs were not used by contour: 'color', 'label'\n",
      "  s)\n"
     ]
    },
    {
     "data": {
      "image/png": "[encoded data removed]",
      "text/plain": [
       "<matplotlib.figure.Figure at 0xddc47b8>"
      ]
     },
     "metadata": {},
     "output_type": "display_data"
    }
   ],
   "source": [
    "g = sns.PairGrid(iris)\n",
    "g.map_diag(sns.kdeplot)\n",
    "g.map_offdiag(sns.kdeplot, cmap=\"Blues_d\", n_levels=6);"
   ]
  },
  {
   "cell_type": "markdown",
   "metadata": {},
   "source": [
    "# Visualizing linear relationships"
   ]
  },
  {
   "cell_type": "code",
   "execution_count": 47,
   "metadata": {
    "collapsed": true
   },
   "outputs": [],
   "source": [
    "%matplotlib inline"
   ]
  },
  {
   "cell_type": "code",
   "execution_count": 48,
   "metadata": {
    "collapsed": true
   },
   "outputs": [],
   "source": [
    "import numpy as np\n",
    "import pandas as pd\n",
    "import matplotlib as mpl\n",
    "import matplotlib.pyplot as plt"
   ]
  },
  {
   "cell_type": "code",
   "execution_count": 49,
   "metadata": {
    "collapsed": true
   },
   "outputs": [],
   "source": [
    "import seaborn as sns\n",
    "sns.set(color_codes=True)"
   ]
  },
  {
   "cell_type": "code",
   "execution_count": 50,
   "metadata": {
    "collapsed": true
   },
   "outputs": [],
   "source": [
    "np.random.seed(sum(map(ord, \"regression\")))"
   ]
  },
  {
   "cell_type": "code",
   "execution_count": 51,
   "metadata": {
    "collapsed": true
   },
   "outputs": [],
   "source": [
    "tips = sns.load_dataset(\"tips\")"
   ]
  },
  {
   "cell_type": "markdown",
   "metadata": {},
   "source": [
    "Functions to draw linear regression models\n",
    "------------------------------------------"
   ]
  },
  {
   "cell_type": "code",
   "execution_count": 52,
   "metadata": {},
   "outputs": [
    {
     "data": {
      "image/png": "[encoded data removed]",
      "text/plain": [
       "<matplotlib.figure.Figure at 0x11353a20>"
      ]
     },
     "metadata": {},
     "output_type": "display_data"
    }
   ],
   "source": [
    "sns.lmplot(x=\"size\", y=\"tip\", data=tips, x_jitter=.05);"
   ]
  },
  {
   "cell_type": "markdown",
   "metadata": {},
   "source": [
    "Conditioning on other variables\n",
    "-------------------------------\n",
    "\n",
    "The plots above show many ways to explore the relationship between a pair of variables. Often, however, a more interesting question is \"how does the relationship between these two variables change as a function of a third variable?\" This is where the difference  between **`regplot`** and **`lmplot`** appears. While **`regplot`** always shows a single relationship, **`lmplot`** combines **`regplot`** with **`FacetGrid`** to provide an easy interface to show a linear regression on \"faceted\" plots that allow you to explore interactions with up to three additional categorical variables.\n",
    "\n",
    "The best way to separate out a relationship is to plot both levels on the same axes and to use color to distinguish them:"
   ]
  },
  {
   "cell_type": "code",
   "execution_count": 53,
   "metadata": {},
   "outputs": [
    {
     "data": {
      "image/png": "[encoded data removed]",
      "text/plain": [
       "<matplotlib.figure.Figure at 0x10234860>"
      ]
     },
     "metadata": {},
     "output_type": "display_data"
    }
   ],
   "source": [
    "sns.lmplot(x=\"total_bill\", y=\"tip\", hue=\"smoker\", data=tips);"
   ]
  },
  {
   "cell_type": "markdown",
   "metadata": {},
   "source": [
    "# Plotting with categorical data"
   ]
  },
  {
   "cell_type": "markdown",
   "metadata": {},
   "source": [
    "We can use scatterplots and regression model fits to visualize the relationship between two variables and how it changes across levels of additional categorical variables. However, what if one of the main variables you are interested in is categorical? In this case, the scatterplot and regression model approach won't work. There are several options, however, for visualizing such a relationship.\n",
    "\n",
    "It's useful to divide seaborn's categorical plots into three groups: those that show each observation at each level of the categorical variable, those that show an abstract representation of each *distribution* of observations, and those that apply a statistical estimation to show a measure of central tendency and confidence interval. The first includes the functions **swarmplot** and **stripplot**, the second includes **boxplot** and **violinplot**, and the third includes **barplot** and **pointplot**. These functions all share a basic API for how they accept data, although each has specific parameters that control the particulars of the visualization that is applied to that data.\n",
    "\n",
    "Much like the relationship between **regplot** and **lmplot**, in seaborn there are both relatively low-level and relatively high-level approaches for making categorical plots. The functions named above are all low-level in that they plot onto a specific matplotlib axes. There is also the higher-level **factorplot**, which combines these functions with a **FacetGrid** to apply a categorical plot across a grid of figure panels.\n"
   ]
  },
  {
   "cell_type": "code",
   "execution_count": 54,
   "metadata": {
    "collapsed": true
   },
   "outputs": [],
   "source": [
    "%matplotlib inline"
   ]
  },
  {
   "cell_type": "code",
   "execution_count": 55,
   "metadata": {
    "collapsed": true
   },
   "outputs": [],
   "source": [
    "import numpy as np\n",
    "import pandas as pd\n",
    "import matplotlib as mpl\n",
    "import matplotlib.pyplot as plt"
   ]
  },
  {
   "cell_type": "code",
   "execution_count": 56,
   "metadata": {
    "collapsed": true
   },
   "outputs": [],
   "source": [
    "import seaborn as sns\n",
    "sns.set(style=\"whitegrid\", color_codes=True)"
   ]
  },
  {
   "cell_type": "code",
   "execution_count": 57,
   "metadata": {
    "collapsed": true
   },
   "outputs": [],
   "source": [
    "np.random.seed(sum(map(ord, \"categorical\")))"
   ]
  },
  {
   "cell_type": "code",
   "execution_count": 58,
   "metadata": {
    "collapsed": true
   },
   "outputs": [],
   "source": [
    "titanic = sns.load_dataset(\"titanic\")\n",
    "tips = sns.load_dataset(\"tips\")\n",
    "iris = sns.load_dataset(\"iris\")"
   ]
  },
  {
   "cell_type": "markdown",
   "metadata": {},
   "source": [
    "Distributions of observations within categories\n",
    "-----------------------------------------------\n",
    "\n",
    "At a certain point, the categorical scatterplot approach becomes limited in the information it can provide about the distribution of values within each category. There are several ways to summarize this information in ways that facilitate easy comparisons across the category levels. These generalize some of the approaches we discussed in the :ref:`chapter <distribution_tutorial>` to the case where we want to quickly compare across several distributions.\n",
    "\n",
    "Boxplots\n",
    "^^^^^^^^\n",
    "\n",
    "The first is the familiar ***`boxplot`. This kind of plot shows the three quartile values of the distribution along with extreme values. The \"whiskers\" extend to points that lie within 1.5 IQRs of the lower and upper quartile, and then observations that fall outside this range are displayed independently. Importantly, this means that each value in the boxplot corresponds to an actual observation in the data:"
   ]
  },
  {
   "cell_type": "code",
   "execution_count": 59,
   "metadata": {},
   "outputs": [
    {
     "data": {
      "image/png": "[encoded data removed]",
      "text/plain": [
       "<matplotlib.figure.Figure at 0xc368a90>"
      ]
     },
     "metadata": {},
     "output_type": "display_data"
    }
   ],
   "source": [
    "sns.violinplot(x=\"day\", y=\"total_bill\", hue=\"sex\", data=tips,\n",
    "               split=True, inner=\"stick\", palette=\"Set3\");"
   ]
  }
 ],
 "metadata": {
  "kernelspec": {
   "display_name": "Python 2",
   "language": "python",
   "name": "python2"
  },
  "language_info": {
   "codemirror_mode": {
    "name": "ipython",
    "version": 2
   },
   "file_extension": ".py",
   "mimetype": "text/x-python",
   "name": "python",
   "nbconvert_exporter": "python",
   "pygments_lexer": "ipython2",
   "version": "2.7.14"
  }
 },
 "nbformat": 4,
 "nbformat_minor": 1
}
