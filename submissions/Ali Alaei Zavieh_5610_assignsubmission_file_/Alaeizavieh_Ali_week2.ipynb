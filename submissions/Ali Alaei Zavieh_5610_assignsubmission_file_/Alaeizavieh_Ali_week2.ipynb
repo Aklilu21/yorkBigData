{
 "cells": [
  {
   "cell_type": "code",
   "execution_count": 140,
   "metadata": {},
   "outputs": [
    {
     "name": "stdout",
     "output_type": "stream",
     "text": [
      "11\n"
     ]
    }
   ],
   "source": [
    "x = 5\n",
    "y = 6\n",
    "print x+y"
   ]
  },
  {
   "cell_type": "code",
   "execution_count": 141,
   "metadata": {},
   "outputs": [
    {
     "data": {
      "text/plain": [
       "15"
      ]
     },
     "execution_count": 141,
     "metadata": {},
     "output_type": "execute_result"
    }
   ],
   "source": [
    "1+5+9\n"
   ]
  },
  {
   "cell_type": "code",
   "execution_count": 142,
   "metadata": {},
   "outputs": [
    {
     "data": {
      "text/plain": [
       "16384"
      ]
     },
     "execution_count": 142,
     "metadata": {},
     "output_type": "execute_result"
    }
   ],
   "source": [
    "4**7"
   ]
  },
  {
   "cell_type": "code",
   "execution_count": 143,
   "metadata": {},
   "outputs": [
    {
     "data": {
      "text/plain": [
       "4"
      ]
     },
     "execution_count": 143,
     "metadata": {},
     "output_type": "execute_result"
    }
   ],
   "source": [
    "4%8"
   ]
  },
  {
   "cell_type": "code",
   "execution_count": 144,
   "metadata": {},
   "outputs": [
    {
     "data": {
      "text/plain": [
       "0"
      ]
     },
     "execution_count": 144,
     "metadata": {},
     "output_type": "execute_result"
    }
   ],
   "source": [
    "4%4"
   ]
  },
  {
   "cell_type": "code",
   "execution_count": 145,
   "metadata": {},
   "outputs": [
    {
     "data": {
      "text/plain": [
       "1.0"
      ]
     },
     "execution_count": 145,
     "metadata": {},
     "output_type": "execute_result"
    }
   ],
   "source": [
    "2.8//2"
   ]
  },
  {
   "cell_type": "code",
   "execution_count": 146,
   "metadata": {},
   "outputs": [
    {
     "data": {
      "text/plain": [
       "True"
      ]
     },
     "execution_count": 146,
     "metadata": {},
     "output_type": "execute_result"
    }
   ],
   "source": [
    "B = 6\n",
    "B == 6"
   ]
  },
  {
   "cell_type": "code",
   "execution_count": 147,
   "metadata": {},
   "outputs": [
    {
     "name": "stdout",
     "output_type": "stream",
     "text": [
      "88\n"
     ]
    }
   ],
   "source": [
    "print ('88')"
   ]
  },
  {
   "cell_type": "code",
   "execution_count": 148,
   "metadata": {},
   "outputs": [
    {
     "name": "stdout",
     "output_type": "stream",
     "text": [
      "7.0\n"
     ]
    }
   ],
   "source": [
    "print round(7.31)"
   ]
  },
  {
   "cell_type": "code",
   "execution_count": 149,
   "metadata": {},
   "outputs": [
    {
     "name": "stdout",
     "output_type": "stream",
     "text": [
      "1024\n"
     ]
    }
   ],
   "source": [
    "print pow(4,5)"
   ]
  },
  {
   "cell_type": "code",
   "execution_count": 150,
   "metadata": {},
   "outputs": [
    {
     "name": "stdout",
     "output_type": "stream",
     "text": [
      "This the the first Python Assignment for Ali Alaei Zavieh\n"
     ]
    }
   ],
   "source": [
    "print ('This the the first Python Assignment for Ali Alaei Zavieh')"
   ]
  },
  {
   "cell_type": "code",
   "execution_count": 151,
   "metadata": {},
   "outputs": [
    {
     "name": "stdout",
     "output_type": "stream",
     "text": [
      "Year\n",
      "2000\n",
      "2001\n",
      "2002\n",
      "2003\n",
      "2004\n",
      "2005\n",
      "2005\n",
      "2006\n",
      "2007\n",
      "2008\n",
      "2009\n",
      "2010\n",
      "2011\n"
     ]
    }
   ],
   "source": [
    "print ('Year\\n2000\\n2001\\n2002\\n2003\\n2004\\n2005\\n2005\\n2006\\n2007\\n2008\\n2009\\n2010\\n2011')"
   ]
  },
  {
   "cell_type": "code",
   "execution_count": 152,
   "metadata": {},
   "outputs": [
    {
     "name": "stdout",
     "output_type": "stream",
     "text": [
      "<type 'list'>\n"
     ]
    }
   ],
   "source": [
    "SalesRep = []\n",
    "print type(SalesRep)\n"
   ]
  },
  {
   "cell_type": "code",
   "execution_count": 153,
   "metadata": {},
   "outputs": [
    {
     "name": "stdout",
     "output_type": "stream",
     "text": [
      "['Ali', 'John', 'Alex', 'Ahmed', 'Emily']\n"
     ]
    }
   ],
   "source": [
    "Rep = ['Ali','John','Alex','Ahmed','Emily']\n",
    "print Rep"
   ]
  },
  {
   "cell_type": "code",
   "execution_count": 154,
   "metadata": {},
   "outputs": [
    {
     "name": "stdout",
     "output_type": "stream",
     "text": [
      "Ali   John\n"
     ]
    }
   ],
   "source": [
    "Rep2 = Rep[0]+\"   \"+Rep[1]\n",
    "print Rep2"
   ]
  },
  {
   "cell_type": "code",
   "execution_count": 155,
   "metadata": {},
   "outputs": [
    {
     "name": "stdout",
     "output_type": "stream",
     "text": [
      "[['Ai,1000'], ['Emili', 2000], ['Ahmed', 2500], ['Mari', 4500]]\n"
     ]
    }
   ],
   "source": [
    "RepSales = [['Ai,1000'],['Emili',2000],['Ahmed',2500],['Mari',4500]]\n",
    "print RepSales"
   ]
  },
  {
   "cell_type": "code",
   "execution_count": 156,
   "metadata": {},
   "outputs": [
    {
     "name": "stdout",
     "output_type": "stream",
     "text": [
      "[['Ahmed', 2500], ['Mari', 4500]]\n"
     ]
    }
   ],
   "source": [
    "RepSales = [['Ai,1000'],['Emili',2000],['Ahmed',2500],['Mari',4500]]\n",
    "print RepSales[2:4]"
   ]
  },
  {
   "cell_type": "code",
   "execution_count": 157,
   "metadata": {},
   "outputs": [
    {
     "name": "stdout",
     "output_type": "stream",
     "text": [
      "4\n",
      "1\n"
     ]
    },
    {
     "data": {
      "text/plain": [
       "True"
      ]
     },
     "execution_count": 157,
     "metadata": {},
     "output_type": "execute_result"
    }
   ],
   "source": [
    "RepSales = [['Ai,1000'],['Emili',2000],['Ahmed',2500],['Mari',4500]]\n",
    "print len(RepSales)\n",
    "print len(RepSales[0])\n",
    "'Emili' in RepSales\n",
    "'Emili' in RepSales[1]"
   ]
  },
  {
   "cell_type": "code",
   "execution_count": 158,
   "metadata": {},
   "outputs": [
    {
     "name": "stdout",
     "output_type": "stream",
     "text": [
      "[['Ai,1000'], ['Emili', 2000], ['Ahmed', 2500], ['Mari', 4500], ['Jennier', 12]]\n"
     ]
    }
   ],
   "source": [
    "RepSales = [['Ai,1000'],['Emili',2000],['Ahmed',2500],['Mari',4500]]\n",
    "RepSales.append(['Jennier',12])\n",
    "print RepSales"
   ]
  },
  {
   "cell_type": "code",
   "execution_count": 159,
   "metadata": {},
   "outputs": [
    {
     "name": "stdout",
     "output_type": "stream",
     "text": [
      "0\n"
     ]
    }
   ],
   "source": [
    "RepSales = [['Ai,1000'],['Emili',2000],['Ahmed',2500],['Mari',4500]]\n",
    "print RepSales.index(['Ai,1000'])"
   ]
  },
  {
   "cell_type": "code",
   "execution_count": 160,
   "metadata": {},
   "outputs": [
    {
     "name": "stdout",
     "output_type": "stream",
     "text": [
      "[['Ai,1000'], ['Emili', 2000], 'NaN', ['Ahmed', 2500], ['Mari', 4500]]\n"
     ]
    }
   ],
   "source": [
    "RepSales = [['Ai,1000'],['Emili',2000],['Ahmed',2500],['Mari',4500]]\n",
    "RepSales.insert(2,'NaN')\n",
    "print RepSales"
   ]
  },
  {
   "cell_type": "code",
   "execution_count": 161,
   "metadata": {},
   "outputs": [
    {
     "name": "stdout",
     "output_type": "stream",
     "text": [
      "['Mari', 4500]\n"
     ]
    }
   ],
   "source": [
    "RepSales = [['Ai,1000'],['Emili',2000],['Ahmed',2500],['Mari',4500]]\n",
    "print RepSales.pop()"
   ]
  },
  {
   "cell_type": "code",
   "execution_count": 162,
   "metadata": {},
   "outputs": [
    {
     "name": "stdout",
     "output_type": "stream",
     "text": [
      "[['Emili', 2000], ['Ahmed', 2500], ['Mari', 4500]]\n"
     ]
    }
   ],
   "source": [
    "RepSales = [['Ai,1000'],['Emili',2000],['Ahmed',2500],['Mari',4500]]\n",
    "RepSales.remove(['Ai,1000'])\n",
    "print RepSales"
   ]
  },
  {
   "cell_type": "code",
   "execution_count": 163,
   "metadata": {},
   "outputs": [
    {
     "name": "stdout",
     "output_type": "stream",
     "text": [
      "[['Ahmed', 2500], ['Ai,1000'], ['Emili', 2000], ['Mari', 4500]]\n"
     ]
    }
   ],
   "source": [
    "RepSales = [['Ai,1000'],['Emili',2000],['Ahmed',2500],['Mari',4500]]\n",
    "RepSales.sort()\n",
    "print RepSales"
   ]
  },
  {
   "cell_type": "code",
   "execution_count": null,
   "metadata": {
    "collapsed": true
   },
   "outputs": [],
   "source": []
  },
  {
   "cell_type": "code",
   "execution_count": 164,
   "metadata": {},
   "outputs": [
    {
     "name": "stdout",
     "output_type": "stream",
     "text": [
      "['Mari', 4500]\n"
     ]
    }
   ],
   "source": [
    "(a,b,c,d) = (['Ai,1000'],['Emili',2000],['Ahmed',2500],['Mari',4500])\n",
    "print d"
   ]
  },
  {
   "cell_type": "code",
   "execution_count": 165,
   "metadata": {},
   "outputs": [
    {
     "name": "stdout",
     "output_type": "stream",
     "text": [
      "Today!!!\n"
     ]
    }
   ],
   "source": [
    "x = 'Sun'\n",
    "\n",
    "if x == 'Sat':\n",
    "   \n",
    "    print \"The Assignment Deadline is Tomorrow\"\n",
    "    \n",
    "elif x == 'Mon':\n",
    "    print \"1 Day Past\"\n",
    "elif x =='Tue':\n",
    "    print \"2 Day Past\"\n",
    "elif x =='Wed':\n",
    "    print \"3 Day Past\"\n",
    "elif x =='Thu':\n",
    "    print \"1 Day Past\"\n",
    "elif x =='Fri':\n",
    "    print \"1 Day Past\"\n",
    "    \n",
    "else:\n",
    "    \n",
    "    print 'Today!!!'"
   ]
  },
  {
   "cell_type": "code",
   "execution_count": 166,
   "metadata": {},
   "outputs": [
    {
     "name": "stdout",
     "output_type": "stream",
     "text": [
      "1\n",
      "2\n",
      "3\n",
      "4\n",
      "5\n",
      "6\n",
      "7\n",
      "8\n",
      "9\n",
      "10\n"
     ]
    }
   ],
   "source": [
    "for i in range(10):\n",
    "    print i+1"
   ]
  },
  {
   "cell_type": "code",
   "execution_count": 167,
   "metadata": {},
   "outputs": [
    {
     "name": "stdout",
     "output_type": "stream",
     "text": [
      "Ai,1000\n"
     ]
    }
   ],
   "source": [
    "RepSales = [['Ai,1000'],['Emili',2000],['Ahmed',2500],['Mari',4500]]\n",
    "for i in RepSales[0]:\n",
    "    print i"
   ]
  },
  {
   "cell_type": "code",
   "execution_count": 168,
   "metadata": {},
   "outputs": [
    {
     "name": "stdout",
     "output_type": "stream",
     "text": [
      "1\n",
      "4\n",
      "9\n",
      "16\n",
      "25\n",
      "+_+_+_+_+_+_+_+_+\n"
     ]
    }
   ],
   "source": [
    "i = 1\n",
    "while i < 6:\n",
    "    print(i ** 2)\n",
    "    i = i+1\n",
    "print('+_+_+_+_+_+_+_+_+')\n",
    "    \n",
    "    "
   ]
  },
  {
   "cell_type": "code",
   "execution_count": 169,
   "metadata": {},
   "outputs": [
    {
     "data": {
      "text/plain": [
       "['11-01',\n",
       " '11-02',\n",
       " '11-03',\n",
       " '11-04',\n",
       " '11-05',\n",
       " '11-06',\n",
       " '11-07',\n",
       " '11-08',\n",
       " '11-09',\n",
       " '11-10',\n",
       " '11-11',\n",
       " '11-12',\n",
       " '11-13',\n",
       " '11-14',\n",
       " '11-15',\n",
       " '11-16',\n",
       " '11-17',\n",
       " '11-18']"
      ]
     },
     "execution_count": 169,
     "metadata": {},
     "output_type": "execute_result"
    }
   ],
   "source": [
    "import pandas as pd\n",
    "import datetime\n",
    "\n",
    "dt = datetime.datetime(2017,11,1)\n",
    "end = datetime.datetime(2017,11,19)\n",
    "step = datetime.timedelta(days=1)\n",
    "dates = []\n",
    "\n",
    "while dt < end:\n",
    "    dates.append(dt.strftime('%m-%d'))\n",
    "    dt += step\n",
    "dates"
   ]
  },
  {
   "cell_type": "code",
   "execution_count": 170,
   "metadata": {},
   "outputs": [
    {
     "data": {
      "text/plain": [
       "{'Alex': [20, 18, 23, 19, 25, 27, 23],\n",
       " 'Ali': [15, 19, 15, 11, 9, 8, 13],\n",
       " 'Date': ['11-01',\n",
       "  '11-02',\n",
       "  '11-03',\n",
       "  '11-04',\n",
       "  '11-05',\n",
       "  '11-06',\n",
       "  '11-07',\n",
       "  '11-08',\n",
       "  '11-09',\n",
       "  '11-10',\n",
       "  '11-11',\n",
       "  '11-12',\n",
       "  '11-13',\n",
       "  '11-14',\n",
       "  '11-15',\n",
       "  '11-16',\n",
       "  '11-17',\n",
       "  '11-18'],\n",
       " 'John': [-2, 0, 2, 5, 7, -5, -3]}"
      ]
     },
     "execution_count": 170,
     "metadata": {},
     "output_type": "execute_result"
    }
   ],
   "source": [
    "d = {'Date': dates, 'Ali' : [15,19,15,11,9,8,13], 'John': [-2,0,2,5,7,-5,-3], 'Alex':[20,18,23,19,25,27,23]}\n",
    "d"
   ]
  },
  {
   "cell_type": "code",
   "execution_count": 171,
   "metadata": {},
   "outputs": [
    {
     "name": "stdout",
     "output_type": "stream",
     "text": [
      "           0      1      2      3      4      5\n",
      "Reps     Ali   John  Ahmed   Emii   Mari    Ron\n",
      "Sales  12000  23000  37000  22000  29000  31000\n",
      "Year    2000   2001   2002   2001   2002   2003\n"
     ]
    }
   ],
   "source": [
    "data = {'Reps': ['Ali', 'John', 'Ahmed', 'Emii', 'Mari', 'Ron'],\n",
    "        'Year': [2000, 2001, 2002, 2001, 2002, 2003],\n",
    "        'Sales': [12000, 23000, 37000, 22000, 29000, 31000]}\n",
    "frame = pd.DataFrame(data)\n",
    "print frame.T"
   ]
  },
  {
   "cell_type": "code",
   "execution_count": 172,
   "metadata": {},
   "outputs": [
    {
     "data": {
      "text/plain": [
       "array([['Ali', 12000, 2000],\n",
       "       ['John', 23000, 2001],\n",
       "       ['Ahmed', 37000, 2002],\n",
       "       ['Emii', 22000, 2001],\n",
       "       ['Mari', 29000, 2002],\n",
       "       ['Ron', 31000, 2003]], dtype=object)"
      ]
     },
     "execution_count": 172,
     "metadata": {},
     "output_type": "execute_result"
    }
   ],
   "source": [
    "frame.values"
   ]
  },
  {
   "cell_type": "code",
   "execution_count": 173,
   "metadata": {},
   "outputs": [
    {
     "data": {
      "text/plain": [
       "a       NaN\n",
       "b       NaN\n",
       "Alex   -5.3\n",
       "t       NaN\n",
       "j       NaN\n",
       "k       NaN\n",
       "dtype: float64"
      ]
     },
     "execution_count": 173,
     "metadata": {},
     "output_type": "execute_result"
    }
   ],
   "source": [
    "Sales = pd.Series([4.5, 7.2, -5.3, 3.6], index=['Ali', 'John', 'Alex', 'Emili'])\n",
    "SalesQ1 = Sales.reindex(['a','b','Alex','t','j','k'])\n",
    "SalesQ1"
   ]
  },
  {
   "cell_type": "code",
   "execution_count": 174,
   "metadata": {},
   "outputs": [
    {
     "data": {
      "text/plain": [
       "Ali      4.5\n",
       "John     7.2\n",
       "Alex    -5.3\n",
       "Emili    3.6\n",
       "dtype: float64"
      ]
     },
     "execution_count": 174,
     "metadata": {},
     "output_type": "execute_result"
    }
   ],
   "source": [
    "Sales = pd.Series([4.5, 7.2, -5.3, 3.6], index=['Ali', 'John', 'Alex', 'Emili'])\n",
    "Sales"
   ]
  },
  {
   "cell_type": "code",
   "execution_count": 175,
   "metadata": {},
   "outputs": [
    {
     "name": "stdout",
     "output_type": "stream",
     "text": [
      "    Reps  Sales  Year\n",
      "0    Ali  12000  2000\n",
      "1   John  23000  2001\n",
      "2  Ahmed  37000  2002\n",
      "3   Emii  22000  2001\n",
      "4   Mari  29000  2002\n",
      "5    Ron  31000  2003\n"
     ]
    }
   ],
   "source": [
    "import matplotlib.pyplot as plt\n",
    "%matplotlib inline\n",
    "\n",
    "data = {'Reps': ['Ali', 'John', 'Ahmed', 'Emii', 'Mari', 'Ron'],\n",
    "        'Year': [2000, 2001, 2002, 2001, 2002, 2003],\n",
    "        'Sales': [12000, 23000, 37000, 22000, 29000, 31000]}\n",
    "frame = pd.DataFrame(data)\n",
    "print frame\n"
   ]
  },
  {
   "cell_type": "code",
   "execution_count": 177,
   "metadata": {},
   "outputs": [
    {
     "name": "stdout",
     "output_type": "stream",
     "text": [
      "    Reps  Sales\n",
      "0    Ali  12000\n",
      "1   John  23000\n",
      "2  Ahmed  37000\n",
      "3   Emii  22000\n",
      "4   Mari  29000\n",
      "5    Ron  31000\n"
     ]
    },
    {
     "data": {
      "text/plain": [
       "<matplotlib.axes._subplots.AxesSubplot at 0x7f2d9b9d9850>"
      ]
     },
     "execution_count": 177,
     "metadata": {},
     "output_type": "execute_result"
    },
    {
     "data": {
      "image/png": "[encoded data removed]",
      "text/plain": [
       "<matplotlib.figure.Figure at 0x7f2d98847590>"
      ]
     },
     "metadata": {},
     "output_type": "display_data"
    }
   ],
   "source": [
    "import matplotlib.pyplot as plt\n",
    "%matplotlib inline\n",
    "\n",
    "data = {'Reps': ['Ali', 'John', 'Ahmed', 'Emii', 'Mari', 'Ron'],\n",
    "        'Sales': [12000, 23000, 37000, 22000, 29000, 31000]}\n",
    "frame = pd.DataFrame(data)\n",
    "print frame\n",
    "\n",
    "frame.plot()"
   ]
  }
 ],
 "metadata": {
  "kernelspec": {
   "display_name": "Python 2",
   "language": "python",
   "name": "python2"
  },
  "language_info": {
   "codemirror_mode": {
    "name": "ipython",
    "version": 2
   },
   "file_extension": ".py",
   "mimetype": "text/x-python",
   "name": "python",
   "nbconvert_exporter": "python",
   "pygments_lexer": "ipython2",
   "version": "2.7.13"
  }
 },
 "nbformat": 4,
 "nbformat_minor": 2
}
