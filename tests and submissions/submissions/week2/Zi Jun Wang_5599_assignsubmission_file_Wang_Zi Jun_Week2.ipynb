{
 "cells": [
  {
   "cell_type": "markdown",
   "metadata": {},
   "source": [
    "Week 2 Notebook from Zi Jun Wang"
   ]
  },
  {
   "cell_type": "markdown",
   "metadata": {},
   "source": [
    "1. Assign variables"
   ]
  },
  {
   "cell_type": "code",
   "execution_count": 59,
   "metadata": {},
   "outputs": [
    {
     "name": "stdout",
     "output_type": "stream",
     "text": [
      "3\n"
     ]
    }
   ],
   "source": [
    "x = 1\n",
    "y = 2\n",
    "print (x+y)"
   ]
  },
  {
   "cell_type": "markdown",
   "metadata": {},
   "source": [
    "2. Perform built in comparision and mathmatical functions\n",
    "5. Import pandas"
   ]
  },
  {
   "cell_type": "code",
   "execution_count": 60,
   "metadata": {
    "collapsed": true
   },
   "outputs": [],
   "source": [
    "import pandas as pd"
   ]
  },
  {
   "cell_type": "code",
   "execution_count": 61,
   "metadata": {},
   "outputs": [
    {
     "name": "stdout",
     "output_type": "stream",
     "text": [
      "a > b\n",
      "a = b after rounding\n"
     ]
    }
   ],
   "source": [
    "a = 5.515\n",
    "b = 5.455\n",
    "if a < b:\n",
    "    print ('a < b')\n",
    "elif a > b:\n",
    "    print ('a > b')\n",
    "else: \n",
    "    print ('a = b')\n",
    "    \n",
    "if round(a,1) < round (b,1):\n",
    "    print ('a < b after rounding')\n",
    "elif round (a,1) > round (b,1):\n",
    "    print ('a > b after rounding')\n",
    "else:\n",
    "    print ('a = b after rounding')"
   ]
  },
  {
   "cell_type": "markdown",
   "metadata": {},
   "source": [
    "3. Use several Python native functions"
   ]
  },
  {
   "cell_type": "code",
   "execution_count": 62,
   "metadata": {},
   "outputs": [
    {
     "name": "stdout",
     "output_type": "stream",
     "text": [
      "<class 'float'>\n",
      "[5, 6, 9, 13, 17, 35, 65]\n",
      "[65, 35, 17, 13, 9, 6, 5]\n"
     ]
    }
   ],
   "source": [
    "print (type(a))\n",
    "l = [6, 5, 17, 9, 13, 65, 35]\n",
    "l.sort()\n",
    "print (l)\n",
    "l.sort(reverse = True)\n",
    "print (l)"
   ]
  },
  {
   "cell_type": "code",
   "execution_count": 63,
   "metadata": {
    "scrolled": true
   },
   "outputs": [
    {
     "name": "stdout",
     "output_type": "stream",
     "text": [
      "['da', 'ta']\n",
      "data\n"
     ]
    }
   ],
   "source": [
    "s = ['d', 'a']\n",
    "t = ['t', 'a']\n",
    "s1 = ('').join(s)\n",
    "t1 = ('').join(t)\n",
    "data = [s1, t1]\n",
    "print(data)\n",
    "data1 = ('').join(data)\n",
    "print(data1)\n"
   ]
  },
  {
   "cell_type": "code",
   "execution_count": 65,
   "metadata": {
    "scrolled": true
   },
   "outputs": [
    {
     "name": "stdout",
     "output_type": "stream",
     "text": [
      "['da', 'ta', 'analytics']\n"
     ]
    },
    {
     "data": {
      "text/plain": [
       "str"
      ]
     },
     "execution_count": 65,
     "metadata": {},
     "output_type": "execute_result"
    }
   ],
   "source": [
    "data.append('analytics')\n",
    "print(data)\n",
    "type(data1)\n"
   ]
  },
  {
   "cell_type": "markdown",
   "metadata": {},
   "source": [
    "4. Loop over a list and print to the console"
   ]
  },
  {
   "cell_type": "code",
   "execution_count": 66,
   "metadata": {},
   "outputs": [
    {
     "name": "stdout",
     "output_type": "stream",
     "text": [
      "ss\n",
      "as\n",
      "ls\n",
      "es\n",
      "ss\n",
      "fs\n",
      "os\n",
      "rs\n",
      "cs\n",
      "es\n"
     ]
    }
   ],
   "source": [
    "m = tuple('salesforce')\n",
    "for i in m:\n",
    "    x = i + 's'\n",
    "    print(x)\n",
    "    "
   ]
  },
  {
   "cell_type": "markdown",
   "metadata": {},
   "source": [
    "6. Create a dataframe with a few columns and rows"
   ]
  },
  {
   "cell_type": "code",
   "execution_count": 68,
   "metadata": {},
   "outputs": [
    {
     "name": "stdout",
     "output_type": "stream",
     "text": [
      "  companies  debt  valuation  year\n",
      "0      aapl    20        900  2000\n",
      "1     googl    35        250  2001\n",
      "2      amzn    67        360  2002\n",
      "3        fb    56        555  2001\n",
      "4      nflx    45        789  2002\n",
      "5      snap    78        564  2003\n"
     ]
    }
   ],
   "source": [
    "data = {'companies': ['aapl', 'googl', 'amzn', 'fb', 'nflx', 'snap'],\n",
    "        'year': [2000, 2001, 2002, 2001, 2002, 2003],\n",
    "        'valuation': [900, 250, 360, 555, 789, 564],\n",
    "        'debt': [20, 35, 67, 56, 45, 78]}\n",
    "frame = pd.DataFrame(data)\n",
    "print(frame)"
   ]
  },
  {
   "cell_type": "markdown",
   "metadata": {},
   "source": [
    "7. Index a pandas data frame and print different cells, rows, columns"
   ]
  },
  {
   "cell_type": "code",
   "execution_count": 69,
   "metadata": {},
   "outputs": [
    {
     "name": "stdout",
     "output_type": "stream",
     "text": [
      "  companies  debt  valuation  year\n",
      "a      aapl    20        900  2000\n",
      "b     googl    35        250  2001\n",
      "c      amzn    67        360  2002\n",
      "d        fb    56        555  2001\n",
      "e      nflx    45        789  2002\n",
      "f      snap    78        564  2003\n"
     ]
    }
   ],
   "source": [
    "frame = pd.DataFrame(data, index = ['a', 'b', 'c', 'd', 'e', 'f'])\n",
    "print (frame)"
   ]
  },
  {
   "cell_type": "code",
   "execution_count": 71,
   "metadata": {},
   "outputs": [
    {
     "name": "stdout",
     "output_type": "stream",
     "text": [
      "companies    amzn\n",
      "debt           67\n",
      "valuation     360\n",
      "year         2002\n",
      "Name: c, dtype: object\n"
     ]
    }
   ],
   "source": [
    "print(frame.loc['c'])"
   ]
  },
  {
   "cell_type": "code",
   "execution_count": 72,
   "metadata": {},
   "outputs": [
    {
     "name": "stdout",
     "output_type": "stream",
     "text": [
      "              a      b     c     d     e     f\n",
      "companies  aapl  googl  amzn    fb  nflx  snap\n",
      "debt         20     35    67    56    45    78\n",
      "valuation   900    250   360   555   789   564\n",
      "year       2000   2001  2002  2001  2002  2003\n"
     ]
    }
   ],
   "source": [
    "print(frame.T)"
   ]
  },
  {
   "cell_type": "code",
   "execution_count": 74,
   "metadata": {},
   "outputs": [
    {
     "name": "stdout",
     "output_type": "stream",
     "text": [
      "a    2000\n",
      "b    2001\n",
      "c    2002\n",
      "d    2001\n",
      "e    2002\n",
      "f    2003\n",
      "Name: year, dtype: int64\n"
     ]
    }
   ],
   "source": [
    "print(frame.year)"
   ]
  },
  {
   "cell_type": "code",
   "execution_count": 89,
   "metadata": {},
   "outputs": [
    {
     "name": "stdout",
     "output_type": "stream",
     "text": [
      "a     aapl\n",
      "b    googl\n",
      "c     amzn\n",
      "d       fb\n",
      "e     nflx\n",
      "f     snap\n",
      "Name: companies, dtype: object\n"
     ]
    }
   ],
   "source": [
    "print(frame['companies'])\n"
   ]
  }
 ],
 "metadata": {
  "kernelspec": {
   "display_name": "Python 3",
   "language": "python",
   "name": "python3"
  },
  "language_info": {
   "codemirror_mode": {
    "name": "ipython",
    "version": 3
   },
   "file_extension": ".py",
   "mimetype": "text/x-python",
   "name": "python",
   "nbconvert_exporter": "python",
   "pygments_lexer": "ipython3",
   "version": "3.6.2"
  }
 },
 "nbformat": 4,
 "nbformat_minor": 2
}
