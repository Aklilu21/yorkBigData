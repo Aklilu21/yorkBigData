{
 "cells": [
  {
   "cell_type": "markdown",
   "metadata": {},
   "source": [
    "## Introduction to Big Data Midterm"
   ]
  },
  {
   "cell_type": "markdown",
   "metadata": {},
   "source": [
    "Assign date: 2017-12-03\n",
    "\n",
    "Due date: 2017-12-16 11:59pm\n",
    "\n",
    "Please submit only one copy of your Jupyter Notebook file with your answers for each question provided in the following cells below to Moodle. There will be no extensions or excemptions. \n",
    "\n",
    "You will lose 15% each day your submission is late. \n",
    "\n",
    "Please do not post any answers to the general question forum. You can however ask for technical help on the course page if you are having actualy technical issues. I reserve the right to delete any question/response that I deem being too much \"begging for hints\" in nature. You may email me directly at mtenney@yorku.ca if you have any questions, but do note I will not provide you any answers and my response may take up to 48hrs. And of course, you're free to use any class material, the Internet, or additional resources to complete the exam. The exam covers material from weeks 1-4 inclusively.\n",
    "\n",
    "Note you MUST RUN THE CODE and print out the required results when submitting. Any empty cells or un-run code will not be accepted. "
   ]
  },
  {
   "cell_type": "markdown",
   "metadata": {},
   "source": [
    "\n",
    "**1) Import the following libraries to your notebook (you can use alias' if you want) in the cell below:**<br/>\n",
    "    pandas,\n",
    "    seaborn,\n",
    "    os,\n",
    "    matplotlib.pyplot<br/>\n",
    "**And** add the following flag: \n",
    "    %matplotlib inline"
   ]
  },
  {
   "cell_type": "code",
   "execution_count": null,
   "metadata": {
    "collapsed": true
   },
   "outputs": [],
   "source": []
  },
  {
   "cell_type": "markdown",
   "metadata": {},
   "source": [
    "**2) Index a list in Python**<br/>\n",
    "Run the code below, it will give a result of 4. If we want to get ONLY the number 8 from the list of lists below, how would you alter the code? Alter the code directly and run to print the desired output. "
   ]
  },
  {
   "cell_type": "code",
   "execution_count": 3,
   "metadata": {},
   "outputs": [
    {
     "name": "stdout",
     "output_type": "stream",
     "text": [
      "4\n"
     ]
    }
   ],
   "source": [
    "question2 = [[1,2],[3,4],[5,6],[7,[8,9]]]\n",
    "print question2[1][1]"
   ]
  },
  {
   "cell_type": "markdown",
   "metadata": {},
   "source": [
    "**3) Define a variable called bigdata, to be a list in python with the following elements and print only the last two elements of the list:**<br/> 1, \"Big Data Class\", 2, \"Is Really Fun\",3, \"I Love Python\""
   ]
  },
  {
   "cell_type": "code",
   "execution_count": null,
   "metadata": {
    "collapsed": true
   },
   "outputs": [],
   "source": []
  },
  {
   "cell_type": "markdown",
   "metadata": {},
   "source": [
    "**4) Cast the following list to be a string in Python:** <br/>\n",
    "Define the list [1,2,4,3,'k'] and cast it to a string where you print out '1243k'. Insert your code below."
   ]
  },
  {
   "cell_type": "code",
   "execution_count": null,
   "metadata": {
    "collapsed": true
   },
   "outputs": [],
   "source": []
  },
  {
   "cell_type": "markdown",
   "metadata": {},
   "source": [
    "**5) Test whether the two lists are equal too each other and if not what elements are shared between the two lists.**<br/>\n",
    "<t/>list1 = ['1',2,'3',4,5]<br/>\n",
    "<t/>list2 = [1,2,3,4,'5',6]<br/>\n",
    "<br/>\n",
    "Define the lists and print whether the lists are equal to one another, and find which elements are a match. (***Hint you can go element by element or use you can use a \"for\" loop, or, you can use a different data structure all together***). \n"
   ]
  },
  {
   "cell_type": "code",
   "execution_count": null,
   "metadata": {
    "collapsed": true
   },
   "outputs": [],
   "source": []
  },
  {
   "cell_type": "markdown",
   "metadata": {},
   "source": [
    "**6) Test whether the two lists are equal too each other and if not what elements are shared between the two lists.**<br/>"
   ]
  },
  {
   "cell_type": "code",
   "execution_count": null,
   "metadata": {
    "collapsed": true
   },
   "outputs": [],
   "source": []
  },
  {
   "cell_type": "markdown",
   "metadata": {},
   "source": [
    "**7) What are the \"5 V's\" commonly used to describe Big Data?** Write your answer below."
   ]
  },
  {
   "cell_type": "code",
   "execution_count": null,
   "metadata": {
    "collapsed": true
   },
   "outputs": [],
   "source": []
  },
  {
   "cell_type": "markdown",
   "metadata": {},
   "source": [
    "**8) Finish the quote:**<br/> *\"All models are wrong. Some are [...]\"*"
   ]
  },
  {
   "cell_type": "code",
   "execution_count": null,
   "metadata": {
    "collapsed": true
   },
   "outputs": [],
   "source": []
  },
  {
   "cell_type": "markdown",
   "metadata": {},
   "source": [
    "**9) If a variable dogs = 103x23/2 and a variable cats = 10x12x4,  Use python to determing if dogs are greater than cats. **"
   ]
  },
  {
   "cell_type": "code",
   "execution_count": null,
   "metadata": {
    "collapsed": true
   },
   "outputs": [],
   "source": []
  },
  {
   "cell_type": "markdown",
   "metadata": {},
   "source": [
    "**10) What is the name for the 3 primary measures of central tendency and give their definition** "
   ]
  },
  {
   "cell_type": "code",
   "execution_count": null,
   "metadata": {
    "collapsed": true
   },
   "outputs": [],
   "source": []
  },
  {
   "cell_type": "markdown",
   "metadata": {},
   "source": [
    "**11) Calculate the descriptive statistice for each of the above central measures in Python on this list of numbers and print out the values:**<br/> \n",
    "\n",
    "[12,44,23,2,1,66,7,85,3,34,23,6,34,23,7,21,14,34,23,88]\n",
    "<br/> \n",
    "*(Hint: it might be easier to import a function from some other library)*\n",
    "\n"
   ]
  },
  {
   "cell_type": "code",
   "execution_count": null,
   "metadata": {
    "collapsed": true
   },
   "outputs": [],
   "source": []
  },
  {
   "cell_type": "markdown",
   "metadata": {},
   "source": [
    "**12) Delete the empty cell  between question 12 (this one) and Question 13 from the Jupyter notebook**"
   ]
  },
  {
   "cell_type": "code",
   "execution_count": null,
   "metadata": {
    "collapsed": true
   },
   "outputs": [],
   "source": []
  },
  {
   "cell_type": "markdown",
   "metadata": {},
   "source": [
    "**13) Create a list, called mylist, containing a sequential list of numbers that starts with 2 and stops at 1000, counting by 2's in Python**"
   ]
  },
  {
   "cell_type": "code",
   "execution_count": null,
   "metadata": {
    "collapsed": true
   },
   "outputs": [],
   "source": []
  },
  {
   "cell_type": "markdown",
   "metadata": {},
   "source": [
    "**14) Is the sum of the first 50 elements in \"mylist\" greater than the last element of  \"mylist\"?**<br/> Use Python below to print out the answer. (mylist is defined in question 13). "
   ]
  },
  {
   "cell_type": "code",
   "execution_count": null,
   "metadata": {
    "collapsed": true
   },
   "outputs": [],
   "source": []
  },
  {
   "cell_type": "markdown",
   "metadata": {},
   "source": [
    "**15) What is the length of \"mylist\"?**"
   ]
  },
  {
   "cell_type": "code",
   "execution_count": null,
   "metadata": {
    "collapsed": true
   },
   "outputs": [],
   "source": []
  },
  {
   "cell_type": "markdown",
   "metadata": {},
   "source": [
    "**16) Create another list, called my2ndlist, containing a list of numbers starting at 1002 and stops at 1052,counting by 3's in Python. <br/>THEN concatenate my2ndlist with mylist into a new list called theMegaList.**<br/> Print theMegaList below."
   ]
  },
  {
   "cell_type": "code",
   "execution_count": null,
   "metadata": {
    "collapsed": true
   },
   "outputs": [],
   "source": []
  },
  {
   "cell_type": "markdown",
   "metadata": {},
   "source": [
    "**17) What is the index for the value 822 in theMegaList?**"
   ]
  },
  {
   "cell_type": "code",
   "execution_count": null,
   "metadata": {
    "collapsed": true
   },
   "outputs": [],
   "source": []
  },
  {
   "cell_type": "markdown",
   "metadata": {},
   "source": [
    "**18) Write a for loop that will test if an element in theMegaList is an even or odd number and keeps a count of how many of each there are in the list.**<br/> Print out the total number of even and odd numbers found in theMegalist below. "
   ]
  },
  {
   "cell_type": "code",
   "execution_count": null,
   "metadata": {
    "collapsed": true
   },
   "outputs": [],
   "source": []
  },
  {
   "cell_type": "markdown",
   "metadata": {},
   "source": [
    "**19) Write a brief definition of what Data Latency and the difference between \"real-time\" and \"near-time\" data.**"
   ]
  },
  {
   "cell_type": "code",
   "execution_count": null,
   "metadata": {
    "collapsed": true
   },
   "outputs": [],
   "source": []
  },
  {
   "cell_type": "markdown",
   "metadata": {},
   "source": [
    "**19) What does the statistic Standard Deviation tell you about a numerical dataset? **"
   ]
  },
  {
   "cell_type": "code",
   "execution_count": null,
   "metadata": {
    "collapsed": true
   },
   "outputs": [],
   "source": []
  },
  {
   "cell_type": "markdown",
   "metadata": {},
   "source": [
    "**20) Suppose you have the following loop:**<br>\n",
    ">things = [1,2,3,5,6,7,8,9,10]<br>\n",
    ">previous_thing = 0<br>\n",
    ">for thing in things:<br>\n",
    ">>new_thing = thing * previous_thing<br>\n",
    ">>x = 3+previous_thing<br>\n",
    ">>previous_thing = thing<br>\n",
    "\n",
    "**At the end of the loop:**\n",
    ">**What does new_thing equal?**<br>\n",
    ">**What does x equal?**\n",
    "    \n",
    "    \n"
   ]
  },
  {
   "cell_type": "code",
   "execution_count": null,
   "metadata": {
    "collapsed": true
   },
   "outputs": [],
   "source": []
  },
  {
   "cell_type": "markdown",
   "metadata": {},
   "source": [
    "**21) What's the difference between Zero and None or Null?** "
   ]
  },
  {
   "cell_type": "code",
   "execution_count": null,
   "metadata": {
    "collapsed": true
   },
   "outputs": [],
   "source": []
  },
  {
   "cell_type": "markdown",
   "metadata": {},
   "source": [
    "**22) In the following loop:**<br> \n",
    ">x = 1<br>\n",
    ">sure_thing = True<br>\n",
    ">while sure_thing:<br>\n",
    ">>x = x +100<br>\n",
    ">>if x < 20001: <br>\n",
    ">>>x = x-1<br>\n",
    ">>else: <br>\n",
    ">>>sure_thing = False<br>\n",
    "\n",
    "**What does x equal to make our sure_thing False? **\n",
    "        "
   ]
  },
  {
   "cell_type": "code",
   "execution_count": null,
   "metadata": {
    "collapsed": true
   },
   "outputs": [],
   "source": []
  },
  {
   "cell_type": "markdown",
   "metadata": {},
   "source": [
    "**Based on the DataFrame df and df1 defined below, add needed code to answer the following questions.**"
   ]
  },
  {
   "cell_type": "code",
   "execution_count": 4,
   "metadata": {
    "collapsed": true
   },
   "outputs": [],
   "source": [
    "from pandas import Series, DataFrame\n",
    "import pandas as pd\n",
    "raw_data = {'first_name': ['Jason', 'Jason', 'Tina', 'Jake', 'Amy'],\n",
    "        'last_name': ['Miller', 'Miller', 'Ali', 'Milner', 'Milner'],\n",
    "        'age': [42, 42, 36, 24, 73],\n",
    "        'preTest': [4, 4, 31, 2, 3],\n",
    "        'postTest': [25, 25, 57, 62, 70]}\n",
    "df = pd.DataFrame(raw_data, columns = ['first_name', 'last_name', 'age', 'preTest', 'postTest'])\n",
    "df1 = df"
   ]
  },
  {
   "cell_type": "markdown",
   "metadata": {},
   "source": [
    "**23) What are the column names in df1?print the result.**"
   ]
  },
  {
   "cell_type": "code",
   "execution_count": null,
   "metadata": {
    "collapsed": true
   },
   "outputs": [],
   "source": []
  },
  {
   "cell_type": "markdown",
   "metadata": {},
   "source": [
    "**24) What is the average (mean) of the preTest and postTest scores?print the result. **"
   ]
  },
  {
   "cell_type": "code",
   "execution_count": null,
   "metadata": {
    "collapsed": true
   },
   "outputs": [],
   "source": []
  },
  {
   "cell_type": "markdown",
   "metadata": {},
   "source": [
    "**25) Remove duplicated rows in df based on last_name only.  Instead of keeping the first value, now keep the last of the duplicated values.print the result.**"
   ]
  },
  {
   "cell_type": "code",
   "execution_count": null,
   "metadata": {
    "collapsed": true
   },
   "outputs": [],
   "source": []
  },
  {
   "cell_type": "markdown",
   "metadata": {},
   "source": [
    "**26) Remove duplicated rows in df1 based on both first_name and last_name.  print the result.**"
   ]
  },
  {
   "cell_type": "code",
   "execution_count": null,
   "metadata": {
    "collapsed": true
   },
   "outputs": [],
   "source": []
  },
  {
   "cell_type": "markdown",
   "metadata": {},
   "source": [
    "***Use the dataframe defined in the following cell to answer the next few questions***: "
   ]
  },
  {
   "cell_type": "code",
   "execution_count": 5,
   "metadata": {},
   "outputs": [
    {
     "name": "stdout",
     "output_type": "stream",
     "text": [
      "            0         1         2         3\n",
      "0    0.496714 -0.138264  0.647689  1.523030\n",
      "1   -0.234153 -0.234137  1.579213  0.767435\n",
      "2   -0.469474  0.542560 -0.463418 -0.465730\n",
      "3    0.241962 -1.913280 -1.724918 -0.562288\n",
      "4   -1.012831  0.314247 -0.908024 -1.412304\n",
      "5    1.465649 -0.225776  0.067528 -1.424748\n",
      "6   -0.544383  0.110923 -1.150994  0.375698\n",
      "7   -0.600639 -0.291694 -0.601707  1.852278\n",
      "8   -0.013497 -1.057711  0.822545 -1.220844\n",
      "9    0.208864 -1.959670 -1.328186  0.196861\n",
      "10   0.738467  0.171368 -0.115648 -0.301104\n",
      "11  -1.478522 -0.719844 -0.460639  1.057122\n",
      "12   0.343618 -1.763040  0.324084 -0.385082\n",
      "13  -0.676922  0.611676  1.031000  0.931280\n",
      "14  -0.839218 -0.309212  0.331263  0.975545\n",
      "15  -0.479174 -0.185659 -1.106335 -1.196207\n",
      "16   0.812526  1.356240 -0.072010  1.003533\n",
      "17   0.361636 -0.645120  0.361396  1.538037\n",
      "18  -0.035826  1.564644 -2.619745  0.821903\n",
      "19   0.087047 -0.299007  0.091761 -1.987569\n",
      "20  -0.219672  0.357113  1.477894 -0.518270\n",
      "21  -0.808494 -0.501757  0.915402  0.328751\n",
      "22  -0.529760  0.513267  0.097078  0.968645\n",
      "23  -0.702053 -0.327662 -0.392108 -1.463515\n",
      "24   0.296120  0.261055  0.005113 -0.234587\n",
      "25  -1.415371 -0.420645 -0.342715 -0.802277\n",
      "26  -0.161286  0.404051  1.886186  0.174578\n",
      "27   0.257550 -0.074446 -1.918771 -0.026514\n",
      "28   0.060230  2.463242 -0.192361  0.301547\n",
      "29  -0.034712 -1.168678  1.142823  0.751933\n",
      "..        ...       ...       ...       ...\n",
      "370  0.722381 -0.372833  1.726964 -0.399636\n",
      "371  0.224685  0.932591 -1.418366 -1.760809\n",
      "372 -1.525656  1.262584 -0.551858  2.558199\n",
      "373 -0.564248  0.184551  1.542110  2.006093\n",
      "374  2.061504  1.208366  1.024063  0.592527\n",
      "375  0.778361 -0.551186 -0.818199 -0.003374\n",
      "376 -0.170185 -0.453228  0.696387  0.955305\n",
      "377  0.088407  1.477530 -1.141689 -0.193659\n",
      "378 -0.716822 -1.866537 -0.082681 -0.121748\n",
      "379  1.513450  0.630812 -1.024187  1.854093\n",
      "380  1.221034  0.582098 -0.226484 -0.959439\n",
      "381 -0.372207  1.088749  1.884586  1.543244\n",
      "382 -0.488849 -1.119617  0.140886 -1.768439\n",
      "383  0.323168 -0.147603 -0.466037 -1.594703\n",
      "384  0.513600 -0.532701 -1.169917 -2.872262\n",
      "385 -0.027515  1.772252  1.661259 -0.457096\n",
      "386 -0.602212  0.468774 -0.998385  0.301792\n",
      "387  0.766080  1.226933 -0.100154 -0.203674\n",
      "388 -0.877983 -0.826880 -0.226479  0.367366\n",
      "389  0.913585 -0.803179  1.492689 -0.271124\n",
      "390 -0.021367 -0.747212 -2.424240  0.884045\n",
      "391  0.736844 -0.281328  0.066991  0.515939\n",
      "392 -1.562546 -0.529053  0.794265 -1.254289\n",
      "393  0.293558 -1.356582  0.466430 -0.035641\n",
      "394 -1.615132  1.164739 -0.734592 -0.810252\n",
      "395  0.200569  1.148637 -1.015822  0.061680\n",
      "396  0.428817  0.693106  0.176442 -0.367028\n",
      "397 -0.827590  0.086144 -1.072139 -2.921350\n",
      "398  0.436560  0.903935 -2.362932 -1.009731\n",
      "399  0.619154  2.057495  0.020794 -0.728003\n",
      "\n",
      "[400 rows x 4 columns]\n"
     ]
    }
   ],
   "source": [
    "from pandas import Series, DataFrame\n",
    "import pandas as pd\n",
    "from numpy.random import randn\n",
    "import numpy as np\n",
    "np.random.seed(42)\n",
    "randomdata = DataFrame(np.random.randn(400, 4))\n",
    "print randomdata\n",
    "%matplotlib inline"
   ]
  },
  {
   "cell_type": "code",
   "execution_count": null,
   "metadata": {
    "collapsed": true
   },
   "outputs": [],
   "source": []
  },
  {
   "cell_type": "markdown",
   "metadata": {},
   "source": [
    "**27) Use the \"describe\" function to summarize the randomdata created above.**"
   ]
  },
  {
   "cell_type": "code",
   "execution_count": null,
   "metadata": {
    "collapsed": true
   },
   "outputs": [],
   "source": []
  },
  {
   "cell_type": "markdown",
   "metadata": {},
   "source": [
    "**28) Identify the rows which contains at least one item with absolute value greater than 1**"
   ]
  },
  {
   "cell_type": "code",
   "execution_count": null,
   "metadata": {
    "collapsed": true
   },
   "outputs": [],
   "source": []
  },
  {
   "cell_type": "markdown",
   "metadata": {},
   "source": [
    "**29) Set the values greater than 3 to 3, and the values less than -3 to -3.  Rerun the 'describe' function to summarize the randomdata dataset.**"
   ]
  },
  {
   "cell_type": "code",
   "execution_count": null,
   "metadata": {
    "collapsed": true
   },
   "outputs": [],
   "source": []
  },
  {
   "cell_type": "markdown",
   "metadata": {},
   "source": [
    "***Use the dataframe defined in the following cell to answer the next few questions***: "
   ]
  },
  {
   "cell_type": "code",
   "execution_count": 6,
   "metadata": {
    "scrolled": true
   },
   "outputs": [
    {
     "data": {
      "text/html": [
       "<div>\n",
       "<style>\n",
       "    .dataframe thead tr:only-child th {\n",
       "        text-align: right;\n",
       "    }\n",
       "\n",
       "    .dataframe thead th {\n",
       "        text-align: left;\n",
       "    }\n",
       "\n",
       "    .dataframe tbody tr th {\n",
       "        vertical-align: top;\n",
       "    }\n",
       "</style>\n",
       "<table border=\"1\" class=\"dataframe\">\n",
       "  <thead>\n",
       "    <tr style=\"text-align: right;\">\n",
       "      <th></th>\n",
       "      <th>GrossIn</th>\n",
       "      <th>GrossOut</th>\n",
       "      <th>NetIn</th>\n",
       "      <th>NetOut</th>\n",
       "    </tr>\n",
       "  </thead>\n",
       "  <tbody>\n",
       "    <tr>\n",
       "      <th>2015-11-29</th>\n",
       "      <td>-0.182896</td>\n",
       "      <td>1.374876</td>\n",
       "      <td>-0.645964</td>\n",
       "      <td>-0.799192</td>\n",
       "    </tr>\n",
       "    <tr>\n",
       "      <th>2015-12-06</th>\n",
       "      <td>-0.482744</td>\n",
       "      <td>-0.953329</td>\n",
       "      <td>0.122670</td>\n",
       "      <td>1.624678</td>\n",
       "    </tr>\n",
       "    <tr>\n",
       "      <th>2015-12-13</th>\n",
       "      <td>0.323079</td>\n",
       "      <td>-0.252354</td>\n",
       "      <td>-0.291811</td>\n",
       "      <td>-1.563191</td>\n",
       "    </tr>\n",
       "    <tr>\n",
       "      <th>2015-12-20</th>\n",
       "      <td>0.883110</td>\n",
       "      <td>-0.077837</td>\n",
       "      <td>-0.180480</td>\n",
       "      <td>3.193108</td>\n",
       "    </tr>\n",
       "    <tr>\n",
       "      <th>2015-12-27</th>\n",
       "      <td>0.298753</td>\n",
       "      <td>-0.751791</td>\n",
       "      <td>-0.426358</td>\n",
       "      <td>1.148446</td>\n",
       "    </tr>\n",
       "    <tr>\n",
       "      <th>2016-01-03</th>\n",
       "      <td>0.113270</td>\n",
       "      <td>-1.438278</td>\n",
       "      <td>0.919229</td>\n",
       "      <td>-0.668144</td>\n",
       "    </tr>\n",
       "    <tr>\n",
       "      <th>2016-01-10</th>\n",
       "      <td>1.873298</td>\n",
       "      <td>1.080048</td>\n",
       "      <td>-0.447322</td>\n",
       "      <td>1.281016</td>\n",
       "    </tr>\n",
       "    <tr>\n",
       "      <th>2016-01-17</th>\n",
       "      <td>0.067856</td>\n",
       "      <td>0.852774</td>\n",
       "      <td>0.484733</td>\n",
       "      <td>-0.846357</td>\n",
       "    </tr>\n",
       "    <tr>\n",
       "      <th>2016-01-24</th>\n",
       "      <td>-0.643550</td>\n",
       "      <td>1.029961</td>\n",
       "      <td>-0.334775</td>\n",
       "      <td>-0.403648</td>\n",
       "    </tr>\n",
       "    <tr>\n",
       "      <th>2016-01-31</th>\n",
       "      <td>-0.955123</td>\n",
       "      <td>0.423599</td>\n",
       "      <td>2.062525</td>\n",
       "      <td>-1.067533</td>\n",
       "    </tr>\n",
       "    <tr>\n",
       "      <th>2016-02-07</th>\n",
       "      <td>0.024219</td>\n",
       "      <td>1.412221</td>\n",
       "      <td>-0.079641</td>\n",
       "      <td>0.452372</td>\n",
       "    </tr>\n",
       "    <tr>\n",
       "      <th>2016-02-14</th>\n",
       "      <td>-1.062394</td>\n",
       "      <td>0.428307</td>\n",
       "      <td>-0.187144</td>\n",
       "      <td>0.985730</td>\n",
       "    </tr>\n",
       "    <tr>\n",
       "      <th>2016-02-21</th>\n",
       "      <td>1.187386</td>\n",
       "      <td>2.589564</td>\n",
       "      <td>0.579633</td>\n",
       "      <td>0.325796</td>\n",
       "    </tr>\n",
       "    <tr>\n",
       "      <th>2016-02-28</th>\n",
       "      <td>0.194384</td>\n",
       "      <td>-0.353166</td>\n",
       "      <td>0.338484</td>\n",
       "      <td>-0.295401</td>\n",
       "    </tr>\n",
       "    <tr>\n",
       "      <th>2016-03-06</th>\n",
       "      <td>0.168461</td>\n",
       "      <td>1.317598</td>\n",
       "      <td>-1.006543</td>\n",
       "      <td>1.139879</td>\n",
       "    </tr>\n",
       "    <tr>\n",
       "      <th>2016-03-13</th>\n",
       "      <td>1.317115</td>\n",
       "      <td>-0.118069</td>\n",
       "      <td>-2.121855</td>\n",
       "      <td>-0.607822</td>\n",
       "    </tr>\n",
       "    <tr>\n",
       "      <th>2016-03-20</th>\n",
       "      <td>1.296995</td>\n",
       "      <td>-0.022868</td>\n",
       "      <td>-0.999302</td>\n",
       "      <td>-0.504775</td>\n",
       "    </tr>\n",
       "    <tr>\n",
       "      <th>2016-03-27</th>\n",
       "      <td>0.840620</td>\n",
       "      <td>0.546734</td>\n",
       "      <td>-0.238932</td>\n",
       "      <td>-0.366824</td>\n",
       "    </tr>\n",
       "    <tr>\n",
       "      <th>2016-04-03</th>\n",
       "      <td>-0.391758</td>\n",
       "      <td>-0.922410</td>\n",
       "      <td>1.615376</td>\n",
       "      <td>-0.322320</td>\n",
       "    </tr>\n",
       "    <tr>\n",
       "      <th>2016-04-10</th>\n",
       "      <td>1.217159</td>\n",
       "      <td>1.521316</td>\n",
       "      <td>0.998311</td>\n",
       "      <td>-0.431620</td>\n",
       "    </tr>\n",
       "    <tr>\n",
       "      <th>2016-04-17</th>\n",
       "      <td>0.403730</td>\n",
       "      <td>-0.024196</td>\n",
       "      <td>-0.903702</td>\n",
       "      <td>0.324359</td>\n",
       "    </tr>\n",
       "    <tr>\n",
       "      <th>2016-04-24</th>\n",
       "      <td>-1.179040</td>\n",
       "      <td>1.187679</td>\n",
       "      <td>-0.464617</td>\n",
       "      <td>0.201160</td>\n",
       "    </tr>\n",
       "    <tr>\n",
       "      <th>2016-05-01</th>\n",
       "      <td>0.283288</td>\n",
       "      <td>-0.258905</td>\n",
       "      <td>0.586694</td>\n",
       "      <td>-0.474904</td>\n",
       "    </tr>\n",
       "    <tr>\n",
       "      <th>2016-05-08</th>\n",
       "      <td>0.871297</td>\n",
       "      <td>-1.345980</td>\n",
       "      <td>0.126380</td>\n",
       "      <td>1.938929</td>\n",
       "    </tr>\n",
       "    <tr>\n",
       "      <th>2016-05-15</th>\n",
       "      <td>-1.000331</td>\n",
       "      <td>-0.677745</td>\n",
       "      <td>0.513908</td>\n",
       "      <td>0.179582</td>\n",
       "    </tr>\n",
       "    <tr>\n",
       "      <th>2016-05-22</th>\n",
       "      <td>0.350630</td>\n",
       "      <td>0.489187</td>\n",
       "      <td>0.634721</td>\n",
       "      <td>1.109700</td>\n",
       "    </tr>\n",
       "    <tr>\n",
       "      <th>2016-05-29</th>\n",
       "      <td>0.409819</td>\n",
       "      <td>-0.241258</td>\n",
       "      <td>0.672574</td>\n",
       "      <td>1.899882</td>\n",
       "    </tr>\n",
       "    <tr>\n",
       "      <th>2016-06-05</th>\n",
       "      <td>-0.132634</td>\n",
       "      <td>-0.974529</td>\n",
       "      <td>1.107081</td>\n",
       "      <td>-0.120381</td>\n",
       "    </tr>\n",
       "    <tr>\n",
       "      <th>2016-06-12</th>\n",
       "      <td>-2.172670</td>\n",
       "      <td>0.847422</td>\n",
       "      <td>-0.535328</td>\n",
       "      <td>-0.090533</td>\n",
       "    </tr>\n",
       "    <tr>\n",
       "      <th>2016-06-19</th>\n",
       "      <td>0.331980</td>\n",
       "      <td>0.190500</td>\n",
       "      <td>0.709452</td>\n",
       "      <td>-0.435486</td>\n",
       "    </tr>\n",
       "    <tr>\n",
       "      <th>2016-06-26</th>\n",
       "      <td>0.513106</td>\n",
       "      <td>-0.259547</td>\n",
       "      <td>0.738810</td>\n",
       "      <td>0.615367</td>\n",
       "    </tr>\n",
       "    <tr>\n",
       "      <th>2016-07-03</th>\n",
       "      <td>-0.935439</td>\n",
       "      <td>1.085982</td>\n",
       "      <td>-0.535963</td>\n",
       "      <td>0.808058</td>\n",
       "    </tr>\n",
       "    <tr>\n",
       "      <th>2016-07-10</th>\n",
       "      <td>0.367287</td>\n",
       "      <td>1.838184</td>\n",
       "      <td>-0.223466</td>\n",
       "      <td>-0.349317</td>\n",
       "    </tr>\n",
       "    <tr>\n",
       "      <th>2016-07-17</th>\n",
       "      <td>-0.019420</td>\n",
       "      <td>-0.303180</td>\n",
       "      <td>0.799942</td>\n",
       "      <td>-1.616311</td>\n",
       "    </tr>\n",
       "    <tr>\n",
       "      <th>2016-07-24</th>\n",
       "      <td>-1.053682</td>\n",
       "      <td>-1.067803</td>\n",
       "      <td>0.950308</td>\n",
       "      <td>1.710613</td>\n",
       "    </tr>\n",
       "    <tr>\n",
       "      <th>2016-07-31</th>\n",
       "      <td>-0.104449</td>\n",
       "      <td>-0.168822</td>\n",
       "      <td>0.070052</td>\n",
       "      <td>1.161878</td>\n",
       "    </tr>\n",
       "    <tr>\n",
       "      <th>2016-08-07</th>\n",
       "      <td>-0.927353</td>\n",
       "      <td>0.238369</td>\n",
       "      <td>0.975198</td>\n",
       "      <td>0.501094</td>\n",
       "    </tr>\n",
       "    <tr>\n",
       "      <th>2016-08-14</th>\n",
       "      <td>0.189582</td>\n",
       "      <td>1.001046</td>\n",
       "      <td>-2.703232</td>\n",
       "      <td>0.677875</td>\n",
       "    </tr>\n",
       "    <tr>\n",
       "      <th>2016-08-21</th>\n",
       "      <td>-0.654076</td>\n",
       "      <td>-1.830633</td>\n",
       "      <td>0.511203</td>\n",
       "      <td>1.373659</td>\n",
       "    </tr>\n",
       "    <tr>\n",
       "      <th>2016-08-28</th>\n",
       "      <td>-0.137449</td>\n",
       "      <td>0.952875</td>\n",
       "      <td>1.612278</td>\n",
       "      <td>1.314914</td>\n",
       "    </tr>\n",
       "    <tr>\n",
       "      <th>2016-09-04</th>\n",
       "      <td>1.639965</td>\n",
       "      <td>0.742127</td>\n",
       "      <td>0.075434</td>\n",
       "      <td>-1.601966</td>\n",
       "    </tr>\n",
       "    <tr>\n",
       "      <th>2016-09-11</th>\n",
       "      <td>-0.246062</td>\n",
       "      <td>-0.843247</td>\n",
       "      <td>2.170943</td>\n",
       "      <td>-0.175886</td>\n",
       "    </tr>\n",
       "    <tr>\n",
       "      <th>2016-09-18</th>\n",
       "      <td>0.123205</td>\n",
       "      <td>0.551485</td>\n",
       "      <td>0.043602</td>\n",
       "      <td>1.695051</td>\n",
       "    </tr>\n",
       "    <tr>\n",
       "      <th>2016-09-25</th>\n",
       "      <td>-0.622649</td>\n",
       "      <td>0.194607</td>\n",
       "      <td>-0.742471</td>\n",
       "      <td>-1.320023</td>\n",
       "    </tr>\n",
       "    <tr>\n",
       "      <th>2016-10-02</th>\n",
       "      <td>-0.611769</td>\n",
       "      <td>-0.037037</td>\n",
       "      <td>-0.429302</td>\n",
       "      <td>-0.692421</td>\n",
       "    </tr>\n",
       "    <tr>\n",
       "      <th>2016-10-09</th>\n",
       "      <td>-1.406317</td>\n",
       "      <td>-0.083106</td>\n",
       "      <td>-1.504720</td>\n",
       "      <td>0.760056</td>\n",
       "    </tr>\n",
       "    <tr>\n",
       "      <th>2016-10-16</th>\n",
       "      <td>0.082440</td>\n",
       "      <td>-1.457551</td>\n",
       "      <td>-0.309209</td>\n",
       "      <td>-0.752156</td>\n",
       "    </tr>\n",
       "    <tr>\n",
       "      <th>2016-10-23</th>\n",
       "      <td>0.319175</td>\n",
       "      <td>1.340450</td>\n",
       "      <td>-1.875172</td>\n",
       "      <td>0.115026</td>\n",
       "    </tr>\n",
       "    <tr>\n",
       "      <th>2016-10-30</th>\n",
       "      <td>-0.160133</td>\n",
       "      <td>0.671340</td>\n",
       "      <td>0.213197</td>\n",
       "      <td>-0.751969</td>\n",
       "    </tr>\n",
       "    <tr>\n",
       "      <th>2016-11-06</th>\n",
       "      <td>-0.319054</td>\n",
       "      <td>-0.796026</td>\n",
       "      <td>1.076007</td>\n",
       "      <td>0.021312</td>\n",
       "    </tr>\n",
       "    <tr>\n",
       "      <th>2016-11-13</th>\n",
       "      <td>1.901191</td>\n",
       "      <td>-0.060661</td>\n",
       "      <td>-0.708407</td>\n",
       "      <td>-1.513714</td>\n",
       "    </tr>\n",
       "    <tr>\n",
       "      <th>2016-11-20</th>\n",
       "      <td>-1.803140</td>\n",
       "      <td>-1.584136</td>\n",
       "      <td>0.267127</td>\n",
       "      <td>0.508725</td>\n",
       "    </tr>\n",
       "    <tr>\n",
       "      <th>2016-11-27</th>\n",
       "      <td>-1.581191</td>\n",
       "      <td>0.895038</td>\n",
       "      <td>-0.483061</td>\n",
       "      <td>0.146793</td>\n",
       "    </tr>\n",
       "    <tr>\n",
       "      <th>2016-12-04</th>\n",
       "      <td>1.612221</td>\n",
       "      <td>0.896839</td>\n",
       "      <td>-0.268531</td>\n",
       "      <td>-0.891192</td>\n",
       "    </tr>\n",
       "    <tr>\n",
       "      <th>2016-12-11</th>\n",
       "      <td>-2.151815</td>\n",
       "      <td>-0.719153</td>\n",
       "      <td>-0.211130</td>\n",
       "      <td>-0.987180</td>\n",
       "    </tr>\n",
       "    <tr>\n",
       "      <th>2016-12-18</th>\n",
       "      <td>-0.131257</td>\n",
       "      <td>0.076852</td>\n",
       "      <td>-0.224856</td>\n",
       "      <td>-0.650003</td>\n",
       "    </tr>\n",
       "    <tr>\n",
       "      <th>2016-12-25</th>\n",
       "      <td>0.168655</td>\n",
       "      <td>0.441941</td>\n",
       "      <td>-1.090399</td>\n",
       "      <td>1.410932</td>\n",
       "    </tr>\n",
       "    <tr>\n",
       "      <th>2017-01-01</th>\n",
       "      <td>-0.098588</td>\n",
       "      <td>0.018850</td>\n",
       "      <td>0.708214</td>\n",
       "      <td>0.233216</td>\n",
       "    </tr>\n",
       "    <tr>\n",
       "      <th>2017-01-08</th>\n",
       "      <td>0.953137</td>\n",
       "      <td>0.287124</td>\n",
       "      <td>-0.612437</td>\n",
       "      <td>0.361504</td>\n",
       "    </tr>\n",
       "  </tbody>\n",
       "</table>\n",
       "</div>"
      ],
      "text/plain": [
       "             GrossIn  GrossOut     NetIn    NetOut\n",
       "2015-11-29 -0.182896  1.374876 -0.645964 -0.799192\n",
       "2015-12-06 -0.482744 -0.953329  0.122670  1.624678\n",
       "2015-12-13  0.323079 -0.252354 -0.291811 -1.563191\n",
       "2015-12-20  0.883110 -0.077837 -0.180480  3.193108\n",
       "2015-12-27  0.298753 -0.751791 -0.426358  1.148446\n",
       "2016-01-03  0.113270 -1.438278  0.919229 -0.668144\n",
       "2016-01-10  1.873298  1.080048 -0.447322  1.281016\n",
       "2016-01-17  0.067856  0.852774  0.484733 -0.846357\n",
       "2016-01-24 -0.643550  1.029961 -0.334775 -0.403648\n",
       "2016-01-31 -0.955123  0.423599  2.062525 -1.067533\n",
       "2016-02-07  0.024219  1.412221 -0.079641  0.452372\n",
       "2016-02-14 -1.062394  0.428307 -0.187144  0.985730\n",
       "2016-02-21  1.187386  2.589564  0.579633  0.325796\n",
       "2016-02-28  0.194384 -0.353166  0.338484 -0.295401\n",
       "2016-03-06  0.168461  1.317598 -1.006543  1.139879\n",
       "2016-03-13  1.317115 -0.118069 -2.121855 -0.607822\n",
       "2016-03-20  1.296995 -0.022868 -0.999302 -0.504775\n",
       "2016-03-27  0.840620  0.546734 -0.238932 -0.366824\n",
       "2016-04-03 -0.391758 -0.922410  1.615376 -0.322320\n",
       "2016-04-10  1.217159  1.521316  0.998311 -0.431620\n",
       "2016-04-17  0.403730 -0.024196 -0.903702  0.324359\n",
       "2016-04-24 -1.179040  1.187679 -0.464617  0.201160\n",
       "2016-05-01  0.283288 -0.258905  0.586694 -0.474904\n",
       "2016-05-08  0.871297 -1.345980  0.126380  1.938929\n",
       "2016-05-15 -1.000331 -0.677745  0.513908  0.179582\n",
       "2016-05-22  0.350630  0.489187  0.634721  1.109700\n",
       "2016-05-29  0.409819 -0.241258  0.672574  1.899882\n",
       "2016-06-05 -0.132634 -0.974529  1.107081 -0.120381\n",
       "2016-06-12 -2.172670  0.847422 -0.535328 -0.090533\n",
       "2016-06-19  0.331980  0.190500  0.709452 -0.435486\n",
       "2016-06-26  0.513106 -0.259547  0.738810  0.615367\n",
       "2016-07-03 -0.935439  1.085982 -0.535963  0.808058\n",
       "2016-07-10  0.367287  1.838184 -0.223466 -0.349317\n",
       "2016-07-17 -0.019420 -0.303180  0.799942 -1.616311\n",
       "2016-07-24 -1.053682 -1.067803  0.950308  1.710613\n",
       "2016-07-31 -0.104449 -0.168822  0.070052  1.161878\n",
       "2016-08-07 -0.927353  0.238369  0.975198  0.501094\n",
       "2016-08-14  0.189582  1.001046 -2.703232  0.677875\n",
       "2016-08-21 -0.654076 -1.830633  0.511203  1.373659\n",
       "2016-08-28 -0.137449  0.952875  1.612278  1.314914\n",
       "2016-09-04  1.639965  0.742127  0.075434 -1.601966\n",
       "2016-09-11 -0.246062 -0.843247  2.170943 -0.175886\n",
       "2016-09-18  0.123205  0.551485  0.043602  1.695051\n",
       "2016-09-25 -0.622649  0.194607 -0.742471 -1.320023\n",
       "2016-10-02 -0.611769 -0.037037 -0.429302 -0.692421\n",
       "2016-10-09 -1.406317 -0.083106 -1.504720  0.760056\n",
       "2016-10-16  0.082440 -1.457551 -0.309209 -0.752156\n",
       "2016-10-23  0.319175  1.340450 -1.875172  0.115026\n",
       "2016-10-30 -0.160133  0.671340  0.213197 -0.751969\n",
       "2016-11-06 -0.319054 -0.796026  1.076007  0.021312\n",
       "2016-11-13  1.901191 -0.060661 -0.708407 -1.513714\n",
       "2016-11-20 -1.803140 -1.584136  0.267127  0.508725\n",
       "2016-11-27 -1.581191  0.895038 -0.483061  0.146793\n",
       "2016-12-04  1.612221  0.896839 -0.268531 -0.891192\n",
       "2016-12-11 -2.151815 -0.719153 -0.211130 -0.987180\n",
       "2016-12-18 -0.131257  0.076852 -0.224856 -0.650003\n",
       "2016-12-25  0.168655  0.441941 -1.090399  1.410932\n",
       "2017-01-01 -0.098588  0.018850  0.708214  0.233216\n",
       "2017-01-08  0.953137  0.287124 -0.612437  0.361504"
      ]
     },
     "execution_count": 6,
     "metadata": {},
     "output_type": "execute_result"
    }
   ],
   "source": [
    "df2 = pd.DataFrame(np.random.randn(59,4))\n",
    "cols = ['GrossIn', 'GrossOut', 'NetIn', 'NetOut']\n",
    "df2.columns = cols\n",
    "dates = pd.date_range(start='2015-11-29', freq='W', periods=59)\n",
    "df2.index = dates\n",
    "df2"
   ]
  },
  {
   "cell_type": "markdown",
   "metadata": {},
   "source": [
    "**30) Print all the data from 2016-06-19 to 2016-10-20 in df2 above.**"
   ]
  },
  {
   "cell_type": "code",
   "execution_count": null,
   "metadata": {
    "collapsed": true
   },
   "outputs": [],
   "source": []
  },
  {
   "cell_type": "markdown",
   "metadata": {},
   "source": [
    "**31) What was the GrossIn and NetIn for 2016-09-18? Print the results. **"
   ]
  },
  {
   "cell_type": "code",
   "execution_count": null,
   "metadata": {
    "collapsed": true
   },
   "outputs": [],
   "source": []
  },
  {
   "cell_type": "markdown",
   "metadata": {},
   "source": [
    "**32) Sum all the GrossOut and NetOut for the month of March 2016 in df2. Print the results. **"
   ]
  },
  {
   "cell_type": "code",
   "execution_count": null,
   "metadata": {
    "collapsed": true
   },
   "outputs": [],
   "source": []
  },
  {
   "cell_type": "markdown",
   "metadata": {},
   "source": [
    "**33) Find all the days GrossOut was greater than GrossIn in df2. Print the results.**"
   ]
  },
  {
   "cell_type": "code",
   "execution_count": null,
   "metadata": {
    "collapsed": true
   },
   "outputs": [],
   "source": []
  },
  {
   "cell_type": "markdown",
   "metadata": {},
   "source": [
    "**34) What percentage was the total NetOut of the total NetIn in the year 2016 from df2 above? **"
   ]
  },
  {
   "cell_type": "code",
   "execution_count": null,
   "metadata": {
    "collapsed": true
   },
   "outputs": [],
   "source": []
  },
  {
   "cell_type": "markdown",
   "metadata": {},
   "source": [
    "**35) Plot values for 2016 on a line graph for the GrossOut and GrossIn in df2:**"
   ]
  },
  {
   "cell_type": "code",
   "execution_count": null,
   "metadata": {
    "collapsed": true
   },
   "outputs": [],
   "source": []
  },
  {
   "cell_type": "markdown",
   "metadata": {},
   "source": [
    "**36) Plot 4 different HISTOGRAMS of df2.GrossIn each having 5,10,15,20 bins.**<br> \n",
    "Hint: use the following code  to plot the histograms on different subplots. <br> \n",
    "\n",
    "import matplotlib.pyplot as plt<br> \n",
    "fig, ax = plt.subplots(nrows=2, ncols=2)<br> \n",
    "dataframe.plot(ax=ax[0,0])# this is just an example of how to plot on a top right subplot (2x2)"
   ]
  },
  {
   "cell_type": "code",
   "execution_count": null,
   "metadata": {
    "collapsed": true
   },
   "outputs": [],
   "source": []
  },
  {
   "cell_type": "markdown",
   "metadata": {},
   "source": [
    "**37) What is your favorite pizza topping? None is not a valid answer. I don't care if you are off gluten.**"
   ]
  },
  {
   "cell_type": "code",
   "execution_count": null,
   "metadata": {
    "collapsed": true
   },
   "outputs": [],
   "source": []
  },
  {
   "cell_type": "markdown",
   "metadata": {},
   "source": [
    "**38) Import pandas libary with the alias pd**"
   ]
  },
  {
   "cell_type": "code",
   "execution_count": 1,
   "metadata": {
    "collapsed": true
   },
   "outputs": [],
   "source": [
    "import pandas as pd"
   ]
  },
  {
   "cell_type": "markdown",
   "metadata": {},
   "source": [
    "**39)You are given the Medicare spending dataset. Read it into a pandas dataframe. Then remove the 2 unused columns 'Measure Start Date' and 'Measure End Date' from the DataFrame all in the following cell. Provide your code as the answer. **\n",
    "\n",
    "***You need to put the data file ‘Medicare_Hospital_Spending_by_Claim.csv’ at the same place as your notebook file.***\n",
    "\n"
   ]
  },
  {
   "cell_type": "code",
   "execution_count": 6,
   "metadata": {
    "collapsed": true
   },
   "outputs": [],
   "source": [
    "df = pd.read_csv('./Medicare_Hospital_Spending_by_Claim.csv')\n",
    "df =  df.drop([u'Measure Start Date', u'Measure End Date'],axis=1)"
   ]
  },
  {
   "cell_type": "markdown",
   "metadata": {},
   "source": [
    "**40) Replace columns names...replace the original long column names in the dataframe above (Q - 39) with shorter ones provided below in \"newColumns\".  Provide your code and the resulting new column names as the answer.**\n",
    "<br/>\n",
    "newColumns = ['Hospital', 'Provider ID', 'State', 'Period', 'Claim Type', 'Avg Spending Hospital', 'Avg Spending State', 'Avg Spending Nation', 'Percent Spending Hospital', 'Percent Spending State', 'Percent Spending Nation']"
   ]
  },
  {
   "cell_type": "code",
   "execution_count": 13,
   "metadata": {
    "collapsed": true
   },
   "outputs": [],
   "source": [
    "df.columns = newColumns = ['Hospital', 'Provider ID', 'State', 'Period', 'Claim Type', 'Avg Spending Hospital', 'Avg Spending State', 'Avg Spending Nation', 'Percent Spending Hospital', 'Percent Spending State', 'Percent Spending Nation']"
   ]
  },
  {
   "cell_type": "markdown",
   "metadata": {},
   "source": [
    "**41) Find the statistics of average (mean) and percentage spending for different states, claim types, and hospitals.  In the cell below using the same dataframe used in 39 and 40. Place your code and print your results in the cell below **"
   ]
  },
  {
   "cell_type": "code",
   "execution_count": 16,
   "metadata": {},
   "outputs": [
    {
     "name": "stdout",
     "output_type": "stream",
     "text": [
      "                                Provider ID  Avg Spending Hospital  \\\n",
      "State Percent Spending State                                         \n",
      "AK    0.0000                   20015.444444               0.000000   \n",
      "      0.0001                   20015.444444               0.444444   \n",
      "      0.0002                   20015.444444               7.444444   \n",
      "      0.0003                   20015.444444               2.555556   \n",
      "      0.0010                   20015.444444              17.444444   \n",
      "      0.0044                   20015.444444              54.555556   \n",
      "      0.0054                   20015.444444              66.222222   \n",
      "      0.0071                   20015.444444             155.666667   \n",
      "      0.0263                   20015.444444             303.888889   \n",
      "      0.0291                   20015.444444             941.666667   \n",
      "      0.0392                   20015.444444             824.222222   \n",
      "      0.0426                   20015.444444             661.111111   \n",
      "      0.0733                   20015.444444            1110.222222   \n",
      "      0.0973                   20015.444444            1408.333333   \n",
      "      0.1598                   20015.444444             519.666667   \n",
      "      0.5133                   20015.444444            8702.555556   \n",
      "      1.0000                   20015.444444           14778.222222   \n",
      "AL    0.0000                   10079.841463               0.000000   \n",
      "      0.0001                   10079.841463               1.756098   \n",
      "      0.0003                   10079.841463               3.548780   \n",
      "      0.0005                   10079.841463               8.463415   \n",
      "      0.0007                   10079.841463              15.951220   \n",
      "      0.0017                   10079.841463              22.756098   \n",
      "      0.0046                   10079.841463              56.268293   \n",
      "      0.0067                   10079.841463             102.804878   \n",
      "      0.0076                   10079.841463             159.902439   \n",
      "      0.0265                   10079.841463             401.158537   \n",
      "      0.0320                   10079.841463             518.451220   \n",
      "      0.0483                   10079.841463             851.707317   \n",
      "      0.0535                   10079.841463             865.609756   \n",
      "...                                     ...                    ...   \n",
      "WV    0.0057                  510039.607143             103.142857   \n",
      "      0.0059                  510039.607143             110.357143   \n",
      "      0.0074                  510039.607143              91.714286   \n",
      "      0.0335                  510039.607143             536.071429   \n",
      "      0.0358                  510039.607143             639.000000   \n",
      "      0.0414                  510039.607143             700.821429   \n",
      "      0.0536                  510039.607143             939.750000   \n",
      "      0.0726                  510039.607143            1107.714286   \n",
      "      0.1166                  510039.607143            2226.607143   \n",
      "      0.1505                  510039.607143            2557.678571   \n",
      "      0.4733                  510039.607143            7956.785714   \n",
      "      1.0000                  510039.607143           17027.107143   \n",
      "WY    0.0000                  530015.800000               0.000000   \n",
      "      0.0001                  530015.800000               1.300000   \n",
      "      0.0003                  530015.800000               1.900000   \n",
      "      0.0004                  530015.800000               9.200000   \n",
      "      0.0005                  530015.800000               8.500000   \n",
      "      0.0024                  530015.800000              58.300000   \n",
      "      0.0044                  530015.800000              90.300000   \n",
      "      0.0059                  530015.800000             105.400000   \n",
      "      0.0092                  530015.800000             100.900000   \n",
      "      0.0203                  530015.800000             396.300000   \n",
      "      0.0287                  530015.800000             452.600000   \n",
      "      0.0372                  530015.800000             599.700000   \n",
      "      0.0471                  530015.800000             747.100000   \n",
      "      0.0683                  530015.800000            1190.000000   \n",
      "      0.1399                  530015.800000            2335.100000   \n",
      "      0.1415                  530015.800000            2202.300000   \n",
      "      0.4938                  530015.800000            8763.600000   \n",
      "      1.0000                  530015.800000           17062.100000   \n",
      "\n",
      "                              Avg Spending State  Avg Spending Nation  \\\n",
      "State Percent Spending State                                            \n",
      "AK    0.0000                                 0.0                  0.2   \n",
      "      0.0001                                 2.0                  2.0   \n",
      "      0.0002                                 4.0                  5.0   \n",
      "      0.0003                                 6.5                 11.0   \n",
      "      0.0010                                20.0                 24.0   \n",
      "      0.0044                                86.0                101.0   \n",
      "      0.0054                               107.0                118.0   \n",
      "      0.0071                               140.0                117.0   \n",
      "      0.0263                               517.0                771.0   \n",
      "      0.0291                               571.0                532.0   \n",
      "      0.0392                               770.0                710.0   \n",
      "      0.0426                               837.0               1083.0   \n",
      "      0.0733                              1438.0               1514.0   \n",
      "      0.0973                              1909.0               2665.0   \n",
      "      0.1598                              3137.0               3251.0   \n",
      "      0.5133                             10074.0               9108.0   \n",
      "      1.0000                             19625.0              20025.0   \n",
      "AL    0.0000                                 0.0                  0.0   \n",
      "      0.0001                                 1.5                  1.5   \n",
      "      0.0003                                 6.0                  5.0   \n",
      "      0.0005                                 9.0                  9.0   \n",
      "      0.0007                                14.0                 13.0   \n",
      "      0.0017                                32.0                 24.0   \n",
      "      0.0046                                85.0                117.0   \n",
      "      0.0067                               124.0                101.0   \n",
      "      0.0076                               141.0                118.0   \n",
      "      0.0265                               492.0                532.0   \n",
      "      0.0320                               596.0                710.0   \n",
      "      0.0483                               898.0                771.0   \n",
      "      0.0535                               995.0               1083.0   \n",
      "...                                          ...                  ...   \n",
      "WV    0.0057                               107.0                101.0   \n",
      "      0.0059                               110.0                118.0   \n",
      "      0.0074                               137.0                117.0   \n",
      "      0.0335                               625.0                532.0   \n",
      "      0.0358                               667.0                771.0   \n",
      "      0.0414                               772.0                710.0   \n",
      "      0.0536                              1000.0               1083.0   \n",
      "      0.0726                              1354.0               1514.0   \n",
      "      0.1166                              2175.0               3251.0   \n",
      "      0.1505                              2807.0               2665.0   \n",
      "      0.4733                              8827.0               9108.0   \n",
      "      1.0000                             18647.0              20025.0   \n",
      "WY    0.0000                                 0.0                  0.2   \n",
      "      0.0001                                 1.0                  2.0   \n",
      "      0.0003                                 5.0                  5.0   \n",
      "      0.0004                                 7.0                 13.0   \n",
      "      0.0005                                 9.0                  9.0   \n",
      "      0.0024                                45.0                 24.0   \n",
      "      0.0044                                81.0                118.0   \n",
      "      0.0059                               109.0                101.0   \n",
      "      0.0092                               168.0                117.0   \n",
      "      0.0203                               374.0                771.0   \n",
      "      0.0287                               528.0                532.0   \n",
      "      0.0372                               685.0                710.0   \n",
      "      0.0471                               866.0               1083.0   \n",
      "      0.0683                              1257.0               1514.0   \n",
      "      0.1399                              2574.0               3251.0   \n",
      "      0.1415                              2603.0               2665.0   \n",
      "      0.4938                              9085.0               9108.0   \n",
      "      1.0000                             18397.0              20025.0   \n",
      "\n",
      "                              Percent Spending Hospital  \\\n",
      "State Percent Spending State                              \n",
      "AK    0.0000                                   0.000000   \n",
      "      0.0001                                   0.000022   \n",
      "      0.0002                                   0.000478   \n",
      "      0.0003                                   0.000156   \n",
      "      0.0010                                   0.001078   \n",
      "      0.0044                                   0.003722   \n",
      "      0.0054                                   0.004289   \n",
      "      0.0071                                   0.008878   \n",
      "      0.0263                                   0.019567   \n",
      "      0.0291                                   0.069522   \n",
      "      0.0392                                   0.059022   \n",
      "      0.0426                                   0.045511   \n",
      "      0.0733                                   0.070544   \n",
      "      0.0973                                   0.095400   \n",
      "      0.1598                                   0.033922   \n",
      "      0.5133                                   0.587744   \n",
      "      1.0000                                   1.000000   \n",
      "AL    0.0000                                   0.000000   \n",
      "      0.0001                                   0.000116   \n",
      "      0.0003                                   0.000207   \n",
      "      0.0005                                   0.000552   \n",
      "      0.0007                                   0.001074   \n",
      "      0.0017                                   0.001328   \n",
      "      0.0046                                   0.003372   \n",
      "      0.0067                                   0.006467   \n",
      "      0.0076                                   0.010710   \n",
      "      0.0265                                   0.024972   \n",
      "      0.0320                                   0.032976   \n",
      "      0.0483                                   0.054488   \n",
      "      0.0535                                   0.054809   \n",
      "...                                                 ...   \n",
      "WV    0.0057                                   0.006225   \n",
      "      0.0059                                   0.006607   \n",
      "      0.0074                                   0.005093   \n",
      "      0.0335                                   0.031582   \n",
      "      0.0358                                   0.037868   \n",
      "      0.0414                                   0.041257   \n",
      "      0.0536                                   0.055657   \n",
      "      0.0726                                   0.063400   \n",
      "      0.1166                                   0.132529   \n",
      "      0.1505                                   0.148139   \n",
      "      0.4733                                   0.468286   \n",
      "      1.0000                                   1.000000   \n",
      "WY    0.0000                                   0.000000   \n",
      "      0.0001                                   0.000070   \n",
      "      0.0003                                   0.000090   \n",
      "      0.0004                                   0.000580   \n",
      "      0.0005                                   0.000520   \n",
      "      0.0024                                   0.003040   \n",
      "      0.0044                                   0.005950   \n",
      "      0.0059                                   0.006180   \n",
      "      0.0092                                   0.005710   \n",
      "      0.0203                                   0.024650   \n",
      "      0.0287                                   0.027440   \n",
      "      0.0372                                   0.035810   \n",
      "      0.0471                                   0.044380   \n",
      "      0.0683                                   0.065910   \n",
      "      0.1399                                   0.141450   \n",
      "      0.1415                                   0.127600   \n",
      "      0.4938                                   0.510580   \n",
      "      1.0000                                   1.000000   \n",
      "\n",
      "                              Percent Spending Nation  \n",
      "State Percent Spending State                           \n",
      "AK    0.0000                                  0.00000  \n",
      "      0.0001                                  0.00010  \n",
      "      0.0002                                  0.00030  \n",
      "      0.0003                                  0.00055  \n",
      "      0.0010                                  0.00120  \n",
      "      0.0044                                  0.00500  \n",
      "      0.0054                                  0.00590  \n",
      "      0.0071                                  0.00580  \n",
      "      0.0263                                  0.03850  \n",
      "      0.0291                                  0.02660  \n",
      "      0.0392                                  0.03540  \n",
      "      0.0426                                  0.05410  \n",
      "      0.0733                                  0.07560  \n",
      "      0.0973                                  0.13310  \n",
      "      0.1598                                  0.16230  \n",
      "      0.5133                                  0.45480  \n",
      "      1.0000                                  1.00000  \n",
      "AL    0.0000                                  0.00000  \n",
      "      0.0001                                  0.00005  \n",
      "      0.0003                                  0.00030  \n",
      "      0.0005                                  0.00040  \n",
      "      0.0007                                  0.00070  \n",
      "      0.0017                                  0.00120  \n",
      "      0.0046                                  0.00580  \n",
      "      0.0067                                  0.00500  \n",
      "      0.0076                                  0.00590  \n",
      "      0.0265                                  0.02660  \n",
      "      0.0320                                  0.03540  \n",
      "      0.0483                                  0.03850  \n",
      "      0.0535                                  0.05410  \n",
      "...                                               ...  \n",
      "WV    0.0057                                  0.00500  \n",
      "      0.0059                                  0.00590  \n",
      "      0.0074                                  0.00580  \n",
      "      0.0335                                  0.02660  \n",
      "      0.0358                                  0.03850  \n",
      "      0.0414                                  0.03540  \n",
      "      0.0536                                  0.05410  \n",
      "      0.0726                                  0.07560  \n",
      "      0.1166                                  0.16230  \n",
      "      0.1505                                  0.13310  \n",
      "      0.4733                                  0.45480  \n",
      "      1.0000                                  1.00000  \n",
      "WY    0.0000                                  0.00000  \n",
      "      0.0001                                  0.00010  \n",
      "      0.0003                                  0.00030  \n",
      "      0.0004                                  0.00070  \n",
      "      0.0005                                  0.00040  \n",
      "      0.0024                                  0.00120  \n",
      "      0.0044                                  0.00590  \n",
      "      0.0059                                  0.00500  \n",
      "      0.0092                                  0.00580  \n",
      "      0.0203                                  0.03850  \n",
      "      0.0287                                  0.02660  \n",
      "      0.0372                                  0.03540  \n",
      "      0.0471                                  0.05410  \n",
      "      0.0683                                  0.07560  \n",
      "      0.1399                                  0.16230  \n",
      "      0.1415                                  0.13310  \n",
      "      0.4938                                  0.45480  \n",
      "      1.0000                                  1.00000  \n",
      "\n",
      "[868 rows x 6 columns]\n"
     ]
    }
   ],
   "source": [
    "print df.groupby(['State','Percent Spending State']).mean()\n"
   ]
  },
  {
   "cell_type": "markdown",
   "metadata": {},
   "source": [
    "**42) Continuing with data from above, convert the dataframe content to be the right \"data type\" (i.e., int, float, etc) in order to perform statistical calculations for the DataFrame.  Provide your code and the resulting new print out as the answer.**\n",
    "<br>\n",
    "***Hint convert the columns with % and $***"
   ]
  },
  {
   "cell_type": "code",
   "execution_count": 14,
   "metadata": {},
   "outputs": [
    {
     "data": {
      "text/html": [
       "<div>\n",
       "<style>\n",
       "    .dataframe thead tr:only-child th {\n",
       "        text-align: right;\n",
       "    }\n",
       "\n",
       "    .dataframe thead th {\n",
       "        text-align: left;\n",
       "    }\n",
       "\n",
       "    .dataframe tbody tr th {\n",
       "        vertical-align: top;\n",
       "    }\n",
       "</style>\n",
       "<table border=\"1\" class=\"dataframe\">\n",
       "  <thead>\n",
       "    <tr style=\"text-align: right;\">\n",
       "      <th></th>\n",
       "      <th>Percent Spending Hospital</th>\n",
       "      <th>Avg Spending Hospital</th>\n",
       "    </tr>\n",
       "  </thead>\n",
       "  <tbody>\n",
       "    <tr>\n",
       "      <th>70593</th>\n",
       "      <td>0.0465</td>\n",
       "      <td>817.0</td>\n",
       "    </tr>\n",
       "    <tr>\n",
       "      <th>70594</th>\n",
       "      <td>0.2583</td>\n",
       "      <td>4539.0</td>\n",
       "    </tr>\n",
       "    <tr>\n",
       "      <th>70595</th>\n",
       "      <td>0.0035</td>\n",
       "      <td>61.0</td>\n",
       "    </tr>\n",
       "    <tr>\n",
       "      <th>70596</th>\n",
       "      <td>0.0665</td>\n",
       "      <td>1168.0</td>\n",
       "    </tr>\n",
       "    <tr>\n",
       "      <th>70597</th>\n",
       "      <td>1.0000</td>\n",
       "      <td>17568.0</td>\n",
       "    </tr>\n",
       "  </tbody>\n",
       "</table>\n",
       "</div>"
      ],
      "text/plain": [
       "       Percent Spending Hospital  Avg Spending Hospital\n",
       "70593                     0.0465                  817.0\n",
       "70594                     0.2583                 4539.0\n",
       "70595                     0.0035                   61.0\n",
       "70596                     0.0665                 1168.0\n",
       "70597                     1.0000                17568.0"
      ]
     },
     "execution_count": 14,
     "metadata": {},
     "output_type": "execute_result"
    }
   ],
   "source": [
    "# convert %\n",
    "origin1 = '%'\n",
    "df[['Percent Spending Hospital', 'Percent Spending State', 'Percent Spending Nation']] = \\\n",
    "    df[['Percent Spending Hospital', 'Percent Spending State','Percent Spending Nation']].replace(origin1,'',regex=True).astype('float')/100\n",
    "# convert $ \n",
    "origin2 = '\\$' # '[\\$,]'\n",
    "df[['Avg Spending Hospital', 'Avg Spending State','Avg Spending Nation']] = \\\n",
    "    df[['Avg Spending Hospital', 'Avg Spending State','Avg Spending Nation']].replace(origin2,'' ,regex=True).astype('float')\n",
    "df[['Percent Spending Hospital', 'Avg Spending Hospital']].tail()"
   ]
  },
  {
   "cell_type": "markdown",
   "metadata": {},
   "source": [
    "**43) Continuing with the dataframe above, extract only the TX state claims into a new dataframe.  Provide your code and print the new dataframe (with only TX claims) below as the answer.**"
   ]
  },
  {
   "cell_type": "code",
   "execution_count": null,
   "metadata": {
    "collapsed": true
   },
   "outputs": [],
   "source": []
  },
  {
   "cell_type": "markdown",
   "metadata": {},
   "source": [
    "**44) Using the dataframe from above (Q 42), find the average spending for each different TX hospitals groupedby each kind of  different claim types.  Provide your code and the resulting new print out as the answer. **"
   ]
  },
  {
   "cell_type": "code",
   "execution_count": null,
   "metadata": {
    "collapsed": true
   },
   "outputs": [],
   "source": []
  },
  {
   "cell_type": "markdown",
   "metadata": {
    "collapsed": true
   },
   "source": [
    "**45) Continuing from above (Q 43), what is the mean and max percentage spending of different TX hospitals for each different claim types.  Provide your code and print out the answer. **"
   ]
  },
  {
   "cell_type": "code",
   "execution_count": null,
   "metadata": {
    "collapsed": true
   },
   "outputs": [],
   "source": []
  },
  {
   "cell_type": "markdown",
   "metadata": {},
   "source": [
    "**46) Using the whole dataset from the Medicare_Hospital_Spending_by_Claim.csv table (i.e., Q 39-41), sort the dataframe descending order by average spending and print out what the rank of TX is in terms of average spending when compared to other state averages. **"
   ]
  },
  {
   "cell_type": "code",
   "execution_count": null,
   "metadata": {
    "collapsed": true
   },
   "outputs": [],
   "source": []
  },
  {
   "cell_type": "markdown",
   "metadata": {},
   "source": [
    "**47) Give a very general and short definition of what an Analytical Model is or is supposed to do?**"
   ]
  },
  {
   "cell_type": "code",
   "execution_count": null,
   "metadata": {
    "collapsed": true
   },
   "outputs": [],
   "source": []
  },
  {
   "cell_type": "markdown",
   "metadata": {},
   "source": [
    "**48) Briefly describe the differences between \"supervised\" and \"unsupervised\" learning.**"
   ]
  },
  {
   "cell_type": "code",
   "execution_count": null,
   "metadata": {
    "collapsed": true
   },
   "outputs": [],
   "source": []
  },
  {
   "cell_type": "markdown",
   "metadata": {},
   "source": [
    "**49) Briefly describe the differences between \"classification\" and \"clustering\".**"
   ]
  },
  {
   "cell_type": "code",
   "execution_count": null,
   "metadata": {
    "collapsed": true
   },
   "outputs": [],
   "source": []
  },
  {
   "cell_type": "markdown",
   "metadata": {},
   "source": [
    "**50) Name 3 different \"kinds\" of Analytical Models and provide a brief definition of each. **"
   ]
  },
  {
   "cell_type": "code",
   "execution_count": null,
   "metadata": {
    "collapsed": true
   },
   "outputs": [],
   "source": []
  },
  {
   "cell_type": "markdown",
   "metadata": {},
   "source": [
    "**EXTRA CREDIT 51) Why is Ordinary Least Squares Regression, called Ordinary Least Squares?**"
   ]
  },
  {
   "cell_type": "code",
   "execution_count": null,
   "metadata": {
    "collapsed": true
   },
   "outputs": [],
   "source": []
  },
  {
   "cell_type": "markdown",
   "metadata": {},
   "source": [
    "**EXTRA CREDIT 52) What makes \"big data\" different from \"small data\"? (Be brief - 1 to 2 paragaphs MAX)**"
   ]
  },
  {
   "cell_type": "code",
   "execution_count": null,
   "metadata": {
    "collapsed": true
   },
   "outputs": [],
   "source": []
  },
  {
   "cell_type": "markdown",
   "metadata": {},
   "source": [
    "**EXTRA CREDIT 53) What are WMD's according to Cathy O'Neil?**"
   ]
  },
  {
   "cell_type": "code",
   "execution_count": null,
   "metadata": {
    "collapsed": true
   },
   "outputs": [],
   "source": []
  },
  {
   "cell_type": "markdown",
   "metadata": {},
   "source": [
    "**EXTRA CREDIT 54) Why do vicious feedback loops matter in data analytics?**"
   ]
  },
  {
   "cell_type": "code",
   "execution_count": null,
   "metadata": {
    "collapsed": true
   },
   "outputs": [],
   "source": []
  },
  {
   "cell_type": "markdown",
   "metadata": {},
   "source": [
    "**EXTRA CREDIT 55) What are the 10 simple rules Zook et. al. Suggest to follow when doing big data analytics?**"
   ]
  },
  {
   "cell_type": "code",
   "execution_count": null,
   "metadata": {
    "collapsed": true
   },
   "outputs": [],
   "source": []
  }
 ],
 "metadata": {
  "kernelspec": {
   "display_name": "Python 2",
   "language": "python",
   "name": "python2"
  },
  "language_info": {
   "codemirror_mode": {
    "name": "ipython",
    "version": 2
   },
   "file_extension": ".py",
   "mimetype": "text/x-python",
   "name": "python",
   "nbconvert_exporter": "python",
   "pygments_lexer": "ipython2",
   "version": "2.7.14"
  }
 },
 "nbformat": 4,
 "nbformat_minor": 1
}
