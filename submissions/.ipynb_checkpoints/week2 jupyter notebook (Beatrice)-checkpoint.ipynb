{
 "cells": [
  {
   "cell_type": "code",
   "execution_count": 12,
   "metadata": {},
   "outputs": [
    {
     "name": "stdout",
     "output_type": "stream",
     "text": [
      "7\n",
      "12\n",
      "5.0\n",
      "15\n",
      "1 < 3\n",
      "2 < 3\n",
      "3 = 3\n",
      "4 > 3\n",
      "5 > 3\n"
     ]
    }
   ],
   "source": [
    "import math\n",
    "x = 3\n",
    "y = 4\n",
    "print x + y\n",
    "print x * y\n",
    "print math.sqrt(x*x+y*y)\n",
    "\n",
    "a = [1,2,3,4,5]\n",
    "b = sum(a)\n",
    "print b\n",
    "for n in a:\n",
    "    if n < 3:\n",
    "        print `n` + \" < 3\"\n",
    "    elif n > 3:\n",
    "        print `n` + \" > 3\"\n",
    "    else:\n",
    "        print `n` + \" = 3\""
   ]
  }
 ],
 "metadata": {
  "kernelspec": {
   "display_name": "Python 2",
   "language": "python",
   "name": "python2"
  },
  "language_info": {
   "codemirror_mode": {
    "name": "ipython",
    "version": 2
   },
   "file_extension": ".py",
   "mimetype": "text/x-python",
   "name": "python",
   "nbconvert_exporter": "python",
   "pygments_lexer": "ipython2",
   "version": "2.7.14"
  }
 },
 "nbformat": 4,
 "nbformat_minor": 2
}
