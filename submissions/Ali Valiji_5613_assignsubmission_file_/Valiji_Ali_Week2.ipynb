{
 "cells": [
  {
   "cell_type": "code",
   "execution_count": 16,
   "metadata": {
    "collapsed": true
   },
   "outputs": [],
   "source": [
    "x = 11\n",
    "y = 21"
   ]
  },
  {
   "cell_type": "code",
   "execution_count": 17,
   "metadata": {},
   "outputs": [
    {
     "name": "stdout",
     "output_type": "stream",
     "text": [
      "11\n",
      "32\n"
     ]
    }
   ],
   "source": [
    "print x\n",
    "print x+y"
   ]
  },
  {
   "cell_type": "markdown",
   "metadata": {},
   "source": [
    "Relational Operators "
   ]
  },
  {
   "cell_type": "code",
   "execution_count": 18,
   "metadata": {},
   "outputs": [
    {
     "name": "stdout",
     "output_type": "stream",
     "text": [
      "False\n",
      "11\n",
      "True\n"
     ]
    }
   ],
   "source": [
    "a=11\n",
    "print a < 11\n",
    "print a \n",
    "print a== 11"
   ]
  },
  {
   "cell_type": "code",
   "execution_count": 19,
   "metadata": {},
   "outputs": [
    {
     "name": "stdout",
     "output_type": "stream",
     "text": [
      "True\n",
      "False\n"
     ]
    }
   ],
   "source": [
    "print isinstance(a,int)\n",
    "print isinstance(a, float)"
   ]
  },
  {
   "cell_type": "code",
   "execution_count": 20,
   "metadata": {},
   "outputs": [
    {
     "name": "stdout",
     "output_type": "stream",
     "text": [
      "[0, 1, 2, 3, 4]\n",
      "[5, 6, 7, 8, 9, 10, 11, 12, 13, 14, 15, 16, 17, 18, 19]\n",
      "[5, 11, 17]\n"
     ]
    }
   ],
   "source": [
    "print range (5)\n",
    "print range (5,20)\n",
    "print range (5,20,6)"
   ]
  },
  {
   "cell_type": "code",
   "execution_count": 21,
   "metadata": {},
   "outputs": [
    {
     "name": "stdout",
     "output_type": "stream",
     "text": [
      "hey\n",
      "hello\n",
      "hello\n"
     ]
    },
    {
     "data": {
      "text/plain": [
       "'How is it going?'"
      ]
     },
     "execution_count": 21,
     "metadata": {},
     "output_type": "execute_result"
    }
   ],
   "source": [
    "print \"hey\"\n",
    "print 'hello'\n",
    "print \"hello\"\n",
    "\n",
    "\"How is it going?\""
   ]
  },
  {
   "cell_type": "code",
   "execution_count": 23,
   "metadata": {},
   "outputs": [
    {
     "name": "stdout",
     "output_type": "stream",
     "text": [
      "Go Jays Go\n",
      "GoJaysGo\n"
     ]
    }
   ],
   "source": [
    "string1 = \"Jays\"\n",
    "string2= \"Go\"\n",
    "print \"Go\",string1,string2\n",
    "print \"Go\"+string1+string2"
   ]
  },
  {
   "cell_type": "code",
   "execution_count": 25,
   "metadata": {},
   "outputs": [
    {
     "name": "stdout",
     "output_type": "stream",
     "text": [
      "I scored 3 goals today\n",
      "My batting average is 0.389000\n",
      "Go Jays Go\n"
     ]
    }
   ],
   "source": [
    "print \"I scored %d goals today\" %3\n",
    "print \"My batting average is %f\" %.389\n",
    "print \"Go %s %s\" %(string1, string2)"
   ]
  },
  {
   "cell_type": "markdown",
   "metadata": {},
   "source": [
    "Data Structures\n",
    "Lists"
   ]
  },
  {
   "cell_type": "code",
   "execution_count": 26,
   "metadata": {
    "collapsed": true
   },
   "outputs": [],
   "source": [
    "x=['jays','red sox','yankees']"
   ]
  },
  {
   "cell_type": "code",
   "execution_count": 31,
   "metadata": {},
   "outputs": [
    {
     "name": "stdout",
     "output_type": "stream",
     "text": [
      "jays\n",
      "yankees\n",
      "yankees\n",
      "red sox\n"
     ]
    }
   ],
   "source": [
    "print x[0]\n",
    "print x[2]\n",
    "print x[-1]\n",
    "print x[-2]"
   ]
  },
  {
   "cell_type": "code",
   "execution_count": 37,
   "metadata": {},
   "outputs": [
    {
     "name": "stdout",
     "output_type": "stream",
     "text": [
      "[['jays', 'red sox', 'yankees'], ['1st', '2nd', '3rd']]\n",
      "[['jays', 'red sox', 'yankees'], ['1st', '2nd', '3rd']]\n"
     ]
    }
   ],
   "source": [
    "y = ['1st',\"2nd\",\"3rd\"]\n",
    "w = [x,y]\n",
    "print [x,y]\n",
    "print w"
   ]
  },
  {
   "cell_type": "code",
   "execution_count": 45,
   "metadata": {},
   "outputs": [
    {
     "name": "stdout",
     "output_type": "stream",
     "text": [
      "['1st', '2nd', '3rd']\n",
      "1st\n",
      "3rd\n",
      "2nd\n"
     ]
    }
   ],
   "source": [
    "z1=w[1]\n",
    "print z1\n",
    "print z1[0]\n",
    "print z1[2]\n",
    "print w[1][1]"
   ]
  },
  {
   "cell_type": "code",
   "execution_count": 52,
   "metadata": {},
   "outputs": [
    {
     "name": "stdout",
     "output_type": "stream",
     "text": [
      "[99, 55, 22, 245]\n",
      "[245, 7748, 453637, 23, 25]\n",
      "[11, 45]\n"
     ]
    }
   ],
   "source": [
    "num = [11,21,45,99,55,22,245,7748,453637,23,25]\n",
    "print num[3:7]\n",
    "print num[6:]\n",
    "print num[:4:2]"
   ]
  },
  {
   "cell_type": "markdown",
   "metadata": {},
   "source": [
    "Built-In List Functions"
   ]
  },
  {
   "cell_type": "code",
   "execution_count": 55,
   "metadata": {},
   "outputs": [
    {
     "name": "stdout",
     "output_type": "stream",
     "text": [
      "11\n",
      "453637\n",
      "11\n"
     ]
    }
   ],
   "source": [
    "print len(num)\n",
    "print max (num)\n",
    "print min(num)"
   ]
  },
  {
   "cell_type": "code",
   "execution_count": 58,
   "metadata": {},
   "outputs": [
    {
     "name": "stdout",
     "output_type": "stream",
     "text": [
      "True\n",
      "False\n"
     ]
    }
   ],
   "source": [
    "print \"jays\" in x\n",
    "print 'rays' in x"
   ]
  },
  {
   "cell_type": "code",
   "execution_count": 60,
   "metadata": {},
   "outputs": [
    {
     "name": "stdout",
     "output_type": "stream",
     "text": [
      "red sox\n",
      "jays\n"
     ]
    }
   ],
   "source": [
    "print max(x, key=len)\n",
    "print min(x, key=len)"
   ]
  },
  {
   "cell_type": "code",
   "execution_count": 71,
   "metadata": {},
   "outputs": [
    {
     "name": "stdout",
     "output_type": "stream",
     "text": [
      "['jays', 'red sox', 'yankees', 'rays', 'rays', 'rays', ['1st', '2nd', '3rd', '4th', '4th', '4th'], 'rays'] ['1st', '2nd', '3rd', '4th', '4th', '4th']\n",
      "[None]\n"
     ]
    }
   ],
   "source": [
    "x.append(\"rays\")\n",
    "y.append('4th')\n",
    "print x,y\n",
    "\n",
    "ww= [x.append(y)]\n",
    "print ww"
   ]
  },
  {
   "cell_type": "code",
   "execution_count": 84,
   "metadata": {},
   "outputs": [
    {
     "name": "stdout",
     "output_type": "stream",
     "text": [
      "[5, 6, 8, 79, 6]\n",
      "1\n",
      "3\n",
      "8\n"
     ]
    }
   ],
   "source": [
    "lst = [5,6,8,79,6]\n",
    "print lst\n",
    "print lst.index(6)\n",
    "print lst.index(79)\n",
    "print lst.pop(2)"
   ]
  },
  {
   "cell_type": "code",
   "execution_count": 89,
   "metadata": {},
   "outputs": [
    {
     "name": "stdout",
     "output_type": "stream",
     "text": [
      "set([0, 2, 5, 7, 8, 9])\n"
     ]
    }
   ],
   "source": [
    "set1 = set([7,9,7,8,0,5,2,5])\n",
    "print set1\n"
   ]
  },
  {
   "cell_type": "code",
   "execution_count": 90,
   "metadata": {},
   "outputs": [
    {
     "name": "stdout",
     "output_type": "stream",
     "text": [
      "set([0, 2, 5, 7, 8, 9, 11])\n"
     ]
    }
   ],
   "source": [
    "set1.add(11)\n",
    "print set1"
   ]
  },
  {
   "cell_type": "code",
   "execution_count": 96,
   "metadata": {},
   "outputs": [
    {
     "name": "stdout",
     "output_type": "stream",
     "text": [
      "set([9, 10, 12, 66, 7])\n",
      "set([0, 2, 5, 7, 8, 9, 11])\n"
     ]
    }
   ],
   "source": [
    "set2 = set([9,7,12,10,66,7])\n",
    "print set2\n",
    "set1.union(set2)\n",
    "print set1"
   ]
  },
  {
   "cell_type": "code",
   "execution_count": 98,
   "metadata": {},
   "outputs": [
    {
     "data": {
      "text/plain": [
       "{0, 2, 5, 8, 11}"
      ]
     },
     "execution_count": 98,
     "metadata": {},
     "output_type": "execute_result"
    }
   ],
   "source": [
    "set1.difference(set2)"
   ]
  },
  {
   "cell_type": "markdown",
   "metadata": {},
   "source": [
    "CONTROL FLOW STATEMENTS"
   ]
  },
  {
   "cell_type": "code",
   "execution_count": 102,
   "metadata": {},
   "outputs": [
    {
     "name": "stdout",
     "output_type": "stream",
     "text": [
      "right!\n"
     ]
    }
   ],
   "source": [
    "n1 = 7\n",
    "if n1==7:\n",
    "    print \"right!\""
   ]
  },
  {
   "cell_type": "code",
   "execution_count": 104,
   "metadata": {},
   "outputs": [
    {
     "name": "stdout",
     "output_type": "stream",
     "text": [
      "n\n"
     ]
    }
   ],
   "source": [
    "if n1>8:\n",
    "    print \"y\"\n",
    "else:\n",
    "    print \"n\""
   ]
  },
  {
   "cell_type": "code",
   "execution_count": 107,
   "metadata": {},
   "outputs": [
    {
     "name": "stdout",
     "output_type": "stream",
     "text": [
      "0\n",
      "1\n",
      "2\n",
      "3\n",
      "4\n",
      "5\n"
     ]
    }
   ],
   "source": [
    "for j in range (6):\n",
    "    print j"
   ]
  },
  {
   "cell_type": "code",
   "execution_count": 109,
   "metadata": {},
   "outputs": [
    {
     "name": "stdout",
     "output_type": "stream",
     "text": [
      "[9, 8, 7]\n",
      "[6, 5, 4]\n",
      "[3, 2, 1]\n"
     ]
    }
   ],
   "source": [
    "lists_of_lists = [[9,8,7],[6,5,4],[3,2,1]]\n",
    "for lst3 in lists_of_lists:\n",
    "    print lst3"
   ]
  },
  {
   "cell_type": "code",
   "execution_count": 121,
   "metadata": {},
   "outputs": [
    {
     "name": "stdout",
     "output_type": "stream",
     "text": [
      "6\n",
      "7\n",
      "8\n",
      "9\n",
      "end\n"
     ]
    }
   ],
   "source": [
    "h=3\n",
    "while h<7:\n",
    "    print (h+3)\n",
    "    h=h+1\n",
    "print 'end'"
   ]
  },
  {
   "cell_type": "code",
   "execution_count": 133,
   "metadata": {},
   "outputs": [
    {
     "name": "stdout",
     "output_type": "stream",
     "text": [
      "[11, 22, 33, 44, 55, 66, 77, 88, 99, 110]\n"
     ]
    }
   ],
   "source": [
    "print [11*z for i in range (10) if i==5 for z in range(1,11)]"
   ]
  },
  {
   "cell_type": "markdown",
   "metadata": {},
   "source": [
    "PANDAS"
   ]
  },
  {
   "cell_type": "code",
   "execution_count": 134,
   "metadata": {
    "collapsed": true
   },
   "outputs": [],
   "source": [
    "import pandas as pd\n",
    "import datetime"
   ]
  },
  {
   "cell_type": "code",
   "execution_count": 138,
   "metadata": {},
   "outputs": [
    {
     "name": "stdout",
     "output_type": "stream",
     "text": [
      "['07/01', '07/02', '07/03', '07/04', '07/05', '07/06', '07/07']\n"
     ]
    }
   ],
   "source": [
    "dt=datetime.datetime(2014,7,1)\n",
    "end=datetime.datetime(2014,7,8)\n",
    "step=datetime.timedelta(days=1)\n",
    "dates =[]\n",
    "while dt<end:\n",
    "    dates.append(dt.strftime(\"%m/%d\"))\n",
    "    dt+=step\n",
    "    \n",
    "print dates"
   ]
  },
  {
   "cell_type": "code",
   "execution_count": 140,
   "metadata": {},
   "outputs": [
    {
     "name": "stdout",
     "output_type": "stream",
     "text": [
      "{'Toronto': [5, 6, 2, 8, 5, 2, 4], 'NYC': [11, 55, 3, 7, 35, 89, 6], 'Dates': ['07/01', '07/02', '07/03', '07/04', '07/05', '07/06', '07/07'], 'Chicago': [1, 2, 3, 4, 5, 6, 7]}\n"
     ]
    }
   ],
   "source": [
    "d={'Dates': dates, 'Toronto':[5,6,2,8,5,2,4], 'NYC':[11,55,3,7,35,89,6],'Chicago':[1,2,3,4,5,6,7]}\n",
    "print d"
   ]
  },
  {
   "cell_type": "code",
   "execution_count": 143,
   "metadata": {},
   "outputs": [
    {
     "name": "stdout",
     "output_type": "stream",
     "text": [
      "0    5\n",
      "1    6\n",
      "2    2\n",
      "3    8\n",
      "4    5\n",
      "5    2\n",
      "6    4\n",
      "Name: Toronto, dtype: int64\n"
     ]
    }
   ],
   "source": [
    "hits = pd.DataFrame(d)\n",
    "t_hits=hits['Toronto']\n",
    "print t_hits"
   ]
  },
  {
   "cell_type": "code",
   "execution_count": 144,
   "metadata": {
    "scrolled": true
   },
   "outputs": [
    {
     "name": "stdout",
     "output_type": "stream",
     "text": [
      "       Chicago  NYC  Toronto\n",
      "Dates                       \n",
      "07/01        1   11        5\n",
      "07/02        2   55        6\n",
      "07/03        3    3        2\n",
      "07/04        4    7        8\n",
      "07/05        5   35        5\n",
      "07/06        6   89        2\n",
      "07/07        7    6        4\n"
     ]
    }
   ],
   "source": [
    "hits=hits.set_index('Dates')\n",
    "print hits"
   ]
  },
  {
   "cell_type": "code",
   "execution_count": 146,
   "metadata": {},
   "outputs": [
    {
     "data": {
      "text/plain": [
       "3    491\n",
       "1    216\n",
       "2    184\n",
       "Name: Pclass, dtype: int64"
      ]
     },
     "execution_count": 146,
     "metadata": {},
     "output_type": "execute_result"
    }
   ],
   "source": [
    "titanic = pd.read_csv('../data/titanic.csv')\n",
    "titanic.Pclass.value_counts()"
   ]
  },
  {
   "cell_type": "code",
   "execution_count": 151,
   "metadata": {},
   "outputs": [
    {
     "name": "stdout",
     "output_type": "stream",
     "text": [
      "Athens                   2149\n",
      "Los Angeles              2074\n",
      "Beijing                  2042\n",
      "Sydney                   2015\n",
      "Atlanta                  1859\n",
      "Barcelona                1705\n",
      "London                   1618\n",
      "Seoul                    1546\n",
      "Paris                    1396\n",
      "Moscow                   1387\n",
      "Montreal                 1305\n",
      "Antwerp                  1298\n",
      "Munich                   1185\n",
      "Mexico                   1031\n",
      "Tokyo                    1010\n",
      "Helsinki                  889\n",
      "Melbourne / Stockholm     885\n",
      "Stockholm                 885\n",
      "Rome                      882\n",
      "Berlin                    875\n",
      "Amsterdam                 710\n",
      "St Louis                  470\n",
      "Name: City, dtype: int64\n"
     ]
    }
   ],
   "source": [
    "olympics=pd.read_csv('../data/olympicmedals.csv')\n",
    "print olympics.City.value_counts()"
   ]
  },
  {
   "cell_type": "code",
   "execution_count": 155,
   "metadata": {},
   "outputs": [
    {
     "name": "stdout",
     "output_type": "stream",
     "text": [
      "Gold      9850\n",
      "Bronze    9689\n",
      "Silver    9677\n",
      "Name: Medal, dtype: int64\n"
     ]
    }
   ],
   "source": [
    "print olympics.Medal.value_counts()"
   ]
  },
  {
   "cell_type": "code",
   "execution_count": 158,
   "metadata": {},
   "outputs": [],
   "source": [
    "import pandas as pd\n",
    "from pandas import Series, DataFrame"
   ]
  },
  {
   "cell_type": "code",
   "execution_count": 159,
   "metadata": {},
   "outputs": [
    {
     "name": "stdout",
     "output_type": "stream",
     "text": [
      "0    2\n",
      "1    1\n",
      "2    6\n",
      "3    8\n",
      "dtype: int64\n"
     ]
    }
   ],
   "source": [
    "obj=pd.Series([2,1,6,8])\n",
    "print obj"
   ]
  },
  {
   "cell_type": "code",
   "execution_count": 161,
   "metadata": {},
   "outputs": [
    {
     "name": "stdout",
     "output_type": "stream",
     "text": [
      "a    2\n",
      "b    1\n",
      "c    6\n",
      "d    8\n",
      "dtype: int64\n"
     ]
    },
    {
     "data": {
      "text/plain": [
       "Index([u'a', u'b', u'c', u'd'], dtype='object')"
      ]
     },
     "execution_count": 161,
     "metadata": {},
     "output_type": "execute_result"
    }
   ],
   "source": [
    "obj2 = pd.Series([2, 1, 6, 8], index=['a', 'b', 'c', 'd'])\n",
    "print obj2\n",
    "obj2.index"
   ]
  },
  {
   "cell_type": "code",
   "execution_count": 165,
   "metadata": {},
   "outputs": [
    {
     "name": "stdout",
     "output_type": "stream",
     "text": [
      "2\n",
      "6\n",
      "12\n"
     ]
    }
   ],
   "source": [
    "print obj2['a']\n",
    "print obj2['c']\n",
    "obj2['b']=12\n",
    "print obj2['b']"
   ]
  },
  {
   "cell_type": "code",
   "execution_count": 167,
   "metadata": {},
   "outputs": [
    {
     "name": "stdout",
     "output_type": "stream",
     "text": [
      "False\n",
      "True\n"
     ]
    }
   ],
   "source": [
    "print 'f' in obj2\n",
    "print 'a' in obj2"
   ]
  },
  {
   "cell_type": "code",
   "execution_count": 168,
   "metadata": {},
   "outputs": [
    {
     "name": "stdout",
     "output_type": "stream",
     "text": [
      "{'WPG': 6000, 'AB': 8000, 'Van': 21000, 'Ont': 30000}\n"
     ]
    }
   ],
   "source": [
    "p_data = {'Ont':30000, 'Van': 21000, \"AB\":8000, \"WPG\": 6000}\n",
    "print p_data"
   ]
  },
  {
   "cell_type": "code",
   "execution_count": 169,
   "metadata": {},
   "outputs": [
    {
     "name": "stdout",
     "output_type": "stream",
     "text": [
      "AB      8000\n",
      "Ont    30000\n",
      "Van    21000\n",
      "WPG     6000\n",
      "dtype: int64\n"
     ]
    }
   ],
   "source": [
    "obj3=pd.Series(p_data)\n",
    "print obj3"
   ]
  },
  {
   "cell_type": "code",
   "execution_count": 174,
   "metadata": {},
   "outputs": [
    {
     "name": "stdout",
     "output_type": "stream",
     "text": [
      "Ont    30000.0\n",
      "Van    21000.0\n",
      "AB      8000.0\n",
      "WPG     6000.0\n",
      "Ott        NaN\n",
      "dtype: float64\n"
     ]
    }
   ],
   "source": [
    "prov =['Ont','Van','AB','WPG','Ott']\n",
    "obj4=pd.Series(p_data, index=prov)\n",
    "print obj4"
   ]
  },
  {
   "cell_type": "code",
   "execution_count": 177,
   "metadata": {},
   "outputs": [
    {
     "name": "stdout",
     "output_type": "stream",
     "text": [
      "Ont    False\n",
      "Van    False\n",
      "AB     False\n",
      "WPG    False\n",
      "Ott     True\n",
      "dtype: bool\n",
      "Ont     True\n",
      "Van     True\n",
      "AB      True\n",
      "WPG     True\n",
      "Ott    False\n",
      "dtype: bool\n"
     ]
    }
   ],
   "source": [
    "print pd.isnull(obj4)\n",
    "print pd.notnull(obj4)"
   ]
  },
  {
   "cell_type": "code",
   "execution_count": 178,
   "metadata": {},
   "outputs": [
    {
     "data": {
      "text/plain": [
       "Ont    False\n",
       "Van    False\n",
       "AB     False\n",
       "WPG    False\n",
       "Ott     True\n",
       "dtype: bool"
      ]
     },
     "execution_count": 178,
     "metadata": {},
     "output_type": "execute_result"
    }
   ],
   "source": [
    "obj4.isnull()"
   ]
  },
  {
   "cell_type": "code",
   "execution_count": 181,
   "metadata": {},
   "outputs": [
    {
     "name": "stdout",
     "output_type": "stream",
     "text": [
      "Province\n",
      "Ont    30000.0\n",
      "Van    21000.0\n",
      "AB      8000.0\n",
      "WPG     6000.0\n",
      "Ott        NaN\n",
      "dtype: float64\n"
     ]
    }
   ],
   "source": [
    "obj4.index.name = 'Province'\n",
    "print obj4"
   ]
  },
  {
   "cell_type": "code",
   "execution_count": 182,
   "metadata": {},
   "outputs": [
    {
     "name": "stdout",
     "output_type": "stream",
     "text": [
      "Mike     2\n",
      "Joe      1\n",
      "julia    6\n",
      "manny    8\n",
      "dtype: int64\n"
     ]
    }
   ],
   "source": [
    "obj\n",
    "obj.index = (['Mike','Joe','julia','manny'])\n",
    "print obj"
   ]
  },
  {
   "cell_type": "code",
   "execution_count": 186,
   "metadata": {},
   "outputs": [
    {
     "name": "stdout",
     "output_type": "stream",
     "text": [
      "  Prov  pop  year\n",
      "0  Ont  1.6  2000\n",
      "1  Van  3.9  2001\n",
      "2   AB  3.6  2002\n",
      "3  WPG  2.8  2001\n",
      "4  NFL  1.9  2002\n",
      "5   SK  3.2  2003\n",
      "{'Prov': ['Ont', 'Van', 'AB', 'WPG', 'NFL', 'SK'], 'pop': [1.6, 3.9, 3.6, 2.8, 1.9, 3.2], 'year': [2000, 2001, 2002, 2001, 2002, 2003]}\n"
     ]
    }
   ],
   "source": [
    "data = {'Prov': ['Ont', 'Van', 'AB', 'WPG', 'NFL', 'SK'],\n",
    "        'year': [2000, 2001, 2002, 2001, 2002, 2003],\n",
    "        'pop': [1.6, 3.9, 3.6, 2.8, 1.9, 3.2]}\n",
    "frame = pd.DataFrame(data)\n",
    "print frame\n",
    "print data"
   ]
  },
  {
   "cell_type": "code",
   "execution_count": 187,
   "metadata": {},
   "outputs": [
    {
     "data": {
      "text/html": [
       "<div>\n",
       "<style>\n",
       "    .dataframe thead tr:only-child th {\n",
       "        text-align: right;\n",
       "    }\n",
       "\n",
       "    .dataframe thead th {\n",
       "        text-align: left;\n",
       "    }\n",
       "\n",
       "    .dataframe tbody tr th {\n",
       "        vertical-align: top;\n",
       "    }\n",
       "</style>\n",
       "<table border=\"1\" class=\"dataframe\">\n",
       "  <thead>\n",
       "    <tr style=\"text-align: right;\">\n",
       "      <th></th>\n",
       "      <th>Prov</th>\n",
       "      <th>pop</th>\n",
       "      <th>year</th>\n",
       "    </tr>\n",
       "  </thead>\n",
       "  <tbody>\n",
       "    <tr>\n",
       "      <th>0</th>\n",
       "      <td>Ont</td>\n",
       "      <td>1.6</td>\n",
       "      <td>2000</td>\n",
       "    </tr>\n",
       "    <tr>\n",
       "      <th>1</th>\n",
       "      <td>Van</td>\n",
       "      <td>3.9</td>\n",
       "      <td>2001</td>\n",
       "    </tr>\n",
       "    <tr>\n",
       "      <th>2</th>\n",
       "      <td>AB</td>\n",
       "      <td>3.6</td>\n",
       "      <td>2002</td>\n",
       "    </tr>\n",
       "    <tr>\n",
       "      <th>3</th>\n",
       "      <td>WPG</td>\n",
       "      <td>2.8</td>\n",
       "      <td>2001</td>\n",
       "    </tr>\n",
       "    <tr>\n",
       "      <th>4</th>\n",
       "      <td>NFL</td>\n",
       "      <td>1.9</td>\n",
       "      <td>2002</td>\n",
       "    </tr>\n",
       "  </tbody>\n",
       "</table>\n",
       "</div>"
      ],
      "text/plain": [
       "  Prov  pop  year\n",
       "0  Ont  1.6  2000\n",
       "1  Van  3.9  2001\n",
       "2   AB  3.6  2002\n",
       "3  WPG  2.8  2001\n",
       "4  NFL  1.9  2002"
      ]
     },
     "execution_count": 187,
     "metadata": {},
     "output_type": "execute_result"
    }
   ],
   "source": [
    "frame.head()"
   ]
  },
  {
   "cell_type": "code",
   "execution_count": 191,
   "metadata": {},
   "outputs": [
    {
     "data": {
      "text/html": [
       "<div>\n",
       "<style>\n",
       "    .dataframe thead tr:only-child th {\n",
       "        text-align: right;\n",
       "    }\n",
       "\n",
       "    .dataframe thead th {\n",
       "        text-align: left;\n",
       "    }\n",
       "\n",
       "    .dataframe tbody tr th {\n",
       "        vertical-align: top;\n",
       "    }\n",
       "</style>\n",
       "<table border=\"1\" class=\"dataframe\">\n",
       "  <thead>\n",
       "    <tr style=\"text-align: right;\">\n",
       "      <th></th>\n",
       "      <th>pop</th>\n",
       "      <th>year</th>\n",
       "      <th>Prov</th>\n",
       "    </tr>\n",
       "  </thead>\n",
       "  <tbody>\n",
       "    <tr>\n",
       "      <th>0</th>\n",
       "      <td>1.6</td>\n",
       "      <td>2000</td>\n",
       "      <td>Ont</td>\n",
       "    </tr>\n",
       "    <tr>\n",
       "      <th>1</th>\n",
       "      <td>3.9</td>\n",
       "      <td>2001</td>\n",
       "      <td>Van</td>\n",
       "    </tr>\n",
       "    <tr>\n",
       "      <th>2</th>\n",
       "      <td>3.6</td>\n",
       "      <td>2002</td>\n",
       "      <td>AB</td>\n",
       "    </tr>\n",
       "    <tr>\n",
       "      <th>3</th>\n",
       "      <td>2.8</td>\n",
       "      <td>2001</td>\n",
       "      <td>WPG</td>\n",
       "    </tr>\n",
       "    <tr>\n",
       "      <th>4</th>\n",
       "      <td>1.9</td>\n",
       "      <td>2002</td>\n",
       "      <td>NFL</td>\n",
       "    </tr>\n",
       "    <tr>\n",
       "      <th>5</th>\n",
       "      <td>3.2</td>\n",
       "      <td>2003</td>\n",
       "      <td>SK</td>\n",
       "    </tr>\n",
       "  </tbody>\n",
       "</table>\n",
       "</div>"
      ],
      "text/plain": [
       "   pop  year Prov\n",
       "0  1.6  2000  Ont\n",
       "1  3.9  2001  Van\n",
       "2  3.6  2002   AB\n",
       "3  2.8  2001  WPG\n",
       "4  1.9  2002  NFL\n",
       "5  3.2  2003   SK"
      ]
     },
     "execution_count": 191,
     "metadata": {},
     "output_type": "execute_result"
    }
   ],
   "source": [
    "pd.DataFrame(data, columns=['pop','year','Prov'])"
   ]
  },
  {
   "cell_type": "code",
   "execution_count": 192,
   "metadata": {},
   "outputs": [
    {
     "name": "stdout",
     "output_type": "stream",
     "text": [
      "c    3.2\n",
      "d    1.4\n",
      "b   -5.3\n",
      "a    9.6\n",
      "dtype: float64\n"
     ]
    }
   ],
   "source": [
    "obj = pd.Series([3.2, 1.4, -5.3, 9.6], index=['c', 'd', 'b', 'a'])\n",
    "print obj"
   ]
  },
  {
   "cell_type": "code",
   "execution_count": 193,
   "metadata": {},
   "outputs": [
    {
     "name": "stdout",
     "output_type": "stream",
     "text": [
      "a    9.6\n",
      "b   -5.3\n",
      "c    3.2\n",
      "d    1.4\n",
      "e    NaN\n",
      "dtype: float64\n"
     ]
    }
   ],
   "source": [
    "obj2 = obj.reindex(['a', 'b', 'c', 'd', 'e'])\n",
    "print obj2"
   ]
  },
  {
   "cell_type": "code",
   "execution_count": 201,
   "metadata": {},
   "outputs": [
    {
     "data": {
      "text/plain": [
       "0       Red\n",
       "1       Red\n",
       "2       Red\n",
       "3     Green\n",
       "4     Green\n",
       "5    Orange\n",
       "6    Orange\n",
       "7    Orange\n",
       "8    Orange\n",
       "dtype: object"
      ]
     },
     "execution_count": 201,
     "metadata": {},
     "output_type": "execute_result"
    }
   ],
   "source": [
    "obj3 = pd.Series(['Red', 'Green', 'Orange'], index=[0, 3, 5])\n",
    "obj3\n",
    "obj3.reindex(range(9), method='ffill')"
   ]
  }
 ],
 "metadata": {
  "kernelspec": {
   "display_name": "Python 2",
   "language": "python",
   "name": "python2"
  },
  "language_info": {
   "codemirror_mode": {
    "name": "ipython",
    "version": 2
   },
   "file_extension": ".py",
   "mimetype": "text/x-python",
   "name": "python",
   "nbconvert_exporter": "python",
   "pygments_lexer": "ipython2",
   "version": "2.7.13"
  }
 },
 "nbformat": 4,
 "nbformat_minor": 2
}
